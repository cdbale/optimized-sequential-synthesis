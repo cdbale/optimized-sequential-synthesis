{
 "cells": [
  {
   "cell_type": "markdown",
   "id": "96f48262",
   "metadata": {},
   "source": [
    "This notebook performs the synthesis using our proposed synthesization approach for the training data only (excludes the holdout data). The synthesis model is a CART."
   ]
  },
  {
   "cell_type": "code",
   "execution_count": 1,
   "id": "2d3f5c21",
   "metadata": {},
   "outputs": [],
   "source": [
    "import pandas as pd\n",
    "import numpy as np\n",
    "from numpy.random import default_rng\n",
    "from sklearn.mixture import GaussianMixture\n",
    "from scipy.spatial import cKDTree\n",
    "import matplotlib.pyplot as plt\n",
    "import seaborn as sns\n",
    "import itertools\n",
    "\n",
    "from sklearn import preprocessing\n",
    "\n",
    "from scipy.stats import ks_2samp\n",
    "\n",
    "from sklearn.tree import DecisionTreeClassifier\n",
    "\n",
    "import itertools\n",
    "\n",
    "from bayes_opt import BayesianOptimization\n",
    "from bayes_opt import UtilityFunction\n",
    "\n",
    "from sklearn.linear_model import LogisticRegression\n",
    "from sklearn.preprocessing import PolynomialFeatures\n",
    "\n",
    "from bayesian_bootstrap import bayesian_bootstrap\n",
    "\n",
    "rng = np.random.RandomState(42)"
   ]
  },
  {
   "cell_type": "code",
   "execution_count": 2,
   "id": "a07ad9ba",
   "metadata": {},
   "outputs": [],
   "source": [
    "def pmse_ratio(original_data, synthetic_data):\n",
    "    \n",
    "    N_synth = synthetic_data.shape[0]\n",
    "    N_orig = original_data.shape[0]\n",
    "    \n",
    "    # combine original and synthetic datasets\n",
    "    full_X = pd.concat([original_data, synthetic_data], axis=0).reset_index(drop=True)\n",
    "    \n",
    "    # generate interactions and powers of variables\n",
    "    poly = PolynomialFeatures(3, interaction_only=False, include_bias=False)\n",
    "    \n",
    "    full_X = poly.fit_transform(full_X)\n",
    "\n",
    "    # scale the combined dataset\n",
    "    full_X = preprocessing.StandardScaler().fit_transform(full_X)\n",
    "    \n",
    "    c = N_synth/(N_synth+N_orig)\n",
    "\n",
    "    y = np.repeat([0, 1], repeats=[N_orig, N_synth])\n",
    "    \n",
    "    pMSE_model = LogisticRegression(penalty=None, max_iter=1000).fit(full_X, y)\n",
    "    \n",
    "    probs = pMSE_model.predict_proba(full_X)\n",
    "    \n",
    "    pMSE = 1/(N_synth+N_orig) * np.sum((probs[:,1] - c)**2)\n",
    "    \n",
    "    e_pMSE = 2*(full_X.shape[1])*(1-c)**2 * c/(N_synth+N_orig)\n",
    "        \n",
    "    return pMSE/e_pMSE"
   ]
  },
  {
   "cell_type": "markdown",
   "id": "76a8ccbc",
   "metadata": {},
   "source": [
    "Import the data."
   ]
  },
  {
   "cell_type": "code",
   "execution_count": 3,
   "id": "730c2f2e",
   "metadata": {},
   "outputs": [],
   "source": [
    "# import standardized lat/long location data\n",
    "train_data = pd.read_csv(\"Data/cleaned_ipums_data.csv\")"
   ]
  },
  {
   "cell_type": "markdown",
   "id": "6f62abff",
   "metadata": {},
   "source": [
    "***"
   ]
  },
  {
   "cell_type": "code",
   "execution_count": 4,
   "id": "5fb46ada",
   "metadata": {},
   "outputs": [
    {
     "data": {
      "text/html": [
       "<div>\n",
       "<style scoped>\n",
       "    .dataframe tbody tr th:only-of-type {\n",
       "        vertical-align: middle;\n",
       "    }\n",
       "\n",
       "    .dataframe tbody tr th {\n",
       "        vertical-align: top;\n",
       "    }\n",
       "\n",
       "    .dataframe thead th {\n",
       "        text-align: right;\n",
       "    }\n",
       "</style>\n",
       "<table border=\"1\" class=\"dataframe\">\n",
       "  <thead>\n",
       "    <tr style=\"text-align: right;\">\n",
       "      <th></th>\n",
       "      <th>INCWAGE</th>\n",
       "      <th>years_of_educ</th>\n",
       "      <th>potential_experience</th>\n",
       "      <th>non_white</th>\n",
       "      <th>SEX</th>\n",
       "    </tr>\n",
       "  </thead>\n",
       "  <tbody>\n",
       "    <tr>\n",
       "      <th>0</th>\n",
       "      <td>-0.579435</td>\n",
       "      <td>1.109071</td>\n",
       "      <td>-0.039398</td>\n",
       "      <td>0</td>\n",
       "      <td>1</td>\n",
       "    </tr>\n",
       "    <tr>\n",
       "      <th>1</th>\n",
       "      <td>0.564281</td>\n",
       "      <td>0.724424</td>\n",
       "      <td>0.369388</td>\n",
       "      <td>0</td>\n",
       "      <td>0</td>\n",
       "    </tr>\n",
       "    <tr>\n",
       "      <th>2</th>\n",
       "      <td>-0.748874</td>\n",
       "      <td>-0.044869</td>\n",
       "      <td>-1.347515</td>\n",
       "      <td>0</td>\n",
       "      <td>0</td>\n",
       "    </tr>\n",
       "    <tr>\n",
       "      <th>3</th>\n",
       "      <td>-0.935257</td>\n",
       "      <td>-0.814163</td>\n",
       "      <td>-1.511030</td>\n",
       "      <td>0</td>\n",
       "      <td>0</td>\n",
       "    </tr>\n",
       "    <tr>\n",
       "      <th>4</th>\n",
       "      <td>-0.164308</td>\n",
       "      <td>-0.429516</td>\n",
       "      <td>1.186962</td>\n",
       "      <td>1</td>\n",
       "      <td>0</td>\n",
       "    </tr>\n",
       "    <tr>\n",
       "      <th>...</th>\n",
       "      <td>...</td>\n",
       "      <td>...</td>\n",
       "      <td>...</td>\n",
       "      <td>...</td>\n",
       "      <td>...</td>\n",
       "    </tr>\n",
       "    <tr>\n",
       "      <th>197751</th>\n",
       "      <td>-0.092296</td>\n",
       "      <td>1.109071</td>\n",
       "      <td>-0.448185</td>\n",
       "      <td>0</td>\n",
       "      <td>0</td>\n",
       "    </tr>\n",
       "    <tr>\n",
       "      <th>197752</th>\n",
       "      <td>-0.854774</td>\n",
       "      <td>1.109071</td>\n",
       "      <td>-0.611699</td>\n",
       "      <td>0</td>\n",
       "      <td>1</td>\n",
       "    </tr>\n",
       "    <tr>\n",
       "      <th>197753</th>\n",
       "      <td>0.521921</td>\n",
       "      <td>1.777461</td>\n",
       "      <td>0.063806</td>\n",
       "      <td>0</td>\n",
       "      <td>0</td>\n",
       "    </tr>\n",
       "    <tr>\n",
       "      <th>197754</th>\n",
       "      <td>-0.981853</td>\n",
       "      <td>0.724424</td>\n",
       "      <td>-0.448185</td>\n",
       "      <td>0</td>\n",
       "      <td>1</td>\n",
       "    </tr>\n",
       "    <tr>\n",
       "      <th>197755</th>\n",
       "      <td>0.865036</td>\n",
       "      <td>1.109071</td>\n",
       "      <td>1.105204</td>\n",
       "      <td>0</td>\n",
       "      <td>0</td>\n",
       "    </tr>\n",
       "  </tbody>\n",
       "</table>\n",
       "<p>197756 rows × 5 columns</p>\n",
       "</div>"
      ],
      "text/plain": [
       "         INCWAGE  years_of_educ  potential_experience  non_white  SEX\n",
       "0      -0.579435       1.109071             -0.039398          0    1\n",
       "1       0.564281       0.724424              0.369388          0    0\n",
       "2      -0.748874      -0.044869             -1.347515          0    0\n",
       "3      -0.935257      -0.814163             -1.511030          0    0\n",
       "4      -0.164308      -0.429516              1.186962          1    0\n",
       "...          ...            ...                   ...        ...  ...\n",
       "197751 -0.092296       1.109071             -0.448185          0    0\n",
       "197752 -0.854774       1.109071             -0.611699          0    1\n",
       "197753  0.521921       1.777461              0.063806          0    0\n",
       "197754 -0.981853       0.724424             -0.448185          0    1\n",
       "197755  0.865036       1.109071              1.105204          0    0\n",
       "\n",
       "[197756 rows x 5 columns]"
      ]
     },
     "execution_count": 4,
     "metadata": {},
     "output_type": "execute_result"
    }
   ],
   "source": [
    "train_data"
   ]
  },
  {
   "cell_type": "markdown",
   "id": "76de685f",
   "metadata": {},
   "source": [
    "***"
   ]
  },
  {
   "cell_type": "markdown",
   "id": "5b8a741f",
   "metadata": {},
   "source": [
    "# Full Sequential Synthesis Driven by Bayesian Optimization"
   ]
  },
  {
   "cell_type": "markdown",
   "id": "8169fec7",
   "metadata": {},
   "source": [
    "Function to be used in Bayesian bootstrap."
   ]
  },
  {
   "cell_type": "code",
   "execution_count": 5,
   "id": "e80a8660",
   "metadata": {},
   "outputs": [],
   "source": [
    "def stat(x):\n",
    "    return x"
   ]
  },
  {
   "cell_type": "markdown",
   "id": "3a1688b8",
   "metadata": {},
   "source": [
    "Write function to train all models and generate the synthetic dataset, then evaluate the pMSE ratio."
   ]
  },
  {
   "cell_type": "code",
   "execution_count": 6,
   "id": "ab5f897a",
   "metadata": {},
   "outputs": [],
   "source": [
    "def train_models(#overall parameters\n",
    "                 train_data,\n",
    "                 number_synthetic_datasets,\n",
    "                 # hyperparameters for GMM, end with underscore means Bayesian optimization will choose\n",
    "                 number_gmm_initializations,\n",
    "                 num_components_,\n",
    "                 # hyperparameters for CART, end with underscore means Bayesian optimization will choose\n",
    "                 mb_non_white_,\n",
    "                 mb_sex_):\n",
    "    \n",
    "    num_samples = train_data.shape[0]\n",
    "    \n",
    "    ########## Code for GMM ############\n",
    "    \n",
    "    # fit GMM model\n",
    "    GMM = GaussianMixture(num_components_, n_init=number_gmm_initializations, init_params=\"k-means++\", random_state=rng).fit(train_data.loc[:,['INCWAGE', 'years_of_educ', 'potential_experience']])\n",
    "    \n",
    "    # list for synthetic datasets\n",
    "    sXs = []\n",
    "    \n",
    "    # generate and store number_synthetic_datasets synthetic datasets\n",
    "    for i in range(number_synthetic_datasets):\n",
    "        sX = GMM.sample(num_samples)[0]\n",
    "        sX = pd.DataFrame(sX)\n",
    "        sX.columns = ['INCWAGE', 'years_of_educ', 'potential_experience']\n",
    "        sXs.append(sX)\n",
    "        \n",
    "    ####################################################################################################\n",
    "        \n",
    "    ########### Code for non_white CART ##########\n",
    "    cart_non_white = DecisionTreeClassifier(min_samples_leaf=mb_non_white_, random_state=rng)\n",
    "    \n",
    "    cart_non_white.fit(X=train_data.loc[:,['INCWAGE', 'years_of_educ', 'potential_experience']], y=train_data.loc[:,\"non_white\"])\n",
    "    \n",
    "    node_indicators = cart_non_white.decision_path(train_data.loc[:,['INCWAGE', 'years_of_educ', 'potential_experience']]).toarray()\n",
    "    \n",
    "    node_outcomes = [train_data['non_white'][node_indicators[:,x]==1] for x in np.arange(node_indicators.shape[1])]\n",
    "    \n",
    "    # sample values according to a Bayesian bootstrap\n",
    "    \n",
    "    for i in range(number_synthetic_datasets):\n",
    "        \n",
    "        bst_vals = [bayesian_bootstrap(X=np.array(x), \n",
    "                                       statistic=stat,\n",
    "                                       n_replications=1,\n",
    "                                       resample_size=len(x))[0] for x in node_outcomes]\n",
    "        \n",
    "        synth_leaves = cart_non_white.apply(sXs[i].loc[:,['INCWAGE', 'years_of_educ', 'potential_experience']])\n",
    "        \n",
    "        new_non_white = np.zeros(len(synth_leaves), dtype=int)\n",
    "        \n",
    "        for j, x in enumerate(np.arange(node_indicators.shape[1])):\n",
    "            \n",
    "            new_non_white[synth_leaves==x] = rng.choice(bst_vals[x], size=np.sum(synth_leaves==x))\n",
    "        \n",
    "        new_non_white = pd.Series(new_non_white)\n",
    "        \n",
    "        new_non_white.name = \"non_white\"\n",
    "        \n",
    "        sXs[i] = pd.concat([sXs[i], new_non_white], axis=1)\n",
    "    \n",
    "    ####################################################################################################\n",
    "        \n",
    "    ########### Code for sex CART ##########\n",
    "    \n",
    "    cart_sex = DecisionTreeClassifier(min_samples_leaf=mb_sex_, random_state=rng)\n",
    "    \n",
    "    cart_sex.fit(X=train_data.loc[:,['INCWAGE', 'years_of_educ', 'potential_experience', 'non_white']], y=train_data.loc[:,\"SEX\"])\n",
    "    \n",
    "    node_indicators = cart_sex.decision_path(train_data.loc[:,['INCWAGE', 'years_of_educ', 'potential_experience', 'non_white']]).toarray()\n",
    "    \n",
    "    node_outcomes = [train_data.SEX[node_indicators[:,x]==1] for x in np.arange(node_indicators.shape[1])]\n",
    "    \n",
    "    # sample values according to a Bayesian bootstrap\n",
    "    \n",
    "    for i in range(number_synthetic_datasets):\n",
    "        \n",
    "        bst_vals = [bayesian_bootstrap(X=np.array(x), \n",
    "                                       statistic=stat,\n",
    "                                       n_replications=1,\n",
    "                                       resample_size=len(x))[0] for x in node_outcomes]\n",
    "        \n",
    "        synth_leaves = cart_sex.apply(sXs[i].loc[:,['INCWAGE', 'years_of_educ', 'potential_experience', 'non_white']])\n",
    "        \n",
    "        new_sex = np.zeros(len(synth_leaves), dtype=int)\n",
    "        \n",
    "        for j, x in enumerate(np.arange(node_indicators.shape[1])):\n",
    "            \n",
    "            new_sex[synth_leaves==x] = rng.choice(bst_vals[x], size=np.sum(synth_leaves==x))\n",
    "        \n",
    "        new_sex = pd.Series(new_sex)\n",
    "        \n",
    "        new_sex.name = \"SEX\"\n",
    "        \n",
    "        sXs[i] = pd.concat([sXs[i], new_sex], axis=1)\n",
    "        \n",
    "    ###### Calculate ks distances ######\n",
    "    pmse_ratios = [pmse_ratio(train_data, Y) for Y in sXs]\n",
    "    \n",
    "    return pmse_ratios, sXs"
   ]
  },
  {
   "cell_type": "code",
   "execution_count": 7,
   "id": "796d2f96",
   "metadata": {},
   "outputs": [],
   "source": [
    "def optimize_models(train_data,\n",
    "                    number_synthetic_datasets,\n",
    "                    number_gmm_initializations,\n",
    "                    random_state):\n",
    "\n",
    "    def evaluate_models(num_components_, mb_non_white_, mb_sex_):\n",
    "\n",
    "        pmse_ratios, _ = train_models(train_data=train_data,\n",
    "                                      number_synthetic_datasets=number_synthetic_datasets,\n",
    "                                      number_gmm_initializations=number_gmm_initializations,\n",
    "                                      num_components_=int(num_components_),\n",
    "                                      mb_non_white_=int(mb_non_white_),\n",
    "                                      mb_sex_=int(mb_sex_))\n",
    "\n",
    "        return -1 * ((1 - np.mean(pmse_ratios))**2)\n",
    "\n",
    "    optimizer = BayesianOptimization(\n",
    "        f=evaluate_models,\n",
    "        pbounds={\n",
    "            \"num_components_\": (10, 200.99),\n",
    "            \"mb_non_white_\": (10, 300.99),\n",
    "            \"mb_sex_\": (10, 300.99)\n",
    "        },\n",
    "        random_state=random_state)\n",
    "\n",
    "    utility = UtilityFunction(kind=\"ei\", xi=1e-02)\n",
    "    optimizer.maximize(init_points=5, n_iter=25, acquisition_function=utility)\n",
    "    print(\"Final Result: \", optimizer.max)\n",
    "    return optimizer.max, optimizer"
   ]
  },
  {
   "cell_type": "markdown",
   "id": "5594760a",
   "metadata": {},
   "source": [
    "The default value of $\\alpha = 1e-06$."
   ]
  },
  {
   "cell_type": "code",
   "execution_count": 8,
   "id": "15d5ded7",
   "metadata": {},
   "outputs": [],
   "source": [
    "nsd = 20\n",
    "ngi = 5\n",
    "# random_states = [np.random.RandomState(1234), , np.random.RandomState(10620), np.random.RandomState(91695), np.random.RandomState(31296)]\n",
    "random_states = [np.random.RandomState(1234)]"
   ]
  },
  {
   "cell_type": "code",
   "execution_count": 9,
   "id": "fe01e70f",
   "metadata": {},
   "outputs": [
    {
     "name": "stdout",
     "output_type": "stream",
     "text": [
      "|   iter    |  target   | mb_non... |  mb_sex_  | num_co... |\n",
      "-------------------------------------------------------------\n",
      "| \u001b[0m1        \u001b[0m | \u001b[0m-1.029   \u001b[0m | \u001b[0m65.73    \u001b[0m | \u001b[0m191.0    \u001b[0m | \u001b[0m93.6     \u001b[0m |\n",
      "| \u001b[0m2        \u001b[0m | \u001b[0m-8.979   \u001b[0m | \u001b[0m238.5    \u001b[0m | \u001b[0m237.0    \u001b[0m | \u001b[0m62.06    \u001b[0m |\n",
      "| \u001b[95m3        \u001b[0m | \u001b[95m-0.8527  \u001b[0m | \u001b[95m90.45    \u001b[0m | \u001b[95m243.3    \u001b[0m | \u001b[95m193.0    \u001b[0m |\n",
      "| \u001b[95m4        \u001b[0m | \u001b[95m-0.2536  \u001b[0m | \u001b[95m264.9    \u001b[0m | \u001b[95m114.1    \u001b[0m | \u001b[95m105.7    \u001b[0m |\n",
      "| \u001b[0m5        \u001b[0m | \u001b[0m-4.655   \u001b[0m | \u001b[0m208.9    \u001b[0m | \u001b[0m217.4    \u001b[0m | \u001b[0m80.71    \u001b[0m |\n",
      "| \u001b[0m6        \u001b[0m | \u001b[0m-1.195   \u001b[0m | \u001b[0m91.55    \u001b[0m | \u001b[0m240.6    \u001b[0m | \u001b[0m188.4    \u001b[0m |\n",
      "| \u001b[0m7        \u001b[0m | \u001b[0m-2.516   \u001b[0m | \u001b[0m72.65    \u001b[0m | \u001b[0m278.5    \u001b[0m | \u001b[0m201.0    \u001b[0m |\n",
      "| \u001b[0m8        \u001b[0m | \u001b[0m-0.5576  \u001b[0m | \u001b[0m262.9    \u001b[0m | \u001b[0m85.65    \u001b[0m | \u001b[0m118.4    \u001b[0m |\n",
      "| \u001b[0m9        \u001b[0m | \u001b[0m-0.7004  \u001b[0m | \u001b[0m298.1    \u001b[0m | \u001b[0m99.74    \u001b[0m | \u001b[0m101.7    \u001b[0m |\n",
      "| \u001b[0m10       \u001b[0m | \u001b[0m-0.5608  \u001b[0m | \u001b[0m258.3    \u001b[0m | \u001b[0m90.4     \u001b[0m | \u001b[0m74.51    \u001b[0m |\n",
      "| \u001b[0m11       \u001b[0m | \u001b[0m-0.6304  \u001b[0m | \u001b[0m215.0    \u001b[0m | \u001b[0m106.7    \u001b[0m | \u001b[0m105.1    \u001b[0m |\n",
      "| \u001b[95m12       \u001b[0m | \u001b[95m-0.2245  \u001b[0m | \u001b[95m242.7    \u001b[0m | \u001b[95m126.3    \u001b[0m | \u001b[95m156.1    \u001b[0m |\n",
      "| \u001b[95m13       \u001b[0m | \u001b[95m-0.1246  \u001b[0m | \u001b[95m291.4    \u001b[0m | \u001b[95m124.8    \u001b[0m | \u001b[95m163.6    \u001b[0m |\n",
      "| \u001b[95m14       \u001b[0m | \u001b[95m-0.07803 \u001b[0m | \u001b[95m266.6    \u001b[0m | \u001b[95m98.82    \u001b[0m | \u001b[95m201.0    \u001b[0m |\n",
      "| \u001b[0m15       \u001b[0m | \u001b[0m-0.402   \u001b[0m | \u001b[0m267.5    \u001b[0m | \u001b[0m148.4    \u001b[0m | \u001b[0m201.0    \u001b[0m |\n",
      "| \u001b[0m16       \u001b[0m | \u001b[0m-0.2791  \u001b[0m | \u001b[0m203.6    \u001b[0m | \u001b[0m94.19    \u001b[0m | \u001b[0m201.0    \u001b[0m |\n",
      "| \u001b[0m17       \u001b[0m | \u001b[0m-0.4357  \u001b[0m | \u001b[0m264.3    \u001b[0m | \u001b[0m114.9    \u001b[0m | \u001b[0m106.6    \u001b[0m |\n",
      "| \u001b[0m18       \u001b[0m | \u001b[0m-0.9459  \u001b[0m | \u001b[0m275.8    \u001b[0m | \u001b[0m109.6    \u001b[0m | \u001b[0m88.51    \u001b[0m |\n",
      "| \u001b[0m19       \u001b[0m | \u001b[0m-0.485   \u001b[0m | \u001b[0m263.5    \u001b[0m | \u001b[0m100.0    \u001b[0m | \u001b[0m101.0    \u001b[0m |\n",
      "| \u001b[95m20       \u001b[0m | \u001b[95m-0.07286 \u001b[0m | \u001b[95m261.7    \u001b[0m | \u001b[95m118.3    \u001b[0m | \u001b[95m179.4    \u001b[0m |\n",
      "| \u001b[0m21       \u001b[0m | \u001b[0m-1.491   \u001b[0m | \u001b[0m232.3    \u001b[0m | \u001b[0m107.0    \u001b[0m | \u001b[0m184.5    \u001b[0m |\n",
      "| \u001b[0m22       \u001b[0m | \u001b[0m-0.4876  \u001b[0m | \u001b[0m286.2    \u001b[0m | \u001b[0m116.3    \u001b[0m | \u001b[0m192.2    \u001b[0m |\n",
      "| \u001b[0m23       \u001b[0m | \u001b[0m-0.2313  \u001b[0m | \u001b[0m265.9    \u001b[0m | \u001b[0m142.1    \u001b[0m | \u001b[0m167.7    \u001b[0m |\n",
      "| \u001b[0m24       \u001b[0m | \u001b[0m-0.1322  \u001b[0m | \u001b[0m278.1    \u001b[0m | \u001b[0m95.69    \u001b[0m | \u001b[0m160.8    \u001b[0m |\n",
      "| \u001b[0m25       \u001b[0m | \u001b[0m-0.5191  \u001b[0m | \u001b[0m294.1    \u001b[0m | \u001b[0m102.2    \u001b[0m | \u001b[0m134.2    \u001b[0m |\n",
      "| \u001b[0m26       \u001b[0m | \u001b[0m-0.4863  \u001b[0m | \u001b[0m279.0    \u001b[0m | \u001b[0m72.55    \u001b[0m | \u001b[0m190.5    \u001b[0m |\n",
      "| \u001b[0m27       \u001b[0m | \u001b[0m-1.394   \u001b[0m | \u001b[0m175.6    \u001b[0m | \u001b[0m80.19    \u001b[0m | \u001b[0m201.0    \u001b[0m |\n",
      "| \u001b[0m28       \u001b[0m | \u001b[0m-15.45   \u001b[0m | \u001b[0m224.8    \u001b[0m | \u001b[0m85.68    \u001b[0m | \u001b[0m63.16    \u001b[0m |\n",
      "| \u001b[0m29       \u001b[0m | \u001b[0m-16.64   \u001b[0m | \u001b[0m277.5    \u001b[0m | \u001b[0m76.9     \u001b[0m | \u001b[0m71.11    \u001b[0m |\n",
      "| \u001b[0m30       \u001b[0m | \u001b[0m-0.919   \u001b[0m | \u001b[0m255.9    \u001b[0m | \u001b[0m102.6    \u001b[0m | \u001b[0m80.91    \u001b[0m |\n",
      "=============================================================\n",
      "Final Result:  {'target': -0.07286233853928617, 'params': {'mb_non_white_': 261.70542263661434, 'mb_sex_': 118.29018348782265, 'num_components_': 179.3951023396654}}\n"
     ]
    }
   ],
   "source": [
    "optimization_results = [optimize_models(train_data=train_data, number_synthetic_datasets=nsd, number_gmm_initializations=ngi, random_state=r) for r in random_states]"
   ]
  },
  {
   "cell_type": "markdown",
   "id": "dab452a9",
   "metadata": {},
   "source": [
    "***"
   ]
  },
  {
   "cell_type": "code",
   "execution_count": 10,
   "id": "2c71552b",
   "metadata": {},
   "outputs": [],
   "source": [
    "run_targets = [np.minimum.accumulate(-i[1].space.target) for i in optimization_results]"
   ]
  },
  {
   "cell_type": "code",
   "execution_count": 12,
   "id": "306268a3",
   "metadata": {},
   "outputs": [
    {
     "data": {
      "text/plain": [
       "[array([1.02916286, 1.02916286, 0.85267948, 0.25362614, 0.25362614,\n",
       "        0.25362614, 0.25362614, 0.25362614, 0.25362614, 0.25362614,\n",
       "        0.25362614, 0.22451095, 0.12457188, 0.07802692, 0.07802692,\n",
       "        0.07802692, 0.07802692, 0.07802692, 0.07802692, 0.07286234,\n",
       "        0.07286234, 0.07286234, 0.07286234, 0.07286234, 0.07286234,\n",
       "        0.07286234, 0.07286234, 0.07286234, 0.07286234, 0.07286234])]"
      ]
     },
     "execution_count": 12,
     "metadata": {},
     "output_type": "execute_result"
    }
   ],
   "source": [
    "run_targets"
   ]
  },
  {
   "cell_type": "code",
   "execution_count": 15,
   "id": "bb2e246f",
   "metadata": {},
   "outputs": [
    {
     "data": {
      "image/png": "[encoded data removed]",
      "text/plain": [
       "<Figure size 640x480 with 1 Axes>"
      ]
     },
     "metadata": {},
     "output_type": "display_data"
    }
   ],
   "source": [
    "plt.plot(run_targets[0])\n",
    "plt.scatter(np.arange(len(run_targets[0])), run_targets, s=6)\n",
    "plt.title(\"Running Minimum Objective Value for CART Synthesis\")\n",
    "plt.ylim(-0.05, 1.1)\n",
    "plt.show()"
   ]
  },
  {
   "cell_type": "markdown",
   "id": "325348ce",
   "metadata": {},
   "source": [
    "Choose the params that gave the best objective value across all random seeds."
   ]
  },
  {
   "cell_type": "code",
   "execution_count": 16,
   "id": "69f179aa",
   "metadata": {},
   "outputs": [],
   "source": [
    "best_params = optimization_results[np.argmax([x[0]['target'] for x in optimization_results])][0]"
   ]
  },
  {
   "cell_type": "code",
   "execution_count": 18,
   "id": "112b4969",
   "metadata": {},
   "outputs": [
    {
     "data": {
      "text/plain": [
       "{'target': -0.07286233853928617,\n",
       " 'params': {'mb_non_white_': 261.70542263661434,\n",
       "  'mb_sex_': 118.29018348782265,\n",
       "  'num_components_': 179.3951023396654}}"
      ]
     },
     "execution_count": 18,
     "metadata": {},
     "output_type": "execute_result"
    }
   ],
   "source": [
    "best_params"
   ]
  },
  {
   "cell_type": "markdown",
   "id": "8c940983",
   "metadata": {},
   "source": [
    "***"
   ]
  },
  {
   "cell_type": "markdown",
   "id": "c8e1ea09",
   "metadata": {},
   "source": [
    "Generate 20 synthetic datasets."
   ]
  },
  {
   "cell_type": "code",
   "execution_count": 19,
   "id": "9ed0391f",
   "metadata": {},
   "outputs": [],
   "source": [
    "pmse_ratios, full_sXs = train_models(train_data=train_data,\n",
    "                                     number_synthetic_datasets=20,\n",
    "                                     # hyperparameters for GMM\n",
    "                                     number_gmm_initializations=ngi,\n",
    "                                     num_components_=int(best_params['params']['num_components_']),\n",
    "                                     # hyperparameters for CART, end with underscore means Bayesian optimization will choose\n",
    "                                     mb_sex_=int(best_params['params']['mb_sex_']),\n",
    "                                     mb_non_white_=int(best_params['params']['mb_non_white_']))"
   ]
  },
  {
   "cell_type": "code",
   "execution_count": 20,
   "id": "295e7588",
   "metadata": {},
   "outputs": [
    {
     "data": {
      "text/plain": [
       "1.6621647950378957"
      ]
     },
     "execution_count": 20,
     "metadata": {},
     "output_type": "execute_result"
    }
   ],
   "source": [
    "np.mean(pmse_ratios)"
   ]
  },
  {
   "cell_type": "code",
   "execution_count": 21,
   "id": "a3d6a0f6",
   "metadata": {},
   "outputs": [
    {
     "data": {
      "image/png": "[encoded data removed]",
      "text/plain": [
       "<Figure size 640x480 with 1 Axes>"
      ]
     },
     "metadata": {},
     "output_type": "display_data"
    }
   ],
   "source": [
    "plt.violinplot(pmse_ratios)\n",
    "plt.xlabel(\"Density\")\n",
    "plt.ylabel(\"pMSE Ratio\")\n",
    "plt.title(\"Distribution of pMSE Ratios\")\n",
    "plt.show()"
   ]
  },
  {
   "cell_type": "markdown",
   "id": "af137729",
   "metadata": {},
   "source": [
    "***"
   ]
  },
  {
   "cell_type": "markdown",
   "id": "c7c4b464",
   "metadata": {},
   "source": [
    "# Save the synthetic datasets."
   ]
  },
  {
   "cell_type": "code",
   "execution_count": 22,
   "id": "5696e166",
   "metadata": {},
   "outputs": [],
   "source": [
    "for i, sX in enumerate(full_sXs):\n",
    "    sX.to_csv(\"Data/synthetic_datasets/cart_optimizer_logistic_pmse_ipums_\" + str(i) + \".csv\", index=False)"
   ]
  },
  {
   "cell_type": "markdown",
   "id": "c40ffaea",
   "metadata": {},
   "source": [
    "***"
   ]
  }
 ],
 "metadata": {
  "kernelspec": {
   "display_name": "Python 3 (ipykernel)",
   "language": "python",
   "name": "python3"
  },
  "language_info": {
   "codemirror_mode": {
    "name": "ipython",
    "version": 3
   },
   "file_extension": ".py",
   "mimetype": "text/x-python",
   "name": "python",
   "nbconvert_exporter": "python",
   "pygments_lexer": "ipython3",
   "version": "3.11.5"
  }
 },
 "nbformat": 4,
 "nbformat_minor": 5
}
