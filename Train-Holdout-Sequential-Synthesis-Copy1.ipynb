{
 "cells": [
  {
   "cell_type": "markdown",
   "id": "96f48262",
   "metadata": {},
   "source": [
    "# Train-Holdout Sequential Synthesis Testing"
   ]
  },
  {
   "cell_type": "markdown",
   "id": "e6eb8a0b",
   "metadata": {},
   "source": [
    "This notebook performs the synthesis using our proposed synthesization approach for the training data only (excludes the holdout data)."
   ]
  },
  {
   "cell_type": "code",
   "execution_count": 36,
   "id": "2d3f5c21",
   "metadata": {},
   "outputs": [],
   "source": [
    "import pandas as pd\n",
    "import numpy as np\n",
    "from numpy.random import default_rng\n",
    "from sklearn.mixture import GaussianMixture\n",
    "from scipy.spatial import cKDTree\n",
    "import matplotlib.pyplot as plt\n",
    "import seaborn as sns\n",
    "\n",
    "from sklearn import preprocessing\n",
    "from sklearn.model_selection import GridSearchCV\n",
    "\n",
    "from sklearn.tree import DecisionTreeClassifier\n",
    "from sklearn.ensemble import RandomForestClassifier\n",
    "\n",
    "import itertools\n",
    "\n",
    "from bayes_opt import BayesianOptimization\n",
    "from bayes_opt import UtilityFunction\n",
    "\n",
    "from sklearn.linear_model import LogisticRegression\n",
    "from sklearn.preprocessing import PolynomialFeatures\n",
    "\n",
    "from bayesian_bootstrap import bayesian_bootstrap\n",
    "\n",
    "rng = np.random.RandomState(42)"
   ]
  },
  {
   "cell_type": "code",
   "execution_count": 37,
   "id": "1f4e5ea9",
   "metadata": {},
   "outputs": [],
   "source": [
    "def rf_bootstrapped_accuracy(original_data):\n",
    "    \"\"\"\n",
    "    Function to calculate the pMSE under the null of data sets drawn from the same data generating distribution. Approximated\n",
    "    using the average pMSE of bootstrapped versions of the original data set.\n",
    "    \n",
    "    original_data: pandas dataframe containing the original data\n",
    "    \"\"\"\n",
    "    \n",
    "    # number of records\n",
    "    num_obs = original_data.shape[0]\n",
    "    \n",
    "    # number of synthetic and original records (assumed equal)\n",
    "    N_orig, N_synth = num_obs, num_obs\n",
    "    \n",
    "    # c for pMSE\n",
    "    c = N_synth/(N_synth+N_orig)\n",
    "    \n",
    "    # bootstrapped data\n",
    "    bs = original_data.sample(n=2*num_obs, replace=True, random_state=42)\n",
    "    \n",
    "    # standardize bootstrapped data\n",
    "    bs_scaled = preprocessing.StandardScaler().fit_transform(bs)\n",
    "    \n",
    "    # create target class membership\n",
    "    y = np.repeat([0, 1], repeats=[N_orig, N_synth])\n",
    "    \n",
    "    # random forest model instantiation\n",
    "    rf = RandomForestClassifier(n_estimators=50, min_samples_split=20, min_samples_leaf=int(np.round(20/3)), max_depth=30, oob_score=True)\n",
    "    \n",
    "    # random forest model training\n",
    "    rf.fit(X=bs_scaled, y=y)\n",
    "    \n",
    "    return rf.oob_score_"
   ]
  },
  {
   "cell_type": "code",
   "execution_count": 38,
   "id": "a2c8bd84",
   "metadata": {},
   "outputs": [],
   "source": [
    "def cart_bootstrapped_pmse(original_data, complexity_parameter):\n",
    "    \"\"\"\n",
    "    Function to calculate the pMSE under the null of data sets drawn from the same data generating distribution. Approximated\n",
    "    using the average pMSE of bootstrapped versions of the original data set.\n",
    "    \n",
    "    original_data: pandas dataframe containing the original data\n",
    "    \"\"\"\n",
    "    \n",
    "    # number of records\n",
    "    num_obs = original_data.shape[0]\n",
    "    \n",
    "    # number of synthetic and original records (assumed equal)\n",
    "    N_orig, N_synth = num_obs, num_obs\n",
    "    \n",
    "    # c for pMSE\n",
    "    c = N_synth/(N_synth+N_orig)\n",
    "    \n",
    "    # bootstrapped data\n",
    "    bs = original_data.sample(n=2*num_obs, replace=True, random_state=42)\n",
    "    \n",
    "    # standardize bootstrapped data\n",
    "    bs_scaled = preprocessing.StandardScaler().fit_transform(bs)\n",
    "    \n",
    "    # create target class membership\n",
    "    y = np.repeat([0, 1], repeats=[N_orig, N_synth])\n",
    "    \n",
    "    # CART model instantiation\n",
    "    cart = DecisionTreeClassifier(min_samples_split=10,\n",
    "                                  min_samples_leaf=int(np.round(10/3)))\n",
    "                                  # max_depth=30)\n",
    "    \n",
    "    # CART model training\n",
    "    cart.fit(X=bs_scaled, y=y)\n",
    "    \n",
    "    # predict probabilities of being synthetic\n",
    "    probs = cart.predict_proba(bs_scaled)\n",
    "    \n",
    "    # calculate pMSE\n",
    "    pMSE = 1/(N_synth + N_orig) * np.sum((probs[:,1] - c)**2)\n",
    "    \n",
    "    return pMSE"
   ]
  },
  {
   "cell_type": "code",
   "execution_count": 39,
   "id": "650adb11",
   "metadata": {},
   "outputs": [],
   "source": [
    "def rf_accuracy(original_data, synthetic_data_sets):\n",
    "    \n",
    "    accuracies = []\n",
    "    \n",
    "    for s in synthetic_data_sets:\n",
    "    \n",
    "        N_orig = original_data.shape[0]\n",
    "        N_synth = s.shape[0]\n",
    "    \n",
    "        c = N_synth/(N_synth+N_orig)\n",
    "    \n",
    "        full_X = pd.concat([original_data, s], axis=0).reset_index(drop=True)\n",
    "    \n",
    "        full_X = preprocessing.StandardScaler().fit_transform(full_X)\n",
    "\n",
    "        y = np.repeat([0, 1], repeats=[N_orig, N_synth])\n",
    "    \n",
    "        # random forest model instantiation\n",
    "        rf = RandomForestClassifier(n_estimators=50, min_samples_split=20, min_samples_leaf=int(np.round(20/3)), max_depth=30, oob_score=True)\n",
    "    \n",
    "        # random forest model training\n",
    "        rf.fit(X=full_X, y=y)\n",
    "        \n",
    "        accuracies.append(rf.oob_score_)\n",
    "    \n",
    "    return accuracies"
   ]
  },
  {
   "cell_type": "code",
   "execution_count": 40,
   "id": "f827250b",
   "metadata": {},
   "outputs": [],
   "source": [
    "def cart_pmse_ratio(original_data, synthetic_data_sets, null_accuracy, complexity_parameter):\n",
    "    \n",
    "    ratios = []\n",
    "    \n",
    "    for s in synthetic_data_sets:\n",
    "    \n",
    "        N_orig = original_data.shape[0]\n",
    "        N_synth = s.shape[0]\n",
    "    \n",
    "        c = N_synth/(N_synth+N_orig)\n",
    "    \n",
    "        full_X = pd.concat([original_data, s], axis=0).reset_index(drop=True)\n",
    "    \n",
    "        full_X = preprocessing.StandardScaler().fit_transform(full_X)\n",
    "\n",
    "        y = np.repeat([0, 1], repeats=[N_orig, N_synth])\n",
    "    \n",
    "        cart = DecisionTreeClassifier(min_samples_split=10,\n",
    "                                      min_samples_leaf=int(np.round(10/3)))\n",
    "                                      # max_depth=30)\n",
    "    \n",
    "        cart.fit(X=full_X, y=y)\n",
    "    \n",
    "        probs = cart.predict_proba(full_X)\n",
    "    \n",
    "        pMSE = 1/(N_synth + N_orig) * np.sum((probs[:,1] - c)**2)\n",
    "        \n",
    "        ratios.append(pMSE/null_accuracy)\n",
    "    \n",
    "    return ratios"
   ]
  },
  {
   "cell_type": "code",
   "execution_count": 41,
   "id": "a07ad9ba",
   "metadata": {},
   "outputs": [],
   "source": [
    "# def pmse_ratio(original_data, synthetic_data):\n",
    "    \n",
    "#     N_synth = synthetic_data.shape[0]\n",
    "#     N_orig = original_data.shape[0]\n",
    "    \n",
    "#     # combine original and synthetic datasets\n",
    "#     full_X = pd.concat([original_data, synthetic_data], axis=0).reset_index(drop=True)\n",
    "    \n",
    "#     full_X[\"age\"] = full_X[\"age\"].astype('category')\n",
    "    \n",
    "#     age_dummies = pd.get_dummies(full_X['age'], drop_first=True)\n",
    "    \n",
    "#     age_dummies.columns = [str(x) for x in age_dummies.columns]\n",
    "    \n",
    "#     full_X = full_X.drop(\"age\", axis=1)\n",
    "    \n",
    "#     full_X = pd.concat([full_X, age_dummies], axis=1)\n",
    "    \n",
    "#     # generate interactions and powers of variables\n",
    "#     poly = PolynomialFeatures(2, interaction_only=True, include_bias=False)\n",
    "    \n",
    "#     full_X = poly.fit_transform(full_X)\n",
    "    \n",
    "#     full_X = full_X[:,:-36]\n",
    "\n",
    "#     # scale the combined dataset\n",
    "#     full_X = preprocessing.StandardScaler().fit_transform(full_X)\n",
    "    \n",
    "#     c = N_synth/(N_synth+N_orig)\n",
    "\n",
    "#     y = np.repeat([0, 1], repeats=[N_orig, N_synth])\n",
    "    \n",
    "#     pMSE_model = LogisticRegression(penalty='none', max_iter=1000).fit(full_X, y)\n",
    "    \n",
    "#     probs = pMSE_model.predict_proba(full_X)\n",
    "    \n",
    "#     pMSE = 1/(N_synth+N_orig) * np.sum((probs[:,1] - c)**2)\n",
    "    \n",
    "#     e_pMSE = 2*(full_X.shape[1])*(1-c)**2 * c/(N_synth+N_orig)\n",
    "        \n",
    "#     return pMSE/e_pMSE"
   ]
  },
  {
   "cell_type": "markdown",
   "id": "76a8ccbc",
   "metadata": {},
   "source": [
    "Import the data."
   ]
  },
  {
   "cell_type": "code",
   "execution_count": 42,
   "id": "730c2f2e",
   "metadata": {},
   "outputs": [],
   "source": [
    "# import standardized lat/long location data\n",
    "X = pd.read_csv(\"Data/cleaned_data.csv\")"
   ]
  },
  {
   "cell_type": "markdown",
   "id": "05560c9f",
   "metadata": {},
   "source": [
    "Number of locations from deceased individuals."
   ]
  },
  {
   "cell_type": "code",
   "execution_count": 43,
   "id": "4179bd8c",
   "metadata": {},
   "outputs": [
    {
     "data": {
      "text/plain": [
       "55"
      ]
     },
     "execution_count": 43,
     "metadata": {},
     "output_type": "execute_result"
    }
   ],
   "source": [
    "np.sum(X.state)"
   ]
  },
  {
   "cell_type": "markdown",
   "id": "10b49ff7",
   "metadata": {},
   "source": [
    "Split dataset into continuous and categorical variables."
   ]
  },
  {
   "cell_type": "code",
   "execution_count": 44,
   "id": "ca8aa871",
   "metadata": {},
   "outputs": [
    {
     "data": {
      "text/html": [
       "<div>\n",
       "<style scoped>\n",
       "    .dataframe tbody tr th:only-of-type {\n",
       "        vertical-align: middle;\n",
       "    }\n",
       "\n",
       "    .dataframe tbody tr th {\n",
       "        vertical-align: top;\n",
       "    }\n",
       "\n",
       "    .dataframe thead th {\n",
       "        text-align: right;\n",
       "    }\n",
       "</style>\n",
       "<table border=\"1\" class=\"dataframe\">\n",
       "  <thead>\n",
       "    <tr style=\"text-align: right;\">\n",
       "      <th></th>\n",
       "      <th>latitude</th>\n",
       "      <th>longitude</th>\n",
       "      <th>sex</th>\n",
       "      <th>age</th>\n",
       "      <th>state</th>\n",
       "    </tr>\n",
       "  </thead>\n",
       "  <tbody>\n",
       "    <tr>\n",
       "      <th>0</th>\n",
       "      <td>0.944157</td>\n",
       "      <td>-1.010655</td>\n",
       "      <td>male</td>\n",
       "      <td>50s</td>\n",
       "      <td>0</td>\n",
       "    </tr>\n",
       "    <tr>\n",
       "      <th>1</th>\n",
       "      <td>0.889746</td>\n",
       "      <td>-0.694899</td>\n",
       "      <td>male</td>\n",
       "      <td>50s</td>\n",
       "      <td>0</td>\n",
       "    </tr>\n",
       "    <tr>\n",
       "      <th>2</th>\n",
       "      <td>0.917482</td>\n",
       "      <td>-0.682299</td>\n",
       "      <td>male</td>\n",
       "      <td>30s</td>\n",
       "      <td>0</td>\n",
       "    </tr>\n",
       "    <tr>\n",
       "      <th>3</th>\n",
       "      <td>0.916660</td>\n",
       "      <td>-0.682551</td>\n",
       "      <td>male</td>\n",
       "      <td>30s</td>\n",
       "      <td>0</td>\n",
       "    </tr>\n",
       "    <tr>\n",
       "      <th>4</th>\n",
       "      <td>0.886074</td>\n",
       "      <td>-0.668883</td>\n",
       "      <td>male</td>\n",
       "      <td>30s</td>\n",
       "      <td>0</td>\n",
       "    </tr>\n",
       "    <tr>\n",
       "      <th>...</th>\n",
       "      <td>...</td>\n",
       "      <td>...</td>\n",
       "      <td>...</td>\n",
       "      <td>...</td>\n",
       "      <td>...</td>\n",
       "    </tr>\n",
       "    <tr>\n",
       "      <th>6707</th>\n",
       "      <td>0.881500</td>\n",
       "      <td>-0.925307</td>\n",
       "      <td>male</td>\n",
       "      <td>40s</td>\n",
       "      <td>0</td>\n",
       "    </tr>\n",
       "    <tr>\n",
       "      <th>6708</th>\n",
       "      <td>-1.728784</td>\n",
       "      <td>1.470871</td>\n",
       "      <td>male</td>\n",
       "      <td>40s</td>\n",
       "      <td>0</td>\n",
       "    </tr>\n",
       "    <tr>\n",
       "      <th>6709</th>\n",
       "      <td>-1.548071</td>\n",
       "      <td>1.557316</td>\n",
       "      <td>male</td>\n",
       "      <td>40s</td>\n",
       "      <td>0</td>\n",
       "    </tr>\n",
       "    <tr>\n",
       "      <th>6710</th>\n",
       "      <td>-1.549392</td>\n",
       "      <td>1.555785</td>\n",
       "      <td>male</td>\n",
       "      <td>40s</td>\n",
       "      <td>0</td>\n",
       "    </tr>\n",
       "    <tr>\n",
       "      <th>6711</th>\n",
       "      <td>-1.548071</td>\n",
       "      <td>1.557316</td>\n",
       "      <td>male</td>\n",
       "      <td>40s</td>\n",
       "      <td>0</td>\n",
       "    </tr>\n",
       "  </tbody>\n",
       "</table>\n",
       "<p>6712 rows × 5 columns</p>\n",
       "</div>"
      ],
      "text/plain": [
       "      latitude  longitude   sex  age  state\n",
       "0     0.944157  -1.010655  male  50s      0\n",
       "1     0.889746  -0.694899  male  50s      0\n",
       "2     0.917482  -0.682299  male  30s      0\n",
       "3     0.916660  -0.682551  male  30s      0\n",
       "4     0.886074  -0.668883  male  30s      0\n",
       "...        ...        ...   ...  ...    ...\n",
       "6707  0.881500  -0.925307  male  40s      0\n",
       "6708 -1.728784   1.470871  male  40s      0\n",
       "6709 -1.548071   1.557316  male  40s      0\n",
       "6710 -1.549392   1.555785  male  40s      0\n",
       "6711 -1.548071   1.557316  male  40s      0\n",
       "\n",
       "[6712 rows x 5 columns]"
      ]
     },
     "execution_count": 44,
     "metadata": {},
     "output_type": "execute_result"
    }
   ],
   "source": [
    "X"
   ]
  },
  {
   "cell_type": "code",
   "execution_count": 45,
   "id": "fae34b71",
   "metadata": {},
   "outputs": [],
   "source": [
    "cat_columns = X.select_dtypes(['object']).columns"
   ]
  },
  {
   "cell_type": "code",
   "execution_count": 46,
   "id": "2665afce",
   "metadata": {},
   "outputs": [],
   "source": [
    "X[cat_columns] = X[cat_columns].apply(lambda x: x.astype('category'))"
   ]
  },
  {
   "cell_type": "code",
   "execution_count": 47,
   "id": "d27a984a",
   "metadata": {},
   "outputs": [],
   "source": [
    "categories = X[cat_columns].apply(lambda x: x.cat.categories)"
   ]
  },
  {
   "cell_type": "code",
   "execution_count": 48,
   "id": "a4ac0283",
   "metadata": {},
   "outputs": [],
   "source": [
    "X[cat_columns] = X[cat_columns].apply(lambda x: x.cat.codes)"
   ]
  },
  {
   "cell_type": "code",
   "execution_count": 49,
   "id": "eff95bf3",
   "metadata": {},
   "outputs": [
    {
     "data": {
      "text/plain": [
       "sex            Index(['female', 'male'], dtype='object')\n",
       "age    Index(['0s', '10s', '20s', '30s', '40s', '50s'...\n",
       "dtype: object"
      ]
     },
     "execution_count": 49,
     "metadata": {},
     "output_type": "execute_result"
    }
   ],
   "source": [
    "categories"
   ]
  },
  {
   "cell_type": "code",
   "execution_count": 50,
   "id": "56d124d1",
   "metadata": {},
   "outputs": [
    {
     "data": {
      "text/plain": [
       "0.4620083432657926"
      ]
     },
     "execution_count": 50,
     "metadata": {},
     "output_type": "execute_result"
    }
   ],
   "source": [
    "np.mean(X.sex)"
   ]
  },
  {
   "cell_type": "code",
   "execution_count": 51,
   "id": "f3054ffb",
   "metadata": {},
   "outputs": [
    {
     "data": {
      "image/png": "[encoded data removed]",
      "text/plain": [
       "<Figure size 640x480 with 1 Axes>"
      ]
     },
     "metadata": {},
     "output_type": "display_data"
    }
   ],
   "source": [
    "ax = X.age.plot.hist(grid=True, bins=10)\n",
    "ax.set_ylabel('Frequency', fontsize=12)\n",
    "ax.set_xlabel('Age Bins', fontsize=12)\n",
    "ax.set_xticks([0,1,2,3,4,5,6,7,8,9])\n",
    "ax.set_xticklabels(labels=categories['age'])\n",
    "plt.title(\"Frequency Distribution of Age Categories\")\n",
    "plt.show()"
   ]
  },
  {
   "cell_type": "markdown",
   "id": "6f62abff",
   "metadata": {},
   "source": [
    "***"
   ]
  },
  {
   "cell_type": "code",
   "execution_count": 52,
   "id": "fb800ca1",
   "metadata": {},
   "outputs": [
    {
     "data": {
      "text/html": [
       "<div>\n",
       "<style scoped>\n",
       "    .dataframe tbody tr th:only-of-type {\n",
       "        vertical-align: middle;\n",
       "    }\n",
       "\n",
       "    .dataframe tbody tr th {\n",
       "        vertical-align: top;\n",
       "    }\n",
       "\n",
       "    .dataframe thead th {\n",
       "        text-align: right;\n",
       "    }\n",
       "</style>\n",
       "<table border=\"1\" class=\"dataframe\">\n",
       "  <thead>\n",
       "    <tr style=\"text-align: right;\">\n",
       "      <th></th>\n",
       "      <th>latitude</th>\n",
       "      <th>longitude</th>\n",
       "      <th>sex</th>\n",
       "      <th>age</th>\n",
       "      <th>state</th>\n",
       "    </tr>\n",
       "  </thead>\n",
       "  <tbody>\n",
       "    <tr>\n",
       "      <th>0</th>\n",
       "      <td>0.944157</td>\n",
       "      <td>-1.010655</td>\n",
       "      <td>1</td>\n",
       "      <td>5</td>\n",
       "      <td>0</td>\n",
       "    </tr>\n",
       "    <tr>\n",
       "      <th>1</th>\n",
       "      <td>0.889746</td>\n",
       "      <td>-0.694899</td>\n",
       "      <td>1</td>\n",
       "      <td>5</td>\n",
       "      <td>0</td>\n",
       "    </tr>\n",
       "    <tr>\n",
       "      <th>2</th>\n",
       "      <td>0.917482</td>\n",
       "      <td>-0.682299</td>\n",
       "      <td>1</td>\n",
       "      <td>3</td>\n",
       "      <td>0</td>\n",
       "    </tr>\n",
       "    <tr>\n",
       "      <th>3</th>\n",
       "      <td>0.916660</td>\n",
       "      <td>-0.682551</td>\n",
       "      <td>1</td>\n",
       "      <td>3</td>\n",
       "      <td>0</td>\n",
       "    </tr>\n",
       "    <tr>\n",
       "      <th>4</th>\n",
       "      <td>0.886074</td>\n",
       "      <td>-0.668883</td>\n",
       "      <td>1</td>\n",
       "      <td>3</td>\n",
       "      <td>0</td>\n",
       "    </tr>\n",
       "    <tr>\n",
       "      <th>...</th>\n",
       "      <td>...</td>\n",
       "      <td>...</td>\n",
       "      <td>...</td>\n",
       "      <td>...</td>\n",
       "      <td>...</td>\n",
       "    </tr>\n",
       "    <tr>\n",
       "      <th>6707</th>\n",
       "      <td>0.881500</td>\n",
       "      <td>-0.925307</td>\n",
       "      <td>1</td>\n",
       "      <td>4</td>\n",
       "      <td>0</td>\n",
       "    </tr>\n",
       "    <tr>\n",
       "      <th>6708</th>\n",
       "      <td>-1.728784</td>\n",
       "      <td>1.470871</td>\n",
       "      <td>1</td>\n",
       "      <td>4</td>\n",
       "      <td>0</td>\n",
       "    </tr>\n",
       "    <tr>\n",
       "      <th>6709</th>\n",
       "      <td>-1.548071</td>\n",
       "      <td>1.557316</td>\n",
       "      <td>1</td>\n",
       "      <td>4</td>\n",
       "      <td>0</td>\n",
       "    </tr>\n",
       "    <tr>\n",
       "      <th>6710</th>\n",
       "      <td>-1.549392</td>\n",
       "      <td>1.555785</td>\n",
       "      <td>1</td>\n",
       "      <td>4</td>\n",
       "      <td>0</td>\n",
       "    </tr>\n",
       "    <tr>\n",
       "      <th>6711</th>\n",
       "      <td>-1.548071</td>\n",
       "      <td>1.557316</td>\n",
       "      <td>1</td>\n",
       "      <td>4</td>\n",
       "      <td>0</td>\n",
       "    </tr>\n",
       "  </tbody>\n",
       "</table>\n",
       "<p>6712 rows × 5 columns</p>\n",
       "</div>"
      ],
      "text/plain": [
       "      latitude  longitude  sex  age  state\n",
       "0     0.944157  -1.010655    1    5      0\n",
       "1     0.889746  -0.694899    1    5      0\n",
       "2     0.917482  -0.682299    1    3      0\n",
       "3     0.916660  -0.682551    1    3      0\n",
       "4     0.886074  -0.668883    1    3      0\n",
       "...        ...        ...  ...  ...    ...\n",
       "6707  0.881500  -0.925307    1    4      0\n",
       "6708 -1.728784   1.470871    1    4      0\n",
       "6709 -1.548071   1.557316    1    4      0\n",
       "6710 -1.549392   1.555785    1    4      0\n",
       "6711 -1.548071   1.557316    1    4      0\n",
       "\n",
       "[6712 rows x 5 columns]"
      ]
     },
     "execution_count": 52,
     "metadata": {},
     "output_type": "execute_result"
    }
   ],
   "source": [
    "X"
   ]
  },
  {
   "cell_type": "markdown",
   "id": "b67331e1",
   "metadata": {},
   "source": [
    "***"
   ]
  },
  {
   "cell_type": "markdown",
   "id": "10a841b2",
   "metadata": {},
   "source": [
    "Create and save the training and holdout datasets."
   ]
  },
  {
   "cell_type": "code",
   "execution_count": 53,
   "id": "4efb4097",
   "metadata": {},
   "outputs": [],
   "source": [
    "shuffle_X = X.sample(frac=1.0, random_state=42).reset_index(drop=True)\n",
    "\n",
    "half = int(np.ceil(shuffle_X.shape[0]/2))\n",
    "\n",
    "train_data = shuffle_X.iloc[:half,:]\n",
    "val_data = shuffle_X.iloc[half:,:]"
   ]
  },
  {
   "cell_type": "code",
   "execution_count": 54,
   "id": "9d357e85",
   "metadata": {},
   "outputs": [],
   "source": [
    "train_data.to_csv(\"Data/synthetic_datasets/train_dataset.csv\", index=False)\n",
    "val_data.to_csv(\"Data/synthetic_datasets/holdout_dataset.csv\", index=False)"
   ]
  },
  {
   "cell_type": "markdown",
   "id": "6584fe74",
   "metadata": {},
   "source": [
    "***"
   ]
  },
  {
   "cell_type": "markdown",
   "id": "f8f733eb",
   "metadata": {},
   "source": [
    "Calculate the null accuracy value using bootstrapping on the training data."
   ]
  },
  {
   "cell_type": "code",
   "execution_count": 55,
   "id": "e6f706fc",
   "metadata": {},
   "outputs": [],
   "source": [
    "null_accuracy = np.mean([rf_bootstrapped_accuracy(train_data) for i in range(100)])"
   ]
  },
  {
   "cell_type": "markdown",
   "id": "57f3c4b2",
   "metadata": {},
   "source": [
    "We will use this null for all synthesis models."
   ]
  },
  {
   "cell_type": "code",
   "execution_count": 56,
   "id": "f14eae02",
   "metadata": {},
   "outputs": [
    {
     "data": {
      "text/plain": [
       "0.4857792014302742"
      ]
     },
     "execution_count": 56,
     "metadata": {},
     "output_type": "execute_result"
    }
   ],
   "source": [
    "null_accuracy"
   ]
  },
  {
   "cell_type": "markdown",
   "id": "222544e5",
   "metadata": {},
   "source": [
    "***"
   ]
  },
  {
   "cell_type": "markdown",
   "id": "b471dc28",
   "metadata": {},
   "source": [
    "Functions for data synthesis using multinomial logistic regression."
   ]
  },
  {
   "cell_type": "code",
   "execution_count": 57,
   "id": "4ec5cee4",
   "metadata": {},
   "outputs": [],
   "source": [
    "def polynomial_and_standardize(dataset, poly_degree=3, interaction_only=False):\n",
    "    \n",
    "    poly = PolynomialFeatures(degree=poly_degree, interaction_only=interaction_only, include_bias=False)\n",
    "    \n",
    "    X = poly.fit_transform(dataset)\n",
    "    \n",
    "    scaled_X = preprocessing.StandardScaler().fit_transform(X)\n",
    "    \n",
    "    return scaled_X"
   ]
  },
  {
   "cell_type": "code",
   "execution_count": 58,
   "id": "2d47e962",
   "metadata": {},
   "outputs": [],
   "source": [
    "def multinomial_synthesizer(orig_data, synth_data_sets, target, penalty_param, poly_degree=3, interaction_only=False):\n",
    "    \n",
    "    mn_model = LogisticRegression(penalty='l1', C=penalty_param, solver='saga', max_iter=1000, multi_class='multinomial', random_state=rng)\n",
    "    \n",
    "    X = polynomial_and_standardize(dataset=orig_data, poly_degree=poly_degree, interaction_only=interaction_only)\n",
    "    \n",
    "    sXs = [polynomial_and_standardize(dataset=Y, poly_degree=poly_degree, interaction_only=interaction_only) for Y in synth_data_sets]\n",
    "    \n",
    "    vals = []\n",
    "    \n",
    "    mn_model.fit(X, target)\n",
    "    \n",
    "    rng_mn = default_rng()\n",
    "    \n",
    "    for Y in sXs:\n",
    "        \n",
    "        probs = mn_model.predict_proba(Y)\n",
    "    \n",
    "        v = [np.argmax(rng_mn.multinomial(n=1, pvals=p, size=1)==1) for p in probs]\n",
    "    \n",
    "        vals.append(pd.Series(v, name=target.name))\n",
    "    \n",
    "    return vals"
   ]
  },
  {
   "cell_type": "code",
   "execution_count": 59,
   "id": "6927923b",
   "metadata": {},
   "outputs": [],
   "source": [
    "def train_models_mn(#overall parameters\n",
    "                    train_data,\n",
    "                    number_synthetic_datasets,\n",
    "                    null_accuracy,\n",
    "                    # hyperparameters for GMM, end with underscore means Bayesian optimization will choose\n",
    "                    number_gmm_initializations,\n",
    "                    num_components_,\n",
    "                    # hyperparameters for CART, end with underscore means Bayesian optimization will choose\n",
    "                    C_sex_,\n",
    "                    C_age_,\n",
    "                    C_state_):\n",
    "    \n",
    "    num_samples = train_data.shape[0]\n",
    "    \n",
    "    ########## Code for GMM ############\n",
    "    \n",
    "    # fit GMM model\n",
    "    GMM = GaussianMixture(num_components_, n_init=number_gmm_initializations, init_params=\"k-means++\", random_state=rng).fit(train_data.loc[:,[\"latitude\", \"longitude\"]])\n",
    "    \n",
    "    # list for synthetic datasets\n",
    "    sXs = []\n",
    "    \n",
    "    # generate and store number_synthetic_datasets synthetic datasets\n",
    "    for i in range(number_synthetic_datasets):\n",
    "        sX = GMM.sample(num_samples)[0]\n",
    "        sX = pd.DataFrame(sX)\n",
    "        sX.columns = ['latitude', 'longitude']\n",
    "        sXs.append(sX)\n",
    "        \n",
    "    ####################################################################################################\n",
    "        \n",
    "    ########### Code for sex MN ##########\n",
    "    \n",
    "    synth_sex_vars = multinomial_synthesizer(orig_data=train_data.loc[:,[\"latitude\", \"longitude\"]], \n",
    "                                             synth_data_sets=sXs, \n",
    "                                             target=train_data.sex, \n",
    "                                             penalty_param=C_sex_)\n",
    "    \n",
    "    sXs = [pd.concat([Y, synth_sex_vars[i]], axis=1) for i,Y in enumerate(sXs)]\n",
    "        \n",
    "    ####################################################################################################\n",
    "        \n",
    "    ########### Code for age MN ##########\n",
    "    \n",
    "    synth_age_vars = multinomial_synthesizer(orig_data=train_data.loc[:,[\"latitude\", \"longitude\", \"sex\"]], \n",
    "                                             synth_data_sets=sXs, \n",
    "                                             target=train_data.age, \n",
    "                                             penalty_param=C_age_)\n",
    "    \n",
    "    sXs = [pd.concat([Y, synth_age_vars[i]], axis=1) for i,Y in enumerate(sXs)]\n",
    "        \n",
    "    ####################################################################################################\n",
    "    \n",
    "    ########### Code for state MN ##########\n",
    "    \n",
    "    synth_state_vars = multinomial_synthesizer(orig_data=train_data.loc[:,[\"latitude\", \"longitude\", \"sex\", \"age\"]], \n",
    "                                               synth_data_sets=sXs, \n",
    "                                               target=train_data.state, \n",
    "                                               penalty_param=C_state_)\n",
    "    \n",
    "    sXs = [pd.concat([Y, synth_state_vars[i]], axis=1) for i,Y in enumerate(sXs)]\n",
    "        \n",
    "    ###### Calculate pMSE ratios ######\n",
    "    \n",
    "    pmse_ratios = rf_accuracy(train_data, sXs)\n",
    "    \n",
    "    return pmse_ratios, sXs, GMM"
   ]
  },
  {
   "cell_type": "code",
   "execution_count": 60,
   "id": "51b65e19",
   "metadata": {},
   "outputs": [],
   "source": [
    "def optimize_models_mn(train_data,\n",
    "                       number_synthetic_datasets,\n",
    "                       number_gmm_initializations,\n",
    "                       null_accuracy,\n",
    "                       random_state):\n",
    "\n",
    "    def evaluate_models(num_components_, C_sex_, C_age_, C_state_):\n",
    "\n",
    "        accuracies, _, _ = train_models_mn(train_data=train_data,\n",
    "                                            number_synthetic_datasets=number_synthetic_datasets,\n",
    "                                            null_accuracy=null_accuracy,\n",
    "                                            number_gmm_initializations=number_gmm_initializations,\n",
    "                                            num_components_=int(num_components_),\n",
    "                                            C_sex_=C_sex_,\n",
    "                                            C_age_=C_age_,\n",
    "                                            C_state_=C_state_)\n",
    "        \n",
    "        return -1 * ((null_accuracy - np.mean(accuracies))**2)\n",
    "\n",
    "    optimizer = BayesianOptimization(\n",
    "        f=evaluate_models,\n",
    "        pbounds={\n",
    "            \"num_components_\": (200, 800.99),\n",
    "            \"C_sex_\": (0.01, 1),\n",
    "            \"C_age_\": (0.01, 1),\n",
    "            \"C_state_\": (0.01, 1)\n",
    "        },\n",
    "        random_state=random_state)\n",
    "    \n",
    "    utility = UtilityFunction(kind=\"ei\", xi=1e-02)\n",
    "    optimizer.maximize(acquisition_function=utility, init_points=5, n_iter=25)\n",
    "    print(\"Final Result: \", optimizer.max)\n",
    "    return optimizer.max, optimizer"
   ]
  },
  {
   "cell_type": "code",
   "execution_count": 61,
   "id": "13b295a6",
   "metadata": {},
   "outputs": [],
   "source": [
    "nsd = 5\n",
    "ngi = 1\n",
    "random_states = [np.random.RandomState(1234), np.random.RandomState(4321), np.random.RandomState(10620), np.random.RandomState(91695), np.random.RandomState(31296)]\n",
    "# random_states = [np.random.RandomState(1234)]"
   ]
  },
  {
   "cell_type": "code",
   "execution_count": 62,
   "id": "93c78ab1",
   "metadata": {
    "scrolled": true
   },
   "outputs": [
    {
     "name": "stdout",
     "output_type": "stream",
     "text": [
      "|   iter    |  target   |  C_age_   |  C_sex_   | C_state_  | num_co... |\n",
      "-------------------------------------------------------------------------\n",
      "| \u001b[0m1        \u001b[0m | \u001b[0m-0.02758 \u001b[0m | \u001b[0m0.1996   \u001b[0m | \u001b[0m0.6259   \u001b[0m | \u001b[0m0.4434   \u001b[0m | \u001b[0m672.0    \u001b[0m |\n"
     ]
    },
    {
     "name": "stderr",
     "output_type": "stream",
     "text": [
      "C:\\Users\\Cameron\\anaconda3\\lib\\site-packages\\sklearn\\linear_model\\_sag.py:350: ConvergenceWarning: The max_iter was reached which means the coef_ did not converge\n",
      "  warnings.warn(\n"
     ]
    },
    {
     "name": "stdout",
     "output_type": "stream",
     "text": [
      "| \u001b[95m2        \u001b[0m | \u001b[95m-0.0242  \u001b[0m | \u001b[95m0.7822   \u001b[0m | \u001b[95m0.2799   \u001b[0m | \u001b[95m0.2837   \u001b[0m | \u001b[95m681.9    \u001b[0m |\n"
     ]
    },
    {
     "name": "stderr",
     "output_type": "stream",
     "text": [
      "C:\\Users\\Cameron\\anaconda3\\lib\\site-packages\\sklearn\\linear_model\\_sag.py:350: ConvergenceWarning: The max_iter was reached which means the coef_ did not converge\n",
      "  warnings.warn(\n"
     ]
    },
    {
     "name": "stdout",
     "output_type": "stream",
     "text": [
      "| \u001b[0m3        \u001b[0m | \u001b[0m-0.02656 \u001b[0m | \u001b[0m0.9586   \u001b[0m | \u001b[0m0.8772   \u001b[0m | \u001b[0m0.3642   \u001b[0m | \u001b[0m501.1    \u001b[0m |\n",
      "| \u001b[0m4        \u001b[0m | \u001b[0m-0.02703 \u001b[0m | \u001b[0m0.6866   \u001b[0m | \u001b[0m0.7156   \u001b[0m | \u001b[0m0.3765   \u001b[0m | \u001b[0m537.3    \u001b[0m |\n",
      "| \u001b[0m5        \u001b[0m | \u001b[0m-0.02868 \u001b[0m | \u001b[0m0.5081   \u001b[0m | \u001b[0m0.02363  \u001b[0m | \u001b[0m0.7751   \u001b[0m | \u001b[0m730.5    \u001b[0m |\n"
     ]
    },
    {
     "name": "stderr",
     "output_type": "stream",
     "text": [
      "C:\\Users\\Cameron\\anaconda3\\lib\\site-packages\\sklearn\\linear_model\\_sag.py:350: ConvergenceWarning: The max_iter was reached which means the coef_ did not converge\n",
      "  warnings.warn(\n"
     ]
    },
    {
     "name": "stdout",
     "output_type": "stream",
     "text": [
      "| \u001b[0m6        \u001b[0m | \u001b[0m-0.02741 \u001b[0m | \u001b[0m0.9053   \u001b[0m | \u001b[0m0.2054   \u001b[0m | \u001b[0m0.1361   \u001b[0m | \u001b[0m682.0    \u001b[0m |\n"
     ]
    },
    {
     "name": "stderr",
     "output_type": "stream",
     "text": [
      "C:\\Users\\Cameron\\anaconda3\\lib\\site-packages\\sklearn\\linear_model\\_sag.py:350: ConvergenceWarning: The max_iter was reached which means the coef_ did not converge\n",
      "  warnings.warn(\n"
     ]
    },
    {
     "name": "stdout",
     "output_type": "stream",
     "text": [
      "| \u001b[0m7        \u001b[0m | \u001b[0m-0.02736 \u001b[0m | \u001b[0m0.9765   \u001b[0m | \u001b[0m0.1574   \u001b[0m | \u001b[0m0.4669   \u001b[0m | \u001b[0m495.7    \u001b[0m |\n",
      "| \u001b[0m8        \u001b[0m | \u001b[0m-0.02812 \u001b[0m | \u001b[0m0.3517   \u001b[0m | \u001b[0m0.7232   \u001b[0m | \u001b[0m0.8416   \u001b[0m | \u001b[0m408.1    \u001b[0m |\n",
      "| \u001b[0m9        \u001b[0m | \u001b[0m-0.02591 \u001b[0m | \u001b[0m0.4243   \u001b[0m | \u001b[0m0.5795   \u001b[0m | \u001b[0m0.1003   \u001b[0m | \u001b[0m712.1    \u001b[0m |\n"
     ]
    },
    {
     "name": "stderr",
     "output_type": "stream",
     "text": [
      "C:\\Users\\Cameron\\anaconda3\\lib\\site-packages\\sklearn\\linear_model\\_sag.py:350: ConvergenceWarning: The max_iter was reached which means the coef_ did not converge\n",
      "  warnings.warn(\n"
     ]
    },
    {
     "name": "stdout",
     "output_type": "stream",
     "text": [
      "| \u001b[0m10       \u001b[0m | \u001b[0m-0.02933 \u001b[0m | \u001b[0m0.9984   \u001b[0m | \u001b[0m0.5638   \u001b[0m | \u001b[0m0.7402   \u001b[0m | \u001b[0m338.2    \u001b[0m |\n"
     ]
    },
    {
     "name": "stderr",
     "output_type": "stream",
     "text": [
      "C:\\Users\\Cameron\\anaconda3\\lib\\site-packages\\sklearn\\linear_model\\_sag.py:350: ConvergenceWarning: The max_iter was reached which means the coef_ did not converge\n",
      "  warnings.warn(\n"
     ]
    },
    {
     "name": "stdout",
     "output_type": "stream",
     "text": [
      "| \u001b[0m11       \u001b[0m | \u001b[0m-0.02854 \u001b[0m | \u001b[0m0.9233   \u001b[0m | \u001b[0m0.2565   \u001b[0m | \u001b[0m0.7494   \u001b[0m | \u001b[0m413.3    \u001b[0m |\n",
      "| \u001b[0m12       \u001b[0m | \u001b[0m-0.02782 \u001b[0m | \u001b[0m0.3912   \u001b[0m | \u001b[0m0.6115   \u001b[0m | \u001b[0m0.6645   \u001b[0m | \u001b[0m687.0    \u001b[0m |\n"
     ]
    },
    {
     "name": "stderr",
     "output_type": "stream",
     "text": [
      "C:\\Users\\Cameron\\anaconda3\\lib\\site-packages\\sklearn\\linear_model\\_sag.py:350: ConvergenceWarning: The max_iter was reached which means the coef_ did not converge\n",
      "  warnings.warn(\n"
     ]
    },
    {
     "name": "stdout",
     "output_type": "stream",
     "text": [
      "| \u001b[0m13       \u001b[0m | \u001b[0m-0.03252 \u001b[0m | \u001b[0m0.8687   \u001b[0m | \u001b[0m0.8097   \u001b[0m | \u001b[0m0.5983   \u001b[0m | \u001b[0m216.3    \u001b[0m |\n",
      "| \u001b[0m14       \u001b[0m | \u001b[0m-0.02667 \u001b[0m | \u001b[0m0.6325   \u001b[0m | \u001b[0m0.3211   \u001b[0m | \u001b[0m0.298    \u001b[0m | \u001b[0m682.0    \u001b[0m |\n",
      "| \u001b[0m15       \u001b[0m | \u001b[0m-0.02661 \u001b[0m | \u001b[0m0.5034   \u001b[0m | \u001b[0m0.453    \u001b[0m | \u001b[0m0.1899   \u001b[0m | \u001b[0m746.1    \u001b[0m |\n"
     ]
    },
    {
     "name": "stderr",
     "output_type": "stream",
     "text": [
      "C:\\Users\\Cameron\\anaconda3\\lib\\site-packages\\sklearn\\linear_model\\_sag.py:350: ConvergenceWarning: The max_iter was reached which means the coef_ did not converge\n",
      "  warnings.warn(\n"
     ]
    },
    {
     "name": "stdout",
     "output_type": "stream",
     "text": [
      "| \u001b[0m16       \u001b[0m | \u001b[0m-0.02624 \u001b[0m | \u001b[0m0.8958   \u001b[0m | \u001b[0m0.379    \u001b[0m | \u001b[0m0.4229   \u001b[0m | \u001b[0m682.1    \u001b[0m |\n",
      "| \u001b[0m17       \u001b[0m | \u001b[0m-0.02563 \u001b[0m | \u001b[0m0.7391   \u001b[0m | \u001b[0m0.569    \u001b[0m | \u001b[0m0.6045   \u001b[0m | \u001b[0m681.9    \u001b[0m |\n"
     ]
    },
    {
     "name": "stderr",
     "output_type": "stream",
     "text": [
      "C:\\Users\\Cameron\\anaconda3\\lib\\site-packages\\sklearn\\linear_model\\_sag.py:350: ConvergenceWarning: The max_iter was reached which means the coef_ did not converge\n",
      "  warnings.warn(\n"
     ]
    },
    {
     "name": "stdout",
     "output_type": "stream",
     "text": [
      "| \u001b[0m18       \u001b[0m | \u001b[0m-0.02708 \u001b[0m | \u001b[0m0.9992   \u001b[0m | \u001b[0m0.5029   \u001b[0m | \u001b[0m0.8453   \u001b[0m | \u001b[0m681.9    \u001b[0m |\n",
      "| \u001b[0m19       \u001b[0m | \u001b[0m-0.03146 \u001b[0m | \u001b[0m0.3194   \u001b[0m | \u001b[0m0.9331   \u001b[0m | \u001b[0m0.637    \u001b[0m | \u001b[0m283.8    \u001b[0m |\n"
     ]
    },
    {
     "name": "stderr",
     "output_type": "stream",
     "text": [
      "C:\\Users\\Cameron\\anaconda3\\lib\\site-packages\\sklearn\\linear_model\\_sag.py:350: ConvergenceWarning: The max_iter was reached which means the coef_ did not converge\n",
      "  warnings.warn(\n"
     ]
    },
    {
     "name": "stdout",
     "output_type": "stream",
     "text": [
      "| \u001b[0m20       \u001b[0m | \u001b[0m-0.02652 \u001b[0m | \u001b[0m0.9794   \u001b[0m | \u001b[0m0.9671   \u001b[0m | \u001b[0m0.8913   \u001b[0m | \u001b[0m650.3    \u001b[0m |\n",
      "| \u001b[0m21       \u001b[0m | \u001b[0m-0.02729 \u001b[0m | \u001b[0m0.4652   \u001b[0m | \u001b[0m0.3782   \u001b[0m | \u001b[0m0.39     \u001b[0m | \u001b[0m682.0    \u001b[0m |\n",
      "| \u001b[0m22       \u001b[0m | \u001b[0m-0.0285  \u001b[0m | \u001b[0m0.193    \u001b[0m | \u001b[0m0.9023   \u001b[0m | \u001b[0m0.9547   \u001b[0m | \u001b[0m571.6    \u001b[0m |\n"
     ]
    },
    {
     "name": "stderr",
     "output_type": "stream",
     "text": [
      "C:\\Users\\Cameron\\anaconda3\\lib\\site-packages\\sklearn\\linear_model\\_sag.py:350: ConvergenceWarning: The max_iter was reached which means the coef_ did not converge\n",
      "  warnings.warn(\n"
     ]
    },
    {
     "name": "stdout",
     "output_type": "stream",
     "text": [
      "| \u001b[0m23       \u001b[0m | \u001b[0m-0.02676 \u001b[0m | \u001b[0m0.9379   \u001b[0m | \u001b[0m0.135    \u001b[0m | \u001b[0m0.549    \u001b[0m | \u001b[0m681.6    \u001b[0m |\n",
      "| \u001b[0m24       \u001b[0m | \u001b[0m-0.02534 \u001b[0m | \u001b[0m0.625    \u001b[0m | \u001b[0m0.3365   \u001b[0m | \u001b[0m0.1587   \u001b[0m | \u001b[0m681.7    \u001b[0m |\n"
     ]
    },
    {
     "name": "stderr",
     "output_type": "stream",
     "text": [
      "C:\\Users\\Cameron\\anaconda3\\lib\\site-packages\\sklearn\\linear_model\\_sag.py:350: ConvergenceWarning: The max_iter was reached which means the coef_ did not converge\n",
      "  warnings.warn(\n"
     ]
    },
    {
     "name": "stdout",
     "output_type": "stream",
     "text": [
      "| \u001b[0m25       \u001b[0m | \u001b[0m-0.02658 \u001b[0m | \u001b[0m0.8306   \u001b[0m | \u001b[0m0.9458   \u001b[0m | \u001b[0m0.1815   \u001b[0m | \u001b[0m681.8    \u001b[0m |\n"
     ]
    },
    {
     "name": "stderr",
     "output_type": "stream",
     "text": [
      "C:\\Users\\Cameron\\anaconda3\\lib\\site-packages\\sklearn\\linear_model\\_sag.py:350: ConvergenceWarning: The max_iter was reached which means the coef_ did not converge\n",
      "  warnings.warn(\n"
     ]
    },
    {
     "name": "stdout",
     "output_type": "stream",
     "text": [
      "| \u001b[0m26       \u001b[0m | \u001b[0m-0.02914 \u001b[0m | \u001b[0m0.845    \u001b[0m | \u001b[0m0.7577   \u001b[0m | \u001b[0m0.2255   \u001b[0m | \u001b[0m350.2    \u001b[0m |\n"
     ]
    },
    {
     "name": "stderr",
     "output_type": "stream",
     "text": [
      "C:\\Users\\Cameron\\anaconda3\\lib\\site-packages\\sklearn\\linear_model\\_sag.py:350: ConvergenceWarning: The max_iter was reached which means the coef_ did not converge\n",
      "  warnings.warn(\n"
     ]
    },
    {
     "name": "stdout",
     "output_type": "stream",
     "text": [
      "| \u001b[0m27       \u001b[0m | \u001b[0m-0.02616 \u001b[0m | \u001b[0m0.8936   \u001b[0m | \u001b[0m0.7072   \u001b[0m | \u001b[0m0.4394   \u001b[0m | \u001b[0m681.3    \u001b[0m |\n",
      "| \u001b[0m28       \u001b[0m | \u001b[0m-0.02751 \u001b[0m | \u001b[0m0.2557   \u001b[0m | \u001b[0m0.8522   \u001b[0m | \u001b[0m0.3483   \u001b[0m | \u001b[0m681.4    \u001b[0m |\n"
     ]
    },
    {
     "name": "stderr",
     "output_type": "stream",
     "text": [
      "C:\\Users\\Cameron\\anaconda3\\lib\\site-packages\\sklearn\\linear_model\\_sag.py:350: ConvergenceWarning: The max_iter was reached which means the coef_ did not converge\n",
      "  warnings.warn(\n"
     ]
    },
    {
     "name": "stdout",
     "output_type": "stream",
     "text": [
      "| \u001b[0m29       \u001b[0m | \u001b[0m-0.03097 \u001b[0m | \u001b[0m0.9092   \u001b[0m | \u001b[0m0.8591   \u001b[0m | \u001b[0m0.4      \u001b[0m | \u001b[0m252.6    \u001b[0m |\n",
      "| \u001b[0m30       \u001b[0m | \u001b[0m-0.02524 \u001b[0m | \u001b[0m0.2864   \u001b[0m | \u001b[0m0.7845   \u001b[0m | \u001b[0m0.3158   \u001b[0m | \u001b[0m711.6    \u001b[0m |\n",
      "=========================================================================\n",
      "Final Result:  {'target': -0.024204999178263593, 'params': {'C_age_': 0.7821760500376155, 'C_sex_': 0.27986667922981523, 'C_state_': 0.2836996125916657, 'num_components_': 681.9171599767712}}\n",
      "|   iter    |  target   |  C_age_   |  C_sex_   | C_state_  | num_co... |\n",
      "-------------------------------------------------------------------------\n",
      "| \u001b[0m1        \u001b[0m | \u001b[0m-0.03061 \u001b[0m | \u001b[0m0.08009  \u001b[0m | \u001b[0m0.8169   \u001b[0m | \u001b[0m0.7702   \u001b[0m | \u001b[0m372.1    \u001b[0m |\n",
      "| \u001b[95m2        \u001b[0m | \u001b[95m-0.02714 \u001b[0m | \u001b[95m0.2012   \u001b[0m | \u001b[95m0.9791   \u001b[0m | \u001b[95m0.4122   \u001b[0m | \u001b[95m655.4    \u001b[0m |\n",
      "| \u001b[0m3        \u001b[0m | \u001b[0m-0.02967 \u001b[0m | \u001b[0m0.09826  \u001b[0m | \u001b[0m0.3168   \u001b[0m | \u001b[0m0.6227   \u001b[0m | \u001b[0m476.4    \u001b[0m |\n",
      "| \u001b[0m4        \u001b[0m | \u001b[0m-0.02794 \u001b[0m | \u001b[0m0.2261   \u001b[0m | \u001b[0m0.6669   \u001b[0m | \u001b[0m0.6819   \u001b[0m | \u001b[0m771.1    \u001b[0m |\n",
      "| \u001b[0m5        \u001b[0m | \u001b[0m-0.02956 \u001b[0m | \u001b[0m0.2884   \u001b[0m | \u001b[0m0.6237   \u001b[0m | \u001b[0m0.3895   \u001b[0m | \u001b[0m440.6    \u001b[0m |\n",
      "| \u001b[95m6        \u001b[0m | \u001b[95m-0.02585 \u001b[0m | \u001b[95m0.4933   \u001b[0m | \u001b[95m0.9575   \u001b[0m | \u001b[95m0.5215   \u001b[0m | \u001b[95m657.3    \u001b[0m |\n",
      "| \u001b[0m7        \u001b[0m | \u001b[0m-0.02985 \u001b[0m | \u001b[0m0.1236   \u001b[0m | \u001b[0m0.04409  \u001b[0m | \u001b[0m0.4295   \u001b[0m | \u001b[0m662.4    \u001b[0m |\n",
      "| \u001b[0m8        \u001b[0m | \u001b[0m-0.02704 \u001b[0m | \u001b[0m0.154    \u001b[0m | \u001b[0m0.6528   \u001b[0m | \u001b[0m0.5296   \u001b[0m | \u001b[0m765.8    \u001b[0m |\n",
      "| \u001b[0m9        \u001b[0m | \u001b[0m-0.03265 \u001b[0m | \u001b[0m0.01781  \u001b[0m | \u001b[0m0.8217   \u001b[0m | \u001b[0m0.2237   \u001b[0m | \u001b[0m761.5    \u001b[0m |\n",
      "| \u001b[0m10       \u001b[0m | \u001b[0m-0.02615 \u001b[0m | \u001b[0m0.6275   \u001b[0m | \u001b[0m0.9665   \u001b[0m | \u001b[0m0.337    \u001b[0m | \u001b[0m775.4    \u001b[0m |\n",
      "| \u001b[0m11       \u001b[0m | \u001b[0m-0.02628 \u001b[0m | \u001b[0m0.6289   \u001b[0m | \u001b[0m0.7127   \u001b[0m | \u001b[0m0.88     \u001b[0m | \u001b[0m778.5    \u001b[0m |\n"
     ]
    },
    {
     "name": "stderr",
     "output_type": "stream",
     "text": [
      "C:\\Users\\Cameron\\anaconda3\\lib\\site-packages\\sklearn\\linear_model\\_sag.py:350: ConvergenceWarning: The max_iter was reached which means the coef_ did not converge\n",
      "  warnings.warn(\n"
     ]
    },
    {
     "name": "stdout",
     "output_type": "stream",
     "text": [
      "| \u001b[0m12       \u001b[0m | \u001b[0m-0.02613 \u001b[0m | \u001b[0m0.7982   \u001b[0m | \u001b[0m0.5991   \u001b[0m | \u001b[0m0.9234   \u001b[0m | \u001b[0m782.9    \u001b[0m |\n",
      "| \u001b[95m13       \u001b[0m | \u001b[95m-0.02563 \u001b[0m | \u001b[95m0.588    \u001b[0m | \u001b[95m0.874    \u001b[0m | \u001b[95m0.2884   \u001b[0m | \u001b[95m787.3    \u001b[0m |\n",
      "| \u001b[0m14       \u001b[0m | \u001b[0m-0.02635 \u001b[0m | \u001b[0m0.7168   \u001b[0m | \u001b[0m0.208    \u001b[0m | \u001b[0m0.7945   \u001b[0m | \u001b[0m791.7    \u001b[0m |\n",
      "| \u001b[95m15       \u001b[0m | \u001b[95m-0.02545 \u001b[0m | \u001b[95m0.4881   \u001b[0m | \u001b[95m0.7319   \u001b[0m | \u001b[95m0.1876   \u001b[0m | \u001b[95m797.4    \u001b[0m |\n"
     ]
    },
    {
     "name": "stderr",
     "output_type": "stream",
     "text": [
      "C:\\Users\\Cameron\\anaconda3\\lib\\site-packages\\sklearn\\linear_model\\_sag.py:350: ConvergenceWarning: The max_iter was reached which means the coef_ did not converge\n",
      "  warnings.warn(\n"
     ]
    },
    {
     "name": "stdout",
     "output_type": "stream",
     "text": [
      "| \u001b[0m16       \u001b[0m | \u001b[0m-0.02566 \u001b[0m | \u001b[0m0.9122   \u001b[0m | \u001b[0m0.1222   \u001b[0m | \u001b[0m0.606    \u001b[0m | \u001b[0m800.9    \u001b[0m |\n"
     ]
    },
    {
     "name": "stderr",
     "output_type": "stream",
     "text": [
      "C:\\Users\\Cameron\\anaconda3\\lib\\site-packages\\sklearn\\linear_model\\_sag.py:350: ConvergenceWarning: The max_iter was reached which means the coef_ did not converge\n",
      "  warnings.warn(\n"
     ]
    },
    {
     "name": "stdout",
     "output_type": "stream",
     "text": [
      "| \u001b[0m17       \u001b[0m | \u001b[0m-0.03045 \u001b[0m | \u001b[0m0.9139   \u001b[0m | \u001b[0m0.7215   \u001b[0m | \u001b[0m0.4148   \u001b[0m | \u001b[0m320.1    \u001b[0m |\n"
     ]
    },
    {
     "name": "stderr",
     "output_type": "stream",
     "text": [
      "C:\\Users\\Cameron\\anaconda3\\lib\\site-packages\\sklearn\\linear_model\\_sag.py:350: ConvergenceWarning: The max_iter was reached which means the coef_ did not converge\n",
      "  warnings.warn(\n"
     ]
    },
    {
     "name": "stdout",
     "output_type": "stream",
     "text": [
      "| \u001b[0m18       \u001b[0m | \u001b[0m-0.02671 \u001b[0m | \u001b[0m0.9909   \u001b[0m | \u001b[0m0.4648   \u001b[0m | \u001b[0m0.9301   \u001b[0m | \u001b[0m601.6    \u001b[0m |\n",
      "| \u001b[0m19       \u001b[0m | \u001b[0m-0.02649 \u001b[0m | \u001b[0m0.7546   \u001b[0m | \u001b[0m0.9063   \u001b[0m | \u001b[0m0.04899  \u001b[0m | \u001b[0m608.3    \u001b[0m |\n",
      "| \u001b[0m20       \u001b[0m | \u001b[0m-0.02922 \u001b[0m | \u001b[0m0.3397   \u001b[0m | \u001b[0m0.04567  \u001b[0m | \u001b[0m0.03312  \u001b[0m | \u001b[0m614.8    \u001b[0m |\n",
      "| \u001b[0m21       \u001b[0m | \u001b[0m-0.02876 \u001b[0m | \u001b[0m0.3342   \u001b[0m | \u001b[0m0.1735   \u001b[0m | \u001b[0m0.639    \u001b[0m | \u001b[0m594.9    \u001b[0m |\n",
      "| \u001b[0m22       \u001b[0m | \u001b[0m-0.03374 \u001b[0m | \u001b[0m0.04226  \u001b[0m | \u001b[0m0.01346  \u001b[0m | \u001b[0m0.5965   \u001b[0m | \u001b[0m544.5    \u001b[0m |\n",
      "| \u001b[0m23       \u001b[0m | \u001b[0m-0.03122 \u001b[0m | \u001b[0m0.1662   \u001b[0m | \u001b[0m0.4278   \u001b[0m | \u001b[0m0.6438   \u001b[0m | \u001b[0m258.0    \u001b[0m |\n",
      "| \u001b[0m24       \u001b[0m | \u001b[0m-0.03364 \u001b[0m | \u001b[0m0.3842   \u001b[0m | \u001b[0m0.6923   \u001b[0m | \u001b[0m0.743    \u001b[0m | \u001b[0m200.1    \u001b[0m |\n"
     ]
    },
    {
     "name": "stderr",
     "output_type": "stream",
     "text": [
      "C:\\Users\\Cameron\\anaconda3\\lib\\site-packages\\sklearn\\linear_model\\_sag.py:350: ConvergenceWarning: The max_iter was reached which means the coef_ did not converge\n",
      "  warnings.warn(\n",
      "C:\\Users\\Cameron\\anaconda3\\lib\\site-packages\\sklearn\\linear_model\\_sag.py:350: ConvergenceWarning: The max_iter was reached which means the coef_ did not converge\n",
      "  warnings.warn(\n"
     ]
    },
    {
     "name": "stdout",
     "output_type": "stream",
     "text": [
      "| \u001b[0m25       \u001b[0m | \u001b[0m-0.02563 \u001b[0m | \u001b[0m0.775    \u001b[0m | \u001b[0m0.8788   \u001b[0m | \u001b[0m0.9677   \u001b[0m | \u001b[0m711.2    \u001b[0m |\n"
     ]
    },
    {
     "name": "stderr",
     "output_type": "stream",
     "text": [
      "C:\\Users\\Cameron\\anaconda3\\lib\\site-packages\\sklearn\\linear_model\\_sag.py:350: ConvergenceWarning: The max_iter was reached which means the coef_ did not converge\n",
      "  warnings.warn(\n"
     ]
    },
    {
     "name": "stdout",
     "output_type": "stream",
     "text": [
      "| \u001b[95m26       \u001b[0m | \u001b[95m-0.02427 \u001b[0m | \u001b[95m0.8467   \u001b[0m | \u001b[95m0.5929   \u001b[0m | \u001b[95m0.4649   \u001b[0m | \u001b[95m718.2    \u001b[0m |\n",
      "| \u001b[0m27       \u001b[0m | \u001b[0m-0.02734 \u001b[0m | \u001b[0m0.6657   \u001b[0m | \u001b[0m0.6056   \u001b[0m | \u001b[0m0.7632   \u001b[0m | \u001b[0m725.0    \u001b[0m |\n",
      "| \u001b[0m28       \u001b[0m | \u001b[0m-0.02773 \u001b[0m | \u001b[0m0.2007   \u001b[0m | \u001b[0m0.5541   \u001b[0m | \u001b[0m0.1941   \u001b[0m | \u001b[0m702.7    \u001b[0m |\n"
     ]
    },
    {
     "name": "stderr",
     "output_type": "stream",
     "text": [
      "C:\\Users\\Cameron\\anaconda3\\lib\\site-packages\\sklearn\\linear_model\\_sag.py:350: ConvergenceWarning: The max_iter was reached which means the coef_ did not converge\n",
      "  warnings.warn(\n"
     ]
    },
    {
     "name": "stdout",
     "output_type": "stream",
     "text": [
      "| \u001b[0m29       \u001b[0m | \u001b[0m-0.02652 \u001b[0m | \u001b[0m0.9867   \u001b[0m | \u001b[0m0.1468   \u001b[0m | \u001b[0m0.5537   \u001b[0m | \u001b[0m688.6    \u001b[0m |\n"
     ]
    },
    {
     "name": "stderr",
     "output_type": "stream",
     "text": [
      "C:\\Users\\Cameron\\anaconda3\\lib\\site-packages\\sklearn\\linear_model\\_sag.py:350: ConvergenceWarning: The max_iter was reached which means the coef_ did not converge\n",
      "  warnings.warn(\n"
     ]
    },
    {
     "name": "stdout",
     "output_type": "stream",
     "text": [
      "| \u001b[0m30       \u001b[0m | \u001b[0m-0.0275  \u001b[0m | \u001b[0m0.8599   \u001b[0m | \u001b[0m0.6886   \u001b[0m | \u001b[0m0.206    \u001b[0m | \u001b[0m679.9    \u001b[0m |\n",
      "=========================================================================\n",
      "Final Result:  {'target': -0.02426994476519733, 'params': {'C_age_': 0.846731733264405, 'C_sex_': 0.5928550233981486, 'C_state_': 0.4648997159290397, 'num_components_': 718.1975943741382}}\n",
      "|   iter    |  target   |  C_age_   |  C_sex_   | C_state_  | num_co... |\n",
      "-------------------------------------------------------------------------\n",
      "| \u001b[0m1        \u001b[0m | \u001b[0m-0.03141 \u001b[0m | \u001b[0m0.5213   \u001b[0m | \u001b[0m0.327    \u001b[0m | \u001b[0m0.1765   \u001b[0m | \u001b[0m231.5    \u001b[0m |\n"
     ]
    },
    {
     "name": "stderr",
     "output_type": "stream",
     "text": [
      "C:\\Users\\Cameron\\anaconda3\\lib\\site-packages\\sklearn\\linear_model\\_sag.py:350: ConvergenceWarning: The max_iter was reached which means the coef_ did not converge\n",
      "  warnings.warn(\n"
     ]
    },
    {
     "name": "stdout",
     "output_type": "stream",
     "text": [
      "| \u001b[0m2        \u001b[0m | \u001b[0m-0.03332 \u001b[0m | \u001b[0m0.9323   \u001b[0m | \u001b[0m0.06829  \u001b[0m | \u001b[0m0.4413   \u001b[0m | \u001b[0m214.9    \u001b[0m |\n",
      "| \u001b[95m3        \u001b[0m | \u001b[95m-0.0302  \u001b[0m | \u001b[95m0.4966   \u001b[0m | \u001b[95m0.7043   \u001b[0m | \u001b[95m0.7742   \u001b[0m | \u001b[95m441.7    \u001b[0m |\n"
     ]
    },
    {
     "name": "stderr",
     "output_type": "stream",
     "text": [
      "C:\\Users\\Cameron\\anaconda3\\lib\\site-packages\\sklearn\\linear_model\\_sag.py:350: ConvergenceWarning: The max_iter was reached which means the coef_ did not converge\n",
      "  warnings.warn(\n"
     ]
    },
    {
     "name": "stdout",
     "output_type": "stream",
     "text": [
      "| \u001b[0m4        \u001b[0m | \u001b[0m-0.03081 \u001b[0m | \u001b[0m0.9206   \u001b[0m | \u001b[0m0.5488   \u001b[0m | \u001b[0m0.6903   \u001b[0m | \u001b[0m348.1    \u001b[0m |\n",
      "| \u001b[0m5        \u001b[0m | \u001b[0m-0.03029 \u001b[0m | \u001b[0m0.2518   \u001b[0m | \u001b[0m0.568    \u001b[0m | \u001b[0m0.2733   \u001b[0m | \u001b[0m341.4    \u001b[0m |\n",
      "| \u001b[95m6        \u001b[0m | \u001b[95m-0.0298  \u001b[0m | \u001b[95m0.5857   \u001b[0m | \u001b[95m0.1159   \u001b[0m | \u001b[95m0.3243   \u001b[0m | \u001b[95m312.9    \u001b[0m |\n",
      "| \u001b[0m7        \u001b[0m | \u001b[0m-0.03038 \u001b[0m | \u001b[0m0.4162   \u001b[0m | \u001b[0m0.9997   \u001b[0m | \u001b[0m0.1782   \u001b[0m | \u001b[0m276.7    \u001b[0m |\n",
      "| \u001b[95m8        \u001b[0m | \u001b[95m-0.02934 \u001b[0m | \u001b[95m0.1728   \u001b[0m | \u001b[95m0.08301  \u001b[0m | \u001b[95m0.4499   \u001b[0m | \u001b[95m481.3    \u001b[0m |\n"
     ]
    },
    {
     "name": "stderr",
     "output_type": "stream",
     "text": [
      "C:\\Users\\Cameron\\anaconda3\\lib\\site-packages\\sklearn\\linear_model\\_sag.py:350: ConvergenceWarning: The max_iter was reached which means the coef_ did not converge\n",
      "  warnings.warn(\n"
     ]
    },
    {
     "name": "stdout",
     "output_type": "stream",
     "text": [
      "| \u001b[95m9        \u001b[0m | \u001b[95m-0.0255  \u001b[0m | \u001b[95m0.6144   \u001b[0m | \u001b[95m0.7354   \u001b[0m | \u001b[95m0.9611   \u001b[0m | \u001b[95m688.4    \u001b[0m |\n"
     ]
    },
    {
     "name": "stderr",
     "output_type": "stream",
     "text": [
      "C:\\Users\\Cameron\\anaconda3\\lib\\site-packages\\sklearn\\linear_model\\_sag.py:350: ConvergenceWarning: The max_iter was reached which means the coef_ did not converge\n",
      "  warnings.warn(\n"
     ]
    },
    {
     "name": "stdout",
     "output_type": "stream",
     "text": [
      "| \u001b[0m10       \u001b[0m | \u001b[0m-0.02605 \u001b[0m | \u001b[0m0.9069   \u001b[0m | \u001b[0m0.5406   \u001b[0m | \u001b[0m0.1908   \u001b[0m | \u001b[0m641.1    \u001b[0m |\n",
      "| \u001b[0m11       \u001b[0m | \u001b[0m-0.02617 \u001b[0m | \u001b[0m0.5399   \u001b[0m | \u001b[0m0.866    \u001b[0m | \u001b[0m0.4791   \u001b[0m | \u001b[0m687.0    \u001b[0m |\n",
      "| \u001b[0m12       \u001b[0m | \u001b[0m-0.02632 \u001b[0m | \u001b[0m0.1904   \u001b[0m | \u001b[0m0.567    \u001b[0m | \u001b[0m0.4531   \u001b[0m | \u001b[0m703.2    \u001b[0m |\n",
      "| \u001b[0m13       \u001b[0m | \u001b[0m-0.02901 \u001b[0m | \u001b[0m0.1603   \u001b[0m | \u001b[0m0.2863   \u001b[0m | \u001b[0m0.05665  \u001b[0m | \u001b[0m621.3    \u001b[0m |\n",
      "| \u001b[95m14       \u001b[0m | \u001b[95m-0.02538 \u001b[0m | \u001b[95m0.2852   \u001b[0m | \u001b[95m0.2012   \u001b[0m | \u001b[95m0.7945   \u001b[0m | \u001b[95m658.7    \u001b[0m |\n"
     ]
    },
    {
     "name": "stderr",
     "output_type": "stream",
     "text": [
      "C:\\Users\\Cameron\\anaconda3\\lib\\site-packages\\sklearn\\linear_model\\_sag.py:350: ConvergenceWarning: The max_iter was reached which means the coef_ did not converge\n",
      "  warnings.warn(\n"
     ]
    },
    {
     "name": "stdout",
     "output_type": "stream",
     "text": [
      "| \u001b[0m15       \u001b[0m | \u001b[0m-0.02615 \u001b[0m | \u001b[0m0.9833   \u001b[0m | \u001b[0m0.08233  \u001b[0m | \u001b[0m0.8447   \u001b[0m | \u001b[0m734.2    \u001b[0m |\n"
     ]
    },
    {
     "name": "stderr",
     "output_type": "stream",
     "text": [
      "C:\\Users\\Cameron\\anaconda3\\lib\\site-packages\\sklearn\\linear_model\\_sag.py:350: ConvergenceWarning: The max_iter was reached which means the coef_ did not converge\n",
      "  warnings.warn(\n"
     ]
    },
    {
     "name": "stdout",
     "output_type": "stream",
     "text": [
      "| \u001b[0m16       \u001b[0m | \u001b[0m-0.02581 \u001b[0m | \u001b[0m0.7786   \u001b[0m | \u001b[0m0.8899   \u001b[0m | \u001b[0m0.68     \u001b[0m | \u001b[0m756.1    \u001b[0m |\n"
     ]
    },
    {
     "name": "stderr",
     "output_type": "stream",
     "text": [
      "C:\\Users\\Cameron\\anaconda3\\lib\\site-packages\\sklearn\\linear_model\\_sag.py:350: ConvergenceWarning: The max_iter was reached which means the coef_ did not converge\n",
      "  warnings.warn(\n"
     ]
    },
    {
     "name": "stdout",
     "output_type": "stream",
     "text": [
      "| \u001b[0m17       \u001b[0m | \u001b[0m-0.02558 \u001b[0m | \u001b[0m0.9738   \u001b[0m | \u001b[0m0.2039   \u001b[0m | \u001b[0m0.1693   \u001b[0m | \u001b[0m778.9    \u001b[0m |\n",
      "| \u001b[0m18       \u001b[0m | \u001b[0m-0.02616 \u001b[0m | \u001b[0m0.2805   \u001b[0m | \u001b[0m0.3277   \u001b[0m | \u001b[0m0.31     \u001b[0m | \u001b[0m800.9    \u001b[0m |\n",
      "| \u001b[0m19       \u001b[0m | \u001b[0m-0.02668 \u001b[0m | \u001b[0m0.5786   \u001b[0m | \u001b[0m0.6757   \u001b[0m | \u001b[0m0.1669   \u001b[0m | \u001b[0m550.9    \u001b[0m |\n"
     ]
    },
    {
     "name": "stderr",
     "output_type": "stream",
     "text": [
      "C:\\Users\\Cameron\\anaconda3\\lib\\site-packages\\sklearn\\linear_model\\_sag.py:350: ConvergenceWarning: The max_iter was reached which means the coef_ did not converge\n",
      "  warnings.warn(\n"
     ]
    },
    {
     "name": "stdout",
     "output_type": "stream",
     "text": [
      "| \u001b[0m20       \u001b[0m | \u001b[0m-0.02715 \u001b[0m | \u001b[0m0.7083   \u001b[0m | \u001b[0m0.08381  \u001b[0m | \u001b[0m0.9903   \u001b[0m | \u001b[0m577.7    \u001b[0m |\n"
     ]
    },
    {
     "name": "stderr",
     "output_type": "stream",
     "text": [
      "C:\\Users\\Cameron\\anaconda3\\lib\\site-packages\\sklearn\\linear_model\\_sag.py:350: ConvergenceWarning: The max_iter was reached which means the coef_ did not converge\n",
      "  warnings.warn(\n"
     ]
    },
    {
     "name": "stdout",
     "output_type": "stream",
     "text": [
      "| \u001b[0m21       \u001b[0m | \u001b[0m-0.02708 \u001b[0m | \u001b[0m0.5125   \u001b[0m | \u001b[0m0.7341   \u001b[0m | \u001b[0m0.9978   \u001b[0m | \u001b[0m523.9    \u001b[0m |\n",
      "| \u001b[0m22       \u001b[0m | \u001b[0m-0.0296  \u001b[0m | \u001b[0m0.1781   \u001b[0m | \u001b[0m0.4769   \u001b[0m | \u001b[0m0.05378  \u001b[0m | \u001b[0m396.0    \u001b[0m |\n",
      "| \u001b[0m23       \u001b[0m | \u001b[0m-0.03173 \u001b[0m | \u001b[0m0.01648  \u001b[0m | \u001b[0m0.7651   \u001b[0m | \u001b[0m0.2384   \u001b[0m | \u001b[0m597.8    \u001b[0m |\n"
     ]
    },
    {
     "name": "stderr",
     "output_type": "stream",
     "text": [
      "C:\\Users\\Cameron\\anaconda3\\lib\\site-packages\\sklearn\\linear_model\\_sag.py:350: ConvergenceWarning: The max_iter was reached which means the coef_ did not converge\n",
      "  warnings.warn(\n"
     ]
    },
    {
     "name": "stdout",
     "output_type": "stream",
     "text": [
      "| \u001b[0m24       \u001b[0m | \u001b[0m-0.02892 \u001b[0m | \u001b[0m0.9838   \u001b[0m | \u001b[0m0.07514  \u001b[0m | \u001b[0m0.06256  \u001b[0m | \u001b[0m504.2    \u001b[0m |\n",
      "| \u001b[0m25       \u001b[0m | \u001b[0m-0.02945 \u001b[0m | \u001b[0m0.5785   \u001b[0m | \u001b[0m0.0294   \u001b[0m | \u001b[0m0.9309   \u001b[0m | \u001b[0m373.6    \u001b[0m |\n"
     ]
    },
    {
     "name": "stderr",
     "output_type": "stream",
     "text": [
      "C:\\Users\\Cameron\\anaconda3\\lib\\site-packages\\sklearn\\linear_model\\_sag.py:350: ConvergenceWarning: The max_iter was reached which means the coef_ did not converge\n",
      "  warnings.warn(\n"
     ]
    },
    {
     "name": "stdout",
     "output_type": "stream",
     "text": [
      "| \u001b[0m26       \u001b[0m | \u001b[0m-0.02811 \u001b[0m | \u001b[0m1.0      \u001b[0m | \u001b[0m0.4577   \u001b[0m | \u001b[0m0.2963   \u001b[0m | \u001b[0m418.5    \u001b[0m |\n",
      "| \u001b[0m27       \u001b[0m | \u001b[0m-0.03348 \u001b[0m | \u001b[0m0.1823   \u001b[0m | \u001b[0m0.2426   \u001b[0m | \u001b[0m0.8679   \u001b[0m | \u001b[0m254.3    \u001b[0m |\n",
      "| \u001b[0m28       \u001b[0m | \u001b[0m-0.02782 \u001b[0m | \u001b[0m0.579    \u001b[0m | \u001b[0m0.932    \u001b[0m | \u001b[0m0.7797   \u001b[0m | \u001b[0m462.0    \u001b[0m |\n"
     ]
    },
    {
     "name": "stderr",
     "output_type": "stream",
     "text": [
      "C:\\Users\\Cameron\\anaconda3\\lib\\site-packages\\sklearn\\linear_model\\_sag.py:350: ConvergenceWarning: The max_iter was reached which means the coef_ did not converge\n",
      "  warnings.warn(\n"
     ]
    },
    {
     "name": "stdout",
     "output_type": "stream",
     "text": [
      "| \u001b[0m29       \u001b[0m | \u001b[0m-0.02667 \u001b[0m | \u001b[0m0.4889   \u001b[0m | \u001b[0m0.5249   \u001b[0m | \u001b[0m0.9896   \u001b[0m | \u001b[0m719.4    \u001b[0m |\n",
      "| \u001b[0m30       \u001b[0m | \u001b[0m-0.03103 \u001b[0m | \u001b[0m0.5838   \u001b[0m | \u001b[0m0.1876   \u001b[0m | \u001b[0m0.9357   \u001b[0m | \u001b[0m294.6    \u001b[0m |\n",
      "=========================================================================\n",
      "Final Result:  {'target': -0.025377838087033224, 'params': {'C_age_': 0.28519611609837636, 'C_sex_': 0.20123205064640165, 'C_state_': 0.7944503901085588, 'num_components_': 658.6829803614407}}\n",
      "|   iter    |  target   |  C_age_   |  C_sex_   | C_state_  | num_co... |\n",
      "-------------------------------------------------------------------------\n"
     ]
    },
    {
     "name": "stderr",
     "output_type": "stream",
     "text": [
      "C:\\Users\\Cameron\\anaconda3\\lib\\site-packages\\sklearn\\linear_model\\_sag.py:350: ConvergenceWarning: The max_iter was reached which means the coef_ did not converge\n",
      "  warnings.warn(\n"
     ]
    },
    {
     "name": "stdout",
     "output_type": "stream",
     "text": [
      "| \u001b[0m1        \u001b[0m | \u001b[0m-0.02738 \u001b[0m | \u001b[0m0.9742   \u001b[0m | \u001b[0m0.9885   \u001b[0m | \u001b[0m0.4025   \u001b[0m | \u001b[0m547.1    \u001b[0m |\n",
      "| \u001b[0m2        \u001b[0m | \u001b[0m-0.02976 \u001b[0m | \u001b[0m0.5623   \u001b[0m | \u001b[0m0.3108   \u001b[0m | \u001b[0m0.6339   \u001b[0m | \u001b[0m280.9    \u001b[0m |\n",
      "| \u001b[0m3        \u001b[0m | \u001b[0m-0.02825 \u001b[0m | \u001b[0m0.5383   \u001b[0m | \u001b[0m0.7421   \u001b[0m | \u001b[0m0.9112   \u001b[0m | \u001b[0m416.8    \u001b[0m |\n",
      "| \u001b[0m4        \u001b[0m | \u001b[0m-0.03231 \u001b[0m | \u001b[0m0.05371  \u001b[0m | \u001b[0m0.809    \u001b[0m | \u001b[0m0.6584   \u001b[0m | \u001b[0m560.9    \u001b[0m |\n",
      "| \u001b[95m5        \u001b[0m | \u001b[95m-0.02694 \u001b[0m | \u001b[95m0.5891   \u001b[0m | \u001b[95m0.1727   \u001b[0m | \u001b[95m0.8162   \u001b[0m | \u001b[95m541.5    \u001b[0m |\n"
     ]
    },
    {
     "name": "stderr",
     "output_type": "stream",
     "text": [
      "C:\\Users\\Cameron\\anaconda3\\lib\\site-packages\\sklearn\\linear_model\\_sag.py:350: ConvergenceWarning: The max_iter was reached which means the coef_ did not converge\n",
      "  warnings.warn(\n"
     ]
    },
    {
     "name": "stdout",
     "output_type": "stream",
     "text": [
      "| \u001b[0m6        \u001b[0m | \u001b[0m-0.02742 \u001b[0m | \u001b[0m0.9691   \u001b[0m | \u001b[0m0.7184   \u001b[0m | \u001b[0m0.3594   \u001b[0m | \u001b[0m525.4    \u001b[0m |\n",
      "| \u001b[0m7        \u001b[0m | \u001b[0m-0.02802 \u001b[0m | \u001b[0m0.2317   \u001b[0m | \u001b[0m0.2      \u001b[0m | \u001b[0m0.7628   \u001b[0m | \u001b[0m506.9    \u001b[0m |\n",
      "| \u001b[0m8        \u001b[0m | \u001b[0m-0.02749 \u001b[0m | \u001b[0m0.6584   \u001b[0m | \u001b[0m0.3886   \u001b[0m | \u001b[0m0.1737   \u001b[0m | \u001b[0m485.2    \u001b[0m |\n",
      "| \u001b[0m9        \u001b[0m | \u001b[0m-0.02738 \u001b[0m | \u001b[0m0.5072   \u001b[0m | \u001b[0m0.4496   \u001b[0m | \u001b[0m0.7226   \u001b[0m | \u001b[0m467.4    \u001b[0m |\n",
      "| \u001b[0m10       \u001b[0m | \u001b[0m-0.0287  \u001b[0m | \u001b[0m0.4009   \u001b[0m | \u001b[0m0.1769   \u001b[0m | \u001b[0m0.07314  \u001b[0m | \u001b[0m449.3    \u001b[0m |\n",
      "| \u001b[0m11       \u001b[0m | \u001b[0m-0.03033 \u001b[0m | \u001b[0m0.5066   \u001b[0m | \u001b[0m0.1236   \u001b[0m | \u001b[0m0.453    \u001b[0m | \u001b[0m390.8    \u001b[0m |\n",
      "| \u001b[0m12       \u001b[0m | \u001b[0m-0.02723 \u001b[0m | \u001b[0m0.4649   \u001b[0m | \u001b[0m0.5064   \u001b[0m | \u001b[0m0.484    \u001b[0m | \u001b[0m695.3    \u001b[0m |\n"
     ]
    },
    {
     "name": "stderr",
     "output_type": "stream",
     "text": [
      "C:\\Users\\Cameron\\anaconda3\\lib\\site-packages\\sklearn\\linear_model\\_sag.py:350: ConvergenceWarning: The max_iter was reached which means the coef_ did not converge\n",
      "  warnings.warn(\n"
     ]
    },
    {
     "name": "stdout",
     "output_type": "stream",
     "text": [
      "| \u001b[95m13       \u001b[0m | \u001b[95m-0.02521 \u001b[0m | \u001b[95m0.7983   \u001b[0m | \u001b[95m0.4247   \u001b[0m | \u001b[95m0.3527   \u001b[0m | \u001b[95m679.0    \u001b[0m |\n",
      "| \u001b[0m14       \u001b[0m | \u001b[0m-0.02958 \u001b[0m | \u001b[0m0.07183  \u001b[0m | \u001b[0m0.5285   \u001b[0m | \u001b[0m0.852    \u001b[0m | \u001b[0m664.2    \u001b[0m |\n",
      "| \u001b[0m15       \u001b[0m | \u001b[0m-0.02576 \u001b[0m | \u001b[0m0.734    \u001b[0m | \u001b[0m0.2449   \u001b[0m | \u001b[0m0.2669   \u001b[0m | \u001b[0m710.8    \u001b[0m |\n",
      "| \u001b[0m16       \u001b[0m | \u001b[0m-0.02877 \u001b[0m | \u001b[0m0.1022   \u001b[0m | \u001b[0m0.9752   \u001b[0m | \u001b[0m0.6627   \u001b[0m | \u001b[0m722.6    \u001b[0m |\n",
      "| \u001b[0m17       \u001b[0m | \u001b[0m-0.02826 \u001b[0m | \u001b[0m0.1149   \u001b[0m | \u001b[0m0.4534   \u001b[0m | \u001b[0m0.3123   \u001b[0m | \u001b[0m686.4    \u001b[0m |\n"
     ]
    },
    {
     "name": "stderr",
     "output_type": "stream",
     "text": [
      "C:\\Users\\Cameron\\anaconda3\\lib\\site-packages\\sklearn\\linear_model\\_sag.py:350: ConvergenceWarning: The max_iter was reached which means the coef_ did not converge\n",
      "  warnings.warn(\n"
     ]
    },
    {
     "name": "stdout",
     "output_type": "stream",
     "text": [
      "| \u001b[0m18       \u001b[0m | \u001b[0m-0.02728 \u001b[0m | \u001b[0m0.9494   \u001b[0m | \u001b[0m0.4607   \u001b[0m | \u001b[0m0.08863  \u001b[0m | \u001b[0m673.5    \u001b[0m |\n"
     ]
    },
    {
     "name": "stderr",
     "output_type": "stream",
     "text": [
      "C:\\Users\\Cameron\\anaconda3\\lib\\site-packages\\sklearn\\linear_model\\_sag.py:350: ConvergenceWarning: The max_iter was reached which means the coef_ did not converge\n",
      "  warnings.warn(\n"
     ]
    },
    {
     "name": "stdout",
     "output_type": "stream",
     "text": [
      "| \u001b[0m19       \u001b[0m | \u001b[0m-0.02694 \u001b[0m | \u001b[0m0.6019   \u001b[0m | \u001b[0m0.9263   \u001b[0m | \u001b[0m0.9797   \u001b[0m | \u001b[0m704.0    \u001b[0m |\n"
     ]
    },
    {
     "name": "stderr",
     "output_type": "stream",
     "text": [
      "C:\\Users\\Cameron\\anaconda3\\lib\\site-packages\\sklearn\\linear_model\\_sag.py:350: ConvergenceWarning: The max_iter was reached which means the coef_ did not converge\n",
      "  warnings.warn(\n"
     ]
    },
    {
     "name": "stdout",
     "output_type": "stream",
     "text": [
      "| \u001b[0m20       \u001b[0m | \u001b[0m-0.02603 \u001b[0m | \u001b[0m0.9395   \u001b[0m | \u001b[0m0.7242   \u001b[0m | \u001b[0m0.4359   \u001b[0m | \u001b[0m800.2    \u001b[0m |\n",
      "| \u001b[0m21       \u001b[0m | \u001b[0m-0.0267  \u001b[0m | \u001b[0m0.3017   \u001b[0m | \u001b[0m0.4179   \u001b[0m | \u001b[0m0.5999   \u001b[0m | \u001b[0m791.6    \u001b[0m |\n",
      "| \u001b[0m22       \u001b[0m | \u001b[0m-0.0274  \u001b[0m | \u001b[0m0.5045   \u001b[0m | \u001b[0m0.7564   \u001b[0m | \u001b[0m0.6188   \u001b[0m | \u001b[0m780.0    \u001b[0m |\n",
      "| \u001b[0m23       \u001b[0m | \u001b[0m-0.02684 \u001b[0m | \u001b[0m0.7089   \u001b[0m | \u001b[0m0.1234   \u001b[0m | \u001b[0m0.1766   \u001b[0m | \u001b[0m766.3    \u001b[0m |\n"
     ]
    },
    {
     "name": "stderr",
     "output_type": "stream",
     "text": [
      "C:\\Users\\Cameron\\anaconda3\\lib\\site-packages\\sklearn\\linear_model\\_sag.py:350: ConvergenceWarning: The max_iter was reached which means the coef_ did not converge\n",
      "  warnings.warn(\n"
     ]
    },
    {
     "name": "stdout",
     "output_type": "stream",
     "text": [
      "| \u001b[0m24       \u001b[0m | \u001b[0m-0.02603 \u001b[0m | \u001b[0m0.9324   \u001b[0m | \u001b[0m0.7591   \u001b[0m | \u001b[0m0.9586   \u001b[0m | \u001b[0m755.3    \u001b[0m |\n"
     ]
    },
    {
     "name": "stderr",
     "output_type": "stream",
     "text": [
      "C:\\Users\\Cameron\\anaconda3\\lib\\site-packages\\sklearn\\linear_model\\_sag.py:350: ConvergenceWarning: The max_iter was reached which means the coef_ did not converge\n",
      "  warnings.warn(\n"
     ]
    },
    {
     "name": "stdout",
     "output_type": "stream",
     "text": [
      "| \u001b[0m25       \u001b[0m | \u001b[0m-0.02785 \u001b[0m | \u001b[0m0.9581   \u001b[0m | \u001b[0m0.02371  \u001b[0m | \u001b[0m0.3967   \u001b[0m | \u001b[0m745.8    \u001b[0m |\n"
     ]
    },
    {
     "name": "stderr",
     "output_type": "stream",
     "text": [
      "C:\\Users\\Cameron\\anaconda3\\lib\\site-packages\\sklearn\\linear_model\\_sag.py:350: ConvergenceWarning: The max_iter was reached which means the coef_ did not converge\n",
      "  warnings.warn(\n"
     ]
    },
    {
     "name": "stdout",
     "output_type": "stream",
     "text": [
      "| \u001b[0m26       \u001b[0m | \u001b[0m-0.03481 \u001b[0m | \u001b[0m0.759    \u001b[0m | \u001b[0m0.1588   \u001b[0m | \u001b[0m0.4752   \u001b[0m | \u001b[0m203.1    \u001b[0m |\n",
      "| \u001b[0m27       \u001b[0m | \u001b[0m-0.03128 \u001b[0m | \u001b[0m0.1555   \u001b[0m | \u001b[0m0.9937   \u001b[0m | \u001b[0m0.1034   \u001b[0m | \u001b[0m335.5    \u001b[0m |\n"
     ]
    },
    {
     "name": "stderr",
     "output_type": "stream",
     "text": [
      "C:\\Users\\Cameron\\anaconda3\\lib\\site-packages\\sklearn\\linear_model\\_sag.py:350: ConvergenceWarning: The max_iter was reached which means the coef_ did not converge\n",
      "  warnings.warn(\n"
     ]
    },
    {
     "name": "stdout",
     "output_type": "stream",
     "text": [
      "| \u001b[0m28       \u001b[0m | \u001b[0m-0.02659 \u001b[0m | \u001b[0m0.8754   \u001b[0m | \u001b[0m0.7101   \u001b[0m | \u001b[0m0.5504   \u001b[0m | \u001b[0m614.6    \u001b[0m |\n",
      "| \u001b[0m29       \u001b[0m | \u001b[0m-0.02757 \u001b[0m | \u001b[0m0.4424   \u001b[0m | \u001b[0m0.1321   \u001b[0m | \u001b[0m0.568    \u001b[0m | \u001b[0m599.9    \u001b[0m |\n",
      "| \u001b[0m30       \u001b[0m | \u001b[0m-0.02764 \u001b[0m | \u001b[0m0.599    \u001b[0m | \u001b[0m0.2402   \u001b[0m | \u001b[0m0.7694   \u001b[0m | \u001b[0m629.3    \u001b[0m |\n",
      "=========================================================================\n",
      "Final Result:  {'target': -0.025207239220114874, 'params': {'C_age_': 0.7982849482882917, 'C_sex_': 0.4247362431202488, 'C_state_': 0.35265743656779275, 'num_components_': 679.0243076063775}}\n",
      "|   iter    |  target   |  C_age_   |  C_sex_   | C_state_  | num_co... |\n",
      "-------------------------------------------------------------------------\n"
     ]
    },
    {
     "name": "stderr",
     "output_type": "stream",
     "text": [
      "C:\\Users\\Cameron\\anaconda3\\lib\\site-packages\\sklearn\\linear_model\\_sag.py:350: ConvergenceWarning: The max_iter was reached which means the coef_ did not converge\n",
      "  warnings.warn(\n"
     ]
    },
    {
     "name": "stdout",
     "output_type": "stream",
     "text": [
      "| \u001b[0m1        \u001b[0m | \u001b[0m-0.03159 \u001b[0m | \u001b[0m0.8673   \u001b[0m | \u001b[0m0.314    \u001b[0m | \u001b[0m0.8171   \u001b[0m | \u001b[0m253.5    \u001b[0m |\n"
     ]
    },
    {
     "ename": "KeyboardInterrupt",
     "evalue": "",
     "output_type": "error",
     "traceback": [
      "\u001b[1;31m---------------------------------------------------------------------------\u001b[0m",
      "\u001b[1;31mKeyboardInterrupt\u001b[0m                         Traceback (most recent call last)",
      "\u001b[1;32m~\\AppData\\Local\\Temp\\ipykernel_8724\\2899497479.py\u001b[0m in \u001b[0;36m<module>\u001b[1;34m\u001b[0m\n\u001b[1;32m----> 1\u001b[1;33m \u001b[0moptimization_results\u001b[0m \u001b[1;33m=\u001b[0m \u001b[1;33m[\u001b[0m\u001b[0moptimize_models_mn\u001b[0m\u001b[1;33m(\u001b[0m\u001b[0mtrain_data\u001b[0m\u001b[1;33m=\u001b[0m\u001b[0mtrain_data\u001b[0m\u001b[1;33m,\u001b[0m \u001b[0mnumber_synthetic_datasets\u001b[0m\u001b[1;33m=\u001b[0m\u001b[0mnsd\u001b[0m\u001b[1;33m,\u001b[0m \u001b[0mnull_accuracy\u001b[0m\u001b[1;33m=\u001b[0m\u001b[0mnull_accuracy\u001b[0m\u001b[1;33m,\u001b[0m \u001b[0mnumber_gmm_initializations\u001b[0m\u001b[1;33m=\u001b[0m\u001b[0mngi\u001b[0m\u001b[1;33m,\u001b[0m \u001b[0mrandom_state\u001b[0m\u001b[1;33m=\u001b[0m\u001b[0mr\u001b[0m\u001b[1;33m)\u001b[0m \u001b[1;32mfor\u001b[0m \u001b[0mr\u001b[0m \u001b[1;32min\u001b[0m \u001b[0mrandom_states\u001b[0m\u001b[1;33m]\u001b[0m\u001b[1;33m\u001b[0m\u001b[1;33m\u001b[0m\u001b[0m\n\u001b[0m",
      "\u001b[1;32m~\\AppData\\Local\\Temp\\ipykernel_8724\\2899497479.py\u001b[0m in \u001b[0;36m<listcomp>\u001b[1;34m(.0)\u001b[0m\n\u001b[1;32m----> 1\u001b[1;33m \u001b[0moptimization_results\u001b[0m \u001b[1;33m=\u001b[0m \u001b[1;33m[\u001b[0m\u001b[0moptimize_models_mn\u001b[0m\u001b[1;33m(\u001b[0m\u001b[0mtrain_data\u001b[0m\u001b[1;33m=\u001b[0m\u001b[0mtrain_data\u001b[0m\u001b[1;33m,\u001b[0m \u001b[0mnumber_synthetic_datasets\u001b[0m\u001b[1;33m=\u001b[0m\u001b[0mnsd\u001b[0m\u001b[1;33m,\u001b[0m \u001b[0mnull_accuracy\u001b[0m\u001b[1;33m=\u001b[0m\u001b[0mnull_accuracy\u001b[0m\u001b[1;33m,\u001b[0m \u001b[0mnumber_gmm_initializations\u001b[0m\u001b[1;33m=\u001b[0m\u001b[0mngi\u001b[0m\u001b[1;33m,\u001b[0m \u001b[0mrandom_state\u001b[0m\u001b[1;33m=\u001b[0m\u001b[0mr\u001b[0m\u001b[1;33m)\u001b[0m \u001b[1;32mfor\u001b[0m \u001b[0mr\u001b[0m \u001b[1;32min\u001b[0m \u001b[0mrandom_states\u001b[0m\u001b[1;33m]\u001b[0m\u001b[1;33m\u001b[0m\u001b[1;33m\u001b[0m\u001b[0m\n\u001b[0m",
      "\u001b[1;32m~\\AppData\\Local\\Temp\\ipykernel_8724\\340631115.py\u001b[0m in \u001b[0;36moptimize_models_mn\u001b[1;34m(train_data, number_synthetic_datasets, number_gmm_initializations, null_accuracy, random_state)\u001b[0m\n\u001b[0;32m     29\u001b[0m \u001b[1;33m\u001b[0m\u001b[0m\n\u001b[0;32m     30\u001b[0m     \u001b[0mutility\u001b[0m \u001b[1;33m=\u001b[0m \u001b[0mUtilityFunction\u001b[0m\u001b[1;33m(\u001b[0m\u001b[0mkind\u001b[0m\u001b[1;33m=\u001b[0m\u001b[1;34m\"ei\"\u001b[0m\u001b[1;33m,\u001b[0m \u001b[0mxi\u001b[0m\u001b[1;33m=\u001b[0m\u001b[1;36m1e-02\u001b[0m\u001b[1;33m)\u001b[0m\u001b[1;33m\u001b[0m\u001b[1;33m\u001b[0m\u001b[0m\n\u001b[1;32m---> 31\u001b[1;33m     \u001b[0moptimizer\u001b[0m\u001b[1;33m.\u001b[0m\u001b[0mmaximize\u001b[0m\u001b[1;33m(\u001b[0m\u001b[0macquisition_function\u001b[0m\u001b[1;33m=\u001b[0m\u001b[0mutility\u001b[0m\u001b[1;33m,\u001b[0m \u001b[0minit_points\u001b[0m\u001b[1;33m=\u001b[0m\u001b[1;36m5\u001b[0m\u001b[1;33m,\u001b[0m \u001b[0mn_iter\u001b[0m\u001b[1;33m=\u001b[0m\u001b[1;36m25\u001b[0m\u001b[1;33m)\u001b[0m\u001b[1;33m\u001b[0m\u001b[1;33m\u001b[0m\u001b[0m\n\u001b[0m\u001b[0;32m     32\u001b[0m     \u001b[0mprint\u001b[0m\u001b[1;33m(\u001b[0m\u001b[1;34m\"Final Result: \"\u001b[0m\u001b[1;33m,\u001b[0m \u001b[0moptimizer\u001b[0m\u001b[1;33m.\u001b[0m\u001b[0mmax\u001b[0m\u001b[1;33m)\u001b[0m\u001b[1;33m\u001b[0m\u001b[1;33m\u001b[0m\u001b[0m\n\u001b[0;32m     33\u001b[0m     \u001b[1;32mreturn\u001b[0m \u001b[0moptimizer\u001b[0m\u001b[1;33m.\u001b[0m\u001b[0mmax\u001b[0m\u001b[1;33m,\u001b[0m \u001b[0moptimizer\u001b[0m\u001b[1;33m\u001b[0m\u001b[1;33m\u001b[0m\u001b[0m\n",
      "\u001b[1;32m~\\anaconda3\\lib\\site-packages\\bayes_opt\\bayesian_optimization.py\u001b[0m in \u001b[0;36mmaximize\u001b[1;34m(self, init_points, n_iter, acquisition_function, acq, kappa, kappa_decay, kappa_decay_delay, xi, **gp_params)\u001b[0m\n\u001b[0;32m    309\u001b[0m                 \u001b[0mx_probe\u001b[0m \u001b[1;33m=\u001b[0m \u001b[0mself\u001b[0m\u001b[1;33m.\u001b[0m\u001b[0msuggest\u001b[0m\u001b[1;33m(\u001b[0m\u001b[0mutil\u001b[0m\u001b[1;33m)\u001b[0m\u001b[1;33m\u001b[0m\u001b[1;33m\u001b[0m\u001b[0m\n\u001b[0;32m    310\u001b[0m                 \u001b[0miteration\u001b[0m \u001b[1;33m+=\u001b[0m \u001b[1;36m1\u001b[0m\u001b[1;33m\u001b[0m\u001b[1;33m\u001b[0m\u001b[0m\n\u001b[1;32m--> 311\u001b[1;33m             \u001b[0mself\u001b[0m\u001b[1;33m.\u001b[0m\u001b[0mprobe\u001b[0m\u001b[1;33m(\u001b[0m\u001b[0mx_probe\u001b[0m\u001b[1;33m,\u001b[0m \u001b[0mlazy\u001b[0m\u001b[1;33m=\u001b[0m\u001b[1;32mFalse\u001b[0m\u001b[1;33m)\u001b[0m\u001b[1;33m\u001b[0m\u001b[1;33m\u001b[0m\u001b[0m\n\u001b[0m\u001b[0;32m    312\u001b[0m \u001b[1;33m\u001b[0m\u001b[0m\n\u001b[0;32m    313\u001b[0m             \u001b[1;32mif\u001b[0m \u001b[0mself\u001b[0m\u001b[1;33m.\u001b[0m\u001b[0m_bounds_transformer\u001b[0m \u001b[1;32mand\u001b[0m \u001b[0miteration\u001b[0m \u001b[1;33m>\u001b[0m \u001b[1;36m0\u001b[0m\u001b[1;33m:\u001b[0m\u001b[1;33m\u001b[0m\u001b[1;33m\u001b[0m\u001b[0m\n",
      "\u001b[1;32m~\\anaconda3\\lib\\site-packages\\bayes_opt\\bayesian_optimization.py\u001b[0m in \u001b[0;36mprobe\u001b[1;34m(self, params, lazy)\u001b[0m\n\u001b[0;32m    206\u001b[0m             \u001b[0mself\u001b[0m\u001b[1;33m.\u001b[0m\u001b[0m_queue\u001b[0m\u001b[1;33m.\u001b[0m\u001b[0madd\u001b[0m\u001b[1;33m(\u001b[0m\u001b[0mparams\u001b[0m\u001b[1;33m)\u001b[0m\u001b[1;33m\u001b[0m\u001b[1;33m\u001b[0m\u001b[0m\n\u001b[0;32m    207\u001b[0m         \u001b[1;32melse\u001b[0m\u001b[1;33m:\u001b[0m\u001b[1;33m\u001b[0m\u001b[1;33m\u001b[0m\u001b[0m\n\u001b[1;32m--> 208\u001b[1;33m             \u001b[0mself\u001b[0m\u001b[1;33m.\u001b[0m\u001b[0m_space\u001b[0m\u001b[1;33m.\u001b[0m\u001b[0mprobe\u001b[0m\u001b[1;33m(\u001b[0m\u001b[0mparams\u001b[0m\u001b[1;33m)\u001b[0m\u001b[1;33m\u001b[0m\u001b[1;33m\u001b[0m\u001b[0m\n\u001b[0m\u001b[0;32m    209\u001b[0m             \u001b[0mself\u001b[0m\u001b[1;33m.\u001b[0m\u001b[0mdispatch\u001b[0m\u001b[1;33m(\u001b[0m\u001b[0mEvents\u001b[0m\u001b[1;33m.\u001b[0m\u001b[0mOPTIMIZATION_STEP\u001b[0m\u001b[1;33m)\u001b[0m\u001b[1;33m\u001b[0m\u001b[1;33m\u001b[0m\u001b[0m\n\u001b[0;32m    210\u001b[0m \u001b[1;33m\u001b[0m\u001b[0m\n",
      "\u001b[1;32m~\\anaconda3\\lib\\site-packages\\bayes_opt\\target_space.py\u001b[0m in \u001b[0;36mprobe\u001b[1;34m(self, params)\u001b[0m\n\u001b[0;32m    234\u001b[0m         \u001b[0mx\u001b[0m \u001b[1;33m=\u001b[0m \u001b[0mself\u001b[0m\u001b[1;33m.\u001b[0m\u001b[0m_as_array\u001b[0m\u001b[1;33m(\u001b[0m\u001b[0mparams\u001b[0m\u001b[1;33m)\u001b[0m\u001b[1;33m\u001b[0m\u001b[1;33m\u001b[0m\u001b[0m\n\u001b[0;32m    235\u001b[0m         \u001b[0mparams\u001b[0m \u001b[1;33m=\u001b[0m \u001b[0mdict\u001b[0m\u001b[1;33m(\u001b[0m\u001b[0mzip\u001b[0m\u001b[1;33m(\u001b[0m\u001b[0mself\u001b[0m\u001b[1;33m.\u001b[0m\u001b[0m_keys\u001b[0m\u001b[1;33m,\u001b[0m \u001b[0mx\u001b[0m\u001b[1;33m)\u001b[0m\u001b[1;33m)\u001b[0m\u001b[1;33m\u001b[0m\u001b[1;33m\u001b[0m\u001b[0m\n\u001b[1;32m--> 236\u001b[1;33m         \u001b[0mtarget\u001b[0m \u001b[1;33m=\u001b[0m \u001b[0mself\u001b[0m\u001b[1;33m.\u001b[0m\u001b[0mtarget_func\u001b[0m\u001b[1;33m(\u001b[0m\u001b[1;33m**\u001b[0m\u001b[0mparams\u001b[0m\u001b[1;33m)\u001b[0m\u001b[1;33m\u001b[0m\u001b[1;33m\u001b[0m\u001b[0m\n\u001b[0m\u001b[0;32m    237\u001b[0m \u001b[1;33m\u001b[0m\u001b[0m\n\u001b[0;32m    238\u001b[0m         \u001b[1;32mif\u001b[0m \u001b[0mself\u001b[0m\u001b[1;33m.\u001b[0m\u001b[0m_constraint\u001b[0m \u001b[1;32mis\u001b[0m \u001b[1;32mNone\u001b[0m\u001b[1;33m:\u001b[0m\u001b[1;33m\u001b[0m\u001b[1;33m\u001b[0m\u001b[0m\n",
      "\u001b[1;32m~\\AppData\\Local\\Temp\\ipykernel_8724\\340631115.py\u001b[0m in \u001b[0;36mevaluate_models\u001b[1;34m(num_components_, C_sex_, C_age_, C_state_)\u001b[0m\n\u001b[0;32m      7\u001b[0m     \u001b[1;32mdef\u001b[0m \u001b[0mevaluate_models\u001b[0m\u001b[1;33m(\u001b[0m\u001b[0mnum_components_\u001b[0m\u001b[1;33m,\u001b[0m \u001b[0mC_sex_\u001b[0m\u001b[1;33m,\u001b[0m \u001b[0mC_age_\u001b[0m\u001b[1;33m,\u001b[0m \u001b[0mC_state_\u001b[0m\u001b[1;33m)\u001b[0m\u001b[1;33m:\u001b[0m\u001b[1;33m\u001b[0m\u001b[1;33m\u001b[0m\u001b[0m\n\u001b[0;32m      8\u001b[0m \u001b[1;33m\u001b[0m\u001b[0m\n\u001b[1;32m----> 9\u001b[1;33m         accuracies, _, _ = train_models_mn(train_data=train_data,\n\u001b[0m\u001b[0;32m     10\u001b[0m                                             \u001b[0mnumber_synthetic_datasets\u001b[0m\u001b[1;33m=\u001b[0m\u001b[0mnumber_synthetic_datasets\u001b[0m\u001b[1;33m,\u001b[0m\u001b[1;33m\u001b[0m\u001b[1;33m\u001b[0m\u001b[0m\n\u001b[0;32m     11\u001b[0m                                             \u001b[0mnull_accuracy\u001b[0m\u001b[1;33m=\u001b[0m\u001b[0mnull_accuracy\u001b[0m\u001b[1;33m,\u001b[0m\u001b[1;33m\u001b[0m\u001b[1;33m\u001b[0m\u001b[0m\n",
      "\u001b[1;32m~\\AppData\\Local\\Temp\\ipykernel_8724\\3789229515.py\u001b[0m in \u001b[0;36mtrain_models_mn\u001b[1;34m(train_data, number_synthetic_datasets, null_accuracy, number_gmm_initializations, num_components_, C_sex_, C_age_, C_state_)\u001b[0m\n\u001b[0;32m     16\u001b[0m \u001b[1;33m\u001b[0m\u001b[0m\n\u001b[0;32m     17\u001b[0m     \u001b[1;31m# fit GMM model\u001b[0m\u001b[1;33m\u001b[0m\u001b[1;33m\u001b[0m\u001b[0m\n\u001b[1;32m---> 18\u001b[1;33m     \u001b[0mGMM\u001b[0m \u001b[1;33m=\u001b[0m \u001b[0mGaussianMixture\u001b[0m\u001b[1;33m(\u001b[0m\u001b[0mnum_components_\u001b[0m\u001b[1;33m,\u001b[0m \u001b[0mn_init\u001b[0m\u001b[1;33m=\u001b[0m\u001b[0mnumber_gmm_initializations\u001b[0m\u001b[1;33m,\u001b[0m \u001b[0minit_params\u001b[0m\u001b[1;33m=\u001b[0m\u001b[1;34m\"k-means++\"\u001b[0m\u001b[1;33m,\u001b[0m \u001b[0mrandom_state\u001b[0m\u001b[1;33m=\u001b[0m\u001b[0mrng\u001b[0m\u001b[1;33m)\u001b[0m\u001b[1;33m.\u001b[0m\u001b[0mfit\u001b[0m\u001b[1;33m(\u001b[0m\u001b[0mtrain_data\u001b[0m\u001b[1;33m.\u001b[0m\u001b[0mloc\u001b[0m\u001b[1;33m[\u001b[0m\u001b[1;33m:\u001b[0m\u001b[1;33m,\u001b[0m\u001b[1;33m[\u001b[0m\u001b[1;34m\"latitude\"\u001b[0m\u001b[1;33m,\u001b[0m \u001b[1;34m\"longitude\"\u001b[0m\u001b[1;33m]\u001b[0m\u001b[1;33m]\u001b[0m\u001b[1;33m)\u001b[0m\u001b[1;33m\u001b[0m\u001b[1;33m\u001b[0m\u001b[0m\n\u001b[0m\u001b[0;32m     19\u001b[0m \u001b[1;33m\u001b[0m\u001b[0m\n\u001b[0;32m     20\u001b[0m     \u001b[1;31m# list for synthetic datasets\u001b[0m\u001b[1;33m\u001b[0m\u001b[1;33m\u001b[0m\u001b[0m\n",
      "\u001b[1;32m~\\anaconda3\\lib\\site-packages\\sklearn\\mixture\\_base.py\u001b[0m in \u001b[0;36mfit\u001b[1;34m(self, X, y)\u001b[0m\n\u001b[0;32m    184\u001b[0m         \"\"\"\n\u001b[0;32m    185\u001b[0m         \u001b[1;31m# parameters are validated in fit_predict\u001b[0m\u001b[1;33m\u001b[0m\u001b[1;33m\u001b[0m\u001b[0m\n\u001b[1;32m--> 186\u001b[1;33m         \u001b[0mself\u001b[0m\u001b[1;33m.\u001b[0m\u001b[0mfit_predict\u001b[0m\u001b[1;33m(\u001b[0m\u001b[0mX\u001b[0m\u001b[1;33m,\u001b[0m \u001b[0my\u001b[0m\u001b[1;33m)\u001b[0m\u001b[1;33m\u001b[0m\u001b[1;33m\u001b[0m\u001b[0m\n\u001b[0m\u001b[0;32m    187\u001b[0m         \u001b[1;32mreturn\u001b[0m \u001b[0mself\u001b[0m\u001b[1;33m\u001b[0m\u001b[1;33m\u001b[0m\u001b[0m\n\u001b[0;32m    188\u001b[0m \u001b[1;33m\u001b[0m\u001b[0m\n",
      "\u001b[1;32m~\\anaconda3\\lib\\site-packages\\sklearn\\mixture\\_base.py\u001b[0m in \u001b[0;36mfit_predict\u001b[1;34m(self, X, y)\u001b[0m\n\u001b[0;32m    251\u001b[0m \u001b[1;33m\u001b[0m\u001b[0m\n\u001b[0;32m    252\u001b[0m                     \u001b[0mlog_prob_norm\u001b[0m\u001b[1;33m,\u001b[0m \u001b[0mlog_resp\u001b[0m \u001b[1;33m=\u001b[0m \u001b[0mself\u001b[0m\u001b[1;33m.\u001b[0m\u001b[0m_e_step\u001b[0m\u001b[1;33m(\u001b[0m\u001b[0mX\u001b[0m\u001b[1;33m)\u001b[0m\u001b[1;33m\u001b[0m\u001b[1;33m\u001b[0m\u001b[0m\n\u001b[1;32m--> 253\u001b[1;33m                     \u001b[0mself\u001b[0m\u001b[1;33m.\u001b[0m\u001b[0m_m_step\u001b[0m\u001b[1;33m(\u001b[0m\u001b[0mX\u001b[0m\u001b[1;33m,\u001b[0m \u001b[0mlog_resp\u001b[0m\u001b[1;33m)\u001b[0m\u001b[1;33m\u001b[0m\u001b[1;33m\u001b[0m\u001b[0m\n\u001b[0m\u001b[0;32m    254\u001b[0m                     \u001b[0mlower_bound\u001b[0m \u001b[1;33m=\u001b[0m \u001b[0mself\u001b[0m\u001b[1;33m.\u001b[0m\u001b[0m_compute_lower_bound\u001b[0m\u001b[1;33m(\u001b[0m\u001b[0mlog_resp\u001b[0m\u001b[1;33m,\u001b[0m \u001b[0mlog_prob_norm\u001b[0m\u001b[1;33m)\u001b[0m\u001b[1;33m\u001b[0m\u001b[1;33m\u001b[0m\u001b[0m\n\u001b[0;32m    255\u001b[0m \u001b[1;33m\u001b[0m\u001b[0m\n",
      "\u001b[1;32m~\\anaconda3\\lib\\site-packages\\sklearn\\mixture\\_gaussian_mixture.py\u001b[0m in \u001b[0;36m_m_step\u001b[1;34m(self, X, log_resp)\u001b[0m\n\u001b[0;32m    751\u001b[0m             \u001b[0mthe\u001b[0m \u001b[0mpoint\u001b[0m \u001b[0mof\u001b[0m \u001b[0meach\u001b[0m \u001b[0msample\u001b[0m \u001b[1;32min\u001b[0m \u001b[0mX\u001b[0m\u001b[1;33m.\u001b[0m\u001b[1;33m\u001b[0m\u001b[1;33m\u001b[0m\u001b[0m\n\u001b[0;32m    752\u001b[0m         \"\"\"\n\u001b[1;32m--> 753\u001b[1;33m         self.weights_, self.means_, self.covariances_ = _estimate_gaussian_parameters(\n\u001b[0m\u001b[0;32m    754\u001b[0m             \u001b[0mX\u001b[0m\u001b[1;33m,\u001b[0m \u001b[0mnp\u001b[0m\u001b[1;33m.\u001b[0m\u001b[0mexp\u001b[0m\u001b[1;33m(\u001b[0m\u001b[0mlog_resp\u001b[0m\u001b[1;33m)\u001b[0m\u001b[1;33m,\u001b[0m \u001b[0mself\u001b[0m\u001b[1;33m.\u001b[0m\u001b[0mreg_covar\u001b[0m\u001b[1;33m,\u001b[0m \u001b[0mself\u001b[0m\u001b[1;33m.\u001b[0m\u001b[0mcovariance_type\u001b[0m\u001b[1;33m\u001b[0m\u001b[1;33m\u001b[0m\u001b[0m\n\u001b[0;32m    755\u001b[0m         )\n",
      "\u001b[1;32m~\\anaconda3\\lib\\site-packages\\sklearn\\mixture\\_gaussian_mixture.py\u001b[0m in \u001b[0;36m_estimate_gaussian_parameters\u001b[1;34m(X, resp, reg_covar, covariance_type)\u001b[0m\n\u001b[0;32m    290\u001b[0m     \u001b[0mnk\u001b[0m \u001b[1;33m=\u001b[0m \u001b[0mresp\u001b[0m\u001b[1;33m.\u001b[0m\u001b[0msum\u001b[0m\u001b[1;33m(\u001b[0m\u001b[0maxis\u001b[0m\u001b[1;33m=\u001b[0m\u001b[1;36m0\u001b[0m\u001b[1;33m)\u001b[0m \u001b[1;33m+\u001b[0m \u001b[1;36m10\u001b[0m \u001b[1;33m*\u001b[0m \u001b[0mnp\u001b[0m\u001b[1;33m.\u001b[0m\u001b[0mfinfo\u001b[0m\u001b[1;33m(\u001b[0m\u001b[0mresp\u001b[0m\u001b[1;33m.\u001b[0m\u001b[0mdtype\u001b[0m\u001b[1;33m)\u001b[0m\u001b[1;33m.\u001b[0m\u001b[0meps\u001b[0m\u001b[1;33m\u001b[0m\u001b[1;33m\u001b[0m\u001b[0m\n\u001b[0;32m    291\u001b[0m     \u001b[0mmeans\u001b[0m \u001b[1;33m=\u001b[0m \u001b[0mnp\u001b[0m\u001b[1;33m.\u001b[0m\u001b[0mdot\u001b[0m\u001b[1;33m(\u001b[0m\u001b[0mresp\u001b[0m\u001b[1;33m.\u001b[0m\u001b[0mT\u001b[0m\u001b[1;33m,\u001b[0m \u001b[0mX\u001b[0m\u001b[1;33m)\u001b[0m \u001b[1;33m/\u001b[0m \u001b[0mnk\u001b[0m\u001b[1;33m[\u001b[0m\u001b[1;33m:\u001b[0m\u001b[1;33m,\u001b[0m \u001b[0mnp\u001b[0m\u001b[1;33m.\u001b[0m\u001b[0mnewaxis\u001b[0m\u001b[1;33m]\u001b[0m\u001b[1;33m\u001b[0m\u001b[1;33m\u001b[0m\u001b[0m\n\u001b[1;32m--> 292\u001b[1;33m     covariances = {\n\u001b[0m\u001b[0;32m    293\u001b[0m         \u001b[1;34m\"full\"\u001b[0m\u001b[1;33m:\u001b[0m \u001b[0m_estimate_gaussian_covariances_full\u001b[0m\u001b[1;33m,\u001b[0m\u001b[1;33m\u001b[0m\u001b[1;33m\u001b[0m\u001b[0m\n\u001b[0;32m    294\u001b[0m         \u001b[1;34m\"tied\"\u001b[0m\u001b[1;33m:\u001b[0m \u001b[0m_estimate_gaussian_covariances_tied\u001b[0m\u001b[1;33m,\u001b[0m\u001b[1;33m\u001b[0m\u001b[1;33m\u001b[0m\u001b[0m\n",
      "\u001b[1;32m~\\anaconda3\\lib\\site-packages\\sklearn\\mixture\\_gaussian_mixture.py\u001b[0m in \u001b[0;36m_estimate_gaussian_covariances_full\u001b[1;34m(resp, X, nk, means, reg_covar)\u001b[0m\n\u001b[0;32m    177\u001b[0m     \u001b[1;32mfor\u001b[0m \u001b[0mk\u001b[0m \u001b[1;32min\u001b[0m \u001b[0mrange\u001b[0m\u001b[1;33m(\u001b[0m\u001b[0mn_components\u001b[0m\u001b[1;33m)\u001b[0m\u001b[1;33m:\u001b[0m\u001b[1;33m\u001b[0m\u001b[1;33m\u001b[0m\u001b[0m\n\u001b[0;32m    178\u001b[0m         \u001b[0mdiff\u001b[0m \u001b[1;33m=\u001b[0m \u001b[0mX\u001b[0m \u001b[1;33m-\u001b[0m \u001b[0mmeans\u001b[0m\u001b[1;33m[\u001b[0m\u001b[0mk\u001b[0m\u001b[1;33m]\u001b[0m\u001b[1;33m\u001b[0m\u001b[1;33m\u001b[0m\u001b[0m\n\u001b[1;32m--> 179\u001b[1;33m         \u001b[0mcovariances\u001b[0m\u001b[1;33m[\u001b[0m\u001b[0mk\u001b[0m\u001b[1;33m]\u001b[0m \u001b[1;33m=\u001b[0m \u001b[0mnp\u001b[0m\u001b[1;33m.\u001b[0m\u001b[0mdot\u001b[0m\u001b[1;33m(\u001b[0m\u001b[0mresp\u001b[0m\u001b[1;33m[\u001b[0m\u001b[1;33m:\u001b[0m\u001b[1;33m,\u001b[0m \u001b[0mk\u001b[0m\u001b[1;33m]\u001b[0m \u001b[1;33m*\u001b[0m \u001b[0mdiff\u001b[0m\u001b[1;33m.\u001b[0m\u001b[0mT\u001b[0m\u001b[1;33m,\u001b[0m \u001b[0mdiff\u001b[0m\u001b[1;33m)\u001b[0m \u001b[1;33m/\u001b[0m \u001b[0mnk\u001b[0m\u001b[1;33m[\u001b[0m\u001b[0mk\u001b[0m\u001b[1;33m]\u001b[0m\u001b[1;33m\u001b[0m\u001b[1;33m\u001b[0m\u001b[0m\n\u001b[0m\u001b[0;32m    180\u001b[0m         \u001b[0mcovariances\u001b[0m\u001b[1;33m[\u001b[0m\u001b[0mk\u001b[0m\u001b[1;33m]\u001b[0m\u001b[1;33m.\u001b[0m\u001b[0mflat\u001b[0m\u001b[1;33m[\u001b[0m\u001b[1;33m:\u001b[0m\u001b[1;33m:\u001b[0m \u001b[0mn_features\u001b[0m \u001b[1;33m+\u001b[0m \u001b[1;36m1\u001b[0m\u001b[1;33m]\u001b[0m \u001b[1;33m+=\u001b[0m \u001b[0mreg_covar\u001b[0m\u001b[1;33m\u001b[0m\u001b[1;33m\u001b[0m\u001b[0m\n\u001b[0;32m    181\u001b[0m     \u001b[1;32mreturn\u001b[0m \u001b[0mcovariances\u001b[0m\u001b[1;33m\u001b[0m\u001b[1;33m\u001b[0m\u001b[0m\n",
      "\u001b[1;31mKeyboardInterrupt\u001b[0m: "
     ]
    }
   ],
   "source": [
    "optimization_results = [optimize_models_mn(train_data=train_data, number_synthetic_datasets=nsd, null_accuracy=null_accuracy, number_gmm_initializations=ngi, random_state=r) for r in random_states]"
   ]
  },
  {
   "cell_type": "code",
   "execution_count": null,
   "id": "ea0b7024",
   "metadata": {},
   "outputs": [],
   "source": [
    "run_targets = [np.minimum.accumulate(-i[1].space.target) for i in optimization_results]"
   ]
  },
  {
   "cell_type": "code",
   "execution_count": null,
   "id": "f4225965",
   "metadata": {},
   "outputs": [],
   "source": [
    "plt.plot(run_targets[0])\n",
    "plt.scatter(np.arange(len(run_targets[0])), run_targets[0], s=6)\n",
    "plt.plot(run_targets[1])\n",
    "plt.scatter(np.arange(len(run_targets[1])), run_targets[1], s=6)\n",
    "plt.plot(run_targets[2])\n",
    "plt.scatter(np.arange(len(run_targets[2])), run_targets[2], s=6)\n",
    "plt.plot(run_targets[3])\n",
    "plt.scatter(np.arange(len(run_targets[3])), run_targets[3], s=6)\n",
    "plt.plot(run_targets[4])\n",
    "plt.scatter(np.arange(len(run_targets[4])), run_targets[4], s=6)\n",
    "plt.title(\"Running Minimum Objective Value for MNL Synthesis\")\n",
    "plt.show()"
   ]
  },
  {
   "cell_type": "markdown",
   "id": "34094ad9",
   "metadata": {},
   "source": [
    "Choose the params that gave the best objective value across all random seeds."
   ]
  },
  {
   "cell_type": "code",
   "execution_count": null,
   "id": "81eccd8d",
   "metadata": {},
   "outputs": [],
   "source": [
    "best_params = optimization_results[np.argmax([x[0]['target'] for x in optimization_results])][0]"
   ]
  },
  {
   "cell_type": "code",
   "execution_count": null,
   "id": "dbab5ac5",
   "metadata": {},
   "outputs": [],
   "source": [
    "best_params"
   ]
  },
  {
   "cell_type": "markdown",
   "id": "cea1e3fa",
   "metadata": {},
   "source": [
    "Generate 20 synthetic data sets."
   ]
  },
  {
   "cell_type": "code",
   "execution_count": null,
   "id": "643fb518",
   "metadata": {},
   "outputs": [],
   "source": [
    "full_ratios, full_sXs, GMM = train_models_mn(train_data=train_data,\n",
    "                                             number_synthetic_datasets=20,\n",
    "                                             null_accuracy=null_accuracy,\n",
    "                                             # hyperparameters for GMM\n",
    "                                             number_gmm_initializations=ngi,\n",
    "                                             num_components_=int(best_params['params']['num_components_']),\n",
    "                                             # hyperparameters for CART, end with underscore means Bayesian optimization will choose\n",
    "                                             C_sex_=best_params['params']['C_sex_'],\n",
    "                                             C_age_=best_params['params']['C_age_'],\n",
    "                                             C_state_=best_params['params']['C_state_'])"
   ]
  },
  {
   "cell_type": "code",
   "execution_count": null,
   "id": "694c3a3e",
   "metadata": {},
   "outputs": [],
   "source": [
    "(1 - np.mean(full_ratios))**2"
   ]
  },
  {
   "cell_type": "code",
   "execution_count": null,
   "id": "b24598f6",
   "metadata": {},
   "outputs": [],
   "source": [
    "np.mean(full_ratios)"
   ]
  },
  {
   "cell_type": "code",
   "execution_count": null,
   "id": "5ea8b232",
   "metadata": {},
   "outputs": [],
   "source": [
    "plt.violinplot(full_ratios)\n",
    "plt.xlabel(\"Density\")\n",
    "plt.ylabel(\"pMSE Ratio\")\n",
    "plt.title(\"Distribution of pMSE Ratios\")\n",
    "plt.show()"
   ]
  },
  {
   "cell_type": "markdown",
   "id": "c7c4b464",
   "metadata": {},
   "source": [
    "# Save the synthetic datasets."
   ]
  },
  {
   "cell_type": "code",
   "execution_count": null,
   "id": "5696e166",
   "metadata": {},
   "outputs": [],
   "source": [
    "for i, sX in enumerate(full_sXs):\n",
    "    sX.to_csv(\"Data/synthetic_datasets/synthetic_dataset_\" + str(i) + \".csv\", index=False)"
   ]
  },
  {
   "cell_type": "markdown",
   "id": "58cacd36",
   "metadata": {},
   "source": [
    "***"
   ]
  }
 ],
 "metadata": {
  "kernelspec": {
   "display_name": "Python 3 (ipykernel)",
   "language": "python",
   "name": "python3"
  },
  "language_info": {
   "codemirror_mode": {
    "name": "ipython",
    "version": 3
   },
   "file_extension": ".py",
   "mimetype": "text/x-python",
   "name": "python",
   "nbconvert_exporter": "python",
   "pygments_lexer": "ipython3",
   "version": "3.9.13"
  }
 },
 "nbformat": 4,
 "nbformat_minor": 5
}
