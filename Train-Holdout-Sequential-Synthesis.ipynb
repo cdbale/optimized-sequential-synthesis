{
 "cells": [
  {
   "cell_type": "markdown",
   "id": "96f48262",
   "metadata": {},
   "source": [
    "# Train-Holdout Sequential Synthesis Testing"
   ]
  },
  {
   "cell_type": "markdown",
   "id": "e6eb8a0b",
   "metadata": {},
   "source": [
    "This notebook performs the synthesis using our proposed synthesization approach for the training data only (excludes the holdout data)."
   ]
  },
  {
   "cell_type": "code",
   "execution_count": 1,
   "id": "2d3f5c21",
   "metadata": {},
   "outputs": [],
   "source": [
    "import pandas as pd\n",
    "import numpy as np\n",
    "from numpy.random import default_rng\n",
    "from sklearn.mixture import GaussianMixture\n",
    "from scipy.spatial import cKDTree\n",
    "import matplotlib.pyplot as plt\n",
    "import seaborn as sns\n",
    "\n",
    "from sklearn import preprocessing\n",
    "\n",
    "from sklearn.tree import DecisionTreeClassifier\n",
    "\n",
    "import itertools\n",
    "\n",
    "from bayes_opt import BayesianOptimization\n",
    "\n",
    "from sklearn.linear_model import LogisticRegression\n",
    "from sklearn.preprocessing import PolynomialFeatures\n",
    "\n",
    "from bayesian_bootstrap import bayesian_bootstrap\n",
    "\n",
    "rng = np.random.RandomState(42)"
   ]
  },
  {
   "cell_type": "code",
   "execution_count": 2,
   "id": "f827250b",
   "metadata": {},
   "outputs": [],
   "source": [
    "def cart_pmse_ratio(original_data, synthetic_data_sets):\n",
    "    \n",
    "    ### get pmse measures for synthetic data set pairs\n",
    "    \n",
    "    null_pmse_list = []\n",
    "    \n",
    "    inds = np.arange(len(synthetic_data_sets))\n",
    "    \n",
    "    combo_list = list(itertools.combinations(inds, 2))\n",
    "    \n",
    "    for combo in combo_list:\n",
    "    \n",
    "        s1 = synthetic_data_sets[combo[0]]\n",
    "        s2 = synthetic_data_sets[combo[1]]\n",
    "    \n",
    "        N_orig = s1.shape[0]\n",
    "        N_synth = s2.shape[0]\n",
    "    \n",
    "        c = N_synth/(N_synth+N_orig)\n",
    "    \n",
    "        full_X = pd.concat([s1, s2], axis=0).reset_index(drop=True)\n",
    "    \n",
    "        full_X = preprocessing.StandardScaler().fit_transform(full_X)\n",
    "\n",
    "        y = np.repeat([0, 1], repeats=[N_orig, N_synth])\n",
    "    \n",
    "        cart = DecisionTreeClassifier(min_samples_split=20,\n",
    "                                      min_samples_leaf=int(np.round(20/3)),\n",
    "                                      ccp_alpha=0.0001,\n",
    "                                      max_depth=30)\n",
    "    \n",
    "        cart.fit(X=full_X, y=y)\n",
    "    \n",
    "        probs = cart.predict_proba(full_X)\n",
    "    \n",
    "        pMSE = 1/(N_synth + N_orig) * np.sum((probs[:,1] - c)**2)\n",
    "        \n",
    "        null_pmse_list.append(pMSE)\n",
    "    \n",
    "    pmse_list = []\n",
    "    \n",
    "    for s in synthetic_data_sets:\n",
    "    \n",
    "        N_orig = original_data.shape[0]\n",
    "        N_synth = s.shape[0]\n",
    "    \n",
    "        c = N_synth/(N_synth+N_orig)\n",
    "    \n",
    "        full_X = pd.concat([original_data, s], axis=0).reset_index(drop=True)\n",
    "    \n",
    "        full_X = preprocessing.StandardScaler().fit_transform(full_X)\n",
    "\n",
    "        y = np.repeat([0, 1], repeats=[N_orig, N_synth])\n",
    "    \n",
    "        cart = DecisionTreeClassifier(min_samples_split=20,\n",
    "                                      min_samples_leaf=int(np.round(20/3)),\n",
    "                                      ccp_alpha=0.0001,\n",
    "                                      max_depth=30)\n",
    "    \n",
    "        cart.fit(X=full_X, y=y)\n",
    "    \n",
    "        probs = cart.predict_proba(full_X)\n",
    "    \n",
    "        pMSE = 1/(N_synth + N_orig) * np.sum((probs[:,1] - c)**2)\n",
    "        \n",
    "        pmse_list.append(pMSE)\n",
    "    \n",
    "    return np.array(pmse_list)/(np.mean(null_pmse_list))"
   ]
  },
  {
   "cell_type": "code",
   "execution_count": 3,
   "id": "a07ad9ba",
   "metadata": {},
   "outputs": [],
   "source": [
    "def pmse_ratio(original_data, synthetic_data):\n",
    "    \n",
    "    N_synth = synthetic_data.shape[0]\n",
    "    N_orig = original_data.shape[0]\n",
    "    \n",
    "    # combine original and synthetic datasets\n",
    "    full_X = pd.concat([original_data, synthetic_data], axis=0).reset_index(drop=True)\n",
    "    \n",
    "    full_X[\"age\"] = full_X[\"age\"].astype('category')\n",
    "    \n",
    "    age_dummies = pd.get_dummies(full_X['age'], drop_first=True)\n",
    "    \n",
    "    age_dummies.columns = [str(x) for x in age_dummies.columns]\n",
    "    \n",
    "    full_X = full_X.drop(\"age\", axis=1)\n",
    "    \n",
    "    full_X = pd.concat([full_X, age_dummies], axis=1)\n",
    "    \n",
    "    # generate interactions and powers of variables\n",
    "    poly = PolynomialFeatures(2, interaction_only=True, include_bias=False)\n",
    "    \n",
    "    full_X = poly.fit_transform(full_X)\n",
    "    \n",
    "    full_X = full_X[:,:-36]\n",
    "\n",
    "    # scale the combined dataset\n",
    "    full_X = preprocessing.StandardScaler().fit_transform(full_X)\n",
    "    \n",
    "    c = N_synth/(N_synth+N_orig)\n",
    "\n",
    "    y = np.repeat([0, 1], repeats=[N_orig, N_synth])\n",
    "    \n",
    "    pMSE_model = LogisticRegression(penalty='none', max_iter=1000).fit(full_X, y)\n",
    "    \n",
    "    probs = pMSE_model.predict_proba(full_X)\n",
    "    \n",
    "    pMSE = 1/(N_synth+N_orig) * np.sum((probs[:,1] - c)**2)\n",
    "    \n",
    "    e_pMSE = 2*(full_X.shape[1])*(1-c)**2 * c/(N_synth+N_orig)\n",
    "        \n",
    "    return pMSE/e_pMSE"
   ]
  },
  {
   "cell_type": "markdown",
   "id": "76a8ccbc",
   "metadata": {},
   "source": [
    "Import the data."
   ]
  },
  {
   "cell_type": "code",
   "execution_count": 4,
   "id": "730c2f2e",
   "metadata": {},
   "outputs": [],
   "source": [
    "# import standardized lat/long location data\n",
    "X = pd.read_csv(\"Data/cleaned_data.csv\")"
   ]
  },
  {
   "cell_type": "markdown",
   "id": "05560c9f",
   "metadata": {},
   "source": [
    "Number of locations from deceased individuals."
   ]
  },
  {
   "cell_type": "code",
   "execution_count": 5,
   "id": "4179bd8c",
   "metadata": {},
   "outputs": [
    {
     "data": {
      "text/plain": [
       "55"
      ]
     },
     "execution_count": 5,
     "metadata": {},
     "output_type": "execute_result"
    }
   ],
   "source": [
    "np.sum(X.state)"
   ]
  },
  {
   "cell_type": "markdown",
   "id": "10b49ff7",
   "metadata": {},
   "source": [
    "Split dataset into continuous and categorical variables."
   ]
  },
  {
   "cell_type": "code",
   "execution_count": 6,
   "id": "ca8aa871",
   "metadata": {},
   "outputs": [
    {
     "data": {
      "text/html": [
       "<div>\n",
       "<style scoped>\n",
       "    .dataframe tbody tr th:only-of-type {\n",
       "        vertical-align: middle;\n",
       "    }\n",
       "\n",
       "    .dataframe tbody tr th {\n",
       "        vertical-align: top;\n",
       "    }\n",
       "\n",
       "    .dataframe thead th {\n",
       "        text-align: right;\n",
       "    }\n",
       "</style>\n",
       "<table border=\"1\" class=\"dataframe\">\n",
       "  <thead>\n",
       "    <tr style=\"text-align: right;\">\n",
       "      <th></th>\n",
       "      <th>latitude</th>\n",
       "      <th>longitude</th>\n",
       "      <th>sex</th>\n",
       "      <th>age</th>\n",
       "      <th>state</th>\n",
       "    </tr>\n",
       "  </thead>\n",
       "  <tbody>\n",
       "    <tr>\n",
       "      <th>0</th>\n",
       "      <td>0.944157</td>\n",
       "      <td>-1.010655</td>\n",
       "      <td>male</td>\n",
       "      <td>50s</td>\n",
       "      <td>0</td>\n",
       "    </tr>\n",
       "    <tr>\n",
       "      <th>1</th>\n",
       "      <td>0.889746</td>\n",
       "      <td>-0.694899</td>\n",
       "      <td>male</td>\n",
       "      <td>50s</td>\n",
       "      <td>0</td>\n",
       "    </tr>\n",
       "    <tr>\n",
       "      <th>2</th>\n",
       "      <td>0.917482</td>\n",
       "      <td>-0.682299</td>\n",
       "      <td>male</td>\n",
       "      <td>30s</td>\n",
       "      <td>0</td>\n",
       "    </tr>\n",
       "    <tr>\n",
       "      <th>3</th>\n",
       "      <td>0.916660</td>\n",
       "      <td>-0.682551</td>\n",
       "      <td>male</td>\n",
       "      <td>30s</td>\n",
       "      <td>0</td>\n",
       "    </tr>\n",
       "    <tr>\n",
       "      <th>4</th>\n",
       "      <td>0.886074</td>\n",
       "      <td>-0.668883</td>\n",
       "      <td>male</td>\n",
       "      <td>30s</td>\n",
       "      <td>0</td>\n",
       "    </tr>\n",
       "    <tr>\n",
       "      <th>...</th>\n",
       "      <td>...</td>\n",
       "      <td>...</td>\n",
       "      <td>...</td>\n",
       "      <td>...</td>\n",
       "      <td>...</td>\n",
       "    </tr>\n",
       "    <tr>\n",
       "      <th>6707</th>\n",
       "      <td>0.881500</td>\n",
       "      <td>-0.925307</td>\n",
       "      <td>male</td>\n",
       "      <td>40s</td>\n",
       "      <td>0</td>\n",
       "    </tr>\n",
       "    <tr>\n",
       "      <th>6708</th>\n",
       "      <td>-1.728784</td>\n",
       "      <td>1.470871</td>\n",
       "      <td>male</td>\n",
       "      <td>40s</td>\n",
       "      <td>0</td>\n",
       "    </tr>\n",
       "    <tr>\n",
       "      <th>6709</th>\n",
       "      <td>-1.548071</td>\n",
       "      <td>1.557316</td>\n",
       "      <td>male</td>\n",
       "      <td>40s</td>\n",
       "      <td>0</td>\n",
       "    </tr>\n",
       "    <tr>\n",
       "      <th>6710</th>\n",
       "      <td>-1.549392</td>\n",
       "      <td>1.555785</td>\n",
       "      <td>male</td>\n",
       "      <td>40s</td>\n",
       "      <td>0</td>\n",
       "    </tr>\n",
       "    <tr>\n",
       "      <th>6711</th>\n",
       "      <td>-1.548071</td>\n",
       "      <td>1.557316</td>\n",
       "      <td>male</td>\n",
       "      <td>40s</td>\n",
       "      <td>0</td>\n",
       "    </tr>\n",
       "  </tbody>\n",
       "</table>\n",
       "<p>6712 rows × 5 columns</p>\n",
       "</div>"
      ],
      "text/plain": [
       "      latitude  longitude   sex  age  state\n",
       "0     0.944157  -1.010655  male  50s      0\n",
       "1     0.889746  -0.694899  male  50s      0\n",
       "2     0.917482  -0.682299  male  30s      0\n",
       "3     0.916660  -0.682551  male  30s      0\n",
       "4     0.886074  -0.668883  male  30s      0\n",
       "...        ...        ...   ...  ...    ...\n",
       "6707  0.881500  -0.925307  male  40s      0\n",
       "6708 -1.728784   1.470871  male  40s      0\n",
       "6709 -1.548071   1.557316  male  40s      0\n",
       "6710 -1.549392   1.555785  male  40s      0\n",
       "6711 -1.548071   1.557316  male  40s      0\n",
       "\n",
       "[6712 rows x 5 columns]"
      ]
     },
     "execution_count": 6,
     "metadata": {},
     "output_type": "execute_result"
    }
   ],
   "source": [
    "X"
   ]
  },
  {
   "cell_type": "code",
   "execution_count": 7,
   "id": "fae34b71",
   "metadata": {},
   "outputs": [],
   "source": [
    "cat_columns = X.select_dtypes(['object']).columns"
   ]
  },
  {
   "cell_type": "code",
   "execution_count": 8,
   "id": "2665afce",
   "metadata": {},
   "outputs": [],
   "source": [
    "X[cat_columns] = X[cat_columns].apply(lambda x: x.astype('category'))"
   ]
  },
  {
   "cell_type": "code",
   "execution_count": 9,
   "id": "d27a984a",
   "metadata": {},
   "outputs": [],
   "source": [
    "categories = X[cat_columns].apply(lambda x: x.cat.categories)"
   ]
  },
  {
   "cell_type": "code",
   "execution_count": 10,
   "id": "a4ac0283",
   "metadata": {},
   "outputs": [],
   "source": [
    "X[cat_columns] = X[cat_columns].apply(lambda x: x.cat.codes)"
   ]
  },
  {
   "cell_type": "code",
   "execution_count": 11,
   "id": "eff95bf3",
   "metadata": {},
   "outputs": [
    {
     "data": {
      "text/plain": [
       "sex            Index(['female', 'male'], dtype='object')\n",
       "age    Index(['0s', '10s', '20s', '30s', '40s', '50s'...\n",
       "dtype: object"
      ]
     },
     "execution_count": 11,
     "metadata": {},
     "output_type": "execute_result"
    }
   ],
   "source": [
    "categories"
   ]
  },
  {
   "cell_type": "code",
   "execution_count": 12,
   "id": "56d124d1",
   "metadata": {},
   "outputs": [
    {
     "data": {
      "text/plain": [
       "0.4620083432657926"
      ]
     },
     "execution_count": 12,
     "metadata": {},
     "output_type": "execute_result"
    }
   ],
   "source": [
    "np.mean(X.sex)"
   ]
  },
  {
   "cell_type": "code",
   "execution_count": 13,
   "id": "f3054ffb",
   "metadata": {},
   "outputs": [
    {
     "data": {
      "image/png": "[encoded data removed]",
      "text/plain": [
       "<Figure size 432x288 with 1 Axes>"
      ]
     },
     "metadata": {
      "needs_background": "light"
     },
     "output_type": "display_data"
    }
   ],
   "source": [
    "ax = X.age.plot.hist(grid=True, bins=10)\n",
    "ax.set_ylabel('Frequency', fontsize=12)\n",
    "ax.set_xlabel('Age Bins', fontsize=12)\n",
    "ax.set_xticks([0,1,2,3,4,5,6,7,8,9])\n",
    "ax.set_xticklabels(labels=categories['age'])\n",
    "plt.title(\"Frequency Distribution of Age Categories\")\n",
    "plt.show()"
   ]
  },
  {
   "cell_type": "markdown",
   "id": "6f62abff",
   "metadata": {},
   "source": [
    "***"
   ]
  },
  {
   "cell_type": "markdown",
   "id": "10a841b2",
   "metadata": {},
   "source": [
    "Create and save the training and holdout datasets."
   ]
  },
  {
   "cell_type": "code",
   "execution_count": 14,
   "id": "4efb4097",
   "metadata": {},
   "outputs": [],
   "source": [
    "shuffle_X = X.sample(frac=1.0, random_state=42).reset_index(drop=True)\n",
    "\n",
    "half = int(np.ceil(shuffle_X.shape[0]/2))\n",
    "\n",
    "train_data = shuffle_X.iloc[:half,:]\n",
    "val_data = shuffle_X.iloc[half:,:]"
   ]
  },
  {
   "cell_type": "code",
   "execution_count": 15,
   "id": "9d357e85",
   "metadata": {},
   "outputs": [],
   "source": [
    "train_data.to_csv(\"Data/synthetic_datasets/synthetic_holdouts/train_dataset.csv\", index=False)\n",
    "val_data.to_csv(\"Data/synthetic_datasets/synthetic_holdouts/val_dataset.csv\", index=False)"
   ]
  },
  {
   "cell_type": "markdown",
   "id": "6584fe74",
   "metadata": {},
   "source": [
    "***"
   ]
  },
  {
   "cell_type": "markdown",
   "id": "e53ef6c3",
   "metadata": {},
   "source": [
    "Testing logistic and multinomial logistic regression synthesizers."
   ]
  },
  {
   "cell_type": "code",
   "execution_count": 16,
   "id": "4ec5cee4",
   "metadata": {},
   "outputs": [],
   "source": [
    "def polynomial_and_standardize(dataset, poly_degree=3, interaction_only=False):\n",
    "    \n",
    "    poly = PolynomialFeatures(degree=poly_degree, interaction_only=interaction_only, include_bias=False)\n",
    "    \n",
    "    X = poly.fit_transform(dataset)\n",
    "    \n",
    "    scaled_X = preprocessing.StandardScaler().fit_transform(X)\n",
    "    \n",
    "    return scaled_X"
   ]
  },
  {
   "cell_type": "code",
   "execution_count": 17,
   "id": "2d47e962",
   "metadata": {},
   "outputs": [],
   "source": [
    "def multinomial_synthesizer(orig_data, synth_data_sets, target, penalty_param, poly_degree=3, interaction_only=False):\n",
    "    \n",
    "    mn_model = LogisticRegression(penalty='l1', C=penalty_param, solver='saga', max_iter=1000, multi_class='multinomial', random_state=rng)\n",
    "    \n",
    "    X = polynomial_and_standardize(dataset=orig_data, poly_degree=poly_degree, interaction_only=interaction_only)\n",
    "    \n",
    "    sXs = [polynomial_and_standardize(dataset=Y, poly_degree=poly_degree, interaction_only=interaction_only) for Y in synth_data_sets]\n",
    "    \n",
    "    vals = []\n",
    "    \n",
    "    mn_model.fit(X, target)\n",
    "    \n",
    "    rng_mn = default_rng()\n",
    "    \n",
    "    for Y in sXs:\n",
    "        \n",
    "        probs = mn_model.predict_proba(Y)\n",
    "    \n",
    "        v = [np.argmax(rng_mn.multinomial(n=1, pvals=p, size=1)==1) for p in probs]\n",
    "    \n",
    "        vals.append(pd.Series(v, name=target.name))\n",
    "    \n",
    "    return vals"
   ]
  },
  {
   "cell_type": "code",
   "execution_count": 18,
   "id": "6927923b",
   "metadata": {},
   "outputs": [],
   "source": [
    "def train_models_mn(#overall parameters\n",
    "                    train_data,\n",
    "                    number_synthetic_datasets,\n",
    "                    # hyperparameters for GMM, end with underscore means Bayesian optimization will choose\n",
    "                    number_gmm_initializations,\n",
    "                    num_components_,\n",
    "                    # hyperparameters for CART, end with underscore means Bayesian optimization will choose\n",
    "                    C_sex_,\n",
    "                    C_age_,\n",
    "                    C_state_):\n",
    "    \n",
    "    num_samples = train_data.shape[0]\n",
    "    \n",
    "    ########## Code for GMM ############\n",
    "    \n",
    "    # fit GMM model\n",
    "    GMM = GaussianMixture(num_components_, n_init=number_gmm_initializations, init_params=\"k-means++\", random_state=rng).fit(train_data.loc[:,[\"latitude\", \"longitude\"]])\n",
    "    \n",
    "    # list for synthetic datasets\n",
    "    sXs = []\n",
    "    \n",
    "    # generate and store number_synthetic_datasets synthetic datasets\n",
    "    for i in range(number_synthetic_datasets):\n",
    "        sX = GMM.sample(num_samples)[0]\n",
    "        sX = pd.DataFrame(sX)\n",
    "        sX.columns = ['latitude', 'longitude']\n",
    "        sXs.append(sX)\n",
    "        \n",
    "    ####################################################################################################\n",
    "        \n",
    "    ########### Code for sex MN ##########\n",
    "    \n",
    "    synth_sex_vars = multinomial_synthesizer(orig_data=train_data.loc[:,[\"latitude\", \"longitude\"]], \n",
    "                                             synth_data_sets=sXs, \n",
    "                                             target=train_data.sex, \n",
    "                                             penalty_param=C_sex_)\n",
    "    \n",
    "    sXs = [pd.concat([Y, synth_sex_vars[i]], axis=1) for i,Y in enumerate(sXs)]\n",
    "        \n",
    "    ####################################################################################################\n",
    "        \n",
    "    ########### Code for age MN ##########\n",
    "    \n",
    "    synth_age_vars = multinomial_synthesizer(orig_data=train_data.loc[:,[\"latitude\", \"longitude\", \"sex\"]], \n",
    "                                             synth_data_sets=sXs, \n",
    "                                             target=train_data.age, \n",
    "                                             penalty_param=C_age_)\n",
    "    \n",
    "    sXs = [pd.concat([Y, synth_age_vars[i]], axis=1) for i,Y in enumerate(sXs)]\n",
    "        \n",
    "    ####################################################################################################\n",
    "    \n",
    "    ########### Code for state MN ##########\n",
    "    \n",
    "    synth_state_vars = multinomial_synthesizer(orig_data=train_data.loc[:,[\"latitude\", \"longitude\", \"sex\", \"age\"]], \n",
    "                                               synth_data_sets=sXs, \n",
    "                                               target=train_data.state, \n",
    "                                               penalty_param=C_state_)\n",
    "    \n",
    "    sXs = [pd.concat([Y, synth_state_vars[i]], axis=1) for i,Y in enumerate(sXs)]\n",
    "        \n",
    "    ###### Calculate pMSE ratios ######\n",
    "    # pmse_ratios = [pmse_ratio(train_data, Y) for Y in sXs]\n",
    "    pmse_ratios = cart_pmse_ratio(train_data, sXs)\n",
    "    \n",
    "    return pmse_ratios, sXs, GMM"
   ]
  },
  {
   "cell_type": "code",
   "execution_count": 19,
   "id": "51b65e19",
   "metadata": {},
   "outputs": [],
   "source": [
    "def optimize_models_mn(train_data,\n",
    "                       number_synthetic_datasets,\n",
    "                       number_gmm_initializations,\n",
    "                       random_state):\n",
    "\n",
    "    def evaluate_models(num_components_, C_sex_, C_age_, C_state_):\n",
    "\n",
    "        pmse_ratios, _, _ = train_models_mn(train_data=train_data,\n",
    "                                            number_synthetic_datasets=number_synthetic_datasets,\n",
    "                                            number_gmm_initializations=number_gmm_initializations,\n",
    "                                            num_components_=int(num_components_),\n",
    "                                            C_sex_=C_sex_,\n",
    "                                            C_age_=C_age_,\n",
    "                                            C_state_=C_state_)\n",
    "        \n",
    "        return -1 * ((1 - np.mean(pmse_ratios))**2)\n",
    "\n",
    "    optimizer = BayesianOptimization(\n",
    "        f=evaluate_models,\n",
    "        pbounds={\n",
    "            \"num_components_\": (200, 800.99),\n",
    "            \"C_sex_\": (0.01, 1),\n",
    "            \"C_age_\": (0.01, 1),\n",
    "            \"C_state_\": (0.01, 1)\n",
    "        },\n",
    "        random_state=random_state)\n",
    "\n",
    "    optimizer.maximize(acq='ei', xi=1e-2)\n",
    "    print(\"Final Result: \", optimizer.max)\n",
    "    return optimizer.max, optimizer"
   ]
  },
  {
   "cell_type": "code",
   "execution_count": 20,
   "id": "13b295a6",
   "metadata": {},
   "outputs": [],
   "source": [
    "nsd = 20\n",
    "ngi = 5\n",
    "random_states = [np.random.RandomState(1234), np.random.RandomState(4321), np.random.RandomState(10620), np.random.RandomState(91695), np.random.RandomState(31296)]\n",
    "# random_states = [np.random.RandomState(1234)]"
   ]
  },
  {
   "cell_type": "code",
   "execution_count": 21,
   "id": "93c78ab1",
   "metadata": {},
   "outputs": [
    {
     "name": "stdout",
     "output_type": "stream",
     "text": [
      "|   iter    |  target   |  C_age_   |  C_sex_   | C_state_  | num_co... |\n",
      "-------------------------------------------------------------------------\n",
      "| \u001b[0m 1       \u001b[0m | \u001b[0m-0.1274  \u001b[0m | \u001b[0m 0.1996  \u001b[0m | \u001b[0m 0.6259  \u001b[0m | \u001b[0m 0.4434  \u001b[0m | \u001b[0m 672.0   \u001b[0m |\n"
     ]
    },
    {
     "name": "stderr",
     "output_type": "stream",
     "text": [
      "C:\\Users\\Cameron\\anaconda3\\lib\\site-packages\\sklearn\\linear_model\\_sag.py:350: ConvergenceWarning: The max_iter was reached which means the coef_ did not converge\n",
      "  warnings.warn(\n"
     ]
    },
    {
     "name": "stdout",
     "output_type": "stream",
     "text": [
      "| \u001b[0m 2       \u001b[0m | \u001b[0m-0.1963  \u001b[0m | \u001b[0m 0.7822  \u001b[0m | \u001b[0m 0.2799  \u001b[0m | \u001b[0m 0.2837  \u001b[0m | \u001b[0m 681.9   \u001b[0m |\n"
     ]
    },
    {
     "name": "stderr",
     "output_type": "stream",
     "text": [
      "C:\\Users\\Cameron\\anaconda3\\lib\\site-packages\\sklearn\\linear_model\\_sag.py:350: ConvergenceWarning: The max_iter was reached which means the coef_ did not converge\n",
      "  warnings.warn(\n"
     ]
    },
    {
     "name": "stdout",
     "output_type": "stream",
     "text": [
      "| \u001b[95m 3       \u001b[0m | \u001b[95m-0.08916 \u001b[0m | \u001b[95m 0.9586  \u001b[0m | \u001b[95m 0.8772  \u001b[0m | \u001b[95m 0.3642  \u001b[0m | \u001b[95m 501.1   \u001b[0m |\n",
      "| \u001b[95m 4       \u001b[0m | \u001b[95m-0.07581 \u001b[0m | \u001b[95m 0.6866  \u001b[0m | \u001b[95m 0.7156  \u001b[0m | \u001b[95m 0.3765  \u001b[0m | \u001b[95m 537.3   \u001b[0m |\n",
      "| \u001b[0m 5       \u001b[0m | \u001b[0m-0.198   \u001b[0m | \u001b[0m 0.5081  \u001b[0m | \u001b[0m 0.02363 \u001b[0m | \u001b[0m 0.7751  \u001b[0m | \u001b[0m 730.5   \u001b[0m |\n",
      "| \u001b[95m 6       \u001b[0m | \u001b[95m-0.03696 \u001b[0m | \u001b[95m 0.123   \u001b[0m | \u001b[95m 0.694   \u001b[0m | \u001b[95m 0.2752  \u001b[0m | \u001b[95m 672.2   \u001b[0m |\n"
     ]
    },
    {
     "name": "stderr",
     "output_type": "stream",
     "text": [
      "C:\\Users\\Cameron\\anaconda3\\lib\\site-packages\\sklearn\\linear_model\\_sag.py:350: ConvergenceWarning: The max_iter was reached which means the coef_ did not converge\n",
      "  warnings.warn(\n"
     ]
    },
    {
     "name": "stdout",
     "output_type": "stream",
     "text": [
      "| \u001b[0m 7       \u001b[0m | \u001b[0m-0.2534  \u001b[0m | \u001b[0m 0.9765  \u001b[0m | \u001b[0m 0.1574  \u001b[0m | \u001b[0m 0.4669  \u001b[0m | \u001b[0m 495.7   \u001b[0m |\n"
     ]
    },
    {
     "name": "stderr",
     "output_type": "stream",
     "text": [
      "C:\\Users\\Cameron\\anaconda3\\lib\\site-packages\\sklearn\\linear_model\\_sag.py:350: ConvergenceWarning: The max_iter was reached which means the coef_ did not converge\n",
      "  warnings.warn(\n"
     ]
    },
    {
     "name": "stdout",
     "output_type": "stream",
     "text": [
      "| \u001b[0m 8       \u001b[0m | \u001b[0m-0.1049  \u001b[0m | \u001b[0m 0.7789  \u001b[0m | \u001b[0m 0.8377  \u001b[0m | \u001b[0m 0.5189  \u001b[0m | \u001b[0m 537.2   \u001b[0m |\n",
      "| \u001b[0m 9       \u001b[0m | \u001b[0m-0.1287  \u001b[0m | \u001b[0m 0.1409  \u001b[0m | \u001b[0m 0.6738  \u001b[0m | \u001b[0m 0.09963 \u001b[0m | \u001b[0m 672.5   \u001b[0m |\n",
      "| \u001b[0m 10      \u001b[0m | \u001b[0m-0.1928  \u001b[0m | \u001b[0m 0.1069  \u001b[0m | \u001b[0m 0.6086  \u001b[0m | \u001b[0m 0.3325  \u001b[0m | \u001b[0m 672.2   \u001b[0m |\n"
     ]
    },
    {
     "name": "stderr",
     "output_type": "stream",
     "text": [
      "C:\\Users\\Cameron\\anaconda3\\lib\\site-packages\\sklearn\\linear_model\\_sag.py:350: ConvergenceWarning: The max_iter was reached which means the coef_ did not converge\n",
      "  warnings.warn(\n"
     ]
    },
    {
     "name": "stdout",
     "output_type": "stream",
     "text": [
      "| \u001b[95m 11      \u001b[0m | \u001b[95m-0.02852 \u001b[0m | \u001b[95m 0.9233  \u001b[0m | \u001b[95m 0.2565  \u001b[0m | \u001b[95m 0.7494  \u001b[0m | \u001b[95m 413.3   \u001b[0m |\n",
      "| \u001b[0m 12      \u001b[0m | \u001b[0m-0.07233 \u001b[0m | \u001b[0m 0.3912  \u001b[0m | \u001b[0m 0.6115  \u001b[0m | \u001b[0m 0.6645  \u001b[0m | \u001b[0m 687.0   \u001b[0m |\n"
     ]
    },
    {
     "name": "stderr",
     "output_type": "stream",
     "text": [
      "C:\\Users\\Cameron\\anaconda3\\lib\\site-packages\\sklearn\\linear_model\\_sag.py:350: ConvergenceWarning: The max_iter was reached which means the coef_ did not converge\n",
      "  warnings.warn(\n"
     ]
    },
    {
     "name": "stdout",
     "output_type": "stream",
     "text": [
      "| \u001b[0m 13      \u001b[0m | \u001b[0m-0.05232 \u001b[0m | \u001b[0m 0.8687  \u001b[0m | \u001b[0m 0.8097  \u001b[0m | \u001b[0m 0.5983  \u001b[0m | \u001b[0m 216.3   \u001b[0m |\n"
     ]
    },
    {
     "name": "stderr",
     "output_type": "stream",
     "text": [
      "C:\\Users\\Cameron\\anaconda3\\lib\\site-packages\\sklearn\\linear_model\\_sag.py:350: ConvergenceWarning: The max_iter was reached which means the coef_ did not converge\n",
      "  warnings.warn(\n"
     ]
    },
    {
     "name": "stdout",
     "output_type": "stream",
     "text": [
      "| \u001b[0m 14      \u001b[0m | \u001b[0m-0.1724  \u001b[0m | \u001b[0m 0.895   \u001b[0m | \u001b[0m 0.6688  \u001b[0m | \u001b[0m 0.4389  \u001b[0m | \u001b[0m 725.7   \u001b[0m |\n",
      "| \u001b[0m 15      \u001b[0m | \u001b[0m-0.1059  \u001b[0m | \u001b[0m 0.5034  \u001b[0m | \u001b[0m 0.453   \u001b[0m | \u001b[0m 0.1899  \u001b[0m | \u001b[0m 746.1   \u001b[0m |\n"
     ]
    },
    {
     "name": "stderr",
     "output_type": "stream",
     "text": [
      "C:\\Users\\Cameron\\anaconda3\\lib\\site-packages\\sklearn\\linear_model\\_sag.py:350: ConvergenceWarning: The max_iter was reached which means the coef_ did not converge\n",
      "  warnings.warn(\n"
     ]
    },
    {
     "name": "stdout",
     "output_type": "stream",
     "text": [
      "| \u001b[0m 16      \u001b[0m | \u001b[0m-0.1034  \u001b[0m | \u001b[0m 0.9619  \u001b[0m | \u001b[0m 0.2988  \u001b[0m | \u001b[0m 0.3296  \u001b[0m | \u001b[0m 558.0   \u001b[0m |\n"
     ]
    },
    {
     "name": "stderr",
     "output_type": "stream",
     "text": [
      "C:\\Users\\Cameron\\anaconda3\\lib\\site-packages\\sklearn\\linear_model\\_sag.py:350: ConvergenceWarning: The max_iter was reached which means the coef_ did not converge\n",
      "  warnings.warn(\n",
      "C:\\Users\\Cameron\\anaconda3\\lib\\site-packages\\sklearn\\linear_model\\_sag.py:350: ConvergenceWarning: The max_iter was reached which means the coef_ did not converge\n",
      "  warnings.warn(\n"
     ]
    },
    {
     "name": "stdout",
     "output_type": "stream",
     "text": [
      "| \u001b[0m 17      \u001b[0m | \u001b[0m-0.157   \u001b[0m | \u001b[0m 0.8965  \u001b[0m | \u001b[0m 0.8994  \u001b[0m | \u001b[0m 0.993   \u001b[0m | \u001b[0m 596.1   \u001b[0m |\n",
      "| \u001b[0m 18      \u001b[0m | \u001b[0m-0.1054  \u001b[0m | \u001b[0m 0.2445  \u001b[0m | \u001b[0m 0.6663  \u001b[0m | \u001b[0m 0.01249 \u001b[0m | \u001b[0m 688.6   \u001b[0m |\n",
      "| \u001b[0m 19      \u001b[0m | \u001b[0m-0.1061  \u001b[0m | \u001b[0m 0.3194  \u001b[0m | \u001b[0m 0.9331  \u001b[0m | \u001b[0m 0.637   \u001b[0m | \u001b[0m 283.8   \u001b[0m |\n"
     ]
    },
    {
     "name": "stderr",
     "output_type": "stream",
     "text": [
      "C:\\Users\\Cameron\\anaconda3\\lib\\site-packages\\sklearn\\linear_model\\_sag.py:350: ConvergenceWarning: The max_iter was reached which means the coef_ did not converge\n",
      "  warnings.warn(\n"
     ]
    },
    {
     "name": "stdout",
     "output_type": "stream",
     "text": [
      "| \u001b[0m 20      \u001b[0m | \u001b[0m-0.1751  \u001b[0m | \u001b[0m 0.9794  \u001b[0m | \u001b[0m 0.9671  \u001b[0m | \u001b[0m 0.8913  \u001b[0m | \u001b[0m 650.3   \u001b[0m |\n",
      "| \u001b[0m 21      \u001b[0m | \u001b[0m-0.1052  \u001b[0m | \u001b[0m 0.5077  \u001b[0m | \u001b[0m 0.1225  \u001b[0m | \u001b[0m 0.8074  \u001b[0m | \u001b[0m 683.9   \u001b[0m |\n",
      "| \u001b[0m 22      \u001b[0m | \u001b[0m-0.07846 \u001b[0m | \u001b[0m 0.193   \u001b[0m | \u001b[0m 0.9023  \u001b[0m | \u001b[0m 0.9547  \u001b[0m | \u001b[0m 571.6   \u001b[0m |\n",
      "| \u001b[0m 23      \u001b[0m | \u001b[0m-0.09192 \u001b[0m | \u001b[0m 0.7563  \u001b[0m | \u001b[0m 0.4865  \u001b[0m | \u001b[0m 0.7504  \u001b[0m | \u001b[0m 623.2   \u001b[0m |\n",
      "| \u001b[0m 24      \u001b[0m | \u001b[0m-0.1165  \u001b[0m | \u001b[0m 0.1349  \u001b[0m | \u001b[0m 0.13    \u001b[0m | \u001b[0m 0.8536  \u001b[0m | \u001b[0m 456.2   \u001b[0m |\n",
      "| \u001b[0m 25      \u001b[0m | \u001b[0m-0.2615  \u001b[0m | \u001b[0m 0.01393 \u001b[0m | \u001b[0m 0.6323  \u001b[0m | \u001b[0m 0.2302  \u001b[0m | \u001b[0m 620.8   \u001b[0m |\n"
     ]
    },
    {
     "name": "stderr",
     "output_type": "stream",
     "text": [
      "C:\\Users\\Cameron\\anaconda3\\lib\\site-packages\\sklearn\\linear_model\\_sag.py:350: ConvergenceWarning: The max_iter was reached which means the coef_ did not converge\n",
      "  warnings.warn(\n"
     ]
    },
    {
     "name": "stdout",
     "output_type": "stream",
     "text": [
      "| \u001b[0m 26      \u001b[0m | \u001b[0m-0.06074 \u001b[0m | \u001b[0m 0.845   \u001b[0m | \u001b[0m 0.7577  \u001b[0m | \u001b[0m 0.2255  \u001b[0m | \u001b[0m 350.2   \u001b[0m |\n",
      "| \u001b[0m 27      \u001b[0m | \u001b[0m-0.1138  \u001b[0m | \u001b[0m 0.3884  \u001b[0m | \u001b[0m 0.9661  \u001b[0m | \u001b[0m 0.5738  \u001b[0m | \u001b[0m 600.3   \u001b[0m |\n",
      "| \u001b[0m 28      \u001b[0m | \u001b[0m-0.11    \u001b[0m | \u001b[0m 0.6671  \u001b[0m | \u001b[0m 0.2152  \u001b[0m | \u001b[0m 0.1252  \u001b[0m | \u001b[0m 239.8   \u001b[0m |\n"
     ]
    },
    {
     "name": "stderr",
     "output_type": "stream",
     "text": [
      "C:\\Users\\Cameron\\anaconda3\\lib\\site-packages\\sklearn\\linear_model\\_sag.py:350: ConvergenceWarning: The max_iter was reached which means the coef_ did not converge\n",
      "  warnings.warn(\n"
     ]
    },
    {
     "name": "stdout",
     "output_type": "stream",
     "text": [
      "| \u001b[0m 29      \u001b[0m | \u001b[0m-0.1332  \u001b[0m | \u001b[0m 0.9092  \u001b[0m | \u001b[0m 0.8591  \u001b[0m | \u001b[0m 0.4     \u001b[0m | \u001b[0m 252.6   \u001b[0m |\n",
      "| \u001b[0m 30      \u001b[0m | \u001b[0m-0.05878 \u001b[0m | \u001b[0m 0.7455  \u001b[0m | \u001b[0m 0.8918  \u001b[0m | \u001b[0m 0.2251  \u001b[0m | \u001b[0m 764.5   \u001b[0m |\n",
      "=========================================================================\n",
      "Final Result:  {'target': -0.028523648406132716, 'params': {'C_age_': 0.9233285616768317, 'C_sex_': 0.2564857918446283, 'C_state_': 0.7493585858232832, 'num_components_': 413.25122682752533}}\n",
      "|   iter    |  target   |  C_age_   |  C_sex_   | C_state_  | num_co... |\n",
      "-------------------------------------------------------------------------\n",
      "| \u001b[0m 1       \u001b[0m | \u001b[0m-0.04853 \u001b[0m | \u001b[0m 0.08009 \u001b[0m | \u001b[0m 0.8169  \u001b[0m | \u001b[0m 0.7702  \u001b[0m | \u001b[0m 372.1   \u001b[0m |\n",
      "| \u001b[0m 2       \u001b[0m | \u001b[0m-0.08161 \u001b[0m | \u001b[0m 0.2012  \u001b[0m | \u001b[0m 0.9791  \u001b[0m | \u001b[0m 0.4122  \u001b[0m | \u001b[0m 655.4   \u001b[0m |\n",
      "| \u001b[0m 3       \u001b[0m | \u001b[0m-0.09768 \u001b[0m | \u001b[0m 0.09826 \u001b[0m | \u001b[0m 0.3168  \u001b[0m | \u001b[0m 0.6227  \u001b[0m | \u001b[0m 476.4   \u001b[0m |\n",
      "| \u001b[0m 4       \u001b[0m | \u001b[0m-0.1214  \u001b[0m | \u001b[0m 0.2261  \u001b[0m | \u001b[0m 0.6669  \u001b[0m | \u001b[0m 0.6819  \u001b[0m | \u001b[0m 771.1   \u001b[0m |\n",
      "| \u001b[0m 5       \u001b[0m | \u001b[0m-0.1123  \u001b[0m | \u001b[0m 0.2884  \u001b[0m | \u001b[0m 0.6237  \u001b[0m | \u001b[0m 0.3895  \u001b[0m | \u001b[0m 440.6   \u001b[0m |\n",
      "| \u001b[0m 6       \u001b[0m | \u001b[0m-0.1158  \u001b[0m | \u001b[0m 0.4213  \u001b[0m | \u001b[0m 0.9692  \u001b[0m | \u001b[0m 0.4845  \u001b[0m | \u001b[0m 371.6   \u001b[0m |\n",
      "| \u001b[0m 7       \u001b[0m | \u001b[0m-0.142   \u001b[0m | \u001b[0m 0.5421  \u001b[0m | \u001b[0m 0.2737  \u001b[0m | \u001b[0m 0.3963  \u001b[0m | \u001b[0m 318.3   \u001b[0m |\n",
      "| \u001b[0m 8       \u001b[0m | \u001b[0m-0.1414  \u001b[0m | \u001b[0m 0.1294  \u001b[0m | \u001b[0m 0.3522  \u001b[0m | \u001b[0m 0.2583  \u001b[0m | \u001b[0m 618.7   \u001b[0m |\n",
      "| \u001b[0m 9       \u001b[0m | \u001b[0m-0.0823  \u001b[0m | \u001b[0m 0.1107  \u001b[0m | \u001b[0m 0.6167  \u001b[0m | \u001b[0m 0.2513  \u001b[0m | \u001b[0m 338.0   \u001b[0m |\n",
      "| \u001b[0m 10      \u001b[0m | \u001b[0m-0.1318  \u001b[0m | \u001b[0m 0.3128  \u001b[0m | \u001b[0m 0.7087  \u001b[0m | \u001b[0m 0.618   \u001b[0m | \u001b[0m 392.6   \u001b[0m |\n",
      "| \u001b[0m 11      \u001b[0m | \u001b[0m-0.06407 \u001b[0m | \u001b[0m 0.3322  \u001b[0m | \u001b[0m 0.8318  \u001b[0m | \u001b[0m 0.8645  \u001b[0m | \u001b[0m 572.0   \u001b[0m |\n",
      "| \u001b[0m 12      \u001b[0m | \u001b[0m-0.1257  \u001b[0m | \u001b[0m 0.5856  \u001b[0m | \u001b[0m 0.4533  \u001b[0m | \u001b[0m 0.2556  \u001b[0m | \u001b[0m 319.9   \u001b[0m |\n",
      "| \u001b[95m 13      \u001b[0m | \u001b[95m-0.04507 \u001b[0m | \u001b[95m 0.5736  \u001b[0m | \u001b[95m 0.4864  \u001b[0m | \u001b[95m 0.9386  \u001b[0m | \u001b[95m 706.1   \u001b[0m |\n",
      "| \u001b[0m 14      \u001b[0m | \u001b[0m-0.09981 \u001b[0m | \u001b[0m 0.2335  \u001b[0m | \u001b[0m 0.6158  \u001b[0m | \u001b[0m 0.08799 \u001b[0m | \u001b[0m 783.8   \u001b[0m |\n",
      "| \u001b[0m 15      \u001b[0m | \u001b[0m-0.09016 \u001b[0m | \u001b[0m 0.2924  \u001b[0m | \u001b[0m 0.7845  \u001b[0m | \u001b[0m 0.7972  \u001b[0m | \u001b[0m 571.9   \u001b[0m |\n",
      "| \u001b[0m 16      \u001b[0m | \u001b[0m-0.1454  \u001b[0m | \u001b[0m 0.5875  \u001b[0m | \u001b[0m 0.3751  \u001b[0m | \u001b[0m 0.9014  \u001b[0m | \u001b[0m 706.3   \u001b[0m |\n",
      "| \u001b[0m 17      \u001b[0m | \u001b[0m-0.1473  \u001b[0m | \u001b[0m 0.572   \u001b[0m | \u001b[0m 0.9741  \u001b[0m | \u001b[0m 0.5913  \u001b[0m | \u001b[0m 638.4   \u001b[0m |\n",
      "| \u001b[0m 18      \u001b[0m | \u001b[0m-0.08093 \u001b[0m | \u001b[0m 0.2371  \u001b[0m | \u001b[0m 0.6545  \u001b[0m | \u001b[0m 0.08239 \u001b[0m | \u001b[0m 762.8   \u001b[0m |\n",
      "| \u001b[0m 19      \u001b[0m | \u001b[0m-0.09311 \u001b[0m | \u001b[0m 0.4672  \u001b[0m | \u001b[0m 0.8961  \u001b[0m | \u001b[0m 0.4408  \u001b[0m | \u001b[0m 478.8   \u001b[0m |\n",
      "| \u001b[0m 20      \u001b[0m | \u001b[0m-0.1132  \u001b[0m | \u001b[0m 0.03351 \u001b[0m | \u001b[0m 0.4892  \u001b[0m | \u001b[0m 0.7114  \u001b[0m | \u001b[0m 208.1   \u001b[0m |\n",
      "| \u001b[0m 21      \u001b[0m | \u001b[0m-0.2255  \u001b[0m | \u001b[0m 0.0329  \u001b[0m | \u001b[0m 0.7853  \u001b[0m | \u001b[0m 0.07257 \u001b[0m | \u001b[0m 524.2   \u001b[0m |\n",
      "| \u001b[95m 22      \u001b[0m | \u001b[95m-0.03509 \u001b[0m | \u001b[95m 0.4123  \u001b[0m | \u001b[95m 0.3303  \u001b[0m | \u001b[95m 0.1071  \u001b[0m | \u001b[95m 285.1   \u001b[0m |\n",
      "| \u001b[0m 23      \u001b[0m | \u001b[0m-0.1104  \u001b[0m | \u001b[0m 0.1617  \u001b[0m | \u001b[0m 0.877   \u001b[0m | \u001b[0m 0.6994  \u001b[0m | \u001b[0m 371.9   \u001b[0m |\n",
      "| \u001b[0m 24      \u001b[0m | \u001b[0m-0.05464 \u001b[0m | \u001b[0m 0.4063  \u001b[0m | \u001b[0m 0.1211  \u001b[0m | \u001b[0m 0.2954  \u001b[0m | \u001b[0m 277.5   \u001b[0m |\n",
      "| \u001b[95m 25      \u001b[0m | \u001b[95m-0.02322 \u001b[0m | \u001b[95m 0.3384  \u001b[0m | \u001b[95m 0.7988  \u001b[0m | \u001b[95m 0.4617  \u001b[0m | \u001b[95m 356.3   \u001b[0m |\n",
      "| \u001b[0m 26      \u001b[0m | \u001b[0m-0.02565 \u001b[0m | \u001b[0m 0.4917  \u001b[0m | \u001b[0m 0.9837  \u001b[0m | \u001b[0m 0.5065  \u001b[0m | \u001b[0m 358.4   \u001b[0m |\n",
      "| \u001b[0m 27      \u001b[0m | \u001b[0m-0.06686 \u001b[0m | \u001b[0m 0.3725  \u001b[0m | \u001b[0m 0.08873 \u001b[0m | \u001b[0m 0.2809  \u001b[0m | \u001b[0m 515.6   \u001b[0m |\n",
      "| \u001b[0m 28      \u001b[0m | \u001b[0m-0.2242  \u001b[0m | \u001b[0m 0.138   \u001b[0m | \u001b[0m 0.668   \u001b[0m | \u001b[0m 0.1331  \u001b[0m | \u001b[0m 762.8   \u001b[0m |\n",
      "| \u001b[0m 29      \u001b[0m | \u001b[0m-0.03395 \u001b[0m | \u001b[0m 0.3419  \u001b[0m | \u001b[0m 0.957   \u001b[0m | \u001b[0m 0.5158  \u001b[0m | \u001b[0m 478.7   \u001b[0m |\n",
      "| \u001b[0m 30      \u001b[0m | \u001b[0m-0.04713 \u001b[0m | \u001b[0m 0.7442  \u001b[0m | \u001b[0m 0.3049  \u001b[0m | \u001b[0m 0.9176  \u001b[0m | \u001b[0m 676.4   \u001b[0m |\n",
      "=========================================================================\n",
      "Final Result:  {'target': -0.02321794336190162, 'params': {'C_age_': 0.33841409417700075, 'C_sex_': 0.7987749194442829, 'C_state_': 0.46169027664431, 'num_components_': 356.27681922725856}}\n",
      "|   iter    |  target   |  C_age_   |  C_sex_   | C_state_  | num_co... |\n",
      "-------------------------------------------------------------------------\n",
      "| \u001b[0m 1       \u001b[0m | \u001b[0m-0.04958 \u001b[0m | \u001b[0m 0.5213  \u001b[0m | \u001b[0m 0.327   \u001b[0m | \u001b[0m 0.1765  \u001b[0m | \u001b[0m 231.5   \u001b[0m |\n"
     ]
    },
    {
     "name": "stderr",
     "output_type": "stream",
     "text": [
      "C:\\Users\\Cameron\\anaconda3\\lib\\site-packages\\sklearn\\linear_model\\_sag.py:350: ConvergenceWarning: The max_iter was reached which means the coef_ did not converge\n",
      "  warnings.warn(\n"
     ]
    },
    {
     "name": "stdout",
     "output_type": "stream",
     "text": [
      "| \u001b[0m 2       \u001b[0m | \u001b[0m-0.08922 \u001b[0m | \u001b[0m 0.9323  \u001b[0m | \u001b[0m 0.06829 \u001b[0m | \u001b[0m 0.4413  \u001b[0m | \u001b[0m 214.9   \u001b[0m |\n",
      "| \u001b[0m 3       \u001b[0m | \u001b[0m-0.08845 \u001b[0m | \u001b[0m 0.4966  \u001b[0m | \u001b[0m 0.7043  \u001b[0m | \u001b[0m 0.7742  \u001b[0m | \u001b[0m 441.7   \u001b[0m |\n"
     ]
    },
    {
     "name": "stderr",
     "output_type": "stream",
     "text": [
      "C:\\Users\\Cameron\\anaconda3\\lib\\site-packages\\sklearn\\linear_model\\_sag.py:350: ConvergenceWarning: The max_iter was reached which means the coef_ did not converge\n",
      "  warnings.warn(\n"
     ]
    },
    {
     "name": "stdout",
     "output_type": "stream",
     "text": [
      "| \u001b[0m 4       \u001b[0m | \u001b[0m-0.09549 \u001b[0m | \u001b[0m 0.9206  \u001b[0m | \u001b[0m 0.5488  \u001b[0m | \u001b[0m 0.6903  \u001b[0m | \u001b[0m 348.1   \u001b[0m |\n",
      "| \u001b[0m 5       \u001b[0m | \u001b[0m-0.05939 \u001b[0m | \u001b[0m 0.2518  \u001b[0m | \u001b[0m 0.568   \u001b[0m | \u001b[0m 0.2733  \u001b[0m | \u001b[0m 341.4   \u001b[0m |\n",
      "| \u001b[95m 6       \u001b[0m | \u001b[95m-0.02389 \u001b[0m | \u001b[95m 0.3573  \u001b[0m | \u001b[95m 0.3924  \u001b[0m | \u001b[95m 0.3899  \u001b[0m | \u001b[95m 341.3   \u001b[0m |\n",
      "| \u001b[0m 7       \u001b[0m | \u001b[0m-0.04997 \u001b[0m | \u001b[0m 0.4602  \u001b[0m | \u001b[0m 0.7761  \u001b[0m | \u001b[0m 0.09046 \u001b[0m | \u001b[0m 274.6   \u001b[0m |\n",
      "| \u001b[0m 8       \u001b[0m | \u001b[0m-0.164   \u001b[0m | \u001b[0m 0.3758  \u001b[0m | \u001b[0m 0.6296  \u001b[0m | \u001b[0m 0.3044  \u001b[0m | \u001b[0m 542.8   \u001b[0m |\n",
      "| \u001b[0m 9       \u001b[0m | \u001b[0m-0.1758  \u001b[0m | \u001b[0m 0.253   \u001b[0m | \u001b[0m 0.3795  \u001b[0m | \u001b[0m 0.6772  \u001b[0m | \u001b[0m 341.1   \u001b[0m |\n",
      "| \u001b[0m 10      \u001b[0m | \u001b[0m-0.1623  \u001b[0m | \u001b[0m 0.2253  \u001b[0m | \u001b[0m 0.298   \u001b[0m | \u001b[0m 0.1929  \u001b[0m | \u001b[0m 341.4   \u001b[0m |\n"
     ]
    },
    {
     "name": "stderr",
     "output_type": "stream",
     "text": [
      "C:\\Users\\Cameron\\anaconda3\\lib\\site-packages\\sklearn\\linear_model\\_sag.py:350: ConvergenceWarning: The max_iter was reached which means the coef_ did not converge\n",
      "  warnings.warn(\n"
     ]
    },
    {
     "name": "stdout",
     "output_type": "stream",
     "text": [
      "| \u001b[0m 11      \u001b[0m | \u001b[0m-0.06412 \u001b[0m | \u001b[0m 0.2391  \u001b[0m | \u001b[0m 0.6035  \u001b[0m | \u001b[0m 0.9878  \u001b[0m | \u001b[0m 609.2   \u001b[0m |\n",
      "| \u001b[0m 12      \u001b[0m | \u001b[0m-0.1265  \u001b[0m | \u001b[0m 0.3845  \u001b[0m | \u001b[0m 0.6704  \u001b[0m | \u001b[0m 0.1834  \u001b[0m | \u001b[0m 274.8   \u001b[0m |\n"
     ]
    },
    {
     "name": "stderr",
     "output_type": "stream",
     "text": [
      "C:\\Users\\Cameron\\anaconda3\\lib\\site-packages\\sklearn\\linear_model\\_sag.py:350: ConvergenceWarning: The max_iter was reached which means the coef_ did not converge\n",
      "  warnings.warn(\n"
     ]
    },
    {
     "name": "stdout",
     "output_type": "stream",
     "text": [
      "| \u001b[0m 13      \u001b[0m | \u001b[0m-0.1173  \u001b[0m | \u001b[0m 0.9641  \u001b[0m | \u001b[0m 0.1305  \u001b[0m | \u001b[0m 0.968   \u001b[0m | \u001b[0m 606.3   \u001b[0m |\n"
     ]
    },
    {
     "name": "stderr",
     "output_type": "stream",
     "text": [
      "C:\\Users\\Cameron\\anaconda3\\lib\\site-packages\\sklearn\\linear_model\\_sag.py:350: ConvergenceWarning: The max_iter was reached which means the coef_ did not converge\n",
      "  warnings.warn(\n"
     ]
    },
    {
     "name": "stdout",
     "output_type": "stream",
     "text": [
      "| \u001b[95m 14      \u001b[0m | \u001b[95m-0.02204 \u001b[0m | \u001b[95m 0.9637  \u001b[0m | \u001b[95m 0.7198  \u001b[0m | \u001b[95m 0.1215  \u001b[0m | \u001b[95m 455.1   \u001b[0m |\n",
      "| \u001b[0m 15      \u001b[0m | \u001b[0m-0.04598 \u001b[0m | \u001b[0m 0.07229 \u001b[0m | \u001b[0m 0.8252  \u001b[0m | \u001b[0m 0.9058  \u001b[0m | \u001b[0m 377.1   \u001b[0m |\n",
      "| \u001b[0m 16      \u001b[0m | \u001b[0m-0.1173  \u001b[0m | \u001b[0m 0.6781  \u001b[0m | \u001b[0m 0.2469  \u001b[0m | \u001b[0m 0.1148  \u001b[0m | \u001b[0m 231.4   \u001b[0m |\n",
      "| \u001b[0m 17      \u001b[0m | \u001b[0m-0.1233  \u001b[0m | \u001b[0m 0.5355  \u001b[0m | \u001b[0m 0.06986 \u001b[0m | \u001b[0m 0.01002 \u001b[0m | \u001b[0m 452.9   \u001b[0m |\n"
     ]
    },
    {
     "name": "stderr",
     "output_type": "stream",
     "text": [
      "C:\\Users\\Cameron\\anaconda3\\lib\\site-packages\\sklearn\\linear_model\\_sag.py:350: ConvergenceWarning: The max_iter was reached which means the coef_ did not converge\n",
      "  warnings.warn(\n"
     ]
    },
    {
     "name": "stdout",
     "output_type": "stream",
     "text": [
      "| \u001b[0m 18      \u001b[0m | \u001b[0m-0.1439  \u001b[0m | \u001b[0m 0.7797  \u001b[0m | \u001b[0m 0.8438  \u001b[0m | \u001b[0m 0.6278  \u001b[0m | \u001b[0m 413.5   \u001b[0m |\n",
      "| \u001b[0m 19      \u001b[0m | \u001b[0m-0.1034  \u001b[0m | \u001b[0m 0.4671  \u001b[0m | \u001b[0m 0.6234  \u001b[0m | \u001b[0m 0.792   \u001b[0m | \u001b[0m 670.1   \u001b[0m |\n",
      "| \u001b[0m 20      \u001b[0m | \u001b[0m-0.1726  \u001b[0m | \u001b[0m 0.5506  \u001b[0m | \u001b[0m 0.2182  \u001b[0m | \u001b[0m 0.8152  \u001b[0m | \u001b[0m 791.3   \u001b[0m |\n",
      "| \u001b[0m 21      \u001b[0m | \u001b[0m-0.09558 \u001b[0m | \u001b[0m 0.1106  \u001b[0m | \u001b[0m 0.7179  \u001b[0m | \u001b[0m 0.6304  \u001b[0m | \u001b[0m 458.7   \u001b[0m |\n"
     ]
    },
    {
     "name": "stderr",
     "output_type": "stream",
     "text": [
      "C:\\Users\\Cameron\\anaconda3\\lib\\site-packages\\sklearn\\linear_model\\_sag.py:350: ConvergenceWarning: The max_iter was reached which means the coef_ did not converge\n",
      "  warnings.warn(\n"
     ]
    },
    {
     "name": "stdout",
     "output_type": "stream",
     "text": [
      "| \u001b[0m 22      \u001b[0m | \u001b[0m-0.1615  \u001b[0m | \u001b[0m 0.9628  \u001b[0m | \u001b[0m 0.1907  \u001b[0m | \u001b[0m 0.4534  \u001b[0m | \u001b[0m 774.9   \u001b[0m |\n"
     ]
    },
    {
     "name": "stderr",
     "output_type": "stream",
     "text": [
      "C:\\Users\\Cameron\\anaconda3\\lib\\site-packages\\sklearn\\linear_model\\_sag.py:350: ConvergenceWarning: The max_iter was reached which means the coef_ did not converge\n",
      "  warnings.warn(\n"
     ]
    },
    {
     "name": "stdout",
     "output_type": "stream",
     "text": [
      "| \u001b[0m 23      \u001b[0m | \u001b[0m-0.04363 \u001b[0m | \u001b[0m 0.9721  \u001b[0m | \u001b[0m 0.9901  \u001b[0m | \u001b[0m 0.3094  \u001b[0m | \u001b[0m 527.0   \u001b[0m |\n",
      "| \u001b[0m 24      \u001b[0m | \u001b[0m-0.118   \u001b[0m | \u001b[0m 0.08524 \u001b[0m | \u001b[0m 0.4429  \u001b[0m | \u001b[0m 0.798   \u001b[0m | \u001b[0m 254.5   \u001b[0m |\n",
      "| \u001b[0m 25      \u001b[0m | \u001b[0m-0.1551  \u001b[0m | \u001b[0m 0.1474  \u001b[0m | \u001b[0m 0.2185  \u001b[0m | \u001b[0m 0.1745  \u001b[0m | \u001b[0m 708.4   \u001b[0m |\n",
      "| \u001b[0m 26      \u001b[0m | \u001b[0m-0.06001 \u001b[0m | \u001b[0m 0.3839  \u001b[0m | \u001b[0m 0.272   \u001b[0m | \u001b[0m 0.5862  \u001b[0m | \u001b[0m 586.5   \u001b[0m |\n",
      "| \u001b[0m 27      \u001b[0m | \u001b[0m-0.1586  \u001b[0m | \u001b[0m 0.6941  \u001b[0m | \u001b[0m 0.8052  \u001b[0m | \u001b[0m 0.02686 \u001b[0m | \u001b[0m 566.1   \u001b[0m |\n",
      "| \u001b[0m 28      \u001b[0m | \u001b[0m-0.04556 \u001b[0m | \u001b[0m 0.7122  \u001b[0m | \u001b[0m 0.8187  \u001b[0m | \u001b[0m 0.2889  \u001b[0m | \u001b[0m 294.0   \u001b[0m |\n"
     ]
    },
    {
     "name": "stderr",
     "output_type": "stream",
     "text": [
      "C:\\Users\\Cameron\\anaconda3\\lib\\site-packages\\sklearn\\linear_model\\_sag.py:350: ConvergenceWarning: The max_iter was reached which means the coef_ did not converge\n",
      "  warnings.warn(\n"
     ]
    },
    {
     "name": "stdout",
     "output_type": "stream",
     "text": [
      "| \u001b[0m 29      \u001b[0m | \u001b[0m-0.1668  \u001b[0m | \u001b[0m 0.2335  \u001b[0m | \u001b[0m 0.3877  \u001b[0m | \u001b[0m 0.9757  \u001b[0m | \u001b[0m 786.9   \u001b[0m |\n",
      "| \u001b[0m 30      \u001b[0m | \u001b[0m-0.06694 \u001b[0m | \u001b[0m 0.1821  \u001b[0m | \u001b[0m 0.2391  \u001b[0m | \u001b[0m 0.8223  \u001b[0m | \u001b[0m 769.2   \u001b[0m |\n",
      "=========================================================================\n",
      "Final Result:  {'target': -0.022041125897779446, 'params': {'C_age_': 0.963687263951218, 'C_sex_': 0.7198438515579624, 'C_state_': 0.1215326596439737, 'num_components_': 455.09402570668027}}\n",
      "|   iter    |  target   |  C_age_   |  C_sex_   | C_state_  | num_co... |\n",
      "-------------------------------------------------------------------------\n"
     ]
    },
    {
     "name": "stderr",
     "output_type": "stream",
     "text": [
      "C:\\Users\\Cameron\\anaconda3\\lib\\site-packages\\sklearn\\linear_model\\_sag.py:350: ConvergenceWarning: The max_iter was reached which means the coef_ did not converge\n",
      "  warnings.warn(\n"
     ]
    },
    {
     "name": "stdout",
     "output_type": "stream",
     "text": [
      "| \u001b[0m 1       \u001b[0m | \u001b[0m-0.117   \u001b[0m | \u001b[0m 0.9742  \u001b[0m | \u001b[0m 0.9885  \u001b[0m | \u001b[0m 0.4025  \u001b[0m | \u001b[0m 547.1   \u001b[0m |\n",
      "| \u001b[95m 2       \u001b[0m | \u001b[95m-0.02936 \u001b[0m | \u001b[95m 0.5623  \u001b[0m | \u001b[95m 0.3108  \u001b[0m | \u001b[95m 0.6339  \u001b[0m | \u001b[95m 280.9   \u001b[0m |\n",
      "| \u001b[0m 3       \u001b[0m | \u001b[0m-0.1885  \u001b[0m | \u001b[0m 0.5383  \u001b[0m | \u001b[0m 0.7421  \u001b[0m | \u001b[0m 0.9112  \u001b[0m | \u001b[0m 416.8   \u001b[0m |\n",
      "| \u001b[0m 4       \u001b[0m | \u001b[0m-0.1953  \u001b[0m | \u001b[0m 0.05371 \u001b[0m | \u001b[0m 0.809   \u001b[0m | \u001b[0m 0.6584  \u001b[0m | \u001b[0m 560.9   \u001b[0m |\n",
      "| \u001b[0m 5       \u001b[0m | \u001b[0m-0.08586 \u001b[0m | \u001b[0m 0.5891  \u001b[0m | \u001b[0m 0.1727  \u001b[0m | \u001b[0m 0.8162  \u001b[0m | \u001b[0m 541.5   \u001b[0m |\n",
      "| \u001b[0m 6       \u001b[0m | \u001b[0m-0.09367 \u001b[0m | \u001b[0m 0.3959  \u001b[0m | \u001b[0m 0.1646  \u001b[0m | \u001b[0m 0.5274  \u001b[0m | \u001b[0m 268.6   \u001b[0m |\n",
      "| \u001b[0m 7       \u001b[0m | \u001b[0m-0.1682  \u001b[0m | \u001b[0m 0.1492  \u001b[0m | \u001b[0m 0.9011  \u001b[0m | \u001b[0m 0.5255  \u001b[0m | \u001b[0m 289.9   \u001b[0m |\n"
     ]
    },
    {
     "name": "stderr",
     "output_type": "stream",
     "text": [
      "C:\\Users\\Cameron\\anaconda3\\lib\\site-packages\\sklearn\\linear_model\\_sag.py:350: ConvergenceWarning: The max_iter was reached which means the coef_ did not converge\n",
      "  warnings.warn(\n"
     ]
    },
    {
     "name": "stdout",
     "output_type": "stream",
     "text": [
      "| \u001b[95m 8       \u001b[0m | \u001b[95m-0.01885 \u001b[0m | \u001b[95m 0.9643  \u001b[0m | \u001b[95m 0.182   \u001b[0m | \u001b[95m 0.2895  \u001b[0m | \u001b[95m 279.7   \u001b[0m |\n"
     ]
    },
    {
     "name": "stderr",
     "output_type": "stream",
     "text": [
      "C:\\Users\\Cameron\\anaconda3\\lib\\site-packages\\sklearn\\linear_model\\_sag.py:350: ConvergenceWarning: The max_iter was reached which means the coef_ did not converge\n",
      "  warnings.warn(\n"
     ]
    },
    {
     "name": "stdout",
     "output_type": "stream",
     "text": [
      "| \u001b[0m 9       \u001b[0m | \u001b[0m-0.1901  \u001b[0m | \u001b[0m 0.01    \u001b[0m | \u001b[0m 1.0     \u001b[0m | \u001b[0m 1.0     \u001b[0m | \u001b[0m 277.1   \u001b[0m |\n",
      "| \u001b[0m 10      \u001b[0m | \u001b[0m-0.1008  \u001b[0m | \u001b[0m 0.701   \u001b[0m | \u001b[0m 0.2724  \u001b[0m | \u001b[0m 0.03199 \u001b[0m | \u001b[0m 280.3   \u001b[0m |\n",
      "| \u001b[0m 11      \u001b[0m | \u001b[0m-0.05845 \u001b[0m | \u001b[0m 0.6053  \u001b[0m | \u001b[0m 0.2258  \u001b[0m | \u001b[0m 0.6126  \u001b[0m | \u001b[0m 280.0   \u001b[0m |\n",
      "| \u001b[0m 12      \u001b[0m | \u001b[0m-0.07061 \u001b[0m | \u001b[0m 0.6461  \u001b[0m | \u001b[0m 0.2174  \u001b[0m | \u001b[0m 0.5646  \u001b[0m | \u001b[0m 281.0   \u001b[0m |\n",
      "| \u001b[0m 13      \u001b[0m | \u001b[0m-0.1084  \u001b[0m | \u001b[0m 0.4897  \u001b[0m | \u001b[0m 0.1973  \u001b[0m | \u001b[0m 0.6193  \u001b[0m | \u001b[0m 280.6   \u001b[0m |\n",
      "| \u001b[0m 14      \u001b[0m | \u001b[0m-0.2033  \u001b[0m | \u001b[0m 0.4812  \u001b[0m | \u001b[0m 0.5109  \u001b[0m | \u001b[0m 0.4596  \u001b[0m | \u001b[0m 752.2   \u001b[0m |\n",
      "| \u001b[0m 15      \u001b[0m | \u001b[0m-0.2501  \u001b[0m | \u001b[0m 0.2659  \u001b[0m | \u001b[0m 0.1437  \u001b[0m | \u001b[0m 0.6427  \u001b[0m | \u001b[0m 281.0   \u001b[0m |\n",
      "| \u001b[0m 16      \u001b[0m | \u001b[0m-0.1065  \u001b[0m | \u001b[0m 0.4167  \u001b[0m | \u001b[0m 0.2647  \u001b[0m | \u001b[0m 0.6141  \u001b[0m | \u001b[0m 726.3   \u001b[0m |\n",
      "| \u001b[0m 17      \u001b[0m | \u001b[0m-0.02939 \u001b[0m | \u001b[0m 0.6034  \u001b[0m | \u001b[0m 0.37    \u001b[0m | \u001b[0m 0.2261  \u001b[0m | \u001b[0m 279.2   \u001b[0m |\n",
      "| \u001b[0m 18      \u001b[0m | \u001b[0m-0.06082 \u001b[0m | \u001b[0m 0.3814  \u001b[0m | \u001b[0m 0.1149  \u001b[0m | \u001b[0m 0.7355  \u001b[0m | \u001b[0m 280.2   \u001b[0m |\n",
      "| \u001b[95m 19      \u001b[0m | \u001b[95m-0.01197 \u001b[0m | \u001b[95m 0.4521  \u001b[0m | \u001b[95m 0.3105  \u001b[0m | \u001b[95m 0.1894  \u001b[0m | \u001b[95m 245.2   \u001b[0m |\n",
      "| \u001b[0m 20      \u001b[0m | \u001b[0m-0.1398  \u001b[0m | \u001b[0m 0.1968  \u001b[0m | \u001b[0m 0.1243  \u001b[0m | \u001b[0m 0.6434  \u001b[0m | \u001b[0m 777.7   \u001b[0m |\n",
      "| \u001b[0m 21      \u001b[0m | \u001b[0m-0.01805 \u001b[0m | \u001b[0m 0.3997  \u001b[0m | \u001b[0m 0.5296  \u001b[0m | \u001b[0m 0.1156  \u001b[0m | \u001b[0m 245.1   \u001b[0m |\n"
     ]
    },
    {
     "name": "stderr",
     "output_type": "stream",
     "text": [
      "C:\\Users\\Cameron\\anaconda3\\lib\\site-packages\\sklearn\\linear_model\\_sag.py:350: ConvergenceWarning: The max_iter was reached which means the coef_ did not converge\n",
      "  warnings.warn(\n"
     ]
    },
    {
     "name": "stdout",
     "output_type": "stream",
     "text": [
      "| \u001b[0m 22      \u001b[0m | \u001b[0m-0.09738 \u001b[0m | \u001b[0m 0.8504  \u001b[0m | \u001b[0m 0.4932  \u001b[0m | \u001b[0m 0.4348  \u001b[0m | \u001b[0m 693.0   \u001b[0m |\n",
      "| \u001b[0m 23      \u001b[0m | \u001b[0m-0.1055  \u001b[0m | \u001b[0m 0.4522  \u001b[0m | \u001b[0m 0.1953  \u001b[0m | \u001b[0m 0.232   \u001b[0m | \u001b[0m 245.3   \u001b[0m |\n",
      "| \u001b[0m 24      \u001b[0m | \u001b[0m-0.146   \u001b[0m | \u001b[0m 0.3554  \u001b[0m | \u001b[0m 0.01519 \u001b[0m | \u001b[0m 0.5443  \u001b[0m | \u001b[0m 605.6   \u001b[0m |\n",
      "| \u001b[0m 25      \u001b[0m | \u001b[0m-0.06921 \u001b[0m | \u001b[0m 0.6401  \u001b[0m | \u001b[0m 0.3281  \u001b[0m | \u001b[0m 0.4758  \u001b[0m | \u001b[0m 532.3   \u001b[0m |\n"
     ]
    },
    {
     "name": "stderr",
     "output_type": "stream",
     "text": [
      "C:\\Users\\Cameron\\anaconda3\\lib\\site-packages\\sklearn\\linear_model\\_sag.py:350: ConvergenceWarning: The max_iter was reached which means the coef_ did not converge\n",
      "  warnings.warn(\n"
     ]
    },
    {
     "name": "stdout",
     "output_type": "stream",
     "text": [
      "| \u001b[0m 26      \u001b[0m | \u001b[0m-0.1159  \u001b[0m | \u001b[0m 0.8382  \u001b[0m | \u001b[0m 0.3062  \u001b[0m | \u001b[0m 0.4535  \u001b[0m | \u001b[0m 279.9   \u001b[0m |\n",
      "| \u001b[0m 27      \u001b[0m | \u001b[0m-0.05442 \u001b[0m | \u001b[0m 0.7432  \u001b[0m | \u001b[0m 0.5775  \u001b[0m | \u001b[0m 0.3096  \u001b[0m | \u001b[0m 279.2   \u001b[0m |\n",
      "| \u001b[0m 28      \u001b[0m | \u001b[0m-0.1045  \u001b[0m | \u001b[0m 0.3869  \u001b[0m | \u001b[0m 0.2552  \u001b[0m | \u001b[0m 0.2465  \u001b[0m | \u001b[0m 279.3   \u001b[0m |\n",
      "| \u001b[0m 29      \u001b[0m | \u001b[0m-0.02903 \u001b[0m | \u001b[0m 0.6927  \u001b[0m | \u001b[0m 0.6875  \u001b[0m | \u001b[0m 0.6902  \u001b[0m | \u001b[0m 345.0   \u001b[0m |\n",
      "| \u001b[0m 30      \u001b[0m | \u001b[0m-0.1819  \u001b[0m | \u001b[0m 0.5124  \u001b[0m | \u001b[0m 0.1563  \u001b[0m | \u001b[0m 0.3829  \u001b[0m | \u001b[0m 562.1   \u001b[0m |\n",
      "=========================================================================\n",
      "Final Result:  {'target': -0.011965073517583824, 'params': {'C_age_': 0.4520791165310532, 'C_sex_': 0.3105468203346235, 'C_state_': 0.1894327957851122, 'num_components_': 245.15121582593625}}\n",
      "|   iter    |  target   |  C_age_   |  C_sex_   | C_state_  | num_co... |\n",
      "-------------------------------------------------------------------------\n"
     ]
    },
    {
     "name": "stderr",
     "output_type": "stream",
     "text": [
      "C:\\Users\\Cameron\\anaconda3\\lib\\site-packages\\sklearn\\linear_model\\_sag.py:350: ConvergenceWarning: The max_iter was reached which means the coef_ did not converge\n",
      "  warnings.warn(\n"
     ]
    },
    {
     "name": "stdout",
     "output_type": "stream",
     "text": [
      "| \u001b[0m 1       \u001b[0m | \u001b[0m-0.2126  \u001b[0m | \u001b[0m 0.8673  \u001b[0m | \u001b[0m 0.314   \u001b[0m | \u001b[0m 0.8171  \u001b[0m | \u001b[0m 253.5   \u001b[0m |\n"
     ]
    },
    {
     "name": "stderr",
     "output_type": "stream",
     "text": [
      "C:\\Users\\Cameron\\anaconda3\\lib\\site-packages\\sklearn\\linear_model\\_sag.py:350: ConvergenceWarning: The max_iter was reached which means the coef_ did not converge\n",
      "  warnings.warn(\n"
     ]
    },
    {
     "name": "stdout",
     "output_type": "stream",
     "text": [
      "| \u001b[95m 2       \u001b[0m | \u001b[95m-0.1264  \u001b[0m | \u001b[95m 0.8085  \u001b[0m | \u001b[95m 0.7061  \u001b[0m | \u001b[95m 0.02719 \u001b[0m | \u001b[95m 341.2   \u001b[0m |\n",
      "| \u001b[0m 3       \u001b[0m | \u001b[0m-0.1797  \u001b[0m | \u001b[0m 0.2084  \u001b[0m | \u001b[0m 0.4993  \u001b[0m | \u001b[0m 0.3039  \u001b[0m | \u001b[0m 749.8   \u001b[0m |\n",
      "| \u001b[95m 4       \u001b[0m | \u001b[95m-0.0757  \u001b[0m | \u001b[95m 0.6802  \u001b[0m | \u001b[95m 0.3533  \u001b[0m | \u001b[95m 0.118   \u001b[0m | \u001b[95m 743.9   \u001b[0m |\n"
     ]
    },
    {
     "name": "stderr",
     "output_type": "stream",
     "text": [
      "C:\\Users\\Cameron\\anaconda3\\lib\\site-packages\\sklearn\\linear_model\\_sag.py:350: ConvergenceWarning: The max_iter was reached which means the coef_ did not converge\n",
      "  warnings.warn(\n"
     ]
    },
    {
     "name": "stdout",
     "output_type": "stream",
     "text": [
      "| \u001b[95m 5       \u001b[0m | \u001b[95m-0.06792 \u001b[0m | \u001b[95m 0.3767  \u001b[0m | \u001b[95m 0.2053  \u001b[0m | \u001b[95m 0.9665  \u001b[0m | \u001b[95m 360.8   \u001b[0m |\n",
      "| \u001b[95m 6       \u001b[0m | \u001b[95m-0.0623  \u001b[0m | \u001b[95m 0.5512  \u001b[0m | \u001b[95m 0.5518  \u001b[0m | \u001b[95m 0.3116  \u001b[0m | \u001b[95m 367.6   \u001b[0m |\n"
     ]
    },
    {
     "name": "stderr",
     "output_type": "stream",
     "text": [
      "C:\\Users\\Cameron\\anaconda3\\lib\\site-packages\\sklearn\\linear_model\\_sag.py:350: ConvergenceWarning: The max_iter was reached which means the coef_ did not converge\n",
      "  warnings.warn(\n",
      "C:\\Users\\Cameron\\anaconda3\\lib\\site-packages\\sklearn\\linear_model\\_sag.py:350: ConvergenceWarning: The max_iter was reached which means the coef_ did not converge\n",
      "  warnings.warn(\n"
     ]
    },
    {
     "name": "stdout",
     "output_type": "stream",
     "text": [
      "| \u001b[0m 7       \u001b[0m | \u001b[0m-0.1451  \u001b[0m | \u001b[0m 0.9913  \u001b[0m | \u001b[0m 0.1249  \u001b[0m | \u001b[0m 0.9713  \u001b[0m | \u001b[0m 446.5   \u001b[0m |\n"
     ]
    },
    {
     "name": "stderr",
     "output_type": "stream",
     "text": [
      "C:\\Users\\Cameron\\anaconda3\\lib\\site-packages\\sklearn\\linear_model\\_sag.py:350: ConvergenceWarning: The max_iter was reached which means the coef_ did not converge\n",
      "  warnings.warn(\n"
     ]
    },
    {
     "name": "stdout",
     "output_type": "stream",
     "text": [
      "| \u001b[95m 8       \u001b[0m | \u001b[95m-0.02963 \u001b[0m | \u001b[95m 0.9225  \u001b[0m | \u001b[95m 0.5351  \u001b[0m | \u001b[95m 0.5929  \u001b[0m | \u001b[95m 506.0   \u001b[0m |\n",
      "| \u001b[0m 9       \u001b[0m | \u001b[0m-0.06764 \u001b[0m | \u001b[0m 0.1598  \u001b[0m | \u001b[0m 0.9859  \u001b[0m | \u001b[0m 0.1953  \u001b[0m | \u001b[0m 728.3   \u001b[0m |\n",
      "| \u001b[0m 10      \u001b[0m | \u001b[0m-0.2198  \u001b[0m | \u001b[0m 0.2927  \u001b[0m | \u001b[0m 0.8383  \u001b[0m | \u001b[0m 0.6348  \u001b[0m | \u001b[0m 262.5   \u001b[0m |\n",
      "| \u001b[95m 11      \u001b[0m | \u001b[95m-0.02075 \u001b[0m | \u001b[95m 0.2788  \u001b[0m | \u001b[95m 0.1343  \u001b[0m | \u001b[95m 0.1674  \u001b[0m | \u001b[95m 437.7   \u001b[0m |\n",
      "| \u001b[0m 12      \u001b[0m | \u001b[0m-0.05755 \u001b[0m | \u001b[0m 0.2     \u001b[0m | \u001b[0m 0.5688  \u001b[0m | \u001b[0m 0.146   \u001b[0m | \u001b[0m 434.0   \u001b[0m |\n",
      "| \u001b[0m 13      \u001b[0m | \u001b[0m-0.1127  \u001b[0m | \u001b[0m 0.2053  \u001b[0m | \u001b[0m 0.7583  \u001b[0m | \u001b[0m 0.7368  \u001b[0m | \u001b[0m 510.7   \u001b[0m |\n"
     ]
    },
    {
     "name": "stderr",
     "output_type": "stream",
     "text": [
      "C:\\Users\\Cameron\\anaconda3\\lib\\site-packages\\sklearn\\linear_model\\_sag.py:350: ConvergenceWarning: The max_iter was reached which means the coef_ did not converge\n",
      "  warnings.warn(\n"
     ]
    },
    {
     "name": "stdout",
     "output_type": "stream",
     "text": [
      "| \u001b[0m 14      \u001b[0m | \u001b[0m-0.04788 \u001b[0m | \u001b[0m 0.9497  \u001b[0m | \u001b[0m 0.7787  \u001b[0m | \u001b[0m 0.8589  \u001b[0m | \u001b[0m 502.5   \u001b[0m |\n"
     ]
    },
    {
     "name": "stderr",
     "output_type": "stream",
     "text": [
      "C:\\Users\\Cameron\\anaconda3\\lib\\site-packages\\sklearn\\linear_model\\_sag.py:350: ConvergenceWarning: The max_iter was reached which means the coef_ did not converge\n",
      "  warnings.warn(\n"
     ]
    },
    {
     "name": "stdout",
     "output_type": "stream",
     "text": [
      "| \u001b[0m 15      \u001b[0m | \u001b[0m-0.06617 \u001b[0m | \u001b[0m 0.7818  \u001b[0m | \u001b[0m 0.6488  \u001b[0m | \u001b[0m 0.5096  \u001b[0m | \u001b[0m 736.9   \u001b[0m |\n",
      "| \u001b[0m 16      \u001b[0m | \u001b[0m-0.05152 \u001b[0m | \u001b[0m 0.09644 \u001b[0m | \u001b[0m 0.9644  \u001b[0m | \u001b[0m 0.7739  \u001b[0m | \u001b[0m 375.6   \u001b[0m |\n",
      "| \u001b[0m 17      \u001b[0m | \u001b[0m-0.1869  \u001b[0m | \u001b[0m 0.3004  \u001b[0m | \u001b[0m 0.0786  \u001b[0m | \u001b[0m 0.4748  \u001b[0m | \u001b[0m 382.5   \u001b[0m |\n",
      "| \u001b[0m 18      \u001b[0m | \u001b[0m-0.208   \u001b[0m | \u001b[0m 0.144   \u001b[0m | \u001b[0m 0.105   \u001b[0m | \u001b[0m 0.9607  \u001b[0m | \u001b[0m 372.2   \u001b[0m |\n",
      "| \u001b[0m 19      \u001b[0m | \u001b[0m-0.03776 \u001b[0m | \u001b[0m 0.06443 \u001b[0m | \u001b[0m 0.5479  \u001b[0m | \u001b[0m 0.104   \u001b[0m | \u001b[0m 436.8   \u001b[0m |\n",
      "| \u001b[0m 20      \u001b[0m | \u001b[0m-0.168   \u001b[0m | \u001b[0m 0.1861  \u001b[0m | \u001b[0m 0.8199  \u001b[0m | \u001b[0m 0.6525  \u001b[0m | \u001b[0m 504.5   \u001b[0m |\n",
      "| \u001b[0m 21      \u001b[0m | \u001b[0m-0.07921 \u001b[0m | \u001b[0m 0.132   \u001b[0m | \u001b[0m 0.3572  \u001b[0m | \u001b[0m 0.6398  \u001b[0m | \u001b[0m 437.2   \u001b[0m |\n"
     ]
    },
    {
     "name": "stderr",
     "output_type": "stream",
     "text": [
      "C:\\Users\\Cameron\\anaconda3\\lib\\site-packages\\sklearn\\linear_model\\_sag.py:350: ConvergenceWarning: The max_iter was reached which means the coef_ did not converge\n",
      "  warnings.warn(\n"
     ]
    },
    {
     "name": "stdout",
     "output_type": "stream",
     "text": [
      "| \u001b[0m 22      \u001b[0m | \u001b[0m-0.123   \u001b[0m | \u001b[0m 0.9603  \u001b[0m | \u001b[0m 0.04724 \u001b[0m | \u001b[0m 0.1338  \u001b[0m | \u001b[0m 437.5   \u001b[0m |\n",
      "| \u001b[0m 23      \u001b[0m | \u001b[0m-0.1239  \u001b[0m | \u001b[0m 0.5209  \u001b[0m | \u001b[0m 0.6244  \u001b[0m | \u001b[0m 0.2465  \u001b[0m | \u001b[0m 367.6   \u001b[0m |\n"
     ]
    },
    {
     "name": "stderr",
     "output_type": "stream",
     "text": [
      "C:\\Users\\Cameron\\anaconda3\\lib\\site-packages\\sklearn\\linear_model\\_sag.py:350: ConvergenceWarning: The max_iter was reached which means the coef_ did not converge\n",
      "  warnings.warn(\n"
     ]
    },
    {
     "name": "stdout",
     "output_type": "stream",
     "text": [
      "| \u001b[0m 24      \u001b[0m | \u001b[0m-0.06227 \u001b[0m | \u001b[0m 0.8285  \u001b[0m | \u001b[0m 0.4037  \u001b[0m | \u001b[0m 0.5599  \u001b[0m | \u001b[0m 632.9   \u001b[0m |\n",
      "| \u001b[0m 25      \u001b[0m | \u001b[0m-0.03241 \u001b[0m | \u001b[0m 0.57    \u001b[0m | \u001b[0m 0.9663  \u001b[0m | \u001b[0m 0.07523 \u001b[0m | \u001b[0m 442.9   \u001b[0m |\n"
     ]
    },
    {
     "name": "stderr",
     "output_type": "stream",
     "text": [
      "C:\\Users\\Cameron\\anaconda3\\lib\\site-packages\\sklearn\\linear_model\\_sag.py:350: ConvergenceWarning: The max_iter was reached which means the coef_ did not converge\n",
      "  warnings.warn(\n"
     ]
    },
    {
     "name": "stdout",
     "output_type": "stream",
     "text": [
      "| \u001b[0m 26      \u001b[0m | \u001b[0m-0.1086  \u001b[0m | \u001b[0m 0.9559  \u001b[0m | \u001b[0m 0.1121  \u001b[0m | \u001b[0m 0.6242  \u001b[0m | \u001b[0m 592.1   \u001b[0m |\n",
      "| \u001b[0m 27      \u001b[0m | \u001b[0m-0.06209 \u001b[0m | \u001b[0m 0.1252  \u001b[0m | \u001b[0m 0.2105  \u001b[0m | \u001b[0m 0.8851  \u001b[0m | \u001b[0m 701.6   \u001b[0m |\n",
      "| \u001b[0m 28      \u001b[0m | \u001b[0m-0.05777 \u001b[0m | \u001b[0m 0.608   \u001b[0m | \u001b[0m 0.3778  \u001b[0m | \u001b[0m 0.2502  \u001b[0m | \u001b[0m 360.9   \u001b[0m |\n",
      "| \u001b[0m 29      \u001b[0m | \u001b[0m-0.08617 \u001b[0m | \u001b[0m 0.2997  \u001b[0m | \u001b[0m 0.9456  \u001b[0m | \u001b[0m 0.9215  \u001b[0m | \u001b[0m 434.2   \u001b[0m |\n",
      "| \u001b[0m 30      \u001b[0m | \u001b[0m-0.04931 \u001b[0m | \u001b[0m 0.7266  \u001b[0m | \u001b[0m 0.2357  \u001b[0m | \u001b[0m 0.6191  \u001b[0m | \u001b[0m 277.9   \u001b[0m |\n",
      "=========================================================================\n",
      "Final Result:  {'target': -0.020748125392679038, 'params': {'C_age_': 0.2788291722602872, 'C_sex_': 0.13427626719994148, 'C_state_': 0.1674057743862819, 'num_components_': 437.7048513666689}}\n"
     ]
    }
   ],
   "source": [
    "optimization_results = [optimize_models_mn(train_data=train_data, number_synthetic_datasets=nsd, number_gmm_initializations=ngi, random_state=r) for r in random_states]"
   ]
  },
  {
   "cell_type": "code",
   "execution_count": 22,
   "id": "ea0b7024",
   "metadata": {},
   "outputs": [],
   "source": [
    "run_targets = [np.minimum.accumulate(-i[1].space.target) for i in optimization_results]"
   ]
  },
  {
   "cell_type": "code",
   "execution_count": 23,
   "id": "f4225965",
   "metadata": {},
   "outputs": [
    {
     "data": {
      "image/png": "[encoded data removed]",
      "text/plain": [
       "<Figure size 432x288 with 1 Axes>"
      ]
     },
     "metadata": {
      "needs_background": "light"
     },
     "output_type": "display_data"
    }
   ],
   "source": [
    "plt.plot(run_targets[0])\n",
    "plt.scatter(np.arange(len(run_targets[0])), run_targets[0], s=6)\n",
    "plt.plot(run_targets[1])\n",
    "plt.scatter(np.arange(len(run_targets[1])), run_targets[1], s=6)\n",
    "plt.plot(run_targets[2])\n",
    "plt.scatter(np.arange(len(run_targets[2])), run_targets[2], s=6)\n",
    "plt.plot(run_targets[3])\n",
    "plt.scatter(np.arange(len(run_targets[3])), run_targets[3], s=6)\n",
    "plt.plot(run_targets[4])\n",
    "plt.scatter(np.arange(len(run_targets[4])), run_targets[4], s=6)\n",
    "plt.title(\"Running Minimum Objective Value for MNL Synthesis\")\n",
    "plt.show()"
   ]
  },
  {
   "cell_type": "markdown",
   "id": "34094ad9",
   "metadata": {},
   "source": [
    "Choose the params that gave the best objective value across all random seeds."
   ]
  },
  {
   "cell_type": "code",
   "execution_count": 24,
   "id": "81eccd8d",
   "metadata": {},
   "outputs": [],
   "source": [
    "best_params = optimization_results[np.argmax([x[0]['target'] for x in optimization_results])][0]"
   ]
  },
  {
   "cell_type": "code",
   "execution_count": 25,
   "id": "dbab5ac5",
   "metadata": {},
   "outputs": [
    {
     "data": {
      "text/plain": [
       "{'target': -0.011965073517583824,\n",
       " 'params': {'C_age_': 0.4520791165310532,\n",
       "  'C_sex_': 0.3105468203346235,\n",
       "  'C_state_': 0.1894327957851122,\n",
       "  'num_components_': 245.15121582593625}}"
      ]
     },
     "execution_count": 25,
     "metadata": {},
     "output_type": "execute_result"
    }
   ],
   "source": [
    "best_params"
   ]
  },
  {
   "cell_type": "markdown",
   "id": "cea1e3fa",
   "metadata": {},
   "source": [
    "Generate 20 synthetic data sets."
   ]
  },
  {
   "cell_type": "code",
   "execution_count": 26,
   "id": "643fb518",
   "metadata": {},
   "outputs": [],
   "source": [
    "full_ratios, full_sXs, GMM = train_models_mn(train_data=train_data,\n",
    "                                             number_synthetic_datasets=20,\n",
    "                                             # hyperparameters for GMM\n",
    "                                             number_gmm_initializations=ngi,\n",
    "                                             num_components_=int(best_params['params']['num_components_']),\n",
    "                                             # hyperparameters for CART, end with underscore means Bayesian optimization will choose\n",
    "                                             C_sex_=best_params['params']['C_sex_'],\n",
    "                                             C_age_=best_params['params']['C_age_'],\n",
    "                                             C_state_=best_params['params']['C_state_'])"
   ]
  },
  {
   "cell_type": "code",
   "execution_count": 27,
   "id": "3f62c28e",
   "metadata": {},
   "outputs": [],
   "source": [
    "# num_keep = 20"
   ]
  },
  {
   "cell_type": "code",
   "execution_count": 28,
   "id": "0b13cab5",
   "metadata": {},
   "outputs": [],
   "source": [
    "sXs = full_sXs"
   ]
  },
  {
   "cell_type": "code",
   "execution_count": 29,
   "id": "4fe4ef81",
   "metadata": {},
   "outputs": [],
   "source": [
    "# keep = np.array(full_ratios) >= 1.0"
   ]
  },
  {
   "cell_type": "code",
   "execution_count": 30,
   "id": "891ec037",
   "metadata": {},
   "outputs": [],
   "source": [
    "# valid_ratios = [full_ratios[i] for i,j in enumerate(keep) if j]"
   ]
  },
  {
   "cell_type": "code",
   "execution_count": 31,
   "id": "6e03db79",
   "metadata": {},
   "outputs": [],
   "source": [
    "# valid_sXs = [full_sXs[i] for i,j in enumerate(keep) if j]"
   ]
  },
  {
   "cell_type": "code",
   "execution_count": 32,
   "id": "da9a2878",
   "metadata": {},
   "outputs": [],
   "source": [
    "# indices = np.argsort([np.abs(1-r) for r in full_ratios])[:num_keep]"
   ]
  },
  {
   "cell_type": "code",
   "execution_count": 33,
   "id": "02fd0ba9",
   "metadata": {},
   "outputs": [],
   "source": [
    "# sXs = [full_sXs[i] for i in indices]"
   ]
  },
  {
   "cell_type": "code",
   "execution_count": 34,
   "id": "36cfdc26",
   "metadata": {},
   "outputs": [],
   "source": [
    "# ratios = [full_ratios[i] for i in indices]"
   ]
  },
  {
   "cell_type": "code",
   "execution_count": 35,
   "id": "694c3a3e",
   "metadata": {},
   "outputs": [
    {
     "data": {
      "text/plain": [
       "0.05394282828149445"
      ]
     },
     "execution_count": 35,
     "metadata": {},
     "output_type": "execute_result"
    }
   ],
   "source": [
    "(1 - np.mean(full_ratios))**2"
   ]
  },
  {
   "cell_type": "code",
   "execution_count": 36,
   "id": "067ceb69",
   "metadata": {},
   "outputs": [],
   "source": [
    "# (1 - np.mean(ratios))**2"
   ]
  },
  {
   "cell_type": "code",
   "execution_count": 37,
   "id": "b24598f6",
   "metadata": {},
   "outputs": [
    {
     "data": {
      "text/plain": [
       "1.2322559542433615"
      ]
     },
     "execution_count": 37,
     "metadata": {},
     "output_type": "execute_result"
    }
   ],
   "source": [
    "np.mean(full_ratios)"
   ]
  },
  {
   "cell_type": "code",
   "execution_count": 38,
   "id": "8ff9197c",
   "metadata": {},
   "outputs": [],
   "source": [
    "# np.mean(ratios)"
   ]
  },
  {
   "cell_type": "code",
   "execution_count": 39,
   "id": "89505ccf",
   "metadata": {},
   "outputs": [],
   "source": [
    "# np.mean(valid_ratios)"
   ]
  },
  {
   "cell_type": "code",
   "execution_count": 40,
   "id": "0d801bbc",
   "metadata": {},
   "outputs": [],
   "source": [
    "# np.mean(ratios)"
   ]
  },
  {
   "cell_type": "code",
   "execution_count": 41,
   "id": "5ea8b232",
   "metadata": {},
   "outputs": [
    {
     "data": {
      "image/png": "[encoded data removed]",
      "text/plain": [
       "<Figure size 432x288 with 1 Axes>"
      ]
     },
     "metadata": {
      "needs_background": "light"
     },
     "output_type": "display_data"
    }
   ],
   "source": [
    "plt.violinplot(full_ratios)\n",
    "plt.xlabel(\"Density\")\n",
    "plt.ylabel(\"pMSE Ratio\")\n",
    "plt.title(\"Distribution of pMSE Ratios\")\n",
    "plt.show()"
   ]
  },
  {
   "cell_type": "code",
   "execution_count": 42,
   "id": "6c724b70",
   "metadata": {},
   "outputs": [],
   "source": [
    "# plt.violinplot(valid_ratios)\n",
    "# plt.xlabel(\"Density\")\n",
    "# plt.ylabel(\"pMSE Ratio\")\n",
    "# plt.title(\"Distribution of pMSE Ratios\")\n",
    "# plt.show()"
   ]
  },
  {
   "cell_type": "code",
   "execution_count": 43,
   "id": "40bc7f76",
   "metadata": {},
   "outputs": [],
   "source": [
    "# plt.violinplot(ratios)\n",
    "# plt.xlabel(\"Density\")\n",
    "# plt.ylabel(\"pMSE Ratio\")\n",
    "# plt.title(\"Distribution of pMSE Ratios\")\n",
    "# plt.show()"
   ]
  },
  {
   "cell_type": "markdown",
   "id": "c7c4b464",
   "metadata": {},
   "source": [
    "# Save the synthetic datasets."
   ]
  },
  {
   "cell_type": "code",
   "execution_count": 44,
   "id": "5696e166",
   "metadata": {},
   "outputs": [],
   "source": [
    "for i, sX in enumerate(sXs):\n",
    "    sX.to_csv(\"Data/synthetic_datasets/synthetic_holdouts/synthetic_dataset_\" + str(i) + \".csv\", index=False)"
   ]
  },
  {
   "cell_type": "markdown",
   "id": "58cacd36",
   "metadata": {},
   "source": [
    "***"
   ]
  }
 ],
 "metadata": {
  "kernelspec": {
   "display_name": "Python 3 (ipykernel)",
   "language": "python",
   "name": "python3"
  },
  "language_info": {
   "codemirror_mode": {
    "name": "ipython",
    "version": 3
   },
   "file_extension": ".py",
   "mimetype": "text/x-python",
   "name": "python",
   "nbconvert_exporter": "python",
   "pygments_lexer": "ipython3",
   "version": "3.9.7"
  }
 },
 "nbformat": 4,
 "nbformat_minor": 5
}
