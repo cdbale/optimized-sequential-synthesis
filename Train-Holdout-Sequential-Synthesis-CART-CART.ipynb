{
 "cells": [
  {
   "cell_type": "markdown",
   "id": "96f48262",
   "metadata": {},
   "source": [
    "# Full Synthesis Testing"
   ]
  },
  {
   "cell_type": "code",
   "execution_count": 1,
   "id": "2d3f5c21",
   "metadata": {},
   "outputs": [],
   "source": [
    "import pandas as pd\n",
    "import numpy as np\n",
    "from numpy.random import default_rng\n",
    "from sklearn.mixture import GaussianMixture\n",
    "from scipy.spatial import cKDTree\n",
    "import matplotlib.pyplot as plt\n",
    "import seaborn as sns\n",
    "import itertools\n",
    "\n",
    "from sklearn import preprocessing\n",
    "\n",
    "from sklearn.tree import DecisionTreeClassifier\n",
    "\n",
    "import itertools\n",
    "\n",
    "from bayes_opt import BayesianOptimization\n",
    "from bayes_opt import UtilityFunction\n",
    "\n",
    "from sklearn.linear_model import LogisticRegression\n",
    "from sklearn.preprocessing import PolynomialFeatures\n",
    "\n",
    "from bayesian_bootstrap import bayesian_bootstrap\n",
    "\n",
    "rng = np.random.RandomState(42)"
   ]
  },
  {
   "cell_type": "markdown",
   "id": "57505dd1",
   "metadata": {},
   "source": [
    "Steps for CART estimation of pmse ratio.\n",
    "\n",
    "* calculate the pMSE between pairs of synthetic data sets generated from the same original data\n",
    "* the pairs can be used to estimate the expected pMSE even when the synthesizing model is incorrect since both data are drawn from the same distribution\n",
    "* for most large complex data sets, synthesized by CART models, the expected pMSE from pairs will be close to, or slightly lower than the null pMSE"
   ]
  },
  {
   "cell_type": "code",
   "execution_count": 2,
   "id": "d99f450e",
   "metadata": {},
   "outputs": [],
   "source": [
    "def cart_pmse_ratio(original_data, synthetic_data_sets):\n",
    "    \n",
    "    ### get pmse measures for synthetic data set pairs\n",
    "    \n",
    "    null_pmse_list = []\n",
    "    \n",
    "    inds = np.arange(len(synthetic_data_sets))\n",
    "    \n",
    "    combo_list = list(itertools.combinations(inds, 2))\n",
    "    \n",
    "    for combo in combo_list:\n",
    "    \n",
    "        s1 = synthetic_data_sets[combo[0]]\n",
    "        s2 = synthetic_data_sets[combo[1]]\n",
    "    \n",
    "        N_orig = s1.shape[0]\n",
    "        N_synth = s2.shape[0]\n",
    "    \n",
    "        c = N_synth/(N_synth+N_orig)\n",
    "    \n",
    "        full_X = pd.concat([s1, s2], axis=0).reset_index(drop=True)\n",
    "    \n",
    "        full_X = preprocessing.StandardScaler().fit_transform(full_X)\n",
    "\n",
    "        y = np.repeat([0, 1], repeats=[N_orig, N_synth])\n",
    "    \n",
    "        cart = DecisionTreeClassifier(min_samples_split=20,\n",
    "                                      min_samples_leaf=int(np.round(20/3)),\n",
    "                                      ccp_alpha=0.0001,\n",
    "                                      max_depth=30)\n",
    "    \n",
    "        cart.fit(X=full_X, y=y)\n",
    "    \n",
    "        probs = cart.predict_proba(full_X)\n",
    "    \n",
    "        pMSE = 1/(N_synth + N_orig) * np.sum((probs[:,1] - c)**2)\n",
    "        \n",
    "        null_pmse_list.append(pMSE)\n",
    "    \n",
    "    pmse_list = []\n",
    "    \n",
    "    for s in synthetic_data_sets:\n",
    "    \n",
    "        N_orig = original_data.shape[0]\n",
    "        N_synth = s.shape[0]\n",
    "    \n",
    "        c = N_synth/(N_synth+N_orig)\n",
    "    \n",
    "        full_X = pd.concat([original_data, s], axis=0).reset_index(drop=True)\n",
    "    \n",
    "        full_X = preprocessing.StandardScaler().fit_transform(full_X)\n",
    "\n",
    "        y = np.repeat([0, 1], repeats=[N_orig, N_synth])\n",
    "    \n",
    "        cart = DecisionTreeClassifier(min_samples_split=20,\n",
    "                                      min_samples_leaf=int(np.round(20/3)),\n",
    "                                      ccp_alpha=0.0001,\n",
    "                                      max_depth=30)\n",
    "    \n",
    "        cart.fit(X=full_X, y=y)\n",
    "    \n",
    "        probs = cart.predict_proba(full_X)\n",
    "    \n",
    "        pMSE = 1/(N_synth + N_orig) * np.sum((probs[:,1] - c)**2)\n",
    "        \n",
    "        pmse_list.append(pMSE)\n",
    "    \n",
    "    return np.array(pmse_list)/(np.mean(null_pmse_list))"
   ]
  },
  {
   "cell_type": "markdown",
   "id": "76a8ccbc",
   "metadata": {},
   "source": [
    "Import the data."
   ]
  },
  {
   "cell_type": "code",
   "execution_count": 3,
   "id": "730c2f2e",
   "metadata": {},
   "outputs": [],
   "source": [
    "# import standardized lat/long location data\n",
    "train_data = pd.read_csv(\"Data/synthetic_datasets/train_dataset.csv\")"
   ]
  },
  {
   "cell_type": "markdown",
   "id": "6f62abff",
   "metadata": {},
   "source": [
    "***"
   ]
  },
  {
   "cell_type": "markdown",
   "id": "5b8a741f",
   "metadata": {},
   "source": [
    "# Full Sequential Synthesis Driven by Bayesian Optimization"
   ]
  },
  {
   "cell_type": "markdown",
   "id": "8169fec7",
   "metadata": {},
   "source": [
    "Function to be used in Bayesian bootstrap."
   ]
  },
  {
   "cell_type": "code",
   "execution_count": 4,
   "id": "e80a8660",
   "metadata": {},
   "outputs": [],
   "source": [
    "def stat(x):\n",
    "    return x"
   ]
  },
  {
   "cell_type": "markdown",
   "id": "3a1688b8",
   "metadata": {},
   "source": [
    "Write function to train all models and generate the synthetic dataset, then evaluate the pMSE ratio."
   ]
  },
  {
   "cell_type": "code",
   "execution_count": 5,
   "id": "ab5f897a",
   "metadata": {},
   "outputs": [],
   "source": [
    "def train_models(#overall parameters\n",
    "                 train_data,\n",
    "                 number_synthetic_datasets,\n",
    "                 # hyperparameters for GMM, end with underscore means Bayesian optimization will choose\n",
    "                 number_gmm_initializations,\n",
    "                 num_components_,\n",
    "                 # hyperparameters for CART, end with underscore means Bayesian optimization will choose\n",
    "                 ccp_alpha_sex_,\n",
    "                 ccp_alpha_age_,\n",
    "                 ccp_alpha_state_):\n",
    "    \n",
    "    num_samples = train_data.shape[0]\n",
    "    \n",
    "    ########## Code for GMM ############\n",
    "    \n",
    "    # fit GMM model\n",
    "    GMM = GaussianMixture(num_components_, n_init=number_gmm_initializations, init_params=\"k-means++\", random_state=rng).fit(train_data.loc[:,[\"latitude\", \"longitude\"]])\n",
    "    \n",
    "    # list for synthetic datasets\n",
    "    sXs = []\n",
    "    \n",
    "    # generate and store number_synthetic_datasets synthetic datasets\n",
    "    for i in range(number_synthetic_datasets):\n",
    "        sX = GMM.sample(num_samples)[0]\n",
    "        sX = pd.DataFrame(sX)\n",
    "        sX.columns = ['latitude', 'longitude']\n",
    "        sXs.append(sX)\n",
    "        \n",
    "    ####################################################################################################\n",
    "        \n",
    "    ########### Code for sex CART ##########\n",
    "    \n",
    "    cart_sex = DecisionTreeClassifier(ccp_alpha=ccp_alpha_sex_, random_state=rng)\n",
    "    \n",
    "    cart_sex.fit(X=train_data.loc[:,[\"latitude\", \"longitude\"]], y=train_data.loc[:,\"sex\"])\n",
    "    \n",
    "    node_indicators = cart_sex.decision_path(train_data.loc[:,[\"latitude\", \"longitude\"]]).toarray()\n",
    "    \n",
    "    node_outcomes = [train_data.sex[node_indicators[:,x]==1] for x in np.arange(node_indicators.shape[1])]\n",
    "    \n",
    "    # sample values according to a Bayesian bootstrap\n",
    "    \n",
    "    for i in range(number_synthetic_datasets):\n",
    "        \n",
    "        bst_vals = [bayesian_bootstrap(X=np.array(x), \n",
    "                                       statistic=stat,\n",
    "                                       n_replications=1,\n",
    "                                       resample_size=len(x))[0] for x in node_outcomes]\n",
    "    \n",
    "        probs = [[np.sum(x==y)/len(y) for x in np.unique(train_data.sex)] for y in bst_vals]\n",
    "        \n",
    "        synth_leaves = cart_sex.apply(sXs[i].loc[:,[\"latitude\", \"longitude\"]])\n",
    "        \n",
    "        new_sex = np.zeros(len(synth_leaves), dtype=int)\n",
    "        \n",
    "        for j, x in enumerate(np.arange(node_indicators.shape[1])):\n",
    "            \n",
    "            new_sex[synth_leaves==x] = np.random.binomial(n=1, p=probs[j][1], size=np.sum(synth_leaves==x))\n",
    "        \n",
    "        new_sex = pd.Series(new_sex)\n",
    "        \n",
    "        new_sex.name = \"sex\"\n",
    "        \n",
    "        sXs[i] = pd.concat([sXs[i], new_sex], axis=1)\n",
    "        \n",
    "    ####################################################################################################\n",
    "        \n",
    "    ########### Code for age CART ##########\n",
    "    cart_age = DecisionTreeClassifier(ccp_alpha=ccp_alpha_age_, random_state=rng)\n",
    "    \n",
    "    cart_age.fit(X=train_data.loc[:,[\"latitude\", \"longitude\", \"sex\"]], y=train_data.loc[:,\"age\"])\n",
    "    \n",
    "    node_indicators = cart_age.decision_path(train_data.loc[:,[\"latitude\", \"longitude\", \"sex\"]]).toarray()\n",
    "    \n",
    "    node_outcomes = [train_data.age[node_indicators[:,x]==1] for x in np.arange(node_indicators.shape[1])]\n",
    "    \n",
    "    # sample values according to a Bayesian bootstrap\n",
    "    \n",
    "    for i in range(number_synthetic_datasets):\n",
    "        \n",
    "        bst_vals = [bayesian_bootstrap(X=np.array(x), \n",
    "                                       statistic=stat,\n",
    "                                       n_replications=1,\n",
    "                                       resample_size=len(x))[0] for x in node_outcomes]\n",
    "    \n",
    "        probs = [[np.sum(x==y)/len(y) for x in np.unique(train_data.age)] for y in bst_vals]\n",
    "        \n",
    "        synth_leaves = cart_age.apply(sXs[i].loc[:,[\"latitude\", \"longitude\", \"sex\"]])\n",
    "        \n",
    "        new_age = np.zeros(len(synth_leaves), dtype=int)\n",
    "        \n",
    "        for j, x in enumerate(np.arange(node_indicators.shape[1])):\n",
    "            \n",
    "            draws = np.random.multinomial(n=1, pvals=probs[j], size=np.sum(synth_leaves==x))\n",
    "            \n",
    "            draws = np.argmax(draws, axis=1)\n",
    "            \n",
    "            new_age[synth_leaves==x] = draws\n",
    "        \n",
    "        new_age = pd.Series(new_age)\n",
    "        \n",
    "        new_age.name = \"age\"\n",
    "        \n",
    "        sXs[i] = pd.concat([sXs[i], new_age], axis=1)\n",
    "        \n",
    "    ####################################################################################################\n",
    "    \n",
    "    ########### Code for state CART ##########\n",
    "    \n",
    "    cart_state = DecisionTreeClassifier(ccp_alpha=ccp_alpha_state_, random_state=rng)\n",
    "    \n",
    "    cart_state.fit(X=train_data.loc[:,[\"latitude\", \"longitude\", \"sex\", \"age\"]], y=train_data.loc[:,\"state\"])\n",
    "    \n",
    "    node_indicators = cart_state.decision_path(train_data.loc[:,[\"latitude\", \"longitude\", \"sex\", \"age\"]]).toarray()\n",
    "    \n",
    "    node_outcomes = [train_data.state[node_indicators[:,x]==1] for x in np.arange(node_indicators.shape[1])]\n",
    "    \n",
    "    # sample values according to a Bayesian bootstrap\n",
    "    \n",
    "    for i in range(number_synthetic_datasets):\n",
    "        \n",
    "        bst_vals = [bayesian_bootstrap(X=np.array(x), \n",
    "                                       statistic=stat,\n",
    "                                       n_replications=1,\n",
    "                                       resample_size=len(x))[0] for x in node_outcomes]\n",
    "    \n",
    "        probs = [[np.sum(x==y)/len(y) for x in np.unique(train_data.state)] for y in bst_vals]\n",
    "        \n",
    "        synth_leaves = cart_state.apply(sXs[i].loc[:,[\"latitude\", \"longitude\", \"sex\", \"age\"]])\n",
    "        \n",
    "        new_state = np.zeros(len(synth_leaves), dtype=int)\n",
    "        \n",
    "        for j, x in enumerate(np.arange(node_indicators.shape[1])):\n",
    "            \n",
    "            new_state[synth_leaves==x] = np.random.binomial(n=1, p=probs[j][1], size=np.sum(synth_leaves==x))\n",
    "        \n",
    "        new_state = pd.Series(new_state)\n",
    "        \n",
    "        new_state.name = \"state\"\n",
    "        \n",
    "        sXs[i] = pd.concat([sXs[i], new_state], axis=1)\n",
    "        \n",
    "    ###### Calculate pMSE ratios ######\n",
    "    pmse_ratios = cart_pmse_ratio(train_data, sXs)\n",
    "    \n",
    "    return pmse_ratios, sXs, GMM, cart_sex, cart_age, cart_state"
   ]
  },
  {
   "cell_type": "code",
   "execution_count": 6,
   "id": "796d2f96",
   "metadata": {},
   "outputs": [],
   "source": [
    "def optimize_models(train_data,\n",
    "                    number_synthetic_datasets,\n",
    "                    number_gmm_initializations,\n",
    "                    random_state):\n",
    "\n",
    "    def evaluate_models(num_components_, ccp_alpha_sex_, ccp_alpha_age_, ccp_alpha_state_):\n",
    "\n",
    "        pmse_ratios, _, _, _, _, _ = train_models(train_data=train_data,\n",
    "                                                  number_synthetic_datasets=number_synthetic_datasets,\n",
    "                                                  number_gmm_initializations=number_gmm_initializations,\n",
    "                                                  num_components_=int(num_components_),\n",
    "                                                  ccp_alpha_sex_=ccp_alpha_sex_,\n",
    "                                                  ccp_alpha_age_=ccp_alpha_age_,\n",
    "                                                  ccp_alpha_state_=ccp_alpha_state_)\n",
    "\n",
    "        return -1 * ((1 - np.mean(pmse_ratios))**2)\n",
    "\n",
    "    optimizer = BayesianOptimization(\n",
    "        f=evaluate_models,\n",
    "        pbounds={\n",
    "            \"num_components_\": (200, 800.99),\n",
    "            \"ccp_alpha_sex_\": (1e-15, 1e-2),\n",
    "            \"ccp_alpha_age_\": (1e-15, 1e-2),\n",
    "            \"ccp_alpha_state_\": (1e-15, 1e-2)\n",
    "        },\n",
    "        random_state=random_state)\n",
    "\n",
    "    utility = UtilityFunction(kind=\"ei\", xi=1e-2)\n",
    "    optimizer.set_gp_params(alpha=1e-3)\n",
    "    optimizer.maximize(init_points=5, n_iter=25, acquisition_function=utility)\n",
    "    print(\"Final Result: \", optimizer.max)\n",
    "    return optimizer.max, optimizer"
   ]
  },
  {
   "cell_type": "markdown",
   "id": "5594760a",
   "metadata": {},
   "source": [
    "The default value of $\\alpha = 1e-06$."
   ]
  },
  {
   "cell_type": "code",
   "execution_count": 7,
   "id": "15d5ded7",
   "metadata": {},
   "outputs": [],
   "source": [
    "nsd = 20\n",
    "ngi = 5\n",
    "random_states = [np.random.RandomState(1234), np.random.RandomState(4321), np.random.RandomState(10620), np.random.RandomState(91695), np.random.RandomState(31296)]\n",
    "# random_states = [np.random.RandomState(1234)]"
   ]
  },
  {
   "cell_type": "code",
   "execution_count": 8,
   "id": "fe01e70f",
   "metadata": {},
   "outputs": [
    {
     "name": "stdout",
     "output_type": "stream",
     "text": [
      "|   iter    |  target   | ccp_al... | ccp_al... | ccp_al... | num_co... |\n",
      "-------------------------------------------------------------------------\n",
      "| \u001b[0m1        \u001b[0m | \u001b[0m-0.03838 \u001b[0m | \u001b[0m0.001915 \u001b[0m | \u001b[0m0.006221 \u001b[0m | \u001b[0m0.004377 \u001b[0m | \u001b[0m672.0    \u001b[0m |\n",
      "| \u001b[0m2        \u001b[0m | \u001b[0m-0.1385  \u001b[0m | \u001b[0m0.0078   \u001b[0m | \u001b[0m0.002726 \u001b[0m | \u001b[0m0.002765 \u001b[0m | \u001b[0m681.9    \u001b[0m |\n",
      "| \u001b[0m3        \u001b[0m | \u001b[0m-0.3119  \u001b[0m | \u001b[0m0.009581 \u001b[0m | \u001b[0m0.008759 \u001b[0m | \u001b[0m0.003578 \u001b[0m | \u001b[0m501.1    \u001b[0m |\n",
      "| \u001b[0m4        \u001b[0m | \u001b[0m-0.1812  \u001b[0m | \u001b[0m0.006835 \u001b[0m | \u001b[0m0.007127 \u001b[0m | \u001b[0m0.003703 \u001b[0m | \u001b[0m537.3    \u001b[0m |\n",
      "| \u001b[0m5        \u001b[0m | \u001b[0m-0.1122  \u001b[0m | \u001b[0m0.005031 \u001b[0m | \u001b[0m0.0001377\u001b[0m | \u001b[0m0.007728 \u001b[0m | \u001b[0m730.5    \u001b[0m |\n",
      "| \u001b[0m6        \u001b[0m | \u001b[0m-0.04512 \u001b[0m | \u001b[0m0.002575 \u001b[0m | \u001b[0m0.006967 \u001b[0m | \u001b[0m0.00408  \u001b[0m | \u001b[0m667.0    \u001b[0m |\n",
      "| \u001b[0m7        \u001b[0m | \u001b[0m-0.1541  \u001b[0m | \u001b[0m0.00911  \u001b[0m | \u001b[0m0.0009226\u001b[0m | \u001b[0m0.004507 \u001b[0m | \u001b[0m645.8    \u001b[0m |\n",
      "| \u001b[0m8        \u001b[0m | \u001b[0m-0.2018  \u001b[0m | \u001b[0m0.007549 \u001b[0m | \u001b[0m0.005329 \u001b[0m | \u001b[0m0.006325 \u001b[0m | \u001b[0m753.2    \u001b[0m |\n",
      "| \u001b[95m9        \u001b[0m | \u001b[95m-0.01247 \u001b[0m | \u001b[95m0.002507 \u001b[0m | \u001b[95m6.997e-05\u001b[0m | \u001b[95m0.007547 \u001b[0m | \u001b[95m713.8    \u001b[0m |\n",
      "| \u001b[0m10       \u001b[0m | \u001b[0m-0.09884 \u001b[0m | \u001b[0m0.004302 \u001b[0m | \u001b[0m0.0009009\u001b[0m | \u001b[0m0.0005177\u001b[0m | \u001b[0m706.8    \u001b[0m |\n",
      "| \u001b[0m11       \u001b[0m | \u001b[0m-0.0554  \u001b[0m | \u001b[0m0.006445 \u001b[0m | \u001b[0m0.001855 \u001b[0m | \u001b[0m0.008948 \u001b[0m | \u001b[0m718.5    \u001b[0m |\n",
      "| \u001b[0m12       \u001b[0m | \u001b[0m-0.02868 \u001b[0m | \u001b[0m0.006362 \u001b[0m | \u001b[0m0.002672 \u001b[0m | \u001b[0m0.007145 \u001b[0m | \u001b[0m320.8    \u001b[0m |\n",
      "| \u001b[0m13       \u001b[0m | \u001b[0m-0.1389  \u001b[0m | \u001b[0m0.007537 \u001b[0m | \u001b[0m0.009898 \u001b[0m | \u001b[0m0.005104 \u001b[0m | \u001b[0m328.6    \u001b[0m |\n",
      "| \u001b[0m14       \u001b[0m | \u001b[0m-0.02523 \u001b[0m | \u001b[0m0.001957 \u001b[0m | \u001b[0m0.001924 \u001b[0m | \u001b[0m0.0006969\u001b[0m | \u001b[0m315.0    \u001b[0m |\n",
      "| \u001b[0m15       \u001b[0m | \u001b[0m-0.01936 \u001b[0m | \u001b[0m0.002923 \u001b[0m | \u001b[0m0.003101 \u001b[0m | \u001b[0m0.00991  \u001b[0m | \u001b[0m304.4    \u001b[0m |\n",
      "| \u001b[95m16       \u001b[0m | \u001b[95m-0.004406\u001b[0m | \u001b[95m0.0009731\u001b[0m | \u001b[95m0.002503 \u001b[0m | \u001b[95m0.006428 \u001b[0m | \u001b[95m296.4    \u001b[0m |\n",
      "| \u001b[95m17       \u001b[0m | \u001b[95m-0.001952\u001b[0m | \u001b[95m0.002055 \u001b[0m | \u001b[95m0.000954 \u001b[0m | \u001b[95m0.002598 \u001b[0m | \u001b[95m288.0    \u001b[0m |\n",
      "| \u001b[0m18       \u001b[0m | \u001b[0m-0.1717  \u001b[0m | \u001b[0m1e-15    \u001b[0m | \u001b[0m0.01     \u001b[0m | \u001b[0m0.01     \u001b[0m | \u001b[0m278.4    \u001b[0m |\n",
      "| \u001b[0m19       \u001b[0m | \u001b[0m-0.1586  \u001b[0m | \u001b[0m0.00608  \u001b[0m | \u001b[0m0.009014 \u001b[0m | \u001b[0m0.008555 \u001b[0m | \u001b[0m291.6    \u001b[0m |\n",
      "| \u001b[0m20       \u001b[0m | \u001b[0m-0.08525 \u001b[0m | \u001b[0m0.00208  \u001b[0m | \u001b[0m0.005969 \u001b[0m | \u001b[0m0.005193 \u001b[0m | \u001b[0m672.0    \u001b[0m |\n",
      "| \u001b[0m21       \u001b[0m | \u001b[0m-0.1142  \u001b[0m | \u001b[0m0.005027 \u001b[0m | \u001b[0m0.001137 \u001b[0m | \u001b[0m0.008054 \u001b[0m | \u001b[0m683.9    \u001b[0m |\n",
      "| \u001b[0m22       \u001b[0m | \u001b[0m-0.1228  \u001b[0m | \u001b[0m0.004581 \u001b[0m | \u001b[0m0.00357  \u001b[0m | \u001b[0m0.008681 \u001b[0m | \u001b[0m304.4    \u001b[0m |\n",
      "| \u001b[0m23       \u001b[0m | \u001b[0m-0.04467 \u001b[0m | \u001b[0m0.005273 \u001b[0m | \u001b[0m0.001728 \u001b[0m | \u001b[0m0.008585 \u001b[0m | \u001b[0m713.8    \u001b[0m |\n",
      "| \u001b[0m24       \u001b[0m | \u001b[0m-0.1017  \u001b[0m | \u001b[0m0.006792 \u001b[0m | \u001b[0m0.00621  \u001b[0m | \u001b[0m0.003058 \u001b[0m | \u001b[0m320.8    \u001b[0m |\n",
      "| \u001b[0m25       \u001b[0m | \u001b[0m-0.06185 \u001b[0m | \u001b[0m3.968e-05\u001b[0m | \u001b[0m0.006286 \u001b[0m | \u001b[0m0.002224 \u001b[0m | \u001b[0m620.8    \u001b[0m |\n",
      "| \u001b[0m26       \u001b[0m | \u001b[0m-0.1487  \u001b[0m | \u001b[0m0.004478 \u001b[0m | \u001b[0m0.004504 \u001b[0m | \u001b[0m0.009144 \u001b[0m | \u001b[0m718.5    \u001b[0m |\n",
      "| \u001b[0m27       \u001b[0m | \u001b[0m-0.01841 \u001b[0m | \u001b[0m0.000182 \u001b[0m | \u001b[0m0.00203  \u001b[0m | \u001b[0m0.008148 \u001b[0m | \u001b[0m288.0    \u001b[0m |\n",
      "| \u001b[0m28       \u001b[0m | \u001b[0m-0.02714 \u001b[0m | \u001b[0m0.002875 \u001b[0m | \u001b[0m0.002737 \u001b[0m | \u001b[0m0.0009463\u001b[0m | \u001b[0m288.0    \u001b[0m |\n",
      "| \u001b[0m29       \u001b[0m | \u001b[0m-0.09208 \u001b[0m | \u001b[0m0.002975 \u001b[0m | \u001b[0m0.004816 \u001b[0m | \u001b[0m0.00357  \u001b[0m | \u001b[0m304.4    \u001b[0m |\n",
      "| \u001b[0m30       \u001b[0m | \u001b[0m-0.1615  \u001b[0m | \u001b[0m0.006094 \u001b[0m | \u001b[0m0.005158 \u001b[0m | \u001b[0m0.000327 \u001b[0m | \u001b[0m713.8    \u001b[0m |\n",
      "=========================================================================\n",
      "Final Result:  {'target': -0.0019521948446189852, 'params': {'ccp_alpha_age_': 0.00205517018514594, 'ccp_alpha_sex_': 0.0009540058882996547, 'ccp_alpha_state_': 0.0025984448575693854, 'num_components_': 287.9940362940139}}\n",
      "|   iter    |  target   | ccp_al... | ccp_al... | ccp_al... | num_co... |\n",
      "-------------------------------------------------------------------------\n",
      "| \u001b[0m1        \u001b[0m | \u001b[0m-8.899e-0\u001b[0m | \u001b[0m0.000708 \u001b[0m | \u001b[0m0.008151 \u001b[0m | \u001b[0m0.007679 \u001b[0m | \u001b[0m372.1    \u001b[0m |\n",
      "| \u001b[0m2        \u001b[0m | \u001b[0m-0.03279 \u001b[0m | \u001b[0m0.001931 \u001b[0m | \u001b[0m0.009789 \u001b[0m | \u001b[0m0.004062 \u001b[0m | \u001b[0m655.4    \u001b[0m |\n",
      "| \u001b[0m3        \u001b[0m | \u001b[0m-0.02026 \u001b[0m | \u001b[0m0.0008915\u001b[0m | \u001b[0m0.003099 \u001b[0m | \u001b[0m0.006189 \u001b[0m | \u001b[0m476.4    \u001b[0m |\n",
      "| \u001b[0m4        \u001b[0m | \u001b[0m-0.02669 \u001b[0m | \u001b[0m0.002183 \u001b[0m | \u001b[0m0.006635 \u001b[0m | \u001b[0m0.006787 \u001b[0m | \u001b[0m771.1    \u001b[0m |\n",
      "| \u001b[0m5        \u001b[0m | \u001b[0m-0.04187 \u001b[0m | \u001b[0m0.002813 \u001b[0m | \u001b[0m0.006199 \u001b[0m | \u001b[0m0.003833 \u001b[0m | \u001b[0m440.6    \u001b[0m |\n",
      "| \u001b[0m6        \u001b[0m | \u001b[0m-0.07313 \u001b[0m | \u001b[0m0.0001584\u001b[0m | \u001b[0m0.002739 \u001b[0m | \u001b[0m0.003144 \u001b[0m | \u001b[0m371.3    \u001b[0m |\n",
      "| \u001b[0m7        \u001b[0m | \u001b[0m-0.0728  \u001b[0m | \u001b[0m0.005374 \u001b[0m | \u001b[0m0.002664 \u001b[0m | \u001b[0m0.003902 \u001b[0m | \u001b[0m318.3    \u001b[0m |\n",
      "| \u001b[0m8        \u001b[0m | \u001b[0m-0.128   \u001b[0m | \u001b[0m0.004439 \u001b[0m | \u001b[0m0.001476 \u001b[0m | \u001b[0m0.007544 \u001b[0m | \u001b[0m655.4    \u001b[0m |\n",
      "| \u001b[0m9        \u001b[0m | \u001b[0m-0.06333 \u001b[0m | \u001b[0m0.001018 \u001b[0m | \u001b[0m0.006129 \u001b[0m | \u001b[0m0.002437 \u001b[0m | \u001b[0m338.0    \u001b[0m |\n",
      "| \u001b[0m10       \u001b[0m | \u001b[0m-0.04533 \u001b[0m | \u001b[0m0.003058 \u001b[0m | \u001b[0m0.007058 \u001b[0m | \u001b[0m0.006141 \u001b[0m | \u001b[0m392.6    \u001b[0m |\n",
      "| \u001b[0m11       \u001b[0m | \u001b[0m-0.1197  \u001b[0m | \u001b[0m0.003254 \u001b[0m | \u001b[0m0.008301 \u001b[0m | \u001b[0m0.008631 \u001b[0m | \u001b[0m572.0    \u001b[0m |\n",
      "| \u001b[0m12       \u001b[0m | \u001b[0m-0.1915  \u001b[0m | \u001b[0m0.005814 \u001b[0m | \u001b[0m0.004477 \u001b[0m | \u001b[0m0.002481 \u001b[0m | \u001b[0m319.9    \u001b[0m |\n",
      "| \u001b[0m13       \u001b[0m | \u001b[0m-0.1809  \u001b[0m | \u001b[0m0.005693 \u001b[0m | \u001b[0m0.004812 \u001b[0m | \u001b[0m0.00938  \u001b[0m | \u001b[0m706.1    \u001b[0m |\n",
      "| \u001b[0m14       \u001b[0m | \u001b[0m-0.02425 \u001b[0m | \u001b[0m0.002257 \u001b[0m | \u001b[0m0.006119 \u001b[0m | \u001b[0m0.0007878\u001b[0m | \u001b[0m783.8    \u001b[0m |\n",
      "| \u001b[0m15       \u001b[0m | \u001b[0m-0.1365  \u001b[0m | \u001b[0m0.004385 \u001b[0m | \u001b[0m0.005913 \u001b[0m | \u001b[0m0.0002346\u001b[0m | \u001b[0m498.6    \u001b[0m |\n",
      "| \u001b[0m16       \u001b[0m | \u001b[0m-0.1725  \u001b[0m | \u001b[0m0.005137 \u001b[0m | \u001b[0m0.007093 \u001b[0m | \u001b[0m0.003424 \u001b[0m | \u001b[0m764.2    \u001b[0m |\n",
      "| \u001b[0m17       \u001b[0m | \u001b[0m-0.1016  \u001b[0m | \u001b[0m0.005677 \u001b[0m | \u001b[0m0.009738 \u001b[0m | \u001b[0m0.005871 \u001b[0m | \u001b[0m638.4    \u001b[0m |\n",
      "| \u001b[0m18       \u001b[0m | \u001b[0m-0.07885 \u001b[0m | \u001b[0m0.002294 \u001b[0m | \u001b[0m0.00651  \u001b[0m | \u001b[0m0.0007312\u001b[0m | \u001b[0m762.8    \u001b[0m |\n",
      "| \u001b[0m19       \u001b[0m | \u001b[0m-0.1903  \u001b[0m | \u001b[0m0.004618 \u001b[0m | \u001b[0m0.008951 \u001b[0m | \u001b[0m0.004351 \u001b[0m | \u001b[0m478.8    \u001b[0m |\n",
      "| \u001b[0m20       \u001b[0m | \u001b[0m-0.0905  \u001b[0m | \u001b[0m0.0002374\u001b[0m | \u001b[0m0.004841 \u001b[0m | \u001b[0m0.007085 \u001b[0m | \u001b[0m208.1    \u001b[0m |\n",
      "| \u001b[0m21       \u001b[0m | \u001b[0m-0.05632 \u001b[0m | \u001b[0m0.0002313\u001b[0m | \u001b[0m0.007831 \u001b[0m | \u001b[0m0.0006321\u001b[0m | \u001b[0m524.2    \u001b[0m |\n",
      "| \u001b[0m22       \u001b[0m | \u001b[0m-0.08849 \u001b[0m | \u001b[0m0.004064 \u001b[0m | \u001b[0m0.003235 \u001b[0m | \u001b[0m0.0009811\u001b[0m | \u001b[0m285.1    \u001b[0m |\n",
      "| \u001b[0m23       \u001b[0m | \u001b[0m-0.1002  \u001b[0m | \u001b[0m0.006884 \u001b[0m | \u001b[0m0.0003205\u001b[0m | \u001b[0m0.006647 \u001b[0m | \u001b[0m514.9    \u001b[0m |\n",
      "| \u001b[0m24       \u001b[0m | \u001b[0m-0.04996 \u001b[0m | \u001b[0m0.004003 \u001b[0m | \u001b[0m0.001123 \u001b[0m | \u001b[0m0.002883 \u001b[0m | \u001b[0m277.5    \u001b[0m |\n",
      "| \u001b[0m25       \u001b[0m | \u001b[0m-0.1006  \u001b[0m | \u001b[0m0.003317 \u001b[0m | \u001b[0m0.007967 \u001b[0m | \u001b[0m0.004563 \u001b[0m | \u001b[0m356.3    \u001b[0m |\n",
      "| \u001b[0m26       \u001b[0m | \u001b[0m-0.1851  \u001b[0m | \u001b[0m0.004866 \u001b[0m | \u001b[0m0.009835 \u001b[0m | \u001b[0m0.005016 \u001b[0m | \u001b[0m358.4    \u001b[0m |\n",
      "| \u001b[0m27       \u001b[0m | \u001b[0m-0.07295 \u001b[0m | \u001b[0m0.003661 \u001b[0m | \u001b[0m0.0007952\u001b[0m | \u001b[0m0.002736 \u001b[0m | \u001b[0m515.6    \u001b[0m |\n",
      "| \u001b[0m28       \u001b[0m | \u001b[0m-0.07032 \u001b[0m | \u001b[0m0.004641 \u001b[0m | \u001b[0m0.00325  \u001b[0m | \u001b[0m0.0001452\u001b[0m | \u001b[0m341.5    \u001b[0m |\n",
      "| \u001b[0m29       \u001b[0m | \u001b[0m-0.1795  \u001b[0m | \u001b[0m0.009518 \u001b[0m | \u001b[0m0.002172 \u001b[0m | \u001b[0m0.003612 \u001b[0m | \u001b[0m454.4    \u001b[0m |\n",
      "| \u001b[0m30       \u001b[0m | \u001b[0m-0.0838  \u001b[0m | \u001b[0m0.007416 \u001b[0m | \u001b[0m0.002979 \u001b[0m | \u001b[0m0.009168 \u001b[0m | \u001b[0m676.4    \u001b[0m |\n",
      "=========================================================================\n",
      "Final Result:  {'target': -8.899172846265437e-06, 'params': {'ccp_alpha_age_': 0.0007080287595573054, 'ccp_alpha_sex_': 0.008150640110845311, 'ccp_alpha_state_': 0.007679049609782695, 'num_components_': 372.09619260704494}}\n",
      "|   iter    |  target   | ccp_al... | ccp_al... | ccp_al... | num_co... |\n",
      "-------------------------------------------------------------------------\n"
     ]
    },
    {
     "name": "stdout",
     "output_type": "stream",
     "text": [
      "| \u001b[0m1        \u001b[0m | \u001b[0m-0.02973 \u001b[0m | \u001b[0m0.005164 \u001b[0m | \u001b[0m0.003202 \u001b[0m | \u001b[0m0.001681 \u001b[0m | \u001b[0m231.5    \u001b[0m |\n",
      "| \u001b[0m2        \u001b[0m | \u001b[0m-0.2128  \u001b[0m | \u001b[0m0.009316 \u001b[0m | \u001b[0m0.0005888\u001b[0m | \u001b[0m0.004357 \u001b[0m | \u001b[0m214.9    \u001b[0m |\n",
      "| \u001b[0m3        \u001b[0m | \u001b[0m-0.1378  \u001b[0m | \u001b[0m0.004915 \u001b[0m | \u001b[0m0.007013 \u001b[0m | \u001b[0m0.007719 \u001b[0m | \u001b[0m441.7    \u001b[0m |\n",
      "| \u001b[0m4        \u001b[0m | \u001b[0m-0.35    \u001b[0m | \u001b[0m0.009198 \u001b[0m | \u001b[0m0.005442 \u001b[0m | \u001b[0m0.006871 \u001b[0m | \u001b[0m348.1    \u001b[0m |\n",
      "| \u001b[95m5        \u001b[0m | \u001b[95m-0.01373 \u001b[0m | \u001b[95m0.002442 \u001b[0m | \u001b[95m0.005637 \u001b[0m | \u001b[95m0.00266  \u001b[0m | \u001b[95m341.4    \u001b[0m |\n",
      "| \u001b[0m6        \u001b[0m | \u001b[0m-0.1382  \u001b[0m | \u001b[0m0.005931 \u001b[0m | \u001b[0m0.0001557\u001b[0m | \u001b[0m0.0035   \u001b[0m | \u001b[0m409.4    \u001b[0m |\n",
      "| \u001b[0m7        \u001b[0m | \u001b[0m-0.1106  \u001b[0m | \u001b[0m0.004547 \u001b[0m | \u001b[0m0.007738 \u001b[0m | \u001b[0m0.0008127\u001b[0m | \u001b[0m274.6    \u001b[0m |\n",
      "| \u001b[0m8        \u001b[0m | \u001b[0m-0.1553  \u001b[0m | \u001b[0m0.003695 \u001b[0m | \u001b[0m0.006259 \u001b[0m | \u001b[0m0.002974 \u001b[0m | \u001b[0m542.8    \u001b[0m |\n",
      "| \u001b[0m9        \u001b[0m | \u001b[0m-0.1825  \u001b[0m | \u001b[0m0.006105 \u001b[0m | \u001b[0m0.007327 \u001b[0m | \u001b[0m0.009607 \u001b[0m | \u001b[0m688.4    \u001b[0m |\n",
      "| \u001b[0m10       \u001b[0m | \u001b[0m-0.1455  \u001b[0m | \u001b[0m0.006247 \u001b[0m | \u001b[0m0.006403 \u001b[0m | \u001b[0m0.004001 \u001b[0m | \u001b[0m274.6    \u001b[0m |\n",
      "| \u001b[95m11       \u001b[0m | \u001b[95m-0.004359\u001b[0m | \u001b[95m0.0007359\u001b[0m | \u001b[95m0.004956 \u001b[0m | \u001b[95m0.008319 \u001b[0m | \u001b[95m341.4    \u001b[0m |\n",
      "| \u001b[0m12       \u001b[0m | \u001b[0m-0.2419  \u001b[0m | \u001b[0m0.008131 \u001b[0m | \u001b[0m0.006088 \u001b[0m | \u001b[0m0.00768  \u001b[0m | \u001b[0m231.5    \u001b[0m |\n",
      "| \u001b[0m13       \u001b[0m | \u001b[0m-0.227   \u001b[0m | \u001b[0m0.009638 \u001b[0m | \u001b[0m0.001217 \u001b[0m | \u001b[0m0.009677 \u001b[0m | \u001b[0m606.3    \u001b[0m |\n",
      "| \u001b[0m14       \u001b[0m | \u001b[0m-0.2573  \u001b[0m | \u001b[0m0.009633 \u001b[0m | \u001b[0m0.00717  \u001b[0m | \u001b[0m0.001127 \u001b[0m | \u001b[0m455.1    \u001b[0m |\n",
      "| \u001b[0m15       \u001b[0m | \u001b[0m-0.09871 \u001b[0m | \u001b[0m0.008781 \u001b[0m | \u001b[0m0.002584 \u001b[0m | \u001b[0m0.000718 \u001b[0m | \u001b[0m341.4    \u001b[0m |\n",
      "| \u001b[0m16       \u001b[0m | \u001b[0m-0.08779 \u001b[0m | \u001b[0m0.002091 \u001b[0m | \u001b[0m0.008404 \u001b[0m | \u001b[0m0.0006604\u001b[0m | \u001b[0m281.0    \u001b[0m |\n",
      "| \u001b[0m17       \u001b[0m | \u001b[0m-0.163   \u001b[0m | \u001b[0m0.009311 \u001b[0m | \u001b[0m0.004233 \u001b[0m | \u001b[0m0.008531 \u001b[0m | \u001b[0m341.4    \u001b[0m |\n",
      "| \u001b[0m18       \u001b[0m | \u001b[0m-0.05343 \u001b[0m | \u001b[0m0.005778 \u001b[0m | \u001b[0m0.006493 \u001b[0m | \u001b[0m0.006252 \u001b[0m | \u001b[0m281.0    \u001b[0m |\n",
      "| \u001b[0m19       \u001b[0m | \u001b[0m-0.1711  \u001b[0m | \u001b[0m0.004617 \u001b[0m | \u001b[0m0.006196 \u001b[0m | \u001b[0m0.007899 \u001b[0m | \u001b[0m670.1    \u001b[0m |\n",
      "| \u001b[0m20       \u001b[0m | \u001b[0m-0.1257  \u001b[0m | \u001b[0m0.005461 \u001b[0m | \u001b[0m0.002103 \u001b[0m | \u001b[0m0.008134 \u001b[0m | \u001b[0m791.3    \u001b[0m |\n",
      "| \u001b[0m21       \u001b[0m | \u001b[0m-0.01888 \u001b[0m | \u001b[0m0.00201  \u001b[0m | \u001b[0m0.005542 \u001b[0m | \u001b[0m0.003009 \u001b[0m | \u001b[0m341.4    \u001b[0m |\n",
      "| \u001b[0m22       \u001b[0m | \u001b[0m-0.02246 \u001b[0m | \u001b[0m0.002038 \u001b[0m | \u001b[0m0.001441 \u001b[0m | \u001b[0m0.005736 \u001b[0m | \u001b[0m231.5    \u001b[0m |\n",
      "| \u001b[0m23       \u001b[0m | \u001b[0m-0.2511  \u001b[0m | \u001b[0m0.009719 \u001b[0m | \u001b[0m0.0099   \u001b[0m | \u001b[0m0.003024 \u001b[0m | \u001b[0m527.0    \u001b[0m |\n",
      "| \u001b[95m24       \u001b[0m | \u001b[95m-3.13e-05\u001b[0m | \u001b[95m0.00076  \u001b[0m | \u001b[95m0.004373 \u001b[0m | \u001b[95m0.00796  \u001b[0m | \u001b[95m254.5    \u001b[0m |\n",
      "| \u001b[0m25       \u001b[0m | \u001b[0m-0.1359  \u001b[0m | \u001b[0m0.009618 \u001b[0m | \u001b[0m0.002097 \u001b[0m | \u001b[0m0.006992 \u001b[0m | \u001b[0m341.4    \u001b[0m |\n",
      "| \u001b[0m26       \u001b[0m | \u001b[0m-0.1831  \u001b[0m | \u001b[0m0.009304 \u001b[0m | \u001b[0m0.004288 \u001b[0m | \u001b[0m0.009105 \u001b[0m | \u001b[0m231.5    \u001b[0m |\n",
      "| \u001b[0m27       \u001b[0m | \u001b[0m-0.2464  \u001b[0m | \u001b[0m0.00691  \u001b[0m | \u001b[0m0.008033 \u001b[0m | \u001b[0m0.0001703\u001b[0m | \u001b[0m566.1    \u001b[0m |\n",
      "| \u001b[0m28       \u001b[0m | \u001b[0m-0.02259 \u001b[0m | \u001b[0m0.003026 \u001b[0m | \u001b[0m0.008016 \u001b[0m | \u001b[0m0.004273 \u001b[0m | \u001b[0m231.5    \u001b[0m |\n",
      "| \u001b[0m29       \u001b[0m | \u001b[0m-0.1915  \u001b[0m | \u001b[0m0.006059 \u001b[0m | \u001b[0m0.007707 \u001b[0m | \u001b[0m0.003775 \u001b[0m | \u001b[0m254.5    \u001b[0m |\n",
      "| \u001b[0m30       \u001b[0m | \u001b[0m-0.05657 \u001b[0m | \u001b[0m0.001749 \u001b[0m | \u001b[0m0.007945 \u001b[0m | \u001b[0m0.0003614\u001b[0m | \u001b[0m341.4    \u001b[0m |\n",
      "=========================================================================\n",
      "Final Result:  {'target': -3.130389194372809e-05, 'params': {'ccp_alpha_age_': 0.000759961317755589, 'ccp_alpha_sex_': 0.004372530692689467, 'ccp_alpha_state_': 0.007959674705282015, 'num_components_': 254.53259913851034}}\n",
      "|   iter    |  target   | ccp_al... | ccp_al... | ccp_al... | num_co... |\n",
      "-------------------------------------------------------------------------\n",
      "| \u001b[0m1        \u001b[0m | \u001b[0m-0.278   \u001b[0m | \u001b[0m0.009739 \u001b[0m | \u001b[0m0.009884 \u001b[0m | \u001b[0m0.003965 \u001b[0m | \u001b[0m547.1    \u001b[0m |\n",
      "| \u001b[95m2        \u001b[0m | \u001b[95m-0.1182  \u001b[0m | \u001b[95m0.005579 \u001b[0m | \u001b[95m0.003039 \u001b[0m | \u001b[95m0.006302 \u001b[0m | \u001b[95m280.9    \u001b[0m |\n",
      "| \u001b[0m3        \u001b[0m | \u001b[0m-0.1554  \u001b[0m | \u001b[0m0.005337 \u001b[0m | \u001b[0m0.007395 \u001b[0m | \u001b[0m0.009103 \u001b[0m | \u001b[0m416.8    \u001b[0m |\n",
      "| \u001b[95m4        \u001b[0m | \u001b[95m-0.05398 \u001b[0m | \u001b[95m0.0004415\u001b[0m | \u001b[95m0.008071 \u001b[0m | \u001b[95m0.00655  \u001b[0m | \u001b[95m560.9    \u001b[0m |\n",
      "| \u001b[0m5        \u001b[0m | \u001b[0m-0.2384  \u001b[0m | \u001b[0m0.005849 \u001b[0m | \u001b[0m0.001643 \u001b[0m | \u001b[0m0.008144 \u001b[0m | \u001b[0m541.5    \u001b[0m |\n",
      "| \u001b[0m6        \u001b[0m | \u001b[0m-0.07894 \u001b[0m | \u001b[0m0.002092 \u001b[0m | \u001b[0m0.007732 \u001b[0m | \u001b[0m0.006106 \u001b[0m | \u001b[0m564.5    \u001b[0m |\n",
      "| \u001b[95m7        \u001b[0m | \u001b[95m-0.02682 \u001b[0m | \u001b[95m0.001764 \u001b[0m | \u001b[95m0.00762  \u001b[0m | \u001b[95m0.005488 \u001b[0m | \u001b[95m291.8    \u001b[0m |\n",
      "| \u001b[0m8        \u001b[0m | \u001b[0m-0.1388  \u001b[0m | \u001b[0m0.005181 \u001b[0m | \u001b[0m0.004887 \u001b[0m | \u001b[0m0.004836 \u001b[0m | \u001b[0m297.0    \u001b[0m |\n",
      "| \u001b[0m9        \u001b[0m | \u001b[0m-0.2582  \u001b[0m | \u001b[0m0.009377 \u001b[0m | \u001b[0m0.008572 \u001b[0m | \u001b[0m0.004564 \u001b[0m | \u001b[0m288.8    \u001b[0m |\n",
      "| \u001b[0m10       \u001b[0m | \u001b[0m-0.3077  \u001b[0m | \u001b[0m0.009898 \u001b[0m | \u001b[0m0.009805 \u001b[0m | \u001b[0m0.009211 \u001b[0m | \u001b[0m297.0    \u001b[0m |\n",
      "| \u001b[0m11       \u001b[0m | \u001b[0m-0.09609 \u001b[0m | \u001b[0m0.005364 \u001b[0m | \u001b[0m0.0005243\u001b[0m | \u001b[0m0.003509 \u001b[0m | \u001b[0m592.2    \u001b[0m |\n",
      "| \u001b[0m12       \u001b[0m | \u001b[0m-0.2085  \u001b[0m | \u001b[0m0.007812 \u001b[0m | \u001b[0m0.007018 \u001b[0m | \u001b[0m0.006757 \u001b[0m | \u001b[0m792.6    \u001b[0m |\n",
      "| \u001b[0m13       \u001b[0m | \u001b[0m-0.07439 \u001b[0m | \u001b[0m0.003693 \u001b[0m | \u001b[0m0.0007117\u001b[0m | \u001b[0m0.006295 \u001b[0m | \u001b[0m373.3    \u001b[0m |\n",
      "| \u001b[0m14       \u001b[0m | \u001b[0m-0.03983 \u001b[0m | \u001b[0m0.004759 \u001b[0m | \u001b[0m0.005059 \u001b[0m | \u001b[0m0.004542 \u001b[0m | \u001b[0m752.2    \u001b[0m |\n",
      "| \u001b[0m15       \u001b[0m | \u001b[0m-0.2592  \u001b[0m | \u001b[0m0.008296 \u001b[0m | \u001b[0m0.006407 \u001b[0m | \u001b[0m0.003823 \u001b[0m | \u001b[0m678.0    \u001b[0m |\n",
      "| \u001b[0m16       \u001b[0m | \u001b[0m-0.2148  \u001b[0m | \u001b[0m0.004108 \u001b[0m | \u001b[0m0.002573 \u001b[0m | \u001b[0m0.006102 \u001b[0m | \u001b[0m726.3    \u001b[0m |\n",
      "| \u001b[0m17       \u001b[0m | \u001b[0m-0.1215  \u001b[0m | \u001b[0m0.005994 \u001b[0m | \u001b[0m0.003637 \u001b[0m | \u001b[0m0.002183 \u001b[0m | \u001b[0m279.2    \u001b[0m |\n",
      "| \u001b[95m18       \u001b[0m | \u001b[95m-0.01897 \u001b[0m | \u001b[95m0.003751 \u001b[0m | \u001b[95m0.00106  \u001b[0m | \u001b[95m0.007328 \u001b[0m | \u001b[95m280.2    \u001b[0m |\n",
      "| \u001b[0m19       \u001b[0m | \u001b[0m-0.1042  \u001b[0m | \u001b[0m0.004465 \u001b[0m | \u001b[0m0.003036 \u001b[0m | \u001b[0m0.001812 \u001b[0m | \u001b[0m245.2    \u001b[0m |\n",
      "| \u001b[95m20       \u001b[0m | \u001b[95m-0.01586 \u001b[0m | \u001b[95m0.001887 \u001b[0m | \u001b[95m0.001155 \u001b[0m | \u001b[95m0.006398 \u001b[0m | \u001b[95m777.7    \u001b[0m |\n",
      "| \u001b[0m21       \u001b[0m | \u001b[0m-0.07419 \u001b[0m | \u001b[0m0.006047 \u001b[0m | \u001b[0m0.002008 \u001b[0m | \u001b[0m0.005198 \u001b[0m | \u001b[0m290.6    \u001b[0m |\n",
      "| \u001b[0m22       \u001b[0m | \u001b[0m-0.02004 \u001b[0m | \u001b[0m0.001648 \u001b[0m | \u001b[0m0.003066 \u001b[0m | \u001b[0m0.001569 \u001b[0m | \u001b[0m290.6    \u001b[0m |\n",
      "| \u001b[95m23       \u001b[0m | \u001b[95m-0.009099\u001b[0m | \u001b[95m0.001486 \u001b[0m | \u001b[95m0.001926 \u001b[0m | \u001b[95m0.004366 \u001b[0m | \u001b[95m757.1    \u001b[0m |\n",
      "| \u001b[0m24       \u001b[0m | \u001b[0m-0.1154  \u001b[0m | \u001b[0m0.005923 \u001b[0m | \u001b[0m0.003727 \u001b[0m | \u001b[0m0.008978 \u001b[0m | \u001b[0m560.9    \u001b[0m |\n",
      "| \u001b[0m25       \u001b[0m | \u001b[0m-0.2752  \u001b[0m | \u001b[0m0.006365 \u001b[0m | \u001b[0m0.003213 \u001b[0m | \u001b[0m0.004705 \u001b[0m | \u001b[0m532.3    \u001b[0m |\n",
      "| \u001b[95m26       \u001b[0m | \u001b[95m-0.001979\u001b[0m | \u001b[95m0.000134 \u001b[0m | \u001b[95m0.000298 \u001b[0m | \u001b[95m0.005378 \u001b[0m | \u001b[95m293.5    \u001b[0m |\n",
      "| \u001b[0m27       \u001b[0m | \u001b[0m-0.2628  \u001b[0m | \u001b[0m0.006732 \u001b[0m | \u001b[0m0.009048 \u001b[0m | \u001b[0m0.002761 \u001b[0m | \u001b[0m495.0    \u001b[0m |\n",
      "| \u001b[0m28       \u001b[0m | \u001b[0m-0.1613  \u001b[0m | \u001b[0m0.006339 \u001b[0m | \u001b[0m0.001388 \u001b[0m | \u001b[0m0.001132 \u001b[0m | \u001b[0m634.0    \u001b[0m |\n",
      "| \u001b[0m29       \u001b[0m | \u001b[0m-0.2231  \u001b[0m | \u001b[0m0.008732 \u001b[0m | \u001b[0m0.008226 \u001b[0m | \u001b[0m0.001912 \u001b[0m | \u001b[0m757.1    \u001b[0m |\n",
      "| \u001b[0m30       \u001b[0m | \u001b[0m-0.01186 \u001b[0m | \u001b[0m0.002396 \u001b[0m | \u001b[0m0.001016 \u001b[0m | \u001b[0m0.004125 \u001b[0m | \u001b[0m290.6    \u001b[0m |\n",
      "=========================================================================\n",
      "Final Result:  {'target': -0.001979393677348462, 'params': {'ccp_alpha_age_': 0.00013403811155889472, 'ccp_alpha_sex_': 0.00029801957872293883, 'ccp_alpha_state_': 0.005378029304888066, 'num_components_': 293.4746303805547}}\n",
      "|   iter    |  target   | ccp_al... | ccp_al... | ccp_al... | num_co... |\n",
      "-------------------------------------------------------------------------\n"
     ]
    },
    {
     "name": "stdout",
     "output_type": "stream",
     "text": [
      "| \u001b[0m1        \u001b[0m | \u001b[0m-0.144   \u001b[0m | \u001b[0m0.008659 \u001b[0m | \u001b[0m0.003071 \u001b[0m | \u001b[0m0.008153 \u001b[0m | \u001b[0m253.5    \u001b[0m |\n",
      "| \u001b[0m2        \u001b[0m | \u001b[0m-0.2445  \u001b[0m | \u001b[0m0.008065 \u001b[0m | \u001b[0m0.007031 \u001b[0m | \u001b[0m0.0001737\u001b[0m | \u001b[0m341.2    \u001b[0m |\n",
      "| \u001b[95m3        \u001b[0m | \u001b[95m-0.0374  \u001b[0m | \u001b[95m0.002005 \u001b[0m | \u001b[95m0.004942 \u001b[0m | \u001b[95m0.002969 \u001b[0m | \u001b[95m749.8    \u001b[0m |\n",
      "| \u001b[0m4        \u001b[0m | \u001b[0m-0.1909  \u001b[0m | \u001b[0m0.006769 \u001b[0m | \u001b[0m0.003467 \u001b[0m | \u001b[0m0.001091 \u001b[0m | \u001b[0m743.9    \u001b[0m |\n",
      "| \u001b[95m5        \u001b[0m | \u001b[95m-0.035   \u001b[0m | \u001b[95m0.003704 \u001b[0m | \u001b[95m0.001973 \u001b[0m | \u001b[95m0.009661 \u001b[0m | \u001b[95m360.8    \u001b[0m |\n",
      "| \u001b[0m6        \u001b[0m | \u001b[0m-0.2292  \u001b[0m | \u001b[0m0.005466 \u001b[0m | \u001b[0m0.005473 \u001b[0m | \u001b[0m0.003047 \u001b[0m | \u001b[0m367.6    \u001b[0m |\n",
      "| \u001b[0m7        \u001b[0m | \u001b[0m-0.0884  \u001b[0m | \u001b[0m0.009912 \u001b[0m | \u001b[0m0.001161 \u001b[0m | \u001b[0m0.00971  \u001b[0m | \u001b[0m446.5    \u001b[0m |\n",
      "| \u001b[0m8        \u001b[0m | \u001b[0m-0.2907  \u001b[0m | \u001b[0m0.009217 \u001b[0m | \u001b[0m0.005304 \u001b[0m | \u001b[0m0.005888 \u001b[0m | \u001b[0m506.0    \u001b[0m |\n",
      "| \u001b[0m9        \u001b[0m | \u001b[0m-0.06085 \u001b[0m | \u001b[0m0.001513 \u001b[0m | \u001b[0m0.009858 \u001b[0m | \u001b[0m0.001872 \u001b[0m | \u001b[0m728.3    \u001b[0m |\n",
      "| \u001b[95m10       \u001b[0m | \u001b[95m-0.02412 \u001b[0m | \u001b[95m0.002855 \u001b[0m | \u001b[95m0.008367 \u001b[0m | \u001b[95m0.006311 \u001b[0m | \u001b[95m262.5    \u001b[0m |\n",
      "| \u001b[95m11       \u001b[0m | \u001b[95m-0.01316 \u001b[0m | \u001b[95m0.002715 \u001b[0m | \u001b[95m0.001255 \u001b[0m | \u001b[95m0.00159  \u001b[0m | \u001b[95m437.7    \u001b[0m |\n",
      "| \u001b[0m12       \u001b[0m | \u001b[0m-0.1738  \u001b[0m | \u001b[0m0.003463 \u001b[0m | \u001b[0m0.005868 \u001b[0m | \u001b[0m0.0003499\u001b[0m | \u001b[0m764.5    \u001b[0m |\n",
      "| \u001b[0m13       \u001b[0m | \u001b[0m-0.02531 \u001b[0m | \u001b[0m0.001376 \u001b[0m | \u001b[0m0.00737  \u001b[0m | \u001b[0m0.00615  \u001b[0m | \u001b[0m728.3    \u001b[0m |\n",
      "| \u001b[0m14       \u001b[0m | \u001b[0m-0.2111  \u001b[0m | \u001b[0m0.008635 \u001b[0m | \u001b[0m0.004305 \u001b[0m | \u001b[0m0.004328 \u001b[0m | \u001b[0m437.7    \u001b[0m |\n",
      "| \u001b[0m15       \u001b[0m | \u001b[0m-0.09642 \u001b[0m | \u001b[0m0.004854 \u001b[0m | \u001b[0m0.003097 \u001b[0m | \u001b[0m0.0006956\u001b[0m | \u001b[0m437.7    \u001b[0m |\n",
      "| \u001b[0m16       \u001b[0m | \u001b[0m-0.0622  \u001b[0m | \u001b[0m0.004641 \u001b[0m | \u001b[0m0.001498 \u001b[0m | \u001b[0m0.005987 \u001b[0m | \u001b[0m262.5    \u001b[0m |\n",
      "| \u001b[0m17       \u001b[0m | \u001b[0m-0.0412  \u001b[0m | \u001b[0m0.002259 \u001b[0m | \u001b[0m0.001177 \u001b[0m | \u001b[0m0.004503 \u001b[0m | \u001b[0m502.3    \u001b[0m |\n",
      "| \u001b[0m18       \u001b[0m | \u001b[0m-0.08255 \u001b[0m | \u001b[0m0.004046 \u001b[0m | \u001b[0m0.007684 \u001b[0m | \u001b[0m0.007853 \u001b[0m | \u001b[0m589.7    \u001b[0m |\n",
      "| \u001b[0m19       \u001b[0m | \u001b[0m-0.036   \u001b[0m | \u001b[0m0.002262 \u001b[0m | \u001b[0m0.005118 \u001b[0m | \u001b[0m0.003976 \u001b[0m | \u001b[0m287.4    \u001b[0m |\n",
      "| \u001b[0m20       \u001b[0m | \u001b[0m-0.09716 \u001b[0m | \u001b[0m0.001931 \u001b[0m | \u001b[0m0.006589 \u001b[0m | \u001b[0m0.003534 \u001b[0m | \u001b[0m749.8    \u001b[0m |\n",
      "| \u001b[95m21       \u001b[0m | \u001b[95m-0.01205 \u001b[0m | \u001b[95m0.0001302\u001b[0m | \u001b[95m0.0003392\u001b[0m | \u001b[95m0.007518 \u001b[0m | \u001b[95m413.6    \u001b[0m |\n",
      "| \u001b[0m22       \u001b[0m | \u001b[0m-0.1294  \u001b[0m | \u001b[0m0.003808 \u001b[0m | \u001b[0m0.003705 \u001b[0m | \u001b[0m0.001393 \u001b[0m | \u001b[0m388.4    \u001b[0m |\n",
      "| \u001b[0m23       \u001b[0m | \u001b[0m-0.1023  \u001b[0m | \u001b[0m0.002498 \u001b[0m | \u001b[0m0.00958  \u001b[0m | \u001b[0m0.001758 \u001b[0m | \u001b[0m262.5    \u001b[0m |\n",
      "| \u001b[0m24       \u001b[0m | \u001b[0m-0.07075 \u001b[0m | \u001b[0m0.004185 \u001b[0m | \u001b[0m0.000253 \u001b[0m | \u001b[0m0.001    \u001b[0m | \u001b[0m749.8    \u001b[0m |\n",
      "| \u001b[0m25       \u001b[0m | \u001b[0m-0.1398  \u001b[0m | \u001b[0m0.005314 \u001b[0m | \u001b[0m0.004474 \u001b[0m | \u001b[0m0.007653 \u001b[0m | \u001b[0m728.3    \u001b[0m |\n",
      "| \u001b[0m26       \u001b[0m | \u001b[0m-0.1205  \u001b[0m | \u001b[0m0.009554 \u001b[0m | \u001b[0m0.001031 \u001b[0m | \u001b[0m0.006204 \u001b[0m | \u001b[0m592.1    \u001b[0m |\n",
      "| \u001b[95m27       \u001b[0m | \u001b[95m-0.004339\u001b[0m | \u001b[95m0.001163 \u001b[0m | \u001b[95m0.002026 \u001b[0m | \u001b[95m0.00884  \u001b[0m | \u001b[95m701.6    \u001b[0m |\n",
      "| \u001b[0m28       \u001b[0m | \u001b[0m-0.05983 \u001b[0m | \u001b[0m0.00604  \u001b[0m | \u001b[0m0.003715 \u001b[0m | \u001b[0m0.002426 \u001b[0m | \u001b[0m360.9    \u001b[0m |\n",
      "| \u001b[0m29       \u001b[0m | \u001b[0m-0.1769  \u001b[0m | \u001b[0m0.002926 \u001b[0m | \u001b[0m0.00945  \u001b[0m | \u001b[0m0.009207 \u001b[0m | \u001b[0m434.2    \u001b[0m |\n",
      "| \u001b[0m30       \u001b[0m | \u001b[0m-0.1959  \u001b[0m | \u001b[0m0.007238 \u001b[0m | \u001b[0m0.00228  \u001b[0m | \u001b[0m0.006152 \u001b[0m | \u001b[0m277.9    \u001b[0m |\n",
      "=========================================================================\n",
      "Final Result:  {'target': -0.004338931828151452, 'params': {'ccp_alpha_age_': 0.0011631644120584197, 'ccp_alpha_sex_': 0.0020255806350431534, 'ccp_alpha_state_': 0.008839608024449993, 'num_components_': 701.6308319393095}}\n"
     ]
    }
   ],
   "source": [
    "optimization_results = [optimize_models(train_data=train_data, number_synthetic_datasets=nsd, number_gmm_initializations=ngi, random_state=r) for r in random_states]"
   ]
  },
  {
   "cell_type": "markdown",
   "id": "dab452a9",
   "metadata": {},
   "source": [
    "***"
   ]
  },
  {
   "cell_type": "code",
   "execution_count": 9,
   "id": "2c71552b",
   "metadata": {},
   "outputs": [],
   "source": [
    "run_targets = [np.minimum.accumulate(-i[1].space.target) for i in optimization_results]"
   ]
  },
  {
   "cell_type": "code",
   "execution_count": 10,
   "id": "bb2e246f",
   "metadata": {},
   "outputs": [
    {
     "data": {
      "image/png": "[encoded data removed]",
      "text/plain": [
       "<Figure size 640x480 with 1 Axes>"
      ]
     },
     "metadata": {},
     "output_type": "display_data"
    }
   ],
   "source": [
    "plt.plot(run_targets[0])\n",
    "plt.scatter(np.arange(len(run_targets[0])), run_targets[0], s=6)\n",
    "plt.plot(run_targets[1])\n",
    "plt.scatter(np.arange(len(run_targets[1])), run_targets[1], s=6)\n",
    "plt.plot(run_targets[2])\n",
    "plt.scatter(np.arange(len(run_targets[2])), run_targets[2], s=6)\n",
    "plt.plot(run_targets[3])\n",
    "plt.scatter(np.arange(len(run_targets[3])), run_targets[3], s=6)\n",
    "plt.plot(run_targets[4])\n",
    "plt.scatter(np.arange(len(run_targets[4])), run_targets[4], s=6)\n",
    "plt.title(\"Running Minimum Objective Value for CART Synthesis\")\n",
    "plt.show()"
   ]
  },
  {
   "cell_type": "markdown",
   "id": "325348ce",
   "metadata": {},
   "source": [
    "Choose the params that gave the best objective value across all random seeds."
   ]
  },
  {
   "cell_type": "code",
   "execution_count": 11,
   "id": "69f179aa",
   "metadata": {},
   "outputs": [],
   "source": [
    "best_params = optimization_results[np.argmax([x[0]['target'] for x in optimization_results])][0]"
   ]
  },
  {
   "cell_type": "code",
   "execution_count": 12,
   "id": "112b4969",
   "metadata": {},
   "outputs": [
    {
     "data": {
      "text/plain": [
       "{'target': -8.899172846265437e-06,\n",
       " 'params': {'ccp_alpha_age_': 0.0007080287595573054,\n",
       "  'ccp_alpha_sex_': 0.008150640110845311,\n",
       "  'ccp_alpha_state_': 0.007679049609782695,\n",
       "  'num_components_': 372.09619260704494}}"
      ]
     },
     "execution_count": 12,
     "metadata": {},
     "output_type": "execute_result"
    }
   ],
   "source": [
    "best_params"
   ]
  },
  {
   "cell_type": "markdown",
   "id": "8c940983",
   "metadata": {},
   "source": [
    "***"
   ]
  },
  {
   "cell_type": "markdown",
   "id": "c8e1ea09",
   "metadata": {},
   "source": [
    "Generate 1000 synthetic datasets, choose the 20 that have the pMSE closest to 1."
   ]
  },
  {
   "cell_type": "code",
   "execution_count": 13,
   "id": "9ed0391f",
   "metadata": {},
   "outputs": [],
   "source": [
    "full_ratios, full_sXs, GMM, cart_sex, cart_age, cart_state = train_models(train_data=train_data,\n",
    "                                                                          number_synthetic_datasets=20,\n",
    "                                                                          # hyperparameters for GMM\n",
    "                                                                          number_gmm_initializations=ngi,\n",
    "                                                                          num_components_=int(best_params['params']['num_components_']),\n",
    "                                                                          # hyperparameters for CART, end with underscore means Bayesian optimization will choose\n",
    "                                                                          ccp_alpha_sex_=best_params['params']['ccp_alpha_sex_'],\n",
    "                                                                          ccp_alpha_age_=best_params['params']['ccp_alpha_age_'],\n",
    "                                                                          ccp_alpha_state_=best_params['params']['ccp_alpha_state_'])"
   ]
  },
  {
   "cell_type": "code",
   "execution_count": 14,
   "id": "23473f9a",
   "metadata": {},
   "outputs": [
    {
     "data": {
      "text/plain": [
       "0.01549986732409348"
      ]
     },
     "execution_count": 14,
     "metadata": {},
     "output_type": "execute_result"
    }
   ],
   "source": [
    "(1 - np.mean(full_ratios))**2"
   ]
  },
  {
   "cell_type": "code",
   "execution_count": 15,
   "id": "295e7588",
   "metadata": {},
   "outputs": [
    {
     "data": {
      "text/plain": [
       "1.124498463139484"
      ]
     },
     "execution_count": 15,
     "metadata": {},
     "output_type": "execute_result"
    }
   ],
   "source": [
    "np.mean(full_ratios)"
   ]
  },
  {
   "cell_type": "code",
   "execution_count": 16,
   "id": "a3d6a0f6",
   "metadata": {},
   "outputs": [
    {
     "data": {
      "image/png": "[encoded data removed]",
      "text/plain": [
       "<Figure size 640x480 with 1 Axes>"
      ]
     },
     "metadata": {},
     "output_type": "display_data"
    }
   ],
   "source": [
    "plt.violinplot(full_ratios)\n",
    "plt.xlabel(\"Density\")\n",
    "plt.ylabel(\"pMSE Ratio\")\n",
    "plt.title(\"Distribution of pMSE Ratios\")\n",
    "plt.show()"
   ]
  },
  {
   "cell_type": "markdown",
   "id": "af137729",
   "metadata": {},
   "source": [
    "***"
   ]
  },
  {
   "cell_type": "markdown",
   "id": "c7c4b464",
   "metadata": {},
   "source": [
    "# Save the synthetic datasets."
   ]
  },
  {
   "cell_type": "code",
   "execution_count": 17,
   "id": "5696e166",
   "metadata": {},
   "outputs": [],
   "source": [
    "for i, sX in enumerate(full_sXs):\n",
    "    sX.to_csv(\"Data/synthetic_datasets/cart_cart_synthetic_dataset_\" + str(i) + \".csv\", index=False)"
   ]
  },
  {
   "cell_type": "markdown",
   "id": "c40ffaea",
   "metadata": {},
   "source": [
    "***"
   ]
  }
 ],
 "metadata": {
  "kernelspec": {
   "display_name": "Python 3 (ipykernel)",
   "language": "python",
   "name": "python3"
  },
  "language_info": {
   "codemirror_mode": {
    "name": "ipython",
    "version": 3
   },
   "file_extension": ".py",
   "mimetype": "text/x-python",
   "name": "python",
   "nbconvert_exporter": "python",
   "pygments_lexer": "ipython3",
   "version": "3.9.13"
  }
 },
 "nbformat": 4,
 "nbformat_minor": 5
}
