{
 "cells": [
  {
   "cell_type": "code",
   "execution_count": 37,
   "id": "6a9fe08f",
   "metadata": {},
   "outputs": [],
   "source": [
    "import pandas as pd\n",
    "import numpy as np\n",
    "from sklearn.preprocessing import StandardScaler\n",
    "\n",
    "from scipy.spatial import KDTree\n",
    "\n",
    "import matplotlib.pyplot as plt"
   ]
  },
  {
   "cell_type": "markdown",
   "id": "2b1fcb64",
   "metadata": {},
   "source": [
    "Need to think carefully about what distance metric we use."
   ]
  },
  {
   "cell_type": "markdown",
   "id": "a7b8be3f",
   "metadata": {},
   "source": [
    "## Metric 1: IMS"
   ]
  },
  {
   "cell_type": "markdown",
   "id": "631178c4",
   "metadata": {},
   "source": [
    "Assess the proportion of records in both the synthetic and holdout data sets that are identical to records in the training data set."
   ]
  },
  {
   "cell_type": "code",
   "execution_count": 38,
   "id": "74051225",
   "metadata": {},
   "outputs": [],
   "source": [
    "train = pd.read_csv(\"Data/train_dataset.csv\")"
   ]
  },
  {
   "cell_type": "code",
   "execution_count": 39,
   "id": "f0b424f3",
   "metadata": {},
   "outputs": [],
   "source": [
    "X = pd.read_csv(\"Data/full_dataset.csv\")\n",
    "\n",
    "# generate a set of twenty holdout datasets\n",
    "holdout_datasets = [X.sample(frac=0.5, replace=True).reset_index(drop=True) for i in range(20)]"
   ]
  },
  {
   "cell_type": "markdown",
   "id": "2dd50aa9",
   "metadata": {},
   "source": [
    "Perform two-sample bootstrap calculation for the privacy metrics, i.e., we pair synthetic and holdout data sets and treat these as paired bootstrap samples from the population data set. Then we can calculate the mean of each privacy metric and the 95% confidence interval of the metric."
   ]
  },
  {
   "cell_type": "markdown",
   "id": "1d2762e9",
   "metadata": {},
   "source": [
    "Pick an arbitrary $\\delta$ value."
   ]
  },
  {
   "cell_type": "code",
   "execution_count": 40,
   "id": "ab018872",
   "metadata": {},
   "outputs": [],
   "source": [
    "delta = 0.001"
   ]
  },
  {
   "cell_type": "markdown",
   "id": "ae755216",
   "metadata": {},
   "source": [
    "Function to calculate the privacy metrics given training, holdout, and synthetic data, for a given delta value."
   ]
  },
  {
   "cell_type": "code",
   "execution_count": 41,
   "id": "b128446f",
   "metadata": {},
   "outputs": [],
   "source": [
    "def privacy_metrics(train_data, holdout_data, synthetic_data, delta):\n",
    "    \n",
    "    # synthetic_data[\"age\"] = synthetic_data[\"age\"].astype('category')\n",
    "    \n",
    "    # age_dummies = pd.get_dummies(synthetic_data['age'], drop_first=True)\n",
    "    \n",
    "    # age_dummies.columns = [str(x) for x in age_dummies.columns]\n",
    "    \n",
    "    # synthetic_data = synthetic_data.drop(\"age\", axis=1)\n",
    "    \n",
    "    # synthetic_data = pd.concat([synthetic_data, age_dummies], axis=1)\n",
    "    \n",
    "    # missing = train_data.columns[[x not in synthetic_data.columns for x in train_data.columns]]\n",
    "    \n",
    "    # if len(missing) > 0:\n",
    "        # for m in missing:\n",
    "            # new = pd.Series(np.zeros(synthetic_data.shape[0]))\n",
    "            # new.name = m\n",
    "            # synthetic_data = pd.concat([synthetic_data, new], axis=1)\n",
    "            \n",
    "    # print(synthetic_data)\n",
    "    \n",
    "    # print(training.columns[train_data.columns is in synthetic_data.columns])\n",
    "    \n",
    "    ###########################################\n",
    "    \n",
    "    scaler = StandardScaler()\n",
    "    \n",
    "    train_data_scaled = scaler.fit_transform(X=train_data) ####\n",
    "    \n",
    "    training_tree = KDTree(train_data_scaled)\n",
    "    \n",
    "    holdout_data_scaled = scaler.fit(X=train_data).transform(X=holdout_data) ####\n",
    "    \n",
    "    synthetic_data_scaled = scaler.fit(X=train_data).transform(X=synthetic_data) ####\n",
    "    \n",
    "    holdout_dists, holdout_neighbors = training_tree.query(x=holdout_data_scaled, k=5, p=2) ####\n",
    "    \n",
    "    synthetic_dists, synthetic_neighbors = training_tree.query(x=synthetic_data_scaled, k=5, p=2) ####\n",
    "    \n",
    "    IMS_holdout = np.mean(holdout_dists[:,0] <= delta)\n",
    "    \n",
    "    IMS_synthetic = np.mean(synthetic_dists[:,0] <= delta)\n",
    "    \n",
    "    DCR_holdout = np.percentile(holdout_dists[:,0], q=5)\n",
    "    \n",
    "    DCR_synthetic = np.percentile(synthetic_dists[:,0], q=5)\n",
    "    \n",
    "    ratios_synthetic = synthetic_dists[:,0]/synthetic_dists[:,-1]\n",
    "    \n",
    "    ratios_holdout = holdout_dists[:,0]/holdout_dists[:,-1]\n",
    "    \n",
    "    ratios_holdout = np.nan_to_num(ratios_holdout, nan=1.0)\n",
    "    \n",
    "    NNDR_synthetic = np.percentile(ratios_synthetic, q=5)\n",
    "    \n",
    "    NNDR_holdout = np.percentile(ratios_holdout, q=5)\n",
    "    \n",
    "    return ({\"IMS_holdout\": IMS_holdout, \"IMS_synthetic\": IMS_synthetic,\n",
    "             \"DCR_holdout\": DCR_holdout, \"DCR_synthetic\": DCR_synthetic,\n",
    "             \"NNDR_holdout\": NNDR_holdout, \"NNDR_synthetic\": NNDR_synthetic})"
   ]
  },
  {
   "cell_type": "code",
   "execution_count": 43,
   "id": "68a9d566",
   "metadata": {},
   "outputs": [],
   "source": [
    "# sXs_logit_ks = [pd.read_csv(\"Data/synthetic_datasets/logistic_logistic_ks_\" + str(i) + \".csv\") for i in range(20)]\n",
    "sXs_logit_pmse = [pd.read_csv(\"Data/synthetic_datasets/logistic_logistic_pmse_\" + str(i) + \".csv\") for i in range(20)]\n",
    "sXs_logit_inf_pmse = [pd.read_csv(\"Data/synthetic_datasets/logistic_logistic_inf_pmse_\" + str(i) + \".csv\") for i in range(20)]\n",
    "# sXs_cart_ks = [pd.read_csv(\"Data/synthetic_datasets/cart_logistic_ks_\" + str(i) + \".csv\") for i in range(20)]\n",
    "# sXs_cart_pmse = [pd.read_csv(\"Data/synthetic_datasets/cart_logistic_pmse_\" + str(i) + \".csv\") for i in range(20)]\n",
    "# sXs_cart_mb_ks = [pd.read_csv(\"Data/synthetic_datasets/cart_mb_logistic_ks_\" + str(i) + \".csv\") for i in range(20)]\n",
    "sXs_cart_mb_pmse = [pd.read_csv(\"Data/synthetic_datasets/cart_mb_logistic_pmse_\" + str(i) + \".csv\") for i in range(20)]\n",
    "sXs_cart_mb_inf_pmse = [pd.read_csv(\"Data/synthetic_datasets/cart_mb_inf_logistic_pmse_\" + str(i) + \".csv\") for i in range(20)]"
   ]
  },
  {
   "cell_type": "code",
   "execution_count": 65,
   "id": "847c09e6",
   "metadata": {},
   "outputs": [],
   "source": [
    "sXs_overfit = [pd.read_csv(\"Data/synthetic_datasets/cart_mb_logistic_pmse_of_\" + str(i) + \".csv\") for i in range(20)]"
   ]
  },
  {
   "cell_type": "code",
   "execution_count": 44,
   "id": "d183dea4",
   "metadata": {},
   "outputs": [],
   "source": [
    "sXs_mostly = [pd.read_csv(\"Data/synthetic_datasets/mostly_\" + str(i) + \".csv\") for i in range(20)]"
   ]
  },
  {
   "cell_type": "code",
   "execution_count": 45,
   "id": "9e02ee4d",
   "metadata": {},
   "outputs": [],
   "source": [
    "def mean_privacy_diffs(training_data, holdout_datasets, synthetic_datasets, delta):\n",
    "    \n",
    "    metric_list = [privacy_metrics(training_data, holdout_datasets[i], Y, delta=delta) for i,Y in enumerate(synthetic_datasets)]\n",
    "    \n",
    "    return {\"DCR Diff (Synthetic - Holdout)\": np.round(np.mean([x['DCR_synthetic'] for x in metric_list]) - np.mean([x['DCR_holdout'] for x in metric_list]), 4),\n",
    "            \"NNDR Diff (Synthetic - Holdout)\": np.round(np.mean([x['NNDR_synthetic'] for x in metric_list]) - np.mean([x['NNDR_holdout'] for x in metric_list]), 4)}"
   ]
  },
  {
   "cell_type": "code",
   "execution_count": 66,
   "id": "566bfd28",
   "metadata": {},
   "outputs": [
    {
     "name": "stderr",
     "output_type": "stream",
     "text": [
      "C:\\Users\\camer\\AppData\\Local\\Temp\\ipykernel_17532\\3667416415.py:51: RuntimeWarning: invalid value encountered in divide\n",
      "  ratios_holdout = holdout_dists[:,0]/holdout_dists[:,-1]\n",
      "C:\\Users\\camer\\AppData\\Local\\Temp\\ipykernel_17532\\3667416415.py:51: RuntimeWarning: invalid value encountered in divide\n",
      "  ratios_holdout = holdout_dists[:,0]/holdout_dists[:,-1]\n",
      "C:\\Users\\camer\\AppData\\Local\\Temp\\ipykernel_17532\\3667416415.py:51: RuntimeWarning: invalid value encountered in divide\n",
      "  ratios_holdout = holdout_dists[:,0]/holdout_dists[:,-1]\n",
      "C:\\Users\\camer\\AppData\\Local\\Temp\\ipykernel_17532\\3667416415.py:51: RuntimeWarning: invalid value encountered in divide\n",
      "  ratios_holdout = holdout_dists[:,0]/holdout_dists[:,-1]\n",
      "C:\\Users\\camer\\AppData\\Local\\Temp\\ipykernel_17532\\3667416415.py:51: RuntimeWarning: invalid value encountered in divide\n",
      "  ratios_holdout = holdout_dists[:,0]/holdout_dists[:,-1]\n",
      "C:\\Users\\camer\\AppData\\Local\\Temp\\ipykernel_17532\\3667416415.py:51: RuntimeWarning: invalid value encountered in divide\n",
      "  ratios_holdout = holdout_dists[:,0]/holdout_dists[:,-1]\n",
      "C:\\Users\\camer\\AppData\\Local\\Temp\\ipykernel_17532\\3667416415.py:51: RuntimeWarning: invalid value encountered in divide\n",
      "  ratios_holdout = holdout_dists[:,0]/holdout_dists[:,-1]\n",
      "C:\\Users\\camer\\AppData\\Local\\Temp\\ipykernel_17532\\3667416415.py:51: RuntimeWarning: invalid value encountered in divide\n",
      "  ratios_holdout = holdout_dists[:,0]/holdout_dists[:,-1]\n",
      "C:\\Users\\camer\\AppData\\Local\\Temp\\ipykernel_17532\\3667416415.py:51: RuntimeWarning: invalid value encountered in divide\n",
      "  ratios_holdout = holdout_dists[:,0]/holdout_dists[:,-1]\n",
      "C:\\Users\\camer\\AppData\\Local\\Temp\\ipykernel_17532\\3667416415.py:51: RuntimeWarning: invalid value encountered in divide\n",
      "  ratios_holdout = holdout_dists[:,0]/holdout_dists[:,-1]\n",
      "C:\\Users\\camer\\AppData\\Local\\Temp\\ipykernel_17532\\3667416415.py:51: RuntimeWarning: invalid value encountered in divide\n",
      "  ratios_holdout = holdout_dists[:,0]/holdout_dists[:,-1]\n",
      "C:\\Users\\camer\\AppData\\Local\\Temp\\ipykernel_17532\\3667416415.py:51: RuntimeWarning: invalid value encountered in divide\n",
      "  ratios_holdout = holdout_dists[:,0]/holdout_dists[:,-1]\n",
      "C:\\Users\\camer\\AppData\\Local\\Temp\\ipykernel_17532\\3667416415.py:51: RuntimeWarning: invalid value encountered in divide\n",
      "  ratios_holdout = holdout_dists[:,0]/holdout_dists[:,-1]\n",
      "C:\\Users\\camer\\AppData\\Local\\Temp\\ipykernel_17532\\3667416415.py:51: RuntimeWarning: invalid value encountered in divide\n",
      "  ratios_holdout = holdout_dists[:,0]/holdout_dists[:,-1]\n",
      "C:\\Users\\camer\\AppData\\Local\\Temp\\ipykernel_17532\\3667416415.py:51: RuntimeWarning: invalid value encountered in divide\n",
      "  ratios_holdout = holdout_dists[:,0]/holdout_dists[:,-1]\n",
      "C:\\Users\\camer\\AppData\\Local\\Temp\\ipykernel_17532\\3667416415.py:51: RuntimeWarning: invalid value encountered in divide\n",
      "  ratios_holdout = holdout_dists[:,0]/holdout_dists[:,-1]\n",
      "C:\\Users\\camer\\AppData\\Local\\Temp\\ipykernel_17532\\3667416415.py:51: RuntimeWarning: invalid value encountered in divide\n",
      "  ratios_holdout = holdout_dists[:,0]/holdout_dists[:,-1]\n",
      "C:\\Users\\camer\\AppData\\Local\\Temp\\ipykernel_17532\\3667416415.py:51: RuntimeWarning: invalid value encountered in divide\n",
      "  ratios_holdout = holdout_dists[:,0]/holdout_dists[:,-1]\n",
      "C:\\Users\\camer\\AppData\\Local\\Temp\\ipykernel_17532\\3667416415.py:51: RuntimeWarning: invalid value encountered in divide\n",
      "  ratios_holdout = holdout_dists[:,0]/holdout_dists[:,-1]\n",
      "C:\\Users\\camer\\AppData\\Local\\Temp\\ipykernel_17532\\3667416415.py:51: RuntimeWarning: invalid value encountered in divide\n",
      "  ratios_holdout = holdout_dists[:,0]/holdout_dists[:,-1]\n",
      "C:\\Users\\camer\\AppData\\Local\\Temp\\ipykernel_17532\\3667416415.py:51: RuntimeWarning: invalid value encountered in divide\n",
      "  ratios_holdout = holdout_dists[:,0]/holdout_dists[:,-1]\n",
      "C:\\Users\\camer\\AppData\\Local\\Temp\\ipykernel_17532\\3667416415.py:51: RuntimeWarning: invalid value encountered in divide\n",
      "  ratios_holdout = holdout_dists[:,0]/holdout_dists[:,-1]\n",
      "C:\\Users\\camer\\AppData\\Local\\Temp\\ipykernel_17532\\3667416415.py:51: RuntimeWarning: invalid value encountered in divide\n",
      "  ratios_holdout = holdout_dists[:,0]/holdout_dists[:,-1]\n",
      "C:\\Users\\camer\\AppData\\Local\\Temp\\ipykernel_17532\\3667416415.py:51: RuntimeWarning: invalid value encountered in divide\n",
      "  ratios_holdout = holdout_dists[:,0]/holdout_dists[:,-1]\n",
      "C:\\Users\\camer\\AppData\\Local\\Temp\\ipykernel_17532\\3667416415.py:51: RuntimeWarning: invalid value encountered in divide\n",
      "  ratios_holdout = holdout_dists[:,0]/holdout_dists[:,-1]\n",
      "C:\\Users\\camer\\AppData\\Local\\Temp\\ipykernel_17532\\3667416415.py:51: RuntimeWarning: invalid value encountered in divide\n",
      "  ratios_holdout = holdout_dists[:,0]/holdout_dists[:,-1]\n",
      "C:\\Users\\camer\\AppData\\Local\\Temp\\ipykernel_17532\\3667416415.py:51: RuntimeWarning: invalid value encountered in divide\n",
      "  ratios_holdout = holdout_dists[:,0]/holdout_dists[:,-1]\n",
      "C:\\Users\\camer\\AppData\\Local\\Temp\\ipykernel_17532\\3667416415.py:51: RuntimeWarning: invalid value encountered in divide\n",
      "  ratios_holdout = holdout_dists[:,0]/holdout_dists[:,-1]\n",
      "C:\\Users\\camer\\AppData\\Local\\Temp\\ipykernel_17532\\3667416415.py:51: RuntimeWarning: invalid value encountered in divide\n",
      "  ratios_holdout = holdout_dists[:,0]/holdout_dists[:,-1]\n",
      "C:\\Users\\camer\\AppData\\Local\\Temp\\ipykernel_17532\\3667416415.py:51: RuntimeWarning: invalid value encountered in divide\n",
      "  ratios_holdout = holdout_dists[:,0]/holdout_dists[:,-1]\n",
      "C:\\Users\\camer\\AppData\\Local\\Temp\\ipykernel_17532\\3667416415.py:51: RuntimeWarning: invalid value encountered in divide\n",
      "  ratios_holdout = holdout_dists[:,0]/holdout_dists[:,-1]\n",
      "C:\\Users\\camer\\AppData\\Local\\Temp\\ipykernel_17532\\3667416415.py:51: RuntimeWarning: invalid value encountered in divide\n",
      "  ratios_holdout = holdout_dists[:,0]/holdout_dists[:,-1]\n",
      "C:\\Users\\camer\\AppData\\Local\\Temp\\ipykernel_17532\\3667416415.py:51: RuntimeWarning: invalid value encountered in divide\n",
      "  ratios_holdout = holdout_dists[:,0]/holdout_dists[:,-1]\n",
      "C:\\Users\\camer\\AppData\\Local\\Temp\\ipykernel_17532\\3667416415.py:51: RuntimeWarning: invalid value encountered in divide\n",
      "  ratios_holdout = holdout_dists[:,0]/holdout_dists[:,-1]\n",
      "C:\\Users\\camer\\AppData\\Local\\Temp\\ipykernel_17532\\3667416415.py:51: RuntimeWarning: invalid value encountered in divide\n",
      "  ratios_holdout = holdout_dists[:,0]/holdout_dists[:,-1]\n",
      "C:\\Users\\camer\\AppData\\Local\\Temp\\ipykernel_17532\\3667416415.py:51: RuntimeWarning: invalid value encountered in divide\n",
      "  ratios_holdout = holdout_dists[:,0]/holdout_dists[:,-1]\n",
      "C:\\Users\\camer\\AppData\\Local\\Temp\\ipykernel_17532\\3667416415.py:51: RuntimeWarning: invalid value encountered in divide\n",
      "  ratios_holdout = holdout_dists[:,0]/holdout_dists[:,-1]\n",
      "C:\\Users\\camer\\AppData\\Local\\Temp\\ipykernel_17532\\3667416415.py:51: RuntimeWarning: invalid value encountered in divide\n",
      "  ratios_holdout = holdout_dists[:,0]/holdout_dists[:,-1]\n",
      "C:\\Users\\camer\\AppData\\Local\\Temp\\ipykernel_17532\\3667416415.py:51: RuntimeWarning: invalid value encountered in divide\n",
      "  ratios_holdout = holdout_dists[:,0]/holdout_dists[:,-1]\n",
      "C:\\Users\\camer\\AppData\\Local\\Temp\\ipykernel_17532\\3667416415.py:51: RuntimeWarning: invalid value encountered in divide\n",
      "  ratios_holdout = holdout_dists[:,0]/holdout_dists[:,-1]\n",
      "C:\\Users\\camer\\AppData\\Local\\Temp\\ipykernel_17532\\3667416415.py:51: RuntimeWarning: invalid value encountered in divide\n",
      "  ratios_holdout = holdout_dists[:,0]/holdout_dists[:,-1]\n",
      "C:\\Users\\camer\\AppData\\Local\\Temp\\ipykernel_17532\\3667416415.py:51: RuntimeWarning: invalid value encountered in divide\n",
      "  ratios_holdout = holdout_dists[:,0]/holdout_dists[:,-1]\n",
      "C:\\Users\\camer\\AppData\\Local\\Temp\\ipykernel_17532\\3667416415.py:51: RuntimeWarning: invalid value encountered in divide\n",
      "  ratios_holdout = holdout_dists[:,0]/holdout_dists[:,-1]\n",
      "C:\\Users\\camer\\AppData\\Local\\Temp\\ipykernel_17532\\3667416415.py:51: RuntimeWarning: invalid value encountered in divide\n",
      "  ratios_holdout = holdout_dists[:,0]/holdout_dists[:,-1]\n",
      "C:\\Users\\camer\\AppData\\Local\\Temp\\ipykernel_17532\\3667416415.py:51: RuntimeWarning: invalid value encountered in divide\n",
      "  ratios_holdout = holdout_dists[:,0]/holdout_dists[:,-1]\n",
      "C:\\Users\\camer\\AppData\\Local\\Temp\\ipykernel_17532\\3667416415.py:51: RuntimeWarning: invalid value encountered in divide\n",
      "  ratios_holdout = holdout_dists[:,0]/holdout_dists[:,-1]\n",
      "C:\\Users\\camer\\AppData\\Local\\Temp\\ipykernel_17532\\3667416415.py:51: RuntimeWarning: invalid value encountered in divide\n",
      "  ratios_holdout = holdout_dists[:,0]/holdout_dists[:,-1]\n",
      "C:\\Users\\camer\\AppData\\Local\\Temp\\ipykernel_17532\\3667416415.py:51: RuntimeWarning: invalid value encountered in divide\n",
      "  ratios_holdout = holdout_dists[:,0]/holdout_dists[:,-1]\n",
      "C:\\Users\\camer\\AppData\\Local\\Temp\\ipykernel_17532\\3667416415.py:51: RuntimeWarning: invalid value encountered in divide\n",
      "  ratios_holdout = holdout_dists[:,0]/holdout_dists[:,-1]\n",
      "C:\\Users\\camer\\AppData\\Local\\Temp\\ipykernel_17532\\3667416415.py:51: RuntimeWarning: invalid value encountered in divide\n",
      "  ratios_holdout = holdout_dists[:,0]/holdout_dists[:,-1]\n"
     ]
    },
    {
     "name": "stderr",
     "output_type": "stream",
     "text": [
      "C:\\Users\\camer\\AppData\\Local\\Temp\\ipykernel_17532\\3667416415.py:51: RuntimeWarning: invalid value encountered in divide\n",
      "  ratios_holdout = holdout_dists[:,0]/holdout_dists[:,-1]\n",
      "C:\\Users\\camer\\AppData\\Local\\Temp\\ipykernel_17532\\3667416415.py:51: RuntimeWarning: invalid value encountered in divide\n",
      "  ratios_holdout = holdout_dists[:,0]/holdout_dists[:,-1]\n",
      "C:\\Users\\camer\\AppData\\Local\\Temp\\ipykernel_17532\\3667416415.py:51: RuntimeWarning: invalid value encountered in divide\n",
      "  ratios_holdout = holdout_dists[:,0]/holdout_dists[:,-1]\n",
      "C:\\Users\\camer\\AppData\\Local\\Temp\\ipykernel_17532\\3667416415.py:51: RuntimeWarning: invalid value encountered in divide\n",
      "  ratios_holdout = holdout_dists[:,0]/holdout_dists[:,-1]\n",
      "C:\\Users\\camer\\AppData\\Local\\Temp\\ipykernel_17532\\3667416415.py:51: RuntimeWarning: invalid value encountered in divide\n",
      "  ratios_holdout = holdout_dists[:,0]/holdout_dists[:,-1]\n",
      "C:\\Users\\camer\\AppData\\Local\\Temp\\ipykernel_17532\\3667416415.py:51: RuntimeWarning: invalid value encountered in divide\n",
      "  ratios_holdout = holdout_dists[:,0]/holdout_dists[:,-1]\n",
      "C:\\Users\\camer\\AppData\\Local\\Temp\\ipykernel_17532\\3667416415.py:51: RuntimeWarning: invalid value encountered in divide\n",
      "  ratios_holdout = holdout_dists[:,0]/holdout_dists[:,-1]\n",
      "C:\\Users\\camer\\AppData\\Local\\Temp\\ipykernel_17532\\3667416415.py:51: RuntimeWarning: invalid value encountered in divide\n",
      "  ratios_holdout = holdout_dists[:,0]/holdout_dists[:,-1]\n",
      "C:\\Users\\camer\\AppData\\Local\\Temp\\ipykernel_17532\\3667416415.py:51: RuntimeWarning: invalid value encountered in divide\n",
      "  ratios_holdout = holdout_dists[:,0]/holdout_dists[:,-1]\n",
      "C:\\Users\\camer\\AppData\\Local\\Temp\\ipykernel_17532\\3667416415.py:51: RuntimeWarning: invalid value encountered in divide\n",
      "  ratios_holdout = holdout_dists[:,0]/holdout_dists[:,-1]\n",
      "C:\\Users\\camer\\AppData\\Local\\Temp\\ipykernel_17532\\3667416415.py:51: RuntimeWarning: invalid value encountered in divide\n",
      "  ratios_holdout = holdout_dists[:,0]/holdout_dists[:,-1]\n",
      "C:\\Users\\camer\\AppData\\Local\\Temp\\ipykernel_17532\\3667416415.py:51: RuntimeWarning: invalid value encountered in divide\n",
      "  ratios_holdout = holdout_dists[:,0]/holdout_dists[:,-1]\n",
      "C:\\Users\\camer\\AppData\\Local\\Temp\\ipykernel_17532\\3667416415.py:51: RuntimeWarning: invalid value encountered in divide\n",
      "  ratios_holdout = holdout_dists[:,0]/holdout_dists[:,-1]\n",
      "C:\\Users\\camer\\AppData\\Local\\Temp\\ipykernel_17532\\3667416415.py:51: RuntimeWarning: invalid value encountered in divide\n",
      "  ratios_holdout = holdout_dists[:,0]/holdout_dists[:,-1]\n",
      "C:\\Users\\camer\\AppData\\Local\\Temp\\ipykernel_17532\\3667416415.py:51: RuntimeWarning: invalid value encountered in divide\n",
      "  ratios_holdout = holdout_dists[:,0]/holdout_dists[:,-1]\n",
      "C:\\Users\\camer\\AppData\\Local\\Temp\\ipykernel_17532\\3667416415.py:51: RuntimeWarning: invalid value encountered in divide\n",
      "  ratios_holdout = holdout_dists[:,0]/holdout_dists[:,-1]\n",
      "C:\\Users\\camer\\AppData\\Local\\Temp\\ipykernel_17532\\3667416415.py:51: RuntimeWarning: invalid value encountered in divide\n",
      "  ratios_holdout = holdout_dists[:,0]/holdout_dists[:,-1]\n",
      "C:\\Users\\camer\\AppData\\Local\\Temp\\ipykernel_17532\\3667416415.py:51: RuntimeWarning: invalid value encountered in divide\n",
      "  ratios_holdout = holdout_dists[:,0]/holdout_dists[:,-1]\n",
      "C:\\Users\\camer\\AppData\\Local\\Temp\\ipykernel_17532\\3667416415.py:51: RuntimeWarning: invalid value encountered in divide\n",
      "  ratios_holdout = holdout_dists[:,0]/holdout_dists[:,-1]\n",
      "C:\\Users\\camer\\AppData\\Local\\Temp\\ipykernel_17532\\3667416415.py:51: RuntimeWarning: invalid value encountered in divide\n",
      "  ratios_holdout = holdout_dists[:,0]/holdout_dists[:,-1]\n",
      "C:\\Users\\camer\\AppData\\Local\\Temp\\ipykernel_17532\\3667416415.py:51: RuntimeWarning: invalid value encountered in divide\n",
      "  ratios_holdout = holdout_dists[:,0]/holdout_dists[:,-1]\n",
      "C:\\Users\\camer\\AppData\\Local\\Temp\\ipykernel_17532\\3667416415.py:51: RuntimeWarning: invalid value encountered in divide\n",
      "  ratios_holdout = holdout_dists[:,0]/holdout_dists[:,-1]\n",
      "C:\\Users\\camer\\AppData\\Local\\Temp\\ipykernel_17532\\3667416415.py:51: RuntimeWarning: invalid value encountered in divide\n",
      "  ratios_holdout = holdout_dists[:,0]/holdout_dists[:,-1]\n",
      "C:\\Users\\camer\\AppData\\Local\\Temp\\ipykernel_17532\\3667416415.py:51: RuntimeWarning: invalid value encountered in divide\n",
      "  ratios_holdout = holdout_dists[:,0]/holdout_dists[:,-1]\n",
      "C:\\Users\\camer\\AppData\\Local\\Temp\\ipykernel_17532\\3667416415.py:51: RuntimeWarning: invalid value encountered in divide\n",
      "  ratios_holdout = holdout_dists[:,0]/holdout_dists[:,-1]\n",
      "C:\\Users\\camer\\AppData\\Local\\Temp\\ipykernel_17532\\3667416415.py:51: RuntimeWarning: invalid value encountered in divide\n",
      "  ratios_holdout = holdout_dists[:,0]/holdout_dists[:,-1]\n",
      "C:\\Users\\camer\\AppData\\Local\\Temp\\ipykernel_17532\\3667416415.py:51: RuntimeWarning: invalid value encountered in divide\n",
      "  ratios_holdout = holdout_dists[:,0]/holdout_dists[:,-1]\n",
      "C:\\Users\\camer\\AppData\\Local\\Temp\\ipykernel_17532\\3667416415.py:51: RuntimeWarning: invalid value encountered in divide\n",
      "  ratios_holdout = holdout_dists[:,0]/holdout_dists[:,-1]\n",
      "C:\\Users\\camer\\AppData\\Local\\Temp\\ipykernel_17532\\3667416415.py:51: RuntimeWarning: invalid value encountered in divide\n",
      "  ratios_holdout = holdout_dists[:,0]/holdout_dists[:,-1]\n",
      "C:\\Users\\camer\\AppData\\Local\\Temp\\ipykernel_17532\\3667416415.py:51: RuntimeWarning: invalid value encountered in divide\n",
      "  ratios_holdout = holdout_dists[:,0]/holdout_dists[:,-1]\n",
      "C:\\Users\\camer\\AppData\\Local\\Temp\\ipykernel_17532\\3667416415.py:51: RuntimeWarning: invalid value encountered in divide\n",
      "  ratios_holdout = holdout_dists[:,0]/holdout_dists[:,-1]\n",
      "C:\\Users\\camer\\AppData\\Local\\Temp\\ipykernel_17532\\3667416415.py:51: RuntimeWarning: invalid value encountered in divide\n",
      "  ratios_holdout = holdout_dists[:,0]/holdout_dists[:,-1]\n",
      "C:\\Users\\camer\\AppData\\Local\\Temp\\ipykernel_17532\\3667416415.py:51: RuntimeWarning: invalid value encountered in divide\n",
      "  ratios_holdout = holdout_dists[:,0]/holdout_dists[:,-1]\n",
      "C:\\Users\\camer\\AppData\\Local\\Temp\\ipykernel_17532\\3667416415.py:51: RuntimeWarning: invalid value encountered in divide\n",
      "  ratios_holdout = holdout_dists[:,0]/holdout_dists[:,-1]\n",
      "C:\\Users\\camer\\AppData\\Local\\Temp\\ipykernel_17532\\3667416415.py:51: RuntimeWarning: invalid value encountered in divide\n",
      "  ratios_holdout = holdout_dists[:,0]/holdout_dists[:,-1]\n",
      "C:\\Users\\camer\\AppData\\Local\\Temp\\ipykernel_17532\\3667416415.py:51: RuntimeWarning: invalid value encountered in divide\n",
      "  ratios_holdout = holdout_dists[:,0]/holdout_dists[:,-1]\n",
      "C:\\Users\\camer\\AppData\\Local\\Temp\\ipykernel_17532\\3667416415.py:51: RuntimeWarning: invalid value encountered in divide\n",
      "  ratios_holdout = holdout_dists[:,0]/holdout_dists[:,-1]\n",
      "C:\\Users\\camer\\AppData\\Local\\Temp\\ipykernel_17532\\3667416415.py:51: RuntimeWarning: invalid value encountered in divide\n",
      "  ratios_holdout = holdout_dists[:,0]/holdout_dists[:,-1]\n",
      "C:\\Users\\camer\\AppData\\Local\\Temp\\ipykernel_17532\\3667416415.py:51: RuntimeWarning: invalid value encountered in divide\n",
      "  ratios_holdout = holdout_dists[:,0]/holdout_dists[:,-1]\n",
      "C:\\Users\\camer\\AppData\\Local\\Temp\\ipykernel_17532\\3667416415.py:51: RuntimeWarning: invalid value encountered in divide\n",
      "  ratios_holdout = holdout_dists[:,0]/holdout_dists[:,-1]\n",
      "C:\\Users\\camer\\AppData\\Local\\Temp\\ipykernel_17532\\3667416415.py:51: RuntimeWarning: invalid value encountered in divide\n",
      "  ratios_holdout = holdout_dists[:,0]/holdout_dists[:,-1]\n",
      "C:\\Users\\camer\\AppData\\Local\\Temp\\ipykernel_17532\\3667416415.py:51: RuntimeWarning: invalid value encountered in divide\n",
      "  ratios_holdout = holdout_dists[:,0]/holdout_dists[:,-1]\n",
      "C:\\Users\\camer\\AppData\\Local\\Temp\\ipykernel_17532\\3667416415.py:51: RuntimeWarning: invalid value encountered in divide\n",
      "  ratios_holdout = holdout_dists[:,0]/holdout_dists[:,-1]\n",
      "C:\\Users\\camer\\AppData\\Local\\Temp\\ipykernel_17532\\3667416415.py:51: RuntimeWarning: invalid value encountered in divide\n",
      "  ratios_holdout = holdout_dists[:,0]/holdout_dists[:,-1]\n",
      "C:\\Users\\camer\\AppData\\Local\\Temp\\ipykernel_17532\\3667416415.py:51: RuntimeWarning: invalid value encountered in divide\n",
      "  ratios_holdout = holdout_dists[:,0]/holdout_dists[:,-1]\n",
      "C:\\Users\\camer\\AppData\\Local\\Temp\\ipykernel_17532\\3667416415.py:51: RuntimeWarning: invalid value encountered in divide\n",
      "  ratios_holdout = holdout_dists[:,0]/holdout_dists[:,-1]\n",
      "C:\\Users\\camer\\AppData\\Local\\Temp\\ipykernel_17532\\3667416415.py:51: RuntimeWarning: invalid value encountered in divide\n",
      "  ratios_holdout = holdout_dists[:,0]/holdout_dists[:,-1]\n",
      "C:\\Users\\camer\\AppData\\Local\\Temp\\ipykernel_17532\\3667416415.py:51: RuntimeWarning: invalid value encountered in divide\n",
      "  ratios_holdout = holdout_dists[:,0]/holdout_dists[:,-1]\n",
      "C:\\Users\\camer\\AppData\\Local\\Temp\\ipykernel_17532\\3667416415.py:51: RuntimeWarning: invalid value encountered in divide\n",
      "  ratios_holdout = holdout_dists[:,0]/holdout_dists[:,-1]\n",
      "C:\\Users\\camer\\AppData\\Local\\Temp\\ipykernel_17532\\3667416415.py:51: RuntimeWarning: invalid value encountered in divide\n",
      "  ratios_holdout = holdout_dists[:,0]/holdout_dists[:,-1]\n",
      "C:\\Users\\camer\\AppData\\Local\\Temp\\ipykernel_17532\\3667416415.py:51: RuntimeWarning: invalid value encountered in divide\n",
      "  ratios_holdout = holdout_dists[:,0]/holdout_dists[:,-1]\n",
      "C:\\Users\\camer\\AppData\\Local\\Temp\\ipykernel_17532\\3667416415.py:51: RuntimeWarning: invalid value encountered in divide\n",
      "  ratios_holdout = holdout_dists[:,0]/holdout_dists[:,-1]\n"
     ]
    },
    {
     "name": "stderr",
     "output_type": "stream",
     "text": [
      "C:\\Users\\camer\\AppData\\Local\\Temp\\ipykernel_17532\\3667416415.py:51: RuntimeWarning: invalid value encountered in divide\n",
      "  ratios_holdout = holdout_dists[:,0]/holdout_dists[:,-1]\n",
      "C:\\Users\\camer\\AppData\\Local\\Temp\\ipykernel_17532\\3667416415.py:51: RuntimeWarning: invalid value encountered in divide\n",
      "  ratios_holdout = holdout_dists[:,0]/holdout_dists[:,-1]\n",
      "C:\\Users\\camer\\AppData\\Local\\Temp\\ipykernel_17532\\3667416415.py:51: RuntimeWarning: invalid value encountered in divide\n",
      "  ratios_holdout = holdout_dists[:,0]/holdout_dists[:,-1]\n",
      "C:\\Users\\camer\\AppData\\Local\\Temp\\ipykernel_17532\\3667416415.py:51: RuntimeWarning: invalid value encountered in divide\n",
      "  ratios_holdout = holdout_dists[:,0]/holdout_dists[:,-1]\n",
      "C:\\Users\\camer\\AppData\\Local\\Temp\\ipykernel_17532\\3667416415.py:51: RuntimeWarning: invalid value encountered in divide\n",
      "  ratios_holdout = holdout_dists[:,0]/holdout_dists[:,-1]\n",
      "C:\\Users\\camer\\AppData\\Local\\Temp\\ipykernel_17532\\3667416415.py:51: RuntimeWarning: invalid value encountered in divide\n",
      "  ratios_holdout = holdout_dists[:,0]/holdout_dists[:,-1]\n",
      "C:\\Users\\camer\\AppData\\Local\\Temp\\ipykernel_17532\\3667416415.py:51: RuntimeWarning: invalid value encountered in divide\n",
      "  ratios_holdout = holdout_dists[:,0]/holdout_dists[:,-1]\n",
      "C:\\Users\\camer\\AppData\\Local\\Temp\\ipykernel_17532\\3667416415.py:51: RuntimeWarning: invalid value encountered in divide\n",
      "  ratios_holdout = holdout_dists[:,0]/holdout_dists[:,-1]\n",
      "C:\\Users\\camer\\AppData\\Local\\Temp\\ipykernel_17532\\3667416415.py:51: RuntimeWarning: invalid value encountered in divide\n",
      "  ratios_holdout = holdout_dists[:,0]/holdout_dists[:,-1]\n",
      "C:\\Users\\camer\\AppData\\Local\\Temp\\ipykernel_17532\\3667416415.py:51: RuntimeWarning: invalid value encountered in divide\n",
      "  ratios_holdout = holdout_dists[:,0]/holdout_dists[:,-1]\n",
      "C:\\Users\\camer\\AppData\\Local\\Temp\\ipykernel_17532\\3667416415.py:51: RuntimeWarning: invalid value encountered in divide\n",
      "  ratios_holdout = holdout_dists[:,0]/holdout_dists[:,-1]\n",
      "C:\\Users\\camer\\AppData\\Local\\Temp\\ipykernel_17532\\3667416415.py:51: RuntimeWarning: invalid value encountered in divide\n",
      "  ratios_holdout = holdout_dists[:,0]/holdout_dists[:,-1]\n",
      "C:\\Users\\camer\\AppData\\Local\\Temp\\ipykernel_17532\\3667416415.py:51: RuntimeWarning: invalid value encountered in divide\n",
      "  ratios_holdout = holdout_dists[:,0]/holdout_dists[:,-1]\n",
      "C:\\Users\\camer\\AppData\\Local\\Temp\\ipykernel_17532\\3667416415.py:51: RuntimeWarning: invalid value encountered in divide\n",
      "  ratios_holdout = holdout_dists[:,0]/holdout_dists[:,-1]\n",
      "C:\\Users\\camer\\AppData\\Local\\Temp\\ipykernel_17532\\3667416415.py:51: RuntimeWarning: invalid value encountered in divide\n",
      "  ratios_holdout = holdout_dists[:,0]/holdout_dists[:,-1]\n",
      "C:\\Users\\camer\\AppData\\Local\\Temp\\ipykernel_17532\\3667416415.py:51: RuntimeWarning: invalid value encountered in divide\n",
      "  ratios_holdout = holdout_dists[:,0]/holdout_dists[:,-1]\n",
      "C:\\Users\\camer\\AppData\\Local\\Temp\\ipykernel_17532\\3667416415.py:51: RuntimeWarning: invalid value encountered in divide\n",
      "  ratios_holdout = holdout_dists[:,0]/holdout_dists[:,-1]\n",
      "C:\\Users\\camer\\AppData\\Local\\Temp\\ipykernel_17532\\3667416415.py:51: RuntimeWarning: invalid value encountered in divide\n",
      "  ratios_holdout = holdout_dists[:,0]/holdout_dists[:,-1]\n"
     ]
    },
    {
     "data": {
      "text/plain": [
       "[{'DCR Diff (Synthetic - Holdout)': 0.0007,\n",
       "  'NNDR Diff (Synthetic - Holdout)': 0.0149},\n",
       " {'DCR Diff (Synthetic - Holdout)': 0.0007,\n",
       "  'NNDR Diff (Synthetic - Holdout)': 0.0141},\n",
       " {'DCR Diff (Synthetic - Holdout)': 0.0005,\n",
       "  'NNDR Diff (Synthetic - Holdout)': 0.0071},\n",
       " {'DCR Diff (Synthetic - Holdout)': 0.0005,\n",
       "  'NNDR Diff (Synthetic - Holdout)': 0.0067},\n",
       " {'DCR Diff (Synthetic - Holdout)': 0.0,\n",
       "  'NNDR Diff (Synthetic - Holdout)': 0.0265},\n",
       " {'DCR Diff (Synthetic - Holdout)': 0.0005,\n",
       "  'NNDR Diff (Synthetic - Holdout)': 0.0059}]"
      ]
     },
     "execution_count": 66,
     "metadata": {},
     "output_type": "execute_result"
    }
   ],
   "source": [
    "temp = [sXs_logit_pmse, sXs_logit_inf_pmse, sXs_cart_mb_pmse, sXs_cart_mb_inf_pmse, sXs_mostly, sXs_overfit]\n",
    "\n",
    "[mean_privacy_diffs(train, holdout_datasets, x, delta) for x in temp]"
   ]
  },
  {
   "cell_type": "markdown",
   "id": "814aa4e3",
   "metadata": {},
   "source": [
    "***"
   ]
  },
  {
   "cell_type": "markdown",
   "id": "7efa7593",
   "metadata": {},
   "source": [
    "Examine how IMS diff changes with $\\delta$"
   ]
  },
  {
   "cell_type": "code",
   "execution_count": 47,
   "id": "b60efe64",
   "metadata": {},
   "outputs": [],
   "source": [
    "def ims_range(train_data, synthetic_data, delta):\n",
    "    \n",
    "    ###########################################\n",
    "    \n",
    "    scaler = StandardScaler()\n",
    "    \n",
    "    train_data_scaled = scaler.fit_transform(X=train_data) ####\n",
    "    \n",
    "    training_tree = KDTree(train_data_scaled)\n",
    "    \n",
    "    synthetic_data_scaled = scaler.fit(X=train_data).transform(X=synthetic_data) ####\n",
    "    \n",
    "    synthetic_dists, synthetic_neighbors = training_tree.query(x=synthetic_data_scaled, k=5, p=2) ####\n",
    "    \n",
    "    IMS_synthetic = np.mean(synthetic_dists[:,0] <= delta)\n",
    "    \n",
    "    return IMS_synthetic"
   ]
  },
  {
   "cell_type": "code",
   "execution_count": 48,
   "id": "0ed76b08",
   "metadata": {},
   "outputs": [],
   "source": [
    "def ims_apply(train_data, synthetic_data_sets, delta_vals):\n",
    "    ims = [[ims_range(train_data=train_data, synthetic_data=y, delta=x) for x in delta_vals] for y in synthetic_data_sets]\n",
    "    avg_ims = np.mean(np.vstack(ims), axis=0)\n",
    "    return avg_ims"
   ]
  },
  {
   "cell_type": "code",
   "execution_count": 49,
   "id": "14eb0fb1",
   "metadata": {},
   "outputs": [],
   "source": [
    "delta_vals = np.linspace(0.00001, 1.0, 20)"
   ]
  },
  {
   "cell_type": "code",
   "execution_count": 50,
   "id": "ffc1a529",
   "metadata": {},
   "outputs": [],
   "source": [
    "avg_holdout_ims = ims_apply(train, holdout_datasets, delta_vals)\n",
    "avg_cart_ims = ims_apply(train, sXs_cart_mb_pmse, delta_vals)\n",
    "avg_cart_inf_ims = ims_apply(train, sXs_cart_mb_inf_pmse, delta_vals)\n",
    "avg_mnl_ims = ims_apply(train, sXs_logit_pmse, delta_vals)\n",
    "avg_mnl_inf_ims = ims_apply(train, sXs_logit_inf_pmse, delta_vals)\n",
    "avg_mostly_ims = ims_apply(train, sXs_mostly, delta_vals)"
   ]
  },
  {
   "cell_type": "code",
   "execution_count": 67,
   "id": "f0c6dd9b",
   "metadata": {},
   "outputs": [],
   "source": [
    "avg_overfit_ims = ims_apply(train, sXs_overfit, delta_vals)"
   ]
  },
  {
   "cell_type": "code",
   "execution_count": 68,
   "id": "2105c975",
   "metadata": {},
   "outputs": [
    {
     "data": {
      "image/png": "[encoded data removed]",
      "text/plain": [
       "<Figure size 640x480 with 1 Axes>"
      ]
     },
     "metadata": {},
     "output_type": "display_data"
    }
   ],
   "source": [
    "plt.plot(delta_vals, avg_holdout_ims)\n",
    "plt.scatter(delta_vals, avg_holdout_ims, s=6, label=\"Holdout\")\n",
    "\n",
    "plt.plot(delta_vals, avg_mnl_ims)\n",
    "plt.scatter(delta_vals, avg_mnl_ims, s=6, label=\"MNL\")\n",
    "\n",
    "plt.plot(delta_vals, avg_mnl_inf_ims)\n",
    "plt.scatter(delta_vals, avg_mnl_inf_ims, s=6, label=\"MNL - Inference\")\n",
    "\n",
    "plt.plot(delta_vals, avg_cart_ims)\n",
    "plt.scatter(delta_vals, avg_cart_ims, s=6, label=\"CART\")\n",
    "\n",
    "plt.plot(delta_vals, avg_cart_inf_ims)\n",
    "plt.scatter(delta_vals, avg_cart_inf_ims, s=6, label=\"CART - Inference\")\n",
    "\n",
    "plt.plot(delta_vals, avg_mostly_ims)\n",
    "plt.scatter(delta_vals, avg_mostly_ims, s=6, label=\"MOSTLY.AI\")\n",
    "\n",
    "plt.plot(delta_vals, avg_overfit_ims)\n",
    "plt.scatter(delta_vals, avg_overfit_ims, s=6, label=\"Overfit\")\n",
    "\n",
    "plt.title(\"Average IMS Across Data Sets\")\n",
    "plt.xlabel(\"Delta\")\n",
    "plt.ylabel(\"IMS\")\n",
    "\n",
    "plt.legend()\n",
    "plt.show()"
   ]
  },
  {
   "cell_type": "markdown",
   "id": "8f65684d",
   "metadata": {},
   "source": [
    "***"
   ]
  },
  {
   "cell_type": "markdown",
   "id": "00cd2ca8",
   "metadata": {},
   "source": [
    "***"
   ]
  },
  {
   "cell_type": "markdown",
   "id": "89c3cca9",
   "metadata": {},
   "source": [
    "Assess attribute disclosure for disease status."
   ]
  },
  {
   "cell_type": "markdown",
   "id": "685194b5",
   "metadata": {},
   "source": [
    "Let's start with the adversary's prior. As of March 22, 2020, their were 8897 confirmed COVID-19 cases and 104 deaths. These statistics could be collected from the World Health Organization, and would represent a much more informative prior than a naive uniform prior. Furthermore, evaluating the naive prior would create problems when trying to prevent inference on individuals who did not pass away from COVID."
   ]
  },
  {
   "cell_type": "code",
   "execution_count": 52,
   "id": "e71d5fe0",
   "metadata": {},
   "outputs": [],
   "source": [
    "prior_death_prob = 104/8897"
   ]
  },
  {
   "cell_type": "code",
   "execution_count": 63,
   "id": "a222faea",
   "metadata": {},
   "outputs": [
    {
     "data": {
      "text/plain": [
       "0.11689333483196583"
      ]
     },
     "execution_count": 63,
     "metadata": {},
     "output_type": "execute_result"
    }
   ],
   "source": [
    "prior_death_prob * 10"
   ]
  },
  {
   "cell_type": "code",
   "execution_count": 53,
   "id": "e45292d8",
   "metadata": {},
   "outputs": [],
   "source": [
    "def inference_evaluation(original_data, synthetic_data, prior_prob, deltas):\n",
    "    \n",
    "    full_inf_conds = []\n",
    "    full_indices = []\n",
    "    \n",
    "    # tree for original locations\n",
    "    orig_tree = KDTree(original_data[[\"latitude\", \"longitude\"]])\n",
    "    \n",
    "    # tree for synthetic locations\n",
    "    sX_tree = KDTree(synthetic_data[[\"latitude\", \"longitude\"]])\n",
    "    \n",
    "    for d in deltas:\n",
    "        \n",
    "        # lists to store the inference condition for each original row and the indices of those rows that violate\n",
    "        inf_conds = []\n",
    "    \n",
    "        # find synthetic neighbors of each original point\n",
    "        location_neighbors = orig_tree.query_ball_tree(sX_tree, r=d, p=2.0)\n",
    "    \n",
    "        # for each original record\n",
    "        for i,row in original_data.iterrows():\n",
    "        \n",
    "            # matches on categorical attributes from location neighbors\n",
    "            categorical_matches = (synthetic_data.loc[location_neighbors[i],['sex', 'age']] == row[['sex', 'age']]).all(1)\n",
    "            \n",
    "            matching_rows = synthetic_data.loc[location_neighbors[i],:].loc[categorical_matches.values,:]\n",
    "            \n",
    "            if matching_rows.shape[0] > 0:\n",
    "                \n",
    "                if row['state'] == 1.0:\n",
    "                    prior = prior_prob\n",
    "                else:\n",
    "                    prior = 1 - prior_prob\n",
    "            \n",
    "                cond = np.mean(matching_rows['state'] == row['state'])/prior\n",
    "                \n",
    "            else:\n",
    "                \n",
    "                cond = 1\n",
    "        \n",
    "            # store number of matches and their indices\n",
    "            inf_conds.append(cond)\n",
    "        \n",
    "        inf_conds = pd.Series(inf_conds)\n",
    "        \n",
    "        full_inf_conds.append(inf_conds)\n",
    "        \n",
    "    print(\"Dataset completed.\")\n",
    "        \n",
    "    return full_inf_conds"
   ]
  },
  {
   "cell_type": "code",
   "execution_count": 17,
   "id": "cb961759",
   "metadata": {},
   "outputs": [
    {
     "name": "stdout",
     "output_type": "stream",
     "text": [
      "Dataset completed.\n",
      "Dataset completed.\n",
      "Dataset completed.\n",
      "Dataset completed.\n",
      "Dataset completed.\n",
      "Dataset completed.\n",
      "Dataset completed.\n",
      "Dataset completed.\n",
      "Dataset completed.\n",
      "Dataset completed.\n",
      "Dataset completed.\n",
      "Dataset completed.\n",
      "Dataset completed.\n",
      "Dataset completed.\n",
      "Dataset completed.\n",
      "Dataset completed.\n",
      "Dataset completed.\n",
      "Dataset completed.\n",
      "Dataset completed.\n",
      "Dataset completed.\n"
     ]
    }
   ],
   "source": [
    "holdout_inf = [inference_evaluation(train, Y, prior_death_prob, delta_vals) for Y in holdout_datasets]\n",
    "holdout_inf = [pd.concat(x, axis=1) for x in holdout_inf]"
   ]
  },
  {
   "cell_type": "code",
   "execution_count": 70,
   "id": "6edbf28a",
   "metadata": {},
   "outputs": [],
   "source": [
    "for i in range(20):\n",
    "    holdout_inf[i].to_csv(\"Data/privacy_results/holdout_inf_\" + str(i) + \".csv\")"
   ]
  },
  {
   "cell_type": "code",
   "execution_count": 18,
   "id": "db28f23e",
   "metadata": {},
   "outputs": [
    {
     "name": "stdout",
     "output_type": "stream",
     "text": [
      "Dataset completed.\n",
      "Dataset completed.\n",
      "Dataset completed.\n",
      "Dataset completed.\n",
      "Dataset completed.\n",
      "Dataset completed.\n",
      "Dataset completed.\n",
      "Dataset completed.\n",
      "Dataset completed.\n",
      "Dataset completed.\n",
      "Dataset completed.\n",
      "Dataset completed.\n",
      "Dataset completed.\n",
      "Dataset completed.\n",
      "Dataset completed.\n",
      "Dataset completed.\n",
      "Dataset completed.\n",
      "Dataset completed.\n",
      "Dataset completed.\n",
      "Dataset completed.\n"
     ]
    }
   ],
   "source": [
    "mnl_inf = [inference_evaluation(train, Y, prior_death_prob, delta_vals) for Y in sXs_logit_pmse]\n",
    "mnl_inf = [pd.concat(x, axis=1) for x in mnl_inf]"
   ]
  },
  {
   "cell_type": "code",
   "execution_count": 71,
   "id": "dec507fb",
   "metadata": {},
   "outputs": [],
   "source": [
    "for i in range(20):\n",
    "    mnl_inf[i].to_csv(\"Data/privacy_results/mnl_inf_\" + str(i) + \".csv\")"
   ]
  },
  {
   "cell_type": "code",
   "execution_count": 54,
   "id": "d6f5c27e",
   "metadata": {},
   "outputs": [
    {
     "name": "stdout",
     "output_type": "stream",
     "text": [
      "Dataset completed.\n",
      "Dataset completed.\n",
      "Dataset completed.\n",
      "Dataset completed.\n",
      "Dataset completed.\n",
      "Dataset completed.\n",
      "Dataset completed.\n",
      "Dataset completed.\n",
      "Dataset completed.\n",
      "Dataset completed.\n",
      "Dataset completed.\n",
      "Dataset completed.\n",
      "Dataset completed.\n",
      "Dataset completed.\n",
      "Dataset completed.\n",
      "Dataset completed.\n",
      "Dataset completed.\n",
      "Dataset completed.\n",
      "Dataset completed.\n",
      "Dataset completed.\n"
     ]
    }
   ],
   "source": [
    "mnl_inf_prev = [inference_evaluation(train, Y, prior_death_prob, delta_vals) for Y in sXs_logit_inf_pmse]\n",
    "mnl_inf_prev = [pd.concat(x, axis=1) for x in mnl_inf_prev]"
   ]
  },
  {
   "cell_type": "code",
   "execution_count": 72,
   "id": "a01af0e3",
   "metadata": {},
   "outputs": [],
   "source": [
    "for i in range(20):\n",
    "    mnl_inf_prev[i].to_csv(\"Data/privacy_results/mnl_inf_prev_\" + str(i) + \".csv\")"
   ]
  },
  {
   "cell_type": "code",
   "execution_count": 19,
   "id": "68d7bb83",
   "metadata": {},
   "outputs": [
    {
     "name": "stdout",
     "output_type": "stream",
     "text": [
      "Dataset completed.\n",
      "Dataset completed.\n",
      "Dataset completed.\n",
      "Dataset completed.\n",
      "Dataset completed.\n",
      "Dataset completed.\n",
      "Dataset completed.\n",
      "Dataset completed.\n",
      "Dataset completed.\n",
      "Dataset completed.\n",
      "Dataset completed.\n",
      "Dataset completed.\n",
      "Dataset completed.\n",
      "Dataset completed.\n",
      "Dataset completed.\n",
      "Dataset completed.\n",
      "Dataset completed.\n",
      "Dataset completed.\n",
      "Dataset completed.\n",
      "Dataset completed.\n"
     ]
    }
   ],
   "source": [
    "cart_inf = [inference_evaluation(train, Y, prior_death_prob, delta_vals) for Y in sXs_cart_mb_pmse]\n",
    "cart_inf = [pd.concat(x, axis=1) for x in cart_inf]"
   ]
  },
  {
   "cell_type": "code",
   "execution_count": 73,
   "id": "1036fff9",
   "metadata": {},
   "outputs": [],
   "source": [
    "for i in range(20):\n",
    "    cart_inf[i].to_csv(\"Data/privacy_results/cart_inf_\" + str(i) + \".csv\")"
   ]
  },
  {
   "cell_type": "code",
   "execution_count": 55,
   "id": "619b8226",
   "metadata": {},
   "outputs": [
    {
     "name": "stdout",
     "output_type": "stream",
     "text": [
      "Dataset completed.\n",
      "Dataset completed.\n",
      "Dataset completed.\n",
      "Dataset completed.\n",
      "Dataset completed.\n",
      "Dataset completed.\n",
      "Dataset completed.\n",
      "Dataset completed.\n",
      "Dataset completed.\n",
      "Dataset completed.\n",
      "Dataset completed.\n",
      "Dataset completed.\n",
      "Dataset completed.\n",
      "Dataset completed.\n",
      "Dataset completed.\n",
      "Dataset completed.\n",
      "Dataset completed.\n",
      "Dataset completed.\n",
      "Dataset completed.\n",
      "Dataset completed.\n"
     ]
    }
   ],
   "source": [
    "cart_inf_prev = [inference_evaluation(train, Y, prior_death_prob, delta_vals) for Y in sXs_cart_mb_inf_pmse]\n",
    "cart_inf_prev = [pd.concat(x, axis=1) for x in cart_inf_prev]"
   ]
  },
  {
   "cell_type": "code",
   "execution_count": 74,
   "id": "5728734f",
   "metadata": {},
   "outputs": [],
   "source": [
    "for i in range(20):\n",
    "    cart_inf_prev[i].to_csv(\"Data/privacy_results/cart_inf_prev_\" + str(i) + \".csv\")"
   ]
  },
  {
   "cell_type": "code",
   "execution_count": 20,
   "id": "d4181cc2",
   "metadata": {},
   "outputs": [
    {
     "name": "stdout",
     "output_type": "stream",
     "text": [
      "Dataset completed.\n",
      "Dataset completed.\n",
      "Dataset completed.\n",
      "Dataset completed.\n",
      "Dataset completed.\n",
      "Dataset completed.\n",
      "Dataset completed.\n",
      "Dataset completed.\n",
      "Dataset completed.\n",
      "Dataset completed.\n",
      "Dataset completed.\n",
      "Dataset completed.\n",
      "Dataset completed.\n",
      "Dataset completed.\n",
      "Dataset completed.\n",
      "Dataset completed.\n",
      "Dataset completed.\n",
      "Dataset completed.\n",
      "Dataset completed.\n",
      "Dataset completed.\n"
     ]
    }
   ],
   "source": [
    "mostly_inf = [inference_evaluation(train, Y, prior_death_prob, delta_vals) for Y in sXs_mostly]\n",
    "mostly_inf = [pd.concat(x, axis=1) for x in mostly_inf]"
   ]
  },
  {
   "cell_type": "code",
   "execution_count": 75,
   "id": "b7b13065",
   "metadata": {},
   "outputs": [],
   "source": [
    "for i in range(20):\n",
    "    mostly_inf[i].to_csv(\"Data/privacy_results/mostly_inf_prev_\" + str(i) + \".csv\")"
   ]
  },
  {
   "cell_type": "markdown",
   "id": "b1319da4",
   "metadata": {},
   "source": [
    "Need to calculate the maximum increase in inference in each data set."
   ]
  },
  {
   "cell_type": "code",
   "execution_count": 56,
   "id": "426ad297",
   "metadata": {},
   "outputs": [],
   "source": [
    "max_holdout_inf = [np.max(x, axis=0) for x in holdout_inf]\n",
    "max_mnl_inf = [np.max(x, axis=0) for x in mnl_inf]\n",
    "max_mnl_inf_prev = [np.max(x, axis=0) for x in mnl_inf_prev]\n",
    "max_cart_inf = [np.max(x, axis=0) for x in cart_inf]\n",
    "max_cart_inf_prev = [np.max(x, axis=0) for x in cart_inf_prev]\n",
    "max_mostly_inf = [np.max(x, axis=0) for x in mostly_inf]"
   ]
  },
  {
   "cell_type": "markdown",
   "id": "a693ab5c",
   "metadata": {},
   "source": [
    "Could look at the distribution of the maximum increase for each data set."
   ]
  },
  {
   "cell_type": "code",
   "execution_count": 57,
   "id": "c6c8b52a",
   "metadata": {},
   "outputs": [],
   "source": [
    "avg_max_holdout = np.mean(pd.concat(max_holdout_inf, axis=1), axis=1)\n",
    "avg_max_mnl = np.mean(pd.concat(max_mnl_inf, axis=1), axis=1)\n",
    "avg_max_mnl_prev = np.mean(pd.concat(max_mnl_inf_prev, axis=1), axis=1)\n",
    "avg_max_cart = np.mean(pd.concat(max_cart_inf, axis=1), axis=1)\n",
    "avg_max_cart_prev = np.mean(pd.concat(max_cart_inf_prev, axis=1), axis=1)\n",
    "avg_max_mostly = np.mean(pd.concat(max_mostly_inf, axis=1), axis=1)"
   ]
  },
  {
   "cell_type": "code",
   "execution_count": 58,
   "id": "a43fa485",
   "metadata": {},
   "outputs": [
    {
     "data": {
      "image/png": "[encoded data removed]",
      "text/plain": [
       "<Figure size 640x480 with 1 Axes>"
      ]
     },
     "metadata": {},
     "output_type": "display_data"
    }
   ],
   "source": [
    "plt.plot(delta_vals, avg_max_holdout)\n",
    "plt.scatter(delta_vals, avg_max_holdout, s=6, label=\"Holdout\")\n",
    "\n",
    "plt.plot(delta_vals, avg_max_mnl)\n",
    "plt.scatter(delta_vals, avg_max_mnl, s=6, label=\"MNL\")\n",
    "\n",
    "plt.plot(delta_vals, avg_max_mnl_prev)\n",
    "plt.scatter(delta_vals, avg_max_mnl_prev, s=6, label=\"MNL - Inference\")\n",
    "\n",
    "plt.plot(delta_vals, avg_max_cart)\n",
    "plt.scatter(delta_vals, avg_max_cart, s=6, label=\"CART\")\n",
    "\n",
    "plt.plot(delta_vals, avg_max_cart_prev)\n",
    "plt.scatter(delta_vals, avg_max_cart_prev, s=6, label=\"CART - Inference\")\n",
    "\n",
    "plt.plot(delta_vals, avg_max_mostly)\n",
    "plt.scatter(delta_vals, avg_max_mostly, s=6, label=\"MOSTLY.AI\")\n",
    "\n",
    "plt.title(\"Average Maximum Increase in Inference\")\n",
    "plt.xlabel(\"Delta\")\n",
    "plt.ylabel(\"Average Maximum Increase in Inference\")\n",
    "\n",
    "plt.legend()\n",
    "plt.show()"
   ]
  },
  {
   "cell_type": "code",
   "execution_count": 59,
   "id": "5cadd529",
   "metadata": {},
   "outputs": [
    {
     "data": {
      "text/plain": [
       "0     1.000000\n",
       "1     7.411657\n",
       "2     8.902792\n",
       "3     9.215679\n",
       "4     9.185272\n",
       "5     9.396527\n",
       "6     9.270695\n",
       "7     9.270695\n",
       "8     9.215797\n",
       "9     9.238637\n",
       "10    9.337470\n",
       "11    9.328124\n",
       "12    9.216697\n",
       "13    9.338935\n",
       "14    9.443553\n",
       "15    9.612101\n",
       "16    9.670384\n",
       "17    9.624649\n",
       "18    9.461714\n",
       "19    9.224632\n",
       "dtype: float64"
      ]
     },
     "execution_count": 59,
     "metadata": {},
     "output_type": "execute_result"
    }
   ],
   "source": [
    "avg_max_mnl_prev"
   ]
  },
  {
   "cell_type": "code",
   "execution_count": 60,
   "id": "2a437e7e",
   "metadata": {},
   "outputs": [
    {
     "data": {
      "text/plain": [
       "0     1.001183\n",
       "1     9.185329\n",
       "2     9.353531\n",
       "3     9.353531\n",
       "4     9.281121\n",
       "5     9.155824\n",
       "6     9.077592\n",
       "7     9.077592\n",
       "8     8.958278\n",
       "9     9.066796\n",
       "10    9.066796\n",
       "11    9.035963\n",
       "12    9.398737\n",
       "13    9.371931\n",
       "14    9.579861\n",
       "15    9.587298\n",
       "16    9.555975\n",
       "17    9.519631\n",
       "18    9.418700\n",
       "19    9.272542\n",
       "dtype: float64"
      ]
     },
     "execution_count": 60,
     "metadata": {},
     "output_type": "execute_result"
    }
   ],
   "source": [
    "avg_max_cart_prev"
   ]
  },
  {
   "cell_type": "code",
   "execution_count": null,
   "id": "9eb91cae",
   "metadata": {},
   "outputs": [],
   "source": []
  },
  {
   "cell_type": "code",
   "execution_count": 64,
   "id": "480a5b5b",
   "metadata": {},
   "outputs": [
    {
     "data": {
      "text/plain": [
       "array([2, 5, 4])"
      ]
     },
     "execution_count": 64,
     "metadata": {},
     "output_type": "execute_result"
    }
   ],
   "source": [
    "np.random.choice([1,2,3,4,5], 3)"
   ]
  },
  {
   "cell_type": "code",
   "execution_count": null,
   "id": "5fd34a41",
   "metadata": {},
   "outputs": [],
   "source": []
  }
 ],
 "metadata": {
  "kernelspec": {
   "display_name": "Python 3 (ipykernel)",
   "language": "python",
   "name": "python3"
  },
  "language_info": {
   "codemirror_mode": {
    "name": "ipython",
    "version": 3
   },
   "file_extension": ".py",
   "mimetype": "text/x-python",
   "name": "python",
   "nbconvert_exporter": "python",
   "pygments_lexer": "ipython3",
   "version": "3.10.9"
  }
 },
 "nbformat": 4,
 "nbformat_minor": 5
}
