{
 "cells": [
  {
   "cell_type": "markdown",
   "id": "96f48262",
   "metadata": {},
   "source": [
    "# Train-Holdout Sequential Synthesis Testing"
   ]
  },
  {
   "cell_type": "markdown",
   "id": "e6eb8a0b",
   "metadata": {},
   "source": [
    "This notebook performs the synthesis using our proposed synthesization approach for the training data only (excludes the holdout data)."
   ]
  },
  {
   "cell_type": "code",
   "execution_count": 1,
   "id": "2d3f5c21",
   "metadata": {},
   "outputs": [],
   "source": [
    "import pandas as pd\n",
    "import numpy as np\n",
    "from numpy.random import default_rng\n",
    "from sklearn.mixture import GaussianMixture\n",
    "from scipy.spatial import cKDTree\n",
    "import matplotlib.pyplot as plt\n",
    "import seaborn as sns\n",
    "\n",
    "from sklearn import preprocessing\n",
    "\n",
    "from sklearn.tree import DecisionTreeClassifier\n",
    "\n",
    "import itertools\n",
    "\n",
    "from bayes_opt import BayesianOptimization\n",
    "from bayes_opt import UtilityFunction\n",
    "\n",
    "from sklearn.linear_model import LogisticRegression\n",
    "from sklearn.preprocessing import PolynomialFeatures\n",
    "\n",
    "from bayesian_bootstrap import bayesian_bootstrap\n",
    "\n",
    "rng = np.random.RandomState(42)"
   ]
  },
  {
   "cell_type": "code",
   "execution_count": 2,
   "id": "f827250b",
   "metadata": {},
   "outputs": [],
   "source": [
    "def cart_pmse_ratio(original_data, synthetic_data_sets):\n",
    "    \n",
    "    ### get pmse measures for synthetic data set pairs\n",
    "    \n",
    "    null_pmse_list = []\n",
    "    \n",
    "    inds = np.arange(len(synthetic_data_sets))\n",
    "    \n",
    "    combo_list = list(itertools.combinations(inds, 2))\n",
    "    \n",
    "    for combo in combo_list:\n",
    "    \n",
    "        s1 = synthetic_data_sets[combo[0]]\n",
    "        s2 = synthetic_data_sets[combo[1]]\n",
    "    \n",
    "        N_orig = s1.shape[0]\n",
    "        N_synth = s2.shape[0]\n",
    "    \n",
    "        c = N_synth/(N_synth+N_orig)\n",
    "    \n",
    "        full_X = pd.concat([s1, s2], axis=0).reset_index(drop=True)\n",
    "    \n",
    "        full_X = preprocessing.StandardScaler().fit_transform(full_X)\n",
    "\n",
    "        y = np.repeat([0, 1], repeats=[N_orig, N_synth])\n",
    "    \n",
    "        cart = DecisionTreeClassifier(min_samples_split=20,\n",
    "                                      min_samples_leaf=int(np.round(20/3)),\n",
    "                                      ccp_alpha=0.0001,\n",
    "                                      max_depth=30)\n",
    "    \n",
    "        cart.fit(X=full_X, y=y)\n",
    "    \n",
    "        probs = cart.predict_proba(full_X)\n",
    "    \n",
    "        pMSE = 1/(N_synth + N_orig) * np.sum((probs[:,1] - c)**2)\n",
    "        \n",
    "        null_pmse_list.append(pMSE)\n",
    "    \n",
    "    pmse_list = []\n",
    "    \n",
    "    for s in synthetic_data_sets:\n",
    "    \n",
    "        N_orig = original_data.shape[0]\n",
    "        N_synth = s.shape[0]\n",
    "    \n",
    "        c = N_synth/(N_synth+N_orig)\n",
    "    \n",
    "        full_X = pd.concat([original_data, s], axis=0).reset_index(drop=True)\n",
    "    \n",
    "        full_X = preprocessing.StandardScaler().fit_transform(full_X)\n",
    "\n",
    "        y = np.repeat([0, 1], repeats=[N_orig, N_synth])\n",
    "    \n",
    "        cart = DecisionTreeClassifier(min_samples_split=20,\n",
    "                                      min_samples_leaf=int(np.round(20/3)),\n",
    "                                      ccp_alpha=0.0001,\n",
    "                                      max_depth=30)\n",
    "    \n",
    "        cart.fit(X=full_X, y=y)\n",
    "    \n",
    "        probs = cart.predict_proba(full_X)\n",
    "    \n",
    "        pMSE = 1/(N_synth + N_orig) * np.sum((probs[:,1] - c)**2)\n",
    "        \n",
    "        pmse_list.append(pMSE)\n",
    "    \n",
    "    return np.array(pmse_list)/(np.mean(null_pmse_list))"
   ]
  },
  {
   "cell_type": "markdown",
   "id": "76a8ccbc",
   "metadata": {},
   "source": [
    "Import the data."
   ]
  },
  {
   "cell_type": "code",
   "execution_count": 3,
   "id": "730c2f2e",
   "metadata": {},
   "outputs": [],
   "source": [
    "# import standardized lat/long location data\n",
    "X = pd.read_csv(\"Data/cleaned_data.csv\")"
   ]
  },
  {
   "cell_type": "markdown",
   "id": "05560c9f",
   "metadata": {},
   "source": [
    "Number of locations from deceased individuals."
   ]
  },
  {
   "cell_type": "code",
   "execution_count": 4,
   "id": "4179bd8c",
   "metadata": {},
   "outputs": [
    {
     "data": {
      "text/plain": [
       "55"
      ]
     },
     "execution_count": 4,
     "metadata": {},
     "output_type": "execute_result"
    }
   ],
   "source": [
    "np.sum(X.state)"
   ]
  },
  {
   "cell_type": "markdown",
   "id": "10b49ff7",
   "metadata": {},
   "source": [
    "Split dataset into continuous and categorical variables."
   ]
  },
  {
   "cell_type": "code",
   "execution_count": 5,
   "id": "ca8aa871",
   "metadata": {},
   "outputs": [
    {
     "data": {
      "text/html": [
       "<div>\n",
       "<style scoped>\n",
       "    .dataframe tbody tr th:only-of-type {\n",
       "        vertical-align: middle;\n",
       "    }\n",
       "\n",
       "    .dataframe tbody tr th {\n",
       "        vertical-align: top;\n",
       "    }\n",
       "\n",
       "    .dataframe thead th {\n",
       "        text-align: right;\n",
       "    }\n",
       "</style>\n",
       "<table border=\"1\" class=\"dataframe\">\n",
       "  <thead>\n",
       "    <tr style=\"text-align: right;\">\n",
       "      <th></th>\n",
       "      <th>latitude</th>\n",
       "      <th>longitude</th>\n",
       "      <th>sex</th>\n",
       "      <th>age</th>\n",
       "      <th>state</th>\n",
       "    </tr>\n",
       "  </thead>\n",
       "  <tbody>\n",
       "    <tr>\n",
       "      <th>0</th>\n",
       "      <td>0.944157</td>\n",
       "      <td>-1.010655</td>\n",
       "      <td>male</td>\n",
       "      <td>50s</td>\n",
       "      <td>0</td>\n",
       "    </tr>\n",
       "    <tr>\n",
       "      <th>1</th>\n",
       "      <td>0.889746</td>\n",
       "      <td>-0.694899</td>\n",
       "      <td>male</td>\n",
       "      <td>50s</td>\n",
       "      <td>0</td>\n",
       "    </tr>\n",
       "    <tr>\n",
       "      <th>2</th>\n",
       "      <td>0.917482</td>\n",
       "      <td>-0.682299</td>\n",
       "      <td>male</td>\n",
       "      <td>30s</td>\n",
       "      <td>0</td>\n",
       "    </tr>\n",
       "    <tr>\n",
       "      <th>3</th>\n",
       "      <td>0.916660</td>\n",
       "      <td>-0.682551</td>\n",
       "      <td>male</td>\n",
       "      <td>30s</td>\n",
       "      <td>0</td>\n",
       "    </tr>\n",
       "    <tr>\n",
       "      <th>4</th>\n",
       "      <td>0.886074</td>\n",
       "      <td>-0.668883</td>\n",
       "      <td>male</td>\n",
       "      <td>30s</td>\n",
       "      <td>0</td>\n",
       "    </tr>\n",
       "    <tr>\n",
       "      <th>...</th>\n",
       "      <td>...</td>\n",
       "      <td>...</td>\n",
       "      <td>...</td>\n",
       "      <td>...</td>\n",
       "      <td>...</td>\n",
       "    </tr>\n",
       "    <tr>\n",
       "      <th>6707</th>\n",
       "      <td>0.881500</td>\n",
       "      <td>-0.925307</td>\n",
       "      <td>male</td>\n",
       "      <td>40s</td>\n",
       "      <td>0</td>\n",
       "    </tr>\n",
       "    <tr>\n",
       "      <th>6708</th>\n",
       "      <td>-1.728784</td>\n",
       "      <td>1.470871</td>\n",
       "      <td>male</td>\n",
       "      <td>40s</td>\n",
       "      <td>0</td>\n",
       "    </tr>\n",
       "    <tr>\n",
       "      <th>6709</th>\n",
       "      <td>-1.548071</td>\n",
       "      <td>1.557316</td>\n",
       "      <td>male</td>\n",
       "      <td>40s</td>\n",
       "      <td>0</td>\n",
       "    </tr>\n",
       "    <tr>\n",
       "      <th>6710</th>\n",
       "      <td>-1.549392</td>\n",
       "      <td>1.555785</td>\n",
       "      <td>male</td>\n",
       "      <td>40s</td>\n",
       "      <td>0</td>\n",
       "    </tr>\n",
       "    <tr>\n",
       "      <th>6711</th>\n",
       "      <td>-1.548071</td>\n",
       "      <td>1.557316</td>\n",
       "      <td>male</td>\n",
       "      <td>40s</td>\n",
       "      <td>0</td>\n",
       "    </tr>\n",
       "  </tbody>\n",
       "</table>\n",
       "<p>6712 rows × 5 columns</p>\n",
       "</div>"
      ],
      "text/plain": [
       "      latitude  longitude   sex  age  state\n",
       "0     0.944157  -1.010655  male  50s      0\n",
       "1     0.889746  -0.694899  male  50s      0\n",
       "2     0.917482  -0.682299  male  30s      0\n",
       "3     0.916660  -0.682551  male  30s      0\n",
       "4     0.886074  -0.668883  male  30s      0\n",
       "...        ...        ...   ...  ...    ...\n",
       "6707  0.881500  -0.925307  male  40s      0\n",
       "6708 -1.728784   1.470871  male  40s      0\n",
       "6709 -1.548071   1.557316  male  40s      0\n",
       "6710 -1.549392   1.555785  male  40s      0\n",
       "6711 -1.548071   1.557316  male  40s      0\n",
       "\n",
       "[6712 rows x 5 columns]"
      ]
     },
     "execution_count": 5,
     "metadata": {},
     "output_type": "execute_result"
    }
   ],
   "source": [
    "X"
   ]
  },
  {
   "cell_type": "code",
   "execution_count": 6,
   "id": "fae34b71",
   "metadata": {},
   "outputs": [],
   "source": [
    "cat_columns = X.select_dtypes(['object']).columns"
   ]
  },
  {
   "cell_type": "code",
   "execution_count": 7,
   "id": "2665afce",
   "metadata": {},
   "outputs": [],
   "source": [
    "X[cat_columns] = X[cat_columns].apply(lambda x: x.astype('category'))"
   ]
  },
  {
   "cell_type": "code",
   "execution_count": 8,
   "id": "d27a984a",
   "metadata": {},
   "outputs": [],
   "source": [
    "categories = X[cat_columns].apply(lambda x: x.cat.categories)"
   ]
  },
  {
   "cell_type": "code",
   "execution_count": 9,
   "id": "a4ac0283",
   "metadata": {},
   "outputs": [],
   "source": [
    "X[cat_columns] = X[cat_columns].apply(lambda x: x.cat.codes)"
   ]
  },
  {
   "cell_type": "code",
   "execution_count": 10,
   "id": "eff95bf3",
   "metadata": {},
   "outputs": [
    {
     "data": {
      "text/plain": [
       "sex            Index(['female', 'male'], dtype='object')\n",
       "age    Index(['0s', '10s', '20s', '30s', '40s', '50s'...\n",
       "dtype: object"
      ]
     },
     "execution_count": 10,
     "metadata": {},
     "output_type": "execute_result"
    }
   ],
   "source": [
    "categories"
   ]
  },
  {
   "cell_type": "code",
   "execution_count": 11,
   "id": "56d124d1",
   "metadata": {},
   "outputs": [
    {
     "data": {
      "text/plain": [
       "0.4620083432657926"
      ]
     },
     "execution_count": 11,
     "metadata": {},
     "output_type": "execute_result"
    }
   ],
   "source": [
    "np.mean(X.sex)"
   ]
  },
  {
   "cell_type": "code",
   "execution_count": 12,
   "id": "f3054ffb",
   "metadata": {},
   "outputs": [
    {
     "data": {
      "image/png": "[encoded data removed]",
      "text/plain": [
       "<Figure size 640x480 with 1 Axes>"
      ]
     },
     "metadata": {},
     "output_type": "display_data"
    }
   ],
   "source": [
    "ax = X.age.plot.hist(grid=True, bins=10)\n",
    "ax.set_ylabel('Frequency', fontsize=12)\n",
    "ax.set_xlabel('Age Bins', fontsize=12)\n",
    "ax.set_xticks([0,1,2,3,4,5,6,7,8,9])\n",
    "ax.set_xticklabels(labels=categories['age'])\n",
    "plt.title(\"Frequency Distribution of Age Categories\")\n",
    "plt.show()"
   ]
  },
  {
   "cell_type": "markdown",
   "id": "6f62abff",
   "metadata": {},
   "source": [
    "***"
   ]
  },
  {
   "cell_type": "markdown",
   "id": "10a841b2",
   "metadata": {},
   "source": [
    "Create and save the training and holdout datasets."
   ]
  },
  {
   "cell_type": "code",
   "execution_count": 13,
   "id": "4efb4097",
   "metadata": {},
   "outputs": [],
   "source": [
    "shuffle_X = X.sample(frac=1.0, random_state=42).reset_index(drop=True)\n",
    "\n",
    "half = int(np.ceil(shuffle_X.shape[0]/2))\n",
    "\n",
    "train_data = shuffle_X.iloc[:half,:]\n",
    "holdout_data = shuffle_X.iloc[half:,:]"
   ]
  },
  {
   "cell_type": "code",
   "execution_count": 14,
   "id": "9d357e85",
   "metadata": {},
   "outputs": [],
   "source": [
    "train_data.to_csv(\"Data/synthetic_datasets/train_dataset.csv\", index=False)\n",
    "holdout_data.to_csv(\"Data/synthetic_datasets/holdout_dataset.csv\", index=False)"
   ]
  },
  {
   "cell_type": "markdown",
   "id": "6584fe74",
   "metadata": {},
   "source": [
    "***"
   ]
  },
  {
   "cell_type": "markdown",
   "id": "e53ef6c3",
   "metadata": {},
   "source": [
    "Testing logistic and multinomial logistic regression synthesizers."
   ]
  },
  {
   "cell_type": "code",
   "execution_count": 15,
   "id": "4ec5cee4",
   "metadata": {},
   "outputs": [],
   "source": [
    "def polynomial_and_standardize(dataset, poly_degree=3, interaction_only=False):\n",
    "    \n",
    "    poly = PolynomialFeatures(degree=poly_degree, interaction_only=interaction_only, include_bias=False)\n",
    "    \n",
    "    X = poly.fit_transform(dataset)\n",
    "    \n",
    "    scaled_X = preprocessing.StandardScaler().fit_transform(X)\n",
    "    \n",
    "    return scaled_X"
   ]
  },
  {
   "cell_type": "code",
   "execution_count": 16,
   "id": "2d47e962",
   "metadata": {},
   "outputs": [],
   "source": [
    "def multinomial_synthesizer(orig_data, synth_data_sets, target, penalty_param, poly_degree=3, interaction_only=False):\n",
    "    \n",
    "    mn_model = LogisticRegression(penalty='l1', C=penalty_param, solver='saga', max_iter=1000, multi_class='multinomial', random_state=rng)\n",
    "    \n",
    "    X = polynomial_and_standardize(dataset=orig_data, poly_degree=poly_degree, interaction_only=interaction_only)\n",
    "    \n",
    "    sXs = [polynomial_and_standardize(dataset=Y, poly_degree=poly_degree, interaction_only=interaction_only) for Y in synth_data_sets]\n",
    "    \n",
    "    vals = []\n",
    "    \n",
    "    mn_model.fit(X, target)\n",
    "    \n",
    "    rng_mn = default_rng()\n",
    "    \n",
    "    for Y in sXs:\n",
    "        \n",
    "        probs = mn_model.predict_proba(Y)\n",
    "    \n",
    "        v = [np.argmax(rng_mn.multinomial(n=1, pvals=p, size=1)==1) for p in probs]\n",
    "    \n",
    "        vals.append(pd.Series(v, name=target.name))\n",
    "    \n",
    "    return vals"
   ]
  },
  {
   "cell_type": "code",
   "execution_count": 17,
   "id": "6927923b",
   "metadata": {},
   "outputs": [],
   "source": [
    "def train_models_mn(#overall parameters\n",
    "                    train_data,\n",
    "                    number_synthetic_datasets,\n",
    "                    # hyperparameters for GMM, end with underscore means Bayesian optimization will choose\n",
    "                    number_gmm_initializations,\n",
    "                    num_components_,\n",
    "                    # hyperparameters for CART, end with underscore means Bayesian optimization will choose\n",
    "                    C_sex_,\n",
    "                    C_age_,\n",
    "                    C_state_):\n",
    "    \n",
    "    num_samples = train_data.shape[0]\n",
    "    \n",
    "    ########## Code for GMM ############\n",
    "    \n",
    "    # fit GMM model\n",
    "    GMM = GaussianMixture(num_components_, n_init=number_gmm_initializations, init_params=\"k-means++\", random_state=rng).fit(train_data.loc[:,[\"latitude\", \"longitude\"]])\n",
    "    \n",
    "    # list for synthetic datasets\n",
    "    sXs = []\n",
    "    \n",
    "    # generate and store number_synthetic_datasets synthetic datasets\n",
    "    for i in range(number_synthetic_datasets):\n",
    "        sX = GMM.sample(num_samples)[0]\n",
    "        sX = pd.DataFrame(sX)\n",
    "        sX.columns = ['latitude', 'longitude']\n",
    "        sXs.append(sX)\n",
    "        \n",
    "    ####################################################################################################\n",
    "        \n",
    "    ########### Code for sex MN ##########\n",
    "    \n",
    "    synth_sex_vars = multinomial_synthesizer(orig_data=train_data.loc[:,[\"latitude\", \"longitude\"]], \n",
    "                                             synth_data_sets=sXs, \n",
    "                                             target=train_data.sex, \n",
    "                                             penalty_param=C_sex_)\n",
    "    \n",
    "    sXs = [pd.concat([Y, synth_sex_vars[i]], axis=1) for i,Y in enumerate(sXs)]\n",
    "        \n",
    "    ####################################################################################################\n",
    "        \n",
    "    ########### Code for age MN ##########\n",
    "    \n",
    "    synth_age_vars = multinomial_synthesizer(orig_data=train_data.loc[:,[\"latitude\", \"longitude\", \"sex\"]], \n",
    "                                             synth_data_sets=sXs, \n",
    "                                             target=train_data.age, \n",
    "                                             penalty_param=C_age_)\n",
    "    \n",
    "    sXs = [pd.concat([Y, synth_age_vars[i]], axis=1) for i,Y in enumerate(sXs)]\n",
    "        \n",
    "    ####################################################################################################\n",
    "    \n",
    "    ########### Code for state MN ##########\n",
    "    \n",
    "    synth_state_vars = multinomial_synthesizer(orig_data=train_data.loc[:,[\"latitude\", \"longitude\", \"sex\", \"age\"]], \n",
    "                                               synth_data_sets=sXs, \n",
    "                                               target=train_data.state, \n",
    "                                               penalty_param=C_state_)\n",
    "    \n",
    "    sXs = [pd.concat([Y, synth_state_vars[i]], axis=1) for i,Y in enumerate(sXs)]\n",
    "        \n",
    "    ###### Calculate pMSE ratios ######\n",
    "    # pmse_ratios = [pmse_ratio(train_data, Y) for Y in sXs]\n",
    "    pmse_ratios = cart_pmse_ratio(train_data, sXs)\n",
    "    \n",
    "    return pmse_ratios, sXs, GMM"
   ]
  },
  {
   "cell_type": "code",
   "execution_count": 18,
   "id": "51b65e19",
   "metadata": {},
   "outputs": [],
   "source": [
    "def optimize_models_mn(train_data,\n",
    "                       number_synthetic_datasets,\n",
    "                       number_gmm_initializations,\n",
    "                       random_state):\n",
    "\n",
    "    def evaluate_models(num_components_, C_sex_, C_age_, C_state_):\n",
    "\n",
    "        pmse_ratios, _, _ = train_models_mn(train_data=train_data,\n",
    "                                            number_synthetic_datasets=number_synthetic_datasets,\n",
    "                                            number_gmm_initializations=number_gmm_initializations,\n",
    "                                            num_components_=int(num_components_),\n",
    "                                            C_sex_=C_sex_,\n",
    "                                            C_age_=C_age_,\n",
    "                                            C_state_=C_state_)\n",
    "        \n",
    "        return -1 * ((1 - np.mean(pmse_ratios))**2)\n",
    "\n",
    "    optimizer = BayesianOptimization(\n",
    "        f=evaluate_models,\n",
    "        pbounds={\n",
    "            \"num_components_\": (200, 800.99),\n",
    "            \"C_sex_\": (0.001, 1),\n",
    "            \"C_age_\": (0.001, 1),\n",
    "            \"C_state_\": (0.001, 1)\n",
    "        },\n",
    "        random_state=random_state)\n",
    "    \n",
    "    utility = UtilityFunction(kind=\"ei\", xi=1e-02)\n",
    "    optimizer.set_gp_params(alpha=1e-3)\n",
    "    optimizer.maximize(init_points=5, n_iter=25, acquisition_function=utility)\n",
    "    print(\"Final Result: \", optimizer.max)\n",
    "    return optimizer.max, optimizer"
   ]
  },
  {
   "cell_type": "markdown",
   "id": "4d4d62c3",
   "metadata": {},
   "source": [
    "The default value for $\\alpha = 1e-06$."
   ]
  },
  {
   "cell_type": "code",
   "execution_count": 19,
   "id": "13b295a6",
   "metadata": {},
   "outputs": [],
   "source": [
    "nsd = 20\n",
    "ngi = 5\n",
    "random_states = [np.random.RandomState(1234), np.random.RandomState(4321), np.random.RandomState(10620), np.random.RandomState(91695), np.random.RandomState(31296)]\n",
    "# random_states = [np.random.RandomState(1234)]"
   ]
  },
  {
   "cell_type": "code",
   "execution_count": 20,
   "id": "93c78ab1",
   "metadata": {},
   "outputs": [
    {
     "name": "stdout",
     "output_type": "stream",
     "text": [
      "|   iter    |  target   |  C_age_   |  C_sex_   | C_state_  | num_co... |\n",
      "-------------------------------------------------------------------------\n",
      "| \u001b[0m1        \u001b[0m | \u001b[0m-0.175   \u001b[0m | \u001b[0m0.1923   \u001b[0m | \u001b[0m0.6225   \u001b[0m | \u001b[0m0.4383   \u001b[0m | \u001b[0m672.0    \u001b[0m |\n"
     ]
    },
    {
     "name": "stderr",
     "output_type": "stream",
     "text": [
      "C:\\Users\\Cameron\\anaconda3\\lib\\site-packages\\sklearn\\linear_model\\_sag.py:350: ConvergenceWarning: The max_iter was reached which means the coef_ did not converge\n",
      "  warnings.warn(\n"
     ]
    },
    {
     "name": "stdout",
     "output_type": "stream",
     "text": [
      "| \u001b[95m2        \u001b[0m | \u001b[95m-0.162   \u001b[0m | \u001b[95m0.7802   \u001b[0m | \u001b[95m0.2733   \u001b[0m | \u001b[95m0.2772   \u001b[0m | \u001b[95m681.9    \u001b[0m |\n"
     ]
    },
    {
     "name": "stderr",
     "output_type": "stream",
     "text": [
      "C:\\Users\\Cameron\\anaconda3\\lib\\site-packages\\sklearn\\linear_model\\_sag.py:350: ConvergenceWarning: The max_iter was reached which means the coef_ did not converge\n",
      "  warnings.warn(\n"
     ]
    },
    {
     "name": "stdout",
     "output_type": "stream",
     "text": [
      "| \u001b[95m3        \u001b[0m | \u001b[95m-0.07297 \u001b[0m | \u001b[95m0.9582   \u001b[0m | \u001b[95m0.8761   \u001b[0m | \u001b[95m0.3585   \u001b[0m | \u001b[95m501.1    \u001b[0m |\n",
      "| \u001b[0m4        \u001b[0m | \u001b[0m-0.09751 \u001b[0m | \u001b[0m0.6838   \u001b[0m | \u001b[0m0.713    \u001b[0m | \u001b[0m0.3709   \u001b[0m | \u001b[0m537.3    \u001b[0m |\n",
      "| \u001b[0m5        \u001b[0m | \u001b[0m-0.2903  \u001b[0m | \u001b[0m0.5036   \u001b[0m | \u001b[0m0.01475  \u001b[0m | \u001b[0m0.7731   \u001b[0m | \u001b[0m730.5    \u001b[0m |\n",
      "| \u001b[0m6        \u001b[0m | \u001b[0m-0.1347  \u001b[0m | \u001b[0m0.1397   \u001b[0m | \u001b[0m0.2696   \u001b[0m | \u001b[0m0.5198   \u001b[0m | \u001b[0m473.5    \u001b[0m |\n",
      "| \u001b[0m7        \u001b[0m | \u001b[0m-0.1027  \u001b[0m | \u001b[0m0.1671   \u001b[0m | \u001b[0m0.3357   \u001b[0m | \u001b[0m0.7734   \u001b[0m | \u001b[0m515.8    \u001b[0m |\n"
     ]
    },
    {
     "name": "stderr",
     "output_type": "stream",
     "text": [
      "C:\\Users\\Cameron\\anaconda3\\lib\\site-packages\\sklearn\\linear_model\\_sag.py:350: ConvergenceWarning: The max_iter was reached which means the coef_ did not converge\n",
      "  warnings.warn(\n"
     ]
    },
    {
     "name": "stdout",
     "output_type": "stream",
     "text": [
      "| \u001b[0m8        \u001b[0m | \u001b[0m-0.087   \u001b[0m | \u001b[0m0.7666   \u001b[0m | \u001b[0m0.5234   \u001b[0m | \u001b[0m0.01921  \u001b[0m | \u001b[0m568.4    \u001b[0m |\n",
      "| \u001b[0m9        \u001b[0m | \u001b[0m-0.0952  \u001b[0m | \u001b[0m0.7056   \u001b[0m | \u001b[0m0.7798   \u001b[0m | \u001b[0m0.1143   \u001b[0m | \u001b[0m500.3    \u001b[0m |\n"
     ]
    },
    {
     "name": "stderr",
     "output_type": "stream",
     "text": [
      "C:\\Users\\Cameron\\anaconda3\\lib\\site-packages\\sklearn\\linear_model\\_sag.py:350: ConvergenceWarning: The max_iter was reached which means the coef_ did not converge\n",
      "  warnings.warn(\n",
      "C:\\Users\\Cameron\\anaconda3\\lib\\site-packages\\sklearn\\linear_model\\_sag.py:350: ConvergenceWarning: The max_iter was reached which means the coef_ did not converge\n",
      "  warnings.warn(\n"
     ]
    },
    {
     "name": "stdout",
     "output_type": "stream",
     "text": [
      "| \u001b[0m10       \u001b[0m | \u001b[0m-0.1352  \u001b[0m | \u001b[0m1.0      \u001b[0m | \u001b[0m1.0      \u001b[0m | \u001b[0m1.0      \u001b[0m | \u001b[0m503.3    \u001b[0m |\n",
      "| \u001b[95m11       \u001b[0m | \u001b[95m-0.03408 \u001b[0m | \u001b[95m0.1999   \u001b[0m | \u001b[95m0.7286   \u001b[0m | \u001b[95m0.5743   \u001b[0m | \u001b[95m566.5    \u001b[0m |\n",
      "| \u001b[0m12       \u001b[0m | \u001b[0m-0.08084 \u001b[0m | \u001b[0m0.5658   \u001b[0m | \u001b[0m0.1931   \u001b[0m | \u001b[0m0.7402   \u001b[0m | \u001b[0m565.3    \u001b[0m |\n"
     ]
    },
    {
     "name": "stderr",
     "output_type": "stream",
     "text": [
      "C:\\Users\\Cameron\\anaconda3\\lib\\site-packages\\sklearn\\linear_model\\_sag.py:350: ConvergenceWarning: The max_iter was reached which means the coef_ did not converge\n",
      "  warnings.warn(\n",
      "C:\\Users\\Cameron\\anaconda3\\lib\\site-packages\\sklearn\\linear_model\\_sag.py:350: ConvergenceWarning: The max_iter was reached which means the coef_ did not converge\n",
      "  warnings.warn(\n"
     ]
    },
    {
     "name": "stdout",
     "output_type": "stream",
     "text": [
      "| \u001b[0m13       \u001b[0m | \u001b[0m-0.1262  \u001b[0m | \u001b[0m0.8594   \u001b[0m | \u001b[0m0.8769   \u001b[0m | \u001b[0m0.9633   \u001b[0m | \u001b[0m566.8    \u001b[0m |\n",
      "| \u001b[0m14       \u001b[0m | \u001b[0m-0.1717  \u001b[0m | \u001b[0m0.04245  \u001b[0m | \u001b[0m0.6952   \u001b[0m | \u001b[0m0.08167  \u001b[0m | \u001b[0m566.3    \u001b[0m |\n",
      "| \u001b[0m15       \u001b[0m | \u001b[0m-0.06674 \u001b[0m | \u001b[0m0.4989   \u001b[0m | \u001b[0m0.4481   \u001b[0m | \u001b[0m0.1825   \u001b[0m | \u001b[0m746.1    \u001b[0m |\n"
     ]
    },
    {
     "name": "stderr",
     "output_type": "stream",
     "text": [
      "C:\\Users\\Cameron\\anaconda3\\lib\\site-packages\\sklearn\\linear_model\\_sag.py:350: ConvergenceWarning: The max_iter was reached which means the coef_ did not converge\n",
      "  warnings.warn(\n"
     ]
    },
    {
     "name": "stdout",
     "output_type": "stream",
     "text": [
      "| \u001b[0m16       \u001b[0m | \u001b[0m-0.1113  \u001b[0m | \u001b[0m0.9616   \u001b[0m | \u001b[0m0.2925   \u001b[0m | \u001b[0m0.3235   \u001b[0m | \u001b[0m558.0    \u001b[0m |\n"
     ]
    },
    {
     "name": "stderr",
     "output_type": "stream",
     "text": [
      "C:\\Users\\Cameron\\anaconda3\\lib\\site-packages\\sklearn\\linear_model\\_sag.py:350: ConvergenceWarning: The max_iter was reached which means the coef_ did not converge\n",
      "  warnings.warn(\n",
      "C:\\Users\\Cameron\\anaconda3\\lib\\site-packages\\sklearn\\linear_model\\_sag.py:350: ConvergenceWarning: The max_iter was reached which means the coef_ did not converge\n",
      "  warnings.warn(\n"
     ]
    },
    {
     "name": "stdout",
     "output_type": "stream",
     "text": [
      "| \u001b[0m17       \u001b[0m | \u001b[0m-0.08726 \u001b[0m | \u001b[0m0.8955   \u001b[0m | \u001b[0m0.8985   \u001b[0m | \u001b[0m0.993    \u001b[0m | \u001b[0m596.1    \u001b[0m |\n",
      "| \u001b[0m18       \u001b[0m | \u001b[0m-0.1258  \u001b[0m | \u001b[0m0.2376   \u001b[0m | \u001b[0m0.6633   \u001b[0m | \u001b[0m0.003517 \u001b[0m | \u001b[0m688.6    \u001b[0m |\n",
      "| \u001b[0m19       \u001b[0m | \u001b[0m-0.08293 \u001b[0m | \u001b[0m0.3132   \u001b[0m | \u001b[0m0.9325   \u001b[0m | \u001b[0m0.6337   \u001b[0m | \u001b[0m283.8    \u001b[0m |\n"
     ]
    },
    {
     "name": "stderr",
     "output_type": "stream",
     "text": [
      "C:\\Users\\Cameron\\anaconda3\\lib\\site-packages\\sklearn\\linear_model\\_sag.py:350: ConvergenceWarning: The max_iter was reached which means the coef_ did not converge\n",
      "  warnings.warn(\n"
     ]
    },
    {
     "name": "stdout",
     "output_type": "stream",
     "text": [
      "| \u001b[0m20       \u001b[0m | \u001b[0m-0.06629 \u001b[0m | \u001b[0m0.9792   \u001b[0m | \u001b[0m0.9668   \u001b[0m | \u001b[0m0.8903   \u001b[0m | \u001b[0m650.3    \u001b[0m |\n",
      "| \u001b[0m21       \u001b[0m | \u001b[0m-0.1112  \u001b[0m | \u001b[0m0.5032   \u001b[0m | \u001b[0m0.1146   \u001b[0m | \u001b[0m0.8056   \u001b[0m | \u001b[0m683.9    \u001b[0m |\n",
      "| \u001b[0m22       \u001b[0m | \u001b[0m-0.105   \u001b[0m | \u001b[0m0.1857   \u001b[0m | \u001b[0m0.9014   \u001b[0m | \u001b[0m0.9542   \u001b[0m | \u001b[0m571.6    \u001b[0m |\n",
      "| \u001b[0m23       \u001b[0m | \u001b[0m-0.1346  \u001b[0m | \u001b[0m0.754    \u001b[0m | \u001b[0m0.4819   \u001b[0m | \u001b[0m0.7481   \u001b[0m | \u001b[0m623.2    \u001b[0m |\n",
      "| \u001b[0m24       \u001b[0m | \u001b[0m-0.149   \u001b[0m | \u001b[0m0.127    \u001b[0m | \u001b[0m0.1221   \u001b[0m | \u001b[0m0.8523   \u001b[0m | \u001b[0m456.2    \u001b[0m |\n",
      "| \u001b[0m25       \u001b[0m | \u001b[0m-0.2237  \u001b[0m | \u001b[0m0.004964 \u001b[0m | \u001b[0m0.6289   \u001b[0m | \u001b[0m0.2232   \u001b[0m | \u001b[0m620.8    \u001b[0m |\n"
     ]
    },
    {
     "name": "stderr",
     "output_type": "stream",
     "text": [
      "C:\\Users\\Cameron\\anaconda3\\lib\\site-packages\\sklearn\\linear_model\\_sag.py:350: ConvergenceWarning: The max_iter was reached which means the coef_ did not converge\n",
      "  warnings.warn(\n"
     ]
    },
    {
     "name": "stdout",
     "output_type": "stream",
     "text": [
      "| \u001b[0m26       \u001b[0m | \u001b[0m-0.1157  \u001b[0m | \u001b[0m0.8436   \u001b[0m | \u001b[0m0.7555   \u001b[0m | \u001b[0m0.2184   \u001b[0m | \u001b[0m350.2    \u001b[0m |\n",
      "| \u001b[0m27       \u001b[0m | \u001b[0m-0.24    \u001b[0m | \u001b[0m0.3828   \u001b[0m | \u001b[0m0.9658   \u001b[0m | \u001b[0m0.57     \u001b[0m | \u001b[0m600.3    \u001b[0m |\n",
      "| \u001b[0m28       \u001b[0m | \u001b[0m-0.1629  \u001b[0m | \u001b[0m0.6641   \u001b[0m | \u001b[0m0.2081   \u001b[0m | \u001b[0m0.1172   \u001b[0m | \u001b[0m239.8    \u001b[0m |\n"
     ]
    },
    {
     "name": "stderr",
     "output_type": "stream",
     "text": [
      "C:\\Users\\Cameron\\anaconda3\\lib\\site-packages\\sklearn\\linear_model\\_sag.py:350: ConvergenceWarning: The max_iter was reached which means the coef_ did not converge\n",
      "  warnings.warn(\n"
     ]
    },
    {
     "name": "stdout",
     "output_type": "stream",
     "text": [
      "| \u001b[0m29       \u001b[0m | \u001b[0m-0.07484 \u001b[0m | \u001b[0m0.9084   \u001b[0m | \u001b[0m0.8579   \u001b[0m | \u001b[0m0.3945   \u001b[0m | \u001b[0m252.6    \u001b[0m |\n",
      "| \u001b[0m30       \u001b[0m | \u001b[0m-0.2364  \u001b[0m | \u001b[0m0.7432   \u001b[0m | \u001b[0m0.8908   \u001b[0m | \u001b[0m0.2181   \u001b[0m | \u001b[0m764.5    \u001b[0m |\n",
      "=========================================================================\n",
      "Final Result:  {'target': -0.034081503359432684, 'params': {'C_age_': 0.19988631255681988, 'C_sex_': 0.7286429381291926, 'C_state_': 0.5742801653328341, 'num_components_': 566.4773951829357}}\n",
      "|   iter    |  target   |  C_age_   |  C_sex_   | C_state_  | num_co... |\n",
      "-------------------------------------------------------------------------\n",
      "| \u001b[0m1        \u001b[0m | \u001b[0m-0.265   \u001b[0m | \u001b[0m0.07173  \u001b[0m | \u001b[0m0.8152   \u001b[0m | \u001b[0m0.7681   \u001b[0m | \u001b[0m372.1    \u001b[0m |\n",
      "| \u001b[95m2        \u001b[0m | \u001b[95m-0.1904  \u001b[0m | \u001b[95m0.1939   \u001b[0m | \u001b[95m0.9789   \u001b[0m | \u001b[95m0.4068   \u001b[0m | \u001b[95m655.4    \u001b[0m |\n",
      "| \u001b[95m3        \u001b[0m | \u001b[95m-0.07311 \u001b[0m | \u001b[95m0.09006  \u001b[0m | \u001b[95m0.3106   \u001b[0m | \u001b[95m0.6193   \u001b[0m | \u001b[95m476.4    \u001b[0m |\n",
      "| \u001b[0m4        \u001b[0m | \u001b[0m-0.2399  \u001b[0m | \u001b[0m0.2191   \u001b[0m | \u001b[0m0.6639   \u001b[0m | \u001b[0m0.679    \u001b[0m | \u001b[0m771.1    \u001b[0m |\n",
      "| \u001b[0m5        \u001b[0m | \u001b[0m-0.1117  \u001b[0m | \u001b[0m0.282    \u001b[0m | \u001b[0m0.6202   \u001b[0m | \u001b[0m0.3839   \u001b[0m | \u001b[0m440.6    \u001b[0m |\n",
      "| \u001b[95m6        \u001b[0m | \u001b[95m-0.0636  \u001b[0m | \u001b[95m0.579    \u001b[0m | \u001b[95m0.5145   \u001b[0m | \u001b[95m0.2766   \u001b[0m | \u001b[95m476.2    \u001b[0m |\n"
     ]
    },
    {
     "name": "stderr",
     "output_type": "stream",
     "text": [
      "C:\\Users\\Cameron\\anaconda3\\lib\\site-packages\\sklearn\\linear_model\\_sag.py:350: ConvergenceWarning: The max_iter was reached which means the coef_ did not converge\n",
      "  warnings.warn(\n"
     ]
    },
    {
     "name": "stdout",
     "output_type": "stream",
     "text": [
      "| \u001b[0m7        \u001b[0m | \u001b[0m-0.187   \u001b[0m | \u001b[0m0.9815   \u001b[0m | \u001b[0m0.3175   \u001b[0m | \u001b[0m0.172    \u001b[0m | \u001b[0m470.2    \u001b[0m |\n",
      "| \u001b[0m8        \u001b[0m | \u001b[0m-0.09575 \u001b[0m | \u001b[0m0.6021   \u001b[0m | \u001b[0m0.7746   \u001b[0m | \u001b[0m0.03279  \u001b[0m | \u001b[0m478.5    \u001b[0m |\n"
     ]
    },
    {
     "name": "stderr",
     "output_type": "stream",
     "text": [
      "C:\\Users\\Cameron\\anaconda3\\lib\\site-packages\\sklearn\\linear_model\\_sag.py:350: ConvergenceWarning: The max_iter was reached which means the coef_ did not converge\n",
      "  warnings.warn(\n"
     ]
    },
    {
     "name": "stdout",
     "output_type": "stream",
     "text": [
      "| \u001b[0m9        \u001b[0m | \u001b[0m-0.1227  \u001b[0m | \u001b[0m0.9534   \u001b[0m | \u001b[0m0.08231  \u001b[0m | \u001b[0m0.1369   \u001b[0m | \u001b[0m434.7    \u001b[0m |\n"
     ]
    },
    {
     "name": "stderr",
     "output_type": "stream",
     "text": [
      "C:\\Users\\Cameron\\anaconda3\\lib\\site-packages\\sklearn\\linear_model\\_sag.py:350: ConvergenceWarning: The max_iter was reached which means the coef_ did not converge\n",
      "  warnings.warn(\n"
     ]
    },
    {
     "name": "stdout",
     "output_type": "stream",
     "text": [
      "| \u001b[0m10       \u001b[0m | \u001b[0m-0.1182  \u001b[0m | \u001b[0m0.8202   \u001b[0m | \u001b[0m0.0812   \u001b[0m | \u001b[0m0.8516   \u001b[0m | \u001b[0m447.0    \u001b[0m |\n"
     ]
    },
    {
     "name": "stderr",
     "output_type": "stream",
     "text": [
      "C:\\Users\\Cameron\\anaconda3\\lib\\site-packages\\sklearn\\linear_model\\_sag.py:350: ConvergenceWarning: The max_iter was reached which means the coef_ did not converge\n",
      "  warnings.warn(\n"
     ]
    },
    {
     "name": "stdout",
     "output_type": "stream",
     "text": [
      "| \u001b[95m11       \u001b[0m | \u001b[95m-0.0612  \u001b[0m | \u001b[95m0.3796   \u001b[0m | \u001b[95m0.9378   \u001b[0m | \u001b[95m0.9773   \u001b[0m | \u001b[95m454.3    \u001b[0m |\n"
     ]
    },
    {
     "name": "stderr",
     "output_type": "stream",
     "text": [
      "C:\\Users\\Cameron\\anaconda3\\lib\\site-packages\\sklearn\\linear_model\\_sag.py:350: ConvergenceWarning: The max_iter was reached which means the coef_ did not converge\n",
      "  warnings.warn(\n"
     ]
    },
    {
     "name": "stdout",
     "output_type": "stream",
     "text": [
      "| \u001b[0m12       \u001b[0m | \u001b[0m-0.287   \u001b[0m | \u001b[0m0.001    \u001b[0m | \u001b[0m0.001    \u001b[0m | \u001b[0m1.0      \u001b[0m | \u001b[0m457.2    \u001b[0m |\n"
     ]
    },
    {
     "name": "stderr",
     "output_type": "stream",
     "text": [
      "C:\\Users\\Cameron\\anaconda3\\lib\\site-packages\\sklearn\\linear_model\\_sag.py:350: ConvergenceWarning: The max_iter was reached which means the coef_ did not converge\n",
      "  warnings.warn(\n"
     ]
    },
    {
     "name": "stdout",
     "output_type": "stream",
     "text": [
      "| \u001b[0m13       \u001b[0m | \u001b[0m-0.08494 \u001b[0m | \u001b[0m0.9318   \u001b[0m | \u001b[0m0.7271   \u001b[0m | \u001b[0m0.8207   \u001b[0m | \u001b[0m453.4    \u001b[0m |\n"
     ]
    },
    {
     "name": "stderr",
     "output_type": "stream",
     "text": [
      "C:\\Users\\Cameron\\anaconda3\\lib\\site-packages\\sklearn\\linear_model\\_sag.py:350: ConvergenceWarning: The max_iter was reached which means the coef_ did not converge\n",
      "  warnings.warn(\n"
     ]
    },
    {
     "name": "stdout",
     "output_type": "stream",
     "text": [
      "| \u001b[0m14       \u001b[0m | \u001b[0m-0.09629 \u001b[0m | \u001b[0m0.985    \u001b[0m | \u001b[0m0.7793   \u001b[0m | \u001b[0m0.85     \u001b[0m | \u001b[0m476.7    \u001b[0m |\n",
      "| \u001b[0m15       \u001b[0m | \u001b[0m-0.1014  \u001b[0m | \u001b[0m0.2038   \u001b[0m | \u001b[0m0.06716  \u001b[0m | \u001b[0m0.03994  \u001b[0m | \u001b[0m475.1    \u001b[0m |\n",
      "| \u001b[0m16       \u001b[0m | \u001b[0m-0.1532  \u001b[0m | \u001b[0m0.5023   \u001b[0m | \u001b[0m0.1987   \u001b[0m | \u001b[0m0.05502  \u001b[0m | \u001b[0m477.1    \u001b[0m |\n",
      "| \u001b[0m17       \u001b[0m | \u001b[0m-0.1157  \u001b[0m | \u001b[0m0.006434 \u001b[0m | \u001b[0m0.9177   \u001b[0m | \u001b[0m0.6291   \u001b[0m | \u001b[0m475.8    \u001b[0m |\n"
     ]
    },
    {
     "name": "stderr",
     "output_type": "stream",
     "text": [
      "C:\\Users\\Cameron\\anaconda3\\lib\\site-packages\\sklearn\\linear_model\\_sag.py:350: ConvergenceWarning: The max_iter was reached which means the coef_ did not converge\n",
      "  warnings.warn(\n"
     ]
    },
    {
     "name": "stdout",
     "output_type": "stream",
     "text": [
      "| \u001b[0m18       \u001b[0m | \u001b[0m-0.1168  \u001b[0m | \u001b[0m0.8787   \u001b[0m | \u001b[0m0.1915   \u001b[0m | \u001b[0m0.7876   \u001b[0m | \u001b[0m475.8    \u001b[0m |\n",
      "| \u001b[0m19       \u001b[0m | \u001b[0m-0.07031 \u001b[0m | \u001b[0m0.3173   \u001b[0m | \u001b[0m0.1996   \u001b[0m | \u001b[0m0.6312   \u001b[0m | \u001b[0m453.9    \u001b[0m |\n"
     ]
    },
    {
     "name": "stderr",
     "output_type": "stream",
     "text": [
      "C:\\Users\\Cameron\\anaconda3\\lib\\site-packages\\sklearn\\linear_model\\_sag.py:350: ConvergenceWarning: The max_iter was reached which means the coef_ did not converge\n",
      "  warnings.warn(\n"
     ]
    },
    {
     "name": "stdout",
     "output_type": "stream",
     "text": [
      "| \u001b[0m20       \u001b[0m | \u001b[0m-0.109   \u001b[0m | \u001b[0m0.802    \u001b[0m | \u001b[0m0.7002   \u001b[0m | \u001b[0m0.1214   \u001b[0m | \u001b[0m454.2    \u001b[0m |\n",
      "| \u001b[0m21       \u001b[0m | \u001b[0m-0.2298  \u001b[0m | \u001b[0m0.0755   \u001b[0m | \u001b[0m0.9374   \u001b[0m | \u001b[0m0.8735   \u001b[0m | \u001b[0m453.3    \u001b[0m |\n",
      "| \u001b[95m22       \u001b[0m | \u001b[95m-0.0386  \u001b[0m | \u001b[95m0.407    \u001b[0m | \u001b[95m0.3242   \u001b[0m | \u001b[95m0.09901  \u001b[0m | \u001b[95m285.1    \u001b[0m |\n"
     ]
    },
    {
     "name": "stderr",
     "output_type": "stream",
     "text": [
      "C:\\Users\\Cameron\\anaconda3\\lib\\site-packages\\sklearn\\linear_model\\_sag.py:350: ConvergenceWarning: The max_iter was reached which means the coef_ did not converge\n",
      "  warnings.warn(\n"
     ]
    },
    {
     "name": "stdout",
     "output_type": "stream",
     "text": [
      "| \u001b[0m23       \u001b[0m | \u001b[0m-0.09896 \u001b[0m | \u001b[0m0.8552   \u001b[0m | \u001b[0m0.6589   \u001b[0m | \u001b[0m0.1512   \u001b[0m | \u001b[0m454.3    \u001b[0m |\n",
      "| \u001b[0m24       \u001b[0m | \u001b[0m-0.1016  \u001b[0m | \u001b[0m0.7296   \u001b[0m | \u001b[0m0.4853   \u001b[0m | \u001b[0m0.7711   \u001b[0m | \u001b[0m454.3    \u001b[0m |\n",
      "| \u001b[95m25       \u001b[0m | \u001b[95m-0.02962 \u001b[0m | \u001b[95m0.3324   \u001b[0m | \u001b[95m0.7969   \u001b[0m | \u001b[95m0.4568   \u001b[0m | \u001b[95m356.3    \u001b[0m |\n",
      "| \u001b[0m26       \u001b[0m | \u001b[0m-0.1191  \u001b[0m | \u001b[0m0.358    \u001b[0m | \u001b[0m0.8278   \u001b[0m | \u001b[0m0.4643   \u001b[0m | \u001b[0m356.6    \u001b[0m |\n",
      "| \u001b[0m27       \u001b[0m | \u001b[0m-0.1105  \u001b[0m | \u001b[0m0.3668   \u001b[0m | \u001b[0m0.08044  \u001b[0m | \u001b[0m0.2743   \u001b[0m | \u001b[0m515.6    \u001b[0m |\n",
      "| \u001b[95m28       \u001b[0m | \u001b[95m-0.005236\u001b[0m | \u001b[95m0.2165   \u001b[0m | \u001b[95m0.5258   \u001b[0m | \u001b[95m0.5643   \u001b[0m | \u001b[95m355.9    \u001b[0m |\n",
      "| \u001b[0m29       \u001b[0m | \u001b[0m-0.1875  \u001b[0m | \u001b[0m0.7127   \u001b[0m | \u001b[0m0.5375   \u001b[0m | \u001b[0m0.2854   \u001b[0m | \u001b[0m476.3    \u001b[0m |\n",
      "| \u001b[0m30       \u001b[0m | \u001b[0m-0.06532 \u001b[0m | \u001b[0m0.7419   \u001b[0m | \u001b[0m0.2986   \u001b[0m | \u001b[0m0.9169   \u001b[0m | \u001b[0m676.4    \u001b[0m |\n",
      "=========================================================================\n",
      "Final Result:  {'target': -0.005235904319304478, 'params': {'C_age_': 0.21649159563989606, 'C_sex_': 0.5257502535571056, 'C_state_': 0.5643219262073985, 'num_components_': 355.93257315595804}}\n",
      "|   iter    |  target   |  C_age_   |  C_sex_   | C_state_  | num_co... |\n",
      "-------------------------------------------------------------------------\n",
      "| \u001b[0m1        \u001b[0m | \u001b[0m-0.02856 \u001b[0m | \u001b[0m0.5169   \u001b[0m | \u001b[0m0.3209   \u001b[0m | \u001b[0m0.169    \u001b[0m | \u001b[0m231.5    \u001b[0m |\n"
     ]
    },
    {
     "name": "stderr",
     "output_type": "stream",
     "text": [
      "C:\\Users\\Cameron\\anaconda3\\lib\\site-packages\\sklearn\\linear_model\\_sag.py:350: ConvergenceWarning: The max_iter was reached which means the coef_ did not converge\n",
      "  warnings.warn(\n"
     ]
    },
    {
     "name": "stdout",
     "output_type": "stream",
     "text": [
      "| \u001b[0m2        \u001b[0m | \u001b[0m-0.1693  \u001b[0m | \u001b[0m0.9317   \u001b[0m | \u001b[0m0.05982  \u001b[0m | \u001b[0m0.4362   \u001b[0m | \u001b[0m214.9    \u001b[0m |\n",
      "| \u001b[0m3        \u001b[0m | \u001b[0m-0.1062  \u001b[0m | \u001b[0m0.492    \u001b[0m | \u001b[0m0.7016   \u001b[0m | \u001b[0m0.7721   \u001b[0m | \u001b[0m441.7    \u001b[0m |\n"
     ]
    },
    {
     "name": "stderr",
     "output_type": "stream",
     "text": [
      "C:\\Users\\Cameron\\anaconda3\\lib\\site-packages\\sklearn\\linear_model\\_sag.py:350: ConvergenceWarning: The max_iter was reached which means the coef_ did not converge\n",
      "  warnings.warn(\n"
     ]
    },
    {
     "name": "stdout",
     "output_type": "stream",
     "text": [
      "| \u001b[0m4        \u001b[0m | \u001b[0m-0.04649 \u001b[0m | \u001b[0m0.9199   \u001b[0m | \u001b[0m0.5447   \u001b[0m | \u001b[0m0.6874   \u001b[0m | \u001b[0m348.1    \u001b[0m |\n",
      "| \u001b[0m5        \u001b[0m | \u001b[0m-0.03455 \u001b[0m | \u001b[0m0.245    \u001b[0m | \u001b[0m0.5641   \u001b[0m | \u001b[0m0.2667   \u001b[0m | \u001b[0m341.4    \u001b[0m |\n",
      "| \u001b[0m6        \u001b[0m | \u001b[0m-0.04216 \u001b[0m | \u001b[0m0.06747  \u001b[0m | \u001b[0m0.4695   \u001b[0m | \u001b[0m0.2264   \u001b[0m | \u001b[0m237.3    \u001b[0m |\n"
     ]
    },
    {
     "name": "stderr",
     "output_type": "stream",
     "text": [
      "C:\\Users\\Cameron\\anaconda3\\lib\\site-packages\\sklearn\\linear_model\\_sag.py:350: ConvergenceWarning: The max_iter was reached which means the coef_ did not converge\n",
      "  warnings.warn(\n"
     ]
    },
    {
     "name": "stdout",
     "output_type": "stream",
     "text": [
      "| \u001b[0m7        \u001b[0m | \u001b[0m-0.03851 \u001b[0m | \u001b[0m0.9808   \u001b[0m | \u001b[0m0.5949   \u001b[0m | \u001b[0m0.6017   \u001b[0m | \u001b[0m331.1    \u001b[0m |\n",
      "| \u001b[0m8        \u001b[0m | \u001b[0m-0.03776 \u001b[0m | \u001b[0m0.07341  \u001b[0m | \u001b[0m0.8619   \u001b[0m | \u001b[0m0.07036  \u001b[0m | \u001b[0m317.0    \u001b[0m |\n"
     ]
    },
    {
     "name": "stderr",
     "output_type": "stream",
     "text": [
      "C:\\Users\\Cameron\\anaconda3\\lib\\site-packages\\sklearn\\linear_model\\_sag.py:350: ConvergenceWarning: The max_iter was reached which means the coef_ did not converge\n",
      "  warnings.warn(\n"
     ]
    },
    {
     "name": "stdout",
     "output_type": "stream",
     "text": [
      "| \u001b[0m9        \u001b[0m | \u001b[0m-0.1432  \u001b[0m | \u001b[0m0.8778   \u001b[0m | \u001b[0m0.02438  \u001b[0m | \u001b[0m0.647    \u001b[0m | \u001b[0m303.9    \u001b[0m |\n",
      "| \u001b[0m10       \u001b[0m | \u001b[0m-0.2141  \u001b[0m | \u001b[0m0.02197  \u001b[0m | \u001b[0m0.007249 \u001b[0m | \u001b[0m0.1545   \u001b[0m | \u001b[0m323.4    \u001b[0m |\n",
      "| \u001b[0m11       \u001b[0m | \u001b[0m-0.06514 \u001b[0m | \u001b[0m0.4437   \u001b[0m | \u001b[0m0.3217   \u001b[0m | \u001b[0m0.1569   \u001b[0m | \u001b[0m232.6    \u001b[0m |\n",
      "| \u001b[0m12       \u001b[0m | \u001b[0m-0.03839 \u001b[0m | \u001b[0m0.5152   \u001b[0m | \u001b[0m0.4379   \u001b[0m | \u001b[0m0.2176   \u001b[0m | \u001b[0m230.0    \u001b[0m |\n",
      "| \u001b[0m13       \u001b[0m | \u001b[0m-0.08352 \u001b[0m | \u001b[0m0.4958   \u001b[0m | \u001b[0m0.5621   \u001b[0m | \u001b[0m0.4214   \u001b[0m | \u001b[0m343.9    \u001b[0m |\n",
      "| \u001b[0m14       \u001b[0m | \u001b[0m-0.1371  \u001b[0m | \u001b[0m0.04404  \u001b[0m | \u001b[0m0.3105   \u001b[0m | \u001b[0m0.5503   \u001b[0m | \u001b[0m339.4    \u001b[0m |\n"
     ]
    },
    {
     "name": "stderr",
     "output_type": "stream",
     "text": [
      "C:\\Users\\Cameron\\anaconda3\\lib\\site-packages\\sklearn\\linear_model\\_sag.py:350: ConvergenceWarning: The max_iter was reached which means the coef_ did not converge\n",
      "  warnings.warn(\n"
     ]
    },
    {
     "name": "stdout",
     "output_type": "stream",
     "text": [
      "| \u001b[0m15       \u001b[0m | \u001b[0m-0.1295  \u001b[0m | \u001b[0m0.8554   \u001b[0m | \u001b[0m0.8029   \u001b[0m | \u001b[0m0.9306   \u001b[0m | \u001b[0m231.1    \u001b[0m |\n",
      "| \u001b[95m16       \u001b[0m | \u001b[95m-0.02251 \u001b[0m | \u001b[95m0.2099   \u001b[0m | \u001b[95m0.8405   \u001b[0m | \u001b[95m0.06698  \u001b[0m | \u001b[95m281.0    \u001b[0m |\n",
      "| \u001b[0m17       \u001b[0m | \u001b[0m-0.1167  \u001b[0m | \u001b[0m0.5313   \u001b[0m | \u001b[0m0.06141  \u001b[0m | \u001b[0m0.001019 \u001b[0m | \u001b[0m452.9    \u001b[0m |\n"
     ]
    },
    {
     "name": "stderr",
     "output_type": "stream",
     "text": [
      "C:\\Users\\Cameron\\anaconda3\\lib\\site-packages\\sklearn\\linear_model\\_sag.py:350: ConvergenceWarning: The max_iter was reached which means the coef_ did not converge\n",
      "  warnings.warn(\n"
     ]
    },
    {
     "name": "stdout",
     "output_type": "stream",
     "text": [
      "| \u001b[0m18       \u001b[0m | \u001b[0m-0.07269 \u001b[0m | \u001b[0m0.7777   \u001b[0m | \u001b[0m0.8424   \u001b[0m | \u001b[0m0.6244   \u001b[0m | \u001b[0m413.5    \u001b[0m |\n",
      "| \u001b[0m19       \u001b[0m | \u001b[0m-0.02595 \u001b[0m | \u001b[0m0.4622   \u001b[0m | \u001b[0m0.62     \u001b[0m | \u001b[0m0.7901   \u001b[0m | \u001b[0m670.1    \u001b[0m |\n",
      "| \u001b[0m20       \u001b[0m | \u001b[0m-0.0927  \u001b[0m | \u001b[0m0.5465   \u001b[0m | \u001b[0m0.2111   \u001b[0m | \u001b[0m0.8136   \u001b[0m | \u001b[0m791.3    \u001b[0m |\n",
      "| \u001b[0m21       \u001b[0m | \u001b[0m-0.1351  \u001b[0m | \u001b[0m0.1025   \u001b[0m | \u001b[0m0.7153   \u001b[0m | \u001b[0m0.627    \u001b[0m | \u001b[0m458.7    \u001b[0m |\n"
     ]
    },
    {
     "name": "stderr",
     "output_type": "stream",
     "text": [
      "C:\\Users\\Cameron\\anaconda3\\lib\\site-packages\\sklearn\\linear_model\\_sag.py:350: ConvergenceWarning: The max_iter was reached which means the coef_ did not converge\n",
      "  warnings.warn(\n"
     ]
    },
    {
     "name": "stdout",
     "output_type": "stream",
     "text": [
      "| \u001b[0m22       \u001b[0m | \u001b[0m-0.09924 \u001b[0m | \u001b[0m0.9625   \u001b[0m | \u001b[0m0.1834   \u001b[0m | \u001b[0m0.4484   \u001b[0m | \u001b[0m774.9    \u001b[0m |\n"
     ]
    },
    {
     "name": "stderr",
     "output_type": "stream",
     "text": [
      "C:\\Users\\Cameron\\anaconda3\\lib\\site-packages\\sklearn\\linear_model\\_sag.py:350: ConvergenceWarning: The max_iter was reached which means the coef_ did not converge\n",
      "  warnings.warn(\n"
     ]
    },
    {
     "name": "stdout",
     "output_type": "stream",
     "text": [
      "| \u001b[0m23       \u001b[0m | \u001b[0m-0.09421 \u001b[0m | \u001b[0m0.9719   \u001b[0m | \u001b[0m0.99     \u001b[0m | \u001b[0m0.3031   \u001b[0m | \u001b[0m527.0    \u001b[0m |\n",
      "| \u001b[0m24       \u001b[0m | \u001b[0m-0.09809 \u001b[0m | \u001b[0m0.07692  \u001b[0m | \u001b[0m0.4378   \u001b[0m | \u001b[0m0.7962   \u001b[0m | \u001b[0m254.5    \u001b[0m |\n",
      "| \u001b[0m25       \u001b[0m | \u001b[0m-0.1712  \u001b[0m | \u001b[0m0.1397   \u001b[0m | \u001b[0m0.2114   \u001b[0m | \u001b[0m0.167    \u001b[0m | \u001b[0m708.4    \u001b[0m |\n",
      "| \u001b[0m26       \u001b[0m | \u001b[0m-0.2058  \u001b[0m | \u001b[0m0.3783   \u001b[0m | \u001b[0m0.2654   \u001b[0m | \u001b[0m0.5825   \u001b[0m | \u001b[0m586.5    \u001b[0m |\n",
      "| \u001b[0m27       \u001b[0m | \u001b[0m-0.07382 \u001b[0m | \u001b[0m0.6913   \u001b[0m | \u001b[0m0.8035   \u001b[0m | \u001b[0m0.01801  \u001b[0m | \u001b[0m566.1    \u001b[0m |\n",
      "| \u001b[0m28       \u001b[0m | \u001b[0m-0.08675 \u001b[0m | \u001b[0m0.7095   \u001b[0m | \u001b[0m0.817    \u001b[0m | \u001b[0m0.2824   \u001b[0m | \u001b[0m294.0    \u001b[0m |\n"
     ]
    },
    {
     "name": "stderr",
     "output_type": "stream",
     "text": [
      "C:\\Users\\Cameron\\anaconda3\\lib\\site-packages\\sklearn\\linear_model\\_sag.py:350: ConvergenceWarning: The max_iter was reached which means the coef_ did not converge\n",
      "  warnings.warn(\n"
     ]
    },
    {
     "name": "stdout",
     "output_type": "stream",
     "text": [
      "| \u001b[0m29       \u001b[0m | \u001b[0m-0.1062  \u001b[0m | \u001b[0m0.2265   \u001b[0m | \u001b[0m0.3821   \u001b[0m | \u001b[0m0.9755   \u001b[0m | \u001b[0m786.9    \u001b[0m |\n",
      "| \u001b[0m30       \u001b[0m | \u001b[0m-0.142   \u001b[0m | \u001b[0m0.1747   \u001b[0m | \u001b[0m0.2322   \u001b[0m | \u001b[0m0.8206   \u001b[0m | \u001b[0m769.2    \u001b[0m |\n",
      "=========================================================================\n",
      "Final Result:  {'target': -0.022509662984592182, 'params': {'C_age_': 0.20989439493256928, 'C_sex_': 0.8405201625722261, 'C_state_': 0.06697872737053201, 'num_components_': 280.950343153157}}\n",
      "|   iter    |  target   |  C_age_   |  C_sex_   | C_state_  | num_co... |\n",
      "-------------------------------------------------------------------------\n"
     ]
    },
    {
     "name": "stderr",
     "output_type": "stream",
     "text": [
      "C:\\Users\\Cameron\\anaconda3\\lib\\site-packages\\sklearn\\linear_model\\_sag.py:350: ConvergenceWarning: The max_iter was reached which means the coef_ did not converge\n",
      "  warnings.warn(\n"
     ]
    },
    {
     "name": "stdout",
     "output_type": "stream",
     "text": [
      "| \u001b[0m1        \u001b[0m | \u001b[0m-0.08551 \u001b[0m | \u001b[0m0.9739   \u001b[0m | \u001b[0m0.9884   \u001b[0m | \u001b[0m0.3971   \u001b[0m | \u001b[0m547.1    \u001b[0m |\n",
      "| \u001b[95m2        \u001b[0m | \u001b[95m-0.04014 \u001b[0m | \u001b[95m0.5583   \u001b[0m | \u001b[95m0.3046   \u001b[0m | \u001b[95m0.6306   \u001b[0m | \u001b[95m280.9    \u001b[0m |\n",
      "| \u001b[0m3        \u001b[0m | \u001b[0m-0.09668 \u001b[0m | \u001b[0m0.5341   \u001b[0m | \u001b[0m0.7397   \u001b[0m | \u001b[0m0.9104   \u001b[0m | \u001b[0m416.8    \u001b[0m |\n",
      "| \u001b[0m4        \u001b[0m | \u001b[0m-0.16    \u001b[0m | \u001b[0m0.0451   \u001b[0m | \u001b[0m0.8073   \u001b[0m | \u001b[0m0.6553   \u001b[0m | \u001b[0m560.9    \u001b[0m |\n",
      "| \u001b[95m5        \u001b[0m | \u001b[95m-0.03026 \u001b[0m | \u001b[95m0.5853   \u001b[0m | \u001b[95m0.1652   \u001b[0m | \u001b[95m0.8145   \u001b[0m | \u001b[95m541.5    \u001b[0m |\n",
      "| \u001b[0m6        \u001b[0m | \u001b[0m-0.07727 \u001b[0m | \u001b[0m0.2255   \u001b[0m | \u001b[0m0.6396   \u001b[0m | \u001b[0m0.3699   \u001b[0m | \u001b[0m653.6    \u001b[0m |\n",
      "| \u001b[0m7        \u001b[0m | \u001b[0m-0.1335  \u001b[0m | \u001b[0m0.1253   \u001b[0m | \u001b[0m0.3416   \u001b[0m | \u001b[0m0.8001   \u001b[0m | \u001b[0m220.5    \u001b[0m |\n",
      "| \u001b[0m8        \u001b[0m | \u001b[0m-0.08941 \u001b[0m | \u001b[0m0.3601   \u001b[0m | \u001b[0m0.5363   \u001b[0m | \u001b[0m0.9231   \u001b[0m | \u001b[0m539.5    \u001b[0m |\n"
     ]
    },
    {
     "name": "stderr",
     "output_type": "stream",
     "text": [
      "C:\\Users\\Cameron\\anaconda3\\lib\\site-packages\\sklearn\\linear_model\\_sag.py:350: ConvergenceWarning: The max_iter was reached which means the coef_ did not converge\n",
      "  warnings.warn(\n"
     ]
    },
    {
     "name": "stdout",
     "output_type": "stream",
     "text": [
      "| \u001b[0m9        \u001b[0m | \u001b[0m-0.1118  \u001b[0m | \u001b[0m0.9583   \u001b[0m | \u001b[0m0.8795   \u001b[0m | \u001b[0m0.9924   \u001b[0m | \u001b[0m756.7    \u001b[0m |\n",
      "| \u001b[0m10       \u001b[0m | \u001b[0m-0.1407  \u001b[0m | \u001b[0m0.3566   \u001b[0m | \u001b[0m0.587    \u001b[0m | \u001b[0m0.5041   \u001b[0m | \u001b[0m541.6    \u001b[0m |\n",
      "| \u001b[0m11       \u001b[0m | \u001b[0m-0.1296  \u001b[0m | \u001b[0m0.5369   \u001b[0m | \u001b[0m0.05338  \u001b[0m | \u001b[0m0.3515   \u001b[0m | \u001b[0m592.2    \u001b[0m |\n"
     ]
    },
    {
     "name": "stderr",
     "output_type": "stream",
     "text": [
      "C:\\Users\\Cameron\\anaconda3\\lib\\site-packages\\sklearn\\linear_model\\_sag.py:350: ConvergenceWarning: The max_iter was reached which means the coef_ did not converge\n",
      "  warnings.warn(\n"
     ]
    },
    {
     "name": "stdout",
     "output_type": "stream",
     "text": [
      "| \u001b[0m12       \u001b[0m | \u001b[0m-0.09733 \u001b[0m | \u001b[0m0.7815   \u001b[0m | \u001b[0m0.7021   \u001b[0m | \u001b[0m0.676    \u001b[0m | \u001b[0m792.6    \u001b[0m |\n",
      "| \u001b[0m13       \u001b[0m | \u001b[0m-0.03472 \u001b[0m | \u001b[0m0.3699   \u001b[0m | \u001b[0m0.07209  \u001b[0m | \u001b[0m0.6298   \u001b[0m | \u001b[0m373.3    \u001b[0m |\n",
      "| \u001b[0m14       \u001b[0m | \u001b[0m-0.1698  \u001b[0m | \u001b[0m0.4764   \u001b[0m | \u001b[0m0.5064   \u001b[0m | \u001b[0m0.4547   \u001b[0m | \u001b[0m752.2    \u001b[0m |\n"
     ]
    },
    {
     "name": "stderr",
     "output_type": "stream",
     "text": [
      "C:\\Users\\Cameron\\anaconda3\\lib\\site-packages\\sklearn\\linear_model\\_sag.py:350: ConvergenceWarning: The max_iter was reached which means the coef_ did not converge\n",
      "  warnings.warn(\n"
     ]
    },
    {
     "name": "stdout",
     "output_type": "stream",
     "text": [
      "| \u001b[0m15       \u001b[0m | \u001b[0m-0.1644  \u001b[0m | \u001b[0m0.8298   \u001b[0m | \u001b[0m0.6411   \u001b[0m | \u001b[0m0.3829   \u001b[0m | \u001b[0m678.0    \u001b[0m |\n",
      "| \u001b[0m16       \u001b[0m | \u001b[0m-0.1099  \u001b[0m | \u001b[0m0.4114   \u001b[0m | \u001b[0m0.258    \u001b[0m | \u001b[0m0.6106   \u001b[0m | \u001b[0m726.3    \u001b[0m |\n",
      "| \u001b[0m17       \u001b[0m | \u001b[0m-0.1047  \u001b[0m | \u001b[0m0.5998   \u001b[0m | \u001b[0m0.3643   \u001b[0m | \u001b[0m0.219    \u001b[0m | \u001b[0m279.2    \u001b[0m |\n",
      "| \u001b[0m18       \u001b[0m | \u001b[0m-0.2071  \u001b[0m | \u001b[0m0.3757   \u001b[0m | \u001b[0m0.1069   \u001b[0m | \u001b[0m0.7331   \u001b[0m | \u001b[0m280.2    \u001b[0m |\n",
      "| \u001b[0m19       \u001b[0m | \u001b[0m-0.1169  \u001b[0m | \u001b[0m0.4471   \u001b[0m | \u001b[0m0.3043   \u001b[0m | \u001b[0m0.1821   \u001b[0m | \u001b[0m245.2    \u001b[0m |\n",
      "| \u001b[0m20       \u001b[0m | \u001b[0m-0.1775  \u001b[0m | \u001b[0m0.1895   \u001b[0m | \u001b[0m0.1163   \u001b[0m | \u001b[0m0.6402   \u001b[0m | \u001b[0m777.7    \u001b[0m |\n",
      "| \u001b[0m21       \u001b[0m | \u001b[0m-0.1005  \u001b[0m | \u001b[0m0.6051   \u001b[0m | \u001b[0m0.2016   \u001b[0m | \u001b[0m0.5203   \u001b[0m | \u001b[0m290.6    \u001b[0m |\n"
     ]
    },
    {
     "name": "stderr",
     "output_type": "stream",
     "text": [
      "C:\\Users\\Cameron\\anaconda3\\lib\\site-packages\\sklearn\\linear_model\\_sag.py:350: ConvergenceWarning: The max_iter was reached which means the coef_ did not converge\n",
      "  warnings.warn(\n"
     ]
    },
    {
     "name": "stdout",
     "output_type": "stream",
     "text": [
      "| \u001b[0m22       \u001b[0m | \u001b[0m-0.1316  \u001b[0m | \u001b[0m0.849    \u001b[0m | \u001b[0m0.4886   \u001b[0m | \u001b[0m0.4297   \u001b[0m | \u001b[0m693.0    \u001b[0m |\n",
      "| \u001b[0m23       \u001b[0m | \u001b[0m-0.1622  \u001b[0m | \u001b[0m0.1495   \u001b[0m | \u001b[0m0.1934   \u001b[0m | \u001b[0m0.4371   \u001b[0m | \u001b[0m757.1    \u001b[0m |\n",
      "| \u001b[0m24       \u001b[0m | \u001b[0m-0.09648 \u001b[0m | \u001b[0m0.3496   \u001b[0m | \u001b[0m0.006242 \u001b[0m | \u001b[0m0.5401   \u001b[0m | \u001b[0m605.6    \u001b[0m |\n",
      "| \u001b[0m25       \u001b[0m | \u001b[0m-0.09183 \u001b[0m | \u001b[0m0.6368   \u001b[0m | \u001b[0m0.322    \u001b[0m | \u001b[0m0.471    \u001b[0m | \u001b[0m532.3    \u001b[0m |\n",
      "| \u001b[0m26       \u001b[0m | \u001b[0m-0.13    \u001b[0m | \u001b[0m0.01439  \u001b[0m | \u001b[0m0.03077  \u001b[0m | \u001b[0m0.5383   \u001b[0m | \u001b[0m293.5    \u001b[0m |\n",
      "| \u001b[0m27       \u001b[0m | \u001b[0m-0.1298  \u001b[0m | \u001b[0m0.6735   \u001b[0m | \u001b[0m0.9049   \u001b[0m | \u001b[0m0.2768   \u001b[0m | \u001b[0m495.0    \u001b[0m |\n",
      "| \u001b[0m28       \u001b[0m | \u001b[0m-0.04226 \u001b[0m | \u001b[0m0.6343   \u001b[0m | \u001b[0m0.1396   \u001b[0m | \u001b[0m0.1141   \u001b[0m | \u001b[0m634.0    \u001b[0m |\n",
      "| \u001b[0m29       \u001b[0m | \u001b[0m-0.07463 \u001b[0m | \u001b[0m0.6899   \u001b[0m | \u001b[0m0.6846   \u001b[0m | \u001b[0m0.6874   \u001b[0m | \u001b[0m345.0    \u001b[0m |\n",
      "| \u001b[0m30       \u001b[0m | \u001b[0m-0.1942  \u001b[0m | \u001b[0m0.5079   \u001b[0m | \u001b[0m0.1486   \u001b[0m | \u001b[0m0.3773   \u001b[0m | \u001b[0m562.1    \u001b[0m |\n",
      "=========================================================================\n",
      "Final Result:  {'target': -0.030260286930059, 'params': {'C_age_': 0.5853360317592435, 'C_sex_': 0.1651508583115951, 'C_state_': 0.8145459281054448, 'num_components_': 541.4940392388362}}\n",
      "|   iter    |  target   |  C_age_   |  C_sex_   | C_state_  | num_co... |\n",
      "-------------------------------------------------------------------------\n"
     ]
    },
    {
     "name": "stderr",
     "output_type": "stream",
     "text": [
      "C:\\Users\\Cameron\\anaconda3\\lib\\site-packages\\sklearn\\linear_model\\_sag.py:350: ConvergenceWarning: The max_iter was reached which means the coef_ did not converge\n",
      "  warnings.warn(\n"
     ]
    },
    {
     "name": "stdout",
     "output_type": "stream",
     "text": [
      "| \u001b[0m1        \u001b[0m | \u001b[0m-0.01808 \u001b[0m | \u001b[0m0.8661   \u001b[0m | \u001b[0m0.3078   \u001b[0m | \u001b[0m0.8155   \u001b[0m | \u001b[0m253.5    \u001b[0m |\n"
     ]
    },
    {
     "name": "stderr",
     "output_type": "stream",
     "text": [
      "C:\\Users\\Cameron\\anaconda3\\lib\\site-packages\\sklearn\\linear_model\\_sag.py:350: ConvergenceWarning: The max_iter was reached which means the coef_ did not converge\n",
      "  warnings.warn(\n"
     ]
    },
    {
     "name": "stdout",
     "output_type": "stream",
     "text": [
      "| \u001b[0m2        \u001b[0m | \u001b[0m-0.04145 \u001b[0m | \u001b[0m0.8067   \u001b[0m | \u001b[0m0.7034   \u001b[0m | \u001b[0m0.01835  \u001b[0m | \u001b[0m341.2    \u001b[0m |\n",
      "| \u001b[0m3        \u001b[0m | \u001b[0m-0.132   \u001b[0m | \u001b[0m0.2013   \u001b[0m | \u001b[0m0.4947   \u001b[0m | \u001b[0m0.2976   \u001b[0m | \u001b[0m749.8    \u001b[0m |\n",
      "| \u001b[0m4        \u001b[0m | \u001b[0m-0.1534  \u001b[0m | \u001b[0m0.6772   \u001b[0m | \u001b[0m0.3474   \u001b[0m | \u001b[0m0.11     \u001b[0m | \u001b[0m743.9    \u001b[0m |\n",
      "| \u001b[0m5        \u001b[0m | \u001b[0m-0.1017  \u001b[0m | \u001b[0m0.3711   \u001b[0m | \u001b[0m0.1981   \u001b[0m | \u001b[0m0.9662   \u001b[0m | \u001b[0m360.8    \u001b[0m |\n",
      "| \u001b[0m6        \u001b[0m | \u001b[0m-0.0393  \u001b[0m | \u001b[0m0.4288   \u001b[0m | \u001b[0m0.2492   \u001b[0m | \u001b[0m0.4031   \u001b[0m | \u001b[0m264.3    \u001b[0m |\n",
      "| \u001b[0m7        \u001b[0m | \u001b[0m-0.1262  \u001b[0m | \u001b[0m0.06129  \u001b[0m | \u001b[0m0.4726   \u001b[0m | \u001b[0m0.003015 \u001b[0m | \u001b[0m237.9    \u001b[0m |\n",
      "| \u001b[0m8        \u001b[0m | \u001b[0m-0.04243 \u001b[0m | \u001b[0m0.008834 \u001b[0m | \u001b[0m0.1002   \u001b[0m | \u001b[0m0.9458   \u001b[0m | \u001b[0m257.5    \u001b[0m |\n",
      "| \u001b[0m9        \u001b[0m | \u001b[0m-0.0546  \u001b[0m | \u001b[0m0.5917   \u001b[0m | \u001b[0m0.9606   \u001b[0m | \u001b[0m0.09615  \u001b[0m | \u001b[0m249.8    \u001b[0m |\n"
     ]
    },
    {
     "name": "stderr",
     "output_type": "stream",
     "text": [
      "C:\\Users\\Cameron\\anaconda3\\lib\\site-packages\\sklearn\\linear_model\\_sag.py:350: ConvergenceWarning: The max_iter was reached which means the coef_ did not converge\n",
      "  warnings.warn(\n"
     ]
    },
    {
     "name": "stdout",
     "output_type": "stream",
     "text": [
      "| \u001b[0m10       \u001b[0m | \u001b[0m-0.08104 \u001b[0m | \u001b[0m0.8878   \u001b[0m | \u001b[0m0.7475   \u001b[0m | \u001b[0m0.007683 \u001b[0m | \u001b[0m271.9    \u001b[0m |\n"
     ]
    },
    {
     "name": "stderr",
     "output_type": "stream",
     "text": [
      "C:\\Users\\Cameron\\anaconda3\\lib\\site-packages\\sklearn\\linear_model\\_sag.py:350: ConvergenceWarning: The max_iter was reached which means the coef_ did not converge\n",
      "  warnings.warn(\n"
     ]
    },
    {
     "name": "stdout",
     "output_type": "stream",
     "text": [
      "| \u001b[0m11       \u001b[0m | \u001b[0m-0.09727 \u001b[0m | \u001b[0m1.0      \u001b[0m | \u001b[0m0.8243   \u001b[0m | \u001b[0m0.001    \u001b[0m | \u001b[0m333.7    \u001b[0m |\n"
     ]
    },
    {
     "name": "stderr",
     "output_type": "stream",
     "text": [
      "C:\\Users\\Cameron\\anaconda3\\lib\\site-packages\\sklearn\\linear_model\\_sag.py:350: ConvergenceWarning: The max_iter was reached which means the coef_ did not converge\n",
      "  warnings.warn(\n"
     ]
    },
    {
     "name": "stdout",
     "output_type": "stream",
     "text": [
      "| \u001b[0m12       \u001b[0m | \u001b[0m-0.07128 \u001b[0m | \u001b[0m0.7936   \u001b[0m | \u001b[0m0.9758   \u001b[0m | \u001b[0m0.9052   \u001b[0m | \u001b[0m347.0    \u001b[0m |\n"
     ]
    },
    {
     "name": "stderr",
     "output_type": "stream",
     "text": [
      "C:\\Users\\Cameron\\anaconda3\\lib\\site-packages\\sklearn\\linear_model\\_sag.py:350: ConvergenceWarning: The max_iter was reached which means the coef_ did not converge\n",
      "  warnings.warn(\n"
     ]
    },
    {
     "name": "stdout",
     "output_type": "stream",
     "text": [
      "| \u001b[0m13       \u001b[0m | \u001b[0m-0.1109  \u001b[0m | \u001b[0m0.9496   \u001b[0m | \u001b[0m0.1697   \u001b[0m | \u001b[0m0.547    \u001b[0m | \u001b[0m487.0    \u001b[0m |\n"
     ]
    },
    {
     "name": "stderr",
     "output_type": "stream",
     "text": [
      "C:\\Users\\Cameron\\anaconda3\\lib\\site-packages\\sklearn\\linear_model\\_sag.py:350: ConvergenceWarning: The max_iter was reached which means the coef_ did not converge\n",
      "  warnings.warn(\n"
     ]
    },
    {
     "name": "stdout",
     "output_type": "stream",
     "text": [
      "| \u001b[0m14       \u001b[0m | \u001b[0m-0.2929  \u001b[0m | \u001b[0m0.672    \u001b[0m | \u001b[0m0.7386   \u001b[0m | \u001b[0m0.9717   \u001b[0m | \u001b[0m594.1    \u001b[0m |\n",
      "| \u001b[0m15       \u001b[0m | \u001b[0m-0.1656  \u001b[0m | \u001b[0m0.6273   \u001b[0m | \u001b[0m0.8147   \u001b[0m | \u001b[0m0.8685   \u001b[0m | \u001b[0m420.9    \u001b[0m |\n",
      "| \u001b[0m16       \u001b[0m | \u001b[0m-0.2031  \u001b[0m | \u001b[0m0.2629   \u001b[0m | \u001b[0m0.05276  \u001b[0m | \u001b[0m0.009704 \u001b[0m | \u001b[0m671.5    \u001b[0m |\n"
     ]
    },
    {
     "name": "stderr",
     "output_type": "stream",
     "text": [
      "C:\\Users\\Cameron\\anaconda3\\lib\\site-packages\\sklearn\\linear_model\\_sag.py:350: ConvergenceWarning: The max_iter was reached which means the coef_ did not converge\n",
      "  warnings.warn(\n"
     ]
    },
    {
     "name": "stdout",
     "output_type": "stream",
     "text": [
      "| \u001b[0m17       \u001b[0m | \u001b[0m-0.3573  \u001b[0m | \u001b[0m0.02479  \u001b[0m | \u001b[0m0.5443   \u001b[0m | \u001b[0m0.9925   \u001b[0m | \u001b[0m783.4    \u001b[0m |\n",
      "| \u001b[0m18       \u001b[0m | \u001b[0m-0.1357  \u001b[0m | \u001b[0m0.001    \u001b[0m | \u001b[0m0.05617  \u001b[0m | \u001b[0m0.001    \u001b[0m | \u001b[0m382.4    \u001b[0m |\n",
      "| \u001b[0m19       \u001b[0m | \u001b[0m-0.08613 \u001b[0m | \u001b[0m0.2592   \u001b[0m | \u001b[0m0.5749   \u001b[0m | \u001b[0m0.05858  \u001b[0m | \u001b[0m512.3    \u001b[0m |\n",
      "| \u001b[0m20       \u001b[0m | \u001b[0m-0.07645 \u001b[0m | \u001b[0m0.2697   \u001b[0m | \u001b[0m0.7246   \u001b[0m | \u001b[0m0.4353   \u001b[0m | \u001b[0m529.8    \u001b[0m |\n",
      "| \u001b[0m21       \u001b[0m | \u001b[0m-0.06416 \u001b[0m | \u001b[0m0.447    \u001b[0m | \u001b[0m0.1434   \u001b[0m | \u001b[0m0.7866   \u001b[0m | \u001b[0m546.1    \u001b[0m |\n",
      "| \u001b[0m22       \u001b[0m | \u001b[0m-0.05014 \u001b[0m | \u001b[0m0.7206   \u001b[0m | \u001b[0m0.4769   \u001b[0m | \u001b[0m0.001    \u001b[0m | \u001b[0m559.2    \u001b[0m |\n",
      "| \u001b[0m23       \u001b[0m | \u001b[0m-0.1821  \u001b[0m | \u001b[0m0.6299   \u001b[0m | \u001b[0m0.1812   \u001b[0m | \u001b[0m0.589    \u001b[0m | \u001b[0m200.0    \u001b[0m |\n",
      "| \u001b[0m24       \u001b[0m | \u001b[0m-0.156   \u001b[0m | \u001b[0m0.2078   \u001b[0m | \u001b[0m0.2469   \u001b[0m | \u001b[0m0.2571   \u001b[0m | \u001b[0m461.1    \u001b[0m |\n"
     ]
    },
    {
     "name": "stderr",
     "output_type": "stream",
     "text": [
      "C:\\Users\\Cameron\\anaconda3\\lib\\site-packages\\sklearn\\linear_model\\_sag.py:350: ConvergenceWarning: The max_iter was reached which means the coef_ did not converge\n",
      "  warnings.warn(\n"
     ]
    },
    {
     "name": "stdout",
     "output_type": "stream",
     "text": [
      "| \u001b[0m25       \u001b[0m | \u001b[0m-0.0652  \u001b[0m | \u001b[0m0.794    \u001b[0m | \u001b[0m0.1962   \u001b[0m | \u001b[0m0.9237   \u001b[0m | \u001b[0m299.9    \u001b[0m |\n",
      "| \u001b[0m26       \u001b[0m | \u001b[0m-0.1112  \u001b[0m | \u001b[0m0.01016  \u001b[0m | \u001b[0m0.1719   \u001b[0m | \u001b[0m0.1465   \u001b[0m | \u001b[0m311.7    \u001b[0m |\n"
     ]
    },
    {
     "name": "stderr",
     "output_type": "stream",
     "text": [
      "C:\\Users\\Cameron\\anaconda3\\lib\\site-packages\\sklearn\\linear_model\\_sag.py:350: ConvergenceWarning: The max_iter was reached which means the coef_ did not converge\n",
      "  warnings.warn(\n"
     ]
    },
    {
     "name": "stdout",
     "output_type": "stream",
     "text": [
      "| \u001b[0m27       \u001b[0m | \u001b[0m-0.5371  \u001b[0m | \u001b[0m0.001    \u001b[0m | \u001b[0m0.001    \u001b[0m | \u001b[0m1.0      \u001b[0m | \u001b[0m289.0    \u001b[0m |\n"
     ]
    },
    {
     "name": "stderr",
     "output_type": "stream",
     "text": [
      "C:\\Users\\Cameron\\anaconda3\\lib\\site-packages\\sklearn\\linear_model\\_sag.py:350: ConvergenceWarning: The max_iter was reached which means the coef_ did not converge\n",
      "  warnings.warn(\n",
      "C:\\Users\\Cameron\\anaconda3\\lib\\site-packages\\sklearn\\linear_model\\_sag.py:350: ConvergenceWarning: The max_iter was reached which means the coef_ did not converge\n",
      "  warnings.warn(\n"
     ]
    },
    {
     "name": "stdout",
     "output_type": "stream",
     "text": [
      "| \u001b[0m28       \u001b[0m | \u001b[0m-0.1235  \u001b[0m | \u001b[0m0.8071   \u001b[0m | \u001b[0m0.8574   \u001b[0m | \u001b[0m0.9754   \u001b[0m | \u001b[0m304.2    \u001b[0m |\n",
      "| \u001b[0m29       \u001b[0m | \u001b[0m-0.09232 \u001b[0m | \u001b[0m0.3131   \u001b[0m | \u001b[0m0.6671   \u001b[0m | \u001b[0m0.8614   \u001b[0m | \u001b[0m553.1    \u001b[0m |\n",
      "| \u001b[0m30       \u001b[0m | \u001b[0m-0.1061  \u001b[0m | \u001b[0m0.1508   \u001b[0m | \u001b[0m0.401    \u001b[0m | \u001b[0m0.1019   \u001b[0m | \u001b[0m538.5    \u001b[0m |\n",
      "=========================================================================\n",
      "Final Result:  {'target': -0.018082189164369183, 'params': {'C_age_': 0.8660559210897837, 'C_sex_': 0.30776040317146436, 'C_state_': 0.8154757090152275, 'num_components_': 253.457271051029}}\n"
     ]
    }
   ],
   "source": [
    "optimization_results = [optimize_models_mn(train_data=train_data, number_synthetic_datasets=nsd, number_gmm_initializations=ngi, random_state=r) for r in random_states]"
   ]
  },
  {
   "cell_type": "code",
   "execution_count": 21,
   "id": "ea0b7024",
   "metadata": {},
   "outputs": [],
   "source": [
    "run_targets = [np.minimum.accumulate(-i[1].space.target) for i in optimization_results]"
   ]
  },
  {
   "cell_type": "code",
   "execution_count": 22,
   "id": "f4225965",
   "metadata": {},
   "outputs": [
    {
     "data": {
      "image/png": "[encoded data removed]",
      "text/plain": [
       "<Figure size 640x480 with 1 Axes>"
      ]
     },
     "metadata": {},
     "output_type": "display_data"
    }
   ],
   "source": [
    "plt.plot(run_targets[0])\n",
    "plt.scatter(np.arange(len(run_targets[0])), run_targets[0], s=6)\n",
    "plt.plot(run_targets[1])\n",
    "plt.scatter(np.arange(len(run_targets[1])), run_targets[1], s=6)\n",
    "plt.plot(run_targets[2])\n",
    "plt.scatter(np.arange(len(run_targets[2])), run_targets[2], s=6)\n",
    "plt.plot(run_targets[3])\n",
    "plt.scatter(np.arange(len(run_targets[3])), run_targets[3], s=6)\n",
    "plt.plot(run_targets[4])\n",
    "plt.scatter(np.arange(len(run_targets[4])), run_targets[4], s=6)\n",
    "plt.title(\"Running Minimum Objective Value for MNL Synthesis\")\n",
    "plt.show()"
   ]
  },
  {
   "cell_type": "markdown",
   "id": "34094ad9",
   "metadata": {},
   "source": [
    "Choose the params that gave the best objective value across all random seeds."
   ]
  },
  {
   "cell_type": "code",
   "execution_count": 23,
   "id": "81eccd8d",
   "metadata": {},
   "outputs": [],
   "source": [
    "best_params = optimization_results[np.argmax([x[0]['target'] for x in optimization_results])][0]"
   ]
  },
  {
   "cell_type": "code",
   "execution_count": 24,
   "id": "dbab5ac5",
   "metadata": {},
   "outputs": [
    {
     "data": {
      "text/plain": [
       "{'target': -0.005235904319304478,\n",
       " 'params': {'C_age_': 0.21649159563989606,\n",
       "  'C_sex_': 0.5257502535571056,\n",
       "  'C_state_': 0.5643219262073985,\n",
       "  'num_components_': 355.93257315595804}}"
      ]
     },
     "execution_count": 24,
     "metadata": {},
     "output_type": "execute_result"
    }
   ],
   "source": [
    "best_params"
   ]
  },
  {
   "cell_type": "markdown",
   "id": "cea1e3fa",
   "metadata": {},
   "source": [
    "Generate 20 synthetic data sets."
   ]
  },
  {
   "cell_type": "code",
   "execution_count": 25,
   "id": "643fb518",
   "metadata": {},
   "outputs": [],
   "source": [
    "full_ratios, full_sXs, GMM = train_models_mn(train_data=train_data,\n",
    "                                             number_synthetic_datasets=20,\n",
    "                                             # hyperparameters for GMM\n",
    "                                             number_gmm_initializations=ngi,\n",
    "                                             num_components_=int(best_params['params']['num_components_']),\n",
    "                                             # hyperparameters for CART, end with underscore means Bayesian optimization will choose\n",
    "                                             C_sex_=best_params['params']['C_sex_'],\n",
    "                                             C_age_=best_params['params']['C_age_'],\n",
    "                                             C_state_=best_params['params']['C_state_'])"
   ]
  },
  {
   "cell_type": "code",
   "execution_count": 26,
   "id": "694c3a3e",
   "metadata": {},
   "outputs": [
    {
     "data": {
      "text/plain": [
       "0.07221273888365107"
      ]
     },
     "execution_count": 26,
     "metadata": {},
     "output_type": "execute_result"
    }
   ],
   "source": [
    "(1 - np.mean(full_ratios))**2"
   ]
  },
  {
   "cell_type": "code",
   "execution_count": 27,
   "id": "b24598f6",
   "metadata": {},
   "outputs": [
    {
     "data": {
      "text/plain": [
       "1.2687242804133096"
      ]
     },
     "execution_count": 27,
     "metadata": {},
     "output_type": "execute_result"
    }
   ],
   "source": [
    "np.mean(full_ratios)"
   ]
  },
  {
   "cell_type": "code",
   "execution_count": 28,
   "id": "5ea8b232",
   "metadata": {},
   "outputs": [
    {
     "data": {
      "image/png": "[encoded data removed]",
      "text/plain": [
       "<Figure size 640x480 with 1 Axes>"
      ]
     },
     "metadata": {},
     "output_type": "display_data"
    }
   ],
   "source": [
    "plt.violinplot(full_ratios)\n",
    "plt.xlabel(\"Density\")\n",
    "plt.ylabel(\"pMSE Ratio\")\n",
    "plt.title(\"Distribution of pMSE Ratios\")\n",
    "plt.show()"
   ]
  },
  {
   "cell_type": "markdown",
   "id": "c7c4b464",
   "metadata": {},
   "source": [
    "# Save the synthetic datasets."
   ]
  },
  {
   "cell_type": "code",
   "execution_count": 29,
   "id": "5696e166",
   "metadata": {},
   "outputs": [],
   "source": [
    "for i, sX in enumerate(full_sXs):\n",
    "    sX.to_csv(\"Data/synthetic_datasets/logistic_cart_synthetic_dataset_\" + str(i) + \".csv\", index=False)"
   ]
  },
  {
   "cell_type": "markdown",
   "id": "58cacd36",
   "metadata": {},
   "source": [
    "***"
   ]
  }
 ],
 "metadata": {
  "kernelspec": {
   "display_name": "Python 3 (ipykernel)",
   "language": "python",
   "name": "python3"
  },
  "language_info": {
   "codemirror_mode": {
    "name": "ipython",
    "version": 3
   },
   "file_extension": ".py",
   "mimetype": "text/x-python",
   "name": "python",
   "nbconvert_exporter": "python",
   "pygments_lexer": "ipython3",
   "version": "3.10.9"
  }
 },
 "nbformat": 4,
 "nbformat_minor": 5
}
