{
 "cells": [
  {
   "cell_type": "markdown",
   "id": "96f48262",
   "metadata": {},
   "source": [
    "# Full Synthesis Testing"
   ]
  },
  {
   "cell_type": "code",
   "execution_count": 1,
   "id": "2d3f5c21",
   "metadata": {},
   "outputs": [],
   "source": [
    "import pandas as pd\n",
    "import numpy as np\n",
    "from numpy.random import default_rng\n",
    "from sklearn.mixture import GaussianMixture\n",
    "from scipy.spatial import cKDTree\n",
    "import matplotlib.pyplot as plt\n",
    "import seaborn as sns\n",
    "import itertools\n",
    "\n",
    "from sklearn import preprocessing\n",
    "\n",
    "from sklearn.tree import DecisionTreeClassifier\n",
    "\n",
    "import itertools\n",
    "\n",
    "from bayes_opt import BayesianOptimization\n",
    "\n",
    "from sklearn.linear_model import LogisticRegression\n",
    "from sklearn.preprocessing import PolynomialFeatures\n",
    "\n",
    "from bayesian_bootstrap import bayesian_bootstrap\n",
    "\n",
    "rng = np.random.RandomState(42)"
   ]
  },
  {
   "cell_type": "markdown",
   "id": "57505dd1",
   "metadata": {},
   "source": [
    "Steps for CART estimation of pmse ratio.\n",
    "\n",
    "* calculate the pMSE between pairs of synthetic data sets generated from the same original data\n",
    "* the pairs can be used to estimate the expected pMSE even when the synthesizing model is incorrect since both data are drawn from the same distribution\n",
    "* for most large complex data sets, synthesized by CART models, the expected pMSE from pairs will be close to, or slightly lower than the null pMSE"
   ]
  },
  {
   "cell_type": "code",
   "execution_count": 2,
   "id": "d99f450e",
   "metadata": {},
   "outputs": [],
   "source": [
    "def cart_pmse_ratio(original_data, synthetic_data_sets):\n",
    "    \n",
    "    ### get pmse measures for synthetic data set pairs\n",
    "    \n",
    "    null_pmse_list = []\n",
    "    \n",
    "    inds = np.arange(len(synthetic_data_sets))\n",
    "    \n",
    "    combo_list = list(itertools.combinations(inds, 2))\n",
    "    \n",
    "    for combo in combo_list:\n",
    "    \n",
    "        s1 = synthetic_data_sets[combo[0]]\n",
    "        s2 = synthetic_data_sets[combo[1]]\n",
    "    \n",
    "        N_orig = s1.shape[0]\n",
    "        N_synth = s2.shape[0]\n",
    "    \n",
    "        c = N_synth/(N_synth+N_orig)\n",
    "    \n",
    "        full_X = pd.concat([s1, s2], axis=0).reset_index(drop=True)\n",
    "    \n",
    "        full_X = preprocessing.StandardScaler().fit_transform(full_X)\n",
    "\n",
    "        y = np.repeat([0, 1], repeats=[N_orig, N_synth])\n",
    "    \n",
    "        cart = DecisionTreeClassifier(min_samples_split=20,\n",
    "                                      min_samples_leaf=int(np.round(20/3)),\n",
    "                                      ccp_alpha=0.0001,\n",
    "                                      max_depth=30)\n",
    "    \n",
    "        cart.fit(X=full_X, y=y)\n",
    "    \n",
    "        probs = cart.predict_proba(full_X)\n",
    "    \n",
    "        pMSE = 1/(N_synth + N_orig) * np.sum((probs[:,1] - c)**2)\n",
    "        \n",
    "        null_pmse_list.append(pMSE)\n",
    "    \n",
    "    pmse_list = []\n",
    "    \n",
    "    for s in synthetic_data_sets:\n",
    "    \n",
    "        N_orig = original_data.shape[0]\n",
    "        N_synth = s.shape[0]\n",
    "    \n",
    "        c = N_synth/(N_synth+N_orig)\n",
    "    \n",
    "        full_X = pd.concat([original_data, s], axis=0).reset_index(drop=True)\n",
    "    \n",
    "        full_X = preprocessing.StandardScaler().fit_transform(full_X)\n",
    "\n",
    "        y = np.repeat([0, 1], repeats=[N_orig, N_synth])\n",
    "    \n",
    "        cart = DecisionTreeClassifier(min_samples_split=20,\n",
    "                                      min_samples_leaf=int(np.round(20/3)),\n",
    "                                      ccp_alpha=0.0001,\n",
    "                                      max_depth=30)\n",
    "    \n",
    "        cart.fit(X=full_X, y=y)\n",
    "    \n",
    "        probs = cart.predict_proba(full_X)\n",
    "    \n",
    "        pMSE = 1/(N_synth + N_orig) * np.sum((probs[:,1] - c)**2)\n",
    "        \n",
    "        pmse_list.append(pMSE)\n",
    "    \n",
    "    return np.array(pmse_list)/(np.mean(null_pmse_list))"
   ]
  },
  {
   "cell_type": "code",
   "execution_count": 3,
   "id": "a07ad9ba",
   "metadata": {},
   "outputs": [],
   "source": [
    "def pmse_ratio(original_data, synthetic_data):\n",
    "    \n",
    "    N_synth = synthetic_data.shape[0]\n",
    "    N_orig = original_data.shape[0]\n",
    "    \n",
    "    # combine original and synthetic datasets\n",
    "    full_X = pd.concat([original_data, synthetic_data], axis=0).reset_index(drop=True)\n",
    "    \n",
    "    full_X[\"age\"] = full_X[\"age\"].astype('category')\n",
    "    \n",
    "    age_dummies = pd.get_dummies(full_X['age'], drop_first=True)\n",
    "    \n",
    "    age_dummies.columns = [str(x) for x in age_dummies.columns]\n",
    "    \n",
    "    full_X = full_X.drop(\"age\", axis=1)\n",
    "    \n",
    "    full_X = pd.concat([full_X, age_dummies], axis=1)\n",
    "    \n",
    "    # generate interactions and powers of variables\n",
    "    poly = PolynomialFeatures(2, interaction_only=True, include_bias=False)\n",
    "    \n",
    "    full_X = poly.fit_transform(full_X)\n",
    "    \n",
    "    full_X = full_X[:,:-36]\n",
    "\n",
    "    # scale the combined dataset\n",
    "    full_X = preprocessing.StandardScaler().fit_transform(full_X)\n",
    "    \n",
    "    c = N_synth/(N_synth+N_orig)\n",
    "\n",
    "    y = np.repeat([0, 1], repeats=[N_orig, N_synth])\n",
    "    \n",
    "    pMSE_model = LogisticRegression(penalty='none', max_iter=1000).fit(full_X, y)\n",
    "    \n",
    "    probs = pMSE_model.predict_proba(full_X)\n",
    "    \n",
    "    pMSE = 1/(N_synth+N_orig) * np.sum((probs[:,1] - c)**2)\n",
    "    \n",
    "    e_pMSE = 2*(full_X.shape[1])*(1-c)**2 * c/(N_synth+N_orig)\n",
    "        \n",
    "    return pMSE/e_pMSE"
   ]
  },
  {
   "cell_type": "markdown",
   "id": "76a8ccbc",
   "metadata": {},
   "source": [
    "Import the data."
   ]
  },
  {
   "cell_type": "code",
   "execution_count": 4,
   "id": "730c2f2e",
   "metadata": {},
   "outputs": [],
   "source": [
    "# import standardized lat/long location data\n",
    "train_data = pd.read_csv(\"Data/synthetic_datasets/synthetic_holdouts/train_dataset.csv\")"
   ]
  },
  {
   "cell_type": "markdown",
   "id": "6f62abff",
   "metadata": {},
   "source": [
    "***"
   ]
  },
  {
   "cell_type": "markdown",
   "id": "5b8a741f",
   "metadata": {},
   "source": [
    "# Full Sequential Synthesis Driven by Bayesian Optimization"
   ]
  },
  {
   "cell_type": "markdown",
   "id": "8169fec7",
   "metadata": {},
   "source": [
    "Function to be used in Bayesian bootstrap."
   ]
  },
  {
   "cell_type": "code",
   "execution_count": 5,
   "id": "e80a8660",
   "metadata": {},
   "outputs": [],
   "source": [
    "def stat(x):\n",
    "    return x"
   ]
  },
  {
   "cell_type": "markdown",
   "id": "3a1688b8",
   "metadata": {},
   "source": [
    "Write function to train all models and generate the synthetic dataset, then evaluate the pMSE ratio."
   ]
  },
  {
   "cell_type": "code",
   "execution_count": 6,
   "id": "ab5f897a",
   "metadata": {},
   "outputs": [],
   "source": [
    "def train_models(#overall parameters\n",
    "                 train_data,\n",
    "                 number_synthetic_datasets,\n",
    "                 # hyperparameters for GMM, end with underscore means Bayesian optimization will choose\n",
    "                 number_gmm_initializations,\n",
    "                 num_components_,\n",
    "                 # hyperparameters for CART, end with underscore means Bayesian optimization will choose\n",
    "                 ccp_alpha_sex_,\n",
    "                 ccp_alpha_age_,\n",
    "                 ccp_alpha_state_):\n",
    "    \n",
    "    num_samples = train_data.shape[0]\n",
    "    \n",
    "    ########## Code for GMM ############\n",
    "    \n",
    "    # fit GMM model\n",
    "    GMM = GaussianMixture(num_components_, n_init=number_gmm_initializations, init_params=\"k-means++\", random_state=rng).fit(train_data.loc[:,[\"latitude\", \"longitude\"]])\n",
    "    \n",
    "    # list for synthetic datasets\n",
    "    sXs = []\n",
    "    \n",
    "    # generate and store number_synthetic_datasets synthetic datasets\n",
    "    for i in range(number_synthetic_datasets):\n",
    "        sX = GMM.sample(num_samples)[0]\n",
    "        sX = pd.DataFrame(sX)\n",
    "        sX.columns = ['latitude', 'longitude']\n",
    "        sXs.append(sX)\n",
    "        \n",
    "    ####################################################################################################\n",
    "        \n",
    "    ########### Code for sex CART ##########\n",
    "    \n",
    "    cart_sex = DecisionTreeClassifier(ccp_alpha=ccp_alpha_sex_, random_state=rng)\n",
    "    \n",
    "    cart_sex.fit(X=train_data.loc[:,[\"latitude\", \"longitude\"]], y=train_data.loc[:,\"sex\"])\n",
    "    \n",
    "    node_indicators = cart_sex.decision_path(train_data.loc[:,[\"latitude\", \"longitude\"]]).toarray()\n",
    "    \n",
    "    node_outcomes = [train_data.sex[node_indicators[:,x]==1] for x in np.arange(node_indicators.shape[1])]\n",
    "    \n",
    "    # sample values according to a Bayesian bootstrap\n",
    "    \n",
    "    for i in range(number_synthetic_datasets):\n",
    "        \n",
    "        bst_vals = [bayesian_bootstrap(X=np.array(x), \n",
    "                                       statistic=stat,\n",
    "                                       n_replications=1,\n",
    "                                       resample_size=len(x))[0] for x in node_outcomes]\n",
    "    \n",
    "        probs = [[np.sum(x==y)/len(y) for x in np.unique(train_data.sex)] for y in bst_vals]\n",
    "        \n",
    "        synth_leaves = cart_sex.apply(sXs[i].loc[:,[\"latitude\", \"longitude\"]])\n",
    "        \n",
    "        new_sex = np.zeros(len(synth_leaves), dtype=int)\n",
    "        \n",
    "        for j, x in enumerate(np.arange(node_indicators.shape[1])):\n",
    "            \n",
    "            new_sex[synth_leaves==x] = np.random.binomial(n=1, p=probs[j][1], size=np.sum(synth_leaves==x))\n",
    "        \n",
    "        new_sex = pd.Series(new_sex)\n",
    "        \n",
    "        new_sex.name = \"sex\"\n",
    "        \n",
    "        sXs[i] = pd.concat([sXs[i], new_sex], axis=1)\n",
    "        \n",
    "    ####################################################################################################\n",
    "        \n",
    "    ########### Code for age CART ##########\n",
    "    cart_age = DecisionTreeClassifier(ccp_alpha=ccp_alpha_age_, random_state=rng)\n",
    "    \n",
    "    cart_age.fit(X=train_data.loc[:,[\"latitude\", \"longitude\", \"sex\"]], y=train_data.loc[:,\"age\"])\n",
    "    \n",
    "    node_indicators = cart_age.decision_path(train_data.loc[:,[\"latitude\", \"longitude\", \"sex\"]]).toarray()\n",
    "    \n",
    "    node_outcomes = [train_data.age[node_indicators[:,x]==1] for x in np.arange(node_indicators.shape[1])]\n",
    "    \n",
    "    # sample values according to a Bayesian bootstrap\n",
    "    \n",
    "    for i in range(number_synthetic_datasets):\n",
    "        \n",
    "        bst_vals = [bayesian_bootstrap(X=np.array(x), \n",
    "                                       statistic=stat,\n",
    "                                       n_replications=1,\n",
    "                                       resample_size=len(x))[0] for x in node_outcomes]\n",
    "    \n",
    "        probs = [[np.sum(x==y)/len(y) for x in np.unique(train_data.age)] for y in bst_vals]\n",
    "        \n",
    "        synth_leaves = cart_age.apply(sXs[i].loc[:,[\"latitude\", \"longitude\", \"sex\"]])\n",
    "        \n",
    "        new_age = np.zeros(len(synth_leaves), dtype=int)\n",
    "        \n",
    "        for j, x in enumerate(np.arange(node_indicators.shape[1])):\n",
    "            \n",
    "            draws = np.random.multinomial(n=1, pvals=probs[j], size=np.sum(synth_leaves==x))\n",
    "            \n",
    "            draws = np.argmax(draws, axis=1)\n",
    "            \n",
    "            new_age[synth_leaves==x] = draws\n",
    "        \n",
    "        new_age = pd.Series(new_age)\n",
    "        \n",
    "        new_age.name = \"age\"\n",
    "        \n",
    "        sXs[i] = pd.concat([sXs[i], new_age], axis=1)\n",
    "        \n",
    "    ####################################################################################################\n",
    "    \n",
    "    ########### Code for state CART ##########\n",
    "    \n",
    "    cart_state = DecisionTreeClassifier(ccp_alpha=ccp_alpha_state_, random_state=rng)\n",
    "    \n",
    "    cart_state.fit(X=train_data.loc[:,[\"latitude\", \"longitude\", \"sex\", \"age\"]], y=train_data.loc[:,\"state\"])\n",
    "    \n",
    "    node_indicators = cart_state.decision_path(train_data.loc[:,[\"latitude\", \"longitude\", \"sex\", \"age\"]]).toarray()\n",
    "    \n",
    "    node_outcomes = [train_data.state[node_indicators[:,x]==1] for x in np.arange(node_indicators.shape[1])]\n",
    "    \n",
    "    # sample values according to a Bayesian bootstrap\n",
    "    \n",
    "    for i in range(number_synthetic_datasets):\n",
    "        \n",
    "        bst_vals = [bayesian_bootstrap(X=np.array(x), \n",
    "                                       statistic=stat,\n",
    "                                       n_replications=1,\n",
    "                                       resample_size=len(x))[0] for x in node_outcomes]\n",
    "    \n",
    "        probs = [[np.sum(x==y)/len(y) for x in np.unique(train_data.state)] for y in bst_vals]\n",
    "        \n",
    "        synth_leaves = cart_state.apply(sXs[i].loc[:,[\"latitude\", \"longitude\", \"sex\", \"age\"]])\n",
    "        \n",
    "        new_state = np.zeros(len(synth_leaves), dtype=int)\n",
    "        \n",
    "        for j, x in enumerate(np.arange(node_indicators.shape[1])):\n",
    "            \n",
    "            new_state[synth_leaves==x] = np.random.binomial(n=1, p=probs[j][1], size=np.sum(synth_leaves==x))\n",
    "        \n",
    "        new_state = pd.Series(new_state)\n",
    "        \n",
    "        new_state.name = \"state\"\n",
    "        \n",
    "        sXs[i] = pd.concat([sXs[i], new_state], axis=1)\n",
    "        \n",
    "    ###### Calculate pMSE ratios ######\n",
    "    # pmse_ratios = [pmse_ratio(train_data, Y) for Y in sXs]\n",
    "    pmse_ratios = cart_pmse_ratio(train_data, sXs)\n",
    "    \n",
    "    return pmse_ratios, sXs, GMM, cart_sex, cart_age, cart_state"
   ]
  },
  {
   "cell_type": "code",
   "execution_count": 7,
   "id": "796d2f96",
   "metadata": {},
   "outputs": [],
   "source": [
    "def optimize_models(train_data,\n",
    "                    number_synthetic_datasets,\n",
    "                    number_gmm_initializations,\n",
    "                    random_state):\n",
    "\n",
    "    def evaluate_models(num_components_, ccp_alpha_sex_, ccp_alpha_age_, ccp_alpha_state_):\n",
    "\n",
    "        pmse_ratios, _, _, _, _, _ = train_models(train_data=train_data,\n",
    "                                                  number_synthetic_datasets=number_synthetic_datasets,\n",
    "                                                  number_gmm_initializations=number_gmm_initializations,\n",
    "                                                  num_components_=int(num_components_),\n",
    "                                                  ccp_alpha_sex_=ccp_alpha_sex_,\n",
    "                                                  ccp_alpha_age_=ccp_alpha_age_,\n",
    "                                                  ccp_alpha_state_=ccp_alpha_state_)\n",
    "\n",
    "        return -1 * ((1 - np.mean(pmse_ratios))**2)\n",
    "\n",
    "    optimizer = BayesianOptimization(\n",
    "        f=evaluate_models,\n",
    "        pbounds={\n",
    "            \"num_components_\": (200, 800.99),\n",
    "            \"ccp_alpha_sex_\": (1e-9, 1e-1),\n",
    "            \"ccp_alpha_age_\": (1e-9, 1e-1),\n",
    "            \"ccp_alpha_state_\": (1e-9, 1e-1)\n",
    "        },\n",
    "        random_state=random_state)\n",
    "\n",
    "    optimizer.maximize(acq='ei', xi=1e-2)\n",
    "    print(\"Final Result: \", optimizer.max)\n",
    "    return optimizer.max, optimizer"
   ]
  },
  {
   "cell_type": "code",
   "execution_count": 8,
   "id": "15d5ded7",
   "metadata": {},
   "outputs": [],
   "source": [
    "nsd = 20\n",
    "ngi = 5\n",
    "random_states = [np.random.RandomState(1234), np.random.RandomState(4321), np.random.RandomState(10620), np.random.RandomState(91695), np.random.RandomState(31296)]\n",
    "# random_states = [np.random.RandomState(1234)]"
   ]
  },
  {
   "cell_type": "code",
   "execution_count": 9,
   "id": "fe01e70f",
   "metadata": {},
   "outputs": [
    {
     "name": "stdout",
     "output_type": "stream",
     "text": [
      "|   iter    |  target   | ccp_al... | ccp_al... | ccp_al... | num_co... |\n",
      "-------------------------------------------------------------------------\n",
      "| \u001b[0m 1       \u001b[0m | \u001b[0m-0.4952  \u001b[0m | \u001b[0m 0.01915 \u001b[0m | \u001b[0m 0.06221 \u001b[0m | \u001b[0m 0.04377 \u001b[0m | \u001b[0m 672.0   \u001b[0m |\n",
      "| \u001b[95m 2       \u001b[0m | \u001b[95m-0.3631  \u001b[0m | \u001b[95m 0.078   \u001b[0m | \u001b[95m 0.02726 \u001b[0m | \u001b[95m 0.02765 \u001b[0m | \u001b[95m 681.9   \u001b[0m |\n",
      "| \u001b[95m 3       \u001b[0m | \u001b[95m-0.3495  \u001b[0m | \u001b[95m 0.09581 \u001b[0m | \u001b[95m 0.08759 \u001b[0m | \u001b[95m 0.03578 \u001b[0m | \u001b[95m 501.1   \u001b[0m |\n",
      "| \u001b[95m 4       \u001b[0m | \u001b[95m-0.2763  \u001b[0m | \u001b[95m 0.06835 \u001b[0m | \u001b[95m 0.07127 \u001b[0m | \u001b[95m 0.03703 \u001b[0m | \u001b[95m 537.3   \u001b[0m |\n",
      "| \u001b[0m 5       \u001b[0m | \u001b[0m-0.3067  \u001b[0m | \u001b[0m 0.05031 \u001b[0m | \u001b[0m 0.001377\u001b[0m | \u001b[0m 0.07728 \u001b[0m | \u001b[0m 730.5   \u001b[0m |\n",
      "| \u001b[95m 6       \u001b[0m | \u001b[95m-0.2698  \u001b[0m | \u001b[95m 0.05762 \u001b[0m | \u001b[95m 0.0132  \u001b[0m | \u001b[95m 0.009579\u001b[0m | \u001b[95m 536.5   \u001b[0m |\n",
      "| \u001b[0m 7       \u001b[0m | \u001b[0m-0.4019  \u001b[0m | \u001b[0m 0.05967 \u001b[0m | \u001b[0m 0.06796 \u001b[0m | \u001b[0m 0.09821 \u001b[0m | \u001b[0m 529.8   \u001b[0m |\n",
      "| \u001b[0m 8       \u001b[0m | \u001b[0m-0.3763  \u001b[0m | \u001b[0m 0.04304 \u001b[0m | \u001b[0m 0.07924 \u001b[0m | \u001b[0m 0.09365 \u001b[0m | \u001b[0m 725.1   \u001b[0m |\n",
      "| \u001b[0m 9       \u001b[0m | \u001b[0m-0.3631  \u001b[0m | \u001b[0m 0.09207 \u001b[0m | \u001b[0m 0.04771 \u001b[0m | \u001b[0m 0.09493 \u001b[0m | \u001b[0m 735.0   \u001b[0m |\n",
      "| \u001b[0m 10      \u001b[0m | \u001b[0m-0.3659  \u001b[0m | \u001b[0m 0.04677 \u001b[0m | \u001b[0m 0.007072\u001b[0m | \u001b[0m 0.05447 \u001b[0m | \u001b[0m 542.6   \u001b[0m |\n",
      "| \u001b[0m 11      \u001b[0m | \u001b[0m-0.3376  \u001b[0m | \u001b[0m 0.07474 \u001b[0m | \u001b[0m 0.09917 \u001b[0m | \u001b[0m 0.02618 \u001b[0m | \u001b[0m 492.4   \u001b[0m |\n",
      "| \u001b[95m 12      \u001b[0m | \u001b[95m-0.1239  \u001b[0m | \u001b[95m 1e-09   \u001b[0m | \u001b[95m 0.1     \u001b[0m | \u001b[95m 0.1     \u001b[0m | \u001b[95m 534.6   \u001b[0m |\n",
      "| \u001b[0m 13      \u001b[0m | \u001b[0m-0.4994  \u001b[0m | \u001b[0m 0.07915 \u001b[0m | \u001b[0m 0.08059 \u001b[0m | \u001b[0m 0.007192\u001b[0m | \u001b[0m 534.0   \u001b[0m |\n",
      "| \u001b[0m 14      \u001b[0m | \u001b[0m-0.4183  \u001b[0m | \u001b[0m 0.0894  \u001b[0m | \u001b[0m 0.06654 \u001b[0m | \u001b[0m 0.04332 \u001b[0m | \u001b[0m 725.7   \u001b[0m |\n",
      "| \u001b[0m 15      \u001b[0m | \u001b[0m-0.4134  \u001b[0m | \u001b[0m 0.04984 \u001b[0m | \u001b[0m 0.04475 \u001b[0m | \u001b[0m 0.01817 \u001b[0m | \u001b[0m 746.1   \u001b[0m |\n",
      "| \u001b[0m 16      \u001b[0m | \u001b[0m-0.3912  \u001b[0m | \u001b[0m 0.09615 \u001b[0m | \u001b[0m 0.02918 \u001b[0m | \u001b[0m 0.03228 \u001b[0m | \u001b[0m 558.0   \u001b[0m |\n",
      "| \u001b[0m 17      \u001b[0m | \u001b[0m-0.4668  \u001b[0m | \u001b[0m 0.08954 \u001b[0m | \u001b[0m 0.08984 \u001b[0m | \u001b[0m 0.0993  \u001b[0m | \u001b[0m 596.1   \u001b[0m |\n",
      "| \u001b[0m 18      \u001b[0m | \u001b[0m-0.4024  \u001b[0m | \u001b[0m 0.02369 \u001b[0m | \u001b[0m 0.06629 \u001b[0m | \u001b[0m 0.000251\u001b[0m | \u001b[0m 688.6   \u001b[0m |\n",
      "| \u001b[0m 19      \u001b[0m | \u001b[0m-0.3332  \u001b[0m | \u001b[0m 0.03125 \u001b[0m | \u001b[0m 0.09324 \u001b[0m | \u001b[0m 0.06334 \u001b[0m | \u001b[0m 283.8   \u001b[0m |\n",
      "| \u001b[0m 20      \u001b[0m | \u001b[0m-0.3267  \u001b[0m | \u001b[0m 0.09792 \u001b[0m | \u001b[0m 0.09667 \u001b[0m | \u001b[0m 0.08902 \u001b[0m | \u001b[0m 650.3   \u001b[0m |\n",
      "| \u001b[0m 21      \u001b[0m | \u001b[0m-0.422   \u001b[0m | \u001b[0m 0.05027 \u001b[0m | \u001b[0m 0.01137 \u001b[0m | \u001b[0m 0.08054 \u001b[0m | \u001b[0m 683.9   \u001b[0m |\n",
      "| \u001b[0m 22      \u001b[0m | \u001b[0m-0.3961  \u001b[0m | \u001b[0m 0.01849 \u001b[0m | \u001b[0m 0.09013 \u001b[0m | \u001b[0m 0.09542 \u001b[0m | \u001b[0m 571.6   \u001b[0m |\n",
      "| \u001b[0m 23      \u001b[0m | \u001b[0m-0.3892  \u001b[0m | \u001b[0m 0.07538 \u001b[0m | \u001b[0m 0.04814 \u001b[0m | \u001b[0m 0.07478 \u001b[0m | \u001b[0m 623.2   \u001b[0m |\n",
      "| \u001b[0m 24      \u001b[0m | \u001b[0m-0.24    \u001b[0m | \u001b[0m 0.01262 \u001b[0m | \u001b[0m 0.01212 \u001b[0m | \u001b[0m 0.08521 \u001b[0m | \u001b[0m 456.2   \u001b[0m |\n",
      "| \u001b[95m 25      \u001b[0m | \u001b[95m-0.01799 \u001b[0m | \u001b[95m 0.000396\u001b[0m | \u001b[95m 0.06286 \u001b[0m | \u001b[95m 0.02224 \u001b[0m | \u001b[95m 620.8   \u001b[0m |\n",
      "| \u001b[0m 26      \u001b[0m | \u001b[0m-0.5017  \u001b[0m | \u001b[0m 0.08434 \u001b[0m | \u001b[0m 0.07552 \u001b[0m | \u001b[0m 0.02176 \u001b[0m | \u001b[0m 350.2   \u001b[0m |\n",
      "| \u001b[0m 27      \u001b[0m | \u001b[0m-0.3108  \u001b[0m | \u001b[0m 0.03822 \u001b[0m | \u001b[0m 0.09658 \u001b[0m | \u001b[0m 0.05695 \u001b[0m | \u001b[0m 600.3   \u001b[0m |\n",
      "| \u001b[0m 28      \u001b[0m | \u001b[0m-0.3471  \u001b[0m | \u001b[0m 0.06638 \u001b[0m | \u001b[0m 0.02073 \u001b[0m | \u001b[0m 0.01164 \u001b[0m | \u001b[0m 239.8   \u001b[0m |\n",
      "| \u001b[0m 29      \u001b[0m | \u001b[0m-0.457   \u001b[0m | \u001b[0m 0.09083 \u001b[0m | \u001b[0m 0.08577 \u001b[0m | \u001b[0m 0.03939 \u001b[0m | \u001b[0m 252.6   \u001b[0m |\n",
      "| \u001b[0m 30      \u001b[0m | \u001b[0m-0.3648  \u001b[0m | \u001b[0m 0.0743  \u001b[0m | \u001b[0m 0.08907 \u001b[0m | \u001b[0m 0.02173 \u001b[0m | \u001b[0m 764.5   \u001b[0m |\n",
      "=========================================================================\n",
      "Final Result:  {'target': -0.017992657451785136, 'params': {'ccp_alpha_age_': 0.0003968221760198266, 'ccp_alpha_sex_': 0.06285532342385126, 'ccp_alpha_state_': 0.02223819433104029, 'num_components_': 620.7500889525066}}\n",
      "|   iter    |  target   | ccp_al... | ccp_al... | ccp_al... | num_co... |\n",
      "-------------------------------------------------------------------------\n",
      "| \u001b[0m 1       \u001b[0m | \u001b[0m-0.1937  \u001b[0m | \u001b[0m 0.00708 \u001b[0m | \u001b[0m 0.08151 \u001b[0m | \u001b[0m 0.07679 \u001b[0m | \u001b[0m 372.1   \u001b[0m |\n",
      "| \u001b[0m 2       \u001b[0m | \u001b[0m-0.397   \u001b[0m | \u001b[0m 0.01931 \u001b[0m | \u001b[0m 0.09789 \u001b[0m | \u001b[0m 0.04062 \u001b[0m | \u001b[0m 655.4   \u001b[0m |\n",
      "| \u001b[0m 3       \u001b[0m | \u001b[0m-0.3059  \u001b[0m | \u001b[0m 0.008915\u001b[0m | \u001b[0m 0.03099 \u001b[0m | \u001b[0m 0.06189 \u001b[0m | \u001b[0m 476.4   \u001b[0m |\n",
      "| \u001b[0m 4       \u001b[0m | \u001b[0m-0.3317  \u001b[0m | \u001b[0m 0.02183 \u001b[0m | \u001b[0m 0.06635 \u001b[0m | \u001b[0m 0.06787 \u001b[0m | \u001b[0m 771.1   \u001b[0m |\n",
      "| \u001b[0m 5       \u001b[0m | \u001b[0m-0.3485  \u001b[0m | \u001b[0m 0.02813 \u001b[0m | \u001b[0m 0.06199 \u001b[0m | \u001b[0m 0.03833 \u001b[0m | \u001b[0m 440.6   \u001b[0m |\n",
      "| \u001b[0m 6       \u001b[0m | \u001b[0m-0.2218  \u001b[0m | \u001b[0m 0.0119  \u001b[0m | \u001b[0m 0.01284 \u001b[0m | \u001b[0m 0.07896 \u001b[0m | \u001b[0m 372.6   \u001b[0m |\n",
      "| \u001b[0m 7       \u001b[0m | \u001b[0m-0.4986  \u001b[0m | \u001b[0m 0.03493 \u001b[0m | \u001b[0m 0.0072  \u001b[0m | \u001b[0m 0.01585 \u001b[0m | \u001b[0m 371.1   \u001b[0m |\n",
      "| \u001b[0m 8       \u001b[0m | \u001b[0m-0.4736  \u001b[0m | \u001b[0m 0.03639 \u001b[0m | \u001b[0m 0.02781 \u001b[0m | \u001b[0m 0.0727  \u001b[0m | \u001b[0m 372.1   \u001b[0m |\n",
      "| \u001b[0m 9       \u001b[0m | \u001b[0m-0.5022  \u001b[0m | \u001b[0m 0.01018 \u001b[0m | \u001b[0m 0.06129 \u001b[0m | \u001b[0m 0.02437 \u001b[0m | \u001b[0m 338.0   \u001b[0m |\n",
      "| \u001b[0m 10      \u001b[0m | \u001b[0m-0.5581  \u001b[0m | \u001b[0m 0.03058 \u001b[0m | \u001b[0m 0.07058 \u001b[0m | \u001b[0m 0.06141 \u001b[0m | \u001b[0m 392.6   \u001b[0m |\n",
      "| \u001b[0m 11      \u001b[0m | \u001b[0m-0.4318  \u001b[0m | \u001b[0m 0.03254 \u001b[0m | \u001b[0m 0.08301 \u001b[0m | \u001b[0m 0.08631 \u001b[0m | \u001b[0m 572.0   \u001b[0m |\n",
      "| \u001b[0m 12      \u001b[0m | \u001b[0m-0.4457  \u001b[0m | \u001b[0m 0.05814 \u001b[0m | \u001b[0m 0.04477 \u001b[0m | \u001b[0m 0.02481 \u001b[0m | \u001b[0m 319.9   \u001b[0m |\n",
      "| \u001b[0m 13      \u001b[0m | \u001b[0m-0.2395  \u001b[0m | \u001b[0m 0.05693 \u001b[0m | \u001b[0m 0.04812 \u001b[0m | \u001b[0m 0.0938  \u001b[0m | \u001b[0m 706.1   \u001b[0m |\n",
      "| \u001b[0m 14      \u001b[0m | \u001b[0m-0.2894  \u001b[0m | \u001b[0m 0.02257 \u001b[0m | \u001b[0m 0.06119 \u001b[0m | \u001b[0m 0.007878\u001b[0m | \u001b[0m 783.8   \u001b[0m |\n",
      "| \u001b[0m 15      \u001b[0m | \u001b[0m-0.3343  \u001b[0m | \u001b[0m 0.04385 \u001b[0m | \u001b[0m 0.05913 \u001b[0m | \u001b[0m 0.002346\u001b[0m | \u001b[0m 498.6   \u001b[0m |\n",
      "| \u001b[0m 16      \u001b[0m | \u001b[0m-0.4301  \u001b[0m | \u001b[0m 0.05137 \u001b[0m | \u001b[0m 0.07093 \u001b[0m | \u001b[0m 0.03424 \u001b[0m | \u001b[0m 764.2   \u001b[0m |\n",
      "| \u001b[0m 17      \u001b[0m | \u001b[0m-0.4122  \u001b[0m | \u001b[0m 0.05677 \u001b[0m | \u001b[0m 0.09738 \u001b[0m | \u001b[0m 0.05871 \u001b[0m | \u001b[0m 638.4   \u001b[0m |\n",
      "| \u001b[0m 18      \u001b[0m | \u001b[0m-0.365   \u001b[0m | \u001b[0m 0.02294 \u001b[0m | \u001b[0m 0.0651  \u001b[0m | \u001b[0m 0.007312\u001b[0m | \u001b[0m 762.8   \u001b[0m |\n",
      "| \u001b[0m 19      \u001b[0m | \u001b[0m-0.3137  \u001b[0m | \u001b[0m 0.04618 \u001b[0m | \u001b[0m 0.08951 \u001b[0m | \u001b[0m 0.04351 \u001b[0m | \u001b[0m 478.8   \u001b[0m |\n",
      "| \u001b[95m 20      \u001b[0m | \u001b[95m-0.02237 \u001b[0m | \u001b[95m 0.002374\u001b[0m | \u001b[95m 0.04841 \u001b[0m | \u001b[95m 0.07085 \u001b[0m | \u001b[95m 208.1   \u001b[0m |\n",
      "| \u001b[0m 21      \u001b[0m | \u001b[0m-0.1341  \u001b[0m | \u001b[0m 0.002313\u001b[0m | \u001b[0m 0.07831 \u001b[0m | \u001b[0m 0.006321\u001b[0m | \u001b[0m 524.2   \u001b[0m |\n",
      "| \u001b[0m 22      \u001b[0m | \u001b[0m-0.1687  \u001b[0m | \u001b[0m 0.04064 \u001b[0m | \u001b[0m 0.03235 \u001b[0m | \u001b[0m 0.009811\u001b[0m | \u001b[0m 285.1   \u001b[0m |\n",
      "| \u001b[0m 23      \u001b[0m | \u001b[0m-0.353   \u001b[0m | \u001b[0m 0.06884 \u001b[0m | \u001b[0m 0.003205\u001b[0m | \u001b[0m 0.06647 \u001b[0m | \u001b[0m 514.9   \u001b[0m |\n",
      "| \u001b[0m 24      \u001b[0m | \u001b[0m-0.4226  \u001b[0m | \u001b[0m 0.04003 \u001b[0m | \u001b[0m 0.01123 \u001b[0m | \u001b[0m 0.02883 \u001b[0m | \u001b[0m 277.5   \u001b[0m |\n",
      "| \u001b[0m 25      \u001b[0m | \u001b[0m-0.3171  \u001b[0m | \u001b[0m 0.03317 \u001b[0m | \u001b[0m 0.07967 \u001b[0m | \u001b[0m 0.04563 \u001b[0m | \u001b[0m 356.3   \u001b[0m |\n",
      "| \u001b[0m 26      \u001b[0m | \u001b[0m-0.2192  \u001b[0m | \u001b[0m 0.04866 \u001b[0m | \u001b[0m 0.09835 \u001b[0m | \u001b[0m 0.05016 \u001b[0m | \u001b[0m 358.4   \u001b[0m |\n",
      "| \u001b[0m 27      \u001b[0m | \u001b[0m-0.3384  \u001b[0m | \u001b[0m 0.03661 \u001b[0m | \u001b[0m 0.007952\u001b[0m | \u001b[0m 0.02736 \u001b[0m | \u001b[0m 515.6   \u001b[0m |\n",
      "| \u001b[0m 28      \u001b[0m | \u001b[0m-0.4572  \u001b[0m | \u001b[0m 0.04641 \u001b[0m | \u001b[0m 0.0325  \u001b[0m | \u001b[0m 0.001452\u001b[0m | \u001b[0m 341.5   \u001b[0m |\n",
      "| \u001b[0m 29      \u001b[0m | \u001b[0m-0.3001  \u001b[0m | \u001b[0m 0.09518 \u001b[0m | \u001b[0m 0.02172 \u001b[0m | \u001b[0m 0.03612 \u001b[0m | \u001b[0m 454.4   \u001b[0m |\n",
      "| \u001b[0m 30      \u001b[0m | \u001b[0m-0.2745  \u001b[0m | \u001b[0m 0.07416 \u001b[0m | \u001b[0m 0.02979 \u001b[0m | \u001b[0m 0.09168 \u001b[0m | \u001b[0m 676.4   \u001b[0m |\n",
      "=========================================================================\n",
      "Final Result:  {'target': -0.02237025941182005, 'params': {'ccp_alpha_age_': 0.0023743714928934094, 'ccp_alpha_sex_': 0.04840825645819519, 'ccp_alpha_state_': 0.0708479192263664, 'num_components_': 208.0521001644347}}\n",
      "|   iter    |  target   | ccp_al... | ccp_al... | ccp_al... | num_co... |\n",
      "-------------------------------------------------------------------------\n"
     ]
    },
    {
     "name": "stdout",
     "output_type": "stream",
     "text": [
      "| \u001b[0m 1       \u001b[0m | \u001b[0m-0.3763  \u001b[0m | \u001b[0m 0.05164 \u001b[0m | \u001b[0m 0.03202 \u001b[0m | \u001b[0m 0.01681 \u001b[0m | \u001b[0m 231.5   \u001b[0m |\n",
      "| \u001b[95m 2       \u001b[0m | \u001b[95m-0.2809  \u001b[0m | \u001b[95m 0.09316 \u001b[0m | \u001b[95m 0.005888\u001b[0m | \u001b[95m 0.04357 \u001b[0m | \u001b[95m 214.9   \u001b[0m |\n",
      "| \u001b[0m 3       \u001b[0m | \u001b[0m-0.3789  \u001b[0m | \u001b[0m 0.04915 \u001b[0m | \u001b[0m 0.07013 \u001b[0m | \u001b[0m 0.07719 \u001b[0m | \u001b[0m 441.7   \u001b[0m |\n",
      "| \u001b[0m 4       \u001b[0m | \u001b[0m-0.2868  \u001b[0m | \u001b[0m 0.09198 \u001b[0m | \u001b[0m 0.05442 \u001b[0m | \u001b[0m 0.06871 \u001b[0m | \u001b[0m 348.1   \u001b[0m |\n",
      "| \u001b[95m 5       \u001b[0m | \u001b[95m-0.2271  \u001b[0m | \u001b[95m 0.02442 \u001b[0m | \u001b[95m 0.05637 \u001b[0m | \u001b[95m 0.0266  \u001b[0m | \u001b[95m 341.4   \u001b[0m |\n",
      "| \u001b[0m 6       \u001b[0m | \u001b[0m-0.3058  \u001b[0m | \u001b[0m 0.04723 \u001b[0m | \u001b[0m 0.0172  \u001b[0m | \u001b[0m 0.04738 \u001b[0m | \u001b[0m 337.4   \u001b[0m |\n",
      "| \u001b[0m 7       \u001b[0m | \u001b[0m-0.3092  \u001b[0m | \u001b[0m 0.03206 \u001b[0m | \u001b[0m 0.01123 \u001b[0m | \u001b[0m 0.008295\u001b[0m | \u001b[0m 342.9   \u001b[0m |\n",
      "| \u001b[0m 8       \u001b[0m | \u001b[0m-0.2407  \u001b[0m | \u001b[0m 0.06708 \u001b[0m | \u001b[0m 0.01358 \u001b[0m | \u001b[0m 0.0737  \u001b[0m | \u001b[0m 341.2   \u001b[0m |\n",
      "| \u001b[0m 9       \u001b[0m | \u001b[0m-0.336   \u001b[0m | \u001b[0m 0.057   \u001b[0m | \u001b[0m 0.004962\u001b[0m | \u001b[0m 0.09418 \u001b[0m | \u001b[0m 341.8   \u001b[0m |\n",
      "| \u001b[0m 10      \u001b[0m | \u001b[0m-0.2391  \u001b[0m | \u001b[0m 0.05446 \u001b[0m | \u001b[0m 0.09537 \u001b[0m | \u001b[0m 0.05481 \u001b[0m | \u001b[0m 341.3   \u001b[0m |\n",
      "| \u001b[95m 11      \u001b[0m | \u001b[95m-0.2149  \u001b[0m | \u001b[95m 0.007359\u001b[0m | \u001b[95m 0.04956 \u001b[0m | \u001b[95m 0.08319 \u001b[0m | \u001b[95m 341.4   \u001b[0m |\n",
      "| \u001b[0m 12      \u001b[0m | \u001b[0m-0.3747  \u001b[0m | \u001b[0m 0.04691 \u001b[0m | \u001b[0m 0.03135 \u001b[0m | \u001b[0m 0.01779 \u001b[0m | \u001b[0m 340.8   \u001b[0m |\n",
      "| \u001b[0m 13      \u001b[0m | \u001b[0m-0.2704  \u001b[0m | \u001b[0m 0.09638 \u001b[0m | \u001b[0m 0.01217 \u001b[0m | \u001b[0m 0.09677 \u001b[0m | \u001b[0m 606.3   \u001b[0m |\n",
      "| \u001b[0m 14      \u001b[0m | \u001b[0m-0.3875  \u001b[0m | \u001b[0m 0.09633 \u001b[0m | \u001b[0m 0.0717  \u001b[0m | \u001b[0m 0.01127 \u001b[0m | \u001b[0m 455.1   \u001b[0m |\n",
      "| \u001b[95m 15      \u001b[0m | \u001b[95m-0.1535  \u001b[0m | \u001b[95m 0.07204 \u001b[0m | \u001b[95m 0.08179 \u001b[0m | \u001b[95m 0.08365 \u001b[0m | \u001b[95m 348.1   \u001b[0m |\n",
      "| \u001b[0m 16      \u001b[0m | \u001b[0m-0.3527  \u001b[0m | \u001b[0m 0.08956 \u001b[0m | \u001b[0m 0.01779 \u001b[0m | \u001b[0m 0.05619 \u001b[0m | \u001b[0m 341.2   \u001b[0m |\n",
      "| \u001b[0m 17      \u001b[0m | \u001b[0m-0.4772  \u001b[0m | \u001b[0m 0.06793 \u001b[0m | \u001b[0m 0.05009 \u001b[0m | \u001b[0m 0.05784 \u001b[0m | \u001b[0m 341.2   \u001b[0m |\n",
      "| \u001b[0m 18      \u001b[0m | \u001b[0m-0.3238  \u001b[0m | \u001b[0m 0.07775 \u001b[0m | \u001b[0m 0.08422 \u001b[0m | \u001b[0m 0.0624  \u001b[0m | \u001b[0m 413.5   \u001b[0m |\n",
      "| \u001b[0m 19      \u001b[0m | \u001b[0m-0.3952  \u001b[0m | \u001b[0m 0.04617 \u001b[0m | \u001b[0m 0.06196 \u001b[0m | \u001b[0m 0.07899 \u001b[0m | \u001b[0m 670.1   \u001b[0m |\n",
      "| \u001b[0m 20      \u001b[0m | \u001b[0m-0.2678  \u001b[0m | \u001b[0m 0.009214\u001b[0m | \u001b[0m 0.0274  \u001b[0m | \u001b[0m 0.08776 \u001b[0m | \u001b[0m 341.4   \u001b[0m |\n",
      "| \u001b[0m 21      \u001b[0m | \u001b[0m-0.3019  \u001b[0m | \u001b[0m 0.01016 \u001b[0m | \u001b[0m 0.07151 \u001b[0m | \u001b[0m 0.06267 \u001b[0m | \u001b[0m 458.7   \u001b[0m |\n",
      "| \u001b[0m 22      \u001b[0m | \u001b[0m-0.2852  \u001b[0m | \u001b[0m 0.09624 \u001b[0m | \u001b[0m 0.01826 \u001b[0m | \u001b[0m 0.04479 \u001b[0m | \u001b[0m 774.9   \u001b[0m |\n",
      "| \u001b[0m 23      \u001b[0m | \u001b[0m-0.4697  \u001b[0m | \u001b[0m 0.09719 \u001b[0m | \u001b[0m 0.099   \u001b[0m | \u001b[0m 0.03024 \u001b[0m | \u001b[0m 527.0   \u001b[0m |\n",
      "| \u001b[0m 24      \u001b[0m | \u001b[0m-0.237   \u001b[0m | \u001b[0m 0.0076  \u001b[0m | \u001b[0m 0.04373 \u001b[0m | \u001b[0m 0.0796  \u001b[0m | \u001b[0m 254.5   \u001b[0m |\n",
      "| \u001b[0m 25      \u001b[0m | \u001b[0m-0.3741  \u001b[0m | \u001b[0m 0.07141 \u001b[0m | \u001b[0m 0.01625 \u001b[0m | \u001b[0m 0.03974 \u001b[0m | \u001b[0m 774.9   \u001b[0m |\n",
      "| \u001b[0m 26      \u001b[0m | \u001b[0m-0.3933  \u001b[0m | \u001b[0m 0.03777 \u001b[0m | \u001b[0m 0.02646 \u001b[0m | \u001b[0m 0.0582  \u001b[0m | \u001b[0m 586.5   \u001b[0m |\n",
      "| \u001b[0m 27      \u001b[0m | \u001b[0m-0.4335  \u001b[0m | \u001b[0m 0.0691  \u001b[0m | \u001b[0m 0.08033 \u001b[0m | \u001b[0m 0.001703\u001b[0m | \u001b[0m 566.1   \u001b[0m |\n",
      "| \u001b[95m 28      \u001b[0m | \u001b[95m-0.1364  \u001b[0m | \u001b[95m 0.00351 \u001b[0m | \u001b[95m 0.05476 \u001b[0m | \u001b[95m 0.02495 \u001b[0m | \u001b[95m 341.3   \u001b[0m |\n",
      "| \u001b[0m 29      \u001b[0m | \u001b[0m-0.5141  \u001b[0m | \u001b[0m 0.02258 \u001b[0m | \u001b[0m 0.03815 \u001b[0m | \u001b[0m 0.09755 \u001b[0m | \u001b[0m 786.9   \u001b[0m |\n",
      "| \u001b[0m 30      \u001b[0m | \u001b[0m-0.3473  \u001b[0m | \u001b[0m 0.01738 \u001b[0m | \u001b[0m 0.02314 \u001b[0m | \u001b[0m 0.08205 \u001b[0m | \u001b[0m 769.2   \u001b[0m |\n",
      "=========================================================================\n",
      "Final Result:  {'target': -0.13641202352295737, 'params': {'ccp_alpha_age_': 0.0035100748731319636, 'ccp_alpha_sex_': 0.05476429103073873, 'ccp_alpha_state_': 0.024949877847545668, 'num_components_': 341.34835735852124}}\n",
      "|   iter    |  target   | ccp_al... | ccp_al... | ccp_al... | num_co... |\n",
      "-------------------------------------------------------------------------\n",
      "| \u001b[0m 1       \u001b[0m | \u001b[0m-0.2369  \u001b[0m | \u001b[0m 0.09739 \u001b[0m | \u001b[0m 0.09884 \u001b[0m | \u001b[0m 0.03965 \u001b[0m | \u001b[0m 547.1   \u001b[0m |\n",
      "| \u001b[0m 2       \u001b[0m | \u001b[0m-0.4158  \u001b[0m | \u001b[0m 0.05579 \u001b[0m | \u001b[0m 0.03039 \u001b[0m | \u001b[0m 0.06302 \u001b[0m | \u001b[0m 280.9   \u001b[0m |\n",
      "| \u001b[0m 3       \u001b[0m | \u001b[0m-0.306   \u001b[0m | \u001b[0m 0.05337 \u001b[0m | \u001b[0m 0.07395 \u001b[0m | \u001b[0m 0.09103 \u001b[0m | \u001b[0m 416.8   \u001b[0m |\n",
      "| \u001b[95m 4       \u001b[0m | \u001b[95m-0.1756  \u001b[0m | \u001b[95m 0.004415\u001b[0m | \u001b[95m 0.08071 \u001b[0m | \u001b[95m 0.0655  \u001b[0m | \u001b[95m 560.9   \u001b[0m |\n",
      "| \u001b[0m 5       \u001b[0m | \u001b[0m-0.4002  \u001b[0m | \u001b[0m 0.05849 \u001b[0m | \u001b[0m 0.01643 \u001b[0m | \u001b[0m 0.08144 \u001b[0m | \u001b[0m 541.5   \u001b[0m |\n",
      "| \u001b[0m 6       \u001b[0m | \u001b[0m-0.3593  \u001b[0m | \u001b[0m 0.04519 \u001b[0m | \u001b[0m 0.05195 \u001b[0m | \u001b[0m 0.08773 \u001b[0m | \u001b[0m 416.8   \u001b[0m |\n",
      "| \u001b[0m 7       \u001b[0m | \u001b[0m-0.2933  \u001b[0m | \u001b[0m 0.048   \u001b[0m | \u001b[0m 0.08181 \u001b[0m | \u001b[0m 0.0163  \u001b[0m | \u001b[0m 560.9   \u001b[0m |\n",
      "| \u001b[0m 8       \u001b[0m | \u001b[0m-0.3033  \u001b[0m | \u001b[0m 0.01653 \u001b[0m | \u001b[0m 0.003062\u001b[0m | \u001b[0m 0.06933 \u001b[0m | \u001b[0m 341.8   \u001b[0m |\n",
      "| \u001b[0m 9       \u001b[0m | \u001b[0m-0.5342  \u001b[0m | \u001b[0m 0.09582 \u001b[0m | \u001b[0m 0.08794 \u001b[0m | \u001b[0m 0.09924 \u001b[0m | \u001b[0m 756.7   \u001b[0m |\n",
      "| \u001b[0m 10      \u001b[0m | \u001b[0m-0.4388  \u001b[0m | \u001b[0m 0.03995 \u001b[0m | \u001b[0m 0.07855 \u001b[0m | \u001b[0m 0.0529  \u001b[0m | \u001b[0m 402.6   \u001b[0m |\n",
      "| \u001b[0m 11      \u001b[0m | \u001b[0m-0.3327  \u001b[0m | \u001b[0m 0.05364 \u001b[0m | \u001b[0m 0.005243\u001b[0m | \u001b[0m 0.03509 \u001b[0m | \u001b[0m 592.2   \u001b[0m |\n",
      "| \u001b[0m 12      \u001b[0m | \u001b[0m-0.3915  \u001b[0m | \u001b[0m 0.07812 \u001b[0m | \u001b[0m 0.07018 \u001b[0m | \u001b[0m 0.06757 \u001b[0m | \u001b[0m 792.6   \u001b[0m |\n",
      "| \u001b[95m 13      \u001b[0m | \u001b[95m-0.1528  \u001b[0m | \u001b[95m 0.005574\u001b[0m | \u001b[95m 0.03119 \u001b[0m | \u001b[95m 0.0844  \u001b[0m | \u001b[95m 560.8   \u001b[0m |\n",
      "| \u001b[0m 14      \u001b[0m | \u001b[0m-0.2605  \u001b[0m | \u001b[0m 0.04759 \u001b[0m | \u001b[0m 0.05059 \u001b[0m | \u001b[0m 0.04542 \u001b[0m | \u001b[0m 752.2   \u001b[0m |\n",
      "| \u001b[0m 15      \u001b[0m | \u001b[0m-0.3708  \u001b[0m | \u001b[0m 0.03455 \u001b[0m | \u001b[0m 0.003463\u001b[0m | \u001b[0m 0.07238 \u001b[0m | \u001b[0m 560.9   \u001b[0m |\n",
      "| \u001b[0m 16      \u001b[0m | \u001b[0m-0.3117  \u001b[0m | \u001b[0m 0.04108 \u001b[0m | \u001b[0m 0.02573 \u001b[0m | \u001b[0m 0.06102 \u001b[0m | \u001b[0m 726.3   \u001b[0m |\n",
      "| \u001b[0m 17      \u001b[0m | \u001b[0m-0.4605  \u001b[0m | \u001b[0m 0.05994 \u001b[0m | \u001b[0m 0.03637 \u001b[0m | \u001b[0m 0.02183 \u001b[0m | \u001b[0m 279.2   \u001b[0m |\n",
      "| \u001b[0m 18      \u001b[0m | \u001b[0m-0.2827  \u001b[0m | \u001b[0m 0.03751 \u001b[0m | \u001b[0m 0.0106  \u001b[0m | \u001b[0m 0.07328 \u001b[0m | \u001b[0m 280.2   \u001b[0m |\n",
      "| \u001b[0m 19      \u001b[0m | \u001b[0m-0.1631  \u001b[0m | \u001b[0m 0.04465 \u001b[0m | \u001b[0m 0.03036 \u001b[0m | \u001b[0m 0.01812 \u001b[0m | \u001b[0m 245.2   \u001b[0m |\n",
      "| \u001b[0m 20      \u001b[0m | \u001b[0m-0.379   \u001b[0m | \u001b[0m 0.01887 \u001b[0m | \u001b[0m 0.01155 \u001b[0m | \u001b[0m 0.06398 \u001b[0m | \u001b[0m 777.7   \u001b[0m |\n",
      "| \u001b[0m 21      \u001b[0m | \u001b[0m-0.4018  \u001b[0m | \u001b[0m 0.03936 \u001b[0m | \u001b[0m 0.05248 \u001b[0m | \u001b[0m 0.01066 \u001b[0m | \u001b[0m 245.1   \u001b[0m |\n",
      "| \u001b[0m 22      \u001b[0m | \u001b[0m-0.4582  \u001b[0m | \u001b[0m 0.08489 \u001b[0m | \u001b[0m 0.04881 \u001b[0m | \u001b[0m 0.04291 \u001b[0m | \u001b[0m 693.0   \u001b[0m |\n",
      "| \u001b[0m 23      \u001b[0m | \u001b[0m-0.4148  \u001b[0m | \u001b[0m 0.01486 \u001b[0m | \u001b[0m 0.01926 \u001b[0m | \u001b[0m 0.04366 \u001b[0m | \u001b[0m 757.1   \u001b[0m |\n",
      "| \u001b[0m 24      \u001b[0m | \u001b[0m-0.3295  \u001b[0m | \u001b[0m 0.03489 \u001b[0m | \u001b[0m 0.000524\u001b[0m | \u001b[0m 0.05397 \u001b[0m | \u001b[0m 605.6   \u001b[0m |\n",
      "| \u001b[0m 25      \u001b[0m | \u001b[0m-0.3364  \u001b[0m | \u001b[0m 0.06365 \u001b[0m | \u001b[0m 0.03213 \u001b[0m | \u001b[0m 0.04705 \u001b[0m | \u001b[0m 532.3   \u001b[0m |\n",
      "| \u001b[95m 26      \u001b[0m | \u001b[95m-0.000161\u001b[0m | \u001b[95m 0.00134 \u001b[0m | \u001b[95m 0.00298 \u001b[0m | \u001b[95m 0.05378 \u001b[0m | \u001b[95m 293.5   \u001b[0m |\n",
      "| \u001b[0m 27      \u001b[0m | \u001b[0m-0.3655  \u001b[0m | \u001b[0m 0.06732 \u001b[0m | \u001b[0m 0.09048 \u001b[0m | \u001b[0m 0.02761 \u001b[0m | \u001b[0m 495.0   \u001b[0m |\n",
      "| \u001b[0m 28      \u001b[0m | \u001b[0m-0.3297  \u001b[0m | \u001b[0m 0.06339 \u001b[0m | \u001b[0m 0.01388 \u001b[0m | \u001b[0m 0.01132 \u001b[0m | \u001b[0m 634.0   \u001b[0m |\n",
      "| \u001b[0m 29      \u001b[0m | \u001b[0m-0.4509  \u001b[0m | \u001b[0m 0.06896 \u001b[0m | \u001b[0m 0.06843 \u001b[0m | \u001b[0m 0.06871 \u001b[0m | \u001b[0m 345.0   \u001b[0m |\n",
      "| \u001b[0m 30      \u001b[0m | \u001b[0m-0.299   \u001b[0m | \u001b[0m 0.05075 \u001b[0m | \u001b[0m 0.01478 \u001b[0m | \u001b[0m 0.03767 \u001b[0m | \u001b[0m 562.1   \u001b[0m |\n",
      "=========================================================================\n",
      "Final Result:  {'target': -0.00016140304645721407, 'params': {'ccp_alpha_age_': 0.00134038210217527, 'ccp_alpha_sex_': 0.0029801967574177284, 'ccp_alpha_state_': 0.0537802935110731, 'num_components_': 293.4746303805547}}\n",
      "|   iter    |  target   | ccp_al... | ccp_al... | ccp_al... | num_co... |\n",
      "-------------------------------------------------------------------------\n"
     ]
    },
    {
     "name": "stdout",
     "output_type": "stream",
     "text": [
      "| \u001b[0m 1       \u001b[0m | \u001b[0m-0.3382  \u001b[0m | \u001b[0m 0.08659 \u001b[0m | \u001b[0m 0.03071 \u001b[0m | \u001b[0m 0.08153 \u001b[0m | \u001b[0m 253.5   \u001b[0m |\n",
      "| \u001b[95m 2       \u001b[0m | \u001b[95m-0.3318  \u001b[0m | \u001b[95m 0.08065 \u001b[0m | \u001b[95m 0.07031 \u001b[0m | \u001b[95m 0.001737\u001b[0m | \u001b[95m 341.2   \u001b[0m |\n",
      "| \u001b[0m 3       \u001b[0m | \u001b[0m-0.355   \u001b[0m | \u001b[0m 0.02005 \u001b[0m | \u001b[0m 0.04942 \u001b[0m | \u001b[0m 0.02969 \u001b[0m | \u001b[0m 749.8   \u001b[0m |\n",
      "| \u001b[0m 4       \u001b[0m | \u001b[0m-0.3512  \u001b[0m | \u001b[0m 0.06769 \u001b[0m | \u001b[0m 0.03467 \u001b[0m | \u001b[0m 0.01091 \u001b[0m | \u001b[0m 743.9   \u001b[0m |\n",
      "| \u001b[95m 5       \u001b[0m | \u001b[95m-0.3089  \u001b[0m | \u001b[95m 0.03704 \u001b[0m | \u001b[95m 0.01973 \u001b[0m | \u001b[95m 0.09661 \u001b[0m | \u001b[95m 360.8   \u001b[0m |\n",
      "| \u001b[95m 6       \u001b[0m | \u001b[95m-0.3062  \u001b[0m | \u001b[95m 0.05884 \u001b[0m | \u001b[95m 0.0437  \u001b[0m | \u001b[95m 0.06778 \u001b[0m | \u001b[95m 376.0   \u001b[0m |\n",
      "| \u001b[95m 7       \u001b[0m | \u001b[95m-0.2475  \u001b[0m | \u001b[95m 0.04628 \u001b[0m | \u001b[95m 0.01882 \u001b[0m | \u001b[95m 0.06343 \u001b[0m | \u001b[95m 415.1   \u001b[0m |\n",
      "| \u001b[0m 8       \u001b[0m | \u001b[0m-0.3555  \u001b[0m | \u001b[0m 0.03488 \u001b[0m | \u001b[0m 0.09056 \u001b[0m | \u001b[0m 0.04032 \u001b[0m | \u001b[0m 432.8   \u001b[0m |\n",
      "| \u001b[0m 9       \u001b[0m | \u001b[0m-0.3452  \u001b[0m | \u001b[0m 0.07297 \u001b[0m | \u001b[0m 0.04082 \u001b[0m | \u001b[0m 0.04727 \u001b[0m | \u001b[0m 410.8   \u001b[0m |\n",
      "| \u001b[0m 10      \u001b[0m | \u001b[0m-0.4997  \u001b[0m | \u001b[0m 0.02855 \u001b[0m | \u001b[0m 0.08367 \u001b[0m | \u001b[0m 0.06311 \u001b[0m | \u001b[0m 262.5   \u001b[0m |\n",
      "| \u001b[0m 11      \u001b[0m | \u001b[0m-0.3718  \u001b[0m | \u001b[0m 0.02715 \u001b[0m | \u001b[0m 0.01255 \u001b[0m | \u001b[0m 0.0159  \u001b[0m | \u001b[0m 437.7   \u001b[0m |\n",
      "| \u001b[95m 12      \u001b[0m | \u001b[95m-0.1968  \u001b[0m | \u001b[95m 0.009917\u001b[0m | \u001b[95m 0.006437\u001b[0m | \u001b[95m 0.03367 \u001b[0m | \u001b[95m 416.0   \u001b[0m |\n",
      "| \u001b[0m 13      \u001b[0m | \u001b[0m-0.3354  \u001b[0m | \u001b[0m 0.02479 \u001b[0m | \u001b[0m 0.07959 \u001b[0m | \u001b[0m 0.01856 \u001b[0m | \u001b[0m 416.9   \u001b[0m |\n",
      "| \u001b[0m 14      \u001b[0m | \u001b[0m-0.3982  \u001b[0m | \u001b[0m 0.04809 \u001b[0m | \u001b[0m 0.07538 \u001b[0m | \u001b[0m 0.01622 \u001b[0m | \u001b[0m 415.7   \u001b[0m |\n",
      "| \u001b[0m 15      \u001b[0m | \u001b[0m-0.2777  \u001b[0m | \u001b[0m 0.04711 \u001b[0m | \u001b[0m 0.02156 \u001b[0m | \u001b[0m 0.04887 \u001b[0m | \u001b[0m 703.0   \u001b[0m |\n",
      "| \u001b[0m 16      \u001b[0m | \u001b[0m-0.2403  \u001b[0m | \u001b[0m 0.01017 \u001b[0m | \u001b[0m 0.06479 \u001b[0m | \u001b[0m 0.05061 \u001b[0m | \u001b[0m 407.3   \u001b[0m |\n",
      "| \u001b[0m 17      \u001b[0m | \u001b[0m-0.3592  \u001b[0m | \u001b[0m 0.02259 \u001b[0m | \u001b[0m 0.01177 \u001b[0m | \u001b[0m 0.04503 \u001b[0m | \u001b[0m 502.3   \u001b[0m |\n",
      "| \u001b[0m 18      \u001b[0m | \u001b[0m-0.3595  \u001b[0m | \u001b[0m 0.04046 \u001b[0m | \u001b[0m 0.07684 \u001b[0m | \u001b[0m 0.07853 \u001b[0m | \u001b[0m 589.7   \u001b[0m |\n",
      "| \u001b[0m 19      \u001b[0m | \u001b[0m-0.442   \u001b[0m | \u001b[0m 0.02262 \u001b[0m | \u001b[0m 0.05118 \u001b[0m | \u001b[0m 0.03976 \u001b[0m | \u001b[0m 287.4   \u001b[0m |\n",
      "| \u001b[0m 20      \u001b[0m | \u001b[0m-0.3751  \u001b[0m | \u001b[0m 0.02224 \u001b[0m | \u001b[0m 0.03755 \u001b[0m | \u001b[0m 0.07395 \u001b[0m | \u001b[0m 621.2   \u001b[0m |\n",
      "| \u001b[95m 21      \u001b[0m | \u001b[95m-0.01878 \u001b[0m | \u001b[95m 0.001302\u001b[0m | \u001b[95m 0.003392\u001b[0m | \u001b[95m 0.07518 \u001b[0m | \u001b[95m 413.6   \u001b[0m |\n",
      "| \u001b[0m 22      \u001b[0m | \u001b[0m-0.355   \u001b[0m | \u001b[0m 0.03808 \u001b[0m | \u001b[0m 0.03705 \u001b[0m | \u001b[0m 0.01393 \u001b[0m | \u001b[0m 388.4   \u001b[0m |\n",
      "| \u001b[0m 23      \u001b[0m | \u001b[0m-0.3242  \u001b[0m | \u001b[0m 0.08304 \u001b[0m | \u001b[0m 0.06925 \u001b[0m | \u001b[0m 0.04638 \u001b[0m | \u001b[0m 661.3   \u001b[0m |\n",
      "| \u001b[0m 24      \u001b[0m | \u001b[0m-0.2865  \u001b[0m | \u001b[0m 0.08268 \u001b[0m | \u001b[0m 0.03977 \u001b[0m | \u001b[0m 0.05555 \u001b[0m | \u001b[0m 632.9   \u001b[0m |\n",
      "| \u001b[0m 25      \u001b[0m | \u001b[0m-0.2701  \u001b[0m | \u001b[0m 0.05657 \u001b[0m | \u001b[0m 0.09659 \u001b[0m | \u001b[0m 0.006589\u001b[0m | \u001b[0m 442.9   \u001b[0m |\n",
      "| \u001b[0m 26      \u001b[0m | \u001b[0m-0.3756  \u001b[0m | \u001b[0m 0.09554 \u001b[0m | \u001b[0m 0.01031 \u001b[0m | \u001b[0m 0.06204 \u001b[0m | \u001b[0m 592.1   \u001b[0m |\n",
      "| \u001b[0m 27      \u001b[0m | \u001b[0m-0.4165  \u001b[0m | \u001b[0m 0.01163 \u001b[0m | \u001b[0m 0.02026 \u001b[0m | \u001b[0m 0.0884  \u001b[0m | \u001b[0m 701.6   \u001b[0m |\n",
      "| \u001b[0m 28      \u001b[0m | \u001b[0m-0.1829  \u001b[0m | \u001b[0m 0.0604  \u001b[0m | \u001b[0m 0.03715 \u001b[0m | \u001b[0m 0.02426 \u001b[0m | \u001b[0m 360.9   \u001b[0m |\n",
      "| \u001b[0m 29      \u001b[0m | \u001b[0m-0.4537  \u001b[0m | \u001b[0m 0.06761 \u001b[0m | \u001b[0m 0.01163 \u001b[0m | \u001b[0m 0.05846 \u001b[0m | \u001b[0m 413.5   \u001b[0m |\n",
      "| \u001b[0m 30      \u001b[0m | \u001b[0m-0.4228  \u001b[0m | \u001b[0m 0.07238 \u001b[0m | \u001b[0m 0.0228  \u001b[0m | \u001b[0m 0.06152 \u001b[0m | \u001b[0m 277.9   \u001b[0m |\n",
      "=========================================================================\n",
      "Final Result:  {'target': -0.01877868941427386, 'params': {'ccp_alpha_age_': 0.0013016500872295696, 'ccp_alpha_sex_': 0.0033922345366215988, 'ccp_alpha_state_': 0.0751814337185456, 'num_components_': 413.5531289143654}}\n"
     ]
    }
   ],
   "source": [
    "optimization_results = [optimize_models(train_data=train_data, number_synthetic_datasets=nsd, number_gmm_initializations=ngi, random_state=r) for r in random_states]"
   ]
  },
  {
   "cell_type": "markdown",
   "id": "dab452a9",
   "metadata": {},
   "source": [
    "***"
   ]
  },
  {
   "cell_type": "code",
   "execution_count": 10,
   "id": "2c71552b",
   "metadata": {},
   "outputs": [],
   "source": [
    "run_targets = [np.minimum.accumulate(-i[1].space.target) for i in optimization_results]"
   ]
  },
  {
   "cell_type": "code",
   "execution_count": 11,
   "id": "bb2e246f",
   "metadata": {},
   "outputs": [
    {
     "data": {
      "image/png": "[encoded data removed]",
      "text/plain": [
       "<Figure size 432x288 with 1 Axes>"
      ]
     },
     "metadata": {
      "needs_background": "light"
     },
     "output_type": "display_data"
    }
   ],
   "source": [
    "plt.plot(run_targets[0])\n",
    "plt.scatter(np.arange(len(run_targets[0])), run_targets[0], s=6)\n",
    "plt.plot(run_targets[1])\n",
    "plt.scatter(np.arange(len(run_targets[1])), run_targets[1], s=6)\n",
    "plt.plot(run_targets[2])\n",
    "plt.scatter(np.arange(len(run_targets[2])), run_targets[2], s=6)\n",
    "plt.plot(run_targets[3])\n",
    "plt.scatter(np.arange(len(run_targets[3])), run_targets[3], s=6)\n",
    "plt.plot(run_targets[4])\n",
    "plt.scatter(np.arange(len(run_targets[4])), run_targets[4], s=6)\n",
    "plt.title(\"Running Minimum Objective Value for CART Synthesis\")\n",
    "plt.show()"
   ]
  },
  {
   "cell_type": "markdown",
   "id": "325348ce",
   "metadata": {},
   "source": [
    "Choose the params that gave the best objective value across all random seeds."
   ]
  },
  {
   "cell_type": "code",
   "execution_count": 12,
   "id": "69f179aa",
   "metadata": {},
   "outputs": [],
   "source": [
    "best_params = optimization_results[np.argmax([x[0]['target'] for x in optimization_results])][0]"
   ]
  },
  {
   "cell_type": "code",
   "execution_count": 13,
   "id": "112b4969",
   "metadata": {},
   "outputs": [
    {
     "data": {
      "text/plain": [
       "{'target': -0.00016140304645721407,\n",
       " 'params': {'ccp_alpha_age_': 0.00134038210217527,\n",
       "  'ccp_alpha_sex_': 0.0029801967574177284,\n",
       "  'ccp_alpha_state_': 0.0537802935110731,\n",
       "  'num_components_': 293.4746303805547}}"
      ]
     },
     "execution_count": 13,
     "metadata": {},
     "output_type": "execute_result"
    }
   ],
   "source": [
    "best_params"
   ]
  },
  {
   "cell_type": "markdown",
   "id": "8c940983",
   "metadata": {},
   "source": [
    "***"
   ]
  },
  {
   "cell_type": "markdown",
   "id": "c8e1ea09",
   "metadata": {},
   "source": [
    "Generate 1000 synthetic datasets, choose the 20 that have the pMSE closest to 1."
   ]
  },
  {
   "cell_type": "code",
   "execution_count": 14,
   "id": "9ed0391f",
   "metadata": {},
   "outputs": [],
   "source": [
    "full_ratios, full_sXs, GMM, cart_sex, cart_age, cart_state = train_models(train_data=train_data,\n",
    "                                                                          number_synthetic_datasets=20,\n",
    "                                                                          # hyperparameters for GMM\n",
    "                                                                          number_gmm_initializations=ngi,\n",
    "                                                                          num_components_=int(best_params['params']['num_components_']),\n",
    "                                                                          # hyperparameters for CART, end with underscore means Bayesian optimization will choose\n",
    "                                                                          ccp_alpha_sex_=best_params['params']['ccp_alpha_sex_'],\n",
    "                                                                          ccp_alpha_age_=best_params['params']['ccp_alpha_age_'],\n",
    "                                                                          ccp_alpha_state_=best_params['params']['ccp_alpha_state_'])"
   ]
  },
  {
   "cell_type": "code",
   "execution_count": 15,
   "id": "023ef2f5",
   "metadata": {},
   "outputs": [],
   "source": [
    "# num_keep = 20"
   ]
  },
  {
   "cell_type": "code",
   "execution_count": 16,
   "id": "f8f95b2f",
   "metadata": {},
   "outputs": [],
   "source": [
    "sXs = full_sXs"
   ]
  },
  {
   "cell_type": "code",
   "execution_count": 17,
   "id": "afbc8eb3",
   "metadata": {},
   "outputs": [],
   "source": [
    "# keep = np.array(full_ratios) >= 1.0"
   ]
  },
  {
   "cell_type": "code",
   "execution_count": 18,
   "id": "755c3627",
   "metadata": {},
   "outputs": [],
   "source": [
    "# valid_ratios = [full_ratios[i] for i,j in enumerate(keep) if j]"
   ]
  },
  {
   "cell_type": "code",
   "execution_count": 19,
   "id": "f2801966",
   "metadata": {},
   "outputs": [],
   "source": [
    "# valid_sXs = [full_sXs[i] for i,j in enumerate(keep) if j]"
   ]
  },
  {
   "cell_type": "code",
   "execution_count": 20,
   "id": "38fbece7",
   "metadata": {},
   "outputs": [],
   "source": [
    "# indices = np.argsort([np.abs(1-r) for r in valid_ratios])[:num_keep]"
   ]
  },
  {
   "cell_type": "code",
   "execution_count": 21,
   "id": "5a2e1ff6",
   "metadata": {},
   "outputs": [],
   "source": [
    "# sXs = [valid_sXs[i] for i in indices]"
   ]
  },
  {
   "cell_type": "code",
   "execution_count": 22,
   "id": "89d41b3b",
   "metadata": {},
   "outputs": [],
   "source": [
    "# ratios = [valid_ratios[i] for i in indices]"
   ]
  },
  {
   "cell_type": "code",
   "execution_count": 23,
   "id": "23473f9a",
   "metadata": {},
   "outputs": [
    {
     "data": {
      "text/plain": [
       "0.008993053744848342"
      ]
     },
     "execution_count": 23,
     "metadata": {},
     "output_type": "execute_result"
    }
   ],
   "source": [
    "(1 - np.mean(full_ratios))**2"
   ]
  },
  {
   "cell_type": "code",
   "execution_count": 24,
   "id": "295e7588",
   "metadata": {},
   "outputs": [
    {
     "data": {
      "text/plain": [
       "1.094831712759226"
      ]
     },
     "execution_count": 24,
     "metadata": {},
     "output_type": "execute_result"
    }
   ],
   "source": [
    "np.mean(full_ratios)"
   ]
  },
  {
   "cell_type": "code",
   "execution_count": 25,
   "id": "0b218f8f",
   "metadata": {},
   "outputs": [],
   "source": [
    "# np.mean(valid_ratios)"
   ]
  },
  {
   "cell_type": "code",
   "execution_count": 26,
   "id": "c97aad15",
   "metadata": {},
   "outputs": [],
   "source": [
    "# np.mean(ratios)"
   ]
  },
  {
   "cell_type": "code",
   "execution_count": 27,
   "id": "a3d6a0f6",
   "metadata": {},
   "outputs": [
    {
     "data": {
      "image/png": "[encoded data removed]",
      "text/plain": [
       "<Figure size 432x288 with 1 Axes>"
      ]
     },
     "metadata": {
      "needs_background": "light"
     },
     "output_type": "display_data"
    }
   ],
   "source": [
    "plt.violinplot(full_ratios)\n",
    "plt.xlabel(\"Density\")\n",
    "plt.ylabel(\"pMSE Ratio\")\n",
    "plt.title(\"Distribution of pMSE Ratios\")\n",
    "plt.show()"
   ]
  },
  {
   "cell_type": "code",
   "execution_count": 28,
   "id": "da1d10b9",
   "metadata": {},
   "outputs": [],
   "source": [
    "# plt.violinplot(valid_ratios)\n",
    "# plt.xlabel(\"Density\")\n",
    "# plt.ylabel(\"pMSE Ratio\")\n",
    "# plt.title(\"Distribution of pMSE Ratios\")\n",
    "# plt.show()"
   ]
  },
  {
   "cell_type": "code",
   "execution_count": 29,
   "id": "32a77c16",
   "metadata": {},
   "outputs": [],
   "source": [
    "# plt.violinplot(ratios)\n",
    "# plt.xlabel(\"Density\")\n",
    "# plt.ylabel(\"pMSE Ratio\")\n",
    "# plt.title(\"Distribution of pMSE Ratios\")\n",
    "# plt.show()"
   ]
  },
  {
   "cell_type": "markdown",
   "id": "af137729",
   "metadata": {},
   "source": [
    "***"
   ]
  },
  {
   "cell_type": "markdown",
   "id": "c7c4b464",
   "metadata": {},
   "source": [
    "# Save the synthetic datasets."
   ]
  },
  {
   "cell_type": "code",
   "execution_count": 30,
   "id": "5696e166",
   "metadata": {},
   "outputs": [],
   "source": [
    "for i, sX in enumerate(sXs):\n",
    "    sX.to_csv(\"Data/synthetic_datasets/synthetic_holdouts/cart_synthetic_dataset_\" + str(i) + \".csv\", index=False)"
   ]
  },
  {
   "cell_type": "markdown",
   "id": "c40ffaea",
   "metadata": {},
   "source": [
    "***"
   ]
  }
 ],
 "metadata": {
  "kernelspec": {
   "display_name": "Python 3 (ipykernel)",
   "language": "python",
   "name": "python3"
  },
  "language_info": {
   "codemirror_mode": {
    "name": "ipython",
    "version": 3
   },
   "file_extension": ".py",
   "mimetype": "text/x-python",
   "name": "python",
   "nbconvert_exporter": "python",
   "pygments_lexer": "ipython3",
   "version": "3.9.7"
  }
 },
 "nbformat": 4,
 "nbformat_minor": 5
}
