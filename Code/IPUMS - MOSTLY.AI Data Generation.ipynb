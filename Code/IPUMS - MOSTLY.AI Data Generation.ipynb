{
 "cells": [
  {
   "cell_type": "code",
   "execution_count": 1,
   "id": "99af206b-9265-4597-8ff5-235b9e3c098c",
   "metadata": {},
   "outputs": [],
   "source": [
    "import numpy as np\n",
    "from mostlyai import MostlyAI"
   ]
  },
  {
   "cell_type": "code",
   "execution_count": 2,
   "id": "4579f703-94c0-40c2-8e80-5d48104e7d70",
   "metadata": {},
   "outputs": [],
   "source": [
    "# initialize client\n",
    "mostly = MostlyAI(api_key='mostly-adcd77a4ca7523519dc19b4ec9c9a7f6e0b2e37e16599b4703b03944dc824ed2', base_url='https://app.mostly.ai')"
   ]
  },
  {
   "cell_type": "code",
   "execution_count": 3,
   "id": "9593ea76-1887-4a60-93f9-fe1fbbeb6fce",
   "metadata": {},
   "outputs": [
    {
     "data": {
      "text/plain": [
       "{'name': 'cleaned_ipums_data',\n",
       " 'description': None,\n",
       " 'tables': [{'name': 'cleaned_ipums_data',\n",
       "   'sourceConnectorId': 'ac9bdefa-05d9-4c98-bc55-f1740854a025',\n",
       "   'location': 'mostly-production-mostly-s3-bucket-mostly-app/connectors/ac9bdefa-05d9-4c98-bc55-f1740854a025/cleaned_ipums_data/cleaned_ipums_data.csv',\n",
       "   'data': None,\n",
       "   'modelConfiguration': {'maxSampleSize': 197756,\n",
       "    'batchSize': None,\n",
       "    'modelSize': 'M',\n",
       "    'maxTrainingTime': 10,\n",
       "    'maxEpochs': 100,\n",
       "    'maxSequenceWindow': 100,\n",
       "    'enableFlexibleGeneration': False,\n",
       "    'valueProtection': False,\n",
       "    'rareCategoryReplacementMethod': 'CONSTANT',\n",
       "    'compute': 'd5f093a6-208f-4b79-92c6-6d50d02d8c8c'},\n",
       "   'textModelConfiguration': None,\n",
       "   'primaryKey': None,\n",
       "   'foreignKeys': None,\n",
       "   'columns': [{'name': 'incwage', 'modelEncodingType': 'NUMERIC_BINNED'},\n",
       "    {'name': 'years_of_educ', 'modelEncodingType': 'NUMERIC_DISCRETE'},\n",
       "    {'name': 'potential_experience', 'modelEncodingType': 'NUMERIC_BINNED'},\n",
       "    {'name': 'non_white', 'modelEncodingType': 'NUMERIC_DISCRETE'},\n",
       "    {'name': 'sex', 'modelEncodingType': 'NUMERIC_DISCRETE'}]}]}"
      ]
     },
     "execution_count": 3,
     "metadata": {},
     "output_type": "execute_result"
    }
   ],
   "source": [
    "# fetch configuration via API\n",
    "g = mostly.generators.get('6a19773e-9bd7-402a-aa65-a75e1e688c26')\n",
    "config = g.config()\n",
    "config"
   ]
  },
  {
   "cell_type": "code",
   "execution_count": 4,
   "id": "09893854-1888-4b31-bc7b-66bdd909e482",
   "metadata": {},
   "outputs": [
    {
     "data": {
      "text/html": [
       "<div>\n",
       "<style scoped>\n",
       "    .dataframe tbody tr th:only-of-type {\n",
       "        vertical-align: middle;\n",
       "    }\n",
       "\n",
       "    .dataframe tbody tr th {\n",
       "        vertical-align: top;\n",
       "    }\n",
       "\n",
       "    .dataframe thead th {\n",
       "        text-align: right;\n",
       "    }\n",
       "</style>\n",
       "<table border=\"1\" class=\"dataframe\">\n",
       "  <thead>\n",
       "    <tr style=\"text-align: right;\">\n",
       "      <th></th>\n",
       "      <th>incwage</th>\n",
       "      <th>years_of_educ</th>\n",
       "      <th>potential_experience</th>\n",
       "      <th>non_white</th>\n",
       "      <th>sex</th>\n",
       "    </tr>\n",
       "  </thead>\n",
       "  <tbody>\n",
       "    <tr>\n",
       "      <th>0</th>\n",
       "      <td>0.606523</td>\n",
       "      <td>-0.044869</td>\n",
       "      <td>0.289084</td>\n",
       "      <td>0</td>\n",
       "      <td>1</td>\n",
       "    </tr>\n",
       "    <tr>\n",
       "      <th>1</th>\n",
       "      <td>-0.530665</td>\n",
       "      <td>-0.044869</td>\n",
       "      <td>0.287699</td>\n",
       "      <td>1</td>\n",
       "      <td>0</td>\n",
       "    </tr>\n",
       "    <tr>\n",
       "      <th>2</th>\n",
       "      <td>0.019349</td>\n",
       "      <td>0.339777</td>\n",
       "      <td>0.631867</td>\n",
       "      <td>0</td>\n",
       "      <td>1</td>\n",
       "    </tr>\n",
       "    <tr>\n",
       "      <th>3</th>\n",
       "      <td>2.329620</td>\n",
       "      <td>0.724424</td>\n",
       "      <td>1.933060</td>\n",
       "      <td>0</td>\n",
       "      <td>0</td>\n",
       "    </tr>\n",
       "    <tr>\n",
       "      <th>4</th>\n",
       "      <td>-0.413830</td>\n",
       "      <td>-0.429516</td>\n",
       "      <td>-0.277415</td>\n",
       "      <td>0</td>\n",
       "      <td>1</td>\n",
       "    </tr>\n",
       "    <tr>\n",
       "      <th>5</th>\n",
       "      <td>-0.546100</td>\n",
       "      <td>-0.429516</td>\n",
       "      <td>1.027519</td>\n",
       "      <td>0</td>\n",
       "      <td>0</td>\n",
       "    </tr>\n",
       "    <tr>\n",
       "      <th>6</th>\n",
       "      <td>-0.534047</td>\n",
       "      <td>-0.044869</td>\n",
       "      <td>-0.192611</td>\n",
       "      <td>0</td>\n",
       "      <td>0</td>\n",
       "    </tr>\n",
       "    <tr>\n",
       "      <th>7</th>\n",
       "      <td>-0.068944</td>\n",
       "      <td>-0.429516</td>\n",
       "      <td>-0.351887</td>\n",
       "      <td>0</td>\n",
       "      <td>0</td>\n",
       "    </tr>\n",
       "    <tr>\n",
       "      <th>8</th>\n",
       "      <td>-0.392852</td>\n",
       "      <td>-0.044869</td>\n",
       "      <td>-1.410815</td>\n",
       "      <td>0</td>\n",
       "      <td>0</td>\n",
       "    </tr>\n",
       "    <tr>\n",
       "      <th>9</th>\n",
       "      <td>-0.522780</td>\n",
       "      <td>-1.198810</td>\n",
       "      <td>0.140877</td>\n",
       "      <td>0</td>\n",
       "      <td>0</td>\n",
       "    </tr>\n",
       "  </tbody>\n",
       "</table>\n",
       "</div>"
      ],
      "text/plain": [
       "    incwage  years_of_educ  potential_experience  non_white  sex\n",
       "0  0.606523      -0.044869              0.289084          0    1\n",
       "1 -0.530665      -0.044869              0.287699          1    0\n",
       "2  0.019349       0.339777              0.631867          0    1\n",
       "3  2.329620       0.724424              1.933060          0    0\n",
       "4 -0.413830      -0.429516             -0.277415          0    1\n",
       "5 -0.546100      -0.429516              1.027519          0    0\n",
       "6 -0.534047      -0.044869             -0.192611          0    0\n",
       "7 -0.068944      -0.429516             -0.351887          0    0\n",
       "8 -0.392852      -0.044869             -1.410815          0    0\n",
       "9 -0.522780      -1.198810              0.140877          0    0"
      ]
     },
     "execution_count": 4,
     "metadata": {},
     "output_type": "execute_result"
    }
   ],
   "source": [
    "# probe the generator for some samples\n",
    "mostly.probe('6a19773e-9bd7-402a-aa65-a75e1e688c26', size=10)"
   ]
  },
  {
   "cell_type": "markdown",
   "id": "29d0bf2a-faa3-4f32-b86d-bad32354b74d",
   "metadata": {},
   "source": [
    "We need 20 synthetic data sets. Original data set size was 197,756, so we need $197,756 \\times 20 = 3,955,120$ samples."
   ]
  },
  {
   "cell_type": "markdown",
   "id": "2b9e0f26-2647-4a01-bad8-ffa236b49a83",
   "metadata": {},
   "source": [
    "Due to limits on the free version, we will break it into four requests. This will be done manually over 4 days."
   ]
  },
  {
   "cell_type": "code",
   "execution_count": 5,
   "id": "f50baf60-52a2-4300-982b-30c0b455db8d",
   "metadata": {},
   "outputs": [
    {
     "data": {
      "text/html": [
       "<pre style=\"white-space:pre;overflow-x:auto;line-height:normal;font-family:Menlo,'DejaVu Sans Mono',consolas,'Courier New',monospace\">Created synthetic dataset <a href=\"https://app.mostly.ai/d/synthetic-datasets/df2bb30e-104a-4b39-8572-b67b6e77e255\" target=\"_blank\"><span style=\"color: #000080; text-decoration-color: #000080; text-decoration: underline\">df2bb30e-104a-4b39-8572-b67b6e77e255</span></a> with generator <a href=\"https://app.mostly.ai/d/generators/6a19773e-9bd7-402a-aa65-a75e1e688c26\" target=\"_blank\"><span style=\"color: #000080; text-decoration-color: #000080; text-decoration: underline\">6a19773e-9bd7-402a-aa65-a75e1e688c26</span></a>\n",
       "</pre>\n"
      ],
      "text/plain": [
       "Created synthetic dataset \u001b]8;id=729178;https://app.mostly.ai/d/synthetic-datasets/df2bb30e-104a-4b39-8572-b67b6e77e255\u001b\\\u001b[4;34mdf2bb30e-104a-4b39-8572-b67b6e77e255\u001b[0m\u001b]8;;\u001b\\ with generator \u001b]8;id=488348;https://app.mostly.ai/d/generators/6a19773e-9bd7-402a-aa65-a75e1e688c26\u001b\\\u001b[4;34m6a19773e-9bd7-402a-aa65-a75e1e688c26\u001b[0m\u001b]8;;\u001b\\\n"
      ]
     },
     "metadata": {},
     "output_type": "display_data"
    },
    {
     "data": {
      "text/html": [
       "<pre style=\"white-space:pre;overflow-x:auto;line-height:normal;font-family:Menlo,'DejaVu Sans Mono',consolas,'Courier New',monospace\">Started synthetic dataset generation\n",
       "</pre>\n"
      ],
      "text/plain": [
       "Started synthetic dataset generation\n"
      ]
     },
     "metadata": {},
     "output_type": "display_data"
    },
    {
     "data": {
      "application/vnd.jupyter.widget-view+json": {
       "model_id": "7d792e1db5084a4abe157ff78b0574ce",
       "version_major": 2,
       "version_minor": 0
      },
      "text/plain": [
       "Output()"
      ]
     },
     "metadata": {},
     "output_type": "display_data"
    },
    {
     "data": {
      "text/html": [
       "<pre style=\"white-space:pre;overflow-x:auto;line-height:normal;font-family:Menlo,'DejaVu Sans Mono',consolas,'Courier New',monospace\"></pre>\n"
      ],
      "text/plain": []
     },
     "metadata": {},
     "output_type": "display_data"
    },
    {
     "data": {
      "text/html": [
       "<pre style=\"white-space:pre;overflow-x:auto;line-height:normal;font-family:Menlo,'DejaVu Sans Mono',consolas,'Courier New',monospace\">\n",
       "</pre>\n"
      ],
      "text/plain": [
       "\n"
      ]
     },
     "metadata": {},
     "output_type": "display_data"
    },
    {
     "data": {
      "text/html": [
       "<pre style=\"white-space:pre;overflow-x:auto;line-height:normal;font-family:Menlo,'DejaVu Sans Mono',consolas,'Courier New',monospace\">🎉 <span style=\"color: #008000; text-decoration-color: #008000; font-weight: bold\">Your synthetic dataset is ready!</span> Use it to consume the generated data. Share it so others can do the same.\n",
       "</pre>\n"
      ],
      "text/plain": [
       "🎉 \u001b[1;32mYour synthetic dataset is ready!\u001b[0m Use it to consume the generated data. Share it so others can do the same.\n"
      ]
     },
     "metadata": {},
     "output_type": "display_data"
    },
    {
     "data": {
      "text/html": [
       "<div>\n",
       "<style scoped>\n",
       "    .dataframe tbody tr th:only-of-type {\n",
       "        vertical-align: middle;\n",
       "    }\n",
       "\n",
       "    .dataframe tbody tr th {\n",
       "        vertical-align: top;\n",
       "    }\n",
       "\n",
       "    .dataframe thead th {\n",
       "        text-align: right;\n",
       "    }\n",
       "</style>\n",
       "<table border=\"1\" class=\"dataframe\">\n",
       "  <thead>\n",
       "    <tr style=\"text-align: right;\">\n",
       "      <th></th>\n",
       "      <th>incwage</th>\n",
       "      <th>years_of_educ</th>\n",
       "      <th>potential_experience</th>\n",
       "      <th>non_white</th>\n",
       "      <th>sex</th>\n",
       "    </tr>\n",
       "  </thead>\n",
       "  <tbody>\n",
       "    <tr>\n",
       "      <th>0</th>\n",
       "      <td>0.290532</td>\n",
       "      <td>1.109071</td>\n",
       "      <td>1.938983</td>\n",
       "      <td>0</td>\n",
       "      <td>0</td>\n",
       "    </tr>\n",
       "    <tr>\n",
       "      <th>1</th>\n",
       "      <td>1.76231</td>\n",
       "      <td>1.109071</td>\n",
       "      <td>0.047618</td>\n",
       "      <td>0</td>\n",
       "      <td>0</td>\n",
       "    </tr>\n",
       "    <tr>\n",
       "      <th>2</th>\n",
       "      <td>-0.242653</td>\n",
       "      <td>1.109071</td>\n",
       "      <td>0.127913</td>\n",
       "      <td>0</td>\n",
       "      <td>1</td>\n",
       "    </tr>\n",
       "    <tr>\n",
       "      <th>3</th>\n",
       "      <td>-0.655865</td>\n",
       "      <td>-0.429516</td>\n",
       "      <td>1.448171</td>\n",
       "      <td>1</td>\n",
       "      <td>1</td>\n",
       "    </tr>\n",
       "    <tr>\n",
       "      <th>4</th>\n",
       "      <td>-0.215971</td>\n",
       "      <td>1.777461</td>\n",
       "      <td>-1.232504</td>\n",
       "      <td>0</td>\n",
       "      <td>1</td>\n",
       "    </tr>\n",
       "    <tr>\n",
       "      <th>...</th>\n",
       "      <td>...</td>\n",
       "      <td>...</td>\n",
       "      <td>...</td>\n",
       "      <td>...</td>\n",
       "      <td>...</td>\n",
       "    </tr>\n",
       "    <tr>\n",
       "      <th>9982</th>\n",
       "      <td>-0.262373</td>\n",
       "      <td>-1.19881</td>\n",
       "      <td>-1.084325</td>\n",
       "      <td>0</td>\n",
       "      <td>0</td>\n",
       "    </tr>\n",
       "    <tr>\n",
       "      <th>9983</th>\n",
       "      <td>1.272854</td>\n",
       "      <td>1.777461</td>\n",
       "      <td>1.08297</td>\n",
       "      <td>0</td>\n",
       "      <td>1</td>\n",
       "    </tr>\n",
       "    <tr>\n",
       "      <th>9984</th>\n",
       "      <td>-0.268793</td>\n",
       "      <td>-2.061237</td>\n",
       "      <td>1.714525</td>\n",
       "      <td>0</td>\n",
       "      <td>0</td>\n",
       "    </tr>\n",
       "    <tr>\n",
       "      <th>9985</th>\n",
       "      <td>-0.705486</td>\n",
       "      <td>-0.044869</td>\n",
       "      <td>-0.520967</td>\n",
       "      <td>0</td>\n",
       "      <td>1</td>\n",
       "    </tr>\n",
       "    <tr>\n",
       "      <th>9986</th>\n",
       "      <td>-0.397689</td>\n",
       "      <td>-0.044869</td>\n",
       "      <td>0.709316</td>\n",
       "      <td>0</td>\n",
       "      <td>0</td>\n",
       "    </tr>\n",
       "  </tbody>\n",
       "</table>\n",
       "<p>988780 rows × 5 columns</p>\n",
       "</div>"
      ],
      "text/plain": [
       "       incwage  years_of_educ  potential_experience  non_white  sex\n",
       "0     0.290532       1.109071              1.938983          0    0\n",
       "1      1.76231       1.109071              0.047618          0    0\n",
       "2    -0.242653       1.109071              0.127913          0    1\n",
       "3    -0.655865      -0.429516              1.448171          1    1\n",
       "4    -0.215971       1.777461             -1.232504          0    1\n",
       "...        ...            ...                   ...        ...  ...\n",
       "9982 -0.262373       -1.19881             -1.084325          0    0\n",
       "9983  1.272854       1.777461               1.08297          0    1\n",
       "9984 -0.268793      -2.061237              1.714525          0    0\n",
       "9985 -0.705486      -0.044869             -0.520967          0    1\n",
       "9986 -0.397689      -0.044869              0.709316          0    0\n",
       "\n",
       "[988780 rows x 5 columns]"
      ]
     },
     "execution_count": 5,
     "metadata": {},
     "output_type": "execute_result"
    }
   ],
   "source": [
    "# use generator to create a synthetic dataset\n",
    "sd = mostly.generate('6a19773e-9bd7-402a-aa65-a75e1e688c26', size=988_780)\n",
    "sd.data()"
   ]
  },
  {
   "cell_type": "markdown",
   "id": "6ba42828-466b-4312-a959-12ad71923bc9",
   "metadata": {},
   "source": [
    "Split the generated synthetic data into 20 data sets."
   ]
  },
  {
   "cell_type": "code",
   "execution_count": 6,
   "id": "79b82d7b-3f5e-47cf-96fc-0b7d0ef60d94",
   "metadata": {},
   "outputs": [
    {
     "name": "stderr",
     "output_type": "stream",
     "text": [
      "C:\\ProgramData\\anaconda3\\Lib\\site-packages\\numpy\\core\\fromnumeric.py:59: FutureWarning: 'DataFrame.swapaxes' is deprecated and will be removed in a future version. Please use 'DataFrame.transpose' instead.\n",
      "  return bound(*args, **kwds)\n"
     ]
    }
   ],
   "source": [
    "split_sd = np.array_split(sd.data(), 5)"
   ]
  },
  {
   "cell_type": "code",
   "execution_count": 7,
   "id": "30757b03-134f-4910-8995-7102781c79c0",
   "metadata": {},
   "outputs": [
    {
     "data": {
      "text/html": [
       "<div>\n",
       "<style scoped>\n",
       "    .dataframe tbody tr th:only-of-type {\n",
       "        vertical-align: middle;\n",
       "    }\n",
       "\n",
       "    .dataframe tbody tr th {\n",
       "        vertical-align: top;\n",
       "    }\n",
       "\n",
       "    .dataframe thead th {\n",
       "        text-align: right;\n",
       "    }\n",
       "</style>\n",
       "<table border=\"1\" class=\"dataframe\">\n",
       "  <thead>\n",
       "    <tr style=\"text-align: right;\">\n",
       "      <th></th>\n",
       "      <th>incwage</th>\n",
       "      <th>years_of_educ</th>\n",
       "      <th>potential_experience</th>\n",
       "      <th>non_white</th>\n",
       "      <th>sex</th>\n",
       "    </tr>\n",
       "  </thead>\n",
       "  <tbody>\n",
       "    <tr>\n",
       "      <th>0</th>\n",
       "      <td>0.290532</td>\n",
       "      <td>1.109071</td>\n",
       "      <td>1.938983</td>\n",
       "      <td>0</td>\n",
       "      <td>0</td>\n",
       "    </tr>\n",
       "    <tr>\n",
       "      <th>1</th>\n",
       "      <td>1.76231</td>\n",
       "      <td>1.109071</td>\n",
       "      <td>0.047618</td>\n",
       "      <td>0</td>\n",
       "      <td>0</td>\n",
       "    </tr>\n",
       "    <tr>\n",
       "      <th>2</th>\n",
       "      <td>-0.242653</td>\n",
       "      <td>1.109071</td>\n",
       "      <td>0.127913</td>\n",
       "      <td>0</td>\n",
       "      <td>1</td>\n",
       "    </tr>\n",
       "    <tr>\n",
       "      <th>3</th>\n",
       "      <td>-0.655865</td>\n",
       "      <td>-0.429516</td>\n",
       "      <td>1.448171</td>\n",
       "      <td>1</td>\n",
       "      <td>1</td>\n",
       "    </tr>\n",
       "    <tr>\n",
       "      <th>4</th>\n",
       "      <td>-0.215971</td>\n",
       "      <td>1.777461</td>\n",
       "      <td>-1.232504</td>\n",
       "      <td>0</td>\n",
       "      <td>1</td>\n",
       "    </tr>\n",
       "    <tr>\n",
       "      <th>...</th>\n",
       "      <td>...</td>\n",
       "      <td>...</td>\n",
       "      <td>...</td>\n",
       "      <td>...</td>\n",
       "      <td>...</td>\n",
       "    </tr>\n",
       "    <tr>\n",
       "      <th>7985</th>\n",
       "      <td>2.225233</td>\n",
       "      <td>1.109071</td>\n",
       "      <td>0.472216</td>\n",
       "      <td>0</td>\n",
       "      <td>0</td>\n",
       "    </tr>\n",
       "    <tr>\n",
       "      <th>7986</th>\n",
       "      <td>1.326913</td>\n",
       "      <td>-0.044869</td>\n",
       "      <td>1.042425</td>\n",
       "      <td>0</td>\n",
       "      <td>0</td>\n",
       "    </tr>\n",
       "    <tr>\n",
       "      <th>7987</th>\n",
       "      <td>-0.494483</td>\n",
       "      <td>1.109071</td>\n",
       "      <td>0.616946</td>\n",
       "      <td>0</td>\n",
       "      <td>1</td>\n",
       "    </tr>\n",
       "    <tr>\n",
       "      <th>7988</th>\n",
       "      <td>-0.226832</td>\n",
       "      <td>-0.044869</td>\n",
       "      <td>-1.17096</td>\n",
       "      <td>0</td>\n",
       "      <td>1</td>\n",
       "    </tr>\n",
       "    <tr>\n",
       "      <th>7989</th>\n",
       "      <td>-0.984614</td>\n",
       "      <td>-0.044869</td>\n",
       "      <td>-1.51103</td>\n",
       "      <td>0</td>\n",
       "      <td>0</td>\n",
       "    </tr>\n",
       "  </tbody>\n",
       "</table>\n",
       "<p>197756 rows × 5 columns</p>\n",
       "</div>"
      ],
      "text/plain": [
       "       incwage  years_of_educ  potential_experience  non_white  sex\n",
       "0     0.290532       1.109071              1.938983          0    0\n",
       "1      1.76231       1.109071              0.047618          0    0\n",
       "2    -0.242653       1.109071              0.127913          0    1\n",
       "3    -0.655865      -0.429516              1.448171          1    1\n",
       "4    -0.215971       1.777461             -1.232504          0    1\n",
       "...        ...            ...                   ...        ...  ...\n",
       "7985  2.225233       1.109071              0.472216          0    0\n",
       "7986  1.326913      -0.044869              1.042425          0    0\n",
       "7987 -0.494483       1.109071              0.616946          0    1\n",
       "7988 -0.226832      -0.044869              -1.17096          0    1\n",
       "7989 -0.984614      -0.044869              -1.51103          0    0\n",
       "\n",
       "[197756 rows x 5 columns]"
      ]
     },
     "execution_count": 7,
     "metadata": {},
     "output_type": "execute_result"
    }
   ],
   "source": [
    "split_sd[0]"
   ]
  },
  {
   "cell_type": "markdown",
   "id": "cf1307a5-19d7-490d-8916-30316609bb51",
   "metadata": {},
   "source": [
    "# MUST CHANGE INDEX WHEN SAVING ADDITIONAL DATASETS SO YOU DON'T OVERWRITE EXISTING"
   ]
  },
  {
   "cell_type": "code",
   "execution_count": 8,
   "id": "7b281afe-2169-4044-b773-23eaefe8d488",
   "metadata": {},
   "outputs": [],
   "source": [
    "for i, sX in enumerate(split_sd):\n",
    "    sX.to_csv(\"../Data/IPUMS/Synthetic Datasets/mostly_\" + str(i) + \".csv\", index=False)"
   ]
  },
  {
   "cell_type": "code",
   "execution_count": null,
   "id": "edc66009-b6cb-4229-a4b6-6c00a7a97a17",
   "metadata": {},
   "outputs": [],
   "source": []
  }
 ],
 "metadata": {
  "kernelspec": {
   "display_name": "Python 3 (ipykernel)",
   "language": "python",
   "name": "python3"
  },
  "language_info": {
   "codemirror_mode": {
    "name": "ipython",
    "version": 3
   },
   "file_extension": ".py",
   "mimetype": "text/x-python",
   "name": "python",
   "nbconvert_exporter": "python",
   "pygments_lexer": "ipython3",
   "version": "3.11.7"
  }
 },
 "nbformat": 4,
 "nbformat_minor": 5
}
