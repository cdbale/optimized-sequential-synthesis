{
 "cells": [
  {
   "cell_type": "markdown",
   "id": "d3f2ea60",
   "metadata": {},
   "source": [
    "Synthesize Criteo data using a gaussian mixture model and sequential multinomial logit models. (Note that this file uses the updated synthesis and optimization functions from the `helper_functions.py` file.)."
   ]
  },
  {
   "cell_type": "code",
   "execution_count": 1,
   "id": "c9709e90",
   "metadata": {},
   "outputs": [
    {
     "name": "stdout",
     "output_type": "stream",
     "text": [
      "OMP_NUM_THREADS set to 1\n",
      "LOKY_MAX_CPU_COUNT set to 20 cores\n"
     ]
    },
    {
     "data": {
      "text/plain": [
       "20"
      ]
     },
     "execution_count": 1,
     "metadata": {},
     "output_type": "execute_result"
    }
   ],
   "source": [
    "from sklearn.mixture import GaussianMixture\n",
    "import matplotlib.pyplot as plt\n",
    "import sys\n",
    "\n",
    "# Add the parent directory to path\n",
    "sys.path.append('..')\n",
    "\n",
    "# Then import\n",
    "from helper_functions import *\n",
    "\n",
    "rng = np.random.RandomState(42)\n",
    "\n",
    "configure_parallel_environment()"
   ]
  },
  {
   "cell_type": "markdown",
   "id": "9b703917",
   "metadata": {},
   "source": [
    "Import Criteo data."
   ]
  },
  {
   "cell_type": "code",
   "execution_count": 2,
   "id": "7c928f76",
   "metadata": {},
   "outputs": [
    {
     "name": "stderr",
     "output_type": "stream",
     "text": [
      "C:\\Users\\camer\\AppData\\Local\\Temp\\ipykernel_3772\\2941239941.py:1: ParserWarning: Falling back to the 'python' engine because the 'c' engine does not support regex separators (separators > 1 char and different from '\\s+' are interpreted as regex); you can avoid this warning by specifying engine='python'.\n",
      "  train_data = pd.read_csv(\"../../Data/Criteo/cleaned_criteo.gz\",\n"
     ]
    }
   ],
   "source": [
    "train_data = pd.read_csv(\"../../Data/Criteo/cleaned_criteo.gz\", \n",
    "                 compression='gzip', \n",
    "                 sep='\\,',\n",
    "                 header=0)"
   ]
  },
  {
   "cell_type": "markdown",
   "id": "3500371e",
   "metadata": {},
   "source": [
    "View confidential data to synthesize."
   ]
  },
  {
   "cell_type": "code",
   "execution_count": 3,
   "id": "437e8f17",
   "metadata": {},
   "outputs": [
    {
     "data": {
      "text/html": [
       "<div>\n",
       "<style scoped>\n",
       "    .dataframe tbody tr th:only-of-type {\n",
       "        vertical-align: middle;\n",
       "    }\n",
       "\n",
       "    .dataframe tbody tr th {\n",
       "        vertical-align: top;\n",
       "    }\n",
       "\n",
       "    .dataframe thead th {\n",
       "        text-align: right;\n",
       "    }\n",
       "</style>\n",
       "<table border=\"1\" class=\"dataframe\">\n",
       "  <thead>\n",
       "    <tr style=\"text-align: right;\">\n",
       "      <th></th>\n",
       "      <th>f0</th>\n",
       "      <th>f1</th>\n",
       "      <th>f2</th>\n",
       "      <th>f3</th>\n",
       "      <th>f4</th>\n",
       "      <th>f5</th>\n",
       "      <th>f6</th>\n",
       "      <th>f7</th>\n",
       "      <th>f8</th>\n",
       "      <th>f9</th>\n",
       "      <th>f10</th>\n",
       "      <th>f11</th>\n",
       "      <th>treatment</th>\n",
       "      <th>conversion</th>\n",
       "      <th>visit</th>\n",
       "      <th>exposure</th>\n",
       "    </tr>\n",
       "  </thead>\n",
       "  <tbody>\n",
       "    <tr>\n",
       "      <th>0</th>\n",
       "      <td>2.534995</td>\n",
       "      <td>2.308533</td>\n",
       "      <td>2.194602</td>\n",
       "      <td>107.757316</td>\n",
       "      <td>2.330251</td>\n",
       "      <td>61.279994</td>\n",
       "      <td>1.342378e+00</td>\n",
       "      <td>1.575636</td>\n",
       "      <td>52.216366</td>\n",
       "      <td>2.579463</td>\n",
       "      <td>1.667778</td>\n",
       "      <td>0.84478</td>\n",
       "      <td>1</td>\n",
       "      <td>0</td>\n",
       "      <td>0</td>\n",
       "      <td>0</td>\n",
       "    </tr>\n",
       "    <tr>\n",
       "      <th>1</th>\n",
       "      <td>2.534995</td>\n",
       "      <td>2.308533</td>\n",
       "      <td>2.197523</td>\n",
       "      <td>107.757316</td>\n",
       "      <td>2.330251</td>\n",
       "      <td>61.279994</td>\n",
       "      <td>1.342378e+00</td>\n",
       "      <td>1.575636</td>\n",
       "      <td>52.216366</td>\n",
       "      <td>2.579463</td>\n",
       "      <td>1.667778</td>\n",
       "      <td>0.84478</td>\n",
       "      <td>1</td>\n",
       "      <td>0</td>\n",
       "      <td>0</td>\n",
       "      <td>0</td>\n",
       "    </tr>\n",
       "    <tr>\n",
       "      <th>2</th>\n",
       "      <td>2.534995</td>\n",
       "      <td>2.308533</td>\n",
       "      <td>2.193303</td>\n",
       "      <td>107.757316</td>\n",
       "      <td>2.330251</td>\n",
       "      <td>61.279994</td>\n",
       "      <td>1.342378e+00</td>\n",
       "      <td>1.575636</td>\n",
       "      <td>52.216366</td>\n",
       "      <td>2.579463</td>\n",
       "      <td>1.667778</td>\n",
       "      <td>0.84478</td>\n",
       "      <td>1</td>\n",
       "      <td>0</td>\n",
       "      <td>0</td>\n",
       "      <td>0</td>\n",
       "    </tr>\n",
       "    <tr>\n",
       "      <th>3</th>\n",
       "      <td>2.534995</td>\n",
       "      <td>2.308533</td>\n",
       "      <td>2.197536</td>\n",
       "      <td>107.757316</td>\n",
       "      <td>2.330251</td>\n",
       "      <td>61.279994</td>\n",
       "      <td>1.342378e+00</td>\n",
       "      <td>1.575636</td>\n",
       "      <td>52.216366</td>\n",
       "      <td>2.579463</td>\n",
       "      <td>1.667778</td>\n",
       "      <td>0.84478</td>\n",
       "      <td>1</td>\n",
       "      <td>0</td>\n",
       "      <td>0</td>\n",
       "      <td>0</td>\n",
       "    </tr>\n",
       "    <tr>\n",
       "      <th>4</th>\n",
       "      <td>2.534995</td>\n",
       "      <td>2.308533</td>\n",
       "      <td>2.201438</td>\n",
       "      <td>107.757316</td>\n",
       "      <td>2.330251</td>\n",
       "      <td>61.279994</td>\n",
       "      <td>1.342378e+00</td>\n",
       "      <td>1.575636</td>\n",
       "      <td>52.216366</td>\n",
       "      <td>2.579463</td>\n",
       "      <td>1.667778</td>\n",
       "      <td>0.84478</td>\n",
       "      <td>1</td>\n",
       "      <td>0</td>\n",
       "      <td>0</td>\n",
       "      <td>0</td>\n",
       "    </tr>\n",
       "    <tr>\n",
       "      <th>...</th>\n",
       "      <td>...</td>\n",
       "      <td>...</td>\n",
       "      <td>...</td>\n",
       "      <td>...</td>\n",
       "      <td>...</td>\n",
       "      <td>...</td>\n",
       "      <td>...</td>\n",
       "      <td>...</td>\n",
       "      <td>...</td>\n",
       "      <td>...</td>\n",
       "      <td>...</td>\n",
       "      <td>...</td>\n",
       "      <td>...</td>\n",
       "      <td>...</td>\n",
       "      <td>...</td>\n",
       "      <td>...</td>\n",
       "    </tr>\n",
       "    <tr>\n",
       "      <th>13979587</th>\n",
       "      <td>3.269484</td>\n",
       "      <td>2.308533</td>\n",
       "      <td>2.197919</td>\n",
       "      <td>107.757316</td>\n",
       "      <td>2.330251</td>\n",
       "      <td>61.279994</td>\n",
       "      <td>3.754896e-02</td>\n",
       "      <td>1.575636</td>\n",
       "      <td>46.505852</td>\n",
       "      <td>2.579463</td>\n",
       "      <td>1.667778</td>\n",
       "      <td>0.84478</td>\n",
       "      <td>1</td>\n",
       "      <td>0</td>\n",
       "      <td>0</td>\n",
       "      <td>0</td>\n",
       "    </tr>\n",
       "    <tr>\n",
       "      <th>13979588</th>\n",
       "      <td>2.537041</td>\n",
       "      <td>2.368327</td>\n",
       "      <td>2.105887</td>\n",
       "      <td>0.182664</td>\n",
       "      <td>2.330251</td>\n",
       "      <td>20.349663</td>\n",
       "      <td>8.696717e-07</td>\n",
       "      <td>1.835621</td>\n",
       "      <td>53.083067</td>\n",
       "      <td>2.579463</td>\n",
       "      <td>1.667778</td>\n",
       "      <td>0.84478</td>\n",
       "      <td>1</td>\n",
       "      <td>0</td>\n",
       "      <td>0</td>\n",
       "      <td>1</td>\n",
       "    </tr>\n",
       "    <tr>\n",
       "      <th>13979589</th>\n",
       "      <td>2.563144</td>\n",
       "      <td>2.308533</td>\n",
       "      <td>2.126071</td>\n",
       "      <td>2.322030</td>\n",
       "      <td>2.400581</td>\n",
       "      <td>61.279994</td>\n",
       "      <td>2.530380e-04</td>\n",
       "      <td>1.575636</td>\n",
       "      <td>43.781534</td>\n",
       "      <td>3.159982</td>\n",
       "      <td>1.819567</td>\n",
       "      <td>0.84478</td>\n",
       "      <td>1</td>\n",
       "      <td>0</td>\n",
       "      <td>1</td>\n",
       "      <td>0</td>\n",
       "    </tr>\n",
       "    <tr>\n",
       "      <th>13979590</th>\n",
       "      <td>3.211048</td>\n",
       "      <td>2.308533</td>\n",
       "      <td>2.105887</td>\n",
       "      <td>107.757316</td>\n",
       "      <td>2.330251</td>\n",
       "      <td>61.279994</td>\n",
       "      <td>2.757648e-01</td>\n",
       "      <td>1.575636</td>\n",
       "      <td>53.083067</td>\n",
       "      <td>2.579463</td>\n",
       "      <td>1.667778</td>\n",
       "      <td>0.84478</td>\n",
       "      <td>1</td>\n",
       "      <td>0</td>\n",
       "      <td>0</td>\n",
       "      <td>0</td>\n",
       "    </tr>\n",
       "    <tr>\n",
       "      <th>13979591</th>\n",
       "      <td>2.534995</td>\n",
       "      <td>2.308533</td>\n",
       "      <td>2.105887</td>\n",
       "      <td>107.757316</td>\n",
       "      <td>2.330251</td>\n",
       "      <td>20.349663</td>\n",
       "      <td>1.342378e+00</td>\n",
       "      <td>2.233510</td>\n",
       "      <td>53.083067</td>\n",
       "      <td>2.579463</td>\n",
       "      <td>1.667778</td>\n",
       "      <td>0.84478</td>\n",
       "      <td>1</td>\n",
       "      <td>0</td>\n",
       "      <td>0</td>\n",
       "      <td>0</td>\n",
       "    </tr>\n",
       "  </tbody>\n",
       "</table>\n",
       "<p>13979592 rows × 16 columns</p>\n",
       "</div>"
      ],
      "text/plain": [
       "                f0        f1        f2          f3        f4         f5  \\\n",
       "0         2.534995  2.308533  2.194602  107.757316  2.330251  61.279994   \n",
       "1         2.534995  2.308533  2.197523  107.757316  2.330251  61.279994   \n",
       "2         2.534995  2.308533  2.193303  107.757316  2.330251  61.279994   \n",
       "3         2.534995  2.308533  2.197536  107.757316  2.330251  61.279994   \n",
       "4         2.534995  2.308533  2.201438  107.757316  2.330251  61.279994   \n",
       "...            ...       ...       ...         ...       ...        ...   \n",
       "13979587  3.269484  2.308533  2.197919  107.757316  2.330251  61.279994   \n",
       "13979588  2.537041  2.368327  2.105887    0.182664  2.330251  20.349663   \n",
       "13979589  2.563144  2.308533  2.126071    2.322030  2.400581  61.279994   \n",
       "13979590  3.211048  2.308533  2.105887  107.757316  2.330251  61.279994   \n",
       "13979591  2.534995  2.308533  2.105887  107.757316  2.330251  20.349663   \n",
       "\n",
       "                    f6        f7         f8        f9       f10      f11  \\\n",
       "0         1.342378e+00  1.575636  52.216366  2.579463  1.667778  0.84478   \n",
       "1         1.342378e+00  1.575636  52.216366  2.579463  1.667778  0.84478   \n",
       "2         1.342378e+00  1.575636  52.216366  2.579463  1.667778  0.84478   \n",
       "3         1.342378e+00  1.575636  52.216366  2.579463  1.667778  0.84478   \n",
       "4         1.342378e+00  1.575636  52.216366  2.579463  1.667778  0.84478   \n",
       "...                ...       ...        ...       ...       ...      ...   \n",
       "13979587  3.754896e-02  1.575636  46.505852  2.579463  1.667778  0.84478   \n",
       "13979588  8.696717e-07  1.835621  53.083067  2.579463  1.667778  0.84478   \n",
       "13979589  2.530380e-04  1.575636  43.781534  3.159982  1.819567  0.84478   \n",
       "13979590  2.757648e-01  1.575636  53.083067  2.579463  1.667778  0.84478   \n",
       "13979591  1.342378e+00  2.233510  53.083067  2.579463  1.667778  0.84478   \n",
       "\n",
       "          treatment  conversion  visit  exposure  \n",
       "0                 1           0      0         0  \n",
       "1                 1           0      0         0  \n",
       "2                 1           0      0         0  \n",
       "3                 1           0      0         0  \n",
       "4                 1           0      0         0  \n",
       "...             ...         ...    ...       ...  \n",
       "13979587          1           0      0         0  \n",
       "13979588          1           0      0         1  \n",
       "13979589          1           0      1         0  \n",
       "13979590          1           0      0         0  \n",
       "13979591          1           0      0         0  \n",
       "\n",
       "[13979592 rows x 16 columns]"
      ]
     },
     "execution_count": 3,
     "metadata": {},
     "output_type": "execute_result"
    }
   ],
   "source": [
    "train_data"
   ]
  },
  {
   "cell_type": "markdown",
   "id": "a5676d0d",
   "metadata": {},
   "source": [
    "Define order of synthesis. We first synthesize the joint distribution of the numeric features `f0`-`f11` using a Gaussian mixture model, followed by `treatment`, `exposure`, `visit` and `conversion` synthesized by sequential multinomial logit models."
   ]
  },
  {
   "cell_type": "code",
   "execution_count": 4,
   "id": "d62d9ecc",
   "metadata": {},
   "outputs": [],
   "source": [
    "# synthesis steps\n",
    "# written as a list of tuples (features, model)\n",
    "synthesis_steps = [\n",
    "    (['f0', 'f1', 'f2', 'f3', 'f4', 'f5', 'f6', 'f7', 'f8', 'f9', 'f10', 'f11'], 'gmm'),\n",
    "    ('treatment', 'multinomial'),\n",
    "    ('exposure', 'multinomial'),\n",
    "    ('visit', 'multinomial'),\n",
    "    ('conversion', 'multinomial')\n",
    "]"
   ]
  },
  {
   "cell_type": "markdown",
   "id": "d6d725b1",
   "metadata": {},
   "source": [
    "Set up dictionary of parameter bounds for the Bayesian optimization process. The current state of the code requires a set of bounds for each parameter being optimized."
   ]
  },
  {
   "cell_type": "code",
   "execution_count": 5,
   "id": "41e1a7ec",
   "metadata": {},
   "outputs": [],
   "source": [
    "# parameter bounds\n",
    "param_bounds = {\n",
    "    'gmm': {\n",
    "        'num_components': (10, 100.99),\n",
    "    },\n",
    "    'multinomial': {\n",
    "        'treatment': {'C': (0.001, 3)},\n",
    "        'exposure': {'C': (0.001, 3)},\n",
    "        'visit': {'C': (0.001, 3)},\n",
    "        'conversion': {'C': (0.001, 3)}\n",
    "    }\n",
    "}"
   ]
  },
  {
   "cell_type": "markdown",
   "id": "1b25dae6",
   "metadata": {},
   "source": [
    "Define additional parameters of the optimization process:\n",
    "\n",
    "- num_synthetic_datasets: Number of synthetic datasets to generate on each iteration of the optimizer\n",
    "- num_iter_optimization: Number of iterations to run the optimizer\n",
    "- num_init_optimization: Number of initializations to perform prior to optimized iterations\n",
    "- random_states: run the optimizer all the way through for each random seed in this list"
   ]
  },
  {
   "cell_type": "code",
   "execution_count": 6,
   "id": "ff61d992",
   "metadata": {},
   "outputs": [],
   "source": [
    "number_synthetic_datasets=10\n",
    "num_iter_optimization=25\n",
    "num_init_optimization=5\n",
    "random_states = [1006, 428]"
   ]
  },
  {
   "cell_type": "markdown",
   "id": "37b93984",
   "metadata": {},
   "source": [
    "Use the `optimization_models` function to perform the optimized synthesis process. The function returns the objective value associated with each iteration, the best set of parameters for each random seed, and the final optimization object from the Bayesian optimization function."
   ]
  },
  {
   "cell_type": "code",
   "execution_count": null,
   "id": "a0ca4dc8",
   "metadata": {},
   "outputs": [
    {
     "name": "stdout",
     "output_type": "stream",
     "text": [
      "|   iter    |  target   |    x0     |    x1     |    x2     |    x3     |    x4     |\n",
      "-------------------------------------------------------------------------------------\n"
     ]
    }
   ],
   "source": [
    "optimization_results = [optimize_models(train_data=train_data, \n",
    "                                        number_synthetic_datasets=number_synthetic_datasets,\n",
    "                                        synthesis_steps=synthesis_steps,\n",
    "                                        param_bounds=param_bounds,\n",
    "                                        random_state=r,\n",
    "                                        num_iter_optimization=num_iter_optimization,\n",
    "                                        num_init_optimization=num_init_optimization) for r in random_states]"
   ]
  },
  {
   "cell_type": "code",
   "execution_count": null,
   "id": "2918ad83",
   "metadata": {},
   "outputs": [],
   "source": [
    "run_targets = [np.minimum.accumulate(-i['optimizer'].space.target) for i in optimization_results]"
   ]
  },
  {
   "cell_type": "code",
   "execution_count": null,
   "id": "01639512",
   "metadata": {},
   "outputs": [
    {
     "data": {
      "image/png": "[encoded data removed]",
      "text/plain": [
       "<Figure size 640x480 with 1 Axes>"
      ]
     },
     "metadata": {},
     "output_type": "display_data"
    }
   ],
   "source": [
    "fig = plt.figure()\n",
    "plt.plot(run_targets[0])\n",
    "plt.scatter(np.arange(len(run_targets[0])), run_targets[0], s=6)\n",
    "plt.plot(run_targets[1])\n",
    "plt.scatter(np.arange(len(run_targets[1])), run_targets[1], s=6)\n",
    "plt.title(\"South Korean COVID-19 Data - Objective Value for MNL Synthesis\")\n",
    "plt.xlabel(\"Iteration\")\n",
    "plt.ylabel(\"Minimum Objective Value\")\n",
    "plt.show()"
   ]
  },
  {
   "cell_type": "code",
   "execution_count": 14,
   "id": "2ecebe05",
   "metadata": {},
   "outputs": [
    {
     "data": {
      "text/plain": [
       "[{'best_params': {'gmm': {'num_components': 54},\n",
       "   'multinomial': {'sex': {'C': np.float64(1.9477600882029753)},\n",
       "    'age': {'C': np.float64(1.2666567499200732)},\n",
       "    'state': {'C': np.float64(0.32041438264804734)}}},\n",
       "  'best_score': np.float64(0.06738128654490763),\n",
       "  'optimizer': <bayes_opt.bayesian_optimization.BayesianOptimization at 0x22ca70ed090>},\n",
       " {'best_params': {'gmm': {'num_components': 69},\n",
       "   'multinomial': {'sex': {'C': np.float64(2.99760152262256)},\n",
       "    'age': {'C': np.float64(0.05078359805633225)},\n",
       "    'state': {'C': np.float64(0.8489720564774512)}}},\n",
       "  'best_score': np.float64(0.009185595310751919),\n",
       "  'optimizer': <bayes_opt.bayesian_optimization.BayesianOptimization at 0x22ca70ee850>}]"
      ]
     },
     "execution_count": 14,
     "metadata": {},
     "output_type": "execute_result"
    }
   ],
   "source": [
    "optimization_results"
   ]
  },
  {
   "cell_type": "code",
   "execution_count": 20,
   "id": "074843b5",
   "metadata": {},
   "outputs": [],
   "source": [
    "best_params = optimization_results[np.argmin([x['best_score'] for x in optimization_results])]['best_params']"
   ]
  },
  {
   "cell_type": "code",
   "execution_count": 21,
   "id": "b2c6217d",
   "metadata": {},
   "outputs": [
    {
     "data": {
      "text/plain": [
       "{'gmm': {'num_components': 69},\n",
       " 'multinomial': {'sex': {'C': np.float64(2.99760152262256)},\n",
       "  'age': {'C': np.float64(0.05078359805633225)},\n",
       "  'state': {'C': np.float64(0.8489720564774512)}}}"
      ]
     },
     "execution_count": 21,
     "metadata": {},
     "output_type": "execute_result"
    }
   ],
   "source": [
    "best_params"
   ]
  },
  {
   "cell_type": "code",
   "execution_count": 22,
   "id": "77115b45",
   "metadata": {},
   "outputs": [
    {
     "name": "stderr",
     "output_type": "stream",
     "text": [
      "c:\\Users\\camer\\anaconda3\\Lib\\site-packages\\sklearn\\linear_model\\_sag.py:348: ConvergenceWarning: The max_iter was reached which means the coef_ did not converge\n",
      "  warnings.warn(\n"
     ]
    }
   ],
   "source": [
    "full_ratios, full_sXs = perform_synthesis(\n",
    "    train_data=train_data,\n",
    "    number_synthetic_datasets=20,\n",
    "    synthesis_steps=synthesis_steps,\n",
    "    param_values=best_params\n",
    ")"
   ]
  },
  {
   "cell_type": "code",
   "execution_count": 23,
   "id": "b3b1fb33",
   "metadata": {},
   "outputs": [
    {
     "data": {
      "text/plain": [
       "np.float64(0.8590377663770157)"
      ]
     },
     "execution_count": 23,
     "metadata": {},
     "output_type": "execute_result"
    }
   ],
   "source": [
    "np.mean(full_ratios)"
   ]
  },
  {
   "cell_type": "code",
   "execution_count": 24,
   "id": "65aaee2e",
   "metadata": {},
   "outputs": [
    {
     "data": {
      "image/png": "[encoded data removed]",
      "text/plain": [
       "<Figure size 640x480 with 1 Axes>"
      ]
     },
     "metadata": {},
     "output_type": "display_data"
    }
   ],
   "source": [
    "plt.violinplot(full_ratios)\n",
    "plt.xlabel(\"Density\")\n",
    "plt.ylabel(\"pMSE Ratio\")\n",
    "plt.title(\"Distribution of pMSE Ratios\")\n",
    "plt.show()"
   ]
  },
  {
   "cell_type": "code",
   "execution_count": 25,
   "id": "2c92900d",
   "metadata": {},
   "outputs": [],
   "source": [
    "synthetic_data_path = \"../../Data/SK/\"\n",
    "\n",
    "for i, sX in enumerate(full_sXs):\n",
    "    if not os.path.exists(synthetic_data_path):\n",
    "        os.makedirs(synthetic_data_path)\n",
    "    sX.to_csv(synthetic_data_path + \"mnl_\" + str(i) + \".csv\", index=False)"
   ]
  },
  {
   "cell_type": "markdown",
   "id": "7b57ed56",
   "metadata": {},
   "source": [
    "End of file."
   ]
  }
 ],
 "metadata": {
  "kernelspec": {
   "display_name": "base",
   "language": "python",
   "name": "python3"
  },
  "language_info": {
   "codemirror_mode": {
    "name": "ipython",
    "version": 3
   },
   "file_extension": ".py",
   "mimetype": "text/x-python",
   "name": "python",
   "nbconvert_exporter": "python",
   "pygments_lexer": "ipython3",
   "version": "3.13.5"
  }
 },
 "nbformat": 4,
 "nbformat_minor": 5
}
