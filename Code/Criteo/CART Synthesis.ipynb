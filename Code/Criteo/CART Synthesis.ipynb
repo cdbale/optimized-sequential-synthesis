{
 "cells": [
  {
   "cell_type": "markdown",
   "id": "d3f2ea60",
   "metadata": {},
   "source": [
    "Synthesize Criteo data using sequential CART models. (Note that this file uses the updated synthesis and optimization functions from the `helper_functions.py` file.)."
   ]
  },
  {
   "cell_type": "code",
   "execution_count": 1,
   "id": "c9709e90",
   "metadata": {},
   "outputs": [],
   "source": [
    "import matplotlib.pyplot as plt\n",
    "import sys\n",
    "\n",
    "# Add the parent directory to path\n",
    "sys.path.append('..')\n",
    "\n",
    "# Then import\n",
    "from helper_functions import *\n",
    "\n",
    "rng = np.random.RandomState(42)"
   ]
  },
  {
   "cell_type": "markdown",
   "id": "9b703917",
   "metadata": {},
   "source": [
    "Import Criteo data (small version for testing)"
   ]
  },
  {
   "cell_type": "code",
   "execution_count": 2,
   "id": "7c928f76",
   "metadata": {},
   "outputs": [],
   "source": [
    "# train_data = pd.read_csv(\"../../Data/Criteo/cleaned_criteo_small.gz\",\n",
    "#                          compression='gzip', \n",
    "#                          sep='\\,',\n",
    "#                          header=0,\n",
    "#                          engine='python')\n",
    "# data_set = \"small\"\n",
    "\n",
    "train_data = pd.read_csv(\"../../Data/Criteo/cleaned_criteo.gz\",\n",
    "                         compression='gzip', \n",
    "                         sep='\\,',\n",
    "                         header=0,\n",
    "                         engine='python')\n",
    "data_set = \"full\""
   ]
  },
  {
   "cell_type": "markdown",
   "id": "3500371e",
   "metadata": {},
   "source": [
    "View confidential data to synthesize."
   ]
  },
  {
   "cell_type": "code",
   "execution_count": 3,
   "id": "437e8f17",
   "metadata": {},
   "outputs": [
    {
     "data": {
      "text/html": [
       "<div>\n",
       "<style scoped>\n",
       "    .dataframe tbody tr th:only-of-type {\n",
       "        vertical-align: middle;\n",
       "    }\n",
       "\n",
       "    .dataframe tbody tr th {\n",
       "        vertical-align: top;\n",
       "    }\n",
       "\n",
       "    .dataframe thead th {\n",
       "        text-align: right;\n",
       "    }\n",
       "</style>\n",
       "<table border=\"1\" class=\"dataframe\">\n",
       "  <thead>\n",
       "    <tr style=\"text-align: right;\">\n",
       "      <th></th>\n",
       "      <th>f0</th>\n",
       "      <th>f1</th>\n",
       "      <th>f2</th>\n",
       "      <th>f3</th>\n",
       "      <th>f4</th>\n",
       "      <th>f5</th>\n",
       "      <th>f6</th>\n",
       "      <th>f7</th>\n",
       "      <th>f8</th>\n",
       "      <th>f9</th>\n",
       "      <th>f10</th>\n",
       "      <th>f11</th>\n",
       "      <th>treatment</th>\n",
       "      <th>conversion</th>\n",
       "      <th>visit</th>\n",
       "      <th>exposure</th>\n",
       "    </tr>\n",
       "  </thead>\n",
       "  <tbody>\n",
       "    <tr>\n",
       "      <th>0</th>\n",
       "      <td>2.534995</td>\n",
       "      <td>2.308533</td>\n",
       "      <td>2.194602</td>\n",
       "      <td>107.757316</td>\n",
       "      <td>2.330251</td>\n",
       "      <td>61.279994</td>\n",
       "      <td>1.342378e+00</td>\n",
       "      <td>1.575636</td>\n",
       "      <td>52.216366</td>\n",
       "      <td>2.579463</td>\n",
       "      <td>1.667778</td>\n",
       "      <td>0.84478</td>\n",
       "      <td>1</td>\n",
       "      <td>0</td>\n",
       "      <td>0</td>\n",
       "      <td>0</td>\n",
       "    </tr>\n",
       "    <tr>\n",
       "      <th>1</th>\n",
       "      <td>2.534995</td>\n",
       "      <td>2.308533</td>\n",
       "      <td>2.197523</td>\n",
       "      <td>107.757316</td>\n",
       "      <td>2.330251</td>\n",
       "      <td>61.279994</td>\n",
       "      <td>1.342378e+00</td>\n",
       "      <td>1.575636</td>\n",
       "      <td>52.216366</td>\n",
       "      <td>2.579463</td>\n",
       "      <td>1.667778</td>\n",
       "      <td>0.84478</td>\n",
       "      <td>1</td>\n",
       "      <td>0</td>\n",
       "      <td>0</td>\n",
       "      <td>0</td>\n",
       "    </tr>\n",
       "    <tr>\n",
       "      <th>2</th>\n",
       "      <td>2.534995</td>\n",
       "      <td>2.308533</td>\n",
       "      <td>2.193303</td>\n",
       "      <td>107.757316</td>\n",
       "      <td>2.330251</td>\n",
       "      <td>61.279994</td>\n",
       "      <td>1.342378e+00</td>\n",
       "      <td>1.575636</td>\n",
       "      <td>52.216366</td>\n",
       "      <td>2.579463</td>\n",
       "      <td>1.667778</td>\n",
       "      <td>0.84478</td>\n",
       "      <td>1</td>\n",
       "      <td>0</td>\n",
       "      <td>0</td>\n",
       "      <td>0</td>\n",
       "    </tr>\n",
       "    <tr>\n",
       "      <th>3</th>\n",
       "      <td>2.534995</td>\n",
       "      <td>2.308533</td>\n",
       "      <td>2.197536</td>\n",
       "      <td>107.757316</td>\n",
       "      <td>2.330251</td>\n",
       "      <td>61.279994</td>\n",
       "      <td>1.342378e+00</td>\n",
       "      <td>1.575636</td>\n",
       "      <td>52.216366</td>\n",
       "      <td>2.579463</td>\n",
       "      <td>1.667778</td>\n",
       "      <td>0.84478</td>\n",
       "      <td>1</td>\n",
       "      <td>0</td>\n",
       "      <td>0</td>\n",
       "      <td>0</td>\n",
       "    </tr>\n",
       "    <tr>\n",
       "      <th>4</th>\n",
       "      <td>2.534995</td>\n",
       "      <td>2.308533</td>\n",
       "      <td>2.201438</td>\n",
       "      <td>107.757316</td>\n",
       "      <td>2.330251</td>\n",
       "      <td>61.279994</td>\n",
       "      <td>1.342378e+00</td>\n",
       "      <td>1.575636</td>\n",
       "      <td>52.216366</td>\n",
       "      <td>2.579463</td>\n",
       "      <td>1.667778</td>\n",
       "      <td>0.84478</td>\n",
       "      <td>1</td>\n",
       "      <td>0</td>\n",
       "      <td>0</td>\n",
       "      <td>0</td>\n",
       "    </tr>\n",
       "    <tr>\n",
       "      <th>...</th>\n",
       "      <td>...</td>\n",
       "      <td>...</td>\n",
       "      <td>...</td>\n",
       "      <td>...</td>\n",
       "      <td>...</td>\n",
       "      <td>...</td>\n",
       "      <td>...</td>\n",
       "      <td>...</td>\n",
       "      <td>...</td>\n",
       "      <td>...</td>\n",
       "      <td>...</td>\n",
       "      <td>...</td>\n",
       "      <td>...</td>\n",
       "      <td>...</td>\n",
       "      <td>...</td>\n",
       "      <td>...</td>\n",
       "    </tr>\n",
       "    <tr>\n",
       "      <th>13979587</th>\n",
       "      <td>3.269484</td>\n",
       "      <td>2.308533</td>\n",
       "      <td>2.197919</td>\n",
       "      <td>107.757316</td>\n",
       "      <td>2.330251</td>\n",
       "      <td>61.279994</td>\n",
       "      <td>3.754896e-02</td>\n",
       "      <td>1.575636</td>\n",
       "      <td>46.505852</td>\n",
       "      <td>2.579463</td>\n",
       "      <td>1.667778</td>\n",
       "      <td>0.84478</td>\n",
       "      <td>1</td>\n",
       "      <td>0</td>\n",
       "      <td>0</td>\n",
       "      <td>0</td>\n",
       "    </tr>\n",
       "    <tr>\n",
       "      <th>13979588</th>\n",
       "      <td>2.537041</td>\n",
       "      <td>2.368327</td>\n",
       "      <td>2.105887</td>\n",
       "      <td>0.182664</td>\n",
       "      <td>2.330251</td>\n",
       "      <td>20.349663</td>\n",
       "      <td>8.696717e-07</td>\n",
       "      <td>1.835621</td>\n",
       "      <td>53.083067</td>\n",
       "      <td>2.579463</td>\n",
       "      <td>1.667778</td>\n",
       "      <td>0.84478</td>\n",
       "      <td>1</td>\n",
       "      <td>0</td>\n",
       "      <td>0</td>\n",
       "      <td>1</td>\n",
       "    </tr>\n",
       "    <tr>\n",
       "      <th>13979589</th>\n",
       "      <td>2.563144</td>\n",
       "      <td>2.308533</td>\n",
       "      <td>2.126071</td>\n",
       "      <td>2.322030</td>\n",
       "      <td>2.400581</td>\n",
       "      <td>61.279994</td>\n",
       "      <td>2.530380e-04</td>\n",
       "      <td>1.575636</td>\n",
       "      <td>43.781534</td>\n",
       "      <td>3.159982</td>\n",
       "      <td>1.819567</td>\n",
       "      <td>0.84478</td>\n",
       "      <td>1</td>\n",
       "      <td>0</td>\n",
       "      <td>1</td>\n",
       "      <td>0</td>\n",
       "    </tr>\n",
       "    <tr>\n",
       "      <th>13979590</th>\n",
       "      <td>3.211048</td>\n",
       "      <td>2.308533</td>\n",
       "      <td>2.105887</td>\n",
       "      <td>107.757316</td>\n",
       "      <td>2.330251</td>\n",
       "      <td>61.279994</td>\n",
       "      <td>2.757648e-01</td>\n",
       "      <td>1.575636</td>\n",
       "      <td>53.083067</td>\n",
       "      <td>2.579463</td>\n",
       "      <td>1.667778</td>\n",
       "      <td>0.84478</td>\n",
       "      <td>1</td>\n",
       "      <td>0</td>\n",
       "      <td>0</td>\n",
       "      <td>0</td>\n",
       "    </tr>\n",
       "    <tr>\n",
       "      <th>13979591</th>\n",
       "      <td>2.534995</td>\n",
       "      <td>2.308533</td>\n",
       "      <td>2.105887</td>\n",
       "      <td>107.757316</td>\n",
       "      <td>2.330251</td>\n",
       "      <td>20.349663</td>\n",
       "      <td>1.342378e+00</td>\n",
       "      <td>2.233510</td>\n",
       "      <td>53.083067</td>\n",
       "      <td>2.579463</td>\n",
       "      <td>1.667778</td>\n",
       "      <td>0.84478</td>\n",
       "      <td>1</td>\n",
       "      <td>0</td>\n",
       "      <td>0</td>\n",
       "      <td>0</td>\n",
       "    </tr>\n",
       "  </tbody>\n",
       "</table>\n",
       "<p>13979592 rows × 16 columns</p>\n",
       "</div>"
      ],
      "text/plain": [
       "                f0        f1        f2          f3        f4         f5  \\\n",
       "0         2.534995  2.308533  2.194602  107.757316  2.330251  61.279994   \n",
       "1         2.534995  2.308533  2.197523  107.757316  2.330251  61.279994   \n",
       "2         2.534995  2.308533  2.193303  107.757316  2.330251  61.279994   \n",
       "3         2.534995  2.308533  2.197536  107.757316  2.330251  61.279994   \n",
       "4         2.534995  2.308533  2.201438  107.757316  2.330251  61.279994   \n",
       "...            ...       ...       ...         ...       ...        ...   \n",
       "13979587  3.269484  2.308533  2.197919  107.757316  2.330251  61.279994   \n",
       "13979588  2.537041  2.368327  2.105887    0.182664  2.330251  20.349663   \n",
       "13979589  2.563144  2.308533  2.126071    2.322030  2.400581  61.279994   \n",
       "13979590  3.211048  2.308533  2.105887  107.757316  2.330251  61.279994   \n",
       "13979591  2.534995  2.308533  2.105887  107.757316  2.330251  20.349663   \n",
       "\n",
       "                    f6        f7         f8        f9       f10      f11  \\\n",
       "0         1.342378e+00  1.575636  52.216366  2.579463  1.667778  0.84478   \n",
       "1         1.342378e+00  1.575636  52.216366  2.579463  1.667778  0.84478   \n",
       "2         1.342378e+00  1.575636  52.216366  2.579463  1.667778  0.84478   \n",
       "3         1.342378e+00  1.575636  52.216366  2.579463  1.667778  0.84478   \n",
       "4         1.342378e+00  1.575636  52.216366  2.579463  1.667778  0.84478   \n",
       "...                ...       ...        ...       ...       ...      ...   \n",
       "13979587  3.754896e-02  1.575636  46.505852  2.579463  1.667778  0.84478   \n",
       "13979588  8.696717e-07  1.835621  53.083067  2.579463  1.667778  0.84478   \n",
       "13979589  2.530380e-04  1.575636  43.781534  3.159982  1.819567  0.84478   \n",
       "13979590  2.757648e-01  1.575636  53.083067  2.579463  1.667778  0.84478   \n",
       "13979591  1.342378e+00  2.233510  53.083067  2.579463  1.667778  0.84478   \n",
       "\n",
       "          treatment  conversion  visit  exposure  \n",
       "0                 1           0      0         0  \n",
       "1                 1           0      0         0  \n",
       "2                 1           0      0         0  \n",
       "3                 1           0      0         0  \n",
       "4                 1           0      0         0  \n",
       "...             ...         ...    ...       ...  \n",
       "13979587          1           0      0         0  \n",
       "13979588          1           0      0         1  \n",
       "13979589          1           0      1         0  \n",
       "13979590          1           0      0         0  \n",
       "13979591          1           0      0         0  \n",
       "\n",
       "[13979592 rows x 16 columns]"
      ]
     },
     "execution_count": 3,
     "metadata": {},
     "output_type": "execute_result"
    }
   ],
   "source": [
    "train_data"
   ]
  },
  {
   "cell_type": "markdown",
   "id": "7c4774c1",
   "metadata": {},
   "source": [
    "Determine the synthesis order."
   ]
  },
  {
   "cell_type": "code",
   "execution_count": 4,
   "id": "1a1a26cf",
   "metadata": {},
   "outputs": [],
   "source": [
    "# compute correlation matrix\n",
    "correlation_matrix = train_data.corr()"
   ]
  },
  {
   "cell_type": "code",
   "execution_count": 5,
   "id": "bea28712",
   "metadata": {},
   "outputs": [],
   "source": [
    "tree_synthesis_order = list(np.abs(correlation_matrix).sum()[:12].sort_values(ascending=False).index)"
   ]
  },
  {
   "cell_type": "code",
   "execution_count": 6,
   "id": "04449b09",
   "metadata": {},
   "outputs": [
    {
     "data": {
      "text/plain": [
       "['f8', 'f9', 'f4', 'f5', 'f0', 'f3', 'f11', 'f10', 'f6', 'f7', 'f1', 'f2']"
      ]
     },
     "execution_count": 6,
     "metadata": {},
     "output_type": "execute_result"
    }
   ],
   "source": [
    "tree_synthesis_order"
   ]
  },
  {
   "cell_type": "markdown",
   "id": "a5676d0d",
   "metadata": {},
   "source": [
    "Define order of synthesis. We first synthesize the joint distribution of the numeric features `f0`-`f11` using a Gaussian mixture model, followed by `treatment`, `exposure`, `visit` and `conversion` synthesized by sequential multinomial logit models."
   ]
  },
  {
   "cell_type": "code",
   "execution_count": 7,
   "id": "d62d9ecc",
   "metadata": {},
   "outputs": [],
   "source": [
    "# synthesis steps\n",
    "# written as a list of tuples (features, model)\n",
    "\n",
    "# synthesis steps\n",
    "# written as a list of tuples (features, model)\n",
    "synthesis_steps = [\n",
    "    (['treatment', 'exposure', 'visit', 'conversion'], 'joint_categorical'),\n",
    "    (tree_synthesis_order, 'tree'),\n",
    "]"
   ]
  },
  {
   "cell_type": "markdown",
   "id": "e7c7ec1d",
   "metadata": {},
   "source": [
    "Fit unconstrained synthesis trees to find lower bound for synthesis bounds."
   ]
  },
  {
   "cell_type": "code",
   "execution_count": 8,
   "id": "97d73359",
   "metadata": {},
   "outputs": [],
   "source": [
    "# define a list to contain all column names in order of synthesis\n",
    "all_cols = synthesis_steps[0][0]"
   ]
  },
  {
   "cell_type": "code",
   "execution_count": 9,
   "id": "7556c456",
   "metadata": {},
   "outputs": [
    {
     "data": {
      "text/plain": [
       "[None, None, None, None, None, None, None, None, None, None, None, None]"
      ]
     },
     "execution_count": 9,
     "metadata": {},
     "output_type": "execute_result"
    }
   ],
   "source": [
    "# add the remaining column names (the 'f' variables)\n",
    "[all_cols.append(synthesis_steps[1][0][i]) for i in range(len(synthesis_steps[1][0]))]"
   ]
  },
  {
   "cell_type": "code",
   "execution_count": 10,
   "id": "fd6a4bf5",
   "metadata": {},
   "outputs": [
    {
     "data": {
      "text/plain": [
       "['treatment',\n",
       " 'exposure',\n",
       " 'visit',\n",
       " 'conversion',\n",
       " 'f8',\n",
       " 'f9',\n",
       " 'f4',\n",
       " 'f5',\n",
       " 'f0',\n",
       " 'f3',\n",
       " 'f11',\n",
       " 'f10',\n",
       " 'f6',\n",
       " 'f7',\n",
       " 'f1',\n",
       " 'f2']"
      ]
     },
     "execution_count": 10,
     "metadata": {},
     "output_type": "execute_result"
    }
   ],
   "source": [
    "all_cols"
   ]
  },
  {
   "cell_type": "markdown",
   "id": "f415658a",
   "metadata": {},
   "source": [
    "Estimate cart models for each f variable, conditional on the categorical variables, and previously modeled 'f' variables"
   ]
  },
  {
   "cell_type": "code",
   "execution_count": 11,
   "id": "dc919c3a",
   "metadata": {},
   "outputs": [
    {
     "name": "stderr",
     "output_type": "stream",
     "text": [
      "C:\\Users\\cdbale\\AppData\\Roaming\\Python\\Python311\\site-packages\\numpy\\core\\_methods.py:239: RuntimeWarning: overflow encountered in multiply\n",
      "  x = um.multiply(x, x, out=x)\n",
      "C:\\Users\\cdbale\\AppData\\Roaming\\Python\\Python311\\site-packages\\numpy\\core\\_methods.py:250: RuntimeWarning: overflow encountered in reduce\n",
      "  ret = umr_sum(x, axis, dtype, out, keepdims=keepdims, where=where)\n"
     ]
    }
   ],
   "source": [
    "all_leaf_sizes = []\n",
    "transformed_targets = []\n",
    "\n",
    "# loop over column indices from f0 to f11, with the categorical variables placed as the first four variables\n",
    "for id in range(4, len(all_cols)):\n",
    "    \n",
    "    # define X variables\n",
    "    covariates = train_data.loc[:, all_cols[:id]]\n",
    "\n",
    "    # define Y variable\n",
    "    target = train_data.loc[:, all_cols[id]]\n",
    "\n",
    "    # transform target with Yeo-johnson\n",
    "    pt = PowerTransformer(method='yeo-johnson', standardize=True)\n",
    "    target = pt.fit_transform(target.to_numpy().reshape(-1, 1)).ravel()\n",
    "\n",
    "    transformed_targets.append(target)\n",
    "\n",
    "    # define and fit CART model\n",
    "    # use min_samples_leaf = 1 for a tree unconstrained on leaf size\n",
    "    tree = DecisionTreeRegressor(min_samples_leaf=1)\n",
    "    tree.fit(covariates, target)\n",
    "\n",
    "    # compute leaf assignments\n",
    "    # obtain leaf assignments for training data\n",
    "    train_leaves = tree.apply(covariates)\n",
    "    # count the number of samples in each leaf\n",
    "    all_leaf_sizes.append(np.unique(train_leaves, return_counts=True)[1])"
   ]
  },
  {
   "cell_type": "code",
   "execution_count": 12,
   "id": "794032dc",
   "metadata": {},
   "outputs": [
    {
     "data": {
      "text/plain": [
       "f8         4063\n",
       "f9     13979592\n",
       "f4     13979592\n",
       "f5            1\n",
       "f0            1\n",
       "f3            1\n",
       "f11           1\n",
       "f10    13979592\n",
       "f6            1\n",
       "f7     13979592\n",
       "f1     13979592\n",
       "f2     13979592\n",
       "dtype: int64"
      ]
     },
     "execution_count": 12,
     "metadata": {},
     "output_type": "execute_result"
    }
   ],
   "source": [
    "pd.Series([np.min(x) for x in all_leaf_sizes], index=all_cols[4:])"
   ]
  },
  {
   "cell_type": "markdown",
   "id": "d6d725b1",
   "metadata": {},
   "source": [
    "Set up dictionary of parameter bounds for the Bayesian optimization process. The current state of the code requires a set of bounds for each parameter being optimized."
   ]
  },
  {
   "cell_type": "code",
   "execution_count": 13,
   "id": "41e1a7ec",
   "metadata": {},
   "outputs": [],
   "source": [
    "param_bounds = {\n",
    "    'tree': {\n",
    "        'f0': {  # Applies to all tree-synthesized variables\n",
    "            'min_samples_leaf': [10, 1000]  # [min, max] bounds\n",
    "        },\n",
    "        'f1': {  # Applies to all tree-synthesized variables\n",
    "            'min_samples_leaf': [1, 1]  # [min, max] bounds\n",
    "        },\n",
    "        'f2': {  # Applies to all tree-synthesized variables\n",
    "            'min_samples_leaf': [1, 1]  # [min, max] bounds\n",
    "        },\n",
    "        'f3': {  # Applies to all tree-synthesized variables\n",
    "            'min_samples_leaf': [10, 1000]  # [min, max] bounds\n",
    "        },\n",
    "        'f4': {  # Applies to all tree-synthesized variables\n",
    "            'min_samples_leaf': [1, 1]  # [min, max] bounds\n",
    "        },\n",
    "        'f5': {  # Applies to all tree-synthesized variables\n",
    "            'min_samples_leaf': [10, 1000]  # [min, max] bounds\n",
    "        },\n",
    "        'f6': {  # Applies to all tree-synthesized variables\n",
    "            'min_samples_leaf': [10, 1000]  # [min, max] bounds\n",
    "        },\n",
    "        'f7': {  # Applies to all tree-synthesized variables\n",
    "            'min_samples_leaf': [1, 1]  # [min, max] bounds\n",
    "        },\n",
    "        'f8': {  # Applies to all tree-synthesized variables\n",
    "            'min_samples_leaf': [4063, 10000]  # [min, max] bounds\n",
    "        },\n",
    "        'f9': {  # Applies to all tree-synthesized variables\n",
    "            'min_samples_leaf': [1, 1]  # [min, max] bounds\n",
    "        },\n",
    "        'f10': {  # Applies to all tree-synthesized variables\n",
    "            'min_samples_leaf': [1, 1]  # [min, max] bounds\n",
    "        },\n",
    "        'f11': {  # Applies to all tree-synthesized variables\n",
    "            'min_samples_leaf': [10, 1000]  # [min, max] bounds\n",
    "        }\n",
    "    }\n",
    "}"
   ]
  },
  {
   "cell_type": "markdown",
   "id": "1b25dae6",
   "metadata": {},
   "source": [
    "Define additional parameters of the optimization process:\n",
    "\n",
    "- num_synthetic_datasets: Number of synthetic datasets to generate on each iteration of the optimizer (usually use 10 to reduce compute time)\n",
    "- num_iter_optimization: Number of iterations to run the optimizer (default is 25, can run longer to try to find a better solution)\n",
    "- num_init_optimization: Number of initializations to perform prior to optimized iterations (usually 3-5, this just starts the optimizer)\n",
    "- random_states: run the optimizer all the way through for each random seed in this list"
   ]
  },
  {
   "cell_type": "code",
   "execution_count": 14,
   "id": "ff61d992",
   "metadata": {},
   "outputs": [],
   "source": [
    "number_synthetic_datasets = 10\n",
    "num_iter_optimization = 25\n",
    "num_init_optimization = 5\n",
    "random_states = [1006, 428]"
   ]
  },
  {
   "cell_type": "markdown",
   "id": "8e4f2876",
   "metadata": {},
   "source": [
    "Compute target parameters."
   ]
  },
  {
   "cell_type": "code",
   "execution_count": 15,
   "id": "76261fb3",
   "metadata": {},
   "outputs": [],
   "source": [
    "# reorder the columns in the training data to match the synthesis order\n",
    "train_data = train_data[all_cols]"
   ]
  },
  {
   "cell_type": "code",
   "execution_count": 16,
   "id": "879a85a2",
   "metadata": {},
   "outputs": [
    {
     "data": {
      "text/html": [
       "<div>\n",
       "<style scoped>\n",
       "    .dataframe tbody tr th:only-of-type {\n",
       "        vertical-align: middle;\n",
       "    }\n",
       "\n",
       "    .dataframe tbody tr th {\n",
       "        vertical-align: top;\n",
       "    }\n",
       "\n",
       "    .dataframe thead th {\n",
       "        text-align: right;\n",
       "    }\n",
       "</style>\n",
       "<table border=\"1\" class=\"dataframe\">\n",
       "  <thead>\n",
       "    <tr style=\"text-align: right;\">\n",
       "      <th></th>\n",
       "      <th>treatment</th>\n",
       "      <th>exposure</th>\n",
       "      <th>visit</th>\n",
       "      <th>conversion</th>\n",
       "      <th>f8</th>\n",
       "      <th>f9</th>\n",
       "      <th>f4</th>\n",
       "      <th>f5</th>\n",
       "      <th>f0</th>\n",
       "      <th>f3</th>\n",
       "      <th>f11</th>\n",
       "      <th>f10</th>\n",
       "      <th>f6</th>\n",
       "      <th>f7</th>\n",
       "      <th>f1</th>\n",
       "      <th>f2</th>\n",
       "    </tr>\n",
       "  </thead>\n",
       "  <tbody>\n",
       "    <tr>\n",
       "      <th>0</th>\n",
       "      <td>1</td>\n",
       "      <td>0</td>\n",
       "      <td>0</td>\n",
       "      <td>0</td>\n",
       "      <td>52.216366</td>\n",
       "      <td>2.579463</td>\n",
       "      <td>2.330251</td>\n",
       "      <td>61.279994</td>\n",
       "      <td>2.534995</td>\n",
       "      <td>107.757316</td>\n",
       "      <td>0.84478</td>\n",
       "      <td>1.667778</td>\n",
       "      <td>1.342378e+00</td>\n",
       "      <td>1.575636</td>\n",
       "      <td>2.308533</td>\n",
       "      <td>2.194602</td>\n",
       "    </tr>\n",
       "    <tr>\n",
       "      <th>1</th>\n",
       "      <td>1</td>\n",
       "      <td>0</td>\n",
       "      <td>0</td>\n",
       "      <td>0</td>\n",
       "      <td>52.216366</td>\n",
       "      <td>2.579463</td>\n",
       "      <td>2.330251</td>\n",
       "      <td>61.279994</td>\n",
       "      <td>2.534995</td>\n",
       "      <td>107.757316</td>\n",
       "      <td>0.84478</td>\n",
       "      <td>1.667778</td>\n",
       "      <td>1.342378e+00</td>\n",
       "      <td>1.575636</td>\n",
       "      <td>2.308533</td>\n",
       "      <td>2.197523</td>\n",
       "    </tr>\n",
       "    <tr>\n",
       "      <th>2</th>\n",
       "      <td>1</td>\n",
       "      <td>0</td>\n",
       "      <td>0</td>\n",
       "      <td>0</td>\n",
       "      <td>52.216366</td>\n",
       "      <td>2.579463</td>\n",
       "      <td>2.330251</td>\n",
       "      <td>61.279994</td>\n",
       "      <td>2.534995</td>\n",
       "      <td>107.757316</td>\n",
       "      <td>0.84478</td>\n",
       "      <td>1.667778</td>\n",
       "      <td>1.342378e+00</td>\n",
       "      <td>1.575636</td>\n",
       "      <td>2.308533</td>\n",
       "      <td>2.193303</td>\n",
       "    </tr>\n",
       "    <tr>\n",
       "      <th>3</th>\n",
       "      <td>1</td>\n",
       "      <td>0</td>\n",
       "      <td>0</td>\n",
       "      <td>0</td>\n",
       "      <td>52.216366</td>\n",
       "      <td>2.579463</td>\n",
       "      <td>2.330251</td>\n",
       "      <td>61.279994</td>\n",
       "      <td>2.534995</td>\n",
       "      <td>107.757316</td>\n",
       "      <td>0.84478</td>\n",
       "      <td>1.667778</td>\n",
       "      <td>1.342378e+00</td>\n",
       "      <td>1.575636</td>\n",
       "      <td>2.308533</td>\n",
       "      <td>2.197536</td>\n",
       "    </tr>\n",
       "    <tr>\n",
       "      <th>4</th>\n",
       "      <td>1</td>\n",
       "      <td>0</td>\n",
       "      <td>0</td>\n",
       "      <td>0</td>\n",
       "      <td>52.216366</td>\n",
       "      <td>2.579463</td>\n",
       "      <td>2.330251</td>\n",
       "      <td>61.279994</td>\n",
       "      <td>2.534995</td>\n",
       "      <td>107.757316</td>\n",
       "      <td>0.84478</td>\n",
       "      <td>1.667778</td>\n",
       "      <td>1.342378e+00</td>\n",
       "      <td>1.575636</td>\n",
       "      <td>2.308533</td>\n",
       "      <td>2.201438</td>\n",
       "    </tr>\n",
       "    <tr>\n",
       "      <th>...</th>\n",
       "      <td>...</td>\n",
       "      <td>...</td>\n",
       "      <td>...</td>\n",
       "      <td>...</td>\n",
       "      <td>...</td>\n",
       "      <td>...</td>\n",
       "      <td>...</td>\n",
       "      <td>...</td>\n",
       "      <td>...</td>\n",
       "      <td>...</td>\n",
       "      <td>...</td>\n",
       "      <td>...</td>\n",
       "      <td>...</td>\n",
       "      <td>...</td>\n",
       "      <td>...</td>\n",
       "      <td>...</td>\n",
       "    </tr>\n",
       "    <tr>\n",
       "      <th>13979587</th>\n",
       "      <td>1</td>\n",
       "      <td>0</td>\n",
       "      <td>0</td>\n",
       "      <td>0</td>\n",
       "      <td>46.505852</td>\n",
       "      <td>2.579463</td>\n",
       "      <td>2.330251</td>\n",
       "      <td>61.279994</td>\n",
       "      <td>3.269484</td>\n",
       "      <td>107.757316</td>\n",
       "      <td>0.84478</td>\n",
       "      <td>1.667778</td>\n",
       "      <td>3.754896e-02</td>\n",
       "      <td>1.575636</td>\n",
       "      <td>2.308533</td>\n",
       "      <td>2.197919</td>\n",
       "    </tr>\n",
       "    <tr>\n",
       "      <th>13979588</th>\n",
       "      <td>1</td>\n",
       "      <td>1</td>\n",
       "      <td>0</td>\n",
       "      <td>0</td>\n",
       "      <td>53.083067</td>\n",
       "      <td>2.579463</td>\n",
       "      <td>2.330251</td>\n",
       "      <td>20.349663</td>\n",
       "      <td>2.537041</td>\n",
       "      <td>0.182664</td>\n",
       "      <td>0.84478</td>\n",
       "      <td>1.667778</td>\n",
       "      <td>8.696717e-07</td>\n",
       "      <td>1.835621</td>\n",
       "      <td>2.368327</td>\n",
       "      <td>2.105887</td>\n",
       "    </tr>\n",
       "    <tr>\n",
       "      <th>13979589</th>\n",
       "      <td>1</td>\n",
       "      <td>0</td>\n",
       "      <td>1</td>\n",
       "      <td>0</td>\n",
       "      <td>43.781534</td>\n",
       "      <td>3.159982</td>\n",
       "      <td>2.400581</td>\n",
       "      <td>61.279994</td>\n",
       "      <td>2.563144</td>\n",
       "      <td>2.322030</td>\n",
       "      <td>0.84478</td>\n",
       "      <td>1.819567</td>\n",
       "      <td>2.530380e-04</td>\n",
       "      <td>1.575636</td>\n",
       "      <td>2.308533</td>\n",
       "      <td>2.126071</td>\n",
       "    </tr>\n",
       "    <tr>\n",
       "      <th>13979590</th>\n",
       "      <td>1</td>\n",
       "      <td>0</td>\n",
       "      <td>0</td>\n",
       "      <td>0</td>\n",
       "      <td>53.083067</td>\n",
       "      <td>2.579463</td>\n",
       "      <td>2.330251</td>\n",
       "      <td>61.279994</td>\n",
       "      <td>3.211048</td>\n",
       "      <td>107.757316</td>\n",
       "      <td>0.84478</td>\n",
       "      <td>1.667778</td>\n",
       "      <td>2.757648e-01</td>\n",
       "      <td>1.575636</td>\n",
       "      <td>2.308533</td>\n",
       "      <td>2.105887</td>\n",
       "    </tr>\n",
       "    <tr>\n",
       "      <th>13979591</th>\n",
       "      <td>1</td>\n",
       "      <td>0</td>\n",
       "      <td>0</td>\n",
       "      <td>0</td>\n",
       "      <td>53.083067</td>\n",
       "      <td>2.579463</td>\n",
       "      <td>2.330251</td>\n",
       "      <td>20.349663</td>\n",
       "      <td>2.534995</td>\n",
       "      <td>107.757316</td>\n",
       "      <td>0.84478</td>\n",
       "      <td>1.667778</td>\n",
       "      <td>1.342378e+00</td>\n",
       "      <td>2.233510</td>\n",
       "      <td>2.308533</td>\n",
       "      <td>2.105887</td>\n",
       "    </tr>\n",
       "  </tbody>\n",
       "</table>\n",
       "<p>13979592 rows × 16 columns</p>\n",
       "</div>"
      ],
      "text/plain": [
       "          treatment  exposure  visit  conversion         f8        f9  \\\n",
       "0                 1         0      0           0  52.216366  2.579463   \n",
       "1                 1         0      0           0  52.216366  2.579463   \n",
       "2                 1         0      0           0  52.216366  2.579463   \n",
       "3                 1         0      0           0  52.216366  2.579463   \n",
       "4                 1         0      0           0  52.216366  2.579463   \n",
       "...             ...       ...    ...         ...        ...       ...   \n",
       "13979587          1         0      0           0  46.505852  2.579463   \n",
       "13979588          1         1      0           0  53.083067  2.579463   \n",
       "13979589          1         0      1           0  43.781534  3.159982   \n",
       "13979590          1         0      0           0  53.083067  2.579463   \n",
       "13979591          1         0      0           0  53.083067  2.579463   \n",
       "\n",
       "                f4         f5        f0          f3      f11       f10  \\\n",
       "0         2.330251  61.279994  2.534995  107.757316  0.84478  1.667778   \n",
       "1         2.330251  61.279994  2.534995  107.757316  0.84478  1.667778   \n",
       "2         2.330251  61.279994  2.534995  107.757316  0.84478  1.667778   \n",
       "3         2.330251  61.279994  2.534995  107.757316  0.84478  1.667778   \n",
       "4         2.330251  61.279994  2.534995  107.757316  0.84478  1.667778   \n",
       "...            ...        ...       ...         ...      ...       ...   \n",
       "13979587  2.330251  61.279994  3.269484  107.757316  0.84478  1.667778   \n",
       "13979588  2.330251  20.349663  2.537041    0.182664  0.84478  1.667778   \n",
       "13979589  2.400581  61.279994  2.563144    2.322030  0.84478  1.819567   \n",
       "13979590  2.330251  61.279994  3.211048  107.757316  0.84478  1.667778   \n",
       "13979591  2.330251  20.349663  2.534995  107.757316  0.84478  1.667778   \n",
       "\n",
       "                    f6        f7        f1        f2  \n",
       "0         1.342378e+00  1.575636  2.308533  2.194602  \n",
       "1         1.342378e+00  1.575636  2.308533  2.197523  \n",
       "2         1.342378e+00  1.575636  2.308533  2.193303  \n",
       "3         1.342378e+00  1.575636  2.308533  2.197536  \n",
       "4         1.342378e+00  1.575636  2.308533  2.201438  \n",
       "...                ...       ...       ...       ...  \n",
       "13979587  3.754896e-02  1.575636  2.308533  2.197919  \n",
       "13979588  8.696717e-07  1.835621  2.368327  2.105887  \n",
       "13979589  2.530380e-04  1.575636  2.308533  2.126071  \n",
       "13979590  2.757648e-01  1.575636  2.308533  2.105887  \n",
       "13979591  1.342378e+00  2.233510  2.308533  2.105887  \n",
       "\n",
       "[13979592 rows x 16 columns]"
      ]
     },
     "execution_count": 16,
     "metadata": {},
     "output_type": "execute_result"
    }
   ],
   "source": [
    "train_data"
   ]
  },
  {
   "cell_type": "code",
   "execution_count": 17,
   "id": "6cfd2972",
   "metadata": {},
   "outputs": [],
   "source": [
    "target_variable = 'conversion'\n",
    "exog_variables = list(train_data.drop(target_variable, axis=1).columns)"
   ]
  },
  {
   "cell_type": "code",
   "execution_count": 18,
   "id": "451342a3",
   "metadata": {},
   "outputs": [],
   "source": [
    "target_params = logit_params(X = train_data[exog_variables], y = train_data[target_variable])"
   ]
  },
  {
   "cell_type": "markdown",
   "id": "37b93984",
   "metadata": {},
   "source": [
    "Use the `optimization_models` function to perform the optimized synthesis process. The function returns the objective value associated with each iteration, the best set of parameters for each random seed, and the final optimization object from the Bayesian optimization function."
   ]
  },
  {
   "cell_type": "code",
   "execution_count": null,
   "id": "a0ca4dc8",
   "metadata": {},
   "outputs": [
    {
     "name": "stdout",
     "output_type": "stream",
     "text": [
      "Optimizing 12 parameters: ['x0', 'x1', 'x2', 'x3', 'x4', 'x5', 'x6', 'x7', 'x8', 'x9', 'x10', 'x11']\n",
      "|   iter    |  target   |    x0     |    x1     |    x2     |    x3     |    x4     |    x5     |    x6     |    x7     |    x8     |    x9     |    x10    |    x11    |\n",
      "-------------------------------------------------------------------------------------------------------------------------------------------------------------------------\n",
      "| \u001b[39m2        \u001b[39m | \u001b[39m-0.079309\u001b[39m | \u001b[39m745.69608\u001b[39m | \u001b[39m1.0      \u001b[39m | \u001b[39m1.0      \u001b[39m | \u001b[39m883.53190\u001b[39m | \u001b[39m1.0      \u001b[39m | \u001b[39m724.05091\u001b[39m | \u001b[39m302.39436\u001b[39m | \u001b[39m1.0      \u001b[39m | \u001b[39m5094.6399\u001b[39m | \u001b[39m1.0      \u001b[39m | \u001b[39m1.0      \u001b[39m | \u001b[39m263.95493\u001b[39m |\n",
      "| \u001b[39m3        \u001b[39m | \u001b[39m-0.079309\u001b[39m | \u001b[39m244.86210\u001b[39m | \u001b[39m1.0      \u001b[39m | \u001b[39m1.0      \u001b[39m | \u001b[39m209.99043\u001b[39m | \u001b[39m1.0      \u001b[39m | \u001b[39m980.92127\u001b[39m | \u001b[39m737.45582\u001b[39m | \u001b[39m1.0      \u001b[39m | \u001b[39m7736.8821\u001b[39m | \u001b[39m1.0      \u001b[39m | \u001b[39m1.0      \u001b[39m | \u001b[39m609.36680\u001b[39m |\n",
      "| \u001b[39m4        \u001b[39m | \u001b[39m-0.079309\u001b[39m | \u001b[39m455.98215\u001b[39m | \u001b[39m1.0      \u001b[39m | \u001b[39m1.0      \u001b[39m | \u001b[39m296.13639\u001b[39m | \u001b[39m1.0      \u001b[39m | \u001b[39m818.60998\u001b[39m | \u001b[39m272.37946\u001b[39m | \u001b[39m1.0      \u001b[39m | \u001b[39m8038.9238\u001b[39m | \u001b[39m1.0      \u001b[39m | \u001b[39m1.0      \u001b[39m | \u001b[39m837.81185\u001b[39m |\n"
     ]
    }
   ],
   "source": [
    "import warnings\n",
    "warnings.filterwarnings('ignore')\n",
    "\n",
    "# we are silencing harmless overflow warnings from numpy related to the Yeo-johnson transformation\n",
    "# these warnings are not related to the optimization process and can be safely ignored\n",
    "\n",
    "optimization_results = [optimize_models_with_param_target(train_data=train_data,\n",
    "                                                          number_synthetic_datasets=number_synthetic_datasets,\n",
    "                                                          synthesis_steps=synthesis_steps,\n",
    "                                                          param_bounds=param_bounds,\n",
    "                                                          random_state=r,\n",
    "                                                          target_params=target_params,\n",
    "                                                          target_variable=target_variable,\n",
    "                                                          exog_variables=exog_variables,\n",
    "                                                          n_iter=num_iter_optimization,\n",
    "                                                          n_init=num_init_optimization) for r in random_states]"
   ]
  },
  {
   "cell_type": "code",
   "execution_count": null,
   "id": "2918ad83",
   "metadata": {},
   "outputs": [],
   "source": [
    "run_targets = [np.minimum.accumulate(-i['optimizer'].space.target) for i in optimization_results]"
   ]
  },
  {
   "cell_type": "code",
   "execution_count": null,
   "id": "01639512",
   "metadata": {},
   "outputs": [
    {
     "data": {
      "image/png": "[encoded data removed]",
      "text/plain": [
       "<Figure size 640x480 with 1 Axes>"
      ]
     },
     "metadata": {},
     "output_type": "display_data"
    }
   ],
   "source": [
    "fig = plt.figure()\n",
    "plt.plot(run_targets[0])\n",
    "plt.scatter(np.arange(len(run_targets[0])), run_targets[0], s=6)\n",
    "plt.plot(run_targets[1])\n",
    "plt.scatter(np.arange(len(run_targets[1])), run_targets[1], s=6)\n",
    "plt.title(\"Criteo Data - Objective Value for CART Synthesis\")\n",
    "plt.xlabel(\"Iteration\")\n",
    "plt.ylabel(\"Minimum Objective Value\")\n",
    "plt.show()"
   ]
  },
  {
   "cell_type": "code",
   "execution_count": null,
   "id": "2ecebe05",
   "metadata": {},
   "outputs": [
    {
     "data": {
      "text/plain": [
       "[{'best_params': {'gmm': {},\n",
       "   'multinomial': {},\n",
       "   'tree': {'f0': {'min_samples_leaf': 244.8621039800519},\n",
       "    'f1': {'min_samples_leaf': 1.0},\n",
       "    'f2': {'min_samples_leaf': 1.0},\n",
       "    'f3': {'min_samples_leaf': 209.99043618567933},\n",
       "    'f4': {'min_samples_leaf': 1.0},\n",
       "    'f5': {'min_samples_leaf': 980.921274436054},\n",
       "    'f6': {'min_samples_leaf': 737.4558240370601},\n",
       "    'f7': {'min_samples_leaf': 1.0},\n",
       "    'f8': {'min_samples_leaf': 7736.882191715049},\n",
       "    'f9': {'min_samples_leaf': 1.0},\n",
       "    'f10': {'min_samples_leaf': 1.0},\n",
       "    'f11': {'min_samples_leaf': 609.36680197454}}},\n",
       "  'best_score': 0.04136585157397875,\n",
       "  'optimizer': <bayes_opt.bayesian_optimization.BayesianOptimization at 0x2387ff6d190>},\n",
       " {'best_params': {'gmm': {},\n",
       "   'multinomial': {},\n",
       "   'tree': {'f0': {'min_samples_leaf': 837.166865860258},\n",
       "    'f1': {'min_samples_leaf': 1.0},\n",
       "    'f2': {'min_samples_leaf': 1.0},\n",
       "    'f3': {'min_samples_leaf': 803.1861305952272},\n",
       "    'f4': {'min_samples_leaf': 1.0},\n",
       "    'f5': {'min_samples_leaf': 620.7601894412608},\n",
       "    'f6': {'min_samples_leaf': 816.3935088128204},\n",
       "    'f7': {'min_samples_leaf': 1.0},\n",
       "    'f8': {'min_samples_leaf': 8554.925908716434},\n",
       "    'f9': {'min_samples_leaf': 1.0},\n",
       "    'f10': {'min_samples_leaf': 1.0},\n",
       "    'f11': {'min_samples_leaf': 710.8316575319311}}},\n",
       "  'best_score': 0.07103255687757479,\n",
       "  'optimizer': <bayes_opt.bayesian_optimization.BayesianOptimization at 0x2387ff23a10>}]"
      ]
     },
     "execution_count": 23,
     "metadata": {},
     "output_type": "execute_result"
    }
   ],
   "source": [
    "optimization_results"
   ]
  },
  {
   "cell_type": "code",
   "execution_count": null,
   "id": "074843b5",
   "metadata": {},
   "outputs": [],
   "source": [
    "best_params = optimization_results[np.argmin([x['best_score'] for x in optimization_results])]['best_params']"
   ]
  },
  {
   "cell_type": "code",
   "execution_count": null,
   "id": "b2c6217d",
   "metadata": {},
   "outputs": [
    {
     "data": {
      "text/plain": [
       "{'gmm': {},\n",
       " 'multinomial': {},\n",
       " 'tree': {'f0': {'min_samples_leaf': 244.8621039800519},\n",
       "  'f1': {'min_samples_leaf': 1.0},\n",
       "  'f2': {'min_samples_leaf': 1.0},\n",
       "  'f3': {'min_samples_leaf': 209.99043618567933},\n",
       "  'f4': {'min_samples_leaf': 1.0},\n",
       "  'f5': {'min_samples_leaf': 980.921274436054},\n",
       "  'f6': {'min_samples_leaf': 737.4558240370601},\n",
       "  'f7': {'min_samples_leaf': 1.0},\n",
       "  'f8': {'min_samples_leaf': 7736.882191715049},\n",
       "  'f9': {'min_samples_leaf': 1.0},\n",
       "  'f10': {'min_samples_leaf': 1.0},\n",
       "  'f11': {'min_samples_leaf': 609.36680197454}}}"
      ]
     },
     "execution_count": 25,
     "metadata": {},
     "output_type": "execute_result"
    }
   ],
   "source": [
    "best_params"
   ]
  },
  {
   "cell_type": "code",
   "execution_count": null,
   "id": "77115b45",
   "metadata": {},
   "outputs": [],
   "source": [
    "warnings.filterwarnings('ignore')\n",
    "\n",
    "# again, we are silencing harmless overflow warnings from numpy related to the Yeo-johnson transformation\n",
    "\n",
    "sds, full_sXs = perform_synthesis_with_param_target(\n",
    "    train_data=train_data,\n",
    "    number_synthetic_datasets=20,\n",
    "    synthesis_steps=synthesis_steps,\n",
    "    target_params=target_params,\n",
    "    target_variable=target_variable,\n",
    "    exog_variables=exog_variables,\n",
    "    param_values=best_params\n",
    ")"
   ]
  },
  {
   "cell_type": "code",
   "execution_count": null,
   "id": "b3b1fb33",
   "metadata": {},
   "outputs": [
    {
     "data": {
      "text/plain": [
       "0.08121896184711254"
      ]
     },
     "execution_count": 27,
     "metadata": {},
     "output_type": "execute_result"
    }
   ],
   "source": [
    "np.mean(sds)"
   ]
  },
  {
   "cell_type": "code",
   "execution_count": null,
   "id": "65aaee2e",
   "metadata": {},
   "outputs": [
    {
     "data": {
      "image/png": "[encoded data removed]",
      "text/plain": [
       "<Figure size 640x480 with 1 Axes>"
      ]
     },
     "metadata": {},
     "output_type": "display_data"
    }
   ],
   "source": [
    "plt.violinplot(sds)\n",
    "plt.xlabel(\"Density\")\n",
    "plt.ylabel(\"Squared Deviations\")\n",
    "plt.title(\"Squared Deviations in Logit Coefficients\")\n",
    "plt.show()"
   ]
  },
  {
   "cell_type": "code",
   "execution_count": null,
   "id": "2c92900d",
   "metadata": {},
   "outputs": [],
   "source": [
    "synthetic_data_path = \"../../Data/Criteo/\"\n",
    "\n",
    "for i, sX in enumerate(full_sXs):\n",
    "    if not os.path.exists(synthetic_data_path):\n",
    "        os.makedirs(synthetic_data_path)\n",
    "    sX.to_csv(synthetic_data_path + \"cart_\" + str(i) + \"_\" + data_set + \".csv\", index=False)"
   ]
  },
  {
   "cell_type": "markdown",
   "id": "7b57ed56",
   "metadata": {},
   "source": [
    "End of file."
   ]
  }
 ],
 "metadata": {
  "kernelspec": {
   "display_name": "base",
   "language": "python",
   "name": "python3"
  },
  "language_info": {
   "codemirror_mode": {
    "name": "ipython",
    "version": 3
   },
   "file_extension": ".py",
   "mimetype": "text/x-python",
   "name": "python",
   "nbconvert_exporter": "python",
   "pygments_lexer": "ipython3",
   "version": "3.11.7"
  }
 },
 "nbformat": 4,
 "nbformat_minor": 5
}
