{
 "cells": [
  {
   "cell_type": "markdown",
   "id": "c5305e1e",
   "metadata": {},
   "source": [
    "This notebook performs synthesis using the updated helper functions."
   ]
  },
  {
   "cell_type": "code",
   "execution_count": 1,
   "id": "c9709e90",
   "metadata": {},
   "outputs": [],
   "source": [
    "from sklearn.mixture import GaussianMixture\n",
    "import matplotlib.pyplot as plt\n",
    "import itertools\n",
    "import os\n",
    "import sys\n",
    "import pickle\n",
    "\n",
    "from bayes_opt import BayesianOptimization\n",
    "from bayes_opt import UtilityFunction\n",
    "\n",
    "# Add the parent directory to path\n",
    "sys.path.append('..')\n",
    "\n",
    "# Then import\n",
    "from helper_functions import *\n",
    "\n",
    "rng = np.random.RandomState(42)"
   ]
  },
  {
   "cell_type": "markdown",
   "id": "9b703917",
   "metadata": {},
   "source": [
    "Import SK data."
   ]
  },
  {
   "cell_type": "code",
   "execution_count": 2,
   "id": "7c928f76",
   "metadata": {},
   "outputs": [],
   "source": [
    "# import standardized lat/long location data\n",
    "train_data = pd.read_csv(\"../../Data/SK/cleaned_sk_data.csv\")"
   ]
  },
  {
   "cell_type": "code",
   "execution_count": 3,
   "id": "437e8f17",
   "metadata": {},
   "outputs": [
    {
     "data": {
      "text/html": [
       "<div>\n",
       "<style scoped>\n",
       "    .dataframe tbody tr th:only-of-type {\n",
       "        vertical-align: middle;\n",
       "    }\n",
       "\n",
       "    .dataframe tbody tr th {\n",
       "        vertical-align: top;\n",
       "    }\n",
       "\n",
       "    .dataframe thead th {\n",
       "        text-align: right;\n",
       "    }\n",
       "</style>\n",
       "<table border=\"1\" class=\"dataframe\">\n",
       "  <thead>\n",
       "    <tr style=\"text-align: right;\">\n",
       "      <th></th>\n",
       "      <th>latitude</th>\n",
       "      <th>longitude</th>\n",
       "      <th>sex</th>\n",
       "      <th>age</th>\n",
       "      <th>state</th>\n",
       "    </tr>\n",
       "  </thead>\n",
       "  <tbody>\n",
       "    <tr>\n",
       "      <th>0</th>\n",
       "      <td>0.944157</td>\n",
       "      <td>-1.010655</td>\n",
       "      <td>1</td>\n",
       "      <td>5</td>\n",
       "      <td>0</td>\n",
       "    </tr>\n",
       "    <tr>\n",
       "      <th>1</th>\n",
       "      <td>0.889746</td>\n",
       "      <td>-0.694899</td>\n",
       "      <td>1</td>\n",
       "      <td>5</td>\n",
       "      <td>0</td>\n",
       "    </tr>\n",
       "    <tr>\n",
       "      <th>2</th>\n",
       "      <td>0.917482</td>\n",
       "      <td>-0.682299</td>\n",
       "      <td>1</td>\n",
       "      <td>3</td>\n",
       "      <td>0</td>\n",
       "    </tr>\n",
       "    <tr>\n",
       "      <th>3</th>\n",
       "      <td>0.916660</td>\n",
       "      <td>-0.682551</td>\n",
       "      <td>1</td>\n",
       "      <td>3</td>\n",
       "      <td>0</td>\n",
       "    </tr>\n",
       "    <tr>\n",
       "      <th>4</th>\n",
       "      <td>0.886074</td>\n",
       "      <td>-0.668883</td>\n",
       "      <td>1</td>\n",
       "      <td>3</td>\n",
       "      <td>0</td>\n",
       "    </tr>\n",
       "    <tr>\n",
       "      <th>...</th>\n",
       "      <td>...</td>\n",
       "      <td>...</td>\n",
       "      <td>...</td>\n",
       "      <td>...</td>\n",
       "      <td>...</td>\n",
       "    </tr>\n",
       "    <tr>\n",
       "      <th>6707</th>\n",
       "      <td>0.881500</td>\n",
       "      <td>-0.925307</td>\n",
       "      <td>1</td>\n",
       "      <td>4</td>\n",
       "      <td>0</td>\n",
       "    </tr>\n",
       "    <tr>\n",
       "      <th>6708</th>\n",
       "      <td>-1.728784</td>\n",
       "      <td>1.470871</td>\n",
       "      <td>1</td>\n",
       "      <td>4</td>\n",
       "      <td>0</td>\n",
       "    </tr>\n",
       "    <tr>\n",
       "      <th>6709</th>\n",
       "      <td>-1.548071</td>\n",
       "      <td>1.557316</td>\n",
       "      <td>1</td>\n",
       "      <td>4</td>\n",
       "      <td>0</td>\n",
       "    </tr>\n",
       "    <tr>\n",
       "      <th>6710</th>\n",
       "      <td>-1.549392</td>\n",
       "      <td>1.555785</td>\n",
       "      <td>1</td>\n",
       "      <td>4</td>\n",
       "      <td>0</td>\n",
       "    </tr>\n",
       "    <tr>\n",
       "      <th>6711</th>\n",
       "      <td>-1.548071</td>\n",
       "      <td>1.557316</td>\n",
       "      <td>1</td>\n",
       "      <td>4</td>\n",
       "      <td>0</td>\n",
       "    </tr>\n",
       "  </tbody>\n",
       "</table>\n",
       "<p>6712 rows × 5 columns</p>\n",
       "</div>"
      ],
      "text/plain": [
       "      latitude  longitude  sex  age  state\n",
       "0     0.944157  -1.010655    1    5      0\n",
       "1     0.889746  -0.694899    1    5      0\n",
       "2     0.917482  -0.682299    1    3      0\n",
       "3     0.916660  -0.682551    1    3      0\n",
       "4     0.886074  -0.668883    1    3      0\n",
       "...        ...        ...  ...  ...    ...\n",
       "6707  0.881500  -0.925307    1    4      0\n",
       "6708 -1.728784   1.470871    1    4      0\n",
       "6709 -1.548071   1.557316    1    4      0\n",
       "6710 -1.549392   1.555785    1    4      0\n",
       "6711 -1.548071   1.557316    1    4      0\n",
       "\n",
       "[6712 rows x 5 columns]"
      ]
     },
     "execution_count": 3,
     "metadata": {},
     "output_type": "execute_result"
    }
   ],
   "source": [
    "train_data"
   ]
  },
  {
   "cell_type": "markdown",
   "id": "a5676d0d",
   "metadata": {},
   "source": [
    "Define order of synthesis."
   ]
  },
  {
   "cell_type": "code",
   "execution_count": 4,
   "id": "d62d9ecc",
   "metadata": {},
   "outputs": [],
   "source": [
    "# Example synthesis steps\n",
    "synthesis_steps = [\n",
    "    (['latitude', 'longitude'], 'gmm'),\n",
    "    ('sex', 'multinomial'),\n",
    "    ('age', 'multinomial'),\n",
    "    ('state', 'multinomial')\n",
    "]"
   ]
  },
  {
   "cell_type": "markdown",
   "id": "d6d725b1",
   "metadata": {},
   "source": [
    "Set up parameter bounds."
   ]
  },
  {
   "cell_type": "code",
   "execution_count": 5,
   "id": "41e1a7ec",
   "metadata": {},
   "outputs": [],
   "source": [
    "# Example parameter bounds\n",
    "param_bounds = {\n",
    "    'gmm': {\n",
    "        'num_components': (10, 200),\n",
    "    },\n",
    "    'multinomial': {\n",
    "        'sex': {'C': (0.1, 5)},\n",
    "        'age': {'C': (0.1, 5)},\n",
    "        'state': {'C': (0.1, 5)}\n",
    "    }\n",
    "}"
   ]
  },
  {
   "cell_type": "markdown",
   "id": "2c51d1a2",
   "metadata": {},
   "source": [
    "TESTING CODE"
   ]
  },
  {
   "cell_type": "code",
   "execution_count": 6,
   "id": "d4b06b2c",
   "metadata": {},
   "outputs": [],
   "source": [
    "train_data=train_data\n",
    "number_synthetic_datasets=3\n",
    "synthesis_steps=synthesis_steps\n",
    "param_bounds=param_bounds\n",
    "random_state=42"
   ]
  },
  {
   "cell_type": "code",
   "execution_count": 7,
   "id": "cda9d363",
   "metadata": {},
   "outputs": [],
   "source": [
    "# Process parameter bounds for Bayesian optimization\n",
    "dimensions = []\n",
    "param_mapping = []"
   ]
  },
  {
   "cell_type": "code",
   "execution_count": 8,
   "id": "3d2fc0bd",
   "metadata": {},
   "outputs": [],
   "source": [
    "step_vars, method = synthesis_steps[0]"
   ]
  },
  {
   "cell_type": "code",
   "execution_count": 9,
   "id": "473d564d",
   "metadata": {},
   "outputs": [
    {
     "data": {
      "text/plain": [
       "'gmm'"
      ]
     },
     "execution_count": 9,
     "metadata": {},
     "output_type": "execute_result"
    }
   ],
   "source": [
    "method"
   ]
  },
  {
   "cell_type": "code",
   "execution_count": 10,
   "id": "76afbb2f",
   "metadata": {},
   "outputs": [
    {
     "data": {
      "text/plain": [
       "{'gmm': {'num_components': (10, 200)},\n",
       " 'multinomial': {'sex': {'C': (0.1, 5)},\n",
       "  'age': {'C': (0.1, 5)},\n",
       "  'state': {'C': (0.1, 5)}}}"
      ]
     },
     "execution_count": 10,
     "metadata": {},
     "output_type": "execute_result"
    }
   ],
   "source": [
    "param_bounds"
   ]
  },
  {
   "cell_type": "code",
   "execution_count": 11,
   "id": "e8330fe5",
   "metadata": {},
   "outputs": [],
   "source": [
    "# Track which parameters we need to optimize\n",
    "for step_vars, method in synthesis_steps:\n",
    "    if isinstance(step_vars, str):\n",
    "        step_vars = [step_vars]\n",
    "            \n",
    "    if method == 'gmm' and 'gmm' in param_bounds:\n",
    "        for param, bounds in param_bounds['gmm'].items():\n",
    "                if isinstance(bounds, (list, tuple)) and len(bounds) == 2:\n",
    "                    # Add dimension for this parameter\n",
    "                    dim_name = f\"gmm_{param}\"\n",
    "                    dimensions.append((bounds[0], bounds[1], 'uniform', dim_name))\n",
    "                    param_mapping.append(('gmm', param))\n",
    "                    \n",
    "    elif method == 'multinomial':\n",
    "        for var in step_vars:\n",
    "            # Check for variable-specific parameters\n",
    "            var_params = param_bounds.get('multinomial', {}).get(var, {})\n",
    "            for param, bounds in var_params.items():\n",
    "                if isinstance(bounds, (list, tuple)) and len(bounds) == 2:\n",
    "                    dim_name = f\"multinomial_{var}_{param}\"\n",
    "                    dimensions.append((bounds[0], bounds[1], 'uniform', dim_name))\n",
    "                    param_mapping.append(('multinomial', var, param))"
   ]
  },
  {
   "cell_type": "code",
   "execution_count": 12,
   "id": "556f8c1d",
   "metadata": {},
   "outputs": [
    {
     "data": {
      "text/plain": [
       "'multinomial_state_C'"
      ]
     },
     "execution_count": 12,
     "metadata": {},
     "output_type": "execute_result"
    }
   ],
   "source": [
    "dim_name"
   ]
  },
  {
   "cell_type": "code",
   "execution_count": 13,
   "id": "10603f9d",
   "metadata": {},
   "outputs": [
    {
     "data": {
      "text/plain": [
       "[(10, 200, 'uniform', 'gmm_num_components'),\n",
       " (0.1, 5, 'uniform', 'multinomial_sex_C'),\n",
       " (0.1, 5, 'uniform', 'multinomial_age_C'),\n",
       " (0.1, 5, 'uniform', 'multinomial_state_C')]"
      ]
     },
     "execution_count": 13,
     "metadata": {},
     "output_type": "execute_result"
    }
   ],
   "source": [
    "dimensions"
   ]
  },
  {
   "cell_type": "code",
   "execution_count": 14,
   "id": "c1d3a931",
   "metadata": {},
   "outputs": [
    {
     "data": {
      "text/plain": [
       "[('gmm', 'num_components'),\n",
       " ('multinomial', 'sex', 'C'),\n",
       " ('multinomial', 'age', 'C'),\n",
       " ('multinomial', 'state', 'C')]"
      ]
     },
     "execution_count": 14,
     "metadata": {},
     "output_type": "execute_result"
    }
   ],
   "source": [
    "param_mapping"
   ]
  },
  {
   "cell_type": "code",
   "execution_count": 15,
   "id": "38b257cb",
   "metadata": {},
   "outputs": [],
   "source": [
    "pbounds = {f\"x{i}\": (low, high) for i, (low, high, _, _) in enumerate(dimensions)}"
   ]
  },
  {
   "cell_type": "code",
   "execution_count": 16,
   "id": "c2b12435",
   "metadata": {},
   "outputs": [
    {
     "data": {
      "text/plain": [
       "{'x0': (10, 200), 'x1': (0.1, 5), 'x2': (0.1, 5), 'x3': (0.1, 5)}"
      ]
     },
     "execution_count": 16,
     "metadata": {},
     "output_type": "execute_result"
    }
   ],
   "source": [
    "pbounds"
   ]
  },
  {
   "cell_type": "code",
   "execution_count": 17,
   "id": "b2dc2fe9",
   "metadata": {},
   "outputs": [],
   "source": [
    "kwargs = {'x0': 100, 'x1': 10, 'x2': 1.0, 'x3': 3}"
   ]
  },
  {
   "cell_type": "code",
   "execution_count": 18,
   "id": "4c74dc5e",
   "metadata": {},
   "outputs": [],
   "source": [
    "# Reconstruct the param_values structure from the flat parameter space\n",
    "param_values = {'gmm': {}, 'multinomial': {}}\n",
    "    \n",
    "for i, (param_type, *rest) in enumerate(param_mapping):\n",
    "    param_name = f\"x{i}\"\n",
    "    if param_name in kwargs:\n",
    "        if param_type == 'gmm':\n",
    "            param, = rest\n",
    "            param_values['gmm'][param] = int(kwargs[param_name])\n",
    "        else:  # multinomial\n",
    "            var, param = rest\n",
    "            if var not in param_values['multinomial']:\n",
    "                param_values['multinomial'][var] = {}\n",
    "            param_values['multinomial'][var][param] = kwargs[param_name]"
   ]
  },
  {
   "cell_type": "code",
   "execution_count": 19,
   "id": "a2821794",
   "metadata": {},
   "outputs": [
    {
     "data": {
      "text/plain": [
       "{'gmm': {'num_components': 100},\n",
       " 'multinomial': {'sex': {'C': 10}, 'age': {'C': 1.0}, 'state': {'C': 3}}}"
      ]
     },
     "execution_count": 19,
     "metadata": {},
     "output_type": "execute_result"
    }
   ],
   "source": [
    "param_values"
   ]
  },
  {
   "cell_type": "code",
   "execution_count": 20,
   "id": "6baaf5a4",
   "metadata": {},
   "outputs": [
    {
     "name": "stderr",
     "output_type": "stream",
     "text": [
      "c:\\ProgramData\\anaconda3\\Lib\\site-packages\\sklearn\\cluster\\_kmeans.py:1382: UserWarning: KMeans is known to have a memory leak on Windows with MKL, when there are less chunks than available threads. You can avoid it by setting the environment variable OMP_NUM_THREADS=27.\n",
      "  warnings.warn(\n",
      "c:\\ProgramData\\anaconda3\\Lib\\site-packages\\sklearn\\cluster\\_kmeans.py:1382: UserWarning: KMeans is known to have a memory leak on Windows with MKL, when there are less chunks than available threads. You can avoid it by setting the environment variable OMP_NUM_THREADS=27.\n",
      "  warnings.warn(\n",
      "c:\\ProgramData\\anaconda3\\Lib\\site-packages\\sklearn\\cluster\\_kmeans.py:1382: UserWarning: KMeans is known to have a memory leak on Windows with MKL, when there are less chunks than available threads. You can avoid it by setting the environment variable OMP_NUM_THREADS=27.\n",
      "  warnings.warn(\n",
      "c:\\ProgramData\\anaconda3\\Lib\\site-packages\\sklearn\\cluster\\_kmeans.py:1382: UserWarning: KMeans is known to have a memory leak on Windows with MKL, when there are less chunks than available threads. You can avoid it by setting the environment variable OMP_NUM_THREADS=27.\n",
      "  warnings.warn(\n",
      "c:\\ProgramData\\anaconda3\\Lib\\site-packages\\sklearn\\cluster\\_kmeans.py:1382: UserWarning: KMeans is known to have a memory leak on Windows with MKL, when there are less chunks than available threads. You can avoid it by setting the environment variable OMP_NUM_THREADS=27.\n",
      "  warnings.warn(\n"
     ]
    },
    {
     "name": "stdout",
     "output_type": "stream",
     "text": [
      "   latitude  longitude\n",
      "0  0.944157  -1.010655\n",
      "1  0.889746  -0.694899\n",
      "2  0.917482  -0.682299\n",
      "3  0.916660  -0.682551\n",
      "4  0.886074  -0.668883\n",
      "5  0.915043  -0.684308\n",
      "6  0.914255  -0.690260\n",
      "7  0.916922  -0.680286\n",
      "8  0.888412  -0.629299\n",
      "9  0.916498  -0.680810\n"
     ]
    },
    {
     "ename": "ValueError",
     "evalue": "The feature names should match those that were passed during fit.\nFeature names unseen at fit time:\n- sex\n",
     "output_type": "error",
     "traceback": [
      "\u001b[1;31m---------------------------------------------------------------------------\u001b[0m",
      "\u001b[1;31mValueError\u001b[0m                                Traceback (most recent call last)",
      "Cell \u001b[1;32mIn[20], line 2\u001b[0m\n\u001b[0;32m      1\u001b[0m \u001b[38;5;66;03m# Run synthesis with current parameters\u001b[39;00m\n\u001b[1;32m----> 2\u001b[0m pmse_ratios, _ \u001b[38;5;241m=\u001b[39m perform_synthesis(\n\u001b[0;32m      3\u001b[0m     train_data\u001b[38;5;241m=\u001b[39mtrain_data,\n\u001b[0;32m      4\u001b[0m     number_synthetic_datasets\u001b[38;5;241m=\u001b[39mnumber_synthetic_datasets,\n\u001b[0;32m      5\u001b[0m     synthesis_steps\u001b[38;5;241m=\u001b[39msynthesis_steps,\n\u001b[0;32m      6\u001b[0m     param_values\u001b[38;5;241m=\u001b[39mparam_values,\n\u001b[0;32m      7\u001b[0m     random_state\u001b[38;5;241m=\u001b[39mrandom_state\n\u001b[0;32m      8\u001b[0m )\n",
      "File \u001b[1;32mc:\\Users\\cdbale\\Documents\\Repos\\Research\\optimized-sequential-synthesis\\Code\\SK\\..\\helper_functions.py:330\u001b[0m, in \u001b[0;36mperform_synthesis\u001b[1;34m(train_data, number_synthetic_datasets, synthesis_steps, param_values, random_state)\u001b[0m\n\u001b[0;32m    324\u001b[0m         \u001b[38;5;28;01mfor\u001b[39;00m i \u001b[38;5;129;01min\u001b[39;00m \u001b[38;5;28mrange\u001b[39m(number_synthetic_datasets):\n\u001b[0;32m    325\u001b[0m             \n\u001b[0;32m    326\u001b[0m             \u001b[38;5;66;03m# if synthetic data sets exist from previous steps, use them\u001b[39;00m\n\u001b[0;32m    327\u001b[0m             \u001b[38;5;28;01mif\u001b[39;00m synthetic_datasets:\n\u001b[0;32m    328\u001b[0m \n\u001b[0;32m    329\u001b[0m                 \u001b[38;5;66;03m# Generate synthetic data for this variable\u001b[39;00m\n\u001b[1;32m--> 330\u001b[0m                 synthetic_datasets \u001b[38;5;241m=\u001b[39m _synthesize_with_multinomial(\n\u001b[0;32m    331\u001b[0m                     X\u001b[38;5;241m=\u001b[39mX,\n\u001b[0;32m    332\u001b[0m                     y\u001b[38;5;241m=\u001b[39mtrain_data[var],\n\u001b[0;32m    333\u001b[0m                     num_samples\u001b[38;5;241m=\u001b[39mnum_samples,\n\u001b[0;32m    334\u001b[0m                     synthetic_datasets\u001b[38;5;241m=\u001b[39msynthetic_datasets,\n\u001b[0;32m    335\u001b[0m                     C\u001b[38;5;241m=\u001b[39mC,\n\u001b[0;32m    336\u001b[0m                     random_state\u001b[38;5;241m=\u001b[39mrandom_state\n\u001b[0;32m    337\u001b[0m                 )\n\u001b[0;32m    339\u001b[0m \u001b[38;5;66;03m# Update list of synthesized variables\u001b[39;00m\n\u001b[0;32m    340\u001b[0m synthesized_vars\u001b[38;5;241m.\u001b[39mextend(step_vars)\n",
      "File \u001b[1;32mc:\\Users\\cdbale\\Documents\\Repos\\Research\\optimized-sequential-synthesis\\Code\\SK\\..\\helper_functions.py:133\u001b[0m, in \u001b[0;36m_synthesize_with_multinomial\u001b[1;34m(X, y, num_samples, synthetic_datasets, C, poly_degree, interaction_only, random_state)\u001b[0m\n\u001b[0;32m    131\u001b[0m \u001b[38;5;66;03m# loop over synthetic datasets\u001b[39;00m\n\u001b[0;32m    132\u001b[0m \u001b[38;5;28;01mfor\u001b[39;00m i, sX \u001b[38;5;129;01min\u001b[39;00m \u001b[38;5;28menumerate\u001b[39m(synthetic_datasets):\n\u001b[1;32m--> 133\u001b[0m     sX_poly \u001b[38;5;241m=\u001b[39m poly\u001b[38;5;241m.\u001b[39mtransform(sX)\n\u001b[0;32m    134\u001b[0m     sX_scaled \u001b[38;5;241m=\u001b[39m scaler\u001b[38;5;241m.\u001b[39mtransform(sX_poly)\n\u001b[0;32m    135\u001b[0m     \u001b[38;5;66;03m# Get predicted probabilities\u001b[39;00m\n",
      "File \u001b[1;32mc:\\ProgramData\\anaconda3\\Lib\\site-packages\\sklearn\\utils\\_set_output.py:140\u001b[0m, in \u001b[0;36m_wrap_method_output.<locals>.wrapped\u001b[1;34m(self, X, *args, **kwargs)\u001b[0m\n\u001b[0;32m    138\u001b[0m \u001b[38;5;129m@wraps\u001b[39m(f)\n\u001b[0;32m    139\u001b[0m \u001b[38;5;28;01mdef\u001b[39;00m \u001b[38;5;21mwrapped\u001b[39m(\u001b[38;5;28mself\u001b[39m, X, \u001b[38;5;241m*\u001b[39margs, \u001b[38;5;241m*\u001b[39m\u001b[38;5;241m*\u001b[39mkwargs):\n\u001b[1;32m--> 140\u001b[0m     data_to_wrap \u001b[38;5;241m=\u001b[39m f(\u001b[38;5;28mself\u001b[39m, X, \u001b[38;5;241m*\u001b[39margs, \u001b[38;5;241m*\u001b[39m\u001b[38;5;241m*\u001b[39mkwargs)\n\u001b[0;32m    141\u001b[0m     \u001b[38;5;28;01mif\u001b[39;00m \u001b[38;5;28misinstance\u001b[39m(data_to_wrap, \u001b[38;5;28mtuple\u001b[39m):\n\u001b[0;32m    142\u001b[0m         \u001b[38;5;66;03m# only wrap the first output for cross decomposition\u001b[39;00m\n\u001b[0;32m    143\u001b[0m         \u001b[38;5;28;01mreturn\u001b[39;00m (\n\u001b[0;32m    144\u001b[0m             _wrap_data_with_container(method, data_to_wrap[\u001b[38;5;241m0\u001b[39m], X, \u001b[38;5;28mself\u001b[39m),\n\u001b[0;32m    145\u001b[0m             \u001b[38;5;241m*\u001b[39mdata_to_wrap[\u001b[38;5;241m1\u001b[39m:],\n\u001b[0;32m    146\u001b[0m         )\n",
      "File \u001b[1;32mc:\\ProgramData\\anaconda3\\Lib\\site-packages\\sklearn\\preprocessing\\_polynomial.py:341\u001b[0m, in \u001b[0;36mPolynomialFeatures.transform\u001b[1;34m(self, X)\u001b[0m\n\u001b[0;32m    311\u001b[0m \u001b[38;5;250m\u001b[39m\u001b[38;5;124;03m\"\"\"Transform data to polynomial features.\u001b[39;00m\n\u001b[0;32m    312\u001b[0m \n\u001b[0;32m    313\u001b[0m \u001b[38;5;124;03mParameters\u001b[39;00m\n\u001b[1;32m   (...)\u001b[0m\n\u001b[0;32m    337\u001b[0m \u001b[38;5;124;03m    `csr_matrix`.\u001b[39;00m\n\u001b[0;32m    338\u001b[0m \u001b[38;5;124;03m\"\"\"\u001b[39;00m\n\u001b[0;32m    339\u001b[0m check_is_fitted(\u001b[38;5;28mself\u001b[39m)\n\u001b[1;32m--> 341\u001b[0m X \u001b[38;5;241m=\u001b[39m \u001b[38;5;28mself\u001b[39m\u001b[38;5;241m.\u001b[39m_validate_data(\n\u001b[0;32m    342\u001b[0m     X, order\u001b[38;5;241m=\u001b[39m\u001b[38;5;124m\"\u001b[39m\u001b[38;5;124mF\u001b[39m\u001b[38;5;124m\"\u001b[39m, dtype\u001b[38;5;241m=\u001b[39mFLOAT_DTYPES, reset\u001b[38;5;241m=\u001b[39m\u001b[38;5;28;01mFalse\u001b[39;00m, accept_sparse\u001b[38;5;241m=\u001b[39m(\u001b[38;5;124m\"\u001b[39m\u001b[38;5;124mcsr\u001b[39m\u001b[38;5;124m\"\u001b[39m, \u001b[38;5;124m\"\u001b[39m\u001b[38;5;124mcsc\u001b[39m\u001b[38;5;124m\"\u001b[39m)\n\u001b[0;32m    343\u001b[0m )\n\u001b[0;32m    345\u001b[0m n_samples, n_features \u001b[38;5;241m=\u001b[39m X\u001b[38;5;241m.\u001b[39mshape\n\u001b[0;32m    347\u001b[0m \u001b[38;5;28;01mif\u001b[39;00m sparse\u001b[38;5;241m.\u001b[39misspmatrix_csr(X):\n",
      "File \u001b[1;32mc:\\ProgramData\\anaconda3\\Lib\\site-packages\\sklearn\\base.py:548\u001b[0m, in \u001b[0;36mBaseEstimator._validate_data\u001b[1;34m(self, X, y, reset, validate_separately, **check_params)\u001b[0m\n\u001b[0;32m    483\u001b[0m \u001b[38;5;28;01mdef\u001b[39;00m \u001b[38;5;21m_validate_data\u001b[39m(\n\u001b[0;32m    484\u001b[0m     \u001b[38;5;28mself\u001b[39m,\n\u001b[0;32m    485\u001b[0m     X\u001b[38;5;241m=\u001b[39m\u001b[38;5;124m\"\u001b[39m\u001b[38;5;124mno_validation\u001b[39m\u001b[38;5;124m\"\u001b[39m,\n\u001b[1;32m   (...)\u001b[0m\n\u001b[0;32m    489\u001b[0m     \u001b[38;5;241m*\u001b[39m\u001b[38;5;241m*\u001b[39mcheck_params,\n\u001b[0;32m    490\u001b[0m ):\n\u001b[0;32m    491\u001b[0m \u001b[38;5;250m    \u001b[39m\u001b[38;5;124;03m\"\"\"Validate input data and set or check the `n_features_in_` attribute.\u001b[39;00m\n\u001b[0;32m    492\u001b[0m \n\u001b[0;32m    493\u001b[0m \u001b[38;5;124;03m    Parameters\u001b[39;00m\n\u001b[1;32m   (...)\u001b[0m\n\u001b[0;32m    546\u001b[0m \u001b[38;5;124;03m        validated.\u001b[39;00m\n\u001b[0;32m    547\u001b[0m \u001b[38;5;124;03m    \"\"\"\u001b[39;00m\n\u001b[1;32m--> 548\u001b[0m     \u001b[38;5;28mself\u001b[39m\u001b[38;5;241m.\u001b[39m_check_feature_names(X, reset\u001b[38;5;241m=\u001b[39mreset)\n\u001b[0;32m    550\u001b[0m     \u001b[38;5;28;01mif\u001b[39;00m y \u001b[38;5;129;01mis\u001b[39;00m \u001b[38;5;28;01mNone\u001b[39;00m \u001b[38;5;129;01mand\u001b[39;00m \u001b[38;5;28mself\u001b[39m\u001b[38;5;241m.\u001b[39m_get_tags()[\u001b[38;5;124m\"\u001b[39m\u001b[38;5;124mrequires_y\u001b[39m\u001b[38;5;124m\"\u001b[39m]:\n\u001b[0;32m    551\u001b[0m         \u001b[38;5;28;01mraise\u001b[39;00m \u001b[38;5;167;01mValueError\u001b[39;00m(\n\u001b[0;32m    552\u001b[0m             \u001b[38;5;124mf\u001b[39m\u001b[38;5;124m\"\u001b[39m\u001b[38;5;124mThis \u001b[39m\u001b[38;5;132;01m{\u001b[39;00m\u001b[38;5;28mself\u001b[39m\u001b[38;5;241m.\u001b[39m\u001b[38;5;18m__class__\u001b[39m\u001b[38;5;241m.\u001b[39m\u001b[38;5;18m__name__\u001b[39m\u001b[38;5;132;01m}\u001b[39;00m\u001b[38;5;124m estimator \u001b[39m\u001b[38;5;124m\"\u001b[39m\n\u001b[0;32m    553\u001b[0m             \u001b[38;5;124m\"\u001b[39m\u001b[38;5;124mrequires y to be passed, but the target y is None.\u001b[39m\u001b[38;5;124m\"\u001b[39m\n\u001b[0;32m    554\u001b[0m         )\n",
      "File \u001b[1;32mc:\\ProgramData\\anaconda3\\Lib\\site-packages\\sklearn\\base.py:481\u001b[0m, in \u001b[0;36mBaseEstimator._check_feature_names\u001b[1;34m(self, X, reset)\u001b[0m\n\u001b[0;32m    476\u001b[0m \u001b[38;5;28;01mif\u001b[39;00m \u001b[38;5;129;01mnot\u001b[39;00m missing_names \u001b[38;5;129;01mand\u001b[39;00m \u001b[38;5;129;01mnot\u001b[39;00m unexpected_names:\n\u001b[0;32m    477\u001b[0m     message \u001b[38;5;241m+\u001b[39m\u001b[38;5;241m=\u001b[39m (\n\u001b[0;32m    478\u001b[0m         \u001b[38;5;124m\"\u001b[39m\u001b[38;5;124mFeature names must be in the same order as they were in fit.\u001b[39m\u001b[38;5;130;01m\\n\u001b[39;00m\u001b[38;5;124m\"\u001b[39m\n\u001b[0;32m    479\u001b[0m     )\n\u001b[1;32m--> 481\u001b[0m \u001b[38;5;28;01mraise\u001b[39;00m \u001b[38;5;167;01mValueError\u001b[39;00m(message)\n",
      "\u001b[1;31mValueError\u001b[0m: The feature names should match those that were passed during fit.\nFeature names unseen at fit time:\n- sex\n"
     ]
    }
   ],
   "source": [
    "# Run synthesis with current parameters\n",
    "pmse_ratios, _ = perform_synthesis(\n",
    "    train_data=train_data,\n",
    "    number_synthetic_datasets=number_synthetic_datasets,\n",
    "    synthesis_steps=synthesis_steps,\n",
    "    param_values=param_values,\n",
    "    random_state=random_state\n",
    ")"
   ]
  },
  {
   "cell_type": "code",
   "execution_count": null,
   "id": "9de19d8c",
   "metadata": {},
   "outputs": [],
   "source": []
  },
  {
   "cell_type": "code",
   "execution_count": null,
   "id": "d2f64e2f",
   "metadata": {},
   "outputs": [],
   "source": [
    "def evaluate_models(**kwargs):\n",
    "    # Reconstruct the param_values structure from the flat parameter space\n",
    "    param_values = {'gmm': {}, 'multinomial': {}}\n",
    "    \n",
    "    for i, (param_type, *rest) in enumerate(param_mapping):\n",
    "        param_name = f\"x{i}\"\n",
    "        if param_name in kwargs:\n",
    "            if param_type == 'gmm':\n",
    "                param, = rest\n",
    "                param_values['gmm'][param] = int(kwargs[param_name])\n",
    "            else:  # multinomial\n",
    "                var, param = rest\n",
    "                if var not in param_values['multinomial']:\n",
    "                    param_values['multinomial'][var] = {}\n",
    "                param_values['multinomial'][var][param] = kwargs[param_name]\n",
    "        \n",
    "        # Run synthesis with current parameters\n",
    "    pmse_ratios, _ = perform_synthesis(\n",
    "        train_data=train_data,\n",
    "        number_synthetic_datasets=number_synthetic_datasets,\n",
    "        synthesis_steps=synthesis_steps,\n",
    "        param_values=param_values,\n",
    "        random_state=random_state\n",
    "    )\n",
    "        \n",
    "    # Return negative of mean pMSE ratio (we want to maximize this)\n",
    "    return -1 * ((1 - np.mean(pmse_ratios)) ** 2)"
   ]
  },
  {
   "cell_type": "code",
   "execution_count": 7,
   "id": "dc0692cf",
   "metadata": {},
   "outputs": [
    {
     "ename": "NameError",
     "evalue": "name 'optimize_models' is not defined",
     "output_type": "error",
     "traceback": [
      "\u001b[1;31m---------------------------------------------------------------------------\u001b[0m",
      "\u001b[1;31mNameError\u001b[0m                                 Traceback (most recent call last)",
      "Cell \u001b[1;32mIn[7], line 2\u001b[0m\n\u001b[0;32m      1\u001b[0m \u001b[38;5;66;03m# Run optimization\u001b[39;00m\n\u001b[1;32m----> 2\u001b[0m result \u001b[38;5;241m=\u001b[39m optimize_models(\n\u001b[0;32m      3\u001b[0m     train_data\u001b[38;5;241m=\u001b[39mtrain_data,\n\u001b[0;32m      4\u001b[0m     number_synthetic_datasets\u001b[38;5;241m=\u001b[39m\u001b[38;5;241m3\u001b[39m,\n\u001b[0;32m      5\u001b[0m     synthesis_steps\u001b[38;5;241m=\u001b[39msynthesis_steps,\n\u001b[0;32m      6\u001b[0m     param_bounds\u001b[38;5;241m=\u001b[39mparam_bounds,\n\u001b[0;32m      7\u001b[0m     random_state\u001b[38;5;241m=\u001b[39m\u001b[38;5;241m42\u001b[39m\n\u001b[0;32m      8\u001b[0m )\n",
      "\u001b[1;31mNameError\u001b[0m: name 'optimize_models' is not defined"
     ]
    }
   ],
   "source": [
    "# Run optimization\n",
    "result = optimize_models(\n",
    "    train_data=train_data,\n",
    "    number_synthetic_datasets=3,\n",
    "    synthesis_steps=synthesis_steps,\n",
    "    param_bounds=param_bounds,\n",
    "    random_state=42\n",
    ")"
   ]
  },
  {
   "cell_type": "code",
   "execution_count": null,
   "id": "709075d4",
   "metadata": {},
   "outputs": [],
   "source": [
    "def optimize_models(train_data,\n",
    "                   number_synthetic_datasets,\n",
    "                   synthesis_steps,\n",
    "                   param_bounds,\n",
    "                   random_state=None):\n",
    "    \"\"\"\n",
    "    Optimize synthesis model parameters using Bayesian optimization.\n",
    "    \n",
    "    Parameters:\n",
    "    -----------\n",
    "    train_data : pd.DataFrame\n",
    "        The training data to synthesize\n",
    "    number_synthetic_datasets : int\n",
    "        Number of synthetic datasets to generate\n",
    "    synthesis_steps : list of tuples\n",
    "        List of (variables, method) tuples specifying synthesis order.\n",
    "    param_bounds : dict\n",
    "        Dictionary specifying parameter bounds for optimization.\n",
    "        Example:\n",
    "            {\n",
    "                'gmm': {\n",
    "                    'num_components': (10, 200),\n",
    "                    'n_init': (1, 10)\n",
    "                },\n",
    "                'multinomial': {\n",
    "                    'C': (0.001, 3),  # Global default\n",
    "                    'var1': {'C': (0.1, 5)}  # Specific for var1\n",
    "                }\n",
    "            }\n",
    "    random_state : int, optional\n",
    "        Random state for reproducibility\n",
    "    \"\"\"\n",
    "    # Process parameter bounds for Bayesian optimization\n",
    "    dimensions = []\n",
    "    param_mapping = []\n",
    "    \n",
    "    # Track which parameters we need to optimize\n",
    "    for step_vars, method in synthesis_steps:\n",
    "        if isinstance(step_vars, str):\n",
    "            step_vars = [step_vars]\n",
    "            \n",
    "        if method == 'gmm' and 'gmm' in param_bounds:\n",
    "            for param, bounds in param_bounds['gmm'].items():\n",
    "                if isinstance(bounds, (list, tuple)) and len(bounds) == 2:\n",
    "                    # Add dimension for this parameter\n",
    "                    dim_name = f\"gmm_{param}\"\n",
    "                    dimensions.append((bounds[0], bounds[1], 'uniform', dim_name))\n",
    "                    param_mapping.append(('gmm', param))\n",
    "                    \n",
    "        elif method == 'multinomial':\n",
    "            for var in step_vars:\n",
    "                # Check for variable-specific parameters\n",
    "                var_params = param_bounds.get('multinomial', {}).get(var, {})\n",
    "                for param, bounds in var_params.items():\n",
    "                    if isinstance(bounds, (list, tuple)) and len(bounds) == 2:\n",
    "                        dim_name = f\"multinomial_{var}_{param}\"\n",
    "                        dimensions.append((bounds[0], bounds[1], 'uniform', dim_name))\n",
    "                        param_mapping.append(('multinomial', var, param))\n",
    "                \n",
    "                # Check for global multinomial parameters\n",
    "                global_params = param_bounds.get('multinomial', {})\n",
    "                for param, bounds in global_params.items():\n",
    "                    if (isinstance(bounds, (list, tuple)) and len(bounds) == 2 and \n",
    "                        not any(isinstance(v, dict) for v in global_params.values())):\n",
    "                        dim_name = f\"multinomial_global_{param}\"\n",
    "                        dimensions.append((bounds[0], bounds[1], 'uniform', dim_name))\n",
    "                        param_mapping.append(('multinomial', 'global', param))\n",
    "    \n",
    "    def evaluate_models(**kwargs):\n",
    "        # Reconstruct the param_values structure from the flat parameter space\n",
    "        param_values = {'gmm': {}, 'multinomial': {}}\n",
    "        \n",
    "        for i, (param_type, *rest) in enumerate(param_mapping):\n",
    "            param_name = f\"x{i}\"\n",
    "            if param_name in kwargs:\n",
    "                if param_type == 'gmm':\n",
    "                    param, = rest\n",
    "                    param_values['gmm'][param] = int(kwargs[param_name])\n",
    "                else:  # multinomial\n",
    "                    var, param = rest\n",
    "                    if var not in param_values['multinomial']:\n",
    "                        param_values['multinomial'][var] = {}\n",
    "                    param_values['multinomial'][var][param] = kwargs[param_name]\n",
    "        \n",
    "        # Run synthesis with current parameters\n",
    "        pmse_ratios, _ = perform_synthesis(\n",
    "            train_data=train_data,\n",
    "            number_synthetic_datasets=number_synthetic_datasets,\n",
    "            synthesis_steps=synthesis_steps,\n",
    "            param_values=param_values,\n",
    "            random_state=random_state\n",
    "        )\n",
    "        \n",
    "        # Return negative of mean pMSE ratio (we want to maximize this)\n",
    "        return -1 * ((1 - np.mean(pmse_ratios)) ** 2)\n",
    "    \n",
    "    # Create parameter bounds for Bayesian optimization\n",
    "    pbounds = {f\"x{i}\": (low, high) for i, (low, high, _, _) in enumerate(dimensions)}\n",
    "    \n",
    "    # Run optimization\n",
    "    optimizer = BayesianOptimization(\n",
    "        f=evaluate_models,\n",
    "        pbounds=pbounds,\n",
    "        random_state=random_state\n",
    "    )\n",
    "    \n",
    "    utility = UtilityFunction(kind=\"ei\", xi=1e-02)\n",
    "    optimizer.maximize(init_points=5, n_iter=25, acquisition_function=utility)\n",
    "    \n",
    "    # Process results\n",
    "    best_params = {'gmm': {}, 'multinomial': {}}\n",
    "    for i, (param_type, *rest) in enumerate(param_mapping):\n",
    "        param_name = f\"x{i}\"\n",
    "        if param_type == 'gmm':\n",
    "            param, = rest\n",
    "            best_params['gmm'][param] = int(optimizer.max['params'][param_name])\n",
    "        else:  # multinomial\n",
    "            var, param = rest\n",
    "            if var not in best_params['multinomial']:\n",
    "                best_params['multinomial'][var] = {}\n",
    "            best_params['multinomial'][var][param] = optimizer.max['params'][param_name]\n",
    "    \n",
    "    return {\n",
    "        'best_params': best_params,\n",
    "        'best_score': -optimizer.max['target'],  # Convert back to positive pMSE\n",
    "        'optimizer': optimizer\n",
    "    }"
   ]
  }
 ],
 "metadata": {
  "kernelspec": {
   "display_name": "base",
   "language": "python",
   "name": "python3"
  },
  "language_info": {
   "codemirror_mode": {
    "name": "ipython",
    "version": 3
   },
   "file_extension": ".py",
   "mimetype": "text/x-python",
   "name": "python",
   "nbconvert_exporter": "python",
   "pygments_lexer": "ipython3",
   "version": "3.11.7"
  }
 },
 "nbformat": 4,
 "nbformat_minor": 5
}
