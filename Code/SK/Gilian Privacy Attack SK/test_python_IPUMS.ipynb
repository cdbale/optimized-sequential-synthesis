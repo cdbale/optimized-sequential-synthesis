{
 "cells": [
  {
   "cell_type": "markdown",
   "id": "42a3d289",
   "metadata": {},
   "source": [
    "Testing what epsilon values are returned when attack is applied to unprotected data (i.e., the only protection is sampling variability). This file uses the CPS ASEC (IPUMS) data."
   ]
  },
  {
   "cell_type": "code",
   "execution_count": 1,
   "id": "50d40879",
   "metadata": {},
   "outputs": [],
   "source": [
    "# first we need to import some dependencies.\n",
    "import pandas as pd\n",
    "from sklearn.model_selection import train_test_split\n",
    "\n",
    "# import privacy attack\n",
    "# !pip install git+https://github.com/GilianPonte/likelihood_based_privacy_attack.git\n",
    "from likelihood_based_privacy_attack import attacks\n",
    "\n",
    "# select some variables\n",
    "samples = 300 # select the number of observations"
   ]
  },
  {
   "cell_type": "markdown",
   "id": "5c4af4a4",
   "metadata": {},
   "source": [
    "Define swapping privacy function."
   ]
  },
  {
   "cell_type": "code",
   "execution_count": 2,
   "id": "ca2eb0d0",
   "metadata": {},
   "outputs": [],
   "source": [
    "# define our data protected method. We use swapping 25% of the observations.\n",
    "def swapping(percent, data):\n",
    "  import random\n",
    "  import numpy as np\n",
    "  swap_data = data\n",
    "  idx = random.randint(0,data.shape[1]) # pick a random variable\n",
    "  variable = np.array(data.iloc[:,idx]) # select variable from data\n",
    "  ix_size = int(percent * len(variable) * 0.5) # select proportion to shuffle\n",
    "  ix_1 = np.random.choice(len(variable), size=ix_size, replace=False) # select rows to shuffle\n",
    "  ix_2 = np.random.choice(len(variable), size=ix_size, replace=False) # select rows to shuffle\n",
    "  b1 = variable[ix_1] # take rows from variable and create b\n",
    "  b2 = variable[ix_2] # take rows from variable and create b\n",
    "\n",
    "  variable[ix_2] = b1 # swap 1\n",
    "  variable[ix_1] = b2 # swap 2\n",
    "\n",
    "  swap_data.iloc[:,idx] = variable  # place variable back in original data\n",
    "  return swap_data"
   ]
  },
  {
   "cell_type": "markdown",
   "id": "f223d745",
   "metadata": {},
   "source": [
    "Let's test whether the IPUMS data returns infinite epsilon values when no protection is applied. We'll do two cases - one with a very small number of observations, and one with the actual number of observations."
   ]
  },
  {
   "cell_type": "code",
   "execution_count": 3,
   "id": "9141b854",
   "metadata": {},
   "outputs": [],
   "source": [
    "# here we import the external data, train data and adversary training data (unprotected)\n",
    "ipums_data = pd.read_csv(\"../../Data/IPUMS/cleaned_ipums_data.csv\")\n",
    "ipums_data = pd.DataFrame.drop_duplicates(ipums_data) # drop duplicates"
   ]
  },
  {
   "cell_type": "code",
   "execution_count": 4,
   "id": "1fe79d21",
   "metadata": {},
   "outputs": [],
   "source": [
    "# here we create the train, adversary and outside_training set.\n",
    "ipums_data, evaluation_outside_training = train_test_split(ipums_data, train_size = int(samples*2/3), test_size = int(samples*1/3)) \n",
    "train, adversary_training = train_test_split(ipums_data, train_size = int(samples*1/3))"
   ]
  },
  {
   "cell_type": "code",
   "execution_count": 5,
   "id": "2f2d4f84",
   "metadata": {},
   "outputs": [
    {
     "name": "stdout",
     "output_type": "stream",
     "text": [
      "iteration is 0\n",
      "FPR is 0.37\n",
      "FNR is 0.42000000000000004\n",
      "TPR is 0.58\n",
      "TNR is 0.63\n",
      "empirical epsilon = 0.2602830982636665\n",
      "iteration is 1\n",
      "FPR is 0.37\n",
      "FNR is 0.42000000000000004\n",
      "TPR is 0.58\n",
      "TNR is 0.63\n",
      "empirical epsilon = 0.2602830982636665\n",
      "iteration is 2\n",
      "FPR is 0.37\n",
      "FNR is 0.42000000000000004\n",
      "TPR is 0.58\n",
      "TNR is 0.63\n",
      "empirical epsilon = 0.2602830982636665\n",
      "iteration is 3\n",
      "FPR is 0.37\n",
      "FNR is 0.42000000000000004\n",
      "TPR is 0.58\n",
      "TNR is 0.63\n",
      "empirical epsilon = 0.2602830982636665\n",
      "iteration is 4\n",
      "FPR is 0.37\n",
      "FNR is 0.42000000000000004\n",
      "TPR is 0.58\n",
      "TNR is 0.63\n",
      "empirical epsilon = 0.2602830982636665\n",
      "iteration is 5\n",
      "FPR is 0.37\n",
      "FNR is 0.42000000000000004\n",
      "TPR is 0.58\n",
      "TNR is 0.63\n",
      "empirical epsilon = 0.2602830982636665\n",
      "iteration is 6\n",
      "FPR is 0.37\n",
      "FNR is 0.42000000000000004\n",
      "TPR is 0.58\n",
      "TNR is 0.63\n",
      "empirical epsilon = 0.2602830982636665\n",
      "iteration is 7\n",
      "FPR is 0.37\n",
      "FNR is 0.42000000000000004\n",
      "TPR is 0.58\n",
      "TNR is 0.63\n",
      "empirical epsilon = 0.2602830982636665\n",
      "iteration is 8\n",
      "FPR is 0.37\n",
      "FNR is 0.42000000000000004\n",
      "TPR is 0.58\n",
      "TNR is 0.63\n",
      "empirical epsilon = 0.2602830982636665\n",
      "iteration is 9\n",
      "FPR is 0.37\n",
      "FNR is 0.42000000000000004\n",
      "TPR is 0.58\n",
      "TNR is 0.63\n",
      "empirical epsilon = 0.2602830982636665\n"
     ]
    },
    {
     "data": {
      "text/plain": [
       "(array([0.2602831, 0.2602831, 0.2602831, 0.2602831, 0.2602831, 0.2602831,\n",
       "        0.2602831, 0.2602831, 0.2602831, 0.2602831]),\n",
       " 0.37,\n",
       " 0.63,\n",
       " 0.42000000000000004,\n",
       " 0.58)"
      ]
     },
     "execution_count": 5,
     "metadata": {},
     "output_type": "execute_result"
    }
   ],
   "source": [
    "attacks.privacy_attack(seed=1,\n",
    "                       simulations=10,\n",
    "                       train=train,\n",
    "                       adversary=adversary_training,\n",
    "                       outside_training=evaluation_outside_training,\n",
    "                       protected_training=train,\n",
    "                       protected_adversary=adversary_training)"
   ]
  },
  {
   "cell_type": "markdown",
   "id": "80e38681",
   "metadata": {},
   "source": [
    "In this case, we do observe relatively small epsilon values."
   ]
  },
  {
   "cell_type": "markdown",
   "id": "526e095e",
   "metadata": {},
   "source": [
    "What if we apply swapping protection to the IPUMS data with the small number of observations?"
   ]
  },
  {
   "cell_type": "code",
   "execution_count": 6,
   "id": "8512d59e",
   "metadata": {},
   "outputs": [],
   "source": [
    "# apply protection to train and adversary\n",
    "swap25_train = swapping(percent = 0.25, data = train) # apply swapping 25% to train\n",
    "swap25_adversary_training = swapping(percent = 0.25, data = adversary_training)  # apply swapping 25% to adv"
   ]
  },
  {
   "cell_type": "code",
   "execution_count": 7,
   "id": "23e9586e",
   "metadata": {},
   "outputs": [
    {
     "name": "stdout",
     "output_type": "stream",
     "text": [
      "iteration is 0\n",
      "FPR is 0.28\n",
      "FNR is 0.48\n",
      "TPR is 0.52\n",
      "TNR is 0.72\n",
      "empirical epsilon = 0.4054651081081644\n",
      "iteration is 1\n",
      "FPR is 0.28\n",
      "FNR is 0.48\n",
      "TPR is 0.52\n",
      "TNR is 0.72\n",
      "empirical epsilon = 0.4054651081081644\n",
      "iteration is 2\n",
      "FPR is 0.28\n",
      "FNR is 0.48\n",
      "TPR is 0.52\n",
      "TNR is 0.72\n",
      "empirical epsilon = 0.4054651081081644\n",
      "iteration is 3\n",
      "FPR is 0.28\n",
      "FNR is 0.48\n",
      "TPR is 0.52\n",
      "TNR is 0.72\n",
      "empirical epsilon = 0.4054651081081644\n",
      "iteration is 4\n",
      "FPR is 0.28\n",
      "FNR is 0.48\n",
      "TPR is 0.52\n",
      "TNR is 0.72\n",
      "empirical epsilon = 0.4054651081081644\n",
      "iteration is 5\n",
      "FPR is 0.28\n",
      "FNR is 0.48\n",
      "TPR is 0.52\n",
      "TNR is 0.72\n",
      "empirical epsilon = 0.4054651081081644\n",
      "iteration is 6\n",
      "FPR is 0.28\n",
      "FNR is 0.48\n",
      "TPR is 0.52\n",
      "TNR is 0.72\n",
      "empirical epsilon = 0.4054651081081644\n",
      "iteration is 7\n",
      "FPR is 0.28\n",
      "FNR is 0.48\n",
      "TPR is 0.52\n",
      "TNR is 0.72\n",
      "empirical epsilon = 0.4054651081081644\n",
      "iteration is 8\n",
      "FPR is 0.28\n",
      "FNR is 0.48\n",
      "TPR is 0.52\n",
      "TNR is 0.72\n",
      "empirical epsilon = 0.4054651081081644\n",
      "iteration is 9\n",
      "FPR is 0.28\n",
      "FNR is 0.48\n",
      "TPR is 0.52\n",
      "TNR is 0.72\n",
      "empirical epsilon = 0.4054651081081644\n"
     ]
    },
    {
     "data": {
      "text/plain": [
       "(array([0.40546511, 0.40546511, 0.40546511, 0.40546511, 0.40546511,\n",
       "        0.40546511, 0.40546511, 0.40546511, 0.40546511, 0.40546511]),\n",
       " 0.28,\n",
       " 0.72,\n",
       " 0.48,\n",
       " 0.52)"
      ]
     },
     "execution_count": 7,
     "metadata": {},
     "output_type": "execute_result"
    }
   ],
   "source": [
    "attacks.privacy_attack(seed=1,\n",
    "                       simulations=10,\n",
    "                       train=train,\n",
    "                       adversary=adversary_training,\n",
    "                       outside_training=evaluation_outside_training,\n",
    "                       protected_training=swap25_train,\n",
    "                       protected_adversary=swap25_adversary_training)"
   ]
  },
  {
   "cell_type": "markdown",
   "id": "20af64d3",
   "metadata": {},
   "source": [
    "The privacy actually gets worse after swapping.\n",
    "\n",
    "What about when we many more observations from the full IPUMS data? We won't use the full data here because it is computationally intensive."
   ]
  },
  {
   "cell_type": "code",
   "execution_count": 8,
   "id": "973fe14a",
   "metadata": {},
   "outputs": [],
   "source": [
    "samples = 10000"
   ]
  },
  {
   "cell_type": "code",
   "execution_count": 9,
   "id": "b6ab09ca",
   "metadata": {},
   "outputs": [],
   "source": [
    "# here we import the external data, train data and adversary training data (unprotected)\n",
    "ipums_data = pd.read_csv(\"../../Data/IPUMS/cleaned_ipums_data.csv\")\n",
    "ipums_data = pd.DataFrame.drop_duplicates(ipums_data) # drop duplicates"
   ]
  },
  {
   "cell_type": "code",
   "execution_count": 10,
   "id": "e2176062",
   "metadata": {},
   "outputs": [],
   "source": [
    "# here we create the train, adversary and outside_training set.\n",
    "ipums_data, evaluation_outside_training = train_test_split(ipums_data, train_size = int(samples*2/3), test_size = int(samples*1/3)) \n",
    "train, adversary_training = train_test_split(ipums_data, train_size = int(samples*1/3))"
   ]
  },
  {
   "cell_type": "code",
   "execution_count": 11,
   "id": "77fed5fe",
   "metadata": {},
   "outputs": [
    {
     "name": "stdout",
     "output_type": "stream",
     "text": [
      "iteration is 0\n",
      "FPR is 0.4965496549654965\n",
      "FNR is 0.2076207620762076\n",
      "TPR is 0.7923792379237924\n",
      "TNR is 0.5034503450345035\n",
      "empirical epsilon = 0.8797946273010226\n",
      "iteration is 1\n",
      "FPR is 0.4965496549654965\n",
      "FNR is 0.2076207620762076\n",
      "TPR is 0.7923792379237924\n",
      "TNR is 0.5034503450345035\n",
      "empirical epsilon = 0.8797946273010226\n",
      "iteration is 2\n",
      "FPR is 0.4965496549654965\n",
      "FNR is 0.2076207620762076\n",
      "TPR is 0.7923792379237924\n",
      "TNR is 0.5034503450345035\n",
      "empirical epsilon = 0.8797946273010226\n",
      "iteration is 3\n",
      "FPR is 0.4965496549654965\n",
      "FNR is 0.2076207620762076\n",
      "TPR is 0.7923792379237924\n",
      "TNR is 0.5034503450345035\n",
      "empirical epsilon = 0.8797946273010226\n",
      "iteration is 4\n",
      "FPR is 0.4965496549654965\n",
      "FNR is 0.2076207620762076\n",
      "TPR is 0.7923792379237924\n",
      "TNR is 0.5034503450345035\n",
      "empirical epsilon = 0.8797946273010226\n",
      "iteration is 5\n",
      "FPR is 0.4965496549654965\n",
      "FNR is 0.2076207620762076\n",
      "TPR is 0.7923792379237924\n",
      "TNR is 0.5034503450345035\n",
      "empirical epsilon = 0.8797946273010226\n",
      "iteration is 6\n",
      "FPR is 0.4965496549654965\n",
      "FNR is 0.2076207620762076\n",
      "TPR is 0.7923792379237924\n",
      "TNR is 0.5034503450345035\n",
      "empirical epsilon = 0.8797946273010226\n",
      "iteration is 7\n",
      "FPR is 0.4965496549654965\n",
      "FNR is 0.2076207620762076\n",
      "TPR is 0.7923792379237924\n",
      "TNR is 0.5034503450345035\n",
      "empirical epsilon = 0.8797946273010226\n",
      "iteration is 8\n",
      "FPR is 0.4965496549654965\n",
      "FNR is 0.2076207620762076\n",
      "TPR is 0.7923792379237924\n",
      "TNR is 0.5034503450345035\n",
      "empirical epsilon = 0.8797946273010226\n",
      "iteration is 9\n",
      "FPR is 0.4965496549654965\n",
      "FNR is 0.2076207620762076\n",
      "TPR is 0.7923792379237924\n",
      "TNR is 0.5034503450345035\n",
      "empirical epsilon = 0.8797946273010226\n"
     ]
    },
    {
     "data": {
      "text/plain": [
       "(array([0.87979463, 0.87979463, 0.87979463, 0.87979463, 0.87979463,\n",
       "        0.87979463, 0.87979463, 0.87979463, 0.87979463, 0.87979463]),\n",
       " 0.4965496549654965,\n",
       " 0.5034503450345035,\n",
       " 0.2076207620762076,\n",
       " 0.7923792379237924)"
      ]
     },
     "execution_count": 11,
     "metadata": {},
     "output_type": "execute_result"
    }
   ],
   "source": [
    "attacks.privacy_attack(seed=1,\n",
    "                       simulations=10,\n",
    "                       train=train,\n",
    "                       adversary=adversary_training,\n",
    "                       outside_training=evaluation_outside_training,\n",
    "                       protected_training=train,\n",
    "                       protected_adversary=adversary_training)"
   ]
  },
  {
   "cell_type": "markdown",
   "id": "dbe6fb22",
   "metadata": {},
   "source": [
    "The epsilon value is very small."
   ]
  },
  {
   "cell_type": "markdown",
   "id": "45f1b77d",
   "metadata": {},
   "source": [
    "Apply swapping to the larger subset of IPUMS data."
   ]
  },
  {
   "cell_type": "code",
   "execution_count": 12,
   "id": "a8b671db",
   "metadata": {},
   "outputs": [],
   "source": [
    "# apply protection to train and adversary\n",
    "swap25_train = swapping(percent = 0.25, data = train) # apply swapping 25% to train\n",
    "swap25_adversary_training = swapping(percent = 0.25, data = adversary_training)  # apply swapping 25% to adv"
   ]
  },
  {
   "cell_type": "code",
   "execution_count": 13,
   "id": "6abe4128",
   "metadata": {},
   "outputs": [
    {
     "name": "stdout",
     "output_type": "stream",
     "text": [
      "iteration is 0\n",
      "FPR is 0.5079507950795079\n",
      "FNR is 0.19741974197419743\n",
      "TPR is 0.8025802580258026\n",
      "TNR is 0.4920492049204921\n",
      "empirical epsilon = 0.907130362475491\n",
      "iteration is 1\n",
      "FPR is 0.5079507950795079\n",
      "FNR is 0.19741974197419743\n",
      "TPR is 0.8025802580258026\n",
      "TNR is 0.4920492049204921\n",
      "empirical epsilon = 0.907130362475491\n",
      "iteration is 2\n",
      "FPR is 0.5079507950795079\n",
      "FNR is 0.19741974197419743\n",
      "TPR is 0.8025802580258026\n",
      "TNR is 0.4920492049204921\n",
      "empirical epsilon = 0.907130362475491\n",
      "iteration is 3\n",
      "FPR is 0.5079507950795079\n",
      "FNR is 0.19741974197419743\n",
      "TPR is 0.8025802580258026\n",
      "TNR is 0.4920492049204921\n",
      "empirical epsilon = 0.907130362475491\n",
      "iteration is 4\n",
      "FPR is 0.5079507950795079\n",
      "FNR is 0.19741974197419743\n",
      "TPR is 0.8025802580258026\n",
      "TNR is 0.4920492049204921\n",
      "empirical epsilon = 0.907130362475491\n",
      "iteration is 5\n",
      "FPR is 0.5079507950795079\n",
      "FNR is 0.19741974197419743\n",
      "TPR is 0.8025802580258026\n",
      "TNR is 0.4920492049204921\n",
      "empirical epsilon = 0.907130362475491\n",
      "iteration is 6\n",
      "FPR is 0.5079507950795079\n",
      "FNR is 0.19741974197419743\n",
      "TPR is 0.8025802580258026\n",
      "TNR is 0.4920492049204921\n",
      "empirical epsilon = 0.907130362475491\n",
      "iteration is 7\n",
      "FPR is 0.5079507950795079\n",
      "FNR is 0.19741974197419743\n",
      "TPR is 0.8025802580258026\n",
      "TNR is 0.4920492049204921\n",
      "empirical epsilon = 0.907130362475491\n",
      "iteration is 8\n",
      "FPR is 0.5079507950795079\n",
      "FNR is 0.19741974197419743\n",
      "TPR is 0.8025802580258026\n",
      "TNR is 0.4920492049204921\n",
      "empirical epsilon = 0.907130362475491\n",
      "iteration is 9\n",
      "FPR is 0.5079507950795079\n",
      "FNR is 0.19741974197419743\n",
      "TPR is 0.8025802580258026\n",
      "TNR is 0.4920492049204921\n",
      "empirical epsilon = 0.907130362475491\n"
     ]
    },
    {
     "data": {
      "text/plain": [
       "(array([0.90713036, 0.90713036, 0.90713036, 0.90713036, 0.90713036,\n",
       "        0.90713036, 0.90713036, 0.90713036, 0.90713036, 0.90713036]),\n",
       " 0.5079507950795079,\n",
       " 0.4920492049204921,\n",
       " 0.19741974197419743,\n",
       " 0.8025802580258026)"
      ]
     },
     "execution_count": 13,
     "metadata": {},
     "output_type": "execute_result"
    }
   ],
   "source": [
    "attacks.privacy_attack(seed=1,\n",
    "                       simulations=10,\n",
    "                       train=train,\n",
    "                       adversary=adversary_training,\n",
    "                       outside_training=evaluation_outside_training,\n",
    "                       protected_training=swap25_train,\n",
    "                       protected_adversary=swap25_adversary_training)"
   ]
  },
  {
   "cell_type": "markdown",
   "id": "adc006f7",
   "metadata": {},
   "source": [
    "Swapping marginally increased the privacy risk."
   ]
  },
  {
   "cell_type": "markdown",
   "id": "ce8a509a",
   "metadata": {},
   "source": []
  }
 ],
 "metadata": {
  "kernelspec": {
   "display_name": "base",
   "language": "python",
   "name": "python3"
  },
  "language_info": {
   "codemirror_mode": {
    "name": "ipython",
    "version": 3
   },
   "file_extension": ".py",
   "mimetype": "text/x-python",
   "name": "python",
   "nbconvert_exporter": "python",
   "pygments_lexer": "ipython3",
   "version": "3.12.4"
  }
 },
 "nbformat": 4,
 "nbformat_minor": 5
}
