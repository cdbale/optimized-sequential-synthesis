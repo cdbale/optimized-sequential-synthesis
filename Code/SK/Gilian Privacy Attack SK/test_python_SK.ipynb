{
 "cells": [
  {
   "cell_type": "markdown",
   "id": "42a3d289",
   "metadata": {},
   "source": [
    "Testing what epsilon values are returned when attack is applied to unprotected data (i.e., the only protection is sampling variability). This file uses the locations of COVID-19 patients from South Korea."
   ]
  },
  {
   "cell_type": "code",
   "execution_count": 1,
   "id": "50d40879",
   "metadata": {},
   "outputs": [],
   "source": [
    "# first we need to import some dependencies.\n",
    "import pandas as pd\n",
    "from sklearn.model_selection import train_test_split\n",
    "\n",
    "# import privacy attack\n",
    "# !pip install git+https://github.com/GilianPonte/likelihood_based_privacy_attack.git\n",
    "from likelihood_based_privacy_attack import attacks\n",
    "\n",
    "# we read public churn data\n",
    "url = 'https://raw.githubusercontent.com/albayraktaroglu/Datasets/master/churn.csv'\n",
    "churn = pd.read_csv(url, index_col=0)\n",
    "\n",
    "# select some variables\n",
    "churn = churn.iloc[:,6:15]\n",
    "samples = 300 # select the number of observations\n",
    "churn = pd.DataFrame.drop_duplicates(churn) # drop duplicates"
   ]
  },
  {
   "cell_type": "markdown",
   "id": "5c4af4a4",
   "metadata": {},
   "source": [
    "Define swapping protection function."
   ]
  },
  {
   "cell_type": "code",
   "execution_count": 2,
   "id": "ca2eb0d0",
   "metadata": {},
   "outputs": [],
   "source": [
    "# define our data protected method. We use swapping 25% of the observations.\n",
    "def swapping(percent, data):\n",
    "  import random\n",
    "  import numpy as np\n",
    "  swap_data = data\n",
    "  idx = random.randint(0,data.shape[1]) # pick a random variable\n",
    "  variable = np.array(data.iloc[:,idx]) # select variable from data\n",
    "  ix_size = int(percent * len(variable) * 0.5) # select proportion to shuffle\n",
    "  ix_1 = np.random.choice(len(variable), size=ix_size, replace=False) # select rows to shuffle\n",
    "  ix_2 = np.random.choice(len(variable), size=ix_size, replace=False) # select rows to shuffle\n",
    "  b1 = variable[ix_1] # take rows from variable and create b\n",
    "  b2 = variable[ix_2] # take rows from variable and create b\n",
    "\n",
    "  variable[ix_2] = b1 # swap 1\n",
    "  variable[ix_1] = b2 # swap 2\n",
    "\n",
    "  swap_data.iloc[:,idx] = variable  # place variable back in original data\n",
    "  return swap_data"
   ]
  },
  {
   "cell_type": "code",
   "execution_count": 3,
   "id": "3f47afd5",
   "metadata": {},
   "outputs": [],
   "source": [
    "# here we create the train, adversary and outside_training set.\n",
    "churn, evaluation_outside_training = train_test_split(churn, train_size = int(samples*2/3), test_size = int(samples*1/3)) \n",
    "train, adversary_training = train_test_split(churn, train_size = int(samples*1/3))"
   ]
  },
  {
   "cell_type": "markdown",
   "id": "4779f2ec",
   "metadata": {},
   "source": [
    "Apply privacy attack to unprotected churn data (Gilian's example data set)."
   ]
  },
  {
   "cell_type": "code",
   "execution_count": 4,
   "id": "0960d40d",
   "metadata": {},
   "outputs": [
    {
     "name": "stdout",
     "output_type": "stream",
     "text": [
      "iteration is 0\n"
     ]
    },
    {
     "name": "stderr",
     "output_type": "stream",
     "text": [
      "/opt/anaconda3/lib/python3.12/site-packages/likelihood_based_privacy_attack/attacks.py:41: RuntimeWarning: divide by zero encountered in scalar divide\n",
      "  epsilons = np.append(epsilons,max(math.log((1 - (1/N) - FPR)/FNR), math.log((1 - (1/N) - FNR)/FPR))) # append resulting epsilon to epsilons\n",
      "/opt/anaconda3/lib/python3.12/site-packages/likelihood_based_privacy_attack/attacks.py:46: RuntimeWarning: divide by zero encountered in scalar divide\n",
      "  print(\"empirical epsilon = \" + str(max(math.log((1 - (1/N) - FPR)/FNR), math.log((1 - (1/N) - FNR)/FPR))))\n",
      "/opt/anaconda3/lib/python3.12/site-packages/likelihood_based_privacy_attack/attacks.py:41: RuntimeWarning: divide by zero encountered in scalar divide\n",
      "  epsilons = np.append(epsilons,max(math.log((1 - (1/N) - FPR)/FNR), math.log((1 - (1/N) - FNR)/FPR))) # append resulting epsilon to epsilons\n",
      "/opt/anaconda3/lib/python3.12/site-packages/likelihood_based_privacy_attack/attacks.py:46: RuntimeWarning: divide by zero encountered in scalar divide\n",
      "  print(\"empirical epsilon = \" + str(max(math.log((1 - (1/N) - FPR)/FNR), math.log((1 - (1/N) - FNR)/FPR))))\n",
      "/opt/anaconda3/lib/python3.12/site-packages/likelihood_based_privacy_attack/attacks.py:41: RuntimeWarning: divide by zero encountered in scalar divide\n",
      "  epsilons = np.append(epsilons,max(math.log((1 - (1/N) - FPR)/FNR), math.log((1 - (1/N) - FNR)/FPR))) # append resulting epsilon to epsilons\n",
      "/opt/anaconda3/lib/python3.12/site-packages/likelihood_based_privacy_attack/attacks.py:46: RuntimeWarning: divide by zero encountered in scalar divide\n",
      "  print(\"empirical epsilon = \" + str(max(math.log((1 - (1/N) - FPR)/FNR), math.log((1 - (1/N) - FNR)/FPR))))\n",
      "/opt/anaconda3/lib/python3.12/site-packages/likelihood_based_privacy_attack/attacks.py:41: RuntimeWarning: divide by zero encountered in scalar divide\n",
      "  epsilons = np.append(epsilons,max(math.log((1 - (1/N) - FPR)/FNR), math.log((1 - (1/N) - FNR)/FPR))) # append resulting epsilon to epsilons\n",
      "/opt/anaconda3/lib/python3.12/site-packages/likelihood_based_privacy_attack/attacks.py:46: RuntimeWarning: divide by zero encountered in scalar divide\n",
      "  print(\"empirical epsilon = \" + str(max(math.log((1 - (1/N) - FPR)/FNR), math.log((1 - (1/N) - FNR)/FPR))))\n"
     ]
    },
    {
     "name": "stdout",
     "output_type": "stream",
     "text": [
      "FPR is 0.51\n",
      "FNR is 0.0\n",
      "TPR is 1.0\n",
      "TNR is 0.49\n",
      "empirical epsilon = inf\n",
      "iteration is 1\n",
      "FPR is 0.51\n",
      "FNR is 0.0\n",
      "TPR is 1.0\n",
      "TNR is 0.49\n",
      "empirical epsilon = inf\n",
      "iteration is 2\n",
      "FPR is 0.51\n",
      "FNR is 0.0\n",
      "TPR is 1.0\n",
      "TNR is 0.49\n",
      "empirical epsilon = inf\n",
      "iteration is 3\n",
      "FPR is 0.51\n",
      "FNR is 0.0\n",
      "TPR is 1.0\n",
      "TNR is 0.49\n",
      "empirical epsilon = inf\n",
      "iteration is 4\n"
     ]
    },
    {
     "name": "stderr",
     "output_type": "stream",
     "text": [
      "/opt/anaconda3/lib/python3.12/site-packages/likelihood_based_privacy_attack/attacks.py:41: RuntimeWarning: divide by zero encountered in scalar divide\n",
      "  epsilons = np.append(epsilons,max(math.log((1 - (1/N) - FPR)/FNR), math.log((1 - (1/N) - FNR)/FPR))) # append resulting epsilon to epsilons\n",
      "/opt/anaconda3/lib/python3.12/site-packages/likelihood_based_privacy_attack/attacks.py:46: RuntimeWarning: divide by zero encountered in scalar divide\n",
      "  print(\"empirical epsilon = \" + str(max(math.log((1 - (1/N) - FPR)/FNR), math.log((1 - (1/N) - FNR)/FPR))))\n",
      "/opt/anaconda3/lib/python3.12/site-packages/likelihood_based_privacy_attack/attacks.py:41: RuntimeWarning: divide by zero encountered in scalar divide\n",
      "  epsilons = np.append(epsilons,max(math.log((1 - (1/N) - FPR)/FNR), math.log((1 - (1/N) - FNR)/FPR))) # append resulting epsilon to epsilons\n",
      "/opt/anaconda3/lib/python3.12/site-packages/likelihood_based_privacy_attack/attacks.py:46: RuntimeWarning: divide by zero encountered in scalar divide\n",
      "  print(\"empirical epsilon = \" + str(max(math.log((1 - (1/N) - FPR)/FNR), math.log((1 - (1/N) - FNR)/FPR))))\n",
      "/opt/anaconda3/lib/python3.12/site-packages/likelihood_based_privacy_attack/attacks.py:41: RuntimeWarning: divide by zero encountered in scalar divide\n",
      "  epsilons = np.append(epsilons,max(math.log((1 - (1/N) - FPR)/FNR), math.log((1 - (1/N) - FNR)/FPR))) # append resulting epsilon to epsilons\n",
      "/opt/anaconda3/lib/python3.12/site-packages/likelihood_based_privacy_attack/attacks.py:46: RuntimeWarning: divide by zero encountered in scalar divide\n",
      "  print(\"empirical epsilon = \" + str(max(math.log((1 - (1/N) - FPR)/FNR), math.log((1 - (1/N) - FNR)/FPR))))\n",
      "/opt/anaconda3/lib/python3.12/site-packages/likelihood_based_privacy_attack/attacks.py:41: RuntimeWarning: divide by zero encountered in scalar divide\n",
      "  epsilons = np.append(epsilons,max(math.log((1 - (1/N) - FPR)/FNR), math.log((1 - (1/N) - FNR)/FPR))) # append resulting epsilon to epsilons\n",
      "/opt/anaconda3/lib/python3.12/site-packages/likelihood_based_privacy_attack/attacks.py:46: RuntimeWarning: divide by zero encountered in scalar divide\n",
      "  print(\"empirical epsilon = \" + str(max(math.log((1 - (1/N) - FPR)/FNR), math.log((1 - (1/N) - FNR)/FPR))))\n"
     ]
    },
    {
     "name": "stdout",
     "output_type": "stream",
     "text": [
      "FPR is 0.51\n",
      "FNR is 0.0\n",
      "TPR is 1.0\n",
      "TNR is 0.49\n",
      "empirical epsilon = inf\n",
      "iteration is 5\n",
      "FPR is 0.51\n",
      "FNR is 0.0\n",
      "TPR is 1.0\n",
      "TNR is 0.49\n",
      "empirical epsilon = inf\n",
      "iteration is 6\n",
      "FPR is 0.51\n",
      "FNR is 0.0\n",
      "TPR is 1.0\n",
      "TNR is 0.49\n",
      "empirical epsilon = inf\n",
      "iteration is 7\n",
      "FPR is 0.51\n",
      "FNR is 0.0\n",
      "TPR is 1.0\n",
      "TNR is 0.49\n",
      "empirical epsilon = inf\n",
      "iteration is 8\n",
      "FPR is 0.51\n",
      "FNR is 0.0\n",
      "TPR is 1.0\n",
      "TNR is 0.49\n",
      "empirical epsilon = inf\n",
      "iteration is 9\n",
      "FPR is 0.51\n",
      "FNR is 0.0\n",
      "TPR is 1.0\n",
      "TNR is 0.49\n",
      "empirical epsilon = inf\n"
     ]
    },
    {
     "name": "stderr",
     "output_type": "stream",
     "text": [
      "/opt/anaconda3/lib/python3.12/site-packages/likelihood_based_privacy_attack/attacks.py:41: RuntimeWarning: divide by zero encountered in scalar divide\n",
      "  epsilons = np.append(epsilons,max(math.log((1 - (1/N) - FPR)/FNR), math.log((1 - (1/N) - FNR)/FPR))) # append resulting epsilon to epsilons\n",
      "/opt/anaconda3/lib/python3.12/site-packages/likelihood_based_privacy_attack/attacks.py:46: RuntimeWarning: divide by zero encountered in scalar divide\n",
      "  print(\"empirical epsilon = \" + str(max(math.log((1 - (1/N) - FPR)/FNR), math.log((1 - (1/N) - FNR)/FPR))))\n",
      "/opt/anaconda3/lib/python3.12/site-packages/likelihood_based_privacy_attack/attacks.py:41: RuntimeWarning: divide by zero encountered in scalar divide\n",
      "  epsilons = np.append(epsilons,max(math.log((1 - (1/N) - FPR)/FNR), math.log((1 - (1/N) - FNR)/FPR))) # append resulting epsilon to epsilons\n",
      "/opt/anaconda3/lib/python3.12/site-packages/likelihood_based_privacy_attack/attacks.py:46: RuntimeWarning: divide by zero encountered in scalar divide\n",
      "  print(\"empirical epsilon = \" + str(max(math.log((1 - (1/N) - FPR)/FNR), math.log((1 - (1/N) - FNR)/FPR))))\n"
     ]
    },
    {
     "data": {
      "text/plain": [
       "(array([inf, inf, inf, inf, inf, inf, inf, inf, inf, inf]),\n",
       " 0.51,\n",
       " 0.49,\n",
       " 0.0,\n",
       " 1.0)"
      ]
     },
     "execution_count": 4,
     "metadata": {},
     "output_type": "execute_result"
    }
   ],
   "source": [
    "attacks.privacy_attack(seed=1,\n",
    "                       simulations=10,\n",
    "                       train=train,\n",
    "                       adversary=adversary_training,\n",
    "                       outside_training=evaluation_outside_training,\n",
    "                       protected_training=train,\n",
    "                       protected_adversary=adversary_training)"
   ]
  },
  {
   "cell_type": "markdown",
   "id": "a5b2fb62",
   "metadata": {},
   "source": [
    "Using unprotected data returns infinite epsilon, which is expected."
   ]
  },
  {
   "cell_type": "markdown",
   "id": "f223d745",
   "metadata": {},
   "source": [
    "Let's test whether the same is true for the SK data. We'll do two cases - one with a very small number of observations, and one with the actual number of observations."
   ]
  },
  {
   "cell_type": "code",
   "execution_count": 5,
   "id": "9141b854",
   "metadata": {},
   "outputs": [],
   "source": [
    "# import data and drop duplicates\n",
    "sk_data = pd.read_csv(\"../../Data/SK/cleaned_sk_data.csv\")\n",
    "sk_data = pd.DataFrame.drop_duplicates(sk_data) # drop duplicates"
   ]
  },
  {
   "cell_type": "code",
   "execution_count": 6,
   "id": "a0e22670",
   "metadata": {},
   "outputs": [
    {
     "data": {
      "text/html": [
       "<div>\n",
       "<style scoped>\n",
       "    .dataframe tbody tr th:only-of-type {\n",
       "        vertical-align: middle;\n",
       "    }\n",
       "\n",
       "    .dataframe tbody tr th {\n",
       "        vertical-align: top;\n",
       "    }\n",
       "\n",
       "    .dataframe thead th {\n",
       "        text-align: right;\n",
       "    }\n",
       "</style>\n",
       "<table border=\"1\" class=\"dataframe\">\n",
       "  <thead>\n",
       "    <tr style=\"text-align: right;\">\n",
       "      <th></th>\n",
       "      <th>latitude</th>\n",
       "      <th>longitude</th>\n",
       "      <th>sex</th>\n",
       "      <th>age</th>\n",
       "      <th>state</th>\n",
       "    </tr>\n",
       "  </thead>\n",
       "  <tbody>\n",
       "    <tr>\n",
       "      <th>0</th>\n",
       "      <td>0.944157</td>\n",
       "      <td>-1.010655</td>\n",
       "      <td>1</td>\n",
       "      <td>5</td>\n",
       "      <td>0</td>\n",
       "    </tr>\n",
       "    <tr>\n",
       "      <th>1</th>\n",
       "      <td>0.889746</td>\n",
       "      <td>-0.694899</td>\n",
       "      <td>1</td>\n",
       "      <td>5</td>\n",
       "      <td>0</td>\n",
       "    </tr>\n",
       "    <tr>\n",
       "      <th>2</th>\n",
       "      <td>0.917482</td>\n",
       "      <td>-0.682299</td>\n",
       "      <td>1</td>\n",
       "      <td>3</td>\n",
       "      <td>0</td>\n",
       "    </tr>\n",
       "    <tr>\n",
       "      <th>3</th>\n",
       "      <td>0.916660</td>\n",
       "      <td>-0.682551</td>\n",
       "      <td>1</td>\n",
       "      <td>3</td>\n",
       "      <td>0</td>\n",
       "    </tr>\n",
       "    <tr>\n",
       "      <th>4</th>\n",
       "      <td>0.886074</td>\n",
       "      <td>-0.668883</td>\n",
       "      <td>1</td>\n",
       "      <td>3</td>\n",
       "      <td>0</td>\n",
       "    </tr>\n",
       "    <tr>\n",
       "      <th>...</th>\n",
       "      <td>...</td>\n",
       "      <td>...</td>\n",
       "      <td>...</td>\n",
       "      <td>...</td>\n",
       "      <td>...</td>\n",
       "    </tr>\n",
       "    <tr>\n",
       "      <th>6701</th>\n",
       "      <td>-1.662973</td>\n",
       "      <td>1.164819</td>\n",
       "      <td>1</td>\n",
       "      <td>2</td>\n",
       "      <td>0</td>\n",
       "    </tr>\n",
       "    <tr>\n",
       "      <th>6703</th>\n",
       "      <td>-1.558049</td>\n",
       "      <td>0.964307</td>\n",
       "      <td>1</td>\n",
       "      <td>6</td>\n",
       "      <td>0</td>\n",
       "    </tr>\n",
       "    <tr>\n",
       "      <th>6704</th>\n",
       "      <td>-1.622048</td>\n",
       "      <td>0.866628</td>\n",
       "      <td>1</td>\n",
       "      <td>6</td>\n",
       "      <td>0</td>\n",
       "    </tr>\n",
       "    <tr>\n",
       "      <th>6709</th>\n",
       "      <td>-1.548071</td>\n",
       "      <td>1.557316</td>\n",
       "      <td>1</td>\n",
       "      <td>4</td>\n",
       "      <td>0</td>\n",
       "    </tr>\n",
       "    <tr>\n",
       "      <th>6710</th>\n",
       "      <td>-1.549392</td>\n",
       "      <td>1.555785</td>\n",
       "      <td>1</td>\n",
       "      <td>4</td>\n",
       "      <td>0</td>\n",
       "    </tr>\n",
       "  </tbody>\n",
       "</table>\n",
       "<p>3807 rows × 5 columns</p>\n",
       "</div>"
      ],
      "text/plain": [
       "      latitude  longitude  sex  age  state\n",
       "0     0.944157  -1.010655    1    5      0\n",
       "1     0.889746  -0.694899    1    5      0\n",
       "2     0.917482  -0.682299    1    3      0\n",
       "3     0.916660  -0.682551    1    3      0\n",
       "4     0.886074  -0.668883    1    3      0\n",
       "...        ...        ...  ...  ...    ...\n",
       "6701 -1.662973   1.164819    1    2      0\n",
       "6703 -1.558049   0.964307    1    6      0\n",
       "6704 -1.622048   0.866628    1    6      0\n",
       "6709 -1.548071   1.557316    1    4      0\n",
       "6710 -1.549392   1.555785    1    4      0\n",
       "\n",
       "[3807 rows x 5 columns]"
      ]
     },
     "execution_count": 6,
     "metadata": {},
     "output_type": "execute_result"
    }
   ],
   "source": [
    "sk_data"
   ]
  },
  {
   "cell_type": "code",
   "execution_count": 7,
   "id": "1fe79d21",
   "metadata": {},
   "outputs": [],
   "source": [
    "# here we create the train, adversary and outside_training set.\n",
    "sk_data, evaluation_outside_training = train_test_split(sk_data, train_size = int(samples*2/3), test_size = int(samples*1/3)) \n",
    "train, adversary_training = train_test_split(sk_data, train_size = int(samples*1/3))"
   ]
  },
  {
   "cell_type": "markdown",
   "id": "c5cddeb0",
   "metadata": {},
   "source": [
    "Apply privacy attack."
   ]
  },
  {
   "cell_type": "code",
   "execution_count": 8,
   "id": "2f2d4f84",
   "metadata": {},
   "outputs": [
    {
     "name": "stderr",
     "output_type": "stream",
     "text": [
      "/opt/anaconda3/lib/python3.12/site-packages/likelihood_based_privacy_attack/attacks.py:41: RuntimeWarning: divide by zero encountered in scalar divide\n",
      "  epsilons = np.append(epsilons,max(math.log((1 - (1/N) - FPR)/FNR), math.log((1 - (1/N) - FNR)/FPR))) # append resulting epsilon to epsilons\n",
      "/opt/anaconda3/lib/python3.12/site-packages/likelihood_based_privacy_attack/attacks.py:46: RuntimeWarning: divide by zero encountered in scalar divide\n",
      "  print(\"empirical epsilon = \" + str(max(math.log((1 - (1/N) - FPR)/FNR), math.log((1 - (1/N) - FNR)/FPR))))\n",
      "/opt/anaconda3/lib/python3.12/site-packages/likelihood_based_privacy_attack/attacks.py:41: RuntimeWarning: divide by zero encountered in scalar divide\n",
      "  epsilons = np.append(epsilons,max(math.log((1 - (1/N) - FPR)/FNR), math.log((1 - (1/N) - FNR)/FPR))) # append resulting epsilon to epsilons\n",
      "/opt/anaconda3/lib/python3.12/site-packages/likelihood_based_privacy_attack/attacks.py:46: RuntimeWarning: divide by zero encountered in scalar divide\n",
      "  print(\"empirical epsilon = \" + str(max(math.log((1 - (1/N) - FPR)/FNR), math.log((1 - (1/N) - FNR)/FPR))))\n"
     ]
    },
    {
     "name": "stdout",
     "output_type": "stream",
     "text": [
      "iteration is 0\n",
      "FPR is 0.72\n",
      "FNR is 0.0\n",
      "TPR is 1.0\n",
      "TNR is 0.28\n",
      "empirical epsilon = inf\n",
      "iteration is 1\n",
      "FPR is 0.72\n",
      "FNR is 0.0\n",
      "TPR is 1.0\n",
      "TNR is 0.28\n",
      "empirical epsilon = inf\n",
      "iteration is 2\n",
      "FPR is 0.72\n",
      "FNR is 0.0\n",
      "TPR is 1.0\n",
      "TNR is 0.28\n",
      "empirical epsilon = inf\n",
      "iteration is 3\n"
     ]
    },
    {
     "name": "stderr",
     "output_type": "stream",
     "text": [
      "/opt/anaconda3/lib/python3.12/site-packages/likelihood_based_privacy_attack/attacks.py:41: RuntimeWarning: divide by zero encountered in scalar divide\n",
      "  epsilons = np.append(epsilons,max(math.log((1 - (1/N) - FPR)/FNR), math.log((1 - (1/N) - FNR)/FPR))) # append resulting epsilon to epsilons\n",
      "/opt/anaconda3/lib/python3.12/site-packages/likelihood_based_privacy_attack/attacks.py:46: RuntimeWarning: divide by zero encountered in scalar divide\n",
      "  print(\"empirical epsilon = \" + str(max(math.log((1 - (1/N) - FPR)/FNR), math.log((1 - (1/N) - FNR)/FPR))))\n",
      "/opt/anaconda3/lib/python3.12/site-packages/likelihood_based_privacy_attack/attacks.py:41: RuntimeWarning: divide by zero encountered in scalar divide\n",
      "  epsilons = np.append(epsilons,max(math.log((1 - (1/N) - FPR)/FNR), math.log((1 - (1/N) - FNR)/FPR))) # append resulting epsilon to epsilons\n",
      "/opt/anaconda3/lib/python3.12/site-packages/likelihood_based_privacy_attack/attacks.py:46: RuntimeWarning: divide by zero encountered in scalar divide\n",
      "  print(\"empirical epsilon = \" + str(max(math.log((1 - (1/N) - FPR)/FNR), math.log((1 - (1/N) - FNR)/FPR))))\n",
      "/opt/anaconda3/lib/python3.12/site-packages/likelihood_based_privacy_attack/attacks.py:41: RuntimeWarning: divide by zero encountered in scalar divide\n",
      "  epsilons = np.append(epsilons,max(math.log((1 - (1/N) - FPR)/FNR), math.log((1 - (1/N) - FNR)/FPR))) # append resulting epsilon to epsilons\n",
      "/opt/anaconda3/lib/python3.12/site-packages/likelihood_based_privacy_attack/attacks.py:46: RuntimeWarning: divide by zero encountered in scalar divide\n",
      "  print(\"empirical epsilon = \" + str(max(math.log((1 - (1/N) - FPR)/FNR), math.log((1 - (1/N) - FNR)/FPR))))\n"
     ]
    },
    {
     "name": "stdout",
     "output_type": "stream",
     "text": [
      "FPR is 0.72\n",
      "FNR is 0.0\n",
      "TPR is 1.0\n",
      "TNR is 0.28\n",
      "empirical epsilon = inf\n",
      "iteration is 4\n",
      "FPR is 0.72\n",
      "FNR is 0.0\n",
      "TPR is 1.0\n",
      "TNR is 0.28\n",
      "empirical epsilon = inf\n",
      "iteration is 5\n",
      "FPR is 0.72\n",
      "FNR is 0.0\n",
      "TPR is 1.0\n",
      "TNR is 0.28\n",
      "empirical epsilon = inf\n",
      "iteration is 6\n"
     ]
    },
    {
     "name": "stderr",
     "output_type": "stream",
     "text": [
      "/opt/anaconda3/lib/python3.12/site-packages/likelihood_based_privacy_attack/attacks.py:41: RuntimeWarning: divide by zero encountered in scalar divide\n",
      "  epsilons = np.append(epsilons,max(math.log((1 - (1/N) - FPR)/FNR), math.log((1 - (1/N) - FNR)/FPR))) # append resulting epsilon to epsilons\n",
      "/opt/anaconda3/lib/python3.12/site-packages/likelihood_based_privacy_attack/attacks.py:46: RuntimeWarning: divide by zero encountered in scalar divide\n",
      "  print(\"empirical epsilon = \" + str(max(math.log((1 - (1/N) - FPR)/FNR), math.log((1 - (1/N) - FNR)/FPR))))\n",
      "/opt/anaconda3/lib/python3.12/site-packages/likelihood_based_privacy_attack/attacks.py:41: RuntimeWarning: divide by zero encountered in scalar divide\n",
      "  epsilons = np.append(epsilons,max(math.log((1 - (1/N) - FPR)/FNR), math.log((1 - (1/N) - FNR)/FPR))) # append resulting epsilon to epsilons\n",
      "/opt/anaconda3/lib/python3.12/site-packages/likelihood_based_privacy_attack/attacks.py:46: RuntimeWarning: divide by zero encountered in scalar divide\n",
      "  print(\"empirical epsilon = \" + str(max(math.log((1 - (1/N) - FPR)/FNR), math.log((1 - (1/N) - FNR)/FPR))))\n",
      "/opt/anaconda3/lib/python3.12/site-packages/likelihood_based_privacy_attack/attacks.py:41: RuntimeWarning: divide by zero encountered in scalar divide\n",
      "  epsilons = np.append(epsilons,max(math.log((1 - (1/N) - FPR)/FNR), math.log((1 - (1/N) - FNR)/FPR))) # append resulting epsilon to epsilons\n"
     ]
    },
    {
     "name": "stdout",
     "output_type": "stream",
     "text": [
      "FPR is 0.72\n",
      "FNR is 0.0\n",
      "TPR is 1.0\n",
      "TNR is 0.28\n",
      "empirical epsilon = inf\n",
      "iteration is 7\n",
      "FPR is 0.72\n",
      "FNR is 0.0\n",
      "TPR is 1.0\n",
      "TNR is 0.28\n",
      "empirical epsilon = inf\n",
      "iteration is 8\n",
      "FPR is 0.72\n",
      "FNR is 0.0\n",
      "TPR is 1.0\n",
      "TNR is 0.28\n",
      "empirical epsilon = inf\n",
      "iteration is 9\n",
      "FPR is 0.72\n",
      "FNR is 0.0\n",
      "TPR is 1.0\n",
      "TNR is 0.28\n",
      "empirical epsilon = inf\n"
     ]
    },
    {
     "name": "stderr",
     "output_type": "stream",
     "text": [
      "/opt/anaconda3/lib/python3.12/site-packages/likelihood_based_privacy_attack/attacks.py:46: RuntimeWarning: divide by zero encountered in scalar divide\n",
      "  print(\"empirical epsilon = \" + str(max(math.log((1 - (1/N) - FPR)/FNR), math.log((1 - (1/N) - FNR)/FPR))))\n",
      "/opt/anaconda3/lib/python3.12/site-packages/likelihood_based_privacy_attack/attacks.py:41: RuntimeWarning: divide by zero encountered in scalar divide\n",
      "  epsilons = np.append(epsilons,max(math.log((1 - (1/N) - FPR)/FNR), math.log((1 - (1/N) - FNR)/FPR))) # append resulting epsilon to epsilons\n",
      "/opt/anaconda3/lib/python3.12/site-packages/likelihood_based_privacy_attack/attacks.py:46: RuntimeWarning: divide by zero encountered in scalar divide\n",
      "  print(\"empirical epsilon = \" + str(max(math.log((1 - (1/N) - FPR)/FNR), math.log((1 - (1/N) - FNR)/FPR))))\n",
      "/opt/anaconda3/lib/python3.12/site-packages/likelihood_based_privacy_attack/attacks.py:41: RuntimeWarning: divide by zero encountered in scalar divide\n",
      "  epsilons = np.append(epsilons,max(math.log((1 - (1/N) - FPR)/FNR), math.log((1 - (1/N) - FNR)/FPR))) # append resulting epsilon to epsilons\n",
      "/opt/anaconda3/lib/python3.12/site-packages/likelihood_based_privacy_attack/attacks.py:46: RuntimeWarning: divide by zero encountered in scalar divide\n",
      "  print(\"empirical epsilon = \" + str(max(math.log((1 - (1/N) - FPR)/FNR), math.log((1 - (1/N) - FNR)/FPR))))\n"
     ]
    },
    {
     "data": {
      "text/plain": [
       "(array([inf, inf, inf, inf, inf, inf, inf, inf, inf, inf]),\n",
       " 0.72,\n",
       " 0.28,\n",
       " 0.0,\n",
       " 1.0)"
      ]
     },
     "execution_count": 8,
     "metadata": {},
     "output_type": "execute_result"
    }
   ],
   "source": [
    "attacks.privacy_attack(seed=1,\n",
    "                       simulations=10,\n",
    "                       train=train,\n",
    "                       adversary=adversary_training,\n",
    "                       outside_training=evaluation_outside_training,\n",
    "                       protected_training=train,\n",
    "                       protected_adversary=adversary_training)"
   ]
  },
  {
   "cell_type": "markdown",
   "id": "80e38681",
   "metadata": {},
   "source": [
    "We get infinite epsilon values as expected."
   ]
  },
  {
   "cell_type": "markdown",
   "id": "526e095e",
   "metadata": {},
   "source": [
    "What if we apply swapping protection to the SK data with the small number of observations?"
   ]
  },
  {
   "cell_type": "code",
   "execution_count": 9,
   "id": "8512d59e",
   "metadata": {},
   "outputs": [],
   "source": [
    "# apply protection to train and adversary\n",
    "swap25_train = swapping(percent = 0.25, data = train) # apply swapping 25% to train\n",
    "swap25_adversary_training = swapping(percent = 0.25, data = adversary_training)  # apply swapping 25% to adv"
   ]
  },
  {
   "cell_type": "code",
   "execution_count": 10,
   "id": "23e9586e",
   "metadata": {},
   "outputs": [
    {
     "name": "stdout",
     "output_type": "stream",
     "text": [
      "iteration is 0\n",
      "FPR is 0.71\n",
      "FNR is 0.0\n",
      "TPR is 1.0\n",
      "TNR is 0.29000000000000004\n",
      "empirical epsilon = inf\n",
      "iteration is 1\n",
      "FPR is 0.71\n",
      "FNR is 0.0\n",
      "TPR is 1.0\n",
      "TNR is 0.29000000000000004\n",
      "empirical epsilon = inf\n",
      "iteration is 2\n"
     ]
    },
    {
     "name": "stderr",
     "output_type": "stream",
     "text": [
      "/opt/anaconda3/lib/python3.12/site-packages/likelihood_based_privacy_attack/attacks.py:41: RuntimeWarning: divide by zero encountered in scalar divide\n",
      "  epsilons = np.append(epsilons,max(math.log((1 - (1/N) - FPR)/FNR), math.log((1 - (1/N) - FNR)/FPR))) # append resulting epsilon to epsilons\n",
      "/opt/anaconda3/lib/python3.12/site-packages/likelihood_based_privacy_attack/attacks.py:46: RuntimeWarning: divide by zero encountered in scalar divide\n",
      "  print(\"empirical epsilon = \" + str(max(math.log((1 - (1/N) - FPR)/FNR), math.log((1 - (1/N) - FNR)/FPR))))\n",
      "/opt/anaconda3/lib/python3.12/site-packages/likelihood_based_privacy_attack/attacks.py:41: RuntimeWarning: divide by zero encountered in scalar divide\n",
      "  epsilons = np.append(epsilons,max(math.log((1 - (1/N) - FPR)/FNR), math.log((1 - (1/N) - FNR)/FPR))) # append resulting epsilon to epsilons\n",
      "/opt/anaconda3/lib/python3.12/site-packages/likelihood_based_privacy_attack/attacks.py:46: RuntimeWarning: divide by zero encountered in scalar divide\n",
      "  print(\"empirical epsilon = \" + str(max(math.log((1 - (1/N) - FPR)/FNR), math.log((1 - (1/N) - FNR)/FPR))))\n",
      "/opt/anaconda3/lib/python3.12/site-packages/likelihood_based_privacy_attack/attacks.py:41: RuntimeWarning: divide by zero encountered in scalar divide\n",
      "  epsilons = np.append(epsilons,max(math.log((1 - (1/N) - FPR)/FNR), math.log((1 - (1/N) - FNR)/FPR))) # append resulting epsilon to epsilons\n",
      "/opt/anaconda3/lib/python3.12/site-packages/likelihood_based_privacy_attack/attacks.py:46: RuntimeWarning: divide by zero encountered in scalar divide\n",
      "  print(\"empirical epsilon = \" + str(max(math.log((1 - (1/N) - FPR)/FNR), math.log((1 - (1/N) - FNR)/FPR))))\n"
     ]
    },
    {
     "name": "stdout",
     "output_type": "stream",
     "text": [
      "FPR is 0.71\n",
      "FNR is 0.0\n",
      "TPR is 1.0\n",
      "TNR is 0.29000000000000004\n",
      "empirical epsilon = inf\n",
      "iteration is 3\n",
      "FPR is 0.71\n",
      "FNR is 0.0\n",
      "TPR is 1.0\n",
      "TNR is 0.29000000000000004\n",
      "empirical epsilon = inf\n",
      "iteration is 4\n",
      "FPR is 0.71\n",
      "FNR is 0.0\n",
      "TPR is 1.0\n",
      "TNR is 0.29000000000000004\n",
      "empirical epsilon = inf\n",
      "iteration is 5\n"
     ]
    },
    {
     "name": "stderr",
     "output_type": "stream",
     "text": [
      "/opt/anaconda3/lib/python3.12/site-packages/likelihood_based_privacy_attack/attacks.py:41: RuntimeWarning: divide by zero encountered in scalar divide\n",
      "  epsilons = np.append(epsilons,max(math.log((1 - (1/N) - FPR)/FNR), math.log((1 - (1/N) - FNR)/FPR))) # append resulting epsilon to epsilons\n",
      "/opt/anaconda3/lib/python3.12/site-packages/likelihood_based_privacy_attack/attacks.py:46: RuntimeWarning: divide by zero encountered in scalar divide\n",
      "  print(\"empirical epsilon = \" + str(max(math.log((1 - (1/N) - FPR)/FNR), math.log((1 - (1/N) - FNR)/FPR))))\n",
      "/opt/anaconda3/lib/python3.12/site-packages/likelihood_based_privacy_attack/attacks.py:41: RuntimeWarning: divide by zero encountered in scalar divide\n",
      "  epsilons = np.append(epsilons,max(math.log((1 - (1/N) - FPR)/FNR), math.log((1 - (1/N) - FNR)/FPR))) # append resulting epsilon to epsilons\n",
      "/opt/anaconda3/lib/python3.12/site-packages/likelihood_based_privacy_attack/attacks.py:46: RuntimeWarning: divide by zero encountered in scalar divide\n",
      "  print(\"empirical epsilon = \" + str(max(math.log((1 - (1/N) - FPR)/FNR), math.log((1 - (1/N) - FNR)/FPR))))\n",
      "/opt/anaconda3/lib/python3.12/site-packages/likelihood_based_privacy_attack/attacks.py:41: RuntimeWarning: divide by zero encountered in scalar divide\n",
      "  epsilons = np.append(epsilons,max(math.log((1 - (1/N) - FPR)/FNR), math.log((1 - (1/N) - FNR)/FPR))) # append resulting epsilon to epsilons\n",
      "/opt/anaconda3/lib/python3.12/site-packages/likelihood_based_privacy_attack/attacks.py:46: RuntimeWarning: divide by zero encountered in scalar divide\n",
      "  print(\"empirical epsilon = \" + str(max(math.log((1 - (1/N) - FPR)/FNR), math.log((1 - (1/N) - FNR)/FPR))))\n"
     ]
    },
    {
     "name": "stdout",
     "output_type": "stream",
     "text": [
      "FPR is 0.71\n",
      "FNR is 0.0\n",
      "TPR is 1.0\n",
      "TNR is 0.29000000000000004\n",
      "empirical epsilon = inf\n",
      "iteration is 6\n",
      "FPR is 0.71\n",
      "FNR is 0.0\n",
      "TPR is 1.0\n",
      "TNR is 0.29000000000000004\n",
      "empirical epsilon = inf\n",
      "iteration is 7\n",
      "FPR is 0.71\n",
      "FNR is 0.0\n",
      "TPR is 1.0\n",
      "TNR is 0.29000000000000004\n",
      "empirical epsilon = inf\n",
      "iteration is 8\n",
      "FPR is 0.71\n",
      "FNR is 0.0\n",
      "TPR is 1.0\n",
      "TNR is 0.29000000000000004\n",
      "empirical epsilon = inf\n",
      "iteration is 9\n",
      "FPR is 0.71\n",
      "FNR is 0.0\n",
      "TPR is 1.0\n",
      "TNR is 0.29000000000000004\n",
      "empirical epsilon = inf\n"
     ]
    },
    {
     "name": "stderr",
     "output_type": "stream",
     "text": [
      "/opt/anaconda3/lib/python3.12/site-packages/likelihood_based_privacy_attack/attacks.py:41: RuntimeWarning: divide by zero encountered in scalar divide\n",
      "  epsilons = np.append(epsilons,max(math.log((1 - (1/N) - FPR)/FNR), math.log((1 - (1/N) - FNR)/FPR))) # append resulting epsilon to epsilons\n",
      "/opt/anaconda3/lib/python3.12/site-packages/likelihood_based_privacy_attack/attacks.py:46: RuntimeWarning: divide by zero encountered in scalar divide\n",
      "  print(\"empirical epsilon = \" + str(max(math.log((1 - (1/N) - FPR)/FNR), math.log((1 - (1/N) - FNR)/FPR))))\n",
      "/opt/anaconda3/lib/python3.12/site-packages/likelihood_based_privacy_attack/attacks.py:41: RuntimeWarning: divide by zero encountered in scalar divide\n",
      "  epsilons = np.append(epsilons,max(math.log((1 - (1/N) - FPR)/FNR), math.log((1 - (1/N) - FNR)/FPR))) # append resulting epsilon to epsilons\n",
      "/opt/anaconda3/lib/python3.12/site-packages/likelihood_based_privacy_attack/attacks.py:46: RuntimeWarning: divide by zero encountered in scalar divide\n",
      "  print(\"empirical epsilon = \" + str(max(math.log((1 - (1/N) - FPR)/FNR), math.log((1 - (1/N) - FNR)/FPR))))\n",
      "/opt/anaconda3/lib/python3.12/site-packages/likelihood_based_privacy_attack/attacks.py:41: RuntimeWarning: divide by zero encountered in scalar divide\n",
      "  epsilons = np.append(epsilons,max(math.log((1 - (1/N) - FPR)/FNR), math.log((1 - (1/N) - FNR)/FPR))) # append resulting epsilon to epsilons\n",
      "/opt/anaconda3/lib/python3.12/site-packages/likelihood_based_privacy_attack/attacks.py:46: RuntimeWarning: divide by zero encountered in scalar divide\n",
      "  print(\"empirical epsilon = \" + str(max(math.log((1 - (1/N) - FPR)/FNR), math.log((1 - (1/N) - FNR)/FPR))))\n",
      "/opt/anaconda3/lib/python3.12/site-packages/likelihood_based_privacy_attack/attacks.py:41: RuntimeWarning: divide by zero encountered in scalar divide\n",
      "  epsilons = np.append(epsilons,max(math.log((1 - (1/N) - FPR)/FNR), math.log((1 - (1/N) - FNR)/FPR))) # append resulting epsilon to epsilons\n",
      "/opt/anaconda3/lib/python3.12/site-packages/likelihood_based_privacy_attack/attacks.py:46: RuntimeWarning: divide by zero encountered in scalar divide\n",
      "  print(\"empirical epsilon = \" + str(max(math.log((1 - (1/N) - FPR)/FNR), math.log((1 - (1/N) - FNR)/FPR))))\n"
     ]
    },
    {
     "data": {
      "text/plain": [
       "(array([inf, inf, inf, inf, inf, inf, inf, inf, inf, inf]),\n",
       " 0.71,\n",
       " 0.29000000000000004,\n",
       " 0.0,\n",
       " 1.0)"
      ]
     },
     "execution_count": 10,
     "metadata": {},
     "output_type": "execute_result"
    }
   ],
   "source": [
    "attacks.privacy_attack(seed=1,\n",
    "                       simulations=10,\n",
    "                       train=train,\n",
    "                       adversary=adversary_training,\n",
    "                       outside_training=evaluation_outside_training,\n",
    "                       protected_training=swap25_train,\n",
    "                       protected_adversary=swap25_adversary_training)"
   ]
  },
  {
   "cell_type": "markdown",
   "id": "a5d43995",
   "metadata": {},
   "source": [
    "Infinite epsilon values, as expected."
   ]
  },
  {
   "cell_type": "markdown",
   "id": "20af64d3",
   "metadata": {},
   "source": [
    "What about when we use the full SK data?"
   ]
  },
  {
   "cell_type": "code",
   "execution_count": 11,
   "id": "b6ab09ca",
   "metadata": {},
   "outputs": [],
   "source": [
    "# here we import the external data, train data and adversary training data (unprotected)\n",
    "sk_data = pd.read_csv(\"../../Data/SK/cleaned_sk_data.csv\")"
   ]
  },
  {
   "cell_type": "code",
   "execution_count": 12,
   "id": "920b4927",
   "metadata": {},
   "outputs": [
    {
     "data": {
      "text/html": [
       "<div>\n",
       "<style scoped>\n",
       "    .dataframe tbody tr th:only-of-type {\n",
       "        vertical-align: middle;\n",
       "    }\n",
       "\n",
       "    .dataframe tbody tr th {\n",
       "        vertical-align: top;\n",
       "    }\n",
       "\n",
       "    .dataframe thead th {\n",
       "        text-align: right;\n",
       "    }\n",
       "</style>\n",
       "<table border=\"1\" class=\"dataframe\">\n",
       "  <thead>\n",
       "    <tr style=\"text-align: right;\">\n",
       "      <th></th>\n",
       "      <th>latitude</th>\n",
       "      <th>longitude</th>\n",
       "      <th>sex</th>\n",
       "      <th>age</th>\n",
       "      <th>state</th>\n",
       "    </tr>\n",
       "  </thead>\n",
       "  <tbody>\n",
       "    <tr>\n",
       "      <th>0</th>\n",
       "      <td>0.944157</td>\n",
       "      <td>-1.010655</td>\n",
       "      <td>1</td>\n",
       "      <td>5</td>\n",
       "      <td>0</td>\n",
       "    </tr>\n",
       "    <tr>\n",
       "      <th>1</th>\n",
       "      <td>0.889746</td>\n",
       "      <td>-0.694899</td>\n",
       "      <td>1</td>\n",
       "      <td>5</td>\n",
       "      <td>0</td>\n",
       "    </tr>\n",
       "    <tr>\n",
       "      <th>2</th>\n",
       "      <td>0.917482</td>\n",
       "      <td>-0.682299</td>\n",
       "      <td>1</td>\n",
       "      <td>3</td>\n",
       "      <td>0</td>\n",
       "    </tr>\n",
       "    <tr>\n",
       "      <th>3</th>\n",
       "      <td>0.916660</td>\n",
       "      <td>-0.682551</td>\n",
       "      <td>1</td>\n",
       "      <td>3</td>\n",
       "      <td>0</td>\n",
       "    </tr>\n",
       "    <tr>\n",
       "      <th>4</th>\n",
       "      <td>0.886074</td>\n",
       "      <td>-0.668883</td>\n",
       "      <td>1</td>\n",
       "      <td>3</td>\n",
       "      <td>0</td>\n",
       "    </tr>\n",
       "    <tr>\n",
       "      <th>...</th>\n",
       "      <td>...</td>\n",
       "      <td>...</td>\n",
       "      <td>...</td>\n",
       "      <td>...</td>\n",
       "      <td>...</td>\n",
       "    </tr>\n",
       "    <tr>\n",
       "      <th>6707</th>\n",
       "      <td>0.881500</td>\n",
       "      <td>-0.925307</td>\n",
       "      <td>1</td>\n",
       "      <td>4</td>\n",
       "      <td>0</td>\n",
       "    </tr>\n",
       "    <tr>\n",
       "      <th>6708</th>\n",
       "      <td>-1.728784</td>\n",
       "      <td>1.470871</td>\n",
       "      <td>1</td>\n",
       "      <td>4</td>\n",
       "      <td>0</td>\n",
       "    </tr>\n",
       "    <tr>\n",
       "      <th>6709</th>\n",
       "      <td>-1.548071</td>\n",
       "      <td>1.557316</td>\n",
       "      <td>1</td>\n",
       "      <td>4</td>\n",
       "      <td>0</td>\n",
       "    </tr>\n",
       "    <tr>\n",
       "      <th>6710</th>\n",
       "      <td>-1.549392</td>\n",
       "      <td>1.555785</td>\n",
       "      <td>1</td>\n",
       "      <td>4</td>\n",
       "      <td>0</td>\n",
       "    </tr>\n",
       "    <tr>\n",
       "      <th>6711</th>\n",
       "      <td>-1.548071</td>\n",
       "      <td>1.557316</td>\n",
       "      <td>1</td>\n",
       "      <td>4</td>\n",
       "      <td>0</td>\n",
       "    </tr>\n",
       "  </tbody>\n",
       "</table>\n",
       "<p>6712 rows × 5 columns</p>\n",
       "</div>"
      ],
      "text/plain": [
       "      latitude  longitude  sex  age  state\n",
       "0     0.944157  -1.010655    1    5      0\n",
       "1     0.889746  -0.694899    1    5      0\n",
       "2     0.917482  -0.682299    1    3      0\n",
       "3     0.916660  -0.682551    1    3      0\n",
       "4     0.886074  -0.668883    1    3      0\n",
       "...        ...        ...  ...  ...    ...\n",
       "6707  0.881500  -0.925307    1    4      0\n",
       "6708 -1.728784   1.470871    1    4      0\n",
       "6709 -1.548071   1.557316    1    4      0\n",
       "6710 -1.549392   1.555785    1    4      0\n",
       "6711 -1.548071   1.557316    1    4      0\n",
       "\n",
       "[6712 rows x 5 columns]"
      ]
     },
     "execution_count": 12,
     "metadata": {},
     "output_type": "execute_result"
    }
   ],
   "source": [
    "sk_data"
   ]
  },
  {
   "cell_type": "markdown",
   "id": "68b24b6f",
   "metadata": {},
   "source": [
    "We have increased to about 6700 rows."
   ]
  },
  {
   "cell_type": "code",
   "execution_count": 13,
   "id": "e2176062",
   "metadata": {},
   "outputs": [],
   "source": [
    "# here we create the train, adversary and outside_training set.\n",
    "sk_data, evaluation_outside_training = train_test_split(sk_data, train_size = int(sk_data.shape[0]*2/3), test_size = int(sk_data.shape[0]*1/3)) \n",
    "train, adversary_training = train_test_split(sk_data, train_size = int(sk_data.shape[0]*1/3))"
   ]
  },
  {
   "cell_type": "code",
   "execution_count": 14,
   "id": "77fed5fe",
   "metadata": {},
   "outputs": [
    {
     "name": "stdout",
     "output_type": "stream",
     "text": [
      "iteration is 0\n",
      "FPR is 0.4228877961555655\n",
      "FNR is 0.40576794097920854\n",
      "TPR is 0.5942320590207915\n",
      "TNR is 0.5771122038444345\n",
      "empirical epsilon = 0.3405657310462579\n",
      "iteration is 1\n",
      "FPR is 0.4228877961555655\n",
      "FNR is 0.40576794097920854\n",
      "TPR is 0.5942320590207915\n",
      "TNR is 0.5771122038444345\n",
      "empirical epsilon = 0.3405657310462579\n",
      "iteration is 2\n",
      "FPR is 0.4228877961555655\n",
      "FNR is 0.40576794097920854\n",
      "TPR is 0.5942320590207915\n",
      "TNR is 0.5771122038444345\n",
      "empirical epsilon = 0.3405657310462579\n",
      "iteration is 3\n",
      "FPR is 0.4228877961555655\n",
      "FNR is 0.40576794097920854\n",
      "TPR is 0.5942320590207915\n",
      "TNR is 0.5771122038444345\n",
      "empirical epsilon = 0.3405657310462579\n",
      "iteration is 4\n",
      "FPR is 0.4228877961555655\n",
      "FNR is 0.40576794097920854\n",
      "TPR is 0.5942320590207915\n",
      "TNR is 0.5771122038444345\n",
      "empirical epsilon = 0.3405657310462579\n",
      "iteration is 5\n",
      "FPR is 0.4228877961555655\n",
      "FNR is 0.40576794097920854\n",
      "TPR is 0.5942320590207915\n",
      "TNR is 0.5771122038444345\n",
      "empirical epsilon = 0.3405657310462579\n",
      "iteration is 6\n",
      "FPR is 0.4228877961555655\n",
      "FNR is 0.40576794097920854\n",
      "TPR is 0.5942320590207915\n",
      "TNR is 0.5771122038444345\n",
      "empirical epsilon = 0.3405657310462579\n",
      "iteration is 7\n",
      "FPR is 0.4228877961555655\n",
      "FNR is 0.40576794097920854\n",
      "TPR is 0.5942320590207915\n",
      "TNR is 0.5771122038444345\n",
      "empirical epsilon = 0.3405657310462579\n",
      "iteration is 8\n",
      "FPR is 0.4228877961555655\n",
      "FNR is 0.40576794097920854\n",
      "TPR is 0.5942320590207915\n",
      "TNR is 0.5771122038444345\n",
      "empirical epsilon = 0.3405657310462579\n",
      "iteration is 9\n",
      "FPR is 0.4228877961555655\n",
      "FNR is 0.40576794097920854\n",
      "TPR is 0.5942320590207915\n",
      "TNR is 0.5771122038444345\n",
      "empirical epsilon = 0.3405657310462579\n"
     ]
    },
    {
     "data": {
      "text/plain": [
       "(array([0.34056573, 0.34056573, 0.34056573, 0.34056573, 0.34056573,\n",
       "        0.34056573, 0.34056573, 0.34056573, 0.34056573, 0.34056573]),\n",
       " 0.4228877961555655,\n",
       " 0.5771122038444345,\n",
       " 0.40576794097920854,\n",
       " 0.5942320590207915)"
      ]
     },
     "execution_count": 14,
     "metadata": {},
     "output_type": "execute_result"
    }
   ],
   "source": [
    "attacks.privacy_attack(seed=1,\n",
    "                       simulations=10,\n",
    "                       train=train,\n",
    "                       adversary=adversary_training,\n",
    "                       outside_training=evaluation_outside_training,\n",
    "                       protected_training=train,\n",
    "                       protected_adversary=adversary_training)"
   ]
  },
  {
   "cell_type": "markdown",
   "id": "a15295e8",
   "metadata": {},
   "source": [
    "Now the epsilon values are much smaller. Does this imply sufficient protection from sampling variability?"
   ]
  },
  {
   "cell_type": "markdown",
   "id": "45f1b77d",
   "metadata": {},
   "source": [
    "Apply swapping to the full SK data."
   ]
  },
  {
   "cell_type": "code",
   "execution_count": 15,
   "id": "a8b671db",
   "metadata": {},
   "outputs": [],
   "source": [
    "# apply protection to train and adversary\n",
    "swap25_train = swapping(percent = 0.25, data = train) # apply swapping 25% to train\n",
    "swap25_adversary_training = swapping(percent = 0.25, data = adversary_training)  # apply swapping 25% to adv"
   ]
  },
  {
   "cell_type": "code",
   "execution_count": 16,
   "id": "6abe4128",
   "metadata": {},
   "outputs": [
    {
     "name": "stdout",
     "output_type": "stream",
     "text": [
      "iteration is 0\n",
      "FPR is 0.4152883325882879\n",
      "FNR is 0.40509725016767273\n",
      "TPR is 0.5949027498323273\n",
      "TNR is 0.5847116674117121\n",
      "empirical epsilon = 0.3554549405629998\n",
      "iteration is 1\n",
      "FPR is 0.4152883325882879\n",
      "FNR is 0.40509725016767273\n",
      "TPR is 0.5949027498323273\n",
      "TNR is 0.5847116674117121\n",
      "empirical epsilon = 0.3554549405629998\n",
      "iteration is 2\n",
      "FPR is 0.4152883325882879\n",
      "FNR is 0.40509725016767273\n",
      "TPR is 0.5949027498323273\n",
      "TNR is 0.5847116674117121\n",
      "empirical epsilon = 0.3554549405629998\n",
      "iteration is 3\n",
      "FPR is 0.4152883325882879\n",
      "FNR is 0.40509725016767273\n",
      "TPR is 0.5949027498323273\n",
      "TNR is 0.5847116674117121\n",
      "empirical epsilon = 0.3554549405629998\n",
      "iteration is 4\n",
      "FPR is 0.4152883325882879\n",
      "FNR is 0.40509725016767273\n",
      "TPR is 0.5949027498323273\n",
      "TNR is 0.5847116674117121\n",
      "empirical epsilon = 0.3554549405629998\n",
      "iteration is 5\n",
      "FPR is 0.4152883325882879\n",
      "FNR is 0.40509725016767273\n",
      "TPR is 0.5949027498323273\n",
      "TNR is 0.5847116674117121\n",
      "empirical epsilon = 0.3554549405629998\n",
      "iteration is 6\n",
      "FPR is 0.4152883325882879\n",
      "FNR is 0.40509725016767273\n",
      "TPR is 0.5949027498323273\n",
      "TNR is 0.5847116674117121\n",
      "empirical epsilon = 0.3554549405629998\n",
      "iteration is 7\n",
      "FPR is 0.4152883325882879\n",
      "FNR is 0.40509725016767273\n",
      "TPR is 0.5949027498323273\n",
      "TNR is 0.5847116674117121\n",
      "empirical epsilon = 0.3554549405629998\n",
      "iteration is 8\n",
      "FPR is 0.4152883325882879\n",
      "FNR is 0.40509725016767273\n",
      "TPR is 0.5949027498323273\n",
      "TNR is 0.5847116674117121\n",
      "empirical epsilon = 0.3554549405629998\n",
      "iteration is 9\n",
      "FPR is 0.4152883325882879\n",
      "FNR is 0.40509725016767273\n",
      "TPR is 0.5949027498323273\n",
      "TNR is 0.5847116674117121\n",
      "empirical epsilon = 0.3554549405629998\n"
     ]
    },
    {
     "data": {
      "text/plain": [
       "(array([0.35545494, 0.35545494, 0.35545494, 0.35545494, 0.35545494,\n",
       "        0.35545494, 0.35545494, 0.35545494, 0.35545494, 0.35545494]),\n",
       " 0.4152883325882879,\n",
       " 0.5847116674117121,\n",
       " 0.40509725016767273,\n",
       " 0.5949027498323273)"
      ]
     },
     "execution_count": 16,
     "metadata": {},
     "output_type": "execute_result"
    }
   ],
   "source": [
    "attacks.privacy_attack(seed=1,\n",
    "                       simulations=10,\n",
    "                       train=train,\n",
    "                       adversary=adversary_training,\n",
    "                       outside_training=evaluation_outside_training,\n",
    "                       protected_training=swap25_train,\n",
    "                       protected_adversary=swap25_adversary_training)"
   ]
  },
  {
   "cell_type": "markdown",
   "id": "4b11028f",
   "metadata": {},
   "source": [
    "Swapping seems to have slightly increased the privacy risk based on slightly larger epsilon values."
   ]
  },
  {
   "cell_type": "markdown",
   "id": "ba277ccd",
   "metadata": {},
   "source": []
  }
 ],
 "metadata": {
  "kernelspec": {
   "display_name": "base",
   "language": "python",
   "name": "python3"
  },
  "language_info": {
   "codemirror_mode": {
    "name": "ipython",
    "version": 3
   },
   "file_extension": ".py",
   "mimetype": "text/x-python",
   "name": "python",
   "nbconvert_exporter": "python",
   "pygments_lexer": "ipython3",
   "version": "3.12.4"
  }
 },
 "nbformat": 4,
 "nbformat_minor": 5
}
