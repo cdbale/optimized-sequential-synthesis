{
 "cells": [
  {
   "cell_type": "markdown",
   "id": "96f48262",
   "metadata": {},
   "source": [
    "This notebook performs the synthesis using our proposed synthesization approach applied to the South Korean COVID-19 data. The synthesis model is a CART. Logistic regression with three way interactions is used as the pMSE model."
   ]
  },
  {
   "cell_type": "code",
   "execution_count": 4,
   "id": "2d3f5c21",
   "metadata": {},
   "outputs": [],
   "source": [
    "from sklearn.mixture import GaussianMixture\n",
    "import matplotlib.pyplot as plt\n",
    "import itertools\n",
    "import sys\n",
    "import os\n",
    "import pickle\n",
    "\n",
    "from sklearn.tree import DecisionTreeClassifier\n",
    "\n",
    "from bayes_opt import BayesianOptimization\n",
    "from bayes_opt import UtilityFunction\n",
    "\n",
    "# Add the parent directory to path\n",
    "sys.path.append('..')\n",
    "\n",
    "# Then import\n",
    "from helper_functions import *\n",
    "\n",
    "rng = np.random.RandomState(42)"
   ]
  },
  {
   "cell_type": "markdown",
   "id": "76a8ccbc",
   "metadata": {},
   "source": [
    "Import the data."
   ]
  },
  {
   "cell_type": "code",
   "execution_count": 2,
   "id": "730c2f2e",
   "metadata": {},
   "outputs": [],
   "source": [
    "# import standardized lat/long location data\n",
    "train_data = pd.read_csv(\"../Data/SK/cleaned_sk_data.csv\")"
   ]
  },
  {
   "cell_type": "code",
   "execution_count": 3,
   "id": "55d8f59d-0590-4779-a2df-f991ee3066f3",
   "metadata": {},
   "outputs": [
    {
     "data": {
      "text/html": [
       "<div>\n",
       "<style scoped>\n",
       "    .dataframe tbody tr th:only-of-type {\n",
       "        vertical-align: middle;\n",
       "    }\n",
       "\n",
       "    .dataframe tbody tr th {\n",
       "        vertical-align: top;\n",
       "    }\n",
       "\n",
       "    .dataframe thead th {\n",
       "        text-align: right;\n",
       "    }\n",
       "</style>\n",
       "<table border=\"1\" class=\"dataframe\">\n",
       "  <thead>\n",
       "    <tr style=\"text-align: right;\">\n",
       "      <th></th>\n",
       "      <th>latitude</th>\n",
       "      <th>longitude</th>\n",
       "      <th>sex</th>\n",
       "      <th>age</th>\n",
       "      <th>state</th>\n",
       "    </tr>\n",
       "  </thead>\n",
       "  <tbody>\n",
       "    <tr>\n",
       "      <th>0</th>\n",
       "      <td>0.944157</td>\n",
       "      <td>-1.010655</td>\n",
       "      <td>1</td>\n",
       "      <td>5</td>\n",
       "      <td>0</td>\n",
       "    </tr>\n",
       "    <tr>\n",
       "      <th>1</th>\n",
       "      <td>0.889746</td>\n",
       "      <td>-0.694899</td>\n",
       "      <td>1</td>\n",
       "      <td>5</td>\n",
       "      <td>0</td>\n",
       "    </tr>\n",
       "    <tr>\n",
       "      <th>2</th>\n",
       "      <td>0.917482</td>\n",
       "      <td>-0.682299</td>\n",
       "      <td>1</td>\n",
       "      <td>3</td>\n",
       "      <td>0</td>\n",
       "    </tr>\n",
       "    <tr>\n",
       "      <th>3</th>\n",
       "      <td>0.916660</td>\n",
       "      <td>-0.682551</td>\n",
       "      <td>1</td>\n",
       "      <td>3</td>\n",
       "      <td>0</td>\n",
       "    </tr>\n",
       "    <tr>\n",
       "      <th>4</th>\n",
       "      <td>0.886074</td>\n",
       "      <td>-0.668883</td>\n",
       "      <td>1</td>\n",
       "      <td>3</td>\n",
       "      <td>0</td>\n",
       "    </tr>\n",
       "    <tr>\n",
       "      <th>...</th>\n",
       "      <td>...</td>\n",
       "      <td>...</td>\n",
       "      <td>...</td>\n",
       "      <td>...</td>\n",
       "      <td>...</td>\n",
       "    </tr>\n",
       "    <tr>\n",
       "      <th>6707</th>\n",
       "      <td>0.881500</td>\n",
       "      <td>-0.925307</td>\n",
       "      <td>1</td>\n",
       "      <td>4</td>\n",
       "      <td>0</td>\n",
       "    </tr>\n",
       "    <tr>\n",
       "      <th>6708</th>\n",
       "      <td>-1.728784</td>\n",
       "      <td>1.470871</td>\n",
       "      <td>1</td>\n",
       "      <td>4</td>\n",
       "      <td>0</td>\n",
       "    </tr>\n",
       "    <tr>\n",
       "      <th>6709</th>\n",
       "      <td>-1.548071</td>\n",
       "      <td>1.557316</td>\n",
       "      <td>1</td>\n",
       "      <td>4</td>\n",
       "      <td>0</td>\n",
       "    </tr>\n",
       "    <tr>\n",
       "      <th>6710</th>\n",
       "      <td>-1.549392</td>\n",
       "      <td>1.555785</td>\n",
       "      <td>1</td>\n",
       "      <td>4</td>\n",
       "      <td>0</td>\n",
       "    </tr>\n",
       "    <tr>\n",
       "      <th>6711</th>\n",
       "      <td>-1.548071</td>\n",
       "      <td>1.557316</td>\n",
       "      <td>1</td>\n",
       "      <td>4</td>\n",
       "      <td>0</td>\n",
       "    </tr>\n",
       "  </tbody>\n",
       "</table>\n",
       "<p>6712 rows × 5 columns</p>\n",
       "</div>"
      ],
      "text/plain": [
       "      latitude  longitude  sex  age  state\n",
       "0     0.944157  -1.010655    1    5      0\n",
       "1     0.889746  -0.694899    1    5      0\n",
       "2     0.917482  -0.682299    1    3      0\n",
       "3     0.916660  -0.682551    1    3      0\n",
       "4     0.886074  -0.668883    1    3      0\n",
       "...        ...        ...  ...  ...    ...\n",
       "6707  0.881500  -0.925307    1    4      0\n",
       "6708 -1.728784   1.470871    1    4      0\n",
       "6709 -1.548071   1.557316    1    4      0\n",
       "6710 -1.549392   1.555785    1    4      0\n",
       "6711 -1.548071   1.557316    1    4      0\n",
       "\n",
       "[6712 rows x 5 columns]"
      ]
     },
     "execution_count": 3,
     "metadata": {},
     "output_type": "execute_result"
    }
   ],
   "source": [
    "train_data"
   ]
  },
  {
   "cell_type": "markdown",
   "id": "6f62abff",
   "metadata": {},
   "source": [
    "***"
   ]
  },
  {
   "cell_type": "markdown",
   "id": "5b8a741f",
   "metadata": {},
   "source": [
    "# Full Sequential Synthesis Driven by Bayesian Optimization"
   ]
  },
  {
   "cell_type": "markdown",
   "id": "3a1688b8",
   "metadata": {},
   "source": [
    "Write function to train all models and generate the synthetic dataset, then evaluate the pMSE ratio."
   ]
  },
  {
   "cell_type": "code",
   "execution_count": 4,
   "id": "ab5f897a",
   "metadata": {},
   "outputs": [],
   "source": [
    "def train_models(#overall parameters\n",
    "                 train_data,\n",
    "                 number_synthetic_datasets,\n",
    "                 # hyperparameters for GMM, end with underscore means Bayesian optimization will choose\n",
    "                 number_gmm_initializations,\n",
    "                 num_components_,\n",
    "                 # hyperparameters for CART, end with underscore means Bayesian optimization will choose\n",
    "                 mb_sex_,\n",
    "                 mb_age_,\n",
    "                 mb_state_):\n",
    "    \n",
    "    num_samples = train_data.shape[0]\n",
    "    \n",
    "    ########## Code for GMM ############\n",
    "    \n",
    "    # fit GMM model\n",
    "    GMM = GaussianMixture(num_components_, n_init=number_gmm_initializations, covariance_type='full', init_params=\"k-means++\", random_state=rng).fit(train_data.loc[:,[\"latitude\", \"longitude\"]])\n",
    "    \n",
    "    # list for synthetic datasets\n",
    "    sXs = []\n",
    "    \n",
    "    # generate and store number_synthetic_datasets synthetic datasets\n",
    "    for i in range(number_synthetic_datasets):\n",
    "        sX = GMM.sample(num_samples)[0]\n",
    "        sX = pd.DataFrame(sX)\n",
    "        sX.columns = ['latitude', 'longitude']\n",
    "        sXs.append(sX)\n",
    "        \n",
    "    ####################################################################################################\n",
    "        \n",
    "    ########### Code for sex CART ##########\n",
    "    \n",
    "    cart_sex = DecisionTreeClassifier(min_samples_leaf=mb_sex_, random_state=rng)\n",
    "    \n",
    "    cart_sex.fit(X=train_data.loc[:,[\"latitude\", \"longitude\"]], y=train_data.loc[:,\"sex\"])\n",
    "    \n",
    "    node_indicators = cart_sex.decision_path(train_data.loc[:,[\"latitude\", \"longitude\"]]).toarray()\n",
    "    \n",
    "    node_outcomes = [train_data.sex[node_indicators[:,x]==1] for x in np.arange(node_indicators.shape[1])]\n",
    "    \n",
    "    # sample values according to a Bayesian bootstrap\n",
    "    \n",
    "    for i in range(number_synthetic_datasets):\n",
    "        \n",
    "        # bst_vals = [bayesian_bootstrap(X=np.array(x), \n",
    "        #                                statistic=stat,\n",
    "        #                                n_replications=1,\n",
    "        #                                resample_size=len(x))[0] for x in node_outcomes]\n",
    "        \n",
    "        synth_leaves = cart_sex.apply(sXs[i].loc[:,[\"latitude\", \"longitude\"]])\n",
    "        \n",
    "        new_sex = np.zeros(len(synth_leaves), dtype=int)\n",
    "        \n",
    "        for j, x in enumerate(np.arange(node_indicators.shape[1])):\n",
    "            \n",
    "            new_sex[synth_leaves==x] = rng.choice(node_outcomes[x], size=np.sum(synth_leaves==x))\n",
    "        \n",
    "        new_sex = pd.Series(new_sex)\n",
    "        \n",
    "        new_sex.name = \"sex\"\n",
    "        \n",
    "        sXs[i] = pd.concat([sXs[i], new_sex], axis=1)\n",
    "        \n",
    "    ####################################################################################################\n",
    "        \n",
    "    ########### Code for age CART ##########\n",
    "    cart_age = DecisionTreeClassifier(min_samples_leaf=mb_age_, random_state=rng)\n",
    "    \n",
    "    cart_age.fit(X=train_data.loc[:,[\"latitude\", \"longitude\", \"sex\"]], y=train_data.loc[:,\"age\"])\n",
    "    \n",
    "    node_indicators = cart_age.decision_path(train_data.loc[:,[\"latitude\", \"longitude\", \"sex\"]]).toarray()\n",
    "    \n",
    "    node_outcomes = [train_data.age[node_indicators[:,x]==1] for x in np.arange(node_indicators.shape[1])]\n",
    "    \n",
    "    # sample values according to a Bayesian bootstrap\n",
    "    \n",
    "    for i in range(number_synthetic_datasets):\n",
    "        \n",
    "        # bst_vals = [bayesian_bootstrap(X=np.array(x), \n",
    "        #                                statistic=stat,\n",
    "        #                                n_replications=1,\n",
    "        #                                resample_size=len(x))[0] for x in node_outcomes]\n",
    "        \n",
    "        synth_leaves = cart_age.apply(sXs[i].loc[:,[\"latitude\", \"longitude\", \"sex\"]])\n",
    "        \n",
    "        new_age = np.zeros(len(synth_leaves), dtype=int)\n",
    "        \n",
    "        for j, x in enumerate(np.arange(node_indicators.shape[1])):\n",
    "            \n",
    "            new_age[synth_leaves==x] = rng.choice(node_outcomes[x], size=np.sum(synth_leaves==x))\n",
    "        \n",
    "        new_age = pd.Series(new_age)\n",
    "        \n",
    "        new_age.name = \"age\"\n",
    "        \n",
    "        sXs[i] = pd.concat([sXs[i], new_age], axis=1)\n",
    "        \n",
    "    ####################################################################################################\n",
    "    \n",
    "    ########### Code for state CART ##########\n",
    "    \n",
    "    cart_state = DecisionTreeClassifier(min_samples_leaf=mb_state_, random_state=rng)\n",
    "    \n",
    "    cart_state.fit(X=train_data.loc[:,[\"latitude\", \"longitude\", \"sex\", \"age\"]], y=train_data.loc[:,\"state\"])\n",
    "    \n",
    "    node_indicators = cart_state.decision_path(train_data.loc[:,[\"latitude\", \"longitude\", \"sex\", \"age\"]]).toarray()\n",
    "    \n",
    "    node_outcomes = [train_data.state[node_indicators[:,x]==1] for x in np.arange(node_indicators.shape[1])]\n",
    "    \n",
    "    # sample values according to a Bayesian bootstrap\n",
    "    \n",
    "    for i in range(number_synthetic_datasets):\n",
    "        \n",
    "        # bst_vals = [bayesian_bootstrap(X=np.array(x), \n",
    "        #                                statistic=stat,\n",
    "        #                                n_replications=1,\n",
    "        #                                resample_size=len(x))[0] for x in node_outcomes]\n",
    "        \n",
    "        synth_leaves = cart_state.apply(sXs[i].loc[:,[\"latitude\", \"longitude\", \"sex\", \"age\"]])\n",
    "        \n",
    "        new_state = np.zeros(len(synth_leaves), dtype=int)\n",
    "        \n",
    "        for j, x in enumerate(np.arange(node_indicators.shape[1])):\n",
    "            \n",
    "            new_state[synth_leaves==x] = rng.choice(node_outcomes[x], size=np.sum(synth_leaves==x))\n",
    "        \n",
    "        new_state = pd.Series(new_state)\n",
    "        \n",
    "        new_state.name = \"state\"\n",
    "        \n",
    "        sXs[i] = pd.concat([sXs[i], new_state], axis=1)\n",
    "        \n",
    "    ###### Calculate ks distances ######\n",
    "    pmse_ratios = [pmse_ratio(train_data, Y) for Y in sXs]\n",
    "    \n",
    "    return pmse_ratios, sXs, GMM"
   ]
  },
  {
   "cell_type": "code",
   "execution_count": 5,
   "id": "796d2f96",
   "metadata": {},
   "outputs": [],
   "source": [
    "def optimize_models(train_data,\n",
    "                    number_synthetic_datasets,\n",
    "                    number_gmm_initializations,\n",
    "                    random_state):\n",
    "\n",
    "    def evaluate_models(num_components_, mb_sex_, mb_age_, mb_state_):\n",
    "\n",
    "        pmse_ratios, current_sXs, current_GMM = train_models(train_data=train_data,\n",
    "                                                             number_synthetic_datasets=number_synthetic_datasets,\n",
    "                                                             number_gmm_initializations=number_gmm_initializations,\n",
    "                                                             num_components_=int(num_components_),\n",
    "                                                             mb_sex_=int(mb_sex_),\n",
    "                                                             mb_age_=int(mb_age_),\n",
    "                                                             mb_state_=int(mb_state_))\n",
    "\n",
    "        return -1 * ((1 - np.mean(pmse_ratios))**2)\n",
    "\n",
    "    optimizer = BayesianOptimization(\n",
    "        f=evaluate_models,\n",
    "        pbounds={\n",
    "            \"num_components_\": (10, 200.99),\n",
    "            \"mb_sex_\": (10, 350.99),\n",
    "            \"mb_age_\": (10, 350.99),\n",
    "            \"mb_state_\": (10, 350.99)\n",
    "        },\n",
    "        random_state=random_state)\n",
    "\n",
    "    utility = UtilityFunction(kind=\"ei\", xi=1e-02)\n",
    "    optimizer.maximize(init_points=5, n_iter=25, acquisition_function=utility)\n",
    "    print(\"Final Result: \", optimizer.max)\n",
    "    return optimizer.max, optimizer"
   ]
  },
  {
   "cell_type": "markdown",
   "id": "5594760a",
   "metadata": {},
   "source": [
    "The default value of $\\alpha = 1e-06$."
   ]
  },
  {
   "cell_type": "code",
   "execution_count": 6,
   "id": "15d5ded7",
   "metadata": {},
   "outputs": [],
   "source": [
    "nsd = 10\n",
    "ngi = 2\n",
    "random_states = [np.random.RandomState(1006), np.random.RandomState(428)]"
   ]
  },
  {
   "cell_type": "code",
   "execution_count": 7,
   "id": "fe01e70f",
   "metadata": {},
   "outputs": [
    {
     "name": "stdout",
     "output_type": "stream",
     "text": [
      "|   iter    |  target   |  mb_age_  |  mb_sex_  | mb_state_ | num_co... |\n",
      "-------------------------------------------------------------------------\n",
      "| \u001b[0m1        \u001b[0m | \u001b[0m-0.3922  \u001b[0m | \u001b[0m263.4    \u001b[0m | \u001b[0m87.21    \u001b[0m | \u001b[0m229.1    \u001b[0m | \u001b[0m178.5    \u001b[0m |\n",
      "| \u001b[95m2        \u001b[0m | \u001b[95m-0.2783  \u001b[0m | \u001b[95m262.6    \u001b[0m | \u001b[95m255.9    \u001b[0m | \u001b[95m110.7    \u001b[0m | \u001b[95m110.4    \u001b[0m |\n"
     ]
    },
    {
     "name": "stderr",
     "output_type": "stream",
     "text": [
      "C:\\Users\\Cameron\\anaconda3\\Lib\\site-packages\\sklearn\\linear_model\\_logistic.py:458: ConvergenceWarning: lbfgs failed to converge (status=1):\n",
      "STOP: TOTAL NO. of ITERATIONS REACHED LIMIT.\n",
      "\n",
      "Increase the number of iterations (max_iter) or scale the data as shown in:\n",
      "    https://scikit-learn.org/stable/modules/preprocessing.html\n",
      "Please also refer to the documentation for alternative solver options:\n",
      "    https://scikit-learn.org/stable/modules/linear_model.html#logistic-regression\n",
      "  n_iter_i = _check_optimize_result(\n"
     ]
    },
    {
     "name": "stdout",
     "output_type": "stream",
     "text": [
      "| \u001b[0m3        \u001b[0m | \u001b[0m-0.5648  \u001b[0m | \u001b[0m69.25    \u001b[0m | \u001b[0m286.9    \u001b[0m | \u001b[0m299.6    \u001b[0m | \u001b[0m58.99    \u001b[0m |\n"
     ]
    },
    {
     "name": "stderr",
     "output_type": "stream",
     "text": [
      "C:\\Users\\Cameron\\anaconda3\\Lib\\site-packages\\sklearn\\linear_model\\_logistic.py:458: ConvergenceWarning: lbfgs failed to converge (status=1):\n",
      "STOP: TOTAL NO. of ITERATIONS REACHED LIMIT.\n",
      "\n",
      "Increase the number of iterations (max_iter) or scale the data as shown in:\n",
      "    https://scikit-learn.org/stable/modules/preprocessing.html\n",
      "Please also refer to the documentation for alternative solver options:\n",
      "    https://scikit-learn.org/stable/modules/linear_model.html#logistic-regression\n",
      "  n_iter_i = _check_optimize_result(\n"
     ]
    },
    {
     "name": "stdout",
     "output_type": "stream",
     "text": [
      "| \u001b[95m4        \u001b[0m | \u001b[95m-0.1694  \u001b[0m | \u001b[95m90.89    \u001b[0m | \u001b[95m166.3    \u001b[0m | \u001b[95m88.06    \u001b[0m | \u001b[95m48.58    \u001b[0m |\n",
      "| \u001b[0m5        \u001b[0m | \u001b[0m-1.147   \u001b[0m | \u001b[0m345.1    \u001b[0m | \u001b[0m344.4    \u001b[0m | \u001b[0m260.6    \u001b[0m | \u001b[0m88.17    \u001b[0m |\n"
     ]
    },
    {
     "name": "stderr",
     "output_type": "stream",
     "text": [
      "C:\\Users\\Cameron\\anaconda3\\Lib\\site-packages\\sklearn\\linear_model\\_logistic.py:458: ConvergenceWarning: lbfgs failed to converge (status=1):\n",
      "STOP: TOTAL NO. of ITERATIONS REACHED LIMIT.\n",
      "\n",
      "Increase the number of iterations (max_iter) or scale the data as shown in:\n",
      "    https://scikit-learn.org/stable/modules/preprocessing.html\n",
      "Please also refer to the documentation for alternative solver options:\n",
      "    https://scikit-learn.org/stable/modules/linear_model.html#logistic-regression\n",
      "  n_iter_i = _check_optimize_result(\n"
     ]
    },
    {
     "name": "stdout",
     "output_type": "stream",
     "text": [
      "| \u001b[0m6        \u001b[0m | \u001b[0m-0.2949  \u001b[0m | \u001b[0m88.34    \u001b[0m | \u001b[0m160.9    \u001b[0m | \u001b[0m84.16    \u001b[0m | \u001b[0m65.68    \u001b[0m |\n",
      "| \u001b[0m7        \u001b[0m | \u001b[0m-0.5888  \u001b[0m | \u001b[0m258.9    \u001b[0m | \u001b[0m256.3    \u001b[0m | \u001b[0m96.8     \u001b[0m | \u001b[0m102.4    \u001b[0m |\n",
      "| \u001b[95m8        \u001b[0m | \u001b[95m-0.06193 \u001b[0m | \u001b[95m102.9    \u001b[0m | \u001b[95m169.1    \u001b[0m | \u001b[95m76.1     \u001b[0m | \u001b[95m51.73    \u001b[0m |\n"
     ]
    },
    {
     "name": "stderr",
     "output_type": "stream",
     "text": [
      "C:\\Users\\Cameron\\anaconda3\\Lib\\site-packages\\sklearn\\linear_model\\_logistic.py:458: ConvergenceWarning: lbfgs failed to converge (status=1):\n",
      "STOP: TOTAL NO. of ITERATIONS REACHED LIMIT.\n",
      "\n",
      "Increase the number of iterations (max_iter) or scale the data as shown in:\n",
      "    https://scikit-learn.org/stable/modules/preprocessing.html\n",
      "Please also refer to the documentation for alternative solver options:\n",
      "    https://scikit-learn.org/stable/modules/linear_model.html#logistic-regression\n",
      "  n_iter_i = _check_optimize_result(\n"
     ]
    },
    {
     "name": "stdout",
     "output_type": "stream",
     "text": [
      "| \u001b[0m9        \u001b[0m | \u001b[0m-0.2097  \u001b[0m | \u001b[0m108.5    \u001b[0m | \u001b[0m174.9    \u001b[0m | \u001b[0m73.49    \u001b[0m | \u001b[0m34.94    \u001b[0m |\n",
      "| \u001b[0m10       \u001b[0m | \u001b[0m-0.3026  \u001b[0m | \u001b[0m127.4    \u001b[0m | \u001b[0m179.4    \u001b[0m | \u001b[0m82.42    \u001b[0m | \u001b[0m64.44    \u001b[0m |\n",
      "| \u001b[0m11       \u001b[0m | \u001b[0m-0.07661 \u001b[0m | \u001b[0m88.46    \u001b[0m | \u001b[0m179.0    \u001b[0m | \u001b[0m59.96    \u001b[0m | \u001b[0m55.75    \u001b[0m |\n",
      "| \u001b[0m12       \u001b[0m | \u001b[0m-0.2606  \u001b[0m | \u001b[0m134.1    \u001b[0m | \u001b[0m81.26    \u001b[0m | \u001b[0m86.05    \u001b[0m | \u001b[0m70.97    \u001b[0m |\n",
      "| \u001b[0m13       \u001b[0m | \u001b[0m-0.3831  \u001b[0m | \u001b[0m158.4    \u001b[0m | \u001b[0m122.7    \u001b[0m | \u001b[0m200.6    \u001b[0m | \u001b[0m95.38    \u001b[0m |\n"
     ]
    },
    {
     "name": "stderr",
     "output_type": "stream",
     "text": [
      "C:\\Users\\Cameron\\anaconda3\\Lib\\site-packages\\sklearn\\linear_model\\_logistic.py:458: ConvergenceWarning: lbfgs failed to converge (status=1):\n",
      "STOP: TOTAL NO. of ITERATIONS REACHED LIMIT.\n",
      "\n",
      "Increase the number of iterations (max_iter) or scale the data as shown in:\n",
      "    https://scikit-learn.org/stable/modules/preprocessing.html\n",
      "Please also refer to the documentation for alternative solver options:\n",
      "    https://scikit-learn.org/stable/modules/linear_model.html#logistic-regression\n",
      "  n_iter_i = _check_optimize_result(\n"
     ]
    },
    {
     "name": "stdout",
     "output_type": "stream",
     "text": [
      "| \u001b[95m14       \u001b[0m | \u001b[95m-0.03558 \u001b[0m | \u001b[95m104.0    \u001b[0m | \u001b[95m170.9    \u001b[0m | \u001b[95m30.38    \u001b[0m | \u001b[95m64.57    \u001b[0m |\n"
     ]
    },
    {
     "name": "stderr",
     "output_type": "stream",
     "text": [
      "C:\\Users\\Cameron\\anaconda3\\Lib\\site-packages\\sklearn\\linear_model\\_logistic.py:458: ConvergenceWarning: lbfgs failed to converge (status=1):\n",
      "STOP: TOTAL NO. of ITERATIONS REACHED LIMIT.\n",
      "\n",
      "Increase the number of iterations (max_iter) or scale the data as shown in:\n",
      "    https://scikit-learn.org/stable/modules/preprocessing.html\n",
      "Please also refer to the documentation for alternative solver options:\n",
      "    https://scikit-learn.org/stable/modules/linear_model.html#logistic-regression\n",
      "  n_iter_i = _check_optimize_result(\n",
      "C:\\Users\\Cameron\\anaconda3\\Lib\\site-packages\\sklearn\\linear_model\\_logistic.py:458: ConvergenceWarning: lbfgs failed to converge (status=1):\n",
      "STOP: TOTAL NO. of ITERATIONS REACHED LIMIT.\n",
      "\n",
      "Increase the number of iterations (max_iter) or scale the data as shown in:\n",
      "    https://scikit-learn.org/stable/modules/preprocessing.html\n",
      "Please also refer to the documentation for alternative solver options:\n",
      "    https://scikit-learn.org/stable/modules/linear_model.html#logistic-regression\n",
      "  n_iter_i = _check_optimize_result(\n"
     ]
    },
    {
     "name": "stdout",
     "output_type": "stream",
     "text": [
      "| \u001b[0m15       \u001b[0m | \u001b[0m-1.072   \u001b[0m | \u001b[0m172.4    \u001b[0m | \u001b[0m198.9    \u001b[0m | \u001b[0m343.8    \u001b[0m | \u001b[0m142.6    \u001b[0m |\n",
      "| \u001b[0m16       \u001b[0m | \u001b[0m-0.202   \u001b[0m | \u001b[0m103.1    \u001b[0m | \u001b[0m157.6    \u001b[0m | \u001b[0m48.69    \u001b[0m | \u001b[0m53.66    \u001b[0m |\n",
      "| \u001b[95m17       \u001b[0m | \u001b[95m-0.01526 \u001b[0m | \u001b[95m100.7    \u001b[0m | \u001b[95m192.5    \u001b[0m | \u001b[95m33.61    \u001b[0m | \u001b[95m70.38    \u001b[0m |\n"
     ]
    },
    {
     "name": "stderr",
     "output_type": "stream",
     "text": [
      "C:\\Users\\Cameron\\anaconda3\\Lib\\site-packages\\sklearn\\linear_model\\_logistic.py:458: ConvergenceWarning: lbfgs failed to converge (status=1):\n",
      "STOP: TOTAL NO. of ITERATIONS REACHED LIMIT.\n",
      "\n",
      "Increase the number of iterations (max_iter) or scale the data as shown in:\n",
      "    https://scikit-learn.org/stable/modules/preprocessing.html\n",
      "Please also refer to the documentation for alternative solver options:\n",
      "    https://scikit-learn.org/stable/modules/linear_model.html#logistic-regression\n",
      "  n_iter_i = _check_optimize_result(\n",
      "C:\\Users\\Cameron\\anaconda3\\Lib\\site-packages\\sklearn\\linear_model\\_logistic.py:458: ConvergenceWarning: lbfgs failed to converge (status=1):\n",
      "STOP: TOTAL NO. of ITERATIONS REACHED LIMIT.\n",
      "\n",
      "Increase the number of iterations (max_iter) or scale the data as shown in:\n",
      "    https://scikit-learn.org/stable/modules/preprocessing.html\n",
      "Please also refer to the documentation for alternative solver options:\n",
      "    https://scikit-learn.org/stable/modules/linear_model.html#logistic-regression\n",
      "  n_iter_i = _check_optimize_result(\n"
     ]
    },
    {
     "name": "stdout",
     "output_type": "stream",
     "text": [
      "| \u001b[0m18       \u001b[0m | \u001b[0m-1.438   \u001b[0m | \u001b[0m309.2    \u001b[0m | \u001b[0m70.67    \u001b[0m | \u001b[0m190.7    \u001b[0m | \u001b[0m24.39    \u001b[0m |\n",
      "| \u001b[0m19       \u001b[0m | \u001b[0m-0.5948  \u001b[0m | \u001b[0m234.9    \u001b[0m | \u001b[0m108.1    \u001b[0m | \u001b[0m238.6    \u001b[0m | \u001b[0m200.3    \u001b[0m |\n",
      "| \u001b[0m20       \u001b[0m | \u001b[0m-0.8292  \u001b[0m | \u001b[0m331.6    \u001b[0m | \u001b[0m57.67    \u001b[0m | \u001b[0m139.2    \u001b[0m | \u001b[0m147.0    \u001b[0m |\n",
      "| \u001b[0m21       \u001b[0m | \u001b[0m-0.1833  \u001b[0m | \u001b[0m82.37    \u001b[0m | \u001b[0m168.9    \u001b[0m | \u001b[0m85.15    \u001b[0m | \u001b[0m52.51    \u001b[0m |\n"
     ]
    },
    {
     "name": "stderr",
     "output_type": "stream",
     "text": [
      "C:\\Users\\Cameron\\anaconda3\\Lib\\site-packages\\sklearn\\linear_model\\_logistic.py:458: ConvergenceWarning: lbfgs failed to converge (status=1):\n",
      "STOP: TOTAL NO. of ITERATIONS REACHED LIMIT.\n",
      "\n",
      "Increase the number of iterations (max_iter) or scale the data as shown in:\n",
      "    https://scikit-learn.org/stable/modules/preprocessing.html\n",
      "Please also refer to the documentation for alternative solver options:\n",
      "    https://scikit-learn.org/stable/modules/linear_model.html#logistic-regression\n",
      "  n_iter_i = _check_optimize_result(\n"
     ]
    },
    {
     "name": "stdout",
     "output_type": "stream",
     "text": [
      "| \u001b[0m22       \u001b[0m | \u001b[0m-0.5544  \u001b[0m | \u001b[0m124.4    \u001b[0m | \u001b[0m85.62    \u001b[0m | \u001b[0m91.61    \u001b[0m | \u001b[0m71.97    \u001b[0m |\n",
      "| \u001b[0m23       \u001b[0m | \u001b[0m-0.07333 \u001b[0m | \u001b[0m161.3    \u001b[0m | \u001b[0m69.05    \u001b[0m | \u001b[0m70.06    \u001b[0m | \u001b[0m68.22    \u001b[0m |\n"
     ]
    },
    {
     "name": "stderr",
     "output_type": "stream",
     "text": [
      "C:\\Users\\Cameron\\anaconda3\\Lib\\site-packages\\sklearn\\linear_model\\_logistic.py:458: ConvergenceWarning: lbfgs failed to converge (status=1):\n",
      "STOP: TOTAL NO. of ITERATIONS REACHED LIMIT.\n",
      "\n",
      "Increase the number of iterations (max_iter) or scale the data as shown in:\n",
      "    https://scikit-learn.org/stable/modules/preprocessing.html\n",
      "Please also refer to the documentation for alternative solver options:\n",
      "    https://scikit-learn.org/stable/modules/linear_model.html#logistic-regression\n",
      "  n_iter_i = _check_optimize_result(\n"
     ]
    },
    {
     "name": "stdout",
     "output_type": "stream",
     "text": [
      "| \u001b[0m24       \u001b[0m | \u001b[0m-0.396   \u001b[0m | \u001b[0m271.0    \u001b[0m | \u001b[0m254.6    \u001b[0m | \u001b[0m144.1    \u001b[0m | \u001b[0m131.1    \u001b[0m |\n",
      "| \u001b[0m25       \u001b[0m | \u001b[0m-0.03641 \u001b[0m | \u001b[0m92.78    \u001b[0m | \u001b[0m181.8    \u001b[0m | \u001b[0m10.0     \u001b[0m | \u001b[0m80.19    \u001b[0m |\n",
      "| \u001b[0m26       \u001b[0m | \u001b[0m-0.07049 \u001b[0m | \u001b[0m98.26    \u001b[0m | \u001b[0m159.3    \u001b[0m | \u001b[0m79.99    \u001b[0m | \u001b[0m53.28    \u001b[0m |\n",
      "| \u001b[0m27       \u001b[0m | \u001b[0m-0.07174 \u001b[0m | \u001b[0m126.9    \u001b[0m | \u001b[0m171.8    \u001b[0m | \u001b[0m75.02    \u001b[0m | \u001b[0m61.72    \u001b[0m |\n",
      "| \u001b[0m28       \u001b[0m | \u001b[0m-0.08496 \u001b[0m | \u001b[0m104.8    \u001b[0m | \u001b[0m170.0    \u001b[0m | \u001b[0m83.82    \u001b[0m | \u001b[0m47.54    \u001b[0m |\n",
      "| \u001b[0m29       \u001b[0m | \u001b[0m-0.08613 \u001b[0m | \u001b[0m131.9    \u001b[0m | \u001b[0m151.2    \u001b[0m | \u001b[0m72.5     \u001b[0m | \u001b[0m54.06    \u001b[0m |\n",
      "| \u001b[0m30       \u001b[0m | \u001b[0m-0.1123  \u001b[0m | \u001b[0m106.6    \u001b[0m | \u001b[0m179.6    \u001b[0m | \u001b[0m73.02    \u001b[0m | \u001b[0m34.98    \u001b[0m |\n",
      "=========================================================================\n",
      "Final Result:  {'target': -0.015255385121079103, 'params': {'mb_age_': 100.6938312316058, 'mb_sex_': 192.49912161575594, 'mb_state_': 33.60751028414454, 'num_components_': 70.3769065456829}}\n",
      "|   iter    |  target   |  mb_age_  |  mb_sex_  | mb_state_ | num_co... |\n",
      "-------------------------------------------------------------------------\n",
      "| \u001b[0m1        \u001b[0m | \u001b[0m-0.8957  \u001b[0m | \u001b[0m289.1    \u001b[0m | \u001b[0m308.2    \u001b[0m | \u001b[0m152.7    \u001b[0m | \u001b[0m95.03    \u001b[0m |\n"
     ]
    },
    {
     "name": "stderr",
     "output_type": "stream",
     "text": [
      "C:\\Users\\Cameron\\anaconda3\\Lib\\site-packages\\sklearn\\linear_model\\_logistic.py:458: ConvergenceWarning: lbfgs failed to converge (status=1):\n",
      "STOP: TOTAL NO. of ITERATIONS REACHED LIMIT.\n",
      "\n",
      "Increase the number of iterations (max_iter) or scale the data as shown in:\n",
      "    https://scikit-learn.org/stable/modules/preprocessing.html\n",
      "Please also refer to the documentation for alternative solver options:\n",
      "    https://scikit-learn.org/stable/modules/linear_model.html#logistic-regression\n",
      "  n_iter_i = _check_optimize_result(\n"
     ]
    },
    {
     "name": "stdout",
     "output_type": "stream",
     "text": [
      "| \u001b[95m2        \u001b[0m | \u001b[95m-0.1817  \u001b[0m | \u001b[95m53.83    \u001b[0m | \u001b[95m45.79    \u001b[0m | \u001b[95m230.3    \u001b[0m | \u001b[95m193.8    \u001b[0m |\n"
     ]
    },
    {
     "name": "stderr",
     "output_type": "stream",
     "text": [
      "C:\\Users\\Cameron\\anaconda3\\Lib\\site-packages\\sklearn\\linear_model\\_logistic.py:458: ConvergenceWarning: lbfgs failed to converge (status=1):\n",
      "STOP: TOTAL NO. of ITERATIONS REACHED LIMIT.\n",
      "\n",
      "Increase the number of iterations (max_iter) or scale the data as shown in:\n",
      "    https://scikit-learn.org/stable/modules/preprocessing.html\n",
      "Please also refer to the documentation for alternative solver options:\n",
      "    https://scikit-learn.org/stable/modules/linear_model.html#logistic-regression\n",
      "  n_iter_i = _check_optimize_result(\n",
      "C:\\Users\\Cameron\\anaconda3\\Lib\\site-packages\\sklearn\\linear_model\\_logistic.py:458: ConvergenceWarning: lbfgs failed to converge (status=1):\n",
      "STOP: TOTAL NO. of ITERATIONS REACHED LIMIT.\n",
      "\n",
      "Increase the number of iterations (max_iter) or scale the data as shown in:\n",
      "    https://scikit-learn.org/stable/modules/preprocessing.html\n",
      "Please also refer to the documentation for alternative solver options:\n",
      "    https://scikit-learn.org/stable/modules/linear_model.html#logistic-regression\n",
      "  n_iter_i = _check_optimize_result(\n"
     ]
    },
    {
     "name": "stdout",
     "output_type": "stream",
     "text": [
      "| \u001b[0m3        \u001b[0m | \u001b[0m-0.4054  \u001b[0m | \u001b[0m109.1    \u001b[0m | \u001b[0m32.75    \u001b[0m | \u001b[0m178.0    \u001b[0m | \u001b[0m86.85    \u001b[0m |\n",
      "| \u001b[95m4        \u001b[0m | \u001b[95m-0.1621  \u001b[0m | \u001b[95m84.31    \u001b[0m | \u001b[95m294.6    \u001b[0m | \u001b[95m72.11    \u001b[0m | \u001b[95m89.95    \u001b[0m |\n"
     ]
    },
    {
     "name": "stderr",
     "output_type": "stream",
     "text": [
      "C:\\Users\\Cameron\\anaconda3\\Lib\\site-packages\\sklearn\\linear_model\\_logistic.py:458: ConvergenceWarning: lbfgs failed to converge (status=1):\n",
      "STOP: TOTAL NO. of ITERATIONS REACHED LIMIT.\n",
      "\n",
      "Increase the number of iterations (max_iter) or scale the data as shown in:\n",
      "    https://scikit-learn.org/stable/modules/preprocessing.html\n",
      "Please also refer to the documentation for alternative solver options:\n",
      "    https://scikit-learn.org/stable/modules/linear_model.html#logistic-regression\n",
      "  n_iter_i = _check_optimize_result(\n"
     ]
    },
    {
     "name": "stdout",
     "output_type": "stream",
     "text": [
      "| \u001b[95m5        \u001b[0m | \u001b[95m-0.06208 \u001b[0m | \u001b[95m115.5    \u001b[0m | \u001b[95m346.5    \u001b[0m | \u001b[95m23.93    \u001b[0m | \u001b[95m66.4     \u001b[0m |\n"
     ]
    },
    {
     "name": "stderr",
     "output_type": "stream",
     "text": [
      "C:\\Users\\Cameron\\anaconda3\\Lib\\site-packages\\sklearn\\linear_model\\_logistic.py:458: ConvergenceWarning: lbfgs failed to converge (status=1):\n",
      "STOP: TOTAL NO. of ITERATIONS REACHED LIMIT.\n",
      "\n",
      "Increase the number of iterations (max_iter) or scale the data as shown in:\n",
      "    https://scikit-learn.org/stable/modules/preprocessing.html\n",
      "Please also refer to the documentation for alternative solver options:\n",
      "    https://scikit-learn.org/stable/modules/linear_model.html#logistic-regression\n",
      "  n_iter_i = _check_optimize_result(\n"
     ]
    },
    {
     "name": "stdout",
     "output_type": "stream",
     "text": [
      "| \u001b[0m6        \u001b[0m | \u001b[0m-0.07964 \u001b[0m | \u001b[0m49.16    \u001b[0m | \u001b[0m351.0    \u001b[0m | \u001b[0m10.0     \u001b[0m | \u001b[0m48.46    \u001b[0m |\n",
      "| \u001b[95m7        \u001b[0m | \u001b[95m-0.02809 \u001b[0m | \u001b[95m79.97    \u001b[0m | \u001b[95m285.0    \u001b[0m | \u001b[95m70.82    \u001b[0m | \u001b[95m96.69    \u001b[0m |\n",
      "| \u001b[0m8        \u001b[0m | \u001b[0m-0.2774  \u001b[0m | \u001b[0m63.96    \u001b[0m | \u001b[0m52.45    \u001b[0m | \u001b[0m228.9    \u001b[0m | \u001b[0m196.0    \u001b[0m |\n",
      "| \u001b[0m9        \u001b[0m | \u001b[0m-0.03076 \u001b[0m | \u001b[0m75.96    \u001b[0m | \u001b[0m284.3    \u001b[0m | \u001b[0m60.11    \u001b[0m | \u001b[0m107.8    \u001b[0m |\n",
      "| \u001b[0m10       \u001b[0m | \u001b[0m-0.03317 \u001b[0m | \u001b[0m72.53    \u001b[0m | \u001b[0m261.6    \u001b[0m | \u001b[0m76.45    \u001b[0m | \u001b[0m103.1    \u001b[0m |\n",
      "| \u001b[0m11       \u001b[0m | \u001b[0m-0.1075  \u001b[0m | \u001b[0m95.36    \u001b[0m | \u001b[0m247.4    \u001b[0m | \u001b[0m57.22    \u001b[0m | \u001b[0m85.61    \u001b[0m |\n",
      "| \u001b[0m12       \u001b[0m | \u001b[0m-0.2247  \u001b[0m | \u001b[0m92.49    \u001b[0m | \u001b[0m274.2    \u001b[0m | \u001b[0m79.72    \u001b[0m | \u001b[0m117.7    \u001b[0m |\n",
      "| \u001b[0m13       \u001b[0m | \u001b[0m-0.08056 \u001b[0m | \u001b[0m46.06    \u001b[0m | \u001b[0m285.7    \u001b[0m | \u001b[0m63.68    \u001b[0m | \u001b[0m106.5    \u001b[0m |\n",
      "| \u001b[95m14       \u001b[0m | \u001b[95m-0.02338 \u001b[0m | \u001b[95m59.9     \u001b[0m | \u001b[95m263.2    \u001b[0m | \u001b[95m61.06    \u001b[0m | \u001b[95m79.65    \u001b[0m |\n",
      "| \u001b[95m15       \u001b[0m | \u001b[95m-0.002618\u001b[0m | \u001b[95m47.01    \u001b[0m | \u001b[95m348.0    \u001b[0m | \u001b[95m15.09    \u001b[0m | \u001b[95m41.0     \u001b[0m |\n",
      "| \u001b[0m16       \u001b[0m | \u001b[0m-0.5194  \u001b[0m | \u001b[0m44.26    \u001b[0m | \u001b[0m340.0    \u001b[0m | \u001b[0m27.72    \u001b[0m | \u001b[0m18.82    \u001b[0m |\n",
      "| \u001b[0m17       \u001b[0m | \u001b[0m-0.1036  \u001b[0m | \u001b[0m67.01    \u001b[0m | \u001b[0m275.9    \u001b[0m | \u001b[0m66.09    \u001b[0m | \u001b[0m82.31    \u001b[0m |\n",
      "| \u001b[0m18       \u001b[0m | \u001b[0m-0.19    \u001b[0m | \u001b[0m92.29    \u001b[0m | \u001b[0m239.4    \u001b[0m | \u001b[0m56.39    \u001b[0m | \u001b[0m87.99    \u001b[0m |\n",
      "| \u001b[0m19       \u001b[0m | \u001b[0m-0.04526 \u001b[0m | \u001b[0m74.59    \u001b[0m | \u001b[0m255.8    \u001b[0m | \u001b[0m42.52    \u001b[0m | \u001b[0m101.4    \u001b[0m |\n",
      "| \u001b[0m20       \u001b[0m | \u001b[0m-0.007775\u001b[0m | \u001b[0m40.51    \u001b[0m | \u001b[0m263.9    \u001b[0m | \u001b[0m71.37    \u001b[0m | \u001b[0m94.9     \u001b[0m |\n",
      "| \u001b[0m21       \u001b[0m | \u001b[0m-0.02636 \u001b[0m | \u001b[0m75.55    \u001b[0m | \u001b[0m284.3    \u001b[0m | \u001b[0m55.61    \u001b[0m | \u001b[0m107.5    \u001b[0m |\n",
      "| \u001b[95m22       \u001b[0m | \u001b[95m-0.000411\u001b[0m | \u001b[95m28.92    \u001b[0m | \u001b[95m255.9    \u001b[0m | \u001b[95m50.45    \u001b[0m | \u001b[95m73.19    \u001b[0m |\n",
      "| \u001b[0m23       \u001b[0m | \u001b[0m-0.009059\u001b[0m | \u001b[0m59.31    \u001b[0m | \u001b[0m262.6    \u001b[0m | \u001b[0m54.18    \u001b[0m | \u001b[0m101.3    \u001b[0m |\n",
      "| \u001b[0m24       \u001b[0m | \u001b[0m-0.01365 \u001b[0m | \u001b[0m46.0     \u001b[0m | \u001b[0m252.0    \u001b[0m | \u001b[0m34.98    \u001b[0m | \u001b[0m81.99    \u001b[0m |\n",
      "| \u001b[0m25       \u001b[0m | \u001b[0m-0.01164 \u001b[0m | \u001b[0m41.86    \u001b[0m | \u001b[0m237.3    \u001b[0m | \u001b[0m48.1     \u001b[0m | \u001b[0m84.26    \u001b[0m |\n",
      "| \u001b[0m26       \u001b[0m | \u001b[0m-0.0609  \u001b[0m | \u001b[0m42.54    \u001b[0m | \u001b[0m254.2    \u001b[0m | \u001b[0m64.69    \u001b[0m | \u001b[0m78.51    \u001b[0m |\n",
      "| \u001b[0m27       \u001b[0m | \u001b[0m-0.002853\u001b[0m | \u001b[0m14.14    \u001b[0m | \u001b[0m247.2    \u001b[0m | \u001b[0m63.09    \u001b[0m | \u001b[0m107.5    \u001b[0m |\n",
      "| \u001b[0m28       \u001b[0m | \u001b[0m-0.01419 \u001b[0m | \u001b[0m24.54    \u001b[0m | \u001b[0m250.0    \u001b[0m | \u001b[0m45.39    \u001b[0m | \u001b[0m84.41    \u001b[0m |\n",
      "| \u001b[0m29       \u001b[0m | \u001b[0m-0.004052\u001b[0m | \u001b[0m12.94    \u001b[0m | \u001b[0m263.6    \u001b[0m | \u001b[0m79.56    \u001b[0m | \u001b[0m101.3    \u001b[0m |\n",
      "| \u001b[0m30       \u001b[0m | \u001b[0m-0.004583\u001b[0m | \u001b[0m38.58    \u001b[0m | \u001b[0m253.3    \u001b[0m | \u001b[0m36.31    \u001b[0m | \u001b[0m55.44    \u001b[0m |\n",
      "=========================================================================\n",
      "Final Result:  {'target': -0.0004114788167408786, 'params': {'mb_age_': 28.91938808937796, 'mb_sex_': 255.94300832168977, 'mb_state_': 50.44876862575522, 'num_components_': 73.18789813346086}}\n"
     ]
    }
   ],
   "source": [
    "optimization_results = [optimize_models(train_data=train_data, number_synthetic_datasets=nsd, number_gmm_initializations=ngi, random_state=r) for r in random_states]"
   ]
  },
  {
   "cell_type": "markdown",
   "id": "dab452a9",
   "metadata": {},
   "source": [
    "***"
   ]
  },
  {
   "cell_type": "code",
   "execution_count": 15,
   "id": "2c71552b",
   "metadata": {},
   "outputs": [],
   "source": [
    "run_targets = [np.minimum.accumulate(-i[1].space.target) for i in optimization_results]"
   ]
  },
  {
   "cell_type": "code",
   "execution_count": 9,
   "id": "bb2e246f",
   "metadata": {},
   "outputs": [
    {
     "data": {
      "image/png": "[encoded data removed]",
      "text/plain": [
       "<Figure size 640x480 with 1 Axes>"
      ]
     },
     "metadata": {},
     "output_type": "display_data"
    }
   ],
   "source": [
    "fig = plt.figure()\n",
    "plt.plot(run_targets[0])\n",
    "plt.scatter(np.arange(len(run_targets[0])), run_targets[0], s=6)\n",
    "plt.plot(run_targets[1])\n",
    "plt.scatter(np.arange(len(run_targets[1])), run_targets[1], s=6)\n",
    "plt.title(\"South Korean COVID-19 Data - Objective Value for CART Synthesis\")\n",
    "plt.xlabel(\"Iteration\")\n",
    "plt.ylabel(\"Minimum Objective Value\")\n",
    "fig.savefig('../Images/min_objective_cart_sk.pdf')\n",
    "plt.show()"
   ]
  },
  {
   "cell_type": "markdown",
   "id": "325348ce",
   "metadata": {},
   "source": [
    "Choose the params that gave the best objective value across all random seeds."
   ]
  },
  {
   "cell_type": "code",
   "execution_count": 10,
   "id": "69f179aa",
   "metadata": {},
   "outputs": [],
   "source": [
    "best_params = optimization_results[np.argmax([x[0]['target'] for x in optimization_results])][0]"
   ]
  },
  {
   "cell_type": "code",
   "execution_count": 11,
   "id": "112b4969",
   "metadata": {},
   "outputs": [
    {
     "data": {
      "text/plain": [
       "{'target': -0.0004114788167408786,\n",
       " 'params': {'mb_age_': 28.91938808937796,\n",
       "  'mb_sex_': 255.94300832168977,\n",
       "  'mb_state_': 50.44876862575522,\n",
       "  'num_components_': 73.18789813346086}}"
      ]
     },
     "execution_count": 11,
     "metadata": {},
     "output_type": "execute_result"
    }
   ],
   "source": [
    "best_params"
   ]
  },
  {
   "cell_type": "markdown",
   "id": "8c940983",
   "metadata": {},
   "source": [
    "***"
   ]
  },
  {
   "cell_type": "code",
   "execution_count": 16,
   "id": "9ed0391f",
   "metadata": {},
   "outputs": [],
   "source": [
    "pmse_ratios, full_sXs, GMM = train_models(train_data=train_data,\n",
    "                                          number_synthetic_datasets=20,\n",
    "                                          # hyperparameters for GMM\n",
    "                                          number_gmm_initializations=ngi,\n",
    "                                          num_components_=int(best_params['params']['num_components_']),\n",
    "                                          # hyperparameters for CART, end with underscore means Bayesian optimization will choose\n",
    "                                          mb_sex_=int(best_params['params']['mb_sex_']),\n",
    "                                          mb_age_=int(best_params['params']['mb_age_']),\n",
    "                                          mb_state_=int(best_params['params']['mb_state_']))"
   ]
  },
  {
   "cell_type": "code",
   "execution_count": 17,
   "id": "43dcf15a-70c7-4948-ac95-fd555fea3011",
   "metadata": {},
   "outputs": [
    {
     "data": {
      "text/plain": [
       "1.049889933797527"
      ]
     },
     "execution_count": 17,
     "metadata": {},
     "output_type": "execute_result"
    }
   ],
   "source": [
    "np.mean(pmse_ratios)"
   ]
  },
  {
   "cell_type": "code",
   "execution_count": 18,
   "id": "a3d6a0f6",
   "metadata": {},
   "outputs": [
    {
     "data": {
      "image/png": "[encoded data removed]",
      "text/plain": [
       "<Figure size 640x480 with 1 Axes>"
      ]
     },
     "metadata": {},
     "output_type": "display_data"
    }
   ],
   "source": [
    "plt.violinplot(pmse_ratios)\n",
    "plt.xlabel(\"Density\")\n",
    "plt.ylabel(\"pMSE Ratio\")\n",
    "plt.title(\"Distribution of pMSE Ratios\")\n",
    "plt.show()"
   ]
  },
  {
   "cell_type": "markdown",
   "id": "af137729",
   "metadata": {},
   "source": [
    "***"
   ]
  },
  {
   "cell_type": "code",
   "execution_count": 4,
   "id": "5696e166",
   "metadata": {},
   "outputs": [
    {
     "ename": "NameError",
     "evalue": "name 'full_sXs' is not defined",
     "output_type": "error",
     "traceback": [
      "\u001b[1;31m---------------------------------------------------------------------------\u001b[0m",
      "\u001b[1;31mNameError\u001b[0m                                 Traceback (most recent call last)",
      "Cell \u001b[1;32mIn[4], line 1\u001b[0m\n\u001b[1;32m----> 1\u001b[0m \u001b[38;5;28;01mfor\u001b[39;00m i, sX \u001b[38;5;129;01min\u001b[39;00m \u001b[38;5;28menumerate\u001b[39m(full_sXs):\n\u001b[0;32m      2\u001b[0m     sX\u001b[38;5;241m.\u001b[39mto_csv(\u001b[38;5;124m\"\u001b[39m\u001b[38;5;124m../Data/SK/Synthetic Datasets/gmm_and_cart_\u001b[39m\u001b[38;5;124m\"\u001b[39m \u001b[38;5;241m+\u001b[39m \u001b[38;5;28mstr\u001b[39m(i) \u001b[38;5;241m+\u001b[39m \u001b[38;5;124m\"\u001b[39m\u001b[38;5;124m.csv\u001b[39m\u001b[38;5;124m\"\u001b[39m, index\u001b[38;5;241m=\u001b[39m\u001b[38;5;28;01mFalse\u001b[39;00m)\n\u001b[0;32m      4\u001b[0m \u001b[38;5;66;03m# save\u001b[39;00m\n",
      "\u001b[1;31mNameError\u001b[0m: name 'full_sXs' is not defined"
     ]
    }
   ],
   "source": [
    "for i, sX in enumerate(full_sXs):\n",
    "    sX.to_csv(\"../Data/SK/Synthetic Datasets/gmm_and_cart_\" + str(i) + \".csv\", index=False)\n",
    "\n",
    "# save\n",
    "os.makedirs(\"../Results/SK/Models/\", exist_ok=True)\n",
    "with open('../Results/SK/Models/gmm_and_cart.pkl','wb') as f:\n",
    "    pickle.dump(GMM, f)"
   ]
  },
  {
   "cell_type": "markdown",
   "id": "c40ffaea",
   "metadata": {},
   "source": [
    "***"
   ]
  },
  {
   "cell_type": "markdown",
   "id": "bbbe66ac-98dc-4a8c-9af2-3e07c2080c34",
   "metadata": {},
   "source": [
    "Import data sets if running from this point."
   ]
  },
  {
   "cell_type": "code",
   "execution_count": 1,
   "id": "b2be4afc-c749-4edd-820a-018f13f8d723",
   "metadata": {},
   "outputs": [],
   "source": [
    "# full_sXs = [pd.read_csv(\"../Data/SK/Synthetic Datasets/gmm_and_cart_\" + str(i) + \".csv\") for i in range(20)]\n",
    "\n",
    "# # load\n",
    "# with open('../Results/SK/Models/gmm_and_cart.pkl', 'rb') as f:\n",
    "#     GMM = pickle.load(f)"
   ]
  },
  {
   "cell_type": "markdown",
   "id": "5ca1e4fa-feb4-44b6-b419-ff2661c8d768",
   "metadata": {},
   "source": [
    "Now apply the attribute disclosure prevention algorithm."
   ]
  },
  {
   "cell_type": "markdown",
   "id": "1713a828-0545-438c-a599-3fd0df7c817f",
   "metadata": {},
   "source": [
    "Based on publicly available data from the World Health Organization, we use the total number of confirmed COVID-19 cases (9,583) and total number of deaths (152) in South Korea as of March 23, 2020 to calculate the prior probability $p(S_j = 1 | x_j^q, b) = 152/9583 \\approx 0.016$ and $p(S_j = 0 | x_j^q, b) = 1 - 0.016 = 0.984$..984."
   ]
  },
  {
   "cell_type": "code",
   "execution_count": 2,
   "id": "0c5ea9ee-123d-4e58-97a5-342b309d1499",
   "metadata": {},
   "outputs": [],
   "source": [
    "# prior = 152/9583"
   ]
  },
  {
   "cell_type": "markdown",
   "id": "a31444b5-5b59-496f-90cb-f4151ef670f4",
   "metadata": {},
   "source": [
    "For our threshold, we select $c = 10$, i.e., we are allowing for a 10x increase in the probability of an adversary inferring the correct disease status based on the synthetic data. This is a relatively large increase. For example, this means going from 0.016 under the prior to no more than 0.16 under the updated probability."
   ]
  },
  {
   "cell_type": "code",
   "execution_count": 3,
   "id": "f0e2b401-ddbf-4579-b41c-737f3910aeb8",
   "metadata": {},
   "outputs": [],
   "source": [
    "# c = 10"
   ]
  },
  {
   "cell_type": "markdown",
   "id": "07f85fa0-db86-4f7f-9e88-393d261a0334",
   "metadata": {},
   "source": [
    "We provide a range of $\\delta$ values over which to evaluate and prevent attribute disclosure."
   ]
  },
  {
   "cell_type": "code",
   "execution_count": 4,
   "id": "96a3dd8e-e0d0-42e1-bf29-c144937188a2",
   "metadata": {},
   "outputs": [],
   "source": [
    "# deltas = np.linspace(0.001, 1, 5)"
   ]
  },
  {
   "cell_type": "markdown",
   "id": "67ee0d77-6dac-4b4a-82f1-e341496b8245",
   "metadata": {},
   "source": [
    "***"
   ]
  },
  {
   "cell_type": "code",
   "execution_count": 5,
   "id": "456b4f4b-bdb0-4609-bdda-3a3ab8e67f68",
   "metadata": {},
   "outputs": [],
   "source": [
    "# ad_sXs = [attribute_disclosure_reduction(original_data=train_data, \n",
    "#                                          synthetic_data=X,\n",
    "#                                          continuous_vars=['latitude', 'longitude'],\n",
    "#                                          categorical_vars=['sex', 'age'],\n",
    "#                                          sensitive_var='state',\n",
    "#                                          num_mixture_components=int(best_params['params']['num_components_']),\n",
    "#                                          deltas=deltas, \n",
    "#                                          c=c, \n",
    "#                                          prior_prob=prior) for X in full_sXs]"
   ]
  },
  {
   "cell_type": "code",
   "execution_count": 6,
   "id": "fcc1f352-e826-4757-a7b1-26014310e78f",
   "metadata": {},
   "outputs": [],
   "source": [
    "# for i, sX in enumerate(ad_sXs):\n",
    "#     sX.to_csv(\"../Data/SK/Synthetic Datasets/ad_gmm_and_cart_\" + str(i) + \".csv\", index=False)"
   ]
  },
  {
   "cell_type": "markdown",
   "id": "9c5f0763-0559-47da-a7c9-564625360d24",
   "metadata": {},
   "source": [
    "***"
   ]
  },
  {
   "cell_type": "markdown",
   "id": "de093030-62c9-4209-a058-f22cb75afe29",
   "metadata": {},
   "source": [
    "How many records did the attribute disclosure algorithm add, on average."
   ]
  },
  {
   "cell_type": "code",
   "execution_count": 7,
   "id": "fa5863b0-cdf0-4d93-968c-0781603cb14b",
   "metadata": {},
   "outputs": [],
   "source": [
    "# ad_sXs = [pd.read_csv(\"../Data/SK/Synthetic Datasets/ad_gmm_and_cart_\" + str(i) + \".csv\") for i in range(20)]"
   ]
  },
  {
   "cell_type": "code",
   "execution_count": 8,
   "id": "bd31188d-744b-4844-b927-55c41a33fc89",
   "metadata": {},
   "outputs": [],
   "source": [
    "# num_records = train_data.shape[0]"
   ]
  },
  {
   "cell_type": "code",
   "execution_count": 9,
   "id": "1d329069-4c02-4904-9439-cd2b37fb48a4",
   "metadata": {},
   "outputs": [],
   "source": [
    "# np.mean([Z.shape[0] - num_records for Z in ad_sXs])"
   ]
  },
  {
   "cell_type": "code",
   "execution_count": null,
   "id": "99a55650-0f4e-47eb-bcb0-e95907db36d3",
   "metadata": {},
   "outputs": [],
   "source": []
  }
 ],
 "metadata": {
  "kernelspec": {
   "display_name": "base",
   "language": "python",
   "name": "python3"
  },
  "language_info": {
   "codemirror_mode": {
    "name": "ipython",
    "version": 3
   },
   "file_extension": ".py",
   "mimetype": "text/x-python",
   "name": "python",
   "nbconvert_exporter": "python",
   "pygments_lexer": "ipython3",
   "version": "3.11.7"
  }
 },
 "nbformat": 4,
 "nbformat_minor": 5
}
