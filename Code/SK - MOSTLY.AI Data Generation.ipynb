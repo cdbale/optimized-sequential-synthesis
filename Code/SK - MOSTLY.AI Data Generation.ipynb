{
 "cells": [
  {
   "cell_type": "code",
   "execution_count": 1,
   "id": "99af206b-9265-4597-8ff5-235b9e3c098c",
   "metadata": {},
   "outputs": [],
   "source": [
    "import numpy as np\n",
    "from mostlyai import MostlyAI"
   ]
  },
  {
   "cell_type": "code",
   "execution_count": 2,
   "id": "4579f703-94c0-40c2-8e80-5d48104e7d70",
   "metadata": {},
   "outputs": [],
   "source": [
    "# initialize client\n",
    "mostly = MostlyAI(api_key='mostly-adcd77a4ca7523519dc19b4ec9c9a7f6e0b2e37e16599b4703b03944dc824ed2', base_url='https://app.mostly.ai')"
   ]
  },
  {
   "cell_type": "code",
   "execution_count": 3,
   "id": "9593ea76-1887-4a60-93f9-fe1fbbeb6fce",
   "metadata": {},
   "outputs": [
    {
     "data": {
      "text/plain": [
       "{'name': 'SK Patient Data',\n",
       " 'description': None,\n",
       " 'tables': [{'name': 'SK Patient Data',\n",
       "   'sourceConnectorId': '2f880c16-adf9-4b89-85a6-29bb9316c741',\n",
       "   'location': 'mostly-production-mostly-s3-bucket-mostly-app/connectors/2f880c16-adf9-4b89-85a6-29bb9316c741/SK Patient Data/cleaned_sk_data.csv',\n",
       "   'data': None,\n",
       "   'modelConfiguration': {'maxSampleSize': 6712,\n",
       "    'batchSize': None,\n",
       "    'modelSize': 'M',\n",
       "    'maxTrainingTime': 10,\n",
       "    'maxEpochs': 100,\n",
       "    'maxSequenceWindow': 100,\n",
       "    'enableFlexibleGeneration': False,\n",
       "    'valueProtection': False,\n",
       "    'rareCategoryReplacementMethod': 'CONSTANT',\n",
       "    'compute': 'd5f093a6-208f-4b79-92c6-6d50d02d8c8c'},\n",
       "   'textModelConfiguration': None,\n",
       "   'primaryKey': None,\n",
       "   'foreignKeys': None,\n",
       "   'columns': [{'name': 'latitude', 'modelEncodingType': 'NUMERIC_BINNED'},\n",
       "    {'name': 'longitude', 'modelEncodingType': 'NUMERIC_BINNED'},\n",
       "    {'name': 'sex', 'modelEncodingType': 'NUMERIC_DISCRETE'},\n",
       "    {'name': 'age', 'modelEncodingType': 'NUMERIC_DISCRETE'},\n",
       "    {'name': 'state', 'modelEncodingType': 'NUMERIC_DISCRETE'}]}]}"
      ]
     },
     "execution_count": 3,
     "metadata": {},
     "output_type": "execute_result"
    }
   ],
   "source": [
    "# fetch configuration via API\n",
    "g = mostly.generators.get('1d9f85fd-277c-40d8-985f-02d3f39c948b')\n",
    "config = g.config()\n",
    "config"
   ]
  },
  {
   "cell_type": "code",
   "execution_count": 4,
   "id": "2e3f778e-cfa4-43e6-8c26-09ccab84359d",
   "metadata": {},
   "outputs": [
    {
     "data": {
      "text/html": [
       "<pre style=\"white-space:pre;overflow-x:auto;line-height:normal;font-family:Menlo,'DejaVu Sans Mono',consolas,'Courier New',monospace\">╭──────────────────────────────────────────────────────╮\n",
       "│ <span style=\"color: #800000; text-decoration-color: #800000; font-weight: bold\">HTTP 403: You have reached the limit of 5.0 credits.</span> │\n",
       "╰──────────────────────────────────────────────────────╯\n",
       "</pre>\n"
      ],
      "text/plain": [
       "╭──────────────────────────────────────────────────────╮\n",
       "│ \u001b[1;31mHTTP 403: You have reached the limit of 5.0 credits.\u001b[0m │\n",
       "╰──────────────────────────────────────────────────────╯\n"
      ]
     },
     "metadata": {},
     "output_type": "display_data"
    },
    {
     "ename": "APIStatusError",
     "evalue": "HTTP 403: You have reached the limit of 5.0 credits.",
     "output_type": "error",
     "traceback": [
      "\u001b[1;31m---------------------------------------------------------------------------\u001b[0m",
      "\u001b[1;31mHTTPStatusError\u001b[0m                           Traceback (most recent call last)",
      "File \u001b[1;32m~\\AppData\\Roaming\\Python\\Python311\\site-packages\\mostlyai\\base.py:111\u001b[0m, in \u001b[0;36m_MostlyBaseClient.request\u001b[1;34m(self, path, verb, response_type, raw_response, is_api_call, do_include_client, extra_key_values, **kwargs)\u001b[0m\n\u001b[0;32m    110\u001b[0m         response \u001b[38;5;241m=\u001b[39m client\u001b[38;5;241m.\u001b[39mrequest(method\u001b[38;5;241m=\u001b[39mverb, url\u001b[38;5;241m=\u001b[39mfull_url, \u001b[38;5;241m*\u001b[39m\u001b[38;5;241m*\u001b[39mkwargs)\n\u001b[1;32m--> 111\u001b[0m     response\u001b[38;5;241m.\u001b[39mraise_for_status()\n\u001b[0;32m    112\u001b[0m \u001b[38;5;28;01mexcept\u001b[39;00m httpx\u001b[38;5;241m.\u001b[39mHTTPStatusError \u001b[38;5;28;01mas\u001b[39;00m exc:\n",
      "File \u001b[1;32m~\\AppData\\Roaming\\Python\\Python311\\site-packages\\httpx\\_models.py:761\u001b[0m, in \u001b[0;36mResponse.raise_for_status\u001b[1;34m(self)\u001b[0m\n\u001b[0;32m    760\u001b[0m message \u001b[38;5;241m=\u001b[39m message\u001b[38;5;241m.\u001b[39mformat(\u001b[38;5;28mself\u001b[39m, error_type\u001b[38;5;241m=\u001b[39merror_type)\n\u001b[1;32m--> 761\u001b[0m \u001b[38;5;28;01mraise\u001b[39;00m HTTPStatusError(message, request\u001b[38;5;241m=\u001b[39mrequest, response\u001b[38;5;241m=\u001b[39m\u001b[38;5;28mself\u001b[39m)\n",
      "\u001b[1;31mHTTPStatusError\u001b[0m: Client error '403 ' for url 'https://app.mostly.ai/api/v2/synthetic-probes'\nFor more information check: https://developer.mozilla.org/en-US/docs/Web/HTTP/Status/403",
      "\nThe above exception was the direct cause of the following exception:\n",
      "\u001b[1;31mAPIStatusError\u001b[0m                            Traceback (most recent call last)",
      "Cell \u001b[1;32mIn[4], line 2\u001b[0m\n\u001b[0;32m      1\u001b[0m \u001b[38;5;66;03m# probe the generator for some samples\u001b[39;00m\n\u001b[1;32m----> 2\u001b[0m mostly\u001b[38;5;241m.\u001b[39mprobe(\u001b[38;5;124m'\u001b[39m\u001b[38;5;124m1d9f85fd-277c-40d8-985f-02d3f39c948b\u001b[39m\u001b[38;5;124m'\u001b[39m, size\u001b[38;5;241m=\u001b[39m\u001b[38;5;241m10\u001b[39m)\n",
      "File \u001b[1;32m~\\AppData\\Roaming\\Python\\Python311\\site-packages\\mostlyai\\api.py:325\u001b[0m, in \u001b[0;36mMostlyAI.probe\u001b[1;34m(self, generator, size, seed, config, return_type)\u001b[0m\n\u001b[0;32m    309\u001b[0m \u001b[38;5;250m\u001b[39m\u001b[38;5;124;03m\"\"\"\u001b[39;00m\n\u001b[0;32m    310\u001b[0m \u001b[38;5;124;03mProbe a generator\u001b[39;00m\n\u001b[0;32m    311\u001b[0m \n\u001b[1;32m   (...)\u001b[0m\n\u001b[0;32m    316\u001b[0m \u001b[38;5;124;03m:return: The created synthetic probe.\u001b[39;00m\n\u001b[0;32m    317\u001b[0m \u001b[38;5;124;03m\"\"\"\u001b[39;00m\n\u001b[0;32m    318\u001b[0m config \u001b[38;5;241m=\u001b[39m _harmonize_sd_config(\n\u001b[0;32m    319\u001b[0m     generator,\n\u001b[0;32m    320\u001b[0m     get_generator\u001b[38;5;241m=\u001b[39m\u001b[38;5;28mself\u001b[39m\u001b[38;5;241m.\u001b[39mgenerators\u001b[38;5;241m.\u001b[39mget,\n\u001b[1;32m   (...)\u001b[0m\n\u001b[0;32m    323\u001b[0m     config\u001b[38;5;241m=\u001b[39mconfig,\n\u001b[0;32m    324\u001b[0m )\n\u001b[1;32m--> 325\u001b[0m dfs \u001b[38;5;241m=\u001b[39m \u001b[38;5;28mself\u001b[39m\u001b[38;5;241m.\u001b[39msynthetic_probes\u001b[38;5;241m.\u001b[39mcreate(config)\n\u001b[0;32m    326\u001b[0m \u001b[38;5;28;01mif\u001b[39;00m return_type \u001b[38;5;241m==\u001b[39m \u001b[38;5;124m\"\u001b[39m\u001b[38;5;124mauto\u001b[39m\u001b[38;5;124m\"\u001b[39m \u001b[38;5;129;01mand\u001b[39;00m \u001b[38;5;28mlen\u001b[39m(dfs) \u001b[38;5;241m==\u001b[39m \u001b[38;5;241m1\u001b[39m:\n\u001b[0;32m    327\u001b[0m     \u001b[38;5;28;01mreturn\u001b[39;00m \u001b[38;5;28mlist\u001b[39m(dfs\u001b[38;5;241m.\u001b[39mvalues())[\u001b[38;5;241m0\u001b[39m]\n",
      "File \u001b[1;32m~\\AppData\\Roaming\\Python\\Python311\\site-packages\\mostlyai\\synthetic_datasets.py:199\u001b[0m, in \u001b[0;36m_MostlySyntheticProbesClient.create\u001b[1;34m(self, config)\u001b[0m\n\u001b[0;32m    188\u001b[0m \u001b[38;5;28;01mdef\u001b[39;00m \u001b[38;5;21mcreate\u001b[39m(\n\u001b[0;32m    189\u001b[0m     \u001b[38;5;28mself\u001b[39m, config: \u001b[38;5;28mdict\u001b[39m[\u001b[38;5;28mstr\u001b[39m, Any]\n\u001b[0;32m    190\u001b[0m ) \u001b[38;5;241m-\u001b[39m\u001b[38;5;241m>\u001b[39m Union[pd\u001b[38;5;241m.\u001b[39mDataFrame, \u001b[38;5;28mdict\u001b[39m[\u001b[38;5;28mstr\u001b[39m, pd\u001b[38;5;241m.\u001b[39mDataFrame]]:\n\u001b[0;32m    191\u001b[0m \u001b[38;5;250m    \u001b[39m\u001b[38;5;124;03m\"\"\"\u001b[39;00m\n\u001b[0;32m    192\u001b[0m \u001b[38;5;124;03m    Create synthetic probe\u001b[39;00m\n\u001b[0;32m    193\u001b[0m \n\u001b[1;32m   (...)\u001b[0m\n\u001b[0;32m    197\u001b[0m \u001b[38;5;124;03m    :return: The created synthetic dataset.\u001b[39;00m\n\u001b[0;32m    198\u001b[0m \u001b[38;5;124;03m    \"\"\"\u001b[39;00m\n\u001b[1;32m--> 199\u001b[0m     dicts \u001b[38;5;241m=\u001b[39m \u001b[38;5;28mself\u001b[39m\u001b[38;5;241m.\u001b[39mrequest(\n\u001b[0;32m    200\u001b[0m         verb\u001b[38;5;241m=\u001b[39mPOST,\n\u001b[0;32m    201\u001b[0m         path\u001b[38;5;241m=\u001b[39m[],\n\u001b[0;32m    202\u001b[0m         json\u001b[38;5;241m=\u001b[39m\u001b[38;5;28mdict\u001b[39m(config),\n\u001b[0;32m    203\u001b[0m     )\n\u001b[0;32m    204\u001b[0m     \u001b[38;5;28;01mreturn\u001b[39;00m {dct[\u001b[38;5;124m\"\u001b[39m\u001b[38;5;124mname\u001b[39m\u001b[38;5;124m\"\u001b[39m]: pd\u001b[38;5;241m.\u001b[39mDataFrame(dct[\u001b[38;5;124m\"\u001b[39m\u001b[38;5;124mrows\u001b[39m\u001b[38;5;124m\"\u001b[39m]) \u001b[38;5;28;01mfor\u001b[39;00m dct \u001b[38;5;129;01min\u001b[39;00m dicts}\n",
      "File \u001b[1;32m~\\AppData\\Roaming\\Python\\Python311\\site-packages\\mostlyai\\base.py:118\u001b[0m, in \u001b[0;36m_MostlyBaseClient.request\u001b[1;34m(self, path, verb, response_type, raw_response, is_api_call, do_include_client, extra_key_values, **kwargs)\u001b[0m\n\u001b[0;32m    116\u001b[0m         error_msg \u001b[38;5;241m=\u001b[39m exc\u001b[38;5;241m.\u001b[39mresponse\u001b[38;5;241m.\u001b[39mcontent\n\u001b[0;32m    117\u001b[0m     \u001b[38;5;66;03m# Handle HTTP errors (not in 2XX range)\u001b[39;00m\n\u001b[1;32m--> 118\u001b[0m     \u001b[38;5;28;01mraise\u001b[39;00m APIStatusError(\n\u001b[0;32m    119\u001b[0m         \u001b[38;5;124mf\u001b[39m\u001b[38;5;124m\"\u001b[39m\u001b[38;5;124mHTTP \u001b[39m\u001b[38;5;132;01m{\u001b[39;00mexc\u001b[38;5;241m.\u001b[39mresponse\u001b[38;5;241m.\u001b[39mstatus_code\u001b[38;5;132;01m}\u001b[39;00m\u001b[38;5;124m: \u001b[39m\u001b[38;5;132;01m{\u001b[39;00merror_msg\u001b[38;5;132;01m}\u001b[39;00m\u001b[38;5;124m\"\u001b[39m,\n\u001b[0;32m    120\u001b[0m     ) \u001b[38;5;28;01mfrom\u001b[39;00m \u001b[38;5;21;01mexc\u001b[39;00m\n\u001b[0;32m    121\u001b[0m \u001b[38;5;28;01mexcept\u001b[39;00m httpx\u001b[38;5;241m.\u001b[39mRequestError \u001b[38;5;28;01mas\u001b[39;00m exc:\n\u001b[0;32m    122\u001b[0m     \u001b[38;5;66;03m# Handle request errors (e.g., network issues)\u001b[39;00m\n\u001b[0;32m    123\u001b[0m     \u001b[38;5;28;01mraise\u001b[39;00m APIError(\n\u001b[0;32m    124\u001b[0m         \u001b[38;5;124mf\u001b[39m\u001b[38;5;124m\"\u001b[39m\u001b[38;5;124mAn error occurred while requesting \u001b[39m\u001b[38;5;132;01m{\u001b[39;00mexc\u001b[38;5;241m.\u001b[39mrequest\u001b[38;5;241m.\u001b[39murl\u001b[38;5;132;01m!r}\u001b[39;00m\u001b[38;5;124m.\u001b[39m\u001b[38;5;124m\"\u001b[39m\n\u001b[0;32m    125\u001b[0m     ) \u001b[38;5;28;01mfrom\u001b[39;00m \u001b[38;5;21;01mexc\u001b[39;00m\n",
      "\u001b[1;31mAPIStatusError\u001b[0m: HTTP 403: You have reached the limit of 5.0 credits."
     ]
    }
   ],
   "source": [
    "# probe the generator for some samples\n",
    "mostly.probe('1d9f85fd-277c-40d8-985f-02d3f39c948b', size=10)"
   ]
  },
  {
   "cell_type": "markdown",
   "id": "29d0bf2a-faa3-4f32-b86d-bad32354b74d",
   "metadata": {},
   "source": [
    "We need 20 synthetic data sets. Original data set size was 6712, so we need $6712 \\times 20 = 134240$ samples."
   ]
  },
  {
   "cell_type": "code",
   "execution_count": 6,
   "id": "f50baf60-52a2-4300-982b-30c0b455db8d",
   "metadata": {},
   "outputs": [
    {
     "data": {
      "text/html": [
       "<pre style=\"white-space:pre;overflow-x:auto;line-height:normal;font-family:Menlo,'DejaVu Sans Mono',consolas,'Courier New',monospace\">Created synthetic dataset <a href=\"https://app.mostly.ai/d/synthetic-datasets/0e69c80f-8bc4-4653-92c8-740ace235996\" target=\"_blank\"><span style=\"color: #000080; text-decoration-color: #000080; text-decoration: underline\">0e69c80f-8bc4-4653-92c8-740ace235996</span></a> with generator <a href=\"https://app.mostly.ai/d/generators/1d9f85fd-277c-40d8-985f-02d3f39c948b\" target=\"_blank\"><span style=\"color: #000080; text-decoration-color: #000080; text-decoration: underline\">1d9f85fd-277c-40d8-985f-02d3f39c948b</span></a>\n",
       "</pre>\n"
      ],
      "text/plain": [
       "Created synthetic dataset \u001b]8;id=162747;https://app.mostly.ai/d/synthetic-datasets/0e69c80f-8bc4-4653-92c8-740ace235996\u001b\\\u001b[4;34m0e69c80f-8bc4-4653-92c8-740ace235996\u001b[0m\u001b]8;;\u001b\\ with generator \u001b]8;id=420694;https://app.mostly.ai/d/generators/1d9f85fd-277c-40d8-985f-02d3f39c948b\u001b\\\u001b[4;34m1d9f85fd-277c-40d8-985f-02d3f39c948b\u001b[0m\u001b]8;;\u001b\\\n"
      ]
     },
     "metadata": {},
     "output_type": "display_data"
    },
    {
     "data": {
      "text/html": [
       "<pre style=\"white-space:pre;overflow-x:auto;line-height:normal;font-family:Menlo,'DejaVu Sans Mono',consolas,'Courier New',monospace\">Started synthetic dataset generation\n",
       "</pre>\n"
      ],
      "text/plain": [
       "Started synthetic dataset generation\n"
      ]
     },
     "metadata": {},
     "output_type": "display_data"
    },
    {
     "data": {
      "application/vnd.jupyter.widget-view+json": {
       "model_id": "3152a39f248c4d3b9b10c8b95ea0ce4b",
       "version_major": 2,
       "version_minor": 0
      },
      "text/plain": [
       "Output()"
      ]
     },
     "metadata": {},
     "output_type": "display_data"
    },
    {
     "data": {
      "text/html": [
       "<pre style=\"white-space:pre;overflow-x:auto;line-height:normal;font-family:Menlo,'DejaVu Sans Mono',consolas,'Courier New',monospace\"></pre>\n"
      ],
      "text/plain": []
     },
     "metadata": {},
     "output_type": "display_data"
    },
    {
     "data": {
      "text/html": [
       "<pre style=\"white-space:pre;overflow-x:auto;line-height:normal;font-family:Menlo,'DejaVu Sans Mono',consolas,'Courier New',monospace\">\n",
       "</pre>\n"
      ],
      "text/plain": [
       "\n"
      ]
     },
     "metadata": {},
     "output_type": "display_data"
    },
    {
     "data": {
      "text/html": [
       "<pre style=\"white-space:pre;overflow-x:auto;line-height:normal;font-family:Menlo,'DejaVu Sans Mono',consolas,'Courier New',monospace\">🎉 <span style=\"color: #008000; text-decoration-color: #008000; font-weight: bold\">Your synthetic dataset is ready!</span> Use it to consume the generated data. Share it so others can do the same.\n",
       "</pre>\n"
      ],
      "text/plain": [
       "🎉 \u001b[1;32mYour synthetic dataset is ready!\u001b[0m Use it to consume the generated data. Share it so others can do the same.\n"
      ]
     },
     "metadata": {},
     "output_type": "display_data"
    },
    {
     "data": {
      "text/html": [
       "<div>\n",
       "<style scoped>\n",
       "    .dataframe tbody tr th:only-of-type {\n",
       "        vertical-align: middle;\n",
       "    }\n",
       "\n",
       "    .dataframe tbody tr th {\n",
       "        vertical-align: top;\n",
       "    }\n",
       "\n",
       "    .dataframe thead th {\n",
       "        text-align: right;\n",
       "    }\n",
       "</style>\n",
       "<table border=\"1\" class=\"dataframe\">\n",
       "  <thead>\n",
       "    <tr style=\"text-align: right;\">\n",
       "      <th></th>\n",
       "      <th>latitude</th>\n",
       "      <th>longitude</th>\n",
       "      <th>sex</th>\n",
       "      <th>age</th>\n",
       "      <th>state</th>\n",
       "    </tr>\n",
       "  </thead>\n",
       "  <tbody>\n",
       "    <tr>\n",
       "      <th>0</th>\n",
       "      <td>-1.182548</td>\n",
       "      <td>1.997387</td>\n",
       "      <td>0</td>\n",
       "      <td>2</td>\n",
       "      <td>0</td>\n",
       "    </tr>\n",
       "    <tr>\n",
       "      <th>1</th>\n",
       "      <td>0.76447</td>\n",
       "      <td>-1.224311</td>\n",
       "      <td>1</td>\n",
       "      <td>4</td>\n",
       "      <td>0</td>\n",
       "    </tr>\n",
       "    <tr>\n",
       "      <th>2</th>\n",
       "      <td>0.795372</td>\n",
       "      <td>-0.777893</td>\n",
       "      <td>0</td>\n",
       "      <td>4</td>\n",
       "      <td>0</td>\n",
       "    </tr>\n",
       "    <tr>\n",
       "      <th>3</th>\n",
       "      <td>-1.708918</td>\n",
       "      <td>1.049877</td>\n",
       "      <td>0</td>\n",
       "      <td>2</td>\n",
       "      <td>0</td>\n",
       "    </tr>\n",
       "    <tr>\n",
       "      <th>4</th>\n",
       "      <td>0.88762</td>\n",
       "      <td>-0.807637</td>\n",
       "      <td>0</td>\n",
       "      <td>4</td>\n",
       "      <td>0</td>\n",
       "    </tr>\n",
       "    <tr>\n",
       "      <th>...</th>\n",
       "      <td>...</td>\n",
       "      <td>...</td>\n",
       "      <td>...</td>\n",
       "      <td>...</td>\n",
       "      <td>...</td>\n",
       "    </tr>\n",
       "    <tr>\n",
       "      <th>67115</th>\n",
       "      <td>0.809655</td>\n",
       "      <td>-0.783382</td>\n",
       "      <td>0</td>\n",
       "      <td>4</td>\n",
       "      <td>0</td>\n",
       "    </tr>\n",
       "    <tr>\n",
       "      <th>67116</th>\n",
       "      <td>-0.976759</td>\n",
       "      <td>1.070693</td>\n",
       "      <td>0</td>\n",
       "      <td>2</td>\n",
       "      <td>0</td>\n",
       "    </tr>\n",
       "    <tr>\n",
       "      <th>67117</th>\n",
       "      <td>-0.463864</td>\n",
       "      <td>-0.190423</td>\n",
       "      <td>1</td>\n",
       "      <td>2</td>\n",
       "      <td>0</td>\n",
       "    </tr>\n",
       "    <tr>\n",
       "      <th>67118</th>\n",
       "      <td>-0.345393</td>\n",
       "      <td>-0.290523</td>\n",
       "      <td>1</td>\n",
       "      <td>5</td>\n",
       "      <td>0</td>\n",
       "    </tr>\n",
       "    <tr>\n",
       "      <th>67119</th>\n",
       "      <td>0.821947</td>\n",
       "      <td>-0.80782</td>\n",
       "      <td>0</td>\n",
       "      <td>4</td>\n",
       "      <td>0</td>\n",
       "    </tr>\n",
       "  </tbody>\n",
       "</table>\n",
       "<p>134240 rows × 5 columns</p>\n",
       "</div>"
      ],
      "text/plain": [
       "       latitude  longitude  sex  age  state\n",
       "0     -1.182548   1.997387    0    2      0\n",
       "1       0.76447  -1.224311    1    4      0\n",
       "2      0.795372  -0.777893    0    4      0\n",
       "3     -1.708918   1.049877    0    2      0\n",
       "4       0.88762  -0.807637    0    4      0\n",
       "...         ...        ...  ...  ...    ...\n",
       "67115  0.809655  -0.783382    0    4      0\n",
       "67116 -0.976759   1.070693    0    2      0\n",
       "67117 -0.463864  -0.190423    1    2      0\n",
       "67118 -0.345393  -0.290523    1    5      0\n",
       "67119  0.821947   -0.80782    0    4      0\n",
       "\n",
       "[134240 rows x 5 columns]"
      ]
     },
     "execution_count": 6,
     "metadata": {},
     "output_type": "execute_result"
    }
   ],
   "source": [
    "# use generator to create a synthetic dataset\n",
    "sd = mostly.generate('1d9f85fd-277c-40d8-985f-02d3f39c948b', size=134_240)\n",
    "sd.data()"
   ]
  },
  {
   "cell_type": "markdown",
   "id": "6ba42828-466b-4312-a959-12ad71923bc9",
   "metadata": {},
   "source": [
    "Split the generated synthetic data into 20 data sets."
   ]
  },
  {
   "cell_type": "code",
   "execution_count": 9,
   "id": "79b82d7b-3f5e-47cf-96fc-0b7d0ef60d94",
   "metadata": {},
   "outputs": [
    {
     "name": "stderr",
     "output_type": "stream",
     "text": [
      "C:\\ProgramData\\anaconda3\\Lib\\site-packages\\numpy\\core\\fromnumeric.py:59: FutureWarning: 'DataFrame.swapaxes' is deprecated and will be removed in a future version. Please use 'DataFrame.transpose' instead.\n",
      "  return bound(*args, **kwds)\n"
     ]
    }
   ],
   "source": [
    "split_sd = np.array_split(sd.data(), 20)"
   ]
  },
  {
   "cell_type": "code",
   "execution_count": 12,
   "id": "7b281afe-2169-4044-b773-23eaefe8d488",
   "metadata": {},
   "outputs": [],
   "source": [
    "for i, sX in enumerate(split_sd):\n",
    "    sX.to_csv(\"../Data/SK/Synthetic Datasets/mostly_\" + str(i) + \".csv\", index=False)"
   ]
  }
 ],
 "metadata": {
  "kernelspec": {
   "display_name": "Python 3 (ipykernel)",
   "language": "python",
   "name": "python3"
  },
  "language_info": {
   "codemirror_mode": {
    "name": "ipython",
    "version": 3
   },
   "file_extension": ".py",
   "mimetype": "text/x-python",
   "name": "python",
   "nbconvert_exporter": "python",
   "pygments_lexer": "ipython3",
   "version": "3.11.7"
  }
 },
 "nbformat": 4,
 "nbformat_minor": 5
}
