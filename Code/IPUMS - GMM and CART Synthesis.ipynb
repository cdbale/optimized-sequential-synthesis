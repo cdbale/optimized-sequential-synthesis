{
 "cells": [
  {
   "cell_type": "markdown",
   "id": "96f48262",
   "metadata": {},
   "source": [
    "This notebook performs the synthesis using our proposed synthesization approach applied to the IPUMS data. The synthesis model is a CART. Logistic regression with three way interactions is used as the pMSE model."
   ]
  },
  {
   "cell_type": "code",
   "execution_count": 2,
   "id": "2d3f5c21",
   "metadata": {},
   "outputs": [],
   "source": [
    "from numpy.random import default_rng\n",
    "from sklearn.mixture import GaussianMixture\n",
    "import matplotlib.pyplot as plt\n",
    "import itertools\n",
    "\n",
    "from sklearn.tree import DecisionTreeClassifier\n",
    "\n",
    "from bayes_opt import BayesianOptimization\n",
    "from bayes_opt import UtilityFunction\n",
    "\n",
    "from helper_functions import *\n",
    "\n",
    "rng = np.random.RandomState(42)"
   ]
  },
  {
   "cell_type": "markdown",
   "id": "76a8ccbc",
   "metadata": {},
   "source": [
    "Import the data."
   ]
  },
  {
   "cell_type": "code",
   "execution_count": 3,
   "id": "730c2f2e",
   "metadata": {},
   "outputs": [],
   "source": [
    "# import standardized lat/long location data\n",
    "train = pd.read_csv(\"../Data/IPUMS/cleaned_ipums_data.csv\")"
   ]
  },
  {
   "cell_type": "code",
   "execution_count": 4,
   "id": "5fb46ada",
   "metadata": {},
   "outputs": [
    {
     "data": {
      "text/html": [
       "<div>\n",
       "<style scoped>\n",
       "    .dataframe tbody tr th:only-of-type {\n",
       "        vertical-align: middle;\n",
       "    }\n",
       "\n",
       "    .dataframe tbody tr th {\n",
       "        vertical-align: top;\n",
       "    }\n",
       "\n",
       "    .dataframe thead th {\n",
       "        text-align: right;\n",
       "    }\n",
       "</style>\n",
       "<table border=\"1\" class=\"dataframe\">\n",
       "  <thead>\n",
       "    <tr style=\"text-align: right;\">\n",
       "      <th></th>\n",
       "      <th>incwage</th>\n",
       "      <th>years_of_educ</th>\n",
       "      <th>potential_experience</th>\n",
       "      <th>non_white</th>\n",
       "      <th>sex</th>\n",
       "    </tr>\n",
       "  </thead>\n",
       "  <tbody>\n",
       "    <tr>\n",
       "      <th>0</th>\n",
       "      <td>-0.579435</td>\n",
       "      <td>1.109071</td>\n",
       "      <td>-0.039398</td>\n",
       "      <td>0</td>\n",
       "      <td>1</td>\n",
       "    </tr>\n",
       "    <tr>\n",
       "      <th>1</th>\n",
       "      <td>0.564281</td>\n",
       "      <td>0.724424</td>\n",
       "      <td>0.369388</td>\n",
       "      <td>0</td>\n",
       "      <td>0</td>\n",
       "    </tr>\n",
       "    <tr>\n",
       "      <th>2</th>\n",
       "      <td>-0.748874</td>\n",
       "      <td>-0.044869</td>\n",
       "      <td>-1.347515</td>\n",
       "      <td>0</td>\n",
       "      <td>0</td>\n",
       "    </tr>\n",
       "    <tr>\n",
       "      <th>3</th>\n",
       "      <td>-0.935257</td>\n",
       "      <td>-0.814163</td>\n",
       "      <td>-1.511030</td>\n",
       "      <td>0</td>\n",
       "      <td>0</td>\n",
       "    </tr>\n",
       "    <tr>\n",
       "      <th>4</th>\n",
       "      <td>-0.164308</td>\n",
       "      <td>-0.429516</td>\n",
       "      <td>1.186962</td>\n",
       "      <td>1</td>\n",
       "      <td>0</td>\n",
       "    </tr>\n",
       "    <tr>\n",
       "      <th>...</th>\n",
       "      <td>...</td>\n",
       "      <td>...</td>\n",
       "      <td>...</td>\n",
       "      <td>...</td>\n",
       "      <td>...</td>\n",
       "    </tr>\n",
       "    <tr>\n",
       "      <th>197751</th>\n",
       "      <td>-0.092296</td>\n",
       "      <td>1.109071</td>\n",
       "      <td>-0.448185</td>\n",
       "      <td>0</td>\n",
       "      <td>0</td>\n",
       "    </tr>\n",
       "    <tr>\n",
       "      <th>197752</th>\n",
       "      <td>-0.854774</td>\n",
       "      <td>1.109071</td>\n",
       "      <td>-0.611699</td>\n",
       "      <td>0</td>\n",
       "      <td>1</td>\n",
       "    </tr>\n",
       "    <tr>\n",
       "      <th>197753</th>\n",
       "      <td>0.521921</td>\n",
       "      <td>1.777461</td>\n",
       "      <td>0.063806</td>\n",
       "      <td>0</td>\n",
       "      <td>0</td>\n",
       "    </tr>\n",
       "    <tr>\n",
       "      <th>197754</th>\n",
       "      <td>-0.981853</td>\n",
       "      <td>0.724424</td>\n",
       "      <td>-0.448185</td>\n",
       "      <td>0</td>\n",
       "      <td>1</td>\n",
       "    </tr>\n",
       "    <tr>\n",
       "      <th>197755</th>\n",
       "      <td>0.865036</td>\n",
       "      <td>1.109071</td>\n",
       "      <td>1.105204</td>\n",
       "      <td>0</td>\n",
       "      <td>0</td>\n",
       "    </tr>\n",
       "  </tbody>\n",
       "</table>\n",
       "<p>197756 rows × 5 columns</p>\n",
       "</div>"
      ],
      "text/plain": [
       "         incwage  years_of_educ  potential_experience  non_white  sex\n",
       "0      -0.579435       1.109071             -0.039398          0    1\n",
       "1       0.564281       0.724424              0.369388          0    0\n",
       "2      -0.748874      -0.044869             -1.347515          0    0\n",
       "3      -0.935257      -0.814163             -1.511030          0    0\n",
       "4      -0.164308      -0.429516              1.186962          1    0\n",
       "...          ...            ...                   ...        ...  ...\n",
       "197751 -0.092296       1.109071             -0.448185          0    0\n",
       "197752 -0.854774       1.109071             -0.611699          0    1\n",
       "197753  0.521921       1.777461              0.063806          0    0\n",
       "197754 -0.981853       0.724424             -0.448185          0    1\n",
       "197755  0.865036       1.109071              1.105204          0    0\n",
       "\n",
       "[197756 rows x 5 columns]"
      ]
     },
     "execution_count": 4,
     "metadata": {},
     "output_type": "execute_result"
    }
   ],
   "source": [
    "train"
   ]
  },
  {
   "cell_type": "markdown",
   "id": "76de685f",
   "metadata": {},
   "source": [
    "***"
   ]
  },
  {
   "cell_type": "markdown",
   "id": "5b8a741f",
   "metadata": {},
   "source": [
    "# Full Sequential Synthesis Driven by Bayesian Optimization"
   ]
  },
  {
   "cell_type": "markdown",
   "id": "8169fec7",
   "metadata": {},
   "source": [
    "Function to be used in Bayesian bootstrap."
   ]
  },
  {
   "cell_type": "code",
   "execution_count": 5,
   "id": "e80a8660",
   "metadata": {},
   "outputs": [],
   "source": [
    "# def stat(x):\n",
    "#     return x"
   ]
  },
  {
   "cell_type": "markdown",
   "id": "3a1688b8",
   "metadata": {},
   "source": [
    "Write function to train all models and generate the synthetic dataset, then evaluate the pMSE ratio."
   ]
  },
  {
   "cell_type": "code",
   "execution_count": 6,
   "id": "ab5f897a",
   "metadata": {},
   "outputs": [],
   "source": [
    "def train_models(#overall parameters\n",
    "                 train_data,\n",
    "                 number_synthetic_datasets,\n",
    "                 # hyperparameters for GMM, end with underscore means Bayesian optimization will choose\n",
    "                 number_gmm_initializations,\n",
    "                 num_components_,\n",
    "                 # hyperparameters for CART, end with underscore means Bayesian optimization will choose\n",
    "                 mb_non_white_,\n",
    "                 mb_sex_):\n",
    "    \n",
    "    num_samples = train_data.shape[0]\n",
    "    \n",
    "    ########## Code for GMM ############\n",
    "    \n",
    "    # fit GMM model\n",
    "    GMM = GaussianMixture(num_components_, n_init=number_gmm_initializations, init_params=\"k-means++\", random_state=rng).fit(train_data.loc[:,['incwage', 'years_of_educ', 'potential_experience']])\n",
    "    \n",
    "    # list for synthetic datasets\n",
    "    sXs = []\n",
    "    \n",
    "    # generate and store number_synthetic_datasets synthetic datasets\n",
    "    for i in range(number_synthetic_datasets):\n",
    "        sX = GMM.sample(num_samples)[0]\n",
    "        sX = pd.DataFrame(sX)\n",
    "        sX.columns = ['incwage', 'years_of_educ', 'potential_experience']\n",
    "        sXs.append(sX)\n",
    "        \n",
    "    ####################################################################################################\n",
    "        \n",
    "    ########### Code for non_white CART ##########\n",
    "    cart_non_white = DecisionTreeClassifier(min_samples_leaf=mb_non_white_, random_state=rng)\n",
    "    \n",
    "    cart_non_white.fit(X=train_data.loc[:,['incwage', 'years_of_educ', 'potential_experience']], y=train_data.loc[:,\"non_white\"])\n",
    "    \n",
    "    node_indicators = cart_non_white.decision_path(train_data.loc[:,['incwage', 'years_of_educ', 'potential_experience']]).toarray()\n",
    "    \n",
    "    node_outcomes = [train_data['non_white'][node_indicators[:,x]==1] for x in np.arange(node_indicators.shape[1])]\n",
    "    \n",
    "    # sample values according to a Bayesian bootstrap\n",
    "    \n",
    "    for i in range(number_synthetic_datasets):\n",
    "        \n",
    "        # bst_vals = [bayesian_bootstrap(X=np.array(x), \n",
    "        #                                statistic=stat,\n",
    "        #                                n_replications=1,\n",
    "        #                                resample_size=len(x))[0] for x in node_outcomes]\n",
    "        \n",
    "        synth_leaves = cart_non_white.apply(sXs[i].loc[:,['incwage', 'years_of_educ', 'potential_experience']])\n",
    "        \n",
    "        new_non_white = np.zeros(len(synth_leaves), dtype=int)\n",
    "        \n",
    "        for j, x in enumerate(np.arange(node_indicators.shape[1])):\n",
    "            \n",
    "            new_non_white[synth_leaves==x] = rng.choice(node_outcomes[x], size=np.sum(synth_leaves==x))\n",
    "        \n",
    "        new_non_white = pd.Series(new_non_white)\n",
    "        \n",
    "        new_non_white.name = \"non_white\"\n",
    "        \n",
    "        sXs[i] = pd.concat([sXs[i], new_non_white], axis=1)\n",
    "    \n",
    "    ####################################################################################################\n",
    "        \n",
    "    ########### Code for sex CART ##########\n",
    "    \n",
    "    cart_sex = DecisionTreeClassifier(min_samples_leaf=mb_sex_, random_state=rng)\n",
    "    \n",
    "    cart_sex.fit(X=train_data.loc[:,['incwage', 'years_of_educ', 'potential_experience', 'non_white']], y=train_data.loc[:,\"sex\"])\n",
    "    \n",
    "    node_indicators = cart_sex.decision_path(train_data.loc[:,['incwage', 'years_of_educ', 'potential_experience', 'non_white']]).toarray()\n",
    "    \n",
    "    node_outcomes = [train_data.sex[node_indicators[:,x]==1] for x in np.arange(node_indicators.shape[1])]\n",
    "    \n",
    "    # sample values according to a Bayesian bootstrap\n",
    "    \n",
    "    for i in range(number_synthetic_datasets):\n",
    "        \n",
    "        # bst_vals = [bayesian_bootstrap(X=np.array(x), \n",
    "        #                                statistic=stat,\n",
    "        #                                n_replications=1,\n",
    "        #                                resample_size=len(x))[0] for x in node_outcomes]\n",
    "        \n",
    "        synth_leaves = cart_sex.apply(sXs[i].loc[:,['incwage', 'years_of_educ', 'potential_experience', 'non_white']])\n",
    "        \n",
    "        new_sex = np.zeros(len(synth_leaves), dtype=int)\n",
    "        \n",
    "        for j, x in enumerate(np.arange(node_indicators.shape[1])):\n",
    "            \n",
    "            new_sex[synth_leaves==x] = rng.choice(node_outcomes[x], size=np.sum(synth_leaves==x))\n",
    "        \n",
    "        new_sex = pd.Series(new_sex)\n",
    "        \n",
    "        new_sex.name = \"sex\"\n",
    "        \n",
    "        sXs[i] = pd.concat([sXs[i], new_sex], axis=1)\n",
    "        \n",
    "    ###### Calculate ks distances ######\n",
    "    pmse_ratios = [pmse_ratio(train_data, Y) for Y in sXs]\n",
    "    \n",
    "    return pmse_ratios, sXs"
   ]
  },
  {
   "cell_type": "code",
   "execution_count": 7,
   "id": "796d2f96",
   "metadata": {},
   "outputs": [],
   "source": [
    "def optimize_models(train_data,\n",
    "                    number_synthetic_datasets,\n",
    "                    number_gmm_initializations,\n",
    "                    random_state):\n",
    "\n",
    "    def evaluate_models(num_components_, mb_non_white_, mb_sex_):\n",
    "\n",
    "        pmse_ratios, _ = train_models(train_data=train_data,\n",
    "                                      number_synthetic_datasets=number_synthetic_datasets,\n",
    "                                      number_gmm_initializations=number_gmm_initializations,\n",
    "                                      num_components_=int(num_components_),\n",
    "                                      mb_non_white_=int(mb_non_white_),\n",
    "                                      mb_sex_=int(mb_sex_))\n",
    "\n",
    "        return -1 * ((1 - np.mean(pmse_ratios))**2)\n",
    "\n",
    "    optimizer = BayesianOptimization(\n",
    "        f=evaluate_models,\n",
    "        pbounds={\n",
    "            \"num_components_\": (10, 200.99),\n",
    "            \"mb_non_white_\": (10, 300.99),\n",
    "            \"mb_sex_\": (10, 300.99)\n",
    "        },\n",
    "        random_state=random_state)\n",
    "\n",
    "    utility = UtilityFunction(kind=\"ei\", xi=1e-02)\n",
    "    optimizer.maximize(init_points=5, n_iter=25, acquisition_function=utility)\n",
    "    print(\"Final Result: \", optimizer.max)\n",
    "    return optimizer.max, optimizer"
   ]
  },
  {
   "cell_type": "markdown",
   "id": "5594760a",
   "metadata": {},
   "source": [
    "The default value of $\\alpha = 1e-06$."
   ]
  },
  {
   "cell_type": "code",
   "execution_count": 9,
   "id": "15d5ded7",
   "metadata": {},
   "outputs": [],
   "source": [
    "nsd = 10\n",
    "ngi = 2\n",
    "random_states = [np.random.RandomState(1006), np.random.RandomState(428)]"
   ]
  },
  {
   "cell_type": "code",
   "execution_count": 10,
   "id": "fe01e70f",
   "metadata": {},
   "outputs": [
    {
     "name": "stdout",
     "output_type": "stream",
     "text": [
      "|   iter    |  target   | mb_non... |  mb_sex_  | num_co... |\n",
      "-------------------------------------------------------------\n",
      "| \u001b[30m1         | \u001b[30m-0.0133   | \u001b[30m226.2     | \u001b[30m75.89     | \u001b[30m132.7     |\n",
      "| \u001b[30m2         | \u001b[30m-0.5037   | \u001b[30m266.8     | \u001b[30m225.5     | \u001b[30m147.8     |\n",
      "| \u001b[30m3         | \u001b[30m-226.7    | \u001b[30m95.94     | \u001b[30m162.9     | \u001b[30m43.19     |\n",
      "| \u001b[30m4         | \u001b[30m-231.0    | \u001b[30m246.3     | \u001b[30m257.2     | \u001b[30m58.99     |\n",
      "| \u001b[30m5         | \u001b[30m-6.616    | \u001b[30m79.03     | \u001b[30m143.4     | \u001b[30m53.72     |\n",
      "| \u001b[30m6         | \u001b[30m-0.3243   | \u001b[30m266.6     | \u001b[30m225.9     | \u001b[30m148.5     |\n",
      "| \u001b[30m7         | \u001b[30m-15.39    | \u001b[30m69.79     | \u001b[30m132.7     | \u001b[30m59.48     |\n",
      "| \u001b[30m8         | \u001b[30m-0.01632  | \u001b[30m231.6     | \u001b[30m95.5      | \u001b[30m135.5     |\n",
      "| \u001b[30m9         | \u001b[30m-0.2636   | \u001b[30m241.0     | \u001b[30m80.16     | \u001b[30m149.9     |\n",
      "| \u001b[30m10        | \u001b[30m-0.08041  | \u001b[30m250.0     | \u001b[30m81.01     | \u001b[30m126.3     |\n",
      "| \u001b[35m11        | \u001b[35m-0.002826 | \u001b[35m261.1     | \u001b[35m102.9     | \u001b[35m143.8     |\n",
      "| \u001b[35m12        | \u001b[35m-0.000247 | \u001b[35m254.5     | \u001b[35m112.4     | \u001b[35m115.3     |\n",
      "| \u001b[30m13        | \u001b[30m-0.01886  | \u001b[30m230.2     | \u001b[30m93.44     | \u001b[30m100.7     |\n",
      "| \u001b[30m14        | \u001b[30m-0.8352   | \u001b[30m262.3     | \u001b[30m90.16     | \u001b[30m90.57     |\n",
      "| \u001b[30m15        | \u001b[30m-1.512    | \u001b[30m285.6     | \u001b[30m96.38     | \u001b[30m117.5     |\n",
      "| \u001b[30m16        | \u001b[30m-0.02785  | \u001b[30m238.4     | \u001b[30m59.04     | \u001b[30m94.17     |\n",
      "| \u001b[30m17        | \u001b[30m-0.000378 | \u001b[30m275.9     | \u001b[30m57.56     | \u001b[30m103.8     |\n",
      "| \u001b[30m18        | \u001b[30m-0.1159   | \u001b[30m249.1     | \u001b[30m39.94     | \u001b[30m126.3     |\n",
      "| \u001b[30m19        | \u001b[30m-0.003699 | \u001b[30m280.8     | \u001b[30m61.08     | \u001b[30m143.4     |\n",
      "| \u001b[30m20        | \u001b[30m-0.04023  | \u001b[30m286.0     | \u001b[30m25.9      | \u001b[30m126.7     |\n",
      "| \u001b[30m21        | \u001b[30m-1.099    | \u001b[30m262.1     | \u001b[30m21.28     | \u001b[30m94.67     |\n",
      "| \u001b[30m22        | \u001b[30m-0.07493  | \u001b[30m264.5     | \u001b[30m30.85     | \u001b[30m163.2     |\n",
      "| \u001b[30m23        | \u001b[30m-0.007362 | \u001b[30m268.5     | \u001b[30m67.65     | \u001b[30m182.0     |\n",
      "| \u001b[30m24        | \u001b[30m-0.001724 | \u001b[30m300.4     | \u001b[30m41.4      | \u001b[30m173.1     |\n",
      "| \u001b[30m25        | \u001b[30m-0.001244 | \u001b[30m301.0     | \u001b[30m86.9      | \u001b[30m168.0     |\n",
      "| \u001b[30m26        | \u001b[30m-0.005071 | \u001b[30m301.0     | \u001b[30m68.16     | \u001b[30m201.0     |\n",
      "| \u001b[30m27        | \u001b[30m-0.09716  | \u001b[30m276.2     | \u001b[30m106.9     | \u001b[30m192.3     |\n",
      "| \u001b[30m28        | \u001b[30m-0.3233   | \u001b[30m291.8     | \u001b[30m129.7     | \u001b[30m158.0     |\n",
      "| \u001b[30m29        | \u001b[30m-0.2831   | \u001b[30m252.0     | \u001b[30m136.4     | \u001b[30m168.6     |\n",
      "| \u001b[30m30        | \u001b[30m-0.1132   | \u001b[30m269.7     | \u001b[30m181.8     | \u001b[30m164.0     |\n",
      "=============================================================\n",
      "Final Result:  {'target': -0.000247158793207409, 'params': {'mb_non_white_': 254.45158451959364, 'mb_sex_': 112.3939802343799, 'num_components_': 115.30828599655548}}\n",
      "|   iter    |  target   | mb_non... |  mb_sex_  | num_co... |\n",
      "-------------------------------------------------------------\n",
      "| \u001b[30m1         | \u001b[30m-10.28    | \u001b[30m248.2     | \u001b[30m264.4     | \u001b[30m89.92     |\n",
      "| \u001b[30m2         | \u001b[30m-2.076e+0 | \u001b[30m139.6     | \u001b[30m47.41     | \u001b[30m30.04     |\n",
      "| \u001b[35m3         | \u001b[35m-8.667    | \u001b[35m198.0     | \u001b[35m290.0     | \u001b[35m65.53     |\n",
      "| \u001b[35m4         | \u001b[35m-3.246    | \u001b[35m29.42     | \u001b[35m153.3     | \u001b[35m86.85     |\n",
      "| \u001b[30m5         | \u001b[30m-432.5    | \u001b[30m73.42     | \u001b[30m252.8     | \u001b[30m44.79     |\n",
      "| \u001b[35m6         | \u001b[35m-0.9326   | \u001b[35m248.3     | \u001b[35m270.4     | \u001b[35m84.32     |\n",
      "| \u001b[30m7         | \u001b[30m-5.376    | \u001b[30m10.0      | \u001b[30m184.6     | \u001b[30m164.1     |\n",
      "| \u001b[35m8         | \u001b[35m-0.3568   | \u001b[35m208.3     | \u001b[35m301.0     | \u001b[35m188.5     |\n",
      "| \u001b[35m9         | \u001b[35m-0.3226   | \u001b[35m301.0     | \u001b[35m301.0     | \u001b[35m172.6     |\n",
      "| \u001b[30m10        | \u001b[30m-0.9971   | \u001b[30m248.3     | \u001b[30m269.5     | \u001b[30m85.16     |\n",
      "| \u001b[30m11        | \u001b[30m-1.164    | \u001b[30m223.4     | \u001b[30m301.0     | \u001b[30m121.3     |\n",
      "| \u001b[30m12        | \u001b[30m-5.57     | \u001b[30m10.0      | \u001b[30m167.7     | \u001b[30m107.0     |\n",
      "| \u001b[30m13        | \u001b[30m-1.584    | \u001b[30m78.5      | \u001b[30m301.0     | \u001b[30m201.0     |\n",
      "| \u001b[30m14        | \u001b[30m-0.6759   | \u001b[30m98.96     | \u001b[30m207.2     | \u001b[30m201.0     |\n",
      "| \u001b[30m15        | \u001b[30m-5.332    | \u001b[30m10.0      | \u001b[30m101.8     | \u001b[30m201.0     |\n",
      "| \u001b[30m16        | \u001b[30m-0.8292   | \u001b[30m42.65     | \u001b[30m160.2     | \u001b[30m201.0     |\n",
      "| \u001b[30m17        | \u001b[30m-0.4518   | \u001b[30m139.3     | \u001b[30m280.0     | \u001b[30m201.0     |\n",
      "| \u001b[30m18        | \u001b[30m-9.59     | \u001b[30m10.0      | \u001b[30m260.1     | \u001b[30m201.0     |\n",
      "| \u001b[35m19        | \u001b[35m-0.01136  | \u001b[35m301.0     | \u001b[35m222.1     | \u001b[35m201.0     |\n",
      "| \u001b[30m20        | \u001b[30m-6.782    | \u001b[30m10.0      | \u001b[30m123.8     | \u001b[30m129.5     |\n",
      "| \u001b[30m21        | \u001b[30m-0.6771   | \u001b[30m267.4     | \u001b[30m270.9     | \u001b[30m201.0     |\n",
      "| \u001b[30m22        | \u001b[30m-0.8373   | \u001b[30m57.75     | \u001b[30m232.8     | \u001b[30m201.0     |\n",
      "| \u001b[30m23        | \u001b[30m-6.258e+0 | \u001b[30m301.0     | \u001b[30m301.0     | \u001b[30m10.0      |\n",
      "| \u001b[35m24        | \u001b[35m-0.002432 | \u001b[35m301.0     | \u001b[35m93.02     | \u001b[35m201.0     |\n",
      "| \u001b[30m25        | \u001b[30m-0.007917 | \u001b[30m211.9     | \u001b[30m155.3     | \u001b[30m201.0     |\n",
      "| \u001b[30m26        | \u001b[30m-0.1113   | \u001b[30m301.0     | \u001b[30m10.0      | \u001b[30m201.0     |\n",
      "| \u001b[30m27        | \u001b[30m-0.0295   | \u001b[30m205.4     | \u001b[30m41.46     | \u001b[30m201.0     |\n",
      "| \u001b[30m28        | \u001b[30m-0.19     | \u001b[30m65.07     | \u001b[30m10.0      | \u001b[30m201.0     |\n",
      "| \u001b[30m29        | \u001b[30m-0.05823  | \u001b[30m116.6     | \u001b[30m95.16     | \u001b[30m201.0     |\n",
      "| \u001b[30m30        | \u001b[30m-13.17    | \u001b[30m10.0      | \u001b[30m301.0     | \u001b[30m123.8     |\n",
      "=============================================================\n",
      "Final Result:  {'target': -0.0024315125796619207, 'params': {'mb_non_white_': 300.99, 'mb_sex_': 93.01573374711963, 'num_components_': 200.99}}\n"
     ]
    }
   ],
   "source": [
    "optimization_results = [optimize_models(train_data=train, number_synthetic_datasets=nsd, number_gmm_initializations=ngi, random_state=r) for r in random_states]"
   ]
  },
  {
   "cell_type": "markdown",
   "id": "dab452a9",
   "metadata": {},
   "source": [
    "***"
   ]
  },
  {
   "cell_type": "code",
   "execution_count": 11,
   "id": "2c71552b",
   "metadata": {},
   "outputs": [],
   "source": [
    "run_targets = [np.minimum.accumulate(-i[1].space.target) for i in optimization_results]"
   ]
  },
  {
   "cell_type": "code",
   "execution_count": 16,
   "id": "bb2e246f",
   "metadata": {},
   "outputs": [
    {
     "data": {
      "image/png": "[encoded data removed]",
      "text/plain": [
       "<Figure size 640x480 with 1 Axes>"
      ]
     },
     "metadata": {},
     "output_type": "display_data"
    }
   ],
   "source": [
    "plt.plot(run_targets[0])\n",
    "plt.scatter(np.arange(len(run_targets[0])), run_targets[0], s=6)\n",
    "plt.plot(run_targets[1])\n",
    "plt.scatter(np.arange(len(run_targets[1])), run_targets[1], s=6)\n",
    "plt.title(\"Running Minimum Objective Value for CART Synthesis\")\n",
    "plt.xlabel(\"Iteration\")\n",
    "plt.ylabel(\"Minimum Objective Value\")\n",
    "plt.show()"
   ]
  },
  {
   "cell_type": "markdown",
   "id": "325348ce",
   "metadata": {},
   "source": [
    "Choose the params that gave the best objective value across all random seeds."
   ]
  },
  {
   "cell_type": "code",
   "execution_count": 17,
   "id": "69f179aa",
   "metadata": {},
   "outputs": [],
   "source": [
    "best_params = optimization_results[np.argmax([x[0]['target'] for x in optimization_results])][0]"
   ]
  },
  {
   "cell_type": "code",
   "execution_count": 18,
   "id": "112b4969",
   "metadata": {},
   "outputs": [
    {
     "data": {
      "text/plain": [
       "{'target': -0.000247158793207409,\n",
       " 'params': {'mb_non_white_': 254.45158451959364,\n",
       "  'mb_sex_': 112.3939802343799,\n",
       "  'num_components_': 115.30828599655548}}"
      ]
     },
     "execution_count": 18,
     "metadata": {},
     "output_type": "execute_result"
    }
   ],
   "source": [
    "best_params"
   ]
  },
  {
   "cell_type": "markdown",
   "id": "8c940983",
   "metadata": {},
   "source": [
    "***"
   ]
  },
  {
   "cell_type": "markdown",
   "id": "c8e1ea09",
   "metadata": {},
   "source": [
    "Generate 20 synthetic datasets."
   ]
  },
  {
   "cell_type": "code",
   "execution_count": 20,
   "id": "9ed0391f",
   "metadata": {},
   "outputs": [],
   "source": [
    "pmse_ratios, full_sXs = train_models(train_data=train,\n",
    "                                     number_synthetic_datasets=20,\n",
    "                                     # hyperparameters for GMM\n",
    "                                     number_gmm_initializations=ngi,\n",
    "                                     num_components_=int(best_params['params']['num_components_']),\n",
    "                                     # hyperparameters for CART, end with underscore means Bayesian optimization will choose\n",
    "                                     mb_sex_=int(best_params['params']['mb_sex_']),\n",
    "                                     mb_non_white_=int(best_params['params']['mb_non_white_']))"
   ]
  },
  {
   "cell_type": "code",
   "execution_count": 21,
   "id": "295e7588",
   "metadata": {},
   "outputs": [
    {
     "data": {
      "text/plain": [
       "1.079838446461552"
      ]
     },
     "execution_count": 21,
     "metadata": {},
     "output_type": "execute_result"
    }
   ],
   "source": [
    "np.mean(pmse_ratios)"
   ]
  },
  {
   "cell_type": "code",
   "execution_count": 22,
   "id": "a3d6a0f6",
   "metadata": {},
   "outputs": [
    {
     "data": {
      "image/png": "[encoded data removed]",
      "text/plain": [
       "<Figure size 640x480 with 1 Axes>"
      ]
     },
     "metadata": {},
     "output_type": "display_data"
    }
   ],
   "source": [
    "plt.violinplot(pmse_ratios)\n",
    "plt.xlabel(\"Density\")\n",
    "plt.ylabel(\"pMSE Ratio\")\n",
    "plt.title(\"Distribution of pMSE Ratios\")\n",
    "plt.show()"
   ]
  },
  {
   "cell_type": "markdown",
   "id": "af137729",
   "metadata": {},
   "source": [
    "***"
   ]
  },
  {
   "cell_type": "markdown",
   "id": "c7c4b464",
   "metadata": {},
   "source": [
    "# Save the synthetic datasets."
   ]
  },
  {
   "cell_type": "code",
   "execution_count": 23,
   "id": "5696e166",
   "metadata": {},
   "outputs": [],
   "source": [
    "for i, sX in enumerate(full_sXs):\n",
    "    sX.to_csv(\"../Data/IPUMS/Synthetic Datasets/gmm_and_cart_\" + str(i) + \".csv\", index=False)"
   ]
  },
  {
   "cell_type": "markdown",
   "id": "c40ffaea",
   "metadata": {},
   "source": [
    "***"
   ]
  }
 ],
 "metadata": {
  "kernelspec": {
   "display_name": "Python 3 (ipykernel)",
   "language": "python",
   "name": "python3"
  },
  "language_info": {
   "codemirror_mode": {
    "name": "ipython",
    "version": 3
   },
   "file_extension": ".py",
   "mimetype": "text/x-python",
   "name": "python",
   "nbconvert_exporter": "python",
   "pygments_lexer": "ipython3",
   "version": "3.11.7"
  }
 },
 "nbformat": 4,
 "nbformat_minor": 5
}
