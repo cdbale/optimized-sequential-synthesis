{
 "cells": [
  {
   "cell_type": "code",
   "execution_count": 1,
   "id": "6a9fe08f",
   "metadata": {},
   "outputs": [],
   "source": [
    "import pandas as pd\n",
    "import numpy as np\n",
    "import seaborn as sns\n",
    "\n",
    "import matplotlib.pyplot as plt\n",
    "\n",
    "from helper_functions import *"
   ]
  },
  {
   "cell_type": "code",
   "execution_count": 2,
   "id": "74051225",
   "metadata": {},
   "outputs": [],
   "source": [
    "train = pd.read_csv(\"../Data/SK/cleaned_sk_data.csv\")"
   ]
  },
  {
   "cell_type": "markdown",
   "id": "1d2762e9",
   "metadata": {},
   "source": [
    "Pick an arbitrary $\\delta$ value."
   ]
  },
  {
   "cell_type": "code",
   "execution_count": 3,
   "id": "ab018872",
   "metadata": {},
   "outputs": [],
   "source": [
    "delta = 0.001"
   ]
  },
  {
   "cell_type": "markdown",
   "id": "ae755216",
   "metadata": {},
   "source": [
    "Function to calculate the privacy metrics given training and synthetic data, for a given delta value."
   ]
  },
  {
   "cell_type": "code",
   "execution_count": 4,
   "id": "68a9d566",
   "metadata": {},
   "outputs": [],
   "source": [
    "sXs_mnl = [pd.read_csv(\"../Data/SK/Synthetic Datasets/gmm_and_mnl_\" + str(i) + \".csv\") for i in range(20)]\n",
    "ad_sXs_mnl = [pd.read_csv(\"../Data/SK/Synthetic Datasets/ad_gmm_and_mnl_\" + str(i) + \".csv\") for i in range(20)]\n",
    "sXs_cart = [pd.read_csv(\"../Data/SK/Synthetic Datasets/gmm_and_cart_\" + str(i) + \".csv\") for i in range(20)]\n",
    "ad_sXs_cart = [pd.read_csv(\"../Data/SK/Synthetic Datasets/ad_gmm_and_cart_\" + str(i) + \".csv\") for i in range(20)]\n",
    "sXs_mostly = [pd.read_csv(\"../Data/SK/Synthetic Datasets/mostly_\" + str(i) + \".csv\") for i in range(20)]"
   ]
  },
  {
   "cell_type": "code",
   "execution_count": 5,
   "id": "d1f9392c-e6b9-4450-9fd2-b79a912a6756",
   "metadata": {},
   "outputs": [
    {
     "name": "stderr",
     "output_type": "stream",
     "text": [
      "C:\\Users\\Cameron\\Box\\Research Projects\\optimized-sequential-synthesis\\Code\\helper_functions.py:122: RuntimeWarning: invalid value encountered in divide\n",
      "  ratios_train = train_dists[:,1]/train_dists[:,-1]\n"
     ]
    }
   ],
   "source": [
    "pms_mnl = privacy_metrics(train_data=train, synthetic_datasets=sXs_mnl, type_of_synthetic=\"MNL\", delta=delta)"
   ]
  },
  {
   "cell_type": "code",
   "execution_count": 6,
   "id": "3efd9b0a-908e-4fa3-8b6c-0ad1b24861b3",
   "metadata": {},
   "outputs": [
    {
     "name": "stderr",
     "output_type": "stream",
     "text": [
      "C:\\Users\\Cameron\\Box\\Research Projects\\optimized-sequential-synthesis\\Code\\helper_functions.py:122: RuntimeWarning: invalid value encountered in divide\n",
      "  ratios_train = train_dists[:,1]/train_dists[:,-1]\n"
     ]
    }
   ],
   "source": [
    "pms_ad_mnl = privacy_metrics(train_data=train, synthetic_datasets=ad_sXs_mnl, type_of_synthetic=\"AD-MNL\", delta=delta)"
   ]
  },
  {
   "cell_type": "code",
   "execution_count": 7,
   "id": "7de25690-4234-4bd5-8319-76f47247c58d",
   "metadata": {},
   "outputs": [
    {
     "name": "stderr",
     "output_type": "stream",
     "text": [
      "C:\\Users\\Cameron\\Box\\Research Projects\\optimized-sequential-synthesis\\Code\\helper_functions.py:122: RuntimeWarning: invalid value encountered in divide\n",
      "  ratios_train = train_dists[:,1]/train_dists[:,-1]\n"
     ]
    }
   ],
   "source": [
    "pms_cart = privacy_metrics(train_data=train, synthetic_datasets=sXs_cart, type_of_synthetic=\"CART\", delta=delta)"
   ]
  },
  {
   "cell_type": "code",
   "execution_count": 8,
   "id": "70a03fd4-5625-4b68-889f-9019a694b6f6",
   "metadata": {},
   "outputs": [
    {
     "name": "stderr",
     "output_type": "stream",
     "text": [
      "C:\\Users\\Cameron\\Box\\Research Projects\\optimized-sequential-synthesis\\Code\\helper_functions.py:122: RuntimeWarning: invalid value encountered in divide\n",
      "  ratios_train = train_dists[:,1]/train_dists[:,-1]\n"
     ]
    }
   ],
   "source": [
    "pms_ad_cart = privacy_metrics(train_data=train, synthetic_datasets=ad_sXs_cart, type_of_synthetic=\"AD-CART\", delta=delta)"
   ]
  },
  {
   "cell_type": "code",
   "execution_count": 9,
   "id": "9445d654-8972-46b0-b3de-c4f8bb7ffd51",
   "metadata": {},
   "outputs": [
    {
     "name": "stderr",
     "output_type": "stream",
     "text": [
      "C:\\Users\\Cameron\\Box\\Research Projects\\optimized-sequential-synthesis\\Code\\helper_functions.py:122: RuntimeWarning: invalid value encountered in divide\n",
      "  ratios_train = train_dists[:,1]/train_dists[:,-1]\n"
     ]
    }
   ],
   "source": [
    "pms_mostly = privacy_metrics(train_data=train, synthetic_datasets=sXs_mostly, type_of_synthetic=\"MOSTLY.AI\", delta=delta)"
   ]
  },
  {
   "cell_type": "code",
   "execution_count": 10,
   "id": "1cf6eb53-086f-4957-b818-a02f9de5dc32",
   "metadata": {},
   "outputs": [],
   "source": [
    "privacy_results = pd.concat([pms_mnl, pms_ad_mnl.iloc[1:,:], pms_cart.iloc[1:,:], pms_ad_cart.iloc[1:,:], pms_mostly.iloc[1:,:]]).reset_index(drop=True)"
   ]
  },
  {
   "cell_type": "code",
   "execution_count": 11,
   "id": "f78c28cb-cc1a-44f7-95a5-57a554ae207d",
   "metadata": {},
   "outputs": [],
   "source": [
    "privacy_results = privacy_results.melt(id_vars=[\"Type\"], value_vars=[\"IMS\", \"DCR\", \"NNDR\"], var_name=\"Metric\") "
   ]
  },
  {
   "cell_type": "code",
   "execution_count": 12,
   "id": "444a989c-e2ea-4077-8b0e-2943324b34fd",
   "metadata": {},
   "outputs": [
    {
     "data": {
      "text/html": [
       "<div>\n",
       "<style scoped>\n",
       "    .dataframe tbody tr th:only-of-type {\n",
       "        vertical-align: middle;\n",
       "    }\n",
       "\n",
       "    .dataframe tbody tr th {\n",
       "        vertical-align: top;\n",
       "    }\n",
       "\n",
       "    .dataframe thead th {\n",
       "        text-align: right;\n",
       "    }\n",
       "</style>\n",
       "<table border=\"1\" class=\"dataframe\">\n",
       "  <thead>\n",
       "    <tr style=\"text-align: right;\">\n",
       "      <th></th>\n",
       "      <th>Type</th>\n",
       "      <th>Metric</th>\n",
       "      <th>value</th>\n",
       "    </tr>\n",
       "  </thead>\n",
       "  <tbody>\n",
       "    <tr>\n",
       "      <th>0</th>\n",
       "      <td>Train</td>\n",
       "      <td>IMS</td>\n",
       "      <td>0.653010</td>\n",
       "    </tr>\n",
       "    <tr>\n",
       "      <th>1</th>\n",
       "      <td>MNL</td>\n",
       "      <td>IMS</td>\n",
       "      <td>0.025626</td>\n",
       "    </tr>\n",
       "    <tr>\n",
       "      <th>2</th>\n",
       "      <td>MNL</td>\n",
       "      <td>IMS</td>\n",
       "      <td>0.024434</td>\n",
       "    </tr>\n",
       "    <tr>\n",
       "      <th>3</th>\n",
       "      <td>MNL</td>\n",
       "      <td>IMS</td>\n",
       "      <td>0.023242</td>\n",
       "    </tr>\n",
       "    <tr>\n",
       "      <th>4</th>\n",
       "      <td>MNL</td>\n",
       "      <td>IMS</td>\n",
       "      <td>0.023987</td>\n",
       "    </tr>\n",
       "    <tr>\n",
       "      <th>...</th>\n",
       "      <td>...</td>\n",
       "      <td>...</td>\n",
       "      <td>...</td>\n",
       "    </tr>\n",
       "    <tr>\n",
       "      <th>298</th>\n",
       "      <td>MOSTLY.AI</td>\n",
       "      <td>NNDR</td>\n",
       "      <td>0.075465</td>\n",
       "    </tr>\n",
       "    <tr>\n",
       "      <th>299</th>\n",
       "      <td>MOSTLY.AI</td>\n",
       "      <td>NNDR</td>\n",
       "      <td>0.072346</td>\n",
       "    </tr>\n",
       "    <tr>\n",
       "      <th>300</th>\n",
       "      <td>MOSTLY.AI</td>\n",
       "      <td>NNDR</td>\n",
       "      <td>0.080895</td>\n",
       "    </tr>\n",
       "    <tr>\n",
       "      <th>301</th>\n",
       "      <td>MOSTLY.AI</td>\n",
       "      <td>NNDR</td>\n",
       "      <td>0.074729</td>\n",
       "    </tr>\n",
       "    <tr>\n",
       "      <th>302</th>\n",
       "      <td>MOSTLY.AI</td>\n",
       "      <td>NNDR</td>\n",
       "      <td>0.079456</td>\n",
       "    </tr>\n",
       "  </tbody>\n",
       "</table>\n",
       "<p>303 rows × 3 columns</p>\n",
       "</div>"
      ],
      "text/plain": [
       "          Type Metric     value\n",
       "0        Train    IMS  0.653010\n",
       "1          MNL    IMS  0.025626\n",
       "2          MNL    IMS  0.024434\n",
       "3          MNL    IMS  0.023242\n",
       "4          MNL    IMS  0.023987\n",
       "..         ...    ...       ...\n",
       "298  MOSTLY.AI   NNDR  0.075465\n",
       "299  MOSTLY.AI   NNDR  0.072346\n",
       "300  MOSTLY.AI   NNDR  0.080895\n",
       "301  MOSTLY.AI   NNDR  0.074729\n",
       "302  MOSTLY.AI   NNDR  0.079456\n",
       "\n",
       "[303 rows x 3 columns]"
      ]
     },
     "execution_count": 12,
     "metadata": {},
     "output_type": "execute_result"
    }
   ],
   "source": [
    "privacy_results"
   ]
  },
  {
   "cell_type": "code",
   "execution_count": 13,
   "id": "3ec1ba59-d792-4aae-a0e2-0b687e8415e2",
   "metadata": {},
   "outputs": [],
   "source": [
    "privacy_results.to_csv(\"../Results/SK/privacy_metrics.csv\", index=False)"
   ]
  },
  {
   "cell_type": "markdown",
   "id": "814aa4e3",
   "metadata": {},
   "source": [
    "***"
   ]
  },
  {
   "cell_type": "markdown",
   "id": "7efa7593",
   "metadata": {},
   "source": [
    "Examine how IMS diff changes with $\\delta$"
   ]
  },
  {
   "cell_type": "code",
   "execution_count": 14,
   "id": "14eb0fb1",
   "metadata": {},
   "outputs": [],
   "source": [
    "delta_vals = np.linspace(0.00001, 0.8, 40)"
   ]
  },
  {
   "cell_type": "code",
   "execution_count": 15,
   "id": "ffc1a529",
   "metadata": {},
   "outputs": [],
   "source": [
    "train_ims = ims_apply(train, [train], delta_vals, synthetic_is_train=True)\n",
    "avg_mnl_ims = ims_apply(train, sXs_mnl, delta_vals)\n",
    "avg_ad_mnl_ims = ims_apply(train, ad_sXs_mnl, delta_vals)\n",
    "avg_cart_ims = ims_apply(train, sXs_cart, delta_vals)\n",
    "avg_ad_cart_ims = ims_apply(train, ad_sXs_cart, delta_vals)\n",
    "avg_mostly_ims = ims_apply(train, sXs_mostly, delta_vals)"
   ]
  },
  {
   "cell_type": "markdown",
   "id": "65e417dc-7ddf-476b-87e8-5d77324e8c55",
   "metadata": {},
   "source": [
    "Do any of the synthesis methods produce (on average) a higher IMS than the training data at any $\\delta$ value?"
   ]
  },
  {
   "cell_type": "code",
   "execution_count": 16,
   "id": "9362c57e-6b49-4db6-9fac-d70dd5bcc423",
   "metadata": {},
   "outputs": [
    {
     "data": {
      "text/plain": [
       "0"
      ]
     },
     "execution_count": 16,
     "metadata": {},
     "output_type": "execute_result"
    }
   ],
   "source": [
    "np.sum(avg_mnl_ims > train_ims)"
   ]
  },
  {
   "cell_type": "code",
   "execution_count": 17,
   "id": "02977975-b590-4a52-8459-3e6eae6669d2",
   "metadata": {},
   "outputs": [
    {
     "data": {
      "text/plain": [
       "0"
      ]
     },
     "execution_count": 17,
     "metadata": {},
     "output_type": "execute_result"
    }
   ],
   "source": [
    "np.sum(avg_ad_mnl_ims > train_ims)"
   ]
  },
  {
   "cell_type": "code",
   "execution_count": 18,
   "id": "e779fe92-9105-43ef-abb9-6a123092bb74",
   "metadata": {},
   "outputs": [
    {
     "data": {
      "text/plain": [
       "0"
      ]
     },
     "execution_count": 18,
     "metadata": {},
     "output_type": "execute_result"
    }
   ],
   "source": [
    "np.sum(avg_cart_ims > train_ims)"
   ]
  },
  {
   "cell_type": "code",
   "execution_count": 19,
   "id": "e51b673d-750f-4490-bd1c-97226cdd3267",
   "metadata": {},
   "outputs": [
    {
     "data": {
      "text/plain": [
       "0"
      ]
     },
     "execution_count": 19,
     "metadata": {},
     "output_type": "execute_result"
    }
   ],
   "source": [
    "np.sum(avg_ad_cart_ims > train_ims)"
   ]
  },
  {
   "cell_type": "code",
   "execution_count": 20,
   "id": "bed2f9b6-dc0c-4648-8db0-26d282317c7f",
   "metadata": {},
   "outputs": [
    {
     "data": {
      "text/plain": [
       "0"
      ]
     },
     "execution_count": 20,
     "metadata": {},
     "output_type": "execute_result"
    }
   ],
   "source": [
    "np.sum(avg_mostly_ims > train_ims)"
   ]
  },
  {
   "cell_type": "markdown",
   "id": "9fe17e31-2bea-45ef-8d09-3d7ca8aac0b7",
   "metadata": {},
   "source": [
    "Save data for plotting in R."
   ]
  },
  {
   "cell_type": "code",
   "execution_count": 21,
   "id": "b3236968-68f2-410d-9383-2ab5b287da53",
   "metadata": {},
   "outputs": [],
   "source": [
    "ims_results = pd.DataFrame({'Delta': delta_vals,\n",
    "                            'Original': train_ims[0],\n",
    "                            'MNL': avg_mnl_ims,\n",
    "                            'AD-MNL': avg_ad_mnl_ims,\n",
    "                            'CART': avg_cart_ims,\n",
    "                            'AD-CART': avg_ad_cart_ims,\n",
    "                            'MOSTLY.AI': avg_mostly_ims})\n",
    "\n",
    "ims_results = ims_results.melt(id_vars=[\"Delta\"], value_vars=[\"Original\", \"MNL\", \"AD-MNL\", \"CART\", \"AD-CART\", \"MOSTLY.AI\"], var_name=\"Type\")\n",
    "ims_results.to_csv(\"../Results/SK/ims_metrics.csv\", index=False)"
   ]
  },
  {
   "cell_type": "code",
   "execution_count": 22,
   "id": "2105c975",
   "metadata": {},
   "outputs": [
    {
     "data": {
      "image/png": "[encoded data removed]",
      "text/plain": [
       "<Figure size 640x480 with 1 Axes>"
      ]
     },
     "metadata": {},
     "output_type": "display_data"
    }
   ],
   "source": [
    "plt.plot(delta_vals, train_ims[0])\n",
    "plt.scatter(delta_vals, train_ims, s=6, label=\"Original\")\n",
    "\n",
    "plt.plot(delta_vals, avg_mnl_ims)\n",
    "plt.scatter(delta_vals, avg_mnl_ims, s=6, label=\"MNL\")\n",
    "\n",
    "plt.plot(delta_vals, avg_ad_mnl_ims)\n",
    "plt.scatter(delta_vals, avg_ad_mnl_ims, s=6, label=\"AD-MNL\")\n",
    "\n",
    "plt.plot(delta_vals, avg_cart_ims)\n",
    "plt.scatter(delta_vals, avg_cart_ims, s=6, label=\"CART\")\n",
    "\n",
    "plt.plot(delta_vals, avg_ad_cart_ims)\n",
    "plt.scatter(delta_vals, avg_ad_cart_ims, s=6, label=\"AD-CART\")\n",
    "\n",
    "plt.plot(delta_vals, avg_mostly_ims)\n",
    "plt.scatter(delta_vals, avg_mostly_ims, s=6, label=\"MOSTLY.AI\")\n",
    "\n",
    "plt.title(\"Average IMS Across Data Sets\")\n",
    "plt.xlabel(\"Delta\")\n",
    "plt.ylabel(\"IMS\")\n",
    "\n",
    "plt.legend()\n",
    "plt.show()"
   ]
  },
  {
   "cell_type": "markdown",
   "id": "00cd2ca8",
   "metadata": {},
   "source": [
    "***"
   ]
  },
  {
   "cell_type": "markdown",
   "id": "95552e64-7b0f-4bb1-9fee-39bd04828d29",
   "metadata": {},
   "source": [
    "Assess risk of attribute disclosure for `state`."
   ]
  },
  {
   "cell_type": "markdown",
   "id": "f9fb50fe-0556-4deb-aba6-e37071a58f52",
   "metadata": {},
   "source": [
    "Let's start with the adversary's prior. As of March 23, 2020, their were 9583 confirmed COVID-19 cases and 152 deaths. \n",
    "\n",
    "https://covid19.who.int/region/wpro/country/kr\n",
    "\n",
    "These statistics could be collected from the World Health Organization, and would represent a much more informative prior than a naive uniform prior. Furthermore, evaluating the naive prior would create problems when trying to prevent inference on individuals who did not pass away from COVID."
   ]
  },
  {
   "cell_type": "code",
   "execution_count": 23,
   "id": "1ebb07d7-4579-4324-94ef-5a372ecacd4b",
   "metadata": {},
   "outputs": [],
   "source": [
    "prior_death_prob = 152/9583"
   ]
  },
  {
   "cell_type": "markdown",
   "id": "d8d0a149-82ae-4fce-9f9e-9cb26505879a",
   "metadata": {},
   "source": [
    "Create new set of deltas for attribute disclosure evaluation."
   ]
  },
  {
   "cell_type": "code",
   "execution_count": 24,
   "id": "1004e6e3-b95e-4b0d-8d37-3e49ba4a10e0",
   "metadata": {},
   "outputs": [],
   "source": [
    "deltas = np.linspace(0.001, 1, 5)"
   ]
  },
  {
   "cell_type": "markdown",
   "id": "05e85eef-ee31-4120-97e3-09ab6a058d4b",
   "metadata": {},
   "source": [
    "Attribute disclosure assessment for MNL synthesized data."
   ]
  },
  {
   "cell_type": "code",
   "execution_count": 25,
   "id": "3b34f883-d323-417e-823f-482d19cab155",
   "metadata": {},
   "outputs": [
    {
     "name": "stdout",
     "output_type": "stream",
     "text": [
      "Dataset completed.\n",
      "Dataset completed.\n",
      "Dataset completed.\n",
      "Dataset completed.\n",
      "Dataset completed.\n",
      "Dataset completed.\n",
      "Dataset completed.\n",
      "Dataset completed.\n",
      "Dataset completed.\n",
      "Dataset completed.\n",
      "Dataset completed.\n",
      "Dataset completed.\n",
      "Dataset completed.\n",
      "Dataset completed.\n",
      "Dataset completed.\n",
      "Dataset completed.\n",
      "Dataset completed.\n",
      "Dataset completed.\n",
      "Dataset completed.\n",
      "Dataset completed.\n"
     ]
    }
   ],
   "source": [
    "ad_results_mnl = [attribute_disclosure_evaluation(original_data=train,\n",
    "                                                  synthetic_data=Z,\n",
    "                                                  continuous_vars=['latitude', 'longitude'],\n",
    "                                                  categorical_vars=['sex', 'age'],\n",
    "                                                  sensitive_var='state',\n",
    "                                                  prior_prob=prior_death_prob,\n",
    "                                                  deltas=deltas) for Z in sXs_mnl]"
   ]
  },
  {
   "cell_type": "code",
   "execution_count": 26,
   "id": "fbb4fea9-81a9-4ce6-ac0e-cc6250135bf9",
   "metadata": {},
   "outputs": [],
   "source": [
    "ad_results_mnl = [pd.concat(x, axis=1) for x in ad_results_mnl]\n",
    "\n",
    "for i in range(20):\n",
    "    ad_results_mnl[i].to_csv(\"../Results/SK/ad_metrics_mnl_\" + str(i) + \".csv\", index=False)\n",
    "    \n",
    "ad_results_mnl = [pd.read_csv(\"../Results/SK/ad_metrics_mnl_\" + str(i) + \".csv\") for i in range(20)]"
   ]
  },
  {
   "cell_type": "markdown",
   "id": "a81c2efe-9e13-447f-956d-a55f540a5cfd",
   "metadata": {},
   "source": [
    "Attribute disclosure assessment for AD protected MNL synthesized data."
   ]
  },
  {
   "cell_type": "code",
   "execution_count": 27,
   "id": "0d037a83-d5e4-4229-a19d-03a43d5e8cf8",
   "metadata": {},
   "outputs": [
    {
     "name": "stdout",
     "output_type": "stream",
     "text": [
      "Dataset completed.\n",
      "Dataset completed.\n",
      "Dataset completed.\n",
      "Dataset completed.\n",
      "Dataset completed.\n",
      "Dataset completed.\n",
      "Dataset completed.\n",
      "Dataset completed.\n",
      "Dataset completed.\n",
      "Dataset completed.\n",
      "Dataset completed.\n",
      "Dataset completed.\n",
      "Dataset completed.\n",
      "Dataset completed.\n",
      "Dataset completed.\n",
      "Dataset completed.\n",
      "Dataset completed.\n",
      "Dataset completed.\n",
      "Dataset completed.\n",
      "Dataset completed.\n"
     ]
    }
   ],
   "source": [
    "ad_results_ad_mnl = [attribute_disclosure_evaluation(original_data=train,\n",
    "                                                     synthetic_data=Z,\n",
    "                                                     continuous_vars=['latitude', 'longitude'],\n",
    "                                                     categorical_vars=['sex', 'age'],\n",
    "                                                     sensitive_var='state',\n",
    "                                                     prior_prob=prior_death_prob,\n",
    "                                                     deltas=deltas) for Z in ad_sXs_mnl]"
   ]
  },
  {
   "cell_type": "code",
   "execution_count": 28,
   "id": "fbd3634e-8424-4408-bebd-a29b17af4002",
   "metadata": {},
   "outputs": [],
   "source": [
    "ad_results_ad_mnl = [pd.concat(x, axis=1) for x in ad_results_ad_mnl]\n",
    "\n",
    "for i in range(20):\n",
    "    ad_results_ad_mnl[i].to_csv(\"../Results/SK/ad_metrics_ad_mnl_\" + str(i) + \".csv\", index=False)\n",
    "    \n",
    "ad_results_ad_mnl = [pd.read_csv(\"../Results/SK/ad_metrics_ad_mnl_\" + str(i) + \".csv\") for i in range(20)]"
   ]
  },
  {
   "cell_type": "markdown",
   "id": "f4a9c56f-ddf2-4d72-9b12-c2000a2d5edd",
   "metadata": {},
   "source": [
    "Attribute disclosure assessment for CART synthesized data."
   ]
  },
  {
   "cell_type": "code",
   "execution_count": 29,
   "id": "9d73d685-698a-4d70-966d-4eca079d3d6a",
   "metadata": {},
   "outputs": [
    {
     "name": "stdout",
     "output_type": "stream",
     "text": [
      "Dataset completed.\n",
      "Dataset completed.\n",
      "Dataset completed.\n",
      "Dataset completed.\n",
      "Dataset completed.\n",
      "Dataset completed.\n",
      "Dataset completed.\n",
      "Dataset completed.\n",
      "Dataset completed.\n",
      "Dataset completed.\n",
      "Dataset completed.\n",
      "Dataset completed.\n",
      "Dataset completed.\n",
      "Dataset completed.\n",
      "Dataset completed.\n",
      "Dataset completed.\n",
      "Dataset completed.\n",
      "Dataset completed.\n",
      "Dataset completed.\n",
      "Dataset completed.\n"
     ]
    }
   ],
   "source": [
    "ad_results_cart = [attribute_disclosure_evaluation(original_data=train,\n",
    "                                                   synthetic_data=Z,\n",
    "                                                   continuous_vars=['latitude', 'longitude'],\n",
    "                                                   categorical_vars=['sex', 'age'],\n",
    "                                                   sensitive_var='state',\n",
    "                                                   prior_prob=prior_death_prob,\n",
    "                                                   deltas=deltas) for Z in sXs_cart]"
   ]
  },
  {
   "cell_type": "code",
   "execution_count": 30,
   "id": "dcd2ceed-c47c-4576-92e9-b43200642b9f",
   "metadata": {},
   "outputs": [],
   "source": [
    "ad_results_cart = [pd.concat(x, axis=1) for x in ad_results_cart]\n",
    "\n",
    "for i in range(20):\n",
    "    ad_results_cart[i].to_csv(\"../Results/SK/ad_metrics_cart_\" + str(i) + \".csv\", index=False)\n",
    "    \n",
    "ad_results_cart = [pd.read_csv(\"../Results/SK/ad_metrics_cart_\" + str(i) + \".csv\") for i in range(20)]"
   ]
  },
  {
   "cell_type": "markdown",
   "id": "5a6d6c4c-5a96-45f4-822c-e9c2e63ced9a",
   "metadata": {},
   "source": [
    "Attribute disclosure assessment for AD protected CART synthesized data."
   ]
  },
  {
   "cell_type": "code",
   "execution_count": 31,
   "id": "11ff38ae-c491-4a88-875d-fdd930513f1d",
   "metadata": {},
   "outputs": [
    {
     "name": "stdout",
     "output_type": "stream",
     "text": [
      "Dataset completed.\n",
      "Dataset completed.\n",
      "Dataset completed.\n",
      "Dataset completed.\n",
      "Dataset completed.\n",
      "Dataset completed.\n",
      "Dataset completed.\n",
      "Dataset completed.\n",
      "Dataset completed.\n",
      "Dataset completed.\n",
      "Dataset completed.\n",
      "Dataset completed.\n",
      "Dataset completed.\n",
      "Dataset completed.\n",
      "Dataset completed.\n",
      "Dataset completed.\n",
      "Dataset completed.\n",
      "Dataset completed.\n",
      "Dataset completed.\n",
      "Dataset completed.\n"
     ]
    }
   ],
   "source": [
    "ad_results_ad_cart = [attribute_disclosure_evaluation(original_data=train,\n",
    "                                                      synthetic_data=Z,\n",
    "                                                      continuous_vars=['latitude', 'longitude'],\n",
    "                                                      categorical_vars=['sex', 'age'],\n",
    "                                                      sensitive_var='state',\n",
    "                                                      prior_prob=prior_death_prob,\n",
    "                                                      deltas=deltas) for Z in ad_sXs_cart]"
   ]
  },
  {
   "cell_type": "code",
   "execution_count": 32,
   "id": "fe6aade1-570f-4cf2-914b-b8981c1aa175",
   "metadata": {},
   "outputs": [],
   "source": [
    "ad_results_ad_cart = [pd.concat(x, axis=1) for x in ad_results_ad_cart]\n",
    "\n",
    "for i in range(20):\n",
    "    ad_results_ad_cart[i].to_csv(\"../Results/SK/ad_metrics_ad_cart_\" + str(i) + \".csv\", index=False)\n",
    "    \n",
    "ad_results_ad_cart = [pd.read_csv(\"../Results/SK/ad_metrics_ad_cart_\" + str(i) + \".csv\") for i in range(20)]"
   ]
  },
  {
   "cell_type": "markdown",
   "id": "150a45d8-2c4c-48ab-b66a-3d56c5a26f15",
   "metadata": {},
   "source": [
    "Attribute disclosure assessment for MOSTLY.AI synthesized data."
   ]
  },
  {
   "cell_type": "code",
   "execution_count": 33,
   "id": "2303d6e8-d4b3-4ad1-af9a-c2d6d9f19f6b",
   "metadata": {},
   "outputs": [
    {
     "name": "stdout",
     "output_type": "stream",
     "text": [
      "Dataset completed.\n",
      "Dataset completed.\n",
      "Dataset completed.\n",
      "Dataset completed.\n",
      "Dataset completed.\n",
      "Dataset completed.\n",
      "Dataset completed.\n",
      "Dataset completed.\n",
      "Dataset completed.\n",
      "Dataset completed.\n",
      "Dataset completed.\n",
      "Dataset completed.\n",
      "Dataset completed.\n",
      "Dataset completed.\n",
      "Dataset completed.\n",
      "Dataset completed.\n",
      "Dataset completed.\n",
      "Dataset completed.\n",
      "Dataset completed.\n",
      "Dataset completed.\n"
     ]
    }
   ],
   "source": [
    "ad_results_mostly = [attribute_disclosure_evaluation(original_data=train,\n",
    "                                                     synthetic_data=Z,\n",
    "                                                     continuous_vars=['latitude', 'longitude'],\n",
    "                                                     categorical_vars=['sex', 'age'],\n",
    "                                                     sensitive_var='state',\n",
    "                                                     prior_prob=prior_death_prob,\n",
    "                                                     deltas=deltas) for Z in sXs_mostly]"
   ]
  },
  {
   "cell_type": "code",
   "execution_count": 34,
   "id": "9044f07b-c038-4ba3-9ee2-ad68a12e60f6",
   "metadata": {},
   "outputs": [],
   "source": [
    "ad_results_mostly = [pd.concat(x, axis=1) for x in ad_results_mostly]\n",
    "\n",
    "for i in range(20):\n",
    "    ad_results_mostly[i].to_csv(\"../Results/SK/ad_metrics_mostly_\" + str(i) + \".csv\", index=False)\n",
    "    \n",
    "ad_results_mostly = [pd.read_csv(\"../Results/SK/ad_metrics_mostly_\" + str(i) + \".csv\") for i in range(20)]"
   ]
  },
  {
   "cell_type": "markdown",
   "id": "5c8804c0-135e-4a2c-ad9c-4d61f494b4fa",
   "metadata": {},
   "source": [
    "Calculate the maximum increase in inference in each data set for each delta value."
   ]
  },
  {
   "cell_type": "code",
   "execution_count": 35,
   "id": "c8ebb9c9-747e-47fc-b4fb-d3893f45c238",
   "metadata": {},
   "outputs": [],
   "source": [
    "max_mnl = [np.max(x, axis=0) for x in ad_results_mnl]\n",
    "max_ad_mnl = [np.max(x, axis=0) for x in ad_results_ad_mnl]\n",
    "max_cart = [np.max(x, axis=0) for x in ad_results_cart]\n",
    "max_ad_cart = [np.max(x, axis=0) for x in ad_results_ad_cart]\n",
    "max_mostly = [np.max(x, axis=0) for x in ad_results_mostly]"
   ]
  },
  {
   "cell_type": "markdown",
   "id": "f0ce8875-89c8-408a-8cc4-31ff39623215",
   "metadata": {},
   "source": [
    "Calculate the average of the maximum values across all synthetic data sets."
   ]
  },
  {
   "cell_type": "code",
   "execution_count": 36,
   "id": "fa9ada50-6fcf-4651-8c1a-aaa693f73631",
   "metadata": {},
   "outputs": [],
   "source": [
    "avg_max_mnl = np.mean(pd.concat(max_mnl, axis=1), axis=1)\n",
    "avg_max_ad_mnl = np.mean(pd.concat(max_ad_mnl, axis=1), axis=1)\n",
    "avg_max_cart = np.mean(pd.concat(max_cart, axis=1), axis=1)\n",
    "avg_max_ad_cart = np.mean(pd.concat(max_ad_cart, axis=1), axis=1)\n",
    "avg_max_mostly = np.mean(pd.concat(max_mostly, axis=1), axis=1)"
   ]
  },
  {
   "cell_type": "markdown",
   "id": "568c573d-af62-455c-bcf4-8e78d4a939a0",
   "metadata": {},
   "source": [
    "Save the attribute disclosure risk results for plotting in R."
   ]
  },
  {
   "cell_type": "code",
   "execution_count": 37,
   "id": "59518586-3b5d-4661-a4e8-ca1de53e0a0e",
   "metadata": {},
   "outputs": [],
   "source": [
    "all_ad_results = pd.DataFrame({'Delta': deltas,\n",
    "                               'MNL': avg_max_mnl,\n",
    "                               'AD-MNL': avg_max_ad_mnl,\n",
    "                               'CART': avg_max_cart,\n",
    "                               'AD-CART': avg_max_ad_cart,\n",
    "                               'MOSTLY.AI': avg_max_mostly})\n",
    "\n",
    "all_ad_results = all_ad_results.melt(id_vars=[\"Delta\"], value_vars=[\"MNL\", \"AD-MNL\", \"CART\", \"AD-CART\", \"MOSTLY.AI\"], var_name=\"Type\")\n",
    "all_ad_results.to_csv(\"../Results/SK/all_ad_results.csv\", index=False)"
   ]
  },
  {
   "cell_type": "markdown",
   "id": "4995b944-bcfe-4756-a0f4-21fd5c965462",
   "metadata": {},
   "source": [
    "Plot the average (across synthetic data sets) maximum increase in attribute disclosure risk."
   ]
  },
  {
   "cell_type": "code",
   "execution_count": 38,
   "id": "f91219f2-5165-4cbc-bb4e-1d4565f740f7",
   "metadata": {},
   "outputs": [
    {
     "data": {
      "image/png": "[encoded data removed]",
      "text/plain": [
       "<Figure size 640x480 with 1 Axes>"
      ]
     },
     "metadata": {},
     "output_type": "display_data"
    }
   ],
   "source": [
    "plt.plot(deltas, avg_max_mnl)\n",
    "plt.scatter(deltas, avg_max_mnl, s=6, label=\"MNL\")\n",
    "\n",
    "plt.plot(deltas, avg_max_ad_mnl)\n",
    "plt.scatter(deltas, avg_max_ad_mnl, s=6, label=\"AD - MNL\")\n",
    "\n",
    "plt.plot(deltas, avg_max_cart)\n",
    "plt.scatter(deltas, avg_max_cart, s=6, label=\"CART\")\n",
    "\n",
    "plt.plot(deltas, avg_max_ad_cart)\n",
    "plt.scatter(deltas, avg_max_ad_cart, s=6, label=\"AD - CART\")\n",
    "\n",
    "plt.plot(deltas, avg_max_mostly)\n",
    "plt.scatter(deltas, avg_max_mostly, s=6, label=\"MOSTLY.AI\")\n",
    "\n",
    "plt.title(\"Average Maximum Increase in Attribute Disclosure Risk\")\n",
    "plt.xlabel(\"Delta\")\n",
    "plt.ylabel(\"Average Maximum Increase in Attribute Disclosure Risk\")\n",
    "\n",
    "plt.legend()\n",
    "plt.show()"
   ]
  },
  {
   "cell_type": "code",
   "execution_count": null,
   "id": "8a853cce-ec96-4b72-803f-4e4563bc6e60",
   "metadata": {},
   "outputs": [],
   "source": []
  }
 ],
 "metadata": {
  "kernelspec": {
   "display_name": "Python 3 (ipykernel)",
   "language": "python",
   "name": "python3"
  },
  "language_info": {
   "codemirror_mode": {
    "name": "ipython",
    "version": 3
   },
   "file_extension": ".py",
   "mimetype": "text/x-python",
   "name": "python",
   "nbconvert_exporter": "python",
   "pygments_lexer": "ipython3",
   "version": "3.11.7"
  }
 },
 "nbformat": 4,
 "nbformat_minor": 5
}
