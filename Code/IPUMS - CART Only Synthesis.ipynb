{
 "cells": [
  {
   "cell_type": "markdown",
   "id": "96f48262",
   "metadata": {},
   "source": [
    "This notebook performs the synthesis using our proposed synthesization approach applied to the IPUMS data. The synthesis model is a CART. Logistic regression with three way interactions is used as the pMSE model."
   ]
  },
  {
   "cell_type": "code",
   "execution_count": 1,
   "id": "2d3f5c21",
   "metadata": {},
   "outputs": [],
   "source": [
    "from numpy.random import default_rng\n",
    "import matplotlib.pyplot as plt\n",
    "import itertools\n",
    "import pickle\n",
    "\n",
    "from sklearn.tree import DecisionTreeClassifier\n",
    "\n",
    "from bayes_opt import BayesianOptimization\n",
    "from bayes_opt import UtilityFunction\n",
    "\n",
    "from helper_functions import *\n",
    "\n",
    "rng = np.random.RandomState(42)"
   ]
  },
  {
   "cell_type": "markdown",
   "id": "76a8ccbc",
   "metadata": {},
   "source": [
    "Import the data."
   ]
  },
  {
   "cell_type": "code",
   "execution_count": 2,
   "id": "730c2f2e",
   "metadata": {},
   "outputs": [],
   "source": [
    "# import standardized lat/long location data\n",
    "train_data = pd.read_csv(\"../Data/IPUMS/non_normalized_cleaned_ipums_data.csv\")"
   ]
  },
  {
   "cell_type": "code",
   "execution_count": 3,
   "id": "5fb46ada",
   "metadata": {},
   "outputs": [
    {
     "data": {
      "text/html": [
       "<div>\n",
       "<style scoped>\n",
       "    .dataframe tbody tr th:only-of-type {\n",
       "        vertical-align: middle;\n",
       "    }\n",
       "\n",
       "    .dataframe tbody tr th {\n",
       "        vertical-align: top;\n",
       "    }\n",
       "\n",
       "    .dataframe thead th {\n",
       "        text-align: right;\n",
       "    }\n",
       "</style>\n",
       "<table border=\"1\" class=\"dataframe\">\n",
       "  <thead>\n",
       "    <tr style=\"text-align: right;\">\n",
       "      <th></th>\n",
       "      <th>incwage</th>\n",
       "      <th>years_of_educ</th>\n",
       "      <th>potential_experience</th>\n",
       "      <th>non_white</th>\n",
       "      <th>sex</th>\n",
       "    </tr>\n",
       "  </thead>\n",
       "  <tbody>\n",
       "    <tr>\n",
       "      <th>0</th>\n",
       "      <td>11000</td>\n",
       "      <td>16.000000</td>\n",
       "      <td>18.000000</td>\n",
       "      <td>0</td>\n",
       "      <td>1</td>\n",
       "    </tr>\n",
       "    <tr>\n",
       "      <th>1</th>\n",
       "      <td>38000</td>\n",
       "      <td>15.000000</td>\n",
       "      <td>23.000000</td>\n",
       "      <td>0</td>\n",
       "      <td>0</td>\n",
       "    </tr>\n",
       "    <tr>\n",
       "      <th>2</th>\n",
       "      <td>7000</td>\n",
       "      <td>13.000000</td>\n",
       "      <td>2.000000</td>\n",
       "      <td>0</td>\n",
       "      <td>0</td>\n",
       "    </tr>\n",
       "    <tr>\n",
       "      <th>3</th>\n",
       "      <td>2600</td>\n",
       "      <td>11.000000</td>\n",
       "      <td>0.000000</td>\n",
       "      <td>0</td>\n",
       "      <td>0</td>\n",
       "    </tr>\n",
       "    <tr>\n",
       "      <th>4</th>\n",
       "      <td>20800</td>\n",
       "      <td>12.000000</td>\n",
       "      <td>33.000000</td>\n",
       "      <td>1</td>\n",
       "      <td>0</td>\n",
       "    </tr>\n",
       "    <tr>\n",
       "      <th>...</th>\n",
       "      <td>...</td>\n",
       "      <td>...</td>\n",
       "      <td>...</td>\n",
       "      <td>...</td>\n",
       "      <td>...</td>\n",
       "    </tr>\n",
       "    <tr>\n",
       "      <th>197751</th>\n",
       "      <td>22500</td>\n",
       "      <td>16.000000</td>\n",
       "      <td>13.000000</td>\n",
       "      <td>0</td>\n",
       "      <td>0</td>\n",
       "    </tr>\n",
       "    <tr>\n",
       "      <th>197752</th>\n",
       "      <td>4500</td>\n",
       "      <td>16.000000</td>\n",
       "      <td>11.000000</td>\n",
       "      <td>0</td>\n",
       "      <td>1</td>\n",
       "    </tr>\n",
       "    <tr>\n",
       "      <th>197753</th>\n",
       "      <td>37000</td>\n",
       "      <td>17.737673</td>\n",
       "      <td>19.262327</td>\n",
       "      <td>0</td>\n",
       "      <td>0</td>\n",
       "    </tr>\n",
       "    <tr>\n",
       "      <th>197754</th>\n",
       "      <td>1500</td>\n",
       "      <td>15.000000</td>\n",
       "      <td>13.000000</td>\n",
       "      <td>0</td>\n",
       "      <td>1</td>\n",
       "    </tr>\n",
       "    <tr>\n",
       "      <th>197755</th>\n",
       "      <td>45100</td>\n",
       "      <td>16.000000</td>\n",
       "      <td>32.000000</td>\n",
       "      <td>0</td>\n",
       "      <td>0</td>\n",
       "    </tr>\n",
       "  </tbody>\n",
       "</table>\n",
       "<p>197756 rows × 5 columns</p>\n",
       "</div>"
      ],
      "text/plain": [
       "        incwage  years_of_educ  potential_experience  non_white  sex\n",
       "0         11000      16.000000             18.000000          0    1\n",
       "1         38000      15.000000             23.000000          0    0\n",
       "2          7000      13.000000              2.000000          0    0\n",
       "3          2600      11.000000              0.000000          0    0\n",
       "4         20800      12.000000             33.000000          1    0\n",
       "...         ...            ...                   ...        ...  ...\n",
       "197751    22500      16.000000             13.000000          0    0\n",
       "197752     4500      16.000000             11.000000          0    1\n",
       "197753    37000      17.737673             19.262327          0    0\n",
       "197754     1500      15.000000             13.000000          0    1\n",
       "197755    45100      16.000000             32.000000          0    0\n",
       "\n",
       "[197756 rows x 5 columns]"
      ]
     },
     "execution_count": 3,
     "metadata": {},
     "output_type": "execute_result"
    }
   ],
   "source": [
    "train_data"
   ]
  },
  {
   "cell_type": "markdown",
   "id": "4898a4b4-799b-4236-a133-797046c28960",
   "metadata": {},
   "source": [
    "***"
   ]
  },
  {
   "cell_type": "code",
   "execution_count": 8,
   "id": "e71c49b9-9391-4018-9699-66dcc33d4f55",
   "metadata": {},
   "outputs": [],
   "source": [
    "########### Code for years_of_educ CART ##########\n",
    "cart_non_white = DecisionTreeClassifier(min_samples_leaf=20, random_state=rng)"
   ]
  },
  {
   "cell_type": "code",
   "execution_count": 10,
   "id": "22edced5-b3fd-41a2-943f-a530ddc3d597",
   "metadata": {},
   "outputs": [
    {
     "ename": "ValueError",
     "evalue": "Unknown label type: 'continuous'",
     "output_type": "error",
     "traceback": [
      "\u001b[1;31m---------------------------------------------------------------------------\u001b[0m",
      "\u001b[1;31mValueError\u001b[0m                                Traceback (most recent call last)",
      "Cell \u001b[1;32mIn[10], line 1\u001b[0m\n\u001b[1;32m----> 1\u001b[0m cart_non_white\u001b[38;5;241m.\u001b[39mfit(X\u001b[38;5;241m=\u001b[39mpd\u001b[38;5;241m.\u001b[39mDataFrame(train_data\u001b[38;5;241m.\u001b[39mloc[:, \u001b[38;5;124m'\u001b[39m\u001b[38;5;124mincwage\u001b[39m\u001b[38;5;124m'\u001b[39m]), y\u001b[38;5;241m=\u001b[39mtrain_data\u001b[38;5;241m.\u001b[39mloc[:, \u001b[38;5;124m'\u001b[39m\u001b[38;5;124myears_of_educ\u001b[39m\u001b[38;5;124m'\u001b[39m])\n",
      "File \u001b[1;32mC:\\ProgramData\\anaconda3\\Lib\\site-packages\\sklearn\\tree\\_classes.py:889\u001b[0m, in \u001b[0;36mDecisionTreeClassifier.fit\u001b[1;34m(self, X, y, sample_weight, check_input)\u001b[0m\n\u001b[0;32m    859\u001b[0m \u001b[38;5;28;01mdef\u001b[39;00m \u001b[38;5;21mfit\u001b[39m(\u001b[38;5;28mself\u001b[39m, X, y, sample_weight\u001b[38;5;241m=\u001b[39m\u001b[38;5;28;01mNone\u001b[39;00m, check_input\u001b[38;5;241m=\u001b[39m\u001b[38;5;28;01mTrue\u001b[39;00m):\n\u001b[0;32m    860\u001b[0m \u001b[38;5;250m    \u001b[39m\u001b[38;5;124;03m\"\"\"Build a decision tree classifier from the training set (X, y).\u001b[39;00m\n\u001b[0;32m    861\u001b[0m \n\u001b[0;32m    862\u001b[0m \u001b[38;5;124;03m    Parameters\u001b[39;00m\n\u001b[1;32m   (...)\u001b[0m\n\u001b[0;32m    886\u001b[0m \u001b[38;5;124;03m        Fitted estimator.\u001b[39;00m\n\u001b[0;32m    887\u001b[0m \u001b[38;5;124;03m    \"\"\"\u001b[39;00m\n\u001b[1;32m--> 889\u001b[0m     \u001b[38;5;28msuper\u001b[39m()\u001b[38;5;241m.\u001b[39mfit(\n\u001b[0;32m    890\u001b[0m         X,\n\u001b[0;32m    891\u001b[0m         y,\n\u001b[0;32m    892\u001b[0m         sample_weight\u001b[38;5;241m=\u001b[39msample_weight,\n\u001b[0;32m    893\u001b[0m         check_input\u001b[38;5;241m=\u001b[39mcheck_input,\n\u001b[0;32m    894\u001b[0m     )\n\u001b[0;32m    895\u001b[0m     \u001b[38;5;28;01mreturn\u001b[39;00m \u001b[38;5;28mself\u001b[39m\n",
      "File \u001b[1;32mC:\\ProgramData\\anaconda3\\Lib\\site-packages\\sklearn\\tree\\_classes.py:224\u001b[0m, in \u001b[0;36mBaseDecisionTree.fit\u001b[1;34m(self, X, y, sample_weight, check_input)\u001b[0m\n\u001b[0;32m    221\u001b[0m \u001b[38;5;28mself\u001b[39m\u001b[38;5;241m.\u001b[39mn_outputs_ \u001b[38;5;241m=\u001b[39m y\u001b[38;5;241m.\u001b[39mshape[\u001b[38;5;241m1\u001b[39m]\n\u001b[0;32m    223\u001b[0m \u001b[38;5;28;01mif\u001b[39;00m is_classification:\n\u001b[1;32m--> 224\u001b[0m     check_classification_targets(y)\n\u001b[0;32m    225\u001b[0m     y \u001b[38;5;241m=\u001b[39m np\u001b[38;5;241m.\u001b[39mcopy(y)\n\u001b[0;32m    227\u001b[0m     \u001b[38;5;28mself\u001b[39m\u001b[38;5;241m.\u001b[39mclasses_ \u001b[38;5;241m=\u001b[39m []\n",
      "File \u001b[1;32mC:\\ProgramData\\anaconda3\\Lib\\site-packages\\sklearn\\utils\\multiclass.py:218\u001b[0m, in \u001b[0;36mcheck_classification_targets\u001b[1;34m(y)\u001b[0m\n\u001b[0;32m    210\u001b[0m y_type \u001b[38;5;241m=\u001b[39m type_of_target(y, input_name\u001b[38;5;241m=\u001b[39m\u001b[38;5;124m\"\u001b[39m\u001b[38;5;124my\u001b[39m\u001b[38;5;124m\"\u001b[39m)\n\u001b[0;32m    211\u001b[0m \u001b[38;5;28;01mif\u001b[39;00m y_type \u001b[38;5;129;01mnot\u001b[39;00m \u001b[38;5;129;01min\u001b[39;00m [\n\u001b[0;32m    212\u001b[0m     \u001b[38;5;124m\"\u001b[39m\u001b[38;5;124mbinary\u001b[39m\u001b[38;5;124m\"\u001b[39m,\n\u001b[0;32m    213\u001b[0m     \u001b[38;5;124m\"\u001b[39m\u001b[38;5;124mmulticlass\u001b[39m\u001b[38;5;124m\"\u001b[39m,\n\u001b[1;32m   (...)\u001b[0m\n\u001b[0;32m    216\u001b[0m     \u001b[38;5;124m\"\u001b[39m\u001b[38;5;124mmultilabel-sequences\u001b[39m\u001b[38;5;124m\"\u001b[39m,\n\u001b[0;32m    217\u001b[0m ]:\n\u001b[1;32m--> 218\u001b[0m     \u001b[38;5;28;01mraise\u001b[39;00m \u001b[38;5;167;01mValueError\u001b[39;00m(\u001b[38;5;124m\"\u001b[39m\u001b[38;5;124mUnknown label type: \u001b[39m\u001b[38;5;132;01m%r\u001b[39;00m\u001b[38;5;124m\"\u001b[39m \u001b[38;5;241m%\u001b[39m y_type)\n",
      "\u001b[1;31mValueError\u001b[0m: Unknown label type: 'continuous'"
     ]
    }
   ],
   "source": [
    "cart_non_white.fit(X=pd.DataFrame(train_data.loc[:, 'incwage']), y=train_data.loc[:, 'years_of_educ'])"
   ]
  },
  {
   "cell_type": "code",
   "execution_count": 11,
   "id": "efa82994-6fb0-4cf7-a556-ccb49c2ce350",
   "metadata": {},
   "outputs": [
    {
     "data": {
      "text/plain": [
       "array([ 0.08522281,  2.95186709,  5.69144864,  7.75787121,  9.        ,\n",
       "       10.        , 11.        , 12.        , 13.        , 14.        ,\n",
       "       15.        , 16.        , 17.73767341])"
      ]
     },
     "execution_count": 11,
     "metadata": {},
     "output_type": "execute_result"
    }
   ],
   "source": [
    "np.unique(train_data.years_of_educ)"
   ]
  },
  {
   "cell_type": "code",
   "execution_count": 13,
   "id": "52bc83e0-0371-40b5-805d-aff6ad9f95bd",
   "metadata": {},
   "outputs": [
    {
     "data": {
      "text/plain": [
       "298"
      ]
     },
     "execution_count": 13,
     "metadata": {},
     "output_type": "execute_result"
    }
   ],
   "source": [
    "len(np.unique(train_data.potential_experience))"
   ]
  },
  {
   "cell_type": "markdown",
   "id": "76de685f",
   "metadata": {},
   "source": [
    "***"
   ]
  },
  {
   "cell_type": "markdown",
   "id": "5b8a741f",
   "metadata": {},
   "source": [
    "# Full Sequential Synthesis Driven by Bayesian Optimization"
   ]
  },
  {
   "cell_type": "markdown",
   "id": "3a1688b8",
   "metadata": {},
   "source": [
    "Write function to train all models and generate the synthetic dataset, then evaluate the pMSE ratio."
   ]
  },
  {
   "cell_type": "code",
   "execution_count": 4,
   "id": "ab5f897a",
   "metadata": {},
   "outputs": [],
   "source": [
    "def train_models(#overall parameters\n",
    "                 train_data,\n",
    "                 number_synthetic_datasets,\n",
    "                 # hyperparameters for GMM, end with underscore means Bayesian optimization will choose\n",
    "                 number_gmm_initializations,\n",
    "                 num_components_,\n",
    "                 # hyperparameters for CART, end with underscore means Bayesian optimization will choose\n",
    "                 mb_years_of_educ_,\n",
    "                 mb_potential_experience_,\n",
    "                 mb_non_white_,\n",
    "                 mb_sex_):\n",
    "    \n",
    "    num_samples = train_data.shape[0]\n",
    "\n",
    "    # generate and store number_synthetic_datasets synthetic datasets\n",
    "    sXs = [pd.DataFrame(train_data.sample(frac=1.0, replace=True, ignore_index=True).loc[:,'incwage']) for x in range(number_synthetic_datasets)]\n",
    "\n",
    "    ####################################################################################################\n",
    "\n",
    "    ########### Code for years_of_educ CART ##########\n",
    "    cart_non_white = DecisionTreeClassifier(min_samples_leaf=mb_non_white_, random_state=rng)\n",
    "    \n",
    "    cart_non_white.fit(X=train_data.loc[:,['incwage', 'years_of_educ', 'potential_experience']], y=train_data.loc[:,\"non_white\"])\n",
    "    \n",
    "    node_indicators = cart_non_white.decision_path(train_data.loc[:,['incwage', 'years_of_educ', 'potential_experience']]).toarray()\n",
    "    \n",
    "    node_outcomes = [train_data['non_white'][node_indicators[:,x]==1] for x in np.arange(node_indicators.shape[1])]\n",
    "    \n",
    "    # sample values according to a Bayesian bootstrap\n",
    "    \n",
    "    for i in range(number_synthetic_datasets):\n",
    "        \n",
    "        # bst_vals = [bayesian_bootstrap(X=np.array(x), \n",
    "        #                                statistic=stat,\n",
    "        #                                n_replications=1,\n",
    "        #                                resample_size=len(x))[0] for x in node_outcomes]\n",
    "        \n",
    "        synth_leaves = cart_non_white.apply(sXs[i].loc[:,['incwage', 'years_of_educ', 'potential_experience']])\n",
    "        \n",
    "        new_non_white = np.zeros(len(synth_leaves), dtype=int)\n",
    "        \n",
    "        for j, x in enumerate(np.arange(node_indicators.shape[1])):\n",
    "            \n",
    "            new_non_white[synth_leaves==x] = rng.choice(node_outcomes[x], size=np.sum(synth_leaves==x))\n",
    "        \n",
    "        new_non_white = pd.Series(new_non_white)\n",
    "        \n",
    "        new_non_white.name = \"non_white\"\n",
    "        \n",
    "        sXs[i] = pd.concat([sXs[i], new_non_white], axis=1)\n",
    "        \n",
    "    ########### Code for non_white CART ##########\n",
    "    cart_non_white = DecisionTreeClassifier(min_samples_leaf=mb_non_white_, random_state=rng)\n",
    "    \n",
    "    cart_non_white.fit(X=train_data.loc[:,['incwage', 'years_of_educ', 'potential_experience']], y=train_data.loc[:,\"non_white\"])\n",
    "    \n",
    "    node_indicators = cart_non_white.decision_path(train_data.loc[:,['incwage', 'years_of_educ', 'potential_experience']]).toarray()\n",
    "    \n",
    "    node_outcomes = [train_data['non_white'][node_indicators[:,x]==1] for x in np.arange(node_indicators.shape[1])]\n",
    "    \n",
    "    # sample values according to a Bayesian bootstrap\n",
    "    \n",
    "    for i in range(number_synthetic_datasets):\n",
    "        \n",
    "        # bst_vals = [bayesian_bootstrap(X=np.array(x), \n",
    "        #                                statistic=stat,\n",
    "        #                                n_replications=1,\n",
    "        #                                resample_size=len(x))[0] for x in node_outcomes]\n",
    "        \n",
    "        synth_leaves = cart_non_white.apply(sXs[i].loc[:,['incwage', 'years_of_educ', 'potential_experience']])\n",
    "        \n",
    "        new_non_white = np.zeros(len(synth_leaves), dtype=int)\n",
    "        \n",
    "        for j, x in enumerate(np.arange(node_indicators.shape[1])):\n",
    "            \n",
    "            new_non_white[synth_leaves==x] = rng.choice(node_outcomes[x], size=np.sum(synth_leaves==x))\n",
    "        \n",
    "        new_non_white = pd.Series(new_non_white)\n",
    "        \n",
    "        new_non_white.name = \"non_white\"\n",
    "        \n",
    "        sXs[i] = pd.concat([sXs[i], new_non_white], axis=1)\n",
    "    \n",
    "    ####################################################################################################\n",
    "        \n",
    "    ########### Code for sex CART ##########\n",
    "    \n",
    "    cart_sex = DecisionTreeClassifier(min_samples_leaf=mb_sex_, random_state=rng)\n",
    "    \n",
    "    cart_sex.fit(X=train_data.loc[:,['incwage', 'years_of_educ', 'potential_experience', 'non_white']], y=train_data.loc[:,\"sex\"])\n",
    "    \n",
    "    node_indicators = cart_sex.decision_path(train_data.loc[:,['incwage', 'years_of_educ', 'potential_experience', 'non_white']]).toarray()\n",
    "    \n",
    "    node_outcomes = [train_data.sex[node_indicators[:,x]==1] for x in np.arange(node_indicators.shape[1])]\n",
    "    \n",
    "    # sample values according to a Bayesian bootstrap\n",
    "    \n",
    "    for i in range(number_synthetic_datasets):\n",
    "        \n",
    "        # bst_vals = [bayesian_bootstrap(X=np.array(x), \n",
    "        #                                statistic=stat,\n",
    "        #                                n_replications=1,\n",
    "        #                                resample_size=len(x))[0] for x in node_outcomes]\n",
    "        \n",
    "        synth_leaves = cart_sex.apply(sXs[i].loc[:,['incwage', 'years_of_educ', 'potential_experience', 'non_white']])\n",
    "        \n",
    "        new_sex = np.zeros(len(synth_leaves), dtype=int)\n",
    "        \n",
    "        for j, x in enumerate(np.arange(node_indicators.shape[1])):\n",
    "            \n",
    "            new_sex[synth_leaves==x] = rng.choice(node_outcomes[x], size=np.sum(synth_leaves==x))\n",
    "        \n",
    "        new_sex = pd.Series(new_sex)\n",
    "        \n",
    "        new_sex.name = \"sex\"\n",
    "        \n",
    "        sXs[i] = pd.concat([sXs[i], new_sex], axis=1)\n",
    "        \n",
    "    ###### Calculate ks distances ######\n",
    "    pmse_ratios = [pmse_ratio(train_data, Y) for Y in sXs]\n",
    "    \n",
    "    return pmse_ratios, sXs, GMM"
   ]
  },
  {
   "cell_type": "code",
   "execution_count": 5,
   "id": "796d2f96",
   "metadata": {},
   "outputs": [],
   "source": [
    "def optimize_models(train_data,\n",
    "                    number_synthetic_datasets,\n",
    "                    number_gmm_initializations,\n",
    "                    random_state):\n",
    "\n",
    "    def evaluate_models(num_components_, mb_non_white_, mb_sex_):\n",
    "\n",
    "        pmse_ratios, _, _ = train_models(train_data=train_data,\n",
    "                                         number_synthetic_datasets=number_synthetic_datasets,\n",
    "                                         number_gmm_initializations=number_gmm_initializations,\n",
    "                                         num_components_=int(num_components_),\n",
    "                                         mb_non_white_=int(mb_non_white_),\n",
    "                                         mb_sex_=int(mb_sex_))\n",
    "\n",
    "        return -1 * ((1 - np.mean(pmse_ratios))**2)\n",
    "\n",
    "    optimizer = BayesianOptimization(\n",
    "        f=evaluate_models,\n",
    "        pbounds={\n",
    "            \"num_components_\": (10, 200.99),\n",
    "            \"mb_non_white_\": (10, 300.99),\n",
    "            \"mb_sex_\": (10, 300.99)\n",
    "        },\n",
    "        random_state=random_state)\n",
    "\n",
    "    utility = UtilityFunction(kind=\"ei\", xi=1e-02)\n",
    "    optimizer.maximize(init_points=5, n_iter=25, acquisition_function=utility)\n",
    "    print(\"Final Result: \", optimizer.max)\n",
    "    return optimizer.max, optimizer"
   ]
  },
  {
   "cell_type": "markdown",
   "id": "5594760a",
   "metadata": {},
   "source": [
    "The default value of $\\alpha = 1e-06$."
   ]
  },
  {
   "cell_type": "code",
   "execution_count": 6,
   "id": "15d5ded7",
   "metadata": {},
   "outputs": [],
   "source": [
    "nsd = 10\n",
    "ngi = 2\n",
    "random_states = [np.random.RandomState(1006), np.random.RandomState(428)]"
   ]
  },
  {
   "cell_type": "code",
   "execution_count": 7,
   "id": "fe01e70f",
   "metadata": {},
   "outputs": [
    {
     "name": "stdout",
     "output_type": "stream",
     "text": [
      "|   iter    |  target   | mb_non... |  mb_sex_  | num_co... |\n",
      "-------------------------------------------------------------\n",
      "| \u001b[0m1        \u001b[0m | \u001b[0m-0.008198\u001b[0m | \u001b[0m226.2    \u001b[0m | \u001b[0m75.89    \u001b[0m | \u001b[0m132.7    \u001b[0m |\n",
      "| \u001b[0m2        \u001b[0m | \u001b[0m-1.587   \u001b[0m | \u001b[0m266.8    \u001b[0m | \u001b[0m225.5    \u001b[0m | \u001b[0m147.8    \u001b[0m |\n",
      "| \u001b[0m3        \u001b[0m | \u001b[0m-670.8   \u001b[0m | \u001b[0m95.94    \u001b[0m | \u001b[0m162.9    \u001b[0m | \u001b[0m43.19    \u001b[0m |\n",
      "| \u001b[0m4        \u001b[0m | \u001b[0m-2.551   \u001b[0m | \u001b[0m246.3    \u001b[0m | \u001b[0m257.2    \u001b[0m | \u001b[0m58.99    \u001b[0m |\n",
      "| \u001b[0m5        \u001b[0m | \u001b[0m-234.1   \u001b[0m | \u001b[0m79.03    \u001b[0m | \u001b[0m143.4    \u001b[0m | \u001b[0m53.72    \u001b[0m |\n",
      "| \u001b[0m6        \u001b[0m | \u001b[0m-98.56   \u001b[0m | \u001b[0m244.6    \u001b[0m | \u001b[0m253.5    \u001b[0m | \u001b[0m56.68    \u001b[0m |\n",
      "| \u001b[0m7        \u001b[0m | \u001b[0m-201.1   \u001b[0m | \u001b[0m250.1    \u001b[0m | \u001b[0m265.7    \u001b[0m | \u001b[0m64.42    \u001b[0m |\n",
      "| \u001b[0m8        \u001b[0m | \u001b[0m-0.0231  \u001b[0m | \u001b[0m224.5    \u001b[0m | \u001b[0m73.75    \u001b[0m | \u001b[0m126.5    \u001b[0m |\n",
      "| \u001b[95m9        \u001b[0m | \u001b[95m-1.673e-0\u001b[0m | \u001b[95m223.7    \u001b[0m | \u001b[95m83.81    \u001b[0m | \u001b[95m127.0    \u001b[0m |\n",
      "| \u001b[0m10       \u001b[0m | \u001b[0m-0.00257 \u001b[0m | \u001b[0m234.1    \u001b[0m | \u001b[0m79.66    \u001b[0m | \u001b[0m125.6    \u001b[0m |\n",
      "| \u001b[0m11       \u001b[0m | \u001b[0m-0.2529  \u001b[0m | \u001b[0m259.9    \u001b[0m | \u001b[0m236.5    \u001b[0m | \u001b[0m150.1    \u001b[0m |\n",
      "| \u001b[0m12       \u001b[0m | \u001b[0m-0.1493  \u001b[0m | \u001b[0m253.9    \u001b[0m | \u001b[0m223.1    \u001b[0m | \u001b[0m151.7    \u001b[0m |\n",
      "| \u001b[0m13       \u001b[0m | \u001b[0m-0.1225  \u001b[0m | \u001b[0m228.6    \u001b[0m | \u001b[0m72.97    \u001b[0m | \u001b[0m127.4    \u001b[0m |\n",
      "| \u001b[0m14       \u001b[0m | \u001b[0m-0.164   \u001b[0m | \u001b[0m254.5    \u001b[0m | \u001b[0m224.1    \u001b[0m | \u001b[0m137.6    \u001b[0m |\n",
      "| \u001b[0m15       \u001b[0m | \u001b[0m-1.214   \u001b[0m | \u001b[0m257.3    \u001b[0m | \u001b[0m238.3    \u001b[0m | \u001b[0m135.5    \u001b[0m |\n",
      "| \u001b[0m16       \u001b[0m | \u001b[0m-0.8464  \u001b[0m | \u001b[0m274.2    \u001b[0m | \u001b[0m243.3    \u001b[0m | \u001b[0m140.6    \u001b[0m |\n",
      "| \u001b[0m17       \u001b[0m | \u001b[0m-0.4479  \u001b[0m | \u001b[0m268.8    \u001b[0m | \u001b[0m231.1    \u001b[0m | \u001b[0m121.3    \u001b[0m |\n",
      "| \u001b[0m18       \u001b[0m | \u001b[0m-0.2677  \u001b[0m | \u001b[0m280.0    \u001b[0m | \u001b[0m225.8    \u001b[0m | \u001b[0m126.4    \u001b[0m |\n",
      "| \u001b[0m19       \u001b[0m | \u001b[0m-0.1232  \u001b[0m | \u001b[0m267.1    \u001b[0m | \u001b[0m229.0    \u001b[0m | \u001b[0m133.0    \u001b[0m |\n",
      "| \u001b[0m20       \u001b[0m | \u001b[0m-0.8994  \u001b[0m | \u001b[0m281.0    \u001b[0m | \u001b[0m240.7    \u001b[0m | \u001b[0m122.8    \u001b[0m |\n",
      "| \u001b[0m21       \u001b[0m | \u001b[0m-2.693   \u001b[0m | \u001b[0m266.7    \u001b[0m | \u001b[0m253.8    \u001b[0m | \u001b[0m125.3    \u001b[0m |\n",
      "| \u001b[0m22       \u001b[0m | \u001b[0m-0.323   \u001b[0m | \u001b[0m260.3    \u001b[0m | \u001b[0m258.6    \u001b[0m | \u001b[0m144.1    \u001b[0m |\n",
      "| \u001b[0m23       \u001b[0m | \u001b[0m-0.8784  \u001b[0m | \u001b[0m278.9    \u001b[0m | \u001b[0m263.5    \u001b[0m | \u001b[0m137.8    \u001b[0m |\n",
      "| \u001b[0m24       \u001b[0m | \u001b[0m-0.7924  \u001b[0m | \u001b[0m275.0    \u001b[0m | \u001b[0m257.2    \u001b[0m | \u001b[0m157.3    \u001b[0m |\n",
      "| \u001b[0m25       \u001b[0m | \u001b[0m-1.288   \u001b[0m | \u001b[0m293.9    \u001b[0m | \u001b[0m256.7    \u001b[0m | \u001b[0m150.3    \u001b[0m |\n",
      "| \u001b[0m26       \u001b[0m | \u001b[0m-2.187   \u001b[0m | \u001b[0m297.1    \u001b[0m | \u001b[0m250.0    \u001b[0m | \u001b[0m134.2    \u001b[0m |\n",
      "| \u001b[0m27       \u001b[0m | \u001b[0m-1.15    \u001b[0m | \u001b[0m292.5    \u001b[0m | \u001b[0m234.7    \u001b[0m | \u001b[0m147.1    \u001b[0m |\n",
      "| \u001b[0m28       \u001b[0m | \u001b[0m-0.1929  \u001b[0m | \u001b[0m286.2    \u001b[0m | \u001b[0m239.6    \u001b[0m | \u001b[0m167.0    \u001b[0m |\n",
      "| \u001b[0m29       \u001b[0m | \u001b[0m-1.76    \u001b[0m | \u001b[0m266.6    \u001b[0m | \u001b[0m237.4    \u001b[0m | \u001b[0m171.4    \u001b[0m |\n",
      "| \u001b[0m30       \u001b[0m | \u001b[0m-0.09379 \u001b[0m | \u001b[0m285.2    \u001b[0m | \u001b[0m221.6    \u001b[0m | \u001b[0m164.7    \u001b[0m |\n",
      "=============================================================\n",
      "Final Result:  {'target': -1.6728836523085288e-05, 'params': {'mb_non_white_': 223.7158985052134, 'mb_sex_': 83.81322194275862, 'num_components_': 126.97223127395709}}\n",
      "|   iter    |  target   | mb_non... |  mb_sex_  | num_co... |\n",
      "-------------------------------------------------------------\n",
      "| \u001b[0m1        \u001b[0m | \u001b[0m-0.976   \u001b[0m | \u001b[0m248.2    \u001b[0m | \u001b[0m264.4    \u001b[0m | \u001b[0m89.92    \u001b[0m |\n",
      "| \u001b[0m2        \u001b[0m | \u001b[0m-2.628e+0\u001b[0m | \u001b[0m139.6    \u001b[0m | \u001b[0m47.41    \u001b[0m | \u001b[0m30.04    \u001b[0m |\n",
      "| \u001b[0m3        \u001b[0m | \u001b[0m-6.941   \u001b[0m | \u001b[0m198.0    \u001b[0m | \u001b[0m290.0    \u001b[0m | \u001b[0m65.53    \u001b[0m |\n",
      "| \u001b[95m4        \u001b[0m | \u001b[95m-0.9322  \u001b[0m | \u001b[95m29.42    \u001b[0m | \u001b[95m153.3    \u001b[0m | \u001b[95m86.85    \u001b[0m |\n",
      "| \u001b[0m5        \u001b[0m | \u001b[0m-183.7   \u001b[0m | \u001b[0m73.42    \u001b[0m | \u001b[0m252.8    \u001b[0m | \u001b[0m44.79    \u001b[0m |\n",
      "| \u001b[0m6        \u001b[0m | \u001b[0m-1.739   \u001b[0m | \u001b[0m248.3    \u001b[0m | \u001b[0m270.4    \u001b[0m | \u001b[0m84.32    \u001b[0m |\n",
      "| \u001b[0m7        \u001b[0m | \u001b[0m-5.937   \u001b[0m | \u001b[0m10.0     \u001b[0m | \u001b[0m213.9    \u001b[0m | \u001b[0m159.8    \u001b[0m |\n",
      "| \u001b[95m8        \u001b[0m | \u001b[95m-0.3804  \u001b[0m | \u001b[95m209.0    \u001b[0m | \u001b[95m301.0    \u001b[0m | \u001b[95m200.0    \u001b[0m |\n",
      "| \u001b[0m9        \u001b[0m | \u001b[0m-63.72   \u001b[0m | \u001b[0m70.49    \u001b[0m | \u001b[0m254.3    \u001b[0m | \u001b[0m44.05    \u001b[0m |\n",
      "| \u001b[0m10       \u001b[0m | \u001b[0m-1.418e+0\u001b[0m | \u001b[0m40.39    \u001b[0m | \u001b[0m268.6    \u001b[0m | \u001b[0m37.58    \u001b[0m |\n",
      "| \u001b[0m11       \u001b[0m | \u001b[0m-33.38   \u001b[0m | \u001b[0m219.8    \u001b[0m | \u001b[0m275.3    \u001b[0m | \u001b[0m79.58    \u001b[0m |\n",
      "| \u001b[0m12       \u001b[0m | \u001b[0m-6.22    \u001b[0m | \u001b[0m224.7    \u001b[0m | \u001b[0m295.2    \u001b[0m | \u001b[0m60.59    \u001b[0m |\n",
      "| \u001b[0m13       \u001b[0m | \u001b[0m-1.862   \u001b[0m | \u001b[0m216.6    \u001b[0m | \u001b[0m301.0    \u001b[0m | \u001b[0m86.65    \u001b[0m |\n",
      "| \u001b[95m14       \u001b[0m | \u001b[95m-0.2371  \u001b[0m | \u001b[95m239.6    \u001b[0m | \u001b[95m287.5    \u001b[0m | \u001b[95m109.9    \u001b[0m |\n",
      "| \u001b[0m15       \u001b[0m | \u001b[0m-3.355   \u001b[0m | \u001b[0m22.46    \u001b[0m | \u001b[0m173.8    \u001b[0m | \u001b[0m112.9    \u001b[0m |\n",
      "| \u001b[0m16       \u001b[0m | \u001b[0m-5.074   \u001b[0m | \u001b[0m21.23    \u001b[0m | \u001b[0m188.3    \u001b[0m | \u001b[0m144.7    \u001b[0m |\n",
      "| \u001b[0m17       \u001b[0m | \u001b[0m-8.976   \u001b[0m | \u001b[0m10.0     \u001b[0m | \u001b[0m209.5    \u001b[0m | \u001b[0m124.6    \u001b[0m |\n",
      "| \u001b[0m18       \u001b[0m | \u001b[0m-1.831   \u001b[0m | \u001b[0m39.45    \u001b[0m | \u001b[0m215.5    \u001b[0m | \u001b[0m139.9    \u001b[0m |\n",
      "| \u001b[0m19       \u001b[0m | \u001b[0m-5.084   \u001b[0m | \u001b[0m47.86    \u001b[0m | \u001b[0m193.5    \u001b[0m | \u001b[0m110.4    \u001b[0m |\n",
      "| \u001b[0m20       \u001b[0m | \u001b[0m-0.4503  \u001b[0m | \u001b[0m53.19    \u001b[0m | \u001b[0m156.3    \u001b[0m | \u001b[0m114.6    \u001b[0m |\n",
      "| \u001b[0m21       \u001b[0m | \u001b[0m-0.9344  \u001b[0m | \u001b[0m58.92    \u001b[0m | \u001b[0m181.2    \u001b[0m | \u001b[0m143.4    \u001b[0m |\n",
      "| \u001b[0m22       \u001b[0m | \u001b[0m-0.6864  \u001b[0m | \u001b[0m43.71    \u001b[0m | \u001b[0m201.0    \u001b[0m | \u001b[0m176.4    \u001b[0m |\n",
      "| \u001b[0m23       \u001b[0m | \u001b[0m-0.9573  \u001b[0m | \u001b[0m219.0    \u001b[0m | \u001b[0m295.2    \u001b[0m | \u001b[0m160.5    \u001b[0m |\n",
      "| \u001b[0m24       \u001b[0m | \u001b[0m-1.006   \u001b[0m | \u001b[0m202.3    \u001b[0m | \u001b[0m284.5    \u001b[0m | \u001b[0m125.0    \u001b[0m |\n",
      "| \u001b[95m25       \u001b[0m | \u001b[95m-0.2263  \u001b[0m | \u001b[95m229.3    \u001b[0m | \u001b[95m261.5    \u001b[0m | \u001b[95m139.5    \u001b[0m |\n",
      "| \u001b[0m26       \u001b[0m | \u001b[0m-0.6836  \u001b[0m | \u001b[0m197.5    \u001b[0m | \u001b[0m268.6    \u001b[0m | \u001b[0m171.5    \u001b[0m |\n",
      "| \u001b[0m27       \u001b[0m | \u001b[0m-0.4327  \u001b[0m | \u001b[0m233.6    \u001b[0m | \u001b[0m275.1    \u001b[0m | \u001b[0m186.8    \u001b[0m |\n",
      "| \u001b[0m28       \u001b[0m | \u001b[0m-1.517   \u001b[0m | \u001b[0m179.1    \u001b[0m | \u001b[0m301.0    \u001b[0m | \u001b[0m166.4    \u001b[0m |\n",
      "| \u001b[0m29       \u001b[0m | \u001b[0m-0.3751  \u001b[0m | \u001b[0m264.7    \u001b[0m | \u001b[0m284.6    \u001b[0m | \u001b[0m149.0    \u001b[0m |\n",
      "| \u001b[0m30       \u001b[0m | \u001b[0m-0.3501  \u001b[0m | \u001b[0m280.3    \u001b[0m | \u001b[0m271.3    \u001b[0m | \u001b[0m111.9    \u001b[0m |\n",
      "=============================================================\n",
      "Final Result:  {'target': -0.22629697425144196, 'params': {'mb_non_white_': 229.3035137889245, 'mb_sex_': 261.5066639377633, 'num_components_': 139.46076180169962}}\n"
     ]
    }
   ],
   "source": [
    "optimization_results = [optimize_models(train_data=train_data, number_synthetic_datasets=nsd, number_gmm_initializations=ngi, random_state=r) for r in random_states]"
   ]
  },
  {
   "cell_type": "markdown",
   "id": "dab452a9",
   "metadata": {},
   "source": [
    "***"
   ]
  },
  {
   "cell_type": "code",
   "execution_count": 8,
   "id": "2c71552b",
   "metadata": {},
   "outputs": [],
   "source": [
    "run_targets = [np.minimum.accumulate(-i[1].space.target) for i in optimization_results]"
   ]
  },
  {
   "cell_type": "code",
   "execution_count": 9,
   "id": "bb2e246f",
   "metadata": {},
   "outputs": [
    {
     "data": {
      "image/png": "[encoded data removed]",
      "text/plain": [
       "<Figure size 640x480 with 1 Axes>"
      ]
     },
     "metadata": {},
     "output_type": "display_data"
    }
   ],
   "source": [
    "plt.plot(run_targets[0])\n",
    "plt.scatter(np.arange(len(run_targets[0])), run_targets[0], s=6)\n",
    "plt.plot(run_targets[1])\n",
    "plt.scatter(np.arange(len(run_targets[1])), run_targets[1], s=6)\n",
    "plt.title(\"Running Minimum Objective Value for CART Synthesis\")\n",
    "plt.xlabel(\"Iteration\")\n",
    "plt.ylabel(\"Minimum Objective Value\")\n",
    "plt.show()"
   ]
  },
  {
   "cell_type": "markdown",
   "id": "325348ce",
   "metadata": {},
   "source": [
    "Choose the params that gave the best objective value across all random seeds."
   ]
  },
  {
   "cell_type": "code",
   "execution_count": 10,
   "id": "69f179aa",
   "metadata": {},
   "outputs": [],
   "source": [
    "best_params = optimization_results[np.argmax([x[0]['target'] for x in optimization_results])][0]"
   ]
  },
  {
   "cell_type": "code",
   "execution_count": 11,
   "id": "112b4969",
   "metadata": {},
   "outputs": [
    {
     "data": {
      "text/plain": [
       "{'target': -1.6728836523085288e-05,\n",
       " 'params': {'mb_non_white_': 223.7158985052134,\n",
       "  'mb_sex_': 83.81322194275862,\n",
       "  'num_components_': 126.97223127395709}}"
      ]
     },
     "execution_count": 11,
     "metadata": {},
     "output_type": "execute_result"
    }
   ],
   "source": [
    "best_params"
   ]
  },
  {
   "cell_type": "markdown",
   "id": "8c940983",
   "metadata": {},
   "source": [
    "***"
   ]
  },
  {
   "cell_type": "markdown",
   "id": "c8e1ea09",
   "metadata": {},
   "source": [
    "Generate 20 synthetic datasets."
   ]
  },
  {
   "cell_type": "code",
   "execution_count": 12,
   "id": "9ed0391f",
   "metadata": {},
   "outputs": [],
   "source": [
    "pmse_ratios, full_sXs, GMM = train_models(train_data=train_data,\n",
    "                                          number_synthetic_datasets=20,\n",
    "                                          # hyperparameters for GMM\n",
    "                                          number_gmm_initializations=ngi,\n",
    "                                          num_components_=int(best_params['params']['num_components_']),\n",
    "                                          # hyperparameters for CART, end with underscore means Bayesian optimization will choose\n",
    "                                          mb_sex_=int(best_params['params']['mb_sex_']),\n",
    "                                          mb_non_white_=int(best_params['params']['mb_non_white_']))"
   ]
  },
  {
   "cell_type": "code",
   "execution_count": 13,
   "id": "295e7588",
   "metadata": {},
   "outputs": [
    {
     "data": {
      "text/plain": [
       "0.9798335502720825"
      ]
     },
     "execution_count": 13,
     "metadata": {},
     "output_type": "execute_result"
    }
   ],
   "source": [
    "np.mean(pmse_ratios)"
   ]
  },
  {
   "cell_type": "code",
   "execution_count": 14,
   "id": "a3d6a0f6",
   "metadata": {},
   "outputs": [
    {
     "data": {
      "image/png": "[encoded data removed]",
      "text/plain": [
       "<Figure size 640x480 with 1 Axes>"
      ]
     },
     "metadata": {},
     "output_type": "display_data"
    }
   ],
   "source": [
    "plt.violinplot(pmse_ratios)\n",
    "plt.xlabel(\"Density\")\n",
    "plt.ylabel(\"pMSE Ratio\")\n",
    "plt.title(\"Distribution of pMSE Ratios\")\n",
    "plt.show()"
   ]
  },
  {
   "cell_type": "markdown",
   "id": "af137729",
   "metadata": {},
   "source": [
    "***"
   ]
  },
  {
   "cell_type": "markdown",
   "id": "c7c4b464",
   "metadata": {},
   "source": [
    "# Save the synthetic datasets."
   ]
  },
  {
   "cell_type": "code",
   "execution_count": 15,
   "id": "5696e166",
   "metadata": {},
   "outputs": [],
   "source": [
    "for i, sX in enumerate(full_sXs):\n",
    "    sX.to_csv(\"../Data/IPUMS/Synthetic Datasets/gmm_and_cart_\" + str(i) + \".csv\", index=False)\n",
    "\n",
    "# save\n",
    "with open('../Results/IPUMS/Models/gmm_and_cart.pkl','wb') as f:\n",
    "    pickle.dump(GMM,f)"
   ]
  },
  {
   "cell_type": "markdown",
   "id": "6447fc93-5044-4baf-a442-3532290f85d8",
   "metadata": {},
   "source": [
    "***"
   ]
  },
  {
   "cell_type": "code",
   "execution_count": null,
   "id": "d5dbdd0f-c181-4088-a092-9dcc7abcc09a",
   "metadata": {},
   "outputs": [],
   "source": [
    "full_sXs = [pd.read_csv(\"../Data/IPUMS/Synthetic Datasets/gmm_and_cart_\" + str(i) + \".csv\") for i in range(20)]"
   ]
  },
  {
   "cell_type": "code",
   "execution_count": null,
   "id": "f8e24072-f7c1-4da6-9d4f-b6487ce49a6c",
   "metadata": {},
   "outputs": [],
   "source": [
    "# load\n",
    "with open('../Results/IPUMS/Models/gmm_and_cart.pkl', 'rb') as f:\n",
    "    GMM = pickle.load(f)"
   ]
  },
  {
   "cell_type": "markdown",
   "id": "c40ffaea",
   "metadata": {},
   "source": [
    "***"
   ]
  },
  {
   "cell_type": "markdown",
   "id": "0345ce09-ee78-4257-800f-9cd8aa7d47cf",
   "metadata": {},
   "source": [
    "Now apply the attribute disclosure prevention algorithm."
   ]
  },
  {
   "cell_type": "markdown",
   "id": "70b049a1-bfe5-41b1-865e-c19bed1c59ce",
   "metadata": {},
   "source": [
    "We don't have a great baseline for the probability of being non-white, so we'll just use the proportion from the data."
   ]
  },
  {
   "cell_type": "code",
   "execution_count": 4,
   "id": "a21f0ce4-7015-491a-b2e3-eaee7831a1cc",
   "metadata": {},
   "outputs": [],
   "source": [
    "prior = np.mean(train_data.non_white == 1)"
   ]
  },
  {
   "cell_type": "markdown",
   "id": "efdd5063-76e7-4338-a12f-a292798e3157",
   "metadata": {},
   "source": [
    "For our threshold, we select $c = 10$, i.e., we are allowing for a 10x increase in the probability of an adversary inferring the non-white status based on the synthetic data. This is a relatively large increase. For example, this means going from XXX under the prior to no more than XXX under the updated probability."
   ]
  },
  {
   "cell_type": "code",
   "execution_count": 5,
   "id": "51fcbc13-3352-47ac-84b0-46d89dab5867",
   "metadata": {},
   "outputs": [
    {
     "data": {
      "text/plain": [
       "0.14195270939946197"
      ]
     },
     "execution_count": 5,
     "metadata": {},
     "output_type": "execute_result"
    }
   ],
   "source": [
    "prior"
   ]
  },
  {
   "cell_type": "code",
   "execution_count": null,
   "id": "745893ab-4390-45c1-b590-4d9d33aeaea2",
   "metadata": {},
   "outputs": [],
   "source": [
    "c = 3"
   ]
  },
  {
   "cell_type": "markdown",
   "id": "81aaa19a-2ab8-4a74-aa20-dcb10068af22",
   "metadata": {},
   "source": [
    "We provide a range of $\\delta$ values over which to evaluate and prevent attribute disclosure."
   ]
  },
  {
   "cell_type": "code",
   "execution_count": null,
   "id": "7a5ef8d7-0d42-4e92-80a8-1abf1ed616e7",
   "metadata": {},
   "outputs": [],
   "source": [
    "deltas = np.linspace(0.001, 0.1, 3)"
   ]
  },
  {
   "cell_type": "code",
   "execution_count": null,
   "id": "84495b6b-960e-4018-9c0e-e539ed98cc73",
   "metadata": {},
   "outputs": [],
   "source": [
    "ad_sXs = [attribute_disclosure_reduction(original_data=train_data, \n",
    "                                         synthetic_data=X,\n",
    "                                         continuous_vars=['incwage', 'years_of_educ', 'potential_experience'],\n",
    "                                         categorical_vars=['sex'],\n",
    "                                         sensitive_var='non_white',\n",
    "                                         mixture_model=GMM,\n",
    "                                         deltas=deltas, \n",
    "                                         c=c, \n",
    "                                         prior_prob=prior) for X in full_sXs]"
   ]
  },
  {
   "cell_type": "code",
   "execution_count": null,
   "id": "8f87b905-8160-4afd-b228-bae14f5617bd",
   "metadata": {},
   "outputs": [],
   "source": [
    "for i, sX in enumerate(ad_sXs):\n",
    "    sX.to_csv(\"../Data/IPUMS/Synthetic Datasets/ad_gmm_and_cart_\" + str(i) + \".csv\", index=False)"
   ]
  },
  {
   "cell_type": "markdown",
   "id": "a8aa093b-7fd9-489b-8b57-00551967e3f9",
   "metadata": {},
   "source": [
    "***"
   ]
  },
  {
   "cell_type": "code",
   "execution_count": null,
   "id": "43f11570-fe37-4c36-a49c-b067be6c77f3",
   "metadata": {},
   "outputs": [],
   "source": []
  }
 ],
 "metadata": {
  "kernelspec": {
   "display_name": "Python 3 (ipykernel)",
   "language": "python",
   "name": "python3"
  },
  "language_info": {
   "codemirror_mode": {
    "name": "ipython",
    "version": 3
   },
   "file_extension": ".py",
   "mimetype": "text/x-python",
   "name": "python",
   "nbconvert_exporter": "python",
   "pygments_lexer": "ipython3",
   "version": "3.11.7"
  }
 },
 "nbformat": 4,
 "nbformat_minor": 5
}
