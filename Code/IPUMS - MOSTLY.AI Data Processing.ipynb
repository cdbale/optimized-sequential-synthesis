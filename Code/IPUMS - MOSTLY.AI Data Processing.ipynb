{
 "cells": [
  {
   "cell_type": "code",
   "execution_count": 1,
   "id": "67aed7c5-90da-4d4c-a7b9-6d21fb6d924b",
   "metadata": {},
   "outputs": [],
   "source": [
    "import pandas as pd\n",
    "import numpy as np"
   ]
  },
  {
   "cell_type": "code",
   "execution_count": null,
   "id": "055f114e-890f-4d19-af77-e2b15b3b46af",
   "metadata": {},
   "outputs": [],
   "source": []
  },
  {
   "cell_type": "code",
   "execution_count": null,
   "id": "a8fcf294-6659-4987-880c-d1e6b400ac41",
   "metadata": {},
   "outputs": [],
   "source": [
    "split_sd = np.array_split(sd.data(), 5)"
   ]
  },
  {
   "cell_type": "code",
   "execution_count": null,
   "id": "82868bb2-67ef-46a3-8a94-3749fcfefcd2",
   "metadata": {},
   "outputs": [],
   "source": [
    "for i, sX in enumerate(split_sd):\n",
    "    sX.to_csv(\"../Data/IPUMS/Synthetic Datasets/non_normalized_mostly_\" + str(i+5) + \".csv\", index=False)"
   ]
  }
 ],
 "metadata": {
  "kernelspec": {
   "display_name": "Python 3 (ipykernel)",
   "language": "python",
   "name": "python3"
  },
  "language_info": {
   "codemirror_mode": {
    "name": "ipython",
    "version": 3
   },
   "file_extension": ".py",
   "mimetype": "text/x-python",
   "name": "python",
   "nbconvert_exporter": "python",
   "pygments_lexer": "ipython3",
   "version": "3.11.7"
  }
 },
 "nbformat": 4,
 "nbformat_minor": 5
}
