{
 "cells": [
  {
   "cell_type": "markdown",
   "id": "96f48262",
   "metadata": {},
   "source": [
    "This notebook performs the synthesis using our proposed synthesization approach applied to the South Korean COVID-19 data. The synthesis model is a CART. Logistic regression with three way interactions is used as the pMSE model. This file specifically is used to synthesize the training data for the attack."
   ]
  },
  {
   "cell_type": "code",
   "execution_count": 2,
   "id": "2d3f5c21",
   "metadata": {},
   "outputs": [],
   "source": [
    "from sklearn.mixture import GaussianMixture\n",
    "import matplotlib.pyplot as plt\n",
    "import itertools\n",
    "import os\n",
    "import pickle\n",
    "\n",
    "from sklearn.tree import DecisionTreeClassifier\n",
    "\n",
    "from bayes_opt import BayesianOptimization\n",
    "from bayes_opt import acquisition\n",
    "\n",
    "from helper_functions import *\n",
    "\n",
    "rng = np.random.RandomState(42)"
   ]
  },
  {
   "cell_type": "markdown",
   "id": "76a8ccbc",
   "metadata": {},
   "source": [
    "Import the data."
   ]
  },
  {
   "cell_type": "code",
   "execution_count": 3,
   "id": "730c2f2e",
   "metadata": {},
   "outputs": [],
   "source": [
    "# import standardized lat/long location data\n",
    "train_data = pd.read_csv(\"train_data.csv\")"
   ]
  },
  {
   "cell_type": "code",
   "execution_count": 4,
   "id": "55d8f59d-0590-4779-a2df-f991ee3066f3",
   "metadata": {},
   "outputs": [
    {
     "data": {
      "text/html": [
       "<div>\n",
       "<style scoped>\n",
       "    .dataframe tbody tr th:only-of-type {\n",
       "        vertical-align: middle;\n",
       "    }\n",
       "\n",
       "    .dataframe tbody tr th {\n",
       "        vertical-align: top;\n",
       "    }\n",
       "\n",
       "    .dataframe thead th {\n",
       "        text-align: right;\n",
       "    }\n",
       "</style>\n",
       "<table border=\"1\" class=\"dataframe\">\n",
       "  <thead>\n",
       "    <tr style=\"text-align: right;\">\n",
       "      <th></th>\n",
       "      <th>latitude</th>\n",
       "      <th>longitude</th>\n",
       "      <th>sex</th>\n",
       "      <th>age</th>\n",
       "      <th>state</th>\n",
       "    </tr>\n",
       "  </thead>\n",
       "  <tbody>\n",
       "    <tr>\n",
       "      <th>0</th>\n",
       "      <td>-0.959529</td>\n",
       "      <td>1.775163</td>\n",
       "      <td>0</td>\n",
       "      <td>4</td>\n",
       "      <td>0</td>\n",
       "    </tr>\n",
       "    <tr>\n",
       "      <th>1</th>\n",
       "      <td>-1.711873</td>\n",
       "      <td>1.597364</td>\n",
       "      <td>0</td>\n",
       "      <td>4</td>\n",
       "      <td>0</td>\n",
       "    </tr>\n",
       "    <tr>\n",
       "      <th>2</th>\n",
       "      <td>-1.692188</td>\n",
       "      <td>1.624464</td>\n",
       "      <td>0</td>\n",
       "      <td>4</td>\n",
       "      <td>0</td>\n",
       "    </tr>\n",
       "    <tr>\n",
       "      <th>3</th>\n",
       "      <td>-2.137461</td>\n",
       "      <td>-1.428109</td>\n",
       "      <td>1</td>\n",
       "      <td>7</td>\n",
       "      <td>0</td>\n",
       "    </tr>\n",
       "    <tr>\n",
       "      <th>4</th>\n",
       "      <td>0.878254</td>\n",
       "      <td>-0.857433</td>\n",
       "      <td>0</td>\n",
       "      <td>4</td>\n",
       "      <td>0</td>\n",
       "    </tr>\n",
       "    <tr>\n",
       "      <th>...</th>\n",
       "      <td>...</td>\n",
       "      <td>...</td>\n",
       "      <td>...</td>\n",
       "      <td>...</td>\n",
       "      <td>...</td>\n",
       "    </tr>\n",
       "    <tr>\n",
       "      <th>2243</th>\n",
       "      <td>0.020081</td>\n",
       "      <td>-0.509336</td>\n",
       "      <td>0</td>\n",
       "      <td>6</td>\n",
       "      <td>0</td>\n",
       "    </tr>\n",
       "    <tr>\n",
       "      <th>2244</th>\n",
       "      <td>0.844163</td>\n",
       "      <td>-0.858317</td>\n",
       "      <td>0</td>\n",
       "      <td>5</td>\n",
       "      <td>0</td>\n",
       "    </tr>\n",
       "    <tr>\n",
       "      <th>2245</th>\n",
       "      <td>-1.685398</td>\n",
       "      <td>1.542886</td>\n",
       "      <td>1</td>\n",
       "      <td>5</td>\n",
       "      <td>0</td>\n",
       "    </tr>\n",
       "    <tr>\n",
       "      <th>2246</th>\n",
       "      <td>0.914600</td>\n",
       "      <td>-0.639626</td>\n",
       "      <td>1</td>\n",
       "      <td>3</td>\n",
       "      <td>0</td>\n",
       "    </tr>\n",
       "    <tr>\n",
       "      <th>2247</th>\n",
       "      <td>-0.745350</td>\n",
       "      <td>0.864276</td>\n",
       "      <td>1</td>\n",
       "      <td>4</td>\n",
       "      <td>0</td>\n",
       "    </tr>\n",
       "  </tbody>\n",
       "</table>\n",
       "<p>2248 rows × 5 columns</p>\n",
       "</div>"
      ],
      "text/plain": [
       "      latitude  longitude  sex  age  state\n",
       "0    -0.959529   1.775163    0    4      0\n",
       "1    -1.711873   1.597364    0    4      0\n",
       "2    -1.692188   1.624464    0    4      0\n",
       "3    -2.137461  -1.428109    1    7      0\n",
       "4     0.878254  -0.857433    0    4      0\n",
       "...        ...        ...  ...  ...    ...\n",
       "2243  0.020081  -0.509336    0    6      0\n",
       "2244  0.844163  -0.858317    0    5      0\n",
       "2245 -1.685398   1.542886    1    5      0\n",
       "2246  0.914600  -0.639626    1    3      0\n",
       "2247 -0.745350   0.864276    1    4      0\n",
       "\n",
       "[2248 rows x 5 columns]"
      ]
     },
     "execution_count": 4,
     "metadata": {},
     "output_type": "execute_result"
    }
   ],
   "source": [
    "train_data"
   ]
  },
  {
   "cell_type": "markdown",
   "id": "6f62abff",
   "metadata": {},
   "source": [
    "***"
   ]
  },
  {
   "cell_type": "markdown",
   "id": "5b8a741f",
   "metadata": {},
   "source": [
    "# Full Sequential Synthesis Driven by Bayesian Optimization"
   ]
  },
  {
   "cell_type": "markdown",
   "id": "3a1688b8",
   "metadata": {},
   "source": [
    "Write function to train all models and generate the synthetic dataset, then evaluate the pMSE ratio."
   ]
  },
  {
   "cell_type": "code",
   "execution_count": 5,
   "id": "ab5f897a",
   "metadata": {},
   "outputs": [],
   "source": [
    "def train_models(#overall parameters\n",
    "                 train_data,\n",
    "                 number_synthetic_datasets,\n",
    "                 # hyperparameters for GMM, end with underscore means Bayesian optimization will choose\n",
    "                 number_gmm_initializations,\n",
    "                 num_components_,\n",
    "                 # hyperparameters for CART, end with underscore means Bayesian optimization will choose\n",
    "                 mb_sex_,\n",
    "                 mb_age_,\n",
    "                 mb_state_):\n",
    "    \n",
    "    num_samples = train_data.shape[0]\n",
    "    \n",
    "    ########## Code for GMM ############\n",
    "    \n",
    "    # fit GMM model\n",
    "    GMM = GaussianMixture(num_components_, n_init=number_gmm_initializations, covariance_type='full', init_params=\"k-means++\", random_state=rng).fit(train_data.loc[:,[\"latitude\", \"longitude\"]])\n",
    "    \n",
    "    # list for synthetic datasets\n",
    "    sXs = []\n",
    "    \n",
    "    # generate and store number_synthetic_datasets synthetic datasets\n",
    "    for i in range(number_synthetic_datasets):\n",
    "        sX = GMM.sample(num_samples)[0]\n",
    "        sX = pd.DataFrame(sX)\n",
    "        sX.columns = ['latitude', 'longitude']\n",
    "        sXs.append(sX)\n",
    "        \n",
    "    ####################################################################################################\n",
    "        \n",
    "    ########### Code for sex CART ##########\n",
    "    \n",
    "    cart_sex = DecisionTreeClassifier(min_samples_leaf=mb_sex_, random_state=rng)\n",
    "    \n",
    "    cart_sex.fit(X=train_data.loc[:,[\"latitude\", \"longitude\"]], y=train_data.loc[:,\"sex\"])\n",
    "    \n",
    "    node_indicators = cart_sex.decision_path(train_data.loc[:,[\"latitude\", \"longitude\"]]).toarray()\n",
    "    \n",
    "    node_outcomes = [train_data.sex[node_indicators[:,x]==1] for x in np.arange(node_indicators.shape[1])]\n",
    "    \n",
    "    # sample values according to a Bayesian bootstrap\n",
    "    \n",
    "    for i in range(number_synthetic_datasets):\n",
    "        \n",
    "        # bst_vals = [bayesian_bootstrap(X=np.array(x), \n",
    "        #                                statistic=stat,\n",
    "        #                                n_replications=1,\n",
    "        #                                resample_size=len(x))[0] for x in node_outcomes]\n",
    "        \n",
    "        synth_leaves = cart_sex.apply(sXs[i].loc[:,[\"latitude\", \"longitude\"]])\n",
    "        \n",
    "        new_sex = np.zeros(len(synth_leaves), dtype=int)\n",
    "        \n",
    "        for j, x in enumerate(np.arange(node_indicators.shape[1])):\n",
    "            \n",
    "            new_sex[synth_leaves==x] = rng.choice(node_outcomes[x], size=np.sum(synth_leaves==x))\n",
    "        \n",
    "        new_sex = pd.Series(new_sex)\n",
    "        \n",
    "        new_sex.name = \"sex\"\n",
    "        \n",
    "        sXs[i] = pd.concat([sXs[i], new_sex], axis=1)\n",
    "        \n",
    "    ####################################################################################################\n",
    "        \n",
    "    ########### Code for age CART ##########\n",
    "    cart_age = DecisionTreeClassifier(min_samples_leaf=mb_age_, random_state=rng)\n",
    "    \n",
    "    cart_age.fit(X=train_data.loc[:,[\"latitude\", \"longitude\", \"sex\"]], y=train_data.loc[:,\"age\"])\n",
    "    \n",
    "    node_indicators = cart_age.decision_path(train_data.loc[:,[\"latitude\", \"longitude\", \"sex\"]]).toarray()\n",
    "    \n",
    "    node_outcomes = [train_data.age[node_indicators[:,x]==1] for x in np.arange(node_indicators.shape[1])]\n",
    "    \n",
    "    # sample values according to a Bayesian bootstrap\n",
    "    \n",
    "    for i in range(number_synthetic_datasets):\n",
    "        \n",
    "        # bst_vals = [bayesian_bootstrap(X=np.array(x), \n",
    "        #                                statistic=stat,\n",
    "        #                                n_replications=1,\n",
    "        #                                resample_size=len(x))[0] for x in node_outcomes]\n",
    "        \n",
    "        synth_leaves = cart_age.apply(sXs[i].loc[:,[\"latitude\", \"longitude\", \"sex\"]])\n",
    "        \n",
    "        new_age = np.zeros(len(synth_leaves), dtype=int)\n",
    "        \n",
    "        for j, x in enumerate(np.arange(node_indicators.shape[1])):\n",
    "            \n",
    "            new_age[synth_leaves==x] = rng.choice(node_outcomes[x], size=np.sum(synth_leaves==x))\n",
    "        \n",
    "        new_age = pd.Series(new_age)\n",
    "        \n",
    "        new_age.name = \"age\"\n",
    "        \n",
    "        sXs[i] = pd.concat([sXs[i], new_age], axis=1)\n",
    "        \n",
    "    ####################################################################################################\n",
    "    \n",
    "    ########### Code for state CART ##########\n",
    "    \n",
    "    cart_state = DecisionTreeClassifier(min_samples_leaf=mb_state_, random_state=rng)\n",
    "    \n",
    "    cart_state.fit(X=train_data.loc[:,[\"latitude\", \"longitude\", \"sex\", \"age\"]], y=train_data.loc[:,\"state\"])\n",
    "    \n",
    "    node_indicators = cart_state.decision_path(train_data.loc[:,[\"latitude\", \"longitude\", \"sex\", \"age\"]]).toarray()\n",
    "    \n",
    "    node_outcomes = [train_data.state[node_indicators[:,x]==1] for x in np.arange(node_indicators.shape[1])]\n",
    "    \n",
    "    # sample values according to a Bayesian bootstrap\n",
    "    \n",
    "    for i in range(number_synthetic_datasets):\n",
    "        \n",
    "        # bst_vals = [bayesian_bootstrap(X=np.array(x), \n",
    "        #                                statistic=stat,\n",
    "        #                                n_replications=1,\n",
    "        #                                resample_size=len(x))[0] for x in node_outcomes]\n",
    "        \n",
    "        synth_leaves = cart_state.apply(sXs[i].loc[:,[\"latitude\", \"longitude\", \"sex\", \"age\"]])\n",
    "        \n",
    "        new_state = np.zeros(len(synth_leaves), dtype=int)\n",
    "        \n",
    "        for j, x in enumerate(np.arange(node_indicators.shape[1])):\n",
    "            \n",
    "            new_state[synth_leaves==x] = rng.choice(node_outcomes[x], size=np.sum(synth_leaves==x))\n",
    "        \n",
    "        new_state = pd.Series(new_state)\n",
    "        \n",
    "        new_state.name = \"state\"\n",
    "        \n",
    "        sXs[i] = pd.concat([sXs[i], new_state], axis=1)\n",
    "        \n",
    "    ###### Calculate ks distances ######\n",
    "    pmse_ratios = [pmse_ratio(train_data, Y) for Y in sXs]\n",
    "    \n",
    "    return pmse_ratios, sXs, GMM"
   ]
  },
  {
   "cell_type": "code",
   "execution_count": 6,
   "id": "796d2f96",
   "metadata": {},
   "outputs": [],
   "source": [
    "def optimize_models(train_data,\n",
    "                    number_synthetic_datasets,\n",
    "                    number_gmm_initializations,\n",
    "                    random_state):\n",
    "\n",
    "    def evaluate_models(num_components_, mb_sex_, mb_age_, mb_state_):\n",
    "\n",
    "        pmse_ratios, current_sXs, current_GMM = train_models(train_data=train_data,\n",
    "                                                             number_synthetic_datasets=number_synthetic_datasets,\n",
    "                                                             number_gmm_initializations=number_gmm_initializations,\n",
    "                                                             num_components_=int(num_components_),\n",
    "                                                             mb_sex_=int(mb_sex_),\n",
    "                                                             mb_age_=int(mb_age_),\n",
    "                                                             mb_state_=int(mb_state_))\n",
    "\n",
    "        return -1 * ((1 - np.mean(pmse_ratios))**2)\n",
    "\n",
    "    optimizer = BayesianOptimization(\n",
    "        f=evaluate_models,\n",
    "        pbounds={\n",
    "            \"num_components_\": (10, 200.99),\n",
    "            \"mb_sex_\": (10, 350.99),\n",
    "            \"mb_age_\": (10, 350.99),\n",
    "            \"mb_state_\": (10, 350.99)\n",
    "        },\n",
    "        verbose=2,\n",
    "        random_state=random_state,\n",
    "        acquisition_function=acquisition.ExpectedImprovement(xi=1e-02))\n",
    "\n",
    "    optimizer.maximize(init_points=5, n_iter=25)\n",
    "    print(\"Final Result: \", optimizer.max)\n",
    "    return optimizer.max, optimizer"
   ]
  },
  {
   "cell_type": "markdown",
   "id": "5594760a",
   "metadata": {},
   "source": [
    "The default value of $\\alpha = 1e-06$."
   ]
  },
  {
   "cell_type": "code",
   "execution_count": 7,
   "id": "15d5ded7",
   "metadata": {},
   "outputs": [],
   "source": [
    "nsd = 10\n",
    "ngi = 2\n",
    "random_states = [np.random.RandomState(1006), np.random.RandomState(428)]"
   ]
  },
  {
   "cell_type": "code",
   "execution_count": 8,
   "id": "fe01e70f",
   "metadata": {},
   "outputs": [
    {
     "name": "stdout",
     "output_type": "stream",
     "text": [
      "|   iter    |  target   |  mb_age_  |  mb_sex_  | mb_state_ | num_co... |\n",
      "-------------------------------------------------------------------------\n",
      "| \u001b[39m1        \u001b[39m | \u001b[39m-0.3397  \u001b[39m | \u001b[39m263.4    \u001b[39m | \u001b[39m87.21    \u001b[39m | \u001b[39m229.1    \u001b[39m | \u001b[39m178.5    \u001b[39m |\n",
      "| \u001b[35m2        \u001b[39m | \u001b[35m-0.2108  \u001b[39m | \u001b[35m262.6    \u001b[39m | \u001b[35m255.9    \u001b[39m | \u001b[35m110.7    \u001b[39m | \u001b[35m110.4    \u001b[39m |\n",
      "| \u001b[35m3        \u001b[39m | \u001b[35m-0.07794 \u001b[39m | \u001b[35m69.25    \u001b[39m | \u001b[35m286.9    \u001b[39m | \u001b[35m299.6    \u001b[39m | \u001b[35m58.99    \u001b[39m |\n",
      "| \u001b[35m4        \u001b[39m | \u001b[35m-0.06068 \u001b[39m | \u001b[35m90.89    \u001b[39m | \u001b[35m166.3    \u001b[39m | \u001b[35m88.06    \u001b[39m | \u001b[35m48.58    \u001b[39m |\n",
      "| \u001b[39m5        \u001b[39m | \u001b[39m-0.6357  \u001b[39m | \u001b[39m345.1    \u001b[39m | \u001b[39m344.4    \u001b[39m | \u001b[39m260.6    \u001b[39m | \u001b[39m88.17    \u001b[39m |\n",
      "| \u001b[35m6        \u001b[39m | \u001b[35m-0.03476 \u001b[39m | \u001b[35m57.23    \u001b[39m | \u001b[35m283.2    \u001b[39m | \u001b[35m297.0    \u001b[39m | \u001b[35m51.91    \u001b[39m |\n",
      "| \u001b[35m7        \u001b[39m | \u001b[35m-0.03186 \u001b[39m | \u001b[35m62.36    \u001b[39m | \u001b[35m276.5    \u001b[39m | \u001b[35m296.7    \u001b[39m | \u001b[35m50.64    \u001b[39m |\n",
      "| \u001b[39m8        \u001b[39m | \u001b[39m-1.241   \u001b[39m | \u001b[39m10.0     \u001b[39m | \u001b[39m229.1    \u001b[39m | \u001b[39m268.7    \u001b[39m | \u001b[39m10.0     \u001b[39m |\n",
      "| \u001b[39m9        \u001b[39m | \u001b[39m-0.07229 \u001b[39m | \u001b[39m118.1    \u001b[39m | \u001b[39m170.2    \u001b[39m | \u001b[39m73.21    \u001b[39m | \u001b[39m83.21    \u001b[39m |\n"
     ]
    },
    {
     "name": "stderr",
     "output_type": "stream",
     "text": [
      "c:\\Users\\camer\\anaconda3\\Lib\\site-packages\\sklearn\\linear_model\\_logistic.py:469: ConvergenceWarning: lbfgs failed to converge (status=1):\n",
      "STOP: TOTAL NO. of ITERATIONS REACHED LIMIT.\n",
      "\n",
      "Increase the number of iterations (max_iter) or scale the data as shown in:\n",
      "    https://scikit-learn.org/stable/modules/preprocessing.html\n",
      "Please also refer to the documentation for alternative solver options:\n",
      "    https://scikit-learn.org/stable/modules/linear_model.html#logistic-regression\n",
      "  n_iter_i = _check_optimize_result(\n"
     ]
    },
    {
     "name": "stdout",
     "output_type": "stream",
     "text": [
      "| \u001b[39m10       \u001b[39m | \u001b[39m-0.09944 \u001b[39m | \u001b[39m134.4    \u001b[39m | \u001b[39m191.7    \u001b[39m | \u001b[39m86.63    \u001b[39m | \u001b[39m40.25    \u001b[39m |\n",
      "| \u001b[39m11       \u001b[39m | \u001b[39m-0.08201 \u001b[39m | \u001b[39m127.8    \u001b[39m | \u001b[39m132.7    \u001b[39m | \u001b[39m67.38    \u001b[39m | \u001b[39m42.14    \u001b[39m |\n",
      "| \u001b[39m12       \u001b[39m | \u001b[39m-0.06566 \u001b[39m | \u001b[39m101.3    \u001b[39m | \u001b[39m173.6    \u001b[39m | \u001b[39m87.18    \u001b[39m | \u001b[39m55.63    \u001b[39m |\n",
      "| \u001b[39m13       \u001b[39m | \u001b[39m-0.03656 \u001b[39m | \u001b[39m90.94    \u001b[39m | \u001b[39m174.1    \u001b[39m | \u001b[39m24.78    \u001b[39m | \u001b[39m42.72    \u001b[39m |\n",
      "| \u001b[35m14       \u001b[39m | \u001b[35m-0.000430\u001b[39m | \u001b[35m62.65    \u001b[39m | \u001b[35m129.8    \u001b[39m | \u001b[35m36.73    \u001b[39m | \u001b[35m76.32    \u001b[39m |\n",
      "| \u001b[39m15       \u001b[39m | \u001b[39m-0.007811\u001b[39m | \u001b[39m43.41    \u001b[39m | \u001b[39m183.8    \u001b[39m | \u001b[39m34.39    \u001b[39m | \u001b[39m94.62    \u001b[39m |\n",
      "| \u001b[39m16       \u001b[39m | \u001b[39m-0.02831 \u001b[39m | \u001b[39m15.16    \u001b[39m | \u001b[39m161.3    \u001b[39m | \u001b[39m15.16    \u001b[39m | \u001b[39m50.6     \u001b[39m |\n",
      "| \u001b[39m17       \u001b[39m | \u001b[39m-0.1548  \u001b[39m | \u001b[39m100.7    \u001b[39m | \u001b[39m167.1    \u001b[39m | \u001b[39m87.57    \u001b[39m | \u001b[39m48.91    \u001b[39m |\n",
      "| \u001b[39m18       \u001b[39m | \u001b[39m-0.01134 \u001b[39m | \u001b[39m68.07    \u001b[39m | \u001b[39m183.8    \u001b[39m | \u001b[39m80.6     \u001b[39m | \u001b[39m66.95    \u001b[39m |\n",
      "| \u001b[39m19       \u001b[39m | \u001b[39m-0.1077  \u001b[39m | \u001b[39m105.9    \u001b[39m | \u001b[39m160.2    \u001b[39m | \u001b[39m89.39    \u001b[39m | \u001b[39m50.97    \u001b[39m |\n",
      "| \u001b[39m20       \u001b[39m | \u001b[39m-0.05433 \u001b[39m | \u001b[39m83.17    \u001b[39m | \u001b[39m154.1    \u001b[39m | \u001b[39m96.92    \u001b[39m | \u001b[39m71.75    \u001b[39m |\n",
      "| \u001b[39m21       \u001b[39m | \u001b[39m-0.05141 \u001b[39m | \u001b[39m52.05    \u001b[39m | \u001b[39m169.9    \u001b[39m | \u001b[39m52.24    \u001b[39m | \u001b[39m41.75    \u001b[39m |\n",
      "| \u001b[39m22       \u001b[39m | \u001b[39m-0.008682\u001b[39m | \u001b[39m59.91    \u001b[39m | \u001b[39m165.1    \u001b[39m | \u001b[39m24.76    \u001b[39m | \u001b[39m67.91    \u001b[39m |\n",
      "| \u001b[39m23       \u001b[39m | \u001b[39m-0.04617 \u001b[39m | \u001b[39m61.55    \u001b[39m | \u001b[39m128.4    \u001b[39m | \u001b[39m34.61    \u001b[39m | \u001b[39m80.84    \u001b[39m |\n",
      "| \u001b[39m24       \u001b[39m | \u001b[39m-0.1149  \u001b[39m | \u001b[39m79.82    \u001b[39m | \u001b[39m128.8    \u001b[39m | \u001b[39m51.5     \u001b[39m | \u001b[39m51.25    \u001b[39m |\n",
      "| \u001b[39m25       \u001b[39m | \u001b[39m-0.04055 \u001b[39m | \u001b[39m59.4     \u001b[39m | \u001b[39m153.8    \u001b[39m | \u001b[39m58.86    \u001b[39m | \u001b[39m79.09    \u001b[39m |\n",
      "| \u001b[39m26       \u001b[39m | \u001b[39m-0.03038 \u001b[39m | \u001b[39m98.65    \u001b[39m | \u001b[39m193.0    \u001b[39m | \u001b[39m104.1    \u001b[39m | \u001b[39m73.17    \u001b[39m |\n",
      "| \u001b[39m27       \u001b[39m | \u001b[39m-0.04637 \u001b[39m | \u001b[39m132.4    \u001b[39m | \u001b[39m142.1    \u001b[39m | \u001b[39m108.2    \u001b[39m | \u001b[39m66.53    \u001b[39m |\n",
      "| \u001b[39m28       \u001b[39m | \u001b[39m-0.04187 \u001b[39m | \u001b[39m30.5     \u001b[39m | \u001b[39m127.5    \u001b[39m | \u001b[39m39.16    \u001b[39m | \u001b[39m59.7     \u001b[39m |\n"
     ]
    },
    {
     "name": "stderr",
     "output_type": "stream",
     "text": [
      "c:\\Users\\camer\\anaconda3\\Lib\\site-packages\\sklearn\\linear_model\\_logistic.py:469: ConvergenceWarning: lbfgs failed to converge (status=1):\n",
      "STOP: TOTAL NO. of ITERATIONS REACHED LIMIT.\n",
      "\n",
      "Increase the number of iterations (max_iter) or scale the data as shown in:\n",
      "    https://scikit-learn.org/stable/modules/preprocessing.html\n",
      "Please also refer to the documentation for alternative solver options:\n",
      "    https://scikit-learn.org/stable/modules/linear_model.html#logistic-regression\n",
      "  n_iter_i = _check_optimize_result(\n"
     ]
    },
    {
     "name": "stdout",
     "output_type": "stream",
     "text": [
      "| \u001b[39m29       \u001b[39m | \u001b[39m-0.001872\u001b[39m | \u001b[39m57.61    \u001b[39m | \u001b[39m224.3    \u001b[39m | \u001b[39m33.77    \u001b[39m | \u001b[39m64.73    \u001b[39m |\n",
      "| \u001b[39m30       \u001b[39m | \u001b[39m-0.05553 \u001b[39m | \u001b[39m85.67    \u001b[39m | \u001b[39m204.2    \u001b[39m | \u001b[39m39.0     \u001b[39m | \u001b[39m77.25    \u001b[39m |\n",
      "=========================================================================\n",
      "Final Result:  {'target': -0.0004303919683461747, 'params': {'mb_age_': 62.650006137082606, 'mb_sex_': 129.83352528500603, 'mb_state_': 36.73029745844125, 'num_components_': 76.31770459239311}}\n",
      "|   iter    |  target   |  mb_age_  |  mb_sex_  | mb_state_ | num_co... |\n",
      "-------------------------------------------------------------------------\n",
      "| \u001b[39m1        \u001b[39m | \u001b[39m-0.3849  \u001b[39m | \u001b[39m289.1    \u001b[39m | \u001b[39m308.2    \u001b[39m | \u001b[39m152.7    \u001b[39m | \u001b[39m95.03    \u001b[39m |\n",
      "| \u001b[35m2        \u001b[39m | \u001b[35m-0.01921 \u001b[39m | \u001b[35m53.83    \u001b[39m | \u001b[35m45.79    \u001b[39m | \u001b[35m230.3    \u001b[39m | \u001b[35m193.8    \u001b[39m |\n",
      "| \u001b[39m3        \u001b[39m | \u001b[39m-0.1219  \u001b[39m | \u001b[39m109.1    \u001b[39m | \u001b[39m32.75    \u001b[39m | \u001b[39m178.0    \u001b[39m | \u001b[39m86.85    \u001b[39m |\n",
      "| \u001b[39m4        \u001b[39m | \u001b[39m-0.03317 \u001b[39m | \u001b[39m84.31    \u001b[39m | \u001b[39m294.6    \u001b[39m | \u001b[39m72.11    \u001b[39m | \u001b[39m89.95    \u001b[39m |\n",
      "| \u001b[39m5        \u001b[39m | \u001b[39m-0.2868  \u001b[39m | \u001b[39m115.5    \u001b[39m | \u001b[39m346.5    \u001b[39m | \u001b[39m23.93    \u001b[39m | \u001b[39m66.4     \u001b[39m |\n",
      "| \u001b[39m6        \u001b[39m | \u001b[39m-0.064   \u001b[39m | \u001b[39m147.2    \u001b[39m | \u001b[39m217.3    \u001b[39m | \u001b[39m58.09    \u001b[39m | \u001b[39m171.9    \u001b[39m |\n",
      "| \u001b[39m7        \u001b[39m | \u001b[39m-0.05171 \u001b[39m | \u001b[39m58.88    \u001b[39m | \u001b[39m39.35    \u001b[39m | \u001b[39m226.9    \u001b[39m | \u001b[39m195.0    \u001b[39m |\n",
      "| \u001b[39m8        \u001b[39m | \u001b[39m-0.02694 \u001b[39m | \u001b[39m51.83    \u001b[39m | \u001b[39m70.15    \u001b[39m | \u001b[39m232.8    \u001b[39m | \u001b[39m191.4    \u001b[39m |\n",
      "| \u001b[35m9        \u001b[39m | \u001b[35m-0.006786\u001b[39m | \u001b[35m31.37    \u001b[39m | \u001b[35m42.46    \u001b[39m | \u001b[35m256.9    \u001b[39m | \u001b[35m189.9    \u001b[39m |\n",
      "| \u001b[35m10       \u001b[39m | \u001b[35m-0.002282\u001b[39m | \u001b[35m26.88    \u001b[39m | \u001b[35m55.04    \u001b[39m | \u001b[35m229.8    \u001b[39m | \u001b[35m151.5    \u001b[39m |\n",
      "| \u001b[39m11       \u001b[39m | \u001b[39m-0.2137  \u001b[39m | \u001b[39m205.3    \u001b[39m | \u001b[39m253.5    \u001b[39m | \u001b[39m212.4    \u001b[39m | \u001b[39m111.5    \u001b[39m |\n",
      "| \u001b[39m12       \u001b[39m | \u001b[39m-0.01154 \u001b[39m | \u001b[39m29.65    \u001b[39m | \u001b[39m40.7     \u001b[39m | \u001b[39m239.7    \u001b[39m | \u001b[39m151.0    \u001b[39m |\n",
      "| \u001b[39m13       \u001b[39m | \u001b[39m-0.01749 \u001b[39m | \u001b[39m11.14    \u001b[39m | \u001b[39m50.02    \u001b[39m | \u001b[39m221.0    \u001b[39m | \u001b[39m191.2    \u001b[39m |\n",
      "| \u001b[39m14       \u001b[39m | \u001b[39m-0.04333 \u001b[39m | \u001b[39m152.6    \u001b[39m | \u001b[39m211.0    \u001b[39m | \u001b[39m56.64    \u001b[39m | \u001b[39m166.6    \u001b[39m |\n",
      "| \u001b[39m15       \u001b[39m | \u001b[39m-0.04523 \u001b[39m | \u001b[39m45.53    \u001b[39m | \u001b[39m251.8    \u001b[39m | \u001b[39m105.4    \u001b[39m | \u001b[39m89.77    \u001b[39m |\n",
      "| \u001b[39m16       \u001b[39m | \u001b[39m-0.05613 \u001b[39m | \u001b[39m167.0    \u001b[39m | \u001b[39m162.9    \u001b[39m | \u001b[39m38.6     \u001b[39m | \u001b[39m127.0    \u001b[39m |\n",
      "| \u001b[39m17       \u001b[39m | \u001b[39m-0.04682 \u001b[39m | \u001b[39m103.1    \u001b[39m | \u001b[39m223.4    \u001b[39m | \u001b[39m68.14    \u001b[39m | \u001b[39m88.56    \u001b[39m |\n",
      "| \u001b[39m18       \u001b[39m | \u001b[39m-0.03204 \u001b[39m | \u001b[39m54.08    \u001b[39m | \u001b[39m35.6     \u001b[39m | \u001b[39m228.5    \u001b[39m | \u001b[39m193.3    \u001b[39m |\n",
      "| \u001b[39m19       \u001b[39m | \u001b[39m-0.1187  \u001b[39m | \u001b[39m203.9    \u001b[39m | \u001b[39m168.7    \u001b[39m | \u001b[39m36.36    \u001b[39m | \u001b[39m199.5    \u001b[39m |\n",
      "| \u001b[39m20       \u001b[39m | \u001b[39m-0.05278 \u001b[39m | \u001b[39m60.51    \u001b[39m | \u001b[39m305.5    \u001b[39m | \u001b[39m113.0    \u001b[39m | \u001b[39m128.9    \u001b[39m |\n",
      "| \u001b[39m21       \u001b[39m | \u001b[39m-0.02551 \u001b[39m | \u001b[39m27.38    \u001b[39m | \u001b[39m274.4    \u001b[39m | \u001b[39m51.1     \u001b[39m | \u001b[39m123.2    \u001b[39m |\n",
      "| \u001b[39m22       \u001b[39m | \u001b[39m-0.00299 \u001b[39m | \u001b[39m28.22    \u001b[39m | \u001b[39m217.6    \u001b[39m | \u001b[39m22.99    \u001b[39m | \u001b[39m84.5     \u001b[39m |\n",
      "| \u001b[39m23       \u001b[39m | \u001b[39m-0.024   \u001b[39m | \u001b[39m56.84    \u001b[39m | \u001b[39m30.04    \u001b[39m | \u001b[39m228.3    \u001b[39m | \u001b[39m188.6    \u001b[39m |\n",
      "| \u001b[39m24       \u001b[39m | \u001b[39m-0.002681\u001b[39m | \u001b[39m42.25    \u001b[39m | \u001b[39m42.44    \u001b[39m | \u001b[39m227.8    \u001b[39m | \u001b[39m180.6    \u001b[39m |\n",
      "| \u001b[39m25       \u001b[39m | \u001b[39m-0.01582 \u001b[39m | \u001b[39m61.69    \u001b[39m | \u001b[39m29.59    \u001b[39m | \u001b[39m255.0    \u001b[39m | \u001b[39m171.4    \u001b[39m |\n",
      "| \u001b[39m26       \u001b[39m | \u001b[39m-0.07116 \u001b[39m | \u001b[39m165.1    \u001b[39m | \u001b[39m210.8    \u001b[39m | \u001b[39m55.58    \u001b[39m | \u001b[39m161.1    \u001b[39m |\n",
      "| \u001b[39m27       \u001b[39m | \u001b[39m-0.09219 \u001b[39m | \u001b[39m124.3    \u001b[39m | \u001b[39m176.3    \u001b[39m | \u001b[39m53.37    \u001b[39m | \u001b[39m161.5    \u001b[39m |\n",
      "| \u001b[39m28       \u001b[39m | \u001b[39m-0.0255  \u001b[39m | \u001b[39m88.36    \u001b[39m | \u001b[39m292.5    \u001b[39m | \u001b[39m67.91    \u001b[39m | \u001b[39m93.95    \u001b[39m |\n",
      "| \u001b[39m29       \u001b[39m | \u001b[39m-0.01138 \u001b[39m | \u001b[39m34.4     \u001b[39m | \u001b[39m41.56    \u001b[39m | \u001b[39m253.8    \u001b[39m | \u001b[39m194.2    \u001b[39m |\n",
      "| \u001b[39m30       \u001b[39m | \u001b[39m-0.003913\u001b[39m | \u001b[39m10.0     \u001b[39m | \u001b[39m74.22    \u001b[39m | \u001b[39m256.0    \u001b[39m | \u001b[39m163.4    \u001b[39m |\n",
      "=========================================================================\n",
      "Final Result:  {'target': -0.002281843174990439, 'params': {'mb_age_': 26.87810488669338, 'mb_sex_': 55.03813095832397, 'mb_state_': 229.79542757575302, 'num_components_': 151.45485305229022}}\n"
     ]
    }
   ],
   "source": [
    "optimization_results = [optimize_models(train_data=train_data, number_synthetic_datasets=nsd, number_gmm_initializations=ngi, random_state=r) for r in random_states]"
   ]
  },
  {
   "cell_type": "markdown",
   "id": "dab452a9",
   "metadata": {},
   "source": [
    "***"
   ]
  },
  {
   "cell_type": "code",
   "execution_count": 9,
   "id": "2c71552b",
   "metadata": {},
   "outputs": [],
   "source": [
    "run_targets = [np.minimum.accumulate(-i[1].space.target) for i in optimization_results]"
   ]
  },
  {
   "cell_type": "code",
   "execution_count": 10,
   "id": "bb2e246f",
   "metadata": {},
   "outputs": [
    {
     "data": {
      "image/png": "[encoded data removed]",
      "text/plain": [
       "<Figure size 640x480 with 1 Axes>"
      ]
     },
     "metadata": {},
     "output_type": "display_data"
    }
   ],
   "source": [
    "fig = plt.figure()\n",
    "plt.plot(run_targets[0])\n",
    "plt.scatter(np.arange(len(run_targets[0])), run_targets[0], s=6)\n",
    "plt.plot(run_targets[1])\n",
    "plt.scatter(np.arange(len(run_targets[1])), run_targets[1], s=6)\n",
    "plt.title(\"South Korean COVID-19 Data - Objective Value for CART Synthesis\")\n",
    "plt.xlabel(\"Iteration\")\n",
    "plt.ylabel(\"Minimum Objective Value\")\n",
    "plt.show()"
   ]
  },
  {
   "cell_type": "markdown",
   "id": "325348ce",
   "metadata": {},
   "source": [
    "Choose the params that gave the best objective value across all random seeds."
   ]
  },
  {
   "cell_type": "code",
   "execution_count": 11,
   "id": "69f179aa",
   "metadata": {},
   "outputs": [],
   "source": [
    "best_params = optimization_results[np.argmax([x[0]['target'] for x in optimization_results])][0]"
   ]
  },
  {
   "cell_type": "code",
   "execution_count": 12,
   "id": "112b4969",
   "metadata": {},
   "outputs": [
    {
     "data": {
      "text/plain": [
       "{'target': -0.0004303919683461747,\n",
       " 'params': {'mb_age_': 62.650006137082606,\n",
       "  'mb_sex_': 129.83352528500603,\n",
       "  'mb_state_': 36.73029745844125,\n",
       "  'num_components_': 76.31770459239311}}"
      ]
     },
     "execution_count": 12,
     "metadata": {},
     "output_type": "execute_result"
    }
   ],
   "source": [
    "best_params"
   ]
  },
  {
   "cell_type": "markdown",
   "id": "8c940983",
   "metadata": {},
   "source": [
    "***"
   ]
  },
  {
   "cell_type": "code",
   "execution_count": 13,
   "id": "9ed0391f",
   "metadata": {},
   "outputs": [],
   "source": [
    "pmse_ratios, full_sXs, GMM = train_models(train_data=train_data,\n",
    "                                          number_synthetic_datasets=20,\n",
    "                                          # hyperparameters for GMM\n",
    "                                          number_gmm_initializations=ngi,\n",
    "                                          num_components_=int(best_params['params']['num_components_']),\n",
    "                                          # hyperparameters for CART, end with underscore means Bayesian optimization will choose\n",
    "                                          mb_sex_=int(best_params['params']['mb_sex_']),\n",
    "                                          mb_age_=int(best_params['params']['mb_age_']),\n",
    "                                          mb_state_=int(best_params['params']['mb_state_']))"
   ]
  },
  {
   "cell_type": "code",
   "execution_count": 14,
   "id": "43dcf15a-70c7-4948-ac95-fd555fea3011",
   "metadata": {},
   "outputs": [
    {
     "data": {
      "text/plain": [
       "1.2325000288228714"
      ]
     },
     "execution_count": 14,
     "metadata": {},
     "output_type": "execute_result"
    }
   ],
   "source": [
    "np.mean(pmse_ratios)"
   ]
  },
  {
   "cell_type": "code",
   "execution_count": 15,
   "id": "a3d6a0f6",
   "metadata": {},
   "outputs": [
    {
     "data": {
      "image/png": "[encoded data removed]",
      "text/plain": [
       "<Figure size 640x480 with 1 Axes>"
      ]
     },
     "metadata": {},
     "output_type": "display_data"
    }
   ],
   "source": [
    "plt.violinplot(pmse_ratios)\n",
    "plt.xlabel(\"Density\")\n",
    "plt.ylabel(\"pMSE Ratio\")\n",
    "plt.title(\"Distribution of pMSE Ratios\")\n",
    "plt.show()"
   ]
  },
  {
   "cell_type": "markdown",
   "id": "af137729",
   "metadata": {},
   "source": [
    "***"
   ]
  },
  {
   "cell_type": "code",
   "execution_count": 16,
   "id": "5696e166",
   "metadata": {},
   "outputs": [],
   "source": [
    "os.makedirs('synthetic_train', exist_ok=True)\n",
    "\n",
    "for i, sX in enumerate(full_sXs):\n",
    "    sX.to_csv(\"synthetic_train/sd_\" + str(i) + \".csv\", index=False)"
   ]
  },
  {
   "cell_type": "markdown",
   "id": "c40ffaea",
   "metadata": {},
   "source": [
    "***"
   ]
  },
  {
   "cell_type": "markdown",
   "id": "bbbe66ac-98dc-4a8c-9af2-3e07c2080c34",
   "metadata": {},
   "source": [
    "Import data sets if running from this point."
   ]
  },
  {
   "cell_type": "code",
   "execution_count": 17,
   "id": "b2be4afc-c749-4edd-820a-018f13f8d723",
   "metadata": {},
   "outputs": [],
   "source": [
    "# full_sXs = [pd.read_csv(\"../Data/SK/Synthetic Datasets/gmm_and_cart_\" + str(i) + \".csv\") for i in range(20)]\n",
    "\n",
    "# # load\n",
    "# with open('../Results/SK/Models/gmm_and_cart.pkl', 'rb') as f:\n",
    "#     GMM = pickle.load(f)"
   ]
  },
  {
   "cell_type": "markdown",
   "id": "5ca1e4fa-feb4-44b6-b419-ff2661c8d768",
   "metadata": {},
   "source": [
    "Now apply the attribute disclosure prevention algorithm."
   ]
  },
  {
   "cell_type": "markdown",
   "id": "1713a828-0545-438c-a599-3fd0df7c817f",
   "metadata": {},
   "source": [
    "Based on publicly available data from the World Health Organization, we use the total number of confirmed COVID-19 cases (9,583) and total number of deaths (152) in South Korea as of March 23, 2020 to calculate the prior probability $p(S_j = 1 | x_j^q, b) = 152/9583 \\approx 0.016$ and $p(S_j = 0 | x_j^q, b) = 1 - 0.016 = 0.984$..984."
   ]
  },
  {
   "cell_type": "code",
   "execution_count": 18,
   "id": "0c5ea9ee-123d-4e58-97a5-342b309d1499",
   "metadata": {},
   "outputs": [],
   "source": [
    "# prior = 152/9583"
   ]
  },
  {
   "cell_type": "markdown",
   "id": "a31444b5-5b59-496f-90cb-f4151ef670f4",
   "metadata": {},
   "source": [
    "For our threshold, we select $c = 10$, i.e., we are allowing for a 10x increase in the probability of an adversary inferring the correct disease status based on the synthetic data. This is a relatively large increase. For example, this means going from 0.016 under the prior to no more than 0.16 under the updated probability."
   ]
  },
  {
   "cell_type": "code",
   "execution_count": 19,
   "id": "f0e2b401-ddbf-4579-b41c-737f3910aeb8",
   "metadata": {},
   "outputs": [],
   "source": [
    "# c = 10"
   ]
  },
  {
   "cell_type": "markdown",
   "id": "07f85fa0-db86-4f7f-9e88-393d261a0334",
   "metadata": {},
   "source": [
    "We provide a range of $\\delta$ values over which to evaluate and prevent attribute disclosure."
   ]
  },
  {
   "cell_type": "code",
   "execution_count": 20,
   "id": "96a3dd8e-e0d0-42e1-bf29-c144937188a2",
   "metadata": {},
   "outputs": [],
   "source": [
    "# deltas = np.linspace(0.001, 1, 5)"
   ]
  },
  {
   "cell_type": "markdown",
   "id": "67ee0d77-6dac-4b4a-82f1-e341496b8245",
   "metadata": {},
   "source": [
    "***"
   ]
  },
  {
   "cell_type": "code",
   "execution_count": 21,
   "id": "456b4f4b-bdb0-4609-bdda-3a3ab8e67f68",
   "metadata": {},
   "outputs": [],
   "source": [
    "# ad_sXs = [attribute_disclosure_reduction(original_data=train_data, \n",
    "#                                          synthetic_data=X,\n",
    "#                                          continuous_vars=['latitude', 'longitude'],\n",
    "#                                          categorical_vars=['sex', 'age'],\n",
    "#                                          sensitive_var='state',\n",
    "#                                          num_mixture_components=int(best_params['params']['num_components_']),\n",
    "#                                          deltas=deltas, \n",
    "#                                          c=c, \n",
    "#                                          prior_prob=prior) for X in full_sXs]"
   ]
  },
  {
   "cell_type": "code",
   "execution_count": 22,
   "id": "fcc1f352-e826-4757-a7b1-26014310e78f",
   "metadata": {},
   "outputs": [],
   "source": [
    "# for i, sX in enumerate(ad_sXs):\n",
    "#     sX.to_csv(\"../Data/SK/Synthetic Datasets/ad_gmm_and_cart_\" + str(i) + \".csv\", index=False)"
   ]
  },
  {
   "cell_type": "markdown",
   "id": "9c5f0763-0559-47da-a7c9-564625360d24",
   "metadata": {},
   "source": [
    "***"
   ]
  },
  {
   "cell_type": "markdown",
   "id": "de093030-62c9-4209-a058-f22cb75afe29",
   "metadata": {},
   "source": [
    "How many records did the attribute disclosure algorithm add, on average."
   ]
  },
  {
   "cell_type": "code",
   "execution_count": 23,
   "id": "fa5863b0-cdf0-4d93-968c-0781603cb14b",
   "metadata": {},
   "outputs": [],
   "source": [
    "# ad_sXs = [pd.read_csv(\"../Data/SK/Synthetic Datasets/ad_gmm_and_cart_\" + str(i) + \".csv\") for i in range(20)]"
   ]
  },
  {
   "cell_type": "code",
   "execution_count": 24,
   "id": "bd31188d-744b-4844-b927-55c41a33fc89",
   "metadata": {},
   "outputs": [],
   "source": [
    "# num_records = train_data.shape[0]"
   ]
  },
  {
   "cell_type": "code",
   "execution_count": 25,
   "id": "1d329069-4c02-4904-9439-cd2b37fb48a4",
   "metadata": {},
   "outputs": [],
   "source": [
    "# np.mean([Z.shape[0] - num_records for Z in ad_sXs])"
   ]
  },
  {
   "cell_type": "code",
   "execution_count": null,
   "id": "99a55650-0f4e-47eb-bcb0-e95907db36d3",
   "metadata": {},
   "outputs": [],
   "source": []
  }
 ],
 "metadata": {
  "kernelspec": {
   "display_name": "base",
   "language": "python",
   "name": "python3"
  },
  "language_info": {
   "codemirror_mode": {
    "name": "ipython",
    "version": 3
   },
   "file_extension": ".py",
   "mimetype": "text/x-python",
   "name": "python",
   "nbconvert_exporter": "python",
   "pygments_lexer": "ipython3",
   "version": "3.12.7"
  }
 },
 "nbformat": 4,
 "nbformat_minor": 5
}
