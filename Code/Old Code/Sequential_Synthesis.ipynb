{
 "cells": [
  {
   "cell_type": "markdown",
   "id": "96f48262",
   "metadata": {},
   "source": [
    "# Full Synthesis Testing"
   ]
  },
  {
   "cell_type": "code",
   "execution_count": 1,
   "id": "2d3f5c21",
   "metadata": {},
   "outputs": [],
   "source": [
    "import pandas as pd\n",
    "import numpy as np\n",
    "from numpy.random import default_rng\n",
    "from sklearn.mixture import GaussianMixture\n",
    "from scipy.spatial import cKDTree\n",
    "import matplotlib.pyplot as plt\n",
    "import seaborn as sns\n",
    "\n",
    "from sklearn import preprocessing\n",
    "\n",
    "from sklearn.tree import DecisionTreeClassifier\n",
    "\n",
    "import itertools\n",
    "\n",
    "from bayes_opt import BayesianOptimization\n",
    "from bayes_opt import SequentialDomainReductionTransformer\n",
    "\n",
    "from sklearn.linear_model import LogisticRegression\n",
    "from sklearn.preprocessing import PolynomialFeatures\n",
    "\n",
    "from bayesian_bootstrap import bayesian_bootstrap\n",
    "\n",
    "from sklearn.ensemble import RandomForestClassifier\n",
    "from sklearn.inspection import permutation_importance\n",
    "\n",
    "from numpy.random import default_rng"
   ]
  },
  {
   "cell_type": "code",
   "execution_count": 2,
   "id": "a07ad9ba",
   "metadata": {},
   "outputs": [],
   "source": [
    "def pmse_ratio(original_data, synthetic_data):\n",
    "    \n",
    "    N_synth = synthetic_data.shape[0]\n",
    "    N_orig = original_data.shape[0]\n",
    "    \n",
    "    # combine original and synthetic datasets\n",
    "    full_X = pd.concat([original_data, synthetic_data], axis=0).reset_index(drop=True)\n",
    "    \n",
    "    full_X[\"age\"] = full_X[\"age\"].astype('category')\n",
    "    \n",
    "    age_dummies = pd.get_dummies(full_X['age'], drop_first=True)\n",
    "    \n",
    "    age_dummies.columns = [str(x) for x in age_dummies.columns]\n",
    "    \n",
    "    full_X = full_X.drop(\"age\", axis=1)\n",
    "    \n",
    "    full_X = pd.concat([full_X, age_dummies], axis=1)\n",
    "    \n",
    "    # generate interactions and powers of variables\n",
    "    poly = PolynomialFeatures(2, interaction_only=True, include_bias=False)\n",
    "    \n",
    "    full_X = poly.fit_transform(full_X)\n",
    "    \n",
    "    full_X = full_X[:,:-36]\n",
    "\n",
    "    # scale the combined dataset\n",
    "    full_X = preprocessing.StandardScaler().fit_transform(full_X)\n",
    "    \n",
    "    c = N_synth/(N_synth+N_orig)\n",
    "\n",
    "    y = np.repeat([0, 1], repeats=[N_orig, N_synth])\n",
    "    \n",
    "    pMSE_model = LogisticRegression(penalty='none', max_iter=1000).fit(full_X, y)\n",
    "    \n",
    "    probs = pMSE_model.predict_proba(full_X)\n",
    "    \n",
    "    pMSE = 1/(N_synth+N_orig) * np.sum((probs[:,1] - c)**2)\n",
    "    \n",
    "    e_pMSE = (full_X.shape[1])*(1-c)**2 * c/(N_synth+N_orig)\n",
    "        \n",
    "    return pMSE/e_pMSE"
   ]
  },
  {
   "cell_type": "markdown",
   "id": "76a8ccbc",
   "metadata": {},
   "source": [
    "Import the data."
   ]
  },
  {
   "cell_type": "code",
   "execution_count": 3,
   "id": "730c2f2e",
   "metadata": {},
   "outputs": [],
   "source": [
    "# import standardized lat/long location data\n",
    "X = pd.read_csv(\"Data/cleaned_data.csv\")\n",
    "N = X.shape[0]"
   ]
  },
  {
   "cell_type": "markdown",
   "id": "1d08dfc6",
   "metadata": {},
   "source": [
    "Number of locations."
   ]
  },
  {
   "cell_type": "code",
   "execution_count": 4,
   "id": "809c546b",
   "metadata": {},
   "outputs": [
    {
     "data": {
      "text/plain": [
       "6712"
      ]
     },
     "execution_count": 4,
     "metadata": {},
     "output_type": "execute_result"
    }
   ],
   "source": [
    "N"
   ]
  },
  {
   "cell_type": "markdown",
   "id": "05560c9f",
   "metadata": {},
   "source": [
    "Number of locations from deceased individuals."
   ]
  },
  {
   "cell_type": "code",
   "execution_count": 5,
   "id": "4179bd8c",
   "metadata": {},
   "outputs": [
    {
     "data": {
      "text/plain": [
       "55"
      ]
     },
     "execution_count": 5,
     "metadata": {},
     "output_type": "execute_result"
    }
   ],
   "source": [
    "np.sum(X.state)"
   ]
  },
  {
   "cell_type": "markdown",
   "id": "10b49ff7",
   "metadata": {},
   "source": [
    "Split dataset into continuous and categorical variables."
   ]
  },
  {
   "cell_type": "code",
   "execution_count": 6,
   "id": "ca8aa871",
   "metadata": {},
   "outputs": [
    {
     "data": {
      "text/html": [
       "<div>\n",
       "<style scoped>\n",
       "    .dataframe tbody tr th:only-of-type {\n",
       "        vertical-align: middle;\n",
       "    }\n",
       "\n",
       "    .dataframe tbody tr th {\n",
       "        vertical-align: top;\n",
       "    }\n",
       "\n",
       "    .dataframe thead th {\n",
       "        text-align: right;\n",
       "    }\n",
       "</style>\n",
       "<table border=\"1\" class=\"dataframe\">\n",
       "  <thead>\n",
       "    <tr style=\"text-align: right;\">\n",
       "      <th></th>\n",
       "      <th>latitude</th>\n",
       "      <th>longitude</th>\n",
       "      <th>sex</th>\n",
       "      <th>age</th>\n",
       "      <th>state</th>\n",
       "    </tr>\n",
       "  </thead>\n",
       "  <tbody>\n",
       "    <tr>\n",
       "      <th>0</th>\n",
       "      <td>0.944157</td>\n",
       "      <td>-1.010655</td>\n",
       "      <td>male</td>\n",
       "      <td>50s</td>\n",
       "      <td>0</td>\n",
       "    </tr>\n",
       "    <tr>\n",
       "      <th>1</th>\n",
       "      <td>0.889746</td>\n",
       "      <td>-0.694899</td>\n",
       "      <td>male</td>\n",
       "      <td>50s</td>\n",
       "      <td>0</td>\n",
       "    </tr>\n",
       "    <tr>\n",
       "      <th>2</th>\n",
       "      <td>0.917482</td>\n",
       "      <td>-0.682299</td>\n",
       "      <td>male</td>\n",
       "      <td>30s</td>\n",
       "      <td>0</td>\n",
       "    </tr>\n",
       "    <tr>\n",
       "      <th>3</th>\n",
       "      <td>0.916660</td>\n",
       "      <td>-0.682551</td>\n",
       "      <td>male</td>\n",
       "      <td>30s</td>\n",
       "      <td>0</td>\n",
       "    </tr>\n",
       "    <tr>\n",
       "      <th>4</th>\n",
       "      <td>0.886074</td>\n",
       "      <td>-0.668883</td>\n",
       "      <td>male</td>\n",
       "      <td>30s</td>\n",
       "      <td>0</td>\n",
       "    </tr>\n",
       "    <tr>\n",
       "      <th>...</th>\n",
       "      <td>...</td>\n",
       "      <td>...</td>\n",
       "      <td>...</td>\n",
       "      <td>...</td>\n",
       "      <td>...</td>\n",
       "    </tr>\n",
       "    <tr>\n",
       "      <th>6707</th>\n",
       "      <td>0.881500</td>\n",
       "      <td>-0.925307</td>\n",
       "      <td>male</td>\n",
       "      <td>40s</td>\n",
       "      <td>0</td>\n",
       "    </tr>\n",
       "    <tr>\n",
       "      <th>6708</th>\n",
       "      <td>-1.728784</td>\n",
       "      <td>1.470871</td>\n",
       "      <td>male</td>\n",
       "      <td>40s</td>\n",
       "      <td>0</td>\n",
       "    </tr>\n",
       "    <tr>\n",
       "      <th>6709</th>\n",
       "      <td>-1.548071</td>\n",
       "      <td>1.557316</td>\n",
       "      <td>male</td>\n",
       "      <td>40s</td>\n",
       "      <td>0</td>\n",
       "    </tr>\n",
       "    <tr>\n",
       "      <th>6710</th>\n",
       "      <td>-1.549392</td>\n",
       "      <td>1.555785</td>\n",
       "      <td>male</td>\n",
       "      <td>40s</td>\n",
       "      <td>0</td>\n",
       "    </tr>\n",
       "    <tr>\n",
       "      <th>6711</th>\n",
       "      <td>-1.548071</td>\n",
       "      <td>1.557316</td>\n",
       "      <td>male</td>\n",
       "      <td>40s</td>\n",
       "      <td>0</td>\n",
       "    </tr>\n",
       "  </tbody>\n",
       "</table>\n",
       "<p>6712 rows × 5 columns</p>\n",
       "</div>"
      ],
      "text/plain": [
       "      latitude  longitude   sex  age  state\n",
       "0     0.944157  -1.010655  male  50s      0\n",
       "1     0.889746  -0.694899  male  50s      0\n",
       "2     0.917482  -0.682299  male  30s      0\n",
       "3     0.916660  -0.682551  male  30s      0\n",
       "4     0.886074  -0.668883  male  30s      0\n",
       "...        ...        ...   ...  ...    ...\n",
       "6707  0.881500  -0.925307  male  40s      0\n",
       "6708 -1.728784   1.470871  male  40s      0\n",
       "6709 -1.548071   1.557316  male  40s      0\n",
       "6710 -1.549392   1.555785  male  40s      0\n",
       "6711 -1.548071   1.557316  male  40s      0\n",
       "\n",
       "[6712 rows x 5 columns]"
      ]
     },
     "execution_count": 6,
     "metadata": {},
     "output_type": "execute_result"
    }
   ],
   "source": [
    "X"
   ]
  },
  {
   "cell_type": "code",
   "execution_count": 7,
   "id": "fae34b71",
   "metadata": {},
   "outputs": [],
   "source": [
    "cat_columns = X.select_dtypes(['object']).columns"
   ]
  },
  {
   "cell_type": "code",
   "execution_count": 8,
   "id": "2665afce",
   "metadata": {},
   "outputs": [],
   "source": [
    "X[cat_columns] = X[cat_columns].apply(lambda x: x.astype('category'))"
   ]
  },
  {
   "cell_type": "code",
   "execution_count": 9,
   "id": "d27a984a",
   "metadata": {},
   "outputs": [],
   "source": [
    "categories = X[cat_columns].apply(lambda x: x.cat.categories)"
   ]
  },
  {
   "cell_type": "code",
   "execution_count": 10,
   "id": "a4ac0283",
   "metadata": {},
   "outputs": [],
   "source": [
    "X[cat_columns] = X[cat_columns].apply(lambda x: x.cat.codes)"
   ]
  },
  {
   "cell_type": "code",
   "execution_count": 11,
   "id": "eff95bf3",
   "metadata": {},
   "outputs": [
    {
     "data": {
      "text/plain": [
       "sex            Index(['female', 'male'], dtype='object')\n",
       "age    Index(['0s', '10s', '20s', '30s', '40s', '50s'...\n",
       "dtype: object"
      ]
     },
     "execution_count": 11,
     "metadata": {},
     "output_type": "execute_result"
    }
   ],
   "source": [
    "categories"
   ]
  },
  {
   "cell_type": "code",
   "execution_count": 12,
   "id": "56d124d1",
   "metadata": {},
   "outputs": [
    {
     "data": {
      "text/plain": [
       "0.4620083432657926"
      ]
     },
     "execution_count": 12,
     "metadata": {},
     "output_type": "execute_result"
    }
   ],
   "source": [
    "np.mean(X.sex)"
   ]
  },
  {
   "cell_type": "code",
   "execution_count": 13,
   "id": "f3054ffb",
   "metadata": {},
   "outputs": [
    {
     "data": {
      "image/png": "[encoded data removed]",
      "text/plain": [
       "<Figure size 432x288 with 1 Axes>"
      ]
     },
     "metadata": {
      "needs_background": "light"
     },
     "output_type": "display_data"
    }
   ],
   "source": [
    "ax = X.age.plot.hist(grid=True, bins=10)\n",
    "ax.set_ylabel('Frequency', fontsize=12)\n",
    "ax.set_xlabel('Age Bins', fontsize=12)\n",
    "ax.set_xticks([0,1,2,3,4,5,6,7,8,9])\n",
    "ax.set_xticklabels(labels=categories['age'])\n",
    "plt.title(\"Frequency Distribution of Age Categories\")\n",
    "plt.show()"
   ]
  },
  {
   "cell_type": "markdown",
   "id": "6f62abff",
   "metadata": {},
   "source": [
    "***"
   ]
  },
  {
   "cell_type": "markdown",
   "id": "5b8a741f",
   "metadata": {},
   "source": [
    "# Full Sequential Synthesis Driven by Bayesian Optimization"
   ]
  },
  {
   "cell_type": "markdown",
   "id": "8169fec7",
   "metadata": {},
   "source": [
    "Function to be used in Bayesian bootstrap."
   ]
  },
  {
   "cell_type": "code",
   "execution_count": null,
   "id": "e80a8660",
   "metadata": {},
   "outputs": [],
   "source": [
    "def stat(x):\n",
    "    return x"
   ]
  },
  {
   "cell_type": "markdown",
   "id": "3a1688b8",
   "metadata": {},
   "source": [
    "Write function to train all models and generate the synthetic dataset, then evaluate the pMSE ratio."
   ]
  },
  {
   "cell_type": "code",
   "execution_count": null,
   "id": "ab5f897a",
   "metadata": {},
   "outputs": [],
   "source": [
    "def train_models(#overall parameters\n",
    "                 train_data,\n",
    "                 number_synthetic_datasets,\n",
    "                 # hyperparameters for GMM, end with underscore means Bayesian optimization will choose\n",
    "                 number_gmm_initializations,\n",
    "                 num_components_,\n",
    "                 # hyperparameters for CART, end with underscore means Bayesian optimization will choose\n",
    "                 ccp_alpha_sex_,\n",
    "                 ccp_alpha_age_,\n",
    "                 ccp_alpha_state_):\n",
    "    \n",
    "    num_samples = train_data.shape[0]\n",
    "    \n",
    "    ########## Code for GMM ############\n",
    "    \n",
    "    # fit GMM model\n",
    "    GMM = GaussianMixture(num_components_, n_init=number_gmm_initializations).fit(train_data.loc[:,[\"latitude\", \"longitude\"]])\n",
    "    \n",
    "    # list for synthetic datasets\n",
    "    sXs = []\n",
    "    \n",
    "    # generate and store number_synthetic_datasets synthetic datasets\n",
    "    for i in range(number_synthetic_datasets):\n",
    "        sX = GMM.sample(num_samples)[0]\n",
    "        sX = pd.DataFrame(sX)\n",
    "        sX.columns = ['latitude', 'longitude']\n",
    "        sXs.append(sX)\n",
    "        \n",
    "    ####################################################################################################\n",
    "        \n",
    "    ########### Code for sex CART ##########\n",
    "    \n",
    "    cart_sex = DecisionTreeClassifier(ccp_alpha=ccp_alpha_sex_)\n",
    "    \n",
    "    cart_sex.fit(X=train_data.loc[:,[\"latitude\", \"longitude\"]], y=train_data.loc[:,\"sex\"])\n",
    "    \n",
    "    node_indicators = cart_sex.decision_path(train_data.loc[:,[\"latitude\", \"longitude\"]]).toarray()\n",
    "    \n",
    "    node_outcomes = [train_data.sex[node_indicators[:,x]==1] for x in np.arange(node_indicators.shape[1])]\n",
    "    \n",
    "    bst_vals = [bayesian_bootstrap(X=np.array(x), \n",
    "                                   statistic=stat,\n",
    "                                   n_replications=1,\n",
    "                                   resample_size=len(x))[0] for x in node_outcomes]\n",
    "    \n",
    "    probs = [[np.sum(x==y)/len(y) for x in np.unique(train_data.sex)] for y in bst_vals]\n",
    "    \n",
    "    # sample values according to a Bayesian bootstrap\n",
    "    \n",
    "    for i in range(number_synthetic_datasets):\n",
    "        \n",
    "        synth_leaves = cart_sex.apply(sXs[i].loc[:,[\"latitude\", \"longitude\"]])\n",
    "        \n",
    "        new_sex = np.zeros(len(synth_leaves), dtype=int)\n",
    "        \n",
    "        for j, x in enumerate(np.arange(node_indicators.shape[1])):\n",
    "            \n",
    "            new_sex[synth_leaves==x] = np.random.binomial(n=1, p=probs[j][1], size=np.sum(synth_leaves==x))\n",
    "        \n",
    "        new_sex = pd.Series(new_sex)\n",
    "        \n",
    "        new_sex.name = \"sex\"\n",
    "        \n",
    "        sXs[i] = pd.concat([sXs[i], new_sex], axis=1)\n",
    "        \n",
    "    ####################################################################################################\n",
    "        \n",
    "    ########### Code for age CART ##########\n",
    "    cart_age = DecisionTreeClassifier(ccp_alpha=ccp_alpha_age_)\n",
    "    \n",
    "    cart_age.fit(X=train_data.loc[:,[\"latitude\", \"longitude\", \"sex\"]], y=train_data.loc[:,\"age\"])\n",
    "    \n",
    "    node_indicators = cart_age.decision_path(train_data.loc[:,[\"latitude\", \"longitude\", \"sex\"]]).toarray()\n",
    "    \n",
    "    node_outcomes = [train_data.age[node_indicators[:,x]==1] for x in np.arange(node_indicators.shape[1])]\n",
    "    \n",
    "    bst_vals = [bayesian_bootstrap(X=np.array(x), \n",
    "                                   statistic=stat,\n",
    "                                   n_replications=1,\n",
    "                                   resample_size=len(x))[0] for x in node_outcomes]\n",
    "    \n",
    "    probs = [[np.sum(x==y)/len(y) for x in np.unique(train_data.age)] for y in bst_vals]\n",
    "    \n",
    "    # sample values according to a Bayesian bootstrap\n",
    "    \n",
    "    for i in range(number_synthetic_datasets):\n",
    "        \n",
    "        synth_leaves = cart_age.apply(sXs[i].loc[:,[\"latitude\", \"longitude\", \"sex\"]])\n",
    "        \n",
    "        new_age = np.zeros(len(synth_leaves), dtype=int)\n",
    "        \n",
    "        for j, x in enumerate(np.arange(node_indicators.shape[1])):\n",
    "            \n",
    "            draws = np.random.multinomial(n=1, pvals=probs[j], size=np.sum(synth_leaves==x))\n",
    "            \n",
    "            draws = np.argmax(draws, axis=1)\n",
    "            \n",
    "            new_age[synth_leaves==x] = draws\n",
    "        \n",
    "        new_age = pd.Series(new_age)\n",
    "        \n",
    "        new_age.name = \"age\"\n",
    "        \n",
    "        sXs[i] = pd.concat([sXs[i], new_age], axis=1)\n",
    "        \n",
    "    ####################################################################################################\n",
    "    \n",
    "    ########### Code for state CART ##########\n",
    "    \n",
    "    cart_state = DecisionTreeClassifier(ccp_alpha=ccp_alpha_state_)\n",
    "    \n",
    "    cart_state.fit(X=train_data.loc[:,[\"latitude\", \"longitude\", \"sex\", \"age\"]], y=train_data.loc[:,\"state\"])\n",
    "    \n",
    "    node_indicators = cart_state.decision_path(train_data.loc[:,[\"latitude\", \"longitude\", \"sex\", \"age\"]]).toarray()\n",
    "    \n",
    "    node_outcomes = [train_data.state[node_indicators[:,x]==1] for x in np.arange(node_indicators.shape[1])]\n",
    "    \n",
    "    bst_vals = [bayesian_bootstrap(X=np.array(x), \n",
    "                                   statistic=stat,\n",
    "                                   n_replications=1,\n",
    "                                   resample_size=len(x))[0] for x in node_outcomes]\n",
    "    \n",
    "    probs = [[np.sum(x==y)/len(y) for x in np.unique(train_data.state)] for y in bst_vals]\n",
    "    \n",
    "    # sample values according to a Bayesian bootstrap\n",
    "    \n",
    "    for i in range(number_synthetic_datasets):\n",
    "        \n",
    "        synth_leaves = cart_state.apply(sXs[i].loc[:,[\"latitude\", \"longitude\", \"sex\", \"age\"]])\n",
    "        \n",
    "        new_state = np.zeros(len(synth_leaves), dtype=int)\n",
    "        \n",
    "        for j, x in enumerate(np.arange(node_indicators.shape[1])):\n",
    "            \n",
    "            new_state[synth_leaves==x] = np.random.binomial(n=1, p=probs[j][1], size=np.sum(synth_leaves==x))\n",
    "        \n",
    "        new_state = pd.Series(new_state)\n",
    "        \n",
    "        new_state.name = \"state\"\n",
    "        \n",
    "        sXs[i] = pd.concat([sXs[i], new_state], axis=1)\n",
    "        \n",
    "    ###### Calculate pMSE ratios ######\n",
    "    pmse_ratios = [pmse_ratio(train_data, Y) for Y in sXs]\n",
    "    \n",
    "    return pmse_ratios, sXs, GMM, cart_sex, cart_age, cart_state"
   ]
  },
  {
   "cell_type": "code",
   "execution_count": null,
   "id": "796d2f96",
   "metadata": {},
   "outputs": [],
   "source": [
    "def optimize_models(train_data,\n",
    "                    number_synthetic_datasets,\n",
    "                    number_gmm_initializations,\n",
    "                    random_state):\n",
    "\n",
    "    def evaluate_models(num_components_, ccp_alpha_sex_, ccp_alpha_age_, ccp_alpha_state_):\n",
    "\n",
    "        pmse_ratios, _, _, _, _, _ = train_models(train_data=train_data,\n",
    "                                                  number_synthetic_datasets=number_synthetic_datasets,\n",
    "                                                  number_gmm_initializations=number_gmm_initializations,\n",
    "                                                  num_components_=int(num_components_),\n",
    "                                                  ccp_alpha_sex_=ccp_alpha_sex_,\n",
    "                                                  ccp_alpha_age_=ccp_alpha_age_,\n",
    "                                                  ccp_alpha_state_=ccp_alpha_state_)\n",
    "\n",
    "        return -np.mean([(1 - x)**2 for x in pmse_ratios])\n",
    "    \n",
    "    bounds_transformer = SequentialDomainReductionTransformer()\n",
    "\n",
    "    optimizer = BayesianOptimization(\n",
    "        f=evaluate_models,\n",
    "        pbounds={\n",
    "            \"num_components_\": (200, 800.99),\n",
    "            \"ccp_alpha_sex_\": (1e-9, 1e-3),\n",
    "            \"ccp_alpha_age_\": (1e-9, 1e-3),\n",
    "            \"ccp_alpha_state_\": (1e-9, 1e-3)\n",
    "        },\n",
    "        random_state=random_state)\n",
    "\n",
    "    optimizer.maximize(n_iter=1, acq='ei', xi=1e-2)\n",
    "    print(\"Final Result: \", optimizer.max)\n",
    "    return optimizer.max, optimizer"
   ]
  },
  {
   "cell_type": "code",
   "execution_count": null,
   "id": "15d5ded7",
   "metadata": {},
   "outputs": [],
   "source": [
    "nsd = 5\n",
    "ngi = 1\n",
    "random_states = [1234, 4321, 10620, 91695, 31296]"
   ]
  },
  {
   "cell_type": "code",
   "execution_count": null,
   "id": "fe01e70f",
   "metadata": {},
   "outputs": [],
   "source": [
    "optimization_results = [optimize_models(train_data=X, number_synthetic_datasets=nsd, number_gmm_initializations=ngi, random_state=r) for r in random_states]"
   ]
  },
  {
   "cell_type": "markdown",
   "id": "dab452a9",
   "metadata": {},
   "source": [
    "***"
   ]
  },
  {
   "cell_type": "code",
   "execution_count": null,
   "id": "2c71552b",
   "metadata": {},
   "outputs": [],
   "source": [
    "run_targets = [np.minimum.accumulate(-i[1].space.target) for i in optimization_results]"
   ]
  },
  {
   "cell_type": "code",
   "execution_count": null,
   "id": "bb2e246f",
   "metadata": {},
   "outputs": [],
   "source": [
    "plt.plot(run_targets[0])\n",
    "plt.scatter(np.arange(len(run_targets[0])), run_targets[0], s=6)\n",
    "plt.plot(run_targets[1])\n",
    "plt.scatter(np.arange(len(run_targets[1])), run_targets[1], s=6)\n",
    "plt.plot(run_targets[2])\n",
    "plt.scatter(np.arange(len(run_targets[2])), run_targets[2], s=6)\n",
    "plt.plot(run_targets[3])\n",
    "plt.scatter(np.arange(len(run_targets[3])), run_targets[3], s=6)\n",
    "plt.plot(run_targets[4])\n",
    "plt.scatter(np.arange(len(run_targets[4])), run_targets[4], s=6)\n",
    "plt.show()"
   ]
  },
  {
   "cell_type": "markdown",
   "id": "325348ce",
   "metadata": {},
   "source": [
    "Choose the params that gave the best objective value across all random seeds."
   ]
  },
  {
   "cell_type": "code",
   "execution_count": null,
   "id": "69f179aa",
   "metadata": {},
   "outputs": [],
   "source": [
    "best_params = optimization_results[np.argmax([x[0]['target'] for x in optimization_results])][0]"
   ]
  },
  {
   "cell_type": "markdown",
   "id": "8c940983",
   "metadata": {},
   "source": [
    "***"
   ]
  },
  {
   "cell_type": "markdown",
   "id": "c8e1ea09",
   "metadata": {},
   "source": [
    "Generate 100 synthetic datasets, choose the 20 that have the pMSE closest to 1."
   ]
  },
  {
   "cell_type": "code",
   "execution_count": null,
   "id": "9ed0391f",
   "metadata": {},
   "outputs": [],
   "source": [
    "ratios, sXs, GMM, cart_sex, cart_age, cart_state = train_models(train_data=X,\n",
    "                                                                number_synthetic_datasets=100,\n",
    "                                                                # hyperparameters for GMM\n",
    "                                                                number_gmm_initializations=ngi,\n",
    "                                                                num_components_=100,#int(best_params['params']['num_components_']),\n",
    "                                                                # hyperparameters for CART, end with underscore means Bayesian optimization will choose\n",
    "                                                                ccp_alpha_sex_=best_params['params']['ccp_alpha_sex_'],\n",
    "                                                                ccp_alpha_age_=best_params['params']['ccp_alpha_age_'],\n",
    "                                                                ccp_alpha_state_=best_params['params']['ccp_alpha_state_'])"
   ]
  },
  {
   "cell_type": "code",
   "execution_count": null,
   "id": "38fbece7",
   "metadata": {},
   "outputs": [],
   "source": [
    "indices = np.argsort([np.abs(1-r) for r in ratios])#[:20]"
   ]
  },
  {
   "cell_type": "code",
   "execution_count": null,
   "id": "5a2e1ff6",
   "metadata": {},
   "outputs": [],
   "source": [
    "sXs = [sXs[i] for i in indices]"
   ]
  },
  {
   "cell_type": "code",
   "execution_count": null,
   "id": "89d41b3b",
   "metadata": {},
   "outputs": [],
   "source": [
    "ratios = [ratios[i] for i in indices]"
   ]
  },
  {
   "cell_type": "code",
   "execution_count": null,
   "id": "352c4040",
   "metadata": {},
   "outputs": [],
   "source": [
    "np.exp(np.log(ratios).mean())"
   ]
  },
  {
   "cell_type": "code",
   "execution_count": null,
   "id": "52fde254",
   "metadata": {},
   "outputs": [],
   "source": [
    "np.mean([np.abs(1 - x) for x in ratios])"
   ]
  },
  {
   "cell_type": "code",
   "execution_count": null,
   "id": "32a77c16",
   "metadata": {},
   "outputs": [],
   "source": [
    "plt.violinplot(ratios)\n",
    "plt.xlabel(\"Density\")\n",
    "plt.ylabel(\"pMSE Ratio\")\n",
    "plt.title(\"Distribution of pMSE Ratios\")\n",
    "plt.show()"
   ]
  },
  {
   "cell_type": "markdown",
   "id": "6584fe74",
   "metadata": {},
   "source": [
    "***"
   ]
  },
  {
   "cell_type": "markdown",
   "id": "e53ef6c3",
   "metadata": {},
   "source": [
    "Testing logistic and multinomial logistic regression synthesizers."
   ]
  },
  {
   "cell_type": "code",
   "execution_count": 14,
   "id": "4ec5cee4",
   "metadata": {},
   "outputs": [],
   "source": [
    "def polynomial_and_standardize(dataset, poly_degree=2, interaction_only=False):\n",
    "    \n",
    "    poly = PolynomialFeatures(degree=poly_degree, interaction_only=interaction_only, include_bias=False)\n",
    "    \n",
    "    X = poly.fit_transform(dataset)\n",
    "    \n",
    "    scaled_X = preprocessing.StandardScaler().fit_transform(X)\n",
    "    \n",
    "    return scaled_X"
   ]
  },
  {
   "cell_type": "code",
   "execution_count": 15,
   "id": "2d47e962",
   "metadata": {},
   "outputs": [],
   "source": [
    "def multinomial_synthesizer(orig_data, synth_data_sets, target, penalty_param, poly_degree=2, interaction_only=False):\n",
    "    \n",
    "    mn_model = LogisticRegression(penalty='l1', C=penalty_param, solver='saga', max_iter=1000, multi_class='multinomial')\n",
    "    \n",
    "    X = polynomial_and_standardize(dataset=orig_data, poly_degree=poly_degree, interaction_only=interaction_only)\n",
    "    \n",
    "    sXs = [polynomial_and_standardize(dataset=Y, poly_degree=poly_degree, interaction_only=interaction_only) for Y in synth_data_sets]\n",
    "    \n",
    "    vals = []\n",
    "    \n",
    "    mn_model.fit(X, target)\n",
    "    \n",
    "    for Y in sXs:\n",
    "    \n",
    "        probs = mn_model.predict_proba(Y)\n",
    "    \n",
    "        rng = default_rng()\n",
    "    \n",
    "        v = [np.argmax(rng.multinomial(n=1, pvals=p, size=1)==1) for p in probs]\n",
    "    \n",
    "        vals.append(pd.Series(v, name=target.name))\n",
    "    \n",
    "    return vals"
   ]
  },
  {
   "cell_type": "code",
   "execution_count": 16,
   "id": "6927923b",
   "metadata": {},
   "outputs": [],
   "source": [
    "def train_models_mn(#overall parameters\n",
    "                    train_data,\n",
    "                    number_synthetic_datasets,\n",
    "                    # hyperparameters for GMM, end with underscore means Bayesian optimization will choose\n",
    "                    number_gmm_initializations,\n",
    "                    num_components_,\n",
    "                    # hyperparameters for CART, end with underscore means Bayesian optimization will choose\n",
    "                    C_sex_,\n",
    "                    C_age_,\n",
    "                    C_state_):\n",
    "    \n",
    "    num_samples = train_data.shape[0]\n",
    "    \n",
    "    ########## Code for GMM ############\n",
    "    \n",
    "    # fit GMM model\n",
    "    GMM = GaussianMixture(num_components_, n_init=number_gmm_initializations).fit(train_data.loc[:,[\"latitude\", \"longitude\"]])\n",
    "    \n",
    "    # list for synthetic datasets\n",
    "    sXs = []\n",
    "    \n",
    "    # generate and store number_synthetic_datasets synthetic datasets\n",
    "    for i in range(number_synthetic_datasets):\n",
    "        sX = GMM.sample(num_samples)[0]\n",
    "        sX = pd.DataFrame(sX)\n",
    "        sX.columns = ['latitude', 'longitude']\n",
    "        sXs.append(sX)\n",
    "        \n",
    "    ####################################################################################################\n",
    "        \n",
    "    ########### Code for sex MN ##########\n",
    "    \n",
    "    synth_sex_vars = multinomial_synthesizer(orig_data=train_data.loc[:,[\"latitude\", \"longitude\"]], \n",
    "                                             synth_data_sets=sXs, \n",
    "                                             target=train_data.sex, \n",
    "                                             penalty_param=C_sex_)\n",
    "    \n",
    "    sXs = [pd.concat([Y, synth_sex_vars[i]], axis=1) for i,Y in enumerate(sXs)]\n",
    "        \n",
    "    ####################################################################################################\n",
    "        \n",
    "    ########### Code for age MN ##########\n",
    "    \n",
    "    synth_age_vars = multinomial_synthesizer(orig_data=train_data.loc[:,[\"latitude\", \"longitude\", \"sex\"]], \n",
    "                                             synth_data_sets=sXs, \n",
    "                                             target=train_data.age, \n",
    "                                             penalty_param=C_age_)\n",
    "    \n",
    "    sXs = [pd.concat([Y, synth_age_vars[i]], axis=1) for i,Y in enumerate(sXs)]\n",
    "        \n",
    "    ####################################################################################################\n",
    "    \n",
    "    ########### Code for state MN ##########\n",
    "    \n",
    "    synth_state_vars = multinomial_synthesizer(orig_data=train_data.loc[:,[\"latitude\", \"longitude\", \"sex\", \"age\"]], \n",
    "                                               synth_data_sets=sXs, \n",
    "                                               target=train_data.state, \n",
    "                                               penalty_param=C_state_)\n",
    "    \n",
    "    sXs = [pd.concat([Y, synth_state_vars[i]], axis=1) for i,Y in enumerate(sXs)]\n",
    "        \n",
    "    ###### Calculate pMSE ratios ######\n",
    "    pmse_ratios = [pmse_ratio(train_data, Y) for Y in sXs]\n",
    "    \n",
    "    return pmse_ratios, sXs, GMM"
   ]
  },
  {
   "cell_type": "code",
   "execution_count": 17,
   "id": "51b65e19",
   "metadata": {},
   "outputs": [],
   "source": [
    "def optimize_models_mn(train_data,\n",
    "                       number_synthetic_datasets,\n",
    "                       number_gmm_initializations,\n",
    "                       random_state):\n",
    "\n",
    "    def evaluate_models(num_components_, C_sex_, C_age_, C_state_):\n",
    "\n",
    "        pmse_ratios, _, _ = train_models_mn(train_data=train_data,\n",
    "                                            number_synthetic_datasets=number_synthetic_datasets,\n",
    "                                            number_gmm_initializations=number_gmm_initializations,\n",
    "                                            num_components_=int(num_components_),\n",
    "                                            C_sex_=C_sex_,\n",
    "                                            C_age_=C_age_,\n",
    "                                            C_state_=C_state_)\n",
    "\n",
    "        return -np.mean([(1 - x)**2 for x in pmse_ratios])\n",
    "    \n",
    "    bounds_transformer = SequentialDomainReductionTransformer()\n",
    "\n",
    "    optimizer = BayesianOptimization(\n",
    "        f=evaluate_models,\n",
    "        pbounds={\n",
    "            \"num_components_\": (200, 800.99),\n",
    "            \"C_sex_\": (0.1, 1),\n",
    "            \"C_age_\": (0.1, 1),\n",
    "            \"C_state_\": (0.1, 1)\n",
    "        },\n",
    "        random_state=random_state)\n",
    "\n",
    "    optimizer.maximize(acq='ei', xi=1e-2)\n",
    "    print(\"Final Result: \", optimizer.max)\n",
    "    return optimizer.max, optimizer"
   ]
  },
  {
   "cell_type": "code",
   "execution_count": 18,
   "id": "13b295a6",
   "metadata": {},
   "outputs": [],
   "source": [
    "nsd = 20\n",
    "ngi = 5\n",
    "random_states = [1234, 4321, 10620, 91695, 31296]"
   ]
  },
  {
   "cell_type": "code",
   "execution_count": 19,
   "id": "93c78ab1",
   "metadata": {},
   "outputs": [
    {
     "name": "stdout",
     "output_type": "stream",
     "text": [
      "|   iter    |  target   |  C_age_   |  C_sex_   | C_state_  | num_co... |\n",
      "-------------------------------------------------------------------------\n",
      "| \u001b[0m 1       \u001b[0m | \u001b[0m-0.2177  \u001b[0m | \u001b[0m 0.2724  \u001b[0m | \u001b[0m 0.6599  \u001b[0m | \u001b[0m 0.494   \u001b[0m | \u001b[0m 672.0   \u001b[0m |\n",
      "| \u001b[95m 2       \u001b[0m | \u001b[95m-0.2011  \u001b[0m | \u001b[95m 0.802   \u001b[0m | \u001b[95m 0.3453  \u001b[0m | \u001b[95m 0.3488  \u001b[0m | \u001b[95m 681.9   \u001b[0m |\n",
      "| \u001b[95m 3       \u001b[0m | \u001b[95m-0.127   \u001b[0m | \u001b[95m 0.9623  \u001b[0m | \u001b[95m 0.8883  \u001b[0m | \u001b[95m 0.422   \u001b[0m | \u001b[95m 501.1   \u001b[0m |\n",
      "| \u001b[0m 4       \u001b[0m | \u001b[0m-0.1574  \u001b[0m | \u001b[0m 0.7151  \u001b[0m | \u001b[0m 0.7414  \u001b[0m | \u001b[0m 0.4332  \u001b[0m | \u001b[0m 537.3   \u001b[0m |\n",
      "| \u001b[0m 5       \u001b[0m | \u001b[0m-0.182   \u001b[0m | \u001b[0m 0.5528  \u001b[0m | \u001b[0m 0.1124  \u001b[0m | \u001b[0m 0.7955  \u001b[0m | \u001b[0m 730.5   \u001b[0m |\n",
      "| \u001b[0m 6       \u001b[0m | \u001b[0m-0.4979  \u001b[0m | \u001b[0m 0.1909  \u001b[0m | \u001b[0m 0.369   \u001b[0m | \u001b[0m 0.5124  \u001b[0m | \u001b[0m 480.3   \u001b[0m |\n",
      "| \u001b[0m 7       \u001b[0m | \u001b[0m-0.1898  \u001b[0m | \u001b[0m 0.6266  \u001b[0m | \u001b[0m 0.2079  \u001b[0m | \u001b[0m 0.6768  \u001b[0m | \u001b[0m 506.2   \u001b[0m |\n",
      "| \u001b[95m 8       \u001b[0m | \u001b[95m-0.083   \u001b[0m | \u001b[95m 0.9165  \u001b[0m | \u001b[95m 0.3963  \u001b[0m | \u001b[95m 0.8929  \u001b[0m | \u001b[95m 546.1   \u001b[0m |\n",
      "| \u001b[0m 9       \u001b[0m | \u001b[0m-0.676   \u001b[0m | \u001b[0m 0.1     \u001b[0m | \u001b[0m 1.0     \u001b[0m | \u001b[0m 0.1     \u001b[0m | \u001b[0m 552.5   \u001b[0m |\n",
      "| \u001b[0m 10      \u001b[0m | \u001b[0m-0.1469  \u001b[0m | \u001b[0m 0.5058  \u001b[0m | \u001b[0m 0.2281  \u001b[0m | \u001b[0m 0.7857  \u001b[0m | \u001b[0m 545.3   \u001b[0m |\n",
      "| \u001b[0m 11      \u001b[0m | \u001b[0m-0.2783  \u001b[0m | \u001b[0m 0.2677  \u001b[0m | \u001b[0m 0.9087  \u001b[0m | \u001b[0m 0.9608  \u001b[0m | \u001b[0m 547.0   \u001b[0m |\n",
      "| \u001b[0m 12      \u001b[0m | \u001b[0m-0.2589  \u001b[0m | \u001b[0m 1.0     \u001b[0m | \u001b[0m 0.1     \u001b[0m | \u001b[0m 0.1     \u001b[0m | \u001b[0m 546.1   \u001b[0m |\n",
      "| \u001b[0m 13      \u001b[0m | \u001b[0m-0.1268  \u001b[0m | \u001b[0m 0.9528  \u001b[0m | \u001b[0m 0.5381  \u001b[0m | \u001b[0m 0.9606  \u001b[0m | \u001b[0m 545.8   \u001b[0m |\n",
      "| \u001b[0m 14      \u001b[0m | \u001b[0m-0.2552  \u001b[0m | \u001b[0m 0.4252  \u001b[0m | \u001b[0m 0.9007  \u001b[0m | \u001b[0m 0.6108  \u001b[0m | \u001b[0m 501.9   \u001b[0m |\n",
      "| \u001b[0m 15      \u001b[0m | \u001b[0m-0.2722  \u001b[0m | \u001b[0m 0.9488  \u001b[0m | \u001b[0m 0.8133  \u001b[0m | \u001b[0m 0.3681  \u001b[0m | \u001b[0m 500.1   \u001b[0m |\n",
      "| \u001b[0m 16      \u001b[0m | \u001b[0m-0.3867  \u001b[0m | \u001b[0m 0.1883  \u001b[0m | \u001b[0m 0.4138  \u001b[0m | \u001b[0m 0.9485  \u001b[0m | \u001b[0m 546.1   \u001b[0m |\n",
      "| \u001b[0m 17      \u001b[0m | \u001b[0m-0.1876  \u001b[0m | \u001b[0m 0.5249  \u001b[0m | \u001b[0m 0.7203  \u001b[0m | \u001b[0m 0.4627  \u001b[0m | \u001b[0m 690.1   \u001b[0m |\n",
      "| \u001b[0m 18      \u001b[0m | \u001b[0m-0.1051  \u001b[0m | \u001b[0m 0.9324  \u001b[0m | \u001b[0m 0.1447  \u001b[0m | \u001b[0m 0.7415  \u001b[0m | \u001b[0m 546.0   \u001b[0m |\n",
      "| \u001b[0m 19      \u001b[0m | \u001b[0m-0.188   \u001b[0m | \u001b[0m 0.7163  \u001b[0m | \u001b[0m 0.3271  \u001b[0m | \u001b[0m 0.3816  \u001b[0m | \u001b[0m 544.7   \u001b[0m |\n",
      "| \u001b[0m 20      \u001b[0m | \u001b[0m-0.09228 \u001b[0m | \u001b[0m 0.9406  \u001b[0m | \u001b[0m 0.6164  \u001b[0m | \u001b[0m 0.6039  \u001b[0m | \u001b[0m 546.2   \u001b[0m |\n",
      "| \u001b[0m 21      \u001b[0m | \u001b[0m-0.2829  \u001b[0m | \u001b[0m 0.8018  \u001b[0m | \u001b[0m 0.1802  \u001b[0m | \u001b[0m 0.126   \u001b[0m | \u001b[0m 501.2   \u001b[0m |\n",
      "| \u001b[0m 22      \u001b[0m | \u001b[0m-0.2789  \u001b[0m | \u001b[0m 0.3328  \u001b[0m | \u001b[0m 0.1306  \u001b[0m | \u001b[0m 0.6929  \u001b[0m | \u001b[0m 537.8   \u001b[0m |\n",
      "| \u001b[0m 23      \u001b[0m | \u001b[0m-0.1124  \u001b[0m | \u001b[0m 0.832   \u001b[0m | \u001b[0m 0.773   \u001b[0m | \u001b[0m 0.901   \u001b[0m | \u001b[0m 536.7   \u001b[0m |\n",
      "| \u001b[0m 24      \u001b[0m | \u001b[0m-0.1577  \u001b[0m | \u001b[0m 0.6006  \u001b[0m | \u001b[0m 0.9302  \u001b[0m | \u001b[0m 0.8048  \u001b[0m | \u001b[0m 536.1   \u001b[0m |\n",
      "| \u001b[0m 25      \u001b[0m | \u001b[0m-0.3019  \u001b[0m | \u001b[0m 0.8262  \u001b[0m | \u001b[0m 0.598   \u001b[0m | \u001b[0m 0.2203  \u001b[0m | \u001b[0m 536.4   \u001b[0m |\n",
      "| \u001b[0m 26      \u001b[0m | \u001b[0m-0.2865  \u001b[0m | \u001b[0m 0.2646  \u001b[0m | \u001b[0m 0.8442  \u001b[0m | \u001b[0m 0.9465  \u001b[0m | \u001b[0m 536.6   \u001b[0m |\n",
      "| \u001b[0m 27      \u001b[0m | \u001b[0m-0.1574  \u001b[0m | \u001b[0m 0.9765  \u001b[0m | \u001b[0m 0.9869  \u001b[0m | \u001b[0m 0.7756  \u001b[0m | \u001b[0m 545.9   \u001b[0m |\n",
      "| \u001b[0m 28      \u001b[0m | \u001b[0m-0.1425  \u001b[0m | \u001b[0m 0.9547  \u001b[0m | \u001b[0m 0.3866  \u001b[0m | \u001b[0m 0.8396  \u001b[0m | \u001b[0m 545.9   \u001b[0m |\n",
      "| \u001b[0m 29      \u001b[0m | \u001b[0m-0.1228  \u001b[0m | \u001b[0m 1.0     \u001b[0m | \u001b[0m 1.0     \u001b[0m | \u001b[0m 0.9272  \u001b[0m | \u001b[0m 537.1   \u001b[0m |\n",
      "| \u001b[0m 30      \u001b[0m | \u001b[0m-0.1253  \u001b[0m | \u001b[0m 0.8169  \u001b[0m | \u001b[0m 0.167   \u001b[0m | \u001b[0m 0.9953  \u001b[0m | \u001b[0m 512.2   \u001b[0m |\n",
      "=========================================================================\n",
      "Final Result:  {'target': -0.08300395541536003, 'params': {'C_age_': 0.9165392293820231, 'C_sex_': 0.3962963449448256, 'C_state_': 0.8929264200392774, 'num_components_': 546.1255695944657}}\n",
      "|   iter    |  target   |  C_age_   |  C_sex_   | C_state_  | num_co... |\n",
      "-------------------------------------------------------------------------\n",
      "| \u001b[0m 1       \u001b[0m | \u001b[0m-0.3735  \u001b[0m | \u001b[0m 0.1637  \u001b[0m | \u001b[0m 0.8336  \u001b[0m | \u001b[0m 0.7911  \u001b[0m | \u001b[0m 372.1   \u001b[0m |\n"
     ]
    },
    {
     "name": "stderr",
     "output_type": "stream",
     "text": [
      "C:\\Users\\Cameron\\anaconda3\\lib\\site-packages\\sklearn\\linear_model\\_logistic.py:444: ConvergenceWarning: lbfgs failed to converge (status=1):\n",
      "STOP: TOTAL NO. of ITERATIONS REACHED LIMIT.\n",
      "\n",
      "Increase the number of iterations (max_iter) or scale the data as shown in:\n",
      "    https://scikit-learn.org/stable/modules/preprocessing.html\n",
      "Please also refer to the documentation for alternative solver options:\n",
      "    https://scikit-learn.org/stable/modules/linear_model.html#logistic-regression\n",
      "  n_iter_i = _check_optimize_result(\n"
     ]
    },
    {
     "name": "stdout",
     "output_type": "stream",
     "text": [
      "| \u001b[95m 2       \u001b[0m | \u001b[95m-0.2474  \u001b[0m | \u001b[95m 0.2738  \u001b[0m | \u001b[95m 0.981   \u001b[0m | \u001b[95m 0.4656  \u001b[0m | \u001b[95m 655.4   \u001b[0m |\n",
      "| \u001b[0m 3       \u001b[0m | \u001b[0m-0.3644  \u001b[0m | \u001b[0m 0.1802  \u001b[0m | \u001b[0m 0.3789  \u001b[0m | \u001b[0m 0.657   \u001b[0m | \u001b[0m 476.4   \u001b[0m |\n",
      "| \u001b[95m 4       \u001b[0m | \u001b[95m-0.1933  \u001b[0m | \u001b[95m 0.2965  \u001b[0m | \u001b[95m 0.6972  \u001b[0m | \u001b[95m 0.7108  \u001b[0m | \u001b[95m 771.1   \u001b[0m |\n",
      "| \u001b[0m 5       \u001b[0m | \u001b[0m-0.243   \u001b[0m | \u001b[0m 0.3531  \u001b[0m | \u001b[0m 0.6579  \u001b[0m | \u001b[0m 0.445   \u001b[0m | \u001b[0m 440.6   \u001b[0m |\n",
      "| \u001b[0m 6       \u001b[0m | \u001b[0m-0.3878  \u001b[0m | \u001b[0m 0.2015  \u001b[0m | \u001b[0m 0.1249  \u001b[0m | \u001b[0m 0.2732  \u001b[0m | \u001b[0m 771.1   \u001b[0m |\n",
      "| \u001b[95m 7       \u001b[0m | \u001b[95m-0.1296  \u001b[0m | \u001b[95m 0.7855  \u001b[0m | \u001b[95m 0.7889  \u001b[0m | \u001b[95m 0.8925  \u001b[0m | \u001b[95m 395.6   \u001b[0m |\n",
      "| \u001b[95m 8       \u001b[0m | \u001b[95m-0.09227 \u001b[0m | \u001b[95m 0.4576  \u001b[0m | \u001b[95m 0.7102  \u001b[0m | \u001b[95m 0.5673  \u001b[0m | \u001b[95m 325.4   \u001b[0m |\n",
      "| \u001b[0m 9       \u001b[0m | \u001b[0m-0.1975  \u001b[0m | \u001b[0m 0.361   \u001b[0m | \u001b[0m 0.7156  \u001b[0m | \u001b[0m 0.6818  \u001b[0m | \u001b[0m 325.2   \u001b[0m |\n",
      "| \u001b[0m 10      \u001b[0m | \u001b[0m-0.1597  \u001b[0m | \u001b[0m 0.9808  \u001b[0m | \u001b[0m 0.781   \u001b[0m | \u001b[0m 0.8065  \u001b[0m | \u001b[0m 291.3   \u001b[0m |\n",
      "| \u001b[0m 11      \u001b[0m | \u001b[0m-0.1936  \u001b[0m | \u001b[0m 0.9957  \u001b[0m | \u001b[0m 0.7495  \u001b[0m | \u001b[0m 0.7725  \u001b[0m | \u001b[0m 576.7   \u001b[0m |\n",
      "| \u001b[0m 12      \u001b[0m | \u001b[0m-0.2292  \u001b[0m | \u001b[0m 0.2019  \u001b[0m | \u001b[0m 0.7412  \u001b[0m | \u001b[0m 0.4541  \u001b[0m | \u001b[0m 325.4   \u001b[0m |\n",
      "| \u001b[0m 13      \u001b[0m | \u001b[0m-0.3039  \u001b[0m | \u001b[0m 0.1649  \u001b[0m | \u001b[0m 0.6421  \u001b[0m | \u001b[0m 0.4599  \u001b[0m | \u001b[0m 332.8   \u001b[0m |\n",
      "| \u001b[0m 14      \u001b[0m | \u001b[0m-0.2831  \u001b[0m | \u001b[0m 0.4251  \u001b[0m | \u001b[0m 0.2416  \u001b[0m | \u001b[0m 0.9284  \u001b[0m | \u001b[0m 230.5   \u001b[0m |\n",
      "| \u001b[0m 15      \u001b[0m | \u001b[0m-0.148   \u001b[0m | \u001b[0m 0.8753  \u001b[0m | \u001b[0m 0.7303  \u001b[0m | \u001b[0m 0.7902  \u001b[0m | \u001b[0m 395.6   \u001b[0m |\n",
      "| \u001b[0m 16      \u001b[0m | \u001b[0m-0.3959  \u001b[0m | \u001b[0m 0.2637  \u001b[0m | \u001b[0m 0.9305  \u001b[0m | \u001b[0m 0.2883  \u001b[0m | \u001b[0m 377.6   \u001b[0m |\n",
      "| \u001b[0m 17      \u001b[0m | \u001b[0m-0.4249  \u001b[0m | \u001b[0m 0.101   \u001b[0m | \u001b[0m 0.3402  \u001b[0m | \u001b[0m 0.4607  \u001b[0m | \u001b[0m 288.2   \u001b[0m |\n",
      "| \u001b[0m 18      \u001b[0m | \u001b[0m-0.1857  \u001b[0m | \u001b[0m 0.5122  \u001b[0m | \u001b[0m 0.6623  \u001b[0m | \u001b[0m 0.4804  \u001b[0m | \u001b[0m 325.6   \u001b[0m |\n",
      "| \u001b[0m 19      \u001b[0m | \u001b[0m-0.1659  \u001b[0m | \u001b[0m 0.7992  \u001b[0m | \u001b[0m 0.9114  \u001b[0m | \u001b[0m 0.1991  \u001b[0m | \u001b[0m 331.4   \u001b[0m |\n",
      "| \u001b[0m 20      \u001b[0m | \u001b[0m-0.1408  \u001b[0m | \u001b[0m 0.4324  \u001b[0m | \u001b[0m 0.6002  \u001b[0m | \u001b[0m 0.4117  \u001b[0m | \u001b[0m 325.2   \u001b[0m |\n",
      "| \u001b[0m 21      \u001b[0m | \u001b[0m-0.152   \u001b[0m | \u001b[0m 0.8927  \u001b[0m | \u001b[0m 0.9182  \u001b[0m | \u001b[0m 0.9153  \u001b[0m | \u001b[0m 753.6   \u001b[0m |\n",
      "| \u001b[0m 22      \u001b[0m | \u001b[0m-0.1784  \u001b[0m | \u001b[0m 0.8625  \u001b[0m | \u001b[0m 0.3976  \u001b[0m | \u001b[0m 0.8673  \u001b[0m | \u001b[0m 605.1   \u001b[0m |\n",
      "| \u001b[0m 23      \u001b[0m | \u001b[0m-0.1103  \u001b[0m | \u001b[0m 0.6634  \u001b[0m | \u001b[0m 0.7695  \u001b[0m | \u001b[0m 0.6005  \u001b[0m | \u001b[0m 395.8   \u001b[0m |\n",
      "| \u001b[0m 24      \u001b[0m | \u001b[0m-0.2054  \u001b[0m | \u001b[0m 0.8154  \u001b[0m | \u001b[0m 0.4217  \u001b[0m | \u001b[0m 0.5051  \u001b[0m | \u001b[0m 325.2   \u001b[0m |\n",
      "| \u001b[0m 25      \u001b[0m | \u001b[0m-0.1246  \u001b[0m | \u001b[0m 0.6303  \u001b[0m | \u001b[0m 0.9743  \u001b[0m | \u001b[0m 0.7124  \u001b[0m | \u001b[0m 395.7   \u001b[0m |\n",
      "| \u001b[0m 26      \u001b[0m | \u001b[0m-0.4008  \u001b[0m | \u001b[0m 0.1194  \u001b[0m | \u001b[0m 0.5925  \u001b[0m | \u001b[0m 0.8849  \u001b[0m | \u001b[0m 483.4   \u001b[0m |\n",
      "| \u001b[0m 27      \u001b[0m | \u001b[0m-0.1463  \u001b[0m | \u001b[0m 0.8425  \u001b[0m | \u001b[0m 0.4915  \u001b[0m | \u001b[0m 0.5681  \u001b[0m | \u001b[0m 325.2   \u001b[0m |\n",
      "| \u001b[0m 28      \u001b[0m | \u001b[0m-0.1167  \u001b[0m | \u001b[0m 0.6374  \u001b[0m | \u001b[0m 0.5799  \u001b[0m | \u001b[0m 0.8392  \u001b[0m | \u001b[0m 325.5   \u001b[0m |\n",
      "| \u001b[0m 29      \u001b[0m | \u001b[0m-0.2385  \u001b[0m | \u001b[0m 0.2661  \u001b[0m | \u001b[0m 0.6992  \u001b[0m | \u001b[0m 0.5356  \u001b[0m | \u001b[0m 277.3   \u001b[0m |\n",
      "| \u001b[0m 30      \u001b[0m | \u001b[0m-0.2288  \u001b[0m | \u001b[0m 0.6685  \u001b[0m | \u001b[0m 0.7188  \u001b[0m | \u001b[0m 0.6081  \u001b[0m | \u001b[0m 325.4   \u001b[0m |\n",
      "=========================================================================\n",
      "Final Result:  {'target': -0.09227053356275175, 'params': {'C_age_': 0.457590167591302, 'C_sex_': 0.710151360406313, 'C_state_': 0.5672691710259001, 'num_components_': 325.3509281442246}}\n",
      "|   iter    |  target   |  C_age_   |  C_sex_   | C_state_  | num_co... |\n",
      "-------------------------------------------------------------------------\n",
      "| \u001b[0m 1       \u001b[0m | \u001b[0m-0.2548  \u001b[0m | \u001b[0m 0.5648  \u001b[0m | \u001b[0m 0.3882  \u001b[0m | \u001b[0m 0.2513  \u001b[0m | \u001b[0m 231.5   \u001b[0m |\n",
      "| \u001b[95m 2       \u001b[0m | \u001b[95m-0.1656  \u001b[0m | \u001b[95m 0.9384  \u001b[0m | \u001b[95m 0.153   \u001b[0m | \u001b[95m 0.4921  \u001b[0m | \u001b[95m 214.9   \u001b[0m |\n",
      "| \u001b[95m 3       \u001b[0m | \u001b[95m-0.1331  \u001b[0m | \u001b[95m 0.5424  \u001b[0m | \u001b[95m 0.7312  \u001b[0m | \u001b[95m 0.7947  \u001b[0m | \u001b[95m 441.7   \u001b[0m |\n",
      "| \u001b[95m 4       \u001b[0m | \u001b[95m-0.09095 \u001b[0m | \u001b[95m 0.9278  \u001b[0m | \u001b[95m 0.5898  \u001b[0m | \u001b[95m 0.7184  \u001b[0m | \u001b[95m 348.1   \u001b[0m |\n",
      "| \u001b[0m 5       \u001b[0m | \u001b[0m-0.2425  \u001b[0m | \u001b[0m 0.3198  \u001b[0m | \u001b[0m 0.6073  \u001b[0m | \u001b[0m 0.3394  \u001b[0m | \u001b[0m 341.4   \u001b[0m |\n",
      "| \u001b[0m 6       \u001b[0m | \u001b[0m-0.1469  \u001b[0m | \u001b[0m 0.9829  \u001b[0m | \u001b[0m 0.3606  \u001b[0m | \u001b[0m 0.6427  \u001b[0m | \u001b[0m 348.0   \u001b[0m |\n",
      "| \u001b[0m 7       \u001b[0m | \u001b[0m-0.2142  \u001b[0m | \u001b[0m 0.2839  \u001b[0m | \u001b[0m 0.1576  \u001b[0m | \u001b[0m 0.2378  \u001b[0m | \u001b[0m 208.4   \u001b[0m |\n",
      "| \u001b[0m 8       \u001b[0m | \u001b[0m-0.1628  \u001b[0m | \u001b[0m 0.6907  \u001b[0m | \u001b[0m 0.4154  \u001b[0m | \u001b[0m 0.4379  \u001b[0m | \u001b[0m 348.3   \u001b[0m |\n",
      "| \u001b[0m 9       \u001b[0m | \u001b[0m-0.269   \u001b[0m | \u001b[0m 0.3262  \u001b[0m | \u001b[0m 0.3852  \u001b[0m | \u001b[0m 0.4668  \u001b[0m | \u001b[0m 534.1   \u001b[0m |\n",
      "| \u001b[0m 10      \u001b[0m | \u001b[0m-0.1871  \u001b[0m | \u001b[0m 0.6343  \u001b[0m | \u001b[0m 0.6279  \u001b[0m | \u001b[0m 0.821   \u001b[0m | \u001b[0m 348.1   \u001b[0m |\n",
      "| \u001b[0m 11      \u001b[0m | \u001b[0m-0.2157  \u001b[0m | \u001b[0m 0.418   \u001b[0m | \u001b[0m 0.9155  \u001b[0m | \u001b[0m 0.666   \u001b[0m | \u001b[0m 228.7   \u001b[0m |\n",
      "| \u001b[0m 12      \u001b[0m | \u001b[0m-0.2365  \u001b[0m | \u001b[0m 0.8311  \u001b[0m | \u001b[0m 0.7799  \u001b[0m | \u001b[0m 0.6478  \u001b[0m | \u001b[0m 348.1   \u001b[0m |\n",
      "| \u001b[0m 13      \u001b[0m | \u001b[0m-0.2199  \u001b[0m | \u001b[0m 0.8617  \u001b[0m | \u001b[0m 0.8696  \u001b[0m | \u001b[0m 0.6607  \u001b[0m | \u001b[0m 623.2   \u001b[0m |\n",
      "| \u001b[95m 14      \u001b[0m | \u001b[95m-0.08947 \u001b[0m | \u001b[95m 0.4816  \u001b[0m | \u001b[95m 0.9639  \u001b[0m | \u001b[95m 0.4425  \u001b[0m | \u001b[95m 507.5   \u001b[0m |\n",
      "| \u001b[0m 15      \u001b[0m | \u001b[0m-0.2886  \u001b[0m | \u001b[0m 0.6755  \u001b[0m | \u001b[0m 0.7972  \u001b[0m | \u001b[0m 0.1785  \u001b[0m | \u001b[0m 453.3   \u001b[0m |\n",
      "| \u001b[0m 16      \u001b[0m | \u001b[0m-0.1997  \u001b[0m | \u001b[0m 0.9161  \u001b[0m | \u001b[0m 0.7298  \u001b[0m | \u001b[0m 0.3126  \u001b[0m | \u001b[0m 679.6   \u001b[0m |\n",
      "| \u001b[0m 17      \u001b[0m | \u001b[0m-0.2765  \u001b[0m | \u001b[0m 0.821   \u001b[0m | \u001b[0m 0.454   \u001b[0m | \u001b[0m 0.1622  \u001b[0m | \u001b[0m 619.8   \u001b[0m |\n",
      "| \u001b[0m 18      \u001b[0m | \u001b[0m-0.1955  \u001b[0m | \u001b[0m 0.6327  \u001b[0m | \u001b[0m 0.4292  \u001b[0m | \u001b[0m 0.3792  \u001b[0m | \u001b[0m 709.2   \u001b[0m |\n",
      "| \u001b[0m 19      \u001b[0m | \u001b[0m-0.5132  \u001b[0m | \u001b[0m 0.2084  \u001b[0m | \u001b[0m 0.3491  \u001b[0m | \u001b[0m 0.1839  \u001b[0m | \u001b[0m 603.0   \u001b[0m |\n",
      "| \u001b[0m 20      \u001b[0m | \u001b[0m-0.2452  \u001b[0m | \u001b[0m 0.4516  \u001b[0m | \u001b[0m 0.1945  \u001b[0m | \u001b[0m 0.5074  \u001b[0m | \u001b[0m 761.9   \u001b[0m |\n",
      "| \u001b[0m 21      \u001b[0m | \u001b[0m-0.1552  \u001b[0m | \u001b[0m 0.6251  \u001b[0m | \u001b[0m 0.9294  \u001b[0m | \u001b[0m 0.4314  \u001b[0m | \u001b[0m 507.4   \u001b[0m |\n",
      "| \u001b[0m 22      \u001b[0m | \u001b[0m-0.1763  \u001b[0m | \u001b[0m 0.7974  \u001b[0m | \u001b[0m 0.6773  \u001b[0m | \u001b[0m 0.9967  \u001b[0m | \u001b[0m 465.7   \u001b[0m |\n",
      "| \u001b[0m 23      \u001b[0m | \u001b[0m-0.1222  \u001b[0m | \u001b[0m 0.8256  \u001b[0m | \u001b[0m 0.6061  \u001b[0m | \u001b[0m 0.6476  \u001b[0m | \u001b[0m 348.3   \u001b[0m |\n",
      "| \u001b[0m 24      \u001b[0m | \u001b[0m-0.1601  \u001b[0m | \u001b[0m 0.4548  \u001b[0m | \u001b[0m 0.4289  \u001b[0m | \u001b[0m 0.2211  \u001b[0m | \u001b[0m 551.2   \u001b[0m |\n",
      "| \u001b[0m 25      \u001b[0m | \u001b[0m-0.1534  \u001b[0m | \u001b[0m 0.7332  \u001b[0m | \u001b[0m 0.1147  \u001b[0m | \u001b[0m 0.84    \u001b[0m | \u001b[0m 634.5   \u001b[0m |\n",
      "| \u001b[0m 26      \u001b[0m | \u001b[0m-0.2714  \u001b[0m | \u001b[0m 0.3906  \u001b[0m | \u001b[0m 0.3071  \u001b[0m | \u001b[0m 0.2475  \u001b[0m | \u001b[0m 621.9   \u001b[0m |\n",
      "| \u001b[0m 27      \u001b[0m | \u001b[0m-0.1948  \u001b[0m | \u001b[0m 0.9027  \u001b[0m | \u001b[0m 0.1304  \u001b[0m | \u001b[0m 0.3921  \u001b[0m | \u001b[0m 215.0   \u001b[0m |\n",
      "| \u001b[0m 28      \u001b[0m | \u001b[0m-0.1282  \u001b[0m | \u001b[0m 0.9662  \u001b[0m | \u001b[0m 0.1179  \u001b[0m | \u001b[0m 0.4637  \u001b[0m | \u001b[0m 569.6   \u001b[0m |\n",
      "| \u001b[0m 29      \u001b[0m | \u001b[0m-0.2988  \u001b[0m | \u001b[0m 0.3575  \u001b[0m | \u001b[0m 0.9931  \u001b[0m | \u001b[0m 0.4522  \u001b[0m | \u001b[0m 507.6   \u001b[0m |\n",
      "| \u001b[0m 30      \u001b[0m | \u001b[0m-0.1224  \u001b[0m | \u001b[0m 0.6668  \u001b[0m | \u001b[0m 0.9473  \u001b[0m | \u001b[0m 0.6707  \u001b[0m | \u001b[0m 528.8   \u001b[0m |\n",
      "=========================================================================\n",
      "Final Result:  {'target': -0.08946976882250478, 'params': {'C_age_': 0.4815909589994214, 'C_sex_': 0.9638758047902791, 'C_state_': 0.44245306004072193, 'num_components_': 507.498254951093}}\n",
      "|   iter    |  target   |  C_age_   |  C_sex_   | C_state_  | num_co... |\n",
      "-------------------------------------------------------------------------\n",
      "| \u001b[0m 1       \u001b[0m | \u001b[0m-0.08738 \u001b[0m | \u001b[0m 0.9765  \u001b[0m | \u001b[0m 0.9896  \u001b[0m | \u001b[0m 0.4569  \u001b[0m | \u001b[0m 547.1   \u001b[0m |\n",
      "| \u001b[0m 2       \u001b[0m | \u001b[0m-0.2523  \u001b[0m | \u001b[0m 0.6021  \u001b[0m | \u001b[0m 0.3735  \u001b[0m | \u001b[0m 0.6672  \u001b[0m | \u001b[0m 280.9   \u001b[0m |\n"
     ]
    },
    {
     "name": "stdout",
     "output_type": "stream",
     "text": [
      "| \u001b[0m 3       \u001b[0m | \u001b[0m-0.1092  \u001b[0m | \u001b[0m 0.5803  \u001b[0m | \u001b[0m 0.7655  \u001b[0m | \u001b[0m 0.9193  \u001b[0m | \u001b[0m 416.8   \u001b[0m |\n",
      "| \u001b[0m 4       \u001b[0m | \u001b[0m-0.4201  \u001b[0m | \u001b[0m 0.1397  \u001b[0m | \u001b[0m 0.8264  \u001b[0m | \u001b[0m 0.6895  \u001b[0m | \u001b[0m 560.9   \u001b[0m |\n",
      "| \u001b[0m 5       \u001b[0m | \u001b[0m-0.09781 \u001b[0m | \u001b[0m 0.6264  \u001b[0m | \u001b[0m 0.2479  \u001b[0m | \u001b[0m 0.8329  \u001b[0m | \u001b[0m 541.5   \u001b[0m |\n",
      "| \u001b[0m 6       \u001b[0m | \u001b[0m-0.2059  \u001b[0m | \u001b[0m 0.4531  \u001b[0m | \u001b[0m 0.8109  \u001b[0m | \u001b[0m 0.2995  \u001b[0m | \u001b[0m 409.5   \u001b[0m |\n",
      "| \u001b[0m 7       \u001b[0m | \u001b[0m-0.1145  \u001b[0m | \u001b[0m 0.9835  \u001b[0m | \u001b[0m 0.8045  \u001b[0m | \u001b[0m 0.7711  \u001b[0m | \u001b[0m 423.1   \u001b[0m |\n",
      "| \u001b[0m 8       \u001b[0m | \u001b[0m-0.1363  \u001b[0m | \u001b[0m 0.8729  \u001b[0m | \u001b[0m 0.9116  \u001b[0m | \u001b[0m 0.3791  \u001b[0m | \u001b[0m 530.5   \u001b[0m |\n",
      "| \u001b[0m 9       \u001b[0m | \u001b[0m-0.3199  \u001b[0m | \u001b[0m 0.3722  \u001b[0m | \u001b[0m 0.1979  \u001b[0m | \u001b[0m 0.9663  \u001b[0m | \u001b[0m 435.9   \u001b[0m |\n",
      "| \u001b[0m 10      \u001b[0m | \u001b[0m-0.152   \u001b[0m | \u001b[0m 0.6033  \u001b[0m | \u001b[0m 0.1291  \u001b[0m | \u001b[0m 0.8428  \u001b[0m | \u001b[0m 519.2   \u001b[0m |\n",
      "| \u001b[0m 11      \u001b[0m | \u001b[0m-0.1031  \u001b[0m | \u001b[0m 0.6489  \u001b[0m | \u001b[0m 0.8494  \u001b[0m | \u001b[0m 0.6701  \u001b[0m | \u001b[0m 505.7   \u001b[0m |\n",
      "| \u001b[0m 12      \u001b[0m | \u001b[0m-0.3431  \u001b[0m | \u001b[0m 0.3196  \u001b[0m | \u001b[0m 0.3298  \u001b[0m | \u001b[0m 0.1387  \u001b[0m | \u001b[0m 497.9   \u001b[0m |\n",
      "| \u001b[0m 13      \u001b[0m | \u001b[0m-0.1308  \u001b[0m | \u001b[0m 0.6165  \u001b[0m | \u001b[0m 0.9178  \u001b[0m | \u001b[0m 0.365   \u001b[0m | \u001b[0m 509.6   \u001b[0m |\n",
      "| \u001b[0m 14      \u001b[0m | \u001b[0m-0.221   \u001b[0m | \u001b[0m 0.4705  \u001b[0m | \u001b[0m 0.1533  \u001b[0m | \u001b[0m 0.1157  \u001b[0m | \u001b[0m 544.7   \u001b[0m |\n",
      "| \u001b[0m 15      \u001b[0m | \u001b[0m-0.1825  \u001b[0m | \u001b[0m 0.3634  \u001b[0m | \u001b[0m 0.3533  \u001b[0m | \u001b[0m 0.5489  \u001b[0m | \u001b[0m 570.2   \u001b[0m |\n",
      "| \u001b[0m 16      \u001b[0m | \u001b[0m-0.2477  \u001b[0m | \u001b[0m 0.3184  \u001b[0m | \u001b[0m 0.115   \u001b[0m | \u001b[0m 0.9129  \u001b[0m | \u001b[0m 270.6   \u001b[0m |\n",
      "| \u001b[0m 17      \u001b[0m | \u001b[0m-0.1616  \u001b[0m | \u001b[0m 0.5099  \u001b[0m | \u001b[0m 0.2116  \u001b[0m | \u001b[0m 0.879   \u001b[0m | \u001b[0m 541.6   \u001b[0m |\n",
      "| \u001b[0m 18      \u001b[0m | \u001b[0m-0.1604  \u001b[0m | \u001b[0m 0.8422  \u001b[0m | \u001b[0m 0.4514  \u001b[0m | \u001b[0m 0.9744  \u001b[0m | \u001b[0m 541.5   \u001b[0m |\n",
      "| \u001b[0m 19      \u001b[0m | \u001b[0m-0.2634  \u001b[0m | \u001b[0m 0.6806  \u001b[0m | \u001b[0m 0.2452  \u001b[0m | \u001b[0m 0.5263  \u001b[0m | \u001b[0m 541.5   \u001b[0m |\n",
      "| \u001b[0m 20      \u001b[0m | \u001b[0m-0.1     \u001b[0m | \u001b[0m 0.7076  \u001b[0m | \u001b[0m 0.2872  \u001b[0m | \u001b[0m 0.8     \u001b[0m | \u001b[0m 541.6   \u001b[0m |\n",
      "| \u001b[0m 21      \u001b[0m | \u001b[0m-0.1912  \u001b[0m | \u001b[0m 0.5148  \u001b[0m | \u001b[0m 0.5585  \u001b[0m | \u001b[0m 0.8557  \u001b[0m | \u001b[0m 416.9   \u001b[0m |\n",
      "| \u001b[0m 22      \u001b[0m | \u001b[0m-0.2484  \u001b[0m | \u001b[0m 0.2228  \u001b[0m | \u001b[0m 0.4671  \u001b[0m | \u001b[0m 0.8797  \u001b[0m | \u001b[0m 657.8   \u001b[0m |\n",
      "| \u001b[0m 23      \u001b[0m | \u001b[0m-0.1714  \u001b[0m | \u001b[0m 0.9429  \u001b[0m | \u001b[0m 0.8303  \u001b[0m | \u001b[0m 0.9386  \u001b[0m | \u001b[0m 648.2   \u001b[0m |\n",
      "| \u001b[0m 24      \u001b[0m | \u001b[0m-0.2061  \u001b[0m | \u001b[0m 0.7455  \u001b[0m | \u001b[0m 0.2144  \u001b[0m | \u001b[0m 0.9062  \u001b[0m | \u001b[0m 541.5   \u001b[0m |\n",
      "| \u001b[0m 25      \u001b[0m | \u001b[0m-0.1113  \u001b[0m | \u001b[0m 0.8414  \u001b[0m | \u001b[0m 0.8458  \u001b[0m | \u001b[0m 0.542   \u001b[0m | \u001b[0m 547.0   \u001b[0m |\n",
      "| \u001b[0m 26      \u001b[0m | \u001b[0m-0.106   \u001b[0m | \u001b[0m 0.7521  \u001b[0m | \u001b[0m 0.6074  \u001b[0m | \u001b[0m 0.8052  \u001b[0m | \u001b[0m 505.7   \u001b[0m |\n",
      "| \u001b[0m 27      \u001b[0m | \u001b[0m-0.4047  \u001b[0m | \u001b[0m 0.2588  \u001b[0m | \u001b[0m 0.1154  \u001b[0m | \u001b[0m 0.1086  \u001b[0m | \u001b[0m 351.0   \u001b[0m |\n",
      "| \u001b[0m 28      \u001b[0m | \u001b[0m-0.2161  \u001b[0m | \u001b[0m 0.4586  \u001b[0m | \u001b[0m 0.9722  \u001b[0m | \u001b[0m 0.5522  \u001b[0m | \u001b[0m 302.4   \u001b[0m |\n",
      "| \u001b[0m 29      \u001b[0m | \u001b[0m-0.5033  \u001b[0m | \u001b[0m 0.1007  \u001b[0m | \u001b[0m 0.9488  \u001b[0m | \u001b[0m 0.6645  \u001b[0m | \u001b[0m 215.5   \u001b[0m |\n",
      "| \u001b[0m 30      \u001b[0m | \u001b[0m-0.1814  \u001b[0m | \u001b[0m 0.7058  \u001b[0m | \u001b[0m 0.7286  \u001b[0m | \u001b[0m 0.7292  \u001b[0m | \u001b[0m 505.8   \u001b[0m |\n",
      "=========================================================================\n",
      "Final Result:  {'target': -0.08738323472738815, 'params': {'C_age_': 0.97652705009707, 'C_sex_': 0.9895797929330039, 'C_state_': 0.45685117992922086, 'num_components_': 547.074917299904}}\n",
      "|   iter    |  target   |  C_age_   |  C_sex_   | C_state_  | num_co... |\n",
      "-------------------------------------------------------------------------\n",
      "| \u001b[0m 1       \u001b[0m | \u001b[0m-0.1738  \u001b[0m | \u001b[0m 0.8793  \u001b[0m | \u001b[0m 0.3764  \u001b[0m | \u001b[0m 0.8338  \u001b[0m | \u001b[0m 253.5   \u001b[0m |\n",
      "| \u001b[0m 2       \u001b[0m | \u001b[0m-0.3464  \u001b[0m | \u001b[0m 0.8259  \u001b[0m | \u001b[0m 0.7328  \u001b[0m | \u001b[0m 0.1156  \u001b[0m | \u001b[0m 341.2   \u001b[0m |\n",
      "| \u001b[0m 3       \u001b[0m | \u001b[0m-0.2351  \u001b[0m | \u001b[0m 0.2804  \u001b[0m | \u001b[0m 0.5448  \u001b[0m | \u001b[0m 0.3672  \u001b[0m | \u001b[0m 749.8   \u001b[0m |\n",
      "| \u001b[0m 4       \u001b[0m | \u001b[0m-0.1805  \u001b[0m | \u001b[0m 0.7092  \u001b[0m | \u001b[0m 0.4121  \u001b[0m | \u001b[0m 0.1982  \u001b[0m | \u001b[0m 743.9   \u001b[0m |\n",
      "| \u001b[95m 5       \u001b[0m | \u001b[95m-0.1586  \u001b[0m | \u001b[95m 0.4334  \u001b[0m | \u001b[95m 0.2776  \u001b[0m | \u001b[95m 0.9695  \u001b[0m | \u001b[95m 360.8   \u001b[0m |\n",
      "| \u001b[0m 6       \u001b[0m | \u001b[0m-0.1873  \u001b[0m | \u001b[0m 0.9622  \u001b[0m | \u001b[0m 0.4127  \u001b[0m | \u001b[0m 0.3404  \u001b[0m | \u001b[0m 219.0   \u001b[0m |\n",
      "| \u001b[95m 7       \u001b[0m | \u001b[95m-0.1481  \u001b[0m | \u001b[95m 0.9351  \u001b[0m | \u001b[95m 0.2501  \u001b[0m | \u001b[95m 0.8707  \u001b[0m | \u001b[95m 253.4   \u001b[0m |\n",
      "| \u001b[95m 8       \u001b[0m | \u001b[95m-0.1419  \u001b[0m | \u001b[95m 0.5176  \u001b[0m | \u001b[95m 0.3733  \u001b[0m | \u001b[95m 0.9363  \u001b[0m | \u001b[95m 252.8   \u001b[0m |\n",
      "| \u001b[0m 9       \u001b[0m | \u001b[0m-0.15    \u001b[0m | \u001b[0m 0.8384  \u001b[0m | \u001b[0m 0.2474  \u001b[0m | \u001b[0m 0.8277  \u001b[0m | \u001b[0m 252.9   \u001b[0m |\n",
      "| \u001b[0m 10      \u001b[0m | \u001b[0m-0.3283  \u001b[0m | \u001b[0m 0.2352  \u001b[0m | \u001b[0m 0.1055  \u001b[0m | \u001b[0m 0.9181  \u001b[0m | \u001b[0m 252.5   \u001b[0m |\n",
      "| \u001b[0m 11      \u001b[0m | \u001b[0m-0.1929  \u001b[0m | \u001b[0m 0.3954  \u001b[0m | \u001b[0m 0.5018  \u001b[0m | \u001b[0m 0.8742  \u001b[0m | \u001b[0m 253.0   \u001b[0m |\n",
      "| \u001b[0m 12      \u001b[0m | \u001b[0m-0.1954  \u001b[0m | \u001b[0m 0.7171  \u001b[0m | \u001b[0m 0.4732  \u001b[0m | \u001b[0m 0.8153  \u001b[0m | \u001b[0m 253.0   \u001b[0m |\n",
      "| \u001b[0m 13      \u001b[0m | \u001b[0m-0.1521  \u001b[0m | \u001b[0m 0.764   \u001b[0m | \u001b[0m 0.5079  \u001b[0m | \u001b[0m 0.9543  \u001b[0m | \u001b[0m 252.8   \u001b[0m |\n",
      "| \u001b[0m 14      \u001b[0m | \u001b[0m-0.2171  \u001b[0m | \u001b[0m 0.8707  \u001b[0m | \u001b[0m 0.9971  \u001b[0m | \u001b[0m 0.9742  \u001b[0m | \u001b[0m 240.3   \u001b[0m |\n",
      "| \u001b[0m 15      \u001b[0m | \u001b[0m-0.1727  \u001b[0m | \u001b[0m 0.6078  \u001b[0m | \u001b[0m 0.9953  \u001b[0m | \u001b[0m 0.4888  \u001b[0m | \u001b[0m 392.3   \u001b[0m |\n",
      "| \u001b[0m 16      \u001b[0m | \u001b[0m-0.2089  \u001b[0m | \u001b[0m 0.8599  \u001b[0m | \u001b[0m 0.9663  \u001b[0m | \u001b[0m 0.9188  \u001b[0m | \u001b[0m 315.1   \u001b[0m |\n",
      "| \u001b[95m 17      \u001b[0m | \u001b[95m-0.1376  \u001b[0m | \u001b[95m 0.9571  \u001b[0m | \u001b[95m 0.9082  \u001b[0m | \u001b[95m 0.5856  \u001b[0m | \u001b[95m 488.3   \u001b[0m |\n",
      "| \u001b[0m 18      \u001b[0m | \u001b[0m-0.1821  \u001b[0m | \u001b[0m 0.9655  \u001b[0m | \u001b[0m 0.4941  \u001b[0m | \u001b[0m 0.4646  \u001b[0m | \u001b[0m 557.2   \u001b[0m |\n",
      "| \u001b[0m 19      \u001b[0m | \u001b[0m-0.1795  \u001b[0m | \u001b[0m 0.7662  \u001b[0m | \u001b[0m 0.751   \u001b[0m | \u001b[0m 0.3093  \u001b[0m | \u001b[0m 488.4   \u001b[0m |\n",
      "| \u001b[0m 20      \u001b[0m | \u001b[0m-0.196   \u001b[0m | \u001b[0m 0.9016  \u001b[0m | \u001b[0m 0.7483  \u001b[0m | \u001b[0m 0.5056  \u001b[0m | \u001b[0m 488.1   \u001b[0m |\n",
      "| \u001b[0m 21      \u001b[0m | \u001b[0m-0.3764  \u001b[0m | \u001b[0m 0.2389  \u001b[0m | \u001b[0m 0.3873  \u001b[0m | \u001b[0m 0.5728  \u001b[0m | \u001b[0m 331.8   \u001b[0m |\n"
     ]
    },
    {
     "name": "stderr",
     "output_type": "stream",
     "text": [
      "C:\\Users\\Cameron\\anaconda3\\lib\\site-packages\\sklearn\\linear_model\\_logistic.py:444: ConvergenceWarning: lbfgs failed to converge (status=1):\n",
      "STOP: TOTAL NO. of ITERATIONS REACHED LIMIT.\n",
      "\n",
      "Increase the number of iterations (max_iter) or scale the data as shown in:\n",
      "    https://scikit-learn.org/stable/modules/preprocessing.html\n",
      "Please also refer to the documentation for alternative solver options:\n",
      "    https://scikit-learn.org/stable/modules/linear_model.html#logistic-regression\n",
      "  n_iter_i = _check_optimize_result(\n"
     ]
    },
    {
     "name": "stdout",
     "output_type": "stream",
     "text": [
      "| \u001b[0m 22      \u001b[0m | \u001b[0m-0.495   \u001b[0m | \u001b[0m 0.6903  \u001b[0m | \u001b[0m 0.5159  \u001b[0m | \u001b[0m 0.1017  \u001b[0m | \u001b[0m 755.1   \u001b[0m |\n",
      "| \u001b[95m 23      \u001b[0m | \u001b[95m-0.1158  \u001b[0m | \u001b[95m 0.8689  \u001b[0m | \u001b[95m 0.4069  \u001b[0m | \u001b[95m 0.8996  \u001b[0m | \u001b[95m 599.6   \u001b[0m |\n",
      "| \u001b[0m 24      \u001b[0m | \u001b[0m-0.3887  \u001b[0m | \u001b[0m 0.4278  \u001b[0m | \u001b[0m 0.5183  \u001b[0m | \u001b[0m 0.5205  \u001b[0m | \u001b[0m 210.4   \u001b[0m |\n",
      "| \u001b[0m 25      \u001b[0m | \u001b[0m-0.1933  \u001b[0m | \u001b[0m 0.7156  \u001b[0m | \u001b[0m 0.5825  \u001b[0m | \u001b[0m 0.7354  \u001b[0m | \u001b[0m 599.4   \u001b[0m |\n",
      "| \u001b[0m 26      \u001b[0m | \u001b[0m-0.1202  \u001b[0m | \u001b[0m 0.8809  \u001b[0m | \u001b[0m 0.6811  \u001b[0m | \u001b[0m 0.8297  \u001b[0m | \u001b[0m 600.1   \u001b[0m |\n",
      "| \u001b[0m 27      \u001b[0m | \u001b[0m-0.1535  \u001b[0m | \u001b[0m 0.7482  \u001b[0m | \u001b[0m 0.436   \u001b[0m | \u001b[0m 0.8938  \u001b[0m | \u001b[0m 600.0   \u001b[0m |\n",
      "| \u001b[0m 28      \u001b[0m | \u001b[0m-0.5578  \u001b[0m | \u001b[0m 0.1196  \u001b[0m | \u001b[0m 0.9598  \u001b[0m | \u001b[0m 0.4678  \u001b[0m | \u001b[0m 616.5   \u001b[0m |\n",
      "| \u001b[0m 29      \u001b[0m | \u001b[0m-0.1856  \u001b[0m | \u001b[0m 0.9324  \u001b[0m | \u001b[0m 0.3506  \u001b[0m | \u001b[0m 0.4051  \u001b[0m | \u001b[0m 600.3   \u001b[0m |\n",
      "| \u001b[0m 30      \u001b[0m | \u001b[0m-0.1726  \u001b[0m | \u001b[0m 0.7731  \u001b[0m | \u001b[0m 0.5873  \u001b[0m | \u001b[0m 0.6796  \u001b[0m | \u001b[0m 488.9   \u001b[0m |\n",
      "=========================================================================\n",
      "Final Result:  {'target': -0.1157601262839214, 'params': {'C_age_': 0.8689152950540625, 'C_sex_': 0.40693053732515205, 'C_state_': 0.899594638032717, 'num_components_': 599.6135906866062}}\n"
     ]
    }
   ],
   "source": [
    "optimization_results = [optimize_models_mn(train_data=X, number_synthetic_datasets=nsd, number_gmm_initializations=ngi, random_state=r) for r in random_states]"
   ]
  },
  {
   "cell_type": "code",
   "execution_count": 20,
   "id": "ea0b7024",
   "metadata": {},
   "outputs": [],
   "source": [
    "run_targets = [np.minimum.accumulate(-i[1].space.target) for i in optimization_results]"
   ]
  },
  {
   "cell_type": "code",
   "execution_count": 21,
   "id": "f4225965",
   "metadata": {},
   "outputs": [
    {
     "data": {
      "image/png": "[encoded data removed]",
      "text/plain": [
       "<Figure size 432x288 with 1 Axes>"
      ]
     },
     "metadata": {
      "needs_background": "light"
     },
     "output_type": "display_data"
    }
   ],
   "source": [
    "plt.plot(run_targets[0])\n",
    "plt.scatter(np.arange(len(run_targets[0])), run_targets[0], s=6)\n",
    "plt.plot(run_targets[1])\n",
    "plt.scatter(np.arange(len(run_targets[1])), run_targets[1], s=6)\n",
    "plt.plot(run_targets[2])\n",
    "plt.scatter(np.arange(len(run_targets[2])), run_targets[2], s=6)\n",
    "plt.plot(run_targets[3])\n",
    "plt.scatter(np.arange(len(run_targets[3])), run_targets[3], s=6)\n",
    "plt.plot(run_targets[4])\n",
    "plt.scatter(np.arange(len(run_targets[4])), run_targets[4], s=6)\n",
    "plt.show()"
   ]
  },
  {
   "cell_type": "markdown",
   "id": "34094ad9",
   "metadata": {},
   "source": [
    "Choose the params that gave the best objective value across all random seeds."
   ]
  },
  {
   "cell_type": "code",
   "execution_count": 22,
   "id": "81eccd8d",
   "metadata": {},
   "outputs": [],
   "source": [
    "best_params = optimization_results[np.argmax([x[0]['target'] for x in optimization_results])][0]"
   ]
  },
  {
   "cell_type": "code",
   "execution_count": 23,
   "id": "dbab5ac5",
   "metadata": {},
   "outputs": [
    {
     "data": {
      "text/plain": [
       "{'target': -0.08300395541536003,\n",
       " 'params': {'C_age_': 0.9165392293820231,\n",
       "  'C_sex_': 0.3962963449448256,\n",
       "  'C_state_': 0.8929264200392774,\n",
       "  'num_components_': 546.1255695944657}}"
      ]
     },
     "execution_count": 23,
     "metadata": {},
     "output_type": "execute_result"
    }
   ],
   "source": [
    "best_params"
   ]
  },
  {
   "cell_type": "markdown",
   "id": "a22af8d8",
   "metadata": {},
   "source": [
    "***"
   ]
  },
  {
   "cell_type": "markdown",
   "id": "cea1e3fa",
   "metadata": {},
   "source": [
    "Generate 100 synthetic datasets, choose the 20 that have the pMSE closest to 1."
   ]
  },
  {
   "cell_type": "code",
   "execution_count": 24,
   "id": "643fb518",
   "metadata": {},
   "outputs": [],
   "source": [
    "ratios, sXs, GMM = train_models_mn(train_data=X,\n",
    "                                   number_synthetic_datasets=100,\n",
    "                                   # hyperparameters for GMM\n",
    "                                   number_gmm_initializations=ngi,\n",
    "                                   num_components_=int(best_params['params']['num_components_']),\n",
    "                                   # hyperparameters for CART, end with underscore means Bayesian optimization will choose\n",
    "                                   C_sex_=best_params['params']['C_sex_'],\n",
    "                                   C_age_=best_params['params']['C_age_'],\n",
    "                                   C_state_=best_params['params']['C_state_'])"
   ]
  },
  {
   "cell_type": "code",
   "execution_count": 25,
   "id": "46fa3b68",
   "metadata": {},
   "outputs": [],
   "source": [
    "num_keep = 20"
   ]
  },
  {
   "cell_type": "code",
   "execution_count": 26,
   "id": "da9a2878",
   "metadata": {},
   "outputs": [],
   "source": [
    "indices = np.argsort([np.abs(1-r) for r in ratios])[:num_keep]"
   ]
  },
  {
   "cell_type": "code",
   "execution_count": 27,
   "id": "02fd0ba9",
   "metadata": {},
   "outputs": [],
   "source": [
    "sXs = [sXs[i] for i in indices]"
   ]
  },
  {
   "cell_type": "code",
   "execution_count": 28,
   "id": "36cfdc26",
   "metadata": {},
   "outputs": [],
   "source": [
    "ratios = [ratios[i] for i in indices]"
   ]
  },
  {
   "cell_type": "code",
   "execution_count": 29,
   "id": "4ff567b6",
   "metadata": {},
   "outputs": [
    {
     "data": {
      "text/plain": [
       "1.0262004521767911"
      ]
     },
     "execution_count": 29,
     "metadata": {},
     "output_type": "execute_result"
    }
   ],
   "source": [
    "np.exp(np.log(ratios).mean())"
   ]
  },
  {
   "cell_type": "code",
   "execution_count": 30,
   "id": "fe9f603e",
   "metadata": {},
   "outputs": [
    {
     "data": {
      "text/plain": [
       "0.04584527979155882"
      ]
     },
     "execution_count": 30,
     "metadata": {},
     "output_type": "execute_result"
    }
   ],
   "source": [
    "np.mean([np.abs(1 - x) for x in ratios])"
   ]
  },
  {
   "cell_type": "code",
   "execution_count": 31,
   "id": "40bc7f76",
   "metadata": {},
   "outputs": [
    {
     "data": {
      "image/png": "[encoded data removed]",
      "text/plain": [
       "<Figure size 432x288 with 1 Axes>"
      ]
     },
     "metadata": {
      "needs_background": "light"
     },
     "output_type": "display_data"
    }
   ],
   "source": [
    "plt.violinplot(ratios)\n",
    "plt.xlabel(\"Density\")\n",
    "plt.ylabel(\"pMSE Ratio\")\n",
    "plt.title(\"Distribution of pMSE Ratios\")\n",
    "plt.show()"
   ]
  },
  {
   "cell_type": "markdown",
   "id": "d3681c23",
   "metadata": {},
   "source": [
    "Show side-by-side comparisons of pMSE ratio plots."
   ]
  },
  {
   "cell_type": "markdown",
   "id": "af137729",
   "metadata": {},
   "source": [
    "***"
   ]
  },
  {
   "cell_type": "markdown",
   "id": "c7c4b464",
   "metadata": {},
   "source": [
    "# Save the synthetic datasets."
   ]
  },
  {
   "cell_type": "code",
   "execution_count": 32,
   "id": "5696e166",
   "metadata": {},
   "outputs": [],
   "source": [
    "for i, sX in enumerate(sXs):\n",
    "    sX.to_csv(\"Data/synthetic_datasets/synthetic_dataset_\" + str(i) + \".csv\", index=False)"
   ]
  },
  {
   "cell_type": "code",
   "execution_count": 33,
   "id": "4b12ae5e",
   "metadata": {},
   "outputs": [],
   "source": [
    "# sXs = [pd.read_csv(\"Data/synthetic_datasets/synthetic_dataset_\" + str(i) + \".csv\") for i in range(20)]"
   ]
  },
  {
   "cell_type": "code",
   "execution_count": 34,
   "id": "5773ca5e",
   "metadata": {},
   "outputs": [],
   "source": [
    "## temporary to reduce testing time\n",
    "# sXs = sXs[:3]"
   ]
  },
  {
   "cell_type": "markdown",
   "id": "c40ffaea",
   "metadata": {},
   "source": [
    "***"
   ]
  },
  {
   "cell_type": "markdown",
   "id": "fc9b04c6",
   "metadata": {},
   "source": [
    "# Singling Out Evaluation #1"
   ]
  },
  {
   "cell_type": "markdown",
   "id": "e655772d",
   "metadata": {},
   "source": [
    "Are there any synthetic records exactly equal to confidential records. Return their indices if so."
   ]
  },
  {
   "cell_type": "code",
   "execution_count": 35,
   "id": "6eac6171",
   "metadata": {},
   "outputs": [],
   "source": [
    "# def any_identical(original_data, synthetic_data):\n",
    "    \n",
    "#     # boolean vector for whether any synthetic row matches an original row\n",
    "#     identical = [(synthetic_data == row).all(1).any() for _,row in original_data.iterrows()]\n",
    "    \n",
    "#     # number of original rows with identical synthetic rows\n",
    "#     num_identical = np.sum(identical)\n",
    "    \n",
    "#     # indices of original rows with identical synthetic rows\n",
    "#     indices = np.flatnonzero(identical)\n",
    "    \n",
    "#     return num_identical, indices"
   ]
  },
  {
   "cell_type": "markdown",
   "id": "c2b2e263",
   "metadata": {},
   "source": [
    "Evaluate whether any confidential records were replicated."
   ]
  },
  {
   "cell_type": "code",
   "execution_count": 36,
   "id": "f6947d84",
   "metadata": {},
   "outputs": [],
   "source": [
    "# [any_identical(X, Y) for Y in sXs]"
   ]
  },
  {
   "cell_type": "markdown",
   "id": "23f1bb94",
   "metadata": {},
   "source": [
    "# Singling Out Evaluation #2"
   ]
  },
  {
   "cell_type": "markdown",
   "id": "0a75f21b",
   "metadata": {},
   "source": [
    "In order to evaluate the second singling out condition, we need to define an appropriate distance metric."
   ]
  },
  {
   "cell_type": "markdown",
   "id": "3676bc81",
   "metadata": {},
   "source": [
    "Quick et al. (2015) define spatially close to be when two points have locations that have a distance $d \\le \\epsilon_s$. Having similar attributes is similarly defined as having identical categorical attributes and non-categorical marks are within a distance $d \\le \\epsilon_a$."
   ]
  },
  {
   "cell_type": "markdown",
   "id": "a9ff3a2a",
   "metadata": {},
   "source": [
    "We take a similar approach, and will measure distance based on matching categorical attributes, and euclidean distance between the latitude/longitude vectors. This can be used to define a neighborhood near each confidential record with matching categorical attributes and closely similar locations."
   ]
  },
  {
   "cell_type": "code",
   "execution_count": 37,
   "id": "0881033e",
   "metadata": {},
   "outputs": [],
   "source": [
    "from scipy.spatial import cKDTree"
   ]
  },
  {
   "cell_type": "markdown",
   "id": "8dce9a39",
   "metadata": {},
   "source": [
    "Define a sequence of $\\delta$ values."
   ]
  },
  {
   "cell_type": "code",
   "execution_count": 38,
   "id": "1377491a",
   "metadata": {},
   "outputs": [],
   "source": [
    "from numpy import ogrid"
   ]
  },
  {
   "cell_type": "code",
   "execution_count": 39,
   "id": "13165239",
   "metadata": {},
   "outputs": [],
   "source": [
    "num_deltas = 20"
   ]
  },
  {
   "cell_type": "code",
   "execution_count": 40,
   "id": "c4c2ba9f",
   "metadata": {},
   "outputs": [],
   "source": [
    "deltas = np.geomspace(0.00001, 1.1, num=num_deltas)"
   ]
  },
  {
   "cell_type": "code",
   "execution_count": 41,
   "id": "4b53a802",
   "metadata": {},
   "outputs": [],
   "source": [
    "def neighbor_finder(original_data, synthetic_data, deltas):\n",
    "    \n",
    "    full_matches = []\n",
    "    \n",
    "    # tree for original locations\n",
    "    orig_tree = cKDTree(original_data[[\"latitude\", \"longitude\"]])\n",
    "    \n",
    "    # tree for synthetic locations\n",
    "    sX_tree = cKDTree(synthetic_data[[\"latitude\", \"longitude\"]])\n",
    "    \n",
    "    for d in deltas:\n",
    "        \n",
    "        # lists to store the number of matches for each original row and the indices of those matches\n",
    "        matches = []\n",
    "    \n",
    "        # find synthetic neighbors of each original point\n",
    "        location_neighbors = orig_tree.query_ball_tree(sX_tree, r=d, p=2.0)\n",
    "    \n",
    "        # for each original record\n",
    "        for i,row in original_data.iterrows():\n",
    "        \n",
    "            # matches on categorical attributes from location neighbors\n",
    "            categorical_matches = (synthetic_data.loc[location_neighbors[i],['sex', 'age', 'state']] == row[['sex', 'age', 'state']]).all(1)\n",
    "        \n",
    "            # store number of matches and their indices\n",
    "            matches.append(np.sum(categorical_matches))\n",
    "            \n",
    "        full_matches.append(pd.Series(matches))\n",
    "    \n",
    "    print(\"Dataset completed.\")\n",
    "    \n",
    "    return full_matches"
   ]
  },
  {
   "cell_type": "code",
   "execution_count": 42,
   "id": "c4634d50",
   "metadata": {},
   "outputs": [],
   "source": [
    "neighborhood_stats = [neighbor_finder(X, Y, deltas) for Y in sXs]"
   ]
  },
  {
   "cell_type": "markdown",
   "id": "78cd4bab",
   "metadata": {},
   "source": [
    "neighborhood_stats is nested as one list of match lists for each synthetic dataset, and each of those lists consists of twenty lists, one for each value of delta."
   ]
  },
  {
   "cell_type": "markdown",
   "id": "2c1d7f22",
   "metadata": {},
   "source": [
    "Build an $n \\times num\\_delta \\times m$ dataframe for match numbers."
   ]
  },
  {
   "cell_type": "code",
   "execution_count": 43,
   "id": "32ac284f",
   "metadata": {},
   "outputs": [],
   "source": [
    "match_nums = [pd.concat(x, axis=1) for x in neighborhood_stats]"
   ]
  },
  {
   "cell_type": "code",
   "execution_count": 44,
   "id": "7d0bdbbe",
   "metadata": {},
   "outputs": [],
   "source": [
    "match_nums = np.dstack(match_nums)"
   ]
  },
  {
   "cell_type": "markdown",
   "id": "e847c12d",
   "metadata": {},
   "source": [
    "Calculate the number of singled-out records based on each synthetic dataset and each value of $\\delta$. Rows are $\\delta$ values and columns are synthetic datasets."
   ]
  },
  {
   "cell_type": "code",
   "execution_count": 45,
   "id": "35dabd2d",
   "metadata": {},
   "outputs": [],
   "source": [
    "pct_singled_out = np.sum(match_nums == 1.0, axis=0)/X.shape[0]"
   ]
  },
  {
   "cell_type": "code",
   "execution_count": 46,
   "id": "99c7cef3",
   "metadata": {},
   "outputs": [],
   "source": [
    "avg_pct_singled_out = np.mean(pct_singled_out, axis=1)"
   ]
  },
  {
   "cell_type": "code",
   "execution_count": 47,
   "id": "21b1d439",
   "metadata": {},
   "outputs": [],
   "source": [
    "delta_id = np.argmax(avg_pct_singled_out)"
   ]
  },
  {
   "cell_type": "code",
   "execution_count": 48,
   "id": "673987a3",
   "metadata": {},
   "outputs": [],
   "source": [
    "target_delta = deltas[delta_id]"
   ]
  },
  {
   "cell_type": "code",
   "execution_count": 49,
   "id": "fb8c2aea",
   "metadata": {},
   "outputs": [
    {
     "data": {
      "image/png": "[encoded data removed]",
      "text/plain": [
       "<Figure size 432x288 with 1 Axes>"
      ]
     },
     "metadata": {
      "needs_background": "light"
     },
     "output_type": "display_data"
    }
   ],
   "source": [
    "plt.bar(x=np.arange(1, num_deltas+1), height=avg_pct_singled_out, align='center')\n",
    "plt.title(\"Percentage of Singled Out Records (Singleton Neighborhoods)\")\n",
    "plt.show()"
   ]
  },
  {
   "cell_type": "markdown",
   "id": "3335b9f8",
   "metadata": {},
   "source": [
    "# Linkability Evaluation"
   ]
  },
  {
   "cell_type": "markdown",
   "id": "b1c461e0",
   "metadata": {},
   "source": [
    "Write a function(s) to evaluate the Linkability risk using the same $\\delta$ neighborhoods as before."
   ]
  },
  {
   "cell_type": "markdown",
   "id": "108e0c0f",
   "metadata": {},
   "source": [
    "What are the requirements for $k$-anonymity given by organizations? E.g., I think Japan might have said 22, EMA might have their own requirement. We could look at the percentage of records for which those requirements are met based on each synthetic dataset."
   ]
  },
  {
   "cell_type": "markdown",
   "id": "78753ebe",
   "metadata": {},
   "source": [
    "For now, let's set a cutoff of 2 neighbors."
   ]
  },
  {
   "cell_type": "code",
   "execution_count": 50,
   "id": "c0f1162e",
   "metadata": {},
   "outputs": [],
   "source": [
    "cutoff = 2"
   ]
  },
  {
   "cell_type": "markdown",
   "id": "d9971b9d",
   "metadata": {},
   "source": [
    "Now, calculate the percentage of records that meet the cutoff on average for each value of $\\delta$."
   ]
  },
  {
   "cell_type": "code",
   "execution_count": 51,
   "id": "44897ecc",
   "metadata": {},
   "outputs": [],
   "source": [
    "meet_cutoff = [[pd.concat([x == 0, x >= cutoff], axis=1).any(axis=1) for x in y] for y in neighborhood_stats]"
   ]
  },
  {
   "cell_type": "code",
   "execution_count": 52,
   "id": "b1bbedf7",
   "metadata": {},
   "outputs": [],
   "source": [
    "meet_cutoff = [pd.concat(x, axis=1) for x in meet_cutoff]"
   ]
  },
  {
   "cell_type": "code",
   "execution_count": 53,
   "id": "483ceb15",
   "metadata": {},
   "outputs": [],
   "source": [
    "meet_cutoff = np.dstack(meet_cutoff)"
   ]
  },
  {
   "cell_type": "code",
   "execution_count": 54,
   "id": "3ff4bfeb",
   "metadata": {},
   "outputs": [],
   "source": [
    "pct_meet_cutoff = np.mean(meet_cutoff, axis=0)"
   ]
  },
  {
   "cell_type": "code",
   "execution_count": 55,
   "id": "f6b2a656",
   "metadata": {},
   "outputs": [],
   "source": [
    "avg_pct_meet_cutoff = pct_meet_cutoff.mean(axis=1)"
   ]
  },
  {
   "cell_type": "code",
   "execution_count": 56,
   "id": "0787d5d7",
   "metadata": {},
   "outputs": [
    {
     "data": {
      "image/png": "[encoded data removed]",
      "text/plain": [
       "<Figure size 432x288 with 1 Axes>"
      ]
     },
     "metadata": {
      "needs_background": "light"
     },
     "output_type": "display_data"
    }
   ],
   "source": [
    "plt.bar(x=np.arange(1, num_deltas+1), height=avg_pct_meet_cutoff, align='center')\n",
    "plt.title(\"Percentage of Records Meeting Linkability Cutoff\")\n",
    "plt.show()"
   ]
  },
  {
   "cell_type": "code",
   "execution_count": 57,
   "id": "f829464e",
   "metadata": {},
   "outputs": [
    {
     "data": {
      "text/plain": [
       "0.820277115613826"
      ]
     },
     "execution_count": 57,
     "metadata": {},
     "output_type": "execute_result"
    }
   ],
   "source": [
    "np.min(avg_pct_meet_cutoff)"
   ]
  },
  {
   "cell_type": "markdown",
   "id": "1e343f8d",
   "metadata": {},
   "source": [
    "# Inference Evaluation"
   ]
  },
  {
   "cell_type": "markdown",
   "id": "03a2d17d",
   "metadata": {},
   "source": [
    "Let's start with the adversary's prior. As of March 22, 2020, their were 8897 confirmed COVID-19 cases and 104 deaths. These statistics could be collected from the World Health Organization, and would represent a much more informative prior than a naive uniform prior. Furthermore, evaluating the naive prior would create problems when trying to prevent inference on individuals who did not pass away from COVID."
   ]
  },
  {
   "cell_type": "code",
   "execution_count": 58,
   "id": "7ec3605e",
   "metadata": {},
   "outputs": [],
   "source": [
    "prior_death_prob = 104/8897"
   ]
  },
  {
   "cell_type": "code",
   "execution_count": 59,
   "id": "fdf1dccf",
   "metadata": {},
   "outputs": [
    {
     "data": {
      "text/plain": [
       "1.0121457489878543"
      ]
     },
     "execution_count": 59,
     "metadata": {},
     "output_type": "execute_result"
    }
   ],
   "source": [
    "1/0.988"
   ]
  },
  {
   "cell_type": "markdown",
   "id": "0bfaf211",
   "metadata": {},
   "source": [
    "We need to evaluate the inference condition for each record in the confidential data based on each synthetic dataset."
   ]
  },
  {
   "cell_type": "code",
   "execution_count": 60,
   "id": "2fca1f4e",
   "metadata": {},
   "outputs": [],
   "source": [
    "def inference_evaluation(original_data, synthetic_data, prior_prob, deltas):\n",
    "    \n",
    "    full_inf_conds = []\n",
    "    full_indices = []\n",
    "    \n",
    "    # tree for original locations\n",
    "    orig_tree = cKDTree(original_data[[\"latitude\", \"longitude\"]])\n",
    "    \n",
    "    # tree for synthetic locations\n",
    "    sX_tree = cKDTree(synthetic_data[[\"latitude\", \"longitude\"]])\n",
    "    \n",
    "    for d in deltas:\n",
    "        \n",
    "        # lists to store the inference condition for each original row and the indices of those rows that violate\n",
    "        inf_conds = []\n",
    "    \n",
    "        # find synthetic neighbors of each original point\n",
    "        location_neighbors = orig_tree.query_ball_tree(sX_tree, r=d, p=2.0)\n",
    "    \n",
    "        # for each original record\n",
    "        for i,row in original_data.iterrows():\n",
    "        \n",
    "            # matches on categorical attributes from location neighbors\n",
    "            categorical_matches = (synthetic_data.loc[location_neighbors[i],['sex', 'age']] == row[['sex', 'age']]).all(1)\n",
    "            \n",
    "            matching_rows = synthetic_data.loc[location_neighbors[i],:].loc[categorical_matches.values,:]\n",
    "            \n",
    "            if matching_rows.shape[0] > 0:\n",
    "                \n",
    "                if row['state'] == 1.0:\n",
    "                    prior = prior_prob\n",
    "                else:\n",
    "                    prior = 1 - prior_prob\n",
    "            \n",
    "                cond = np.mean(matching_rows['state'] == row['state'])/prior\n",
    "                \n",
    "            else:\n",
    "                \n",
    "                cond = 1\n",
    "        \n",
    "            # store number of matches and their indices\n",
    "            inf_conds.append(cond)\n",
    "        \n",
    "        inf_conds = pd.Series(inf_conds)\n",
    "        \n",
    "        full_inf_conds.append(inf_conds)\n",
    "        \n",
    "    print(\"Dataset completed.\")\n",
    "        \n",
    "    return full_inf_conds"
   ]
  },
  {
   "cell_type": "code",
   "execution_count": 61,
   "id": "5b4d369f",
   "metadata": {},
   "outputs": [],
   "source": [
    "inference_conditions = [inference_evaluation(X, Y, prior_death_prob, deltas) for Y in sXs]"
   ]
  },
  {
   "cell_type": "code",
   "execution_count": null,
   "id": "ce21cca8",
   "metadata": {},
   "outputs": [],
   "source": [
    "inf_conds = [pd.concat(x, axis=1) for x in inference_conditions]"
   ]
  },
  {
   "cell_type": "code",
   "execution_count": 63,
   "id": "0c109ba4",
   "metadata": {},
   "outputs": [],
   "source": [
    "c_vec = [0.02, 0.03, 0.04, 0.05, 0.06, 0.07, 0.08, 0.09, 0.10, 0.20, 0.30, 0.40, 0.50]"
   ]
  },
  {
   "cell_type": "code",
   "execution_count": 64,
   "id": "66461d78",
   "metadata": {},
   "outputs": [],
   "source": [
    "proportion_meeting_inference = [[x <= (1 + c) for x in inf_conds] for c in c_vec]"
   ]
  },
  {
   "cell_type": "code",
   "execution_count": 65,
   "id": "c4b27573",
   "metadata": {},
   "outputs": [],
   "source": [
    "proportion_meeting_inference = pd.concat([pd.concat([x.mean(axis=0) for x in y], axis=1).mean(axis=1) for y in proportion_meeting_inference], axis=1)"
   ]
  },
  {
   "cell_type": "markdown",
   "id": "9fc77380",
   "metadata": {},
   "source": [
    "Display the average proportion of records meeting the inference criterion across all synthetic datasets for each combination of $\\delta$ and $c$."
   ]
  },
  {
   "cell_type": "code",
   "execution_count": 66,
   "id": "3ea21033",
   "metadata": {},
   "outputs": [
    {
     "data": {
      "image/png": "[encoded data removed]",
      "text/plain": [
       "<Figure size 432x288 with 1 Axes>"
      ]
     },
     "metadata": {
      "needs_background": "light"
     },
     "output_type": "display_data"
    }
   ],
   "source": [
    "ax = proportion_meeting_inference.plot()\n",
    "ax.set_ylabel('Proportion Records Meeting Inference Criterion', fontsize=12)\n",
    "ax.set_xlabel('Delta Values', fontsize=12)\n",
    "# legend shows different values of c - 0.01 to 0.09\n",
    "plt.show()"
   ]
  },
  {
   "cell_type": "markdown",
   "id": "6292aa05",
   "metadata": {},
   "source": [
    "The vast majority of points meet the inference criterion for any value of $c >= 0.02$. When $c = 0.01$, we have many points not meeting the criterion for most values of $\\delta$. The problem with $c = 0.01$ is that the prior probability of living is approximately .988. If all points within the $\\delta$ neighborhood lived, then the updated probability is 1, and the ratio is 1/.998 which is approximately 1.012."
   ]
  },
  {
   "cell_type": "markdown",
   "id": "a23fbc03",
   "metadata": {},
   "source": [
    "***"
   ]
  },
  {
   "cell_type": "markdown",
   "id": "29c16fc5",
   "metadata": {},
   "source": [
    "# Legal Anonymization Algorithm"
   ]
  },
  {
   "cell_type": "markdown",
   "id": "6c5164b8",
   "metadata": {},
   "source": [
    "Function to determine which points violate any of the specified criteria."
   ]
  },
  {
   "cell_type": "markdown",
   "id": "7c0523c4",
   "metadata": {},
   "source": [
    "Keep things simple. For each record,\n",
    "\n",
    "* check whether the linkability criterion is met (if there is one).\n",
    "    * If it isn't, generate new records to meet it.\n",
    "* check whether the singling out criteria is met\n",
    "    * The first criterion\n",
    "    * The second criterion if there was no linkability criterion\n",
    "* check whether inference criterion is met"
   ]
  },
  {
   "cell_type": "code",
   "execution_count": 67,
   "id": "247c1b6b",
   "metadata": {},
   "outputs": [],
   "source": [
    "# GMM = GaussianMixture(700, n_init=5).fit(X.loc[:,[\"latitude\", \"longitude\"]])"
   ]
  },
  {
   "cell_type": "markdown",
   "id": "0728f003",
   "metadata": {},
   "source": [
    "# Implement on a by-record basis"
   ]
  },
  {
   "cell_type": "code",
   "execution_count": 68,
   "id": "cc892f35",
   "metadata": {},
   "outputs": [],
   "source": [
    "def legal_anonymizer(original_data, synthetic_data, mixture_model, deltas, linkability, inference, prior_prob):\n",
    "    \n",
    "    # number of original records\n",
    "    num_records = original_data.shape[0]\n",
    "    \n",
    "    # record percentages\n",
    "    print_nums = [int(np.ceil(i*num_records)) for i in [0.25, 0.5, 0.75]]\n",
    "    \n",
    "    # random number generator\n",
    "    rng = default_rng()\n",
    "    \n",
    "    # copy the synthetic dataset\n",
    "    new_sX = synthetic_data\n",
    "    \n",
    "    # tree for synthetic locations\n",
    "    sX_tree = cKDTree(new_sX[[\"latitude\", \"longitude\"]])\n",
    "    \n",
    "    # store mixture component parameters\n",
    "    mus = mixture_model.means_\n",
    "    sigmas = mixture_model.covariances_\n",
    "    \n",
    "    # temporary count of the number of rows that violate one or more conditions\n",
    "    violator_count = num_records\n",
    "    \n",
    "    # number of anonymization loops required\n",
    "    num_loops = 1\n",
    "    \n",
    "    # while we have any violator rows\n",
    "    while violator_count > 0:\n",
    "        \n",
    "        # reset violator count\n",
    "        violator_count = 0\n",
    "        \n",
    "        # for each original record\n",
    "        # we shuffle the records each time so that the violating records are fixed in a random order\n",
    "        for i, original_record in original_data.sample(frac=1.0).reset_index(drop=True).iterrows():\n",
    "            \n",
    "            original_location = original_record.loc[[\"latitude\", \"longitude\"]]\n",
    "            original_categorical = original_record.loc[[\"sex\", \"age\", \"state\"]]\n",
    "            \n",
    "            # for each delta\n",
    "            for delta in deltas:\n",
    "                \n",
    "                ##### Test the Linkability Criterion\n",
    "                \n",
    "                # find synthetic neighbors based on location\n",
    "                location_neighbors = sX_tree.query_ball_point(original_location, r=delta, p=2.0)\n",
    "                \n",
    "                # matches on categorical attributes from location neighbors\n",
    "                categorical_matches = (new_sX.loc[location_neighbors,['sex', 'age', 'state']] == original_categorical).all(1)\n",
    "                \n",
    "                # count the number of synthetic records in the delta neighborhood with matching categorical attributes\n",
    "                neighborhood_cardinality = np.sum(categorical_matches)\n",
    "                \n",
    "                ##### If the linkability criterion is violated,\n",
    "                \n",
    "                if (neighborhood_cardinality < linkability) and (neighborhood_cardinality > 0):\n",
    "                    \n",
    "                    # add one to number of violators\n",
    "                    violator_count += 1\n",
    "                    \n",
    "                    # find the component with the highest responsibility for the confidential record\n",
    "                    component_index = np.argmax(GMM.predict_proba(pd.DataFrame(original_location).T), axis = 1)[0]\n",
    "                    current_mu = mus[component_index,:]\n",
    "                    current_sigma = sigmas[component_index,:,:]\n",
    "                    \n",
    "                    # number of records needed to add\n",
    "                    num_needed = linkability - neighborhood_cardinality\n",
    "            \n",
    "                    valid_candidates = np.zeros((0,2))\n",
    "                    num_candidate_loops = 0\n",
    "                    while valid_candidates.shape[0] < num_needed:\n",
    "                        \n",
    "                        # add a very small number to the diagonal of the covariance matrix to increase\n",
    "                        # the likelihood of sampling candidate points - do this proportionally to the number\n",
    "                        # of times this loop has executed\n",
    "                        # np.fill_diagonal(current_sigma, np.diag(current_sigma) + num_candidate_loops*1e-6)\n",
    "                        \n",
    "                        # generate a bunch of candidate points\n",
    "                        candidate_points = rng.multivariate_normal(current_mu, current_sigma, size=100000)\n",
    "                        candidate_tree = cKDTree(candidate_points)\n",
    "                        valid_indices = candidate_tree.query_ball_point(original_location, delta, p=2.0, return_sorted=True)\n",
    "                        valid_candidates = np.vstack([valid_candidates, candidate_points[valid_indices,:]])\n",
    "                        num_candidate_loops += 1\n",
    "                        if num_candidate_loops > 100:\n",
    "                            print('Stuck in linkability loop.')\n",
    "                    \n",
    "                    # select the number of needed candidates\n",
    "                    new_locations = valid_candidates[:num_needed,:]\n",
    "                    \n",
    "                    new_categorical = np.vstack([np.array(original_categorical).reshape(1,-1) for k in range(num_needed)])\n",
    "                    \n",
    "                    new_records = pd.DataFrame(np.hstack([new_locations, new_categorical]))\n",
    "                    \n",
    "                    new_records.columns = new_sX.columns \n",
    "                    \n",
    "                    new_sX = pd.concat([new_sX, new_records], axis=0).reset_index(drop=True)\n",
    "                    \n",
    "                    # rebuild the tree for synthetic locations\n",
    "                    sX_tree = cKDTree(new_sX[[\"latitude\", \"longitude\"]])\n",
    "                    \n",
    "                ##### Test the Inference Criterion\n",
    "                \n",
    "                # find synthetic neighbors based on location\n",
    "                location_neighbors = sX_tree.query_ball_point(original_location, r=delta, p=2.0)\n",
    "                \n",
    "                # matches on categorical attributes from location neighbors\n",
    "                categorical_matches = (new_sX.loc[location_neighbors,['sex', 'age']] == original_categorical[[\"sex\", \"age\"]]).all(1)\n",
    "                \n",
    "                matching_rows = new_sX.loc[location_neighbors,:].loc[categorical_matches.values,:]\n",
    "                \n",
    "                # if there are any records in the location neighborhood that match on sex and age\n",
    "                \n",
    "                if matching_rows.shape[0] > 0:\n",
    "                \n",
    "                    if original_categorical['state'] == 1.0:\n",
    "                        prior = prior_prob\n",
    "                    else:\n",
    "                        prior = 1-prior_prob\n",
    "                        \n",
    "                    num_matching = np.sum(matching_rows['state'] == original_categorical['state'])\n",
    "            \n",
    "                    cond = num_matching/matching_rows.shape[0] * 1/prior\n",
    "                \n",
    "                    if cond > inference:\n",
    "                        \n",
    "                        # add one to number of violators\n",
    "                        violator_count += 1\n",
    "                        \n",
    "                        # number of records with non-matching sensitive variable needed to meet inference\n",
    "                        num_needed = int(np.ceil(num_matching/(prior*inference) - matching_rows.shape[0]))\n",
    "                        \n",
    "                        # find the component with the highest responsibility for the confidential record\n",
    "                        component_index = np.argmax(GMM.predict_proba(pd.DataFrame(original_location).T), axis = 1)[0]\n",
    "                        current_mu = mus[component_index,:]\n",
    "                        current_sigma = sigmas[component_index,:,:]\n",
    "            \n",
    "                        valid_candidates = np.zeros((0,2))\n",
    "                        num_candidate_loops = 0\n",
    "                        while valid_candidates.shape[0] < num_needed:\n",
    "                        \n",
    "                            # add a very small number to the diagonal of the covariance matrix to increase\n",
    "                            # the likelihood of sampling candidate points - do this proportionally to the number\n",
    "                            # of times this loop has executed\n",
    "                            # np.fill_diagonal(current_sigma, np.diag(current_sigma) + num_candidate_loops*1e-6)\n",
    "                        \n",
    "                            # generate a bunch of candidate points\n",
    "                            candidate_points = rng.multivariate_normal(current_mu, current_sigma, size=100000)\n",
    "                            candidate_tree = cKDTree(candidate_points)\n",
    "                            valid_indices = candidate_tree.query_ball_point(original_location, delta, p=2.0, return_sorted=True)\n",
    "                            valid_candidates = np.vstack([valid_candidates, candidate_points[valid_indices,:]])\n",
    "                            num_candidate_loops += 1\n",
    "                            if num_candidate_loops > 100:\n",
    "                                print('Stuck in inference loop.')\n",
    "                            \n",
    "                        # print(num_candidate_loops)\n",
    "                    \n",
    "                        # select the number of needed candidates\n",
    "                        new_locations = valid_candidates[:num_needed,:]\n",
    "                    \n",
    "                        new_categorical = np.vstack([np.array(original_categorical).reshape(1,-1) for k in range(num_needed)])\n",
    "                    \n",
    "                        new_records = pd.DataFrame(np.hstack([new_locations, new_categorical]))\n",
    "                    \n",
    "                        new_records.columns = new_sX.columns\n",
    "                        \n",
    "                        new_records['state'] = 1.0 - original_categorical['state']\n",
    "                    \n",
    "                        new_sX = pd.concat([new_sX, new_records], axis=0).reset_index(drop=True)\n",
    "                    \n",
    "                        # rebuild the tree for synthetic locations\n",
    "                        sX_tree = cKDTree(new_sX[[\"latitude\", \"longitude\"]])\n",
    "                    \n",
    "                    \n",
    "                    \n",
    "        \n",
    "#                     # put in a break statement - if we executed the previous code conditional on the if statement,\n",
    "#                     # we know the linkability criterion is satisfied for all larger delta values for this record\n",
    "#                     break\n",
    "    \n",
    "            if int(i) in print_nums:\n",
    "                print(\"Record \" + str(i) + \" completed.\")\n",
    "                \n",
    "        print(\"Full anonymization loop \" + str(num_loops) + \" completed.\")\n",
    "        \n",
    "        num_loops += 1\n",
    "                    \n",
    "    return new_sX\n",
    "            \n",
    "                # test linkability criterion\n",
    "                \n",
    "                # if linkability criterion is violated\n",
    "                \n",
    "                    # add one to violator count (tells us we need to loop over all records again)\n",
    "                \n",
    "                    # generate new points to meet the criterion\n",
    "                    \n",
    "                # test inference criterion\n",
    "                \n",
    "                # if inference criterion is violated\n",
    "                    \n",
    "                    # add one to violator count (tells us we need to loop over all records again)\n",
    "                    \n",
    "                    # generate new points to meet the criterion"
   ]
  },
  {
   "cell_type": "code",
   "execution_count": 69,
   "id": "f02b2093",
   "metadata": {},
   "outputs": [],
   "source": [
    "# new_sX = legal_anonymizer(original_data=X, synthetic_data=sXs[0], mixture_model=GMM, deltas=[target_delta], linkability=cutoff, inference=1.05, prior_prob=prior_death_prob)"
   ]
  },
  {
   "cell_type": "code",
   "execution_count": 70,
   "id": "d15954d1",
   "metadata": {},
   "outputs": [],
   "source": [
    "# X.shape"
   ]
  },
  {
   "cell_type": "code",
   "execution_count": 71,
   "id": "8caf9604",
   "metadata": {},
   "outputs": [],
   "source": [
    "# new_sX.shape"
   ]
  },
  {
   "cell_type": "code",
   "execution_count": 72,
   "id": "5644f2be",
   "metadata": {},
   "outputs": [],
   "source": [
    "c = 0.25"
   ]
  },
  {
   "cell_type": "code",
   "execution_count": 73,
   "id": "4a28082f",
   "metadata": {},
   "outputs": [
    {
     "name": "stdout",
     "output_type": "stream",
     "text": [
      "Record 1678 completed.\n",
      "Record 3356 completed.\n",
      "Record 5034 completed.\n",
      "Full anonymization loop 1 completed.\n",
      "Record 1678 completed.\n",
      "Record 3356 completed.\n",
      "Record 5034 completed.\n",
      "Full anonymization loop 2 completed.\n",
      "Record 1678 completed.\n",
      "Record 3356 completed.\n",
      "Record 5034 completed.\n",
      "Full anonymization loop 3 completed.\n",
      "Record 1678 completed.\n",
      "Record 3356 completed.\n",
      "Record 5034 completed.\n",
      "Full anonymization loop 4 completed.\n",
      "----------- Dataset 1 Completed. -------------\n",
      "Record 1678 completed.\n",
      "Record 3356 completed.\n",
      "Record 5034 completed.\n",
      "Full anonymization loop 1 completed.\n",
      "Record 1678 completed.\n",
      "Record 3356 completed.\n",
      "Record 5034 completed.\n",
      "Full anonymization loop 2 completed.\n",
      "Record 1678 completed.\n",
      "Record 3356 completed.\n",
      "Record 5034 completed.\n",
      "Full anonymization loop 3 completed.\n",
      "Record 1678 completed.\n",
      "Record 3356 completed.\n",
      "Record 5034 completed.\n",
      "Full anonymization loop 4 completed.\n",
      "Record 1678 completed.\n",
      "Record 3356 completed.\n",
      "Record 5034 completed.\n",
      "Full anonymization loop 5 completed.\n",
      "----------- Dataset 2 Completed. -------------\n",
      "Record 1678 completed.\n",
      "Record 3356 completed.\n",
      "Record 5034 completed.\n",
      "Full anonymization loop 1 completed.\n",
      "Record 1678 completed.\n",
      "Record 3356 completed.\n",
      "Record 5034 completed.\n",
      "Full anonymization loop 2 completed.\n",
      "Record 1678 completed.\n",
      "Record 3356 completed.\n",
      "Record 5034 completed.\n",
      "Full anonymization loop 3 completed.\n",
      "Record 1678 completed.\n",
      "Record 3356 completed.\n",
      "Record 5034 completed.\n",
      "Full anonymization loop 4 completed.\n",
      "----------- Dataset 3 Completed. -------------\n",
      "Record 1678 completed.\n",
      "Record 3356 completed.\n",
      "Record 5034 completed.\n",
      "Full anonymization loop 1 completed.\n",
      "Record 1678 completed.\n",
      "Record 3356 completed.\n",
      "Record 5034 completed.\n",
      "Full anonymization loop 2 completed.\n",
      "Record 1678 completed.\n",
      "Record 3356 completed.\n",
      "Record 5034 completed.\n",
      "Full anonymization loop 3 completed.\n",
      "----------- Dataset 4 Completed. -------------\n",
      "Record 1678 completed.\n",
      "Record 3356 completed.\n",
      "Record 5034 completed.\n",
      "Full anonymization loop 1 completed.\n",
      "Record 1678 completed.\n",
      "Record 3356 completed.\n",
      "Record 5034 completed.\n",
      "Full anonymization loop 2 completed.\n",
      "Record 1678 completed.\n",
      "Record 3356 completed.\n",
      "Record 5034 completed.\n",
      "Full anonymization loop 3 completed.\n",
      "Record 1678 completed.\n",
      "Record 3356 completed.\n",
      "Record 5034 completed.\n",
      "Full anonymization loop 4 completed.\n",
      "----------- Dataset 5 Completed. -------------\n",
      "Record 1678 completed.\n",
      "Record 3356 completed.\n",
      "Record 5034 completed.\n",
      "Full anonymization loop 1 completed.\n",
      "Record 1678 completed.\n",
      "Record 3356 completed.\n",
      "Record 5034 completed.\n",
      "Full anonymization loop 2 completed.\n",
      "Record 1678 completed.\n",
      "Record 3356 completed.\n",
      "Record 5034 completed.\n",
      "Full anonymization loop 3 completed.\n",
      "Record 1678 completed.\n",
      "Record 3356 completed.\n",
      "Record 5034 completed.\n",
      "Full anonymization loop 4 completed.\n",
      "----------- Dataset 6 Completed. -------------\n",
      "Record 1678 completed.\n",
      "Record 3356 completed.\n",
      "Record 5034 completed.\n",
      "Full anonymization loop 1 completed.\n",
      "Record 1678 completed.\n",
      "Record 3356 completed.\n",
      "Record 5034 completed.\n",
      "Full anonymization loop 2 completed.\n",
      "Record 1678 completed.\n",
      "Record 3356 completed.\n",
      "Record 5034 completed.\n",
      "Full anonymization loop 3 completed.\n",
      "Record 1678 completed.\n",
      "Record 3356 completed.\n",
      "Record 5034 completed.\n",
      "Full anonymization loop 4 completed.\n",
      "----------- Dataset 7 Completed. -------------\n",
      "Record 1678 completed.\n",
      "Record 3356 completed.\n",
      "Record 5034 completed.\n",
      "Full anonymization loop 1 completed.\n",
      "Record 1678 completed.\n",
      "Record 3356 completed.\n",
      "Record 5034 completed.\n",
      "Full anonymization loop 2 completed.\n",
      "Record 1678 completed.\n",
      "Record 3356 completed.\n",
      "Record 5034 completed.\n",
      "Full anonymization loop 3 completed.\n",
      "Record 1678 completed.\n",
      "Record 3356 completed.\n",
      "Record 5034 completed.\n",
      "Full anonymization loop 4 completed.\n",
      "----------- Dataset 8 Completed. -------------\n",
      "Record 1678 completed.\n",
      "Record 3356 completed.\n",
      "Record 5034 completed.\n",
      "Full anonymization loop 1 completed.\n",
      "Record 1678 completed.\n",
      "Record 3356 completed.\n",
      "Record 5034 completed.\n",
      "Full anonymization loop 2 completed.\n",
      "Record 1678 completed.\n",
      "Record 3356 completed.\n",
      "Record 5034 completed.\n",
      "Full anonymization loop 3 completed.\n",
      "----------- Dataset 9 Completed. -------------\n",
      "Record 1678 completed.\n",
      "Record 3356 completed.\n",
      "Record 5034 completed.\n",
      "Full anonymization loop 1 completed.\n",
      "Record 1678 completed.\n",
      "Record 3356 completed.\n",
      "Record 5034 completed.\n",
      "Full anonymization loop 2 completed.\n",
      "Record 1678 completed.\n",
      "Record 3356 completed.\n",
      "Record 5034 completed.\n",
      "Full anonymization loop 3 completed.\n",
      "Record 1678 completed.\n",
      "Record 3356 completed.\n",
      "Record 5034 completed.\n",
      "Full anonymization loop 4 completed.\n",
      "----------- Dataset 10 Completed. -------------\n",
      "Record 1678 completed.\n",
      "Record 3356 completed.\n",
      "Record 5034 completed.\n",
      "Full anonymization loop 1 completed.\n",
      "Record 1678 completed.\n",
      "Record 3356 completed.\n",
      "Record 5034 completed.\n",
      "Full anonymization loop 2 completed.\n",
      "Record 1678 completed.\n",
      "Record 3356 completed.\n",
      "Record 5034 completed.\n",
      "Full anonymization loop 3 completed.\n",
      "Record 1678 completed.\n",
      "Record 3356 completed.\n",
      "Record 5034 completed.\n",
      "Full anonymization loop 4 completed.\n",
      "----------- Dataset 11 Completed. -------------\n",
      "Record 1678 completed.\n",
      "Record 3356 completed.\n",
      "Record 5034 completed.\n",
      "Full anonymization loop 1 completed.\n",
      "Record 1678 completed.\n",
      "Record 3356 completed.\n",
      "Record 5034 completed.\n",
      "Full anonymization loop 2 completed.\n",
      "Record 1678 completed.\n",
      "Record 3356 completed.\n",
      "Record 5034 completed.\n",
      "Full anonymization loop 3 completed.\n",
      "Record 1678 completed.\n",
      "Record 3356 completed.\n",
      "Record 5034 completed.\n",
      "Full anonymization loop 4 completed.\n",
      "----------- Dataset 12 Completed. -------------\n",
      "Record 1678 completed.\n",
      "Record 3356 completed.\n",
      "Record 5034 completed.\n",
      "Full anonymization loop 1 completed.\n",
      "Record 1678 completed.\n",
      "Record 3356 completed.\n",
      "Record 5034 completed.\n",
      "Full anonymization loop 2 completed.\n",
      "Record 1678 completed.\n",
      "Record 3356 completed.\n",
      "Record 5034 completed.\n",
      "Full anonymization loop 3 completed.\n",
      "Record 1678 completed.\n",
      "Record 3356 completed.\n",
      "Record 5034 completed.\n",
      "Full anonymization loop 4 completed.\n",
      "----------- Dataset 13 Completed. -------------\n",
      "Record 1678 completed.\n",
      "Record 3356 completed.\n",
      "Record 5034 completed.\n",
      "Full anonymization loop 1 completed.\n",
      "Record 1678 completed.\n",
      "Record 3356 completed.\n",
      "Record 5034 completed.\n",
      "Full anonymization loop 2 completed.\n",
      "Record 1678 completed.\n",
      "Record 3356 completed.\n",
      "Record 5034 completed.\n",
      "Full anonymization loop 3 completed.\n",
      "Record 1678 completed.\n",
      "Record 3356 completed.\n",
      "Record 5034 completed.\n",
      "Full anonymization loop 4 completed.\n",
      "----------- Dataset 14 Completed. -------------\n",
      "Record 1678 completed.\n",
      "Record 3356 completed.\n",
      "Record 5034 completed.\n",
      "Full anonymization loop 1 completed.\n",
      "Record 1678 completed.\n",
      "Record 3356 completed.\n",
      "Record 5034 completed.\n",
      "Full anonymization loop 2 completed.\n",
      "Record 1678 completed.\n",
      "Record 3356 completed.\n",
      "Record 5034 completed.\n",
      "Full anonymization loop 3 completed.\n",
      "Record 1678 completed.\n",
      "Record 3356 completed.\n",
      "Record 5034 completed.\n",
      "Full anonymization loop 4 completed.\n",
      "----------- Dataset 15 Completed. -------------\n",
      "Record 1678 completed.\n",
      "Record 3356 completed.\n",
      "Record 5034 completed.\n",
      "Full anonymization loop 1 completed.\n",
      "Record 1678 completed.\n",
      "Record 3356 completed.\n",
      "Record 5034 completed.\n",
      "Full anonymization loop 2 completed.\n",
      "Record 1678 completed.\n",
      "Record 3356 completed.\n",
      "Record 5034 completed.\n",
      "Full anonymization loop 3 completed.\n",
      "Record 1678 completed.\n",
      "Record 3356 completed.\n",
      "Record 5034 completed.\n",
      "Full anonymization loop 4 completed.\n",
      "----------- Dataset 16 Completed. -------------\n",
      "Record 1678 completed.\n",
      "Record 3356 completed.\n",
      "Record 5034 completed.\n",
      "Full anonymization loop 1 completed.\n",
      "Record 1678 completed.\n",
      "Record 3356 completed.\n",
      "Record 5034 completed.\n",
      "Full anonymization loop 2 completed.\n",
      "Record 1678 completed.\n",
      "Record 3356 completed.\n",
      "Record 5034 completed.\n",
      "Full anonymization loop 3 completed.\n",
      "Record 1678 completed.\n",
      "Record 3356 completed.\n",
      "Record 5034 completed.\n",
      "Full anonymization loop 4 completed.\n",
      "----------- Dataset 17 Completed. -------------\n",
      "Record 1678 completed.\n",
      "Record 3356 completed.\n",
      "Record 5034 completed.\n",
      "Full anonymization loop 1 completed.\n",
      "Record 1678 completed.\n",
      "Record 3356 completed.\n",
      "Record 5034 completed.\n",
      "Full anonymization loop 2 completed.\n",
      "Record 1678 completed.\n",
      "Record 3356 completed.\n",
      "Record 5034 completed.\n",
      "Full anonymization loop 3 completed.\n"
     ]
    },
    {
     "name": "stdout",
     "output_type": "stream",
     "text": [
      "Record 1678 completed.\n",
      "Record 3356 completed.\n",
      "Record 5034 completed.\n",
      "Full anonymization loop 4 completed.\n",
      "----------- Dataset 18 Completed. -------------\n",
      "Record 1678 completed.\n",
      "Record 3356 completed.\n",
      "Record 5034 completed.\n",
      "Full anonymization loop 1 completed.\n",
      "Record 1678 completed.\n",
      "Record 3356 completed.\n",
      "Record 5034 completed.\n",
      "Full anonymization loop 2 completed.\n",
      "Record 1678 completed.\n",
      "Record 3356 completed.\n",
      "Record 5034 completed.\n",
      "Full anonymization loop 3 completed.\n",
      "Record 1678 completed.\n",
      "Record 3356 completed.\n",
      "Record 5034 completed.\n",
      "Full anonymization loop 4 completed.\n",
      "----------- Dataset 19 Completed. -------------\n",
      "Record 1678 completed.\n",
      "Record 3356 completed.\n",
      "Record 5034 completed.\n",
      "Full anonymization loop 1 completed.\n",
      "Record 1678 completed.\n",
      "Record 3356 completed.\n",
      "Record 5034 completed.\n",
      "Full anonymization loop 2 completed.\n",
      "Record 1678 completed.\n",
      "Record 3356 completed.\n",
      "Record 5034 completed.\n",
      "Full anonymization loop 3 completed.\n",
      "----------- Dataset 20 Completed. -------------\n"
     ]
    }
   ],
   "source": [
    "new_sXs = []\n",
    "for m,sX in enumerate(sXs):\n",
    "    new_sX = legal_anonymizer(original_data=X, synthetic_data=sX, mixture_model=GMM, deltas=[target_delta], linkability=cutoff, inference=1 + c, prior_prob=prior_death_prob)\n",
    "    new_sXs.append(new_sX)\n",
    "    print(\"----------- Dataset \" + str(m+1) + \" Completed. -------------\")"
   ]
  },
  {
   "cell_type": "code",
   "execution_count": 74,
   "id": "bc61be03",
   "metadata": {},
   "outputs": [],
   "source": [
    "# [any_identical(X, Y) for Y in new_sXs]"
   ]
  },
  {
   "cell_type": "code",
   "execution_count": 75,
   "id": "9a4923ac",
   "metadata": {},
   "outputs": [],
   "source": [
    "neighbor_stats = [neighbor_finder(X, Y, deltas) for Y in new_sXs]"
   ]
  },
  {
   "cell_type": "code",
   "execution_count": 76,
   "id": "2a867fb3",
   "metadata": {},
   "outputs": [],
   "source": [
    "match_nums = [pd.concat(x, axis=1) for x in neighbor_stats]"
   ]
  },
  {
   "cell_type": "code",
   "execution_count": 77,
   "id": "099d9c49",
   "metadata": {},
   "outputs": [],
   "source": [
    "match_nums = np.dstack(match_nums)"
   ]
  },
  {
   "cell_type": "markdown",
   "id": "9b2612c5",
   "metadata": {},
   "source": [
    "Calculate the number of singled-out records based on each synthetic dataset and each value of $\\delta$. Rows are $\\delta$ values and columns are synthetic datasets."
   ]
  },
  {
   "cell_type": "code",
   "execution_count": 78,
   "id": "9efdfb51",
   "metadata": {},
   "outputs": [],
   "source": [
    "pct_singled_out = np.sum(match_nums == 1.0, axis=0)/X.shape[0]"
   ]
  },
  {
   "cell_type": "code",
   "execution_count": 79,
   "id": "6482a1f1",
   "metadata": {},
   "outputs": [],
   "source": [
    "avg_pct_singled_out = np.mean(pct_singled_out, axis=1)"
   ]
  },
  {
   "cell_type": "code",
   "execution_count": 80,
   "id": "6688d8c8",
   "metadata": {},
   "outputs": [
    {
     "data": {
      "image/png": "[encoded data removed]",
      "text/plain": [
       "<Figure size 432x288 with 1 Axes>"
      ]
     },
     "metadata": {
      "needs_background": "light"
     },
     "output_type": "display_data"
    }
   ],
   "source": [
    "plt.bar(x=np.arange(1, num_deltas+1), height=avg_pct_singled_out, align='center')\n",
    "plt.title(\"Percentage of Singled Out Records (Singleton Neighborhoods)\")\n",
    "plt.show()"
   ]
  },
  {
   "cell_type": "code",
   "execution_count": 81,
   "id": "08216c08",
   "metadata": {},
   "outputs": [],
   "source": [
    "meet_cutoff = [[pd.concat([x == 0, x >= cutoff], axis=1).any(axis=1) for x in y] for y in neighbor_stats]"
   ]
  },
  {
   "cell_type": "code",
   "execution_count": 82,
   "id": "3b234b75",
   "metadata": {},
   "outputs": [],
   "source": [
    "meet_cutoff = [pd.concat(x, axis=1) for x in meet_cutoff]"
   ]
  },
  {
   "cell_type": "code",
   "execution_count": 83,
   "id": "3c2de8aa",
   "metadata": {},
   "outputs": [],
   "source": [
    "meet_cutoff = np.dstack(meet_cutoff)"
   ]
  },
  {
   "cell_type": "code",
   "execution_count": 84,
   "id": "289d8ae6",
   "metadata": {},
   "outputs": [],
   "source": [
    "pct_meet_cutoff = np.mean(meet_cutoff, axis=0)"
   ]
  },
  {
   "cell_type": "code",
   "execution_count": 85,
   "id": "8d4a5e86",
   "metadata": {},
   "outputs": [],
   "source": [
    "avg_pct_meet_cutoff = pct_meet_cutoff.mean(axis=1)"
   ]
  },
  {
   "cell_type": "code",
   "execution_count": 86,
   "id": "cd98177d",
   "metadata": {},
   "outputs": [
    {
     "data": {
      "image/png": "[encoded data removed]",
      "text/plain": [
       "<Figure size 432x288 with 1 Axes>"
      ]
     },
     "metadata": {
      "needs_background": "light"
     },
     "output_type": "display_data"
    }
   ],
   "source": [
    "plt.bar(x=np.arange(1, num_deltas+1), height=avg_pct_meet_cutoff, align='center')\n",
    "plt.title(\"Percentage of Records Meeting Linkability Cutoff\")\n",
    "plt.show()"
   ]
  },
  {
   "cell_type": "markdown",
   "id": "79415e6e",
   "metadata": {},
   "source": [
    "Now test for Inference criterion."
   ]
  },
  {
   "cell_type": "code",
   "execution_count": 87,
   "id": "9e19a257",
   "metadata": {},
   "outputs": [],
   "source": [
    "inference_conditions = [inference_evaluation(X, Y, prior_death_prob, deltas) for Y in new_sXs]"
   ]
  },
  {
   "cell_type": "code",
   "execution_count": 88,
   "id": "e5480c8f",
   "metadata": {},
   "outputs": [],
   "source": [
    "inf_conds = [pd.concat(x, axis=1) for x in inference_conditions]"
   ]
  },
  {
   "cell_type": "code",
   "execution_count": 89,
   "id": "eb8cabef",
   "metadata": {},
   "outputs": [],
   "source": [
    "proportion_meeting_inference = [[x <= (1 + c) for x in inf_conds] for c in c_vec]"
   ]
  },
  {
   "cell_type": "code",
   "execution_count": 90,
   "id": "ab7be5e3",
   "metadata": {},
   "outputs": [],
   "source": [
    "proportion_meeting_inference = pd.concat([pd.concat([x.mean(axis=0) for x in y], axis=1).mean(axis=1) for y in proportion_meeting_inference], axis=1)"
   ]
  },
  {
   "cell_type": "code",
   "execution_count": 91,
   "id": "df8da4c3",
   "metadata": {},
   "outputs": [
    {
     "data": {
      "text/html": [
       "<div>\n",
       "<style scoped>\n",
       "    .dataframe tbody tr th:only-of-type {\n",
       "        vertical-align: middle;\n",
       "    }\n",
       "\n",
       "    .dataframe tbody tr th {\n",
       "        vertical-align: top;\n",
       "    }\n",
       "\n",
       "    .dataframe thead th {\n",
       "        text-align: right;\n",
       "    }\n",
       "</style>\n",
       "<table border=\"1\" class=\"dataframe\">\n",
       "  <thead>\n",
       "    <tr style=\"text-align: right;\">\n",
       "      <th></th>\n",
       "      <th>0</th>\n",
       "      <th>1</th>\n",
       "      <th>2</th>\n",
       "      <th>3</th>\n",
       "      <th>4</th>\n",
       "      <th>5</th>\n",
       "      <th>6</th>\n",
       "      <th>7</th>\n",
       "      <th>8</th>\n",
       "      <th>9</th>\n",
       "      <th>10</th>\n",
       "      <th>11</th>\n",
       "      <th>12</th>\n",
       "    </tr>\n",
       "  </thead>\n",
       "  <tbody>\n",
       "    <tr>\n",
       "      <th>0</th>\n",
       "      <td>1.000000</td>\n",
       "      <td>1.000000</td>\n",
       "      <td>1.000000</td>\n",
       "      <td>1.000000</td>\n",
       "      <td>1.000000</td>\n",
       "      <td>1.000000</td>\n",
       "      <td>1.000000</td>\n",
       "      <td>1.000000</td>\n",
       "      <td>1.000000</td>\n",
       "      <td>1.000000</td>\n",
       "      <td>1.000000</td>\n",
       "      <td>1.000000</td>\n",
       "      <td>1.000000</td>\n",
       "    </tr>\n",
       "    <tr>\n",
       "      <th>1</th>\n",
       "      <td>1.000000</td>\n",
       "      <td>1.000000</td>\n",
       "      <td>1.000000</td>\n",
       "      <td>1.000000</td>\n",
       "      <td>1.000000</td>\n",
       "      <td>1.000000</td>\n",
       "      <td>1.000000</td>\n",
       "      <td>1.000000</td>\n",
       "      <td>1.000000</td>\n",
       "      <td>1.000000</td>\n",
       "      <td>1.000000</td>\n",
       "      <td>1.000000</td>\n",
       "      <td>1.000000</td>\n",
       "    </tr>\n",
       "    <tr>\n",
       "      <th>2</th>\n",
       "      <td>1.000000</td>\n",
       "      <td>1.000000</td>\n",
       "      <td>1.000000</td>\n",
       "      <td>1.000000</td>\n",
       "      <td>1.000000</td>\n",
       "      <td>1.000000</td>\n",
       "      <td>1.000000</td>\n",
       "      <td>1.000000</td>\n",
       "      <td>1.000000</td>\n",
       "      <td>1.000000</td>\n",
       "      <td>1.000000</td>\n",
       "      <td>1.000000</td>\n",
       "      <td>1.000000</td>\n",
       "    </tr>\n",
       "    <tr>\n",
       "      <th>3</th>\n",
       "      <td>1.000000</td>\n",
       "      <td>1.000000</td>\n",
       "      <td>1.000000</td>\n",
       "      <td>1.000000</td>\n",
       "      <td>1.000000</td>\n",
       "      <td>1.000000</td>\n",
       "      <td>1.000000</td>\n",
       "      <td>1.000000</td>\n",
       "      <td>1.000000</td>\n",
       "      <td>1.000000</td>\n",
       "      <td>1.000000</td>\n",
       "      <td>1.000000</td>\n",
       "      <td>1.000000</td>\n",
       "    </tr>\n",
       "    <tr>\n",
       "      <th>4</th>\n",
       "      <td>1.000000</td>\n",
       "      <td>1.000000</td>\n",
       "      <td>1.000000</td>\n",
       "      <td>1.000000</td>\n",
       "      <td>1.000000</td>\n",
       "      <td>1.000000</td>\n",
       "      <td>1.000000</td>\n",
       "      <td>1.000000</td>\n",
       "      <td>1.000000</td>\n",
       "      <td>1.000000</td>\n",
       "      <td>1.000000</td>\n",
       "      <td>1.000000</td>\n",
       "      <td>1.000000</td>\n",
       "    </tr>\n",
       "    <tr>\n",
       "      <th>5</th>\n",
       "      <td>0.999993</td>\n",
       "      <td>0.999993</td>\n",
       "      <td>0.999993</td>\n",
       "      <td>0.999993</td>\n",
       "      <td>0.999993</td>\n",
       "      <td>0.999993</td>\n",
       "      <td>0.999993</td>\n",
       "      <td>0.999993</td>\n",
       "      <td>0.999993</td>\n",
       "      <td>0.999993</td>\n",
       "      <td>0.999993</td>\n",
       "      <td>0.999993</td>\n",
       "      <td>0.999993</td>\n",
       "    </tr>\n",
       "    <tr>\n",
       "      <th>6</th>\n",
       "      <td>0.999918</td>\n",
       "      <td>0.999918</td>\n",
       "      <td>0.999918</td>\n",
       "      <td>0.999918</td>\n",
       "      <td>0.999918</td>\n",
       "      <td>0.999918</td>\n",
       "      <td>0.999918</td>\n",
       "      <td>0.999918</td>\n",
       "      <td>0.999918</td>\n",
       "      <td>0.999918</td>\n",
       "      <td>0.999918</td>\n",
       "      <td>0.999918</td>\n",
       "      <td>0.999918</td>\n",
       "    </tr>\n",
       "    <tr>\n",
       "      <th>7</th>\n",
       "      <td>0.999881</td>\n",
       "      <td>0.999881</td>\n",
       "      <td>0.999881</td>\n",
       "      <td>0.999881</td>\n",
       "      <td>0.999881</td>\n",
       "      <td>0.999881</td>\n",
       "      <td>0.999881</td>\n",
       "      <td>0.999881</td>\n",
       "      <td>0.999881</td>\n",
       "      <td>0.999881</td>\n",
       "      <td>0.999881</td>\n",
       "      <td>0.999881</td>\n",
       "      <td>0.999881</td>\n",
       "    </tr>\n",
       "    <tr>\n",
       "      <th>8</th>\n",
       "      <td>0.999769</td>\n",
       "      <td>0.999769</td>\n",
       "      <td>0.999769</td>\n",
       "      <td>0.999769</td>\n",
       "      <td>0.999769</td>\n",
       "      <td>0.999769</td>\n",
       "      <td>0.999769</td>\n",
       "      <td>0.999769</td>\n",
       "      <td>0.999769</td>\n",
       "      <td>0.999769</td>\n",
       "      <td>0.999784</td>\n",
       "      <td>0.999784</td>\n",
       "      <td>0.999784</td>\n",
       "    </tr>\n",
       "    <tr>\n",
       "      <th>9</th>\n",
       "      <td>0.999680</td>\n",
       "      <td>0.999680</td>\n",
       "      <td>0.999680</td>\n",
       "      <td>0.999680</td>\n",
       "      <td>0.999680</td>\n",
       "      <td>0.999680</td>\n",
       "      <td>0.999680</td>\n",
       "      <td>0.999680</td>\n",
       "      <td>0.999680</td>\n",
       "      <td>0.999687</td>\n",
       "      <td>0.999769</td>\n",
       "      <td>0.999873</td>\n",
       "      <td>0.999933</td>\n",
       "    </tr>\n",
       "    <tr>\n",
       "      <th>10</th>\n",
       "      <td>0.999620</td>\n",
       "      <td>0.999620</td>\n",
       "      <td>0.999628</td>\n",
       "      <td>0.999628</td>\n",
       "      <td>0.999650</td>\n",
       "      <td>0.999657</td>\n",
       "      <td>0.999657</td>\n",
       "      <td>0.999657</td>\n",
       "      <td>0.999657</td>\n",
       "      <td>0.999665</td>\n",
       "      <td>1.000000</td>\n",
       "      <td>1.000000</td>\n",
       "      <td>1.000000</td>\n",
       "    </tr>\n",
       "    <tr>\n",
       "      <th>11</th>\n",
       "      <td>0.999501</td>\n",
       "      <td>0.999508</td>\n",
       "      <td>0.999508</td>\n",
       "      <td>0.999508</td>\n",
       "      <td>0.999508</td>\n",
       "      <td>0.999508</td>\n",
       "      <td>0.999508</td>\n",
       "      <td>0.999508</td>\n",
       "      <td>0.999516</td>\n",
       "      <td>0.999516</td>\n",
       "      <td>0.999866</td>\n",
       "      <td>0.999873</td>\n",
       "      <td>0.999873</td>\n",
       "    </tr>\n",
       "    <tr>\n",
       "      <th>12</th>\n",
       "      <td>0.999076</td>\n",
       "      <td>0.999076</td>\n",
       "      <td>0.999076</td>\n",
       "      <td>0.999076</td>\n",
       "      <td>0.999076</td>\n",
       "      <td>0.999076</td>\n",
       "      <td>0.999076</td>\n",
       "      <td>0.999076</td>\n",
       "      <td>0.999076</td>\n",
       "      <td>0.999084</td>\n",
       "      <td>0.999464</td>\n",
       "      <td>0.999471</td>\n",
       "      <td>0.999471</td>\n",
       "    </tr>\n",
       "    <tr>\n",
       "      <th>13</th>\n",
       "      <td>0.997892</td>\n",
       "      <td>0.997892</td>\n",
       "      <td>0.997892</td>\n",
       "      <td>0.997892</td>\n",
       "      <td>0.997892</td>\n",
       "      <td>0.997892</td>\n",
       "      <td>0.997892</td>\n",
       "      <td>0.997892</td>\n",
       "      <td>0.997892</td>\n",
       "      <td>0.997892</td>\n",
       "      <td>0.998339</td>\n",
       "      <td>0.998346</td>\n",
       "      <td>0.998346</td>\n",
       "    </tr>\n",
       "    <tr>\n",
       "      <th>14</th>\n",
       "      <td>0.996059</td>\n",
       "      <td>0.996059</td>\n",
       "      <td>0.996059</td>\n",
       "      <td>0.996059</td>\n",
       "      <td>0.996059</td>\n",
       "      <td>0.996059</td>\n",
       "      <td>0.996059</td>\n",
       "      <td>0.996059</td>\n",
       "      <td>0.996059</td>\n",
       "      <td>0.996104</td>\n",
       "      <td>0.996350</td>\n",
       "      <td>0.996350</td>\n",
       "      <td>0.996365</td>\n",
       "    </tr>\n",
       "    <tr>\n",
       "      <th>15</th>\n",
       "      <td>0.995441</td>\n",
       "      <td>0.995441</td>\n",
       "      <td>0.995441</td>\n",
       "      <td>0.995441</td>\n",
       "      <td>0.995441</td>\n",
       "      <td>0.995441</td>\n",
       "      <td>0.995441</td>\n",
       "      <td>0.995441</td>\n",
       "      <td>0.995448</td>\n",
       "      <td>0.995530</td>\n",
       "      <td>0.995664</td>\n",
       "      <td>0.995687</td>\n",
       "      <td>0.995732</td>\n",
       "    </tr>\n",
       "    <tr>\n",
       "      <th>16</th>\n",
       "      <td>0.995031</td>\n",
       "      <td>0.995031</td>\n",
       "      <td>0.995031</td>\n",
       "      <td>0.995031</td>\n",
       "      <td>0.995031</td>\n",
       "      <td>0.995031</td>\n",
       "      <td>0.995031</td>\n",
       "      <td>0.995031</td>\n",
       "      <td>0.995031</td>\n",
       "      <td>0.995061</td>\n",
       "      <td>0.995203</td>\n",
       "      <td>0.995247</td>\n",
       "      <td>0.995314</td>\n",
       "    </tr>\n",
       "    <tr>\n",
       "      <th>17</th>\n",
       "      <td>0.994614</td>\n",
       "      <td>0.994614</td>\n",
       "      <td>0.994614</td>\n",
       "      <td>0.994614</td>\n",
       "      <td>0.994614</td>\n",
       "      <td>0.994614</td>\n",
       "      <td>0.994614</td>\n",
       "      <td>0.994636</td>\n",
       "      <td>0.994636</td>\n",
       "      <td>0.994689</td>\n",
       "      <td>0.994815</td>\n",
       "      <td>0.994815</td>\n",
       "      <td>0.994860</td>\n",
       "    </tr>\n",
       "    <tr>\n",
       "      <th>18</th>\n",
       "      <td>0.993921</td>\n",
       "      <td>0.993921</td>\n",
       "      <td>0.993921</td>\n",
       "      <td>0.993921</td>\n",
       "      <td>0.993921</td>\n",
       "      <td>0.993921</td>\n",
       "      <td>0.993921</td>\n",
       "      <td>0.993921</td>\n",
       "      <td>0.993921</td>\n",
       "      <td>0.993996</td>\n",
       "      <td>0.994093</td>\n",
       "      <td>0.994145</td>\n",
       "      <td>0.994167</td>\n",
       "    </tr>\n",
       "    <tr>\n",
       "      <th>19</th>\n",
       "      <td>0.993035</td>\n",
       "      <td>0.993035</td>\n",
       "      <td>0.993035</td>\n",
       "      <td>0.993035</td>\n",
       "      <td>0.993035</td>\n",
       "      <td>0.993035</td>\n",
       "      <td>0.993035</td>\n",
       "      <td>0.993050</td>\n",
       "      <td>0.993050</td>\n",
       "      <td>0.993147</td>\n",
       "      <td>0.993303</td>\n",
       "      <td>0.993430</td>\n",
       "      <td>0.993459</td>\n",
       "    </tr>\n",
       "  </tbody>\n",
       "</table>\n",
       "</div>"
      ],
      "text/plain": [
       "          0         1         2         3         4         5         6   \\\n",
       "0   1.000000  1.000000  1.000000  1.000000  1.000000  1.000000  1.000000   \n",
       "1   1.000000  1.000000  1.000000  1.000000  1.000000  1.000000  1.000000   \n",
       "2   1.000000  1.000000  1.000000  1.000000  1.000000  1.000000  1.000000   \n",
       "3   1.000000  1.000000  1.000000  1.000000  1.000000  1.000000  1.000000   \n",
       "4   1.000000  1.000000  1.000000  1.000000  1.000000  1.000000  1.000000   \n",
       "5   0.999993  0.999993  0.999993  0.999993  0.999993  0.999993  0.999993   \n",
       "6   0.999918  0.999918  0.999918  0.999918  0.999918  0.999918  0.999918   \n",
       "7   0.999881  0.999881  0.999881  0.999881  0.999881  0.999881  0.999881   \n",
       "8   0.999769  0.999769  0.999769  0.999769  0.999769  0.999769  0.999769   \n",
       "9   0.999680  0.999680  0.999680  0.999680  0.999680  0.999680  0.999680   \n",
       "10  0.999620  0.999620  0.999628  0.999628  0.999650  0.999657  0.999657   \n",
       "11  0.999501  0.999508  0.999508  0.999508  0.999508  0.999508  0.999508   \n",
       "12  0.999076  0.999076  0.999076  0.999076  0.999076  0.999076  0.999076   \n",
       "13  0.997892  0.997892  0.997892  0.997892  0.997892  0.997892  0.997892   \n",
       "14  0.996059  0.996059  0.996059  0.996059  0.996059  0.996059  0.996059   \n",
       "15  0.995441  0.995441  0.995441  0.995441  0.995441  0.995441  0.995441   \n",
       "16  0.995031  0.995031  0.995031  0.995031  0.995031  0.995031  0.995031   \n",
       "17  0.994614  0.994614  0.994614  0.994614  0.994614  0.994614  0.994614   \n",
       "18  0.993921  0.993921  0.993921  0.993921  0.993921  0.993921  0.993921   \n",
       "19  0.993035  0.993035  0.993035  0.993035  0.993035  0.993035  0.993035   \n",
       "\n",
       "          7         8         9         10        11        12  \n",
       "0   1.000000  1.000000  1.000000  1.000000  1.000000  1.000000  \n",
       "1   1.000000  1.000000  1.000000  1.000000  1.000000  1.000000  \n",
       "2   1.000000  1.000000  1.000000  1.000000  1.000000  1.000000  \n",
       "3   1.000000  1.000000  1.000000  1.000000  1.000000  1.000000  \n",
       "4   1.000000  1.000000  1.000000  1.000000  1.000000  1.000000  \n",
       "5   0.999993  0.999993  0.999993  0.999993  0.999993  0.999993  \n",
       "6   0.999918  0.999918  0.999918  0.999918  0.999918  0.999918  \n",
       "7   0.999881  0.999881  0.999881  0.999881  0.999881  0.999881  \n",
       "8   0.999769  0.999769  0.999769  0.999784  0.999784  0.999784  \n",
       "9   0.999680  0.999680  0.999687  0.999769  0.999873  0.999933  \n",
       "10  0.999657  0.999657  0.999665  1.000000  1.000000  1.000000  \n",
       "11  0.999508  0.999516  0.999516  0.999866  0.999873  0.999873  \n",
       "12  0.999076  0.999076  0.999084  0.999464  0.999471  0.999471  \n",
       "13  0.997892  0.997892  0.997892  0.998339  0.998346  0.998346  \n",
       "14  0.996059  0.996059  0.996104  0.996350  0.996350  0.996365  \n",
       "15  0.995441  0.995448  0.995530  0.995664  0.995687  0.995732  \n",
       "16  0.995031  0.995031  0.995061  0.995203  0.995247  0.995314  \n",
       "17  0.994636  0.994636  0.994689  0.994815  0.994815  0.994860  \n",
       "18  0.993921  0.993921  0.993996  0.994093  0.994145  0.994167  \n",
       "19  0.993050  0.993050  0.993147  0.993303  0.993430  0.993459  "
      ]
     },
     "execution_count": 91,
     "metadata": {},
     "output_type": "execute_result"
    }
   ],
   "source": [
    "proportion_meeting_inference"
   ]
  },
  {
   "cell_type": "markdown",
   "id": "e352d578",
   "metadata": {},
   "source": [
    "Display the average proportion of records meeting the inference criterion across all synthetic datasets for each combination of $\\delta$ and $c$."
   ]
  },
  {
   "cell_type": "code",
   "execution_count": 92,
   "id": "e3769925",
   "metadata": {},
   "outputs": [
    {
     "data": {
      "image/png": "[encoded data removed]",
      "text/plain": [
       "<Figure size 432x288 with 1 Axes>"
      ]
     },
     "metadata": {
      "needs_background": "light"
     },
     "output_type": "display_data"
    }
   ],
   "source": [
    "ax = proportion_meeting_inference.plot()\n",
    "ax.set_ylabel('Proportion Records Meeting Inference Criterion', fontsize=12)\n",
    "ax.set_xlabel('Delta Values', fontsize=12)\n",
    "# legend shows different values of c - 0.01 to 0.09\n",
    "plt.show()"
   ]
  },
  {
   "cell_type": "markdown",
   "id": "8fed438a",
   "metadata": {},
   "source": [
    "## Now save all anonymized synthetic datasets."
   ]
  },
  {
   "cell_type": "code",
   "execution_count": 93,
   "id": "d83e65d9",
   "metadata": {},
   "outputs": [],
   "source": [
    "for i, sX in enumerate(new_sXs):\n",
    "    sX.to_csv(\"Data/synthetic_datasets/anonymized_synthetic_dataset_\" + str(i) + \".csv\", index=False)"
   ]
  },
  {
   "cell_type": "code",
   "execution_count": 2,
   "id": "450efcf7",
   "metadata": {},
   "outputs": [
    {
     "data": {
      "text/plain": [
       "1.0000000008991796"
      ]
     },
     "execution_count": 2,
     "metadata": {},
     "output_type": "execute_result"
    }
   ],
   "source": [
    "104/8897 * 85.548077"
   ]
  },
  {
   "cell_type": "code",
   "execution_count": null,
   "id": "06eb6abc",
   "metadata": {},
   "outputs": [],
   "source": []
  }
 ],
 "metadata": {
  "kernelspec": {
   "display_name": "Python 3 (ipykernel)",
   "language": "python",
   "name": "python3"
  },
  "language_info": {
   "codemirror_mode": {
    "name": "ipython",
    "version": 3
   },
   "file_extension": ".py",
   "mimetype": "text/x-python",
   "name": "python",
   "nbconvert_exporter": "python",
   "pygments_lexer": "ipython3",
   "version": "3.11.7"
  }
 },
 "nbformat": 4,
 "nbformat_minor": 5
}
