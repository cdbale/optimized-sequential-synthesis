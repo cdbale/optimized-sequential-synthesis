{
 "cells": [
  {
   "cell_type": "code",
   "execution_count": 1,
   "id": "6a9fe08f",
   "metadata": {},
   "outputs": [],
   "source": [
    "import pandas as pd\n",
    "import numpy as np\n",
    "import seaborn as sns\n",
    "\n",
    "import matplotlib.pyplot as plt\n",
    "\n",
    "from helper_functions import *"
   ]
  },
  {
   "cell_type": "code",
   "execution_count": 2,
   "id": "74051225",
   "metadata": {},
   "outputs": [],
   "source": [
    "train = pd.read_csv(\"../Data/IPUMS/non_normalized_cleaned_ipums_data.csv\")"
   ]
  },
  {
   "cell_type": "code",
   "execution_count": 3,
   "id": "78cd0028-beec-483f-b877-fa9309e12fc8",
   "metadata": {},
   "outputs": [
    {
     "data": {
      "text/html": [
       "<div>\n",
       "<style scoped>\n",
       "    .dataframe tbody tr th:only-of-type {\n",
       "        vertical-align: middle;\n",
       "    }\n",
       "\n",
       "    .dataframe tbody tr th {\n",
       "        vertical-align: top;\n",
       "    }\n",
       "\n",
       "    .dataframe thead th {\n",
       "        text-align: right;\n",
       "    }\n",
       "</style>\n",
       "<table border=\"1\" class=\"dataframe\">\n",
       "  <thead>\n",
       "    <tr style=\"text-align: right;\">\n",
       "      <th></th>\n",
       "      <th>incwage</th>\n",
       "      <th>years_of_educ</th>\n",
       "      <th>potential_experience</th>\n",
       "      <th>non_white</th>\n",
       "      <th>sex</th>\n",
       "    </tr>\n",
       "  </thead>\n",
       "  <tbody>\n",
       "    <tr>\n",
       "      <th>0</th>\n",
       "      <td>11000</td>\n",
       "      <td>16.000000</td>\n",
       "      <td>18.000000</td>\n",
       "      <td>0</td>\n",
       "      <td>1</td>\n",
       "    </tr>\n",
       "    <tr>\n",
       "      <th>1</th>\n",
       "      <td>38000</td>\n",
       "      <td>15.000000</td>\n",
       "      <td>23.000000</td>\n",
       "      <td>0</td>\n",
       "      <td>0</td>\n",
       "    </tr>\n",
       "    <tr>\n",
       "      <th>2</th>\n",
       "      <td>7000</td>\n",
       "      <td>13.000000</td>\n",
       "      <td>2.000000</td>\n",
       "      <td>0</td>\n",
       "      <td>0</td>\n",
       "    </tr>\n",
       "    <tr>\n",
       "      <th>3</th>\n",
       "      <td>2600</td>\n",
       "      <td>11.000000</td>\n",
       "      <td>0.000000</td>\n",
       "      <td>0</td>\n",
       "      <td>0</td>\n",
       "    </tr>\n",
       "    <tr>\n",
       "      <th>4</th>\n",
       "      <td>20800</td>\n",
       "      <td>12.000000</td>\n",
       "      <td>33.000000</td>\n",
       "      <td>1</td>\n",
       "      <td>0</td>\n",
       "    </tr>\n",
       "    <tr>\n",
       "      <th>...</th>\n",
       "      <td>...</td>\n",
       "      <td>...</td>\n",
       "      <td>...</td>\n",
       "      <td>...</td>\n",
       "      <td>...</td>\n",
       "    </tr>\n",
       "    <tr>\n",
       "      <th>197751</th>\n",
       "      <td>22500</td>\n",
       "      <td>16.000000</td>\n",
       "      <td>13.000000</td>\n",
       "      <td>0</td>\n",
       "      <td>0</td>\n",
       "    </tr>\n",
       "    <tr>\n",
       "      <th>197752</th>\n",
       "      <td>4500</td>\n",
       "      <td>16.000000</td>\n",
       "      <td>11.000000</td>\n",
       "      <td>0</td>\n",
       "      <td>1</td>\n",
       "    </tr>\n",
       "    <tr>\n",
       "      <th>197753</th>\n",
       "      <td>37000</td>\n",
       "      <td>17.737673</td>\n",
       "      <td>19.262327</td>\n",
       "      <td>0</td>\n",
       "      <td>0</td>\n",
       "    </tr>\n",
       "    <tr>\n",
       "      <th>197754</th>\n",
       "      <td>1500</td>\n",
       "      <td>15.000000</td>\n",
       "      <td>13.000000</td>\n",
       "      <td>0</td>\n",
       "      <td>1</td>\n",
       "    </tr>\n",
       "    <tr>\n",
       "      <th>197755</th>\n",
       "      <td>45100</td>\n",
       "      <td>16.000000</td>\n",
       "      <td>32.000000</td>\n",
       "      <td>0</td>\n",
       "      <td>0</td>\n",
       "    </tr>\n",
       "  </tbody>\n",
       "</table>\n",
       "<p>197756 rows × 5 columns</p>\n",
       "</div>"
      ],
      "text/plain": [
       "        incwage  years_of_educ  potential_experience  non_white  sex\n",
       "0         11000      16.000000             18.000000          0    1\n",
       "1         38000      15.000000             23.000000          0    0\n",
       "2          7000      13.000000              2.000000          0    0\n",
       "3          2600      11.000000              0.000000          0    0\n",
       "4         20800      12.000000             33.000000          1    0\n",
       "...         ...            ...                   ...        ...  ...\n",
       "197751    22500      16.000000             13.000000          0    0\n",
       "197752     4500      16.000000             11.000000          0    1\n",
       "197753    37000      17.737673             19.262327          0    0\n",
       "197754     1500      15.000000             13.000000          0    1\n",
       "197755    45100      16.000000             32.000000          0    0\n",
       "\n",
       "[197756 rows x 5 columns]"
      ]
     },
     "execution_count": 3,
     "metadata": {},
     "output_type": "execute_result"
    }
   ],
   "source": [
    "train"
   ]
  },
  {
   "cell_type": "markdown",
   "id": "1d2762e9",
   "metadata": {},
   "source": [
    "Pick an arbitrary $\\delta$ value."
   ]
  },
  {
   "cell_type": "code",
   "execution_count": 4,
   "id": "ab018872",
   "metadata": {},
   "outputs": [],
   "source": [
    "delta = 0.001"
   ]
  },
  {
   "cell_type": "markdown",
   "id": "ae755216",
   "metadata": {},
   "source": [
    "Function to calculate the privacy metrics given training and synthetic data, for a given delta value."
   ]
  },
  {
   "cell_type": "markdown",
   "id": "9442a977-7943-4c06-b6d6-c62853fd072e",
   "metadata": {},
   "source": [
    "Import the post-processed data (with wage converted to at least 1)"
   ]
  },
  {
   "cell_type": "code",
   "execution_count": 5,
   "id": "68a9d566",
   "metadata": {},
   "outputs": [],
   "source": [
    "sXs_mnl = [pd.read_csv(\"../Data/IPUMS/Synthetic Datasets/gmm_and_mnl_\" + str(i) + \".csv\") for i in range(20)]\n",
    "# ad_sXs_mnl = [pd.read_csv(\"../Data/IPUMS/Synthetic Datasets/ad_gmm_and_mnl_\" + str(i) + \".csv\") for i in range(20)]\n",
    "sXs_cart = [pd.read_csv(\"../Data/IPUMS/Synthetic Datasets/gmm_and_cart_\" + str(i) + \".csv\") for i in range(20)]\n",
    "# ad_sXs_cart = [pd.read_csv(\"../Data/IPUMS/Synthetic Datasets/ad_gmm_and_cart_\" + str(i) + \".csv\") for i in range(20)]\n",
    "# sXs_mostly = [pd.read_csv(\"../Data/IPUMS/Synthetic Datasets/pp_mostly_\" + str(i) + \".csv\") for i in range(20)]\n",
    "sXs_synthpop = [pd.read_csv(\"../Data/IPUMS/Synthetic Datasets/synthpop_baseline_\" + str(i) + \".csv\") for i in range(20)]\n",
    "# sXs_sp = [pd.read_csv(\"../Data/IPUMS/Synthetic Datasets/synthpop_baseline_\" + str(i) + \".csv\") for i in range(20)]\n",
    "sXs_co = [pd.read_csv(\"../Data/IPUMS/Synthetic Datasets/cart_\" + str(i) + \".csv\") for i in range(20)]"
   ]
  },
  {
   "cell_type": "code",
   "execution_count": 25,
   "id": "ed3648fa-b482-47dc-8ed7-8ace769264d2",
   "metadata": {},
   "outputs": [
    {
     "data": {
      "text/html": [
       "<div>\n",
       "<style scoped>\n",
       "    .dataframe tbody tr th:only-of-type {\n",
       "        vertical-align: middle;\n",
       "    }\n",
       "\n",
       "    .dataframe tbody tr th {\n",
       "        vertical-align: top;\n",
       "    }\n",
       "\n",
       "    .dataframe thead th {\n",
       "        text-align: right;\n",
       "    }\n",
       "</style>\n",
       "<table border=\"1\" class=\"dataframe\">\n",
       "  <thead>\n",
       "    <tr style=\"text-align: right;\">\n",
       "      <th></th>\n",
       "      <th>incwage</th>\n",
       "      <th>years_of_educ</th>\n",
       "      <th>potential_experience</th>\n",
       "      <th>non_white</th>\n",
       "      <th>sex</th>\n",
       "    </tr>\n",
       "  </thead>\n",
       "  <tbody>\n",
       "    <tr>\n",
       "      <th>0</th>\n",
       "      <td>28699.997003</td>\n",
       "      <td>12.0</td>\n",
       "      <td>9.999986</td>\n",
       "      <td>0</td>\n",
       "      <td>0</td>\n",
       "    </tr>\n",
       "    <tr>\n",
       "      <th>1</th>\n",
       "      <td>25000.008742</td>\n",
       "      <td>12.0</td>\n",
       "      <td>20.000016</td>\n",
       "      <td>0</td>\n",
       "      <td>0</td>\n",
       "    </tr>\n",
       "    <tr>\n",
       "      <th>2</th>\n",
       "      <td>1599.997845</td>\n",
       "      <td>16.0</td>\n",
       "      <td>11.000003</td>\n",
       "      <td>0</td>\n",
       "      <td>1</td>\n",
       "    </tr>\n",
       "    <tr>\n",
       "      <th>3</th>\n",
       "      <td>8000.016791</td>\n",
       "      <td>12.0</td>\n",
       "      <td>28.000007</td>\n",
       "      <td>0</td>\n",
       "      <td>0</td>\n",
       "    </tr>\n",
       "    <tr>\n",
       "      <th>4</th>\n",
       "      <td>4000.017782</td>\n",
       "      <td>13.0</td>\n",
       "      <td>2.000008</td>\n",
       "      <td>0</td>\n",
       "      <td>0</td>\n",
       "    </tr>\n",
       "    <tr>\n",
       "      <th>...</th>\n",
       "      <td>...</td>\n",
       "      <td>...</td>\n",
       "      <td>...</td>\n",
       "      <td>...</td>\n",
       "      <td>...</td>\n",
       "    </tr>\n",
       "    <tr>\n",
       "      <th>197751</th>\n",
       "      <td>12635.981622</td>\n",
       "      <td>13.0</td>\n",
       "      <td>13.000003</td>\n",
       "      <td>0</td>\n",
       "      <td>0</td>\n",
       "    </tr>\n",
       "    <tr>\n",
       "      <th>197752</th>\n",
       "      <td>12500.002177</td>\n",
       "      <td>12.0</td>\n",
       "      <td>24.000002</td>\n",
       "      <td>0</td>\n",
       "      <td>1</td>\n",
       "    </tr>\n",
       "    <tr>\n",
       "      <th>197753</th>\n",
       "      <td>23999.996863</td>\n",
       "      <td>13.0</td>\n",
       "      <td>10.999995</td>\n",
       "      <td>0</td>\n",
       "      <td>0</td>\n",
       "    </tr>\n",
       "    <tr>\n",
       "      <th>197754</th>\n",
       "      <td>43000.002979</td>\n",
       "      <td>12.0</td>\n",
       "      <td>26.000007</td>\n",
       "      <td>0</td>\n",
       "      <td>0</td>\n",
       "    </tr>\n",
       "    <tr>\n",
       "      <th>197755</th>\n",
       "      <td>31999.991941</td>\n",
       "      <td>12.0</td>\n",
       "      <td>27.000015</td>\n",
       "      <td>0</td>\n",
       "      <td>0</td>\n",
       "    </tr>\n",
       "  </tbody>\n",
       "</table>\n",
       "<p>197756 rows × 5 columns</p>\n",
       "</div>"
      ],
      "text/plain": [
       "             incwage  years_of_educ  potential_experience  non_white  sex\n",
       "0       28699.997003           12.0              9.999986          0    0\n",
       "1       25000.008742           12.0             20.000016          0    0\n",
       "2        1599.997845           16.0             11.000003          0    1\n",
       "3        8000.016791           12.0             28.000007          0    0\n",
       "4        4000.017782           13.0              2.000008          0    0\n",
       "...              ...            ...                   ...        ...  ...\n",
       "197751  12635.981622           13.0             13.000003          0    0\n",
       "197752  12500.002177           12.0             24.000002          0    1\n",
       "197753  23999.996863           13.0             10.999995          0    0\n",
       "197754  43000.002979           12.0             26.000007          0    0\n",
       "197755  31999.991941           12.0             27.000015          0    0\n",
       "\n",
       "[197756 rows x 5 columns]"
      ]
     },
     "execution_count": 25,
     "metadata": {},
     "output_type": "execute_result"
    }
   ],
   "source": [
    "sXs_co[0]"
   ]
  },
  {
   "cell_type": "code",
   "execution_count": 6,
   "id": "0a27bf76-e85c-443e-aeee-cb3ae42261a3",
   "metadata": {},
   "outputs": [],
   "source": [
    "def non_normalize(train_data, synthetic_datasets):\n",
    "    normalizer = preprocessing.StandardScaler().fit(train_data.loc[:,[\"incwage\", \"years_of_educ\", \"potential_experience\"]])\n",
    "    new_synthetic_datasets = []\n",
    "    for Z in synthetic_datasets:\n",
    "        Z.loc[:, [\"incwage\", \"years_of_educ\", \"potential_experience\"]] = normalizer.inverse_transform(Z.loc[:,[\"incwage\", \"years_of_educ\", \"potential_experience\"]])"
   ]
  },
  {
   "cell_type": "code",
   "execution_count": 7,
   "id": "81b6dc5c-0db1-4bd5-b702-e7b6d34e1ca6",
   "metadata": {},
   "outputs": [],
   "source": [
    "non_normalize(train_data=train, synthetic_datasets=sXs_mnl)\n",
    "non_normalize(train_data=train, synthetic_datasets=sXs_cart)\n",
    "non_normalize(train_data=train, synthetic_datasets=sXs_synthpop)"
   ]
  },
  {
   "cell_type": "code",
   "execution_count": 8,
   "id": "e1c158e8-0476-4dc4-88f1-00ffc8a61565",
   "metadata": {},
   "outputs": [],
   "source": [
    "def post_process(synthetic_datasets):\n",
    "    for Z in synthetic_datasets:\n",
    "        Z.loc[:,'incwage'] = np.where(Z.incwage < 1, 1, Z.incwage)"
   ]
  },
  {
   "cell_type": "code",
   "execution_count": 9,
   "id": "83c321a5-e7b8-43e6-b0fd-2bf67a1d34a5",
   "metadata": {},
   "outputs": [],
   "source": [
    "post_process(sXs_mnl)\n",
    "post_process(sXs_cart)\n",
    "post_process(sXs_synthpop)\n",
    "post_process(sXs_co)"
   ]
  },
  {
   "cell_type": "code",
   "execution_count": 10,
   "id": "d1f9392c-e6b9-4450-9fd2-b79a912a6756",
   "metadata": {},
   "outputs": [
    {
     "name": "stderr",
     "output_type": "stream",
     "text": [
      "C:\\Users\\Cameron\\Box\\Research Projects\\optimized-sequential-synthesis\\Code\\helper_functions.py:122: RuntimeWarning: invalid value encountered in divide\n",
      "  ratios_train = train_dists[:,1]/train_dists[:,-1]\n"
     ]
    }
   ],
   "source": [
    "pms_mnl = privacy_metrics(train_data=train, synthetic_datasets=sXs_mnl, type_of_synthetic=\"MNL\", delta=delta)"
   ]
  },
  {
   "cell_type": "code",
   "execution_count": 11,
   "id": "3efd9b0a-908e-4fa3-8b6c-0ad1b24861b3",
   "metadata": {},
   "outputs": [],
   "source": [
    "# pms_ad_mnl = privacy_metrics(train_data=train, synthetic_datasets=ad_sXs_mnl, type_of_synthetic=\"AD-MNL\", delta=delta)"
   ]
  },
  {
   "cell_type": "code",
   "execution_count": 12,
   "id": "7de25690-4234-4bd5-8319-76f47247c58d",
   "metadata": {},
   "outputs": [
    {
     "name": "stderr",
     "output_type": "stream",
     "text": [
      "C:\\Users\\Cameron\\Box\\Research Projects\\optimized-sequential-synthesis\\Code\\helper_functions.py:122: RuntimeWarning: invalid value encountered in divide\n",
      "  ratios_train = train_dists[:,1]/train_dists[:,-1]\n"
     ]
    }
   ],
   "source": [
    "pms_cart = privacy_metrics(train_data=train, synthetic_datasets=sXs_cart, type_of_synthetic=\"CART\", delta=delta)"
   ]
  },
  {
   "cell_type": "code",
   "execution_count": 13,
   "id": "70a03fd4-5625-4b68-889f-9019a694b6f6",
   "metadata": {},
   "outputs": [],
   "source": [
    "# pms_ad_cart = privacy_metrics(train_data=train, synthetic_datasets=ad_sXs_cart, type_of_synthetic=\"AD-CART\", delta=delta)"
   ]
  },
  {
   "cell_type": "code",
   "execution_count": 14,
   "id": "9445d654-8972-46b0-b3de-c4f8bb7ffd51",
   "metadata": {},
   "outputs": [],
   "source": [
    "# pms_mostly = privacy_metrics(train_data=train, synthetic_datasets=sXs_mostly, type_of_synthetic=\"MOSTLY.AI\", delta=delta)"
   ]
  },
  {
   "cell_type": "code",
   "execution_count": 15,
   "id": "431230a2-561c-40b3-9471-c80af1b2ae37",
   "metadata": {},
   "outputs": [
    {
     "name": "stderr",
     "output_type": "stream",
     "text": [
      "C:\\Users\\Cameron\\Box\\Research Projects\\optimized-sequential-synthesis\\Code\\helper_functions.py:122: RuntimeWarning: invalid value encountered in divide\n",
      "  ratios_train = train_dists[:,1]/train_dists[:,-1]\n"
     ]
    }
   ],
   "source": [
    "pms_synthpop = privacy_metrics(train_data=train, synthetic_datasets=sXs_synthpop, type_of_synthetic=\"Synthpop\", delta=delta)"
   ]
  },
  {
   "cell_type": "code",
   "execution_count": 16,
   "id": "1cf6eb53-086f-4957-b818-a02f9de5dc32",
   "metadata": {},
   "outputs": [],
   "source": [
    "# privacy_results = pd.concat([pms_mnl, pms_ad_mnl.iloc[1:,:], pms_cart.iloc[1:,:], pms_ad_cart.iloc[1:,:], pms_mostly.iloc[1:,:]]).reset_index(drop=True)"
   ]
  },
  {
   "cell_type": "code",
   "execution_count": 17,
   "id": "8c26e0b0-0fc9-4f0b-8312-98880c6d67fb",
   "metadata": {},
   "outputs": [
    {
     "name": "stderr",
     "output_type": "stream",
     "text": [
      "C:\\Users\\Cameron\\Box\\Research Projects\\optimized-sequential-synthesis\\Code\\helper_functions.py:122: RuntimeWarning: invalid value encountered in divide\n",
      "  ratios_train = train_dists[:,1]/train_dists[:,-1]\n"
     ]
    }
   ],
   "source": [
    "pms_co = privacy_metrics(train_data=train, synthetic_datasets=sXs_co, type_of_synthetic=\"CART Only\", delta=delta)"
   ]
  },
  {
   "cell_type": "code",
   "execution_count": 18,
   "id": "d3b70246-5b20-460f-96d8-0596a6255452",
   "metadata": {},
   "outputs": [],
   "source": [
    "privacy_results = pd.concat([pms_mnl, pms_cart.iloc[1:,:], pms_mostly.iloc[1:,:]]).reset_index(drop=True)"
   ]
  },
  {
   "cell_type": "code",
   "execution_count": 19,
   "id": "f78c28cb-cc1a-44f7-95a5-57a554ae207d",
   "metadata": {},
   "outputs": [],
   "source": [
    "privacy_results = privacy_results.melt(id_vars=[\"Type\"], value_vars=[\"IMS\", \"DCR\", \"NNDR\"], var_name=\"Metric\") "
   ]
  },
  {
   "cell_type": "code",
   "execution_count": 20,
   "id": "3ec1ba59-d792-4aae-a0e2-0b687e8415e2",
   "metadata": {},
   "outputs": [],
   "source": [
    "privacy_results.to_csv(\"../Results/IPUMS/privacy_metrics.csv\", index=False)"
   ]
  },
  {
   "cell_type": "markdown",
   "id": "814aa4e3",
   "metadata": {},
   "source": [
    "***"
   ]
  },
  {
   "cell_type": "markdown",
   "id": "7efa7593",
   "metadata": {},
   "source": [
    "Examine how IMS diff changes with $\\delta$"
   ]
  },
  {
   "cell_type": "code",
   "execution_count": 18,
   "id": "14eb0fb1",
   "metadata": {},
   "outputs": [],
   "source": [
    "delta_vals = np.linspace(0.00001, 0.5, 40)"
   ]
  },
  {
   "cell_type": "code",
   "execution_count": 19,
   "id": "ffc1a529",
   "metadata": {},
   "outputs": [],
   "source": [
    "train_ims = ims_apply(train, [train], delta_vals, synthetic_is_train=True)\n",
    "avg_mnl_ims = ims_apply(train, sXs_mnl, delta_vals)\n",
    "# avg_ad_mnl_ims = ims_apply(train, ad_sXs_mnl, delta_vals)\n",
    "avg_cart_ims = ims_apply(train, sXs_cart, delta_vals)\n",
    "# avg_ad_cart_ims = ims_apply(train, ad_sXs_cart, delta_vals)\n",
    "# avg_mostly_ims = ims_apply(train, sXs_mostly, delta_vals)\n",
    "avg_synthpop_ims = ims_apply(train, sXs_synthpop, delta_vals)\n",
    "avg_co_ims = ims_apply(train, sXs_co, delta_vals)"
   ]
  },
  {
   "cell_type": "code",
   "execution_count": 20,
   "id": "3f2e368e-8573-44d5-8f50-7e965021818c",
   "metadata": {},
   "outputs": [
    {
     "data": {
      "text/plain": [
       "14"
      ]
     },
     "execution_count": 20,
     "metadata": {},
     "output_type": "execute_result"
    }
   ],
   "source": [
    "np.sum(avg_co_ims > train_ims)"
   ]
  },
  {
   "cell_type": "markdown",
   "id": "65e417dc-7ddf-476b-87e8-5d77324e8c55",
   "metadata": {},
   "source": [
    "Do any of the synthesis methods produce (on average) a higher IMS than the training data at any $\\delta$ value?"
   ]
  },
  {
   "cell_type": "code",
   "execution_count": 21,
   "id": "9362c57e-6b49-4db6-9fac-d70dd5bcc423",
   "metadata": {},
   "outputs": [
    {
     "data": {
      "text/plain": [
       "1"
      ]
     },
     "execution_count": 21,
     "metadata": {},
     "output_type": "execute_result"
    }
   ],
   "source": [
    "np.sum(avg_mnl_ims > train_ims)"
   ]
  },
  {
   "cell_type": "code",
   "execution_count": 22,
   "id": "ee3d9b38-4268-46cb-b49e-b45e0bee67d4",
   "metadata": {},
   "outputs": [
    {
     "data": {
      "text/plain": [
       "1"
      ]
     },
     "execution_count": 22,
     "metadata": {},
     "output_type": "execute_result"
    }
   ],
   "source": [
    "np.sum(avg_cart_ims > train_ims)"
   ]
  },
  {
   "cell_type": "code",
   "execution_count": 23,
   "id": "5c6b0a58-9540-400e-8f32-4e2c8e428e8c",
   "metadata": {},
   "outputs": [
    {
     "data": {
      "text/plain": [
       "40"
      ]
     },
     "execution_count": 23,
     "metadata": {},
     "output_type": "execute_result"
    }
   ],
   "source": [
    "np.sum(avg_synthpop_ims > train_ims)"
   ]
  },
  {
   "cell_type": "code",
   "execution_count": null,
   "id": "5aeeb574-fdb6-436e-9fde-e16cbe016479",
   "metadata": {},
   "outputs": [],
   "source": []
  },
  {
   "cell_type": "code",
   "execution_count": null,
   "id": "a1c42e23-4d62-4e9d-9716-966b4eb3b4f8",
   "metadata": {},
   "outputs": [],
   "source": []
  },
  {
   "cell_type": "code",
   "execution_count": null,
   "id": "2e8d63d6-5ee2-4fa2-9c21-f8ed099a66d4",
   "metadata": {},
   "outputs": [],
   "source": []
  },
  {
   "cell_type": "code",
   "execution_count": null,
   "id": "18b99716-9bac-43ed-8826-144648869598",
   "metadata": {},
   "outputs": [],
   "source": []
  },
  {
   "cell_type": "code",
   "execution_count": null,
   "id": "b4c6ea93-03d7-4307-9518-f973d252d4dd",
   "metadata": {},
   "outputs": [],
   "source": []
  },
  {
   "cell_type": "code",
   "execution_count": null,
   "id": "d5301bad-5887-4097-8f49-c82e78a5e87d",
   "metadata": {},
   "outputs": [],
   "source": []
  },
  {
   "cell_type": "code",
   "execution_count": 18,
   "id": "7560f286-837e-418d-8d51-d759c905776e",
   "metadata": {},
   "outputs": [
    {
     "data": {
      "text/plain": [
       "array([[False, False, False, False, False, False, False, False, False,\n",
       "        False, False, False, False, False, False, False, False, False,\n",
       "        False, False, False, False, False, False, False, False, False,\n",
       "        False, False, False, False, False, False, False, False, False,\n",
       "        False, False, False, False]])"
      ]
     },
     "execution_count": 18,
     "metadata": {},
     "output_type": "execute_result"
    }
   ],
   "source": [
    "avg_mnl_ims > train_ims"
   ]
  },
  {
   "cell_type": "code",
   "execution_count": 19,
   "id": "26a5c12e-4dfa-433d-9e8b-9c9a391b8cce",
   "metadata": {},
   "outputs": [
    {
     "data": {
      "text/plain": [
       "array([0.        , 0.20733202, 0.5025137 , 0.80196606, 0.91102065,\n",
       "       0.9353294 , 0.95051301, 0.96092432, 0.96765484, 0.97268073,\n",
       "       0.97647505, 0.97941858, 0.98181016, 0.98383665, 0.98551498,\n",
       "       0.98694679, 0.98815687, 0.98917252, 0.99005416, 0.99082354,\n",
       "       0.99150569, 0.99212009, 0.99267026, 0.99317872, 0.9936366 ,\n",
       "       0.99404165, 0.99441913, 0.99475313, 0.99507272, 0.99536727,\n",
       "       0.99562112, 0.99595183, 0.99621073, 0.99642615, 0.99661982,\n",
       "       0.99678998, 0.99697632, 0.99712449, 0.99726709, 0.99740412])"
      ]
     },
     "execution_count": 19,
     "metadata": {},
     "output_type": "execute_result"
    }
   ],
   "source": [
    "avg_mnl_ims"
   ]
  },
  {
   "cell_type": "code",
   "execution_count": 20,
   "id": "e779fe92-9105-43ef-abb9-6a123092bb74",
   "metadata": {},
   "outputs": [
    {
     "data": {
      "text/plain": [
       "0"
      ]
     },
     "execution_count": 20,
     "metadata": {},
     "output_type": "execute_result"
    }
   ],
   "source": [
    "np.sum(avg_cart_ims > train_ims)"
   ]
  },
  {
   "cell_type": "code",
   "execution_count": 21,
   "id": "03bcbc5f-628e-4605-b31a-ba9fc7ec50f4",
   "metadata": {},
   "outputs": [
    {
     "data": {
      "text/plain": [
       "array([[False, False, False, False, False, False, False, False, False,\n",
       "        False, False, False, False, False, False, False, False, False,\n",
       "        False, False, False, False, False, False, False, False, False,\n",
       "        False, False, False, False, False, False, False, False, False,\n",
       "        False, False, False, False]])"
      ]
     },
     "execution_count": 21,
     "metadata": {},
     "output_type": "execute_result"
    }
   ],
   "source": [
    "avg_cart_ims > train_ims"
   ]
  },
  {
   "cell_type": "code",
   "execution_count": 32,
   "id": "e51b673d-750f-4490-bd1c-97226cdd3267",
   "metadata": {},
   "outputs": [],
   "source": [
    "# np.sum(avg_ad_cart_ims > train_ims)"
   ]
  },
  {
   "cell_type": "code",
   "execution_count": 33,
   "id": "bed2f9b6-dc0c-4648-8db0-26d282317c7f",
   "metadata": {},
   "outputs": [
    {
     "data": {
      "text/plain": [
       "0"
      ]
     },
     "execution_count": 33,
     "metadata": {},
     "output_type": "execute_result"
    }
   ],
   "source": [
    "# np.sum(avg_mostly_ims > train_ims)"
   ]
  },
  {
   "cell_type": "markdown",
   "id": "9fe17e31-2bea-45ef-8d09-3d7ca8aac0b7",
   "metadata": {},
   "source": [
    "Save data for plotting in R."
   ]
  },
  {
   "cell_type": "code",
   "execution_count": 46,
   "id": "b3236968-68f2-410d-9383-2ab5b287da53",
   "metadata": {},
   "outputs": [],
   "source": [
    "ims_results = pd.DataFrame({'Delta': delta_vals,\n",
    "                            'Original': train_ims[0],\n",
    "                            'MNL': avg_mnl_ims,\n",
    "                            # 'AD-MNL': avg_ad_mnl_ims,\n",
    "                            'CART': avg_cart_ims,\n",
    "                            # 'AD-CART': avg_ad_cart_ims,\n",
    "                            'MOSTLY.AI': avg_mostly_ims})\n",
    "\n",
    "# ims_results = ims_results.melt(id_vars=[\"Delta\"], value_vars=[\"Original\", \"MNL\", \"AD-MNL\", \"CART\", \"AD-CART\", \"MOSTLY.AI\"], var_name=\"Type\")\n",
    "ims_results = ims_results.melt(id_vars=[\"Delta\"], value_vars=[\"Original\", \"MNL\", \"CART\", \"MOSTLY.AI\"], var_name=\"Type\")\n",
    "ims_results.to_csv(\"../Results/IPUMS/ims_metrics.csv\", index=False)"
   ]
  },
  {
   "cell_type": "code",
   "execution_count": 24,
   "id": "2105c975",
   "metadata": {},
   "outputs": [
    {
     "data": {
      "image/png": "[encoded data removed]",
      "text/plain": [
       "<Figure size 640x480 with 1 Axes>"
      ]
     },
     "metadata": {},
     "output_type": "display_data"
    }
   ],
   "source": [
    "plt.plot(delta_vals, train_ims[0])\n",
    "plt.scatter(delta_vals, train_ims, s=6, label=\"Original\")\n",
    "\n",
    "# plt.plot(delta_vals, avg_synthpop_ims)\n",
    "# plt.scatter(delta_vals, avg_synthpop_ims, s=6, label=\"Synthpop\")\n",
    "\n",
    "plt.plot(delta_vals, avg_co_ims)\n",
    "plt.scatter(delta_vals, avg_co_ims, s=6, label=\"CART Only\")\n",
    "\n",
    "# plt.plot(delta_vals, avg_mnl_ims)\n",
    "# plt.scatter(delta_vals, avg_mnl_ims, s=6, label=\"MNL\")\n",
    "\n",
    "# plt.plot(delta_vals, avg_cart_ims)\n",
    "# plt.scatter(delta_vals, avg_cart_ims, s=6, label=\"CART\")\n",
    "\n",
    "# # plt.plot(delta_vals, avg_ad_cart_ims)\n",
    "# # plt.scatter(delta_vals, avg_ad_cart_ims, s=6, label=\"AD - CART\")\n",
    "\n",
    "# plt.plot(delta_vals, avg_mostly_ims)\n",
    "# plt.scatter(delta_vals, avg_mostly_ims, s=6, label=\"MOSTLY.AI\")\n",
    "\n",
    "plt.title(\"Average IMS Across Data Sets\")\n",
    "plt.xlabel(\"Delta\")\n",
    "plt.ylabel(\"IMS\")\n",
    "\n",
    "plt.legend()\n",
    "plt.show()"
   ]
  },
  {
   "cell_type": "markdown",
   "id": "00cd2ca8",
   "metadata": {},
   "source": [
    "***"
   ]
  },
  {
   "cell_type": "markdown",
   "id": "95552e64-7b0f-4bb1-9fee-39bd04828d29",
   "metadata": {},
   "source": [
    "Assess risk of attribute disclosure for `non_white`."
   ]
  },
  {
   "cell_type": "code",
   "execution_count": 48,
   "id": "1ebb07d7-4579-4324-94ef-5a372ecacd4b",
   "metadata": {},
   "outputs": [],
   "source": [
    "prior_non_white_prob = np.mean(train.non_white)"
   ]
  },
  {
   "cell_type": "markdown",
   "id": "d8d0a149-82ae-4fce-9f9e-9cb26505879a",
   "metadata": {},
   "source": [
    "Create new set of deltas for attribute disclosure evaluation."
   ]
  },
  {
   "cell_type": "code",
   "execution_count": 49,
   "id": "1004e6e3-b95e-4b0d-8d37-3e49ba4a10e0",
   "metadata": {},
   "outputs": [],
   "source": [
    "deltas = np.linspace(0.001, 1, 5)"
   ]
  },
  {
   "cell_type": "markdown",
   "id": "05e85eef-ee31-4120-97e3-09ab6a058d4b",
   "metadata": {},
   "source": [
    "Attribute disclosure assessment for MNL synthesized data."
   ]
  },
  {
   "cell_type": "code",
   "execution_count": 50,
   "id": "3b34f883-d323-417e-823f-482d19cab155",
   "metadata": {},
   "outputs": [
    {
     "name": "stdout",
     "output_type": "stream",
     "text": [
      "Dataset completed.\n",
      "Dataset completed.\n",
      "Dataset completed.\n",
      "Dataset completed.\n",
      "Dataset completed.\n",
      "Dataset completed.\n",
      "Dataset completed.\n",
      "Dataset completed.\n",
      "Dataset completed.\n",
      "Dataset completed.\n",
      "Dataset completed.\n",
      "Dataset completed.\n",
      "Dataset completed.\n",
      "Dataset completed.\n",
      "Dataset completed.\n",
      "Dataset completed.\n",
      "Dataset completed.\n",
      "Dataset completed.\n",
      "Dataset completed.\n",
      "Dataset completed.\n"
     ]
    }
   ],
   "source": [
    "ad_results_mnl = [attribute_disclosure_evaluation(original_data=train,\n",
    "                                                  synthetic_data=Z,\n",
    "                                                  continuous_vars=['incwage', 'years_of_educ', 'potential_experience'],\n",
    "                                                  categorical_vars=['sex'],\n",
    "                                                  sensitive_var='non_white',\n",
    "                                                  prior_prob=prior_non_white_prob,\n",
    "                                                  deltas=deltas) for Z in sXs_mnl]"
   ]
  },
  {
   "cell_type": "code",
   "execution_count": 51,
   "id": "fbb4fea9-81a9-4ce6-ac0e-cc6250135bf9",
   "metadata": {},
   "outputs": [],
   "source": [
    "ad_results_mnl = [pd.concat(x, axis=1) for x in ad_results_mnl]\n",
    "\n",
    "for i in range(20):\n",
    "    ad_results_mnl[i].to_csv(\"../Results/IPUMS/ad_metrics_mnl_\" + str(i) + \".csv\", index=False)\n",
    "    \n",
    "ad_results_mnl = [pd.read_csv(\"../Results/IPUMS/ad_metrics_mnl_\" + str(i) + \".csv\") for i in range(20)]"
   ]
  },
  {
   "cell_type": "markdown",
   "id": "a81c2efe-9e13-447f-956d-a55f540a5cfd",
   "metadata": {},
   "source": [
    "Attribute disclosure assessment for AD protected MNL synthesized data."
   ]
  },
  {
   "cell_type": "code",
   "execution_count": 52,
   "id": "0d037a83-d5e4-4229-a19d-03a43d5e8cf8",
   "metadata": {},
   "outputs": [],
   "source": [
    "# ad_results_ad_mnl = [attribute_disclosure_evaluation(original_data=train,\n",
    "#                                                      synthetic_data=Z,\n",
    "#                                                      continuous_vars=['latitude', 'longitude'],\n",
    "#                                                      categorical_vars=['sex', 'age'],\n",
    "#                                                      sensitive_var='state',\n",
    "#                                                      prior_prob=prior_death_prob,\n",
    "#                                                      deltas=deltas) for Z in ad_sXs_mnl]"
   ]
  },
  {
   "cell_type": "code",
   "execution_count": 53,
   "id": "fbd3634e-8424-4408-bebd-a29b17af4002",
   "metadata": {},
   "outputs": [],
   "source": [
    "# ad_results_ad_mnl = [pd.concat(x, axis=1) for x in ad_results_ad_mnl]\n",
    "\n",
    "# for i in range(20):\n",
    "#     ad_results_ad_mnl[i].to_csv(\"../Results/SK/ad_metrics_ad_mnl_\" + str(i) + \".csv\", index=False)\n",
    "    \n",
    "# ad_results_ad_mnl = [pd.read_csv(\"../Results/SK/ad_metrics_ad_mnl_\" + str(i) + \".csv\") for i in range(20)]"
   ]
  },
  {
   "cell_type": "markdown",
   "id": "f4a9c56f-ddf2-4d72-9b12-c2000a2d5edd",
   "metadata": {},
   "source": [
    "Attribute disclosure assessment for CART synthesized data."
   ]
  },
  {
   "cell_type": "code",
   "execution_count": 54,
   "id": "9d73d685-698a-4d70-966d-4eca079d3d6a",
   "metadata": {},
   "outputs": [
    {
     "name": "stdout",
     "output_type": "stream",
     "text": [
      "Dataset completed.\n",
      "Dataset completed.\n",
      "Dataset completed.\n",
      "Dataset completed.\n",
      "Dataset completed.\n",
      "Dataset completed.\n",
      "Dataset completed.\n",
      "Dataset completed.\n",
      "Dataset completed.\n",
      "Dataset completed.\n",
      "Dataset completed.\n",
      "Dataset completed.\n",
      "Dataset completed.\n",
      "Dataset completed.\n",
      "Dataset completed.\n",
      "Dataset completed.\n",
      "Dataset completed.\n",
      "Dataset completed.\n",
      "Dataset completed.\n",
      "Dataset completed.\n"
     ]
    }
   ],
   "source": [
    "ad_results_cart = [attribute_disclosure_evaluation(original_data=train,\n",
    "                                                   synthetic_data=Z,\n",
    "                                                   continuous_vars=['incwage', 'years_of_educ', 'potential_experience'],\n",
    "                                                   categorical_vars=['sex'],\n",
    "                                                   sensitive_var='non_white',\n",
    "                                                   prior_prob=prior_non_white_prob,\n",
    "                                                   deltas=deltas) for Z in sXs_cart]"
   ]
  },
  {
   "cell_type": "code",
   "execution_count": 55,
   "id": "dcd2ceed-c47c-4576-92e9-b43200642b9f",
   "metadata": {},
   "outputs": [],
   "source": [
    "ad_results_cart = [pd.concat(x, axis=1) for x in ad_results_cart]\n",
    "\n",
    "for i in range(20):\n",
    "    ad_results_cart[i].to_csv(\"../Results/IPUMS/ad_metrics_cart_\" + str(i) + \".csv\", index=False)\n",
    "    \n",
    "ad_results_cart = [pd.read_csv(\"../Results/IPUMS/ad_metrics_cart_\" + str(i) + \".csv\") for i in range(20)]"
   ]
  },
  {
   "cell_type": "markdown",
   "id": "5a6d6c4c-5a96-45f4-822c-e9c2e63ced9a",
   "metadata": {},
   "source": [
    "Attribute disclosure assessment for AD protected CART synthesized data."
   ]
  },
  {
   "cell_type": "code",
   "execution_count": 56,
   "id": "11ff38ae-c491-4a88-875d-fdd930513f1d",
   "metadata": {},
   "outputs": [],
   "source": [
    "# ad_results_ad_cart = [attribute_disclosure_evaluation(original_data=train,\n",
    "#                                                       synthetic_data=Z,\n",
    "#                                                       continuous_vars=['latitude', 'longitude'],\n",
    "#                                                       categorical_vars=['sex', 'age'],\n",
    "#                                                       sensitive_var='state',\n",
    "#                                                       prior_prob=prior_death_prob,\n",
    "#                                                       deltas=deltas) for Z in ad_sXs_cart]"
   ]
  },
  {
   "cell_type": "code",
   "execution_count": 57,
   "id": "fe6aade1-570f-4cf2-914b-b8981c1aa175",
   "metadata": {},
   "outputs": [],
   "source": [
    "# ad_results_ad_cart = [pd.concat(x, axis=1) for x in ad_results_ad_cart]\n",
    "\n",
    "# for i in range(20):\n",
    "#     ad_results_ad_cart[i].to_csv(\"../Results/SK/ad_metrics_ad_cart_\" + str(i) + \".csv\", index=False)\n",
    "    \n",
    "# ad_results_ad_cart = [pd.read_csv(\"../Results/SK/ad_metrics_ad_cart_\" + str(i) + \".csv\") for i in range(20)]"
   ]
  },
  {
   "cell_type": "markdown",
   "id": "150a45d8-2c4c-48ab-b66a-3d56c5a26f15",
   "metadata": {},
   "source": [
    "Attribute disclosure assessment for MOSTLY.AI synthesized data."
   ]
  },
  {
   "cell_type": "code",
   "execution_count": 58,
   "id": "2303d6e8-d4b3-4ad1-af9a-c2d6d9f19f6b",
   "metadata": {},
   "outputs": [
    {
     "name": "stdout",
     "output_type": "stream",
     "text": [
      "Dataset completed.\n",
      "Dataset completed.\n",
      "Dataset completed.\n",
      "Dataset completed.\n",
      "Dataset completed.\n",
      "Dataset completed.\n",
      "Dataset completed.\n",
      "Dataset completed.\n",
      "Dataset completed.\n",
      "Dataset completed.\n",
      "Dataset completed.\n",
      "Dataset completed.\n",
      "Dataset completed.\n",
      "Dataset completed.\n",
      "Dataset completed.\n",
      "Dataset completed.\n",
      "Dataset completed.\n",
      "Dataset completed.\n",
      "Dataset completed.\n",
      "Dataset completed.\n"
     ]
    }
   ],
   "source": [
    "ad_results_mostly = [attribute_disclosure_evaluation(original_data=train,\n",
    "                                                     synthetic_data=Z,\n",
    "                                                     continuous_vars=['incwage', 'years_of_educ', 'potential_experience'],\n",
    "                                                     categorical_vars=['sex'],\n",
    "                                                     sensitive_var='non_white',\n",
    "                                                     prior_prob=prior_non_white_prob,\n",
    "                                                     deltas=deltas) for Z in sXs_mostly]"
   ]
  },
  {
   "cell_type": "code",
   "execution_count": 59,
   "id": "df8785f8-a307-4460-88e0-78f43a484f13",
   "metadata": {},
   "outputs": [],
   "source": [
    "ad_results_mostly = [pd.concat(x, axis=1) for x in ad_results_mostly]\n",
    "\n",
    "for i in range(20):\n",
    "    ad_results_mostly[i].to_csv(\"../Results/IPUMS/ad_metrics_mostly_\" + str(i) + \".csv\", index=False)\n",
    "    \n",
    "ad_results_mostly = [pd.read_csv(\"../Results/IPUMS/ad_metrics_mostly_\" + str(i) + \".csv\") for i in range(20)]"
   ]
  },
  {
   "cell_type": "markdown",
   "id": "22859a60-2f66-43ff-b88f-6b0b5152b392",
   "metadata": {},
   "source": [
    "# NEED TO UPDATE THE RANGE INPUT FOR MOSTLY.AI DATA SETS"
   ]
  },
  {
   "cell_type": "markdown",
   "id": "5c8804c0-135e-4a2c-ad9c-4d61f494b4fa",
   "metadata": {},
   "source": [
    "Calculate the maximum increase in inference in each data set for each delta value."
   ]
  },
  {
   "cell_type": "code",
   "execution_count": 60,
   "id": "c8ebb9c9-747e-47fc-b4fb-d3893f45c238",
   "metadata": {},
   "outputs": [],
   "source": [
    "max_mnl = [np.max(x, axis=0) for x in ad_results_mnl]\n",
    "# max_ad_mnl = [np.max(x, axis=0) for x in ad_results_ad_mnl]\n",
    "max_cart = [np.max(x, axis=0) for x in ad_results_cart]\n",
    "# max_ad_cart = [np.max(x, axis=0) for x in ad_results_ad_cart]\n",
    "max_mostly = [np.max(x, axis=0) for x in ad_results_mostly]"
   ]
  },
  {
   "cell_type": "markdown",
   "id": "f0ce8875-89c8-408a-8cc4-31ff39623215",
   "metadata": {},
   "source": [
    "Calculate the average of the maximum values across all synthetic data sets."
   ]
  },
  {
   "cell_type": "code",
   "execution_count": 61,
   "id": "fa9ada50-6fcf-4651-8c1a-aaa693f73631",
   "metadata": {},
   "outputs": [],
   "source": [
    "avg_max_mnl = np.mean(pd.concat(max_mnl, axis=1), axis=1)\n",
    "# avg_max_ad_mnl = np.mean(pd.concat(max_ad_mnl, axis=1), axis=1)\n",
    "avg_max_cart = np.mean(pd.concat(max_cart, axis=1), axis=1)\n",
    "# avg_max_ad_cart = np.mean(pd.concat(max_ad_cart, axis=1), axis=1)\n",
    "avg_max_mostly = np.mean(pd.concat(max_mostly, axis=1), axis=1)"
   ]
  },
  {
   "cell_type": "markdown",
   "id": "568c573d-af62-455c-bcf4-8e78d4a939a0",
   "metadata": {},
   "source": [
    "Save the attribute disclosure risk results for plotting in R."
   ]
  },
  {
   "cell_type": "code",
   "execution_count": 62,
   "id": "59518586-3b5d-4661-a4e8-ca1de53e0a0e",
   "metadata": {},
   "outputs": [],
   "source": [
    "all_ad_results = pd.DataFrame({'Delta': deltas,\n",
    "                               'MNL': avg_max_mnl,\n",
    "                               # 'AD-MNL': avg_max_ad_mnl,\n",
    "                               'CART': avg_max_cart,\n",
    "                               # 'AD-CART': avg_max_ad_cart,\n",
    "                               'MOSTLY.AI': avg_max_mostly})\n",
    "\n",
    "# all_ad_results = all_ad_results.melt(id_vars=[\"Delta\"], value_vars=[\"MNL\", \"AD-MNL\", \"CART\", \"AD-CART\", \"MOSTLY.AI\"], var_name=\"Type\")\n",
    "all_ad_results = all_ad_results.melt(id_vars=[\"Delta\"], value_vars=[\"MNL\", \"CART\", \"MOSTLY.AI\"], var_name=\"Type\")\n",
    "all_ad_results.to_csv(\"../Results/IPUMS/all_ad_results.csv\", index=False)"
   ]
  },
  {
   "cell_type": "markdown",
   "id": "4995b944-bcfe-4756-a0f4-21fd5c965462",
   "metadata": {},
   "source": [
    "Plot the average (across synthetic data sets) maximum increase in attribute disclosure risk."
   ]
  },
  {
   "cell_type": "code",
   "execution_count": 63,
   "id": "f91219f2-5165-4cbc-bb4e-1d4565f740f7",
   "metadata": {},
   "outputs": [
    {
     "data": {
      "image/png": "[encoded data removed]",
      "text/plain": [
       "<Figure size 640x480 with 1 Axes>"
      ]
     },
     "metadata": {},
     "output_type": "display_data"
    }
   ],
   "source": [
    "plt.plot(deltas, avg_max_mnl)\n",
    "plt.scatter(deltas, avg_max_mnl, s=6, label=\"MNL\")\n",
    "\n",
    "# plt.plot(deltas, avg_max_ad_mnl)\n",
    "# plt.scatter(deltas, avg_max_ad_mnl, s=6, label=\"AD - MNL\")\n",
    "\n",
    "plt.plot(deltas, avg_max_cart)\n",
    "plt.scatter(deltas, avg_max_cart, s=6, label=\"CART\")\n",
    "\n",
    "# plt.plot(deltas, avg_max_ad_cart)\n",
    "# plt.scatter(deltas, avg_max_ad_cart, s=6, label=\"AD - CART\")\n",
    "\n",
    "plt.plot(deltas, avg_max_mostly)\n",
    "plt.scatter(deltas, avg_max_mostly, s=6, label=\"MOSTLY.AI\")\n",
    "\n",
    "plt.title(\"Average Maximum Increase in Attribute Disclosure Risk\")\n",
    "plt.xlabel(\"Delta\")\n",
    "plt.ylabel(\"Average Maximum Increase in Attribute Disclosure Risk\")\n",
    "\n",
    "plt.legend()\n",
    "plt.show()"
   ]
  },
  {
   "cell_type": "code",
   "execution_count": null,
   "id": "8a853cce-ec96-4b72-803f-4e4563bc6e60",
   "metadata": {},
   "outputs": [],
   "source": []
  }
 ],
 "metadata": {
  "kernelspec": {
   "display_name": "Python 3 (ipykernel)",
   "language": "python",
   "name": "python3"
  },
  "language_info": {
   "codemirror_mode": {
    "name": "ipython",
    "version": 3
   },
   "file_extension": ".py",
   "mimetype": "text/x-python",
   "name": "python",
   "nbconvert_exporter": "python",
   "pygments_lexer": "ipython3",
   "version": "3.11.7"
  }
 },
 "nbformat": 4,
 "nbformat_minor": 5
}
