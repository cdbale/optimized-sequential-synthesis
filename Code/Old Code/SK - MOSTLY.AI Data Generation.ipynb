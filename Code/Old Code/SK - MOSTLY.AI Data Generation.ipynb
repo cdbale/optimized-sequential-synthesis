{
 "cells": [
  {
   "cell_type": "code",
   "execution_count": 1,
   "id": "99af206b-9265-4597-8ff5-235b9e3c098c",
   "metadata": {},
   "outputs": [],
   "source": [
    "import numpy as np\n",
    "from mostlyai import MostlyAI"
   ]
  },
  {
   "cell_type": "code",
   "execution_count": 2,
   "id": "4579f703-94c0-40c2-8e80-5d48104e7d70",
   "metadata": {},
   "outputs": [],
   "source": [
    "# initialize client\n",
    "mostly = MostlyAI(api_key='mostly-adcd77a4ca7523519dc19b4ec9c9a7f6e0b2e37e16599b4703b03944dc824ed2', base_url='https://app.mostly.ai')"
   ]
  },
  {
   "cell_type": "code",
   "execution_count": 3,
   "id": "9593ea76-1887-4a60-93f9-fe1fbbeb6fce",
   "metadata": {},
   "outputs": [
    {
     "data": {
      "text/plain": [
       "{'name': 'SK Patient Data',\n",
       " 'description': None,\n",
       " 'tables': [{'name': 'SK Patient Data',\n",
       "   'sourceConnectorId': '2f880c16-adf9-4b89-85a6-29bb9316c741',\n",
       "   'location': 'mostly-production-mostly-s3-bucket-mostly-app/connectors/2f880c16-adf9-4b89-85a6-29bb9316c741/SK Patient Data/cleaned_sk_data.csv',\n",
       "   'data': None,\n",
       "   'modelConfiguration': {'maxSampleSize': 6712,\n",
       "    'batchSize': None,\n",
       "    'modelSize': 'M',\n",
       "    'maxTrainingTime': 10,\n",
       "    'maxEpochs': 100,\n",
       "    'maxSequenceWindow': 100,\n",
       "    'enableFlexibleGeneration': False,\n",
       "    'valueProtection': False,\n",
       "    'rareCategoryReplacementMethod': 'CONSTANT',\n",
       "    'compute': 'd5f093a6-208f-4b79-92c6-6d50d02d8c8c'},\n",
       "   'textModelConfiguration': None,\n",
       "   'primaryKey': None,\n",
       "   'foreignKeys': None,\n",
       "   'columns': [{'name': 'latitude', 'modelEncodingType': 'NUMERIC_BINNED'},\n",
       "    {'name': 'longitude', 'modelEncodingType': 'NUMERIC_BINNED'},\n",
       "    {'name': 'sex', 'modelEncodingType': 'NUMERIC_DISCRETE'},\n",
       "    {'name': 'age', 'modelEncodingType': 'NUMERIC_DISCRETE'},\n",
       "    {'name': 'state', 'modelEncodingType': 'NUMERIC_DISCRETE'}]}]}"
      ]
     },
     "execution_count": 3,
     "metadata": {},
     "output_type": "execute_result"
    }
   ],
   "source": [
    "# fetch configuration via API\n",
    "g = mostly.generators.get('1d9f85fd-277c-40d8-985f-02d3f39c948b')\n",
    "config = g.config()\n",
    "config"
   ]
  },
  {
   "cell_type": "code",
   "execution_count": 4,
   "id": "2e3f778e-cfa4-43e6-8c26-09ccab84359d",
   "metadata": {},
   "outputs": [
    {
     "data": {
      "text/html": [
       "<div>\n",
       "<style scoped>\n",
       "    .dataframe tbody tr th:only-of-type {\n",
       "        vertical-align: middle;\n",
       "    }\n",
       "\n",
       "    .dataframe tbody tr th {\n",
       "        vertical-align: top;\n",
       "    }\n",
       "\n",
       "    .dataframe thead th {\n",
       "        text-align: right;\n",
       "    }\n",
       "</style>\n",
       "<table border=\"1\" class=\"dataframe\">\n",
       "  <thead>\n",
       "    <tr style=\"text-align: right;\">\n",
       "      <th></th>\n",
       "      <th>latitude</th>\n",
       "      <th>longitude</th>\n",
       "      <th>sex</th>\n",
       "      <th>age</th>\n",
       "      <th>state</th>\n",
       "    </tr>\n",
       "  </thead>\n",
       "  <tbody>\n",
       "    <tr>\n",
       "      <th>0</th>\n",
       "      <td>0.642826</td>\n",
       "      <td>0.314941</td>\n",
       "      <td>1</td>\n",
       "      <td>5</td>\n",
       "      <td>0</td>\n",
       "    </tr>\n",
       "    <tr>\n",
       "      <th>1</th>\n",
       "      <td>0.956715</td>\n",
       "      <td>-0.670758</td>\n",
       "      <td>0</td>\n",
       "      <td>6</td>\n",
       "      <td>0</td>\n",
       "    </tr>\n",
       "    <tr>\n",
       "      <th>2</th>\n",
       "      <td>0.949465</td>\n",
       "      <td>-0.786510</td>\n",
       "      <td>1</td>\n",
       "      <td>2</td>\n",
       "      <td>0</td>\n",
       "    </tr>\n",
       "    <tr>\n",
       "      <th>3</th>\n",
       "      <td>0.665888</td>\n",
       "      <td>-0.517780</td>\n",
       "      <td>0</td>\n",
       "      <td>5</td>\n",
       "      <td>0</td>\n",
       "    </tr>\n",
       "    <tr>\n",
       "      <th>4</th>\n",
       "      <td>0.820518</td>\n",
       "      <td>-0.828993</td>\n",
       "      <td>0</td>\n",
       "      <td>2</td>\n",
       "      <td>0</td>\n",
       "    </tr>\n",
       "    <tr>\n",
       "      <th>5</th>\n",
       "      <td>0.004652</td>\n",
       "      <td>-1.198811</td>\n",
       "      <td>0</td>\n",
       "      <td>6</td>\n",
       "      <td>0</td>\n",
       "    </tr>\n",
       "    <tr>\n",
       "      <th>6</th>\n",
       "      <td>0.886566</td>\n",
       "      <td>-0.785633</td>\n",
       "      <td>0</td>\n",
       "      <td>2</td>\n",
       "      <td>0</td>\n",
       "    </tr>\n",
       "    <tr>\n",
       "      <th>7</th>\n",
       "      <td>-1.592439</td>\n",
       "      <td>1.154750</td>\n",
       "      <td>0</td>\n",
       "      <td>4</td>\n",
       "      <td>0</td>\n",
       "    </tr>\n",
       "    <tr>\n",
       "      <th>8</th>\n",
       "      <td>0.809267</td>\n",
       "      <td>1.610390</td>\n",
       "      <td>1</td>\n",
       "      <td>4</td>\n",
       "      <td>0</td>\n",
       "    </tr>\n",
       "    <tr>\n",
       "      <th>9</th>\n",
       "      <td>0.054896</td>\n",
       "      <td>-0.590495</td>\n",
       "      <td>0</td>\n",
       "      <td>4</td>\n",
       "      <td>0</td>\n",
       "    </tr>\n",
       "  </tbody>\n",
       "</table>\n",
       "</div>"
      ],
      "text/plain": [
       "   latitude  longitude  sex  age  state\n",
       "0  0.642826   0.314941    1    5      0\n",
       "1  0.956715  -0.670758    0    6      0\n",
       "2  0.949465  -0.786510    1    2      0\n",
       "3  0.665888  -0.517780    0    5      0\n",
       "4  0.820518  -0.828993    0    2      0\n",
       "5  0.004652  -1.198811    0    6      0\n",
       "6  0.886566  -0.785633    0    2      0\n",
       "7 -1.592439   1.154750    0    4      0\n",
       "8  0.809267   1.610390    1    4      0\n",
       "9  0.054896  -0.590495    0    4      0"
      ]
     },
     "execution_count": 4,
     "metadata": {},
     "output_type": "execute_result"
    }
   ],
   "source": [
    "# probe the generator for some samples\n",
    "mostly.probe('1d9f85fd-277c-40d8-985f-02d3f39c948b', size=10)"
   ]
  },
  {
   "cell_type": "markdown",
   "id": "29d0bf2a-faa3-4f32-b86d-bad32354b74d",
   "metadata": {},
   "source": [
    "We need 20 synthetic data sets. Original data set size was 6712, so we need $6712 \\times 20 = 134240$ samples."
   ]
  },
  {
   "cell_type": "code",
   "execution_count": 5,
   "id": "f50baf60-52a2-4300-982b-30c0b455db8d",
   "metadata": {},
   "outputs": [
    {
     "data": {
      "text/html": [
       "<pre style=\"white-space:pre;overflow-x:auto;line-height:normal;font-family:Menlo,'DejaVu Sans Mono',consolas,'Courier New',monospace\">Created synthetic dataset <a href=\"https://app.mostly.ai/d/synthetic-datasets/8ce55f6a-68d2-45dd-8487-27a7854940c6\" target=\"_blank\"><span style=\"color: #000080; text-decoration-color: #000080; text-decoration: underline\">8ce55f6a-68d2-45dd-8487-27a7854940c6</span></a> with generator <a href=\"https://app.mostly.ai/d/generators/1d9f85fd-277c-40d8-985f-02d3f39c948b\" target=\"_blank\"><span style=\"color: #000080; text-decoration-color: #000080; text-decoration: underline\">1d9f85fd-277c-40d8-985f-02d3f39c948b</span></a>\n",
       "</pre>\n"
      ],
      "text/plain": [
       "Created synthetic dataset \u001b]8;id=877074;https://app.mostly.ai/d/synthetic-datasets/8ce55f6a-68d2-45dd-8487-27a7854940c6\u001b\\\u001b[4;34m8ce55f6a-68d2-45dd-8487-27a7854940c6\u001b[0m\u001b]8;;\u001b\\ with generator \u001b]8;id=950177;https://app.mostly.ai/d/generators/1d9f85fd-277c-40d8-985f-02d3f39c948b\u001b\\\u001b[4;34m1d9f85fd-277c-40d8-985f-02d3f39c948b\u001b[0m\u001b]8;;\u001b\\\n"
      ]
     },
     "metadata": {},
     "output_type": "display_data"
    },
    {
     "data": {
      "text/html": [
       "<pre style=\"white-space:pre;overflow-x:auto;line-height:normal;font-family:Menlo,'DejaVu Sans Mono',consolas,'Courier New',monospace\">Started synthetic dataset generation\n",
       "</pre>\n"
      ],
      "text/plain": [
       "Started synthetic dataset generation\n"
      ]
     },
     "metadata": {},
     "output_type": "display_data"
    },
    {
     "data": {
      "application/vnd.jupyter.widget-view+json": {
       "model_id": "2d10fff90d27492392c110b2dad23b8c",
       "version_major": 2,
       "version_minor": 0
      },
      "text/plain": [
       "Output()"
      ]
     },
     "metadata": {},
     "output_type": "display_data"
    },
    {
     "data": {
      "text/html": [
       "<pre style=\"white-space:pre;overflow-x:auto;line-height:normal;font-family:Menlo,'DejaVu Sans Mono',consolas,'Courier New',monospace\"></pre>\n"
      ],
      "text/plain": []
     },
     "metadata": {},
     "output_type": "display_data"
    },
    {
     "data": {
      "text/html": [
       "<pre style=\"white-space:pre;overflow-x:auto;line-height:normal;font-family:Menlo,'DejaVu Sans Mono',consolas,'Courier New',monospace\">🎉 <span style=\"color: #008000; text-decoration-color: #008000; font-weight: bold\">Your synthetic dataset is ready!</span> Use it to consume the generated data. Share it so others can do the same.\n",
       "</pre>\n"
      ],
      "text/plain": [
       "🎉 \u001b[1;32mYour synthetic dataset is ready!\u001b[0m Use it to consume the generated data. Share it so others can do the same.\n"
      ]
     },
     "metadata": {},
     "output_type": "display_data"
    },
    {
     "data": {
      "text/html": [
       "<div>\n",
       "<style scoped>\n",
       "    .dataframe tbody tr th:only-of-type {\n",
       "        vertical-align: middle;\n",
       "    }\n",
       "\n",
       "    .dataframe tbody tr th {\n",
       "        vertical-align: top;\n",
       "    }\n",
       "\n",
       "    .dataframe thead th {\n",
       "        text-align: right;\n",
       "    }\n",
       "</style>\n",
       "<table border=\"1\" class=\"dataframe\">\n",
       "  <thead>\n",
       "    <tr style=\"text-align: right;\">\n",
       "      <th></th>\n",
       "      <th>latitude</th>\n",
       "      <th>longitude</th>\n",
       "      <th>sex</th>\n",
       "      <th>age</th>\n",
       "      <th>state</th>\n",
       "    </tr>\n",
       "  </thead>\n",
       "  <tbody>\n",
       "    <tr>\n",
       "      <th>0</th>\n",
       "      <td>0.764661</td>\n",
       "      <td>-1.239943</td>\n",
       "      <td>1</td>\n",
       "      <td>3</td>\n",
       "      <td>0</td>\n",
       "    </tr>\n",
       "    <tr>\n",
       "      <th>1</th>\n",
       "      <td>0.814318</td>\n",
       "      <td>-0.628751</td>\n",
       "      <td>1</td>\n",
       "      <td>4</td>\n",
       "      <td>0</td>\n",
       "    </tr>\n",
       "    <tr>\n",
       "      <th>2</th>\n",
       "      <td>-1.324501</td>\n",
       "      <td>0.963262</td>\n",
       "      <td>1</td>\n",
       "      <td>2</td>\n",
       "      <td>0</td>\n",
       "    </tr>\n",
       "    <tr>\n",
       "      <th>3</th>\n",
       "      <td>0.828459</td>\n",
       "      <td>-0.691455</td>\n",
       "      <td>0</td>\n",
       "      <td>2</td>\n",
       "      <td>0</td>\n",
       "    </tr>\n",
       "    <tr>\n",
       "      <th>4</th>\n",
       "      <td>-0.7394</td>\n",
       "      <td>0.825086</td>\n",
       "      <td>1</td>\n",
       "      <td>2</td>\n",
       "      <td>0</td>\n",
       "    </tr>\n",
       "    <tr>\n",
       "      <th>...</th>\n",
       "      <td>...</td>\n",
       "      <td>...</td>\n",
       "      <td>...</td>\n",
       "      <td>...</td>\n",
       "      <td>...</td>\n",
       "    </tr>\n",
       "    <tr>\n",
       "      <th>8385</th>\n",
       "      <td>0.929708</td>\n",
       "      <td>-0.799815</td>\n",
       "      <td>0</td>\n",
       "      <td>6</td>\n",
       "      <td>0</td>\n",
       "    </tr>\n",
       "    <tr>\n",
       "      <th>8386</th>\n",
       "      <td>-0.129979</td>\n",
       "      <td>0.92899</td>\n",
       "      <td>0</td>\n",
       "      <td>1</td>\n",
       "      <td>0</td>\n",
       "    </tr>\n",
       "    <tr>\n",
       "      <th>8387</th>\n",
       "      <td>-1.710391</td>\n",
       "      <td>1.598611</td>\n",
       "      <td>0</td>\n",
       "      <td>2</td>\n",
       "      <td>0</td>\n",
       "    </tr>\n",
       "    <tr>\n",
       "      <th>8388</th>\n",
       "      <td>0.064244</td>\n",
       "      <td>-0.581221</td>\n",
       "      <td>0</td>\n",
       "      <td>4</td>\n",
       "      <td>0</td>\n",
       "    </tr>\n",
       "    <tr>\n",
       "      <th>8389</th>\n",
       "      <td>0.874804</td>\n",
       "      <td>-0.86633</td>\n",
       "      <td>0</td>\n",
       "      <td>2</td>\n",
       "      <td>0</td>\n",
       "    </tr>\n",
       "  </tbody>\n",
       "</table>\n",
       "<p>33560 rows × 5 columns</p>\n",
       "</div>"
      ],
      "text/plain": [
       "      latitude  longitude  sex  age  state\n",
       "0     0.764661  -1.239943    1    3      0\n",
       "1     0.814318  -0.628751    1    4      0\n",
       "2    -1.324501   0.963262    1    2      0\n",
       "3     0.828459  -0.691455    0    2      0\n",
       "4      -0.7394   0.825086    1    2      0\n",
       "...        ...        ...  ...  ...    ...\n",
       "8385  0.929708  -0.799815    0    6      0\n",
       "8386 -0.129979    0.92899    0    1      0\n",
       "8387 -1.710391   1.598611    0    2      0\n",
       "8388  0.064244  -0.581221    0    4      0\n",
       "8389  0.874804   -0.86633    0    2      0\n",
       "\n",
       "[33560 rows x 5 columns]"
      ]
     },
     "execution_count": 5,
     "metadata": {},
     "output_type": "execute_result"
    }
   ],
   "source": [
    "# use generator to create a synthetic dataset\n",
    "sd = mostly.generate('1d9f85fd-277c-40d8-985f-02d3f39c948b', size=134_240)\n",
    "sd.data()"
   ]
  },
  {
   "cell_type": "markdown",
   "id": "6ba42828-466b-4312-a959-12ad71923bc9",
   "metadata": {},
   "source": [
    "Split the generated synthetic data into 20 data sets."
   ]
  },
  {
   "cell_type": "code",
   "execution_count": 6,
   "id": "79b82d7b-3f5e-47cf-96fc-0b7d0ef60d94",
   "metadata": {},
   "outputs": [],
   "source": [
    "split_sd = np.array_split(sd.data(), 20)"
   ]
  },
  {
   "cell_type": "code",
   "execution_count": 7,
   "id": "7b281afe-2169-4044-b773-23eaefe8d488",
   "metadata": {},
   "outputs": [],
   "source": [
    "for i, sX in enumerate(split_sd):\n",
    "    sX.to_csv(\"../Data/SK/Synthetic Datasets/mostly_\" + str(i) + \".csv\", index=False)"
   ]
  },
  {
   "cell_type": "code",
   "execution_count": null,
   "id": "ec43226e",
   "metadata": {},
   "outputs": [],
   "source": []
  }
 ],
 "metadata": {
  "kernelspec": {
   "display_name": "Python 3 (ipykernel)",
   "language": "python",
   "name": "python3"
  },
  "language_info": {
   "codemirror_mode": {
    "name": "ipython",
    "version": 3
   },
   "file_extension": ".py",
   "mimetype": "text/x-python",
   "name": "python",
   "nbconvert_exporter": "python",
   "pygments_lexer": "ipython3",
   "version": "3.11.5"
  }
 },
 "nbformat": 4,
 "nbformat_minor": 5
}
