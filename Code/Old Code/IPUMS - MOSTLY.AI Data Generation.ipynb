{
 "cells": [
  {
   "cell_type": "code",
   "execution_count": 1,
   "id": "99af206b-9265-4597-8ff5-235b9e3c098c",
   "metadata": {},
   "outputs": [],
   "source": [
    "import numpy as np\n",
    "from mostlyai import MostlyAI"
   ]
  },
  {
   "cell_type": "code",
   "execution_count": 2,
   "id": "4579f703-94c0-40c2-8e80-5d48104e7d70",
   "metadata": {},
   "outputs": [],
   "source": [
    "# initialize client\n",
    "mostly = MostlyAI(api_key='mostly-adcd77a4ca7523519dc19b4ec9c9a7f6e0b2e37e16599b4703b03944dc824ed2', base_url='https://app.mostly.ai')"
   ]
  },
  {
   "cell_type": "code",
   "execution_count": 3,
   "id": "9593ea76-1887-4a60-93f9-fe1fbbeb6fce",
   "metadata": {},
   "outputs": [
    {
     "data": {
      "text/plain": [
       "{'name': 'cleaned_ipums_data',\n",
       " 'description': None,\n",
       " 'tables': [{'name': 'cleaned_ipums_data',\n",
       "   'sourceConnectorId': 'ac9bdefa-05d9-4c98-bc55-f1740854a025',\n",
       "   'location': 'mostly-production-mostly-s3-bucket-mostly-app/connectors/ac9bdefa-05d9-4c98-bc55-f1740854a025/cleaned_ipums_data/cleaned_ipums_data.csv',\n",
       "   'data': None,\n",
       "   'modelConfiguration': {'maxSampleSize': 197756,\n",
       "    'batchSize': None,\n",
       "    'modelSize': 'M',\n",
       "    'maxTrainingTime': 10,\n",
       "    'maxEpochs': 100,\n",
       "    'maxSequenceWindow': 100,\n",
       "    'enableFlexibleGeneration': False,\n",
       "    'valueProtection': False,\n",
       "    'rareCategoryReplacementMethod': 'CONSTANT',\n",
       "    'compute': 'd5f093a6-208f-4b79-92c6-6d50d02d8c8c'},\n",
       "   'textModelConfiguration': None,\n",
       "   'primaryKey': None,\n",
       "   'foreignKeys': None,\n",
       "   'columns': [{'name': 'incwage', 'modelEncodingType': 'NUMERIC_BINNED'},\n",
       "    {'name': 'years_of_educ', 'modelEncodingType': 'NUMERIC_DISCRETE'},\n",
       "    {'name': 'potential_experience', 'modelEncodingType': 'NUMERIC_BINNED'},\n",
       "    {'name': 'non_white', 'modelEncodingType': 'NUMERIC_DISCRETE'},\n",
       "    {'name': 'sex', 'modelEncodingType': 'NUMERIC_DISCRETE'}]}]}"
      ]
     },
     "execution_count": 3,
     "metadata": {},
     "output_type": "execute_result"
    }
   ],
   "source": [
    "# fetch configuration via API\n",
    "g = mostly.generators.get('6a19773e-9bd7-402a-aa65-a75e1e688c26')\n",
    "config = g.config()\n",
    "config"
   ]
  },
  {
   "cell_type": "code",
   "execution_count": null,
   "id": "09893854-1888-4b31-bc7b-66bdd909e482",
   "metadata": {},
   "outputs": [],
   "source": [
    "# probe the generator for some samples\n",
    "mostly.probe('6a19773e-9bd7-402a-aa65-a75e1e688c26', size=10)"
   ]
  },
  {
   "cell_type": "markdown",
   "id": "29d0bf2a-faa3-4f32-b86d-bad32354b74d",
   "metadata": {},
   "source": [
    "We need 20 synthetic data sets. Original data set size was 197,756, so we need $197,756 \\times 20 = 3,955,120$ samples."
   ]
  },
  {
   "cell_type": "markdown",
   "id": "2b9e0f26-2647-4a01-bad8-ffa236b49a83",
   "metadata": {},
   "source": [
    "Due to limits on the free version, we will break it into four requests. This will be done manually over 4 days."
   ]
  },
  {
   "cell_type": "code",
   "execution_count": 4,
   "id": "f50baf60-52a2-4300-982b-30c0b455db8d",
   "metadata": {},
   "outputs": [
    {
     "data": {
      "text/html": [
       "<pre style=\"white-space:pre;overflow-x:auto;line-height:normal;font-family:Menlo,'DejaVu Sans Mono',consolas,'Courier New',monospace\">Created synthetic dataset <a href=\"https://app.mostly.ai/d/synthetic-datasets/efba1a97-9233-4258-b74e-4d149cb7d5af\" target=\"_blank\"><span style=\"color: #000080; text-decoration-color: #000080; text-decoration: underline\">efba1a97-9233-4258-b74e-4d149cb7d5af</span></a> with generator <a href=\"https://app.mostly.ai/d/generators/6a19773e-9bd7-402a-aa65-a75e1e688c26\" target=\"_blank\"><span style=\"color: #000080; text-decoration-color: #000080; text-decoration: underline\">6a19773e-9bd7-402a-aa65-a75e1e688c26</span></a>\n",
       "</pre>\n"
      ],
      "text/plain": [
       "Created synthetic dataset \u001b]8;id=902581;https://app.mostly.ai/d/synthetic-datasets/efba1a97-9233-4258-b74e-4d149cb7d5af\u001b\\\u001b[4;34mefba1a97-9233-4258-b74e-4d149cb7d5af\u001b[0m\u001b]8;;\u001b\\ with generator \u001b]8;id=794938;https://app.mostly.ai/d/generators/6a19773e-9bd7-402a-aa65-a75e1e688c26\u001b\\\u001b[4;34m6a19773e-9bd7-402a-aa65-a75e1e688c26\u001b[0m\u001b]8;;\u001b\\\n"
      ]
     },
     "metadata": {},
     "output_type": "display_data"
    },
    {
     "data": {
      "text/html": [
       "<pre style=\"white-space:pre;overflow-x:auto;line-height:normal;font-family:Menlo,'DejaVu Sans Mono',consolas,'Courier New',monospace\">Started synthetic dataset generation\n",
       "</pre>\n"
      ],
      "text/plain": [
       "Started synthetic dataset generation\n"
      ]
     },
     "metadata": {},
     "output_type": "display_data"
    },
    {
     "data": {
      "application/vnd.jupyter.widget-view+json": {
       "model_id": "18ece06292684723a068fc18d875bfb6",
       "version_major": 2,
       "version_minor": 0
      },
      "text/plain": [
       "Output()"
      ]
     },
     "metadata": {},
     "output_type": "display_data"
    },
    {
     "data": {
      "text/html": [
       "<pre style=\"white-space:pre;overflow-x:auto;line-height:normal;font-family:Menlo,'DejaVu Sans Mono',consolas,'Courier New',monospace\"></pre>\n"
      ],
      "text/plain": []
     },
     "metadata": {},
     "output_type": "display_data"
    },
    {
     "data": {
      "text/html": [
       "<pre style=\"white-space:pre;overflow-x:auto;line-height:normal;font-family:Menlo,'DejaVu Sans Mono',consolas,'Courier New',monospace\">🎉 <span style=\"color: #008000; text-decoration-color: #008000; font-weight: bold\">Your synthetic dataset is ready!</span> Use it to consume the generated data. Share it so others can do the same.\n",
       "</pre>\n"
      ],
      "text/plain": [
       "🎉 \u001b[1;32mYour synthetic dataset is ready!\u001b[0m Use it to consume the generated data. Share it so others can do the same.\n"
      ]
     },
     "metadata": {},
     "output_type": "display_data"
    },
    {
     "data": {
      "text/html": [
       "<div>\n",
       "<style scoped>\n",
       "    .dataframe tbody tr th:only-of-type {\n",
       "        vertical-align: middle;\n",
       "    }\n",
       "\n",
       "    .dataframe tbody tr th {\n",
       "        vertical-align: top;\n",
       "    }\n",
       "\n",
       "    .dataframe thead th {\n",
       "        text-align: right;\n",
       "    }\n",
       "</style>\n",
       "<table border=\"1\" class=\"dataframe\">\n",
       "  <thead>\n",
       "    <tr style=\"text-align: right;\">\n",
       "      <th></th>\n",
       "      <th>incwage</th>\n",
       "      <th>years_of_educ</th>\n",
       "      <th>potential_experience</th>\n",
       "      <th>non_white</th>\n",
       "      <th>sex</th>\n",
       "    </tr>\n",
       "  </thead>\n",
       "  <tbody>\n",
       "    <tr>\n",
       "      <th>0</th>\n",
       "      <td>-0.353971</td>\n",
       "      <td>-0.429516</td>\n",
       "      <td>-0.593985</td>\n",
       "      <td>1</td>\n",
       "      <td>1</td>\n",
       "    </tr>\n",
       "    <tr>\n",
       "      <th>1</th>\n",
       "      <td>-0.658441</td>\n",
       "      <td>-0.044869</td>\n",
       "      <td>0.287642</td>\n",
       "      <td>1</td>\n",
       "      <td>0</td>\n",
       "    </tr>\n",
       "    <tr>\n",
       "      <th>2</th>\n",
       "      <td>-0.100254</td>\n",
       "      <td>0.339777</td>\n",
       "      <td>0.290098</td>\n",
       "      <td>0</td>\n",
       "      <td>0</td>\n",
       "    </tr>\n",
       "    <tr>\n",
       "      <th>3</th>\n",
       "      <td>-0.915482</td>\n",
       "      <td>-0.429516</td>\n",
       "      <td>0.467786</td>\n",
       "      <td>0</td>\n",
       "      <td>1</td>\n",
       "    </tr>\n",
       "    <tr>\n",
       "      <th>4</th>\n",
       "      <td>-0.952355</td>\n",
       "      <td>-0.429516</td>\n",
       "      <td>-1.408404</td>\n",
       "      <td>0</td>\n",
       "      <td>1</td>\n",
       "    </tr>\n",
       "    <tr>\n",
       "      <th>...</th>\n",
       "      <td>...</td>\n",
       "      <td>...</td>\n",
       "      <td>...</td>\n",
       "      <td>...</td>\n",
       "      <td>...</td>\n",
       "    </tr>\n",
       "    <tr>\n",
       "      <th>98873</th>\n",
       "      <td>-0.781871</td>\n",
       "      <td>-0.429516</td>\n",
       "      <td>-1.328339</td>\n",
       "      <td>0</td>\n",
       "      <td>0</td>\n",
       "    </tr>\n",
       "    <tr>\n",
       "      <th>98874</th>\n",
       "      <td>-0.259111</td>\n",
       "      <td>-0.429516</td>\n",
       "      <td>0.696675</td>\n",
       "      <td>0</td>\n",
       "      <td>1</td>\n",
       "    </tr>\n",
       "    <tr>\n",
       "      <th>98875</th>\n",
       "      <td>-0.657376</td>\n",
       "      <td>-0.429516</td>\n",
       "      <td>0.717362</td>\n",
       "      <td>0</td>\n",
       "      <td>0</td>\n",
       "    </tr>\n",
       "    <tr>\n",
       "      <th>98876</th>\n",
       "      <td>-0.992202</td>\n",
       "      <td>-0.429516</td>\n",
       "      <td>-1.51103</td>\n",
       "      <td>0</td>\n",
       "      <td>0</td>\n",
       "    </tr>\n",
       "    <tr>\n",
       "      <th>98877</th>\n",
       "      <td>0.22899</td>\n",
       "      <td>-0.429516</td>\n",
       "      <td>-1.088247</td>\n",
       "      <td>0</td>\n",
       "      <td>0</td>\n",
       "    </tr>\n",
       "  </tbody>\n",
       "</table>\n",
       "<p>988780 rows × 5 columns</p>\n",
       "</div>"
      ],
      "text/plain": [
       "        incwage  years_of_educ  potential_experience  non_white  sex\n",
       "0     -0.353971      -0.429516             -0.593985          1    1\n",
       "1     -0.658441      -0.044869              0.287642          1    0\n",
       "2     -0.100254       0.339777              0.290098          0    0\n",
       "3     -0.915482      -0.429516              0.467786          0    1\n",
       "4     -0.952355      -0.429516             -1.408404          0    1\n",
       "...         ...            ...                   ...        ...  ...\n",
       "98873 -0.781871      -0.429516             -1.328339          0    0\n",
       "98874 -0.259111      -0.429516              0.696675          0    1\n",
       "98875 -0.657376      -0.429516              0.717362          0    0\n",
       "98876 -0.992202      -0.429516              -1.51103          0    0\n",
       "98877   0.22899      -0.429516             -1.088247          0    0\n",
       "\n",
       "[988780 rows x 5 columns]"
      ]
     },
     "execution_count": 4,
     "metadata": {},
     "output_type": "execute_result"
    }
   ],
   "source": [
    "# use generator to create a synthetic dataset\n",
    "sd = mostly.generate('6a19773e-9bd7-402a-aa65-a75e1e688c26', size=988_780)\n",
    "sd.data()"
   ]
  },
  {
   "cell_type": "markdown",
   "id": "6ba42828-466b-4312-a959-12ad71923bc9",
   "metadata": {},
   "source": [
    "Split the generated synthetic data into 20 data sets."
   ]
  },
  {
   "cell_type": "code",
   "execution_count": 5,
   "id": "79b82d7b-3f5e-47cf-96fc-0b7d0ef60d94",
   "metadata": {},
   "outputs": [
    {
     "name": "stderr",
     "output_type": "stream",
     "text": [
      "C:\\Users\\Cameron\\anaconda3\\Lib\\site-packages\\numpy\\core\\fromnumeric.py:59: FutureWarning: 'DataFrame.swapaxes' is deprecated and will be removed in a future version. Please use 'DataFrame.transpose' instead.\n",
      "  return bound(*args, **kwds)\n"
     ]
    }
   ],
   "source": [
    "split_sd = np.array_split(sd.data(), 5)"
   ]
  },
  {
   "cell_type": "code",
   "execution_count": 6,
   "id": "30757b03-134f-4910-8995-7102781c79c0",
   "metadata": {},
   "outputs": [
    {
     "data": {
      "text/html": [
       "<div>\n",
       "<style scoped>\n",
       "    .dataframe tbody tr th:only-of-type {\n",
       "        vertical-align: middle;\n",
       "    }\n",
       "\n",
       "    .dataframe tbody tr th {\n",
       "        vertical-align: top;\n",
       "    }\n",
       "\n",
       "    .dataframe thead th {\n",
       "        text-align: right;\n",
       "    }\n",
       "</style>\n",
       "<table border=\"1\" class=\"dataframe\">\n",
       "  <thead>\n",
       "    <tr style=\"text-align: right;\">\n",
       "      <th></th>\n",
       "      <th>incwage</th>\n",
       "      <th>years_of_educ</th>\n",
       "      <th>potential_experience</th>\n",
       "      <th>non_white</th>\n",
       "      <th>sex</th>\n",
       "    </tr>\n",
       "  </thead>\n",
       "  <tbody>\n",
       "    <tr>\n",
       "      <th>0</th>\n",
       "      <td>-0.353971</td>\n",
       "      <td>-0.429516</td>\n",
       "      <td>-0.593985</td>\n",
       "      <td>1</td>\n",
       "      <td>1</td>\n",
       "    </tr>\n",
       "    <tr>\n",
       "      <th>1</th>\n",
       "      <td>-0.658441</td>\n",
       "      <td>-0.044869</td>\n",
       "      <td>0.287642</td>\n",
       "      <td>1</td>\n",
       "      <td>0</td>\n",
       "    </tr>\n",
       "    <tr>\n",
       "      <th>2</th>\n",
       "      <td>-0.100254</td>\n",
       "      <td>0.339777</td>\n",
       "      <td>0.290098</td>\n",
       "      <td>0</td>\n",
       "      <td>0</td>\n",
       "    </tr>\n",
       "    <tr>\n",
       "      <th>3</th>\n",
       "      <td>-0.915482</td>\n",
       "      <td>-0.429516</td>\n",
       "      <td>0.467786</td>\n",
       "      <td>0</td>\n",
       "      <td>1</td>\n",
       "    </tr>\n",
       "    <tr>\n",
       "      <th>4</th>\n",
       "      <td>-0.952355</td>\n",
       "      <td>-0.429516</td>\n",
       "      <td>-1.408404</td>\n",
       "      <td>0</td>\n",
       "      <td>1</td>\n",
       "    </tr>\n",
       "    <tr>\n",
       "      <th>...</th>\n",
       "      <td>...</td>\n",
       "      <td>...</td>\n",
       "      <td>...</td>\n",
       "      <td>...</td>\n",
       "      <td>...</td>\n",
       "    </tr>\n",
       "    <tr>\n",
       "      <th>98873</th>\n",
       "      <td>-0.001395</td>\n",
       "      <td>-0.044869</td>\n",
       "      <td>0.460547</td>\n",
       "      <td>0</td>\n",
       "      <td>1</td>\n",
       "    </tr>\n",
       "    <tr>\n",
       "      <th>98874</th>\n",
       "      <td>-0.395288</td>\n",
       "      <td>-1.583456</td>\n",
       "      <td>-0.118807</td>\n",
       "      <td>1</td>\n",
       "      <td>0</td>\n",
       "    </tr>\n",
       "    <tr>\n",
       "      <th>98875</th>\n",
       "      <td>-0.959724</td>\n",
       "      <td>-0.044869</td>\n",
       "      <td>-1.51103</td>\n",
       "      <td>0</td>\n",
       "      <td>1</td>\n",
       "    </tr>\n",
       "    <tr>\n",
       "      <th>98876</th>\n",
       "      <td>-0.024554</td>\n",
       "      <td>-0.429516</td>\n",
       "      <td>-1.341637</td>\n",
       "      <td>0</td>\n",
       "      <td>1</td>\n",
       "    </tr>\n",
       "    <tr>\n",
       "      <th>98877</th>\n",
       "      <td>-0.786854</td>\n",
       "      <td>-1.19881</td>\n",
       "      <td>0.055851</td>\n",
       "      <td>1</td>\n",
       "      <td>0</td>\n",
       "    </tr>\n",
       "  </tbody>\n",
       "</table>\n",
       "<p>197756 rows × 5 columns</p>\n",
       "</div>"
      ],
      "text/plain": [
       "        incwage  years_of_educ  potential_experience  non_white  sex\n",
       "0     -0.353971      -0.429516             -0.593985          1    1\n",
       "1     -0.658441      -0.044869              0.287642          1    0\n",
       "2     -0.100254       0.339777              0.290098          0    0\n",
       "3     -0.915482      -0.429516              0.467786          0    1\n",
       "4     -0.952355      -0.429516             -1.408404          0    1\n",
       "...         ...            ...                   ...        ...  ...\n",
       "98873 -0.001395      -0.044869              0.460547          0    1\n",
       "98874 -0.395288      -1.583456             -0.118807          1    0\n",
       "98875 -0.959724      -0.044869              -1.51103          0    1\n",
       "98876 -0.024554      -0.429516             -1.341637          0    1\n",
       "98877 -0.786854       -1.19881              0.055851          1    0\n",
       "\n",
       "[197756 rows x 5 columns]"
      ]
     },
     "execution_count": 6,
     "metadata": {},
     "output_type": "execute_result"
    }
   ],
   "source": [
    "split_sd[0]"
   ]
  },
  {
   "cell_type": "markdown",
   "id": "cf1307a5-19d7-490d-8916-30316609bb51",
   "metadata": {},
   "source": [
    "# MUST CHANGE INDEX WHEN SAVING ADDITIONAL DATASETS SO YOU DON'T OVERWRITE EXISTING"
   ]
  },
  {
   "cell_type": "code",
   "execution_count": 7,
   "id": "edc66009-b6cb-4229-a4b6-6c00a7a97a17",
   "metadata": {},
   "outputs": [],
   "source": [
    "for i, sX in enumerate(split_sd):\n",
    "    sX.to_csv(\"../Data/IPUMS/Synthetic Datasets/mostly_\" + str(i) + \".csv\", index=False)"
   ]
  },
  {
   "cell_type": "code",
   "execution_count": null,
   "id": "9d30173c-fa02-466d-b17d-b83bca752c1b",
   "metadata": {},
   "outputs": [],
   "source": []
  }
 ],
 "metadata": {
  "kernelspec": {
   "display_name": "Python 3 (ipykernel)",
   "language": "python",
   "name": "python3"
  },
  "language_info": {
   "codemirror_mode": {
    "name": "ipython",
    "version": 3
   },
   "file_extension": ".py",
   "mimetype": "text/x-python",
   "name": "python",
   "nbconvert_exporter": "python",
   "pygments_lexer": "ipython3",
   "version": "3.11.7"
  }
 },
 "nbformat": 4,
 "nbformat_minor": 5
}
