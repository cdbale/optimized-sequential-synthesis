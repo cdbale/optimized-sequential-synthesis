{
 "cells": [
  {
   "cell_type": "code",
   "execution_count": 5,
   "id": "99af206b-9265-4597-8ff5-235b9e3c098c",
   "metadata": {},
   "outputs": [],
   "source": [
    "import numpy as np\n",
    "from mostlyai import MostlyAI"
   ]
  },
  {
   "cell_type": "code",
   "execution_count": 6,
   "id": "4579f703-94c0-40c2-8e80-5d48104e7d70",
   "metadata": {},
   "outputs": [],
   "source": [
    "# initialize client\n",
    "mostly = MostlyAI(api_key='mostly-adcd77a4ca7523519dc19b4ec9c9a7f6e0b2e37e16599b4703b03944dc824ed2', base_url='https://app.mostly.ai')"
   ]
  },
  {
   "cell_type": "code",
   "execution_count": 7,
   "id": "9593ea76-1887-4a60-93f9-fe1fbbeb6fce",
   "metadata": {},
   "outputs": [
    {
     "ename": "ValidationError",
     "evalue": "5 validation errors for Generator\ntables.0.columns.0.modelEncodingType\n  Input should be 'AUTO', 'CATEGORICAL', 'NUMERIC_AUTO', 'NUMERIC_DISCRETE', 'NUMERIC_BINNED', 'NUMERIC_DIGIT', 'CHARACTER', 'DATETIME', 'DATETIME_RELATIVE', 'LAT_LONG' or 'TEXT_MODEL' [type=enum, input_value='TABULAR_NUMERIC_BINNED', input_type=str]\ntables.0.columns.1.modelEncodingType\n  Input should be 'AUTO', 'CATEGORICAL', 'NUMERIC_AUTO', 'NUMERIC_DISCRETE', 'NUMERIC_BINNED', 'NUMERIC_DIGIT', 'CHARACTER', 'DATETIME', 'DATETIME_RELATIVE', 'LAT_LONG' or 'TEXT_MODEL' [type=enum, input_value='TABULAR_NUMERIC_DISCRETE', input_type=str]\ntables.0.columns.2.modelEncodingType\n  Input should be 'AUTO', 'CATEGORICAL', 'NUMERIC_AUTO', 'NUMERIC_DISCRETE', 'NUMERIC_BINNED', 'NUMERIC_DIGIT', 'CHARACTER', 'DATETIME', 'DATETIME_RELATIVE', 'LAT_LONG' or 'TEXT_MODEL' [type=enum, input_value='TABULAR_NUMERIC_BINNED', input_type=str]\ntables.0.columns.3.modelEncodingType\n  Input should be 'AUTO', 'CATEGORICAL', 'NUMERIC_AUTO', 'NUMERIC_DISCRETE', 'NUMERIC_BINNED', 'NUMERIC_DIGIT', 'CHARACTER', 'DATETIME', 'DATETIME_RELATIVE', 'LAT_LONG' or 'TEXT_MODEL' [type=enum, input_value='TABULAR_NUMERIC_DISCRETE', input_type=str]\ntables.0.columns.4.modelEncodingType\n  Input should be 'AUTO', 'CATEGORICAL', 'NUMERIC_AUTO', 'NUMERIC_DISCRETE', 'NUMERIC_BINNED', 'NUMERIC_DIGIT', 'CHARACTER', 'DATETIME', 'DATETIME_RELATIVE', 'LAT_LONG' or 'TEXT_MODEL' [type=enum, input_value='TABULAR_NUMERIC_DISCRETE', input_type=str]",
     "output_type": "error",
     "traceback": [
      "\u001b[1;31m---------------------------------------------------------------------------\u001b[0m",
      "\u001b[1;31mValidationError\u001b[0m                           Traceback (most recent call last)",
      "Cell \u001b[1;32mIn[7], line 2\u001b[0m\n\u001b[0;32m      1\u001b[0m \u001b[38;5;66;03m# fetch configuration via API\u001b[39;00m\n\u001b[1;32m----> 2\u001b[0m g \u001b[38;5;241m=\u001b[39m mostly\u001b[38;5;241m.\u001b[39mgenerators\u001b[38;5;241m.\u001b[39mget(\u001b[38;5;124m'\u001b[39m\u001b[38;5;124mc5be9e92-3a35-433e-96e2-0ba45a755b3f\u001b[39m\u001b[38;5;124m'\u001b[39m)\n\u001b[0;32m      3\u001b[0m config \u001b[38;5;241m=\u001b[39m g\u001b[38;5;241m.\u001b[39mconfig()\n\u001b[0;32m      4\u001b[0m config\n",
      "File \u001b[1;32m~\\AppData\\Roaming\\Python\\Python311\\site-packages\\mostlyai\\generators.py:55\u001b[0m, in \u001b[0;36m_MostlyGeneratorsClient.get\u001b[1;34m(self, generator_id)\u001b[0m\n\u001b[0;32m     48\u001b[0m \u001b[38;5;28;01mdef\u001b[39;00m \u001b[38;5;21mget\u001b[39m(\u001b[38;5;28mself\u001b[39m, generator_id: \u001b[38;5;28mstr\u001b[39m) \u001b[38;5;241m-\u001b[39m\u001b[38;5;241m>\u001b[39m Generator:\n\u001b[0;32m     49\u001b[0m \u001b[38;5;250m    \u001b[39m\u001b[38;5;124;03m\"\"\"\u001b[39;00m\n\u001b[0;32m     50\u001b[0m \u001b[38;5;124;03m    Retrieve generator\u001b[39;00m\n\u001b[0;32m     51\u001b[0m \n\u001b[0;32m     52\u001b[0m \u001b[38;5;124;03m    :param generator_id: The unique identifier of a generator\u001b[39;00m\n\u001b[0;32m     53\u001b[0m \u001b[38;5;124;03m    :return: The retrieved generator\u001b[39;00m\n\u001b[0;32m     54\u001b[0m \u001b[38;5;124;03m    \"\"\"\u001b[39;00m\n\u001b[1;32m---> 55\u001b[0m     response \u001b[38;5;241m=\u001b[39m \u001b[38;5;28mself\u001b[39m\u001b[38;5;241m.\u001b[39mrequest(verb\u001b[38;5;241m=\u001b[39mGET, path\u001b[38;5;241m=\u001b[39m[generator_id], response_type\u001b[38;5;241m=\u001b[39mGenerator)\n\u001b[0;32m     56\u001b[0m     \u001b[38;5;28;01mreturn\u001b[39;00m response\n",
      "File \u001b[1;32m~\\AppData\\Roaming\\Python\\Python311\\site-packages\\mostlyai\\base.py:139\u001b[0m, in \u001b[0;36m_MostlyBaseClient.request\u001b[1;34m(self, path, verb, response_type, raw_response, is_api_call, do_include_client, extra_key_values, **kwargs)\u001b[0m\n\u001b[0;32m    136\u001b[0m         \u001b[38;5;28;01mif\u001b[39;00m \u001b[38;5;28misinstance\u001b[39m(extra_key_values, \u001b[38;5;28mdict\u001b[39m):\n\u001b[0;32m    137\u001b[0m             response_json[\u001b[38;5;124m\"\u001b[39m\u001b[38;5;124mextra_key_values\u001b[39m\u001b[38;5;124m\"\u001b[39m] \u001b[38;5;241m=\u001b[39m extra_key_values\n\u001b[0;32m    138\u001b[0m     \u001b[38;5;28;01mreturn\u001b[39;00m (\n\u001b[1;32m--> 139\u001b[0m         response_type(\u001b[38;5;241m*\u001b[39m\u001b[38;5;241m*\u001b[39mresponse_json)\n\u001b[0;32m    140\u001b[0m         \u001b[38;5;28;01mif\u001b[39;00m \u001b[38;5;28misinstance\u001b[39m(response_json, \u001b[38;5;28mdict\u001b[39m)\n\u001b[0;32m    141\u001b[0m         \u001b[38;5;28;01melse\u001b[39;00m response_json\n\u001b[0;32m    142\u001b[0m     )\n\u001b[0;32m    143\u001b[0m \u001b[38;5;28;01melse\u001b[39;00m:\n\u001b[0;32m    144\u001b[0m     \u001b[38;5;28;01mreturn\u001b[39;00m \u001b[38;5;28;01mNone\u001b[39;00m\n",
      "File \u001b[1;32m~\\AppData\\Roaming\\Python\\Python311\\site-packages\\mostlyai\\model.py:1567\u001b[0m, in \u001b[0;36mGenerator.__init__\u001b[1;34m(self, *args, **kwargs)\u001b[0m\n\u001b[0;32m   1566\u001b[0m \u001b[38;5;28;01mdef\u001b[39;00m \u001b[38;5;21m__init__\u001b[39m(\u001b[38;5;28mself\u001b[39m, \u001b[38;5;241m*\u001b[39margs, \u001b[38;5;241m*\u001b[39m\u001b[38;5;241m*\u001b[39mkwargs):\n\u001b[1;32m-> 1567\u001b[0m     \u001b[38;5;28msuper\u001b[39m()\u001b[38;5;241m.\u001b[39m\u001b[38;5;21m__init__\u001b[39m(\u001b[38;5;241m*\u001b[39margs, \u001b[38;5;241m*\u001b[39m\u001b[38;5;241m*\u001b[39mkwargs)\n\u001b[0;32m   1568\u001b[0m     \u001b[38;5;28mself\u001b[39m\u001b[38;5;241m.\u001b[39mtraining \u001b[38;5;241m=\u001b[39m \u001b[38;5;28mself\u001b[39m\u001b[38;5;241m.\u001b[39mTraining(\u001b[38;5;28mself\u001b[39m)\n",
      "File \u001b[1;32m~\\AppData\\Roaming\\Python\\Python311\\site-packages\\pydantic\\main.py:164\u001b[0m, in \u001b[0;36mBaseModel.__init__\u001b[1;34m(__pydantic_self__, **data)\u001b[0m\n\u001b[0;32m    162\u001b[0m \u001b[38;5;66;03m# `__tracebackhide__` tells pytest and some other tools to omit this function from tracebacks\u001b[39;00m\n\u001b[0;32m    163\u001b[0m __tracebackhide__ \u001b[38;5;241m=\u001b[39m \u001b[38;5;28;01mTrue\u001b[39;00m\n\u001b[1;32m--> 164\u001b[0m __pydantic_self__\u001b[38;5;241m.\u001b[39m__pydantic_validator__\u001b[38;5;241m.\u001b[39mvalidate_python(data, self_instance\u001b[38;5;241m=\u001b[39m__pydantic_self__)\n",
      "\u001b[1;31mValidationError\u001b[0m: 5 validation errors for Generator\ntables.0.columns.0.modelEncodingType\n  Input should be 'AUTO', 'CATEGORICAL', 'NUMERIC_AUTO', 'NUMERIC_DISCRETE', 'NUMERIC_BINNED', 'NUMERIC_DIGIT', 'CHARACTER', 'DATETIME', 'DATETIME_RELATIVE', 'LAT_LONG' or 'TEXT_MODEL' [type=enum, input_value='TABULAR_NUMERIC_BINNED', input_type=str]\ntables.0.columns.1.modelEncodingType\n  Input should be 'AUTO', 'CATEGORICAL', 'NUMERIC_AUTO', 'NUMERIC_DISCRETE', 'NUMERIC_BINNED', 'NUMERIC_DIGIT', 'CHARACTER', 'DATETIME', 'DATETIME_RELATIVE', 'LAT_LONG' or 'TEXT_MODEL' [type=enum, input_value='TABULAR_NUMERIC_DISCRETE', input_type=str]\ntables.0.columns.2.modelEncodingType\n  Input should be 'AUTO', 'CATEGORICAL', 'NUMERIC_AUTO', 'NUMERIC_DISCRETE', 'NUMERIC_BINNED', 'NUMERIC_DIGIT', 'CHARACTER', 'DATETIME', 'DATETIME_RELATIVE', 'LAT_LONG' or 'TEXT_MODEL' [type=enum, input_value='TABULAR_NUMERIC_BINNED', input_type=str]\ntables.0.columns.3.modelEncodingType\n  Input should be 'AUTO', 'CATEGORICAL', 'NUMERIC_AUTO', 'NUMERIC_DISCRETE', 'NUMERIC_BINNED', 'NUMERIC_DIGIT', 'CHARACTER', 'DATETIME', 'DATETIME_RELATIVE', 'LAT_LONG' or 'TEXT_MODEL' [type=enum, input_value='TABULAR_NUMERIC_DISCRETE', input_type=str]\ntables.0.columns.4.modelEncodingType\n  Input should be 'AUTO', 'CATEGORICAL', 'NUMERIC_AUTO', 'NUMERIC_DISCRETE', 'NUMERIC_BINNED', 'NUMERIC_DIGIT', 'CHARACTER', 'DATETIME', 'DATETIME_RELATIVE', 'LAT_LONG' or 'TEXT_MODEL' [type=enum, input_value='TABULAR_NUMERIC_DISCRETE', input_type=str]"
     ]
    }
   ],
   "source": [
    "# fetch configuration via API\n",
    "g = mostly.generators.get('c5be9e92-3a35-433e-96e2-0ba45a755b3f')\n",
    "config = g.config()\n",
    "config"
   ]
  },
  {
   "cell_type": "code",
   "execution_count": 6,
   "id": "09893854-1888-4b31-bc7b-66bdd909e482",
   "metadata": {},
   "outputs": [],
   "source": [
    "# probe the generator for some samples\n",
    "# mostly.probe(ef9e6875-42d0-4bb4-81c9-10f3f9a13e41', size=10)"
   ]
  },
  {
   "cell_type": "markdown",
   "id": "29d0bf2a-faa3-4f32-b86d-bad32354b74d",
   "metadata": {},
   "source": [
    "We need 20 synthetic data sets. Original data set size was 197,756, so we need $197,756 \\times 20 = 3,955,120$ samples."
   ]
  },
  {
   "cell_type": "markdown",
   "id": "2b9e0f26-2647-4a01-bad8-ffa236b49a83",
   "metadata": {},
   "source": [
    "Due to limits on the free version, we will break it into four requests. This will be done manually over 4 days."
   ]
  },
  {
   "cell_type": "code",
   "execution_count": 4,
   "id": "f50baf60-52a2-4300-982b-30c0b455db8d",
   "metadata": {},
   "outputs": [
    {
     "data": {
      "text/html": [
       "<pre style=\"white-space:pre;overflow-x:auto;line-height:normal;font-family:Menlo,'DejaVu Sans Mono',consolas,'Courier New',monospace\">Created synthetic dataset <a href=\"https://app.mostly.ai/d/synthetic-datasets/fa6cfd21-175b-4a05-b39d-3927f66afd12\" target=\"_blank\"><span style=\"color: #000080; text-decoration-color: #000080; text-decoration: underline\">fa6cfd21-175b-4a05-b39d-3927f66afd12</span></a> with generator <a href=\"https://app.mostly.ai/d/generators/ef9e6875-42d0-4bb4-81c9-10f3f9a13e41\" target=\"_blank\"><span style=\"color: #000080; text-decoration-color: #000080; text-decoration: underline\">ef9e6875-42d0-4bb4-81c9-10f3f9a13e41</span></a>\n",
       "</pre>\n"
      ],
      "text/plain": [
       "Created synthetic dataset \u001b]8;id=302415;https://app.mostly.ai/d/synthetic-datasets/fa6cfd21-175b-4a05-b39d-3927f66afd12\u001b\\\u001b[4;34mfa6cfd21-175b-4a05-b39d-3927f66afd12\u001b[0m\u001b]8;;\u001b\\ with generator \u001b]8;id=109493;https://app.mostly.ai/d/generators/ef9e6875-42d0-4bb4-81c9-10f3f9a13e41\u001b\\\u001b[4;34mef9e6875-42d0-4bb4-81c9-10f3f9a13e41\u001b[0m\u001b]8;;\u001b\\\n"
      ]
     },
     "metadata": {},
     "output_type": "display_data"
    },
    {
     "data": {
      "text/html": [
       "<pre style=\"white-space:pre;overflow-x:auto;line-height:normal;font-family:Menlo,'DejaVu Sans Mono',consolas,'Courier New',monospace\">Started synthetic dataset generation\n",
       "</pre>\n"
      ],
      "text/plain": [
       "Started synthetic dataset generation\n"
      ]
     },
     "metadata": {},
     "output_type": "display_data"
    },
    {
     "data": {
      "application/vnd.jupyter.widget-view+json": {
       "model_id": "92916683ab45469e9ea84cc627df4964",
       "version_major": 2,
       "version_minor": 0
      },
      "text/plain": [
       "Output()"
      ]
     },
     "metadata": {},
     "output_type": "display_data"
    },
    {
     "data": {
      "text/html": [
       "<pre style=\"white-space:pre;overflow-x:auto;line-height:normal;font-family:Menlo,'DejaVu Sans Mono',consolas,'Courier New',monospace\"></pre>\n"
      ],
      "text/plain": []
     },
     "metadata": {},
     "output_type": "display_data"
    },
    {
     "data": {
      "text/html": [
       "<pre style=\"white-space:pre;overflow-x:auto;line-height:normal;font-family:Menlo,'DejaVu Sans Mono',consolas,'Courier New',monospace\">🎉 <span style=\"color: #008000; text-decoration-color: #008000; font-weight: bold\">Your synthetic dataset is ready!</span> Use it to consume the generated data. Share it so others can do the same.\n",
       "</pre>\n"
      ],
      "text/plain": [
       "🎉 \u001b[1;32mYour synthetic dataset is ready!\u001b[0m Use it to consume the generated data. Share it so others can do the same.\n"
      ]
     },
     "metadata": {},
     "output_type": "display_data"
    },
    {
     "data": {
      "text/html": [
       "<div>\n",
       "<style scoped>\n",
       "    .dataframe tbody tr th:only-of-type {\n",
       "        vertical-align: middle;\n",
       "    }\n",
       "\n",
       "    .dataframe tbody tr th {\n",
       "        vertical-align: top;\n",
       "    }\n",
       "\n",
       "    .dataframe thead th {\n",
       "        text-align: right;\n",
       "    }\n",
       "</style>\n",
       "<table border=\"1\" class=\"dataframe\">\n",
       "  <thead>\n",
       "    <tr style=\"text-align: right;\">\n",
       "      <th></th>\n",
       "      <th>incwage</th>\n",
       "      <th>years_of_educ</th>\n",
       "      <th>potential_experience</th>\n",
       "      <th>non_white</th>\n",
       "      <th>sex</th>\n",
       "    </tr>\n",
       "  </thead>\n",
       "  <tbody>\n",
       "    <tr>\n",
       "      <th>0</th>\n",
       "      <td>27803</td>\n",
       "      <td>16.0</td>\n",
       "      <td>2.150252</td>\n",
       "      <td>0</td>\n",
       "      <td>1</td>\n",
       "    </tr>\n",
       "    <tr>\n",
       "      <th>1</th>\n",
       "      <td>15004</td>\n",
       "      <td>16.0</td>\n",
       "      <td>15.177912</td>\n",
       "      <td>1</td>\n",
       "      <td>1</td>\n",
       "    </tr>\n",
       "    <tr>\n",
       "      <th>2</th>\n",
       "      <td>7513</td>\n",
       "      <td>12.0</td>\n",
       "      <td>30.222636</td>\n",
       "      <td>0</td>\n",
       "      <td>1</td>\n",
       "    </tr>\n",
       "    <tr>\n",
       "      <th>3</th>\n",
       "      <td>18894</td>\n",
       "      <td>16.0</td>\n",
       "      <td>20.220314</td>\n",
       "      <td>0</td>\n",
       "      <td>1</td>\n",
       "    </tr>\n",
       "    <tr>\n",
       "      <th>4</th>\n",
       "      <td>10672</td>\n",
       "      <td>12.0</td>\n",
       "      <td>47.182293</td>\n",
       "      <td>0</td>\n",
       "      <td>1</td>\n",
       "    </tr>\n",
       "    <tr>\n",
       "      <th>...</th>\n",
       "      <td>...</td>\n",
       "      <td>...</td>\n",
       "      <td>...</td>\n",
       "      <td>...</td>\n",
       "      <td>...</td>\n",
       "    </tr>\n",
       "    <tr>\n",
       "      <th>98873</th>\n",
       "      <td>50095</td>\n",
       "      <td>13.0</td>\n",
       "      <td>25.060798</td>\n",
       "      <td>0</td>\n",
       "      <td>0</td>\n",
       "    </tr>\n",
       "    <tr>\n",
       "      <th>98874</th>\n",
       "      <td>7259</td>\n",
       "      <td>12.0</td>\n",
       "      <td>21.064726</td>\n",
       "      <td>0</td>\n",
       "      <td>0</td>\n",
       "    </tr>\n",
       "    <tr>\n",
       "      <th>98875</th>\n",
       "      <td>19667</td>\n",
       "      <td>10.0</td>\n",
       "      <td>31.161654</td>\n",
       "      <td>0</td>\n",
       "      <td>0</td>\n",
       "    </tr>\n",
       "    <tr>\n",
       "      <th>98876</th>\n",
       "      <td>20034</td>\n",
       "      <td>12.0</td>\n",
       "      <td>21.077063</td>\n",
       "      <td>0</td>\n",
       "      <td>0</td>\n",
       "    </tr>\n",
       "    <tr>\n",
       "      <th>98877</th>\n",
       "      <td>30050</td>\n",
       "      <td>13.0</td>\n",
       "      <td>14.190758</td>\n",
       "      <td>0</td>\n",
       "      <td>1</td>\n",
       "    </tr>\n",
       "  </tbody>\n",
       "</table>\n",
       "<p>988780 rows × 5 columns</p>\n",
       "</div>"
      ],
      "text/plain": [
       "       incwage  years_of_educ  potential_experience  non_white  sex\n",
       "0        27803           16.0              2.150252          0    1\n",
       "1        15004           16.0             15.177912          1    1\n",
       "2         7513           12.0             30.222636          0    1\n",
       "3        18894           16.0             20.220314          0    1\n",
       "4        10672           12.0             47.182293          0    1\n",
       "...        ...            ...                   ...        ...  ...\n",
       "98873    50095           13.0             25.060798          0    0\n",
       "98874     7259           12.0             21.064726          0    0\n",
       "98875    19667           10.0             31.161654          0    0\n",
       "98876    20034           12.0             21.077063          0    0\n",
       "98877    30050           13.0             14.190758          0    1\n",
       "\n",
       "[988780 rows x 5 columns]"
      ]
     },
     "execution_count": 4,
     "metadata": {},
     "output_type": "execute_result"
    }
   ],
   "source": [
    "# use generator to create a synthetic dataset\n",
    "sd = mostly.generate('ef9e6875-42d0-4bb4-81c9-10f3f9a13e41', size=988_780)\n",
    "sd.data()"
   ]
  },
  {
   "cell_type": "markdown",
   "id": "6ba42828-466b-4312-a959-12ad71923bc9",
   "metadata": {},
   "source": [
    "Split the generated synthetic data into 20 data sets."
   ]
  },
  {
   "cell_type": "code",
   "execution_count": 5,
   "id": "79b82d7b-3f5e-47cf-96fc-0b7d0ef60d94",
   "metadata": {},
   "outputs": [
    {
     "name": "stderr",
     "output_type": "stream",
     "text": [
      "C:\\Users\\Cameron\\anaconda3\\Lib\\site-packages\\numpy\\core\\fromnumeric.py:59: FutureWarning: 'DataFrame.swapaxes' is deprecated and will be removed in a future version. Please use 'DataFrame.transpose' instead.\n",
      "  return bound(*args, **kwds)\n"
     ]
    }
   ],
   "source": [
    "split_sd = np.array_split(sd.data(), 5)"
   ]
  },
  {
   "cell_type": "code",
   "execution_count": 6,
   "id": "30757b03-134f-4910-8995-7102781c79c0",
   "metadata": {},
   "outputs": [
    {
     "data": {
      "text/html": [
       "<div>\n",
       "<style scoped>\n",
       "    .dataframe tbody tr th:only-of-type {\n",
       "        vertical-align: middle;\n",
       "    }\n",
       "\n",
       "    .dataframe tbody tr th {\n",
       "        vertical-align: top;\n",
       "    }\n",
       "\n",
       "    .dataframe thead th {\n",
       "        text-align: right;\n",
       "    }\n",
       "</style>\n",
       "<table border=\"1\" class=\"dataframe\">\n",
       "  <thead>\n",
       "    <tr style=\"text-align: right;\">\n",
       "      <th></th>\n",
       "      <th>incwage</th>\n",
       "      <th>years_of_educ</th>\n",
       "      <th>potential_experience</th>\n",
       "      <th>non_white</th>\n",
       "      <th>sex</th>\n",
       "    </tr>\n",
       "  </thead>\n",
       "  <tbody>\n",
       "    <tr>\n",
       "      <th>0</th>\n",
       "      <td>27803</td>\n",
       "      <td>16.0</td>\n",
       "      <td>2.150252</td>\n",
       "      <td>0</td>\n",
       "      <td>1</td>\n",
       "    </tr>\n",
       "    <tr>\n",
       "      <th>1</th>\n",
       "      <td>15004</td>\n",
       "      <td>16.0</td>\n",
       "      <td>15.177912</td>\n",
       "      <td>1</td>\n",
       "      <td>1</td>\n",
       "    </tr>\n",
       "    <tr>\n",
       "      <th>2</th>\n",
       "      <td>7513</td>\n",
       "      <td>12.0</td>\n",
       "      <td>30.222636</td>\n",
       "      <td>0</td>\n",
       "      <td>1</td>\n",
       "    </tr>\n",
       "    <tr>\n",
       "      <th>3</th>\n",
       "      <td>18894</td>\n",
       "      <td>16.0</td>\n",
       "      <td>20.220314</td>\n",
       "      <td>0</td>\n",
       "      <td>1</td>\n",
       "    </tr>\n",
       "    <tr>\n",
       "      <th>4</th>\n",
       "      <td>10672</td>\n",
       "      <td>12.0</td>\n",
       "      <td>47.182293</td>\n",
       "      <td>0</td>\n",
       "      <td>1</td>\n",
       "    </tr>\n",
       "    <tr>\n",
       "      <th>...</th>\n",
       "      <td>...</td>\n",
       "      <td>...</td>\n",
       "      <td>...</td>\n",
       "      <td>...</td>\n",
       "      <td>...</td>\n",
       "    </tr>\n",
       "    <tr>\n",
       "      <th>98873</th>\n",
       "      <td>2635</td>\n",
       "      <td>16.0</td>\n",
       "      <td>21.03817</td>\n",
       "      <td>0</td>\n",
       "      <td>1</td>\n",
       "    </tr>\n",
       "    <tr>\n",
       "      <th>98874</th>\n",
       "      <td>48879</td>\n",
       "      <td>16.0</td>\n",
       "      <td>9.00157</td>\n",
       "      <td>0</td>\n",
       "      <td>1</td>\n",
       "    </tr>\n",
       "    <tr>\n",
       "      <th>98875</th>\n",
       "      <td>10879</td>\n",
       "      <td>13.0</td>\n",
       "      <td>22.020623</td>\n",
       "      <td>0</td>\n",
       "      <td>1</td>\n",
       "    </tr>\n",
       "    <tr>\n",
       "      <th>98876</th>\n",
       "      <td>24178</td>\n",
       "      <td>5.691449</td>\n",
       "      <td>30.597577</td>\n",
       "      <td>0</td>\n",
       "      <td>0</td>\n",
       "    </tr>\n",
       "    <tr>\n",
       "      <th>98877</th>\n",
       "      <td>10020</td>\n",
       "      <td>12.0</td>\n",
       "      <td>2.210222</td>\n",
       "      <td>0</td>\n",
       "      <td>0</td>\n",
       "    </tr>\n",
       "  </tbody>\n",
       "</table>\n",
       "<p>197756 rows × 5 columns</p>\n",
       "</div>"
      ],
      "text/plain": [
       "       incwage  years_of_educ  potential_experience  non_white  sex\n",
       "0        27803           16.0              2.150252          0    1\n",
       "1        15004           16.0             15.177912          1    1\n",
       "2         7513           12.0             30.222636          0    1\n",
       "3        18894           16.0             20.220314          0    1\n",
       "4        10672           12.0             47.182293          0    1\n",
       "...        ...            ...                   ...        ...  ...\n",
       "98873     2635           16.0              21.03817          0    1\n",
       "98874    48879           16.0               9.00157          0    1\n",
       "98875    10879           13.0             22.020623          0    1\n",
       "98876    24178       5.691449             30.597577          0    0\n",
       "98877    10020           12.0              2.210222          0    0\n",
       "\n",
       "[197756 rows x 5 columns]"
      ]
     },
     "execution_count": 6,
     "metadata": {},
     "output_type": "execute_result"
    }
   ],
   "source": [
    "split_sd[0]"
   ]
  },
  {
   "cell_type": "markdown",
   "id": "cf1307a5-19d7-490d-8916-30316609bb51",
   "metadata": {},
   "source": [
    "# MUST CHANGE INDEX WHEN SAVING ADDITIONAL DATASETS SO YOU DON'T OVERWRITE EXISTING"
   ]
  },
  {
   "cell_type": "code",
   "execution_count": 7,
   "id": "edc66009-b6cb-4229-a4b6-6c00a7a97a17",
   "metadata": {},
   "outputs": [],
   "source": [
    "for i, sX in enumerate(split_sd):\n",
    "    sX.to_csv(\"../Data/IPUMS/Synthetic Datasets/non_normalized_mostly_\" + str(i+5) + \".csv\", index=False)"
   ]
  },
  {
   "cell_type": "code",
   "execution_count": null,
   "id": "9d30173c-fa02-466d-b17d-b83bca752c1b",
   "metadata": {},
   "outputs": [],
   "source": []
  }
 ],
 "metadata": {
  "kernelspec": {
   "display_name": "Python 3 (ipykernel)",
   "language": "python",
   "name": "python3"
  },
  "language_info": {
   "codemirror_mode": {
    "name": "ipython",
    "version": 3
   },
   "file_extension": ".py",
   "mimetype": "text/x-python",
   "name": "python",
   "nbconvert_exporter": "python",
   "pygments_lexer": "ipython3",
   "version": "3.11.7"
  }
 },
 "nbformat": 4,
 "nbformat_minor": 5
}
