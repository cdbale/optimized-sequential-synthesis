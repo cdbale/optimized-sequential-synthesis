{
 "cells": [
  {
   "cell_type": "markdown",
   "id": "96f48262",
   "metadata": {},
   "source": [
    "# Train-Holdout Sequential Synthesis Testing"
   ]
  },
  {
   "cell_type": "markdown",
   "id": "e6eb8a0b",
   "metadata": {},
   "source": [
    "This notebook performs the synthesis using our proposed synthesization approach for the training data only (excludes the holdout data)."
   ]
  },
  {
   "cell_type": "code",
   "execution_count": 1,
   "id": "2d3f5c21",
   "metadata": {},
   "outputs": [],
   "source": [
    "import pandas as pd\n",
    "import numpy as np\n",
    "from numpy.random import default_rng\n",
    "from sklearn.mixture import GaussianMixture\n",
    "from scipy.spatial import cKDTree\n",
    "import matplotlib.pyplot as plt\n",
    "import seaborn as sns\n",
    "\n",
    "from sklearn import preprocessing\n",
    "\n",
    "from sklearn.tree import DecisionTreeClassifier\n",
    "\n",
    "import itertools\n",
    "\n",
    "from bayes_opt import BayesianOptimization\n",
    "from bayes_opt import UtilityFunction\n",
    "\n",
    "from sklearn.linear_model import LogisticRegression\n",
    "from sklearn.preprocessing import PolynomialFeatures\n",
    "\n",
    "from bayesian_bootstrap import bayesian_bootstrap\n",
    "\n",
    "rng = np.random.RandomState(42)"
   ]
  },
  {
   "cell_type": "code",
   "execution_count": 2,
   "id": "f827250b",
   "metadata": {},
   "outputs": [],
   "source": [
    "# def cart_pmse_ratio(original_data, synthetic_data_sets):\n",
    "    \n",
    "#     ### get pmse measures for synthetic data set pairs\n",
    "    \n",
    "#     null_pmse_list = []\n",
    "    \n",
    "#     inds = np.arange(len(synthetic_data_sets))\n",
    "    \n",
    "#     combo_list = list(itertools.combinations(inds, 2))\n",
    "    \n",
    "#     for combo in combo_list:\n",
    "    \n",
    "#         s1 = synthetic_data_sets[combo[0]]\n",
    "#         s2 = synthetic_data_sets[combo[1]]\n",
    "    \n",
    "#         N_orig = s1.shape[0]\n",
    "#         N_synth = s2.shape[0]\n",
    "    \n",
    "#         c = N_synth/(N_synth+N_orig)\n",
    "    \n",
    "#         full_X = pd.concat([s1, s2], axis=0).reset_index(drop=True)\n",
    "    \n",
    "#         full_X = preprocessing.StandardScaler().fit_transform(full_X)\n",
    "\n",
    "#         y = np.repeat([0, 1], repeats=[N_orig, N_synth])\n",
    "    \n",
    "#         cart = DecisionTreeClassifier(min_samples_split=20,\n",
    "#                                       min_samples_leaf=int(np.round(20/3)),\n",
    "#                                       ccp_alpha=0.0001,\n",
    "#                                       max_depth=30)\n",
    "    \n",
    "#         cart.fit(X=full_X, y=y)\n",
    "    \n",
    "#         probs = cart.predict_proba(full_X)\n",
    "    \n",
    "#         pMSE = 1/(N_synth + N_orig) * np.sum((probs[:,1] - c)**2)\n",
    "        \n",
    "#         null_pmse_list.append(pMSE)\n",
    "    \n",
    "#     pmse_list = []\n",
    "    \n",
    "#     for s in synthetic_data_sets:\n",
    "    \n",
    "#         N_orig = original_data.shape[0]\n",
    "#         N_synth = s.shape[0]\n",
    "    \n",
    "#         c = N_synth/(N_synth+N_orig)\n",
    "    \n",
    "#         full_X = pd.concat([original_data, s], axis=0).reset_index(drop=True)\n",
    "    \n",
    "#         full_X = preprocessing.StandardScaler().fit_transform(full_X)\n",
    "\n",
    "#         y = np.repeat([0, 1], repeats=[N_orig, N_synth])\n",
    "    \n",
    "#         cart = DecisionTreeClassifier(min_samples_split=20,\n",
    "#                                       min_samples_leaf=int(np.round(20/3)),\n",
    "#                                       ccp_alpha=0.0001,\n",
    "#                                       max_depth=30)\n",
    "    \n",
    "#         cart.fit(X=full_X, y=y)\n",
    "    \n",
    "#         probs = cart.predict_proba(full_X)\n",
    "    \n",
    "#         pMSE = 1/(N_synth + N_orig) * np.sum((probs[:,1] - c)**2)\n",
    "        \n",
    "#         pmse_list.append(pMSE)\n",
    "    \n",
    "#     return np.array(pmse_list)/(np.mean(null_pmse_list))"
   ]
  },
  {
   "cell_type": "code",
   "execution_count": 3,
   "id": "a07ad9ba",
   "metadata": {},
   "outputs": [],
   "source": [
    "def pmse_ratio(original_data, synthetic_data):\n",
    "    \n",
    "    N_synth = synthetic_data.shape[0]\n",
    "    N_orig = original_data.shape[0]\n",
    "    \n",
    "    # combine original and synthetic datasets\n",
    "    full_X = pd.concat([original_data, synthetic_data], axis=0).reset_index(drop=True)\n",
    "    \n",
    "    full_X[\"age\"] = full_X[\"age\"].astype('category')\n",
    "    \n",
    "    age_dummies = pd.get_dummies(full_X['age'], drop_first=True)\n",
    "    \n",
    "    age_dummies.columns = [str(x) for x in age_dummies.columns]\n",
    "    \n",
    "    full_X = full_X.drop(\"age\", axis=1)\n",
    "    \n",
    "    full_X = pd.concat([full_X, age_dummies], axis=1)\n",
    "    \n",
    "    # generate interactions and powers of variables\n",
    "    poly = PolynomialFeatures(2, interaction_only=True, include_bias=False)\n",
    "    \n",
    "    full_X = poly.fit_transform(full_X)\n",
    "    \n",
    "    full_X = full_X[:,:-36]\n",
    "\n",
    "    # scale the combined dataset\n",
    "    full_X = preprocessing.StandardScaler().fit_transform(full_X)\n",
    "    \n",
    "    c = N_synth/(N_synth+N_orig)\n",
    "\n",
    "    y = np.repeat([0, 1], repeats=[N_orig, N_synth])\n",
    "    \n",
    "    pMSE_model = LogisticRegression(penalty=None, max_iter=1000).fit(full_X, y)\n",
    "    \n",
    "    probs = pMSE_model.predict_proba(full_X)\n",
    "    \n",
    "    pMSE = 1/(N_synth+N_orig) * np.sum((probs[:,1] - c)**2)\n",
    "    \n",
    "    e_pMSE = 2*(full_X.shape[1])*(1-c)**2 * c/(N_synth+N_orig)\n",
    "        \n",
    "    return pMSE/e_pMSE"
   ]
  },
  {
   "cell_type": "markdown",
   "id": "76a8ccbc",
   "metadata": {},
   "source": [
    "Import the data."
   ]
  },
  {
   "cell_type": "code",
   "execution_count": 4,
   "id": "730c2f2e",
   "metadata": {},
   "outputs": [],
   "source": [
    "# import standardized lat/long location data\n",
    "X = pd.read_csv(\"Data/cleaned_data.csv\")"
   ]
  },
  {
   "cell_type": "markdown",
   "id": "05560c9f",
   "metadata": {},
   "source": [
    "Number of locations from deceased individuals."
   ]
  },
  {
   "cell_type": "code",
   "execution_count": 5,
   "id": "4179bd8c",
   "metadata": {},
   "outputs": [
    {
     "data": {
      "text/plain": [
       "55"
      ]
     },
     "execution_count": 5,
     "metadata": {},
     "output_type": "execute_result"
    }
   ],
   "source": [
    "np.sum(X.state)"
   ]
  },
  {
   "cell_type": "markdown",
   "id": "10b49ff7",
   "metadata": {},
   "source": [
    "Split dataset into continuous and categorical variables."
   ]
  },
  {
   "cell_type": "code",
   "execution_count": 6,
   "id": "ca8aa871",
   "metadata": {},
   "outputs": [
    {
     "data": {
      "text/html": [
       "<div>\n",
       "<style scoped>\n",
       "    .dataframe tbody tr th:only-of-type {\n",
       "        vertical-align: middle;\n",
       "    }\n",
       "\n",
       "    .dataframe tbody tr th {\n",
       "        vertical-align: top;\n",
       "    }\n",
       "\n",
       "    .dataframe thead th {\n",
       "        text-align: right;\n",
       "    }\n",
       "</style>\n",
       "<table border=\"1\" class=\"dataframe\">\n",
       "  <thead>\n",
       "    <tr style=\"text-align: right;\">\n",
       "      <th></th>\n",
       "      <th>latitude</th>\n",
       "      <th>longitude</th>\n",
       "      <th>sex</th>\n",
       "      <th>age</th>\n",
       "      <th>state</th>\n",
       "    </tr>\n",
       "  </thead>\n",
       "  <tbody>\n",
       "    <tr>\n",
       "      <th>0</th>\n",
       "      <td>0.944157</td>\n",
       "      <td>-1.010655</td>\n",
       "      <td>male</td>\n",
       "      <td>50s</td>\n",
       "      <td>0</td>\n",
       "    </tr>\n",
       "    <tr>\n",
       "      <th>1</th>\n",
       "      <td>0.889746</td>\n",
       "      <td>-0.694899</td>\n",
       "      <td>male</td>\n",
       "      <td>50s</td>\n",
       "      <td>0</td>\n",
       "    </tr>\n",
       "    <tr>\n",
       "      <th>2</th>\n",
       "      <td>0.917482</td>\n",
       "      <td>-0.682299</td>\n",
       "      <td>male</td>\n",
       "      <td>30s</td>\n",
       "      <td>0</td>\n",
       "    </tr>\n",
       "    <tr>\n",
       "      <th>3</th>\n",
       "      <td>0.916660</td>\n",
       "      <td>-0.682551</td>\n",
       "      <td>male</td>\n",
       "      <td>30s</td>\n",
       "      <td>0</td>\n",
       "    </tr>\n",
       "    <tr>\n",
       "      <th>4</th>\n",
       "      <td>0.886074</td>\n",
       "      <td>-0.668883</td>\n",
       "      <td>male</td>\n",
       "      <td>30s</td>\n",
       "      <td>0</td>\n",
       "    </tr>\n",
       "    <tr>\n",
       "      <th>...</th>\n",
       "      <td>...</td>\n",
       "      <td>...</td>\n",
       "      <td>...</td>\n",
       "      <td>...</td>\n",
       "      <td>...</td>\n",
       "    </tr>\n",
       "    <tr>\n",
       "      <th>6707</th>\n",
       "      <td>0.881500</td>\n",
       "      <td>-0.925307</td>\n",
       "      <td>male</td>\n",
       "      <td>40s</td>\n",
       "      <td>0</td>\n",
       "    </tr>\n",
       "    <tr>\n",
       "      <th>6708</th>\n",
       "      <td>-1.728784</td>\n",
       "      <td>1.470871</td>\n",
       "      <td>male</td>\n",
       "      <td>40s</td>\n",
       "      <td>0</td>\n",
       "    </tr>\n",
       "    <tr>\n",
       "      <th>6709</th>\n",
       "      <td>-1.548071</td>\n",
       "      <td>1.557316</td>\n",
       "      <td>male</td>\n",
       "      <td>40s</td>\n",
       "      <td>0</td>\n",
       "    </tr>\n",
       "    <tr>\n",
       "      <th>6710</th>\n",
       "      <td>-1.549392</td>\n",
       "      <td>1.555785</td>\n",
       "      <td>male</td>\n",
       "      <td>40s</td>\n",
       "      <td>0</td>\n",
       "    </tr>\n",
       "    <tr>\n",
       "      <th>6711</th>\n",
       "      <td>-1.548071</td>\n",
       "      <td>1.557316</td>\n",
       "      <td>male</td>\n",
       "      <td>40s</td>\n",
       "      <td>0</td>\n",
       "    </tr>\n",
       "  </tbody>\n",
       "</table>\n",
       "<p>6712 rows × 5 columns</p>\n",
       "</div>"
      ],
      "text/plain": [
       "      latitude  longitude   sex  age  state\n",
       "0     0.944157  -1.010655  male  50s      0\n",
       "1     0.889746  -0.694899  male  50s      0\n",
       "2     0.917482  -0.682299  male  30s      0\n",
       "3     0.916660  -0.682551  male  30s      0\n",
       "4     0.886074  -0.668883  male  30s      0\n",
       "...        ...        ...   ...  ...    ...\n",
       "6707  0.881500  -0.925307  male  40s      0\n",
       "6708 -1.728784   1.470871  male  40s      0\n",
       "6709 -1.548071   1.557316  male  40s      0\n",
       "6710 -1.549392   1.555785  male  40s      0\n",
       "6711 -1.548071   1.557316  male  40s      0\n",
       "\n",
       "[6712 rows x 5 columns]"
      ]
     },
     "execution_count": 6,
     "metadata": {},
     "output_type": "execute_result"
    }
   ],
   "source": [
    "X"
   ]
  },
  {
   "cell_type": "code",
   "execution_count": 7,
   "id": "fae34b71",
   "metadata": {},
   "outputs": [],
   "source": [
    "cat_columns = X.select_dtypes(['object']).columns"
   ]
  },
  {
   "cell_type": "code",
   "execution_count": 8,
   "id": "2665afce",
   "metadata": {},
   "outputs": [],
   "source": [
    "X[cat_columns] = X[cat_columns].apply(lambda x: x.astype('category'))"
   ]
  },
  {
   "cell_type": "code",
   "execution_count": 9,
   "id": "d27a984a",
   "metadata": {},
   "outputs": [],
   "source": [
    "categories = X[cat_columns].apply(lambda x: x.cat.categories)"
   ]
  },
  {
   "cell_type": "code",
   "execution_count": 10,
   "id": "a4ac0283",
   "metadata": {},
   "outputs": [],
   "source": [
    "X[cat_columns] = X[cat_columns].apply(lambda x: x.cat.codes)"
   ]
  },
  {
   "cell_type": "code",
   "execution_count": 11,
   "id": "eff95bf3",
   "metadata": {},
   "outputs": [
    {
     "data": {
      "text/plain": [
       "sex            Index(['female', 'male'], dtype='object')\n",
       "age    Index(['0s', '10s', '20s', '30s', '40s', '50s'...\n",
       "dtype: object"
      ]
     },
     "execution_count": 11,
     "metadata": {},
     "output_type": "execute_result"
    }
   ],
   "source": [
    "categories"
   ]
  },
  {
   "cell_type": "code",
   "execution_count": 12,
   "id": "56d124d1",
   "metadata": {},
   "outputs": [
    {
     "data": {
      "text/plain": [
       "0.4620083432657926"
      ]
     },
     "execution_count": 12,
     "metadata": {},
     "output_type": "execute_result"
    }
   ],
   "source": [
    "np.mean(X.sex)"
   ]
  },
  {
   "cell_type": "code",
   "execution_count": 13,
   "id": "f3054ffb",
   "metadata": {},
   "outputs": [
    {
     "data": {
      "image/png": "[encoded data removed]",
      "text/plain": [
       "<Figure size 640x480 with 1 Axes>"
      ]
     },
     "metadata": {},
     "output_type": "display_data"
    }
   ],
   "source": [
    "ax = X.age.plot.hist(grid=True, bins=10)\n",
    "ax.set_ylabel('Frequency', fontsize=12)\n",
    "ax.set_xlabel('Age Bins', fontsize=12)\n",
    "ax.set_xticks([0,1,2,3,4,5,6,7,8,9])\n",
    "ax.set_xticklabels(labels=categories['age'])\n",
    "plt.title(\"Frequency Distribution of Age Categories\")\n",
    "plt.show()"
   ]
  },
  {
   "cell_type": "markdown",
   "id": "6f62abff",
   "metadata": {},
   "source": [
    "***"
   ]
  },
  {
   "cell_type": "markdown",
   "id": "10a841b2",
   "metadata": {},
   "source": [
    "Create and save the training and holdout datasets."
   ]
  },
  {
   "cell_type": "code",
   "execution_count": 14,
   "id": "4efb4097",
   "metadata": {},
   "outputs": [],
   "source": [
    "shuffle_X = X.sample(frac=1.0, random_state=42).reset_index(drop=True)\n",
    "\n",
    "half = int(np.ceil(shuffle_X.shape[0]/2))\n",
    "\n",
    "train_data = shuffle_X.iloc[:half,:]\n",
    "holdout_data = shuffle_X.iloc[half:,:]"
   ]
  },
  {
   "cell_type": "code",
   "execution_count": 15,
   "id": "9d357e85",
   "metadata": {},
   "outputs": [],
   "source": [
    "train_data.to_csv(\"Data/synthetic_datasets/train_dataset.csv\", index=False)\n",
    "holdout_data.to_csv(\"Data/synthetic_datasets/holdout_dataset.csv\", index=False)"
   ]
  },
  {
   "cell_type": "markdown",
   "id": "6584fe74",
   "metadata": {},
   "source": [
    "***"
   ]
  },
  {
   "cell_type": "markdown",
   "id": "e53ef6c3",
   "metadata": {},
   "source": [
    "Testing logistic and multinomial logistic regression synthesizers."
   ]
  },
  {
   "cell_type": "code",
   "execution_count": 16,
   "id": "4ec5cee4",
   "metadata": {},
   "outputs": [],
   "source": [
    "def polynomial_and_standardize(dataset, poly_degree=3, interaction_only=False):\n",
    "    \n",
    "    poly = PolynomialFeatures(degree=poly_degree, interaction_only=interaction_only, include_bias=False)\n",
    "    \n",
    "    X = poly.fit_transform(dataset)\n",
    "    \n",
    "    scaled_X = preprocessing.StandardScaler().fit_transform(X)\n",
    "    \n",
    "    return scaled_X"
   ]
  },
  {
   "cell_type": "code",
   "execution_count": 17,
   "id": "2d47e962",
   "metadata": {},
   "outputs": [],
   "source": [
    "def multinomial_synthesizer(orig_data, synth_data_sets, target, penalty_param, poly_degree=3, interaction_only=False):\n",
    "    \n",
    "    mn_model = LogisticRegression(penalty='l1', C=penalty_param, solver='saga', max_iter=1000, multi_class='multinomial', random_state=rng)\n",
    "    \n",
    "    X = polynomial_and_standardize(dataset=orig_data, poly_degree=poly_degree, interaction_only=interaction_only)\n",
    "    \n",
    "    sXs = [polynomial_and_standardize(dataset=Y, poly_degree=poly_degree, interaction_only=interaction_only) for Y in synth_data_sets]\n",
    "    \n",
    "    vals = []\n",
    "    \n",
    "    mn_model.fit(X, target)\n",
    "    \n",
    "    rng_mn = default_rng()\n",
    "    \n",
    "    for Y in sXs:\n",
    "        \n",
    "        probs = mn_model.predict_proba(Y)\n",
    "    \n",
    "        v = [np.argmax(rng_mn.multinomial(n=1, pvals=p, size=1)==1) for p in probs]\n",
    "    \n",
    "        vals.append(pd.Series(v, name=target.name))\n",
    "    \n",
    "    return vals"
   ]
  },
  {
   "cell_type": "code",
   "execution_count": 18,
   "id": "6927923b",
   "metadata": {},
   "outputs": [],
   "source": [
    "def train_models_mn(#overall parameters\n",
    "                    train_data,\n",
    "                    number_synthetic_datasets,\n",
    "                    # hyperparameters for GMM, end with underscore means Bayesian optimization will choose\n",
    "                    number_gmm_initializations,\n",
    "                    num_components_,\n",
    "                    # hyperparameters for CART, end with underscore means Bayesian optimization will choose\n",
    "                    C_sex_,\n",
    "                    C_age_,\n",
    "                    C_state_):\n",
    "    \n",
    "    num_samples = train_data.shape[0]\n",
    "    \n",
    "    ########## Code for GMM ############\n",
    "    \n",
    "    # fit GMM model\n",
    "    GMM = GaussianMixture(num_components_, n_init=number_gmm_initializations, init_params=\"k-means++\", random_state=rng).fit(train_data.loc[:,[\"latitude\", \"longitude\"]])\n",
    "    \n",
    "    # list for synthetic datasets\n",
    "    sXs = []\n",
    "    \n",
    "    # generate and store number_synthetic_datasets synthetic datasets\n",
    "    for i in range(number_synthetic_datasets):\n",
    "        sX = GMM.sample(num_samples)[0]\n",
    "        sX = pd.DataFrame(sX)\n",
    "        sX.columns = ['latitude', 'longitude']\n",
    "        sXs.append(sX)\n",
    "        \n",
    "    ####################################################################################################\n",
    "        \n",
    "    ########### Code for sex MN ##########\n",
    "    \n",
    "    synth_sex_vars = multinomial_synthesizer(orig_data=train_data.loc[:,[\"latitude\", \"longitude\"]], \n",
    "                                             synth_data_sets=sXs, \n",
    "                                             target=train_data.sex, \n",
    "                                             penalty_param=C_sex_)\n",
    "    \n",
    "    sXs = [pd.concat([Y, synth_sex_vars[i]], axis=1) for i,Y in enumerate(sXs)]\n",
    "        \n",
    "    ####################################################################################################\n",
    "        \n",
    "    ########### Code for age MN ##########\n",
    "    \n",
    "    synth_age_vars = multinomial_synthesizer(orig_data=train_data.loc[:,[\"latitude\", \"longitude\", \"sex\"]], \n",
    "                                             synth_data_sets=sXs, \n",
    "                                             target=train_data.age, \n",
    "                                             penalty_param=C_age_)\n",
    "    \n",
    "    sXs = [pd.concat([Y, synth_age_vars[i]], axis=1) for i,Y in enumerate(sXs)]\n",
    "        \n",
    "    ####################################################################################################\n",
    "    \n",
    "    ########### Code for state MN ##########\n",
    "    \n",
    "    synth_state_vars = multinomial_synthesizer(orig_data=train_data.loc[:,[\"latitude\", \"longitude\", \"sex\", \"age\"]], \n",
    "                                               synth_data_sets=sXs, \n",
    "                                               target=train_data.state, \n",
    "                                               penalty_param=C_state_)\n",
    "    \n",
    "    sXs = [pd.concat([Y, synth_state_vars[i]], axis=1) for i,Y in enumerate(sXs)]\n",
    "        \n",
    "    ###### Calculate pMSE ratios ######\n",
    "    pmse_ratios = [pmse_ratio(train_data, Y) for Y in sXs]\n",
    "    # pmse_ratios = cart_pmse_ratio(train_data, sXs)\n",
    "    \n",
    "    return pmse_ratios, sXs, GMM"
   ]
  },
  {
   "cell_type": "code",
   "execution_count": 19,
   "id": "51b65e19",
   "metadata": {},
   "outputs": [],
   "source": [
    "def optimize_models_mn(train_data,\n",
    "                       number_synthetic_datasets,\n",
    "                       number_gmm_initializations,\n",
    "                       random_state):\n",
    "\n",
    "    def evaluate_models(num_components_, C_sex_, C_age_, C_state_):\n",
    "\n",
    "        pmse_ratios, _, _ = train_models_mn(train_data=train_data,\n",
    "                                            number_synthetic_datasets=number_synthetic_datasets,\n",
    "                                            number_gmm_initializations=number_gmm_initializations,\n",
    "                                            num_components_=int(num_components_),\n",
    "                                            C_sex_=C_sex_,\n",
    "                                            C_age_=C_age_,\n",
    "                                            C_state_=C_state_)\n",
    "        \n",
    "        return -1 * ((1 - np.mean(pmse_ratios))**2)\n",
    "\n",
    "    optimizer = BayesianOptimization(\n",
    "        f=evaluate_models,\n",
    "        pbounds={\n",
    "            \"num_components_\": (200, 800.99),\n",
    "            \"C_sex_\": (0.001, 1),\n",
    "            \"C_age_\": (0.001, 1),\n",
    "            \"C_state_\": (0.001, 1)\n",
    "        },\n",
    "        random_state=random_state)\n",
    "    \n",
    "    utility = UtilityFunction(kind=\"ei\", xi=1e-02)\n",
    "    optimizer.set_gp_params(alpha=1e-3)\n",
    "    optimizer.maximize(init_points=5, n_iter=25, acquisition_function=utility)\n",
    "    print(\"Final Result: \", optimizer.max)\n",
    "    return optimizer.max, optimizer"
   ]
  },
  {
   "cell_type": "markdown",
   "id": "4d4d62c3",
   "metadata": {},
   "source": [
    "The default value for $\\alpha = 1e-06$."
   ]
  },
  {
   "cell_type": "code",
   "execution_count": 20,
   "id": "13b295a6",
   "metadata": {},
   "outputs": [],
   "source": [
    "nsd = 20\n",
    "ngi = 5\n",
    "random_states = [np.random.RandomState(1234), np.random.RandomState(4321), np.random.RandomState(10620), np.random.RandomState(91695), np.random.RandomState(31296)]\n",
    "# random_states = [np.random.RandomState(1234)]"
   ]
  },
  {
   "cell_type": "code",
   "execution_count": 21,
   "id": "93c78ab1",
   "metadata": {},
   "outputs": [
    {
     "name": "stdout",
     "output_type": "stream",
     "text": [
      "|   iter    |  target   |  C_age_   |  C_sex_   | C_state_  | num_co... |\n",
      "-------------------------------------------------------------------------\n",
      "| \u001b[0m1        \u001b[0m | \u001b[0m-0.06606 \u001b[0m | \u001b[0m0.1923   \u001b[0m | \u001b[0m0.6225   \u001b[0m | \u001b[0m0.4383   \u001b[0m | \u001b[0m672.0    \u001b[0m |\n"
     ]
    },
    {
     "name": "stderr",
     "output_type": "stream",
     "text": [
      "C:\\Users\\Cameron\\anaconda3\\lib\\site-packages\\sklearn\\linear_model\\_sag.py:350: ConvergenceWarning: The max_iter was reached which means the coef_ did not converge\n",
      "  warnings.warn(\n"
     ]
    },
    {
     "name": "stdout",
     "output_type": "stream",
     "text": [
      "| \u001b[0m2        \u001b[0m | \u001b[0m-0.106   \u001b[0m | \u001b[0m0.7802   \u001b[0m | \u001b[0m0.2733   \u001b[0m | \u001b[0m0.2772   \u001b[0m | \u001b[0m681.9    \u001b[0m |\n"
     ]
    },
    {
     "name": "stderr",
     "output_type": "stream",
     "text": [
      "C:\\Users\\Cameron\\anaconda3\\lib\\site-packages\\sklearn\\linear_model\\_sag.py:350: ConvergenceWarning: The max_iter was reached which means the coef_ did not converge\n",
      "  warnings.warn(\n",
      "C:\\Users\\Cameron\\anaconda3\\lib\\site-packages\\sklearn\\linear_model\\_logistic.py:458: ConvergenceWarning: lbfgs failed to converge (status=1):\n",
      "STOP: TOTAL NO. of ITERATIONS REACHED LIMIT.\n",
      "\n",
      "Increase the number of iterations (max_iter) or scale the data as shown in:\n",
      "    https://scikit-learn.org/stable/modules/preprocessing.html\n",
      "Please also refer to the documentation for alternative solver options:\n",
      "    https://scikit-learn.org/stable/modules/linear_model.html#logistic-regression\n",
      "  n_iter_i = _check_optimize_result(\n"
     ]
    },
    {
     "name": "stdout",
     "output_type": "stream",
     "text": [
      "| \u001b[0m3        \u001b[0m | \u001b[0m-0.1094  \u001b[0m | \u001b[0m0.9582   \u001b[0m | \u001b[0m0.8761   \u001b[0m | \u001b[0m0.3585   \u001b[0m | \u001b[0m501.1    \u001b[0m |\n",
      "| \u001b[0m4        \u001b[0m | \u001b[0m-0.1363  \u001b[0m | \u001b[0m0.6838   \u001b[0m | \u001b[0m0.713    \u001b[0m | \u001b[0m0.3709   \u001b[0m | \u001b[0m537.3    \u001b[0m |\n",
      "| \u001b[95m5        \u001b[0m | \u001b[95m-0.05856 \u001b[0m | \u001b[95m0.5036   \u001b[0m | \u001b[95m0.01475  \u001b[0m | \u001b[95m0.7731   \u001b[0m | \u001b[95m730.5    \u001b[0m |\n",
      "| \u001b[95m6        \u001b[0m | \u001b[95m-0.02778 \u001b[0m | \u001b[95m0.115    \u001b[0m | \u001b[95m0.6913   \u001b[0m | \u001b[95m0.2686   \u001b[0m | \u001b[95m672.2    \u001b[0m |\n"
     ]
    },
    {
     "name": "stderr",
     "output_type": "stream",
     "text": [
      "C:\\Users\\Cameron\\anaconda3\\lib\\site-packages\\sklearn\\linear_model\\_sag.py:350: ConvergenceWarning: The max_iter was reached which means the coef_ did not converge\n",
      "  warnings.warn(\n"
     ]
    },
    {
     "name": "stdout",
     "output_type": "stream",
     "text": [
      "| \u001b[0m7        \u001b[0m | \u001b[0m-0.1112  \u001b[0m | \u001b[0m0.9763   \u001b[0m | \u001b[0m0.1497   \u001b[0m | \u001b[0m0.462    \u001b[0m | \u001b[0m495.7    \u001b[0m |\n",
      "| \u001b[0m8        \u001b[0m | \u001b[0m-0.116   \u001b[0m | \u001b[0m0.3244   \u001b[0m | \u001b[0m0.747    \u001b[0m | \u001b[0m0.5125   \u001b[0m | \u001b[0m672.4    \u001b[0m |\n",
      "| \u001b[95m9        \u001b[0m | \u001b[95m-0.0132  \u001b[0m | \u001b[95m0.1331   \u001b[0m | \u001b[95m0.6709   \u001b[0m | \u001b[95m0.09145  \u001b[0m | \u001b[95m672.5    \u001b[0m |\n",
      "| \u001b[0m10       \u001b[0m | \u001b[0m-0.03449 \u001b[0m | \u001b[0m0.4215   \u001b[0m | \u001b[0m0.7671   \u001b[0m | \u001b[0m0.07766  \u001b[0m | \u001b[0m672.9    \u001b[0m |\n",
      "| \u001b[0m11       \u001b[0m | \u001b[0m-0.06485 \u001b[0m | \u001b[0m0.2861   \u001b[0m | \u001b[0m0.4143   \u001b[0m | \u001b[0m0.1214   \u001b[0m | \u001b[0m672.6    \u001b[0m |\n",
      "| \u001b[0m12       \u001b[0m | \u001b[0m-0.1675  \u001b[0m | \u001b[0m0.3857   \u001b[0m | \u001b[0m0.608    \u001b[0m | \u001b[0m0.6615   \u001b[0m | \u001b[0m687.0    \u001b[0m |\n"
     ]
    },
    {
     "name": "stderr",
     "output_type": "stream",
     "text": [
      "C:\\Users\\Cameron\\anaconda3\\lib\\site-packages\\sklearn\\linear_model\\_sag.py:350: ConvergenceWarning: The max_iter was reached which means the coef_ did not converge\n",
      "  warnings.warn(\n"
     ]
    },
    {
     "name": "stdout",
     "output_type": "stream",
     "text": [
      "| \u001b[0m13       \u001b[0m | \u001b[0m-0.117   \u001b[0m | \u001b[0m0.8675   \u001b[0m | \u001b[0m0.808    \u001b[0m | \u001b[0m0.5947   \u001b[0m | \u001b[0m216.3    \u001b[0m |\n",
      "| \u001b[0m14       \u001b[0m | \u001b[0m-0.3935  \u001b[0m | \u001b[0m0.4088   \u001b[0m | \u001b[0m0.2138   \u001b[0m | \u001b[0m0.007441 \u001b[0m | \u001b[0m672.0    \u001b[0m |\n",
      "| \u001b[0m15       \u001b[0m | \u001b[0m-0.07556 \u001b[0m | \u001b[0m0.4989   \u001b[0m | \u001b[0m0.4481   \u001b[0m | \u001b[0m0.1825   \u001b[0m | \u001b[0m746.1    \u001b[0m |\n",
      "| \u001b[0m16       \u001b[0m | \u001b[0m-0.1303  \u001b[0m | \u001b[0m0.4831   \u001b[0m | \u001b[0m0.9274   \u001b[0m | \u001b[0m0.4382   \u001b[0m | \u001b[0m673.1    \u001b[0m |\n",
      "| \u001b[0m17       \u001b[0m | \u001b[0m-0.01879 \u001b[0m | \u001b[0m0.2157   \u001b[0m | \u001b[0m0.8659   \u001b[0m | \u001b[0m0.03924  \u001b[0m | \u001b[0m672.0    \u001b[0m |\n",
      "| \u001b[0m18       \u001b[0m | \u001b[0m-0.1342  \u001b[0m | \u001b[0m0.4067   \u001b[0m | \u001b[0m0.2443   \u001b[0m | \u001b[0m0.7712   \u001b[0m | \u001b[0m730.8    \u001b[0m |\n",
      "| \u001b[0m19       \u001b[0m | \u001b[0m-0.04222 \u001b[0m | \u001b[0m0.1119   \u001b[0m | \u001b[0m0.8626   \u001b[0m | \u001b[0m0.1592   \u001b[0m | \u001b[0m673.1    \u001b[0m |\n"
     ]
    },
    {
     "name": "stderr",
     "output_type": "stream",
     "text": [
      "C:\\Users\\Cameron\\anaconda3\\lib\\site-packages\\sklearn\\linear_model\\_sag.py:350: ConvergenceWarning: The max_iter was reached which means the coef_ did not converge\n",
      "  warnings.warn(\n"
     ]
    },
    {
     "name": "stdout",
     "output_type": "stream",
     "text": [
      "| \u001b[0m20       \u001b[0m | \u001b[0m-0.07336 \u001b[0m | \u001b[0m0.9792   \u001b[0m | \u001b[0m0.9668   \u001b[0m | \u001b[0m0.8903   \u001b[0m | \u001b[0m650.3    \u001b[0m |\n",
      "| \u001b[0m21       \u001b[0m | \u001b[0m-0.1106  \u001b[0m | \u001b[0m0.5032   \u001b[0m | \u001b[0m0.1146   \u001b[0m | \u001b[0m0.8056   \u001b[0m | \u001b[0m683.9    \u001b[0m |\n",
      "| \u001b[0m22       \u001b[0m | \u001b[0m-0.07821 \u001b[0m | \u001b[0m0.1857   \u001b[0m | \u001b[0m0.9014   \u001b[0m | \u001b[0m0.9542   \u001b[0m | \u001b[0m571.6    \u001b[0m |\n",
      "| \u001b[0m23       \u001b[0m | \u001b[0m-0.09774 \u001b[0m | \u001b[0m0.2831   \u001b[0m | \u001b[0m0.5485   \u001b[0m | \u001b[0m0.4404   \u001b[0m | \u001b[0m671.9    \u001b[0m |\n",
      "| \u001b[0m24       \u001b[0m | \u001b[0m-0.04478 \u001b[0m | \u001b[0m0.1228   \u001b[0m | \u001b[0m0.8938   \u001b[0m | \u001b[0m0.3667   \u001b[0m | \u001b[0m672.2    \u001b[0m |\n"
     ]
    },
    {
     "name": "stderr",
     "output_type": "stream",
     "text": [
      "C:\\Users\\Cameron\\anaconda3\\lib\\site-packages\\sklearn\\linear_model\\_sag.py:350: ConvergenceWarning: The max_iter was reached which means the coef_ did not converge\n",
      "  warnings.warn(\n"
     ]
    },
    {
     "name": "stdout",
     "output_type": "stream",
     "text": [
      "| \u001b[0m25       \u001b[0m | \u001b[0m-0.1348  \u001b[0m | \u001b[0m0.76     \u001b[0m | \u001b[0m0.2593   \u001b[0m | \u001b[0m0.7162   \u001b[0m | \u001b[0m729.8    \u001b[0m |\n"
     ]
    },
    {
     "name": "stderr",
     "output_type": "stream",
     "text": [
      "C:\\Users\\Cameron\\anaconda3\\lib\\site-packages\\sklearn\\linear_model\\_sag.py:350: ConvergenceWarning: The max_iter was reached which means the coef_ did not converge\n",
      "  warnings.warn(\n"
     ]
    },
    {
     "name": "stdout",
     "output_type": "stream",
     "text": [
      "| \u001b[0m26       \u001b[0m | \u001b[0m-0.07175 \u001b[0m | \u001b[0m0.8436   \u001b[0m | \u001b[0m0.7555   \u001b[0m | \u001b[0m0.2184   \u001b[0m | \u001b[0m350.2    \u001b[0m |\n",
      "| \u001b[0m27       \u001b[0m | \u001b[0m-1.419   \u001b[0m | \u001b[0m0.129    \u001b[0m | \u001b[0m0.7675   \u001b[0m | \u001b[0m0.001    \u001b[0m | \u001b[0m672.8    \u001b[0m |\n",
      "| \u001b[0m28       \u001b[0m | \u001b[0m-0.08266 \u001b[0m | \u001b[0m0.6641   \u001b[0m | \u001b[0m0.2081   \u001b[0m | \u001b[0m0.1172   \u001b[0m | \u001b[0m239.8    \u001b[0m |\n"
     ]
    },
    {
     "name": "stderr",
     "output_type": "stream",
     "text": [
      "C:\\Users\\Cameron\\anaconda3\\lib\\site-packages\\sklearn\\linear_model\\_sag.py:350: ConvergenceWarning: The max_iter was reached which means the coef_ did not converge\n",
      "  warnings.warn(\n"
     ]
    },
    {
     "name": "stdout",
     "output_type": "stream",
     "text": [
      "| \u001b[0m29       \u001b[0m | \u001b[0m-0.1122  \u001b[0m | \u001b[0m0.9084   \u001b[0m | \u001b[0m0.8579   \u001b[0m | \u001b[0m0.3945   \u001b[0m | \u001b[0m252.6    \u001b[0m |\n",
      "| \u001b[0m30       \u001b[0m | \u001b[0m-0.08799 \u001b[0m | \u001b[0m0.3356   \u001b[0m | \u001b[0m0.6278   \u001b[0m | \u001b[0m0.3401   \u001b[0m | \u001b[0m671.8    \u001b[0m |\n",
      "=========================================================================\n",
      "Final Result:  {'target': -0.013203329343496044, 'params': {'C_age_': 0.13307222020322645, 'C_sex_': 0.6708582978486902, 'C_state_': 0.09144742148020141, 'num_components_': 672.5069471463154}}\n",
      "|   iter    |  target   |  C_age_   |  C_sex_   | C_state_  | num_co... |\n",
      "-------------------------------------------------------------------------\n",
      "| \u001b[0m1        \u001b[0m | \u001b[0m-0.0245  \u001b[0m | \u001b[0m0.07173  \u001b[0m | \u001b[0m0.8152   \u001b[0m | \u001b[0m0.7681   \u001b[0m | \u001b[0m372.1    \u001b[0m |\n",
      "| \u001b[0m2        \u001b[0m | \u001b[0m-0.06442 \u001b[0m | \u001b[0m0.1939   \u001b[0m | \u001b[0m0.9789   \u001b[0m | \u001b[0m0.4068   \u001b[0m | \u001b[0m655.4    \u001b[0m |\n",
      "| \u001b[0m3        \u001b[0m | \u001b[0m-0.02589 \u001b[0m | \u001b[0m0.09006  \u001b[0m | \u001b[0m0.3106   \u001b[0m | \u001b[0m0.6193   \u001b[0m | \u001b[0m476.4    \u001b[0m |\n",
      "| \u001b[0m4        \u001b[0m | \u001b[0m-0.07747 \u001b[0m | \u001b[0m0.2191   \u001b[0m | \u001b[0m0.6639   \u001b[0m | \u001b[0m0.679    \u001b[0m | \u001b[0m771.1    \u001b[0m |\n",
      "| \u001b[0m5        \u001b[0m | \u001b[0m-0.1042  \u001b[0m | \u001b[0m0.282    \u001b[0m | \u001b[0m0.6202   \u001b[0m | \u001b[0m0.3839   \u001b[0m | \u001b[0m440.6    \u001b[0m |\n",
      "| \u001b[0m6        \u001b[0m | \u001b[0m-0.05431 \u001b[0m | \u001b[0m0.1199   \u001b[0m | \u001b[0m0.1293   \u001b[0m | \u001b[0m0.7899   \u001b[0m | \u001b[0m372.6    \u001b[0m |\n",
      "| \u001b[0m7        \u001b[0m | \u001b[0m-0.1416  \u001b[0m | \u001b[0m0.6152   \u001b[0m | \u001b[0m0.8356   \u001b[0m | \u001b[0m0.757    \u001b[0m | \u001b[0m371.8    \u001b[0m |\n",
      "| \u001b[0m8        \u001b[0m | \u001b[0m-0.03434 \u001b[0m | \u001b[0m0.1215   \u001b[0m | \u001b[0m0.3463   \u001b[0m | \u001b[0m0.2515   \u001b[0m | \u001b[0m618.7    \u001b[0m |\n",
      "| \u001b[0m9        \u001b[0m | \u001b[0m-0.05513 \u001b[0m | \u001b[0m0.1027   \u001b[0m | \u001b[0m0.6133   \u001b[0m | \u001b[0m0.2445   \u001b[0m | \u001b[0m338.0    \u001b[0m |\n",
      "| \u001b[0m10       \u001b[0m | \u001b[0m-0.1035  \u001b[0m | \u001b[0m0.3065   \u001b[0m | \u001b[0m0.7061   \u001b[0m | \u001b[0m0.6145   \u001b[0m | \u001b[0m392.6    \u001b[0m |\n",
      "| \u001b[0m11       \u001b[0m | \u001b[0m-0.09839 \u001b[0m | \u001b[0m0.3261   \u001b[0m | \u001b[0m0.8303   \u001b[0m | \u001b[0m0.8633   \u001b[0m | \u001b[0m572.0    \u001b[0m |\n"
     ]
    },
    {
     "name": "stderr",
     "output_type": "stream",
     "text": [
      "C:\\Users\\Cameron\\anaconda3\\lib\\site-packages\\sklearn\\linear_model\\_logistic.py:458: ConvergenceWarning: lbfgs failed to converge (status=1):\n",
      "STOP: TOTAL NO. of ITERATIONS REACHED LIMIT.\n",
      "\n",
      "Increase the number of iterations (max_iter) or scale the data as shown in:\n",
      "    https://scikit-learn.org/stable/modules/preprocessing.html\n",
      "Please also refer to the documentation for alternative solver options:\n",
      "    https://scikit-learn.org/stable/modules/linear_model.html#logistic-regression\n",
      "  n_iter_i = _check_optimize_result(\n"
     ]
    },
    {
     "name": "stdout",
     "output_type": "stream",
     "text": [
      "| \u001b[0m12       \u001b[0m | \u001b[0m-0.1133  \u001b[0m | \u001b[0m0.5818   \u001b[0m | \u001b[0m0.4483   \u001b[0m | \u001b[0m0.2489   \u001b[0m | \u001b[0m319.9    \u001b[0m |\n",
      "| \u001b[0m13       \u001b[0m | \u001b[0m-0.09163 \u001b[0m | \u001b[0m0.5698   \u001b[0m | \u001b[0m0.4817   \u001b[0m | \u001b[0m0.938    \u001b[0m | \u001b[0m706.1    \u001b[0m |\n",
      "| \u001b[0m14       \u001b[0m | \u001b[0m-0.07521 \u001b[0m | \u001b[0m0.2265   \u001b[0m | \u001b[0m0.6123   \u001b[0m | \u001b[0m0.0797   \u001b[0m | \u001b[0m783.8    \u001b[0m |\n",
      "| \u001b[95m15       \u001b[0m | \u001b[95m-0.001674\u001b[0m | \u001b[95m0.439    \u001b[0m | \u001b[95m0.5917   \u001b[0m | \u001b[95m0.02444  \u001b[0m | \u001b[95m498.6    \u001b[0m |\n",
      "| \u001b[0m16       \u001b[0m | \u001b[0m-0.08099 \u001b[0m | \u001b[0m0.5142   \u001b[0m | \u001b[0m0.7096   \u001b[0m | \u001b[0m0.343    \u001b[0m | \u001b[0m764.2    \u001b[0m |\n",
      "| \u001b[0m17       \u001b[0m | \u001b[0m-0.08342 \u001b[0m | \u001b[0m0.5681   \u001b[0m | \u001b[0m0.9739   \u001b[0m | \u001b[0m0.5875   \u001b[0m | \u001b[0m638.4    \u001b[0m |\n",
      "| \u001b[0m18       \u001b[0m | \u001b[0m-0.03295 \u001b[0m | \u001b[0m0.2302   \u001b[0m | \u001b[0m0.6514   \u001b[0m | \u001b[0m0.07405  \u001b[0m | \u001b[0m762.8    \u001b[0m |\n",
      "| \u001b[0m19       \u001b[0m | \u001b[0m-0.08523 \u001b[0m | \u001b[0m0.4624   \u001b[0m | \u001b[0m0.8952   \u001b[0m | \u001b[0m0.4357   \u001b[0m | \u001b[0m478.8    \u001b[0m |\n",
      "| \u001b[0m20       \u001b[0m | \u001b[0m-0.2621  \u001b[0m | \u001b[0m0.02472  \u001b[0m | \u001b[0m0.4846   \u001b[0m | \u001b[0m0.7088   \u001b[0m | \u001b[0m208.1    \u001b[0m |\n",
      "| \u001b[0m21       \u001b[0m | \u001b[0m-0.5094  \u001b[0m | \u001b[0m0.02411  \u001b[0m | \u001b[0m0.7833   \u001b[0m | \u001b[0m0.06414  \u001b[0m | \u001b[0m524.2    \u001b[0m |\n",
      "| \u001b[0m22       \u001b[0m | \u001b[0m-0.07054 \u001b[0m | \u001b[0m0.407    \u001b[0m | \u001b[0m0.3242   \u001b[0m | \u001b[0m0.09901  \u001b[0m | \u001b[0m285.1    \u001b[0m |\n",
      "| \u001b[0m23       \u001b[0m | \u001b[0m-0.03859 \u001b[0m | \u001b[0m0.6887   \u001b[0m | \u001b[0m0.03302  \u001b[0m | \u001b[0m0.6651   \u001b[0m | \u001b[0m514.9    \u001b[0m |\n",
      "| \u001b[0m24       \u001b[0m | \u001b[0m-0.1105  \u001b[0m | \u001b[0m0.4009   \u001b[0m | \u001b[0m0.1132   \u001b[0m | \u001b[0m0.289    \u001b[0m | \u001b[0m277.5    \u001b[0m |\n",
      "| \u001b[0m25       \u001b[0m | \u001b[0m-0.08739 \u001b[0m | \u001b[0m0.3324   \u001b[0m | \u001b[0m0.7969   \u001b[0m | \u001b[0m0.4568   \u001b[0m | \u001b[0m356.3    \u001b[0m |\n",
      "| \u001b[0m26       \u001b[0m | \u001b[0m-0.1341  \u001b[0m | \u001b[0m0.4871   \u001b[0m | \u001b[0m0.9835   \u001b[0m | \u001b[0m0.5021   \u001b[0m | \u001b[0m358.4    \u001b[0m |\n",
      "| \u001b[0m27       \u001b[0m | \u001b[0m-0.07504 \u001b[0m | \u001b[0m0.3668   \u001b[0m | \u001b[0m0.08044  \u001b[0m | \u001b[0m0.2743   \u001b[0m | \u001b[0m515.6    \u001b[0m |\n",
      "| \u001b[0m28       \u001b[0m | \u001b[0m-0.09013 \u001b[0m | \u001b[0m0.6257   \u001b[0m | \u001b[0m0.775    \u001b[0m | \u001b[0m0.1899   \u001b[0m | \u001b[0m498.0    \u001b[0m |\n"
     ]
    },
    {
     "name": "stderr",
     "output_type": "stream",
     "text": [
      "C:\\Users\\Cameron\\anaconda3\\lib\\site-packages\\sklearn\\linear_model\\_sag.py:350: ConvergenceWarning: The max_iter was reached which means the coef_ did not converge\n",
      "  warnings.warn(\n"
     ]
    },
    {
     "name": "stdout",
     "output_type": "stream",
     "text": [
      "| \u001b[0m29       \u001b[0m | \u001b[0m-0.09517 \u001b[0m | \u001b[0m0.9519   \u001b[0m | \u001b[0m0.218    \u001b[0m | \u001b[0m0.3618   \u001b[0m | \u001b[0m454.4    \u001b[0m |\n",
      "| \u001b[0m30       \u001b[0m | \u001b[0m-0.07627 \u001b[0m | \u001b[0m0.7419   \u001b[0m | \u001b[0m0.2986   \u001b[0m | \u001b[0m0.9169   \u001b[0m | \u001b[0m676.4    \u001b[0m |\n",
      "=========================================================================\n",
      "Final Result:  {'target': -0.0016744010973787982, 'params': {'C_age_': 0.43901462089024973, 'C_sex_': 0.5917466622967009, 'C_state_': 0.02443781792885933, 'num_components_': 498.55909961264325}}\n",
      "|   iter    |  target   |  C_age_   |  C_sex_   | C_state_  | num_co... |\n",
      "-------------------------------------------------------------------------\n",
      "| \u001b[0m1        \u001b[0m | \u001b[0m-0.0712  \u001b[0m | \u001b[0m0.5169   \u001b[0m | \u001b[0m0.3209   \u001b[0m | \u001b[0m0.169    \u001b[0m | \u001b[0m231.5    \u001b[0m |\n"
     ]
    },
    {
     "name": "stderr",
     "output_type": "stream",
     "text": [
      "C:\\Users\\Cameron\\anaconda3\\lib\\site-packages\\sklearn\\linear_model\\_sag.py:350: ConvergenceWarning: The max_iter was reached which means the coef_ did not converge\n",
      "  warnings.warn(\n"
     ]
    },
    {
     "name": "stdout",
     "output_type": "stream",
     "text": [
      "| \u001b[95m2        \u001b[0m | \u001b[95m-0.05953 \u001b[0m | \u001b[95m0.9317   \u001b[0m | \u001b[95m0.05982  \u001b[0m | \u001b[95m0.4362   \u001b[0m | \u001b[95m214.9    \u001b[0m |\n",
      "| \u001b[0m3        \u001b[0m | \u001b[0m-0.1223  \u001b[0m | \u001b[0m0.492    \u001b[0m | \u001b[0m0.7016   \u001b[0m | \u001b[0m0.7721   \u001b[0m | \u001b[0m441.7    \u001b[0m |\n"
     ]
    },
    {
     "name": "stderr",
     "output_type": "stream",
     "text": [
      "C:\\Users\\Cameron\\anaconda3\\lib\\site-packages\\sklearn\\linear_model\\_sag.py:350: ConvergenceWarning: The max_iter was reached which means the coef_ did not converge\n",
      "  warnings.warn(\n"
     ]
    },
    {
     "name": "stdout",
     "output_type": "stream",
     "text": [
      "| \u001b[0m4        \u001b[0m | \u001b[0m-0.07398 \u001b[0m | \u001b[0m0.9199   \u001b[0m | \u001b[0m0.5447   \u001b[0m | \u001b[0m0.6874   \u001b[0m | \u001b[0m348.1    \u001b[0m |\n",
      "| \u001b[0m5        \u001b[0m | \u001b[0m-0.06057 \u001b[0m | \u001b[0m0.245    \u001b[0m | \u001b[0m0.5641   \u001b[0m | \u001b[0m0.2667   \u001b[0m | \u001b[0m341.4    \u001b[0m |\n",
      "| \u001b[0m6        \u001b[0m | \u001b[0m-1.787   \u001b[0m | \u001b[0m0.01302  \u001b[0m | \u001b[0m0.2447   \u001b[0m | \u001b[0m0.05875  \u001b[0m | \u001b[0m326.0    \u001b[0m |\n",
      "| \u001b[0m7        \u001b[0m | \u001b[0m-0.1092  \u001b[0m | \u001b[0m0.6783   \u001b[0m | \u001b[0m0.7638   \u001b[0m | \u001b[0m0.7984   \u001b[0m | \u001b[0m223.0    \u001b[0m |\n"
     ]
    },
    {
     "name": "stderr",
     "output_type": "stream",
     "text": [
      "C:\\Users\\Cameron\\anaconda3\\lib\\site-packages\\sklearn\\linear_model\\_sag.py:350: ConvergenceWarning: The max_iter was reached which means the coef_ did not converge\n",
      "  warnings.warn(\n",
      "C:\\Users\\Cameron\\anaconda3\\lib\\site-packages\\sklearn\\linear_model\\_sag.py:350: ConvergenceWarning: The max_iter was reached which means the coef_ did not converge\n",
      "  warnings.warn(\n"
     ]
    },
    {
     "name": "stdout",
     "output_type": "stream",
     "text": [
      "| \u001b[0m8        \u001b[0m | \u001b[0m-0.08477 \u001b[0m | \u001b[0m0.9609   \u001b[0m | \u001b[0m0.7465   \u001b[0m | \u001b[0m0.9868   \u001b[0m | \u001b[0m215.7    \u001b[0m |\n",
      "| \u001b[0m9        \u001b[0m | \u001b[0m-21.22   \u001b[0m | \u001b[0m0.001    \u001b[0m | \u001b[0m0.001    \u001b[0m | \u001b[0m0.001    \u001b[0m | \u001b[0m200.8    \u001b[0m |\n",
      "| \u001b[95m10       \u001b[0m | \u001b[95m-0.01963 \u001b[0m | \u001b[95m0.2929   \u001b[0m | \u001b[95m0.7922   \u001b[0m | \u001b[95m0.03231  \u001b[0m | \u001b[95m428.9    \u001b[0m |\n"
     ]
    },
    {
     "name": "stderr",
     "output_type": "stream",
     "text": [
      "C:\\Users\\Cameron\\anaconda3\\lib\\site-packages\\sklearn\\linear_model\\_sag.py:350: ConvergenceWarning: The max_iter was reached which means the coef_ did not converge\n",
      "  warnings.warn(\n"
     ]
    },
    {
     "name": "stdout",
     "output_type": "stream",
     "text": [
      "| \u001b[0m11       \u001b[0m | \u001b[0m-1.815   \u001b[0m | \u001b[0m1.0      \u001b[0m | \u001b[0m0.001    \u001b[0m | \u001b[0m0.001    \u001b[0m | \u001b[0m245.9    \u001b[0m |\n"
     ]
    },
    {
     "name": "stderr",
     "output_type": "stream",
     "text": [
      "C:\\Users\\Cameron\\anaconda3\\lib\\site-packages\\sklearn\\linear_model\\_sag.py:350: ConvergenceWarning: The max_iter was reached which means the coef_ did not converge\n",
      "  warnings.warn(\n",
      "C:\\Users\\Cameron\\anaconda3\\lib\\site-packages\\sklearn\\linear_model\\_sag.py:350: ConvergenceWarning: The max_iter was reached which means the coef_ did not converge\n",
      "  warnings.warn(\n"
     ]
    },
    {
     "name": "stdout",
     "output_type": "stream",
     "text": [
      "| \u001b[95m12       \u001b[0m | \u001b[95m-0.01561 \u001b[0m | \u001b[95m1.0      \u001b[0m | \u001b[95m0.001    \u001b[0m | \u001b[95m1.0      \u001b[0m | \u001b[95m415.1    \u001b[0m |\n",
      "| \u001b[0m13       \u001b[0m | \u001b[0m-14.94   \u001b[0m | \u001b[0m0.001    \u001b[0m | \u001b[0m1.0      \u001b[0m | \u001b[0m0.001    \u001b[0m | \u001b[0m401.6    \u001b[0m |\n",
      "| \u001b[0m14       \u001b[0m | \u001b[0m-0.1371  \u001b[0m | \u001b[0m0.5617   \u001b[0m | \u001b[0m0.4581   \u001b[0m | \u001b[0m0.8509   \u001b[0m | \u001b[0m420.7    \u001b[0m |\n",
      "| \u001b[0m15       \u001b[0m | \u001b[0m-34.32   \u001b[0m | \u001b[0m0.001    \u001b[0m | \u001b[0m1.0      \u001b[0m | \u001b[0m0.001    \u001b[0m | \u001b[0m455.4    \u001b[0m |\n"
     ]
    },
    {
     "name": "stderr",
     "output_type": "stream",
     "text": [
      "C:\\Users\\Cameron\\anaconda3\\lib\\site-packages\\sklearn\\linear_model\\_sag.py:350: ConvergenceWarning: The max_iter was reached which means the coef_ did not converge\n",
      "  warnings.warn(\n",
      "C:\\Users\\Cameron\\anaconda3\\lib\\site-packages\\sklearn\\linear_model\\_logistic.py:458: ConvergenceWarning: lbfgs failed to converge (status=1):\n",
      "STOP: TOTAL NO. of ITERATIONS REACHED LIMIT.\n",
      "\n",
      "Increase the number of iterations (max_iter) or scale the data as shown in:\n",
      "    https://scikit-learn.org/stable/modules/preprocessing.html\n",
      "Please also refer to the documentation for alternative solver options:\n",
      "    https://scikit-learn.org/stable/modules/linear_model.html#logistic-regression\n",
      "  n_iter_i = _check_optimize_result(\n"
     ]
    },
    {
     "name": "stdout",
     "output_type": "stream",
     "text": [
      "| \u001b[0m16       \u001b[0m | \u001b[0m-0.07262 \u001b[0m | \u001b[0m0.8577   \u001b[0m | \u001b[0m0.1029   \u001b[0m | \u001b[0m0.7849   \u001b[0m | \u001b[0m436.5    \u001b[0m |\n",
      "| \u001b[0m17       \u001b[0m | \u001b[0m-36.15   \u001b[0m | \u001b[0m0.001    \u001b[0m | \u001b[0m0.001    \u001b[0m | \u001b[0m0.001    \u001b[0m | \u001b[0m362.0    \u001b[0m |\n"
     ]
    },
    {
     "name": "stderr",
     "output_type": "stream",
     "text": [
      "C:\\Users\\Cameron\\anaconda3\\lib\\site-packages\\sklearn\\linear_model\\_sag.py:350: ConvergenceWarning: The max_iter was reached which means the coef_ did not converge\n",
      "  warnings.warn(\n",
      "C:\\Users\\Cameron\\anaconda3\\lib\\site-packages\\sklearn\\linear_model\\_sag.py:350: ConvergenceWarning: The max_iter was reached which means the coef_ did not converge\n",
      "  warnings.warn(\n"
     ]
    },
    {
     "name": "stdout",
     "output_type": "stream",
     "text": [
      "| \u001b[0m18       \u001b[0m | \u001b[0m-0.1531  \u001b[0m | \u001b[0m1.0      \u001b[0m | \u001b[0m1.0      \u001b[0m | \u001b[0m1.0      \u001b[0m | \u001b[0m311.8    \u001b[0m |\n",
      "| \u001b[0m19       \u001b[0m | \u001b[0m-0.034   \u001b[0m | \u001b[0m0.3903   \u001b[0m | \u001b[0m0.2522   \u001b[0m | \u001b[0m0.07152  \u001b[0m | \u001b[0m299.5    \u001b[0m |\n"
     ]
    },
    {
     "name": "stderr",
     "output_type": "stream",
     "text": [
      "C:\\Users\\Cameron\\anaconda3\\lib\\site-packages\\sklearn\\linear_model\\_sag.py:350: ConvergenceWarning: The max_iter was reached which means the coef_ did not converge\n",
      "  warnings.warn(\n"
     ]
    },
    {
     "name": "stdout",
     "output_type": "stream",
     "text": [
      "| \u001b[0m20       \u001b[0m | \u001b[0m-0.1142  \u001b[0m | \u001b[0m0.476    \u001b[0m | \u001b[0m0.5243   \u001b[0m | \u001b[0m0.9958   \u001b[0m | \u001b[0m286.6    \u001b[0m |\n",
      "| \u001b[0m21       \u001b[0m | \u001b[0m-0.04177 \u001b[0m | \u001b[0m0.1429   \u001b[0m | \u001b[0m0.2217   \u001b[0m | \u001b[0m0.08986  \u001b[0m | \u001b[0m273.0    \u001b[0m |\n"
     ]
    },
    {
     "name": "stderr",
     "output_type": "stream",
     "text": [
      "C:\\Users\\Cameron\\anaconda3\\lib\\site-packages\\sklearn\\linear_model\\_sag.py:350: ConvergenceWarning: The max_iter was reached which means the coef_ did not converge\n",
      "  warnings.warn(\n",
      "C:\\Users\\Cameron\\anaconda3\\lib\\site-packages\\sklearn\\linear_model\\_sag.py:350: ConvergenceWarning: The max_iter was reached which means the coef_ did not converge\n",
      "  warnings.warn(\n"
     ]
    },
    {
     "name": "stdout",
     "output_type": "stream",
     "text": [
      "| \u001b[0m22       \u001b[0m | \u001b[0m-0.2204  \u001b[0m | \u001b[0m1.0      \u001b[0m | \u001b[0m1.0      \u001b[0m | \u001b[0m1.0      \u001b[0m | \u001b[0m261.1    \u001b[0m |\n"
     ]
    },
    {
     "name": "stderr",
     "output_type": "stream",
     "text": [
      "C:\\Users\\Cameron\\anaconda3\\lib\\site-packages\\sklearn\\linear_model\\_sag.py:350: ConvergenceWarning: The max_iter was reached which means the coef_ did not converge\n",
      "  warnings.warn(\n"
     ]
    },
    {
     "name": "stdout",
     "output_type": "stream",
     "text": [
      "| \u001b[0m23       \u001b[0m | \u001b[0m-0.03137 \u001b[0m | \u001b[0m0.9435   \u001b[0m | \u001b[0m0.1191   \u001b[0m | \u001b[0m0.06893  \u001b[0m | \u001b[0m665.7    \u001b[0m |\n"
     ]
    },
    {
     "name": "stderr",
     "output_type": "stream",
     "text": [
      "C:\\Users\\Cameron\\anaconda3\\lib\\site-packages\\sklearn\\linear_model\\_sag.py:350: ConvergenceWarning: The max_iter was reached which means the coef_ did not converge\n",
      "  warnings.warn(\n",
      "C:\\Users\\Cameron\\anaconda3\\lib\\site-packages\\sklearn\\linear_model\\_logistic.py:458: ConvergenceWarning: lbfgs failed to converge (status=1):\n",
      "STOP: TOTAL NO. of ITERATIONS REACHED LIMIT.\n",
      "\n",
      "Increase the number of iterations (max_iter) or scale the data as shown in:\n",
      "    https://scikit-learn.org/stable/modules/preprocessing.html\n",
      "Please also refer to the documentation for alternative solver options:\n",
      "    https://scikit-learn.org/stable/modules/linear_model.html#logistic-regression\n",
      "  n_iter_i = _check_optimize_result(\n"
     ]
    },
    {
     "name": "stdout",
     "output_type": "stream",
     "text": [
      "| \u001b[0m24       \u001b[0m | \u001b[0m-0.07233 \u001b[0m | \u001b[0m0.8424   \u001b[0m | \u001b[0m0.9346   \u001b[0m | \u001b[0m0.9379   \u001b[0m | \u001b[0m677.6    \u001b[0m |\n"
     ]
    },
    {
     "name": "stderr",
     "output_type": "stream",
     "text": [
      "C:\\Users\\Cameron\\anaconda3\\lib\\site-packages\\sklearn\\linear_model\\_sag.py:350: ConvergenceWarning: The max_iter was reached which means the coef_ did not converge\n",
      "  warnings.warn(\n"
     ]
    },
    {
     "name": "stdout",
     "output_type": "stream",
     "text": [
      "| \u001b[0m25       \u001b[0m | \u001b[0m-7.7     \u001b[0m | \u001b[0m0.001    \u001b[0m | \u001b[0m1.0      \u001b[0m | \u001b[0m1.0      \u001b[0m | \u001b[0m652.0    \u001b[0m |\n"
     ]
    },
    {
     "name": "stderr",
     "output_type": "stream",
     "text": [
      "C:\\Users\\Cameron\\anaconda3\\lib\\site-packages\\sklearn\\linear_model\\_sag.py:350: ConvergenceWarning: The max_iter was reached which means the coef_ did not converge\n",
      "  warnings.warn(\n",
      "C:\\Users\\Cameron\\anaconda3\\lib\\site-packages\\sklearn\\linear_model\\_logistic.py:458: ConvergenceWarning: lbfgs failed to converge (status=1):\n",
      "STOP: TOTAL NO. of ITERATIONS REACHED LIMIT.\n",
      "\n",
      "Increase the number of iterations (max_iter) or scale the data as shown in:\n",
      "    https://scikit-learn.org/stable/modules/preprocessing.html\n",
      "Please also refer to the documentation for alternative solver options:\n",
      "    https://scikit-learn.org/stable/modules/linear_model.html#logistic-regression\n",
      "  n_iter_i = _check_optimize_result(\n"
     ]
    },
    {
     "name": "stdout",
     "output_type": "stream",
     "text": [
      "| \u001b[0m26       \u001b[0m | \u001b[0m-0.09115 \u001b[0m | \u001b[0m0.8411   \u001b[0m | \u001b[0m0.06467  \u001b[0m | \u001b[0m0.3807   \u001b[0m | \u001b[0m691.5    \u001b[0m |\n",
      "| \u001b[0m27       \u001b[0m | \u001b[0m-2.159   \u001b[0m | \u001b[0m0.01209  \u001b[0m | \u001b[0m0.7204   \u001b[0m | \u001b[0m0.2116   \u001b[0m | \u001b[0m704.3    \u001b[0m |\n"
     ]
    },
    {
     "name": "stderr",
     "output_type": "stream",
     "text": [
      "C:\\Users\\Cameron\\anaconda3\\lib\\site-packages\\sklearn\\linear_model\\_sag.py:350: ConvergenceWarning: The max_iter was reached which means the coef_ did not converge\n",
      "  warnings.warn(\n"
     ]
    },
    {
     "name": "stdout",
     "output_type": "stream",
     "text": [
      "| \u001b[0m28       \u001b[0m | \u001b[0m-0.1082  \u001b[0m | \u001b[0m0.9873   \u001b[0m | \u001b[0m0.9792   \u001b[0m | \u001b[0m0.8654   \u001b[0m | \u001b[0m723.8    \u001b[0m |\n",
      "| \u001b[95m29       \u001b[0m | \u001b[95m-0.0027  \u001b[0m | \u001b[95m0.04945  \u001b[0m | \u001b[95m0.5903   \u001b[0m | \u001b[95m0.1632   \u001b[0m | \u001b[95m735.6    \u001b[0m |\n"
     ]
    },
    {
     "name": "stderr",
     "output_type": "stream",
     "text": [
      "C:\\Users\\Cameron\\anaconda3\\lib\\site-packages\\sklearn\\linear_model\\_sag.py:350: ConvergenceWarning: The max_iter was reached which means the coef_ did not converge\n",
      "  warnings.warn(\n",
      "C:\\Users\\Cameron\\anaconda3\\lib\\site-packages\\sklearn\\linear_model\\_sag.py:350: ConvergenceWarning: The max_iter was reached which means the coef_ did not converge\n",
      "  warnings.warn(\n",
      "C:\\Users\\Cameron\\anaconda3\\lib\\site-packages\\sklearn\\linear_model\\_logistic.py:458: ConvergenceWarning: lbfgs failed to converge (status=1):\n",
      "STOP: TOTAL NO. of ITERATIONS REACHED LIMIT.\n",
      "\n",
      "Increase the number of iterations (max_iter) or scale the data as shown in:\n",
      "    https://scikit-learn.org/stable/modules/preprocessing.html\n",
      "Please also refer to the documentation for alternative solver options:\n",
      "    https://scikit-learn.org/stable/modules/linear_model.html#logistic-regression\n",
      "  n_iter_i = _check_optimize_result(\n"
     ]
    },
    {
     "name": "stdout",
     "output_type": "stream",
     "text": [
      "| \u001b[0m30       \u001b[0m | \u001b[0m-0.1116  \u001b[0m | \u001b[0m1.0      \u001b[0m | \u001b[0m1.0      \u001b[0m | \u001b[0m1.0      \u001b[0m | \u001b[0m748.7    \u001b[0m |\n",
      "=========================================================================\n",
      "Final Result:  {'target': -0.0027000892606417904, 'params': {'C_age_': 0.04944790293948406, 'C_sex_': 0.590286828713736, 'C_state_': 0.16319975543930948, 'num_components_': 735.6260775254517}}\n",
      "|   iter    |  target   |  C_age_   |  C_sex_   | C_state_  | num_co... |\n",
      "-------------------------------------------------------------------------\n"
     ]
    },
    {
     "name": "stderr",
     "output_type": "stream",
     "text": [
      "C:\\Users\\Cameron\\anaconda3\\lib\\site-packages\\sklearn\\linear_model\\_sag.py:350: ConvergenceWarning: The max_iter was reached which means the coef_ did not converge\n",
      "  warnings.warn(\n"
     ]
    },
    {
     "name": "stdout",
     "output_type": "stream",
     "text": [
      "| \u001b[0m1        \u001b[0m | \u001b[0m-0.09837 \u001b[0m | \u001b[0m0.9739   \u001b[0m | \u001b[0m0.9884   \u001b[0m | \u001b[0m0.3971   \u001b[0m | \u001b[0m547.1    \u001b[0m |\n",
      "| \u001b[95m2        \u001b[0m | \u001b[95m-0.0903  \u001b[0m | \u001b[95m0.5583   \u001b[0m | \u001b[95m0.3046   \u001b[0m | \u001b[95m0.6306   \u001b[0m | \u001b[95m280.9    \u001b[0m |\n",
      "| \u001b[0m3        \u001b[0m | \u001b[0m-0.09765 \u001b[0m | \u001b[0m0.5341   \u001b[0m | \u001b[0m0.7397   \u001b[0m | \u001b[0m0.9104   \u001b[0m | \u001b[0m416.8    \u001b[0m |\n",
      "| \u001b[95m4        \u001b[0m | \u001b[95m-0.005789\u001b[0m | \u001b[95m0.0451   \u001b[0m | \u001b[95m0.8073   \u001b[0m | \u001b[95m0.6553   \u001b[0m | \u001b[95m560.9    \u001b[0m |\n",
      "| \u001b[0m5        \u001b[0m | \u001b[0m-0.1166  \u001b[0m | \u001b[0m0.5853   \u001b[0m | \u001b[0m0.1652   \u001b[0m | \u001b[0m0.8145   \u001b[0m | \u001b[0m541.5    \u001b[0m |\n",
      "| \u001b[0m6        \u001b[0m | \u001b[0m-0.09917 \u001b[0m | \u001b[0m0.2965   \u001b[0m | \u001b[0m0.7826   \u001b[0m | \u001b[0m0.6079   \u001b[0m | \u001b[0m565.9    \u001b[0m |\n",
      "| \u001b[0m7        \u001b[0m | \u001b[0m-0.05391 \u001b[0m | \u001b[0m0.1253   \u001b[0m | \u001b[0m0.3416   \u001b[0m | \u001b[0m0.8001   \u001b[0m | \u001b[0m220.5    \u001b[0m |\n",
      "| \u001b[0m8        \u001b[0m | \u001b[0m-0.01116 \u001b[0m | \u001b[0m0.1661   \u001b[0m | \u001b[0m0.03159  \u001b[0m | \u001b[0m0.6936   \u001b[0m | \u001b[0m341.8    \u001b[0m |\n"
     ]
    },
    {
     "name": "stderr",
     "output_type": "stream",
     "text": [
      "C:\\Users\\Cameron\\anaconda3\\lib\\site-packages\\sklearn\\linear_model\\_sag.py:350: ConvergenceWarning: The max_iter was reached which means the coef_ did not converge\n",
      "  warnings.warn(\n",
      "C:\\Users\\Cameron\\anaconda3\\lib\\site-packages\\sklearn\\linear_model\\_sag.py:350: ConvergenceWarning: The max_iter was reached which means the coef_ did not converge\n",
      "  warnings.warn(\n"
     ]
    },
    {
     "name": "stdout",
     "output_type": "stream",
     "text": [
      "| \u001b[0m9        \u001b[0m | \u001b[0m-0.09197 \u001b[0m | \u001b[0m0.9583   \u001b[0m | \u001b[0m0.8795   \u001b[0m | \u001b[0m0.9924   \u001b[0m | \u001b[0m756.7    \u001b[0m |\n",
      "| \u001b[0m10       \u001b[0m | \u001b[0m-0.1199  \u001b[0m | \u001b[0m0.4001   \u001b[0m | \u001b[0m0.7857   \u001b[0m | \u001b[0m0.5295   \u001b[0m | \u001b[0m402.6    \u001b[0m |\n",
      "| \u001b[0m11       \u001b[0m | \u001b[0m-0.08229 \u001b[0m | \u001b[0m0.5369   \u001b[0m | \u001b[0m0.05338  \u001b[0m | \u001b[0m0.3515   \u001b[0m | \u001b[0m592.2    \u001b[0m |\n"
     ]
    },
    {
     "name": "stderr",
     "output_type": "stream",
     "text": [
      "C:\\Users\\Cameron\\anaconda3\\lib\\site-packages\\sklearn\\linear_model\\_sag.py:350: ConvergenceWarning: The max_iter was reached which means the coef_ did not converge\n",
      "  warnings.warn(\n"
     ]
    },
    {
     "name": "stdout",
     "output_type": "stream",
     "text": [
      "| \u001b[0m12       \u001b[0m | \u001b[0m-0.1244  \u001b[0m | \u001b[0m0.7815   \u001b[0m | \u001b[0m0.7021   \u001b[0m | \u001b[0m0.676    \u001b[0m | \u001b[0m792.6    \u001b[0m |\n",
      "| \u001b[0m13       \u001b[0m | \u001b[0m-0.09104 \u001b[0m | \u001b[0m0.3699   \u001b[0m | \u001b[0m0.07209  \u001b[0m | \u001b[0m0.6298   \u001b[0m | \u001b[0m373.3    \u001b[0m |\n",
      "| \u001b[0m14       \u001b[0m | \u001b[0m-0.09127 \u001b[0m | \u001b[0m0.4764   \u001b[0m | \u001b[0m0.5064   \u001b[0m | \u001b[0m0.4547   \u001b[0m | \u001b[0m752.2    \u001b[0m |\n"
     ]
    },
    {
     "name": "stderr",
     "output_type": "stream",
     "text": [
      "C:\\Users\\Cameron\\anaconda3\\lib\\site-packages\\sklearn\\linear_model\\_sag.py:350: ConvergenceWarning: The max_iter was reached which means the coef_ did not converge\n",
      "  warnings.warn(\n"
     ]
    },
    {
     "name": "stdout",
     "output_type": "stream",
     "text": [
      "| \u001b[0m15       \u001b[0m | \u001b[0m-0.0719  \u001b[0m | \u001b[0m0.8298   \u001b[0m | \u001b[0m0.6411   \u001b[0m | \u001b[0m0.3829   \u001b[0m | \u001b[0m678.0    \u001b[0m |\n",
      "| \u001b[0m16       \u001b[0m | \u001b[0m-0.1     \u001b[0m | \u001b[0m0.4114   \u001b[0m | \u001b[0m0.258    \u001b[0m | \u001b[0m0.6106   \u001b[0m | \u001b[0m726.3    \u001b[0m |\n",
      "| \u001b[0m17       \u001b[0m | \u001b[0m-0.09031 \u001b[0m | \u001b[0m0.5998   \u001b[0m | \u001b[0m0.3643   \u001b[0m | \u001b[0m0.219    \u001b[0m | \u001b[0m279.2    \u001b[0m |\n",
      "| \u001b[0m18       \u001b[0m | \u001b[0m-0.08116 \u001b[0m | \u001b[0m0.2453   \u001b[0m | \u001b[0m0.4443   \u001b[0m | \u001b[0m0.4345   \u001b[0m | \u001b[0m559.6    \u001b[0m |\n",
      "| \u001b[0m19       \u001b[0m | \u001b[0m-0.07957 \u001b[0m | \u001b[0m0.2503   \u001b[0m | \u001b[0m0.6064   \u001b[0m | \u001b[0m0.41     \u001b[0m | \u001b[0m561.1    \u001b[0m |\n",
      "| \u001b[0m20       \u001b[0m | \u001b[0m-0.07253 \u001b[0m | \u001b[0m0.1895   \u001b[0m | \u001b[0m0.1163   \u001b[0m | \u001b[0m0.6402   \u001b[0m | \u001b[0m777.7    \u001b[0m |\n",
      "| \u001b[0m21       \u001b[0m | \u001b[0m-0.06882 \u001b[0m | \u001b[0m0.258    \u001b[0m | \u001b[0m0.5241   \u001b[0m | \u001b[0m0.287    \u001b[0m | \u001b[0m561.0    \u001b[0m |\n"
     ]
    },
    {
     "name": "stderr",
     "output_type": "stream",
     "text": [
      "C:\\Users\\Cameron\\anaconda3\\lib\\site-packages\\sklearn\\linear_model\\_sag.py:350: ConvergenceWarning: The max_iter was reached which means the coef_ did not converge\n",
      "  warnings.warn(\n"
     ]
    },
    {
     "name": "stdout",
     "output_type": "stream",
     "text": [
      "| \u001b[0m22       \u001b[0m | \u001b[0m-0.1131  \u001b[0m | \u001b[0m0.849    \u001b[0m | \u001b[0m0.4886   \u001b[0m | \u001b[0m0.4297   \u001b[0m | \u001b[0m693.0    \u001b[0m |\n",
      "| \u001b[0m23       \u001b[0m | \u001b[0m-0.03543 \u001b[0m | \u001b[0m0.08924  \u001b[0m | \u001b[0m0.5539   \u001b[0m | \u001b[0m0.6823   \u001b[0m | \u001b[0m561.0    \u001b[0m |\n",
      "| \u001b[0m24       \u001b[0m | \u001b[0m-0.01446 \u001b[0m | \u001b[0m0.3496   \u001b[0m | \u001b[0m0.006242 \u001b[0m | \u001b[0m0.5401   \u001b[0m | \u001b[0m605.6    \u001b[0m |\n",
      "| \u001b[0m25       \u001b[0m | \u001b[0m-0.09739 \u001b[0m | \u001b[0m0.2146   \u001b[0m | \u001b[0m0.9056   \u001b[0m | \u001b[0m0.768    \u001b[0m | \u001b[0m561.0    \u001b[0m |\n",
      "| \u001b[0m26       \u001b[0m | \u001b[0m-0.0746  \u001b[0m | \u001b[0m0.3069   \u001b[0m | \u001b[0m0.03941  \u001b[0m | \u001b[0m0.7389   \u001b[0m | \u001b[0m341.9    \u001b[0m |\n",
      "| \u001b[0m27       \u001b[0m | \u001b[0m-0.05496 \u001b[0m | \u001b[0m0.1236   \u001b[0m | \u001b[0m0.4921   \u001b[0m | \u001b[0m0.8253   \u001b[0m | \u001b[0m220.6    \u001b[0m |\n",
      "| \u001b[0m28       \u001b[0m | \u001b[0m-0.1034  \u001b[0m | \u001b[0m0.3046   \u001b[0m | \u001b[0m0.4022   \u001b[0m | \u001b[0m0.8636   \u001b[0m | \u001b[0m561.2    \u001b[0m |\n",
      "| \u001b[0m29       \u001b[0m | \u001b[0m-0.1358  \u001b[0m | \u001b[0m0.6899   \u001b[0m | \u001b[0m0.6846   \u001b[0m | \u001b[0m0.6874   \u001b[0m | \u001b[0m345.0    \u001b[0m |\n",
      "| \u001b[0m30       \u001b[0m | \u001b[0m-0.1361  \u001b[0m | \u001b[0m0.5079   \u001b[0m | \u001b[0m0.1486   \u001b[0m | \u001b[0m0.3773   \u001b[0m | \u001b[0m562.1    \u001b[0m |\n",
      "=========================================================================\n",
      "Final Result:  {'target': -0.005789013476860774, 'params': {'C_age_': 0.045104692886693616, 'C_sex_': 0.807290123028634, 'C_state_': 0.6553134468618701, 'num_components_': 560.9046936337465}}\n",
      "|   iter    |  target   |  C_age_   |  C_sex_   | C_state_  | num_co... |\n",
      "-------------------------------------------------------------------------\n"
     ]
    },
    {
     "name": "stderr",
     "output_type": "stream",
     "text": [
      "C:\\Users\\Cameron\\anaconda3\\lib\\site-packages\\sklearn\\linear_model\\_sag.py:350: ConvergenceWarning: The max_iter was reached which means the coef_ did not converge\n",
      "  warnings.warn(\n"
     ]
    },
    {
     "name": "stdout",
     "output_type": "stream",
     "text": [
      "| \u001b[0m1        \u001b[0m | \u001b[0m-0.1219  \u001b[0m | \u001b[0m0.8661   \u001b[0m | \u001b[0m0.3078   \u001b[0m | \u001b[0m0.8155   \u001b[0m | \u001b[0m253.5    \u001b[0m |\n"
     ]
    },
    {
     "name": "stderr",
     "output_type": "stream",
     "text": [
      "C:\\Users\\Cameron\\anaconda3\\lib\\site-packages\\sklearn\\linear_model\\_sag.py:350: ConvergenceWarning: The max_iter was reached which means the coef_ did not converge\n",
      "  warnings.warn(\n"
     ]
    },
    {
     "name": "stdout",
     "output_type": "stream",
     "text": [
      "| \u001b[95m2        \u001b[0m | \u001b[95m-9.975e-0\u001b[0m | \u001b[95m0.8067   \u001b[0m | \u001b[95m0.7034   \u001b[0m | \u001b[95m0.01835  \u001b[0m | \u001b[95m341.2    \u001b[0m |\n",
      "| \u001b[0m3        \u001b[0m | \u001b[0m-0.0563  \u001b[0m | \u001b[0m0.2013   \u001b[0m | \u001b[0m0.4947   \u001b[0m | \u001b[0m0.2976   \u001b[0m | \u001b[0m749.8    \u001b[0m |\n",
      "| \u001b[0m4        \u001b[0m | \u001b[0m-0.08964 \u001b[0m | \u001b[0m0.6772   \u001b[0m | \u001b[0m0.3474   \u001b[0m | \u001b[0m0.11     \u001b[0m | \u001b[0m743.9    \u001b[0m |\n"
     ]
    },
    {
     "name": "stderr",
     "output_type": "stream",
     "text": [
      "C:\\Users\\Cameron\\anaconda3\\lib\\site-packages\\sklearn\\linear_model\\_sag.py:350: ConvergenceWarning: The max_iter was reached which means the coef_ did not converge\n",
      "  warnings.warn(\n"
     ]
    },
    {
     "name": "stdout",
     "output_type": "stream",
     "text": [
      "| \u001b[0m5        \u001b[0m | \u001b[0m-0.0804  \u001b[0m | \u001b[0m0.3711   \u001b[0m | \u001b[0m0.1981   \u001b[0m | \u001b[0m0.9662   \u001b[0m | \u001b[0m360.8    \u001b[0m |\n",
      "| \u001b[0m6        \u001b[0m | \u001b[0m-0.09615 \u001b[0m | \u001b[0m0.5471   \u001b[0m | \u001b[0m0.5477   \u001b[0m | \u001b[0m0.3054   \u001b[0m | \u001b[0m367.6    \u001b[0m |\n"
     ]
    },
    {
     "name": "stderr",
     "output_type": "stream",
     "text": [
      "C:\\Users\\Cameron\\anaconda3\\lib\\site-packages\\sklearn\\linear_model\\_sag.py:350: ConvergenceWarning: The max_iter was reached which means the coef_ did not converge\n",
      "  warnings.warn(\n",
      "C:\\Users\\Cameron\\anaconda3\\lib\\site-packages\\sklearn\\linear_model\\_sag.py:350: ConvergenceWarning: The max_iter was reached which means the coef_ did not converge\n",
      "  warnings.warn(\n"
     ]
    },
    {
     "name": "stdout",
     "output_type": "stream",
     "text": [
      "| \u001b[0m7        \u001b[0m | \u001b[0m-0.1071  \u001b[0m | \u001b[0m0.7857   \u001b[0m | \u001b[0m0.9711   \u001b[0m | \u001b[0m0.9627   \u001b[0m | \u001b[0m335.8    \u001b[0m |\n"
     ]
    },
    {
     "name": "stderr",
     "output_type": "stream",
     "text": [
      "C:\\Users\\Cameron\\anaconda3\\lib\\site-packages\\sklearn\\linear_model\\_sag.py:350: ConvergenceWarning: The max_iter was reached which means the coef_ did not converge\n",
      "  warnings.warn(\n"
     ]
    },
    {
     "name": "stdout",
     "output_type": "stream",
     "text": [
      "| \u001b[0m8        \u001b[0m | \u001b[0m-0.08333 \u001b[0m | \u001b[0m0.9218   \u001b[0m | \u001b[0m0.5309   \u001b[0m | \u001b[0m0.5892   \u001b[0m | \u001b[0m506.0    \u001b[0m |\n",
      "| \u001b[0m9        \u001b[0m | \u001b[0m-0.05313 \u001b[0m | \u001b[0m0.1522   \u001b[0m | \u001b[0m0.9858   \u001b[0m | \u001b[0m0.188    \u001b[0m | \u001b[0m728.3    \u001b[0m |\n",
      "| \u001b[0m10       \u001b[0m | \u001b[0m-0.08725 \u001b[0m | \u001b[0m0.2862   \u001b[0m | \u001b[0m0.8369   \u001b[0m | \u001b[0m0.6315   \u001b[0m | \u001b[0m262.5    \u001b[0m |\n"
     ]
    },
    {
     "name": "stderr",
     "output_type": "stream",
     "text": [
      "C:\\Users\\Cameron\\anaconda3\\lib\\site-packages\\sklearn\\linear_model\\_logistic.py:458: ConvergenceWarning: lbfgs failed to converge (status=1):\n",
      "STOP: TOTAL NO. of ITERATIONS REACHED LIMIT.\n",
      "\n",
      "Increase the number of iterations (max_iter) or scale the data as shown in:\n",
      "    https://scikit-learn.org/stable/modules/preprocessing.html\n",
      "Please also refer to the documentation for alternative solver options:\n",
      "    https://scikit-learn.org/stable/modules/linear_model.html#logistic-regression\n",
      "  n_iter_i = _check_optimize_result(\n"
     ]
    },
    {
     "name": "stdout",
     "output_type": "stream",
     "text": [
      "| \u001b[0m11       \u001b[0m | \u001b[0m-0.08163 \u001b[0m | \u001b[0m0.2723   \u001b[0m | \u001b[0m0.1264   \u001b[0m | \u001b[0m0.1598   \u001b[0m | \u001b[0m437.7    \u001b[0m |\n",
      "| \u001b[0m12       \u001b[0m | \u001b[0m-0.0124  \u001b[0m | \u001b[0m0.3469   \u001b[0m | \u001b[0m0.5873   \u001b[0m | \u001b[0m0.03596  \u001b[0m | \u001b[0m764.5    \u001b[0m |\n"
     ]
    },
    {
     "name": "stderr",
     "output_type": "stream",
     "text": [
      "C:\\Users\\Cameron\\anaconda3\\lib\\site-packages\\sklearn\\linear_model\\_sag.py:350: ConvergenceWarning: The max_iter was reached which means the coef_ did not converge\n",
      "  warnings.warn(\n"
     ]
    },
    {
     "name": "stdout",
     "output_type": "stream",
     "text": [
      "| \u001b[0m13       \u001b[0m | \u001b[0m-0.1154  \u001b[0m | \u001b[0m0.9496   \u001b[0m | \u001b[0m0.1697   \u001b[0m | \u001b[0m0.547    \u001b[0m | \u001b[0m487.0    \u001b[0m |\n"
     ]
    },
    {
     "name": "stderr",
     "output_type": "stream",
     "text": [
      "C:\\Users\\Cameron\\anaconda3\\lib\\site-packages\\sklearn\\linear_model\\_sag.py:350: ConvergenceWarning: The max_iter was reached which means the coef_ did not converge\n",
      "  warnings.warn(\n"
     ]
    },
    {
     "name": "stdout",
     "output_type": "stream",
     "text": [
      "| \u001b[0m14       \u001b[0m | \u001b[0m-0.1331  \u001b[0m | \u001b[0m0.9151   \u001b[0m | \u001b[0m0.0808   \u001b[0m | \u001b[0m0.4787   \u001b[0m | \u001b[0m572.4    \u001b[0m |\n",
      "| \u001b[0m15       \u001b[0m | \u001b[0m-0.09294 \u001b[0m | \u001b[0m0.4717   \u001b[0m | \u001b[0m0.2164   \u001b[0m | \u001b[0m0.4892   \u001b[0m | \u001b[0m703.0    \u001b[0m |\n",
      "| \u001b[0m16       \u001b[0m | \u001b[0m-0.03759 \u001b[0m | \u001b[0m0.1026   \u001b[0m | \u001b[0m0.6483   \u001b[0m | \u001b[0m0.5066   \u001b[0m | \u001b[0m407.3    \u001b[0m |\n",
      "| \u001b[0m17       \u001b[0m | \u001b[0m-0.09152 \u001b[0m | \u001b[0m0.2266   \u001b[0m | \u001b[0m0.1186   \u001b[0m | \u001b[0m0.4509   \u001b[0m | \u001b[0m502.3    \u001b[0m |\n"
     ]
    },
    {
     "name": "stderr",
     "output_type": "stream",
     "text": [
      "C:\\Users\\Cameron\\anaconda3\\lib\\site-packages\\sklearn\\linear_model\\_sag.py:350: ConvergenceWarning: The max_iter was reached which means the coef_ did not converge\n",
      "  warnings.warn(\n"
     ]
    },
    {
     "name": "stdout",
     "output_type": "stream",
     "text": [
      "| \u001b[0m18       \u001b[0m | \u001b[0m-0.1101  \u001b[0m | \u001b[0m0.7941   \u001b[0m | \u001b[0m0.9696   \u001b[0m | \u001b[0m0.01051  \u001b[0m | \u001b[0m341.5    \u001b[0m |\n",
      "| \u001b[0m19       \u001b[0m | \u001b[0m-0.1151  \u001b[0m | \u001b[0m0.227    \u001b[0m | \u001b[0m0.5123   \u001b[0m | \u001b[0m0.3982   \u001b[0m | \u001b[0m287.4    \u001b[0m |\n",
      "| \u001b[0m20       \u001b[0m | \u001b[0m-0.08517 \u001b[0m | \u001b[0m0.2232   \u001b[0m | \u001b[0m0.3761   \u001b[0m | \u001b[0m0.7397   \u001b[0m | \u001b[0m621.2    \u001b[0m |\n",
      "| \u001b[0m21       \u001b[0m | \u001b[0m-1.602   \u001b[0m | \u001b[0m0.014    \u001b[0m | \u001b[0m0.03489  \u001b[0m | \u001b[0m0.7521   \u001b[0m | \u001b[0m413.6    \u001b[0m |\n"
     ]
    },
    {
     "name": "stderr",
     "output_type": "stream",
     "text": [
      "C:\\Users\\Cameron\\anaconda3\\lib\\site-packages\\sklearn\\linear_model\\_sag.py:350: ConvergenceWarning: The max_iter was reached which means the coef_ did not converge\n",
      "  warnings.warn(\n"
     ]
    },
    {
     "name": "stdout",
     "output_type": "stream",
     "text": [
      "| \u001b[0m22       \u001b[0m | \u001b[0m-0.1345  \u001b[0m | \u001b[0m0.8311   \u001b[0m | \u001b[0m0.1977   \u001b[0m | \u001b[0m0.5728   \u001b[0m | \u001b[0m339.7    \u001b[0m |\n",
      "| \u001b[0m23       \u001b[0m | \u001b[0m-0.4988  \u001b[0m | \u001b[0m0.1523   \u001b[0m | \u001b[0m0.2789   \u001b[0m | \u001b[0m0.007186 \u001b[0m | \u001b[0m340.9    \u001b[0m |\n"
     ]
    },
    {
     "name": "stderr",
     "output_type": "stream",
     "text": [
      "C:\\Users\\Cameron\\anaconda3\\lib\\site-packages\\sklearn\\linear_model\\_sag.py:350: ConvergenceWarning: The max_iter was reached which means the coef_ did not converge\n",
      "  warnings.warn(\n"
     ]
    },
    {
     "name": "stdout",
     "output_type": "stream",
     "text": [
      "| \u001b[0m24       \u001b[0m | \u001b[0m-0.09044 \u001b[0m | \u001b[0m1.0      \u001b[0m | \u001b[0m0.9894   \u001b[0m | \u001b[0m0.1305   \u001b[0m | \u001b[0m340.9    \u001b[0m |\n",
      "| \u001b[0m25       \u001b[0m | \u001b[0m-0.06391 \u001b[0m | \u001b[0m0.1353   \u001b[0m | \u001b[0m0.9664   \u001b[0m | \u001b[0m0.6443   \u001b[0m | \u001b[0m764.4    \u001b[0m |\n"
     ]
    },
    {
     "name": "stderr",
     "output_type": "stream",
     "text": [
      "C:\\Users\\Cameron\\anaconda3\\lib\\site-packages\\sklearn\\linear_model\\_sag.py:350: ConvergenceWarning: The max_iter was reached which means the coef_ did not converge\n",
      "  warnings.warn(\n"
     ]
    },
    {
     "name": "stdout",
     "output_type": "stream",
     "text": [
      "| \u001b[0m26       \u001b[0m | \u001b[0m-0.09387 \u001b[0m | \u001b[0m1.0      \u001b[0m | \u001b[0m0.3269   \u001b[0m | \u001b[0m0.2786   \u001b[0m | \u001b[0m341.5    \u001b[0m |\n",
      "| \u001b[0m27       \u001b[0m | \u001b[0m-0.07388 \u001b[0m | \u001b[0m0.2752   \u001b[0m | \u001b[0m0.2351   \u001b[0m | \u001b[0m0.1866   \u001b[0m | \u001b[0m763.6    \u001b[0m |\n",
      "| \u001b[0m28       \u001b[0m | \u001b[0m-0.08167 \u001b[0m | \u001b[0m0.2817   \u001b[0m | \u001b[0m0.244    \u001b[0m | \u001b[0m0.4141   \u001b[0m | \u001b[0m765.2    \u001b[0m |\n"
     ]
    },
    {
     "name": "stderr",
     "output_type": "stream",
     "text": [
      "C:\\Users\\Cameron\\anaconda3\\lib\\site-packages\\sklearn\\linear_model\\_logistic.py:458: ConvergenceWarning: lbfgs failed to converge (status=1):\n",
      "STOP: TOTAL NO. of ITERATIONS REACHED LIMIT.\n",
      "\n",
      "Increase the number of iterations (max_iter) or scale the data as shown in:\n",
      "    https://scikit-learn.org/stable/modules/preprocessing.html\n",
      "Please also refer to the documentation for alternative solver options:\n",
      "    https://scikit-learn.org/stable/modules/linear_model.html#logistic-regression\n",
      "  n_iter_i = _check_optimize_result(\n"
     ]
    },
    {
     "name": "stdout",
     "output_type": "stream",
     "text": [
      "| \u001b[0m29       \u001b[0m | \u001b[0m-0.05906 \u001b[0m | \u001b[0m0.1708   \u001b[0m | \u001b[0m0.1969   \u001b[0m | \u001b[0m0.5769   \u001b[0m | \u001b[0m406.3    \u001b[0m |\n"
     ]
    },
    {
     "name": "stderr",
     "output_type": "stream",
     "text": [
      "C:\\Users\\Cameron\\anaconda3\\lib\\site-packages\\sklearn\\linear_model\\_sag.py:350: ConvergenceWarning: The max_iter was reached which means the coef_ did not converge\n",
      "  warnings.warn(\n"
     ]
    },
    {
     "name": "stdout",
     "output_type": "stream",
     "text": [
      "| \u001b[0m30       \u001b[0m | \u001b[0m-0.11    \u001b[0m | \u001b[0m0.9149   \u001b[0m | \u001b[0m0.918    \u001b[0m | \u001b[0m0.1562   \u001b[0m | \u001b[0m407.0    \u001b[0m |\n",
      "=========================================================================\n",
      "Final Result:  {'target': -9.974741981172581e-05, 'params': {'C_age_': 0.8067420804502916, 'C_sex_': 0.7034321458083541, 'C_state_': 0.018349354612956555, 'num_components_': 341.2067323171185}}\n"
     ]
    }
   ],
   "source": [
    "optimization_results = [optimize_models_mn(train_data=train_data, number_synthetic_datasets=nsd, number_gmm_initializations=ngi, random_state=r) for r in random_states]"
   ]
  },
  {
   "cell_type": "code",
   "execution_count": 22,
   "id": "ea0b7024",
   "metadata": {},
   "outputs": [],
   "source": [
    "run_targets = [np.minimum.accumulate(-i[1].space.target) for i in optimization_results]"
   ]
  },
  {
   "cell_type": "code",
   "execution_count": 23,
   "id": "f4225965",
   "metadata": {},
   "outputs": [
    {
     "data": {
      "image/png": "[encoded data removed]",
      "text/plain": [
       "<Figure size 640x480 with 1 Axes>"
      ]
     },
     "metadata": {},
     "output_type": "display_data"
    }
   ],
   "source": [
    "plt.plot(run_targets[0])\n",
    "plt.scatter(np.arange(len(run_targets[0])), run_targets[0], s=6)\n",
    "plt.plot(run_targets[1])\n",
    "plt.scatter(np.arange(len(run_targets[1])), run_targets[1], s=6)\n",
    "plt.plot(run_targets[2])\n",
    "plt.scatter(np.arange(len(run_targets[2])), run_targets[2], s=6)\n",
    "plt.plot(run_targets[3])\n",
    "plt.scatter(np.arange(len(run_targets[3])), run_targets[3], s=6)\n",
    "plt.plot(run_targets[4])\n",
    "plt.scatter(np.arange(len(run_targets[4])), run_targets[4], s=6)\n",
    "plt.title(\"Running Minimum Objective Value for MNL Synthesis\")\n",
    "plt.show()"
   ]
  },
  {
   "cell_type": "markdown",
   "id": "34094ad9",
   "metadata": {},
   "source": [
    "Choose the params that gave the best objective value across all random seeds."
   ]
  },
  {
   "cell_type": "code",
   "execution_count": 24,
   "id": "81eccd8d",
   "metadata": {},
   "outputs": [],
   "source": [
    "best_params = optimization_results[np.argmax([x[0]['target'] for x in optimization_results])][0]"
   ]
  },
  {
   "cell_type": "code",
   "execution_count": 25,
   "id": "dbab5ac5",
   "metadata": {},
   "outputs": [
    {
     "data": {
      "text/plain": [
       "{'target': -9.974741981172581e-05,\n",
       " 'params': {'C_age_': 0.8067420804502916,\n",
       "  'C_sex_': 0.7034321458083541,\n",
       "  'C_state_': 0.018349354612956555,\n",
       "  'num_components_': 341.2067323171185}}"
      ]
     },
     "execution_count": 25,
     "metadata": {},
     "output_type": "execute_result"
    }
   ],
   "source": [
    "best_params"
   ]
  },
  {
   "cell_type": "markdown",
   "id": "cea1e3fa",
   "metadata": {},
   "source": [
    "Generate 20 synthetic data sets."
   ]
  },
  {
   "cell_type": "code",
   "execution_count": 26,
   "id": "643fb518",
   "metadata": {},
   "outputs": [
    {
     "name": "stderr",
     "output_type": "stream",
     "text": [
      "C:\\Users\\Cameron\\anaconda3\\lib\\site-packages\\sklearn\\linear_model\\_sag.py:350: ConvergenceWarning: The max_iter was reached which means the coef_ did not converge\n",
      "  warnings.warn(\n"
     ]
    }
   ],
   "source": [
    "full_ratios, full_sXs, GMM = train_models_mn(train_data=train_data,\n",
    "                                             number_synthetic_datasets=20,\n",
    "                                             # hyperparameters for GMM\n",
    "                                             number_gmm_initializations=ngi,\n",
    "                                             num_components_=int(best_params['params']['num_components_']),\n",
    "                                             # hyperparameters for CART, end with underscore means Bayesian optimization will choose\n",
    "                                             C_sex_=best_params['params']['C_sex_'],\n",
    "                                             C_age_=best_params['params']['C_age_'],\n",
    "                                             C_state_=best_params['params']['C_state_'])"
   ]
  },
  {
   "cell_type": "code",
   "execution_count": 27,
   "id": "694c3a3e",
   "metadata": {},
   "outputs": [
    {
     "data": {
      "text/plain": [
       "0.0015246003855374616"
      ]
     },
     "execution_count": 27,
     "metadata": {},
     "output_type": "execute_result"
    }
   ],
   "source": [
    "(1 - np.mean(full_ratios))**2"
   ]
  },
  {
   "cell_type": "code",
   "execution_count": 28,
   "id": "b24598f6",
   "metadata": {},
   "outputs": [
    {
     "data": {
      "text/plain": [
       "1.039046131505406"
      ]
     },
     "execution_count": 28,
     "metadata": {},
     "output_type": "execute_result"
    }
   ],
   "source": [
    "np.mean(full_ratios)"
   ]
  },
  {
   "cell_type": "code",
   "execution_count": 29,
   "id": "5ea8b232",
   "metadata": {},
   "outputs": [
    {
     "data": {
      "image/png": "[encoded data removed]",
      "text/plain": [
       "<Figure size 640x480 with 1 Axes>"
      ]
     },
     "metadata": {},
     "output_type": "display_data"
    }
   ],
   "source": [
    "plt.violinplot(full_ratios)\n",
    "plt.xlabel(\"Density\")\n",
    "plt.ylabel(\"pMSE Ratio\")\n",
    "plt.title(\"Distribution of pMSE Ratios\")\n",
    "plt.show()"
   ]
  },
  {
   "cell_type": "markdown",
   "id": "c7c4b464",
   "metadata": {},
   "source": [
    "# Save the synthetic datasets."
   ]
  },
  {
   "cell_type": "code",
   "execution_count": 30,
   "id": "5696e166",
   "metadata": {},
   "outputs": [],
   "source": [
    "for i, sX in enumerate(full_sXs):\n",
    "    sX.to_csv(\"Data/synthetic_datasets/logistic_logistic_synthetic_dataset_\" + str(i) + \".csv\", index=False)"
   ]
  },
  {
   "cell_type": "markdown",
   "id": "58cacd36",
   "metadata": {},
   "source": [
    "***"
   ]
  }
 ],
 "metadata": {
  "kernelspec": {
   "display_name": "Python 3 (ipykernel)",
   "language": "python",
   "name": "python3"
  },
  "language_info": {
   "codemirror_mode": {
    "name": "ipython",
    "version": 3
   },
   "file_extension": ".py",
   "mimetype": "text/x-python",
   "name": "python",
   "nbconvert_exporter": "python",
   "pygments_lexer": "ipython3",
   "version": "3.9.13"
  }
 },
 "nbformat": 4,
 "nbformat_minor": 5
}
