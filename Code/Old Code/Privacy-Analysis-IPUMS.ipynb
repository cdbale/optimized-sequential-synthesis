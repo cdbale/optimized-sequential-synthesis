{
 "cells": [
  {
   "cell_type": "code",
   "execution_count": 1,
   "id": "6a9fe08f",
   "metadata": {},
   "outputs": [],
   "source": [
    "import pandas as pd\n",
    "import numpy as np\n",
    "from sklearn.preprocessing import StandardScaler\n",
    "\n",
    "from scipy.spatial import KDTree\n",
    "\n",
    "import matplotlib.pyplot as plt"
   ]
  },
  {
   "cell_type": "markdown",
   "id": "2b1fcb64",
   "metadata": {},
   "source": [
    "Need to think carefully about what distance metric we use."
   ]
  },
  {
   "cell_type": "markdown",
   "id": "a7b8be3f",
   "metadata": {},
   "source": [
    "## Metric 1: IMS"
   ]
  },
  {
   "cell_type": "markdown",
   "id": "631178c4",
   "metadata": {},
   "source": [
    "Assess the proportion of records in both the synthetic and holdout data sets that are identical to records in the training data set."
   ]
  },
  {
   "cell_type": "code",
   "execution_count": 2,
   "id": "74051225",
   "metadata": {},
   "outputs": [],
   "source": [
    "train = pd.read_csv(\"Data/cleaned_ipums_data.csv\")"
   ]
  },
  {
   "cell_type": "code",
   "execution_count": 3,
   "id": "da4a46eb",
   "metadata": {},
   "outputs": [
    {
     "data": {
      "text/html": [
       "<div>\n",
       "<style scoped>\n",
       "    .dataframe tbody tr th:only-of-type {\n",
       "        vertical-align: middle;\n",
       "    }\n",
       "\n",
       "    .dataframe tbody tr th {\n",
       "        vertical-align: top;\n",
       "    }\n",
       "\n",
       "    .dataframe thead th {\n",
       "        text-align: right;\n",
       "    }\n",
       "</style>\n",
       "<table border=\"1\" class=\"dataframe\">\n",
       "  <thead>\n",
       "    <tr style=\"text-align: right;\">\n",
       "      <th></th>\n",
       "      <th>INCWAGE</th>\n",
       "      <th>years_of_educ</th>\n",
       "      <th>potential_experience</th>\n",
       "      <th>non_white</th>\n",
       "      <th>SEX</th>\n",
       "    </tr>\n",
       "  </thead>\n",
       "  <tbody>\n",
       "    <tr>\n",
       "      <th>0</th>\n",
       "      <td>-0.579435</td>\n",
       "      <td>1.109071</td>\n",
       "      <td>-0.039398</td>\n",
       "      <td>0</td>\n",
       "      <td>1</td>\n",
       "    </tr>\n",
       "    <tr>\n",
       "      <th>1</th>\n",
       "      <td>0.564281</td>\n",
       "      <td>0.724424</td>\n",
       "      <td>0.369388</td>\n",
       "      <td>0</td>\n",
       "      <td>0</td>\n",
       "    </tr>\n",
       "    <tr>\n",
       "      <th>2</th>\n",
       "      <td>-0.748874</td>\n",
       "      <td>-0.044869</td>\n",
       "      <td>-1.347515</td>\n",
       "      <td>0</td>\n",
       "      <td>0</td>\n",
       "    </tr>\n",
       "    <tr>\n",
       "      <th>3</th>\n",
       "      <td>-0.935257</td>\n",
       "      <td>-0.814163</td>\n",
       "      <td>-1.511030</td>\n",
       "      <td>0</td>\n",
       "      <td>0</td>\n",
       "    </tr>\n",
       "    <tr>\n",
       "      <th>4</th>\n",
       "      <td>-0.164308</td>\n",
       "      <td>-0.429516</td>\n",
       "      <td>1.186962</td>\n",
       "      <td>1</td>\n",
       "      <td>0</td>\n",
       "    </tr>\n",
       "    <tr>\n",
       "      <th>...</th>\n",
       "      <td>...</td>\n",
       "      <td>...</td>\n",
       "      <td>...</td>\n",
       "      <td>...</td>\n",
       "      <td>...</td>\n",
       "    </tr>\n",
       "    <tr>\n",
       "      <th>197751</th>\n",
       "      <td>-0.092296</td>\n",
       "      <td>1.109071</td>\n",
       "      <td>-0.448185</td>\n",
       "      <td>0</td>\n",
       "      <td>0</td>\n",
       "    </tr>\n",
       "    <tr>\n",
       "      <th>197752</th>\n",
       "      <td>-0.854774</td>\n",
       "      <td>1.109071</td>\n",
       "      <td>-0.611699</td>\n",
       "      <td>0</td>\n",
       "      <td>1</td>\n",
       "    </tr>\n",
       "    <tr>\n",
       "      <th>197753</th>\n",
       "      <td>0.521921</td>\n",
       "      <td>1.777461</td>\n",
       "      <td>0.063806</td>\n",
       "      <td>0</td>\n",
       "      <td>0</td>\n",
       "    </tr>\n",
       "    <tr>\n",
       "      <th>197754</th>\n",
       "      <td>-0.981853</td>\n",
       "      <td>0.724424</td>\n",
       "      <td>-0.448185</td>\n",
       "      <td>0</td>\n",
       "      <td>1</td>\n",
       "    </tr>\n",
       "    <tr>\n",
       "      <th>197755</th>\n",
       "      <td>0.865036</td>\n",
       "      <td>1.109071</td>\n",
       "      <td>1.105204</td>\n",
       "      <td>0</td>\n",
       "      <td>0</td>\n",
       "    </tr>\n",
       "  </tbody>\n",
       "</table>\n",
       "<p>197756 rows × 5 columns</p>\n",
       "</div>"
      ],
      "text/plain": [
       "         INCWAGE  years_of_educ  potential_experience  non_white  SEX\n",
       "0      -0.579435       1.109071             -0.039398          0    1\n",
       "1       0.564281       0.724424              0.369388          0    0\n",
       "2      -0.748874      -0.044869             -1.347515          0    0\n",
       "3      -0.935257      -0.814163             -1.511030          0    0\n",
       "4      -0.164308      -0.429516              1.186962          1    0\n",
       "...          ...            ...                   ...        ...  ...\n",
       "197751 -0.092296       1.109071             -0.448185          0    0\n",
       "197752 -0.854774       1.109071             -0.611699          0    1\n",
       "197753  0.521921       1.777461              0.063806          0    0\n",
       "197754 -0.981853       0.724424             -0.448185          0    1\n",
       "197755  0.865036       1.109071              1.105204          0    0\n",
       "\n",
       "[197756 rows x 5 columns]"
      ]
     },
     "execution_count": 3,
     "metadata": {},
     "output_type": "execute_result"
    }
   ],
   "source": [
    "train"
   ]
  },
  {
   "cell_type": "code",
   "execution_count": 4,
   "id": "f0b424f3",
   "metadata": {},
   "outputs": [],
   "source": [
    "# generate a set of twenty holdout datasets\n",
    "holdout_datasets = [train.sample(frac=1.0, replace=True).reset_index(drop=True) for i in range(20)]\n",
    "\n",
    "for i in range(20):\n",
    "    holdout_datasets[i].to_csv(\"Data/holdout_\" + str(i) + \".csv\", index=False)"
   ]
  },
  {
   "cell_type": "markdown",
   "id": "2dd50aa9",
   "metadata": {},
   "source": [
    "Perform two-sample bootstrap calculation for the privacy metrics, i.e., we pair synthetic and holdout data sets and treat these as paired bootstrap samples from the population data set. Then we can calculate the mean of each privacy metric and the 95% confidence interval of the metric."
   ]
  },
  {
   "cell_type": "markdown",
   "id": "1d2762e9",
   "metadata": {},
   "source": [
    "Pick an arbitrary $\\delta$ value."
   ]
  },
  {
   "cell_type": "code",
   "execution_count": 5,
   "id": "ab018872",
   "metadata": {},
   "outputs": [],
   "source": [
    "delta = 0.001"
   ]
  },
  {
   "cell_type": "markdown",
   "id": "ae755216",
   "metadata": {},
   "source": [
    "Function to calculate the privacy metrics given training, holdout, and synthetic data, for a given delta value."
   ]
  },
  {
   "cell_type": "code",
   "execution_count": 6,
   "id": "b128446f",
   "metadata": {},
   "outputs": [],
   "source": [
    "def privacy_metrics(train_data, holdout_data, synthetic_data, delta):\n",
    "    \n",
    "    # synthetic_data[\"age\"] = synthetic_data[\"age\"].astype('category')\n",
    "    \n",
    "    # age_dummies = pd.get_dummies(synthetic_data['age'], drop_first=True)\n",
    "    \n",
    "    # age_dummies.columns = [str(x) for x in age_dummies.columns]\n",
    "    \n",
    "    # synthetic_data = synthetic_data.drop(\"age\", axis=1)\n",
    "    \n",
    "    # synthetic_data = pd.concat([synthetic_data, age_dummies], axis=1)\n",
    "    \n",
    "    # missing = train_data.columns[[x not in synthetic_data.columns for x in train_data.columns]]\n",
    "    \n",
    "    # if len(missing) > 0:\n",
    "        # for m in missing:\n",
    "            # new = pd.Series(np.zeros(synthetic_data.shape[0]))\n",
    "            # new.name = m\n",
    "            # synthetic_data = pd.concat([synthetic_data, new], axis=1)\n",
    "            \n",
    "    # print(synthetic_data)\n",
    "    \n",
    "    # print(training.columns[train_data.columns is in synthetic_data.columns])\n",
    "    \n",
    "    ###########################################\n",
    "    \n",
    "    scaler = StandardScaler()\n",
    "    \n",
    "    train_data_scaled = scaler.fit_transform(X=train_data) ####\n",
    "    \n",
    "    training_tree = KDTree(train_data_scaled)\n",
    "    \n",
    "    holdout_data_scaled = scaler.fit(X=train_data).transform(X=holdout_data) ####\n",
    "    \n",
    "    synthetic_data_scaled = scaler.fit(X=train_data).transform(X=synthetic_data) ####\n",
    "    \n",
    "    holdout_dists, holdout_neighbors = training_tree.query(x=holdout_data_scaled, k=5, p=2) ####\n",
    "    \n",
    "    synthetic_dists, synthetic_neighbors = training_tree.query(x=synthetic_data_scaled, k=5, p=2) ####\n",
    "    \n",
    "    IMS_holdout = np.mean(holdout_dists[:,0] <= delta)\n",
    "    \n",
    "    IMS_synthetic = np.mean(synthetic_dists[:,0] <= delta)\n",
    "    \n",
    "    DCR_holdout = np.percentile(holdout_dists[:,0], q=5)\n",
    "    \n",
    "    DCR_synthetic = np.percentile(synthetic_dists[:,0], q=5)\n",
    "    \n",
    "    ratios_synthetic = synthetic_dists[:,0]/synthetic_dists[:,-1]\n",
    "    \n",
    "    ratios_holdout = holdout_dists[:,0]/holdout_dists[:,-1]\n",
    "    \n",
    "    ratios_holdout = np.nan_to_num(ratios_holdout, nan=1.0)\n",
    "    \n",
    "    NNDR_synthetic = np.percentile(ratios_synthetic, q=5)\n",
    "    \n",
    "    NNDR_holdout = np.percentile(ratios_holdout, q=5)\n",
    "    \n",
    "    return ({\"IMS_holdout\": IMS_holdout, \"IMS_synthetic\": IMS_synthetic,\n",
    "             \"DCR_holdout\": DCR_holdout, \"DCR_synthetic\": DCR_synthetic,\n",
    "             \"NNDR_holdout\": NNDR_holdout, \"NNDR_synthetic\": NNDR_synthetic})"
   ]
  },
  {
   "cell_type": "code",
   "execution_count": 7,
   "id": "68a9d566",
   "metadata": {},
   "outputs": [],
   "source": [
    "sXs_logit_pmse = [pd.read_csv(\"Data/synthetic_datasets/logistic_optimizer_logistic_pmse_ipums_\" + str(i) + \".csv\") for i in range(20)]\n",
    "sXs_cart_mb_pmse = [pd.read_csv(\"Data/synthetic_datasets/cart_optimizer_logistic_pmse_ipums_\" + str(i) + \".csv\") for i in range(20)]\n",
    "sXs_mostly = [pd.read_csv(\"Data/synthetic_datasets/cleaned_ipums_data_\" + str(i) + \".csv\") for i in range(10)]"
   ]
  },
  {
   "cell_type": "code",
   "execution_count": 8,
   "id": "9e02ee4d",
   "metadata": {},
   "outputs": [],
   "source": [
    "def mean_privacy_diffs(training_data, holdout_datasets, synthetic_datasets, delta):\n",
    "    \n",
    "    metric_list = [privacy_metrics(training_data, holdout_datasets[i], Y, delta=delta) for i,Y in enumerate(synthetic_datasets)]\n",
    "    \n",
    "    return {\"DCR Diff (Synthetic - Holdout)\": np.round(np.mean([x['DCR_synthetic'] for x in metric_list]) - np.mean([x['DCR_holdout'] for x in metric_list]), 4),\n",
    "            \"NNDR Diff (Synthetic - Holdout)\": np.round(np.mean([x['NNDR_synthetic'] for x in metric_list]) - np.mean([x['NNDR_holdout'] for x in metric_list]), 4)}"
   ]
  },
  {
   "cell_type": "code",
   "execution_count": 9,
   "id": "566bfd28",
   "metadata": {},
   "outputs": [
    {
     "name": "stderr",
     "output_type": "stream",
     "text": [
      "C:\\Users\\Cameron\\AppData\\Local\\Temp\\ipykernel_21608\\3667416415.py:51: RuntimeWarning: invalid value encountered in divide\n",
      "  ratios_holdout = holdout_dists[:,0]/holdout_dists[:,-1]\n",
      "C:\\Users\\Cameron\\AppData\\Local\\Temp\\ipykernel_21608\\3667416415.py:51: RuntimeWarning: invalid value encountered in divide\n",
      "  ratios_holdout = holdout_dists[:,0]/holdout_dists[:,-1]\n",
      "C:\\Users\\Cameron\\AppData\\Local\\Temp\\ipykernel_21608\\3667416415.py:51: RuntimeWarning: invalid value encountered in divide\n",
      "  ratios_holdout = holdout_dists[:,0]/holdout_dists[:,-1]\n",
      "C:\\Users\\Cameron\\AppData\\Local\\Temp\\ipykernel_21608\\3667416415.py:51: RuntimeWarning: invalid value encountered in divide\n",
      "  ratios_holdout = holdout_dists[:,0]/holdout_dists[:,-1]\n",
      "C:\\Users\\Cameron\\AppData\\Local\\Temp\\ipykernel_21608\\3667416415.py:51: RuntimeWarning: invalid value encountered in divide\n",
      "  ratios_holdout = holdout_dists[:,0]/holdout_dists[:,-1]\n",
      "C:\\Users\\Cameron\\AppData\\Local\\Temp\\ipykernel_21608\\3667416415.py:51: RuntimeWarning: invalid value encountered in divide\n",
      "  ratios_holdout = holdout_dists[:,0]/holdout_dists[:,-1]\n",
      "C:\\Users\\Cameron\\AppData\\Local\\Temp\\ipykernel_21608\\3667416415.py:51: RuntimeWarning: invalid value encountered in divide\n",
      "  ratios_holdout = holdout_dists[:,0]/holdout_dists[:,-1]\n",
      "C:\\Users\\Cameron\\AppData\\Local\\Temp\\ipykernel_21608\\3667416415.py:51: RuntimeWarning: invalid value encountered in divide\n",
      "  ratios_holdout = holdout_dists[:,0]/holdout_dists[:,-1]\n",
      "C:\\Users\\Cameron\\AppData\\Local\\Temp\\ipykernel_21608\\3667416415.py:51: RuntimeWarning: invalid value encountered in divide\n",
      "  ratios_holdout = holdout_dists[:,0]/holdout_dists[:,-1]\n",
      "C:\\Users\\Cameron\\AppData\\Local\\Temp\\ipykernel_21608\\3667416415.py:51: RuntimeWarning: invalid value encountered in divide\n",
      "  ratios_holdout = holdout_dists[:,0]/holdout_dists[:,-1]\n",
      "C:\\Users\\Cameron\\AppData\\Local\\Temp\\ipykernel_21608\\3667416415.py:51: RuntimeWarning: invalid value encountered in divide\n",
      "  ratios_holdout = holdout_dists[:,0]/holdout_dists[:,-1]\n",
      "C:\\Users\\Cameron\\AppData\\Local\\Temp\\ipykernel_21608\\3667416415.py:51: RuntimeWarning: invalid value encountered in divide\n",
      "  ratios_holdout = holdout_dists[:,0]/holdout_dists[:,-1]\n",
      "C:\\Users\\Cameron\\AppData\\Local\\Temp\\ipykernel_21608\\3667416415.py:51: RuntimeWarning: invalid value encountered in divide\n",
      "  ratios_holdout = holdout_dists[:,0]/holdout_dists[:,-1]\n",
      "C:\\Users\\Cameron\\AppData\\Local\\Temp\\ipykernel_21608\\3667416415.py:51: RuntimeWarning: invalid value encountered in divide\n",
      "  ratios_holdout = holdout_dists[:,0]/holdout_dists[:,-1]\n",
      "C:\\Users\\Cameron\\AppData\\Local\\Temp\\ipykernel_21608\\3667416415.py:51: RuntimeWarning: invalid value encountered in divide\n",
      "  ratios_holdout = holdout_dists[:,0]/holdout_dists[:,-1]\n",
      "C:\\Users\\Cameron\\AppData\\Local\\Temp\\ipykernel_21608\\3667416415.py:51: RuntimeWarning: invalid value encountered in divide\n",
      "  ratios_holdout = holdout_dists[:,0]/holdout_dists[:,-1]\n",
      "C:\\Users\\Cameron\\AppData\\Local\\Temp\\ipykernel_21608\\3667416415.py:51: RuntimeWarning: invalid value encountered in divide\n",
      "  ratios_holdout = holdout_dists[:,0]/holdout_dists[:,-1]\n",
      "C:\\Users\\Cameron\\AppData\\Local\\Temp\\ipykernel_21608\\3667416415.py:51: RuntimeWarning: invalid value encountered in divide\n",
      "  ratios_holdout = holdout_dists[:,0]/holdout_dists[:,-1]\n",
      "C:\\Users\\Cameron\\AppData\\Local\\Temp\\ipykernel_21608\\3667416415.py:51: RuntimeWarning: invalid value encountered in divide\n",
      "  ratios_holdout = holdout_dists[:,0]/holdout_dists[:,-1]\n",
      "C:\\Users\\Cameron\\AppData\\Local\\Temp\\ipykernel_21608\\3667416415.py:51: RuntimeWarning: invalid value encountered in divide\n",
      "  ratios_holdout = holdout_dists[:,0]/holdout_dists[:,-1]\n",
      "C:\\Users\\Cameron\\AppData\\Local\\Temp\\ipykernel_21608\\3667416415.py:51: RuntimeWarning: invalid value encountered in divide\n",
      "  ratios_holdout = holdout_dists[:,0]/holdout_dists[:,-1]\n",
      "C:\\Users\\Cameron\\AppData\\Local\\Temp\\ipykernel_21608\\3667416415.py:51: RuntimeWarning: invalid value encountered in divide\n",
      "  ratios_holdout = holdout_dists[:,0]/holdout_dists[:,-1]\n",
      "C:\\Users\\Cameron\\AppData\\Local\\Temp\\ipykernel_21608\\3667416415.py:51: RuntimeWarning: invalid value encountered in divide\n",
      "  ratios_holdout = holdout_dists[:,0]/holdout_dists[:,-1]\n",
      "C:\\Users\\Cameron\\AppData\\Local\\Temp\\ipykernel_21608\\3667416415.py:51: RuntimeWarning: invalid value encountered in divide\n",
      "  ratios_holdout = holdout_dists[:,0]/holdout_dists[:,-1]\n",
      "C:\\Users\\Cameron\\AppData\\Local\\Temp\\ipykernel_21608\\3667416415.py:51: RuntimeWarning: invalid value encountered in divide\n",
      "  ratios_holdout = holdout_dists[:,0]/holdout_dists[:,-1]\n",
      "C:\\Users\\Cameron\\AppData\\Local\\Temp\\ipykernel_21608\\3667416415.py:51: RuntimeWarning: invalid value encountered in divide\n",
      "  ratios_holdout = holdout_dists[:,0]/holdout_dists[:,-1]\n",
      "C:\\Users\\Cameron\\AppData\\Local\\Temp\\ipykernel_21608\\3667416415.py:51: RuntimeWarning: invalid value encountered in divide\n",
      "  ratios_holdout = holdout_dists[:,0]/holdout_dists[:,-1]\n",
      "C:\\Users\\Cameron\\AppData\\Local\\Temp\\ipykernel_21608\\3667416415.py:51: RuntimeWarning: invalid value encountered in divide\n",
      "  ratios_holdout = holdout_dists[:,0]/holdout_dists[:,-1]\n",
      "C:\\Users\\Cameron\\AppData\\Local\\Temp\\ipykernel_21608\\3667416415.py:51: RuntimeWarning: invalid value encountered in divide\n",
      "  ratios_holdout = holdout_dists[:,0]/holdout_dists[:,-1]\n",
      "C:\\Users\\Cameron\\AppData\\Local\\Temp\\ipykernel_21608\\3667416415.py:51: RuntimeWarning: invalid value encountered in divide\n",
      "  ratios_holdout = holdout_dists[:,0]/holdout_dists[:,-1]\n",
      "C:\\Users\\Cameron\\AppData\\Local\\Temp\\ipykernel_21608\\3667416415.py:51: RuntimeWarning: invalid value encountered in divide\n",
      "  ratios_holdout = holdout_dists[:,0]/holdout_dists[:,-1]\n",
      "C:\\Users\\Cameron\\AppData\\Local\\Temp\\ipykernel_21608\\3667416415.py:51: RuntimeWarning: invalid value encountered in divide\n",
      "  ratios_holdout = holdout_dists[:,0]/holdout_dists[:,-1]\n",
      "C:\\Users\\Cameron\\AppData\\Local\\Temp\\ipykernel_21608\\3667416415.py:51: RuntimeWarning: invalid value encountered in divide\n",
      "  ratios_holdout = holdout_dists[:,0]/holdout_dists[:,-1]\n",
      "C:\\Users\\Cameron\\AppData\\Local\\Temp\\ipykernel_21608\\3667416415.py:51: RuntimeWarning: invalid value encountered in divide\n",
      "  ratios_holdout = holdout_dists[:,0]/holdout_dists[:,-1]\n",
      "C:\\Users\\Cameron\\AppData\\Local\\Temp\\ipykernel_21608\\3667416415.py:51: RuntimeWarning: invalid value encountered in divide\n",
      "  ratios_holdout = holdout_dists[:,0]/holdout_dists[:,-1]\n",
      "C:\\Users\\Cameron\\AppData\\Local\\Temp\\ipykernel_21608\\3667416415.py:51: RuntimeWarning: invalid value encountered in divide\n",
      "  ratios_holdout = holdout_dists[:,0]/holdout_dists[:,-1]\n",
      "C:\\Users\\Cameron\\AppData\\Local\\Temp\\ipykernel_21608\\3667416415.py:51: RuntimeWarning: invalid value encountered in divide\n",
      "  ratios_holdout = holdout_dists[:,0]/holdout_dists[:,-1]\n",
      "C:\\Users\\Cameron\\AppData\\Local\\Temp\\ipykernel_21608\\3667416415.py:51: RuntimeWarning: invalid value encountered in divide\n",
      "  ratios_holdout = holdout_dists[:,0]/holdout_dists[:,-1]\n",
      "C:\\Users\\Cameron\\AppData\\Local\\Temp\\ipykernel_21608\\3667416415.py:51: RuntimeWarning: invalid value encountered in divide\n",
      "  ratios_holdout = holdout_dists[:,0]/holdout_dists[:,-1]\n",
      "C:\\Users\\Cameron\\AppData\\Local\\Temp\\ipykernel_21608\\3667416415.py:51: RuntimeWarning: invalid value encountered in divide\n",
      "  ratios_holdout = holdout_dists[:,0]/holdout_dists[:,-1]\n",
      "C:\\Users\\Cameron\\AppData\\Local\\Temp\\ipykernel_21608\\3667416415.py:51: RuntimeWarning: invalid value encountered in divide\n",
      "  ratios_holdout = holdout_dists[:,0]/holdout_dists[:,-1]\n",
      "C:\\Users\\Cameron\\AppData\\Local\\Temp\\ipykernel_21608\\3667416415.py:51: RuntimeWarning: invalid value encountered in divide\n",
      "  ratios_holdout = holdout_dists[:,0]/holdout_dists[:,-1]\n",
      "C:\\Users\\Cameron\\AppData\\Local\\Temp\\ipykernel_21608\\3667416415.py:51: RuntimeWarning: invalid value encountered in divide\n",
      "  ratios_holdout = holdout_dists[:,0]/holdout_dists[:,-1]\n",
      "C:\\Users\\Cameron\\AppData\\Local\\Temp\\ipykernel_21608\\3667416415.py:51: RuntimeWarning: invalid value encountered in divide\n",
      "  ratios_holdout = holdout_dists[:,0]/holdout_dists[:,-1]\n",
      "C:\\Users\\Cameron\\AppData\\Local\\Temp\\ipykernel_21608\\3667416415.py:51: RuntimeWarning: invalid value encountered in divide\n",
      "  ratios_holdout = holdout_dists[:,0]/holdout_dists[:,-1]\n",
      "C:\\Users\\Cameron\\AppData\\Local\\Temp\\ipykernel_21608\\3667416415.py:51: RuntimeWarning: invalid value encountered in divide\n",
      "  ratios_holdout = holdout_dists[:,0]/holdout_dists[:,-1]\n"
     ]
    },
    {
     "name": "stderr",
     "output_type": "stream",
     "text": [
      "C:\\Users\\Cameron\\AppData\\Local\\Temp\\ipykernel_21608\\3667416415.py:51: RuntimeWarning: invalid value encountered in divide\n",
      "  ratios_holdout = holdout_dists[:,0]/holdout_dists[:,-1]\n",
      "C:\\Users\\Cameron\\AppData\\Local\\Temp\\ipykernel_21608\\3667416415.py:51: RuntimeWarning: invalid value encountered in divide\n",
      "  ratios_holdout = holdout_dists[:,0]/holdout_dists[:,-1]\n",
      "C:\\Users\\Cameron\\AppData\\Local\\Temp\\ipykernel_21608\\3667416415.py:51: RuntimeWarning: invalid value encountered in divide\n",
      "  ratios_holdout = holdout_dists[:,0]/holdout_dists[:,-1]\n",
      "C:\\Users\\Cameron\\AppData\\Local\\Temp\\ipykernel_21608\\3667416415.py:51: RuntimeWarning: invalid value encountered in divide\n",
      "  ratios_holdout = holdout_dists[:,0]/holdout_dists[:,-1]\n"
     ]
    },
    {
     "data": {
      "text/plain": [
       "[{'DCR Diff (Synthetic - Holdout)': 0.0048,\n",
       "  'NNDR Diff (Synthetic - Holdout)': 0.1953},\n",
       " {'DCR Diff (Synthetic - Holdout)': 0.0045,\n",
       "  'NNDR Diff (Synthetic - Holdout)': 0.1891},\n",
       " {'DCR Diff (Synthetic - Holdout)': 0.0021,\n",
       "  'NNDR Diff (Synthetic - Holdout)': 0.1209}]"
      ]
     },
     "execution_count": 9,
     "metadata": {},
     "output_type": "execute_result"
    }
   ],
   "source": [
    "temp = [sXs_logit_pmse, sXs_cart_mb_pmse, sXs_mostly]\n",
    "\n",
    "[mean_privacy_diffs(train, holdout_datasets, x, delta) for x in temp]"
   ]
  },
  {
   "cell_type": "markdown",
   "id": "814aa4e3",
   "metadata": {},
   "source": [
    "***"
   ]
  },
  {
   "cell_type": "markdown",
   "id": "7efa7593",
   "metadata": {},
   "source": [
    "Examine how IMS diff changes with $\\delta$"
   ]
  },
  {
   "cell_type": "code",
   "execution_count": 10,
   "id": "b60efe64",
   "metadata": {},
   "outputs": [],
   "source": [
    "def ims_range(train_data, synthetic_data, delta):\n",
    "    \n",
    "    ###########################################\n",
    "    \n",
    "    scaler = StandardScaler()\n",
    "    \n",
    "    train_data_scaled = scaler.fit_transform(X=train_data) ####\n",
    "    \n",
    "    training_tree = KDTree(train_data_scaled)\n",
    "    \n",
    "    synthetic_data_scaled = scaler.fit(X=train_data).transform(X=synthetic_data) ####\n",
    "    \n",
    "    synthetic_dists, synthetic_neighbors = training_tree.query(x=synthetic_data_scaled, k=5, p=2) ####\n",
    "    \n",
    "    IMS_synthetic = np.mean(synthetic_dists[:,0] <= delta)\n",
    "    \n",
    "    return IMS_synthetic"
   ]
  },
  {
   "cell_type": "code",
   "execution_count": 11,
   "id": "0ed76b08",
   "metadata": {},
   "outputs": [],
   "source": [
    "def ims_apply(train_data, synthetic_data_sets, delta_vals):\n",
    "    ims = [[ims_range(train_data=train_data, synthetic_data=y, delta=x) for x in delta_vals] for y in synthetic_data_sets]\n",
    "    avg_ims = np.mean(np.vstack(ims), axis=0)\n",
    "    return avg_ims"
   ]
  },
  {
   "cell_type": "code",
   "execution_count": 12,
   "id": "14eb0fb1",
   "metadata": {},
   "outputs": [],
   "source": [
    "delta_vals = np.linspace(0.00001, 1.0, 20)"
   ]
  },
  {
   "cell_type": "code",
   "execution_count": 13,
   "id": "ffc1a529",
   "metadata": {},
   "outputs": [],
   "source": [
    "avg_holdout_ims = ims_apply(train, holdout_datasets, delta_vals)\n",
    "avg_cart_ims = ims_apply(train, sXs_cart_mb_pmse, delta_vals)\n",
    "avg_mnl_ims = ims_apply(train, sXs_logit_pmse, delta_vals)\n",
    "avg_mostly_ims = ims_apply(train, sXs_mostly, delta_vals)"
   ]
  },
  {
   "cell_type": "code",
   "execution_count": 14,
   "id": "2105c975",
   "metadata": {},
   "outputs": [
    {
     "data": {
      "image/png": "[encoded data removed]",
      "text/plain": [
       "<Figure size 640x480 with 1 Axes>"
      ]
     },
     "metadata": {},
     "output_type": "display_data"
    }
   ],
   "source": [
    "plt.plot(delta_vals, avg_holdout_ims)\n",
    "plt.scatter(delta_vals, avg_holdout_ims, s=6, label=\"Holdout\")\n",
    "\n",
    "plt.plot(delta_vals, avg_mnl_ims)\n",
    "plt.scatter(delta_vals, avg_mnl_ims, s=6, label=\"MNL\")\n",
    "\n",
    "plt.plot(delta_vals, avg_cart_ims)\n",
    "plt.scatter(delta_vals, avg_cart_ims, s=6, label=\"CART\")\n",
    "\n",
    "plt.plot(delta_vals, avg_mostly_ims)\n",
    "plt.scatter(delta_vals, avg_mostly_ims, s=6, label=\"MOSTLY.AI\")\n",
    "\n",
    "plt.title(\"Average IMS Across Data Sets\")\n",
    "plt.xlabel(\"Delta\")\n",
    "plt.ylabel(\"IMS\")\n",
    "\n",
    "plt.legend()\n",
    "plt.show()"
   ]
  },
  {
   "cell_type": "markdown",
   "id": "00cd2ca8",
   "metadata": {},
   "source": [
    "***"
   ]
  },
  {
   "cell_type": "markdown",
   "id": "89c3cca9",
   "metadata": {},
   "source": [
    "Assess attribute disclosure for racial status."
   ]
  },
  {
   "cell_type": "markdown",
   "id": "685194b5",
   "metadata": {},
   "source": [
    "Let's start with the adversary's prior.\n",
    "\n",
    "I don't have information on population race proportions, so we'll use the overall proportion from the full data set (at least for now)."
   ]
  },
  {
   "cell_type": "code",
   "execution_count": 15,
   "id": "283f98b9",
   "metadata": {},
   "outputs": [],
   "source": [
    "prior_prob = np.mean(train.non_white)"
   ]
  },
  {
   "cell_type": "code",
   "execution_count": 16,
   "id": "472156b6",
   "metadata": {},
   "outputs": [
    {
     "data": {
      "text/plain": [
       "0.14195270939946197"
      ]
     },
     "execution_count": 16,
     "metadata": {},
     "output_type": "execute_result"
    }
   ],
   "source": [
    "prior_prob"
   ]
  },
  {
   "cell_type": "code",
   "execution_count": 17,
   "id": "e45292d8",
   "metadata": {},
   "outputs": [],
   "source": [
    "def inference_evaluation(original_data, synthetic_data, prior_prob, deltas):\n",
    "    \n",
    "    full_inf_conds = []\n",
    "    full_indices = []\n",
    "    \n",
    "    # tree for original locations\n",
    "    orig_tree = KDTree(original_data[[\"INCWAGE\", \"years_of_educ\", \"potential_experience\"]])\n",
    "    \n",
    "    # tree for synthetic locations\n",
    "    sX_tree = KDTree(synthetic_data[[\"INCWAGE\", \"years_of_educ\", \"potential_experience\"]])\n",
    "    \n",
    "    for d in deltas:\n",
    "        \n",
    "        # lists to store the inference condition for each original row and the indices of those rows that violate\n",
    "        inf_conds = []\n",
    "    \n",
    "        # find synthetic neighbors of each original point\n",
    "        location_neighbors = orig_tree.query_ball_tree(sX_tree, r=d, p=2.0)\n",
    "    \n",
    "        # for each original record\n",
    "        for i,row in original_data.iterrows():\n",
    "        \n",
    "            # matches on categorical attributes from location neighbors\n",
    "            categorical_matches = (synthetic_data.loc[location_neighbors[i], 'SEX'] == row['SEX'])\n",
    "            \n",
    "            matching_rows = synthetic_data.loc[location_neighbors[i],:].loc[categorical_matches.values,:]\n",
    "            \n",
    "            if matching_rows.shape[0] > 0:\n",
    "                \n",
    "                if row['non_white'] == 1.0:\n",
    "                    prior = prior_prob\n",
    "                else:\n",
    "                    prior = 1 - prior_prob\n",
    "            \n",
    "                cond = np.mean(matching_rows['non_white'] == row['non_white'])/prior\n",
    "                \n",
    "            else:\n",
    "                \n",
    "                cond = 1\n",
    "        \n",
    "            # store number of matches and their indices\n",
    "            inf_conds.append(cond)\n",
    "        \n",
    "        inf_conds = pd.Series(inf_conds)\n",
    "        \n",
    "        full_inf_conds.append(inf_conds)\n",
    "        \n",
    "    print(\"Dataset completed.\")\n",
    "        \n",
    "    return full_inf_conds"
   ]
  },
  {
   "cell_type": "code",
   "execution_count": 19,
   "id": "cb961759",
   "metadata": {},
   "outputs": [
    {
     "ename": "MemoryError",
     "evalue": "",
     "output_type": "error",
     "traceback": [
      "\u001b[1;31m---------------------------------------------------------------------------\u001b[0m",
      "\u001b[1;31mMemoryError\u001b[0m                               Traceback (most recent call last)",
      "Cell \u001b[1;32mIn[19], line 1\u001b[0m\n\u001b[1;32m----> 1\u001b[0m holdout_inf \u001b[38;5;241m=\u001b[39m [inference_evaluation(train, Y, prior_prob, delta_vals) \u001b[38;5;28;01mfor\u001b[39;00m Y \u001b[38;5;129;01min\u001b[39;00m holdout_datasets]\n\u001b[0;32m      2\u001b[0m holdout_inf \u001b[38;5;241m=\u001b[39m [pd\u001b[38;5;241m.\u001b[39mconcat(x, axis\u001b[38;5;241m=\u001b[39m\u001b[38;5;241m1\u001b[39m) \u001b[38;5;28;01mfor\u001b[39;00m x \u001b[38;5;129;01min\u001b[39;00m holdout_inf]\n",
      "Cell \u001b[1;32mIn[19], line 1\u001b[0m, in \u001b[0;36m<listcomp>\u001b[1;34m(.0)\u001b[0m\n\u001b[1;32m----> 1\u001b[0m holdout_inf \u001b[38;5;241m=\u001b[39m [inference_evaluation(train, Y, prior_prob, delta_vals) \u001b[38;5;28;01mfor\u001b[39;00m Y \u001b[38;5;129;01min\u001b[39;00m holdout_datasets]\n\u001b[0;32m      2\u001b[0m holdout_inf \u001b[38;5;241m=\u001b[39m [pd\u001b[38;5;241m.\u001b[39mconcat(x, axis\u001b[38;5;241m=\u001b[39m\u001b[38;5;241m1\u001b[39m) \u001b[38;5;28;01mfor\u001b[39;00m x \u001b[38;5;129;01min\u001b[39;00m holdout_inf]\n",
      "Cell \u001b[1;32mIn[17], line 18\u001b[0m, in \u001b[0;36minference_evaluation\u001b[1;34m(original_data, synthetic_data, prior_prob, deltas)\u001b[0m\n\u001b[0;32m     15\u001b[0m inf_conds \u001b[38;5;241m=\u001b[39m []\n\u001b[0;32m     17\u001b[0m \u001b[38;5;66;03m# find synthetic neighbors of each original point\u001b[39;00m\n\u001b[1;32m---> 18\u001b[0m location_neighbors \u001b[38;5;241m=\u001b[39m orig_tree\u001b[38;5;241m.\u001b[39mquery_ball_tree(sX_tree, r\u001b[38;5;241m=\u001b[39md, p\u001b[38;5;241m=\u001b[39m\u001b[38;5;241m2.0\u001b[39m)\n\u001b[0;32m     20\u001b[0m \u001b[38;5;66;03m# for each original record\u001b[39;00m\n\u001b[0;32m     21\u001b[0m \u001b[38;5;28;01mfor\u001b[39;00m i,row \u001b[38;5;129;01min\u001b[39;00m original_data\u001b[38;5;241m.\u001b[39miterrows():\n\u001b[0;32m     22\u001b[0m \n\u001b[0;32m     23\u001b[0m     \u001b[38;5;66;03m# matches on categorical attributes from location neighbors\u001b[39;00m\n",
      "File \u001b[1;32m~\\anaconda3\\Lib\\site-packages\\scipy\\spatial\\_kdtree.py:606\u001b[0m, in \u001b[0;36mKDTree.query_ball_tree\u001b[1;34m(self, other, r, p, eps)\u001b[0m\n\u001b[0;32m    557\u001b[0m \u001b[38;5;28;01mdef\u001b[39;00m \u001b[38;5;21mquery_ball_tree\u001b[39m(\u001b[38;5;28mself\u001b[39m, other, r, p\u001b[38;5;241m=\u001b[39m\u001b[38;5;241m2.\u001b[39m, eps\u001b[38;5;241m=\u001b[39m\u001b[38;5;241m0\u001b[39m):\n\u001b[0;32m    558\u001b[0m \u001b[38;5;250m    \u001b[39m\u001b[38;5;124;03m\"\"\"\u001b[39;00m\n\u001b[0;32m    559\u001b[0m \u001b[38;5;124;03m    Find all pairs of points between `self` and `other` whose distance is\u001b[39;00m\n\u001b[0;32m    560\u001b[0m \u001b[38;5;124;03m    at most r.\u001b[39;00m\n\u001b[1;32m   (...)\u001b[0m\n\u001b[0;32m    604\u001b[0m \n\u001b[0;32m    605\u001b[0m \u001b[38;5;124;03m    \"\"\"\u001b[39;00m\n\u001b[1;32m--> 606\u001b[0m     \u001b[38;5;28;01mreturn\u001b[39;00m \u001b[38;5;28msuper\u001b[39m()\u001b[38;5;241m.\u001b[39mquery_ball_tree(other, r, p, eps)\n",
      "File \u001b[1;32m_ckdtree.pyx:1077\u001b[0m, in \u001b[0;36mscipy.spatial._ckdtree.cKDTree.query_ball_tree\u001b[1;34m()\u001b[0m\n",
      "\u001b[1;31mMemoryError\u001b[0m: "
     ]
    }
   ],
   "source": [
    "holdout_inf = [inference_evaluation(train, Y, prior_prob, delta_vals) for Y in holdout_datasets]\n",
    "holdout_inf = [pd.concat(x, axis=1) for x in holdout_inf]"
   ]
  },
  {
   "cell_type": "code",
   "execution_count": null,
   "id": "6edbf28a",
   "metadata": {},
   "outputs": [],
   "source": [
    "for i in range(20):\n",
    "    holdout_inf[i].to_csv(\"Data/privacy_results/holdout_inf_\" + str(i) + \".csv\", index=False)\n",
    "holdout_inf = [pd.read_csv(\"Data/privacy_results/holdout_inf_\" + str(i) + \".csv\") for i in range(20)]"
   ]
  },
  {
   "cell_type": "code",
   "execution_count": null,
   "id": "db28f23e",
   "metadata": {},
   "outputs": [],
   "source": [
    "mnl_inf = [inference_evaluation(train, Y, prior_death_prob, delta_vals) for Y in sXs_logit_pmse]\n",
    "mnl_inf = [pd.concat(x, axis=1) for x in mnl_inf]"
   ]
  },
  {
   "cell_type": "code",
   "execution_count": null,
   "id": "dec507fb",
   "metadata": {},
   "outputs": [],
   "source": [
    "for i in range(20):\n",
    "    mnl_inf[i].to_csv(\"Data/privacy_results/mnl_inf_\" + str(i) + \".csv\", index=False)\n",
    "mnl_inf = [pd.read_csv(\"Data/privacy_results/mnl_inf_\" + str(i) + \".csv\") for i in range(20)]"
   ]
  },
  {
   "cell_type": "code",
   "execution_count": null,
   "id": "68d7bb83",
   "metadata": {},
   "outputs": [],
   "source": [
    "cart_inf = [inference_evaluation(train, Y, prior_death_prob, delta_vals) for Y in sXs_cart_mb_pmse]\n",
    "cart_inf = [pd.concat(x, axis=1) for x in cart_inf]"
   ]
  },
  {
   "cell_type": "code",
   "execution_count": null,
   "id": "1036fff9",
   "metadata": {},
   "outputs": [],
   "source": [
    "for i in range(20):\n",
    "    cart_inf[i].to_csv(\"Data/privacy_results/cart_inf_\" + str(i) + \".csv\", index=False)\n",
    "cart_inf = [pd.read_csv(\"Data/privacy_results/cart_inf_\" + str(i) + \".csv\") for i in range(20)]"
   ]
  },
  {
   "cell_type": "code",
   "execution_count": null,
   "id": "d4181cc2",
   "metadata": {},
   "outputs": [],
   "source": [
    "mostly_inf = [inference_evaluation(train, Y, prior_death_prob, delta_vals) for Y in sXs_mostly]\n",
    "mostly_inf = [pd.concat(x, axis=1) for x in mostly_inf]"
   ]
  },
  {
   "cell_type": "code",
   "execution_count": null,
   "id": "b7b13065",
   "metadata": {},
   "outputs": [],
   "source": [
    "for i in range(20):\n",
    "    mostly_inf[i].to_csv(\"Data/privacy_results/mostly_inf_\" + str(i) + \".csv\", index=False)\n",
    "mostly_inf = [pd.read_csv(\"Data/privacy_results/mostly_inf_\" + str(i) + \".csv\") for i in range(20)]"
   ]
  },
  {
   "cell_type": "markdown",
   "id": "b1319da4",
   "metadata": {},
   "source": [
    "Need to calculate the maximum increase in inference in each data set."
   ]
  },
  {
   "cell_type": "code",
   "execution_count": null,
   "id": "426ad297",
   "metadata": {},
   "outputs": [],
   "source": [
    "max_holdout_inf = [np.max(x, axis=0) for x in holdout_inf]\n",
    "max_mnl_inf = [np.max(x, axis=0) for x in mnl_inf]\n",
    "max_cart_inf = [np.max(x, axis=0) for x in cart_inf]\n",
    "max_mostly_inf = [np.max(x, axis=0) for x in mostly_inf]"
   ]
  },
  {
   "cell_type": "markdown",
   "id": "a693ab5c",
   "metadata": {},
   "source": [
    "Could look at the distribution of the maximum increase for each data set."
   ]
  },
  {
   "cell_type": "code",
   "execution_count": null,
   "id": "c6c8b52a",
   "metadata": {},
   "outputs": [],
   "source": [
    "avg_max_holdout = np.mean(pd.concat(max_holdout_inf, axis=1), axis=1)\n",
    "avg_max_mnl = np.mean(pd.concat(max_mnl_inf, axis=1), axis=1)\n",
    "avg_max_mnl_prev = np.mean(pd.concat(max_mnl_inf_prev, axis=1), axis=1)\n",
    "avg_max_cart = np.mean(pd.concat(max_cart_inf, axis=1), axis=1)\n",
    "avg_max_cart_prev = np.mean(pd.concat(max_cart_inf_prev, axis=1), axis=1)\n",
    "avg_max_mostly = np.mean(pd.concat(max_mostly_inf, axis=1), axis=1)"
   ]
  },
  {
   "cell_type": "code",
   "execution_count": null,
   "id": "a43fa485",
   "metadata": {},
   "outputs": [],
   "source": [
    "plt.plot(delta_vals, avg_max_holdout)\n",
    "plt.scatter(delta_vals, avg_max_holdout, s=6, label=\"Holdout\")\n",
    "\n",
    "plt.plot(delta_vals, avg_max_mnl)\n",
    "plt.scatter(delta_vals, avg_max_mnl, s=6, label=\"MNL\")\n",
    "\n",
    "plt.plot(delta_vals, avg_max_mnl_prev)\n",
    "plt.scatter(delta_vals, avg_max_mnl_prev, s=6, label=\"MNL - Inference\")\n",
    "\n",
    "plt.plot(delta_vals, avg_max_cart)\n",
    "plt.scatter(delta_vals, avg_max_cart, s=6, label=\"CART\")\n",
    "\n",
    "plt.plot(delta_vals, avg_max_cart_prev)\n",
    "plt.scatter(delta_vals, avg_max_cart_prev, s=6, label=\"CART - Inference\")\n",
    "\n",
    "plt.plot(delta_vals, avg_max_mostly)\n",
    "plt.scatter(delta_vals, avg_max_mostly, s=6, label=\"MOSTLY.AI\")\n",
    "\n",
    "plt.title(\"Average Maximum Increase in Inference\")\n",
    "plt.xlabel(\"Delta\")\n",
    "plt.ylabel(\"Average Maximum Increase in Inference\")\n",
    "\n",
    "plt.legend()\n",
    "plt.show()"
   ]
  },
  {
   "cell_type": "code",
   "execution_count": null,
   "id": "9eb91cae",
   "metadata": {},
   "outputs": [],
   "source": []
  }
 ],
 "metadata": {
  "kernelspec": {
   "display_name": "Python 3 (ipykernel)",
   "language": "python",
   "name": "python3"
  },
  "language_info": {
   "codemirror_mode": {
    "name": "ipython",
    "version": 3
   },
   "file_extension": ".py",
   "mimetype": "text/x-python",
   "name": "python",
   "nbconvert_exporter": "python",
   "pygments_lexer": "ipython3",
   "version": "3.11.5"
  }
 },
 "nbformat": 4,
 "nbformat_minor": 5
}
