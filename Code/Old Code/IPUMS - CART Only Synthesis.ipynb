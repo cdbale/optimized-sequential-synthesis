{
 "cells": [
  {
   "cell_type": "markdown",
   "id": "96f48262",
   "metadata": {},
   "source": [
    "This notebook performs the synthesis using our proposed synthesization approach applied to the IPUMS data. The synthesis model is a CART. Logistic regression with three way interactions is used as the pMSE model."
   ]
  },
  {
   "cell_type": "code",
   "execution_count": 1,
   "id": "2d3f5c21",
   "metadata": {},
   "outputs": [],
   "source": [
    "from numpy.random import default_rng\n",
    "import matplotlib.pyplot as plt\n",
    "import itertools\n",
    "import pickle\n",
    "\n",
    "from sklearn.tree import DecisionTreeClassifier\n",
    "\n",
    "from bayes_opt import BayesianOptimization\n",
    "from bayes_opt import UtilityFunction\n",
    "\n",
    "# from bayesian_bootstrap import bayesian_bootstrap\n",
    "\n",
    "from helper_functions import *\n",
    "\n",
    "rng = np.random.RandomState(42)"
   ]
  },
  {
   "cell_type": "markdown",
   "id": "76a8ccbc",
   "metadata": {},
   "source": [
    "Import the data."
   ]
  },
  {
   "cell_type": "code",
   "execution_count": 2,
   "id": "730c2f2e",
   "metadata": {},
   "outputs": [],
   "source": [
    "# import standardized lat/long location data\n",
    "train_data_original = pd.read_csv(\"../Data/IPUMS/non_normalized_cleaned_ipums_data.csv\")\n",
    "train_data_categorical = train_data_original.copy()"
   ]
  },
  {
   "cell_type": "code",
   "execution_count": 3,
   "id": "5fb46ada",
   "metadata": {},
   "outputs": [
    {
     "data": {
      "text/html": [
       "<div>\n",
       "<style scoped>\n",
       "    .dataframe tbody tr th:only-of-type {\n",
       "        vertical-align: middle;\n",
       "    }\n",
       "\n",
       "    .dataframe tbody tr th {\n",
       "        vertical-align: top;\n",
       "    }\n",
       "\n",
       "    .dataframe thead th {\n",
       "        text-align: right;\n",
       "    }\n",
       "</style>\n",
       "<table border=\"1\" class=\"dataframe\">\n",
       "  <thead>\n",
       "    <tr style=\"text-align: right;\">\n",
       "      <th></th>\n",
       "      <th>incwage</th>\n",
       "      <th>years_of_educ</th>\n",
       "      <th>potential_experience</th>\n",
       "      <th>non_white</th>\n",
       "      <th>sex</th>\n",
       "    </tr>\n",
       "  </thead>\n",
       "  <tbody>\n",
       "    <tr>\n",
       "      <th>0</th>\n",
       "      <td>11000</td>\n",
       "      <td>16.000000</td>\n",
       "      <td>18.000000</td>\n",
       "      <td>0</td>\n",
       "      <td>1</td>\n",
       "    </tr>\n",
       "    <tr>\n",
       "      <th>1</th>\n",
       "      <td>38000</td>\n",
       "      <td>15.000000</td>\n",
       "      <td>23.000000</td>\n",
       "      <td>0</td>\n",
       "      <td>0</td>\n",
       "    </tr>\n",
       "    <tr>\n",
       "      <th>2</th>\n",
       "      <td>7000</td>\n",
       "      <td>13.000000</td>\n",
       "      <td>2.000000</td>\n",
       "      <td>0</td>\n",
       "      <td>0</td>\n",
       "    </tr>\n",
       "    <tr>\n",
       "      <th>3</th>\n",
       "      <td>2600</td>\n",
       "      <td>11.000000</td>\n",
       "      <td>0.000000</td>\n",
       "      <td>0</td>\n",
       "      <td>0</td>\n",
       "    </tr>\n",
       "    <tr>\n",
       "      <th>4</th>\n",
       "      <td>20800</td>\n",
       "      <td>12.000000</td>\n",
       "      <td>33.000000</td>\n",
       "      <td>1</td>\n",
       "      <td>0</td>\n",
       "    </tr>\n",
       "    <tr>\n",
       "      <th>...</th>\n",
       "      <td>...</td>\n",
       "      <td>...</td>\n",
       "      <td>...</td>\n",
       "      <td>...</td>\n",
       "      <td>...</td>\n",
       "    </tr>\n",
       "    <tr>\n",
       "      <th>197751</th>\n",
       "      <td>22500</td>\n",
       "      <td>16.000000</td>\n",
       "      <td>13.000000</td>\n",
       "      <td>0</td>\n",
       "      <td>0</td>\n",
       "    </tr>\n",
       "    <tr>\n",
       "      <th>197752</th>\n",
       "      <td>4500</td>\n",
       "      <td>16.000000</td>\n",
       "      <td>11.000000</td>\n",
       "      <td>0</td>\n",
       "      <td>1</td>\n",
       "    </tr>\n",
       "    <tr>\n",
       "      <th>197753</th>\n",
       "      <td>37000</td>\n",
       "      <td>17.737673</td>\n",
       "      <td>19.262327</td>\n",
       "      <td>0</td>\n",
       "      <td>0</td>\n",
       "    </tr>\n",
       "    <tr>\n",
       "      <th>197754</th>\n",
       "      <td>1500</td>\n",
       "      <td>15.000000</td>\n",
       "      <td>13.000000</td>\n",
       "      <td>0</td>\n",
       "      <td>1</td>\n",
       "    </tr>\n",
       "    <tr>\n",
       "      <th>197755</th>\n",
       "      <td>45100</td>\n",
       "      <td>16.000000</td>\n",
       "      <td>32.000000</td>\n",
       "      <td>0</td>\n",
       "      <td>0</td>\n",
       "    </tr>\n",
       "  </tbody>\n",
       "</table>\n",
       "<p>197756 rows × 5 columns</p>\n",
       "</div>"
      ],
      "text/plain": [
       "        incwage  years_of_educ  potential_experience  non_white  sex\n",
       "0         11000      16.000000             18.000000          0    1\n",
       "1         38000      15.000000             23.000000          0    0\n",
       "2          7000      13.000000              2.000000          0    0\n",
       "3          2600      11.000000              0.000000          0    0\n",
       "4         20800      12.000000             33.000000          1    0\n",
       "...         ...            ...                   ...        ...  ...\n",
       "197751    22500      16.000000             13.000000          0    0\n",
       "197752     4500      16.000000             11.000000          0    1\n",
       "197753    37000      17.737673             19.262327          0    0\n",
       "197754     1500      15.000000             13.000000          0    1\n",
       "197755    45100      16.000000             32.000000          0    0\n",
       "\n",
       "[197756 rows x 5 columns]"
      ]
     },
     "execution_count": 3,
     "metadata": {},
     "output_type": "execute_result"
    }
   ],
   "source": [
    "train_data_original"
   ]
  },
  {
   "cell_type": "code",
   "execution_count": 4,
   "id": "cfa7f00d-80e3-4927-ac99-c56274720206",
   "metadata": {},
   "outputs": [],
   "source": [
    "cat_columns = ['years_of_educ', 'potential_experience']\n",
    "train_data_categorical[cat_columns] = train_data_categorical[cat_columns].apply(lambda x: x.astype('category'))\n",
    "categories = train_data_categorical[cat_columns].apply(lambda x: x.cat.categories)\n",
    "train_data_categorical[cat_columns] = train_data_categorical[cat_columns].apply(lambda x: x.cat.codes)"
   ]
  },
  {
   "cell_type": "code",
   "execution_count": 5,
   "id": "9dd08d48-821b-4102-85b4-5ddd35014394",
   "metadata": {},
   "outputs": [
    {
     "data": {
      "text/html": [
       "<div>\n",
       "<style scoped>\n",
       "    .dataframe tbody tr th:only-of-type {\n",
       "        vertical-align: middle;\n",
       "    }\n",
       "\n",
       "    .dataframe tbody tr th {\n",
       "        vertical-align: top;\n",
       "    }\n",
       "\n",
       "    .dataframe thead th {\n",
       "        text-align: right;\n",
       "    }\n",
       "</style>\n",
       "<table border=\"1\" class=\"dataframe\">\n",
       "  <thead>\n",
       "    <tr style=\"text-align: right;\">\n",
       "      <th></th>\n",
       "      <th>incwage</th>\n",
       "      <th>years_of_educ</th>\n",
       "      <th>potential_experience</th>\n",
       "      <th>non_white</th>\n",
       "      <th>sex</th>\n",
       "    </tr>\n",
       "  </thead>\n",
       "  <tbody>\n",
       "    <tr>\n",
       "      <th>0</th>\n",
       "      <td>11000</td>\n",
       "      <td>11</td>\n",
       "      <td>85</td>\n",
       "      <td>0</td>\n",
       "      <td>1</td>\n",
       "    </tr>\n",
       "    <tr>\n",
       "      <th>1</th>\n",
       "      <td>38000</td>\n",
       "      <td>10</td>\n",
       "      <td>115</td>\n",
       "      <td>0</td>\n",
       "      <td>0</td>\n",
       "    </tr>\n",
       "    <tr>\n",
       "      <th>2</th>\n",
       "      <td>7000</td>\n",
       "      <td>8</td>\n",
       "      <td>5</td>\n",
       "      <td>0</td>\n",
       "      <td>0</td>\n",
       "    </tr>\n",
       "    <tr>\n",
       "      <th>3</th>\n",
       "      <td>2600</td>\n",
       "      <td>6</td>\n",
       "      <td>0</td>\n",
       "      <td>0</td>\n",
       "      <td>0</td>\n",
       "    </tr>\n",
       "    <tr>\n",
       "      <th>4</th>\n",
       "      <td>20800</td>\n",
       "      <td>7</td>\n",
       "      <td>175</td>\n",
       "      <td>1</td>\n",
       "      <td>0</td>\n",
       "    </tr>\n",
       "    <tr>\n",
       "      <th>...</th>\n",
       "      <td>...</td>\n",
       "      <td>...</td>\n",
       "      <td>...</td>\n",
       "      <td>...</td>\n",
       "      <td>...</td>\n",
       "    </tr>\n",
       "    <tr>\n",
       "      <th>197751</th>\n",
       "      <td>22500</td>\n",
       "      <td>11</td>\n",
       "      <td>56</td>\n",
       "      <td>0</td>\n",
       "      <td>0</td>\n",
       "    </tr>\n",
       "    <tr>\n",
       "      <th>197752</th>\n",
       "      <td>4500</td>\n",
       "      <td>11</td>\n",
       "      <td>44</td>\n",
       "      <td>0</td>\n",
       "      <td>1</td>\n",
       "    </tr>\n",
       "    <tr>\n",
       "      <th>197753</th>\n",
       "      <td>37000</td>\n",
       "      <td>12</td>\n",
       "      <td>94</td>\n",
       "      <td>0</td>\n",
       "      <td>0</td>\n",
       "    </tr>\n",
       "    <tr>\n",
       "      <th>197754</th>\n",
       "      <td>1500</td>\n",
       "      <td>10</td>\n",
       "      <td>56</td>\n",
       "      <td>0</td>\n",
       "      <td>1</td>\n",
       "    </tr>\n",
       "    <tr>\n",
       "      <th>197755</th>\n",
       "      <td>45100</td>\n",
       "      <td>11</td>\n",
       "      <td>169</td>\n",
       "      <td>0</td>\n",
       "      <td>0</td>\n",
       "    </tr>\n",
       "  </tbody>\n",
       "</table>\n",
       "<p>197756 rows × 5 columns</p>\n",
       "</div>"
      ],
      "text/plain": [
       "        incwage  years_of_educ  potential_experience  non_white  sex\n",
       "0         11000             11                    85          0    1\n",
       "1         38000             10                   115          0    0\n",
       "2          7000              8                     5          0    0\n",
       "3          2600              6                     0          0    0\n",
       "4         20800              7                   175          1    0\n",
       "...         ...            ...                   ...        ...  ...\n",
       "197751    22500             11                    56          0    0\n",
       "197752     4500             11                    44          0    1\n",
       "197753    37000             12                    94          0    0\n",
       "197754     1500             10                    56          0    1\n",
       "197755    45100             11                   169          0    0\n",
       "\n",
       "[197756 rows x 5 columns]"
      ]
     },
     "execution_count": 5,
     "metadata": {},
     "output_type": "execute_result"
    }
   ],
   "source": [
    "train_data_categorical"
   ]
  },
  {
   "cell_type": "markdown",
   "id": "4898a4b4-799b-4236-a133-797046c28960",
   "metadata": {},
   "source": [
    "***"
   ]
  },
  {
   "cell_type": "markdown",
   "id": "5b8a741f",
   "metadata": {},
   "source": [
    "# Full Sequential Synthesis Driven by Bayesian Optimization"
   ]
  },
  {
   "cell_type": "code",
   "execution_count": 6,
   "id": "3567a69d-0016-4236-8418-0a651a60631c",
   "metadata": {},
   "outputs": [],
   "source": [
    "from scipy.stats import mode, iqr\n",
    "\n",
    "def smooth(dtype, y_synth, y_real_min, y_real_max):\n",
    "    indices = [True for _ in range(len(y_synth))]\n",
    "\n",
    "    # exclude from smoothing if freq for a single value higher than 70%\n",
    "    y_synth_mode = mode(y_synth)\n",
    "    if y_synth_mode.count / len(y_synth) > 0.7:\n",
    "        indices = np.logical_and(indices, y_synth != y_synth_mode.mode)\n",
    "\n",
    "    # exclude from smoothing if data are top-coded - approximate check\n",
    "    y_synth_sorted = np.sort(y_synth)\n",
    "    top_coded = 10 * np.abs(y_synth_sorted[-2]) < np.abs(y_synth_sorted[-1]) - np.abs(y_synth_sorted[-2])\n",
    "    if top_coded:\n",
    "        indices = np.logical_and(indices, y_synth != y_real_max)\n",
    "\n",
    "    # R version\n",
    "    # http://www.bagualu.net/wordpress/wp-content/uploads/2015/10/Modern_Applied_Statistics_With_S.pdf\n",
    "    # R default (ned0) - [link eq5.5 in p127] - this is used as the other one is not a closed formula\n",
    "    # R recommended (SJ) - [link eq5.6 in p129]\n",
    "    bw = 0.9 * len(y_synth[indices]) ** -1/5 * np.minimum(np.std(y_synth[indices]), iqr(y_synth[indices]) / 1.34)\n",
    "\n",
    "    # # Python version - much slower as it's not a closed formula and requires a girdsearch\n",
    "    # bandwidths = 10 ** np.linspace(-1, 1, 10)\n",
    "    # grid = GridSearchCV(KernelDensity(kernel='gaussian'), {'bandwidth': bandwidths}, cv=3, iid=False)\n",
    "    # grid.fit(y_synth[indices, None])\n",
    "    # bw = grid.best_estimator_.bandwidth\n",
    "\n",
    "    y_synth[indices] = np.array([np.random.normal(loc=value, scale=bw) for value in y_synth[indices]])\n",
    "    if not top_coded:\n",
    "        y_real_max += bw\n",
    "    y_synth[indices] = np.clip(y_synth[indices], y_real_min, y_real_max)\n",
    "    if dtype == 'int':\n",
    "        y_synth[indices] = y_synth[indices].astype(int)\n",
    "\n",
    "    return y_synth"
   ]
  },
  {
   "cell_type": "markdown",
   "id": "e91da374-8371-4f00-b2d0-24b0494fa55e",
   "metadata": {},
   "source": [
    "Function for bayesian bootstrap."
   ]
  },
  {
   "cell_type": "code",
   "execution_count": 7,
   "id": "ca0e6783-4e7d-4359-8028-93d40fe56eab",
   "metadata": {},
   "outputs": [],
   "source": [
    "# def stat(x):\n",
    "#     return x"
   ]
  },
  {
   "cell_type": "markdown",
   "id": "3a1688b8",
   "metadata": {},
   "source": [
    "Write function to train all models and generate the synthetic dataset, then evaluate the pMSE ratio."
   ]
  },
  {
   "cell_type": "code",
   "execution_count": 8,
   "id": "ab5f897a",
   "metadata": {},
   "outputs": [],
   "source": [
    "def train_models(#overall parameters\n",
    "                 train_data_original,\n",
    "                 train_data_categorical,\n",
    "                 number_synthetic_datasets,\n",
    "                 # hyperparameters for CART, end with underscore means Bayesian optimization will choose\n",
    "                 mb_years_of_educ_,\n",
    "                 mb_potential_experience_,\n",
    "                 mb_non_white_,\n",
    "                 mb_sex_):\n",
    "    \n",
    "    num_samples = train_data_original.shape[0]\n",
    "\n",
    "    # generate and store number_synthetic_datasets synthetic datasets\n",
    "    sXs = [pd.DataFrame(train_data_original.sample(frac=1.0, replace=True, ignore_index=True).loc[:,'incwage']) for x in range(number_synthetic_datasets)]\n",
    "\n",
    "    # convert data type for compatability with smoothing function\n",
    "    sXs = [X.astype('float64') for X in sXs]\n",
    "    \n",
    "    # apply smoothing to incwage\n",
    "    for i in range(number_synthetic_datasets):\n",
    "        sXs[i].loc[:,'incwage'] = smooth(dtype='float64', y_synth=sXs[i].incwage, y_real_min=np.min(train_data_original.incwage), y_real_max=np.max(train_data_original.incwage))\n",
    "    \n",
    "    ####################################################################################################\n",
    "\n",
    "    ########### Code for years_of_educ CART ##########\n",
    "    cart_years_of_educ = DecisionTreeClassifier(min_samples_leaf=mb_years_of_educ_, random_state=rng)\n",
    "\n",
    "    new_index = train_data_original.sample(frac=1.0, replace=True).index\n",
    "    \n",
    "    cart_years_of_educ.fit(X=pd.DataFrame(train_data_original.loc[new_index,'incwage']), y=train_data_categorical.loc[new_index, 'years_of_educ'])\n",
    "    \n",
    "    node_indicators = cart_years_of_educ.decision_path(pd.DataFrame(train_data_original.loc[new_index,'incwage'])).toarray()\n",
    "    \n",
    "    node_outcomes = [train_data_categorical.loc[new_index, 'years_of_educ'][node_indicators[:,x]==1] for x in np.arange(node_indicators.shape[1])]\n",
    "\n",
    "    # bst_vals = [bayesian_bootstrap(X=np.array(x), \n",
    "    #                                statistic=stat,\n",
    "    #                                n_replications=1,\n",
    "    #                                resample_size=len(x))[0] for x in node_outcomes]\n",
    "    \n",
    "    # sample synthetic values\n",
    "    \n",
    "    for i in range(number_synthetic_datasets):\n",
    "        \n",
    "        synth_leaves = cart_years_of_educ.apply(pd.DataFrame(sXs[i].loc[:, 'incwage']))\n",
    "        \n",
    "        new_years_of_educ = np.zeros(len(synth_leaves), dtype=int)\n",
    "        \n",
    "        for j, x in enumerate(np.arange(node_indicators.shape[1])):\n",
    "            \n",
    "            new_years_of_educ[synth_leaves==x] = rng.choice(node_outcomes[x], size=np.sum(synth_leaves==x))\n",
    "\n",
    "        new_years_of_educ = categories['years_of_educ'][new_years_of_educ]\n",
    "        \n",
    "        new_years_of_educ = pd.Series(new_years_of_educ)\n",
    "        \n",
    "        new_years_of_educ.name = \"years_of_educ\"\n",
    "        \n",
    "        sXs[i] = pd.concat([sXs[i], new_years_of_educ], axis=1)\n",
    "\n",
    "    ####################################################################################################\n",
    "\n",
    "    ########### Code for potential_experience CART ##########\n",
    "    cart_pot_exp = DecisionTreeClassifier(min_samples_leaf=mb_potential_experience_, random_state=rng)\n",
    "\n",
    "    new_index = train_data_original.sample(frac=1.0, replace=True).index\n",
    "    \n",
    "    cart_pot_exp.fit(X=pd.DataFrame(train_data_original.loc[new_index,['incwage', 'years_of_educ']]), y=train_data_categorical.loc[new_index, 'potential_experience'])\n",
    "    \n",
    "    node_indicators = cart_pot_exp.decision_path(pd.DataFrame(train_data_original.loc[new_index,['incwage', 'years_of_educ']])).toarray()\n",
    "    \n",
    "    node_outcomes = [train_data_categorical.loc[new_index,'potential_experience'][node_indicators[:,x]==1] for x in np.arange(node_indicators.shape[1])]\n",
    "\n",
    "    # bst_vals = [bayesian_bootstrap(X=np.array(x), \n",
    "    #                                statistic=stat,\n",
    "    #                                n_replications=1,\n",
    "    #                                resample_size=len(x))[0] for x in node_outcomes]\n",
    "    \n",
    "    # sample synthetic values\n",
    "    \n",
    "    for i in range(number_synthetic_datasets):\n",
    "        \n",
    "        synth_leaves = cart_pot_exp.apply(pd.DataFrame(sXs[i].loc[:, ['incwage', 'years_of_educ']]))\n",
    "        \n",
    "        new_pot_exp = np.zeros(len(synth_leaves), dtype=int)\n",
    "        \n",
    "        for j, x in enumerate(np.arange(node_indicators.shape[1])):\n",
    "            \n",
    "            new_pot_exp[synth_leaves==x] = rng.choice(node_outcomes[x], size=np.sum(synth_leaves==x))\n",
    "\n",
    "        new_pot_exp = categories['potential_experience'][new_pot_exp]\n",
    "        \n",
    "        new_pot_exp = pd.Series(new_pot_exp)\n",
    "\n",
    "        # apply smoothing to potential_experience\n",
    "\n",
    "        new_pot_exp = pd.Series(smooth(dtype='float64', y_synth=new_pot_exp, y_real_min=np.min(train_data_original.potential_experience), y_real_max=np.max(train_data_original.potential_experience)))\n",
    "        \n",
    "        new_pot_exp.name = \"potential_experience\"\n",
    "        \n",
    "        sXs[i] = pd.concat([sXs[i], new_pot_exp], axis=1)\n",
    "\n",
    "    ########### Code for non_white CART ##########\n",
    "    cart_non_white = DecisionTreeClassifier(min_samples_leaf=mb_non_white_, random_state=rng)\n",
    "\n",
    "    new_index = train_data_original.sample(frac=1.0, replace=True).index\n",
    "    \n",
    "    cart_non_white.fit(X=train_data_original.loc[new_index,['incwage', 'years_of_educ', 'potential_experience']], y=train_data_original.loc[new_index,\"non_white\"])\n",
    "    \n",
    "    node_indicators = cart_non_white.decision_path(train_data_original.loc[new_index,['incwage', 'years_of_educ', 'potential_experience']]).toarray()\n",
    "    \n",
    "    node_outcomes = [train_data_original.loc[new_index, 'non_white'][node_indicators[:,x]==1] for x in np.arange(node_indicators.shape[1])]\n",
    "\n",
    "    # bst_vals = [bayesian_bootstrap(X=np.array(x), \n",
    "    #                                statistic=stat,\n",
    "    #                                n_replications=1,\n",
    "    #                                resample_size=len(x))[0] for x in node_outcomes]\n",
    "    \n",
    "    # sample values according to a Bayesian bootstrap\n",
    "    \n",
    "    for i in range(number_synthetic_datasets):\n",
    "        \n",
    "        synth_leaves = cart_non_white.apply(sXs[i].loc[:,['incwage', 'years_of_educ', 'potential_experience']])\n",
    "        \n",
    "        new_non_white = np.zeros(len(synth_leaves), dtype=int)\n",
    "        \n",
    "        for j, x in enumerate(np.arange(node_indicators.shape[1])):\n",
    "            \n",
    "            new_non_white[synth_leaves==x] = rng.choice(node_outcomes[x], size=np.sum(synth_leaves==x))\n",
    "        \n",
    "        new_non_white = pd.Series(new_non_white)\n",
    "        \n",
    "        new_non_white.name = \"non_white\"\n",
    "        \n",
    "        sXs[i] = pd.concat([sXs[i], new_non_white], axis=1)\n",
    "    \n",
    "    ####################################################################################################\n",
    "        \n",
    "    ########### Code for sex CART ##########\n",
    "    \n",
    "    cart_sex = DecisionTreeClassifier(min_samples_leaf=mb_sex_, random_state=rng)\n",
    "\n",
    "    new_index = train_data_original.sample(frac=1.0, replace=True).index\n",
    "    \n",
    "    cart_sex.fit(X=train_data_original.loc[new_index,['incwage', 'years_of_educ', 'potential_experience', 'non_white']], y=train_data_original.loc[new_index,\"sex\"])\n",
    "    \n",
    "    node_indicators = cart_sex.decision_path(train_data_original.loc[new_index,['incwage', 'years_of_educ', 'potential_experience', 'non_white']]).toarray()\n",
    "    \n",
    "    node_outcomes = [train_data_original.loc[new_index, 'sex'][node_indicators[:,x]==1] for x in np.arange(node_indicators.shape[1])]\n",
    "    \n",
    "    # sample values according to a Bayesian bootstrap\n",
    "\n",
    "    # bst_vals = [bayesian_bootstrap(X=np.array(x), \n",
    "    #                                statistic=stat,\n",
    "    #                                n_replications=1,\n",
    "    #                                resample_size=len(x))[0] for x in node_outcomes]\n",
    "    \n",
    "    for i in range(number_synthetic_datasets):\n",
    "        \n",
    "        synth_leaves = cart_sex.apply(sXs[i].loc[:,['incwage', 'years_of_educ', 'potential_experience', 'non_white']])\n",
    "        \n",
    "        new_sex = np.zeros(len(synth_leaves), dtype=int)\n",
    "        \n",
    "        for j, x in enumerate(np.arange(node_indicators.shape[1])):\n",
    "            \n",
    "            new_sex[synth_leaves==x] = rng.choice(node_outcomes[x], size=np.sum(synth_leaves==x))\n",
    "        \n",
    "        new_sex = pd.Series(new_sex)\n",
    "        \n",
    "        new_sex.name = \"sex\"\n",
    "        \n",
    "        sXs[i] = pd.concat([sXs[i], new_sex], axis=1)\n",
    "        \n",
    "    ###### Calculate ks distances ######\n",
    "    pmse_ratios = [pmse_ratio(train_data_original, Y) for Y in sXs]\n",
    "    \n",
    "    return pmse_ratios, sXs"
   ]
  },
  {
   "cell_type": "code",
   "execution_count": 9,
   "id": "796d2f96",
   "metadata": {},
   "outputs": [],
   "source": [
    "def optimize_models(train_data_original,\n",
    "                    train_data_categorical,\n",
    "                    number_synthetic_datasets,\n",
    "                    random_state):\n",
    "\n",
    "    def evaluate_models(mb_non_white_, mb_sex_, mb_years_of_educ_, mb_potential_experience_):\n",
    "\n",
    "        pmse_ratios, _ = train_models(train_data_original=train_data_original,\n",
    "                                      train_data_categorical=train_data_categorical,\n",
    "                                      number_synthetic_datasets=number_synthetic_datasets,\n",
    "                                      mb_non_white_=int(mb_non_white_),\n",
    "                                      mb_sex_=int(mb_sex_),\n",
    "                                      mb_years_of_educ_=int(mb_years_of_educ_),\n",
    "                                      mb_potential_experience_=int(mb_potential_experience_))\n",
    "\n",
    "        return -1 * ((1 - np.mean(pmse_ratios))**2)\n",
    "\n",
    "    optimizer = BayesianOptimization(\n",
    "        f=evaluate_models,\n",
    "        pbounds={\n",
    "            \"mb_non_white_\": (10, 300.99),\n",
    "            \"mb_sex_\": (10, 300.99),\n",
    "            \"mb_years_of_educ_\": (10, 300.99),\n",
    "            \"mb_potential_experience_\": (10, 300.99)\n",
    "        },\n",
    "        random_state=random_state)\n",
    "\n",
    "    utility = UtilityFunction(kind=\"ei\", xi=1e-02)\n",
    "    optimizer.maximize(init_points=5, n_iter=25, acquisition_function=utility)\n",
    "    print(\"Final Result: \", optimizer.max)\n",
    "    return optimizer.max, optimizer"
   ]
  },
  {
   "cell_type": "markdown",
   "id": "5594760a",
   "metadata": {},
   "source": [
    "The default value of $\\alpha = 1e-06$."
   ]
  },
  {
   "cell_type": "code",
   "execution_count": 10,
   "id": "15d5ded7",
   "metadata": {},
   "outputs": [],
   "source": [
    "nsd = 10\n",
    "random_states = [np.random.RandomState(1006), np.random.RandomState(428)]"
   ]
  },
  {
   "cell_type": "code",
   "execution_count": 11,
   "id": "fe01e70f",
   "metadata": {},
   "outputs": [
    {
     "name": "stdout",
     "output_type": "stream",
     "text": [
      "|   iter    |  target   | mb_non... | mb_pot... |  mb_sex_  | mb_yea... |\n",
      "-------------------------------------------------------------------------\n",
      "| \u001b[30m1         | \u001b[30m-0.008367 | \u001b[30m226.2     | \u001b[30m75.89     | \u001b[30m197.0     | \u001b[30m266.8     |\n",
      "| \u001b[30m2         | \u001b[30m-0.01275  | \u001b[30m225.5     | \u001b[30m219.9     | \u001b[30m95.94     | \u001b[30m162.9     |\n",
      "| \u001b[30m3         | \u001b[30m-0.01279  | \u001b[30m60.56     | \u001b[30m246.3     | \u001b[30m257.2     | \u001b[30m84.64     |\n",
      "| \u001b[30m4         | \u001b[30m-0.1227   | \u001b[30m79.03     | \u001b[30m143.4     | \u001b[30m76.61     | \u001b[30m68.78     |\n",
      "| \u001b[30m5         | \u001b[30m-0.2786   | \u001b[30m296.0     | \u001b[30m295.4     | \u001b[30m223.8     | \u001b[30m129.1     |\n",
      "| \u001b[30m6         | \u001b[30m-0.01288  | \u001b[30m154.0     | \u001b[30m221.2     | \u001b[30m206.6     | \u001b[30m268.0     |\n",
      "| \u001b[30m7         | \u001b[30m-0.1279   | \u001b[30m69.03     | \u001b[30m241.0     | \u001b[30m262.7     | \u001b[30m80.98     |\n",
      "| \u001b[30m8         | \u001b[30m-0.06968  | \u001b[30m100.7     | \u001b[30m285.7     | \u001b[30m263.5     | \u001b[30m155.0     |\n",
      "| \u001b[30m9         | \u001b[30m-0.0404   | \u001b[30m90.92     | \u001b[30m126.7     | \u001b[30m40.79     | \u001b[30m39.48     |\n",
      "| \u001b[30m10        | \u001b[30m-0.0301   | \u001b[30m216.4     | \u001b[30m69.12     | \u001b[30m47.47     | \u001b[30m198.7     |\n",
      "| \u001b[30m11        | \u001b[30m-0.1322   | \u001b[30m182.9     | \u001b[30m118.9     | \u001b[30m229.7     | \u001b[30m36.18     |\n",
      "| \u001b[30m12        | \u001b[30m-1.162    | \u001b[30m140.0     | \u001b[30m119.8     | \u001b[30m286.3     | \u001b[30m127.8     |\n",
      "| \u001b[30m13        | \u001b[30m-0.4143   | \u001b[30m36.74     | \u001b[30m266.4     | \u001b[30m240.6     | \u001b[30m98.84     |\n",
      "| \u001b[30m14        | \u001b[30m-0.7346   | \u001b[30m152.4     | \u001b[30m221.0     | \u001b[30m205.4     | \u001b[30m267.3     |\n",
      "| \u001b[35m15        | \u001b[35m-0.000229 | \u001b[35m97.67     | \u001b[35m112.9     | \u001b[35m37.25     | \u001b[35m192.2     |\n",
      "| \u001b[30m16        | \u001b[30m-0.01768  | \u001b[30m70.06     | \u001b[30m167.5     | \u001b[30m124.6     | \u001b[30m259.5     |\n",
      "| \u001b[30m17        | \u001b[30m-0.04625  | \u001b[30m239.7     | \u001b[30m86.56     | \u001b[30m67.63     | \u001b[30m297.1     |\n",
      "| \u001b[30m18        | \u001b[30m-0.001959 | \u001b[30m141.9     | \u001b[30m120.3     | \u001b[30m115.8     | \u001b[30m72.87     |\n",
      "| \u001b[30m19        | \u001b[30m-0.4335   | \u001b[30m80.17     | \u001b[30m297.6     | \u001b[30m265.2     | \u001b[30m69.14     |\n",
      "| \u001b[30m20        | \u001b[30m-0.01445  | \u001b[30m243.9     | \u001b[30m155.1     | \u001b[30m64.46     | \u001b[30m243.5     |\n",
      "| \u001b[30m21        | \u001b[30m-0.001872 | \u001b[30m154.7     | \u001b[30m60.57     | \u001b[30m191.4     | \u001b[30m225.6     |\n",
      "| \u001b[35m22        | \u001b[35m-0.000160 | \u001b[35m140.4     | \u001b[35m110.6     | \u001b[35m63.99     | \u001b[35m218.5     |\n",
      "| \u001b[30m23        | \u001b[30m-0.323    | \u001b[30m273.1     | \u001b[30m258.6     | \u001b[30m268.3     | \u001b[30m53.81     |\n",
      "| \u001b[30m24        | \u001b[30m-0.118    | \u001b[30m64.21     | \u001b[30m76.63     | \u001b[30m224.5     | \u001b[30m41.59     |\n",
      "| \u001b[30m25        | \u001b[30m-0.02282  | \u001b[30m67.88     | \u001b[30m69.64     | \u001b[30m142.1     | \u001b[30m234.4     |\n",
      "| \u001b[30m26        | \u001b[30m-0.2657   | \u001b[30m67.24     | \u001b[30m122.6     | \u001b[30m224.0     | \u001b[30m162.1     |\n",
      "| \u001b[30m27        | \u001b[30m-0.001087 | \u001b[30m26.43     | \u001b[30m226.5     | \u001b[30m92.63     | \u001b[30m207.3     |\n",
      "| \u001b[30m28        | \u001b[30m-0.004757 | \u001b[30m267.9     | \u001b[30m168.6     | \u001b[30m41.19     | \u001b[30m220.3     |\n",
      "| \u001b[30m29        | \u001b[30m-0.005275 | \u001b[30m127.3     | \u001b[30m152.1     | \u001b[30m145.9     | \u001b[30m283.2     |\n",
      "| \u001b[30m30        | \u001b[30m-0.05738  | \u001b[30m152.5     | \u001b[30m300.8     | \u001b[30m132.0     | \u001b[30m58.76     |\n",
      "=========================================================================\n",
      "Final Result:  {'target': -0.00016017963249252175, 'params': {'mb_non_white_': 140.43279938287083, 'mb_potential_experience_': 110.58629352223979, 'mb_sex_': 63.98518867818899, 'mb_years_of_educ_': 218.46677189367426}}\n",
      "|   iter    |  target   | mb_non... | mb_pot... |  mb_sex_  | mb_yea... |\n",
      "-------------------------------------------------------------------------\n",
      "| \u001b[30m1         | \u001b[30m-0.00563  | \u001b[30m248.2     | \u001b[30m264.4     | \u001b[30m131.8     | \u001b[30m139.6     |\n",
      "| \u001b[35m2         | \u001b[35m-0.001406 | \u001b[35m47.41     | \u001b[35m40.54     | \u001b[35m198.0     | \u001b[35m290.0     |\n",
      "| \u001b[30m3         | \u001b[30m-0.03782  | \u001b[30m94.61     | \u001b[30m29.42     | \u001b[30m153.3     | \u001b[30m127.1     |\n",
      "| \u001b[30m4         | \u001b[30m-0.001587 | \u001b[30m73.42     | \u001b[30m252.8     | \u001b[30m63.0      | \u001b[30m131.8     |\n",
      "| \u001b[35m5         | \u001b[35m-0.000198 | \u001b[35m100.0     | \u001b[35m297.2     | \u001b[35m21.89     | \u001b[35m95.93     |\n",
      "| \u001b[30m6         | \u001b[30m-0.01293  | \u001b[30m147.7     | \u001b[30m293.1     | \u001b[30m44.54     | \u001b[30m201.3     |\n",
      "| \u001b[30m7         | \u001b[30m-0.2004   | \u001b[30m43.76     | \u001b[30m36.92     | \u001b[30m209.6     | \u001b[30m285.0     |\n",
      "| \u001b[30m8         | \u001b[30m-0.02293  | \u001b[30m156.1     | \u001b[30m15.72     | \u001b[30m95.55     | \u001b[30m45.94     |\n",
      "| \u001b[30m9         | \u001b[30m-0.000718 | \u001b[30m242.5     | \u001b[30m210.2     | \u001b[30m159.8     | \u001b[30m166.0     |\n",
      "| \u001b[30m10        | \u001b[30m-0.05186  | \u001b[30m141.6     | \u001b[30m81.06     | \u001b[30m198.8     | \u001b[30m172.5     |\n",
      "| \u001b[30m11        | \u001b[30m-0.1244   | \u001b[30m177.8     | \u001b[30m59.36     | \u001b[30m259.6     | \u001b[30m191.0     |\n",
      "| \u001b[30m12        | \u001b[30m-0.1127   | \u001b[30m158.8     | \u001b[30m47.45     | \u001b[30m267.3     | \u001b[30m108.0     |\n",
      "| \u001b[30m13        | \u001b[30m-0.1604   | \u001b[30m182.9     | \u001b[30m141.4     | \u001b[30m183.8     | \u001b[30m135.0     |\n",
      "| \u001b[30m14        | \u001b[30m-0.2815   | \u001b[30m113.6     | \u001b[30m217.8     | \u001b[30m286.4     | \u001b[30m95.54     |\n",
      "| \u001b[30m15        | \u001b[30m-0.1714   | \u001b[30m99.45     | \u001b[30m225.1     | \u001b[30m226.3     | \u001b[30m115.4     |\n",
      "| \u001b[30m16        | \u001b[30m-0.00327  | \u001b[30m200.9     | \u001b[30m18.15     | \u001b[30m56.25     | \u001b[30m185.3     |\n",
      "| \u001b[30m17        | \u001b[30m-0.08383  | \u001b[30m54.32     | \u001b[30m180.4     | \u001b[30m223.6     | \u001b[30m159.6     |\n",
      "| \u001b[30m18        | \u001b[30m-0.2298   | \u001b[30m60.87     | \u001b[30m256.7     | \u001b[30m210.4     | \u001b[30m265.8     |\n",
      "| \u001b[30m19        | \u001b[30m-0.000818 | \u001b[30m283.4     | \u001b[30m120.0     | \u001b[30m99.64     | \u001b[30m136.0     |\n",
      "| \u001b[30m20        | \u001b[30m-0.8619   | \u001b[30m125.5     | \u001b[30m65.23     | \u001b[30m276.8     | \u001b[30m203.6     |\n",
      "| \u001b[30m21        | \u001b[30m-0.005359 | \u001b[30m269.0     | \u001b[30m220.6     | \u001b[30m212.7     | \u001b[30m218.9     |\n",
      "| \u001b[35m22        | \u001b[35m-2.572e-0 | \u001b[35m88.31     | \u001b[35m226.9     | \u001b[35m16.57     | \u001b[35m217.1     |\n",
      "| \u001b[30m23        | \u001b[30m-0.2382   | \u001b[30m174.9     | \u001b[30m23.68     | \u001b[30m300.8     | \u001b[30m190.5     |\n",
      "| \u001b[30m24        | \u001b[30m-0.001853 | \u001b[30m221.4     | \u001b[30m236.0     | \u001b[30m90.19     | \u001b[30m298.6     |\n",
      "| \u001b[30m25        | \u001b[30m-0.03207  | \u001b[30m36.71     | \u001b[30m49.11     | \u001b[30m196.3     | \u001b[30m250.6     |\n",
      "| \u001b[30m26        | \u001b[30m-0.01531  | \u001b[30m78.75     | \u001b[30m42.98     | \u001b[30m45.72     | \u001b[30m158.0     |\n",
      "| \u001b[30m27        | \u001b[30m-0.009512 | \u001b[30m212.2     | \u001b[30m139.1     | \u001b[30m61.81     | \u001b[30m222.5     |\n",
      "| \u001b[35m28        | \u001b[35m-6.79e-07 | \u001b[35m290.6     | \u001b[35m298.9     | \u001b[35m70.47     | \u001b[35m217.2     |\n",
      "| \u001b[30m29        | \u001b[30m-0.1018   | \u001b[30m225.8     | \u001b[30m245.9     | \u001b[30m21.25     | \u001b[30m269.1     |\n",
      "| \u001b[30m30        | \u001b[30m-0.0241   | \u001b[30m142.6     | \u001b[30m91.08     | \u001b[30m267.5     | \u001b[30m267.8     |\n",
      "=========================================================================\n",
      "Final Result:  {'target': -6.789977154123683e-07, 'params': {'mb_non_white_': 290.6241658203894, 'mb_potential_experience_': 298.9410846360685, 'mb_sex_': 70.46658512566557, 'mb_years_of_educ_': 217.2299193253915}}\n"
     ]
    }
   ],
   "source": [
    "optimization_results = [optimize_models(train_data_original=train_data_original,\n",
    "                                        train_data_categorical=train_data_categorical,\n",
    "                                        number_synthetic_datasets=nsd,\n",
    "                                        random_state=r) for r in random_states]"
   ]
  },
  {
   "cell_type": "markdown",
   "id": "dab452a9",
   "metadata": {},
   "source": [
    "***"
   ]
  },
  {
   "cell_type": "code",
   "execution_count": 12,
   "id": "2c71552b",
   "metadata": {},
   "outputs": [],
   "source": [
    "run_targets = [np.minimum.accumulate(-i[1].space.target) for i in optimization_results]"
   ]
  },
  {
   "cell_type": "code",
   "execution_count": 13,
   "id": "bb2e246f",
   "metadata": {},
   "outputs": [
    {
     "data": {
      "image/png": "[encoded data removed]",
      "text/plain": [
       "<Figure size 640x480 with 1 Axes>"
      ]
     },
     "metadata": {},
     "output_type": "display_data"
    }
   ],
   "source": [
    "plt.plot(run_targets[0])\n",
    "plt.scatter(np.arange(len(run_targets[0])), run_targets[0], s=6)\n",
    "plt.plot(run_targets[1])\n",
    "plt.scatter(np.arange(len(run_targets[1])), run_targets[1], s=6)\n",
    "plt.title(\"Running Minimum Objective Value for CART Synthesis\")\n",
    "plt.xlabel(\"Iteration\")\n",
    "plt.ylabel(\"Minimum Objective Value\")\n",
    "plt.show()"
   ]
  },
  {
   "cell_type": "markdown",
   "id": "325348ce",
   "metadata": {},
   "source": [
    "Choose the params that gave the best objective value across all random seeds."
   ]
  },
  {
   "cell_type": "code",
   "execution_count": 14,
   "id": "69f179aa",
   "metadata": {},
   "outputs": [],
   "source": [
    "best_params = optimization_results[np.argmax([x[0]['target'] for x in optimization_results])][0]"
   ]
  },
  {
   "cell_type": "code",
   "execution_count": 15,
   "id": "112b4969",
   "metadata": {},
   "outputs": [
    {
     "data": {
      "text/plain": [
       "{'target': -6.789977154123683e-07,\n",
       " 'params': {'mb_non_white_': 290.6241658203894,\n",
       "  'mb_potential_experience_': 298.9410846360685,\n",
       "  'mb_sex_': 70.46658512566557,\n",
       "  'mb_years_of_educ_': 217.2299193253915}}"
      ]
     },
     "execution_count": 15,
     "metadata": {},
     "output_type": "execute_result"
    }
   ],
   "source": [
    "best_params"
   ]
  },
  {
   "cell_type": "markdown",
   "id": "8c940983",
   "metadata": {},
   "source": [
    "***"
   ]
  },
  {
   "cell_type": "markdown",
   "id": "c8e1ea09",
   "metadata": {},
   "source": [
    "Generate 20 synthetic datasets."
   ]
  },
  {
   "cell_type": "code",
   "execution_count": 22,
   "id": "9ed0391f",
   "metadata": {},
   "outputs": [],
   "source": [
    "pmse_ratios, full_sXs = train_models(train_data_original=train_data_original,\n",
    "                                     train_data_categorical=train_data_categorical,\n",
    "                                     number_synthetic_datasets=20,\n",
    "                                     mb_years_of_educ_=int(best_params['params']['mb_years_of_educ_']),\n",
    "                                     mb_potential_experience_=int(best_params['params']['mb_potential_experience_']),\n",
    "                                     mb_sex_=int(best_params['params']['mb_sex_']),\n",
    "                                     mb_non_white_=int(best_params['params']['mb_non_white_']))"
   ]
  },
  {
   "cell_type": "code",
   "execution_count": 23,
   "id": "295e7588",
   "metadata": {},
   "outputs": [
    {
     "data": {
      "text/plain": [
       "1.0752232635730627"
      ]
     },
     "execution_count": 23,
     "metadata": {},
     "output_type": "execute_result"
    }
   ],
   "source": [
    "np.mean(pmse_ratios)"
   ]
  },
  {
   "cell_type": "code",
   "execution_count": 24,
   "id": "a3d6a0f6",
   "metadata": {},
   "outputs": [
    {
     "data": {
      "image/png": "[encoded data removed]",
      "text/plain": [
       "<Figure size 640x480 with 1 Axes>"
      ]
     },
     "metadata": {},
     "output_type": "display_data"
    }
   ],
   "source": [
    "plt.violinplot(pmse_ratios)\n",
    "plt.xlabel(\"Density\")\n",
    "plt.ylabel(\"pMSE Ratio\")\n",
    "plt.title(\"Distribution of pMSE Ratios\")\n",
    "plt.show()"
   ]
  },
  {
   "cell_type": "markdown",
   "id": "af137729",
   "metadata": {},
   "source": [
    "***"
   ]
  },
  {
   "cell_type": "markdown",
   "id": "c7c4b464",
   "metadata": {},
   "source": [
    "# Save the synthetic datasets."
   ]
  },
  {
   "cell_type": "code",
   "execution_count": 25,
   "id": "5696e166",
   "metadata": {},
   "outputs": [],
   "source": [
    "for i, sX in enumerate(full_sXs):\n",
    "    sX.to_csv(\"../Data/IPUMS/Synthetic Datasets/cart_\" + str(i) + \".csv\", index=False)"
   ]
  },
  {
   "cell_type": "markdown",
   "id": "6447fc93-5044-4baf-a442-3532290f85d8",
   "metadata": {},
   "source": [
    "***"
   ]
  },
  {
   "cell_type": "code",
   "execution_count": null,
   "id": "d5dbdd0f-c181-4088-a092-9dcc7abcc09a",
   "metadata": {},
   "outputs": [],
   "source": [
    "full_sXs = [pd.read_csv(\"../Data/IPUMS/Synthetic Datasets/gmm_and_cart_\" + str(i) + \".csv\") for i in range(20)]"
   ]
  },
  {
   "cell_type": "code",
   "execution_count": null,
   "id": "f8e24072-f7c1-4da6-9d4f-b6487ce49a6c",
   "metadata": {},
   "outputs": [],
   "source": [
    "# load\n",
    "with open('../Results/IPUMS/Models/gmm_and_cart.pkl', 'rb') as f:\n",
    "    GMM = pickle.load(f)"
   ]
  },
  {
   "cell_type": "markdown",
   "id": "c40ffaea",
   "metadata": {},
   "source": [
    "***"
   ]
  },
  {
   "cell_type": "markdown",
   "id": "0345ce09-ee78-4257-800f-9cd8aa7d47cf",
   "metadata": {},
   "source": [
    "Now apply the attribute disclosure prevention algorithm."
   ]
  },
  {
   "cell_type": "markdown",
   "id": "70b049a1-bfe5-41b1-865e-c19bed1c59ce",
   "metadata": {},
   "source": [
    "We don't have a great baseline for the probability of being non-white, so we'll just use the proportion from the data."
   ]
  },
  {
   "cell_type": "code",
   "execution_count": null,
   "id": "a21f0ce4-7015-491a-b2e3-eaee7831a1cc",
   "metadata": {},
   "outputs": [],
   "source": [
    "prior = np.mean(train_data.non_white == 1)"
   ]
  },
  {
   "cell_type": "markdown",
   "id": "efdd5063-76e7-4338-a12f-a292798e3157",
   "metadata": {},
   "source": [
    "For our threshold, we select $c = 10$, i.e., we are allowing for a 10x increase in the probability of an adversary inferring the non-white status based on the synthetic data. This is a relatively large increase. For example, this means going from XXX under the prior to no more than XXX under the updated probability."
   ]
  },
  {
   "cell_type": "code",
   "execution_count": null,
   "id": "51fcbc13-3352-47ac-84b0-46d89dab5867",
   "metadata": {},
   "outputs": [],
   "source": [
    "prior"
   ]
  },
  {
   "cell_type": "code",
   "execution_count": null,
   "id": "745893ab-4390-45c1-b590-4d9d33aeaea2",
   "metadata": {},
   "outputs": [],
   "source": [
    "c = 3"
   ]
  },
  {
   "cell_type": "markdown",
   "id": "81aaa19a-2ab8-4a74-aa20-dcb10068af22",
   "metadata": {},
   "source": [
    "We provide a range of $\\delta$ values over which to evaluate and prevent attribute disclosure."
   ]
  },
  {
   "cell_type": "code",
   "execution_count": null,
   "id": "7a5ef8d7-0d42-4e92-80a8-1abf1ed616e7",
   "metadata": {},
   "outputs": [],
   "source": [
    "deltas = np.linspace(0.001, 0.1, 3)"
   ]
  },
  {
   "cell_type": "code",
   "execution_count": null,
   "id": "84495b6b-960e-4018-9c0e-e539ed98cc73",
   "metadata": {},
   "outputs": [],
   "source": [
    "ad_sXs = [attribute_disclosure_reduction(original_data=train_data, \n",
    "                                         synthetic_data=X,\n",
    "                                         continuous_vars=['incwage', 'years_of_educ', 'potential_experience'],\n",
    "                                         categorical_vars=['sex'],\n",
    "                                         sensitive_var='non_white',\n",
    "                                         mixture_model=GMM,\n",
    "                                         deltas=deltas, \n",
    "                                         c=c, \n",
    "                                         prior_prob=prior) for X in full_sXs]"
   ]
  },
  {
   "cell_type": "code",
   "execution_count": null,
   "id": "8f87b905-8160-4afd-b228-bae14f5617bd",
   "metadata": {},
   "outputs": [],
   "source": [
    "for i, sX in enumerate(ad_sXs):\n",
    "    sX.to_csv(\"../Data/IPUMS/Synthetic Datasets/ad_gmm_and_cart_\" + str(i) + \".csv\", index=False)"
   ]
  },
  {
   "cell_type": "markdown",
   "id": "a8aa093b-7fd9-489b-8b57-00551967e3f9",
   "metadata": {},
   "source": [
    "***"
   ]
  },
  {
   "cell_type": "code",
   "execution_count": null,
   "id": "43f11570-fe37-4c36-a49c-b067be6c77f3",
   "metadata": {},
   "outputs": [],
   "source": []
  }
 ],
 "metadata": {
  "kernelspec": {
   "display_name": "Python 3 (ipykernel)",
   "language": "python",
   "name": "python3"
  },
  "language_info": {
   "codemirror_mode": {
    "name": "ipython",
    "version": 3
   },
   "file_extension": ".py",
   "mimetype": "text/x-python",
   "name": "python",
   "nbconvert_exporter": "python",
   "pygments_lexer": "ipython3",
   "version": "3.11.7"
  }
 },
 "nbformat": 4,
 "nbformat_minor": 5
}
