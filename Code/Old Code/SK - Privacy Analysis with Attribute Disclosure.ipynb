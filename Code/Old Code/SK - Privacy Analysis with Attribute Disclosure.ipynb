{
 "cells": [
  {
   "cell_type": "code",
   "execution_count": 1,
   "id": "6a9fe08f",
   "metadata": {},
   "outputs": [],
   "source": [
    "import pandas as pd\n",
    "import numpy as np\n",
    "import seaborn as sns\n",
    "from sklearn.preprocessing import StandardScaler\n",
    "\n",
    "from scipy.spatial import KDTree\n",
    "\n",
    "import matplotlib.pyplot as plt"
   ]
  },
  {
   "cell_type": "code",
   "execution_count": 2,
   "id": "74051225",
   "metadata": {},
   "outputs": [],
   "source": [
    "train = pd.read_csv(\"../Data/SK/cleaned_sk_data.csv\")"
   ]
  },
  {
   "cell_type": "markdown",
   "id": "1d2762e9",
   "metadata": {},
   "source": [
    "Pick an arbitrary $\\delta$ value."
   ]
  },
  {
   "cell_type": "code",
   "execution_count": 3,
   "id": "ab018872",
   "metadata": {},
   "outputs": [],
   "source": [
    "delta = 0.01"
   ]
  },
  {
   "cell_type": "markdown",
   "id": "ae755216",
   "metadata": {},
   "source": [
    "Function to calculate the privacy metrics given training and synthetic data, for a given delta value."
   ]
  },
  {
   "cell_type": "code",
   "execution_count": 4,
   "id": "b128446f",
   "metadata": {},
   "outputs": [],
   "source": [
    "def privacy_metrics(train_data, synthetic_datasets, type_of_synthetic, delta):\n",
    "\n",
    "    # create scaler\n",
    "    scaler = StandardScaler()\n",
    "\n",
    "    # scale training data\n",
    "    train_scaled = scaler.fit_transform(X=train_data)\n",
    "\n",
    "    # create tree for nearest neighbor searching\n",
    "    training_tree = KDTree(train_scaled)\n",
    "\n",
    "    # calculate nearest neighbor distances within training data\n",
    "    train_dists, train_neighbors = training_tree.query(x=train_scaled, k=6, p=2)\n",
    "\n",
    "    # calculate identical match share\n",
    "    # using the second column because we know there is at least one identical record (the record itself)\n",
    "    # so we care about the next most similar record (the second nearest neighbor)\n",
    "    IMS_train = np.mean(train_dists[:,1] <= delta)\n",
    "\n",
    "    # calculate 5th percentile of DCR distribution for synthetic and train data\n",
    "    DCR_train = np.percentile(train_dists[:,1], q=5)\n",
    "\n",
    "    # calculate nearest neighbor distance ratios\n",
    "    ratios_train = train_dists[:,1]/train_dists[:,-1]\n",
    "\n",
    "    # we can encounter division by zero in the above ratios. If this occurs, neighbors 1-5 have the same distance (0)\n",
    "    # and the ratio can be set to one.\n",
    "    ratios_train = np.nan_to_num(ratios_train, nan=1.0)\n",
    "\n",
    "    # calculate 5th percentile of nearest neighbor distance ratios\n",
    "    NNDR_train = np.percentile(ratios_train, q=5)\n",
    "\n",
    "    IMS_synthetic, DCR_synthetic, NNDR_synthetic = [], [], []\n",
    "    \n",
    "    for Z in synthetic_datasets:\n",
    "        \n",
    "        # create scaler\n",
    "        scaler = StandardScaler()\n",
    "        \n",
    "        # scale synthetic data using means and standard deviations \n",
    "        synthetic_scaled = scaler.fit(X=train_data).transform(X=Z)\n",
    "\n",
    "        # calculate the nearest neighbor distances between synthetic and training data\n",
    "        synthetic_dists, synthetic_neighbors = training_tree.query(x=synthetic_scaled, k=5, p=2)\n",
    "\n",
    "        # calculate identical match share\n",
    "        IMS_synthetic.append(np.mean(synthetic_dists[:,0] <= delta))\n",
    "\n",
    "        # calculate 5th percentile of DCR distribution for synthetic and train data\n",
    "        DCR_synthetic.append(np.percentile(synthetic_dists[:,0], q=5))\n",
    "\n",
    "        # calculate nearest neighbor distance ratios\n",
    "        ratios_synthetic = synthetic_dists[:,0]/synthetic_dists[:,-1]\n",
    "\n",
    "        # we can encounter division by zero in the above ratios. If this occurs, neighbors 1-5 have the same distance (0)\n",
    "        # and the ratio can be set to one.\n",
    "        ratios_synthetic = np.nan_to_num(ratios_synthetic, nan=1.0)\n",
    "\n",
    "        # calculate 5th percentile of nearest neighbor distance ratios\n",
    "        NNDR_synthetic.append(np.percentile(ratios_synthetic, q=5))\n",
    "\n",
    "    return (pd.DataFrame({\"Type\" : np.concatenate([[\"Train\"], np.repeat(type_of_synthetic, 20)]), \n",
    "                         \"IMS\" : np.concatenate([[IMS_train], IMS_synthetic]), \n",
    "                         \"DCR\" : np.concatenate([[DCR_train], DCR_synthetic]), \n",
    "                         \"NNDR\" : np.concatenate([[NNDR_train], NNDR_synthetic])}))\n",
    "    \n",
    "    # return ({\"IMS_train\": IMS_train, \"IMS_synthetic\": IMS_synthetic,\n",
    "    #          \"DCR_train\": DCR_train, \"DCR_synthetic\": DCR_synthetic,\n",
    "    #          \"NNDR_train\": NNDR_train, \"NNDR_synthetic\": NNDR_synthetic})"
   ]
  },
  {
   "cell_type": "code",
   "execution_count": 5,
   "id": "68a9d566",
   "metadata": {},
   "outputs": [],
   "source": [
    "sXs_mnl = [pd.read_csv(\"../Data/SK/Synthetic Datasets/gmm_and_mnl_\" + str(i) + \".csv\") for i in range(20)]\n",
    "sXs_cart = [pd.read_csv(\"../Data/SK/Synthetic Datasets/gmm_and_cart_\" + str(i) + \".csv\") for i in range(20)]\n",
    "sXs_mostly = [pd.read_csv(\"../Data/SK/Synthetic Datasets/mostly_\" + str(i) + \".csv\") for i in range(20)]"
   ]
  },
  {
   "cell_type": "code",
   "execution_count": 6,
   "id": "d1f9392c-e6b9-4450-9fd2-b79a912a6756",
   "metadata": {},
   "outputs": [
    {
     "name": "stderr",
     "output_type": "stream",
     "text": [
      "C:\\Users\\cdbale\\AppData\\Local\\Temp\\ipykernel_38700\\3563732218.py:24: RuntimeWarning: invalid value encountered in divide\n",
      "  ratios_train = train_dists[:,1]/train_dists[:,-1]\n"
     ]
    }
   ],
   "source": [
    "pms_mnl = privacy_metrics(train_data=train, synthetic_datasets=sXs_mnl, type_of_synthetic=\"MNL\", delta=delta)"
   ]
  },
  {
   "cell_type": "code",
   "execution_count": 7,
   "id": "7de25690-4234-4bd5-8319-76f47247c58d",
   "metadata": {},
   "outputs": [
    {
     "name": "stderr",
     "output_type": "stream",
     "text": [
      "C:\\Users\\cdbale\\AppData\\Local\\Temp\\ipykernel_38700\\3563732218.py:24: RuntimeWarning: invalid value encountered in divide\n",
      "  ratios_train = train_dists[:,1]/train_dists[:,-1]\n"
     ]
    }
   ],
   "source": [
    "pms_cart = privacy_metrics(train_data=train, synthetic_datasets=sXs_cart, type_of_synthetic=\"CART\", delta=delta)"
   ]
  },
  {
   "cell_type": "code",
   "execution_count": 8,
   "id": "9445d654-8972-46b0-b3de-c4f8bb7ffd51",
   "metadata": {},
   "outputs": [
    {
     "name": "stderr",
     "output_type": "stream",
     "text": [
      "C:\\Users\\cdbale\\AppData\\Local\\Temp\\ipykernel_38700\\3563732218.py:24: RuntimeWarning: invalid value encountered in divide\n",
      "  ratios_train = train_dists[:,1]/train_dists[:,-1]\n"
     ]
    }
   ],
   "source": [
    "pms_mostly = privacy_metrics(train_data=train, synthetic_datasets=sXs_mostly, type_of_synthetic=\"MOSTLY.AI\", delta=delta)"
   ]
  },
  {
   "cell_type": "code",
   "execution_count": 9,
   "id": "1cf6eb53-086f-4957-b818-a02f9de5dc32",
   "metadata": {},
   "outputs": [],
   "source": [
    "privacy_results = pd.concat([pms_mnl, pms_cart.iloc[1:,:], pms_mostly.iloc[1:,:]]).reset_index(drop=True)"
   ]
  },
  {
   "cell_type": "code",
   "execution_count": 10,
   "id": "f78c28cb-cc1a-44f7-95a5-57a554ae207d",
   "metadata": {},
   "outputs": [],
   "source": [
    "privacy_results = privacy_results.melt(id_vars=[\"Type\"], value_vars=[\"IMS\", \"DCR\", \"NNDR\"], var_name=\"Metric\") "
   ]
  },
  {
   "cell_type": "code",
   "execution_count": 11,
   "id": "3ec1ba59-d792-4aae-a0e2-0b687e8415e2",
   "metadata": {},
   "outputs": [],
   "source": [
    "privacy_results.to_csv(\"../Results/SK/privacy_metrics.csv\", index=False)"
   ]
  },
  {
   "cell_type": "markdown",
   "id": "814aa4e3",
   "metadata": {},
   "source": [
    "***"
   ]
  },
  {
   "cell_type": "markdown",
   "id": "7efa7593",
   "metadata": {},
   "source": [
    "Examine how IMS diff changes with $\\delta$"
   ]
  },
  {
   "cell_type": "code",
   "execution_count": 12,
   "id": "b60efe64",
   "metadata": {},
   "outputs": [],
   "source": [
    "def ims_calc(train_data, synthetic_data, delta, synthetic_is_train=False):\n",
    "    \n",
    "    scaler = StandardScaler()\n",
    "    \n",
    "    train_data_scaled = scaler.fit_transform(X=train_data)\n",
    "    \n",
    "    training_tree = KDTree(train_data_scaled)\n",
    "    \n",
    "    synthetic_data_scaled = scaler.fit(X=train_data).transform(X=synthetic_data)\n",
    "    \n",
    "    synthetic_dists, synthetic_neighbors = training_tree.query(x=synthetic_data_scaled, k=2, p=2)\n",
    "\n",
    "    if synthetic_is_train:\n",
    "        IMS_synthetic = np.mean(synthetic_dists[:,1] <= delta)\n",
    "    else:\n",
    "        IMS_synthetic = np.mean(synthetic_dists[:,0] <= delta)\n",
    "    \n",
    "    return IMS_synthetic"
   ]
  },
  {
   "cell_type": "code",
   "execution_count": 13,
   "id": "0ed76b08",
   "metadata": {},
   "outputs": [],
   "source": [
    "def ims_apply(train_data, synthetic_data_sets, delta_vals, synthetic_is_train=False):\n",
    "    ims = [[ims_calc(train_data=train_data, synthetic_data=y, delta=x, synthetic_is_train=synthetic_is_train) for x in delta_vals] for y in synthetic_data_sets]\n",
    "    if synthetic_is_train:\n",
    "        return ims\n",
    "    else:\n",
    "        avg_ims = np.mean(np.vstack(ims), axis=0)\n",
    "        return avg_ims"
   ]
  },
  {
   "cell_type": "code",
   "execution_count": 21,
   "id": "14eb0fb1",
   "metadata": {},
   "outputs": [],
   "source": [
    "delta_vals = np.linspace(0.00001, 1.0, 40)"
   ]
  },
  {
   "cell_type": "code",
   "execution_count": 23,
   "id": "ffc1a529",
   "metadata": {},
   "outputs": [],
   "source": [
    "train_ims = ims_apply(train, [train], delta_vals, synthetic_is_train=True)\n",
    "avg_mnl_ims = ims_apply(train, sXs_mnl, delta_vals)\n",
    "avg_cart_ims = ims_apply(train, sXs_cart, delta_vals)\n",
    "avg_mostly_ims = ims_apply(train, sXs_mostly, delta_vals)"
   ]
  },
  {
   "cell_type": "code",
   "execution_count": 32,
   "id": "2105c975",
   "metadata": {},
   "outputs": [
    {
     "data": {
      "image/png": "[encoded data removed]",
      "text/plain": [
       "<Figure size 640x480 with 1 Axes>"
      ]
     },
     "metadata": {},
     "output_type": "display_data"
    }
   ],
   "source": [
    "plt.plot(delta_vals, train_ims[0])\n",
    "plt.scatter(delta_vals, train_ims, s=6, label=\"Original\")\n",
    "\n",
    "plt.plot(delta_vals, avg_mnl_ims)\n",
    "plt.scatter(delta_vals, avg_mnl_ims, s=6, label=\"MNL\")\n",
    "\n",
    "plt.plot(delta_vals, avg_cart_ims)\n",
    "plt.scatter(delta_vals, avg_cart_ims, s=6, label=\"CART\")\n",
    "\n",
    "plt.plot(delta_vals, avg_mostly_ims)\n",
    "plt.scatter(delta_vals, avg_mostly_ims, s=6, label=\"MOSTLY.AI\")\n",
    "\n",
    "plt.title(\"Average IMS Across Data Sets\")\n",
    "plt.xlabel(\"Delta\")\n",
    "plt.ylabel(\"IMS\")\n",
    "\n",
    "plt.legend()\n",
    "plt.show()"
   ]
  },
  {
   "cell_type": "markdown",
   "id": "00cd2ca8",
   "metadata": {},
   "source": [
    "***"
   ]
  },
  {
   "cell_type": "markdown",
   "id": "89c3cca9",
   "metadata": {},
   "source": [
    "Assess attribute disclosure for disease status."
   ]
  },
  {
   "cell_type": "markdown",
   "id": "685194b5",
   "metadata": {},
   "source": [
    "Let's start with the adversary's prior. As of March 23, 2020, their were 9583 confirmed COVID-19 cases and 152 deaths. \n",
    "\n",
    "https://covid19.who.int/region/wpro/country/kr\n",
    "\n",
    "These statistics could be collected from the World Health Organization, and would represent a much more informative prior than a naive uniform prior. Furthermore, evaluating the naive prior would create problems when trying to prevent inference on individuals who did not pass away from COVID."
   ]
  },
  {
   "cell_type": "code",
   "execution_count": 15,
   "id": "e71d5fe0",
   "metadata": {},
   "outputs": [],
   "source": [
    "prior_death_prob = 152/9583"
   ]
  },
  {
   "cell_type": "code",
   "execution_count": 16,
   "id": "e45292d8",
   "metadata": {},
   "outputs": [],
   "source": [
    "def inference_evaluation(original_data, synthetic_data, prior_prob, deltas):\n",
    "    \n",
    "    full_inf_conds = []\n",
    "    full_indices = []\n",
    "    \n",
    "    # tree for original locations\n",
    "    orig_tree = KDTree(original_data[[\"latitude\", \"longitude\"]])\n",
    "    \n",
    "    # tree for synthetic locations\n",
    "    sX_tree = KDTree(synthetic_data[[\"latitude\", \"longitude\"]])\n",
    "    \n",
    "    for d in deltas:\n",
    "        \n",
    "        # lists to store the inference condition for each original row and the indices of those rows that violate\n",
    "        inf_conds = []\n",
    "    \n",
    "        # find synthetic neighbors of each original point\n",
    "        location_neighbors = orig_tree.query_ball_tree(sX_tree, r=d, p=2.0)\n",
    "    \n",
    "        # for each original record\n",
    "        for i,row in original_data.iterrows():\n",
    "        \n",
    "            # matches on categorical attributes from location neighbors\n",
    "            categorical_matches = (synthetic_data.loc[location_neighbors[i],['sex', 'age']] == row[['sex', 'age']]).all(1)\n",
    "            \n",
    "            matching_rows = synthetic_data.loc[location_neighbors[i],:].loc[categorical_matches.values,:]\n",
    "            \n",
    "            if matching_rows.shape[0] > 0:\n",
    "                \n",
    "                if row['state'] == 1.0:\n",
    "                    prior = prior_prob\n",
    "                else:\n",
    "                    prior = 1 - prior_prob\n",
    "            \n",
    "                cond = np.mean(matching_rows['state'] == row['state'])/prior\n",
    "                \n",
    "            else:\n",
    "                \n",
    "                cond = 1\n",
    "        \n",
    "            # store number of matches and their indices\n",
    "            inf_conds.append(cond)\n",
    "        \n",
    "        inf_conds = pd.Series(inf_conds)\n",
    "        \n",
    "        full_inf_conds.append(inf_conds)\n",
    "        \n",
    "    print(\"Dataset completed.\")\n",
    "        \n",
    "    return full_inf_conds"
   ]
  },
  {
   "cell_type": "code",
   "execution_count": 17,
   "id": "cb961759",
   "metadata": {},
   "outputs": [
    {
     "name": "stdout",
     "output_type": "stream",
     "text": [
      "Dataset completed.\n",
      "Dataset completed.\n",
      "Dataset completed.\n",
      "Dataset completed.\n",
      "Dataset completed.\n",
      "Dataset completed.\n",
      "Dataset completed.\n",
      "Dataset completed.\n",
      "Dataset completed.\n",
      "Dataset completed.\n",
      "Dataset completed.\n",
      "Dataset completed.\n",
      "Dataset completed.\n",
      "Dataset completed.\n",
      "Dataset completed.\n",
      "Dataset completed.\n",
      "Dataset completed.\n",
      "Dataset completed.\n",
      "Dataset completed.\n",
      "Dataset completed.\n"
     ]
    }
   ],
   "source": [
    "holdout_inf = [inference_evaluation(train, Y, prior_death_prob, delta_vals) for Y in holdout_datasets]\n",
    "holdout_inf = [pd.concat(x, axis=1) for x in holdout_inf]"
   ]
  },
  {
   "cell_type": "code",
   "execution_count": 18,
   "id": "6edbf28a",
   "metadata": {},
   "outputs": [],
   "source": [
    "for i in range(20):\n",
    "    holdout_inf[i].to_csv(\"Data/privacy_results/holdout_inf_\" + str(i) + \".csv\", index=False)\n",
    "holdout_inf = [pd.read_csv(\"Data/privacy_results/holdout_inf_\" + str(i) + \".csv\") for i in range(20)]"
   ]
  },
  {
   "cell_type": "code",
   "execution_count": 19,
   "id": "db28f23e",
   "metadata": {},
   "outputs": [
    {
     "name": "stdout",
     "output_type": "stream",
     "text": [
      "Dataset completed.\n",
      "Dataset completed.\n",
      "Dataset completed.\n",
      "Dataset completed.\n",
      "Dataset completed.\n",
      "Dataset completed.\n",
      "Dataset completed.\n",
      "Dataset completed.\n",
      "Dataset completed.\n",
      "Dataset completed.\n",
      "Dataset completed.\n",
      "Dataset completed.\n",
      "Dataset completed.\n",
      "Dataset completed.\n",
      "Dataset completed.\n",
      "Dataset completed.\n",
      "Dataset completed.\n",
      "Dataset completed.\n",
      "Dataset completed.\n",
      "Dataset completed.\n"
     ]
    }
   ],
   "source": [
    "mnl_inf = [inference_evaluation(train, Y, prior_death_prob, delta_vals) for Y in sXs_logit_pmse]\n",
    "mnl_inf = [pd.concat(x, axis=1) for x in mnl_inf]"
   ]
  },
  {
   "cell_type": "code",
   "execution_count": 20,
   "id": "dec507fb",
   "metadata": {},
   "outputs": [],
   "source": [
    "for i in range(20):\n",
    "    mnl_inf[i].to_csv(\"Data/privacy_results/mnl_inf_\" + str(i) + \".csv\", index=False)\n",
    "mnl_inf = [pd.read_csv(\"Data/privacy_results/mnl_inf_\" + str(i) + \".csv\") for i in range(20)]"
   ]
  },
  {
   "cell_type": "code",
   "execution_count": 21,
   "id": "d6f5c27e",
   "metadata": {},
   "outputs": [
    {
     "name": "stdout",
     "output_type": "stream",
     "text": [
      "Dataset completed.\n",
      "Dataset completed.\n",
      "Dataset completed.\n",
      "Dataset completed.\n",
      "Dataset completed.\n",
      "Dataset completed.\n",
      "Dataset completed.\n",
      "Dataset completed.\n",
      "Dataset completed.\n",
      "Dataset completed.\n",
      "Dataset completed.\n",
      "Dataset completed.\n",
      "Dataset completed.\n",
      "Dataset completed.\n",
      "Dataset completed.\n",
      "Dataset completed.\n",
      "Dataset completed.\n",
      "Dataset completed.\n",
      "Dataset completed.\n",
      "Dataset completed.\n"
     ]
    }
   ],
   "source": [
    "mnl_inf_prev = [inference_evaluation(train, Y, prior_death_prob, delta_vals) for Y in sXs_logit_inf_pmse]\n",
    "mnl_inf_prev = [pd.concat(x, axis=1) for x in mnl_inf_prev]"
   ]
  },
  {
   "cell_type": "code",
   "execution_count": 22,
   "id": "a01af0e3",
   "metadata": {},
   "outputs": [],
   "source": [
    "for i in range(20):\n",
    "    mnl_inf_prev[i].to_csv(\"Data/privacy_results/mnl_inf_prev_\" + str(i) + \".csv\", index=False)\n",
    "mnl_inf_prev = [pd.read_csv(\"Data/privacy_results/mnl_inf_prev_\" + str(i) + \".csv\") for i in range(20)]"
   ]
  },
  {
   "cell_type": "code",
   "execution_count": 23,
   "id": "68d7bb83",
   "metadata": {},
   "outputs": [
    {
     "name": "stdout",
     "output_type": "stream",
     "text": [
      "Dataset completed.\n",
      "Dataset completed.\n",
      "Dataset completed.\n",
      "Dataset completed.\n",
      "Dataset completed.\n",
      "Dataset completed.\n",
      "Dataset completed.\n",
      "Dataset completed.\n",
      "Dataset completed.\n",
      "Dataset completed.\n",
      "Dataset completed.\n",
      "Dataset completed.\n",
      "Dataset completed.\n",
      "Dataset completed.\n",
      "Dataset completed.\n",
      "Dataset completed.\n",
      "Dataset completed.\n",
      "Dataset completed.\n",
      "Dataset completed.\n",
      "Dataset completed.\n"
     ]
    }
   ],
   "source": [
    "cart_inf = [inference_evaluation(train, Y, prior_death_prob, delta_vals) for Y in sXs_cart_mb_pmse]\n",
    "cart_inf = [pd.concat(x, axis=1) for x in cart_inf]"
   ]
  },
  {
   "cell_type": "code",
   "execution_count": 24,
   "id": "1036fff9",
   "metadata": {},
   "outputs": [],
   "source": [
    "for i in range(20):\n",
    "    cart_inf[i].to_csv(\"Data/privacy_results/cart_inf_\" + str(i) + \".csv\", index=False)\n",
    "cart_inf = [pd.read_csv(\"Data/privacy_results/cart_inf_\" + str(i) + \".csv\") for i in range(20)]"
   ]
  },
  {
   "cell_type": "code",
   "execution_count": 25,
   "id": "619b8226",
   "metadata": {},
   "outputs": [
    {
     "name": "stdout",
     "output_type": "stream",
     "text": [
      "Dataset completed.\n",
      "Dataset completed.\n",
      "Dataset completed.\n",
      "Dataset completed.\n",
      "Dataset completed.\n",
      "Dataset completed.\n",
      "Dataset completed.\n",
      "Dataset completed.\n",
      "Dataset completed.\n",
      "Dataset completed.\n",
      "Dataset completed.\n",
      "Dataset completed.\n",
      "Dataset completed.\n",
      "Dataset completed.\n",
      "Dataset completed.\n",
      "Dataset completed.\n",
      "Dataset completed.\n",
      "Dataset completed.\n",
      "Dataset completed.\n",
      "Dataset completed.\n"
     ]
    }
   ],
   "source": [
    "cart_inf_prev = [inference_evaluation(train, Y, prior_death_prob, delta_vals) for Y in sXs_cart_mb_inf_pmse]\n",
    "cart_inf_prev = [pd.concat(x, axis=1) for x in cart_inf_prev]"
   ]
  },
  {
   "cell_type": "code",
   "execution_count": 26,
   "id": "5728734f",
   "metadata": {},
   "outputs": [],
   "source": [
    "for i in range(20):\n",
    "    cart_inf_prev[i].to_csv(\"Data/privacy_results/cart_inf_prev_\" + str(i) + \".csv\", index=False)\n",
    "cart_inf_prev = [pd.read_csv(\"Data/privacy_results/cart_inf_prev_\" + str(i) + \".csv\") for i in range(20)]"
   ]
  },
  {
   "cell_type": "code",
   "execution_count": 27,
   "id": "d4181cc2",
   "metadata": {},
   "outputs": [
    {
     "name": "stdout",
     "output_type": "stream",
     "text": [
      "Dataset completed.\n",
      "Dataset completed.\n",
      "Dataset completed.\n",
      "Dataset completed.\n",
      "Dataset completed.\n",
      "Dataset completed.\n",
      "Dataset completed.\n",
      "Dataset completed.\n",
      "Dataset completed.\n",
      "Dataset completed.\n",
      "Dataset completed.\n",
      "Dataset completed.\n",
      "Dataset completed.\n",
      "Dataset completed.\n",
      "Dataset completed.\n",
      "Dataset completed.\n",
      "Dataset completed.\n",
      "Dataset completed.\n",
      "Dataset completed.\n",
      "Dataset completed.\n"
     ]
    }
   ],
   "source": [
    "mostly_inf = [inference_evaluation(train, Y, prior_death_prob, delta_vals) for Y in sXs_mostly]\n",
    "mostly_inf = [pd.concat(x, axis=1) for x in mostly_inf]"
   ]
  },
  {
   "cell_type": "code",
   "execution_count": 28,
   "id": "b7b13065",
   "metadata": {},
   "outputs": [],
   "source": [
    "for i in range(20):\n",
    "    mostly_inf[i].to_csv(\"Data/privacy_results/mostly_inf_\" + str(i) + \".csv\", index=False)\n",
    "mostly_inf = [pd.read_csv(\"Data/privacy_results/mostly_inf_\" + str(i) + \".csv\") for i in range(20)]"
   ]
  },
  {
   "cell_type": "markdown",
   "id": "b1319da4",
   "metadata": {},
   "source": [
    "Need to calculate the maximum increase in inference in each data set."
   ]
  },
  {
   "cell_type": "code",
   "execution_count": 29,
   "id": "426ad297",
   "metadata": {},
   "outputs": [],
   "source": [
    "max_holdout_inf = [np.max(x, axis=0) for x in holdout_inf]\n",
    "max_mnl_inf = [np.max(x, axis=0) for x in mnl_inf]\n",
    "max_mnl_inf_prev = [np.max(x, axis=0) for x in mnl_inf_prev]\n",
    "max_cart_inf = [np.max(x, axis=0) for x in cart_inf]\n",
    "max_cart_inf_prev = [np.max(x, axis=0) for x in cart_inf_prev]\n",
    "max_mostly_inf = [np.max(x, axis=0) for x in mostly_inf]"
   ]
  },
  {
   "cell_type": "markdown",
   "id": "a693ab5c",
   "metadata": {},
   "source": [
    "Could look at the distribution of the maximum increase for each data set."
   ]
  },
  {
   "cell_type": "code",
   "execution_count": 30,
   "id": "c6c8b52a",
   "metadata": {},
   "outputs": [],
   "source": [
    "avg_max_holdout = np.mean(pd.concat(max_holdout_inf, axis=1), axis=1)\n",
    "avg_max_mnl = np.mean(pd.concat(max_mnl_inf, axis=1), axis=1)\n",
    "avg_max_mnl_prev = np.mean(pd.concat(max_mnl_inf_prev, axis=1), axis=1)\n",
    "avg_max_cart = np.mean(pd.concat(max_cart_inf, axis=1), axis=1)\n",
    "avg_max_cart_prev = np.mean(pd.concat(max_cart_inf_prev, axis=1), axis=1)\n",
    "avg_max_mostly = np.mean(pd.concat(max_mostly_inf, axis=1), axis=1)"
   ]
  },
  {
   "cell_type": "code",
   "execution_count": 31,
   "id": "a43fa485",
   "metadata": {},
   "outputs": [
    {
     "data": {
      "image/png": "[encoded data removed]",
      "text/plain": [
       "<Figure size 640x480 with 1 Axes>"
      ]
     },
     "metadata": {},
     "output_type": "display_data"
    }
   ],
   "source": [
    "plt.plot(delta_vals, avg_max_holdout)\n",
    "plt.scatter(delta_vals, avg_max_holdout, s=6, label=\"Holdout\")\n",
    "\n",
    "plt.plot(delta_vals, avg_max_mnl)\n",
    "plt.scatter(delta_vals, avg_max_mnl, s=6, label=\"MNL\")\n",
    "\n",
    "plt.plot(delta_vals, avg_max_mnl_prev)\n",
    "plt.scatter(delta_vals, avg_max_mnl_prev, s=6, label=\"MNL - Inference\")\n",
    "\n",
    "plt.plot(delta_vals, avg_max_cart)\n",
    "plt.scatter(delta_vals, avg_max_cart, s=6, label=\"CART\")\n",
    "\n",
    "plt.plot(delta_vals, avg_max_cart_prev)\n",
    "plt.scatter(delta_vals, avg_max_cart_prev, s=6, label=\"CART - Inference\")\n",
    "\n",
    "plt.plot(delta_vals, avg_max_mostly)\n",
    "plt.scatter(delta_vals, avg_max_mostly, s=6, label=\"MOSTLY.AI\")\n",
    "\n",
    "plt.title(\"Average Maximum Increase in Inference\")\n",
    "plt.xlabel(\"Delta\")\n",
    "plt.ylabel(\"Average Maximum Increase in Inference\")\n",
    "\n",
    "plt.legend()\n",
    "plt.show()"
   ]
  },
  {
   "cell_type": "code",
   "execution_count": null,
   "id": "9eb91cae",
   "metadata": {},
   "outputs": [],
   "source": []
  }
 ],
 "metadata": {
  "kernelspec": {
   "display_name": "Python 3 (ipykernel)",
   "language": "python",
   "name": "python3"
  },
  "language_info": {
   "codemirror_mode": {
    "name": "ipython",
    "version": 3
   },
   "file_extension": ".py",
   "mimetype": "text/x-python",
   "name": "python",
   "nbconvert_exporter": "python",
   "pygments_lexer": "ipython3",
   "version": "3.11.7"
  }
 },
 "nbformat": 4,
 "nbformat_minor": 5
}
