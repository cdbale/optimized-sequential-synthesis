{
 "cells": [
  {
   "cell_type": "markdown",
   "id": "96f48262",
   "metadata": {},
   "source": [
    "This notebook performs the synthesis using our proposed synthesization approach applied to the IPUMS data. The synthesis model is a CART. Logistic regression with three way interactions is used as the pMSE model."
   ]
  },
  {
   "cell_type": "code",
   "execution_count": 1,
   "id": "2d3f5c21",
   "metadata": {},
   "outputs": [],
   "source": [
    "from numpy.random import default_rng\n",
    "from sklearn.mixture import GaussianMixture\n",
    "import matplotlib.pyplot as plt\n",
    "import itertools\n",
    "import os\n",
    "import pickle\n",
    "\n",
    "from sklearn.tree import DecisionTreeClassifier\n",
    "from sklearn.preprocessing import StandardScaler\n",
    "\n",
    "from bayes_opt import BayesianOptimization\n",
    "from bayes_opt import UtilityFunction\n",
    "\n",
    "from helper_functions import *\n",
    "\n",
    "rng = np.random.RandomState(42)"
   ]
  },
  {
   "cell_type": "markdown",
   "id": "76a8ccbc",
   "metadata": {},
   "source": [
    "Import the data."
   ]
  },
  {
   "cell_type": "code",
   "execution_count": 2,
   "id": "730c2f2e",
   "metadata": {},
   "outputs": [],
   "source": [
    "# import standardized lat/long location data\n",
    "train_data = pd.read_csv(\"../Data/IPUMS/cleaned_ipums_data.csv\")"
   ]
  },
  {
   "cell_type": "code",
   "execution_count": 3,
   "id": "5fb46ada",
   "metadata": {},
   "outputs": [
    {
     "data": {
      "text/html": [
       "<div>\n",
       "<style scoped>\n",
       "    .dataframe tbody tr th:only-of-type {\n",
       "        vertical-align: middle;\n",
       "    }\n",
       "\n",
       "    .dataframe tbody tr th {\n",
       "        vertical-align: top;\n",
       "    }\n",
       "\n",
       "    .dataframe thead th {\n",
       "        text-align: right;\n",
       "    }\n",
       "</style>\n",
       "<table border=\"1\" class=\"dataframe\">\n",
       "  <thead>\n",
       "    <tr style=\"text-align: right;\">\n",
       "      <th></th>\n",
       "      <th>incwage</th>\n",
       "      <th>years_of_educ</th>\n",
       "      <th>potential_experience</th>\n",
       "      <th>non_white</th>\n",
       "      <th>sex</th>\n",
       "    </tr>\n",
       "  </thead>\n",
       "  <tbody>\n",
       "    <tr>\n",
       "      <th>0</th>\n",
       "      <td>9.305651</td>\n",
       "      <td>16.000000</td>\n",
       "      <td>18.000000</td>\n",
       "      <td>0</td>\n",
       "      <td>1</td>\n",
       "    </tr>\n",
       "    <tr>\n",
       "      <th>1</th>\n",
       "      <td>10.545341</td>\n",
       "      <td>15.000000</td>\n",
       "      <td>23.000000</td>\n",
       "      <td>0</td>\n",
       "      <td>0</td>\n",
       "    </tr>\n",
       "    <tr>\n",
       "      <th>2</th>\n",
       "      <td>8.853665</td>\n",
       "      <td>13.000000</td>\n",
       "      <td>2.000000</td>\n",
       "      <td>0</td>\n",
       "      <td>0</td>\n",
       "    </tr>\n",
       "    <tr>\n",
       "      <th>3</th>\n",
       "      <td>7.863267</td>\n",
       "      <td>11.000000</td>\n",
       "      <td>0.000000</td>\n",
       "      <td>0</td>\n",
       "      <td>0</td>\n",
       "    </tr>\n",
       "    <tr>\n",
       "      <th>4</th>\n",
       "      <td>9.942708</td>\n",
       "      <td>12.000000</td>\n",
       "      <td>33.000000</td>\n",
       "      <td>1</td>\n",
       "      <td>0</td>\n",
       "    </tr>\n",
       "    <tr>\n",
       "      <th>...</th>\n",
       "      <td>...</td>\n",
       "      <td>...</td>\n",
       "      <td>...</td>\n",
       "      <td>...</td>\n",
       "      <td>...</td>\n",
       "    </tr>\n",
       "    <tr>\n",
       "      <th>197751</th>\n",
       "      <td>10.021271</td>\n",
       "      <td>16.000000</td>\n",
       "      <td>13.000000</td>\n",
       "      <td>0</td>\n",
       "      <td>0</td>\n",
       "    </tr>\n",
       "    <tr>\n",
       "      <th>197752</th>\n",
       "      <td>8.411833</td>\n",
       "      <td>16.000000</td>\n",
       "      <td>11.000000</td>\n",
       "      <td>0</td>\n",
       "      <td>1</td>\n",
       "    </tr>\n",
       "    <tr>\n",
       "      <th>197753</th>\n",
       "      <td>10.518673</td>\n",
       "      <td>17.737673</td>\n",
       "      <td>19.262327</td>\n",
       "      <td>0</td>\n",
       "      <td>0</td>\n",
       "    </tr>\n",
       "    <tr>\n",
       "      <th>197754</th>\n",
       "      <td>7.313220</td>\n",
       "      <td>15.000000</td>\n",
       "      <td>13.000000</td>\n",
       "      <td>0</td>\n",
       "      <td>1</td>\n",
       "    </tr>\n",
       "    <tr>\n",
       "      <th>197755</th>\n",
       "      <td>10.716638</td>\n",
       "      <td>16.000000</td>\n",
       "      <td>32.000000</td>\n",
       "      <td>0</td>\n",
       "      <td>0</td>\n",
       "    </tr>\n",
       "  </tbody>\n",
       "</table>\n",
       "<p>197756 rows × 5 columns</p>\n",
       "</div>"
      ],
      "text/plain": [
       "          incwage  years_of_educ  potential_experience  non_white  sex\n",
       "0        9.305651      16.000000             18.000000          0    1\n",
       "1       10.545341      15.000000             23.000000          0    0\n",
       "2        8.853665      13.000000              2.000000          0    0\n",
       "3        7.863267      11.000000              0.000000          0    0\n",
       "4        9.942708      12.000000             33.000000          1    0\n",
       "...           ...            ...                   ...        ...  ...\n",
       "197751  10.021271      16.000000             13.000000          0    0\n",
       "197752   8.411833      16.000000             11.000000          0    1\n",
       "197753  10.518673      17.737673             19.262327          0    0\n",
       "197754   7.313220      15.000000             13.000000          0    1\n",
       "197755  10.716638      16.000000             32.000000          0    0\n",
       "\n",
       "[197756 rows x 5 columns]"
      ]
     },
     "execution_count": 3,
     "metadata": {},
     "output_type": "execute_result"
    }
   ],
   "source": [
    "train_data"
   ]
  },
  {
   "cell_type": "markdown",
   "id": "76de685f",
   "metadata": {},
   "source": [
    "***"
   ]
  },
  {
   "cell_type": "markdown",
   "id": "5b8a741f",
   "metadata": {},
   "source": [
    "# Full Sequential Synthesis Driven by Bayesian Optimization"
   ]
  },
  {
   "cell_type": "markdown",
   "id": "3a1688b8",
   "metadata": {},
   "source": [
    "Write function to train all models and generate the synthetic dataset, then evaluate the pMSE ratio."
   ]
  },
  {
   "cell_type": "code",
   "execution_count": 4,
   "id": "ab5f897a",
   "metadata": {},
   "outputs": [],
   "source": [
    "def train_models(#overall parameters\n",
    "                 train_data,\n",
    "                 number_synthetic_datasets,\n",
    "                 # hyperparameters for GMM, end with underscore means Bayesian optimization will choose\n",
    "                 number_gmm_initializations,\n",
    "                 num_components_,\n",
    "                 # hyperparameters for CART, end with underscore means Bayesian optimization will choose\n",
    "                 mb_non_white_,\n",
    "                 mb_sex_):\n",
    "    \n",
    "    num_samples = train_data.shape[0]\n",
    "\n",
    "    # normalized version of training data\n",
    "    scaler = StandardScaler().fit(train_data.loc[:,['incwage', 'years_of_educ', 'potential_experience']])\n",
    "    norm_train = train_data.copy()\n",
    "    norm_train.loc[:,['incwage', 'years_of_educ', 'potential_experience']] = scaler.transform(norm_train.loc[:,['incwage', 'years_of_educ', 'potential_experience']])\n",
    "    \n",
    "    ########## Code for GMM ############\n",
    "    \n",
    "    # fit GMM model\n",
    "    GMM = GaussianMixture(num_components_, n_init=number_gmm_initializations, covariance_type='full', init_params=\"k-means++\", random_state=rng).fit(norm_train.loc[:, ['incwage', 'years_of_educ', 'potential_experience']])\n",
    "    \n",
    "    # list for synthetic datasets\n",
    "    sXs = []\n",
    "    \n",
    "    # generate and store number_synthetic_datasets synthetic datasets\n",
    "    for i in range(number_synthetic_datasets):\n",
    "        sX = GMM.sample(num_samples)[0]\n",
    "        sX = pd.DataFrame(sX, columns=['incwage', 'years_of_educ', 'potential_experience'])\n",
    "        sXs.append(sX)\n",
    "\n",
    "    ####################################################################################################\n",
    "        \n",
    "    ########### Code for non_white CART ##########\n",
    "    cart_non_white = DecisionTreeClassifier(min_samples_leaf=mb_non_white_, random_state=rng)\n",
    "    \n",
    "    cart_non_white.fit(X=norm_train.loc[:, ['incwage', 'years_of_educ', 'potential_experience']], y=norm_train.loc[:, \"non_white\"])\n",
    "    \n",
    "    node_indicators = cart_non_white.decision_path(norm_train.loc[:, ['incwage', 'years_of_educ', 'potential_experience']]).toarray()\n",
    "    \n",
    "    node_outcomes = [norm_train.loc[:, 'non_white'][node_indicators[:,x]==1] for x in np.arange(node_indicators.shape[1])]\n",
    "    \n",
    "    for i in range(number_synthetic_datasets):\n",
    "        \n",
    "        synth_leaves = cart_non_white.apply(sXs[i].loc[:,['incwage', 'years_of_educ', 'potential_experience']])\n",
    "        \n",
    "        new_non_white = np.zeros(len(synth_leaves), dtype=int)\n",
    "        \n",
    "        for j, x in enumerate(np.arange(node_indicators.shape[1])):\n",
    "            \n",
    "            new_non_white[synth_leaves==x] = rng.choice(node_outcomes[x], size=np.sum(synth_leaves==x))\n",
    "        \n",
    "        new_non_white = pd.Series(new_non_white)\n",
    "        \n",
    "        new_non_white.name = \"non_white\"\n",
    "        \n",
    "        sXs[i] = pd.concat([sXs[i], new_non_white], axis=1)\n",
    "    \n",
    "    ####################################################################################################\n",
    "        \n",
    "    ########### Code for sex CART ##########\n",
    "    \n",
    "    cart_sex = DecisionTreeClassifier(min_samples_leaf=mb_sex_, random_state=rng)\n",
    "    \n",
    "    cart_sex.fit(X=norm_train.loc[:, ['incwage', 'years_of_educ', 'potential_experience', 'non_white']], y=norm_train.loc[:, \"sex\"])\n",
    "    \n",
    "    node_indicators = cart_sex.decision_path(norm_train.loc[:, ['incwage', 'years_of_educ', 'potential_experience', 'non_white']]).toarray()\n",
    "    \n",
    "    node_outcomes = [norm_train.loc[:, 'sex'][node_indicators[:,x]==1] for x in np.arange(node_indicators.shape[1])]\n",
    "    \n",
    "    for i in range(number_synthetic_datasets):\n",
    "        \n",
    "        synth_leaves = cart_sex.apply(sXs[i].loc[:,['incwage', 'years_of_educ', 'potential_experience', 'non_white']])\n",
    "        \n",
    "        new_sex = np.zeros(len(synth_leaves), dtype=int)\n",
    "        \n",
    "        for j, x in enumerate(np.arange(node_indicators.shape[1])):\n",
    "            \n",
    "            new_sex[synth_leaves==x] = rng.choice(node_outcomes[x], size=np.sum(synth_leaves==x))\n",
    "        \n",
    "        new_sex = pd.Series(new_sex)\n",
    "        \n",
    "        new_sex.name = \"sex\"\n",
    "        \n",
    "        sXs[i] = pd.concat([sXs[i], new_sex], axis=1)\n",
    "        \n",
    "    ###### Calculate ks distances ######\n",
    "    pmse_ratios = [pmse_ratio(norm_train, Y) for Y in sXs]\n",
    "\n",
    "    # convert sXs to original scale (un-normalize?)\n",
    "    for i, Z in enumerate(sXs):\n",
    "        H = train_data.sample(frac=1.0, replace=True, ignore_index=True).loc[:,['incwage', 'years_of_educ', 'potential_experience']]\n",
    "        scaler = StandardScaler().fit(H)\n",
    "        Z.loc[:,['incwage', 'years_of_educ', 'potential_experience']] = scaler.inverse_transform(Z.loc[:,['incwage', 'years_of_educ', 'potential_experience']])\n",
    "        Z.loc[:, ['years_of_educ']] = np.round(Z.loc[:, ['years_of_educ']], 0)\n",
    "    \n",
    "    return pmse_ratios, sXs, GMM"
   ]
  },
  {
   "cell_type": "code",
   "execution_count": 5,
   "id": "796d2f96",
   "metadata": {},
   "outputs": [],
   "source": [
    "def optimize_models(train_data,\n",
    "                    number_synthetic_datasets,\n",
    "                    number_gmm_initializations,\n",
    "                    random_state):\n",
    "\n",
    "    def evaluate_models(num_components_, mb_non_white_, mb_sex_):\n",
    "\n",
    "        pmse_ratios, _, _ = train_models(train_data=train_data,\n",
    "                                         number_synthetic_datasets=number_synthetic_datasets,\n",
    "                                         number_gmm_initializations=number_gmm_initializations,\n",
    "                                         num_components_=int(num_components_),\n",
    "                                         mb_non_white_=int(mb_non_white_),\n",
    "                                         mb_sex_=int(mb_sex_))\n",
    "\n",
    "        return -1 * ((1 - np.mean(pmse_ratios))**2)\n",
    "\n",
    "    optimizer = BayesianOptimization(\n",
    "        f=evaluate_models,\n",
    "        pbounds={\n",
    "            \"num_components_\": (10, 200.99),\n",
    "            \"mb_non_white_\": (10, 350.99),\n",
    "            \"mb_sex_\": (10, 350.99)\n",
    "        },\n",
    "        random_state=random_state)\n",
    "\n",
    "    utility = UtilityFunction(kind=\"ei\", xi=1e-02)\n",
    "    optimizer.maximize(init_points=5, n_iter=25, acquisition_function=utility)\n",
    "    print(\"Final Result: \", optimizer.max)\n",
    "    return optimizer.max, optimizer"
   ]
  },
  {
   "cell_type": "markdown",
   "id": "5594760a",
   "metadata": {},
   "source": [
    "The default value of $\\alpha = 1e-06$."
   ]
  },
  {
   "cell_type": "code",
   "execution_count": 6,
   "id": "15d5ded7",
   "metadata": {},
   "outputs": [],
   "source": [
    "nsd = 10\n",
    "ngi = 2\n",
    "random_states = [np.random.RandomState(1006), np.random.RandomState(428)]"
   ]
  },
  {
   "cell_type": "code",
   "execution_count": 7,
   "id": "fe01e70f",
   "metadata": {},
   "outputs": [
    {
     "name": "stdout",
     "output_type": "stream",
     "text": [
      "|   iter    |  target   | mb_non... |  mb_sex_  | num_co... |\n",
      "-------------------------------------------------------------\n",
      "| \u001b[0m1        \u001b[0m | \u001b[0m-16.61   \u001b[0m | \u001b[0m263.4    \u001b[0m | \u001b[0m87.21    \u001b[0m | \u001b[0m132.7    \u001b[0m |\n",
      "| \u001b[95m2        \u001b[0m | \u001b[95m-13.1    \u001b[0m | \u001b[95m310.9    \u001b[0m | \u001b[95m262.6    \u001b[0m | \u001b[95m147.8    \u001b[0m |\n",
      "| \u001b[0m3        \u001b[0m | \u001b[0m-382.5   \u001b[0m | \u001b[0m110.7    \u001b[0m | \u001b[0m189.2    \u001b[0m | \u001b[0m43.19    \u001b[0m |\n",
      "| \u001b[0m4        \u001b[0m | \u001b[0m-217.3   \u001b[0m | \u001b[0m286.9    \u001b[0m | \u001b[0m299.6    \u001b[0m | \u001b[0m58.99    \u001b[0m |\n",
      "| \u001b[0m5        \u001b[0m | \u001b[0m-543.0   \u001b[0m | \u001b[0m90.89    \u001b[0m | \u001b[0m166.3    \u001b[0m | \u001b[0m53.72    \u001b[0m |\n",
      "| \u001b[95m6        \u001b[0m | \u001b[95m-12.64   \u001b[0m | \u001b[95m311.8    \u001b[0m | \u001b[95m259.8    \u001b[0m | \u001b[95m143.2    \u001b[0m |\n",
      "| \u001b[95m7        \u001b[0m | \u001b[95m-4.356   \u001b[0m | \u001b[95m295.0    \u001b[0m | \u001b[95m176.9    \u001b[0m | \u001b[95m154.9    \u001b[0m |\n",
      "| \u001b[95m8        \u001b[0m | \u001b[95m-0.7769  \u001b[0m | \u001b[95m351.0    \u001b[0m | \u001b[95m215.2    \u001b[0m | \u001b[95m174.9    \u001b[0m |\n",
      "| \u001b[0m9        \u001b[0m | \u001b[0m-19.22   \u001b[0m | \u001b[0m350.0    \u001b[0m | \u001b[0m107.3    \u001b[0m | \u001b[0m127.1    \u001b[0m |\n",
      "| \u001b[0m10       \u001b[0m | \u001b[0m-1.591   \u001b[0m | \u001b[0m309.4    \u001b[0m | \u001b[0m81.12    \u001b[0m | \u001b[0m201.0    \u001b[0m |\n",
      "| \u001b[0m11       \u001b[0m | \u001b[0m-3.937   \u001b[0m | \u001b[0m317.2    \u001b[0m | \u001b[0m10.0     \u001b[0m | \u001b[0m146.5    \u001b[0m |\n",
      "| \u001b[95m12       \u001b[0m | \u001b[95m-0.4949  \u001b[0m | \u001b[95m250.2    \u001b[0m | \u001b[95m10.0     \u001b[0m | \u001b[95m201.0    \u001b[0m |\n",
      "| \u001b[0m13       \u001b[0m | \u001b[0m-2.959e+0\u001b[0m | \u001b[0m351.0    \u001b[0m | \u001b[0m10.0     \u001b[0m | \u001b[0m10.0     \u001b[0m |\n",
      "| \u001b[0m14       \u001b[0m | \u001b[0m-14.78   \u001b[0m | \u001b[0m121.5    \u001b[0m | \u001b[0m347.7    \u001b[0m | \u001b[0m127.6    \u001b[0m |\n",
      "| \u001b[0m15       \u001b[0m | \u001b[0m-8.444e+0\u001b[0m | \u001b[0m12.06    \u001b[0m | \u001b[0m307.1    \u001b[0m | \u001b[0m14.27    \u001b[0m |\n",
      "| \u001b[0m16       \u001b[0m | \u001b[0m-7.677   \u001b[0m | \u001b[0m155.8    \u001b[0m | \u001b[0m232.0    \u001b[0m | \u001b[0m156.5    \u001b[0m |\n",
      "| \u001b[0m17       \u001b[0m | \u001b[0m-4.13    \u001b[0m | \u001b[0m202.2    \u001b[0m | \u001b[0m351.0    \u001b[0m | \u001b[0m201.0    \u001b[0m |\n",
      "| \u001b[0m18       \u001b[0m | \u001b[0m-1.59    \u001b[0m | \u001b[0m351.0    \u001b[0m | \u001b[0m10.0     \u001b[0m | \u001b[0m201.0    \u001b[0m |\n",
      "| \u001b[0m19       \u001b[0m | \u001b[0m-10.2    \u001b[0m | \u001b[0m10.0     \u001b[0m | \u001b[0m10.0     \u001b[0m | \u001b[0m201.0    \u001b[0m |\n",
      "| \u001b[0m20       \u001b[0m | \u001b[0m-0.9804  \u001b[0m | \u001b[0m89.4     \u001b[0m | \u001b[0m107.1    \u001b[0m | \u001b[0m201.0    \u001b[0m |\n",
      "| \u001b[0m21       \u001b[0m | \u001b[0m-57.27   \u001b[0m | \u001b[0m212.3    \u001b[0m | \u001b[0m351.0    \u001b[0m | \u001b[0m100.9    \u001b[0m |\n",
      "| \u001b[0m22       \u001b[0m | \u001b[0m-227.1   \u001b[0m | \u001b[0m10.0     \u001b[0m | \u001b[0m10.0     \u001b[0m | \u001b[0m65.27    \u001b[0m |\n",
      "| \u001b[0m23       \u001b[0m | \u001b[0m-8.918   \u001b[0m | \u001b[0m108.9    \u001b[0m | \u001b[0m10.0     \u001b[0m | \u001b[0m147.1    \u001b[0m |\n",
      "| \u001b[0m24       \u001b[0m | \u001b[0m-27.85   \u001b[0m | \u001b[0m351.0    \u001b[0m | \u001b[0m351.0    \u001b[0m | \u001b[0m129.2    \u001b[0m |\n",
      "| \u001b[0m25       \u001b[0m | \u001b[0m-1.653   \u001b[0m | \u001b[0m308.2    \u001b[0m | \u001b[0m44.16    \u001b[0m | \u001b[0m169.5    \u001b[0m |\n",
      "| \u001b[0m26       \u001b[0m | \u001b[0m-7.982   \u001b[0m | \u001b[0m348.1    \u001b[0m | \u001b[0m137.6    \u001b[0m | \u001b[0m168.9    \u001b[0m |\n",
      "| \u001b[0m27       \u001b[0m | \u001b[0m-15.27   \u001b[0m | \u001b[0m171.1    \u001b[0m | \u001b[0m131.4    \u001b[0m | \u001b[0m133.4    \u001b[0m |\n",
      "| \u001b[0m28       \u001b[0m | \u001b[0m-12.34   \u001b[0m | \u001b[0m310.4    \u001b[0m | \u001b[0m260.7    \u001b[0m | \u001b[0m142.7    \u001b[0m |\n",
      "| \u001b[0m29       \u001b[0m | \u001b[0m-6.791   \u001b[0m | \u001b[0m71.67    \u001b[0m | \u001b[0m332.0    \u001b[0m | \u001b[0m200.7    \u001b[0m |\n",
      "| \u001b[0m30       \u001b[0m | \u001b[0m-10.84   \u001b[0m | \u001b[0m10.0     \u001b[0m | \u001b[0m184.6    \u001b[0m | \u001b[0m201.0    \u001b[0m |\n",
      "=============================================================\n",
      "Final Result:  {'target': -0.4948773583087737, 'params': {'mb_non_white_': 250.23018634190015, 'mb_sex_': 10.0, 'num_components_': 200.99}}\n",
      "|   iter    |  target   | mb_non... |  mb_sex_  | num_co... |\n",
      "-------------------------------------------------------------\n",
      "| \u001b[0m1        \u001b[0m | \u001b[0m-12.13   \u001b[0m | \u001b[0m289.1    \u001b[0m | \u001b[0m308.2    \u001b[0m | \u001b[0m89.92    \u001b[0m |\n",
      "| \u001b[0m2        \u001b[0m | \u001b[0m-1.03e+04\u001b[0m | \u001b[0m161.8    \u001b[0m | \u001b[0m53.83    \u001b[0m | \u001b[0m30.04    \u001b[0m |\n",
      "| \u001b[0m3        \u001b[0m | \u001b[0m-176.8   \u001b[0m | \u001b[0m230.3    \u001b[0m | \u001b[0m338.1    \u001b[0m | \u001b[0m65.53    \u001b[0m |\n",
      "| \u001b[0m4        \u001b[0m | \u001b[0m-28.23   \u001b[0m | \u001b[0m32.75    \u001b[0m | \u001b[0m178.0    \u001b[0m | \u001b[0m86.85    \u001b[0m |\n",
      "| \u001b[0m5        \u001b[0m | \u001b[0m-655.9   \u001b[0m | \u001b[0m84.31    \u001b[0m | \u001b[0m294.6    \u001b[0m | \u001b[0m44.79    \u001b[0m |\n",
      "| \u001b[0m6        \u001b[0m | \u001b[0m-742.0   \u001b[0m | \u001b[0m88.87    \u001b[0m | \u001b[0m295.4    \u001b[0m | \u001b[0m37.86    \u001b[0m |\n",
      "| \u001b[0m7        \u001b[0m | \u001b[0m-13.44   \u001b[0m | \u001b[0m10.0     \u001b[0m | \u001b[0m231.7    \u001b[0m | \u001b[0m175.3    \u001b[0m |\n",
      "| \u001b[95m8        \u001b[0m | \u001b[95m-3.567   \u001b[0m | \u001b[95m287.8    \u001b[0m | \u001b[95m351.0    \u001b[0m | \u001b[95m201.0    \u001b[0m |\n",
      "| \u001b[0m9        \u001b[0m | \u001b[0m-106.1   \u001b[0m | \u001b[0m10.0     \u001b[0m | \u001b[0m228.5    \u001b[0m | \u001b[0m84.89    \u001b[0m |\n",
      "| \u001b[0m10       \u001b[0m | \u001b[0m-52.57   \u001b[0m | \u001b[0m291.2    \u001b[0m | \u001b[0m311.8    \u001b[0m | \u001b[0m85.25    \u001b[0m |\n",
      "| \u001b[95m11       \u001b[0m | \u001b[95m-3.457   \u001b[0m | \u001b[95m153.1    \u001b[0m | \u001b[95m312.7    \u001b[0m | \u001b[95m201.0    \u001b[0m |\n",
      "| \u001b[0m12       \u001b[0m | \u001b[0m-77.83   \u001b[0m | \u001b[0m288.0    \u001b[0m | \u001b[0m310.0    \u001b[0m | \u001b[0m87.05    \u001b[0m |\n",
      "| \u001b[0m13       \u001b[0m | \u001b[0m-13.57   \u001b[0m | \u001b[0m351.0    \u001b[0m | \u001b[0m300.1    \u001b[0m | \u001b[0m138.5    \u001b[0m |\n",
      "| \u001b[0m14       \u001b[0m | \u001b[0m-31.19   \u001b[0m | \u001b[0m166.0    \u001b[0m | \u001b[0m351.0    \u001b[0m | \u001b[0m124.6    \u001b[0m |\n",
      "| \u001b[0m15       \u001b[0m | \u001b[0m-6.126   \u001b[0m | \u001b[0m305.9    \u001b[0m | \u001b[0m351.0    \u001b[0m | \u001b[0m125.0    \u001b[0m |\n",
      "| \u001b[95m16       \u001b[0m | \u001b[95m-1.779   \u001b[0m | \u001b[95m261.3    \u001b[0m | \u001b[95m265.0    \u001b[0m | \u001b[95m201.0    \u001b[0m |\n",
      "| \u001b[0m17       \u001b[0m | \u001b[0m-15.25   \u001b[0m | \u001b[0m10.0     \u001b[0m | \u001b[0m136.9    \u001b[0m | \u001b[0m201.0    \u001b[0m |\n",
      "| \u001b[0m18       \u001b[0m | \u001b[0m-17.85   \u001b[0m | \u001b[0m10.0     \u001b[0m | \u001b[0m175.5    \u001b[0m | \u001b[0m133.7    \u001b[0m |\n",
      "| \u001b[0m19       \u001b[0m | \u001b[0m-18.26   \u001b[0m | \u001b[0m10.0     \u001b[0m | \u001b[0m351.0    \u001b[0m | \u001b[0m201.0    \u001b[0m |\n",
      "| \u001b[0m20       \u001b[0m | \u001b[0m-30.67   \u001b[0m | \u001b[0m318.4    \u001b[0m | \u001b[0m295.2    \u001b[0m | \u001b[0m110.6    \u001b[0m |\n",
      "| \u001b[0m21       \u001b[0m | \u001b[0m-3.357   \u001b[0m | \u001b[0m92.82    \u001b[0m | \u001b[0m226.4    \u001b[0m | \u001b[0m201.0    \u001b[0m |\n",
      "| \u001b[0m22       \u001b[0m | \u001b[0m-1.354e+0\u001b[0m | \u001b[0m351.0    \u001b[0m | \u001b[0m351.0    \u001b[0m | \u001b[0m10.0     \u001b[0m |\n",
      "| \u001b[0m23       \u001b[0m | \u001b[0m-3.912   \u001b[0m | \u001b[0m351.0    \u001b[0m | \u001b[0m266.9    \u001b[0m | \u001b[0m201.0    \u001b[0m |\n",
      "| \u001b[0m24       \u001b[0m | \u001b[0m-9.554   \u001b[0m | \u001b[0m67.35    \u001b[0m | \u001b[0m307.3    \u001b[0m | \u001b[0m163.6    \u001b[0m |\n",
      "| \u001b[0m25       \u001b[0m | \u001b[0m-67.8    \u001b[0m | \u001b[0m11.24    \u001b[0m | \u001b[0m339.1    \u001b[0m | \u001b[0m91.02    \u001b[0m |\n",
      "| \u001b[95m26       \u001b[0m | \u001b[95m-0.2275  \u001b[0m | \u001b[95m347.5    \u001b[0m | \u001b[95m100.5    \u001b[0m | \u001b[95m200.4    \u001b[0m |\n",
      "| \u001b[95m27       \u001b[0m | \u001b[95m-0.01732 \u001b[0m | \u001b[95m335.6    \u001b[0m | \u001b[95m15.69    \u001b[0m | \u001b[95m201.0    \u001b[0m |\n",
      "| \u001b[0m28       \u001b[0m | \u001b[0m-8.158   \u001b[0m | \u001b[0m10.0     \u001b[0m | \u001b[0m10.0     \u001b[0m | \u001b[0m201.0    \u001b[0m |\n",
      "| \u001b[0m29       \u001b[0m | \u001b[0m-3.441   \u001b[0m | \u001b[0m264.7    \u001b[0m | \u001b[0m161.9    \u001b[0m | \u001b[0m201.0    \u001b[0m |\n",
      "| \u001b[0m30       \u001b[0m | \u001b[0m-1.216   \u001b[0m | \u001b[0m185.5    \u001b[0m | \u001b[0m220.0    \u001b[0m | \u001b[0m199.9    \u001b[0m |\n",
      "=============================================================\n",
      "Final Result:  {'target': -0.017322518510036983, 'params': {'mb_non_white_': 335.5569492957758, 'mb_sex_': 15.693241707935861, 'num_components_': 200.96228590805936}}\n"
     ]
    }
   ],
   "source": [
    "optimization_results = [optimize_models(train_data=train_data, number_synthetic_datasets=nsd, number_gmm_initializations=ngi, random_state=r) for r in random_states]"
   ]
  },
  {
   "cell_type": "markdown",
   "id": "dab452a9",
   "metadata": {},
   "source": [
    "***"
   ]
  },
  {
   "cell_type": "code",
   "execution_count": 8,
   "id": "2c71552b",
   "metadata": {},
   "outputs": [],
   "source": [
    "run_targets = [np.minimum.accumulate(-i[1].space.target) for i in optimization_results]"
   ]
  },
  {
   "cell_type": "code",
   "execution_count": 9,
   "id": "bb2e246f",
   "metadata": {},
   "outputs": [
    {
     "data": {
      "image/png": "[encoded data removed]",
      "text/plain": [
       "<Figure size 640x480 with 1 Axes>"
      ]
     },
     "metadata": {},
     "output_type": "display_data"
    }
   ],
   "source": [
    "fig = plt.figure()\n",
    "plt.plot(run_targets[0])\n",
    "plt.scatter(np.arange(len(run_targets[0])), run_targets[0], s=6)\n",
    "plt.plot(run_targets[1])\n",
    "plt.scatter(np.arange(len(run_targets[1])), run_targets[1], s=6)\n",
    "plt.title(\"CPS ASEC Data - Objective Value for CART Synthesis\")\n",
    "plt.xlabel(\"Iteration\")\n",
    "plt.ylabel(\"Minimum Objective Value\")\n",
    "fig.savefig('../Images/min_objective_cart_ipums.pdf')\n",
    "plt.show()"
   ]
  },
  {
   "cell_type": "markdown",
   "id": "325348ce",
   "metadata": {},
   "source": [
    "Choose the params that gave the best objective value across all random seeds."
   ]
  },
  {
   "cell_type": "code",
   "execution_count": 10,
   "id": "69f179aa",
   "metadata": {},
   "outputs": [],
   "source": [
    "best_params = optimization_results[np.argmax([x[0]['target'] for x in optimization_results])][0]"
   ]
  },
  {
   "cell_type": "code",
   "execution_count": 11,
   "id": "112b4969",
   "metadata": {},
   "outputs": [
    {
     "data": {
      "text/plain": [
       "{'target': -0.017322518510036983,\n",
       " 'params': {'mb_non_white_': 335.5569492957758,\n",
       "  'mb_sex_': 15.693241707935861,\n",
       "  'num_components_': 200.96228590805936}}"
      ]
     },
     "execution_count": 11,
     "metadata": {},
     "output_type": "execute_result"
    }
   ],
   "source": [
    "best_params"
   ]
  },
  {
   "cell_type": "markdown",
   "id": "8c940983",
   "metadata": {},
   "source": [
    "***"
   ]
  },
  {
   "cell_type": "markdown",
   "id": "c8e1ea09",
   "metadata": {},
   "source": [
    "Generate 20 synthetic datasets."
   ]
  },
  {
   "cell_type": "code",
   "execution_count": 12,
   "id": "9ed0391f",
   "metadata": {},
   "outputs": [],
   "source": [
    "pmse_ratios, full_sXs, GMM = train_models(train_data=train_data,\n",
    "                                          number_synthetic_datasets=20,\n",
    "                                          # hyperparameters for GMM\n",
    "                                          number_gmm_initializations=ngi,\n",
    "                                          num_components_=int(best_params['params']['num_components_']),\n",
    "                                          # hyperparameters for CART, end with underscore means Bayesian optimization will choose\n",
    "                                          mb_sex_=int(best_params['params']['mb_sex_']),\n",
    "                                          mb_non_white_=int(best_params['params']['mb_non_white_']))"
   ]
  },
  {
   "cell_type": "code",
   "execution_count": 13,
   "id": "295e7588",
   "metadata": {},
   "outputs": [
    {
     "data": {
      "text/plain": [
       "1.7385645457784797"
      ]
     },
     "execution_count": 13,
     "metadata": {},
     "output_type": "execute_result"
    }
   ],
   "source": [
    "np.mean(pmse_ratios)"
   ]
  },
  {
   "cell_type": "code",
   "execution_count": 14,
   "id": "a3d6a0f6",
   "metadata": {},
   "outputs": [
    {
     "data": {
      "image/png": "[encoded data removed]",
      "text/plain": [
       "<Figure size 640x480 with 1 Axes>"
      ]
     },
     "metadata": {},
     "output_type": "display_data"
    }
   ],
   "source": [
    "plt.violinplot(pmse_ratios)\n",
    "plt.xlabel(\"Density\")\n",
    "plt.ylabel(\"pMSE Ratio\")\n",
    "plt.title(\"Distribution of pMSE Ratios\")\n",
    "plt.show()"
   ]
  },
  {
   "cell_type": "markdown",
   "id": "af137729",
   "metadata": {},
   "source": [
    "***"
   ]
  },
  {
   "cell_type": "markdown",
   "id": "c7c4b464",
   "metadata": {},
   "source": [
    "# Save the synthetic datasets."
   ]
  },
  {
   "cell_type": "code",
   "execution_count": 16,
   "id": "5696e166",
   "metadata": {},
   "outputs": [],
   "source": [
    "for i, sX in enumerate(full_sXs):\n",
    "    sX.to_csv(\"../Data/IPUMS/Synthetic Datasets/gmm_and_cart_\" + str(i) + \".csv\", index=False)\n",
    "\n",
    "# save\n",
    "os.makedirs(\"../Results/IPUMS/Models/\", exist_ok=True)\n",
    "with open('../Results/IPUMS/Models/gmm_and_cart.pkl','wb') as f:\n",
    "    pickle.dump(GMM,f)"
   ]
  },
  {
   "cell_type": "markdown",
   "id": "6447fc93-5044-4baf-a442-3532290f85d8",
   "metadata": {},
   "source": [
    "***"
   ]
  },
  {
   "cell_type": "code",
   "execution_count": 18,
   "id": "d5dbdd0f-c181-4088-a092-9dcc7abcc09a",
   "metadata": {},
   "outputs": [],
   "source": [
    "# full_sXs = [pd.read_csv(\"../Data/IPUMS/Synthetic Datasets/gmm_and_cart_\" + str(i) + \".csv\") for i in range(20)]"
   ]
  },
  {
   "cell_type": "code",
   "execution_count": 19,
   "id": "f8e24072-f7c1-4da6-9d4f-b6487ce49a6c",
   "metadata": {},
   "outputs": [],
   "source": [
    "# # load\n",
    "# with open('../Results/IPUMS/Models/gmm_and_cart.pkl', 'rb') as f:\n",
    "#     GMM = pickle.load(f)"
   ]
  },
  {
   "cell_type": "markdown",
   "id": "c40ffaea",
   "metadata": {},
   "source": [
    "***"
   ]
  },
  {
   "cell_type": "markdown",
   "id": "0345ce09-ee78-4257-800f-9cd8aa7d47cf",
   "metadata": {},
   "source": [
    "Now apply the attribute disclosure prevention algorithm."
   ]
  },
  {
   "cell_type": "markdown",
   "id": "70b049a1-bfe5-41b1-865e-c19bed1c59ce",
   "metadata": {},
   "source": [
    "We don't have a great baseline for the probability of being non-white, so we'll just use the proportion from the data."
   ]
  },
  {
   "cell_type": "code",
   "execution_count": 20,
   "id": "a21f0ce4-7015-491a-b2e3-eaee7831a1cc",
   "metadata": {},
   "outputs": [],
   "source": [
    "# prior = np.mean(train_data.non_white == 1)"
   ]
  },
  {
   "cell_type": "markdown",
   "id": "efdd5063-76e7-4338-a12f-a292798e3157",
   "metadata": {},
   "source": [
    "For our threshold, we select $c = 3$, i.e., we are allowing for a 3x increase in the probability of an adversary inferring the non-white status based on the synthetic data."
   ]
  },
  {
   "cell_type": "code",
   "execution_count": 21,
   "id": "51fcbc13-3352-47ac-84b0-46d89dab5867",
   "metadata": {},
   "outputs": [],
   "source": [
    "# prior"
   ]
  },
  {
   "cell_type": "code",
   "execution_count": 22,
   "id": "745893ab-4390-45c1-b590-4d9d33aeaea2",
   "metadata": {},
   "outputs": [],
   "source": [
    "# c = 3"
   ]
  },
  {
   "cell_type": "markdown",
   "id": "81aaa19a-2ab8-4a74-aa20-dcb10068af22",
   "metadata": {},
   "source": [
    "We provide a range of $\\delta$ values over which to evaluate and prevent attribute disclosure."
   ]
  },
  {
   "cell_type": "code",
   "execution_count": 23,
   "id": "7a5ef8d7-0d42-4e92-80a8-1abf1ed616e7",
   "metadata": {},
   "outputs": [],
   "source": [
    "# deltas = np.linspace(0.001, 0.1, 5)"
   ]
  },
  {
   "cell_type": "code",
   "execution_count": 24,
   "id": "84495b6b-960e-4018-9c0e-e539ed98cc73",
   "metadata": {},
   "outputs": [],
   "source": [
    "# ad_sXs = [attribute_disclosure_reduction(original_data=train_data, \n",
    "#                                          synthetic_data=X,\n",
    "#                                          continuous_vars=['incwage', 'years_of_educ', 'potential_experience'],\n",
    "#                                          categorical_vars=['sex'],\n",
    "#                                          sensitive_var='non_white',\n",
    "#                                          mixture_model=GMM,\n",
    "#                                          deltas=deltas, \n",
    "#                                          c=c, \n",
    "#                                          prior_prob=prior) for X in full_sXs]"
   ]
  },
  {
   "cell_type": "markdown",
   "id": "b862aca8-d123-467a-a2cd-5ba9276e7204",
   "metadata": {},
   "source": [
    "***"
   ]
  },
  {
   "cell_type": "code",
   "execution_count": 25,
   "id": "9c3b0fab-fc10-4098-a8f3-901cc70ea817",
   "metadata": {},
   "outputs": [],
   "source": [
    "# num_records = train_data.shape[0]"
   ]
  },
  {
   "cell_type": "code",
   "execution_count": 26,
   "id": "1771d7dc-db51-4268-b6a0-24f561835ffe",
   "metadata": {},
   "outputs": [],
   "source": [
    "# np.mean([Z.shape[0] - num_records for Z in ad_sXs])"
   ]
  },
  {
   "cell_type": "markdown",
   "id": "2360a9c4-57e8-4e8a-8973-0d2be3022ef8",
   "metadata": {},
   "source": [
    "***"
   ]
  },
  {
   "cell_type": "code",
   "execution_count": 27,
   "id": "8f87b905-8160-4afd-b228-bae14f5617bd",
   "metadata": {},
   "outputs": [],
   "source": [
    "# for i, sX in enumerate(ad_sXs):\n",
    "\n",
    "#     # normalize\n",
    "#     sX.loc[:,['incwage', 'years_of_educ', 'potential_experience']] = StandardScaler().fit_transform(sX.loc[:,['incwage', 'years_of_educ', 'potential_experience']])\n",
    "#     full_sXs[i].loc[:,['incwage', 'years_of_educ', 'potential_experience']] = StandardScaler().fit_transform(full_sXs[i].loc[:,['incwage', 'years_of_educ', 'potential_experience']])\n",
    "\n",
    "#     # reverse the normalization using means/sds from bootstrap sampled confidential data\n",
    "#     H = train_data.sample(frac=1.0, replace=True, ignore_index=True).loc[:,['incwage', 'years_of_educ', 'potential_experience']]\n",
    "#     scaler = StandardScaler().fit(H)\n",
    "#     sX.loc[:,['incwage', 'years_of_educ', 'potential_experience']] = scaler.inverse_transform(sX.loc[:,['incwage', 'years_of_educ', 'potential_experience']])\n",
    "#     full_sXs[i].loc[:,['incwage', 'years_of_educ', 'potential_experience']] = scaler.inverse_transform(full_sXs[i].loc[:,['incwage', 'years_of_educ', 'potential_experience']])\n",
    "#     sX.to_csv(\"../Data/IPUMS/Synthetic Datasets/ad_gmm_and_cart_\" + str(i) + \".csv\", index=False)\n",
    "#     full_sXs[i].to_csv(\"../Data/IPUMS/Synthetic Datasets/gmm_and_cart_\" + str(i) + \".csv\", index=False)"
   ]
  },
  {
   "cell_type": "markdown",
   "id": "a8aa093b-7fd9-489b-8b57-00551967e3f9",
   "metadata": {},
   "source": [
    "***"
   ]
  }
 ],
 "metadata": {
  "kernelspec": {
   "display_name": "Python 3 (ipykernel)",
   "language": "python",
   "name": "python3"
  },
  "language_info": {
   "codemirror_mode": {
    "name": "ipython",
    "version": 3
   },
   "file_extension": ".py",
   "mimetype": "text/x-python",
   "name": "python",
   "nbconvert_exporter": "python",
   "pygments_lexer": "ipython3",
   "version": "3.11.7"
  }
 },
 "nbformat": 4,
 "nbformat_minor": 5
}
