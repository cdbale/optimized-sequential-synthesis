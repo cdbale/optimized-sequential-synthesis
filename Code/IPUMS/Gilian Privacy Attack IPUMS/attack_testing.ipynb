{
 "cells": [
  {
   "cell_type": "code",
   "execution_count": null,
   "id": "36067a49",
   "metadata": {},
   "outputs": [
    {
     "name": "stdout",
     "output_type": "stream",
     "text": [
      "iteration is 0\n"
     ]
    },
    {
     "name": "stderr",
     "output_type": "stream",
     "text": [
      "C:\\Users\\cdbale\\AppData\\Roaming\\Python\\Python311\\site-packages\\likelihood_based_privacy_attack\\attacks.py:41: RuntimeWarning: divide by zero encountered in scalar divide\n",
      "  epsilons = np.append(epsilons,max(math.log((1 - (1/N) - FPR)/FNR), math.log((1 - (1/N) - FNR)/FPR))) # append resulting epsilon to epsilons\n",
      "C:\\Users\\cdbale\\AppData\\Roaming\\Python\\Python311\\site-packages\\likelihood_based_privacy_attack\\attacks.py:46: RuntimeWarning: divide by zero encountered in scalar divide\n",
      "  print(\"empirical epsilon = \" + str(max(math.log((1 - (1/N) - FPR)/FNR), math.log((1 - (1/N) - FNR)/FPR))))\n"
     ]
    },
    {
     "name": "stdout",
     "output_type": "stream",
     "text": [
      "FPR is 0.5175517551755175\n",
      "FNR is 0.0\n",
      "TPR is 1.0\n",
      "TNR is 0.48244824482448245\n",
      "empirical epsilon = inf\n",
      "iteration is 1\n"
     ]
    },
    {
     "name": "stderr",
     "output_type": "stream",
     "text": [
      "C:\\Users\\cdbale\\AppData\\Roaming\\Python\\Python311\\site-packages\\likelihood_based_privacy_attack\\attacks.py:41: RuntimeWarning: divide by zero encountered in scalar divide\n",
      "  epsilons = np.append(epsilons,max(math.log((1 - (1/N) - FPR)/FNR), math.log((1 - (1/N) - FNR)/FPR))) # append resulting epsilon to epsilons\n",
      "C:\\Users\\cdbale\\AppData\\Roaming\\Python\\Python311\\site-packages\\likelihood_based_privacy_attack\\attacks.py:46: RuntimeWarning: divide by zero encountered in scalar divide\n",
      "  print(\"empirical epsilon = \" + str(max(math.log((1 - (1/N) - FPR)/FNR), math.log((1 - (1/N) - FNR)/FPR))))\n"
     ]
    },
    {
     "name": "stdout",
     "output_type": "stream",
     "text": [
      "FPR is 0.5175517551755175\n",
      "FNR is 0.0\n",
      "TPR is 1.0\n",
      "TNR is 0.48244824482448245\n",
      "empirical epsilon = inf\n",
      "iteration is 2\n"
     ]
    },
    {
     "name": "stderr",
     "output_type": "stream",
     "text": [
      "C:\\Users\\cdbale\\AppData\\Roaming\\Python\\Python311\\site-packages\\likelihood_based_privacy_attack\\attacks.py:41: RuntimeWarning: divide by zero encountered in scalar divide\n",
      "  epsilons = np.append(epsilons,max(math.log((1 - (1/N) - FPR)/FNR), math.log((1 - (1/N) - FNR)/FPR))) # append resulting epsilon to epsilons\n",
      "C:\\Users\\cdbale\\AppData\\Roaming\\Python\\Python311\\site-packages\\likelihood_based_privacy_attack\\attacks.py:46: RuntimeWarning: divide by zero encountered in scalar divide\n",
      "  print(\"empirical epsilon = \" + str(max(math.log((1 - (1/N) - FPR)/FNR), math.log((1 - (1/N) - FNR)/FPR))))\n"
     ]
    },
    {
     "name": "stdout",
     "output_type": "stream",
     "text": [
      "FPR is 0.5175517551755175\n",
      "FNR is 0.0\n",
      "TPR is 1.0\n",
      "TNR is 0.48244824482448245\n",
      "empirical epsilon = inf\n",
      "iteration is 3\n"
     ]
    },
    {
     "name": "stderr",
     "output_type": "stream",
     "text": [
      "C:\\Users\\cdbale\\AppData\\Roaming\\Python\\Python311\\site-packages\\likelihood_based_privacy_attack\\attacks.py:41: RuntimeWarning: divide by zero encountered in scalar divide\n",
      "  epsilons = np.append(epsilons,max(math.log((1 - (1/N) - FPR)/FNR), math.log((1 - (1/N) - FNR)/FPR))) # append resulting epsilon to epsilons\n",
      "C:\\Users\\cdbale\\AppData\\Roaming\\Python\\Python311\\site-packages\\likelihood_based_privacy_attack\\attacks.py:46: RuntimeWarning: divide by zero encountered in scalar divide\n",
      "  print(\"empirical epsilon = \" + str(max(math.log((1 - (1/N) - FPR)/FNR), math.log((1 - (1/N) - FNR)/FPR))))\n"
     ]
    },
    {
     "name": "stdout",
     "output_type": "stream",
     "text": [
      "FPR is 0.5175517551755175\n",
      "FNR is 0.0\n",
      "TPR is 1.0\n",
      "TNR is 0.48244824482448245\n",
      "empirical epsilon = inf\n",
      "iteration is 4\n"
     ]
    },
    {
     "name": "stderr",
     "output_type": "stream",
     "text": [
      "C:\\Users\\cdbale\\AppData\\Roaming\\Python\\Python311\\site-packages\\likelihood_based_privacy_attack\\attacks.py:41: RuntimeWarning: divide by zero encountered in scalar divide\n",
      "  epsilons = np.append(epsilons,max(math.log((1 - (1/N) - FPR)/FNR), math.log((1 - (1/N) - FNR)/FPR))) # append resulting epsilon to epsilons\n",
      "C:\\Users\\cdbale\\AppData\\Roaming\\Python\\Python311\\site-packages\\likelihood_based_privacy_attack\\attacks.py:46: RuntimeWarning: divide by zero encountered in scalar divide\n",
      "  print(\"empirical epsilon = \" + str(max(math.log((1 - (1/N) - FPR)/FNR), math.log((1 - (1/N) - FNR)/FPR))))\n"
     ]
    },
    {
     "name": "stdout",
     "output_type": "stream",
     "text": [
      "FPR is 0.5175517551755175\n",
      "FNR is 0.0\n",
      "TPR is 1.0\n",
      "TNR is 0.48244824482448245\n",
      "empirical epsilon = inf\n",
      "iteration is 5\n"
     ]
    },
    {
     "name": "stderr",
     "output_type": "stream",
     "text": [
      "C:\\Users\\cdbale\\AppData\\Roaming\\Python\\Python311\\site-packages\\likelihood_based_privacy_attack\\attacks.py:41: RuntimeWarning: divide by zero encountered in scalar divide\n",
      "  epsilons = np.append(epsilons,max(math.log((1 - (1/N) - FPR)/FNR), math.log((1 - (1/N) - FNR)/FPR))) # append resulting epsilon to epsilons\n",
      "C:\\Users\\cdbale\\AppData\\Roaming\\Python\\Python311\\site-packages\\likelihood_based_privacy_attack\\attacks.py:46: RuntimeWarning: divide by zero encountered in scalar divide\n",
      "  print(\"empirical epsilon = \" + str(max(math.log((1 - (1/N) - FPR)/FNR), math.log((1 - (1/N) - FNR)/FPR))))\n"
     ]
    },
    {
     "name": "stdout",
     "output_type": "stream",
     "text": [
      "FPR is 0.5175517551755175\n",
      "FNR is 0.0\n",
      "TPR is 1.0\n",
      "TNR is 0.48244824482448245\n",
      "empirical epsilon = inf\n",
      "iteration is 6\n"
     ]
    },
    {
     "name": "stderr",
     "output_type": "stream",
     "text": [
      "C:\\Users\\cdbale\\AppData\\Roaming\\Python\\Python311\\site-packages\\likelihood_based_privacy_attack\\attacks.py:41: RuntimeWarning: divide by zero encountered in scalar divide\n",
      "  epsilons = np.append(epsilons,max(math.log((1 - (1/N) - FPR)/FNR), math.log((1 - (1/N) - FNR)/FPR))) # append resulting epsilon to epsilons\n",
      "C:\\Users\\cdbale\\AppData\\Roaming\\Python\\Python311\\site-packages\\likelihood_based_privacy_attack\\attacks.py:46: RuntimeWarning: divide by zero encountered in scalar divide\n",
      "  print(\"empirical epsilon = \" + str(max(math.log((1 - (1/N) - FPR)/FNR), math.log((1 - (1/N) - FNR)/FPR))))\n"
     ]
    },
    {
     "name": "stdout",
     "output_type": "stream",
     "text": [
      "FPR is 0.5175517551755175\n",
      "FNR is 0.0\n",
      "TPR is 1.0\n",
      "TNR is 0.48244824482448245\n",
      "empirical epsilon = inf\n",
      "iteration is 7\n"
     ]
    },
    {
     "name": "stderr",
     "output_type": "stream",
     "text": [
      "C:\\Users\\cdbale\\AppData\\Roaming\\Python\\Python311\\site-packages\\likelihood_based_privacy_attack\\attacks.py:41: RuntimeWarning: divide by zero encountered in scalar divide\n",
      "  epsilons = np.append(epsilons,max(math.log((1 - (1/N) - FPR)/FNR), math.log((1 - (1/N) - FNR)/FPR))) # append resulting epsilon to epsilons\n",
      "C:\\Users\\cdbale\\AppData\\Roaming\\Python\\Python311\\site-packages\\likelihood_based_privacy_attack\\attacks.py:46: RuntimeWarning: divide by zero encountered in scalar divide\n",
      "  print(\"empirical epsilon = \" + str(max(math.log((1 - (1/N) - FPR)/FNR), math.log((1 - (1/N) - FNR)/FPR))))\n"
     ]
    },
    {
     "name": "stdout",
     "output_type": "stream",
     "text": [
      "FPR is 0.5175517551755175\n",
      "FNR is 0.0\n",
      "TPR is 1.0\n",
      "TNR is 0.48244824482448245\n",
      "empirical epsilon = inf\n",
      "iteration is 8\n"
     ]
    },
    {
     "name": "stderr",
     "output_type": "stream",
     "text": [
      "C:\\Users\\cdbale\\AppData\\Roaming\\Python\\Python311\\site-packages\\likelihood_based_privacy_attack\\attacks.py:41: RuntimeWarning: divide by zero encountered in scalar divide\n",
      "  epsilons = np.append(epsilons,max(math.log((1 - (1/N) - FPR)/FNR), math.log((1 - (1/N) - FNR)/FPR))) # append resulting epsilon to epsilons\n",
      "C:\\Users\\cdbale\\AppData\\Roaming\\Python\\Python311\\site-packages\\likelihood_based_privacy_attack\\attacks.py:46: RuntimeWarning: divide by zero encountered in scalar divide\n",
      "  print(\"empirical epsilon = \" + str(max(math.log((1 - (1/N) - FPR)/FNR), math.log((1 - (1/N) - FNR)/FPR))))\n"
     ]
    },
    {
     "name": "stdout",
     "output_type": "stream",
     "text": [
      "FPR is 0.5175517551755175\n",
      "FNR is 0.0\n",
      "TPR is 1.0\n",
      "TNR is 0.48244824482448245\n",
      "empirical epsilon = inf\n",
      "iteration is 9\n",
      "FPR is 0.5175517551755175\n",
      "FNR is 0.0\n",
      "TPR is 1.0\n",
      "TNR is 0.48244824482448245\n",
      "empirical epsilon = inf\n"
     ]
    },
    {
     "name": "stderr",
     "output_type": "stream",
     "text": [
      "C:\\Users\\cdbale\\AppData\\Roaming\\Python\\Python311\\site-packages\\likelihood_based_privacy_attack\\attacks.py:41: RuntimeWarning: divide by zero encountered in scalar divide\n",
      "  epsilons = np.append(epsilons,max(math.log((1 - (1/N) - FPR)/FNR), math.log((1 - (1/N) - FNR)/FPR))) # append resulting epsilon to epsilons\n",
      "C:\\Users\\cdbale\\AppData\\Roaming\\Python\\Python311\\site-packages\\likelihood_based_privacy_attack\\attacks.py:46: RuntimeWarning: divide by zero encountered in scalar divide\n",
      "  print(\"empirical epsilon = \" + str(max(math.log((1 - (1/N) - FPR)/FNR), math.log((1 - (1/N) - FNR)/FPR))))\n"
     ]
    },
    {
     "data": {
      "text/plain": [
       "(array([inf, inf, inf, inf, inf, inf, inf, inf, inf, inf]),\n",
       " 0.5175517551755175,\n",
       " 0.48244824482448245,\n",
       " 0.0,\n",
       " 1.0)"
      ]
     },
     "execution_count": 5,
     "metadata": {},
     "output_type": "execute_result"
    }
   ],
   "source": [
    "# first we need to import some dependencies.\n",
    "import pandas as pd\n",
    "from sklearn.model_selection import train_test_split\n",
    "\n",
    "# import privacy attack\n",
    "# !pip install git+https://github.com/GilianPonte/likelihood_based_privacy_attack.git\n",
    "from likelihood_based_privacy_attack import attacks\n",
    "\n",
    "# we read public churn data\n",
    "url = 'https://raw.githubusercontent.com/albayraktaroglu/Datasets/master/churn.csv'\n",
    "churn = pd.read_csv(url, index_col=0)\n",
    "\n",
    "# select some variables\n",
    "churn = churn.iloc[:,6:15]\n",
    "samples = 300 # select the number of observations\n",
    "churn = pd.DataFrame.drop_duplicates(churn) # drop duplicates\n",
    "\n",
    "# here we create the train, adversary and outside_training set.\n",
    "churn, evaluation_outside_training = train_test_split(churn, train_size = int(samples*2/3), test_size = int(samples*1/3)) \n",
    "train, adversary_training = train_test_split(churn, train_size = int(samples*1/3))\n",
    "\n",
    "# define our data protected method. We use swapping 25% of the observations.\n",
    "def swapping(percent, data):\n",
    "  import random\n",
    "  import numpy as np\n",
    "  swap_data = data\n",
    "  idx = random.randint(0,8) # pick a random variable\n",
    "  variable = np.array(data.iloc[:,idx]) # select variable from data\n",
    "  ix_size = int(percent * len(variable) * 0.5) # select proportion to shuffle\n",
    "  ix_1 = np.random.choice(len(variable), size=ix_size, replace=False) # select rows to shuffle\n",
    "  ix_2 = np.random.choice(len(variable), size=ix_size, replace=False) # select rows to shuffle\n",
    "  b1 = variable[ix_1] # take rows from variable and create b\n",
    "  b2 = variable[ix_2] # take rows from variable and create b\n",
    "\n",
    "  variable[ix_2] = b1 # swap 1\n",
    "  variable[ix_1] = b2 # swap 2\n",
    "\n",
    "  swap_data.iloc[:,idx] = variable  # place variable back in original data\n",
    "  return swap_data\n",
    "\n",
    "# apply protection to train and adversary\n",
    "swap25_train = swapping(percent = 0.25, data = train) # apply swapping 25% to train\n",
    "swap25_adversary_training = swapping(percent = 0.25, data = adversary_training)  # apply swapping 25% to adv\n",
    "\n",
    "# apply privacy attack\n",
    "attacks.privacy_attack(seed = 1, simulations = 10, train = train, adversary = adversary_training, outside_training = evaluation_outside_training,\n",
    "protected_training = swap25_train, protected_adversary = swap25_adversary_training)"
   ]
  }
 ],
 "metadata": {
  "kernelspec": {
   "display_name": "base",
   "language": "python",
   "name": "python3"
  },
  "language_info": {
   "codemirror_mode": {
    "name": "ipython",
    "version": 3
   },
   "file_extension": ".py",
   "mimetype": "text/x-python",
   "name": "python",
   "nbconvert_exporter": "python",
   "pygments_lexer": "ipython3",
   "version": "3.11.7"
  }
 },
 "nbformat": 4,
 "nbformat_minor": 5
}
