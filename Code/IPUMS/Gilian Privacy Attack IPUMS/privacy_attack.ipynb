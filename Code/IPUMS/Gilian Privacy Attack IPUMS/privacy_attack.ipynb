{
 "cells": [
  {
   "cell_type": "markdown",
   "id": "169092f2",
   "metadata": {},
   "source": [
    "Perform the privacy attack outlined by [Ponte et al. (2024)](https://github.com/GilianPonte/likelihood_based_privacy_attack)."
   ]
  },
  {
   "cell_type": "code",
   "execution_count": 3,
   "id": "d2a41f1e",
   "metadata": {},
   "outputs": [],
   "source": [
    "# first we need to import some dependencies.\n",
    "import pandas as pd\n",
    "import numpy as np\n",
    "\n",
    "# import privacy attack\n",
    "# !pip install git+https://github.com/GilianPonte/likelihood_based_privacy_attack.git\n",
    "from likelihood_based_privacy_attack import attacks\n",
    "\n",
    "# here we import the external data, train data and adversary training data (unprotected)\n",
    "evaluation_outside_training = pd.read_csv(\"external_data.csv\")\n",
    "train = pd.read_csv(\"train_data.csv\")\n",
    "adversary_training = pd.read_csv(\"adv_data.csv\")"
   ]
  },
  {
   "cell_type": "code",
   "execution_count": null,
   "id": "3ed93feb",
   "metadata": {},
   "outputs": [
    {
     "name": "stdout",
     "output_type": "stream",
     "text": [
      "iteration is 0\n",
      "FPR is 0.49786236381188803\n",
      "FNR is 0.4807994203598599\n",
      "TPR is 0.5192005796401401\n",
      "TNR is 0.502137636188112\n",
      "empirical epsilon = 0.04312342423397185\n",
      "iteration is 1\n"
     ]
    },
    {
     "name": "stderr",
     "output_type": "stream",
     "text": [
      "c:\\ProgramData\\anaconda3\\Lib\\site-packages\\joblib\\externals\\loky\\process_executor.py:700: UserWarning: A worker stopped while some jobs were given to the executor. This can be caused by a too short worker timeout or by a memory leak.\n",
      "  warnings.warn(\n"
     ]
    },
    {
     "name": "stdout",
     "output_type": "stream",
     "text": [
      "FPR is 0.49786236381188803\n",
      "FNR is 0.4807994203598599\n",
      "TPR is 0.5192005796401401\n",
      "TNR is 0.502137636188112\n",
      "empirical epsilon = 0.04312342423397185\n",
      "iteration is 2\n"
     ]
    },
    {
     "name": "stderr",
     "output_type": "stream",
     "text": [
      "c:\\ProgramData\\anaconda3\\Lib\\site-packages\\joblib\\externals\\loky\\process_executor.py:700: UserWarning: A worker stopped while some jobs were given to the executor. This can be caused by a too short worker timeout or by a memory leak.\n",
      "  warnings.warn(\n"
     ]
    },
    {
     "name": "stdout",
     "output_type": "stream",
     "text": [
      "FPR is 0.49786236381188803\n",
      "FNR is 0.4807994203598599\n",
      "TPR is 0.5192005796401401\n",
      "TNR is 0.502137636188112\n",
      "empirical epsilon = 0.04312342423397185\n",
      "iteration is 3\n"
     ]
    },
    {
     "name": "stderr",
     "output_type": "stream",
     "text": [
      "c:\\ProgramData\\anaconda3\\Lib\\site-packages\\joblib\\externals\\loky\\process_executor.py:700: UserWarning: A worker stopped while some jobs were given to the executor. This can be caused by a too short worker timeout or by a memory leak.\n",
      "  warnings.warn(\n"
     ]
    },
    {
     "name": "stdout",
     "output_type": "stream",
     "text": [
      "FPR is 0.49786236381188803\n",
      "FNR is 0.4807994203598599\n",
      "TPR is 0.5192005796401401\n",
      "TNR is 0.502137636188112\n",
      "empirical epsilon = 0.04312342423397185\n",
      "iteration is 4\n"
     ]
    },
    {
     "name": "stderr",
     "output_type": "stream",
     "text": [
      "c:\\ProgramData\\anaconda3\\Lib\\site-packages\\joblib\\externals\\loky\\process_executor.py:700: UserWarning: A worker stopped while some jobs were given to the executor. This can be caused by a too short worker timeout or by a memory leak.\n",
      "  warnings.warn(\n"
     ]
    },
    {
     "name": "stdout",
     "output_type": "stream",
     "text": [
      "FPR is 0.49786236381188803\n",
      "FNR is 0.4807994203598599\n",
      "TPR is 0.5192005796401401\n",
      "TNR is 0.502137636188112\n",
      "empirical epsilon = 0.04312342423397185\n",
      "iteration is 5\n"
     ]
    },
    {
     "name": "stderr",
     "output_type": "stream",
     "text": [
      "c:\\ProgramData\\anaconda3\\Lib\\site-packages\\joblib\\externals\\loky\\process_executor.py:700: UserWarning: A worker stopped while some jobs were given to the executor. This can be caused by a too short worker timeout or by a memory leak.\n",
      "  warnings.warn(\n"
     ]
    },
    {
     "name": "stdout",
     "output_type": "stream",
     "text": [
      "FPR is 0.49786236381188803\n",
      "FNR is 0.4807994203598599\n",
      "TPR is 0.5192005796401401\n",
      "TNR is 0.502137636188112\n",
      "empirical epsilon = 0.04312342423397185\n",
      "iteration is 6\n"
     ]
    },
    {
     "name": "stderr",
     "output_type": "stream",
     "text": [
      "c:\\ProgramData\\anaconda3\\Lib\\site-packages\\joblib\\externals\\loky\\process_executor.py:700: UserWarning: A worker stopped while some jobs were given to the executor. This can be caused by a too short worker timeout or by a memory leak.\n",
      "  warnings.warn(\n"
     ]
    },
    {
     "name": "stdout",
     "output_type": "stream",
     "text": [
      "FPR is 0.49786236381188803\n",
      "FNR is 0.4807994203598599\n",
      "TPR is 0.5192005796401401\n",
      "TNR is 0.502137636188112\n",
      "empirical epsilon = 0.04312342423397185\n",
      "iteration is 7\n"
     ]
    },
    {
     "name": "stderr",
     "output_type": "stream",
     "text": [
      "c:\\ProgramData\\anaconda3\\Lib\\site-packages\\joblib\\externals\\loky\\process_executor.py:700: UserWarning: A worker stopped while some jobs were given to the executor. This can be caused by a too short worker timeout or by a memory leak.\n",
      "  warnings.warn(\n"
     ]
    },
    {
     "name": "stdout",
     "output_type": "stream",
     "text": [
      "FPR is 0.49786236381188803\n",
      "FNR is 0.4807994203598599\n",
      "TPR is 0.5192005796401401\n",
      "TNR is 0.502137636188112\n",
      "empirical epsilon = 0.04312342423397185\n",
      "iteration is 8\n"
     ]
    },
    {
     "name": "stderr",
     "output_type": "stream",
     "text": [
      "c:\\ProgramData\\anaconda3\\Lib\\site-packages\\joblib\\externals\\loky\\process_executor.py:700: UserWarning: A worker stopped while some jobs were given to the executor. This can be caused by a too short worker timeout or by a memory leak.\n",
      "  warnings.warn(\n"
     ]
    },
    {
     "name": "stdout",
     "output_type": "stream",
     "text": [
      "FPR is 0.49786236381188803\n",
      "FNR is 0.4807994203598599\n",
      "TPR is 0.5192005796401401\n",
      "TNR is 0.502137636188112\n",
      "empirical epsilon = 0.04312342423397185\n",
      "iteration is 9\n"
     ]
    },
    {
     "name": "stderr",
     "output_type": "stream",
     "text": [
      "c:\\ProgramData\\anaconda3\\Lib\\site-packages\\joblib\\externals\\loky\\process_executor.py:700: UserWarning: A worker stopped while some jobs were given to the executor. This can be caused by a too short worker timeout or by a memory leak.\n",
      "  warnings.warn(\n"
     ]
    },
    {
     "name": "stdout",
     "output_type": "stream",
     "text": [
      "FPR is 0.49786236381188803\n",
      "FNR is 0.4807994203598599\n",
      "TPR is 0.5192005796401401\n",
      "TNR is 0.502137636188112\n",
      "empirical epsilon = 0.04312342423397185\n"
     ]
    },
    {
     "data": {
      "text/plain": [
       "(array([0.04312342, 0.04312342, 0.04312342, 0.04312342, 0.04312342,\n",
       "        0.04312342, 0.04312342, 0.04312342, 0.04312342, 0.04312342]),\n",
       " 0.49786236381188803,\n",
       " 0.502137636188112,\n",
       " 0.4807994203598599,\n",
       " 0.5192005796401401)"
      ]
     },
     "execution_count": 1,
     "metadata": {},
     "output_type": "execute_result"
    }
   ],
   "source": [
    "# here we import the protected train data and adversary training data\n",
    "synth_train = pd.read_csv(\"synthetic_train/sd_0.csv\")\n",
    "synth_adversary_training = pd.read_csv(\"synthetic_adv/sd_0.csv\")\n",
    "\n",
    "# apply privacy attack\n",
    "attacks.privacy_attack(seed = 1, \n",
    "                       simulations = 10, \n",
    "                       train = train, \n",
    "                       adversary = adversary_training, \n",
    "                       outside_training = evaluation_outside_training,\n",
    "                       protected_training = synth_train, \n",
    "                       protected_adversary = synth_adversary_training)"
   ]
  },
  {
   "cell_type": "code",
   "execution_count": 2,
   "id": "ad7035c3",
   "metadata": {},
   "outputs": [
    {
     "name": "stdout",
     "output_type": "stream",
     "text": [
      "iteration is 0\n"
     ]
    },
    {
     "name": "stderr",
     "output_type": "stream",
     "text": [
      "c:\\ProgramData\\anaconda3\\Lib\\site-packages\\joblib\\externals\\loky\\process_executor.py:700: UserWarning: A worker stopped while some jobs were given to the executor. This can be caused by a too short worker timeout or by a memory leak.\n",
      "  warnings.warn(\n"
     ]
    },
    {
     "name": "stdout",
     "output_type": "stream",
     "text": [
      "FPR is 0.49786236381188803\n",
      "FNR is 0.4807994203598599\n",
      "TPR is 0.5192005796401401\n",
      "TNR is 0.502137636188112\n",
      "empirical epsilon = 0.04312342423397185\n",
      "iteration is 1\n"
     ]
    },
    {
     "name": "stderr",
     "output_type": "stream",
     "text": [
      "c:\\ProgramData\\anaconda3\\Lib\\site-packages\\joblib\\externals\\loky\\process_executor.py:700: UserWarning: A worker stopped while some jobs were given to the executor. This can be caused by a too short worker timeout or by a memory leak.\n",
      "  warnings.warn(\n"
     ]
    },
    {
     "name": "stdout",
     "output_type": "stream",
     "text": [
      "FPR is 0.49786236381188803\n",
      "FNR is 0.4807994203598599\n",
      "TPR is 0.5192005796401401\n",
      "TNR is 0.502137636188112\n",
      "empirical epsilon = 0.04312342423397185\n",
      "iteration is 2\n"
     ]
    },
    {
     "name": "stderr",
     "output_type": "stream",
     "text": [
      "c:\\ProgramData\\anaconda3\\Lib\\site-packages\\joblib\\externals\\loky\\process_executor.py:700: UserWarning: A worker stopped while some jobs were given to the executor. This can be caused by a too short worker timeout or by a memory leak.\n",
      "  warnings.warn(\n"
     ]
    },
    {
     "name": "stdout",
     "output_type": "stream",
     "text": [
      "FPR is 0.49786236381188803\n",
      "FNR is 0.4807994203598599\n",
      "TPR is 0.5192005796401401\n",
      "TNR is 0.502137636188112\n",
      "empirical epsilon = 0.04312342423397185\n",
      "iteration is 3\n"
     ]
    },
    {
     "name": "stderr",
     "output_type": "stream",
     "text": [
      "c:\\ProgramData\\anaconda3\\Lib\\site-packages\\joblib\\externals\\loky\\process_executor.py:700: UserWarning: A worker stopped while some jobs were given to the executor. This can be caused by a too short worker timeout or by a memory leak.\n",
      "  warnings.warn(\n"
     ]
    },
    {
     "name": "stdout",
     "output_type": "stream",
     "text": [
      "FPR is 0.49786236381188803\n",
      "FNR is 0.4807994203598599\n",
      "TPR is 0.5192005796401401\n",
      "TNR is 0.502137636188112\n",
      "empirical epsilon = 0.04312342423397185\n",
      "iteration is 4\n"
     ]
    },
    {
     "name": "stderr",
     "output_type": "stream",
     "text": [
      "c:\\ProgramData\\anaconda3\\Lib\\site-packages\\joblib\\externals\\loky\\process_executor.py:700: UserWarning: A worker stopped while some jobs were given to the executor. This can be caused by a too short worker timeout or by a memory leak.\n",
      "  warnings.warn(\n"
     ]
    },
    {
     "name": "stdout",
     "output_type": "stream",
     "text": [
      "FPR is 0.49786236381188803\n",
      "FNR is 0.4807994203598599\n",
      "TPR is 0.5192005796401401\n",
      "TNR is 0.502137636188112\n",
      "empirical epsilon = 0.04312342423397185\n",
      "iteration is 5\n"
     ]
    },
    {
     "name": "stderr",
     "output_type": "stream",
     "text": [
      "c:\\ProgramData\\anaconda3\\Lib\\site-packages\\joblib\\externals\\loky\\process_executor.py:700: UserWarning: A worker stopped while some jobs were given to the executor. This can be caused by a too short worker timeout or by a memory leak.\n",
      "  warnings.warn(\n"
     ]
    },
    {
     "name": "stdout",
     "output_type": "stream",
     "text": [
      "FPR is 0.49786236381188803\n",
      "FNR is 0.4807994203598599\n",
      "TPR is 0.5192005796401401\n",
      "TNR is 0.502137636188112\n",
      "empirical epsilon = 0.04312342423397185\n",
      "iteration is 6\n"
     ]
    },
    {
     "name": "stderr",
     "output_type": "stream",
     "text": [
      "c:\\ProgramData\\anaconda3\\Lib\\site-packages\\joblib\\externals\\loky\\process_executor.py:700: UserWarning: A worker stopped while some jobs were given to the executor. This can be caused by a too short worker timeout or by a memory leak.\n",
      "  warnings.warn(\n"
     ]
    },
    {
     "name": "stdout",
     "output_type": "stream",
     "text": [
      "FPR is 0.49786236381188803\n",
      "FNR is 0.4807994203598599\n",
      "TPR is 0.5192005796401401\n",
      "TNR is 0.502137636188112\n",
      "empirical epsilon = 0.04312342423397185\n",
      "iteration is 7\n"
     ]
    },
    {
     "name": "stderr",
     "output_type": "stream",
     "text": [
      "c:\\ProgramData\\anaconda3\\Lib\\site-packages\\joblib\\externals\\loky\\process_executor.py:700: UserWarning: A worker stopped while some jobs were given to the executor. This can be caused by a too short worker timeout or by a memory leak.\n",
      "  warnings.warn(\n"
     ]
    },
    {
     "name": "stdout",
     "output_type": "stream",
     "text": [
      "FPR is 0.49786236381188803\n",
      "FNR is 0.4807994203598599\n",
      "TPR is 0.5192005796401401\n",
      "TNR is 0.502137636188112\n",
      "empirical epsilon = 0.04312342423397185\n",
      "iteration is 8\n"
     ]
    },
    {
     "name": "stderr",
     "output_type": "stream",
     "text": [
      "c:\\ProgramData\\anaconda3\\Lib\\site-packages\\joblib\\externals\\loky\\process_executor.py:700: UserWarning: A worker stopped while some jobs were given to the executor. This can be caused by a too short worker timeout or by a memory leak.\n",
      "  warnings.warn(\n"
     ]
    },
    {
     "name": "stdout",
     "output_type": "stream",
     "text": [
      "FPR is 0.49786236381188803\n",
      "FNR is 0.4807994203598599\n",
      "TPR is 0.5192005796401401\n",
      "TNR is 0.502137636188112\n",
      "empirical epsilon = 0.04312342423397185\n",
      "iteration is 9\n"
     ]
    },
    {
     "name": "stderr",
     "output_type": "stream",
     "text": [
      "c:\\ProgramData\\anaconda3\\Lib\\site-packages\\joblib\\externals\\loky\\process_executor.py:700: UserWarning: A worker stopped while some jobs were given to the executor. This can be caused by a too short worker timeout or by a memory leak.\n",
      "  warnings.warn(\n"
     ]
    },
    {
     "name": "stdout",
     "output_type": "stream",
     "text": [
      "FPR is 0.49786236381188803\n",
      "FNR is 0.4807994203598599\n",
      "TPR is 0.5192005796401401\n",
      "TNR is 0.502137636188112\n",
      "empirical epsilon = 0.04312342423397185\n",
      "iteration is 0\n"
     ]
    },
    {
     "name": "stderr",
     "output_type": "stream",
     "text": [
      "c:\\ProgramData\\anaconda3\\Lib\\site-packages\\joblib\\externals\\loky\\process_executor.py:700: UserWarning: A worker stopped while some jobs were given to the executor. This can be caused by a too short worker timeout or by a memory leak.\n",
      "  warnings.warn(\n"
     ]
    },
    {
     "name": "stdout",
     "output_type": "stream",
     "text": [
      "FPR is 0.5092171194777732\n",
      "FNR is 0.4766634464436662\n",
      "TPR is 0.5233365535563338\n",
      "TNR is 0.49078288052222685\n",
      "empirical epsilon = 0.028883539663517296\n",
      "iteration is 1\n"
     ]
    },
    {
     "name": "stderr",
     "output_type": "stream",
     "text": [
      "c:\\ProgramData\\anaconda3\\Lib\\site-packages\\joblib\\externals\\loky\\process_executor.py:700: UserWarning: A worker stopped while some jobs were given to the executor. This can be caused by a too short worker timeout or by a memory leak.\n",
      "  warnings.warn(\n"
     ]
    },
    {
     "name": "stdout",
     "output_type": "stream",
     "text": [
      "FPR is 0.5092171194777732\n",
      "FNR is 0.4766634464436662\n",
      "TPR is 0.5233365535563338\n",
      "TNR is 0.49078288052222685\n",
      "empirical epsilon = 0.028883539663517296\n",
      "iteration is 2\n"
     ]
    },
    {
     "name": "stderr",
     "output_type": "stream",
     "text": [
      "c:\\ProgramData\\anaconda3\\Lib\\site-packages\\joblib\\externals\\loky\\process_executor.py:700: UserWarning: A worker stopped while some jobs were given to the executor. This can be caused by a too short worker timeout or by a memory leak.\n",
      "  warnings.warn(\n"
     ]
    },
    {
     "name": "stdout",
     "output_type": "stream",
     "text": [
      "FPR is 0.5092171194777732\n",
      "FNR is 0.4766634464436662\n",
      "TPR is 0.5233365535563338\n",
      "TNR is 0.49078288052222685\n",
      "empirical epsilon = 0.028883539663517296\n",
      "iteration is 3\n"
     ]
    },
    {
     "name": "stderr",
     "output_type": "stream",
     "text": [
      "c:\\ProgramData\\anaconda3\\Lib\\site-packages\\joblib\\externals\\loky\\process_executor.py:700: UserWarning: A worker stopped while some jobs were given to the executor. This can be caused by a too short worker timeout or by a memory leak.\n",
      "  warnings.warn(\n"
     ]
    },
    {
     "name": "stdout",
     "output_type": "stream",
     "text": [
      "FPR is 0.5092171194777732\n",
      "FNR is 0.4766634464436662\n",
      "TPR is 0.5233365535563338\n",
      "TNR is 0.49078288052222685\n",
      "empirical epsilon = 0.028883539663517296\n",
      "iteration is 4\n"
     ]
    },
    {
     "name": "stderr",
     "output_type": "stream",
     "text": [
      "c:\\ProgramData\\anaconda3\\Lib\\site-packages\\joblib\\externals\\loky\\process_executor.py:700: UserWarning: A worker stopped while some jobs were given to the executor. This can be caused by a too short worker timeout or by a memory leak.\n",
      "  warnings.warn(\n"
     ]
    },
    {
     "name": "stdout",
     "output_type": "stream",
     "text": [
      "FPR is 0.5092171194777732\n",
      "FNR is 0.4766634464436662\n",
      "TPR is 0.5233365535563338\n",
      "TNR is 0.49078288052222685\n",
      "empirical epsilon = 0.028883539663517296\n",
      "iteration is 5\n"
     ]
    },
    {
     "name": "stderr",
     "output_type": "stream",
     "text": [
      "c:\\ProgramData\\anaconda3\\Lib\\site-packages\\joblib\\externals\\loky\\process_executor.py:700: UserWarning: A worker stopped while some jobs were given to the executor. This can be caused by a too short worker timeout or by a memory leak.\n",
      "  warnings.warn(\n"
     ]
    },
    {
     "name": "stdout",
     "output_type": "stream",
     "text": [
      "FPR is 0.5092171194777732\n",
      "FNR is 0.4766634464436662\n",
      "TPR is 0.5233365535563338\n",
      "TNR is 0.49078288052222685\n",
      "empirical epsilon = 0.028883539663517296\n",
      "iteration is 6\n"
     ]
    },
    {
     "name": "stderr",
     "output_type": "stream",
     "text": [
      "c:\\ProgramData\\anaconda3\\Lib\\site-packages\\joblib\\externals\\loky\\process_executor.py:700: UserWarning: A worker stopped while some jobs were given to the executor. This can be caused by a too short worker timeout or by a memory leak.\n",
      "  warnings.warn(\n"
     ]
    },
    {
     "name": "stdout",
     "output_type": "stream",
     "text": [
      "FPR is 0.5092171194777732\n",
      "FNR is 0.4766634464436662\n",
      "TPR is 0.5233365535563338\n",
      "TNR is 0.49078288052222685\n",
      "empirical epsilon = 0.028883539663517296\n",
      "iteration is 7\n"
     ]
    },
    {
     "name": "stderr",
     "output_type": "stream",
     "text": [
      "c:\\ProgramData\\anaconda3\\Lib\\site-packages\\joblib\\externals\\loky\\process_executor.py:700: UserWarning: A worker stopped while some jobs were given to the executor. This can be caused by a too short worker timeout or by a memory leak.\n",
      "  warnings.warn(\n"
     ]
    },
    {
     "name": "stdout",
     "output_type": "stream",
     "text": [
      "FPR is 0.5092171194777732\n",
      "FNR is 0.4766634464436662\n",
      "TPR is 0.5233365535563338\n",
      "TNR is 0.49078288052222685\n",
      "empirical epsilon = 0.028883539663517296\n",
      "iteration is 8\n"
     ]
    },
    {
     "name": "stderr",
     "output_type": "stream",
     "text": [
      "c:\\ProgramData\\anaconda3\\Lib\\site-packages\\joblib\\externals\\loky\\process_executor.py:700: UserWarning: A worker stopped while some jobs were given to the executor. This can be caused by a too short worker timeout or by a memory leak.\n",
      "  warnings.warn(\n"
     ]
    },
    {
     "name": "stdout",
     "output_type": "stream",
     "text": [
      "FPR is 0.5092171194777732\n",
      "FNR is 0.4766634464436662\n",
      "TPR is 0.5233365535563338\n",
      "TNR is 0.49078288052222685\n",
      "empirical epsilon = 0.028883539663517296\n",
      "iteration is 9\n"
     ]
    },
    {
     "name": "stderr",
     "output_type": "stream",
     "text": [
      "c:\\ProgramData\\anaconda3\\Lib\\site-packages\\joblib\\externals\\loky\\process_executor.py:700: UserWarning: A worker stopped while some jobs were given to the executor. This can be caused by a too short worker timeout or by a memory leak.\n",
      "  warnings.warn(\n"
     ]
    },
    {
     "name": "stdout",
     "output_type": "stream",
     "text": [
      "FPR is 0.5092171194777732\n",
      "FNR is 0.4766634464436662\n",
      "TPR is 0.5233365535563338\n",
      "TNR is 0.49078288052222685\n",
      "empirical epsilon = 0.028883539663517296\n",
      "iteration is 0\n"
     ]
    },
    {
     "name": "stderr",
     "output_type": "stream",
     "text": [
      "c:\\ProgramData\\anaconda3\\Lib\\site-packages\\joblib\\externals\\loky\\process_executor.py:700: UserWarning: A worker stopped while some jobs were given to the executor. This can be caused by a too short worker timeout or by a memory leak.\n",
      "  warnings.warn(\n"
     ]
    },
    {
     "name": "stdout",
     "output_type": "stream",
     "text": [
      "FPR is 0.498383364746625\n",
      "FNR is 0.48439198164472885\n",
      "TPR is 0.5156080183552711\n",
      "TNR is 0.5016166352533751\n",
      "empirical epsilon = 0.034640726549598135\n",
      "iteration is 1\n"
     ]
    },
    {
     "name": "stderr",
     "output_type": "stream",
     "text": [
      "c:\\ProgramData\\anaconda3\\Lib\\site-packages\\joblib\\externals\\loky\\process_executor.py:700: UserWarning: A worker stopped while some jobs were given to the executor. This can be caused by a too short worker timeout or by a memory leak.\n",
      "  warnings.warn(\n"
     ]
    },
    {
     "name": "stdout",
     "output_type": "stream",
     "text": [
      "FPR is 0.498383364746625\n",
      "FNR is 0.48439198164472885\n",
      "TPR is 0.5156080183552711\n",
      "TNR is 0.5016166352533751\n",
      "empirical epsilon = 0.034640726549598135\n",
      "iteration is 2\n"
     ]
    },
    {
     "name": "stderr",
     "output_type": "stream",
     "text": [
      "c:\\ProgramData\\anaconda3\\Lib\\site-packages\\joblib\\externals\\loky\\process_executor.py:700: UserWarning: A worker stopped while some jobs were given to the executor. This can be caused by a too short worker timeout or by a memory leak.\n",
      "  warnings.warn(\n"
     ]
    },
    {
     "name": "stdout",
     "output_type": "stream",
     "text": [
      "FPR is 0.498383364746625\n",
      "FNR is 0.48439198164472885\n",
      "TPR is 0.5156080183552711\n",
      "TNR is 0.5016166352533751\n",
      "empirical epsilon = 0.034640726549598135\n",
      "iteration is 3\n"
     ]
    },
    {
     "name": "stderr",
     "output_type": "stream",
     "text": [
      "c:\\ProgramData\\anaconda3\\Lib\\site-packages\\joblib\\externals\\loky\\process_executor.py:700: UserWarning: A worker stopped while some jobs were given to the executor. This can be caused by a too short worker timeout or by a memory leak.\n",
      "  warnings.warn(\n"
     ]
    },
    {
     "name": "stdout",
     "output_type": "stream",
     "text": [
      "FPR is 0.498383364746625\n",
      "FNR is 0.48439198164472885\n",
      "TPR is 0.5156080183552711\n",
      "TNR is 0.5016166352533751\n",
      "empirical epsilon = 0.034640726549598135\n",
      "iteration is 4\n"
     ]
    },
    {
     "name": "stderr",
     "output_type": "stream",
     "text": [
      "c:\\ProgramData\\anaconda3\\Lib\\site-packages\\joblib\\externals\\loky\\process_executor.py:700: UserWarning: A worker stopped while some jobs were given to the executor. This can be caused by a too short worker timeout or by a memory leak.\n",
      "  warnings.warn(\n"
     ]
    },
    {
     "name": "stdout",
     "output_type": "stream",
     "text": [
      "FPR is 0.498383364746625\n",
      "FNR is 0.48439198164472885\n",
      "TPR is 0.5156080183552711\n",
      "TNR is 0.5016166352533751\n",
      "empirical epsilon = 0.034640726549598135\n",
      "iteration is 5\n"
     ]
    },
    {
     "name": "stderr",
     "output_type": "stream",
     "text": [
      "c:\\ProgramData\\anaconda3\\Lib\\site-packages\\joblib\\externals\\loky\\process_executor.py:700: UserWarning: A worker stopped while some jobs were given to the executor. This can be caused by a too short worker timeout or by a memory leak.\n",
      "  warnings.warn(\n"
     ]
    },
    {
     "name": "stdout",
     "output_type": "stream",
     "text": [
      "FPR is 0.498383364746625\n",
      "FNR is 0.48439198164472885\n",
      "TPR is 0.5156080183552711\n",
      "TNR is 0.5016166352533751\n",
      "empirical epsilon = 0.034640726549598135\n",
      "iteration is 6\n"
     ]
    },
    {
     "name": "stderr",
     "output_type": "stream",
     "text": [
      "c:\\ProgramData\\anaconda3\\Lib\\site-packages\\joblib\\externals\\loky\\process_executor.py:700: UserWarning: A worker stopped while some jobs were given to the executor. This can be caused by a too short worker timeout or by a memory leak.\n",
      "  warnings.warn(\n"
     ]
    },
    {
     "name": "stdout",
     "output_type": "stream",
     "text": [
      "FPR is 0.498383364746625\n",
      "FNR is 0.48439198164472885\n",
      "TPR is 0.5156080183552711\n",
      "TNR is 0.5016166352533751\n",
      "empirical epsilon = 0.034640726549598135\n",
      "iteration is 7\n"
     ]
    },
    {
     "name": "stderr",
     "output_type": "stream",
     "text": [
      "c:\\ProgramData\\anaconda3\\Lib\\site-packages\\joblib\\externals\\loky\\process_executor.py:700: UserWarning: A worker stopped while some jobs were given to the executor. This can be caused by a too short worker timeout or by a memory leak.\n",
      "  warnings.warn(\n"
     ]
    },
    {
     "name": "stdout",
     "output_type": "stream",
     "text": [
      "FPR is 0.498383364746625\n",
      "FNR is 0.48439198164472885\n",
      "TPR is 0.5156080183552711\n",
      "TNR is 0.5016166352533751\n",
      "empirical epsilon = 0.034640726549598135\n",
      "iteration is 8\n"
     ]
    },
    {
     "name": "stderr",
     "output_type": "stream",
     "text": [
      "c:\\ProgramData\\anaconda3\\Lib\\site-packages\\joblib\\externals\\loky\\process_executor.py:700: UserWarning: A worker stopped while some jobs were given to the executor. This can be caused by a too short worker timeout or by a memory leak.\n",
      "  warnings.warn(\n"
     ]
    },
    {
     "name": "stdout",
     "output_type": "stream",
     "text": [
      "FPR is 0.498383364746625\n",
      "FNR is 0.48439198164472885\n",
      "TPR is 0.5156080183552711\n",
      "TNR is 0.5016166352533751\n",
      "empirical epsilon = 0.034640726549598135\n",
      "iteration is 9\n"
     ]
    },
    {
     "name": "stderr",
     "output_type": "stream",
     "text": [
      "c:\\ProgramData\\anaconda3\\Lib\\site-packages\\joblib\\externals\\loky\\process_executor.py:700: UserWarning: A worker stopped while some jobs were given to the executor. This can be caused by a too short worker timeout or by a memory leak.\n",
      "  warnings.warn(\n"
     ]
    },
    {
     "name": "stdout",
     "output_type": "stream",
     "text": [
      "FPR is 0.498383364746625\n",
      "FNR is 0.48439198164472885\n",
      "TPR is 0.5156080183552711\n",
      "TNR is 0.5016166352533751\n",
      "empirical epsilon = 0.034640726549598135\n",
      "iteration is 0\n"
     ]
    },
    {
     "name": "stderr",
     "output_type": "stream",
     "text": [
      "c:\\ProgramData\\anaconda3\\Lib\\site-packages\\joblib\\externals\\loky\\process_executor.py:700: UserWarning: A worker stopped while some jobs were given to the executor. This can be caused by a too short worker timeout or by a memory leak.\n",
      "  warnings.warn(\n"
     ]
    },
    {
     "name": "stdout",
     "output_type": "stream",
     "text": [
      "FPR is 0.5111172405338728\n",
      "FNR is 0.474821881415288\n",
      "TPR is 0.525178118584712\n",
      "TNR is 0.48888275946612725\n",
      "empirical epsilon = 0.02887414909592215\n",
      "iteration is 1\n"
     ]
    },
    {
     "name": "stderr",
     "output_type": "stream",
     "text": [
      "c:\\ProgramData\\anaconda3\\Lib\\site-packages\\joblib\\externals\\loky\\process_executor.py:700: UserWarning: A worker stopped while some jobs were given to the executor. This can be caused by a too short worker timeout or by a memory leak.\n",
      "  warnings.warn(\n"
     ]
    },
    {
     "name": "stdout",
     "output_type": "stream",
     "text": [
      "FPR is 0.5111172405338728\n",
      "FNR is 0.474821881415288\n",
      "TPR is 0.525178118584712\n",
      "TNR is 0.48888275946612725\n",
      "empirical epsilon = 0.02887414909592215\n",
      "iteration is 2\n"
     ]
    },
    {
     "name": "stderr",
     "output_type": "stream",
     "text": [
      "c:\\ProgramData\\anaconda3\\Lib\\site-packages\\joblib\\externals\\loky\\process_executor.py:700: UserWarning: A worker stopped while some jobs were given to the executor. This can be caused by a too short worker timeout or by a memory leak.\n",
      "  warnings.warn(\n"
     ]
    },
    {
     "name": "stdout",
     "output_type": "stream",
     "text": [
      "FPR is 0.5111172405338728\n",
      "FNR is 0.474821881415288\n",
      "TPR is 0.525178118584712\n",
      "TNR is 0.48888275946612725\n",
      "empirical epsilon = 0.02887414909592215\n",
      "iteration is 3\n"
     ]
    },
    {
     "name": "stderr",
     "output_type": "stream",
     "text": [
      "c:\\ProgramData\\anaconda3\\Lib\\site-packages\\joblib\\externals\\loky\\process_executor.py:700: UserWarning: A worker stopped while some jobs were given to the executor. This can be caused by a too short worker timeout or by a memory leak.\n",
      "  warnings.warn(\n"
     ]
    },
    {
     "name": "stdout",
     "output_type": "stream",
     "text": [
      "FPR is 0.5111172405338728\n",
      "FNR is 0.474821881415288\n",
      "TPR is 0.525178118584712\n",
      "TNR is 0.48888275946612725\n",
      "empirical epsilon = 0.02887414909592215\n",
      "iteration is 4\n"
     ]
    },
    {
     "name": "stderr",
     "output_type": "stream",
     "text": [
      "c:\\ProgramData\\anaconda3\\Lib\\site-packages\\joblib\\externals\\loky\\process_executor.py:700: UserWarning: A worker stopped while some jobs were given to the executor. This can be caused by a too short worker timeout or by a memory leak.\n",
      "  warnings.warn(\n"
     ]
    },
    {
     "name": "stdout",
     "output_type": "stream",
     "text": [
      "FPR is 0.5111172405338728\n",
      "FNR is 0.474821881415288\n",
      "TPR is 0.525178118584712\n",
      "TNR is 0.48888275946612725\n",
      "empirical epsilon = 0.02887414909592215\n",
      "iteration is 5\n"
     ]
    },
    {
     "name": "stderr",
     "output_type": "stream",
     "text": [
      "c:\\ProgramData\\anaconda3\\Lib\\site-packages\\joblib\\externals\\loky\\process_executor.py:700: UserWarning: A worker stopped while some jobs were given to the executor. This can be caused by a too short worker timeout or by a memory leak.\n",
      "  warnings.warn(\n"
     ]
    },
    {
     "name": "stdout",
     "output_type": "stream",
     "text": [
      "FPR is 0.5111172405338728\n",
      "FNR is 0.474821881415288\n",
      "TPR is 0.525178118584712\n",
      "TNR is 0.48888275946612725\n",
      "empirical epsilon = 0.02887414909592215\n",
      "iteration is 6\n"
     ]
    },
    {
     "name": "stderr",
     "output_type": "stream",
     "text": [
      "c:\\ProgramData\\anaconda3\\Lib\\site-packages\\joblib\\externals\\loky\\process_executor.py:700: UserWarning: A worker stopped while some jobs were given to the executor. This can be caused by a too short worker timeout or by a memory leak.\n",
      "  warnings.warn(\n"
     ]
    },
    {
     "name": "stdout",
     "output_type": "stream",
     "text": [
      "FPR is 0.5111172405338728\n",
      "FNR is 0.474821881415288\n",
      "TPR is 0.525178118584712\n",
      "TNR is 0.48888275946612725\n",
      "empirical epsilon = 0.02887414909592215\n",
      "iteration is 7\n"
     ]
    },
    {
     "name": "stderr",
     "output_type": "stream",
     "text": [
      "c:\\ProgramData\\anaconda3\\Lib\\site-packages\\joblib\\externals\\loky\\process_executor.py:700: UserWarning: A worker stopped while some jobs were given to the executor. This can be caused by a too short worker timeout or by a memory leak.\n",
      "  warnings.warn(\n"
     ]
    },
    {
     "name": "stdout",
     "output_type": "stream",
     "text": [
      "FPR is 0.5111172405338728\n",
      "FNR is 0.474821881415288\n",
      "TPR is 0.525178118584712\n",
      "TNR is 0.48888275946612725\n",
      "empirical epsilon = 0.02887414909592215\n",
      "iteration is 8\n"
     ]
    },
    {
     "name": "stderr",
     "output_type": "stream",
     "text": [
      "c:\\ProgramData\\anaconda3\\Lib\\site-packages\\joblib\\externals\\loky\\process_executor.py:700: UserWarning: A worker stopped while some jobs were given to the executor. This can be caused by a too short worker timeout or by a memory leak.\n",
      "  warnings.warn(\n"
     ]
    },
    {
     "name": "stdout",
     "output_type": "stream",
     "text": [
      "FPR is 0.5111172405338728\n",
      "FNR is 0.474821881415288\n",
      "TPR is 0.525178118584712\n",
      "TNR is 0.48888275946612725\n",
      "empirical epsilon = 0.02887414909592215\n",
      "iteration is 9\n"
     ]
    },
    {
     "name": "stderr",
     "output_type": "stream",
     "text": [
      "c:\\ProgramData\\anaconda3\\Lib\\site-packages\\joblib\\externals\\loky\\process_executor.py:700: UserWarning: A worker stopped while some jobs were given to the executor. This can be caused by a too short worker timeout or by a memory leak.\n",
      "  warnings.warn(\n"
     ]
    },
    {
     "name": "stdout",
     "output_type": "stream",
     "text": [
      "FPR is 0.5111172405338728\n",
      "FNR is 0.474821881415288\n",
      "TPR is 0.525178118584712\n",
      "TNR is 0.48888275946612725\n",
      "empirical epsilon = 0.02887414909592215\n",
      "iteration is 0\n"
     ]
    },
    {
     "name": "stderr",
     "output_type": "stream",
     "text": [
      "c:\\ProgramData\\anaconda3\\Lib\\site-packages\\joblib\\externals\\loky\\process_executor.py:700: UserWarning: A worker stopped while some jobs were given to the executor. This can be caused by a too short worker timeout or by a memory leak.\n",
      "  warnings.warn(\n"
     ]
    },
    {
     "name": "stdout",
     "output_type": "stream",
     "text": [
      "FPR is 0.503210285171394\n",
      "FNR is 0.4762709817654872\n",
      "TPR is 0.5237290182345128\n",
      "TNR is 0.496789714828606\n",
      "empirical epsilon = 0.04187595294635525\n",
      "iteration is 1\n"
     ]
    },
    {
     "name": "stderr",
     "output_type": "stream",
     "text": [
      "c:\\ProgramData\\anaconda3\\Lib\\site-packages\\joblib\\externals\\loky\\process_executor.py:700: UserWarning: A worker stopped while some jobs were given to the executor. This can be caused by a too short worker timeout or by a memory leak.\n",
      "  warnings.warn(\n"
     ]
    },
    {
     "name": "stdout",
     "output_type": "stream",
     "text": [
      "FPR is 0.503210285171394\n",
      "FNR is 0.4762709817654872\n",
      "TPR is 0.5237290182345128\n",
      "TNR is 0.496789714828606\n",
      "empirical epsilon = 0.04187595294635525\n",
      "iteration is 2\n"
     ]
    },
    {
     "name": "stderr",
     "output_type": "stream",
     "text": [
      "c:\\ProgramData\\anaconda3\\Lib\\site-packages\\joblib\\externals\\loky\\process_executor.py:700: UserWarning: A worker stopped while some jobs were given to the executor. This can be caused by a too short worker timeout or by a memory leak.\n",
      "  warnings.warn(\n"
     ]
    },
    {
     "name": "stdout",
     "output_type": "stream",
     "text": [
      "FPR is 0.503210285171394\n",
      "FNR is 0.4762709817654872\n",
      "TPR is 0.5237290182345128\n",
      "TNR is 0.496789714828606\n",
      "empirical epsilon = 0.04187595294635525\n",
      "iteration is 3\n"
     ]
    },
    {
     "name": "stderr",
     "output_type": "stream",
     "text": [
      "c:\\ProgramData\\anaconda3\\Lib\\site-packages\\joblib\\externals\\loky\\process_executor.py:700: UserWarning: A worker stopped while some jobs were given to the executor. This can be caused by a too short worker timeout or by a memory leak.\n",
      "  warnings.warn(\n"
     ]
    },
    {
     "name": "stdout",
     "output_type": "stream",
     "text": [
      "FPR is 0.503210285171394\n",
      "FNR is 0.4762709817654872\n",
      "TPR is 0.5237290182345128\n",
      "TNR is 0.496789714828606\n",
      "empirical epsilon = 0.04187595294635525\n",
      "iteration is 4\n"
     ]
    },
    {
     "name": "stderr",
     "output_type": "stream",
     "text": [
      "c:\\ProgramData\\anaconda3\\Lib\\site-packages\\joblib\\externals\\loky\\process_executor.py:700: UserWarning: A worker stopped while some jobs were given to the executor. This can be caused by a too short worker timeout or by a memory leak.\n",
      "  warnings.warn(\n"
     ]
    },
    {
     "name": "stdout",
     "output_type": "stream",
     "text": [
      "FPR is 0.503210285171394\n",
      "FNR is 0.4762709817654872\n",
      "TPR is 0.5237290182345128\n",
      "TNR is 0.496789714828606\n",
      "empirical epsilon = 0.04187595294635525\n",
      "iteration is 5\n"
     ]
    },
    {
     "name": "stderr",
     "output_type": "stream",
     "text": [
      "c:\\ProgramData\\anaconda3\\Lib\\site-packages\\joblib\\externals\\loky\\process_executor.py:700: UserWarning: A worker stopped while some jobs were given to the executor. This can be caused by a too short worker timeout or by a memory leak.\n",
      "  warnings.warn(\n"
     ]
    },
    {
     "name": "stdout",
     "output_type": "stream",
     "text": [
      "FPR is 0.503210285171394\n",
      "FNR is 0.4762709817654872\n",
      "TPR is 0.5237290182345128\n",
      "TNR is 0.496789714828606\n",
      "empirical epsilon = 0.04187595294635525\n",
      "iteration is 6\n"
     ]
    },
    {
     "name": "stderr",
     "output_type": "stream",
     "text": [
      "c:\\ProgramData\\anaconda3\\Lib\\site-packages\\joblib\\externals\\loky\\process_executor.py:700: UserWarning: A worker stopped while some jobs were given to the executor. This can be caused by a too short worker timeout or by a memory leak.\n",
      "  warnings.warn(\n"
     ]
    },
    {
     "name": "stdout",
     "output_type": "stream",
     "text": [
      "FPR is 0.503210285171394\n",
      "FNR is 0.4762709817654872\n",
      "TPR is 0.5237290182345128\n",
      "TNR is 0.496789714828606\n",
      "empirical epsilon = 0.04187595294635525\n",
      "iteration is 7\n"
     ]
    },
    {
     "name": "stderr",
     "output_type": "stream",
     "text": [
      "c:\\ProgramData\\anaconda3\\Lib\\site-packages\\joblib\\externals\\loky\\process_executor.py:700: UserWarning: A worker stopped while some jobs were given to the executor. This can be caused by a too short worker timeout or by a memory leak.\n",
      "  warnings.warn(\n"
     ]
    },
    {
     "name": "stdout",
     "output_type": "stream",
     "text": [
      "FPR is 0.503210285171394\n",
      "FNR is 0.4762709817654872\n",
      "TPR is 0.5237290182345128\n",
      "TNR is 0.496789714828606\n",
      "empirical epsilon = 0.04187595294635525\n",
      "iteration is 8\n"
     ]
    },
    {
     "name": "stderr",
     "output_type": "stream",
     "text": [
      "c:\\ProgramData\\anaconda3\\Lib\\site-packages\\joblib\\externals\\loky\\process_executor.py:700: UserWarning: A worker stopped while some jobs were given to the executor. This can be caused by a too short worker timeout or by a memory leak.\n",
      "  warnings.warn(\n"
     ]
    },
    {
     "name": "stdout",
     "output_type": "stream",
     "text": [
      "FPR is 0.503210285171394\n",
      "FNR is 0.4762709817654872\n",
      "TPR is 0.5237290182345128\n",
      "TNR is 0.496789714828606\n",
      "empirical epsilon = 0.04187595294635525\n",
      "iteration is 9\n"
     ]
    },
    {
     "name": "stderr",
     "output_type": "stream",
     "text": [
      "c:\\ProgramData\\anaconda3\\Lib\\site-packages\\joblib\\externals\\loky\\process_executor.py:700: UserWarning: A worker stopped while some jobs were given to the executor. This can be caused by a too short worker timeout or by a memory leak.\n",
      "  warnings.warn(\n"
     ]
    },
    {
     "name": "stdout",
     "output_type": "stream",
     "text": [
      "FPR is 0.503210285171394\n",
      "FNR is 0.4762709817654872\n",
      "TPR is 0.5237290182345128\n",
      "TNR is 0.496789714828606\n",
      "empirical epsilon = 0.04187595294635525\n",
      "iteration is 0\n"
     ]
    },
    {
     "name": "stderr",
     "output_type": "stream",
     "text": [
      "c:\\ProgramData\\anaconda3\\Lib\\site-packages\\joblib\\externals\\loky\\process_executor.py:700: UserWarning: A worker stopped while some jobs were given to the executor. This can be caused by a too short worker timeout or by a memory leak.\n",
      "  warnings.warn(\n"
     ]
    },
    {
     "name": "stdout",
     "output_type": "stream",
     "text": [
      "FPR is 0.5119600361635943\n",
      "FNR is 0.4717878275570583\n",
      "TPR is 0.5282121724429417\n",
      "TNR is 0.4880399638364057\n",
      "empirical epsilon = 0.0335585868845829\n",
      "iteration is 1\n"
     ]
    },
    {
     "name": "stderr",
     "output_type": "stream",
     "text": [
      "c:\\ProgramData\\anaconda3\\Lib\\site-packages\\joblib\\externals\\loky\\process_executor.py:700: UserWarning: A worker stopped while some jobs were given to the executor. This can be caused by a too short worker timeout or by a memory leak.\n",
      "  warnings.warn(\n"
     ]
    },
    {
     "name": "stdout",
     "output_type": "stream",
     "text": [
      "FPR is 0.5119600361635943\n",
      "FNR is 0.4717878275570583\n",
      "TPR is 0.5282121724429417\n",
      "TNR is 0.4880399638364057\n",
      "empirical epsilon = 0.0335585868845829\n",
      "iteration is 2\n"
     ]
    },
    {
     "name": "stderr",
     "output_type": "stream",
     "text": [
      "c:\\ProgramData\\anaconda3\\Lib\\site-packages\\joblib\\externals\\loky\\process_executor.py:700: UserWarning: A worker stopped while some jobs were given to the executor. This can be caused by a too short worker timeout or by a memory leak.\n",
      "  warnings.warn(\n"
     ]
    },
    {
     "name": "stdout",
     "output_type": "stream",
     "text": [
      "FPR is 0.5119600361635943\n",
      "FNR is 0.4717878275570583\n",
      "TPR is 0.5282121724429417\n",
      "TNR is 0.4880399638364057\n",
      "empirical epsilon = 0.0335585868845829\n",
      "iteration is 3\n"
     ]
    },
    {
     "name": "stderr",
     "output_type": "stream",
     "text": [
      "c:\\ProgramData\\anaconda3\\Lib\\site-packages\\joblib\\externals\\loky\\process_executor.py:700: UserWarning: A worker stopped while some jobs were given to the executor. This can be caused by a too short worker timeout or by a memory leak.\n",
      "  warnings.warn(\n"
     ]
    },
    {
     "name": "stdout",
     "output_type": "stream",
     "text": [
      "FPR is 0.5119600361635943\n",
      "FNR is 0.4717878275570583\n",
      "TPR is 0.5282121724429417\n",
      "TNR is 0.4880399638364057\n",
      "empirical epsilon = 0.0335585868845829\n",
      "iteration is 4\n"
     ]
    },
    {
     "name": "stderr",
     "output_type": "stream",
     "text": [
      "c:\\ProgramData\\anaconda3\\Lib\\site-packages\\joblib\\externals\\loky\\process_executor.py:700: UserWarning: A worker stopped while some jobs were given to the executor. This can be caused by a too short worker timeout or by a memory leak.\n",
      "  warnings.warn(\n"
     ]
    },
    {
     "name": "stdout",
     "output_type": "stream",
     "text": [
      "FPR is 0.5119600361635943\n",
      "FNR is 0.4717878275570583\n",
      "TPR is 0.5282121724429417\n",
      "TNR is 0.4880399638364057\n",
      "empirical epsilon = 0.0335585868845829\n",
      "iteration is 5\n"
     ]
    },
    {
     "name": "stderr",
     "output_type": "stream",
     "text": [
      "c:\\ProgramData\\anaconda3\\Lib\\site-packages\\joblib\\externals\\loky\\process_executor.py:700: UserWarning: A worker stopped while some jobs were given to the executor. This can be caused by a too short worker timeout or by a memory leak.\n",
      "  warnings.warn(\n"
     ]
    },
    {
     "name": "stdout",
     "output_type": "stream",
     "text": [
      "FPR is 0.5119600361635943\n",
      "FNR is 0.4717878275570583\n",
      "TPR is 0.5282121724429417\n",
      "TNR is 0.4880399638364057\n",
      "empirical epsilon = 0.0335585868845829\n",
      "iteration is 6\n"
     ]
    },
    {
     "name": "stderr",
     "output_type": "stream",
     "text": [
      "c:\\ProgramData\\anaconda3\\Lib\\site-packages\\joblib\\externals\\loky\\process_executor.py:700: UserWarning: A worker stopped while some jobs were given to the executor. This can be caused by a too short worker timeout or by a memory leak.\n",
      "  warnings.warn(\n"
     ]
    },
    {
     "name": "stdout",
     "output_type": "stream",
     "text": [
      "FPR is 0.5119600361635943\n",
      "FNR is 0.4717878275570583\n",
      "TPR is 0.5282121724429417\n",
      "TNR is 0.4880399638364057\n",
      "empirical epsilon = 0.0335585868845829\n",
      "iteration is 7\n"
     ]
    },
    {
     "name": "stderr",
     "output_type": "stream",
     "text": [
      "c:\\ProgramData\\anaconda3\\Lib\\site-packages\\joblib\\externals\\loky\\process_executor.py:700: UserWarning: A worker stopped while some jobs were given to the executor. This can be caused by a too short worker timeout or by a memory leak.\n",
      "  warnings.warn(\n"
     ]
    },
    {
     "name": "stdout",
     "output_type": "stream",
     "text": [
      "FPR is 0.5119600361635943\n",
      "FNR is 0.4717878275570583\n",
      "TPR is 0.5282121724429417\n",
      "TNR is 0.4880399638364057\n",
      "empirical epsilon = 0.0335585868845829\n",
      "iteration is 8\n"
     ]
    },
    {
     "name": "stderr",
     "output_type": "stream",
     "text": [
      "c:\\ProgramData\\anaconda3\\Lib\\site-packages\\joblib\\externals\\loky\\process_executor.py:700: UserWarning: A worker stopped while some jobs were given to the executor. This can be caused by a too short worker timeout or by a memory leak.\n",
      "  warnings.warn(\n"
     ]
    },
    {
     "name": "stdout",
     "output_type": "stream",
     "text": [
      "FPR is 0.5119600361635943\n",
      "FNR is 0.4717878275570583\n",
      "TPR is 0.5282121724429417\n",
      "TNR is 0.4880399638364057\n",
      "empirical epsilon = 0.0335585868845829\n",
      "iteration is 9\n"
     ]
    },
    {
     "name": "stderr",
     "output_type": "stream",
     "text": [
      "c:\\ProgramData\\anaconda3\\Lib\\site-packages\\joblib\\externals\\loky\\process_executor.py:700: UserWarning: A worker stopped while some jobs were given to the executor. This can be caused by a too short worker timeout or by a memory leak.\n",
      "  warnings.warn(\n"
     ]
    },
    {
     "name": "stdout",
     "output_type": "stream",
     "text": [
      "FPR is 0.5119600361635943\n",
      "FNR is 0.4717878275570583\n",
      "TPR is 0.5282121724429417\n",
      "TNR is 0.4880399638364057\n",
      "empirical epsilon = 0.0335585868845829\n",
      "iteration is 0\n"
     ]
    },
    {
     "name": "stderr",
     "output_type": "stream",
     "text": [
      "c:\\ProgramData\\anaconda3\\Lib\\site-packages\\joblib\\externals\\loky\\process_executor.py:700: UserWarning: A worker stopped while some jobs were given to the executor. This can be caused by a too short worker timeout or by a memory leak.\n",
      "  warnings.warn(\n"
     ]
    },
    {
     "name": "stdout",
     "output_type": "stream",
     "text": [
      "FPR is 0.5044055226099082\n",
      "FNR is 0.4750181137543775\n",
      "TPR is 0.5249818862456225\n",
      "TNR is 0.49559447739009177\n",
      "empirical epsilon = 0.04210044292048188\n",
      "iteration is 1\n"
     ]
    },
    {
     "name": "stderr",
     "output_type": "stream",
     "text": [
      "c:\\ProgramData\\anaconda3\\Lib\\site-packages\\joblib\\externals\\loky\\process_executor.py:700: UserWarning: A worker stopped while some jobs were given to the executor. This can be caused by a too short worker timeout or by a memory leak.\n",
      "  warnings.warn(\n"
     ]
    },
    {
     "name": "stdout",
     "output_type": "stream",
     "text": [
      "FPR is 0.5044055226099082\n",
      "FNR is 0.4750181137543775\n",
      "TPR is 0.5249818862456225\n",
      "TNR is 0.49559447739009177\n",
      "empirical epsilon = 0.04210044292048188\n",
      "iteration is 2\n"
     ]
    },
    {
     "name": "stderr",
     "output_type": "stream",
     "text": [
      "c:\\ProgramData\\anaconda3\\Lib\\site-packages\\joblib\\externals\\loky\\process_executor.py:700: UserWarning: A worker stopped while some jobs were given to the executor. This can be caused by a too short worker timeout or by a memory leak.\n",
      "  warnings.warn(\n"
     ]
    },
    {
     "name": "stdout",
     "output_type": "stream",
     "text": [
      "FPR is 0.5044055226099082\n",
      "FNR is 0.4750181137543775\n",
      "TPR is 0.5249818862456225\n",
      "TNR is 0.49559447739009177\n",
      "empirical epsilon = 0.04210044292048188\n",
      "iteration is 3\n"
     ]
    },
    {
     "name": "stderr",
     "output_type": "stream",
     "text": [
      "c:\\ProgramData\\anaconda3\\Lib\\site-packages\\joblib\\externals\\loky\\process_executor.py:700: UserWarning: A worker stopped while some jobs were given to the executor. This can be caused by a too short worker timeout or by a memory leak.\n",
      "  warnings.warn(\n"
     ]
    },
    {
     "name": "stdout",
     "output_type": "stream",
     "text": [
      "FPR is 0.5044055226099082\n",
      "FNR is 0.4750181137543775\n",
      "TPR is 0.5249818862456225\n",
      "TNR is 0.49559447739009177\n",
      "empirical epsilon = 0.04210044292048188\n",
      "iteration is 4\n"
     ]
    },
    {
     "name": "stderr",
     "output_type": "stream",
     "text": [
      "c:\\ProgramData\\anaconda3\\Lib\\site-packages\\joblib\\externals\\loky\\process_executor.py:700: UserWarning: A worker stopped while some jobs were given to the executor. This can be caused by a too short worker timeout or by a memory leak.\n",
      "  warnings.warn(\n"
     ]
    },
    {
     "name": "stdout",
     "output_type": "stream",
     "text": [
      "FPR is 0.5044055226099082\n",
      "FNR is 0.4750181137543775\n",
      "TPR is 0.5249818862456225\n",
      "TNR is 0.49559447739009177\n",
      "empirical epsilon = 0.04210044292048188\n",
      "iteration is 5\n"
     ]
    },
    {
     "name": "stderr",
     "output_type": "stream",
     "text": [
      "c:\\ProgramData\\anaconda3\\Lib\\site-packages\\joblib\\externals\\loky\\process_executor.py:700: UserWarning: A worker stopped while some jobs were given to the executor. This can be caused by a too short worker timeout or by a memory leak.\n",
      "  warnings.warn(\n"
     ]
    },
    {
     "name": "stdout",
     "output_type": "stream",
     "text": [
      "FPR is 0.5044055226099082\n",
      "FNR is 0.4750181137543775\n",
      "TPR is 0.5249818862456225\n",
      "TNR is 0.49559447739009177\n",
      "empirical epsilon = 0.04210044292048188\n",
      "iteration is 6\n"
     ]
    },
    {
     "name": "stderr",
     "output_type": "stream",
     "text": [
      "c:\\ProgramData\\anaconda3\\Lib\\site-packages\\joblib\\externals\\loky\\process_executor.py:700: UserWarning: A worker stopped while some jobs were given to the executor. This can be caused by a too short worker timeout or by a memory leak.\n",
      "  warnings.warn(\n"
     ]
    },
    {
     "name": "stdout",
     "output_type": "stream",
     "text": [
      "FPR is 0.5044055226099082\n",
      "FNR is 0.4750181137543775\n",
      "TPR is 0.5249818862456225\n",
      "TNR is 0.49559447739009177\n",
      "empirical epsilon = 0.04210044292048188\n",
      "iteration is 7\n"
     ]
    },
    {
     "name": "stderr",
     "output_type": "stream",
     "text": [
      "c:\\ProgramData\\anaconda3\\Lib\\site-packages\\joblib\\externals\\loky\\process_executor.py:700: UserWarning: A worker stopped while some jobs were given to the executor. This can be caused by a too short worker timeout or by a memory leak.\n",
      "  warnings.warn(\n"
     ]
    },
    {
     "name": "stdout",
     "output_type": "stream",
     "text": [
      "FPR is 0.5044055226099082\n",
      "FNR is 0.4750181137543775\n",
      "TPR is 0.5249818862456225\n",
      "TNR is 0.49559447739009177\n",
      "empirical epsilon = 0.04210044292048188\n",
      "iteration is 8\n"
     ]
    },
    {
     "name": "stderr",
     "output_type": "stream",
     "text": [
      "c:\\ProgramData\\anaconda3\\Lib\\site-packages\\joblib\\externals\\loky\\process_executor.py:700: UserWarning: A worker stopped while some jobs were given to the executor. This can be caused by a too short worker timeout or by a memory leak.\n",
      "  warnings.warn(\n"
     ]
    },
    {
     "name": "stdout",
     "output_type": "stream",
     "text": [
      "FPR is 0.5044055226099082\n",
      "FNR is 0.4750181137543775\n",
      "TPR is 0.5249818862456225\n",
      "TNR is 0.49559447739009177\n",
      "empirical epsilon = 0.04210044292048188\n",
      "iteration is 9\n"
     ]
    },
    {
     "name": "stderr",
     "output_type": "stream",
     "text": [
      "c:\\ProgramData\\anaconda3\\Lib\\site-packages\\joblib\\externals\\loky\\process_executor.py:700: UserWarning: A worker stopped while some jobs were given to the executor. This can be caused by a too short worker timeout or by a memory leak.\n",
      "  warnings.warn(\n"
     ]
    },
    {
     "name": "stdout",
     "output_type": "stream",
     "text": [
      "FPR is 0.5044055226099082\n",
      "FNR is 0.4750181137543775\n",
      "TPR is 0.5249818862456225\n",
      "TNR is 0.49559447739009177\n",
      "empirical epsilon = 0.04210044292048188\n",
      "iteration is 0\n",
      "FPR is 0.5119753597204983\n",
      "FNR is 0.4654178239343074\n",
      "TPR is 0.5345821760656926\n",
      "TNR is 0.48802464027950165\n",
      "empirical epsilon = 0.047120996919756325\n",
      "iteration is 1\n"
     ]
    },
    {
     "name": "stderr",
     "output_type": "stream",
     "text": [
      "c:\\ProgramData\\anaconda3\\Lib\\site-packages\\joblib\\externals\\loky\\process_executor.py:700: UserWarning: A worker stopped while some jobs were given to the executor. This can be caused by a too short worker timeout or by a memory leak.\n",
      "  warnings.warn(\n"
     ]
    },
    {
     "name": "stdout",
     "output_type": "stream",
     "text": [
      "FPR is 0.5119753597204983\n",
      "FNR is 0.4654178239343074\n",
      "TPR is 0.5345821760656926\n",
      "TNR is 0.48802464027950165\n",
      "empirical epsilon = 0.047120996919756325\n",
      "iteration is 2\n"
     ]
    },
    {
     "name": "stderr",
     "output_type": "stream",
     "text": [
      "c:\\ProgramData\\anaconda3\\Lib\\site-packages\\joblib\\externals\\loky\\process_executor.py:700: UserWarning: A worker stopped while some jobs were given to the executor. This can be caused by a too short worker timeout or by a memory leak.\n",
      "  warnings.warn(\n"
     ]
    },
    {
     "name": "stdout",
     "output_type": "stream",
     "text": [
      "FPR is 0.5119753597204983\n",
      "FNR is 0.4654178239343074\n",
      "TPR is 0.5345821760656926\n",
      "TNR is 0.48802464027950165\n",
      "empirical epsilon = 0.047120996919756325\n",
      "iteration is 3\n"
     ]
    },
    {
     "name": "stderr",
     "output_type": "stream",
     "text": [
      "c:\\ProgramData\\anaconda3\\Lib\\site-packages\\joblib\\externals\\loky\\process_executor.py:700: UserWarning: A worker stopped while some jobs were given to the executor. This can be caused by a too short worker timeout or by a memory leak.\n",
      "  warnings.warn(\n"
     ]
    },
    {
     "name": "stdout",
     "output_type": "stream",
     "text": [
      "FPR is 0.5119753597204983\n",
      "FNR is 0.4654178239343074\n",
      "TPR is 0.5345821760656926\n",
      "TNR is 0.48802464027950165\n",
      "empirical epsilon = 0.047120996919756325\n",
      "iteration is 4\n"
     ]
    },
    {
     "name": "stderr",
     "output_type": "stream",
     "text": [
      "c:\\ProgramData\\anaconda3\\Lib\\site-packages\\joblib\\externals\\loky\\process_executor.py:700: UserWarning: A worker stopped while some jobs were given to the executor. This can be caused by a too short worker timeout or by a memory leak.\n",
      "  warnings.warn(\n"
     ]
    },
    {
     "name": "stdout",
     "output_type": "stream",
     "text": [
      "FPR is 0.5119753597204983\n",
      "FNR is 0.4654178239343074\n",
      "TPR is 0.5345821760656926\n",
      "TNR is 0.48802464027950165\n",
      "empirical epsilon = 0.047120996919756325\n",
      "iteration is 5\n"
     ]
    },
    {
     "name": "stderr",
     "output_type": "stream",
     "text": [
      "c:\\ProgramData\\anaconda3\\Lib\\site-packages\\joblib\\externals\\loky\\process_executor.py:700: UserWarning: A worker stopped while some jobs were given to the executor. This can be caused by a too short worker timeout or by a memory leak.\n",
      "  warnings.warn(\n"
     ]
    },
    {
     "name": "stdout",
     "output_type": "stream",
     "text": [
      "FPR is 0.5119753597204983\n",
      "FNR is 0.4654178239343074\n",
      "TPR is 0.5345821760656926\n",
      "TNR is 0.48802464027950165\n",
      "empirical epsilon = 0.047120996919756325\n",
      "iteration is 6\n"
     ]
    },
    {
     "name": "stderr",
     "output_type": "stream",
     "text": [
      "c:\\ProgramData\\anaconda3\\Lib\\site-packages\\joblib\\externals\\loky\\process_executor.py:700: UserWarning: A worker stopped while some jobs were given to the executor. This can be caused by a too short worker timeout or by a memory leak.\n",
      "  warnings.warn(\n"
     ]
    },
    {
     "name": "stdout",
     "output_type": "stream",
     "text": [
      "FPR is 0.5119753597204983\n",
      "FNR is 0.4654178239343074\n",
      "TPR is 0.5345821760656926\n",
      "TNR is 0.48802464027950165\n",
      "empirical epsilon = 0.047120996919756325\n",
      "iteration is 7\n"
     ]
    },
    {
     "name": "stderr",
     "output_type": "stream",
     "text": [
      "c:\\ProgramData\\anaconda3\\Lib\\site-packages\\joblib\\externals\\loky\\process_executor.py:700: UserWarning: A worker stopped while some jobs were given to the executor. This can be caused by a too short worker timeout or by a memory leak.\n",
      "  warnings.warn(\n"
     ]
    },
    {
     "name": "stdout",
     "output_type": "stream",
     "text": [
      "FPR is 0.5119753597204983\n",
      "FNR is 0.4654178239343074\n",
      "TPR is 0.5345821760656926\n",
      "TNR is 0.48802464027950165\n",
      "empirical epsilon = 0.047120996919756325\n",
      "iteration is 8\n"
     ]
    },
    {
     "name": "stderr",
     "output_type": "stream",
     "text": [
      "c:\\ProgramData\\anaconda3\\Lib\\site-packages\\joblib\\externals\\loky\\process_executor.py:700: UserWarning: A worker stopped while some jobs were given to the executor. This can be caused by a too short worker timeout or by a memory leak.\n",
      "  warnings.warn(\n"
     ]
    },
    {
     "name": "stdout",
     "output_type": "stream",
     "text": [
      "FPR is 0.5119753597204983\n",
      "FNR is 0.4654178239343074\n",
      "TPR is 0.5345821760656926\n",
      "TNR is 0.48802464027950165\n",
      "empirical epsilon = 0.047120996919756325\n",
      "iteration is 9\n"
     ]
    },
    {
     "name": "stderr",
     "output_type": "stream",
     "text": [
      "c:\\ProgramData\\anaconda3\\Lib\\site-packages\\joblib\\externals\\loky\\process_executor.py:700: UserWarning: A worker stopped while some jobs were given to the executor. This can be caused by a too short worker timeout or by a memory leak.\n",
      "  warnings.warn(\n"
     ]
    },
    {
     "name": "stdout",
     "output_type": "stream",
     "text": [
      "FPR is 0.5119753597204983\n",
      "FNR is 0.4654178239343074\n",
      "TPR is 0.5345821760656926\n",
      "TNR is 0.48802464027950165\n",
      "empirical epsilon = 0.047120996919756325\n",
      "iteration is 0\n",
      "FPR is 0.5023215188709603\n",
      "FNR is 0.47595399106388114\n",
      "TPR is 0.5240460089361189\n",
      "TNR is 0.4976784811290397\n",
      "empirical epsilon = 0.0443297060034313\n",
      "iteration is 1\n"
     ]
    },
    {
     "name": "stderr",
     "output_type": "stream",
     "text": [
      "c:\\ProgramData\\anaconda3\\Lib\\site-packages\\joblib\\externals\\loky\\process_executor.py:700: UserWarning: A worker stopped while some jobs were given to the executor. This can be caused by a too short worker timeout or by a memory leak.\n",
      "  warnings.warn(\n"
     ]
    },
    {
     "name": "stdout",
     "output_type": "stream",
     "text": [
      "FPR is 0.5023215188709603\n",
      "FNR is 0.47595399106388114\n",
      "TPR is 0.5240460089361189\n",
      "TNR is 0.4976784811290397\n",
      "empirical epsilon = 0.0443297060034313\n",
      "iteration is 2\n"
     ]
    },
    {
     "name": "stderr",
     "output_type": "stream",
     "text": [
      "c:\\ProgramData\\anaconda3\\Lib\\site-packages\\joblib\\externals\\loky\\process_executor.py:700: UserWarning: A worker stopped while some jobs were given to the executor. This can be caused by a too short worker timeout or by a memory leak.\n",
      "  warnings.warn(\n"
     ]
    },
    {
     "name": "stdout",
     "output_type": "stream",
     "text": [
      "FPR is 0.5023215188709603\n",
      "FNR is 0.47595399106388114\n",
      "TPR is 0.5240460089361189\n",
      "TNR is 0.4976784811290397\n",
      "empirical epsilon = 0.0443297060034313\n",
      "iteration is 3\n"
     ]
    },
    {
     "name": "stderr",
     "output_type": "stream",
     "text": [
      "c:\\ProgramData\\anaconda3\\Lib\\site-packages\\joblib\\externals\\loky\\process_executor.py:700: UserWarning: A worker stopped while some jobs were given to the executor. This can be caused by a too short worker timeout or by a memory leak.\n",
      "  warnings.warn(\n"
     ]
    },
    {
     "name": "stdout",
     "output_type": "stream",
     "text": [
      "FPR is 0.5023215188709603\n",
      "FNR is 0.47595399106388114\n",
      "TPR is 0.5240460089361189\n",
      "TNR is 0.4976784811290397\n",
      "empirical epsilon = 0.0443297060034313\n",
      "iteration is 4\n"
     ]
    },
    {
     "name": "stderr",
     "output_type": "stream",
     "text": [
      "c:\\ProgramData\\anaconda3\\Lib\\site-packages\\joblib\\externals\\loky\\process_executor.py:700: UserWarning: A worker stopped while some jobs were given to the executor. This can be caused by a too short worker timeout or by a memory leak.\n",
      "  warnings.warn(\n"
     ]
    },
    {
     "name": "stdout",
     "output_type": "stream",
     "text": [
      "FPR is 0.5023215188709603\n",
      "FNR is 0.47595399106388114\n",
      "TPR is 0.5240460089361189\n",
      "TNR is 0.4976784811290397\n",
      "empirical epsilon = 0.0443297060034313\n",
      "iteration is 5\n"
     ]
    },
    {
     "name": "stderr",
     "output_type": "stream",
     "text": [
      "c:\\ProgramData\\anaconda3\\Lib\\site-packages\\joblib\\externals\\loky\\process_executor.py:700: UserWarning: A worker stopped while some jobs were given to the executor. This can be caused by a too short worker timeout or by a memory leak.\n",
      "  warnings.warn(\n"
     ]
    },
    {
     "name": "stdout",
     "output_type": "stream",
     "text": [
      "FPR is 0.5023215188709603\n",
      "FNR is 0.47595399106388114\n",
      "TPR is 0.5240460089361189\n",
      "TNR is 0.4976784811290397\n",
      "empirical epsilon = 0.0443297060034313\n",
      "iteration is 6\n"
     ]
    },
    {
     "name": "stderr",
     "output_type": "stream",
     "text": [
      "c:\\ProgramData\\anaconda3\\Lib\\site-packages\\joblib\\externals\\loky\\process_executor.py:700: UserWarning: A worker stopped while some jobs were given to the executor. This can be caused by a too short worker timeout or by a memory leak.\n",
      "  warnings.warn(\n"
     ]
    },
    {
     "name": "stdout",
     "output_type": "stream",
     "text": [
      "FPR is 0.5023215188709603\n",
      "FNR is 0.47595399106388114\n",
      "TPR is 0.5240460089361189\n",
      "TNR is 0.4976784811290397\n",
      "empirical epsilon = 0.0443297060034313\n",
      "iteration is 7\n"
     ]
    },
    {
     "name": "stderr",
     "output_type": "stream",
     "text": [
      "c:\\ProgramData\\anaconda3\\Lib\\site-packages\\joblib\\externals\\loky\\process_executor.py:700: UserWarning: A worker stopped while some jobs were given to the executor. This can be caused by a too short worker timeout or by a memory leak.\n",
      "  warnings.warn(\n"
     ]
    },
    {
     "name": "stdout",
     "output_type": "stream",
     "text": [
      "FPR is 0.5023215188709603\n",
      "FNR is 0.47595399106388114\n",
      "TPR is 0.5240460089361189\n",
      "TNR is 0.4976784811290397\n",
      "empirical epsilon = 0.0443297060034313\n",
      "iteration is 8\n"
     ]
    },
    {
     "name": "stderr",
     "output_type": "stream",
     "text": [
      "c:\\ProgramData\\anaconda3\\Lib\\site-packages\\joblib\\externals\\loky\\process_executor.py:700: UserWarning: A worker stopped while some jobs were given to the executor. This can be caused by a too short worker timeout or by a memory leak.\n",
      "  warnings.warn(\n"
     ]
    },
    {
     "name": "stdout",
     "output_type": "stream",
     "text": [
      "FPR is 0.5023215188709603\n",
      "FNR is 0.47595399106388114\n",
      "TPR is 0.5240460089361189\n",
      "TNR is 0.4976784811290397\n",
      "empirical epsilon = 0.0443297060034313\n",
      "iteration is 9\n"
     ]
    },
    {
     "name": "stderr",
     "output_type": "stream",
     "text": [
      "c:\\ProgramData\\anaconda3\\Lib\\site-packages\\joblib\\externals\\loky\\process_executor.py:700: UserWarning: A worker stopped while some jobs were given to the executor. This can be caused by a too short worker timeout or by a memory leak.\n",
      "  warnings.warn(\n"
     ]
    },
    {
     "name": "stdout",
     "output_type": "stream",
     "text": [
      "FPR is 0.5023215188709603\n",
      "FNR is 0.47595399106388114\n",
      "TPR is 0.5240460089361189\n",
      "TNR is 0.4976784811290397\n",
      "empirical epsilon = 0.0443297060034313\n",
      "iteration is 0\n"
     ]
    },
    {
     "name": "stderr",
     "output_type": "stream",
     "text": [
      "c:\\ProgramData\\anaconda3\\Lib\\site-packages\\joblib\\externals\\loky\\process_executor.py:700: UserWarning: A worker stopped while some jobs were given to the executor. This can be caused by a too short worker timeout or by a memory leak.\n",
      "  warnings.warn(\n"
     ]
    },
    {
     "name": "stdout",
     "output_type": "stream",
     "text": [
      "FPR is 0.5143811581544309\n",
      "FNR is 0.46827074024876225\n",
      "TPR is 0.5317292597512377\n",
      "TNR is 0.48561884184556914\n",
      "empirical epsilon = 0.036066522106688856\n",
      "iteration is 1\n"
     ]
    },
    {
     "name": "stderr",
     "output_type": "stream",
     "text": [
      "c:\\ProgramData\\anaconda3\\Lib\\site-packages\\joblib\\externals\\loky\\process_executor.py:700: UserWarning: A worker stopped while some jobs were given to the executor. This can be caused by a too short worker timeout or by a memory leak.\n",
      "  warnings.warn(\n"
     ]
    },
    {
     "name": "stdout",
     "output_type": "stream",
     "text": [
      "FPR is 0.5143811581544309\n",
      "FNR is 0.46827074024876225\n",
      "TPR is 0.5317292597512377\n",
      "TNR is 0.48561884184556914\n",
      "empirical epsilon = 0.036066522106688856\n",
      "iteration is 2\n"
     ]
    },
    {
     "name": "stderr",
     "output_type": "stream",
     "text": [
      "c:\\ProgramData\\anaconda3\\Lib\\site-packages\\joblib\\externals\\loky\\process_executor.py:700: UserWarning: A worker stopped while some jobs were given to the executor. This can be caused by a too short worker timeout or by a memory leak.\n",
      "  warnings.warn(\n"
     ]
    },
    {
     "name": "stdout",
     "output_type": "stream",
     "text": [
      "FPR is 0.5143811581544309\n",
      "FNR is 0.46827074024876225\n",
      "TPR is 0.5317292597512377\n",
      "TNR is 0.48561884184556914\n",
      "empirical epsilon = 0.036066522106688856\n",
      "iteration is 3\n"
     ]
    },
    {
     "name": "stderr",
     "output_type": "stream",
     "text": [
      "c:\\ProgramData\\anaconda3\\Lib\\site-packages\\joblib\\externals\\loky\\process_executor.py:700: UserWarning: A worker stopped while some jobs were given to the executor. This can be caused by a too short worker timeout or by a memory leak.\n",
      "  warnings.warn(\n"
     ]
    },
    {
     "name": "stdout",
     "output_type": "stream",
     "text": [
      "FPR is 0.5143811581544309\n",
      "FNR is 0.46827074024876225\n",
      "TPR is 0.5317292597512377\n",
      "TNR is 0.48561884184556914\n",
      "empirical epsilon = 0.036066522106688856\n",
      "iteration is 4\n"
     ]
    },
    {
     "name": "stderr",
     "output_type": "stream",
     "text": [
      "c:\\ProgramData\\anaconda3\\Lib\\site-packages\\joblib\\externals\\loky\\process_executor.py:700: UserWarning: A worker stopped while some jobs were given to the executor. This can be caused by a too short worker timeout or by a memory leak.\n",
      "  warnings.warn(\n"
     ]
    },
    {
     "name": "stdout",
     "output_type": "stream",
     "text": [
      "FPR is 0.5143811581544309\n",
      "FNR is 0.46827074024876225\n",
      "TPR is 0.5317292597512377\n",
      "TNR is 0.48561884184556914\n",
      "empirical epsilon = 0.036066522106688856\n",
      "iteration is 5\n"
     ]
    },
    {
     "name": "stderr",
     "output_type": "stream",
     "text": [
      "c:\\ProgramData\\anaconda3\\Lib\\site-packages\\joblib\\externals\\loky\\process_executor.py:700: UserWarning: A worker stopped while some jobs were given to the executor. This can be caused by a too short worker timeout or by a memory leak.\n",
      "  warnings.warn(\n"
     ]
    },
    {
     "name": "stdout",
     "output_type": "stream",
     "text": [
      "FPR is 0.5143811581544309\n",
      "FNR is 0.46827074024876225\n",
      "TPR is 0.5317292597512377\n",
      "TNR is 0.48561884184556914\n",
      "empirical epsilon = 0.036066522106688856\n",
      "iteration is 6\n"
     ]
    },
    {
     "name": "stderr",
     "output_type": "stream",
     "text": [
      "c:\\ProgramData\\anaconda3\\Lib\\site-packages\\joblib\\externals\\loky\\process_executor.py:700: UserWarning: A worker stopped while some jobs were given to the executor. This can be caused by a too short worker timeout or by a memory leak.\n",
      "  warnings.warn(\n"
     ]
    },
    {
     "name": "stdout",
     "output_type": "stream",
     "text": [
      "FPR is 0.5143811581544309\n",
      "FNR is 0.46827074024876225\n",
      "TPR is 0.5317292597512377\n",
      "TNR is 0.48561884184556914\n",
      "empirical epsilon = 0.036066522106688856\n",
      "iteration is 7\n"
     ]
    },
    {
     "name": "stderr",
     "output_type": "stream",
     "text": [
      "c:\\ProgramData\\anaconda3\\Lib\\site-packages\\joblib\\externals\\loky\\process_executor.py:700: UserWarning: A worker stopped while some jobs were given to the executor. This can be caused by a too short worker timeout or by a memory leak.\n",
      "  warnings.warn(\n"
     ]
    },
    {
     "name": "stdout",
     "output_type": "stream",
     "text": [
      "FPR is 0.5143811581544309\n",
      "FNR is 0.46827074024876225\n",
      "TPR is 0.5317292597512377\n",
      "TNR is 0.48561884184556914\n",
      "empirical epsilon = 0.036066522106688856\n",
      "iteration is 8\n"
     ]
    },
    {
     "name": "stderr",
     "output_type": "stream",
     "text": [
      "c:\\ProgramData\\anaconda3\\Lib\\site-packages\\joblib\\externals\\loky\\process_executor.py:700: UserWarning: A worker stopped while some jobs were given to the executor. This can be caused by a too short worker timeout or by a memory leak.\n",
      "  warnings.warn(\n"
     ]
    },
    {
     "name": "stdout",
     "output_type": "stream",
     "text": [
      "FPR is 0.5143811581544309\n",
      "FNR is 0.46827074024876225\n",
      "TPR is 0.5317292597512377\n",
      "TNR is 0.48561884184556914\n",
      "empirical epsilon = 0.036066522106688856\n",
      "iteration is 9\n"
     ]
    },
    {
     "name": "stderr",
     "output_type": "stream",
     "text": [
      "c:\\ProgramData\\anaconda3\\Lib\\site-packages\\joblib\\externals\\loky\\process_executor.py:700: UserWarning: A worker stopped while some jobs were given to the executor. This can be caused by a too short worker timeout or by a memory leak.\n",
      "  warnings.warn(\n"
     ]
    },
    {
     "name": "stdout",
     "output_type": "stream",
     "text": [
      "FPR is 0.5143811581544309\n",
      "FNR is 0.46827074024876225\n",
      "TPR is 0.5317292597512377\n",
      "TNR is 0.48561884184556914\n",
      "empirical epsilon = 0.036066522106688856\n",
      "iteration is 0\n"
     ]
    },
    {
     "name": "stderr",
     "output_type": "stream",
     "text": [
      "c:\\ProgramData\\anaconda3\\Lib\\site-packages\\joblib\\externals\\loky\\process_executor.py:700: UserWarning: A worker stopped while some jobs were given to the executor. This can be caused by a too short worker timeout or by a memory leak.\n",
      "  warnings.warn(\n"
     ]
    },
    {
     "name": "stdout",
     "output_type": "stream",
     "text": [
      "FPR is 0.5090179132380208\n",
      "FNR is 0.47183311194300204\n",
      "TPR is 0.528166888056998\n",
      "TNR is 0.4909820867619792\n",
      "empirical epsilon = 0.039474809159240246\n",
      "iteration is 1\n"
     ]
    },
    {
     "name": "stderr",
     "output_type": "stream",
     "text": [
      "c:\\ProgramData\\anaconda3\\Lib\\site-packages\\joblib\\externals\\loky\\process_executor.py:700: UserWarning: A worker stopped while some jobs were given to the executor. This can be caused by a too short worker timeout or by a memory leak.\n",
      "  warnings.warn(\n"
     ]
    },
    {
     "name": "stdout",
     "output_type": "stream",
     "text": [
      "FPR is 0.5090179132380208\n",
      "FNR is 0.47183311194300204\n",
      "TPR is 0.528166888056998\n",
      "TNR is 0.4909820867619792\n",
      "empirical epsilon = 0.039474809159240246\n",
      "iteration is 2\n"
     ]
    },
    {
     "name": "stderr",
     "output_type": "stream",
     "text": [
      "c:\\ProgramData\\anaconda3\\Lib\\site-packages\\joblib\\externals\\loky\\process_executor.py:700: UserWarning: A worker stopped while some jobs were given to the executor. This can be caused by a too short worker timeout or by a memory leak.\n",
      "  warnings.warn(\n"
     ]
    },
    {
     "name": "stdout",
     "output_type": "stream",
     "text": [
      "FPR is 0.5090179132380208\n",
      "FNR is 0.47183311194300204\n",
      "TPR is 0.528166888056998\n",
      "TNR is 0.4909820867619792\n",
      "empirical epsilon = 0.039474809159240246\n",
      "iteration is 3\n"
     ]
    },
    {
     "name": "stderr",
     "output_type": "stream",
     "text": [
      "c:\\ProgramData\\anaconda3\\Lib\\site-packages\\joblib\\externals\\loky\\process_executor.py:700: UserWarning: A worker stopped while some jobs were given to the executor. This can be caused by a too short worker timeout or by a memory leak.\n",
      "  warnings.warn(\n"
     ]
    },
    {
     "name": "stdout",
     "output_type": "stream",
     "text": [
      "FPR is 0.5090179132380208\n",
      "FNR is 0.47183311194300204\n",
      "TPR is 0.528166888056998\n",
      "TNR is 0.4909820867619792\n",
      "empirical epsilon = 0.039474809159240246\n",
      "iteration is 4\n"
     ]
    },
    {
     "name": "stderr",
     "output_type": "stream",
     "text": [
      "c:\\ProgramData\\anaconda3\\Lib\\site-packages\\joblib\\externals\\loky\\process_executor.py:700: UserWarning: A worker stopped while some jobs were given to the executor. This can be caused by a too short worker timeout or by a memory leak.\n",
      "  warnings.warn(\n"
     ]
    },
    {
     "name": "stdout",
     "output_type": "stream",
     "text": [
      "FPR is 0.5090179132380208\n",
      "FNR is 0.47183311194300204\n",
      "TPR is 0.528166888056998\n",
      "TNR is 0.4909820867619792\n",
      "empirical epsilon = 0.039474809159240246\n",
      "iteration is 5\n"
     ]
    },
    {
     "name": "stderr",
     "output_type": "stream",
     "text": [
      "c:\\ProgramData\\anaconda3\\Lib\\site-packages\\joblib\\externals\\loky\\process_executor.py:700: UserWarning: A worker stopped while some jobs were given to the executor. This can be caused by a too short worker timeout or by a memory leak.\n",
      "  warnings.warn(\n"
     ]
    },
    {
     "name": "stdout",
     "output_type": "stream",
     "text": [
      "FPR is 0.5090179132380208\n",
      "FNR is 0.47183311194300204\n",
      "TPR is 0.528166888056998\n",
      "TNR is 0.4909820867619792\n",
      "empirical epsilon = 0.039474809159240246\n",
      "iteration is 6\n"
     ]
    },
    {
     "name": "stderr",
     "output_type": "stream",
     "text": [
      "c:\\ProgramData\\anaconda3\\Lib\\site-packages\\joblib\\externals\\loky\\process_executor.py:700: UserWarning: A worker stopped while some jobs were given to the executor. This can be caused by a too short worker timeout or by a memory leak.\n",
      "  warnings.warn(\n"
     ]
    },
    {
     "name": "stdout",
     "output_type": "stream",
     "text": [
      "FPR is 0.5090179132380208\n",
      "FNR is 0.47183311194300204\n",
      "TPR is 0.528166888056998\n",
      "TNR is 0.4909820867619792\n",
      "empirical epsilon = 0.039474809159240246\n",
      "iteration is 7\n"
     ]
    },
    {
     "name": "stderr",
     "output_type": "stream",
     "text": [
      "c:\\ProgramData\\anaconda3\\Lib\\site-packages\\joblib\\externals\\loky\\process_executor.py:700: UserWarning: A worker stopped while some jobs were given to the executor. This can be caused by a too short worker timeout or by a memory leak.\n",
      "  warnings.warn(\n"
     ]
    },
    {
     "name": "stdout",
     "output_type": "stream",
     "text": [
      "FPR is 0.5090179132380208\n",
      "FNR is 0.47183311194300204\n",
      "TPR is 0.528166888056998\n",
      "TNR is 0.4909820867619792\n",
      "empirical epsilon = 0.039474809159240246\n",
      "iteration is 8\n"
     ]
    },
    {
     "name": "stderr",
     "output_type": "stream",
     "text": [
      "c:\\ProgramData\\anaconda3\\Lib\\site-packages\\joblib\\externals\\loky\\process_executor.py:700: UserWarning: A worker stopped while some jobs were given to the executor. This can be caused by a too short worker timeout or by a memory leak.\n",
      "  warnings.warn(\n"
     ]
    },
    {
     "name": "stdout",
     "output_type": "stream",
     "text": [
      "FPR is 0.5090179132380208\n",
      "FNR is 0.47183311194300204\n",
      "TPR is 0.528166888056998\n",
      "TNR is 0.4909820867619792\n",
      "empirical epsilon = 0.039474809159240246\n",
      "iteration is 9\n",
      "FPR is 0.5090179132380208\n",
      "FNR is 0.47183311194300204\n",
      "TPR is 0.528166888056998\n",
      "TNR is 0.4909820867619792\n",
      "empirical epsilon = 0.039474809159240246\n",
      "iteration is 0\n",
      "FPR is 0.5000536324491641\n",
      "FNR is 0.48063337761139957\n",
      "TPR is 0.5193666223886004\n",
      "TNR is 0.4999463675508359\n",
      "empirical epsilon = 0.03909408311954457\n",
      "iteration is 1\n",
      "FPR is 0.5000536324491641\n",
      "FNR is 0.48063337761139957\n",
      "TPR is 0.5193666223886004\n",
      "TNR is 0.4999463675508359\n",
      "empirical epsilon = 0.03909408311954457\n",
      "iteration is 2\n"
     ]
    },
    {
     "name": "stderr",
     "output_type": "stream",
     "text": [
      "c:\\ProgramData\\anaconda3\\Lib\\site-packages\\joblib\\externals\\loky\\process_executor.py:700: UserWarning: A worker stopped while some jobs were given to the executor. This can be caused by a too short worker timeout or by a memory leak.\n",
      "  warnings.warn(\n"
     ]
    },
    {
     "name": "stdout",
     "output_type": "stream",
     "text": [
      "FPR is 0.5000536324491641\n",
      "FNR is 0.48063337761139957\n",
      "TPR is 0.5193666223886004\n",
      "TNR is 0.4999463675508359\n",
      "empirical epsilon = 0.03909408311954457\n",
      "iteration is 3\n",
      "FPR is 0.5000536324491641\n",
      "FNR is 0.48063337761139957\n",
      "TPR is 0.5193666223886004\n",
      "TNR is 0.4999463675508359\n",
      "empirical epsilon = 0.03909408311954457\n",
      "iteration is 4\n",
      "FPR is 0.5000536324491641\n",
      "FNR is 0.48063337761139957\n",
      "TPR is 0.5193666223886004\n",
      "TNR is 0.4999463675508359\n",
      "empirical epsilon = 0.03909408311954457\n",
      "iteration is 5\n",
      "FPR is 0.5000536324491641\n",
      "FNR is 0.48063337761139957\n",
      "TPR is 0.5193666223886004\n",
      "TNR is 0.4999463675508359\n",
      "empirical epsilon = 0.03909408311954457\n",
      "iteration is 6\n",
      "FPR is 0.5000536324491641\n",
      "FNR is 0.48063337761139957\n",
      "TPR is 0.5193666223886004\n",
      "TNR is 0.4999463675508359\n",
      "empirical epsilon = 0.03909408311954457\n",
      "iteration is 7\n"
     ]
    },
    {
     "name": "stderr",
     "output_type": "stream",
     "text": [
      "c:\\ProgramData\\anaconda3\\Lib\\site-packages\\joblib\\externals\\loky\\process_executor.py:700: UserWarning: A worker stopped while some jobs were given to the executor. This can be caused by a too short worker timeout or by a memory leak.\n",
      "  warnings.warn(\n"
     ]
    },
    {
     "name": "stdout",
     "output_type": "stream",
     "text": [
      "FPR is 0.5000536324491641\n",
      "FNR is 0.48063337761139957\n",
      "TPR is 0.5193666223886004\n",
      "TNR is 0.4999463675508359\n",
      "empirical epsilon = 0.03909408311954457\n",
      "iteration is 8\n"
     ]
    },
    {
     "name": "stderr",
     "output_type": "stream",
     "text": [
      "c:\\ProgramData\\anaconda3\\Lib\\site-packages\\joblib\\externals\\loky\\process_executor.py:700: UserWarning: A worker stopped while some jobs were given to the executor. This can be caused by a too short worker timeout or by a memory leak.\n",
      "  warnings.warn(\n"
     ]
    },
    {
     "name": "stdout",
     "output_type": "stream",
     "text": [
      "FPR is 0.5000536324491641\n",
      "FNR is 0.48063337761139957\n",
      "TPR is 0.5193666223886004\n",
      "TNR is 0.4999463675508359\n",
      "empirical epsilon = 0.03909408311954457\n",
      "iteration is 9\n"
     ]
    },
    {
     "name": "stderr",
     "output_type": "stream",
     "text": [
      "c:\\ProgramData\\anaconda3\\Lib\\site-packages\\joblib\\externals\\loky\\process_executor.py:700: UserWarning: A worker stopped while some jobs were given to the executor. This can be caused by a too short worker timeout or by a memory leak.\n",
      "  warnings.warn(\n"
     ]
    },
    {
     "name": "stdout",
     "output_type": "stream",
     "text": [
      "FPR is 0.5000536324491641\n",
      "FNR is 0.48063337761139957\n",
      "TPR is 0.5193666223886004\n",
      "TNR is 0.4999463675508359\n",
      "empirical epsilon = 0.03909408311954457\n",
      "iteration is 0\n",
      "FPR is 0.5013101641152944\n",
      "FNR is 0.4824145634585195\n",
      "TPR is 0.5175854365414805\n",
      "TNR is 0.4986898358847056\n",
      "empirical epsilon = 0.032877761704169305\n",
      "iteration is 1\n"
     ]
    },
    {
     "name": "stderr",
     "output_type": "stream",
     "text": [
      "c:\\ProgramData\\anaconda3\\Lib\\site-packages\\joblib\\externals\\loky\\process_executor.py:700: UserWarning: A worker stopped while some jobs were given to the executor. This can be caused by a too short worker timeout or by a memory leak.\n",
      "  warnings.warn(\n"
     ]
    },
    {
     "name": "stdout",
     "output_type": "stream",
     "text": [
      "FPR is 0.5013101641152944\n",
      "FNR is 0.4824145634585195\n",
      "TPR is 0.5175854365414805\n",
      "TNR is 0.4986898358847056\n",
      "empirical epsilon = 0.032877761704169305\n",
      "iteration is 2\n"
     ]
    },
    {
     "name": "stderr",
     "output_type": "stream",
     "text": [
      "c:\\ProgramData\\anaconda3\\Lib\\site-packages\\joblib\\externals\\loky\\process_executor.py:700: UserWarning: A worker stopped while some jobs were given to the executor. This can be caused by a too short worker timeout or by a memory leak.\n",
      "  warnings.warn(\n"
     ]
    },
    {
     "name": "stdout",
     "output_type": "stream",
     "text": [
      "FPR is 0.5013101641152944\n",
      "FNR is 0.4824145634585195\n",
      "TPR is 0.5175854365414805\n",
      "TNR is 0.4986898358847056\n",
      "empirical epsilon = 0.032877761704169305\n",
      "iteration is 3\n"
     ]
    },
    {
     "name": "stderr",
     "output_type": "stream",
     "text": [
      "c:\\ProgramData\\anaconda3\\Lib\\site-packages\\joblib\\externals\\loky\\process_executor.py:700: UserWarning: A worker stopped while some jobs were given to the executor. This can be caused by a too short worker timeout or by a memory leak.\n",
      "  warnings.warn(\n"
     ]
    },
    {
     "name": "stdout",
     "output_type": "stream",
     "text": [
      "FPR is 0.5013101641152944\n",
      "FNR is 0.4824145634585195\n",
      "TPR is 0.5175854365414805\n",
      "TNR is 0.4986898358847056\n",
      "empirical epsilon = 0.032877761704169305\n",
      "iteration is 4\n"
     ]
    },
    {
     "name": "stderr",
     "output_type": "stream",
     "text": [
      "c:\\ProgramData\\anaconda3\\Lib\\site-packages\\joblib\\externals\\loky\\process_executor.py:700: UserWarning: A worker stopped while some jobs were given to the executor. This can be caused by a too short worker timeout or by a memory leak.\n",
      "  warnings.warn(\n"
     ]
    },
    {
     "name": "stdout",
     "output_type": "stream",
     "text": [
      "FPR is 0.5013101641152944\n",
      "FNR is 0.4824145634585195\n",
      "TPR is 0.5175854365414805\n",
      "TNR is 0.4986898358847056\n",
      "empirical epsilon = 0.032877761704169305\n",
      "iteration is 5\n"
     ]
    },
    {
     "name": "stderr",
     "output_type": "stream",
     "text": [
      "c:\\ProgramData\\anaconda3\\Lib\\site-packages\\joblib\\externals\\loky\\process_executor.py:700: UserWarning: A worker stopped while some jobs were given to the executor. This can be caused by a too short worker timeout or by a memory leak.\n",
      "  warnings.warn(\n"
     ]
    },
    {
     "name": "stdout",
     "output_type": "stream",
     "text": [
      "FPR is 0.5013101641152944\n",
      "FNR is 0.4824145634585195\n",
      "TPR is 0.5175854365414805\n",
      "TNR is 0.4986898358847056\n",
      "empirical epsilon = 0.032877761704169305\n",
      "iteration is 6\n"
     ]
    },
    {
     "name": "stderr",
     "output_type": "stream",
     "text": [
      "c:\\ProgramData\\anaconda3\\Lib\\site-packages\\joblib\\externals\\loky\\process_executor.py:700: UserWarning: A worker stopped while some jobs were given to the executor. This can be caused by a too short worker timeout or by a memory leak.\n",
      "  warnings.warn(\n"
     ]
    },
    {
     "name": "stdout",
     "output_type": "stream",
     "text": [
      "FPR is 0.5013101641152944\n",
      "FNR is 0.4824145634585195\n",
      "TPR is 0.5175854365414805\n",
      "TNR is 0.4986898358847056\n",
      "empirical epsilon = 0.032877761704169305\n",
      "iteration is 7\n",
      "FPR is 0.5013101641152944\n",
      "FNR is 0.4824145634585195\n",
      "TPR is 0.5175854365414805\n",
      "TNR is 0.4986898358847056\n",
      "empirical epsilon = 0.032877761704169305\n",
      "iteration is 8\n"
     ]
    },
    {
     "name": "stderr",
     "output_type": "stream",
     "text": [
      "c:\\ProgramData\\anaconda3\\Lib\\site-packages\\joblib\\externals\\loky\\process_executor.py:700: UserWarning: A worker stopped while some jobs were given to the executor. This can be caused by a too short worker timeout or by a memory leak.\n",
      "  warnings.warn(\n"
     ]
    },
    {
     "name": "stdout",
     "output_type": "stream",
     "text": [
      "FPR is 0.5013101641152944\n",
      "FNR is 0.4824145634585195\n",
      "TPR is 0.5175854365414805\n",
      "TNR is 0.4986898358847056\n",
      "empirical epsilon = 0.032877761704169305\n",
      "iteration is 9\n"
     ]
    },
    {
     "name": "stderr",
     "output_type": "stream",
     "text": [
      "c:\\ProgramData\\anaconda3\\Lib\\site-packages\\joblib\\externals\\loky\\process_executor.py:700: UserWarning: A worker stopped while some jobs were given to the executor. This can be caused by a too short worker timeout or by a memory leak.\n",
      "  warnings.warn(\n"
     ]
    },
    {
     "name": "stdout",
     "output_type": "stream",
     "text": [
      "FPR is 0.5013101641152944\n",
      "FNR is 0.4824145634585195\n",
      "TPR is 0.5175854365414805\n",
      "TNR is 0.4986898358847056\n",
      "empirical epsilon = 0.032877761704169305\n",
      "iteration is 0\n",
      "FPR is 0.5049418471015492\n",
      "FNR is 0.4750332085496921\n",
      "TPR is 0.5249667914503079\n",
      "TNR is 0.4950581528984508\n",
      "empirical epsilon = 0.04098556591096332\n",
      "iteration is 1\n",
      "FPR is 0.5049418471015492\n",
      "FNR is 0.4750332085496921\n",
      "TPR is 0.5249667914503079\n",
      "TNR is 0.4950581528984508\n",
      "empirical epsilon = 0.04098556591096332\n",
      "iteration is 2\n",
      "FPR is 0.5049418471015492\n",
      "FNR is 0.4750332085496921\n",
      "TPR is 0.5249667914503079\n",
      "TNR is 0.4950581528984508\n",
      "empirical epsilon = 0.04098556591096332\n",
      "iteration is 3\n",
      "FPR is 0.5049418471015492\n",
      "FNR is 0.4750332085496921\n",
      "TPR is 0.5249667914503079\n",
      "TNR is 0.4950581528984508\n",
      "empirical epsilon = 0.04098556591096332\n",
      "iteration is 4\n",
      "FPR is 0.5049418471015492\n",
      "FNR is 0.4750332085496921\n",
      "TPR is 0.5249667914503079\n",
      "TNR is 0.4950581528984508\n",
      "empirical epsilon = 0.04098556591096332\n",
      "iteration is 5\n"
     ]
    },
    {
     "name": "stderr",
     "output_type": "stream",
     "text": [
      "c:\\ProgramData\\anaconda3\\Lib\\site-packages\\joblib\\externals\\loky\\process_executor.py:700: UserWarning: A worker stopped while some jobs were given to the executor. This can be caused by a too short worker timeout or by a memory leak.\n",
      "  warnings.warn(\n"
     ]
    },
    {
     "name": "stdout",
     "output_type": "stream",
     "text": [
      "FPR is 0.5049418471015492\n",
      "FNR is 0.4750332085496921\n",
      "TPR is 0.5249667914503079\n",
      "TNR is 0.4950581528984508\n",
      "empirical epsilon = 0.04098556591096332\n",
      "iteration is 6\n"
     ]
    },
    {
     "name": "stderr",
     "output_type": "stream",
     "text": [
      "c:\\ProgramData\\anaconda3\\Lib\\site-packages\\joblib\\externals\\loky\\process_executor.py:700: UserWarning: A worker stopped while some jobs were given to the executor. This can be caused by a too short worker timeout or by a memory leak.\n",
      "  warnings.warn(\n"
     ]
    },
    {
     "name": "stdout",
     "output_type": "stream",
     "text": [
      "FPR is 0.5049418471015492\n",
      "FNR is 0.4750332085496921\n",
      "TPR is 0.5249667914503079\n",
      "TNR is 0.4950581528984508\n",
      "empirical epsilon = 0.04098556591096332\n",
      "iteration is 7\n"
     ]
    },
    {
     "name": "stderr",
     "output_type": "stream",
     "text": [
      "c:\\ProgramData\\anaconda3\\Lib\\site-packages\\joblib\\externals\\loky\\process_executor.py:700: UserWarning: A worker stopped while some jobs were given to the executor. This can be caused by a too short worker timeout or by a memory leak.\n",
      "  warnings.warn(\n"
     ]
    },
    {
     "name": "stdout",
     "output_type": "stream",
     "text": [
      "FPR is 0.5049418471015492\n",
      "FNR is 0.4750332085496921\n",
      "TPR is 0.5249667914503079\n",
      "TNR is 0.4950581528984508\n",
      "empirical epsilon = 0.04098556591096332\n",
      "iteration is 8\n"
     ]
    },
    {
     "name": "stderr",
     "output_type": "stream",
     "text": [
      "c:\\ProgramData\\anaconda3\\Lib\\site-packages\\joblib\\externals\\loky\\process_executor.py:700: UserWarning: A worker stopped while some jobs were given to the executor. This can be caused by a too short worker timeout or by a memory leak.\n",
      "  warnings.warn(\n"
     ]
    },
    {
     "name": "stdout",
     "output_type": "stream",
     "text": [
      "FPR is 0.5049418471015492\n",
      "FNR is 0.4750332085496921\n",
      "TPR is 0.5249667914503079\n",
      "TNR is 0.4950581528984508\n",
      "empirical epsilon = 0.04098556591096332\n",
      "iteration is 9\n"
     ]
    },
    {
     "name": "stderr",
     "output_type": "stream",
     "text": [
      "c:\\ProgramData\\anaconda3\\Lib\\site-packages\\joblib\\externals\\loky\\process_executor.py:700: UserWarning: A worker stopped while some jobs were given to the executor. This can be caused by a too short worker timeout or by a memory leak.\n",
      "  warnings.warn(\n"
     ]
    },
    {
     "name": "stdout",
     "output_type": "stream",
     "text": [
      "FPR is 0.5049418471015492\n",
      "FNR is 0.4750332085496921\n",
      "TPR is 0.5249667914503079\n",
      "TNR is 0.4950581528984508\n",
      "empirical epsilon = 0.04098556591096332\n",
      "iteration is 0\n"
     ]
    },
    {
     "name": "stderr",
     "output_type": "stream",
     "text": [
      "c:\\ProgramData\\anaconda3\\Lib\\site-packages\\joblib\\externals\\loky\\process_executor.py:700: UserWarning: A worker stopped while some jobs were given to the executor. This can be caused by a too short worker timeout or by a memory leak.\n",
      "  warnings.warn(\n"
     ]
    },
    {
     "name": "stdout",
     "output_type": "stream",
     "text": [
      "FPR is 0.5010343400910219\n",
      "FNR is 0.4792597512377732\n",
      "TPR is 0.5207402487622268\n",
      "TNR is 0.4989656599089781\n",
      "empirical epsilon = 0.03999197948042486\n",
      "iteration is 1\n"
     ]
    },
    {
     "name": "stderr",
     "output_type": "stream",
     "text": [
      "c:\\ProgramData\\anaconda3\\Lib\\site-packages\\joblib\\externals\\loky\\process_executor.py:700: UserWarning: A worker stopped while some jobs were given to the executor. This can be caused by a too short worker timeout or by a memory leak.\n",
      "  warnings.warn(\n"
     ]
    },
    {
     "name": "stdout",
     "output_type": "stream",
     "text": [
      "FPR is 0.5010343400910219\n",
      "FNR is 0.4792597512377732\n",
      "TPR is 0.5207402487622268\n",
      "TNR is 0.4989656599089781\n",
      "empirical epsilon = 0.03999197948042486\n",
      "iteration is 2\n"
     ]
    },
    {
     "name": "stderr",
     "output_type": "stream",
     "text": [
      "c:\\ProgramData\\anaconda3\\Lib\\site-packages\\joblib\\externals\\loky\\process_executor.py:700: UserWarning: A worker stopped while some jobs were given to the executor. This can be caused by a too short worker timeout or by a memory leak.\n",
      "  warnings.warn(\n"
     ]
    },
    {
     "name": "stdout",
     "output_type": "stream",
     "text": [
      "FPR is 0.5010343400910219\n",
      "FNR is 0.4792597512377732\n",
      "TPR is 0.5207402487622268\n",
      "TNR is 0.4989656599089781\n",
      "empirical epsilon = 0.03999197948042486\n",
      "iteration is 3\n"
     ]
    },
    {
     "name": "stderr",
     "output_type": "stream",
     "text": [
      "c:\\ProgramData\\anaconda3\\Lib\\site-packages\\joblib\\externals\\loky\\process_executor.py:700: UserWarning: A worker stopped while some jobs were given to the executor. This can be caused by a too short worker timeout or by a memory leak.\n",
      "  warnings.warn(\n"
     ]
    },
    {
     "name": "stdout",
     "output_type": "stream",
     "text": [
      "FPR is 0.5010343400910219\n",
      "FNR is 0.4792597512377732\n",
      "TPR is 0.5207402487622268\n",
      "TNR is 0.4989656599089781\n",
      "empirical epsilon = 0.03999197948042486\n",
      "iteration is 4\n"
     ]
    },
    {
     "name": "stderr",
     "output_type": "stream",
     "text": [
      "c:\\ProgramData\\anaconda3\\Lib\\site-packages\\joblib\\externals\\loky\\process_executor.py:700: UserWarning: A worker stopped while some jobs were given to the executor. This can be caused by a too short worker timeout or by a memory leak.\n",
      "  warnings.warn(\n"
     ]
    },
    {
     "name": "stdout",
     "output_type": "stream",
     "text": [
      "FPR is 0.5010343400910219\n",
      "FNR is 0.4792597512377732\n",
      "TPR is 0.5207402487622268\n",
      "TNR is 0.4989656599089781\n",
      "empirical epsilon = 0.03999197948042486\n",
      "iteration is 5\n"
     ]
    },
    {
     "name": "stderr",
     "output_type": "stream",
     "text": [
      "c:\\ProgramData\\anaconda3\\Lib\\site-packages\\joblib\\externals\\loky\\process_executor.py:700: UserWarning: A worker stopped while some jobs were given to the executor. This can be caused by a too short worker timeout or by a memory leak.\n",
      "  warnings.warn(\n"
     ]
    },
    {
     "name": "stdout",
     "output_type": "stream",
     "text": [
      "FPR is 0.5010343400910219\n",
      "FNR is 0.4792597512377732\n",
      "TPR is 0.5207402487622268\n",
      "TNR is 0.4989656599089781\n",
      "empirical epsilon = 0.03999197948042486\n",
      "iteration is 6\n"
     ]
    },
    {
     "name": "stderr",
     "output_type": "stream",
     "text": [
      "c:\\ProgramData\\anaconda3\\Lib\\site-packages\\joblib\\externals\\loky\\process_executor.py:700: UserWarning: A worker stopped while some jobs were given to the executor. This can be caused by a too short worker timeout or by a memory leak.\n",
      "  warnings.warn(\n"
     ]
    },
    {
     "name": "stdout",
     "output_type": "stream",
     "text": [
      "FPR is 0.5010343400910219\n",
      "FNR is 0.4792597512377732\n",
      "TPR is 0.5207402487622268\n",
      "TNR is 0.4989656599089781\n",
      "empirical epsilon = 0.03999197948042486\n",
      "iteration is 7\n"
     ]
    },
    {
     "name": "stderr",
     "output_type": "stream",
     "text": [
      "c:\\ProgramData\\anaconda3\\Lib\\site-packages\\joblib\\externals\\loky\\process_executor.py:700: UserWarning: A worker stopped while some jobs were given to the executor. This can be caused by a too short worker timeout or by a memory leak.\n",
      "  warnings.warn(\n"
     ]
    },
    {
     "name": "stdout",
     "output_type": "stream",
     "text": [
      "FPR is 0.5010343400910219\n",
      "FNR is 0.4792597512377732\n",
      "TPR is 0.5207402487622268\n",
      "TNR is 0.4989656599089781\n",
      "empirical epsilon = 0.03999197948042486\n",
      "iteration is 8\n"
     ]
    },
    {
     "name": "stderr",
     "output_type": "stream",
     "text": [
      "c:\\ProgramData\\anaconda3\\Lib\\site-packages\\joblib\\externals\\loky\\process_executor.py:700: UserWarning: A worker stopped while some jobs were given to the executor. This can be caused by a too short worker timeout or by a memory leak.\n",
      "  warnings.warn(\n"
     ]
    },
    {
     "name": "stdout",
     "output_type": "stream",
     "text": [
      "FPR is 0.5010343400910219\n",
      "FNR is 0.4792597512377732\n",
      "TPR is 0.5207402487622268\n",
      "TNR is 0.4989656599089781\n",
      "empirical epsilon = 0.03999197948042486\n",
      "iteration is 9\n"
     ]
    },
    {
     "name": "stderr",
     "output_type": "stream",
     "text": [
      "c:\\ProgramData\\anaconda3\\Lib\\site-packages\\joblib\\externals\\loky\\process_executor.py:700: UserWarning: A worker stopped while some jobs were given to the executor. This can be caused by a too short worker timeout or by a memory leak.\n",
      "  warnings.warn(\n"
     ]
    },
    {
     "name": "stdout",
     "output_type": "stream",
     "text": [
      "FPR is 0.5010343400910219\n",
      "FNR is 0.4792597512377732\n",
      "TPR is 0.5207402487622268\n",
      "TNR is 0.4989656599089781\n",
      "empirical epsilon = 0.03999197948042486\n",
      "iteration is 0\n"
     ]
    },
    {
     "name": "stderr",
     "output_type": "stream",
     "text": [
      "c:\\ProgramData\\anaconda3\\Lib\\site-packages\\joblib\\externals\\loky\\process_executor.py:700: UserWarning: A worker stopped while some jobs were given to the executor. This can be caused by a too short worker timeout or by a memory leak.\n",
      "  warnings.warn(\n"
     ]
    },
    {
     "name": "stdout",
     "output_type": "stream",
     "text": [
      "FPR is 0.5028271962487932\n",
      "FNR is 0.482716459364811\n",
      "TPR is 0.517283540635189\n",
      "TNR is 0.49717280375120676\n",
      "empirical epsilon = 0.029204559954372846\n",
      "iteration is 1\n"
     ]
    },
    {
     "name": "stderr",
     "output_type": "stream",
     "text": [
      "c:\\ProgramData\\anaconda3\\Lib\\site-packages\\joblib\\externals\\loky\\process_executor.py:700: UserWarning: A worker stopped while some jobs were given to the executor. This can be caused by a too short worker timeout or by a memory leak.\n",
      "  warnings.warn(\n"
     ]
    },
    {
     "name": "stdout",
     "output_type": "stream",
     "text": [
      "FPR is 0.5028271962487932\n",
      "FNR is 0.482716459364811\n",
      "TPR is 0.517283540635189\n",
      "TNR is 0.49717280375120676\n",
      "empirical epsilon = 0.029204559954372846\n",
      "iteration is 2\n"
     ]
    },
    {
     "name": "stderr",
     "output_type": "stream",
     "text": [
      "c:\\ProgramData\\anaconda3\\Lib\\site-packages\\joblib\\externals\\loky\\process_executor.py:700: UserWarning: A worker stopped while some jobs were given to the executor. This can be caused by a too short worker timeout or by a memory leak.\n",
      "  warnings.warn(\n"
     ]
    },
    {
     "name": "stdout",
     "output_type": "stream",
     "text": [
      "FPR is 0.5028271962487932\n",
      "FNR is 0.482716459364811\n",
      "TPR is 0.517283540635189\n",
      "TNR is 0.49717280375120676\n",
      "empirical epsilon = 0.029204559954372846\n",
      "iteration is 3\n"
     ]
    },
    {
     "name": "stderr",
     "output_type": "stream",
     "text": [
      "c:\\ProgramData\\anaconda3\\Lib\\site-packages\\joblib\\externals\\loky\\process_executor.py:700: UserWarning: A worker stopped while some jobs were given to the executor. This can be caused by a too short worker timeout or by a memory leak.\n",
      "  warnings.warn(\n"
     ]
    },
    {
     "name": "stdout",
     "output_type": "stream",
     "text": [
      "FPR is 0.5028271962487932\n",
      "FNR is 0.482716459364811\n",
      "TPR is 0.517283540635189\n",
      "TNR is 0.49717280375120676\n",
      "empirical epsilon = 0.029204559954372846\n",
      "iteration is 4\n"
     ]
    },
    {
     "name": "stderr",
     "output_type": "stream",
     "text": [
      "c:\\ProgramData\\anaconda3\\Lib\\site-packages\\joblib\\externals\\loky\\process_executor.py:700: UserWarning: A worker stopped while some jobs were given to the executor. This can be caused by a too short worker timeout or by a memory leak.\n",
      "  warnings.warn(\n"
     ]
    },
    {
     "name": "stdout",
     "output_type": "stream",
     "text": [
      "FPR is 0.5028271962487932\n",
      "FNR is 0.482716459364811\n",
      "TPR is 0.517283540635189\n",
      "TNR is 0.49717280375120676\n",
      "empirical epsilon = 0.029204559954372846\n",
      "iteration is 5\n"
     ]
    },
    {
     "name": "stderr",
     "output_type": "stream",
     "text": [
      "c:\\ProgramData\\anaconda3\\Lib\\site-packages\\joblib\\externals\\loky\\process_executor.py:700: UserWarning: A worker stopped while some jobs were given to the executor. This can be caused by a too short worker timeout or by a memory leak.\n",
      "  warnings.warn(\n"
     ]
    },
    {
     "name": "stdout",
     "output_type": "stream",
     "text": [
      "FPR is 0.5028271962487932\n",
      "FNR is 0.482716459364811\n",
      "TPR is 0.517283540635189\n",
      "TNR is 0.49717280375120676\n",
      "empirical epsilon = 0.029204559954372846\n",
      "iteration is 6\n"
     ]
    },
    {
     "name": "stderr",
     "output_type": "stream",
     "text": [
      "c:\\ProgramData\\anaconda3\\Lib\\site-packages\\joblib\\externals\\loky\\process_executor.py:700: UserWarning: A worker stopped while some jobs were given to the executor. This can be caused by a too short worker timeout or by a memory leak.\n",
      "  warnings.warn(\n"
     ]
    },
    {
     "name": "stdout",
     "output_type": "stream",
     "text": [
      "FPR is 0.5028271962487932\n",
      "FNR is 0.482716459364811\n",
      "TPR is 0.517283540635189\n",
      "TNR is 0.49717280375120676\n",
      "empirical epsilon = 0.029204559954372846\n",
      "iteration is 7\n"
     ]
    },
    {
     "name": "stderr",
     "output_type": "stream",
     "text": [
      "c:\\ProgramData\\anaconda3\\Lib\\site-packages\\joblib\\externals\\loky\\process_executor.py:700: UserWarning: A worker stopped while some jobs were given to the executor. This can be caused by a too short worker timeout or by a memory leak.\n",
      "  warnings.warn(\n"
     ]
    },
    {
     "name": "stdout",
     "output_type": "stream",
     "text": [
      "FPR is 0.5028271962487932\n",
      "FNR is 0.482716459364811\n",
      "TPR is 0.517283540635189\n",
      "TNR is 0.49717280375120676\n",
      "empirical epsilon = 0.029204559954372846\n",
      "iteration is 8\n"
     ]
    },
    {
     "name": "stderr",
     "output_type": "stream",
     "text": [
      "c:\\ProgramData\\anaconda3\\Lib\\site-packages\\joblib\\externals\\loky\\process_executor.py:700: UserWarning: A worker stopped while some jobs were given to the executor. This can be caused by a too short worker timeout or by a memory leak.\n",
      "  warnings.warn(\n"
     ]
    },
    {
     "name": "stdout",
     "output_type": "stream",
     "text": [
      "FPR is 0.5028271962487932\n",
      "FNR is 0.482716459364811\n",
      "TPR is 0.517283540635189\n",
      "TNR is 0.49717280375120676\n",
      "empirical epsilon = 0.029204559954372846\n",
      "iteration is 9\n"
     ]
    },
    {
     "name": "stderr",
     "output_type": "stream",
     "text": [
      "c:\\ProgramData\\anaconda3\\Lib\\site-packages\\joblib\\externals\\loky\\process_executor.py:700: UserWarning: A worker stopped while some jobs were given to the executor. This can be caused by a too short worker timeout or by a memory leak.\n",
      "  warnings.warn(\n"
     ]
    },
    {
     "name": "stdout",
     "output_type": "stream",
     "text": [
      "FPR is 0.5028271962487932\n",
      "FNR is 0.482716459364811\n",
      "TPR is 0.517283540635189\n",
      "TNR is 0.49717280375120676\n",
      "empirical epsilon = 0.029204559954372846\n",
      "iteration is 0\n"
     ]
    },
    {
     "name": "stderr",
     "output_type": "stream",
     "text": [
      "c:\\ProgramData\\anaconda3\\Lib\\site-packages\\joblib\\externals\\loky\\process_executor.py:700: UserWarning: A worker stopped while some jobs were given to the executor. This can be caused by a too short worker timeout or by a memory leak.\n",
      "  warnings.warn(\n"
     ]
    },
    {
     "name": "stdout",
     "output_type": "stream",
     "text": [
      "FPR is 0.5270537397140624\n",
      "FNR is 0.459319526627219\n",
      "TPR is 0.540680473372781\n",
      "TNR is 0.47294626028593756\n",
      "empirical epsilon = 0.028916447036274332\n",
      "iteration is 1\n"
     ]
    },
    {
     "name": "stderr",
     "output_type": "stream",
     "text": [
      "c:\\ProgramData\\anaconda3\\Lib\\site-packages\\joblib\\externals\\loky\\process_executor.py:700: UserWarning: A worker stopped while some jobs were given to the executor. This can be caused by a too short worker timeout or by a memory leak.\n",
      "  warnings.warn(\n"
     ]
    },
    {
     "name": "stdout",
     "output_type": "stream",
     "text": [
      "FPR is 0.5270537397140624\n",
      "FNR is 0.459319526627219\n",
      "TPR is 0.540680473372781\n",
      "TNR is 0.47294626028593756\n",
      "empirical epsilon = 0.028916447036274332\n",
      "iteration is 2\n"
     ]
    },
    {
     "name": "stderr",
     "output_type": "stream",
     "text": [
      "c:\\ProgramData\\anaconda3\\Lib\\site-packages\\joblib\\externals\\loky\\process_executor.py:700: UserWarning: A worker stopped while some jobs were given to the executor. This can be caused by a too short worker timeout or by a memory leak.\n",
      "  warnings.warn(\n"
     ]
    },
    {
     "name": "stdout",
     "output_type": "stream",
     "text": [
      "FPR is 0.5270537397140624\n",
      "FNR is 0.459319526627219\n",
      "TPR is 0.540680473372781\n",
      "TNR is 0.47294626028593756\n",
      "empirical epsilon = 0.028916447036274332\n",
      "iteration is 3\n"
     ]
    },
    {
     "name": "stderr",
     "output_type": "stream",
     "text": [
      "c:\\ProgramData\\anaconda3\\Lib\\site-packages\\joblib\\externals\\loky\\process_executor.py:700: UserWarning: A worker stopped while some jobs were given to the executor. This can be caused by a too short worker timeout or by a memory leak.\n",
      "  warnings.warn(\n"
     ]
    },
    {
     "name": "stdout",
     "output_type": "stream",
     "text": [
      "FPR is 0.5270537397140624\n",
      "FNR is 0.459319526627219\n",
      "TPR is 0.540680473372781\n",
      "TNR is 0.47294626028593756\n",
      "empirical epsilon = 0.028916447036274332\n",
      "iteration is 4\n"
     ]
    },
    {
     "name": "stderr",
     "output_type": "stream",
     "text": [
      "c:\\ProgramData\\anaconda3\\Lib\\site-packages\\joblib\\externals\\loky\\process_executor.py:700: UserWarning: A worker stopped while some jobs were given to the executor. This can be caused by a too short worker timeout or by a memory leak.\n",
      "  warnings.warn(\n"
     ]
    },
    {
     "name": "stdout",
     "output_type": "stream",
     "text": [
      "FPR is 0.5270537397140624\n",
      "FNR is 0.459319526627219\n",
      "TPR is 0.540680473372781\n",
      "TNR is 0.47294626028593756\n",
      "empirical epsilon = 0.028916447036274332\n",
      "iteration is 5\n"
     ]
    },
    {
     "name": "stderr",
     "output_type": "stream",
     "text": [
      "c:\\ProgramData\\anaconda3\\Lib\\site-packages\\joblib\\externals\\loky\\process_executor.py:700: UserWarning: A worker stopped while some jobs were given to the executor. This can be caused by a too short worker timeout or by a memory leak.\n",
      "  warnings.warn(\n"
     ]
    },
    {
     "name": "stdout",
     "output_type": "stream",
     "text": [
      "FPR is 0.5270537397140624\n",
      "FNR is 0.459319526627219\n",
      "TPR is 0.540680473372781\n",
      "TNR is 0.47294626028593756\n",
      "empirical epsilon = 0.028916447036274332\n",
      "iteration is 6\n"
     ]
    },
    {
     "name": "stderr",
     "output_type": "stream",
     "text": [
      "c:\\ProgramData\\anaconda3\\Lib\\site-packages\\joblib\\externals\\loky\\process_executor.py:700: UserWarning: A worker stopped while some jobs were given to the executor. This can be caused by a too short worker timeout or by a memory leak.\n",
      "  warnings.warn(\n"
     ]
    },
    {
     "name": "stdout",
     "output_type": "stream",
     "text": [
      "FPR is 0.5270537397140624\n",
      "FNR is 0.459319526627219\n",
      "TPR is 0.540680473372781\n",
      "TNR is 0.47294626028593756\n",
      "empirical epsilon = 0.028916447036274332\n",
      "iteration is 7\n"
     ]
    },
    {
     "name": "stderr",
     "output_type": "stream",
     "text": [
      "c:\\ProgramData\\anaconda3\\Lib\\site-packages\\joblib\\externals\\loky\\process_executor.py:700: UserWarning: A worker stopped while some jobs were given to the executor. This can be caused by a too short worker timeout or by a memory leak.\n",
      "  warnings.warn(\n"
     ]
    },
    {
     "name": "stdout",
     "output_type": "stream",
     "text": [
      "FPR is 0.5270537397140624\n",
      "FNR is 0.459319526627219\n",
      "TPR is 0.540680473372781\n",
      "TNR is 0.47294626028593756\n",
      "empirical epsilon = 0.028916447036274332\n",
      "iteration is 8\n"
     ]
    },
    {
     "name": "stderr",
     "output_type": "stream",
     "text": [
      "c:\\ProgramData\\anaconda3\\Lib\\site-packages\\joblib\\externals\\loky\\process_executor.py:700: UserWarning: A worker stopped while some jobs were given to the executor. This can be caused by a too short worker timeout or by a memory leak.\n",
      "  warnings.warn(\n"
     ]
    },
    {
     "name": "stdout",
     "output_type": "stream",
     "text": [
      "FPR is 0.5270537397140624\n",
      "FNR is 0.459319526627219\n",
      "TPR is 0.540680473372781\n",
      "TNR is 0.47294626028593756\n",
      "empirical epsilon = 0.028916447036274332\n",
      "iteration is 9\n"
     ]
    },
    {
     "name": "stderr",
     "output_type": "stream",
     "text": [
      "c:\\ProgramData\\anaconda3\\Lib\\site-packages\\joblib\\externals\\loky\\process_executor.py:700: UserWarning: A worker stopped while some jobs were given to the executor. This can be caused by a too short worker timeout or by a memory leak.\n",
      "  warnings.warn(\n"
     ]
    },
    {
     "name": "stdout",
     "output_type": "stream",
     "text": [
      "FPR is 0.5270537397140624\n",
      "FNR is 0.459319526627219\n",
      "TPR is 0.540680473372781\n",
      "TNR is 0.47294626028593756\n",
      "empirical epsilon = 0.028916447036274332\n",
      "iteration is 0\n"
     ]
    },
    {
     "name": "stderr",
     "output_type": "stream",
     "text": [
      "c:\\ProgramData\\anaconda3\\Lib\\site-packages\\joblib\\externals\\loky\\process_executor.py:700: UserWarning: A worker stopped while some jobs were given to the executor. This can be caused by a too short worker timeout or by a memory leak.\n",
      "  warnings.warn(\n"
     ]
    },
    {
     "name": "stdout",
     "output_type": "stream",
     "text": [
      "FPR is 0.498904365681362\n",
      "FNR is 0.4818711508271948\n",
      "TPR is 0.5181288491728052\n",
      "TNR is 0.501095634318638\n",
      "empirical epsilon = 0.0388189321550778\n",
      "iteration is 1\n"
     ]
    },
    {
     "name": "stderr",
     "output_type": "stream",
     "text": [
      "c:\\ProgramData\\anaconda3\\Lib\\site-packages\\joblib\\externals\\loky\\process_executor.py:700: UserWarning: A worker stopped while some jobs were given to the executor. This can be caused by a too short worker timeout or by a memory leak.\n",
      "  warnings.warn(\n"
     ]
    },
    {
     "name": "stdout",
     "output_type": "stream",
     "text": [
      "FPR is 0.498904365681362\n",
      "FNR is 0.4818711508271948\n",
      "TPR is 0.5181288491728052\n",
      "TNR is 0.501095634318638\n",
      "empirical epsilon = 0.0388189321550778\n",
      "iteration is 2\n"
     ]
    },
    {
     "name": "stderr",
     "output_type": "stream",
     "text": [
      "c:\\ProgramData\\anaconda3\\Lib\\site-packages\\joblib\\externals\\loky\\process_executor.py:700: UserWarning: A worker stopped while some jobs were given to the executor. This can be caused by a too short worker timeout or by a memory leak.\n",
      "  warnings.warn(\n"
     ]
    },
    {
     "name": "stdout",
     "output_type": "stream",
     "text": [
      "FPR is 0.498904365681362\n",
      "FNR is 0.4818711508271948\n",
      "TPR is 0.5181288491728052\n",
      "TNR is 0.501095634318638\n",
      "empirical epsilon = 0.0388189321550778\n",
      "iteration is 3\n"
     ]
    },
    {
     "name": "stderr",
     "output_type": "stream",
     "text": [
      "c:\\ProgramData\\anaconda3\\Lib\\site-packages\\joblib\\externals\\loky\\process_executor.py:700: UserWarning: A worker stopped while some jobs were given to the executor. This can be caused by a too short worker timeout or by a memory leak.\n",
      "  warnings.warn(\n"
     ]
    },
    {
     "name": "stdout",
     "output_type": "stream",
     "text": [
      "FPR is 0.498904365681362\n",
      "FNR is 0.4818711508271948\n",
      "TPR is 0.5181288491728052\n",
      "TNR is 0.501095634318638\n",
      "empirical epsilon = 0.0388189321550778\n",
      "iteration is 4\n"
     ]
    },
    {
     "name": "stderr",
     "output_type": "stream",
     "text": [
      "c:\\ProgramData\\anaconda3\\Lib\\site-packages\\joblib\\externals\\loky\\process_executor.py:700: UserWarning: A worker stopped while some jobs were given to the executor. This can be caused by a too short worker timeout or by a memory leak.\n",
      "  warnings.warn(\n"
     ]
    },
    {
     "name": "stdout",
     "output_type": "stream",
     "text": [
      "FPR is 0.498904365681362\n",
      "FNR is 0.4818711508271948\n",
      "TPR is 0.5181288491728052\n",
      "TNR is 0.501095634318638\n",
      "empirical epsilon = 0.0388189321550778\n",
      "iteration is 5\n"
     ]
    },
    {
     "name": "stderr",
     "output_type": "stream",
     "text": [
      "c:\\ProgramData\\anaconda3\\Lib\\site-packages\\joblib\\externals\\loky\\process_executor.py:700: UserWarning: A worker stopped while some jobs were given to the executor. This can be caused by a too short worker timeout or by a memory leak.\n",
      "  warnings.warn(\n"
     ]
    },
    {
     "name": "stdout",
     "output_type": "stream",
     "text": [
      "FPR is 0.498904365681362\n",
      "FNR is 0.4818711508271948\n",
      "TPR is 0.5181288491728052\n",
      "TNR is 0.501095634318638\n",
      "empirical epsilon = 0.0388189321550778\n",
      "iteration is 6\n"
     ]
    },
    {
     "name": "stderr",
     "output_type": "stream",
     "text": [
      "c:\\ProgramData\\anaconda3\\Lib\\site-packages\\joblib\\externals\\loky\\process_executor.py:700: UserWarning: A worker stopped while some jobs were given to the executor. This can be caused by a too short worker timeout or by a memory leak.\n",
      "  warnings.warn(\n"
     ]
    },
    {
     "name": "stdout",
     "output_type": "stream",
     "text": [
      "FPR is 0.498904365681362\n",
      "FNR is 0.4818711508271948\n",
      "TPR is 0.5181288491728052\n",
      "TNR is 0.501095634318638\n",
      "empirical epsilon = 0.0388189321550778\n",
      "iteration is 7\n"
     ]
    },
    {
     "name": "stderr",
     "output_type": "stream",
     "text": [
      "c:\\ProgramData\\anaconda3\\Lib\\site-packages\\joblib\\externals\\loky\\process_executor.py:700: UserWarning: A worker stopped while some jobs were given to the executor. This can be caused by a too short worker timeout or by a memory leak.\n",
      "  warnings.warn(\n"
     ]
    },
    {
     "name": "stdout",
     "output_type": "stream",
     "text": [
      "FPR is 0.498904365681362\n",
      "FNR is 0.4818711508271948\n",
      "TPR is 0.5181288491728052\n",
      "TNR is 0.501095634318638\n",
      "empirical epsilon = 0.0388189321550778\n",
      "iteration is 8\n"
     ]
    },
    {
     "name": "stderr",
     "output_type": "stream",
     "text": [
      "c:\\ProgramData\\anaconda3\\Lib\\site-packages\\joblib\\externals\\loky\\process_executor.py:700: UserWarning: A worker stopped while some jobs were given to the executor. This can be caused by a too short worker timeout or by a memory leak.\n",
      "  warnings.warn(\n"
     ]
    },
    {
     "name": "stdout",
     "output_type": "stream",
     "text": [
      "FPR is 0.498904365681362\n",
      "FNR is 0.4818711508271948\n",
      "TPR is 0.5181288491728052\n",
      "TNR is 0.501095634318638\n",
      "empirical epsilon = 0.0388189321550778\n",
      "iteration is 9\n"
     ]
    },
    {
     "name": "stderr",
     "output_type": "stream",
     "text": [
      "c:\\ProgramData\\anaconda3\\Lib\\site-packages\\joblib\\externals\\loky\\process_executor.py:700: UserWarning: A worker stopped while some jobs were given to the executor. This can be caused by a too short worker timeout or by a memory leak.\n",
      "  warnings.warn(\n"
     ]
    },
    {
     "name": "stdout",
     "output_type": "stream",
     "text": [
      "FPR is 0.498904365681362\n",
      "FNR is 0.4818711508271948\n",
      "TPR is 0.5181288491728052\n",
      "TNR is 0.501095634318638\n",
      "empirical epsilon = 0.0388189321550778\n",
      "iteration is 0\n"
     ]
    },
    {
     "name": "stderr",
     "output_type": "stream",
     "text": [
      "c:\\ProgramData\\anaconda3\\Lib\\site-packages\\joblib\\externals\\loky\\process_executor.py:700: UserWarning: A worker stopped while some jobs were given to the executor. This can be caused by a too short worker timeout or by a memory leak.\n",
      "  warnings.warn(\n"
     ]
    },
    {
     "name": "stdout",
     "output_type": "stream",
     "text": [
      "FPR is 0.5058152898450788\n",
      "FNR is 0.474535080304311\n",
      "TPR is 0.525464919695689\n",
      "TNR is 0.49418471015492116\n",
      "empirical epsilon = 0.04026831297889569\n",
      "iteration is 1\n"
     ]
    },
    {
     "name": "stderr",
     "output_type": "stream",
     "text": [
      "c:\\ProgramData\\anaconda3\\Lib\\site-packages\\joblib\\externals\\loky\\process_executor.py:700: UserWarning: A worker stopped while some jobs were given to the executor. This can be caused by a too short worker timeout or by a memory leak.\n",
      "  warnings.warn(\n"
     ]
    },
    {
     "name": "stdout",
     "output_type": "stream",
     "text": [
      "FPR is 0.5058152898450788\n",
      "FNR is 0.474535080304311\n",
      "TPR is 0.525464919695689\n",
      "TNR is 0.49418471015492116\n",
      "empirical epsilon = 0.04026831297889569\n",
      "iteration is 2\n"
     ]
    },
    {
     "name": "stderr",
     "output_type": "stream",
     "text": [
      "c:\\ProgramData\\anaconda3\\Lib\\site-packages\\joblib\\externals\\loky\\process_executor.py:700: UserWarning: A worker stopped while some jobs were given to the executor. This can be caused by a too short worker timeout or by a memory leak.\n",
      "  warnings.warn(\n"
     ]
    },
    {
     "name": "stdout",
     "output_type": "stream",
     "text": [
      "FPR is 0.5058152898450788\n",
      "FNR is 0.474535080304311\n",
      "TPR is 0.525464919695689\n",
      "TNR is 0.49418471015492116\n",
      "empirical epsilon = 0.04026831297889569\n",
      "iteration is 3\n"
     ]
    },
    {
     "name": "stderr",
     "output_type": "stream",
     "text": [
      "c:\\ProgramData\\anaconda3\\Lib\\site-packages\\joblib\\externals\\loky\\process_executor.py:700: UserWarning: A worker stopped while some jobs were given to the executor. This can be caused by a too short worker timeout or by a memory leak.\n",
      "  warnings.warn(\n"
     ]
    },
    {
     "name": "stdout",
     "output_type": "stream",
     "text": [
      "FPR is 0.5058152898450788\n",
      "FNR is 0.474535080304311\n",
      "TPR is 0.525464919695689\n",
      "TNR is 0.49418471015492116\n",
      "empirical epsilon = 0.04026831297889569\n",
      "iteration is 4\n"
     ]
    },
    {
     "name": "stderr",
     "output_type": "stream",
     "text": [
      "c:\\ProgramData\\anaconda3\\Lib\\site-packages\\joblib\\externals\\loky\\process_executor.py:700: UserWarning: A worker stopped while some jobs were given to the executor. This can be caused by a too short worker timeout or by a memory leak.\n",
      "  warnings.warn(\n"
     ]
    },
    {
     "name": "stdout",
     "output_type": "stream",
     "text": [
      "FPR is 0.5058152898450788\n",
      "FNR is 0.474535080304311\n",
      "TPR is 0.525464919695689\n",
      "TNR is 0.49418471015492116\n",
      "empirical epsilon = 0.04026831297889569\n",
      "iteration is 5\n"
     ]
    },
    {
     "name": "stderr",
     "output_type": "stream",
     "text": [
      "c:\\ProgramData\\anaconda3\\Lib\\site-packages\\joblib\\externals\\loky\\process_executor.py:700: UserWarning: A worker stopped while some jobs were given to the executor. This can be caused by a too short worker timeout or by a memory leak.\n",
      "  warnings.warn(\n"
     ]
    },
    {
     "name": "stdout",
     "output_type": "stream",
     "text": [
      "FPR is 0.5058152898450788\n",
      "FNR is 0.474535080304311\n",
      "TPR is 0.525464919695689\n",
      "TNR is 0.49418471015492116\n",
      "empirical epsilon = 0.04026831297889569\n",
      "iteration is 6\n"
     ]
    },
    {
     "name": "stderr",
     "output_type": "stream",
     "text": [
      "c:\\ProgramData\\anaconda3\\Lib\\site-packages\\joblib\\externals\\loky\\process_executor.py:700: UserWarning: A worker stopped while some jobs were given to the executor. This can be caused by a too short worker timeout or by a memory leak.\n",
      "  warnings.warn(\n"
     ]
    },
    {
     "name": "stdout",
     "output_type": "stream",
     "text": [
      "FPR is 0.5058152898450788\n",
      "FNR is 0.474535080304311\n",
      "TPR is 0.525464919695689\n",
      "TNR is 0.49418471015492116\n",
      "empirical epsilon = 0.04026831297889569\n",
      "iteration is 7\n"
     ]
    },
    {
     "name": "stderr",
     "output_type": "stream",
     "text": [
      "c:\\ProgramData\\anaconda3\\Lib\\site-packages\\joblib\\externals\\loky\\process_executor.py:700: UserWarning: A worker stopped while some jobs were given to the executor. This can be caused by a too short worker timeout or by a memory leak.\n",
      "  warnings.warn(\n"
     ]
    },
    {
     "name": "stdout",
     "output_type": "stream",
     "text": [
      "FPR is 0.5058152898450788\n",
      "FNR is 0.474535080304311\n",
      "TPR is 0.525464919695689\n",
      "TNR is 0.49418471015492116\n",
      "empirical epsilon = 0.04026831297889569\n",
      "iteration is 8\n"
     ]
    },
    {
     "name": "stderr",
     "output_type": "stream",
     "text": [
      "c:\\ProgramData\\anaconda3\\Lib\\site-packages\\joblib\\externals\\loky\\process_executor.py:700: UserWarning: A worker stopped while some jobs were given to the executor. This can be caused by a too short worker timeout or by a memory leak.\n",
      "  warnings.warn(\n"
     ]
    },
    {
     "name": "stdout",
     "output_type": "stream",
     "text": [
      "FPR is 0.5058152898450788\n",
      "FNR is 0.474535080304311\n",
      "TPR is 0.525464919695689\n",
      "TNR is 0.49418471015492116\n",
      "empirical epsilon = 0.04026831297889569\n",
      "iteration is 9\n"
     ]
    },
    {
     "name": "stderr",
     "output_type": "stream",
     "text": [
      "c:\\ProgramData\\anaconda3\\Lib\\site-packages\\joblib\\externals\\loky\\process_executor.py:700: UserWarning: A worker stopped while some jobs were given to the executor. This can be caused by a too short worker timeout or by a memory leak.\n",
      "  warnings.warn(\n"
     ]
    },
    {
     "name": "stdout",
     "output_type": "stream",
     "text": [
      "FPR is 0.5058152898450788\n",
      "FNR is 0.474535080304311\n",
      "TPR is 0.525464919695689\n",
      "TNR is 0.49418471015492116\n",
      "empirical epsilon = 0.04026831297889569\n",
      "iteration is 0\n"
     ]
    },
    {
     "name": "stderr",
     "output_type": "stream",
     "text": [
      "c:\\ProgramData\\anaconda3\\Lib\\site-packages\\joblib\\externals\\loky\\process_executor.py:700: UserWarning: A worker stopped while some jobs were given to the executor. This can be caused by a too short worker timeout or by a memory leak.\n",
      "  warnings.warn(\n"
     ]
    },
    {
     "name": "stdout",
     "output_type": "stream",
     "text": [
      "FPR is 0.5120826246188265\n",
      "FNR is 0.46796884434247077\n",
      "TPR is 0.5320311556575292\n",
      "TNR is 0.4879173753811735\n",
      "empirical epsilon = 0.041434937168679534\n",
      "iteration is 1\n"
     ]
    },
    {
     "name": "stderr",
     "output_type": "stream",
     "text": [
      "c:\\ProgramData\\anaconda3\\Lib\\site-packages\\joblib\\externals\\loky\\process_executor.py:700: UserWarning: A worker stopped while some jobs were given to the executor. This can be caused by a too short worker timeout or by a memory leak.\n",
      "  warnings.warn(\n"
     ]
    },
    {
     "name": "stdout",
     "output_type": "stream",
     "text": [
      "FPR is 0.5120826246188265\n",
      "FNR is 0.46796884434247077\n",
      "TPR is 0.5320311556575292\n",
      "TNR is 0.4879173753811735\n",
      "empirical epsilon = 0.041434937168679534\n",
      "iteration is 2\n"
     ]
    },
    {
     "name": "stderr",
     "output_type": "stream",
     "text": [
      "c:\\ProgramData\\anaconda3\\Lib\\site-packages\\joblib\\externals\\loky\\process_executor.py:700: UserWarning: A worker stopped while some jobs were given to the executor. This can be caused by a too short worker timeout or by a memory leak.\n",
      "  warnings.warn(\n"
     ]
    },
    {
     "name": "stdout",
     "output_type": "stream",
     "text": [
      "FPR is 0.5120826246188265\n",
      "FNR is 0.46796884434247077\n",
      "TPR is 0.5320311556575292\n",
      "TNR is 0.4879173753811735\n",
      "empirical epsilon = 0.041434937168679534\n",
      "iteration is 3\n"
     ]
    },
    {
     "name": "stderr",
     "output_type": "stream",
     "text": [
      "c:\\ProgramData\\anaconda3\\Lib\\site-packages\\joblib\\externals\\loky\\process_executor.py:700: UserWarning: A worker stopped while some jobs were given to the executor. This can be caused by a too short worker timeout or by a memory leak.\n",
      "  warnings.warn(\n"
     ]
    },
    {
     "name": "stdout",
     "output_type": "stream",
     "text": [
      "FPR is 0.5120826246188265\n",
      "FNR is 0.46796884434247077\n",
      "TPR is 0.5320311556575292\n",
      "TNR is 0.4879173753811735\n",
      "empirical epsilon = 0.041434937168679534\n",
      "iteration is 4\n"
     ]
    },
    {
     "name": "stderr",
     "output_type": "stream",
     "text": [
      "c:\\ProgramData\\anaconda3\\Lib\\site-packages\\joblib\\externals\\loky\\process_executor.py:700: UserWarning: A worker stopped while some jobs were given to the executor. This can be caused by a too short worker timeout or by a memory leak.\n",
      "  warnings.warn(\n"
     ]
    },
    {
     "name": "stdout",
     "output_type": "stream",
     "text": [
      "FPR is 0.5120826246188265\n",
      "FNR is 0.46796884434247077\n",
      "TPR is 0.5320311556575292\n",
      "TNR is 0.4879173753811735\n",
      "empirical epsilon = 0.041434937168679534\n",
      "iteration is 5\n"
     ]
    },
    {
     "name": "stderr",
     "output_type": "stream",
     "text": [
      "c:\\ProgramData\\anaconda3\\Lib\\site-packages\\joblib\\externals\\loky\\process_executor.py:700: UserWarning: A worker stopped while some jobs were given to the executor. This can be caused by a too short worker timeout or by a memory leak.\n",
      "  warnings.warn(\n"
     ]
    },
    {
     "name": "stdout",
     "output_type": "stream",
     "text": [
      "FPR is 0.5120826246188265\n",
      "FNR is 0.46796884434247077\n",
      "TPR is 0.5320311556575292\n",
      "TNR is 0.4879173753811735\n",
      "empirical epsilon = 0.041434937168679534\n",
      "iteration is 6\n"
     ]
    },
    {
     "name": "stderr",
     "output_type": "stream",
     "text": [
      "c:\\ProgramData\\anaconda3\\Lib\\site-packages\\joblib\\externals\\loky\\process_executor.py:700: UserWarning: A worker stopped while some jobs were given to the executor. This can be caused by a too short worker timeout or by a memory leak.\n",
      "  warnings.warn(\n"
     ]
    },
    {
     "name": "stdout",
     "output_type": "stream",
     "text": [
      "FPR is 0.5120826246188265\n",
      "FNR is 0.46796884434247077\n",
      "TPR is 0.5320311556575292\n",
      "TNR is 0.4879173753811735\n",
      "empirical epsilon = 0.041434937168679534\n",
      "iteration is 7\n"
     ]
    },
    {
     "name": "stderr",
     "output_type": "stream",
     "text": [
      "c:\\ProgramData\\anaconda3\\Lib\\site-packages\\joblib\\externals\\loky\\process_executor.py:700: UserWarning: A worker stopped while some jobs were given to the executor. This can be caused by a too short worker timeout or by a memory leak.\n",
      "  warnings.warn(\n"
     ]
    },
    {
     "name": "stdout",
     "output_type": "stream",
     "text": [
      "FPR is 0.5120826246188265\n",
      "FNR is 0.46796884434247077\n",
      "TPR is 0.5320311556575292\n",
      "TNR is 0.4879173753811735\n",
      "empirical epsilon = 0.041434937168679534\n",
      "iteration is 8\n"
     ]
    },
    {
     "name": "stderr",
     "output_type": "stream",
     "text": [
      "c:\\ProgramData\\anaconda3\\Lib\\site-packages\\joblib\\externals\\loky\\process_executor.py:700: UserWarning: A worker stopped while some jobs were given to the executor. This can be caused by a too short worker timeout or by a memory leak.\n",
      "  warnings.warn(\n"
     ]
    },
    {
     "name": "stdout",
     "output_type": "stream",
     "text": [
      "FPR is 0.5120826246188265\n",
      "FNR is 0.46796884434247077\n",
      "TPR is 0.5320311556575292\n",
      "TNR is 0.4879173753811735\n",
      "empirical epsilon = 0.041434937168679534\n",
      "iteration is 9\n"
     ]
    },
    {
     "name": "stderr",
     "output_type": "stream",
     "text": [
      "c:\\ProgramData\\anaconda3\\Lib\\site-packages\\joblib\\externals\\loky\\process_executor.py:700: UserWarning: A worker stopped while some jobs were given to the executor. This can be caused by a too short worker timeout or by a memory leak.\n",
      "  warnings.warn(\n"
     ]
    },
    {
     "name": "stdout",
     "output_type": "stream",
     "text": [
      "FPR is 0.5120826246188265\n",
      "FNR is 0.46796884434247077\n",
      "TPR is 0.5320311556575292\n",
      "TNR is 0.4879173753811735\n",
      "empirical epsilon = 0.041434937168679534\n"
     ]
    }
   ],
   "source": [
    "results = []\n",
    "for i in range(20):\n",
    "    synth_train = pd.read_csv(f\"synthetic_train/sd_{i}.csv\")\n",
    "    synth_adversary_training = pd.read_csv(f\"synthetic_adv/sd_{i}.csv\")\n",
    "    result = attacks.privacy_attack(\n",
    "        seed=1,\n",
    "        simulations=10,\n",
    "        train=train,\n",
    "        adversary=adversary_training,\n",
    "        outside_training=evaluation_outside_training,\n",
    "        protected_training=synth_train,\n",
    "        protected_adversary=synth_adversary_training\n",
    "    )\n",
    "    results.append(np.mean(result[0]))"
   ]
  },
  {
   "cell_type": "code",
   "execution_count": 3,
   "id": "fe60e1dd",
   "metadata": {},
   "outputs": [
    {
     "data": {
      "text/plain": [
       "[0.04312342423397185,\n",
       " 0.0288835396635173,\n",
       " 0.03464072654959814,\n",
       " 0.028874149095922154,\n",
       " 0.04187595294635525,\n",
       " 0.0335585868845829,\n",
       " 0.04210044292048188,\n",
       " 0.04712099691975633,\n",
       " 0.04432970600343129,\n",
       " 0.036066522106688856,\n",
       " 0.039474809159240246,\n",
       " 0.03909408311954456,\n",
       " 0.0328777617041693,\n",
       " 0.04098556591096332,\n",
       " 0.039991979480424864,\n",
       " 0.029204559954372843,\n",
       " 0.028916447036274336,\n",
       " 0.0388189321550778,\n",
       " 0.04026831297889568,\n",
       " 0.041434937168679534]"
      ]
     },
     "execution_count": 3,
     "metadata": {},
     "output_type": "execute_result"
    }
   ],
   "source": [
    "results"
   ]
  },
  {
   "cell_type": "markdown",
   "id": "ad218846",
   "metadata": {},
   "source": [
    "Repeat for data generated using synthpop."
   ]
  },
  {
   "cell_type": "code",
   "execution_count": 4,
   "id": "36bb3fe1",
   "metadata": {},
   "outputs": [
    {
     "name": "stdout",
     "output_type": "stream",
     "text": [
      "iteration is 0\n",
      "FPR is 0.49809221716544844\n",
      "FNR is 0.4305035623716943\n",
      "TPR is 0.5694964376283057\n",
      "TNR is 0.5019077828345515\n",
      "empirical epsilon = 0.15316001087234682\n",
      "iteration is 1\n",
      "FPR is 0.49809221716544844\n",
      "FNR is 0.4305035623716943\n",
      "TPR is 0.5694964376283057\n",
      "TNR is 0.5019077828345515\n",
      "empirical epsilon = 0.15316001087234682\n",
      "iteration is 2\n"
     ]
    },
    {
     "ename": "KeyboardInterrupt",
     "evalue": "",
     "output_type": "error",
     "traceback": [
      "\u001b[1;31m---------------------------------------------------------------------------\u001b[0m",
      "\u001b[1;31mKeyboardInterrupt\u001b[0m                         Traceback (most recent call last)",
      "Cell \u001b[1;32mIn[4], line 5\u001b[0m\n\u001b[0;32m      3\u001b[0m synth_train \u001b[38;5;241m=\u001b[39m pd\u001b[38;5;241m.\u001b[39mread_csv(\u001b[38;5;124mf\u001b[39m\u001b[38;5;124m\"\u001b[39m\u001b[38;5;124msynthetic_train/synthpop_train_data_\u001b[39m\u001b[38;5;132;01m{\u001b[39;00mi\u001b[38;5;132;01m}\u001b[39;00m\u001b[38;5;124m.csv\u001b[39m\u001b[38;5;124m\"\u001b[39m)\n\u001b[0;32m      4\u001b[0m synth_adversary_training \u001b[38;5;241m=\u001b[39m pd\u001b[38;5;241m.\u001b[39mread_csv(\u001b[38;5;124mf\u001b[39m\u001b[38;5;124m\"\u001b[39m\u001b[38;5;124msynthetic_adv/synthpop_adv_data_\u001b[39m\u001b[38;5;132;01m{\u001b[39;00mi\u001b[38;5;132;01m}\u001b[39;00m\u001b[38;5;124m.csv\u001b[39m\u001b[38;5;124m\"\u001b[39m)\n\u001b[1;32m----> 5\u001b[0m result \u001b[38;5;241m=\u001b[39m attacks\u001b[38;5;241m.\u001b[39mprivacy_attack(\n\u001b[0;32m      6\u001b[0m     seed\u001b[38;5;241m=\u001b[39m\u001b[38;5;241m1\u001b[39m,\n\u001b[0;32m      7\u001b[0m     simulations\u001b[38;5;241m=\u001b[39m\u001b[38;5;241m10\u001b[39m,\n\u001b[0;32m      8\u001b[0m     train\u001b[38;5;241m=\u001b[39mtrain,\n\u001b[0;32m      9\u001b[0m     adversary\u001b[38;5;241m=\u001b[39madversary_training,\n\u001b[0;32m     10\u001b[0m     outside_training\u001b[38;5;241m=\u001b[39mevaluation_outside_training,\n\u001b[0;32m     11\u001b[0m     protected_training\u001b[38;5;241m=\u001b[39msynth_train,\n\u001b[0;32m     12\u001b[0m     protected_adversary\u001b[38;5;241m=\u001b[39msynth_adversary_training\n\u001b[0;32m     13\u001b[0m )\n\u001b[0;32m     14\u001b[0m results_synthpop\u001b[38;5;241m.\u001b[39mappend(np\u001b[38;5;241m.\u001b[39mmean(result[\u001b[38;5;241m0\u001b[39m]))\n",
      "File \u001b[1;32m~\\AppData\\Roaming\\Python\\Python311\\site-packages\\likelihood_based_privacy_attack\\attacks.py:27\u001b[0m, in \u001b[0;36mprivacy_attack\u001b[1;34m(seed, simulations, train, adversary, outside_training, protected_training, protected_adversary)\u001b[0m\n\u001b[0;32m     24\u001b[0m kde_train \u001b[38;5;241m=\u001b[39m grid_train\u001b[38;5;241m.\u001b[39mbest_estimator_ \u001b[38;5;66;03m# get best estimator\u001b[39;00m\n\u001b[0;32m     26\u001b[0m grid \u001b[38;5;241m=\u001b[39m GridSearchCV(KernelDensity(), params, n_jobs \u001b[38;5;241m=\u001b[39m \u001b[38;5;241m-\u001b[39m\u001b[38;5;241m1\u001b[39m) \u001b[38;5;66;03m# cross validate (CV)\u001b[39;00m\n\u001b[1;32m---> 27\u001b[0m grid\u001b[38;5;241m.\u001b[39mfit(protected_adversary) \u001b[38;5;66;03m# estimate pdf from adversary data\u001b[39;00m\n\u001b[0;32m     28\u001b[0m kde_adversary \u001b[38;5;241m=\u001b[39m grid\u001b[38;5;241m.\u001b[39mbest_estimator_ \u001b[38;5;66;03m# get best estimator from CV\u001b[39;00m\n\u001b[0;32m     30\u001b[0m \u001b[38;5;66;03m# step 3\u001b[39;00m\n",
      "File \u001b[1;32mc:\\ProgramData\\anaconda3\\Lib\\site-packages\\sklearn\\model_selection\\_search.py:874\u001b[0m, in \u001b[0;36mBaseSearchCV.fit\u001b[1;34m(self, X, y, groups, **fit_params)\u001b[0m\n\u001b[0;32m    868\u001b[0m     results \u001b[38;5;241m=\u001b[39m \u001b[38;5;28mself\u001b[39m\u001b[38;5;241m.\u001b[39m_format_results(\n\u001b[0;32m    869\u001b[0m         all_candidate_params, n_splits, all_out, all_more_results\n\u001b[0;32m    870\u001b[0m     )\n\u001b[0;32m    872\u001b[0m     \u001b[38;5;28;01mreturn\u001b[39;00m results\n\u001b[1;32m--> 874\u001b[0m \u001b[38;5;28mself\u001b[39m\u001b[38;5;241m.\u001b[39m_run_search(evaluate_candidates)\n\u001b[0;32m    876\u001b[0m \u001b[38;5;66;03m# multimetric is determined here because in the case of a callable\u001b[39;00m\n\u001b[0;32m    877\u001b[0m \u001b[38;5;66;03m# self.scoring the return type is only known after calling\u001b[39;00m\n\u001b[0;32m    878\u001b[0m first_test_score \u001b[38;5;241m=\u001b[39m all_out[\u001b[38;5;241m0\u001b[39m][\u001b[38;5;124m\"\u001b[39m\u001b[38;5;124mtest_scores\u001b[39m\u001b[38;5;124m\"\u001b[39m]\n",
      "File \u001b[1;32mc:\\ProgramData\\anaconda3\\Lib\\site-packages\\sklearn\\model_selection\\_search.py:1388\u001b[0m, in \u001b[0;36mGridSearchCV._run_search\u001b[1;34m(self, evaluate_candidates)\u001b[0m\n\u001b[0;32m   1386\u001b[0m \u001b[38;5;28;01mdef\u001b[39;00m \u001b[38;5;21m_run_search\u001b[39m(\u001b[38;5;28mself\u001b[39m, evaluate_candidates):\n\u001b[0;32m   1387\u001b[0m \u001b[38;5;250m    \u001b[39m\u001b[38;5;124;03m\"\"\"Search all candidates in param_grid\"\"\"\u001b[39;00m\n\u001b[1;32m-> 1388\u001b[0m     evaluate_candidates(ParameterGrid(\u001b[38;5;28mself\u001b[39m\u001b[38;5;241m.\u001b[39mparam_grid))\n",
      "File \u001b[1;32mc:\\ProgramData\\anaconda3\\Lib\\site-packages\\sklearn\\model_selection\\_search.py:821\u001b[0m, in \u001b[0;36mBaseSearchCV.fit.<locals>.evaluate_candidates\u001b[1;34m(candidate_params, cv, more_results)\u001b[0m\n\u001b[0;32m    813\u001b[0m \u001b[38;5;28;01mif\u001b[39;00m \u001b[38;5;28mself\u001b[39m\u001b[38;5;241m.\u001b[39mverbose \u001b[38;5;241m>\u001b[39m \u001b[38;5;241m0\u001b[39m:\n\u001b[0;32m    814\u001b[0m     \u001b[38;5;28mprint\u001b[39m(\n\u001b[0;32m    815\u001b[0m         \u001b[38;5;124m\"\u001b[39m\u001b[38;5;124mFitting \u001b[39m\u001b[38;5;132;01m{0}\u001b[39;00m\u001b[38;5;124m folds for each of \u001b[39m\u001b[38;5;132;01m{1}\u001b[39;00m\u001b[38;5;124m candidates,\u001b[39m\u001b[38;5;124m\"\u001b[39m\n\u001b[0;32m    816\u001b[0m         \u001b[38;5;124m\"\u001b[39m\u001b[38;5;124m totalling \u001b[39m\u001b[38;5;132;01m{2}\u001b[39;00m\u001b[38;5;124m fits\u001b[39m\u001b[38;5;124m\"\u001b[39m\u001b[38;5;241m.\u001b[39mformat(\n\u001b[0;32m    817\u001b[0m             n_splits, n_candidates, n_candidates \u001b[38;5;241m*\u001b[39m n_splits\n\u001b[0;32m    818\u001b[0m         )\n\u001b[0;32m    819\u001b[0m     )\n\u001b[1;32m--> 821\u001b[0m out \u001b[38;5;241m=\u001b[39m parallel(\n\u001b[0;32m    822\u001b[0m     delayed(_fit_and_score)(\n\u001b[0;32m    823\u001b[0m         clone(base_estimator),\n\u001b[0;32m    824\u001b[0m         X,\n\u001b[0;32m    825\u001b[0m         y,\n\u001b[0;32m    826\u001b[0m         train\u001b[38;5;241m=\u001b[39mtrain,\n\u001b[0;32m    827\u001b[0m         test\u001b[38;5;241m=\u001b[39mtest,\n\u001b[0;32m    828\u001b[0m         parameters\u001b[38;5;241m=\u001b[39mparameters,\n\u001b[0;32m    829\u001b[0m         split_progress\u001b[38;5;241m=\u001b[39m(split_idx, n_splits),\n\u001b[0;32m    830\u001b[0m         candidate_progress\u001b[38;5;241m=\u001b[39m(cand_idx, n_candidates),\n\u001b[0;32m    831\u001b[0m         \u001b[38;5;241m*\u001b[39m\u001b[38;5;241m*\u001b[39mfit_and_score_kwargs,\n\u001b[0;32m    832\u001b[0m     )\n\u001b[0;32m    833\u001b[0m     \u001b[38;5;28;01mfor\u001b[39;00m (cand_idx, parameters), (split_idx, (train, test)) \u001b[38;5;129;01min\u001b[39;00m product(\n\u001b[0;32m    834\u001b[0m         \u001b[38;5;28menumerate\u001b[39m(candidate_params), \u001b[38;5;28menumerate\u001b[39m(cv\u001b[38;5;241m.\u001b[39msplit(X, y, groups))\n\u001b[0;32m    835\u001b[0m     )\n\u001b[0;32m    836\u001b[0m )\n\u001b[0;32m    838\u001b[0m \u001b[38;5;28;01mif\u001b[39;00m \u001b[38;5;28mlen\u001b[39m(out) \u001b[38;5;241m<\u001b[39m \u001b[38;5;241m1\u001b[39m:\n\u001b[0;32m    839\u001b[0m     \u001b[38;5;28;01mraise\u001b[39;00m \u001b[38;5;167;01mValueError\u001b[39;00m(\n\u001b[0;32m    840\u001b[0m         \u001b[38;5;124m\"\u001b[39m\u001b[38;5;124mNo fits were performed. \u001b[39m\u001b[38;5;124m\"\u001b[39m\n\u001b[0;32m    841\u001b[0m         \u001b[38;5;124m\"\u001b[39m\u001b[38;5;124mWas the CV iterator empty? \u001b[39m\u001b[38;5;124m\"\u001b[39m\n\u001b[0;32m    842\u001b[0m         \u001b[38;5;124m\"\u001b[39m\u001b[38;5;124mWere there no candidates?\u001b[39m\u001b[38;5;124m\"\u001b[39m\n\u001b[0;32m    843\u001b[0m     )\n",
      "File \u001b[1;32mc:\\ProgramData\\anaconda3\\Lib\\site-packages\\sklearn\\utils\\parallel.py:63\u001b[0m, in \u001b[0;36mParallel.__call__\u001b[1;34m(self, iterable)\u001b[0m\n\u001b[0;32m     58\u001b[0m config \u001b[38;5;241m=\u001b[39m get_config()\n\u001b[0;32m     59\u001b[0m iterable_with_config \u001b[38;5;241m=\u001b[39m (\n\u001b[0;32m     60\u001b[0m     (_with_config(delayed_func, config), args, kwargs)\n\u001b[0;32m     61\u001b[0m     \u001b[38;5;28;01mfor\u001b[39;00m delayed_func, args, kwargs \u001b[38;5;129;01min\u001b[39;00m iterable\n\u001b[0;32m     62\u001b[0m )\n\u001b[1;32m---> 63\u001b[0m \u001b[38;5;28;01mreturn\u001b[39;00m \u001b[38;5;28msuper\u001b[39m()\u001b[38;5;241m.\u001b[39m\u001b[38;5;21m__call__\u001b[39m(iterable_with_config)\n",
      "File \u001b[1;32mc:\\ProgramData\\anaconda3\\Lib\\site-packages\\joblib\\parallel.py:1098\u001b[0m, in \u001b[0;36mParallel.__call__\u001b[1;34m(self, iterable)\u001b[0m\n\u001b[0;32m   1095\u001b[0m     \u001b[38;5;28mself\u001b[39m\u001b[38;5;241m.\u001b[39m_iterating \u001b[38;5;241m=\u001b[39m \u001b[38;5;28;01mFalse\u001b[39;00m\n\u001b[0;32m   1097\u001b[0m \u001b[38;5;28;01mwith\u001b[39;00m \u001b[38;5;28mself\u001b[39m\u001b[38;5;241m.\u001b[39m_backend\u001b[38;5;241m.\u001b[39mretrieval_context():\n\u001b[1;32m-> 1098\u001b[0m     \u001b[38;5;28mself\u001b[39m\u001b[38;5;241m.\u001b[39mretrieve()\n\u001b[0;32m   1099\u001b[0m \u001b[38;5;66;03m# Make sure that we get a last message telling us we are done\u001b[39;00m\n\u001b[0;32m   1100\u001b[0m elapsed_time \u001b[38;5;241m=\u001b[39m time\u001b[38;5;241m.\u001b[39mtime() \u001b[38;5;241m-\u001b[39m \u001b[38;5;28mself\u001b[39m\u001b[38;5;241m.\u001b[39m_start_time\n",
      "File \u001b[1;32mc:\\ProgramData\\anaconda3\\Lib\\site-packages\\joblib\\parallel.py:975\u001b[0m, in \u001b[0;36mParallel.retrieve\u001b[1;34m(self)\u001b[0m\n\u001b[0;32m    973\u001b[0m \u001b[38;5;28;01mtry\u001b[39;00m:\n\u001b[0;32m    974\u001b[0m     \u001b[38;5;28;01mif\u001b[39;00m \u001b[38;5;28mgetattr\u001b[39m(\u001b[38;5;28mself\u001b[39m\u001b[38;5;241m.\u001b[39m_backend, \u001b[38;5;124m'\u001b[39m\u001b[38;5;124msupports_timeout\u001b[39m\u001b[38;5;124m'\u001b[39m, \u001b[38;5;28;01mFalse\u001b[39;00m):\n\u001b[1;32m--> 975\u001b[0m         \u001b[38;5;28mself\u001b[39m\u001b[38;5;241m.\u001b[39m_output\u001b[38;5;241m.\u001b[39mextend(job\u001b[38;5;241m.\u001b[39mget(timeout\u001b[38;5;241m=\u001b[39m\u001b[38;5;28mself\u001b[39m\u001b[38;5;241m.\u001b[39mtimeout))\n\u001b[0;32m    976\u001b[0m     \u001b[38;5;28;01melse\u001b[39;00m:\n\u001b[0;32m    977\u001b[0m         \u001b[38;5;28mself\u001b[39m\u001b[38;5;241m.\u001b[39m_output\u001b[38;5;241m.\u001b[39mextend(job\u001b[38;5;241m.\u001b[39mget())\n",
      "File \u001b[1;32mc:\\ProgramData\\anaconda3\\Lib\\site-packages\\joblib\\_parallel_backends.py:567\u001b[0m, in \u001b[0;36mLokyBackend.wrap_future_result\u001b[1;34m(future, timeout)\u001b[0m\n\u001b[0;32m    564\u001b[0m \u001b[38;5;250m\u001b[39m\u001b[38;5;124;03m\"\"\"Wrapper for Future.result to implement the same behaviour as\u001b[39;00m\n\u001b[0;32m    565\u001b[0m \u001b[38;5;124;03mAsyncResults.get from multiprocessing.\"\"\"\u001b[39;00m\n\u001b[0;32m    566\u001b[0m \u001b[38;5;28;01mtry\u001b[39;00m:\n\u001b[1;32m--> 567\u001b[0m     \u001b[38;5;28;01mreturn\u001b[39;00m future\u001b[38;5;241m.\u001b[39mresult(timeout\u001b[38;5;241m=\u001b[39mtimeout)\n\u001b[0;32m    568\u001b[0m \u001b[38;5;28;01mexcept\u001b[39;00m CfTimeoutError \u001b[38;5;28;01mas\u001b[39;00m e:\n\u001b[0;32m    569\u001b[0m     \u001b[38;5;28;01mraise\u001b[39;00m \u001b[38;5;167;01mTimeoutError\u001b[39;00m \u001b[38;5;28;01mfrom\u001b[39;00m \u001b[38;5;21;01me\u001b[39;00m\n",
      "File \u001b[1;32mc:\\ProgramData\\anaconda3\\Lib\\concurrent\\futures\\_base.py:451\u001b[0m, in \u001b[0;36mFuture.result\u001b[1;34m(self, timeout)\u001b[0m\n\u001b[0;32m    448\u001b[0m \u001b[38;5;28;01melif\u001b[39;00m \u001b[38;5;28mself\u001b[39m\u001b[38;5;241m.\u001b[39m_state \u001b[38;5;241m==\u001b[39m FINISHED:\n\u001b[0;32m    449\u001b[0m     \u001b[38;5;28;01mreturn\u001b[39;00m \u001b[38;5;28mself\u001b[39m\u001b[38;5;241m.\u001b[39m__get_result()\n\u001b[1;32m--> 451\u001b[0m \u001b[38;5;28mself\u001b[39m\u001b[38;5;241m.\u001b[39m_condition\u001b[38;5;241m.\u001b[39mwait(timeout)\n\u001b[0;32m    453\u001b[0m \u001b[38;5;28;01mif\u001b[39;00m \u001b[38;5;28mself\u001b[39m\u001b[38;5;241m.\u001b[39m_state \u001b[38;5;129;01min\u001b[39;00m [CANCELLED, CANCELLED_AND_NOTIFIED]:\n\u001b[0;32m    454\u001b[0m     \u001b[38;5;28;01mraise\u001b[39;00m CancelledError()\n",
      "File \u001b[1;32mc:\\ProgramData\\anaconda3\\Lib\\threading.py:327\u001b[0m, in \u001b[0;36mCondition.wait\u001b[1;34m(self, timeout)\u001b[0m\n\u001b[0;32m    325\u001b[0m \u001b[38;5;28;01mtry\u001b[39;00m:    \u001b[38;5;66;03m# restore state no matter what (e.g., KeyboardInterrupt)\u001b[39;00m\n\u001b[0;32m    326\u001b[0m     \u001b[38;5;28;01mif\u001b[39;00m timeout \u001b[38;5;129;01mis\u001b[39;00m \u001b[38;5;28;01mNone\u001b[39;00m:\n\u001b[1;32m--> 327\u001b[0m         waiter\u001b[38;5;241m.\u001b[39macquire()\n\u001b[0;32m    328\u001b[0m         gotit \u001b[38;5;241m=\u001b[39m \u001b[38;5;28;01mTrue\u001b[39;00m\n\u001b[0;32m    329\u001b[0m     \u001b[38;5;28;01melse\u001b[39;00m:\n",
      "\u001b[1;31mKeyboardInterrupt\u001b[0m: "
     ]
    }
   ],
   "source": [
    "results_synthpop = []\n",
    "for i in range(3):\n",
    "    synth_train = pd.read_csv(f\"synthetic_train/synthpop_train_data_{i}.csv\")\n",
    "    synth_adversary_training = pd.read_csv(f\"synthetic_adv/synthpop_adv_data_{i}.csv\")\n",
    "    result = attacks.privacy_attack(\n",
    "        seed=1,\n",
    "        simulations=10,\n",
    "        train=train,\n",
    "        adversary=adversary_training,\n",
    "        outside_training=evaluation_outside_training,\n",
    "        protected_training=synth_train,\n",
    "        protected_adversary=synth_adversary_training\n",
    "    )\n",
    "    results_synthpop.append(np.mean(result[0]))"
   ]
  },
  {
   "cell_type": "code",
   "execution_count": null,
   "id": "12ee495f",
   "metadata": {},
   "outputs": [],
   "source": [
    "results_synthpop"
   ]
  }
 ],
 "metadata": {
  "kernelspec": {
   "display_name": "base",
   "language": "python",
   "name": "python3"
  },
  "language_info": {
   "codemirror_mode": {
    "name": "ipython",
    "version": 3
   },
   "file_extension": ".py",
   "mimetype": "text/x-python",
   "name": "python",
   "nbconvert_exporter": "python",
   "pygments_lexer": "ipython3",
   "version": "3.11.7"
  }
 },
 "nbformat": 4,
 "nbformat_minor": 5
}
