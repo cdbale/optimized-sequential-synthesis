{
 "cells": [
  {
   "cell_type": "markdown",
   "id": "96f48262",
   "metadata": {},
   "source": [
    "This notebook performs the synthesis using our proposed synthesization approach applied to the IPUMS data. The synthesis model is a CART. Logistic regression with three way interactions is used as the pMSE model."
   ]
  },
  {
   "cell_type": "code",
   "execution_count": 1,
   "id": "2d3f5c21",
   "metadata": {},
   "outputs": [],
   "source": [
    "from numpy.random import default_rng\n",
    "from sklearn.mixture import GaussianMixture\n",
    "import matplotlib.pyplot as plt\n",
    "import itertools\n",
    "import os\n",
    "import pickle\n",
    "\n",
    "from sklearn.tree import DecisionTreeClassifier\n",
    "from sklearn.preprocessing import StandardScaler\n",
    "\n",
    "from bayes_opt import BayesianOptimization\n",
    "from bayes_opt import UtilityFunction\n",
    "\n",
    "from helper_functions import *\n",
    "\n",
    "rng = np.random.RandomState(42)"
   ]
  },
  {
   "cell_type": "markdown",
   "id": "76a8ccbc",
   "metadata": {},
   "source": [
    "Import the data."
   ]
  },
  {
   "cell_type": "code",
   "execution_count": 2,
   "id": "730c2f2e",
   "metadata": {},
   "outputs": [],
   "source": [
    "# import standardized lat/long location data\n",
    "adv_data = pd.read_csv(\"adv_data.csv\")"
   ]
  },
  {
   "cell_type": "code",
   "execution_count": 3,
   "id": "5fb46ada",
   "metadata": {},
   "outputs": [
    {
     "data": {
      "text/html": [
       "<div>\n",
       "<style scoped>\n",
       "    .dataframe tbody tr th:only-of-type {\n",
       "        vertical-align: middle;\n",
       "    }\n",
       "\n",
       "    .dataframe tbody tr th {\n",
       "        vertical-align: top;\n",
       "    }\n",
       "\n",
       "    .dataframe thead th {\n",
       "        text-align: right;\n",
       "    }\n",
       "</style>\n",
       "<table border=\"1\" class=\"dataframe\">\n",
       "  <thead>\n",
       "    <tr style=\"text-align: right;\">\n",
       "      <th></th>\n",
       "      <th>incwage</th>\n",
       "      <th>years_of_educ</th>\n",
       "      <th>potential_experience</th>\n",
       "      <th>non_white</th>\n",
       "      <th>sex</th>\n",
       "    </tr>\n",
       "  </thead>\n",
       "  <tbody>\n",
       "    <tr>\n",
       "      <th>0</th>\n",
       "      <td>8.824678</td>\n",
       "      <td>12.000000</td>\n",
       "      <td>13.000000</td>\n",
       "      <td>0</td>\n",
       "      <td>0</td>\n",
       "    </tr>\n",
       "    <tr>\n",
       "      <th>1</th>\n",
       "      <td>8.006368</td>\n",
       "      <td>11.000000</td>\n",
       "      <td>1.000000</td>\n",
       "      <td>0</td>\n",
       "      <td>1</td>\n",
       "    </tr>\n",
       "    <tr>\n",
       "      <th>2</th>\n",
       "      <td>9.942708</td>\n",
       "      <td>13.000000</td>\n",
       "      <td>4.000000</td>\n",
       "      <td>0</td>\n",
       "      <td>0</td>\n",
       "    </tr>\n",
       "    <tr>\n",
       "      <th>3</th>\n",
       "      <td>8.987197</td>\n",
       "      <td>12.000000</td>\n",
       "      <td>13.000000</td>\n",
       "      <td>0</td>\n",
       "      <td>1</td>\n",
       "    </tr>\n",
       "    <tr>\n",
       "      <th>4</th>\n",
       "      <td>10.691945</td>\n",
       "      <td>16.000000</td>\n",
       "      <td>36.000000</td>\n",
       "      <td>1</td>\n",
       "      <td>1</td>\n",
       "    </tr>\n",
       "    <tr>\n",
       "      <th>...</th>\n",
       "      <td>...</td>\n",
       "      <td>...</td>\n",
       "      <td>...</td>\n",
       "      <td>...</td>\n",
       "      <td>...</td>\n",
       "    </tr>\n",
       "    <tr>\n",
       "      <th>66244</th>\n",
       "      <td>8.935904</td>\n",
       "      <td>12.000000</td>\n",
       "      <td>5.000000</td>\n",
       "      <td>1</td>\n",
       "      <td>0</td>\n",
       "    </tr>\n",
       "    <tr>\n",
       "      <th>66245</th>\n",
       "      <td>8.070906</td>\n",
       "      <td>11.000000</td>\n",
       "      <td>1.000000</td>\n",
       "      <td>0</td>\n",
       "      <td>1</td>\n",
       "    </tr>\n",
       "    <tr>\n",
       "      <th>66246</th>\n",
       "      <td>11.598562</td>\n",
       "      <td>17.737673</td>\n",
       "      <td>27.262327</td>\n",
       "      <td>0</td>\n",
       "      <td>0</td>\n",
       "    </tr>\n",
       "    <tr>\n",
       "      <th>66247</th>\n",
       "      <td>9.210340</td>\n",
       "      <td>16.000000</td>\n",
       "      <td>3.000000</td>\n",
       "      <td>0</td>\n",
       "      <td>1</td>\n",
       "    </tr>\n",
       "    <tr>\n",
       "      <th>66248</th>\n",
       "      <td>11.082143</td>\n",
       "      <td>17.737673</td>\n",
       "      <td>31.262327</td>\n",
       "      <td>0</td>\n",
       "      <td>0</td>\n",
       "    </tr>\n",
       "  </tbody>\n",
       "</table>\n",
       "<p>66249 rows × 5 columns</p>\n",
       "</div>"
      ],
      "text/plain": [
       "         incwage  years_of_educ  potential_experience  non_white  sex\n",
       "0       8.824678      12.000000             13.000000          0    0\n",
       "1       8.006368      11.000000              1.000000          0    1\n",
       "2       9.942708      13.000000              4.000000          0    0\n",
       "3       8.987197      12.000000             13.000000          0    1\n",
       "4      10.691945      16.000000             36.000000          1    1\n",
       "...          ...            ...                   ...        ...  ...\n",
       "66244   8.935904      12.000000              5.000000          1    0\n",
       "66245   8.070906      11.000000              1.000000          0    1\n",
       "66246  11.598562      17.737673             27.262327          0    0\n",
       "66247   9.210340      16.000000              3.000000          0    1\n",
       "66248  11.082143      17.737673             31.262327          0    0\n",
       "\n",
       "[66249 rows x 5 columns]"
      ]
     },
     "execution_count": 3,
     "metadata": {},
     "output_type": "execute_result"
    }
   ],
   "source": [
    "adv_data"
   ]
  },
  {
   "cell_type": "markdown",
   "id": "76de685f",
   "metadata": {},
   "source": [
    "***"
   ]
  },
  {
   "cell_type": "markdown",
   "id": "5b8a741f",
   "metadata": {},
   "source": [
    "# Full Sequential Synthesis Driven by Bayesian Optimization"
   ]
  },
  {
   "cell_type": "markdown",
   "id": "3a1688b8",
   "metadata": {},
   "source": [
    "Write function to train all models and generate the synthetic dataset, then evaluate the pMSE ratio."
   ]
  },
  {
   "cell_type": "code",
   "execution_count": 4,
   "id": "ab5f897a",
   "metadata": {},
   "outputs": [],
   "source": [
    "def train_models(#overall parameters\n",
    "                 train_data,\n",
    "                 number_synthetic_datasets,\n",
    "                 # hyperparameters for GMM, end with underscore means Bayesian optimization will choose\n",
    "                 number_gmm_initializations,\n",
    "                 num_components_,\n",
    "                 # hyperparameters for CART, end with underscore means Bayesian optimization will choose\n",
    "                 mb_non_white_,\n",
    "                 mb_sex_):\n",
    "    \n",
    "    num_samples = train_data.shape[0]\n",
    "\n",
    "    # normalized version of training data\n",
    "    scaler = StandardScaler().fit(train_data.loc[:,['incwage', 'years_of_educ', 'potential_experience']])\n",
    "    norm_train = train_data.copy()\n",
    "    norm_train.loc[:,['incwage', 'years_of_educ', 'potential_experience']] = scaler.transform(norm_train.loc[:,['incwage', 'years_of_educ', 'potential_experience']])\n",
    "    \n",
    "    ########## Code for GMM ############\n",
    "    \n",
    "    # fit GMM model\n",
    "    GMM = GaussianMixture(num_components_, n_init=number_gmm_initializations, covariance_type='full', init_params=\"k-means++\", random_state=rng).fit(norm_train.loc[:, ['incwage', 'years_of_educ', 'potential_experience']])\n",
    "    \n",
    "    # list for synthetic datasets\n",
    "    sXs = []\n",
    "    \n",
    "    # generate and store number_synthetic_datasets synthetic datasets\n",
    "    for i in range(number_synthetic_datasets):\n",
    "        sX = GMM.sample(num_samples)[0]\n",
    "        sX = pd.DataFrame(sX, columns=['incwage', 'years_of_educ', 'potential_experience'])\n",
    "        sXs.append(sX)\n",
    "\n",
    "    ####################################################################################################\n",
    "        \n",
    "    ########### Code for non_white CART ##########\n",
    "    cart_non_white = DecisionTreeClassifier(min_samples_leaf=mb_non_white_, random_state=rng)\n",
    "    \n",
    "    cart_non_white.fit(X=norm_train.loc[:, ['incwage', 'years_of_educ', 'potential_experience']], y=norm_train.loc[:, \"non_white\"])\n",
    "    \n",
    "    node_indicators = cart_non_white.decision_path(norm_train.loc[:, ['incwage', 'years_of_educ', 'potential_experience']]).toarray()\n",
    "    \n",
    "    node_outcomes = [norm_train.loc[:, 'non_white'][node_indicators[:,x]==1] for x in np.arange(node_indicators.shape[1])]\n",
    "    \n",
    "    for i in range(number_synthetic_datasets):\n",
    "        \n",
    "        synth_leaves = cart_non_white.apply(sXs[i].loc[:,['incwage', 'years_of_educ', 'potential_experience']])\n",
    "        \n",
    "        new_non_white = np.zeros(len(synth_leaves), dtype=int)\n",
    "        \n",
    "        for j, x in enumerate(np.arange(node_indicators.shape[1])):\n",
    "            \n",
    "            new_non_white[synth_leaves==x] = rng.choice(node_outcomes[x], size=np.sum(synth_leaves==x))\n",
    "        \n",
    "        new_non_white = pd.Series(new_non_white)\n",
    "        \n",
    "        new_non_white.name = \"non_white\"\n",
    "        \n",
    "        sXs[i] = pd.concat([sXs[i], new_non_white], axis=1)\n",
    "    \n",
    "    ####################################################################################################\n",
    "        \n",
    "    ########### Code for sex CART ##########\n",
    "    \n",
    "    cart_sex = DecisionTreeClassifier(min_samples_leaf=mb_sex_, random_state=rng)\n",
    "    \n",
    "    cart_sex.fit(X=norm_train.loc[:, ['incwage', 'years_of_educ', 'potential_experience', 'non_white']], y=norm_train.loc[:, \"sex\"])\n",
    "    \n",
    "    node_indicators = cart_sex.decision_path(norm_train.loc[:, ['incwage', 'years_of_educ', 'potential_experience', 'non_white']]).toarray()\n",
    "    \n",
    "    node_outcomes = [norm_train.loc[:, 'sex'][node_indicators[:,x]==1] for x in np.arange(node_indicators.shape[1])]\n",
    "    \n",
    "    for i in range(number_synthetic_datasets):\n",
    "        \n",
    "        synth_leaves = cart_sex.apply(sXs[i].loc[:,['incwage', 'years_of_educ', 'potential_experience', 'non_white']])\n",
    "        \n",
    "        new_sex = np.zeros(len(synth_leaves), dtype=int)\n",
    "        \n",
    "        for j, x in enumerate(np.arange(node_indicators.shape[1])):\n",
    "            \n",
    "            new_sex[synth_leaves==x] = rng.choice(node_outcomes[x], size=np.sum(synth_leaves==x))\n",
    "        \n",
    "        new_sex = pd.Series(new_sex)\n",
    "        \n",
    "        new_sex.name = \"sex\"\n",
    "        \n",
    "        sXs[i] = pd.concat([sXs[i], new_sex], axis=1)\n",
    "        \n",
    "    ###### Calculate ks distances ######\n",
    "    pmse_ratios = [pmse_ratio(norm_train, Y) for Y in sXs]\n",
    "\n",
    "    # convert sXs to original scale (un-normalize?)\n",
    "    for i, Z in enumerate(sXs):\n",
    "        H = train_data.sample(frac=1.0, replace=True, ignore_index=True).loc[:,['incwage', 'years_of_educ', 'potential_experience']]\n",
    "        scaler = StandardScaler().fit(H)\n",
    "        Z.loc[:,['incwage', 'years_of_educ', 'potential_experience']] = scaler.inverse_transform(Z.loc[:,['incwage', 'years_of_educ', 'potential_experience']])\n",
    "        Z.loc[:, ['years_of_educ']] = np.round(Z.loc[:, ['years_of_educ']], 0)\n",
    "    \n",
    "    return pmse_ratios, sXs, GMM"
   ]
  },
  {
   "cell_type": "code",
   "execution_count": 5,
   "id": "796d2f96",
   "metadata": {},
   "outputs": [],
   "source": [
    "def optimize_models(train_data,\n",
    "                    number_synthetic_datasets,\n",
    "                    number_gmm_initializations,\n",
    "                    random_state):\n",
    "\n",
    "    def evaluate_models(num_components_, mb_non_white_, mb_sex_):\n",
    "\n",
    "        pmse_ratios, _, _ = train_models(train_data=train_data,\n",
    "                                         number_synthetic_datasets=number_synthetic_datasets,\n",
    "                                         number_gmm_initializations=number_gmm_initializations,\n",
    "                                         num_components_=int(num_components_),\n",
    "                                         mb_non_white_=int(mb_non_white_),\n",
    "                                         mb_sex_=int(mb_sex_))\n",
    "\n",
    "        return -1 * ((1 - np.mean(pmse_ratios))**2)\n",
    "\n",
    "    optimizer = BayesianOptimization(\n",
    "        f=evaluate_models,\n",
    "        pbounds={\n",
    "            \"num_components_\": (10, 200.99),\n",
    "            \"mb_non_white_\": (10, 350.99),\n",
    "            \"mb_sex_\": (10, 350.99)\n",
    "        },\n",
    "        random_state=random_state)\n",
    "\n",
    "    utility = UtilityFunction(kind=\"ei\", xi=1e-02)\n",
    "    optimizer.maximize(init_points=5, n_iter=25, acquisition_function=utility)\n",
    "    print(\"Final Result: \", optimizer.max)\n",
    "    return optimizer.max, optimizer"
   ]
  },
  {
   "cell_type": "markdown",
   "id": "5594760a",
   "metadata": {},
   "source": [
    "The default value of $\\alpha = 1e-06$."
   ]
  },
  {
   "cell_type": "code",
   "execution_count": 6,
   "id": "15d5ded7",
   "metadata": {},
   "outputs": [],
   "source": [
    "nsd = 10\n",
    "ngi = 2\n",
    "random_states = [np.random.RandomState(1006), np.random.RandomState(428)]"
   ]
  },
  {
   "cell_type": "code",
   "execution_count": 8,
   "id": "fe01e70f",
   "metadata": {},
   "outputs": [
    {
     "name": "stdout",
     "output_type": "stream",
     "text": [
      "|   iter    |  target   | mb_non... |  mb_sex_  | num_co... |\n",
      "-------------------------------------------------------------\n",
      "| \u001b[30m1         | \u001b[30m-1.467    | \u001b[30m263.4     | \u001b[30m87.21     | \u001b[30m132.7     |\n",
      "| \u001b[35m2         | \u001b[35m-1.399    | \u001b[35m310.9     | \u001b[35m262.6     | \u001b[35m147.8     |\n",
      "| \u001b[30m3         | \u001b[30m-136.1    | \u001b[30m110.7     | \u001b[30m189.2     | \u001b[30m43.19     |\n",
      "| \u001b[30m4         | \u001b[30m-54.96    | \u001b[30m286.9     | \u001b[30m299.6     | \u001b[30m58.99     |\n",
      "| \u001b[30m5         | \u001b[30m-25.67    | \u001b[30m90.89     | \u001b[30m166.3     | \u001b[30m53.72     |\n",
      "| \u001b[30m6         | \u001b[30m-1.714    | \u001b[30m310.7     | \u001b[30m263.0     | \u001b[30m148.5     |\n",
      "| \u001b[35m7         | \u001b[35m-1.039    | \u001b[35m318.8     | \u001b[35m246.1     | \u001b[35m155.0     |\n",
      "| \u001b[30m8         | \u001b[30m-3.596    | \u001b[30m295.2     | \u001b[30m243.2     | \u001b[30m148.6     |\n",
      "| \u001b[30m9         | \u001b[30m-3.264    | \u001b[30m72.2      | \u001b[30m144.7     | \u001b[30m63.66     |\n",
      "| \u001b[30m10        | \u001b[30m-1.644    | \u001b[30m320.8     | \u001b[30m232.1     | \u001b[30m124.4     |\n",
      "| \u001b[35m11        | \u001b[35m-0.7404   | \u001b[35m276.2     | \u001b[35m120.2     | \u001b[35m133.6     |\n",
      "| \u001b[30m12        | \u001b[30m-3.946    | \u001b[30m296.6     | \u001b[30m94.83     | \u001b[30m119.2     |\n",
      "| \u001b[30m13        | \u001b[30m-0.7902   | \u001b[30m287.9     | \u001b[30m97.19     | \u001b[30m159.8     |\n",
      "| \u001b[35m14        | \u001b[35m-0.000134 | \u001b[35m250.6     | \u001b[35m111.7     | \u001b[35m165.0     |\n",
      "| \u001b[30m15        | \u001b[30m-0.3995   | \u001b[30m280.9     | \u001b[30m140.0     | \u001b[30m174.2     |\n",
      "| \u001b[30m16        | \u001b[30m-0.3848   | \u001b[30m247.3     | \u001b[30m155.1     | \u001b[30m152.6     |\n",
      "| \u001b[30m17        | \u001b[30m-4.026    | \u001b[30m290.7     | \u001b[30m175.4     | \u001b[30m142.3     |\n",
      "| \u001b[30m18        | \u001b[30m-0.1271   | \u001b[30m241.1     | \u001b[30m148.6     | \u001b[30m197.0     |\n",
      "| \u001b[30m19        | \u001b[30m-0.2301   | \u001b[30m263.4     | \u001b[30m185.1     | \u001b[30m186.2     |\n",
      "| \u001b[30m20        | \u001b[30m-0.3452   | \u001b[30m217.4     | \u001b[30m185.5     | \u001b[30m180.3     |\n",
      "| \u001b[30m21        | \u001b[30m-0.1406   | \u001b[30m202.6     | \u001b[30m139.1     | \u001b[30m170.0     |\n",
      "| \u001b[30m22        | \u001b[30m-1.557    | \u001b[30m217.8     | \u001b[30m117.1     | \u001b[30m127.6     |\n",
      "| \u001b[30m23        | \u001b[30m-0.3275   | \u001b[30m204.6     | \u001b[30m86.34     | \u001b[30m167.6     |\n",
      "| \u001b[30m24        | \u001b[30m-0.007238 | \u001b[30m247.3     | \u001b[30m62.72     | \u001b[30m184.6     |\n",
      "| \u001b[30m25        | \u001b[30m-0.006937 | \u001b[30m224.0     | \u001b[30m100.3     | \u001b[30m201.0     |\n",
      "| \u001b[30m26        | \u001b[30m-2.102    | \u001b[30m224.4     | \u001b[30m43.91     | \u001b[30m141.9     |\n",
      "| \u001b[35m27        | \u001b[35m-3.316e-0 | \u001b[35m203.2     | \u001b[35m46.02     | \u001b[35m201.0     |\n",
      "| \u001b[30m28        | \u001b[30m-0.02122  | \u001b[30m168.9     | \u001b[30m93.56     | \u001b[30m201.0     |\n",
      "| \u001b[30m29        | \u001b[30m-0.9513   | \u001b[30m162.4     | \u001b[30m51.03     | \u001b[30m170.8     |\n",
      "| \u001b[30m30        | \u001b[30m-0.73     | \u001b[30m154.8     | \u001b[30m104.4     | \u001b[30m153.4     |\n",
      "=============================================================\n",
      "Final Result:  {'target': -3.316083988675802e-05, 'params': {'mb_non_white_': 203.21359460992954, 'mb_sex_': 46.01747341257388, 'num_components_': 200.99}}\n",
      "|   iter    |  target   | mb_non... |  mb_sex_  | num_co... |\n",
      "-------------------------------------------------------------\n",
      "| \u001b[30m1         | \u001b[30m-10.96    | \u001b[30m289.1     | \u001b[30m308.2     | \u001b[30m89.92     |\n",
      "| \u001b[30m2         | \u001b[30m-465.3    | \u001b[30m161.8     | \u001b[30m53.83     | \u001b[30m30.04     |\n",
      "| \u001b[35m3         | \u001b[35m-9.992    | \u001b[35m230.3     | \u001b[35m338.1     | \u001b[35m65.53     |\n",
      "| \u001b[35m4         | \u001b[35m-4.382    | \u001b[35m32.75     | \u001b[35m178.0     | \u001b[35m86.85     |\n",
      "| \u001b[30m5         | \u001b[30m-83.25    | \u001b[30m84.31     | \u001b[30m294.6     | \u001b[30m44.79     |\n",
      "| \u001b[35m6         | \u001b[35m-3.284    | \u001b[35m289.2     | \u001b[35m315.1     | \u001b[35m84.32     |\n",
      "| \u001b[35m7         | \u001b[35m-1.302    | \u001b[35m10.0      | \u001b[35m220.5     | \u001b[35m172.3     |\n",
      "| \u001b[30m8         | \u001b[30m-2.912e+0 | \u001b[30m351.0     | \u001b[30m351.0     | \u001b[30m10.0      |\n",
      "| \u001b[30m9         | \u001b[30m-3.644    | \u001b[30m256.6     | \u001b[30m344.2     | \u001b[30m118.7     |\n",
      "| \u001b[30m10        | \u001b[30m-13.87    | \u001b[30m289.8     | \u001b[30m314.1     | \u001b[30m84.62     |\n",
      "| \u001b[35m11        | \u001b[35m-0.7151   | \u001b[35m94.27     | \u001b[35m234.5     | \u001b[35m131.2     |\n",
      "| \u001b[30m12        | \u001b[30m-7.376    | \u001b[30m10.0      | \u001b[30m266.1     | \u001b[30m99.96     |\n",
      "| \u001b[30m13        | \u001b[30m-0.9432   | \u001b[30m54.44     | \u001b[30m320.3     | \u001b[30m180.1     |\n",
      "| \u001b[30m14        | \u001b[30m-6.035    | \u001b[30m197.3     | \u001b[30m258.4     | \u001b[30m87.28     |\n",
      "| \u001b[35m15        | \u001b[35m-0.2576   | \u001b[35m77.52     | \u001b[35m138.5     | \u001b[35m201.0     |\n",
      "| \u001b[30m16        | \u001b[30m-0.9797   | \u001b[30m10.0      | \u001b[30m92.0      | \u001b[30m155.0     |\n",
      "| \u001b[30m17        | \u001b[30m-0.5819   | \u001b[30m168.1     | \u001b[30m217.5     | \u001b[30m201.0     |\n",
      "| \u001b[35m18        | \u001b[35m-0.000316 | \u001b[35m62.65     | \u001b[35m10.0      | \u001b[35m201.0     |\n",
      "| \u001b[30m19        | \u001b[30m-5.367    | \u001b[30m258.7     | \u001b[30m317.9     | \u001b[30m87.49     |\n",
      "| \u001b[30m20        | \u001b[30m-2.217    | \u001b[30m127.9     | \u001b[30m351.0     | \u001b[30m115.8     |\n",
      "| \u001b[30m21        | \u001b[30m-0.4668   | \u001b[30m139.1     | \u001b[30m302.3     | \u001b[30m201.0     |\n",
      "| \u001b[30m22        | \u001b[30m-0.000540 | \u001b[30m157.2     | \u001b[30m73.24     | \u001b[30m201.0     |\n",
      "| \u001b[30m23        | \u001b[30m-0.2857   | \u001b[30m246.6     | \u001b[30m141.7     | \u001b[30m201.0     |\n",
      "| \u001b[30m24        | \u001b[30m-3.268    | \u001b[30m176.5     | \u001b[30m168.0     | \u001b[30m132.3     |\n",
      "| \u001b[30m25        | \u001b[30m-1.048    | \u001b[30m281.6     | \u001b[30m244.1     | \u001b[30m201.0     |\n",
      "| \u001b[30m26        | \u001b[30m-1.303    | \u001b[30m319.2     | \u001b[30m339.1     | \u001b[30m201.0     |\n",
      "| \u001b[30m27        | \u001b[30m-0.005325 | \u001b[30m272.5     | \u001b[30m25.99     | \u001b[30m201.0     |\n",
      "| \u001b[30m28        | \u001b[30m-0.272    | \u001b[30m351.0     | \u001b[30m101.5     | \u001b[30m201.0     |\n",
      "| \u001b[30m29        | \u001b[30m-3.559    | \u001b[30m351.0     | \u001b[30m12.7      | \u001b[30m137.1     |\n",
      "| \u001b[30m30        | \u001b[30m-0.2321   | \u001b[30m299.9     | \u001b[30m97.73     | \u001b[30m127.4     |\n",
      "=============================================================\n",
      "Final Result:  {'target': -0.0003163287490069593, 'params': {'mb_non_white_': 62.652775649798976, 'mb_sex_': 10.0, 'num_components_': 200.99}}\n"
     ]
    }
   ],
   "source": [
    "optimization_results = [optimize_models(train_data=adv_data, number_synthetic_datasets=nsd, number_gmm_initializations=ngi, random_state=r) for r in random_states]"
   ]
  },
  {
   "cell_type": "markdown",
   "id": "dab452a9",
   "metadata": {},
   "source": [
    "***"
   ]
  },
  {
   "cell_type": "code",
   "execution_count": 9,
   "id": "2c71552b",
   "metadata": {},
   "outputs": [],
   "source": [
    "run_targets = [np.minimum.accumulate(-i[1].space.target) for i in optimization_results]"
   ]
  },
  {
   "cell_type": "code",
   "execution_count": 10,
   "id": "bb2e246f",
   "metadata": {},
   "outputs": [
    {
     "data": {
      "image/png": "[encoded data removed]",
      "text/plain": [
       "<Figure size 640x480 with 1 Axes>"
      ]
     },
     "metadata": {},
     "output_type": "display_data"
    }
   ],
   "source": [
    "fig = plt.figure()\n",
    "plt.plot(run_targets[0])\n",
    "plt.scatter(np.arange(len(run_targets[0])), run_targets[0], s=6)\n",
    "plt.plot(run_targets[1])\n",
    "plt.scatter(np.arange(len(run_targets[1])), run_targets[1], s=6)\n",
    "plt.title(\"CPS ASEC Data - Objective Value for CART Synthesis\")\n",
    "plt.xlabel(\"Iteration\")\n",
    "plt.ylabel(\"Minimum Objective Value\")\n",
    "plt.show()"
   ]
  },
  {
   "cell_type": "markdown",
   "id": "325348ce",
   "metadata": {},
   "source": [
    "Choose the params that gave the best objective value across all random seeds."
   ]
  },
  {
   "cell_type": "code",
   "execution_count": 11,
   "id": "69f179aa",
   "metadata": {},
   "outputs": [],
   "source": [
    "best_params = optimization_results[np.argmax([x[0]['target'] for x in optimization_results])][0]"
   ]
  },
  {
   "cell_type": "code",
   "execution_count": 12,
   "id": "112b4969",
   "metadata": {},
   "outputs": [
    {
     "data": {
      "text/plain": [
       "{'target': -3.316083988675802e-05,\n",
       " 'params': {'mb_non_white_': 203.21359460992954,\n",
       "  'mb_sex_': 46.01747341257388,\n",
       "  'num_components_': 200.99}}"
      ]
     },
     "execution_count": 12,
     "metadata": {},
     "output_type": "execute_result"
    }
   ],
   "source": [
    "best_params"
   ]
  },
  {
   "cell_type": "markdown",
   "id": "8c940983",
   "metadata": {},
   "source": [
    "***"
   ]
  },
  {
   "cell_type": "markdown",
   "id": "c8e1ea09",
   "metadata": {},
   "source": [
    "Generate 20 synthetic datasets."
   ]
  },
  {
   "cell_type": "code",
   "execution_count": 13,
   "id": "9ed0391f",
   "metadata": {},
   "outputs": [],
   "source": [
    "pmse_ratios, full_sXs, GMM = train_models(train_data=adv_data,\n",
    "                                          number_synthetic_datasets=20,\n",
    "                                          # hyperparameters for GMM\n",
    "                                          number_gmm_initializations=ngi,\n",
    "                                          num_components_=int(best_params['params']['num_components_']),\n",
    "                                          # hyperparameters for CART, end with underscore means Bayesian optimization will choose\n",
    "                                          mb_sex_=int(best_params['params']['mb_sex_']),\n",
    "                                          mb_non_white_=int(best_params['params']['mb_non_white_']))"
   ]
  },
  {
   "cell_type": "code",
   "execution_count": 14,
   "id": "295e7588",
   "metadata": {},
   "outputs": [
    {
     "data": {
      "text/plain": [
       "1.1778236094507093"
      ]
     },
     "execution_count": 14,
     "metadata": {},
     "output_type": "execute_result"
    }
   ],
   "source": [
    "np.mean(pmse_ratios)"
   ]
  },
  {
   "cell_type": "code",
   "execution_count": 15,
   "id": "a3d6a0f6",
   "metadata": {},
   "outputs": [
    {
     "data": {
      "image/png": "[encoded data removed]",
      "text/plain": [
       "<Figure size 640x480 with 1 Axes>"
      ]
     },
     "metadata": {},
     "output_type": "display_data"
    }
   ],
   "source": [
    "plt.violinplot(pmse_ratios)\n",
    "plt.xlabel(\"Density\")\n",
    "plt.ylabel(\"pMSE Ratio\")\n",
    "plt.title(\"Distribution of pMSE Ratios\")\n",
    "plt.show()"
   ]
  },
  {
   "cell_type": "markdown",
   "id": "af137729",
   "metadata": {},
   "source": [
    "***"
   ]
  },
  {
   "cell_type": "markdown",
   "id": "c7c4b464",
   "metadata": {},
   "source": [
    "# Save the synthetic datasets."
   ]
  },
  {
   "cell_type": "code",
   "execution_count": 16,
   "id": "5696e166",
   "metadata": {},
   "outputs": [],
   "source": [
    "for i, sX in enumerate(full_sXs):\n",
    "    sX.to_csv(\"synthetic_adv/sd_\" + str(i) + \".csv\", index=False)"
   ]
  },
  {
   "cell_type": "markdown",
   "id": "6447fc93-5044-4baf-a442-3532290f85d8",
   "metadata": {},
   "source": [
    "***"
   ]
  },
  {
   "cell_type": "code",
   "execution_count": 18,
   "id": "d5dbdd0f-c181-4088-a092-9dcc7abcc09a",
   "metadata": {},
   "outputs": [],
   "source": [
    "# full_sXs = [pd.read_csv(\"../Data/IPUMS/Synthetic Datasets/gmm_and_cart_\" + str(i) + \".csv\") for i in range(20)]"
   ]
  },
  {
   "cell_type": "code",
   "execution_count": 19,
   "id": "f8e24072-f7c1-4da6-9d4f-b6487ce49a6c",
   "metadata": {},
   "outputs": [],
   "source": [
    "# # load\n",
    "# with open('../Results/IPUMS/Models/gmm_and_cart.pkl', 'rb') as f:\n",
    "#     GMM = pickle.load(f)"
   ]
  },
  {
   "cell_type": "markdown",
   "id": "c40ffaea",
   "metadata": {},
   "source": [
    "***"
   ]
  },
  {
   "cell_type": "markdown",
   "id": "0345ce09-ee78-4257-800f-9cd8aa7d47cf",
   "metadata": {},
   "source": [
    "Now apply the attribute disclosure prevention algorithm."
   ]
  },
  {
   "cell_type": "markdown",
   "id": "70b049a1-bfe5-41b1-865e-c19bed1c59ce",
   "metadata": {},
   "source": [
    "We don't have a great baseline for the probability of being non-white, so we'll just use the proportion from the data."
   ]
  },
  {
   "cell_type": "code",
   "execution_count": 20,
   "id": "a21f0ce4-7015-491a-b2e3-eaee7831a1cc",
   "metadata": {},
   "outputs": [],
   "source": [
    "# prior = np.mean(train_data.non_white == 1)"
   ]
  },
  {
   "cell_type": "markdown",
   "id": "efdd5063-76e7-4338-a12f-a292798e3157",
   "metadata": {},
   "source": [
    "For our threshold, we select $c = 3$, i.e., we are allowing for a 3x increase in the probability of an adversary inferring the non-white status based on the synthetic data."
   ]
  },
  {
   "cell_type": "code",
   "execution_count": 21,
   "id": "51fcbc13-3352-47ac-84b0-46d89dab5867",
   "metadata": {},
   "outputs": [],
   "source": [
    "# prior"
   ]
  },
  {
   "cell_type": "code",
   "execution_count": 22,
   "id": "745893ab-4390-45c1-b590-4d9d33aeaea2",
   "metadata": {},
   "outputs": [],
   "source": [
    "# c = 3"
   ]
  },
  {
   "cell_type": "markdown",
   "id": "81aaa19a-2ab8-4a74-aa20-dcb10068af22",
   "metadata": {},
   "source": [
    "We provide a range of $\\delta$ values over which to evaluate and prevent attribute disclosure."
   ]
  },
  {
   "cell_type": "code",
   "execution_count": 23,
   "id": "7a5ef8d7-0d42-4e92-80a8-1abf1ed616e7",
   "metadata": {},
   "outputs": [],
   "source": [
    "# deltas = np.linspace(0.001, 0.1, 5)"
   ]
  },
  {
   "cell_type": "code",
   "execution_count": 24,
   "id": "84495b6b-960e-4018-9c0e-e539ed98cc73",
   "metadata": {},
   "outputs": [],
   "source": [
    "# ad_sXs = [attribute_disclosure_reduction(original_data=train_data, \n",
    "#                                          synthetic_data=X,\n",
    "#                                          continuous_vars=['incwage', 'years_of_educ', 'potential_experience'],\n",
    "#                                          categorical_vars=['sex'],\n",
    "#                                          sensitive_var='non_white',\n",
    "#                                          mixture_model=GMM,\n",
    "#                                          deltas=deltas, \n",
    "#                                          c=c, \n",
    "#                                          prior_prob=prior) for X in full_sXs]"
   ]
  },
  {
   "cell_type": "markdown",
   "id": "b862aca8-d123-467a-a2cd-5ba9276e7204",
   "metadata": {},
   "source": [
    "***"
   ]
  },
  {
   "cell_type": "code",
   "execution_count": 25,
   "id": "9c3b0fab-fc10-4098-a8f3-901cc70ea817",
   "metadata": {},
   "outputs": [],
   "source": [
    "# num_records = train_data.shape[0]"
   ]
  },
  {
   "cell_type": "code",
   "execution_count": 26,
   "id": "1771d7dc-db51-4268-b6a0-24f561835ffe",
   "metadata": {},
   "outputs": [],
   "source": [
    "# np.mean([Z.shape[0] - num_records for Z in ad_sXs])"
   ]
  },
  {
   "cell_type": "markdown",
   "id": "2360a9c4-57e8-4e8a-8973-0d2be3022ef8",
   "metadata": {},
   "source": [
    "***"
   ]
  },
  {
   "cell_type": "code",
   "execution_count": 27,
   "id": "8f87b905-8160-4afd-b228-bae14f5617bd",
   "metadata": {},
   "outputs": [],
   "source": [
    "# for i, sX in enumerate(ad_sXs):\n",
    "\n",
    "#     # normalize\n",
    "#     sX.loc[:,['incwage', 'years_of_educ', 'potential_experience']] = StandardScaler().fit_transform(sX.loc[:,['incwage', 'years_of_educ', 'potential_experience']])\n",
    "#     full_sXs[i].loc[:,['incwage', 'years_of_educ', 'potential_experience']] = StandardScaler().fit_transform(full_sXs[i].loc[:,['incwage', 'years_of_educ', 'potential_experience']])\n",
    "\n",
    "#     # reverse the normalization using means/sds from bootstrap sampled confidential data\n",
    "#     H = train_data.sample(frac=1.0, replace=True, ignore_index=True).loc[:,['incwage', 'years_of_educ', 'potential_experience']]\n",
    "#     scaler = StandardScaler().fit(H)\n",
    "#     sX.loc[:,['incwage', 'years_of_educ', 'potential_experience']] = scaler.inverse_transform(sX.loc[:,['incwage', 'years_of_educ', 'potential_experience']])\n",
    "#     full_sXs[i].loc[:,['incwage', 'years_of_educ', 'potential_experience']] = scaler.inverse_transform(full_sXs[i].loc[:,['incwage', 'years_of_educ', 'potential_experience']])\n",
    "#     sX.to_csv(\"../Data/IPUMS/Synthetic Datasets/ad_gmm_and_cart_\" + str(i) + \".csv\", index=False)\n",
    "#     full_sXs[i].to_csv(\"../Data/IPUMS/Synthetic Datasets/gmm_and_cart_\" + str(i) + \".csv\", index=False)"
   ]
  },
  {
   "cell_type": "markdown",
   "id": "a8aa093b-7fd9-489b-8b57-00551967e3f9",
   "metadata": {},
   "source": [
    "***"
   ]
  }
 ],
 "metadata": {
  "kernelspec": {
   "display_name": "base",
   "language": "python",
   "name": "python3"
  },
  "language_info": {
   "codemirror_mode": {
    "name": "ipython",
    "version": 3
   },
   "file_extension": ".py",
   "mimetype": "text/x-python",
   "name": "python",
   "nbconvert_exporter": "python",
   "pygments_lexer": "ipython3",
   "version": "3.11.7"
  }
 },
 "nbformat": 4,
 "nbformat_minor": 5
}
