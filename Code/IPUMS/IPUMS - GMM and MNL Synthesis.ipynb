{
 "cells": [
  {
   "cell_type": "markdown",
   "id": "96f48262",
   "metadata": {},
   "source": [
    "This notebook performs the synthesis using our proposed synthesization approach applied to the IPUMS data. The synthesis model is a CART. Logistic regression with three way interactions is used as the pMSE model."
   ]
  },
  {
   "cell_type": "code",
   "execution_count": 1,
   "id": "2d3f5c21",
   "metadata": {},
   "outputs": [],
   "source": [
    "from sklearn.mixture import GaussianMixture\n",
    "import matplotlib.pyplot as plt\n",
    "import itertools\n",
    "import os\n",
    "import pickle\n",
    "\n",
    "from bayes_opt import BayesianOptimization\n",
    "from bayes_opt import UtilityFunction\n",
    "\n",
    "from sklearn.preprocessing import StandardScaler\n",
    "\n",
    "from helper_functions import *\n",
    "\n",
    "rng = np.random.RandomState(42)"
   ]
  },
  {
   "cell_type": "markdown",
   "id": "76a8ccbc",
   "metadata": {},
   "source": [
    "Import the data."
   ]
  },
  {
   "cell_type": "code",
   "execution_count": 2,
   "id": "730c2f2e",
   "metadata": {},
   "outputs": [],
   "source": [
    "# import standardized lat/long location data\n",
    "train_data = pd.read_csv(\"../Data/IPUMS/cleaned_ipums_data.csv\")"
   ]
  },
  {
   "cell_type": "code",
   "execution_count": 3,
   "id": "72e1d5fe-3731-46b6-ae83-8e698e6a4b79",
   "metadata": {},
   "outputs": [
    {
     "data": {
      "text/html": [
       "<div>\n",
       "<style scoped>\n",
       "    .dataframe tbody tr th:only-of-type {\n",
       "        vertical-align: middle;\n",
       "    }\n",
       "\n",
       "    .dataframe tbody tr th {\n",
       "        vertical-align: top;\n",
       "    }\n",
       "\n",
       "    .dataframe thead th {\n",
       "        text-align: right;\n",
       "    }\n",
       "</style>\n",
       "<table border=\"1\" class=\"dataframe\">\n",
       "  <thead>\n",
       "    <tr style=\"text-align: right;\">\n",
       "      <th></th>\n",
       "      <th>incwage</th>\n",
       "      <th>years_of_educ</th>\n",
       "      <th>potential_experience</th>\n",
       "      <th>non_white</th>\n",
       "      <th>sex</th>\n",
       "    </tr>\n",
       "  </thead>\n",
       "  <tbody>\n",
       "    <tr>\n",
       "      <th>0</th>\n",
       "      <td>9.305651</td>\n",
       "      <td>16.000000</td>\n",
       "      <td>18.000000</td>\n",
       "      <td>0</td>\n",
       "      <td>1</td>\n",
       "    </tr>\n",
       "    <tr>\n",
       "      <th>1</th>\n",
       "      <td>10.545341</td>\n",
       "      <td>15.000000</td>\n",
       "      <td>23.000000</td>\n",
       "      <td>0</td>\n",
       "      <td>0</td>\n",
       "    </tr>\n",
       "    <tr>\n",
       "      <th>2</th>\n",
       "      <td>8.853665</td>\n",
       "      <td>13.000000</td>\n",
       "      <td>2.000000</td>\n",
       "      <td>0</td>\n",
       "      <td>0</td>\n",
       "    </tr>\n",
       "    <tr>\n",
       "      <th>3</th>\n",
       "      <td>7.863267</td>\n",
       "      <td>11.000000</td>\n",
       "      <td>0.000000</td>\n",
       "      <td>0</td>\n",
       "      <td>0</td>\n",
       "    </tr>\n",
       "    <tr>\n",
       "      <th>4</th>\n",
       "      <td>9.942708</td>\n",
       "      <td>12.000000</td>\n",
       "      <td>33.000000</td>\n",
       "      <td>1</td>\n",
       "      <td>0</td>\n",
       "    </tr>\n",
       "    <tr>\n",
       "      <th>...</th>\n",
       "      <td>...</td>\n",
       "      <td>...</td>\n",
       "      <td>...</td>\n",
       "      <td>...</td>\n",
       "      <td>...</td>\n",
       "    </tr>\n",
       "    <tr>\n",
       "      <th>197751</th>\n",
       "      <td>10.021271</td>\n",
       "      <td>16.000000</td>\n",
       "      <td>13.000000</td>\n",
       "      <td>0</td>\n",
       "      <td>0</td>\n",
       "    </tr>\n",
       "    <tr>\n",
       "      <th>197752</th>\n",
       "      <td>8.411833</td>\n",
       "      <td>16.000000</td>\n",
       "      <td>11.000000</td>\n",
       "      <td>0</td>\n",
       "      <td>1</td>\n",
       "    </tr>\n",
       "    <tr>\n",
       "      <th>197753</th>\n",
       "      <td>10.518673</td>\n",
       "      <td>17.737673</td>\n",
       "      <td>19.262327</td>\n",
       "      <td>0</td>\n",
       "      <td>0</td>\n",
       "    </tr>\n",
       "    <tr>\n",
       "      <th>197754</th>\n",
       "      <td>7.313220</td>\n",
       "      <td>15.000000</td>\n",
       "      <td>13.000000</td>\n",
       "      <td>0</td>\n",
       "      <td>1</td>\n",
       "    </tr>\n",
       "    <tr>\n",
       "      <th>197755</th>\n",
       "      <td>10.716638</td>\n",
       "      <td>16.000000</td>\n",
       "      <td>32.000000</td>\n",
       "      <td>0</td>\n",
       "      <td>0</td>\n",
       "    </tr>\n",
       "  </tbody>\n",
       "</table>\n",
       "<p>197756 rows × 5 columns</p>\n",
       "</div>"
      ],
      "text/plain": [
       "          incwage  years_of_educ  potential_experience  non_white  sex\n",
       "0        9.305651      16.000000             18.000000          0    1\n",
       "1       10.545341      15.000000             23.000000          0    0\n",
       "2        8.853665      13.000000              2.000000          0    0\n",
       "3        7.863267      11.000000              0.000000          0    0\n",
       "4        9.942708      12.000000             33.000000          1    0\n",
       "...           ...            ...                   ...        ...  ...\n",
       "197751  10.021271      16.000000             13.000000          0    0\n",
       "197752   8.411833      16.000000             11.000000          0    1\n",
       "197753  10.518673      17.737673             19.262327          0    0\n",
       "197754   7.313220      15.000000             13.000000          0    1\n",
       "197755  10.716638      16.000000             32.000000          0    0\n",
       "\n",
       "[197756 rows x 5 columns]"
      ]
     },
     "execution_count": 3,
     "metadata": {},
     "output_type": "execute_result"
    }
   ],
   "source": [
    "train_data"
   ]
  },
  {
   "cell_type": "markdown",
   "id": "14972140",
   "metadata": {},
   "source": [
    "***"
   ]
  },
  {
   "cell_type": "markdown",
   "id": "e53ef6c3",
   "metadata": {},
   "source": [
    "Functions for logistic and multinomial logistic regression synthesizer."
   ]
  },
  {
   "cell_type": "code",
   "execution_count": 4,
   "id": "6927923b",
   "metadata": {},
   "outputs": [],
   "source": [
    "def train_models_mn(#overall parameters\n",
    "                    train_data,\n",
    "                    number_synthetic_datasets,\n",
    "                    # hyperparameters for GMM, end with underscore means Bayesian optimization will choose\n",
    "                    number_gmm_initializations,\n",
    "                    num_components_,\n",
    "                    # hyperparameters for CART, end with underscore means Bayesian optimization will choose\n",
    "                    C_non_white_,\n",
    "                    C_sex_):\n",
    "    \n",
    "    num_samples = train_data.shape[0]\n",
    "\n",
    "    # normalized version of training data\n",
    "    scaler = StandardScaler().fit(train_data.loc[:,['incwage', 'years_of_educ', 'potential_experience']])\n",
    "    norm_train = train_data.copy()\n",
    "    norm_train.loc[:,['incwage', 'years_of_educ', 'potential_experience']] = scaler.transform(norm_train.loc[:,['incwage', 'years_of_educ', 'potential_experience']])\n",
    "    \n",
    "    ########## Code for GMM ############\n",
    "    \n",
    "    # fit GMM model\n",
    "    GMM = GaussianMixture(num_components_, n_init=number_gmm_initializations, covariance_type='full', init_params=\"k-means++\", random_state=rng).fit(norm_train.loc[:,[\"incwage\", \"years_of_educ\", \"potential_experience\"]])\n",
    "    \n",
    "    # list for synthetic datasets\n",
    "    sXs = []\n",
    "    \n",
    "    # generate and store number_synthetic_datasets synthetic datasets\n",
    "    for i in range(number_synthetic_datasets):\n",
    "        sX = GMM.sample(num_samples)[0]\n",
    "        sX = pd.DataFrame(sX, columns=['incwage', 'years_of_educ', 'potential_experience'])\n",
    "        sXs.append(sX)\n",
    "        \n",
    "    ####################################################################################################\n",
    "        \n",
    "    ########### Code for non-white MN ##########\n",
    "    \n",
    "    synth_non_white_vars = multinomial_synthesizer(orig_data=norm_train.loc[:,[\"incwage\", \"years_of_educ\", \"potential_experience\"]], \n",
    "                                                   synth_data_sets=sXs, \n",
    "                                                   target=norm_train.non_white, \n",
    "                                                   penalty_param=C_non_white_)\n",
    "    \n",
    "    sXs = [pd.concat([Y, synth_non_white_vars[i]], axis=1) for i,Y in enumerate(sXs)]\n",
    "        \n",
    "    ####################################################################################################\n",
    "        \n",
    "    ########### Code for sex MN ##########\n",
    "    \n",
    "    synth_sex_vars = multinomial_synthesizer(orig_data=norm_train.loc[:,[\"incwage\", \"years_of_educ\", \"potential_experience\", \"non_white\"]], \n",
    "                                             synth_data_sets=sXs, \n",
    "                                             target=norm_train.sex, \n",
    "                                             penalty_param=C_sex_)\n",
    "    \n",
    "    sXs = [pd.concat([Y, synth_sex_vars[i]], axis=1) for i,Y in enumerate(sXs)]\n",
    "        \n",
    "    ####################################################################################################\n",
    "        \n",
    "    ###### Calculate pMSE ratios ######\n",
    "    pmse_ratios = [pmse_ratio(norm_train, Y) for Y in sXs]\n",
    "\n",
    "    # convert sXs to original scale (un-normalize?)\n",
    "    for i, Z in enumerate(sXs):\n",
    "        H = train_data.sample(frac=1.0, replace=True, ignore_index=True).loc[:,['incwage', 'years_of_educ', 'potential_experience']]\n",
    "        scaler = StandardScaler().fit(H)\n",
    "        Z.loc[:,['incwage', 'years_of_educ', 'potential_experience']] = scaler.inverse_transform(Z.loc[:,['incwage', 'years_of_educ', 'potential_experience']])\n",
    "        Z.loc[:, ['years_of_educ']] = np.round(Z.loc[:, ['years_of_educ']], 0)\n",
    "    \n",
    "    return pmse_ratios, sXs, GMM"
   ]
  },
  {
   "cell_type": "code",
   "execution_count": 5,
   "id": "51b65e19",
   "metadata": {},
   "outputs": [],
   "source": [
    "def optimize_models_mn(train_data,\n",
    "                       number_synthetic_datasets,\n",
    "                       number_gmm_initializations,\n",
    "                       random_state):\n",
    "\n",
    "    def evaluate_models(num_components_, C_non_white_, C_sex_):\n",
    "\n",
    "        pmse_ratios, _, _ = train_models_mn(train_data=train_data,\n",
    "                                            number_synthetic_datasets=number_synthetic_datasets,\n",
    "                                            number_gmm_initializations=number_gmm_initializations,\n",
    "                                            num_components_=int(num_components_),\n",
    "                                            C_non_white_=C_non_white_,\n",
    "                                            C_sex_=C_sex_)\n",
    "        \n",
    "        return -1 * ((1 - np.mean(pmse_ratios))**2)\n",
    "\n",
    "    optimizer = BayesianOptimization(\n",
    "        f=evaluate_models,\n",
    "        pbounds={\n",
    "            \"num_components_\": (10, 200.99),\n",
    "            \"C_non_white_\": (0.001, 3),\n",
    "            \"C_sex_\": (0.001, 3)\n",
    "        },\n",
    "        random_state=random_state)\n",
    "    \n",
    "    utility = UtilityFunction(kind=\"ei\", xi=1e-02)\n",
    "    optimizer.maximize(init_points=5, n_iter=25, acquisition_function=utility)\n",
    "    print(\"Final Result: \", optimizer.max)\n",
    "    return optimizer.max, optimizer"
   ]
  },
  {
   "cell_type": "markdown",
   "id": "4d4d62c3",
   "metadata": {},
   "source": [
    "The default value for $\\alpha = 1e-06$."
   ]
  },
  {
   "cell_type": "code",
   "execution_count": 6,
   "id": "13b295a6",
   "metadata": {},
   "outputs": [],
   "source": [
    "nsd = 10\n",
    "ngi = 2\n",
    "random_states = [np.random.RandomState(1006), np.random.RandomState(428)]"
   ]
  },
  {
   "cell_type": "code",
   "execution_count": 7,
   "id": "93c78ab1",
   "metadata": {},
   "outputs": [
    {
     "name": "stdout",
     "output_type": "stream",
     "text": [
      "|   iter    |  target   | C_non_... |  C_sex_   | num_co... |\n",
      "-------------------------------------------------------------\n",
      "| \u001b[0m1        \u001b[0m | \u001b[0m-17.35   \u001b[0m | \u001b[0m2.23     \u001b[0m | \u001b[0m0.68     \u001b[0m | \u001b[0m132.7    \u001b[0m |\n",
      "| \u001b[95m2        \u001b[0m | \u001b[95m-16.86   \u001b[0m | \u001b[95m2.647    \u001b[0m | \u001b[95m2.222    \u001b[0m | \u001b[95m147.8    \u001b[0m |\n",
      "| \u001b[0m3        \u001b[0m | \u001b[0m-8.057e+0\u001b[0m | \u001b[0m0.8867   \u001b[0m | \u001b[0m1.577    \u001b[0m | \u001b[0m43.19    \u001b[0m |\n",
      "| \u001b[0m4        \u001b[0m | \u001b[0m-172.7   \u001b[0m | \u001b[0m2.436    \u001b[0m | \u001b[0m2.548    \u001b[0m | \u001b[0m58.99    \u001b[0m |\n",
      "| \u001b[0m5        \u001b[0m | \u001b[0m-348.2   \u001b[0m | \u001b[0m0.7125   \u001b[0m | \u001b[0m1.376    \u001b[0m | \u001b[0m53.72    \u001b[0m |\n",
      "| \u001b[95m6        \u001b[0m | \u001b[95m-14.34   \u001b[0m | \u001b[95m2.438    \u001b[0m | \u001b[95m1.451    \u001b[0m | \u001b[95m140.2    \u001b[0m |\n",
      "| \u001b[0m7        \u001b[0m | \u001b[0m-154.3   \u001b[0m | \u001b[0m0.001    \u001b[0m | \u001b[0m0.001    \u001b[0m | \u001b[0m156.3    \u001b[0m |\n",
      "| \u001b[0m8        \u001b[0m | \u001b[0m-95.46   \u001b[0m | \u001b[0m0.001    \u001b[0m | \u001b[0m3.0      \u001b[0m | \u001b[0m123.2    \u001b[0m |\n",
      "| \u001b[0m9        \u001b[0m | \u001b[0m-138.6   \u001b[0m | \u001b[0m3.0      \u001b[0m | \u001b[0m0.001    \u001b[0m | \u001b[0m113.6    \u001b[0m |\n",
      "| \u001b[0m10       \u001b[0m | \u001b[0m-84.13   \u001b[0m | \u001b[0m0.001    \u001b[0m | \u001b[0m3.0      \u001b[0m | \u001b[0m103.6    \u001b[0m |\n",
      "| \u001b[0m11       \u001b[0m | \u001b[0m-127.1   \u001b[0m | \u001b[0m3.0      \u001b[0m | \u001b[0m0.001    \u001b[0m | \u001b[0m93.87    \u001b[0m |\n",
      "| \u001b[0m12       \u001b[0m | \u001b[0m-86.77   \u001b[0m | \u001b[0m0.001    \u001b[0m | \u001b[0m3.0      \u001b[0m | \u001b[0m83.5     \u001b[0m |\n",
      "| \u001b[95m13       \u001b[0m | \u001b[95m-13.67   \u001b[0m | \u001b[95m2.026    \u001b[0m | \u001b[95m1.32     \u001b[0m | \u001b[95m138.9    \u001b[0m |\n",
      "| \u001b[95m14       \u001b[0m | \u001b[95m-1.046   \u001b[0m | \u001b[95m3.0      \u001b[0m | \u001b[95m3.0      \u001b[0m | \u001b[95m170.9    \u001b[0m |\n",
      "| \u001b[0m15       \u001b[0m | \u001b[0m-162.9   \u001b[0m | \u001b[0m0.001    \u001b[0m | \u001b[0m0.001    \u001b[0m | \u001b[0m182.3    \u001b[0m |\n",
      "| \u001b[95m16       \u001b[0m | \u001b[95m-0.4859  \u001b[0m | \u001b[95m2.759    \u001b[0m | \u001b[95m2.701    \u001b[0m | \u001b[95m196.5    \u001b[0m |\n",
      "| \u001b[0m17       \u001b[0m | \u001b[0m-74.2    \u001b[0m | \u001b[0m0.5245   \u001b[0m | \u001b[0m0.01036  \u001b[0m | \u001b[0m73.48    \u001b[0m |\n",
      "| \u001b[0m18       \u001b[0m | \u001b[0m-1.373e+0\u001b[0m | \u001b[0m3.0      \u001b[0m | \u001b[0m0.001    \u001b[0m | \u001b[0m10.0     \u001b[0m |\n",
      "| \u001b[0m19       \u001b[0m | \u001b[0m-949.2   \u001b[0m | \u001b[0m0.001    \u001b[0m | \u001b[0m0.001    \u001b[0m | \u001b[0m58.95    \u001b[0m |\n",
      "| \u001b[0m20       \u001b[0m | \u001b[0m-190.3   \u001b[0m | \u001b[0m0.001    \u001b[0m | \u001b[0m0.001    \u001b[0m | \u001b[0m201.0    \u001b[0m |\n",
      "| \u001b[0m21       \u001b[0m | \u001b[0m-36.58   \u001b[0m | \u001b[0m2.95     \u001b[0m | \u001b[0m2.822    \u001b[0m | \u001b[0m76.78    \u001b[0m |\n",
      "| \u001b[0m22       \u001b[0m | \u001b[0m-3.101   \u001b[0m | \u001b[0m0.0221   \u001b[0m | \u001b[0m2.979    \u001b[0m | \u001b[0m191.0    \u001b[0m |\n",
      "| \u001b[0m23       \u001b[0m | \u001b[0m-3.15    \u001b[0m | \u001b[0m2.978    \u001b[0m | \u001b[0m2.917    \u001b[0m | \u001b[0m161.1    \u001b[0m |\n",
      "| \u001b[0m24       \u001b[0m | \u001b[0m-174.1   \u001b[0m | \u001b[0m3.0      \u001b[0m | \u001b[0m0.001    \u001b[0m | \u001b[0m81.06    \u001b[0m |\n",
      "| \u001b[95m25       \u001b[0m | \u001b[95m-0.4241  \u001b[0m | \u001b[95m2.914    \u001b[0m | \u001b[95m0.07218  \u001b[0m | \u001b[95m190.9    \u001b[0m |\n",
      "| \u001b[0m26       \u001b[0m | \u001b[0m-5.669   \u001b[0m | \u001b[0m0.3477   \u001b[0m | \u001b[0m0.03164  \u001b[0m | \u001b[0m165.9    \u001b[0m |\n",
      "| \u001b[0m27       \u001b[0m | \u001b[0m-629.7   \u001b[0m | \u001b[0m2.652    \u001b[0m | \u001b[0m2.958    \u001b[0m | \u001b[0m55.88    \u001b[0m |\n",
      "| \u001b[0m28       \u001b[0m | \u001b[0m-257.1   \u001b[0m | \u001b[0m2.87     \u001b[0m | \u001b[0m2.683    \u001b[0m | \u001b[0m67.85    \u001b[0m |\n",
      "| \u001b[0m29       \u001b[0m | \u001b[0m-97.41   \u001b[0m | \u001b[0m3.0      \u001b[0m | \u001b[0m0.001    \u001b[0m | \u001b[0m103.4    \u001b[0m |\n",
      "| \u001b[0m30       \u001b[0m | \u001b[0m-1.86    \u001b[0m | \u001b[0m2.938    \u001b[0m | \u001b[0m2.938    \u001b[0m | \u001b[0m183.5    \u001b[0m |\n",
      "=============================================================\n",
      "Final Result:  {'target': -0.4240556718658755, 'params': {'C_non_white_': 2.913536225982302, 'C_sex_': 0.0721814178328715, 'num_components_': 190.8550459917231}}\n",
      "|   iter    |  target   | C_non_... |  C_sex_   | num_co... |\n",
      "-------------------------------------------------------------\n",
      "| \u001b[0m1        \u001b[0m | \u001b[0m-33.27   \u001b[0m | \u001b[0m2.455    \u001b[0m | \u001b[0m2.623    \u001b[0m | \u001b[0m89.92    \u001b[0m |\n",
      "| \u001b[0m2        \u001b[0m | \u001b[0m-8.114e+0\u001b[0m | \u001b[0m1.336    \u001b[0m | \u001b[0m0.3865   \u001b[0m | \u001b[0m30.04    \u001b[0m |\n",
      "| \u001b[0m3        \u001b[0m | \u001b[0m-129.0   \u001b[0m | \u001b[0m1.939    \u001b[0m | \u001b[0m2.886    \u001b[0m | \u001b[0m65.53    \u001b[0m |\n",
      "| \u001b[95m4        \u001b[0m | \u001b[95m-31.93   \u001b[0m | \u001b[95m0.2011   \u001b[0m | \u001b[95m1.478    \u001b[0m | \u001b[95m86.85    \u001b[0m |\n",
      "| \u001b[0m5        \u001b[0m | \u001b[0m-736.0   \u001b[0m | \u001b[0m0.6546   \u001b[0m | \u001b[0m2.504    \u001b[0m | \u001b[0m44.79    \u001b[0m |\n",
      "| \u001b[0m6        \u001b[0m | \u001b[0m-970.6   \u001b[0m | \u001b[0m0.001    \u001b[0m | \u001b[0m3.0      \u001b[0m | \u001b[0m54.49    \u001b[0m |\n",
      "| \u001b[0m7        \u001b[0m | \u001b[0m-79.32   \u001b[0m | \u001b[0m3.0      \u001b[0m | \u001b[0m3.0      \u001b[0m | \u001b[0m76.21    \u001b[0m |\n",
      "| \u001b[0m8        \u001b[0m | \u001b[0m-250.2   \u001b[0m | \u001b[0m0.001    \u001b[0m | \u001b[0m0.001    \u001b[0m | \u001b[0m104.8    \u001b[0m |\n",
      "| \u001b[95m9        \u001b[0m | \u001b[95m-11.85   \u001b[0m | \u001b[95m3.0      \u001b[0m | \u001b[95m3.0      \u001b[0m | \u001b[95m121.5    \u001b[0m |\n",
      "| \u001b[0m10       \u001b[0m | \u001b[0m-207.3   \u001b[0m | \u001b[0m0.001    \u001b[0m | \u001b[0m0.001    \u001b[0m | \u001b[0m135.2    \u001b[0m |\n",
      "| \u001b[95m11       \u001b[0m | \u001b[95m-1.892   \u001b[0m | \u001b[95m3.0      \u001b[0m | \u001b[95m3.0      \u001b[0m | \u001b[95m152.4    \u001b[0m |\n",
      "| \u001b[0m12       \u001b[0m | \u001b[0m-180.1   \u001b[0m | \u001b[0m0.001    \u001b[0m | \u001b[0m0.001    \u001b[0m | \u001b[0m166.3    \u001b[0m |\n",
      "| \u001b[95m13       \u001b[0m | \u001b[95m-0.488   \u001b[0m | \u001b[95m3.0      \u001b[0m | \u001b[95m3.0      \u001b[0m | \u001b[95m183.6    \u001b[0m |\n",
      "| \u001b[0m14       \u001b[0m | \u001b[0m-173.8   \u001b[0m | \u001b[0m0.001    \u001b[0m | \u001b[0m0.001    \u001b[0m | \u001b[0m197.6    \u001b[0m |\n",
      "| \u001b[0m15       \u001b[0m | \u001b[0m-3.146   \u001b[0m | \u001b[0m0.1567   \u001b[0m | \u001b[0m0.2423   \u001b[0m | \u001b[0m176.9    \u001b[0m |\n",
      "| \u001b[0m16       \u001b[0m | \u001b[0m-5.153   \u001b[0m | \u001b[0m3.0      \u001b[0m | \u001b[0m3.0      \u001b[0m | \u001b[0m143.6    \u001b[0m |\n",
      "| \u001b[0m17       \u001b[0m | \u001b[0m-200.2   \u001b[0m | \u001b[0m0.001    \u001b[0m | \u001b[0m0.001    \u001b[0m | \u001b[0m115.4    \u001b[0m |\n",
      "| \u001b[0m18       \u001b[0m | \u001b[0m-285.4   \u001b[0m | \u001b[0m0.001    \u001b[0m | \u001b[0m0.001    \u001b[0m | \u001b[0m148.4    \u001b[0m |\n",
      "| \u001b[0m19       \u001b[0m | \u001b[0m-4.93    \u001b[0m | \u001b[0m0.05138  \u001b[0m | \u001b[0m0.1098   \u001b[0m | \u001b[0m187.5    \u001b[0m |\n",
      "| \u001b[0m20       \u001b[0m | \u001b[0m-40.14   \u001b[0m | \u001b[0m0.324    \u001b[0m | \u001b[0m0.02781  \u001b[0m | \u001b[0m71.43    \u001b[0m |\n",
      "| \u001b[0m21       \u001b[0m | \u001b[0m-4.063   \u001b[0m | \u001b[0m3.0      \u001b[0m | \u001b[0m3.0      \u001b[0m | \u001b[0m171.8    \u001b[0m |\n",
      "| \u001b[0m22       \u001b[0m | \u001b[0m-17.77   \u001b[0m | \u001b[0m2.772    \u001b[0m | \u001b[0m2.886    \u001b[0m | \u001b[0m129.6    \u001b[0m |\n",
      "| \u001b[0m23       \u001b[0m | \u001b[0m-340.6   \u001b[0m | \u001b[0m0.001    \u001b[0m | \u001b[0m0.001    \u001b[0m | \u001b[0m94.72    \u001b[0m |\n",
      "| \u001b[0m24       \u001b[0m | \u001b[0m-27.49   \u001b[0m | \u001b[0m3.0      \u001b[0m | \u001b[0m3.0      \u001b[0m | \u001b[0m110.4    \u001b[0m |\n",
      "| \u001b[0m25       \u001b[0m | \u001b[0m-5.613   \u001b[0m | \u001b[0m3.0      \u001b[0m | \u001b[0m3.0      \u001b[0m | \u001b[0m160.5    \u001b[0m |\n",
      "| \u001b[0m26       \u001b[0m | \u001b[0m-1.391   \u001b[0m | \u001b[0m2.938    \u001b[0m | \u001b[0m2.992    \u001b[0m | \u001b[0m192.8    \u001b[0m |\n",
      "| \u001b[0m27       \u001b[0m | \u001b[0m-375.1   \u001b[0m | \u001b[0m3.0      \u001b[0m | \u001b[0m0.001    \u001b[0m | \u001b[0m83.85    \u001b[0m |\n",
      "| \u001b[0m28       \u001b[0m | \u001b[0m-89.42   \u001b[0m | \u001b[0m0.03837  \u001b[0m | \u001b[0m2.997    \u001b[0m | \u001b[0m71.93    \u001b[0m |\n",
      "| \u001b[0m29       \u001b[0m | \u001b[0m-124.5   \u001b[0m | \u001b[0m2.913    \u001b[0m | \u001b[0m0.1098   \u001b[0m | \u001b[0m70.03    \u001b[0m |\n",
      "| \u001b[0m30       \u001b[0m | \u001b[0m-145.8   \u001b[0m | \u001b[0m0.001    \u001b[0m | \u001b[0m3.0      \u001b[0m | \u001b[0m82.59    \u001b[0m |\n",
      "=============================================================\n",
      "Final Result:  {'target': -0.48799564276539825, 'params': {'C_non_white_': 3.0, 'C_sex_': 3.0, 'num_components_': 183.64144911450967}}\n"
     ]
    }
   ],
   "source": [
    "optimization_results = [optimize_models_mn(train_data=train_data, number_synthetic_datasets=nsd, number_gmm_initializations=ngi, random_state=r) for r in random_states]"
   ]
  },
  {
   "cell_type": "code",
   "execution_count": 8,
   "id": "ea0b7024",
   "metadata": {},
   "outputs": [],
   "source": [
    "run_targets = [np.minimum.accumulate(-i[1].space.target) for i in optimization_results]"
   ]
  },
  {
   "cell_type": "code",
   "execution_count": 9,
   "id": "f4225965",
   "metadata": {},
   "outputs": [
    {
     "data": {
      "image/png": "[encoded data removed]",
      "text/plain": [
       "<Figure size 640x480 with 1 Axes>"
      ]
     },
     "metadata": {},
     "output_type": "display_data"
    }
   ],
   "source": [
    "fig = plt.figure()\n",
    "plt.plot(run_targets[0])\n",
    "plt.scatter(np.arange(len(run_targets[0])), run_targets[0], s=6)\n",
    "plt.plot(run_targets[1])\n",
    "plt.scatter(np.arange(len(run_targets[1])), run_targets[1], s=6)\n",
    "plt.title(\"CPS ASEC Data - Objective Value for MNL Synthesis\")\n",
    "plt.xlabel(\"Iteration\")\n",
    "plt.ylabel(\"Minimum Objective Value\")\n",
    "fig.savefig('../Images/min_objective_mnl_ipums.pdf')\n",
    "plt.show()"
   ]
  },
  {
   "cell_type": "markdown",
   "id": "34094ad9",
   "metadata": {},
   "source": [
    "Choose the params that gave the best objective value across all random seeds."
   ]
  },
  {
   "cell_type": "code",
   "execution_count": 10,
   "id": "81eccd8d",
   "metadata": {},
   "outputs": [],
   "source": [
    "best_params = optimization_results[np.argmax([x[0]['target'] for x in optimization_results])][0]"
   ]
  },
  {
   "cell_type": "code",
   "execution_count": 11,
   "id": "dbab5ac5",
   "metadata": {},
   "outputs": [
    {
     "data": {
      "text/plain": [
       "{'target': -0.4240556718658755,\n",
       " 'params': {'C_non_white_': 2.913536225982302,\n",
       "  'C_sex_': 0.0721814178328715,\n",
       "  'num_components_': 190.8550459917231}}"
      ]
     },
     "execution_count": 11,
     "metadata": {},
     "output_type": "execute_result"
    }
   ],
   "source": [
    "best_params"
   ]
  },
  {
   "cell_type": "markdown",
   "id": "cea1e3fa",
   "metadata": {},
   "source": [
    "Generate 20 synthetic data sets."
   ]
  },
  {
   "cell_type": "markdown",
   "id": "cdff6e28-1c59-4fd4-b5cf-3dc3df54d9d6",
   "metadata": {},
   "source": [
    "On occassion, the synthesis models will produce a significantly different fit than what was observed during the optimization process. In these cases, retrain the models until a fit (judged by the pMSE ratio) consistent with the optimization results is observed."
   ]
  },
  {
   "cell_type": "code",
   "execution_count": 12,
   "id": "643fb518",
   "metadata": {},
   "outputs": [],
   "source": [
    "pmse_ratios, full_sXs, GMM = train_models_mn(train_data=train_data,\n",
    "                                             number_synthetic_datasets=20,\n",
    "                                             # hyperparameters for GMM\n",
    "                                             number_gmm_initializations=ngi,\n",
    "                                             num_components_=int(best_params['params']['num_components_']),\n",
    "                                             # hyperparameters for CART, end with underscore means Bayesian optimization will choose\n",
    "                                             C_non_white_=best_params['params']['C_non_white_'],\n",
    "                                             C_sex_=best_params['params']['C_sex_'])"
   ]
  },
  {
   "cell_type": "code",
   "execution_count": 13,
   "id": "694c3a3e",
   "metadata": {},
   "outputs": [
    {
     "data": {
      "text/plain": [
       "1.4601650089326772"
      ]
     },
     "execution_count": 13,
     "metadata": {},
     "output_type": "execute_result"
    }
   ],
   "source": [
    "np.mean(pmse_ratios)"
   ]
  },
  {
   "cell_type": "code",
   "execution_count": 14,
   "id": "5ea8b232",
   "metadata": {},
   "outputs": [
    {
     "data": {
      "image/png": "[encoded data removed]",
      "text/plain": [
       "<Figure size 640x480 with 1 Axes>"
      ]
     },
     "metadata": {},
     "output_type": "display_data"
    }
   ],
   "source": [
    "plt.violinplot(pmse_ratios)\n",
    "plt.xlabel(\"Density\")\n",
    "plt.ylabel(\"pMSE Ratio\")\n",
    "plt.title(\"Distribution of pMSE Ratios\")\n",
    "plt.show()"
   ]
  },
  {
   "cell_type": "markdown",
   "id": "c7c4b464",
   "metadata": {},
   "source": [
    "# Save the synthetic datasets."
   ]
  },
  {
   "cell_type": "markdown",
   "id": "e3ba0c55-d4d2-4407-b062-8c4e89391604",
   "metadata": {},
   "source": [
    "Save the GMM model."
   ]
  },
  {
   "cell_type": "code",
   "execution_count": 22,
   "id": "5696e166",
   "metadata": {},
   "outputs": [],
   "source": [
    "for i, sX in enumerate(full_sXs):\n",
    "    sX.to_csv(\"../Data/IPUMS/Synthetic Datasets/gmm_and_mnl_\" + str(i) + \".csv\", index=False)\n",
    "\n",
    "# save\n",
    "with open('../Results/IPUMS/Models/gmm_and_mnl.pkl','wb') as f:\n",
    "    pickle.dump(GMM,f)"
   ]
  },
  {
   "cell_type": "code",
   "execution_count": 10,
   "id": "c4a7eb3c-a193-43af-8c68-7485e26ea9ad",
   "metadata": {},
   "outputs": [],
   "source": [
    "# full_sXs = [pd.read_csv(\"../Data/IPUMS/Synthetic Datasets/gmm_and_mnl_\" + str(i) + \".csv\") for i in range(20)]\n",
    "\n",
    "# # load\n",
    "# with open('../Results/IPUMS/Models/gmm_and_mnl.pkl', 'rb') as f:\n",
    "#     GMM = pickle.load(f)"
   ]
  },
  {
   "cell_type": "markdown",
   "id": "58cacd36",
   "metadata": {},
   "source": [
    "***"
   ]
  },
  {
   "cell_type": "markdown",
   "id": "b72119d1-651c-44f6-8aa8-ebb78ead1612",
   "metadata": {},
   "source": [
    "Now apply the attribute disclosure prevention algorithm."
   ]
  },
  {
   "cell_type": "markdown",
   "id": "d8cd4886-7e27-4dd4-8bc1-b233005739a4",
   "metadata": {},
   "source": [
    "We don't have a great baseline for the probability of being non-white, so we'll just use the proportion from the data."
   ]
  },
  {
   "cell_type": "code",
   "execution_count": 11,
   "id": "88c6af3f-3cab-4e33-a560-f46912830014",
   "metadata": {},
   "outputs": [],
   "source": [
    "# prior = np.mean(train_data.non_white == 1)"
   ]
  },
  {
   "cell_type": "code",
   "execution_count": 12,
   "id": "74ba110f-a281-48dd-8cec-11a655c608d2",
   "metadata": {},
   "outputs": [],
   "source": [
    "# prior"
   ]
  },
  {
   "cell_type": "markdown",
   "id": "e178a0d7-d1c7-4614-b3e5-c28c22a05fe8",
   "metadata": {},
   "source": [
    "For our threshold, we select $c = 10$, i.e., we are allowing for a 10x increase in the probability of an adversary inferring the non-white status based on the synthetic data. This is a relatively large increase. For example, this means going from XXX under the prior to no more than XXX under the updated probability."
   ]
  },
  {
   "cell_type": "code",
   "execution_count": 13,
   "id": "5fa7a9b2-b85f-4ea2-91af-bb1abe52c99a",
   "metadata": {},
   "outputs": [],
   "source": [
    "# c = 3"
   ]
  },
  {
   "cell_type": "markdown",
   "id": "4f9af607-7813-4bb1-bccc-b206b0751f93",
   "metadata": {},
   "source": [
    "We provide a range of $\\delta$ values over which to evaluate and prevent attribute disclosure."
   ]
  },
  {
   "cell_type": "code",
   "execution_count": 14,
   "id": "b0a7c9cd-af8c-4046-8439-9010becd8f3a",
   "metadata": {},
   "outputs": [],
   "source": [
    "# deltas = np.linspace(0.001, 0.1, 5)"
   ]
  },
  {
   "cell_type": "code",
   "execution_count": 15,
   "id": "e1e2b9e2-755c-449c-befd-a73a9ece72f9",
   "metadata": {},
   "outputs": [],
   "source": [
    "# ad_sXs = [attribute_disclosure_reduction(original_data=train_data, \n",
    "#                                          synthetic_data=X,\n",
    "#                                          continuous_vars=['incwage', 'years_of_educ', 'potential_experience'],\n",
    "#                                          categorical_vars=['sex'],\n",
    "#                                          sensitive_var='non_white',\n",
    "#                                          num_mixture_components=190,#int(best_params['params']['num_components_']),\n",
    "#                                          deltas=deltas, \n",
    "#                                          c=c, \n",
    "#                                          prior_prob=prior) for X in full_sXs]"
   ]
  },
  {
   "cell_type": "markdown",
   "id": "650303bd-cd64-4fb0-ba48-0951389bcc4f",
   "metadata": {},
   "source": [
    "***"
   ]
  },
  {
   "cell_type": "code",
   "execution_count": 16,
   "id": "c0620c43-5446-4dc6-b372-9f11aaf0bde4",
   "metadata": {},
   "outputs": [],
   "source": [
    "# num_records = train_data.shape[0]"
   ]
  },
  {
   "cell_type": "code",
   "execution_count": 17,
   "id": "122a50e4-f39c-42cb-99f1-af7bfeae387d",
   "metadata": {},
   "outputs": [],
   "source": [
    "# np.mean([Z.shape[0] - num_records for Z in ad_sXs])"
   ]
  },
  {
   "cell_type": "markdown",
   "id": "55191f98-a351-460f-be23-36777ee8d64f",
   "metadata": {},
   "source": [
    "***"
   ]
  },
  {
   "cell_type": "code",
   "execution_count": 18,
   "id": "12e441d9-7ac5-43b7-8366-9e01069471eb",
   "metadata": {},
   "outputs": [],
   "source": [
    "# for i, sX in enumerate(ad_sXs):\n",
    "    \n",
    "#     # normalize\n",
    "#     sX.loc[:,['incwage', 'years_of_educ', 'potential_experience']] = StandardScaler().fit_transform(sX.loc[:,['incwage', 'years_of_educ', 'potential_experience']])\n",
    "#     full_sXs[i].loc[:,['incwage', 'years_of_educ', 'potential_experience']] = StandardScaler().fit_transform(full_sXs[i].loc[:,['incwage', 'years_of_educ', 'potential_experience']])\n",
    "\n",
    "#     # convert to original scale (un-normalize?)\n",
    "#     H = train_data.sample(frac=1.0, replace=True, ignore_index=True).loc[:,['incwage', 'years_of_educ', 'potential_experience']]\n",
    "#     scaler = StandardScaler().fit(H.loc[:, ['incwage', 'years_of_educ', 'potential_experience']])\n",
    "#     sX.loc[:,['incwage', 'years_of_educ', 'potential_experience']] = scaler.inverse_transform(sX.loc[:,['incwage', 'years_of_educ', 'potential_experience']])\n",
    "#     full_sXs[i].loc[:,['incwage', 'years_of_educ', 'potential_experience']] = scaler.inverse_transform(full_sXs[i].loc[:,['incwage', 'years_of_educ', 'potential_experience']])\n",
    "#     sX.to_csv(\"../Data/IPUMS/Synthetic Datasets/ad_gmm_and_mnl_\" + str(i) + \".csv\", index=False)\n",
    "#     full_sXs[i].to_csv(\"../Data/IPUMS/Synthetic Datasets/gmm_and_mnl_\" + str(i) + \".csv\", index=False)"
   ]
  },
  {
   "cell_type": "code",
   "execution_count": null,
   "id": "2a8f9302-b367-4a3e-9d7a-01c05cede1ea",
   "metadata": {},
   "outputs": [],
   "source": []
  }
 ],
 "metadata": {
  "kernelspec": {
   "display_name": "Python 3 (ipykernel)",
   "language": "python",
   "name": "python3"
  },
  "language_info": {
   "codemirror_mode": {
    "name": "ipython",
    "version": 3
   },
   "file_extension": ".py",
   "mimetype": "text/x-python",
   "name": "python",
   "nbconvert_exporter": "python",
   "pygments_lexer": "ipython3",
   "version": "3.11.7"
  }
 },
 "nbformat": 4,
 "nbformat_minor": 5
}
