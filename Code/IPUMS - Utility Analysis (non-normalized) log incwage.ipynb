{
 "cells": [
  {
   "cell_type": "markdown",
   "id": "92ef4313",
   "metadata": {},
   "source": [
    "# Analysis of Utility of IPUMS data."
   ]
  },
  {
   "cell_type": "code",
   "execution_count": 1,
   "id": "26aa0526",
   "metadata": {},
   "outputs": [],
   "source": [
    "import itertools\n",
    "\n",
    "import matplotlib.pyplot as plt\n",
    "\n",
    "from scipy.spatial import KDTree\n",
    "\n",
    "from statsmodels.discrete.discrete_model import Logit\n",
    "from statsmodels.regression.linear_model import OLS\n",
    "from statsmodels.tools.tools import add_constant\n",
    "\n",
    "from helper_functions import *"
   ]
  },
  {
   "cell_type": "code",
   "execution_count": 2,
   "id": "22c86828",
   "metadata": {},
   "outputs": [],
   "source": [
    "train_data = pd.read_csv(\"../Data/IPUMS/non_normalized_cleaned_ipums_data.csv\")"
   ]
  },
  {
   "cell_type": "code",
   "execution_count": 3,
   "id": "0c46225b-fbe9-4e87-9ad3-4ea48db0a40c",
   "metadata": {},
   "outputs": [
    {
     "data": {
      "text/html": [
       "<div>\n",
       "<style scoped>\n",
       "    .dataframe tbody tr th:only-of-type {\n",
       "        vertical-align: middle;\n",
       "    }\n",
       "\n",
       "    .dataframe tbody tr th {\n",
       "        vertical-align: top;\n",
       "    }\n",
       "\n",
       "    .dataframe thead th {\n",
       "        text-align: right;\n",
       "    }\n",
       "</style>\n",
       "<table border=\"1\" class=\"dataframe\">\n",
       "  <thead>\n",
       "    <tr style=\"text-align: right;\">\n",
       "      <th></th>\n",
       "      <th>incwage</th>\n",
       "      <th>years_of_educ</th>\n",
       "      <th>potential_experience</th>\n",
       "      <th>non_white</th>\n",
       "      <th>sex</th>\n",
       "    </tr>\n",
       "  </thead>\n",
       "  <tbody>\n",
       "    <tr>\n",
       "      <th>0</th>\n",
       "      <td>11000</td>\n",
       "      <td>16.000000</td>\n",
       "      <td>18.000000</td>\n",
       "      <td>0</td>\n",
       "      <td>1</td>\n",
       "    </tr>\n",
       "    <tr>\n",
       "      <th>1</th>\n",
       "      <td>38000</td>\n",
       "      <td>15.000000</td>\n",
       "      <td>23.000000</td>\n",
       "      <td>0</td>\n",
       "      <td>0</td>\n",
       "    </tr>\n",
       "    <tr>\n",
       "      <th>2</th>\n",
       "      <td>7000</td>\n",
       "      <td>13.000000</td>\n",
       "      <td>2.000000</td>\n",
       "      <td>0</td>\n",
       "      <td>0</td>\n",
       "    </tr>\n",
       "    <tr>\n",
       "      <th>3</th>\n",
       "      <td>2600</td>\n",
       "      <td>11.000000</td>\n",
       "      <td>0.000000</td>\n",
       "      <td>0</td>\n",
       "      <td>0</td>\n",
       "    </tr>\n",
       "    <tr>\n",
       "      <th>4</th>\n",
       "      <td>20800</td>\n",
       "      <td>12.000000</td>\n",
       "      <td>33.000000</td>\n",
       "      <td>1</td>\n",
       "      <td>0</td>\n",
       "    </tr>\n",
       "    <tr>\n",
       "      <th>...</th>\n",
       "      <td>...</td>\n",
       "      <td>...</td>\n",
       "      <td>...</td>\n",
       "      <td>...</td>\n",
       "      <td>...</td>\n",
       "    </tr>\n",
       "    <tr>\n",
       "      <th>197751</th>\n",
       "      <td>22500</td>\n",
       "      <td>16.000000</td>\n",
       "      <td>13.000000</td>\n",
       "      <td>0</td>\n",
       "      <td>0</td>\n",
       "    </tr>\n",
       "    <tr>\n",
       "      <th>197752</th>\n",
       "      <td>4500</td>\n",
       "      <td>16.000000</td>\n",
       "      <td>11.000000</td>\n",
       "      <td>0</td>\n",
       "      <td>1</td>\n",
       "    </tr>\n",
       "    <tr>\n",
       "      <th>197753</th>\n",
       "      <td>37000</td>\n",
       "      <td>17.737673</td>\n",
       "      <td>19.262327</td>\n",
       "      <td>0</td>\n",
       "      <td>0</td>\n",
       "    </tr>\n",
       "    <tr>\n",
       "      <th>197754</th>\n",
       "      <td>1500</td>\n",
       "      <td>15.000000</td>\n",
       "      <td>13.000000</td>\n",
       "      <td>0</td>\n",
       "      <td>1</td>\n",
       "    </tr>\n",
       "    <tr>\n",
       "      <th>197755</th>\n",
       "      <td>45100</td>\n",
       "      <td>16.000000</td>\n",
       "      <td>32.000000</td>\n",
       "      <td>0</td>\n",
       "      <td>0</td>\n",
       "    </tr>\n",
       "  </tbody>\n",
       "</table>\n",
       "<p>197756 rows × 5 columns</p>\n",
       "</div>"
      ],
      "text/plain": [
       "        incwage  years_of_educ  potential_experience  non_white  sex\n",
       "0         11000      16.000000             18.000000          0    1\n",
       "1         38000      15.000000             23.000000          0    0\n",
       "2          7000      13.000000              2.000000          0    0\n",
       "3          2600      11.000000              0.000000          0    0\n",
       "4         20800      12.000000             33.000000          1    0\n",
       "...         ...            ...                   ...        ...  ...\n",
       "197751    22500      16.000000             13.000000          0    0\n",
       "197752     4500      16.000000             11.000000          0    1\n",
       "197753    37000      17.737673             19.262327          0    0\n",
       "197754     1500      15.000000             13.000000          0    1\n",
       "197755    45100      16.000000             32.000000          0    0\n",
       "\n",
       "[197756 rows x 5 columns]"
      ]
     },
     "execution_count": 3,
     "metadata": {},
     "output_type": "execute_result"
    }
   ],
   "source": [
    "train_data"
   ]
  },
  {
   "cell_type": "code",
   "execution_count": 4,
   "id": "67318106",
   "metadata": {},
   "outputs": [],
   "source": [
    "sXs_mnl = [pd.read_csv(\"../Data/IPUMS/Synthetic Datasets/gmm_and_mnl_\" + str(i) + \".csv\") for i in range(20)]\n",
    "# ad_sXs_mnl = [pd.read_csv(\"../Data/SK/Synthetic Datasets/ad_gmm_and_mnl_\" + str(i) + \".csv\") for i in range(20)]\n",
    "\n",
    "sXs_cart = [pd.read_csv(\"../Data/IPUMS/Synthetic Datasets/gmm_and_cart_\" + str(i) + \".csv\") for i in range(20)]\n",
    "# ad_sXs_cart = [pd.read_csv(\"../Data/SK/Synthetic Datasets/ad_gmm_and_cart_\" + str(i) + \".csv\") for i in range(20)]\n",
    "\n",
    "sXs_synthpop = [pd.read_csv(\"../Data/IPUMS/Synthetic Datasets/synthpop_baseline_\" + str(i) + \".csv\") for i in range(20)]\n",
    "\n",
    "# sXs_mostly = [pd.read_csv(\"../Data/IPUMS/Synthetic Datasets/mostly_\" + str(i) + \".csv\") for i in range(20)]"
   ]
  },
  {
   "cell_type": "code",
   "execution_count": 5,
   "id": "207d1db8-2472-488d-a7ed-16b079344089",
   "metadata": {},
   "outputs": [],
   "source": [
    "def non_normalize(train_data, synthetic_datasets):\n",
    "    normalizer = preprocessing.StandardScaler().fit(train_data.loc[:,[\"incwage\", \"years_of_educ\", \"potential_experience\"]])\n",
    "    new_synthetic_datasets = []\n",
    "    for Z in synthetic_datasets:\n",
    "        Z.loc[:, [\"incwage\", \"years_of_educ\", \"potential_experience\"]] = normalizer.inverse_transform(Z.loc[:,[\"incwage\", \"years_of_educ\", \"potential_experience\"]])\n",
    "        Z.loc[:, 'incwage'] = np.where(Z.incwage < 1, 1, Z.incwage)"
   ]
  },
  {
   "cell_type": "code",
   "execution_count": 6,
   "id": "65502ee9-aa6d-40b3-9487-e4b201c909e3",
   "metadata": {},
   "outputs": [],
   "source": [
    "non_normalize(train_data=train_data, synthetic_datasets=sXs_mnl)"
   ]
  },
  {
   "cell_type": "code",
   "execution_count": 7,
   "id": "d968f39c-ffb3-45d9-a75e-2ef6c92f32ec",
   "metadata": {},
   "outputs": [],
   "source": [
    "non_normalize(train_data=train_data, synthetic_datasets=sXs_cart)"
   ]
  },
  {
   "cell_type": "code",
   "execution_count": 8,
   "id": "1683788b-f78d-478b-a726-5c59b1a1c8ff",
   "metadata": {},
   "outputs": [],
   "source": [
    "non_normalize(train_data=train_data, synthetic_datasets=sXs_synthpop)"
   ]
  },
  {
   "cell_type": "markdown",
   "id": "fc2d5fa2-433a-4889-9b7b-303296ab29f7",
   "metadata": {},
   "source": [
    "***"
   ]
  },
  {
   "cell_type": "markdown",
   "id": "33d10630",
   "metadata": {},
   "source": [
    "## Utility Measure 1 - pMSE Ratios"
   ]
  },
  {
   "cell_type": "code",
   "execution_count": 9,
   "id": "d324b793",
   "metadata": {},
   "outputs": [
    {
     "name": "stdout",
     "output_type": "stream",
     "text": [
      "0.8860045775175831\n",
      "1.1909169060485403\n",
      "0.408693890140759\n"
     ]
    }
   ],
   "source": [
    "ratios_mnl = [pmse_ratio(train_data, Y) for Y in sXs_mnl]\n",
    "print(np.mean(ratios_mnl))\n",
    "\n",
    "# ratios_ad_mnl = [pmse_ratio(train_data, Y) for Y in ad_sXs_mnl]\n",
    "# print(np.mean(ratios_ad_mnl))\n",
    "\n",
    "ratios_cart = [pmse_ratio(train_data, Y) for Y in sXs_cart]\n",
    "print(np.mean(ratios_cart))\n",
    "\n",
    "# ratios_ad_cart = [pmse_ratio(train_data, Y) for Y in ad_sXs_cart]\n",
    "# print(np.mean(ratios_ad_cart))\n",
    "\n",
    "ratios_synthpop = [pmse_ratio(train_data, Y) for Y in sXs_synthpop]\n",
    "print(np.mean(ratios_synthpop))\n",
    "\n",
    "# ratios_mostly = [pmse_ratio(train_data, Y) for Y in sXs_mostly]\n",
    "# np.mean(ratios_mostly)"
   ]
  },
  {
   "cell_type": "markdown",
   "id": "9297e105",
   "metadata": {},
   "source": [
    "***"
   ]
  },
  {
   "cell_type": "markdown",
   "id": "497cddaf-caae-4abd-b4fe-4b4f004bc6bb",
   "metadata": {},
   "source": [
    "Save data for plotting in R."
   ]
  },
  {
   "cell_type": "code",
   "execution_count": 10,
   "id": "b6382f53-b2d8-4fac-8cad-e8cf06561b70",
   "metadata": {},
   "outputs": [],
   "source": [
    "# pmse_results = pd.DataFrame({'Dataset': np.arange(1, len(ratios_mnl)+1),\n",
    "#                              'MNL': ratios_mnl,\n",
    "#                              # 'AD-MNL': ratios_ad_mnl,\n",
    "#                              'CART': ratios_cart,\n",
    "#                              # 'AD-CART': ratios_ad_cart,\n",
    "#                              'MOSTLY.AI': ratios_mostly})\n",
    "\n",
    "# pmse_results = pmse_results.melt(id_vars=[\"Dataset\"], value_vars=[\"MNL\", \"CART\", \"MOSTLY.AI\"], var_name=\"Type\")\n",
    "# pmse_results.to_csv('../Results/IPUMS/pmse_metrics.csv', index=False)"
   ]
  },
  {
   "cell_type": "code",
   "execution_count": 11,
   "id": "f4410ef6",
   "metadata": {},
   "outputs": [],
   "source": [
    "# # Combine data\n",
    "# # plot_data = list([ratios_mnl, ratios_ad_mnl, ratios_cart, ratios_ad_cart, ratios_mostly])\n",
    "\n",
    "# plot_data = list([ratios_mnl, ratios_cart, ratios_mostly])\n",
    "\n",
    "# fig, ax = plt.subplots(figsize=(10,10))\n",
    "\n",
    "# # xticklabels = [\"MNL\", \"AD-MNL\", \"CART\", \"AD-CART\", \"MOSTLY.AI\"]\n",
    "# xticklabels = [\"MNL\", \"CART\", \"MOSTLY.AI\"]\n",
    "# # ax.set_xticks([1, 2, 3, 4, 5])\n",
    "# ax.set_xticks([1, 2, 3])\n",
    "# ax.set_xticklabels(xticklabels)\n",
    "\n",
    "# ax.violinplot(plot_data, showmeans=True)\n",
    "\n",
    "# plt.title(\"Distributions of Logistic Regression Based pMSE Ratios\")\n",
    "\n",
    "# plt.show()"
   ]
  },
  {
   "cell_type": "markdown",
   "id": "b52c50b1",
   "metadata": {},
   "source": [
    "***"
   ]
  },
  {
   "cell_type": "markdown",
   "id": "75d9086b-b883-4fdc-ba26-403755f5aabf",
   "metadata": {},
   "source": [
    "# Utility Metric: Analysis Specific Utility\n",
    "\n",
    "###  * L1 distance between confidential and synthetic coefficient estimates\n",
    "###  * Confidence interval ratio\n",
    "###  * Sign, Significance, and Overlap (SSO)"
   ]
  },
  {
   "cell_type": "markdown",
   "id": "8fc8cc51",
   "metadata": {},
   "source": [
    "Analysis specific utility."
   ]
  },
  {
   "cell_type": "markdown",
   "id": "ce22d525",
   "metadata": {},
   "source": [
    "Use logistic regression to predict COVID-19 deaths based on latitude and longitude, age, and sex."
   ]
  },
  {
   "cell_type": "markdown",
   "id": "0cd581f3",
   "metadata": {},
   "source": [
    "Compute the model for the original data."
   ]
  },
  {
   "cell_type": "markdown",
   "id": "e3bfb510-181d-4712-8a39-13c851e436dc",
   "metadata": {},
   "source": [
    "***"
   ]
  },
  {
   "cell_type": "markdown",
   "id": "97c7a79e-401e-44d0-a8e5-dd1952619e9a",
   "metadata": {},
   "source": [
    "Annual earnings as a function of years_of_educ, non_white, and potential experience (up to third degree polynomial)."
   ]
  },
  {
   "cell_type": "markdown",
   "id": "a49c141e-2a46-468f-a041-1efeb8bf75ad",
   "metadata": {},
   "source": [
    "Do the above regression for males and females separately."
   ]
  },
  {
   "cell_type": "markdown",
   "id": "6d6697ea-903c-443a-8f9e-bedafac304ea",
   "metadata": {},
   "source": [
    "This notebook uses the normalized data."
   ]
  },
  {
   "cell_type": "code",
   "execution_count": 12,
   "id": "ee55bb97-d141-49a5-9259-8d8d46d91e0f",
   "metadata": {},
   "outputs": [
    {
     "data": {
      "text/html": [
       "<div>\n",
       "<style scoped>\n",
       "    .dataframe tbody tr th:only-of-type {\n",
       "        vertical-align: middle;\n",
       "    }\n",
       "\n",
       "    .dataframe tbody tr th {\n",
       "        vertical-align: top;\n",
       "    }\n",
       "\n",
       "    .dataframe thead th {\n",
       "        text-align: right;\n",
       "    }\n",
       "</style>\n",
       "<table border=\"1\" class=\"dataframe\">\n",
       "  <thead>\n",
       "    <tr style=\"text-align: right;\">\n",
       "      <th></th>\n",
       "      <th>incwage</th>\n",
       "      <th>years_of_educ</th>\n",
       "      <th>potential_experience</th>\n",
       "      <th>non_white</th>\n",
       "      <th>sex</th>\n",
       "    </tr>\n",
       "  </thead>\n",
       "  <tbody>\n",
       "    <tr>\n",
       "      <th>0</th>\n",
       "      <td>11000</td>\n",
       "      <td>16.000000</td>\n",
       "      <td>18.000000</td>\n",
       "      <td>0</td>\n",
       "      <td>1</td>\n",
       "    </tr>\n",
       "    <tr>\n",
       "      <th>1</th>\n",
       "      <td>38000</td>\n",
       "      <td>15.000000</td>\n",
       "      <td>23.000000</td>\n",
       "      <td>0</td>\n",
       "      <td>0</td>\n",
       "    </tr>\n",
       "    <tr>\n",
       "      <th>2</th>\n",
       "      <td>7000</td>\n",
       "      <td>13.000000</td>\n",
       "      <td>2.000000</td>\n",
       "      <td>0</td>\n",
       "      <td>0</td>\n",
       "    </tr>\n",
       "    <tr>\n",
       "      <th>3</th>\n",
       "      <td>2600</td>\n",
       "      <td>11.000000</td>\n",
       "      <td>0.000000</td>\n",
       "      <td>0</td>\n",
       "      <td>0</td>\n",
       "    </tr>\n",
       "    <tr>\n",
       "      <th>4</th>\n",
       "      <td>20800</td>\n",
       "      <td>12.000000</td>\n",
       "      <td>33.000000</td>\n",
       "      <td>1</td>\n",
       "      <td>0</td>\n",
       "    </tr>\n",
       "    <tr>\n",
       "      <th>...</th>\n",
       "      <td>...</td>\n",
       "      <td>...</td>\n",
       "      <td>...</td>\n",
       "      <td>...</td>\n",
       "      <td>...</td>\n",
       "    </tr>\n",
       "    <tr>\n",
       "      <th>197751</th>\n",
       "      <td>22500</td>\n",
       "      <td>16.000000</td>\n",
       "      <td>13.000000</td>\n",
       "      <td>0</td>\n",
       "      <td>0</td>\n",
       "    </tr>\n",
       "    <tr>\n",
       "      <th>197752</th>\n",
       "      <td>4500</td>\n",
       "      <td>16.000000</td>\n",
       "      <td>11.000000</td>\n",
       "      <td>0</td>\n",
       "      <td>1</td>\n",
       "    </tr>\n",
       "    <tr>\n",
       "      <th>197753</th>\n",
       "      <td>37000</td>\n",
       "      <td>17.737673</td>\n",
       "      <td>19.262327</td>\n",
       "      <td>0</td>\n",
       "      <td>0</td>\n",
       "    </tr>\n",
       "    <tr>\n",
       "      <th>197754</th>\n",
       "      <td>1500</td>\n",
       "      <td>15.000000</td>\n",
       "      <td>13.000000</td>\n",
       "      <td>0</td>\n",
       "      <td>1</td>\n",
       "    </tr>\n",
       "    <tr>\n",
       "      <th>197755</th>\n",
       "      <td>45100</td>\n",
       "      <td>16.000000</td>\n",
       "      <td>32.000000</td>\n",
       "      <td>0</td>\n",
       "      <td>0</td>\n",
       "    </tr>\n",
       "  </tbody>\n",
       "</table>\n",
       "<p>197756 rows × 5 columns</p>\n",
       "</div>"
      ],
      "text/plain": [
       "        incwage  years_of_educ  potential_experience  non_white  sex\n",
       "0         11000      16.000000             18.000000          0    1\n",
       "1         38000      15.000000             23.000000          0    0\n",
       "2          7000      13.000000              2.000000          0    0\n",
       "3          2600      11.000000              0.000000          0    0\n",
       "4         20800      12.000000             33.000000          1    0\n",
       "...         ...            ...                   ...        ...  ...\n",
       "197751    22500      16.000000             13.000000          0    0\n",
       "197752     4500      16.000000             11.000000          0    1\n",
       "197753    37000      17.737673             19.262327          0    0\n",
       "197754     1500      15.000000             13.000000          0    1\n",
       "197755    45100      16.000000             32.000000          0    0\n",
       "\n",
       "[197756 rows x 5 columns]"
      ]
     },
     "execution_count": 12,
     "metadata": {},
     "output_type": "execute_result"
    }
   ],
   "source": [
    "train_data"
   ]
  },
  {
   "cell_type": "markdown",
   "id": "ee7c0249-4bb4-496c-a24b-1a5213b3a2f5",
   "metadata": {},
   "source": [
    "Compute the variables for the polynomials of `potential_experience` and the target log of `incwage`."
   ]
  },
  {
   "cell_type": "code",
   "execution_count": 13,
   "id": "ed826f95-d198-4ef8-8410-b6d6e0a1f25b",
   "metadata": {},
   "outputs": [],
   "source": [
    "def new_vars(data_sets):\n",
    "    for Z in data_sets:\n",
    "        Z.loc[:,'potential_experience_2'] = Z.potential_experience**2\n",
    "        Z.loc[:,'potential_experience_3'] = Z.potential_experience**3\n",
    "        Z.loc[:,'log_incwage'] = np.log(Z.incwage)"
   ]
  },
  {
   "cell_type": "code",
   "execution_count": 14,
   "id": "6accc756-b4d1-404d-9631-eddaada13688",
   "metadata": {},
   "outputs": [],
   "source": [
    "new_vars([train_data])"
   ]
  },
  {
   "cell_type": "code",
   "execution_count": 15,
   "id": "524e4a80-67cd-4aa2-9125-5a55268ca9be",
   "metadata": {},
   "outputs": [],
   "source": [
    "new_vars(sXs_mnl)\n",
    "new_vars(sXs_cart)\n",
    "# new_vars(sXs_mostly)\n",
    "new_vars(sXs_synthpop)"
   ]
  },
  {
   "cell_type": "code",
   "execution_count": 16,
   "id": "9a0757a2-a902-421d-bddd-6053cecf84c9",
   "metadata": {},
   "outputs": [
    {
     "data": {
      "text/html": [
       "<div>\n",
       "<style scoped>\n",
       "    .dataframe tbody tr th:only-of-type {\n",
       "        vertical-align: middle;\n",
       "    }\n",
       "\n",
       "    .dataframe tbody tr th {\n",
       "        vertical-align: top;\n",
       "    }\n",
       "\n",
       "    .dataframe thead th {\n",
       "        text-align: right;\n",
       "    }\n",
       "</style>\n",
       "<table border=\"1\" class=\"dataframe\">\n",
       "  <thead>\n",
       "    <tr style=\"text-align: right;\">\n",
       "      <th></th>\n",
       "      <th>incwage</th>\n",
       "      <th>years_of_educ</th>\n",
       "      <th>potential_experience</th>\n",
       "      <th>non_white</th>\n",
       "      <th>sex</th>\n",
       "      <th>potential_experience_2</th>\n",
       "      <th>potential_experience_3</th>\n",
       "      <th>log_incwage</th>\n",
       "    </tr>\n",
       "  </thead>\n",
       "  <tbody>\n",
       "    <tr>\n",
       "      <th>0</th>\n",
       "      <td>17839.574843</td>\n",
       "      <td>12.003886</td>\n",
       "      <td>7.674275</td>\n",
       "      <td>0</td>\n",
       "      <td>0</td>\n",
       "      <td>58.894490</td>\n",
       "      <td>451.972491</td>\n",
       "      <td>9.789175</td>\n",
       "    </tr>\n",
       "    <tr>\n",
       "      <th>1</th>\n",
       "      <td>29564.638115</td>\n",
       "      <td>12.002297</td>\n",
       "      <td>7.287517</td>\n",
       "      <td>0</td>\n",
       "      <td>1</td>\n",
       "      <td>53.107908</td>\n",
       "      <td>387.024796</td>\n",
       "      <td>10.294334</td>\n",
       "    </tr>\n",
       "    <tr>\n",
       "      <th>2</th>\n",
       "      <td>23409.009584</td>\n",
       "      <td>11.999091</td>\n",
       "      <td>9.928967</td>\n",
       "      <td>0</td>\n",
       "      <td>0</td>\n",
       "      <td>98.584380</td>\n",
       "      <td>978.841032</td>\n",
       "      <td>10.060876</td>\n",
       "    </tr>\n",
       "    <tr>\n",
       "      <th>3</th>\n",
       "      <td>16247.971664</td>\n",
       "      <td>11.999564</td>\n",
       "      <td>8.659090</td>\n",
       "      <td>0</td>\n",
       "      <td>0</td>\n",
       "      <td>74.979848</td>\n",
       "      <td>649.257291</td>\n",
       "      <td>9.695723</td>\n",
       "    </tr>\n",
       "    <tr>\n",
       "      <th>4</th>\n",
       "      <td>27666.823426</td>\n",
       "      <td>12.001844</td>\n",
       "      <td>1.392891</td>\n",
       "      <td>0</td>\n",
       "      <td>1</td>\n",
       "      <td>1.940145</td>\n",
       "      <td>2.702410</td>\n",
       "      <td>10.227989</td>\n",
       "    </tr>\n",
       "    <tr>\n",
       "      <th>...</th>\n",
       "      <td>...</td>\n",
       "      <td>...</td>\n",
       "      <td>...</td>\n",
       "      <td>...</td>\n",
       "      <td>...</td>\n",
       "      <td>...</td>\n",
       "      <td>...</td>\n",
       "      <td>...</td>\n",
       "    </tr>\n",
       "    <tr>\n",
       "      <th>197751</th>\n",
       "      <td>24418.984955</td>\n",
       "      <td>14.999153</td>\n",
       "      <td>1.623454</td>\n",
       "      <td>0</td>\n",
       "      <td>0</td>\n",
       "      <td>2.635604</td>\n",
       "      <td>4.278783</td>\n",
       "      <td>10.103116</td>\n",
       "    </tr>\n",
       "    <tr>\n",
       "      <th>197752</th>\n",
       "      <td>30012.171509</td>\n",
       "      <td>15.000374</td>\n",
       "      <td>5.352043</td>\n",
       "      <td>0</td>\n",
       "      <td>0</td>\n",
       "      <td>28.644370</td>\n",
       "      <td>153.305912</td>\n",
       "      <td>10.309358</td>\n",
       "    </tr>\n",
       "    <tr>\n",
       "      <th>197753</th>\n",
       "      <td>11471.350021</td>\n",
       "      <td>15.001054</td>\n",
       "      <td>1.430702</td>\n",
       "      <td>0</td>\n",
       "      <td>1</td>\n",
       "      <td>2.046909</td>\n",
       "      <td>2.928517</td>\n",
       "      <td>9.347608</td>\n",
       "    </tr>\n",
       "    <tr>\n",
       "      <th>197754</th>\n",
       "      <td>18369.830671</td>\n",
       "      <td>14.998274</td>\n",
       "      <td>3.651067</td>\n",
       "      <td>0</td>\n",
       "      <td>0</td>\n",
       "      <td>13.330294</td>\n",
       "      <td>48.669801</td>\n",
       "      <td>9.818465</td>\n",
       "    </tr>\n",
       "    <tr>\n",
       "      <th>197755</th>\n",
       "      <td>4776.845611</td>\n",
       "      <td>14.998624</td>\n",
       "      <td>-0.631111</td>\n",
       "      <td>0</td>\n",
       "      <td>1</td>\n",
       "      <td>0.398301</td>\n",
       "      <td>-0.251372</td>\n",
       "      <td>8.471536</td>\n",
       "    </tr>\n",
       "  </tbody>\n",
       "</table>\n",
       "<p>197756 rows × 8 columns</p>\n",
       "</div>"
      ],
      "text/plain": [
       "             incwage  years_of_educ  potential_experience  non_white  sex  \\\n",
       "0       17839.574843      12.003886              7.674275          0    0   \n",
       "1       29564.638115      12.002297              7.287517          0    1   \n",
       "2       23409.009584      11.999091              9.928967          0    0   \n",
       "3       16247.971664      11.999564              8.659090          0    0   \n",
       "4       27666.823426      12.001844              1.392891          0    1   \n",
       "...              ...            ...                   ...        ...  ...   \n",
       "197751  24418.984955      14.999153              1.623454          0    0   \n",
       "197752  30012.171509      15.000374              5.352043          0    0   \n",
       "197753  11471.350021      15.001054              1.430702          0    1   \n",
       "197754  18369.830671      14.998274              3.651067          0    0   \n",
       "197755   4776.845611      14.998624             -0.631111          0    1   \n",
       "\n",
       "        potential_experience_2  potential_experience_3  log_incwage  \n",
       "0                    58.894490              451.972491     9.789175  \n",
       "1                    53.107908              387.024796    10.294334  \n",
       "2                    98.584380              978.841032    10.060876  \n",
       "3                    74.979848              649.257291     9.695723  \n",
       "4                     1.940145                2.702410    10.227989  \n",
       "...                        ...                     ...          ...  \n",
       "197751                2.635604                4.278783    10.103116  \n",
       "197752               28.644370              153.305912    10.309358  \n",
       "197753                2.046909                2.928517     9.347608  \n",
       "197754               13.330294               48.669801     9.818465  \n",
       "197755                0.398301               -0.251372     8.471536  \n",
       "\n",
       "[197756 rows x 8 columns]"
      ]
     },
     "execution_count": 16,
     "metadata": {},
     "output_type": "execute_result"
    }
   ],
   "source": [
    "sXs_mnl[0]"
   ]
  },
  {
   "cell_type": "markdown",
   "id": "f7a78418-af12-4199-89e2-7732ee4fdb6e",
   "metadata": {},
   "source": [
    "Split into female/male synthetic data sets."
   ]
  },
  {
   "cell_type": "code",
   "execution_count": 17,
   "id": "ce50e091-3c0a-46b7-868b-a1deac2ce823",
   "metadata": {},
   "outputs": [],
   "source": [
    "sXs_mnl_female = [Z.loc[Z.sex == 1,:] for Z in sXs_mnl]\n",
    "sXs_mnl_male = [Z.loc[Z.sex == 0,:] for Z in sXs_mnl]"
   ]
  },
  {
   "cell_type": "code",
   "execution_count": 18,
   "id": "18ca8856-e6d3-4c86-98ba-eef20e577f56",
   "metadata": {},
   "outputs": [],
   "source": [
    "sXs_cart_female = [Z.loc[Z.sex == 1,:] for Z in sXs_cart]\n",
    "sXs_cart_male = [Z.loc[Z.sex == 0,:] for Z in sXs_cart]"
   ]
  },
  {
   "cell_type": "code",
   "execution_count": 19,
   "id": "981cca7d-3920-44e0-8a09-0a8ba39b7d04",
   "metadata": {},
   "outputs": [],
   "source": [
    "# sXs_mostly_female = [Z.loc[Z.sex == 1,:] for Z in sXs_mostly]\n",
    "# sXs_mostly_male = [Z.loc[Z.sex == 0,:] for Z in sXs_mostly]"
   ]
  },
  {
   "cell_type": "code",
   "execution_count": 20,
   "id": "591df9d9-dc94-4d5d-80d2-41e8d52af382",
   "metadata": {},
   "outputs": [],
   "source": [
    "sXs_synthpop_female = [Z.loc[Z.sex == 1,:] for Z in sXs_synthpop]\n",
    "sXs_synthpop_male = [Z.loc[Z.sex == 0,:] for Z in sXs_synthpop]"
   ]
  },
  {
   "cell_type": "code",
   "execution_count": 21,
   "id": "2d0aa042-5f54-4a8f-a454-72ed55d3e4ed",
   "metadata": {},
   "outputs": [],
   "source": [
    "train_female = train_data.loc[train_data.sex == 1,:]\n",
    "train_male = train_data.loc[train_data.sex == 0,:]"
   ]
  },
  {
   "cell_type": "code",
   "execution_count": 22,
   "id": "b9612d29-d0d1-474c-8ce1-a2af9cf790d4",
   "metadata": {},
   "outputs": [],
   "source": [
    "ols_train_female = ols_param_fetcher(data=train_female, y='log_incwage', X=['years_of_educ', 'non_white', 'potential_experience', 'potential_experience_2', 'potential_experience_3'])"
   ]
  },
  {
   "cell_type": "code",
   "execution_count": 23,
   "id": "6aa32694-3936-475e-b420-581f1ad5c8a9",
   "metadata": {},
   "outputs": [],
   "source": [
    "ols_train_male = ols_param_fetcher(data=train_male, y='log_incwage', X=['years_of_educ', 'non_white', 'potential_experience', 'potential_experience_2', 'potential_experience_3'])"
   ]
  },
  {
   "cell_type": "code",
   "execution_count": 24,
   "id": "34fe15f8-3697-40a7-9c89-f5807d4de2c6",
   "metadata": {},
   "outputs": [
    {
     "data": {
      "text/plain": [
       "{'params': const                     6.185850\n",
       " years_of_educ             0.161283\n",
       " non_white                -0.015301\n",
       " potential_experience      0.153996\n",
       " potential_experience_2   -0.005422\n",
       " potential_experience_3    0.000058\n",
       " dtype: float64,\n",
       " 'l_var': array([4.21162561e-04, 1.94141687e-06, 8.11209507e-05, 3.71984637e-06,\n",
       "        1.05403807e-08, 2.28290018e-12]),\n",
       " 'CI':           0         1\n",
       " 0  6.145626  6.226073\n",
       " 1  0.158552  0.164014\n",
       " 2 -0.032954  0.002352\n",
       " 3  0.150215  0.157776\n",
       " 4 -0.005623 -0.005221\n",
       " 5  0.000055  0.000061}"
      ]
     },
     "execution_count": 24,
     "metadata": {},
     "output_type": "execute_result"
    }
   ],
   "source": [
    "ols_train_female"
   ]
  },
  {
   "cell_type": "code",
   "execution_count": 25,
   "id": "5183e1b6-1b02-4bcf-b50a-1159c587c734",
   "metadata": {},
   "outputs": [
    {
     "data": {
      "text/plain": [
       "{'params': const                     6.608703\n",
       " years_of_educ             0.136343\n",
       " non_white                -0.195098\n",
       " potential_experience      0.218667\n",
       " potential_experience_2   -0.007680\n",
       " potential_experience_3    0.000082\n",
       " dtype: float64,\n",
       " 'l_var': array([2.28497237e-04, 9.74753129e-07, 6.11123627e-05, 2.49616254e-06,\n",
       "        6.74568404e-09, 1.42161020e-12]),\n",
       " 'CI':           0         1\n",
       " 0  6.579076  6.638330\n",
       " 1  0.134408  0.138278\n",
       " 2 -0.210420 -0.179776\n",
       " 3  0.215571  0.221764\n",
       " 4 -0.007841 -0.007519\n",
       " 5  0.000080  0.000085}"
      ]
     },
     "execution_count": 25,
     "metadata": {},
     "output_type": "execute_result"
    }
   ],
   "source": [
    "ols_train_male"
   ]
  },
  {
   "cell_type": "code",
   "execution_count": 26,
   "id": "61b4690a-38a4-47c6-b4d6-314089e717ed",
   "metadata": {},
   "outputs": [],
   "source": [
    "def coef_L1_calc(original_data, synthetic_datasets, synthetic_data_type, target_variable, exog_variables, param_names):\n",
    "\n",
    "    # copy synthetic datasets so they don't get edited on a global scope\n",
    "    all_synth = synthetic_datasets.copy()\n",
    "\n",
    "    # train a logistic regression model with state as the target and lat, long, sex, age, and sex*age as predictors\n",
    "    # function returns all parameter estimates, standard errors, and confidence intervals for the training data\n",
    "    ols_train = ols_param_fetcher(data=original_data, y=target_variable, X=exog_variables)\n",
    "\n",
    "    # estimate the same logistic regression model for all synthetic data sets and save params, standard errors, and CIs\n",
    "    ols_synth = [ols_param_fetcher(data=Y, y=target_variable, X=exog_variables) for Y in synthetic_datasets]\n",
    "\n",
    "    # create a dataframe with the L1 distances for each coefficient in the columns, (rows are for each synthetic data set)\n",
    "    # and a column identifying the data type\n",
    "    l1_frame = pd.DataFrame()\n",
    "\n",
    "    # calculate L1 distance\n",
    "    for i in ols_synth:\n",
    "        l1_frame = pd.concat([l1_frame, np.abs(i['params'] - ols_train['params'])], axis=1)\n",
    "\n",
    "    l1_frame = l1_frame.T.reset_index(drop=True)\n",
    "    l1_frame.columns = param_names\n",
    "    l1_frame['Data Type'] = synthetic_data_type\n",
    "    l1_frame['Measure'] = 'L1 Distance'\n",
    "\n",
    "    # calculate CI ratio (width of synthetic / width of original)\n",
    "    # calculate confidence interval ratios\n",
    "    CI_ratio_frame = pd.DataFrame()\n",
    "    for i in ols_synth:\n",
    "        CI_ratio_frame = pd.concat([CI_ratio_frame, (i['CI'].iloc[:,1]-i['CI'].iloc[:,0]) / (ols_train['CI'].iloc[:,1]-ols_train['CI'].iloc[:,0])], axis=1)\n",
    "\n",
    "    CI_ratio_frame = CI_ratio_frame.T.reset_index(drop=True)\n",
    "    CI_ratio_frame.columns = param_names\n",
    "    CI_ratio_frame['Data Type'] = synthetic_data_type\n",
    "    CI_ratio_frame['Measure'] = 'CI Ratio'\n",
    "    \n",
    "    # calculate whether the signs of coefficients match\n",
    "    sign_frame = pd.DataFrame()\n",
    "    for i in ols_synth:\n",
    "        sign_frame = pd.concat([sign_frame, abs(ols_train['params']) + abs(i['params']) == abs(ols_train['params'] + i['params'])], axis=1)\n",
    "\n",
    "    sign_frame = sign_frame.T.reset_index(drop=True)\n",
    "    sign_frame.columns = param_names\n",
    "    sign_frame['Data Type'] = synthetic_data_type\n",
    "    sign_frame['Measure'] = 'Sign Match'\n",
    "    \n",
    "    # check whether the statistical significance of the coefficients matches\n",
    "    sig_frame = pd.DataFrame()\n",
    "    orig_sig = pd.concat([ols_train['CI'].iloc[:,0] <= 0, 0 <= ols_train['CI'].iloc[:,1]], axis=1).all(axis=1)\n",
    "    for i in ols_synth:\n",
    "        sig_frame = pd.concat([sig_frame, pd.concat([i['CI'].iloc[:,0] <= 0, 0 <= i['CI'].iloc[:,1]], axis=1).all(axis=1).eq(orig_sig, axis=0)], axis=1)\n",
    "\n",
    "    sig_frame = sig_frame.T.reset_index(drop=True)\n",
    "    sig_frame.columns = param_names\n",
    "    sig_frame['Data Type'] = synthetic_data_type\n",
    "    sig_frame['Measure'] = 'Significance Match'\n",
    "    \n",
    "    # check whether confidence intervals overlap\n",
    "    overlap_frame = pd.DataFrame()\n",
    "    for synth in ols_synth:\n",
    "        overlaps = []\n",
    "        for i,j in synth['CI'].iterrows():\n",
    "            i1 = pd.Interval(ols_train['CI'].iloc[i,0], ols_train['CI'].iloc[i,1], closed='both')\n",
    "            i2 = pd.Interval(j[0], j[1], closed='both')\n",
    "            overlaps.append(i1.overlaps(i2))\n",
    "        overlap_frame = pd.concat([overlap_frame, pd.Series(overlaps)], axis=1)\n",
    "\n",
    "    overlap_frame = overlap_frame.T.reset_index(drop=True)\n",
    "    overlap_frame.columns = param_names\n",
    "    overlap_frame['Data Type'] = synthetic_data_type\n",
    "    overlap_frame['Measure'] = 'CI Overlap'\n",
    "\n",
    "    # create dataframe with the actual point estimates and confidence intervals\n",
    "    p_and_i_full = pd.DataFrame()\n",
    "    \n",
    "    for i, Z in enumerate(ols_synth):\n",
    "        p_and_i = pd.concat([Z['params'].reset_index(), Z['CI']], axis=1)\n",
    "        p_and_i.columns = ['Parameter', 'Point Estimate', 'Lower Bound', 'Upper Bound']\n",
    "        p_and_i.loc[:,'Type'] = synthetic_data_type\n",
    "        p_and_i.loc[:,'index'] = i\n",
    "        p_and_i_full = pd.concat([p_and_i_full, p_and_i], axis=0)\n",
    "\n",
    "    p_and_i_full = p_and_i_full.reset_index(drop=True)\n",
    "\n",
    "    return pd.concat([l1_frame, CI_ratio_frame, sign_frame, sig_frame, overlap_frame], axis=0), p_and_i_full"
   ]
  },
  {
   "cell_type": "markdown",
   "id": "91f72b7f-71c9-4ed2-8d7b-bd94fb486e47",
   "metadata": {},
   "source": [
    "Results for female regression."
   ]
  },
  {
   "cell_type": "code",
   "execution_count": 27,
   "id": "0da25386-ecb9-47e5-a91f-6cd7628fb22f",
   "metadata": {},
   "outputs": [],
   "source": [
    "# all_data_types = ['Original', 'MNL', 'CART', 'MOSTLY.AI']\n",
    "all_data_types = ['Original', 'MNL', 'CART', 'Synthpop']\n",
    "# female_all_data = [[train_female], sXs_mnl_female, sXs_cart_female, sXs_mostly_female]\n",
    "female_all_data = [[train_female], sXs_mnl_female, sXs_cart_female, sXs_synthpop_female]"
   ]
  },
  {
   "cell_type": "code",
   "execution_count": 28,
   "id": "fd75c37b-ae27-44f8-bfee-a4c0ea04a485",
   "metadata": {},
   "outputs": [],
   "source": [
    "female_all_l1_results = pd.DataFrame()\n",
    "female_all_p_and_i_results = pd.DataFrame()\n",
    "\n",
    "for i, j in enumerate(female_all_data):\n",
    "    current_l1_results, current_p_and_i_results = coef_L1_calc(original_data=train_female, synthetic_datasets=j, synthetic_data_type=all_data_types[i],\n",
    "                                                               target_variable='log_incwage', \n",
    "                                                               exog_variables=['years_of_educ', 'non_white', 'potential_experience', 'potential_experience_2', 'potential_experience_3'],\n",
    "                                                               param_names=['Intercept', 'Years of Education', 'Non-white', 'Potential Experience', 'Potential Experience^2', 'Potential Experience^3'])\n",
    "\n",
    "    female_all_l1_results = pd.concat([female_all_l1_results, current_l1_results.reset_index()], axis=0)\n",
    "    female_all_p_and_i_results = pd.concat([female_all_p_and_i_results, current_p_and_i_results])"
   ]
  },
  {
   "cell_type": "code",
   "execution_count": 29,
   "id": "af8e67b0-f69c-42f6-8760-6ee2fc415353",
   "metadata": {},
   "outputs": [],
   "source": [
    "female_all_l1_results = female_all_l1_results.melt(id_vars=[\"Data Type\", \"Measure\", \"index\"], \n",
    "                                                   value_vars=['Intercept', 'Years of Education', 'Non-white', 'Potential Experience', 'Potential Experience^2', 'Potential Experience^3'], \n",
    "                                                   var_name=\"Variable\")"
   ]
  },
  {
   "cell_type": "markdown",
   "id": "84ec2635-94ff-4906-8910-0fefbc3186dc",
   "metadata": {},
   "source": [
    "Save data for analysis and plotting in R."
   ]
  },
  {
   "cell_type": "code",
   "execution_count": 30,
   "id": "86e1b7b2-95bf-4dfd-b5a9-4c80f2f24e16",
   "metadata": {},
   "outputs": [],
   "source": [
    "female_all_l1_results.to_csv('../Results/IPUMS/log_nn_female_analysis_specific.csv', index=False)"
   ]
  },
  {
   "cell_type": "code",
   "execution_count": 31,
   "id": "7122b768-1954-426e-a18b-f183a6bf83c6",
   "metadata": {},
   "outputs": [],
   "source": [
    "female_all_p_and_i_results.to_csv('../Results/IPUMS/log_nn_female_point_estimates_and_intervals.csv', index=False)"
   ]
  },
  {
   "cell_type": "markdown",
   "id": "4a14566c-4bb2-49d8-96f1-7ab2291ab1db",
   "metadata": {},
   "source": [
    "***"
   ]
  },
  {
   "cell_type": "markdown",
   "id": "c44a242c-5fec-43c9-83d4-3e321c7b51e2",
   "metadata": {},
   "source": [
    "Results for male regression."
   ]
  },
  {
   "cell_type": "code",
   "execution_count": 32,
   "id": "6a7bb2f4-d3d6-4bed-bc66-e5b91bac85a5",
   "metadata": {},
   "outputs": [],
   "source": [
    "# male_all_data = [[train_male], sXs_mnl_male, sXs_cart_male, sXs_mostly_male]\n",
    "male_all_data = [[train_male], sXs_mnl_male, sXs_cart_male, sXs_synthpop_male]"
   ]
  },
  {
   "cell_type": "code",
   "execution_count": 33,
   "id": "9f5b2ffd-25c3-4436-84db-de65831021d6",
   "metadata": {},
   "outputs": [],
   "source": [
    "male_all_l1_results = pd.DataFrame()\n",
    "male_all_p_and_i_results = pd.DataFrame()\n",
    "\n",
    "for i, j in enumerate(male_all_data):\n",
    "    current_l1_results, current_p_and_i_results = coef_L1_calc(original_data=train_male, synthetic_datasets=j, synthetic_data_type=all_data_types[i],\n",
    "                                                               target_variable='log_incwage', \n",
    "                                                               exog_variables=['years_of_educ', 'non_white', 'potential_experience', 'potential_experience_2', 'potential_experience_3'],\n",
    "                                                               param_names=['Intercept', 'Years of Education', 'Non-white', 'Potential Experience', 'Potential Experience^2', 'Potential Experience^3'])\n",
    "\n",
    "    male_all_l1_results = pd.concat([male_all_l1_results, current_l1_results.reset_index()], axis=0)\n",
    "    male_all_p_and_i_results = pd.concat([male_all_p_and_i_results, current_p_and_i_results])"
   ]
  },
  {
   "cell_type": "code",
   "execution_count": 34,
   "id": "92711aa7-180d-4595-8146-bdac87beb75d",
   "metadata": {},
   "outputs": [],
   "source": [
    "male_all_l1_results = male_all_l1_results.melt(id_vars=[\"Data Type\", \"Measure\", \"index\"], \n",
    "                                               value_vars=['Intercept', 'Years of Education', 'Non-white', 'Potential Experience', 'Potential Experience^2', 'Potential Experience^3'], \n",
    "                                               var_name=\"Variable\")"
   ]
  },
  {
   "cell_type": "code",
   "execution_count": 35,
   "id": "27500979-9e78-4f3f-bc00-bd70b0cae2e7",
   "metadata": {},
   "outputs": [],
   "source": [
    "male_all_l1_results.to_csv('../Results/IPUMS/log_nn_male_analysis_specific.csv', index=False)"
   ]
  },
  {
   "cell_type": "code",
   "execution_count": 36,
   "id": "3d3e4f66-e7ff-4377-9436-f378833ebd0e",
   "metadata": {},
   "outputs": [],
   "source": [
    "male_all_p_and_i_results.to_csv('../Results/IPUMS/log_nn_male_point_estimates_and_intervals.csv', index=False)"
   ]
  },
  {
   "cell_type": "code",
   "execution_count": null,
   "id": "89830ed2-74b9-4a00-ac5c-4140f5ba3d62",
   "metadata": {},
   "outputs": [],
   "source": []
  }
 ],
 "metadata": {
  "kernelspec": {
   "display_name": "Python 3 (ipykernel)",
   "language": "python",
   "name": "python3"
  },
  "language_info": {
   "codemirror_mode": {
    "name": "ipython",
    "version": 3
   },
   "file_extension": ".py",
   "mimetype": "text/x-python",
   "name": "python",
   "nbconvert_exporter": "python",
   "pygments_lexer": "ipython3",
   "version": "3.11.7"
  }
 },
 "nbformat": 4,
 "nbformat_minor": 5
}
