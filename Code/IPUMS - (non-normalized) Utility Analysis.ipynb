{
 "cells": [
  {
   "cell_type": "markdown",
   "id": "92ef4313",
   "metadata": {},
   "source": [
    "# Analysis of Utility of IPUMS data."
   ]
  },
  {
   "cell_type": "code",
   "execution_count": 1,
   "id": "26aa0526",
   "metadata": {},
   "outputs": [],
   "source": [
    "import itertools\n",
    "\n",
    "import matplotlib.pyplot as plt\n",
    "\n",
    "from scipy.spatial import KDTree\n",
    "\n",
    "from statsmodels.discrete.discrete_model import Logit\n",
    "\n",
    "from helper_functions import *"
   ]
  },
  {
   "cell_type": "code",
   "execution_count": 2,
   "id": "22c86828",
   "metadata": {},
   "outputs": [],
   "source": [
    "train_data = pd.read_csv(\"../Data/IPUMS/non_normalized_cleaned_ipums_data.csv\")"
   ]
  },
  {
   "cell_type": "code",
   "execution_count": 3,
   "id": "67318106",
   "metadata": {},
   "outputs": [],
   "source": [
    "sXs_mnl = [pd.read_csv(\"../Data/IPUMS/Synthetic Datasets/non_normalized_gmm_and_mnl_\" + str(i) + \".csv\") for i in range(20)]\n",
    "# ad_sXs_mnl = [pd.read_csv(\"../Data/SK/Synthetic Datasets/ad_gmm_and_mnl_\" + str(i) + \".csv\") for i in range(20)]\n",
    "\n",
    "sXs_cart = [pd.read_csv(\"../Data/IPUMS/Synthetic Datasets/non_normalized_gmm_and_cart_\" + str(i) + \".csv\") for i in range(20)]\n",
    "# ad_sXs_cart = [pd.read_csv(\"../Data/SK/Synthetic Datasets/ad_gmm_and_cart_\" + str(i) + \".csv\") for i in range(20)]\n",
    "\n",
    "sXs_mostly = [pd.read_csv(\"../Data/IPUMS/Synthetic Datasets/non_normalized_mostly_\" + str(i) + \".csv\") for i in range(10)]"
   ]
  },
  {
   "cell_type": "markdown",
   "id": "7dcb9690-50d1-4b9e-9d81-8f0fd8d7b367",
   "metadata": {},
   "source": [
    "# Need to Update the Range Value for MOSTLY.AI Data Sets"
   ]
  },
  {
   "cell_type": "markdown",
   "id": "fc2d5fa2-433a-4889-9b7b-303296ab29f7",
   "metadata": {},
   "source": [
    "***"
   ]
  },
  {
   "cell_type": "markdown",
   "id": "33d10630",
   "metadata": {},
   "source": [
    "## Utility Measure 1 - pMSE Ratios"
   ]
  },
  {
   "cell_type": "code",
   "execution_count": 4,
   "id": "d324b793",
   "metadata": {},
   "outputs": [
    {
     "name": "stdout",
     "output_type": "stream",
     "text": [
      "1.0546077142291321\n",
      "0.9388192398784835\n"
     ]
    },
    {
     "data": {
      "text/plain": [
       "50.502519032368404"
      ]
     },
     "execution_count": 4,
     "metadata": {},
     "output_type": "execute_result"
    }
   ],
   "source": [
    "ratios_mnl = [pmse_ratio(train_data, Y) for Y in sXs_mnl]\n",
    "print(np.mean(ratios_mnl))\n",
    "\n",
    "# ratios_ad_mnl = [pmse_ratio(train_data, Y) for Y in ad_sXs_mnl]\n",
    "# print(np.mean(ratios_ad_mnl))\n",
    "\n",
    "ratios_cart = [pmse_ratio(train_data, Y) for Y in sXs_cart]\n",
    "print(np.mean(ratios_cart))\n",
    "\n",
    "# ratios_ad_cart = [pmse_ratio(train_data, Y) for Y in ad_sXs_cart]\n",
    "# print(np.mean(ratios_ad_cart))\n",
    "\n",
    "ratios_mostly = [pmse_ratio(train_data, Y) for Y in sXs_mostly]\n",
    "np.mean(ratios_mostly)"
   ]
  },
  {
   "cell_type": "markdown",
   "id": "ae232987-0bd7-4dbd-95fb-db9d42eafcad",
   "metadata": {},
   "source": [
    "***"
   ]
  },
  {
   "cell_type": "markdown",
   "id": "11b5a94a-7242-4dfd-8951-80861945ba0f",
   "metadata": {},
   "source": [
    "Investigate why the pMSE ratio for the MOSTLY.AI data is so high."
   ]
  },
  {
   "cell_type": "code",
   "execution_count": 77,
   "id": "63c2b04f-cb2b-4e83-9322-fa896e198175",
   "metadata": {},
   "outputs": [],
   "source": [
    "pMSE = 1/(N_synth+N_orig) * np.sum((probs[:,1] - c)**2)"
   ]
  },
  {
   "cell_type": "code",
   "execution_count": 78,
   "id": "16aaa204-6963-4e45-b90e-610b714ab8b3",
   "metadata": {},
   "outputs": [
    {
     "data": {
      "text/plain": [
       "0.0017986508849591255"
      ]
     },
     "execution_count": 78,
     "metadata": {},
     "output_type": "execute_result"
    }
   ],
   "source": [
    "pMSE"
   ]
  },
  {
   "cell_type": "code",
   "execution_count": 79,
   "id": "606b3b08-703b-40f8-9004-651a32302783",
   "metadata": {},
   "outputs": [],
   "source": [
    "e_pMSE = 2*(full_X.shape[1])*(1-c)**2 * c/(N_synth+N_orig)"
   ]
  },
  {
   "cell_type": "code",
   "execution_count": 80,
   "id": "6f22bf52-d807-4ba0-9527-9754a6d36ee3",
   "metadata": {},
   "outputs": [
    {
     "data": {
      "text/plain": [
       "3.4765064018285156e-05"
      ]
     },
     "execution_count": 80,
     "metadata": {},
     "output_type": "execute_result"
    }
   ],
   "source": [
    "e_pMSE"
   ]
  },
  {
   "cell_type": "code",
   "execution_count": 62,
   "id": "c981cac9-96bb-4850-baf5-6c2f4cddca34",
   "metadata": {},
   "outputs": [
    {
     "data": {
      "text/plain": [
       "124.07397436421095"
      ]
     },
     "execution_count": 62,
     "metadata": {},
     "output_type": "execute_result"
    }
   ],
   "source": [
    "pMSE/e_pMSE"
   ]
  },
  {
   "cell_type": "code",
   "execution_count": 37,
   "id": "c9269446-5b40-44c1-b55d-797b92470da4",
   "metadata": {},
   "outputs": [
    {
     "data": {
      "text/html": [
       "<div>\n",
       "<style scoped>\n",
       "    .dataframe tbody tr th:only-of-type {\n",
       "        vertical-align: middle;\n",
       "    }\n",
       "\n",
       "    .dataframe tbody tr th {\n",
       "        vertical-align: top;\n",
       "    }\n",
       "\n",
       "    .dataframe thead th {\n",
       "        text-align: right;\n",
       "    }\n",
       "</style>\n",
       "<table border=\"1\" class=\"dataframe\">\n",
       "  <thead>\n",
       "    <tr style=\"text-align: right;\">\n",
       "      <th></th>\n",
       "      <th>incwage</th>\n",
       "      <th>years_of_educ</th>\n",
       "      <th>potential_experience</th>\n",
       "      <th>non_white</th>\n",
       "      <th>sex</th>\n",
       "    </tr>\n",
       "  </thead>\n",
       "  <tbody>\n",
       "    <tr>\n",
       "      <th>13515</th>\n",
       "      <td>9</td>\n",
       "      <td>13.000000</td>\n",
       "      <td>0.000000</td>\n",
       "      <td>1</td>\n",
       "      <td>0</td>\n",
       "    </tr>\n",
       "    <tr>\n",
       "      <th>186171</th>\n",
       "      <td>12</td>\n",
       "      <td>12.000000</td>\n",
       "      <td>2.121533</td>\n",
       "      <td>1</td>\n",
       "      <td>0</td>\n",
       "    </tr>\n",
       "    <tr>\n",
       "      <th>150629</th>\n",
       "      <td>14</td>\n",
       "      <td>11.000000</td>\n",
       "      <td>3.006143</td>\n",
       "      <td>1</td>\n",
       "      <td>0</td>\n",
       "    </tr>\n",
       "    <tr>\n",
       "      <th>188994</th>\n",
       "      <td>15</td>\n",
       "      <td>12.000000</td>\n",
       "      <td>2.142417</td>\n",
       "      <td>1</td>\n",
       "      <td>0</td>\n",
       "    </tr>\n",
       "    <tr>\n",
       "      <th>34072</th>\n",
       "      <td>15</td>\n",
       "      <td>12.000000</td>\n",
       "      <td>4.011532</td>\n",
       "      <td>1</td>\n",
       "      <td>0</td>\n",
       "    </tr>\n",
       "    <tr>\n",
       "      <th>...</th>\n",
       "      <td>...</td>\n",
       "      <td>...</td>\n",
       "      <td>...</td>\n",
       "      <td>...</td>\n",
       "      <td>...</td>\n",
       "    </tr>\n",
       "    <tr>\n",
       "      <th>37708</th>\n",
       "      <td>458826</td>\n",
       "      <td>12.000000</td>\n",
       "      <td>41.000178</td>\n",
       "      <td>1</td>\n",
       "      <td>0</td>\n",
       "    </tr>\n",
       "    <tr>\n",
       "      <th>153459</th>\n",
       "      <td>459012</td>\n",
       "      <td>17.737673</td>\n",
       "      <td>26.344768</td>\n",
       "      <td>1</td>\n",
       "      <td>0</td>\n",
       "    </tr>\n",
       "    <tr>\n",
       "      <th>124077</th>\n",
       "      <td>459561</td>\n",
       "      <td>17.737673</td>\n",
       "      <td>21.650436</td>\n",
       "      <td>1</td>\n",
       "      <td>0</td>\n",
       "    </tr>\n",
       "    <tr>\n",
       "      <th>191898</th>\n",
       "      <td>463053</td>\n",
       "      <td>17.737673</td>\n",
       "      <td>25.895795</td>\n",
       "      <td>1</td>\n",
       "      <td>0</td>\n",
       "    </tr>\n",
       "    <tr>\n",
       "      <th>41862</th>\n",
       "      <td>464009</td>\n",
       "      <td>12.000000</td>\n",
       "      <td>36.165446</td>\n",
       "      <td>1</td>\n",
       "      <td>0</td>\n",
       "    </tr>\n",
       "  </tbody>\n",
       "</table>\n",
       "<p>13613 rows × 5 columns</p>\n",
       "</div>"
      ],
      "text/plain": [
       "        incwage  years_of_educ  potential_experience  non_white  sex\n",
       "13515         9      13.000000              0.000000          1    0\n",
       "186171       12      12.000000              2.121533          1    0\n",
       "150629       14      11.000000              3.006143          1    0\n",
       "188994       15      12.000000              2.142417          1    0\n",
       "34072        15      12.000000              4.011532          1    0\n",
       "...         ...            ...                   ...        ...  ...\n",
       "37708    458826      12.000000             41.000178          1    0\n",
       "153459   459012      17.737673             26.344768          1    0\n",
       "124077   459561      17.737673             21.650436          1    0\n",
       "191898   463053      17.737673             25.895795          1    0\n",
       "41862    464009      12.000000             36.165446          1    0\n",
       "\n",
       "[13613 rows x 5 columns]"
      ]
     },
     "execution_count": 37,
     "metadata": {},
     "output_type": "execute_result"
    }
   ],
   "source": [
    "synthetic_data.loc[synthetic_data.non_white==1,:].loc[synthetic_data.sex == 0,:].loc[synthetic_data.years_of_educ > 2,:]"
   ]
  },
  {
   "cell_type": "markdown",
   "id": "9297e105",
   "metadata": {},
   "source": [
    "***"
   ]
  },
  {
   "cell_type": "markdown",
   "id": "497cddaf-caae-4abd-b4fe-4b4f004bc6bb",
   "metadata": {},
   "source": [
    "Save data for plotting in R."
   ]
  },
  {
   "cell_type": "code",
   "execution_count": null,
   "id": "b6382f53-b2d8-4fac-8cad-e8cf06561b70",
   "metadata": {},
   "outputs": [],
   "source": [
    "pmse_results = pd.DataFrame({'Dataset': np.arange(1, len(ratios_mnl)+1),\n",
    "                             'MNL': ratios_mnl,\n",
    "                             # 'AD-MNL': ratios_ad_mnl,\n",
    "                             'CART': ratios_cart,\n",
    "                             # 'AD-CART': ratios_ad_cart,\n",
    "                             'MOSTLY.AI': ratios_mostly})\n",
    "\n",
    "pmse_results = pmse_results.melt(id_vars=[\"Dataset\"], value_vars=[\"MNL\", \"CART\", \"MOSTLY.AI\"], var_name=\"Type\")\n",
    "pmse_results.to_csv('../Results/IPUMS/non_normalized_pmse_metrics.csv', index=False)"
   ]
  },
  {
   "cell_type": "code",
   "execution_count": 7,
   "id": "f4410ef6",
   "metadata": {},
   "outputs": [
    {
     "data": {
      "image/png": "[encoded data removed]",
      "text/plain": [
       "<Figure size 1000x1000 with 1 Axes>"
      ]
     },
     "metadata": {},
     "output_type": "display_data"
    }
   ],
   "source": [
    "# Combine data\n",
    "# plot_data = list([ratios_mnl, ratios_ad_mnl, ratios_cart, ratios_ad_cart, ratios_mostly])\n",
    "\n",
    "plot_data = list([ratios_mnl, ratios_cart, ratios_mostly])\n",
    "\n",
    "fig, ax = plt.subplots(figsize=(10,10))\n",
    "\n",
    "# xticklabels = [\"MNL\", \"AD-MNL\", \"CART\", \"AD-CART\", \"MOSTLY.AI\"]\n",
    "xticklabels = [\"MNL\", \"CART\", \"MOSTLY.AI\"]\n",
    "# ax.set_xticks([1, 2, 3, 4, 5])\n",
    "ax.set_xticks([1, 2, 3])\n",
    "ax.set_xticklabels(xticklabels)\n",
    "\n",
    "ax.violinplot(plot_data, showmeans=True)\n",
    "\n",
    "plt.title(\"Distributions of Logistic Regression Based pMSE Ratios\")\n",
    "\n",
    "plt.show()"
   ]
  },
  {
   "cell_type": "markdown",
   "id": "b52c50b1",
   "metadata": {},
   "source": [
    "***"
   ]
  },
  {
   "cell_type": "markdown",
   "id": "75d9086b-b883-4fdc-ba26-403755f5aabf",
   "metadata": {},
   "source": [
    "# Utility Metric: Analysis Specific Utility\n",
    "\n",
    "###  * L1 distance between confidential and synthetic coefficient estimates\n",
    "###  * Confidence interval ratio\n",
    "###  * Sign, Significance, and Overlap (SSO)"
   ]
  },
  {
   "cell_type": "markdown",
   "id": "8fc8cc51",
   "metadata": {},
   "source": [
    "Analysis specific utility."
   ]
  },
  {
   "cell_type": "markdown",
   "id": "ce22d525",
   "metadata": {},
   "source": [
    "Use logistic regression to predict COVID-19 deaths based on latitude and longitude, age, and sex."
   ]
  },
  {
   "cell_type": "markdown",
   "id": "0cd581f3",
   "metadata": {},
   "source": [
    "Compute the model for the original data."
   ]
  },
  {
   "cell_type": "markdown",
   "id": "e3bfb510-181d-4712-8a39-13c851e436dc",
   "metadata": {},
   "source": [
    "***"
   ]
  },
  {
   "cell_type": "markdown",
   "id": "97c7a79e-401e-44d0-a8e5-dd1952619e9a",
   "metadata": {},
   "source": [
    "Regress log annual earnings as a function of years_of_educ, non_white, and potential experience (up to third degree polynomial)."
   ]
  },
  {
   "cell_type": "markdown",
   "id": "a49c141e-2a46-468f-a041-1efeb8bf75ad",
   "metadata": {},
   "source": [
    "Do the above regression for males and females separately."
   ]
  },
  {
   "cell_type": "code",
   "execution_count": 4,
   "id": "ee55bb97-d141-49a5-9259-8d8d46d91e0f",
   "metadata": {},
   "outputs": [
    {
     "data": {
      "text/html": [
       "<div>\n",
       "<style scoped>\n",
       "    .dataframe tbody tr th:only-of-type {\n",
       "        vertical-align: middle;\n",
       "    }\n",
       "\n",
       "    .dataframe tbody tr th {\n",
       "        vertical-align: top;\n",
       "    }\n",
       "\n",
       "    .dataframe thead th {\n",
       "        text-align: right;\n",
       "    }\n",
       "</style>\n",
       "<table border=\"1\" class=\"dataframe\">\n",
       "  <thead>\n",
       "    <tr style=\"text-align: right;\">\n",
       "      <th></th>\n",
       "      <th>incwage</th>\n",
       "      <th>years_of_educ</th>\n",
       "      <th>potential_experience</th>\n",
       "      <th>non_white</th>\n",
       "      <th>sex</th>\n",
       "    </tr>\n",
       "  </thead>\n",
       "  <tbody>\n",
       "    <tr>\n",
       "      <th>0</th>\n",
       "      <td>11000</td>\n",
       "      <td>16.000000</td>\n",
       "      <td>18.000000</td>\n",
       "      <td>0</td>\n",
       "      <td>1</td>\n",
       "    </tr>\n",
       "    <tr>\n",
       "      <th>1</th>\n",
       "      <td>38000</td>\n",
       "      <td>15.000000</td>\n",
       "      <td>23.000000</td>\n",
       "      <td>0</td>\n",
       "      <td>0</td>\n",
       "    </tr>\n",
       "    <tr>\n",
       "      <th>2</th>\n",
       "      <td>7000</td>\n",
       "      <td>13.000000</td>\n",
       "      <td>2.000000</td>\n",
       "      <td>0</td>\n",
       "      <td>0</td>\n",
       "    </tr>\n",
       "    <tr>\n",
       "      <th>3</th>\n",
       "      <td>2600</td>\n",
       "      <td>11.000000</td>\n",
       "      <td>0.000000</td>\n",
       "      <td>0</td>\n",
       "      <td>0</td>\n",
       "    </tr>\n",
       "    <tr>\n",
       "      <th>4</th>\n",
       "      <td>20800</td>\n",
       "      <td>12.000000</td>\n",
       "      <td>33.000000</td>\n",
       "      <td>1</td>\n",
       "      <td>0</td>\n",
       "    </tr>\n",
       "    <tr>\n",
       "      <th>...</th>\n",
       "      <td>...</td>\n",
       "      <td>...</td>\n",
       "      <td>...</td>\n",
       "      <td>...</td>\n",
       "      <td>...</td>\n",
       "    </tr>\n",
       "    <tr>\n",
       "      <th>197751</th>\n",
       "      <td>22500</td>\n",
       "      <td>16.000000</td>\n",
       "      <td>13.000000</td>\n",
       "      <td>0</td>\n",
       "      <td>0</td>\n",
       "    </tr>\n",
       "    <tr>\n",
       "      <th>197752</th>\n",
       "      <td>4500</td>\n",
       "      <td>16.000000</td>\n",
       "      <td>11.000000</td>\n",
       "      <td>0</td>\n",
       "      <td>1</td>\n",
       "    </tr>\n",
       "    <tr>\n",
       "      <th>197753</th>\n",
       "      <td>37000</td>\n",
       "      <td>17.737673</td>\n",
       "      <td>19.262327</td>\n",
       "      <td>0</td>\n",
       "      <td>0</td>\n",
       "    </tr>\n",
       "    <tr>\n",
       "      <th>197754</th>\n",
       "      <td>1500</td>\n",
       "      <td>15.000000</td>\n",
       "      <td>13.000000</td>\n",
       "      <td>0</td>\n",
       "      <td>1</td>\n",
       "    </tr>\n",
       "    <tr>\n",
       "      <th>197755</th>\n",
       "      <td>45100</td>\n",
       "      <td>16.000000</td>\n",
       "      <td>32.000000</td>\n",
       "      <td>0</td>\n",
       "      <td>0</td>\n",
       "    </tr>\n",
       "  </tbody>\n",
       "</table>\n",
       "<p>197756 rows × 5 columns</p>\n",
       "</div>"
      ],
      "text/plain": [
       "        incwage  years_of_educ  potential_experience  non_white  sex\n",
       "0         11000      16.000000             18.000000          0    1\n",
       "1         38000      15.000000             23.000000          0    0\n",
       "2          7000      13.000000              2.000000          0    0\n",
       "3          2600      11.000000              0.000000          0    0\n",
       "4         20800      12.000000             33.000000          1    0\n",
       "...         ...            ...                   ...        ...  ...\n",
       "197751    22500      16.000000             13.000000          0    0\n",
       "197752     4500      16.000000             11.000000          0    1\n",
       "197753    37000      17.737673             19.262327          0    0\n",
       "197754     1500      15.000000             13.000000          0    1\n",
       "197755    45100      16.000000             32.000000          0    0\n",
       "\n",
       "[197756 rows x 5 columns]"
      ]
     },
     "execution_count": 4,
     "metadata": {},
     "output_type": "execute_result"
    }
   ],
   "source": [
    "train_data"
   ]
  },
  {
   "cell_type": "markdown",
   "id": "ee7c0249-4bb4-496c-a24b-1a5213b3a2f5",
   "metadata": {},
   "source": [
    "Compute the variables for the polynomials of `potential_experience` and the target log of `incwage`."
   ]
  },
  {
   "cell_type": "code",
   "execution_count": 5,
   "id": "ed826f95-d198-4ef8-8410-b6d6e0a1f25b",
   "metadata": {},
   "outputs": [],
   "source": [
    "def new_vars(data_sets):\n",
    "    for Z in data_sets:\n",
    "        Z.loc[:,'potential_experience_2'] = Z.potential_experience**2\n",
    "        Z.loc[:,'potential_experience_3'] = Z.potential_experience**3\n",
    "        Z.loc[:,'log_incwage'] = np.log(Z.incwage)"
   ]
  },
  {
   "cell_type": "code",
   "execution_count": 6,
   "id": "6accc756-b4d1-404d-9631-eddaada13688",
   "metadata": {},
   "outputs": [],
   "source": [
    "new_vars([train_data])"
   ]
  },
  {
   "cell_type": "code",
   "execution_count": 7,
   "id": "524e4a80-67cd-4aa2-9125-5a55268ca9be",
   "metadata": {},
   "outputs": [],
   "source": [
    "new_vars(sXs_mnl)\n",
    "new_vars(sXs_cart)\n",
    "new_vars(sXs_mostly)"
   ]
  },
  {
   "cell_type": "code",
   "execution_count": 8,
   "id": "9a0757a2-a902-421d-bddd-6053cecf84c9",
   "metadata": {},
   "outputs": [
    {
     "data": {
      "text/html": [
       "<div>\n",
       "<style scoped>\n",
       "    .dataframe tbody tr th:only-of-type {\n",
       "        vertical-align: middle;\n",
       "    }\n",
       "\n",
       "    .dataframe tbody tr th {\n",
       "        vertical-align: top;\n",
       "    }\n",
       "\n",
       "    .dataframe thead th {\n",
       "        text-align: right;\n",
       "    }\n",
       "</style>\n",
       "<table border=\"1\" class=\"dataframe\">\n",
       "  <thead>\n",
       "    <tr style=\"text-align: right;\">\n",
       "      <th></th>\n",
       "      <th>incwage</th>\n",
       "      <th>years_of_educ</th>\n",
       "      <th>potential_experience</th>\n",
       "      <th>non_white</th>\n",
       "      <th>sex</th>\n",
       "      <th>potential_experience_2</th>\n",
       "      <th>potential_experience_3</th>\n",
       "      <th>log_incwage</th>\n",
       "    </tr>\n",
       "  </thead>\n",
       "  <tbody>\n",
       "    <tr>\n",
       "      <th>0</th>\n",
       "      <td>29806.981185</td>\n",
       "      <td>17.735874</td>\n",
       "      <td>7.699414</td>\n",
       "      <td>0</td>\n",
       "      <td>0</td>\n",
       "      <td>59.280980</td>\n",
       "      <td>456.428826</td>\n",
       "      <td>10.302498</td>\n",
       "    </tr>\n",
       "    <tr>\n",
       "      <th>1</th>\n",
       "      <td>20185.004907</td>\n",
       "      <td>17.735816</td>\n",
       "      <td>3.993422</td>\n",
       "      <td>0</td>\n",
       "      <td>1</td>\n",
       "      <td>15.947419</td>\n",
       "      <td>63.684773</td>\n",
       "      <td>9.912695</td>\n",
       "    </tr>\n",
       "    <tr>\n",
       "      <th>2</th>\n",
       "      <td>33471.792094</td>\n",
       "      <td>17.733416</td>\n",
       "      <td>3.368039</td>\n",
       "      <td>0</td>\n",
       "      <td>1</td>\n",
       "      <td>11.343689</td>\n",
       "      <td>38.205991</td>\n",
       "      <td>10.418458</td>\n",
       "    </tr>\n",
       "    <tr>\n",
       "      <th>3</th>\n",
       "      <td>34805.449208</td>\n",
       "      <td>17.734569</td>\n",
       "      <td>3.698343</td>\n",
       "      <td>0</td>\n",
       "      <td>1</td>\n",
       "      <td>13.677740</td>\n",
       "      <td>50.584970</td>\n",
       "      <td>10.457529</td>\n",
       "    </tr>\n",
       "    <tr>\n",
       "      <th>4</th>\n",
       "      <td>30885.694386</td>\n",
       "      <td>17.737976</td>\n",
       "      <td>1.334839</td>\n",
       "      <td>0</td>\n",
       "      <td>0</td>\n",
       "      <td>1.781794</td>\n",
       "      <td>2.378408</td>\n",
       "      <td>10.338048</td>\n",
       "    </tr>\n",
       "    <tr>\n",
       "      <th>...</th>\n",
       "      <td>...</td>\n",
       "      <td>...</td>\n",
       "      <td>...</td>\n",
       "      <td>...</td>\n",
       "      <td>...</td>\n",
       "      <td>...</td>\n",
       "      <td>...</td>\n",
       "      <td>...</td>\n",
       "    </tr>\n",
       "    <tr>\n",
       "      <th>197751</th>\n",
       "      <td>57726.835886</td>\n",
       "      <td>11.999221</td>\n",
       "      <td>17.174313</td>\n",
       "      <td>0</td>\n",
       "      <td>0</td>\n",
       "      <td>294.957035</td>\n",
       "      <td>5065.684496</td>\n",
       "      <td>10.963477</td>\n",
       "    </tr>\n",
       "    <tr>\n",
       "      <th>197752</th>\n",
       "      <td>45352.781468</td>\n",
       "      <td>12.003633</td>\n",
       "      <td>55.656797</td>\n",
       "      <td>1</td>\n",
       "      <td>0</td>\n",
       "      <td>3097.679062</td>\n",
       "      <td>172406.895021</td>\n",
       "      <td>10.722227</td>\n",
       "    </tr>\n",
       "    <tr>\n",
       "      <th>197753</th>\n",
       "      <td>35060.297766</td>\n",
       "      <td>12.000646</td>\n",
       "      <td>47.860154</td>\n",
       "      <td>0</td>\n",
       "      <td>0</td>\n",
       "      <td>2290.594303</td>\n",
       "      <td>109628.195160</td>\n",
       "      <td>10.464825</td>\n",
       "    </tr>\n",
       "    <tr>\n",
       "      <th>197754</th>\n",
       "      <td>57982.684046</td>\n",
       "      <td>11.996054</td>\n",
       "      <td>28.724049</td>\n",
       "      <td>0</td>\n",
       "      <td>0</td>\n",
       "      <td>825.070989</td>\n",
       "      <td>23699.379510</td>\n",
       "      <td>10.967900</td>\n",
       "    </tr>\n",
       "    <tr>\n",
       "      <th>197755</th>\n",
       "      <td>63310.325764</td>\n",
       "      <td>12.005094</td>\n",
       "      <td>23.919599</td>\n",
       "      <td>0</td>\n",
       "      <td>0</td>\n",
       "      <td>572.147200</td>\n",
       "      <td>13685.531410</td>\n",
       "      <td>11.055804</td>\n",
       "    </tr>\n",
       "  </tbody>\n",
       "</table>\n",
       "<p>197756 rows × 8 columns</p>\n",
       "</div>"
      ],
      "text/plain": [
       "             incwage  years_of_educ  potential_experience  non_white  sex  \\\n",
       "0       29806.981185      17.735874              7.699414          0    0   \n",
       "1       20185.004907      17.735816              3.993422          0    1   \n",
       "2       33471.792094      17.733416              3.368039          0    1   \n",
       "3       34805.449208      17.734569              3.698343          0    1   \n",
       "4       30885.694386      17.737976              1.334839          0    0   \n",
       "...              ...            ...                   ...        ...  ...   \n",
       "197751  57726.835886      11.999221             17.174313          0    0   \n",
       "197752  45352.781468      12.003633             55.656797          1    0   \n",
       "197753  35060.297766      12.000646             47.860154          0    0   \n",
       "197754  57982.684046      11.996054             28.724049          0    0   \n",
       "197755  63310.325764      12.005094             23.919599          0    0   \n",
       "\n",
       "        potential_experience_2  potential_experience_3  log_incwage  \n",
       "0                    59.280980              456.428826    10.302498  \n",
       "1                    15.947419               63.684773     9.912695  \n",
       "2                    11.343689               38.205991    10.418458  \n",
       "3                    13.677740               50.584970    10.457529  \n",
       "4                     1.781794                2.378408    10.338048  \n",
       "...                        ...                     ...          ...  \n",
       "197751              294.957035             5065.684496    10.963477  \n",
       "197752             3097.679062           172406.895021    10.722227  \n",
       "197753             2290.594303           109628.195160    10.464825  \n",
       "197754              825.070989            23699.379510    10.967900  \n",
       "197755              572.147200            13685.531410    11.055804  \n",
       "\n",
       "[197756 rows x 8 columns]"
      ]
     },
     "execution_count": 8,
     "metadata": {},
     "output_type": "execute_result"
    }
   ],
   "source": [
    "sXs_mnl[0]"
   ]
  },
  {
   "cell_type": "markdown",
   "id": "f7a78418-af12-4199-89e2-7732ee4fdb6e",
   "metadata": {},
   "source": [
    "Split into female/male synthetic data sets."
   ]
  },
  {
   "cell_type": "code",
   "execution_count": 9,
   "id": "ce50e091-3c0a-46b7-868b-a1deac2ce823",
   "metadata": {},
   "outputs": [],
   "source": [
    "sXs_mnl_female = [Z.loc[Z.sex == 1,:] for Z in sXs_mnl]\n",
    "sXs_mnl_male = [Z.loc[Z.sex == 0,:] for Z in sXs_mnl]"
   ]
  },
  {
   "cell_type": "code",
   "execution_count": 10,
   "id": "18ca8856-e6d3-4c86-98ba-eef20e577f56",
   "metadata": {},
   "outputs": [],
   "source": [
    "sXs_cart_female = [Z.loc[Z.sex == 1,:] for Z in sXs_cart]\n",
    "sXs_cart_male = [Z.loc[Z.sex == 0,:] for Z in sXs_cart]"
   ]
  },
  {
   "cell_type": "code",
   "execution_count": 11,
   "id": "981cca7d-3920-44e0-8a09-0a8ba39b7d04",
   "metadata": {},
   "outputs": [],
   "source": [
    "sXs_mostly_female = [Z.loc[Z.sex == 1,:] for Z in sXs_mostly]\n",
    "sXs_mostly_male = [Z.loc[Z.sex == 0,:] for Z in sXs_mostly]"
   ]
  },
  {
   "cell_type": "code",
   "execution_count": 12,
   "id": "2d0aa042-5f54-4a8f-a454-72ed55d3e4ed",
   "metadata": {},
   "outputs": [],
   "source": [
    "train_female = train_data.loc[train_data.sex == 1,:]\n",
    "train_male = train_data.loc[train_data.sex == 0,:]"
   ]
  },
  {
   "cell_type": "code",
   "execution_count": 13,
   "id": "b9612d29-d0d1-474c-8ce1-a2af9cf790d4",
   "metadata": {},
   "outputs": [],
   "source": [
    "ols_train_female = ols_param_fetcher(data=train_female, y='log_incwage', X=['years_of_educ', 'non_white', 'potential_experience', 'potential_experience_2', 'potential_experience_3'])"
   ]
  },
  {
   "cell_type": "code",
   "execution_count": 14,
   "id": "6aa32694-3936-475e-b420-581f1ad5c8a9",
   "metadata": {},
   "outputs": [],
   "source": [
    "ols_train_male = ols_param_fetcher(data=train_male, y='log_incwage', X=['years_of_educ', 'non_white', 'potential_experience', 'potential_experience_2', 'potential_experience_3'])"
   ]
  },
  {
   "cell_type": "code",
   "execution_count": 15,
   "id": "34fe15f8-3697-40a7-9c89-f5807d4de2c6",
   "metadata": {},
   "outputs": [
    {
     "data": {
      "text/plain": [
       "{'params': const                     6.185850\n",
       " years_of_educ             0.161283\n",
       " non_white                -0.015301\n",
       " potential_experience      0.153996\n",
       " potential_experience_2   -0.005422\n",
       " potential_experience_3    0.000058\n",
       " dtype: float64,\n",
       " 'l_var': array([4.21162561e-04, 1.94141687e-06, 8.11209507e-05, 3.71984637e-06,\n",
       "        1.05403807e-08, 2.28290018e-12]),\n",
       " 'CI':           0         1\n",
       " 0  6.145626  6.226073\n",
       " 1  0.158552  0.164014\n",
       " 2 -0.032954  0.002352\n",
       " 3  0.150215  0.157776\n",
       " 4 -0.005623 -0.005221\n",
       " 5  0.000055  0.000061}"
      ]
     },
     "execution_count": 15,
     "metadata": {},
     "output_type": "execute_result"
    }
   ],
   "source": [
    "ols_train_female"
   ]
  },
  {
   "cell_type": "code",
   "execution_count": 16,
   "id": "5183e1b6-1b02-4bcf-b50a-1159c587c734",
   "metadata": {},
   "outputs": [
    {
     "data": {
      "text/plain": [
       "{'params': const                     6.608703\n",
       " years_of_educ             0.136343\n",
       " non_white                -0.195098\n",
       " potential_experience      0.218667\n",
       " potential_experience_2   -0.007680\n",
       " potential_experience_3    0.000082\n",
       " dtype: float64,\n",
       " 'l_var': array([2.28497237e-04, 9.74753129e-07, 6.11123627e-05, 2.49616254e-06,\n",
       "        6.74568404e-09, 1.42161020e-12]),\n",
       " 'CI':           0         1\n",
       " 0  6.579076  6.638330\n",
       " 1  0.134408  0.138278\n",
       " 2 -0.210420 -0.179776\n",
       " 3  0.215571  0.221764\n",
       " 4 -0.007841 -0.007519\n",
       " 5  0.000080  0.000085}"
      ]
     },
     "execution_count": 16,
     "metadata": {},
     "output_type": "execute_result"
    }
   ],
   "source": [
    "ols_train_male"
   ]
  },
  {
   "cell_type": "markdown",
   "id": "91f72b7f-71c9-4ed2-8d7b-bd94fb486e47",
   "metadata": {},
   "source": [
    "Results for female regression."
   ]
  },
  {
   "cell_type": "code",
   "execution_count": 17,
   "id": "0da25386-ecb9-47e5-a91f-6cd7628fb22f",
   "metadata": {},
   "outputs": [],
   "source": [
    "all_data_types = ['Original', 'MNL', 'CART', 'MOSTLY.AI']\n",
    "female_all_data = [[train_female], sXs_mnl_female, sXs_cart_female, sXs_mostly_female]"
   ]
  },
  {
   "cell_type": "code",
   "execution_count": 18,
   "id": "fd75c37b-ae27-44f8-bfee-a4c0ea04a485",
   "metadata": {},
   "outputs": [],
   "source": [
    "female_all_l1_results = pd.DataFrame()\n",
    "female_all_p_and_i_results = pd.DataFrame()\n",
    "\n",
    "for i, j in enumerate(female_all_data):\n",
    "    current_l1_results, current_p_and_i_results = coef_L1_calc(original_data=train_female, synthetic_datasets=j, synthetic_data_type=all_data_types[i],\n",
    "                                                               target_variable='log_incwage', \n",
    "                                                               exog_variables=['years_of_educ', 'non_white', 'potential_experience', 'potential_experience_2', 'potential_experience_3'],\n",
    "                                                               param_names=['Intercept', 'Years of Education', 'Non-white', 'Potential Experience', 'Potential Experience^2', 'Potential Experience^3'])\n",
    "\n",
    "    female_all_l1_results = pd.concat([female_all_l1_results, current_l1_results.reset_index()], axis=0)\n",
    "    female_all_p_and_i_results = pd.concat([female_all_p_and_i_results, current_p_and_i_results])"
   ]
  },
  {
   "cell_type": "code",
   "execution_count": 19,
   "id": "9ca0b3a5-fbbc-4e78-9785-587b1a098d20",
   "metadata": {},
   "outputs": [
    {
     "data": {
      "text/html": [
       "<div>\n",
       "<style scoped>\n",
       "    .dataframe tbody tr th:only-of-type {\n",
       "        vertical-align: middle;\n",
       "    }\n",
       "\n",
       "    .dataframe tbody tr th {\n",
       "        vertical-align: top;\n",
       "    }\n",
       "\n",
       "    .dataframe thead th {\n",
       "        text-align: right;\n",
       "    }\n",
       "</style>\n",
       "<table border=\"1\" class=\"dataframe\">\n",
       "  <thead>\n",
       "    <tr style=\"text-align: right;\">\n",
       "      <th></th>\n",
       "      <th>index</th>\n",
       "      <th>Intercept</th>\n",
       "      <th>Years of Education</th>\n",
       "      <th>Non-white</th>\n",
       "      <th>Potential Experience</th>\n",
       "      <th>Potential Experience^2</th>\n",
       "      <th>Potential Experience^3</th>\n",
       "      <th>Data Type</th>\n",
       "      <th>Measure</th>\n",
       "    </tr>\n",
       "  </thead>\n",
       "  <tbody>\n",
       "    <tr>\n",
       "      <th>0</th>\n",
       "      <td>0</td>\n",
       "      <td>0.0</td>\n",
       "      <td>0.0</td>\n",
       "      <td>0.0</td>\n",
       "      <td>0.0</td>\n",
       "      <td>0.0</td>\n",
       "      <td>0.0</td>\n",
       "      <td>Original</td>\n",
       "      <td>L1 Distance</td>\n",
       "    </tr>\n",
       "    <tr>\n",
       "      <th>1</th>\n",
       "      <td>0</td>\n",
       "      <td>1.0</td>\n",
       "      <td>1.0</td>\n",
       "      <td>1.0</td>\n",
       "      <td>1.0</td>\n",
       "      <td>1.0</td>\n",
       "      <td>1.0</td>\n",
       "      <td>Original</td>\n",
       "      <td>CI Ratio</td>\n",
       "    </tr>\n",
       "    <tr>\n",
       "      <th>2</th>\n",
       "      <td>0</td>\n",
       "      <td>1.0</td>\n",
       "      <td>1.0</td>\n",
       "      <td>1.0</td>\n",
       "      <td>1.0</td>\n",
       "      <td>1.0</td>\n",
       "      <td>1.0</td>\n",
       "      <td>Original</td>\n",
       "      <td>Sign Match</td>\n",
       "    </tr>\n",
       "    <tr>\n",
       "      <th>3</th>\n",
       "      <td>0</td>\n",
       "      <td>1.0</td>\n",
       "      <td>1.0</td>\n",
       "      <td>1.0</td>\n",
       "      <td>1.0</td>\n",
       "      <td>1.0</td>\n",
       "      <td>1.0</td>\n",
       "      <td>Original</td>\n",
       "      <td>Significance Match</td>\n",
       "    </tr>\n",
       "    <tr>\n",
       "      <th>4</th>\n",
       "      <td>0</td>\n",
       "      <td>1.0</td>\n",
       "      <td>1.0</td>\n",
       "      <td>1.0</td>\n",
       "      <td>1.0</td>\n",
       "      <td>1.0</td>\n",
       "      <td>1.0</td>\n",
       "      <td>Original</td>\n",
       "      <td>CI Overlap</td>\n",
       "    </tr>\n",
       "    <tr>\n",
       "      <th>...</th>\n",
       "      <td>...</td>\n",
       "      <td>...</td>\n",
       "      <td>...</td>\n",
       "      <td>...</td>\n",
       "      <td>...</td>\n",
       "      <td>...</td>\n",
       "      <td>...</td>\n",
       "      <td>...</td>\n",
       "      <td>...</td>\n",
       "    </tr>\n",
       "    <tr>\n",
       "      <th>45</th>\n",
       "      <td>5</td>\n",
       "      <td>0.0</td>\n",
       "      <td>0.0</td>\n",
       "      <td>0.0</td>\n",
       "      <td>1.0</td>\n",
       "      <td>1.0</td>\n",
       "      <td>0.0</td>\n",
       "      <td>MOSTLY.AI</td>\n",
       "      <td>CI Overlap</td>\n",
       "    </tr>\n",
       "    <tr>\n",
       "      <th>46</th>\n",
       "      <td>6</td>\n",
       "      <td>0.0</td>\n",
       "      <td>0.0</td>\n",
       "      <td>1.0</td>\n",
       "      <td>1.0</td>\n",
       "      <td>1.0</td>\n",
       "      <td>1.0</td>\n",
       "      <td>MOSTLY.AI</td>\n",
       "      <td>CI Overlap</td>\n",
       "    </tr>\n",
       "    <tr>\n",
       "      <th>47</th>\n",
       "      <td>7</td>\n",
       "      <td>0.0</td>\n",
       "      <td>0.0</td>\n",
       "      <td>1.0</td>\n",
       "      <td>1.0</td>\n",
       "      <td>1.0</td>\n",
       "      <td>1.0</td>\n",
       "      <td>MOSTLY.AI</td>\n",
       "      <td>CI Overlap</td>\n",
       "    </tr>\n",
       "    <tr>\n",
       "      <th>48</th>\n",
       "      <td>8</td>\n",
       "      <td>0.0</td>\n",
       "      <td>0.0</td>\n",
       "      <td>1.0</td>\n",
       "      <td>1.0</td>\n",
       "      <td>1.0</td>\n",
       "      <td>1.0</td>\n",
       "      <td>MOSTLY.AI</td>\n",
       "      <td>CI Overlap</td>\n",
       "    </tr>\n",
       "    <tr>\n",
       "      <th>49</th>\n",
       "      <td>9</td>\n",
       "      <td>0.0</td>\n",
       "      <td>0.0</td>\n",
       "      <td>1.0</td>\n",
       "      <td>1.0</td>\n",
       "      <td>1.0</td>\n",
       "      <td>1.0</td>\n",
       "      <td>MOSTLY.AI</td>\n",
       "      <td>CI Overlap</td>\n",
       "    </tr>\n",
       "  </tbody>\n",
       "</table>\n",
       "<p>255 rows × 9 columns</p>\n",
       "</div>"
      ],
      "text/plain": [
       "    index  Intercept  Years of Education  Non-white  Potential Experience  \\\n",
       "0       0        0.0                 0.0        0.0                   0.0   \n",
       "1       0        1.0                 1.0        1.0                   1.0   \n",
       "2       0        1.0                 1.0        1.0                   1.0   \n",
       "3       0        1.0                 1.0        1.0                   1.0   \n",
       "4       0        1.0                 1.0        1.0                   1.0   \n",
       "..    ...        ...                 ...        ...                   ...   \n",
       "45      5        0.0                 0.0        0.0                   1.0   \n",
       "46      6        0.0                 0.0        1.0                   1.0   \n",
       "47      7        0.0                 0.0        1.0                   1.0   \n",
       "48      8        0.0                 0.0        1.0                   1.0   \n",
       "49      9        0.0                 0.0        1.0                   1.0   \n",
       "\n",
       "    Potential Experience^2  Potential Experience^3  Data Type  \\\n",
       "0                      0.0                     0.0   Original   \n",
       "1                      1.0                     1.0   Original   \n",
       "2                      1.0                     1.0   Original   \n",
       "3                      1.0                     1.0   Original   \n",
       "4                      1.0                     1.0   Original   \n",
       "..                     ...                     ...        ...   \n",
       "45                     1.0                     0.0  MOSTLY.AI   \n",
       "46                     1.0                     1.0  MOSTLY.AI   \n",
       "47                     1.0                     1.0  MOSTLY.AI   \n",
       "48                     1.0                     1.0  MOSTLY.AI   \n",
       "49                     1.0                     1.0  MOSTLY.AI   \n",
       "\n",
       "               Measure  \n",
       "0          L1 Distance  \n",
       "1             CI Ratio  \n",
       "2           Sign Match  \n",
       "3   Significance Match  \n",
       "4           CI Overlap  \n",
       "..                 ...  \n",
       "45          CI Overlap  \n",
       "46          CI Overlap  \n",
       "47          CI Overlap  \n",
       "48          CI Overlap  \n",
       "49          CI Overlap  \n",
       "\n",
       "[255 rows x 9 columns]"
      ]
     },
     "execution_count": 19,
     "metadata": {},
     "output_type": "execute_result"
    }
   ],
   "source": [
    "female_all_l1_results"
   ]
  },
  {
   "cell_type": "code",
   "execution_count": 20,
   "id": "6e06aa0c-9f7b-41ea-bf43-0ecfbebc16f4",
   "metadata": {},
   "outputs": [
    {
     "data": {
      "text/html": [
       "<div>\n",
       "<style scoped>\n",
       "    .dataframe tbody tr th:only-of-type {\n",
       "        vertical-align: middle;\n",
       "    }\n",
       "\n",
       "    .dataframe tbody tr th {\n",
       "        vertical-align: top;\n",
       "    }\n",
       "\n",
       "    .dataframe thead th {\n",
       "        text-align: right;\n",
       "    }\n",
       "</style>\n",
       "<table border=\"1\" class=\"dataframe\">\n",
       "  <thead>\n",
       "    <tr style=\"text-align: right;\">\n",
       "      <th></th>\n",
       "      <th>Parameter</th>\n",
       "      <th>Point Estimate</th>\n",
       "      <th>Lower Bound</th>\n",
       "      <th>Upper Bound</th>\n",
       "      <th>Type</th>\n",
       "      <th>index</th>\n",
       "    </tr>\n",
       "  </thead>\n",
       "  <tbody>\n",
       "    <tr>\n",
       "      <th>0</th>\n",
       "      <td>const</td>\n",
       "      <td>6.185850</td>\n",
       "      <td>6.145626</td>\n",
       "      <td>6.226073</td>\n",
       "      <td>Original</td>\n",
       "      <td>0</td>\n",
       "    </tr>\n",
       "    <tr>\n",
       "      <th>1</th>\n",
       "      <td>years_of_educ</td>\n",
       "      <td>0.161283</td>\n",
       "      <td>0.158552</td>\n",
       "      <td>0.164014</td>\n",
       "      <td>Original</td>\n",
       "      <td>0</td>\n",
       "    </tr>\n",
       "    <tr>\n",
       "      <th>2</th>\n",
       "      <td>non_white</td>\n",
       "      <td>-0.015301</td>\n",
       "      <td>-0.032954</td>\n",
       "      <td>0.002352</td>\n",
       "      <td>Original</td>\n",
       "      <td>0</td>\n",
       "    </tr>\n",
       "    <tr>\n",
       "      <th>3</th>\n",
       "      <td>potential_experience</td>\n",
       "      <td>0.153996</td>\n",
       "      <td>0.150215</td>\n",
       "      <td>0.157776</td>\n",
       "      <td>Original</td>\n",
       "      <td>0</td>\n",
       "    </tr>\n",
       "    <tr>\n",
       "      <th>4</th>\n",
       "      <td>potential_experience_2</td>\n",
       "      <td>-0.005422</td>\n",
       "      <td>-0.005623</td>\n",
       "      <td>-0.005221</td>\n",
       "      <td>Original</td>\n",
       "      <td>0</td>\n",
       "    </tr>\n",
       "    <tr>\n",
       "      <th>...</th>\n",
       "      <td>...</td>\n",
       "      <td>...</td>\n",
       "      <td>...</td>\n",
       "      <td>...</td>\n",
       "      <td>...</td>\n",
       "      <td>...</td>\n",
       "    </tr>\n",
       "    <tr>\n",
       "      <th>55</th>\n",
       "      <td>years_of_educ</td>\n",
       "      <td>0.143792</td>\n",
       "      <td>0.141043</td>\n",
       "      <td>0.146541</td>\n",
       "      <td>MOSTLY.AI</td>\n",
       "      <td>9</td>\n",
       "    </tr>\n",
       "    <tr>\n",
       "      <th>56</th>\n",
       "      <td>non_white</td>\n",
       "      <td>-0.040742</td>\n",
       "      <td>-0.058954</td>\n",
       "      <td>-0.022531</td>\n",
       "      <td>MOSTLY.AI</td>\n",
       "      <td>9</td>\n",
       "    </tr>\n",
       "    <tr>\n",
       "      <th>57</th>\n",
       "      <td>potential_experience</td>\n",
       "      <td>0.152949</td>\n",
       "      <td>0.149140</td>\n",
       "      <td>0.156758</td>\n",
       "      <td>MOSTLY.AI</td>\n",
       "      <td>9</td>\n",
       "    </tr>\n",
       "    <tr>\n",
       "      <th>58</th>\n",
       "      <td>potential_experience_2</td>\n",
       "      <td>-0.005257</td>\n",
       "      <td>-0.005454</td>\n",
       "      <td>-0.005060</td>\n",
       "      <td>MOSTLY.AI</td>\n",
       "      <td>9</td>\n",
       "    </tr>\n",
       "    <tr>\n",
       "      <th>59</th>\n",
       "      <td>potential_experience_3</td>\n",
       "      <td>0.000054</td>\n",
       "      <td>0.000051</td>\n",
       "      <td>0.000057</td>\n",
       "      <td>MOSTLY.AI</td>\n",
       "      <td>9</td>\n",
       "    </tr>\n",
       "  </tbody>\n",
       "</table>\n",
       "<p>306 rows × 6 columns</p>\n",
       "</div>"
      ],
      "text/plain": [
       "                 Parameter  Point Estimate  Lower Bound  Upper Bound  \\\n",
       "0                    const        6.185850     6.145626     6.226073   \n",
       "1            years_of_educ        0.161283     0.158552     0.164014   \n",
       "2                non_white       -0.015301    -0.032954     0.002352   \n",
       "3     potential_experience        0.153996     0.150215     0.157776   \n",
       "4   potential_experience_2       -0.005422    -0.005623    -0.005221   \n",
       "..                     ...             ...          ...          ...   \n",
       "55           years_of_educ        0.143792     0.141043     0.146541   \n",
       "56               non_white       -0.040742    -0.058954    -0.022531   \n",
       "57    potential_experience        0.152949     0.149140     0.156758   \n",
       "58  potential_experience_2       -0.005257    -0.005454    -0.005060   \n",
       "59  potential_experience_3        0.000054     0.000051     0.000057   \n",
       "\n",
       "         Type  index  \n",
       "0    Original      0  \n",
       "1    Original      0  \n",
       "2    Original      0  \n",
       "3    Original      0  \n",
       "4    Original      0  \n",
       "..        ...    ...  \n",
       "55  MOSTLY.AI      9  \n",
       "56  MOSTLY.AI      9  \n",
       "57  MOSTLY.AI      9  \n",
       "58  MOSTLY.AI      9  \n",
       "59  MOSTLY.AI      9  \n",
       "\n",
       "[306 rows x 6 columns]"
      ]
     },
     "execution_count": 20,
     "metadata": {},
     "output_type": "execute_result"
    }
   ],
   "source": [
    "female_all_p_and_i_results"
   ]
  },
  {
   "cell_type": "code",
   "execution_count": 21,
   "id": "af8e67b0-f69c-42f6-8760-6ee2fc415353",
   "metadata": {},
   "outputs": [],
   "source": [
    "female_all_l1_results = female_all_l1_results.melt(id_vars=[\"Data Type\", \"Measure\", \"index\"], \n",
    "                                                   value_vars=['Intercept', 'Years of Education', 'Non-white', 'Potential Experience', 'Potential Experience^2', 'Potential Experience^3'], \n",
    "                                                   var_name=\"Variable\")"
   ]
  },
  {
   "cell_type": "code",
   "execution_count": 22,
   "id": "0c27d2f1-99bf-4f34-b7cb-54373eee3d3e",
   "metadata": {},
   "outputs": [
    {
     "data": {
      "text/html": [
       "<div>\n",
       "<style scoped>\n",
       "    .dataframe tbody tr th:only-of-type {\n",
       "        vertical-align: middle;\n",
       "    }\n",
       "\n",
       "    .dataframe tbody tr th {\n",
       "        vertical-align: top;\n",
       "    }\n",
       "\n",
       "    .dataframe thead th {\n",
       "        text-align: right;\n",
       "    }\n",
       "</style>\n",
       "<table border=\"1\" class=\"dataframe\">\n",
       "  <thead>\n",
       "    <tr style=\"text-align: right;\">\n",
       "      <th></th>\n",
       "      <th>Data Type</th>\n",
       "      <th>Measure</th>\n",
       "      <th>index</th>\n",
       "      <th>Variable</th>\n",
       "      <th>value</th>\n",
       "    </tr>\n",
       "  </thead>\n",
       "  <tbody>\n",
       "    <tr>\n",
       "      <th>0</th>\n",
       "      <td>Original</td>\n",
       "      <td>L1 Distance</td>\n",
       "      <td>0</td>\n",
       "      <td>Intercept</td>\n",
       "      <td>0.0</td>\n",
       "    </tr>\n",
       "    <tr>\n",
       "      <th>1</th>\n",
       "      <td>Original</td>\n",
       "      <td>CI Ratio</td>\n",
       "      <td>0</td>\n",
       "      <td>Intercept</td>\n",
       "      <td>1.0</td>\n",
       "    </tr>\n",
       "    <tr>\n",
       "      <th>2</th>\n",
       "      <td>Original</td>\n",
       "      <td>Sign Match</td>\n",
       "      <td>0</td>\n",
       "      <td>Intercept</td>\n",
       "      <td>1.0</td>\n",
       "    </tr>\n",
       "    <tr>\n",
       "      <th>3</th>\n",
       "      <td>Original</td>\n",
       "      <td>Significance Match</td>\n",
       "      <td>0</td>\n",
       "      <td>Intercept</td>\n",
       "      <td>1.0</td>\n",
       "    </tr>\n",
       "    <tr>\n",
       "      <th>4</th>\n",
       "      <td>Original</td>\n",
       "      <td>CI Overlap</td>\n",
       "      <td>0</td>\n",
       "      <td>Intercept</td>\n",
       "      <td>1.0</td>\n",
       "    </tr>\n",
       "    <tr>\n",
       "      <th>...</th>\n",
       "      <td>...</td>\n",
       "      <td>...</td>\n",
       "      <td>...</td>\n",
       "      <td>...</td>\n",
       "      <td>...</td>\n",
       "    </tr>\n",
       "    <tr>\n",
       "      <th>1525</th>\n",
       "      <td>MOSTLY.AI</td>\n",
       "      <td>CI Overlap</td>\n",
       "      <td>5</td>\n",
       "      <td>Potential Experience^3</td>\n",
       "      <td>0.0</td>\n",
       "    </tr>\n",
       "    <tr>\n",
       "      <th>1526</th>\n",
       "      <td>MOSTLY.AI</td>\n",
       "      <td>CI Overlap</td>\n",
       "      <td>6</td>\n",
       "      <td>Potential Experience^3</td>\n",
       "      <td>1.0</td>\n",
       "    </tr>\n",
       "    <tr>\n",
       "      <th>1527</th>\n",
       "      <td>MOSTLY.AI</td>\n",
       "      <td>CI Overlap</td>\n",
       "      <td>7</td>\n",
       "      <td>Potential Experience^3</td>\n",
       "      <td>1.0</td>\n",
       "    </tr>\n",
       "    <tr>\n",
       "      <th>1528</th>\n",
       "      <td>MOSTLY.AI</td>\n",
       "      <td>CI Overlap</td>\n",
       "      <td>8</td>\n",
       "      <td>Potential Experience^3</td>\n",
       "      <td>1.0</td>\n",
       "    </tr>\n",
       "    <tr>\n",
       "      <th>1529</th>\n",
       "      <td>MOSTLY.AI</td>\n",
       "      <td>CI Overlap</td>\n",
       "      <td>9</td>\n",
       "      <td>Potential Experience^3</td>\n",
       "      <td>1.0</td>\n",
       "    </tr>\n",
       "  </tbody>\n",
       "</table>\n",
       "<p>1530 rows × 5 columns</p>\n",
       "</div>"
      ],
      "text/plain": [
       "      Data Type             Measure  index                Variable  value\n",
       "0      Original         L1 Distance      0               Intercept    0.0\n",
       "1      Original            CI Ratio      0               Intercept    1.0\n",
       "2      Original          Sign Match      0               Intercept    1.0\n",
       "3      Original  Significance Match      0               Intercept    1.0\n",
       "4      Original          CI Overlap      0               Intercept    1.0\n",
       "...         ...                 ...    ...                     ...    ...\n",
       "1525  MOSTLY.AI          CI Overlap      5  Potential Experience^3    0.0\n",
       "1526  MOSTLY.AI          CI Overlap      6  Potential Experience^3    1.0\n",
       "1527  MOSTLY.AI          CI Overlap      7  Potential Experience^3    1.0\n",
       "1528  MOSTLY.AI          CI Overlap      8  Potential Experience^3    1.0\n",
       "1529  MOSTLY.AI          CI Overlap      9  Potential Experience^3    1.0\n",
       "\n",
       "[1530 rows x 5 columns]"
      ]
     },
     "execution_count": 22,
     "metadata": {},
     "output_type": "execute_result"
    }
   ],
   "source": [
    "female_all_l1_results"
   ]
  },
  {
   "cell_type": "markdown",
   "id": "84ec2635-94ff-4906-8910-0fefbc3186dc",
   "metadata": {},
   "source": [
    "Save data for analysis and plotting in R."
   ]
  },
  {
   "cell_type": "code",
   "execution_count": 23,
   "id": "86e1b7b2-95bf-4dfd-b5a9-4c80f2f24e16",
   "metadata": {},
   "outputs": [],
   "source": [
    "female_all_l1_results.to_csv('../Results/IPUMS/non_normalized_female_analysis_specific.csv', index=False)"
   ]
  },
  {
   "cell_type": "code",
   "execution_count": 24,
   "id": "7122b768-1954-426e-a18b-f183a6bf83c6",
   "metadata": {},
   "outputs": [],
   "source": [
    "female_all_p_and_i_results.to_csv('../Results/IPUMS/non_normalized_female_point_estimates_and_intervals.csv', index=False)"
   ]
  },
  {
   "cell_type": "markdown",
   "id": "4a14566c-4bb2-49d8-96f1-7ab2291ab1db",
   "metadata": {},
   "source": [
    "***"
   ]
  },
  {
   "cell_type": "markdown",
   "id": "c44a242c-5fec-43c9-83d4-3e321c7b51e2",
   "metadata": {},
   "source": [
    "Results for male regression."
   ]
  },
  {
   "cell_type": "code",
   "execution_count": 25,
   "id": "6a7bb2f4-d3d6-4bed-bc66-e5b91bac85a5",
   "metadata": {},
   "outputs": [],
   "source": [
    "male_all_data = [[train_male], sXs_mnl_male, sXs_cart_male, sXs_mostly_male]"
   ]
  },
  {
   "cell_type": "code",
   "execution_count": 26,
   "id": "9f5b2ffd-25c3-4436-84db-de65831021d6",
   "metadata": {},
   "outputs": [],
   "source": [
    "male_all_l1_results = pd.DataFrame()\n",
    "male_all_p_and_i_results = pd.DataFrame()\n",
    "\n",
    "for i, j in enumerate(male_all_data):\n",
    "    current_l1_results, current_p_and_i_results = coef_L1_calc(original_data=train_male, synthetic_datasets=j, synthetic_data_type=all_data_types[i],\n",
    "                                                               target_variable='log_incwage', \n",
    "                                                               exog_variables=['years_of_educ', 'non_white', 'potential_experience', 'potential_experience_2', 'potential_experience_3'],\n",
    "                                                               param_names=['Intercept', 'Years of Education', 'Non-white', 'Potential Experience', 'Potential Experience^2', 'Potential Experience^3'])\n",
    "\n",
    "    male_all_l1_results = pd.concat([male_all_l1_results, current_l1_results.reset_index()], axis=0)\n",
    "    male_all_p_and_i_results = pd.concat([male_all_p_and_i_results, current_p_and_i_results])"
   ]
  },
  {
   "cell_type": "code",
   "execution_count": 27,
   "id": "92711aa7-180d-4595-8146-bdac87beb75d",
   "metadata": {},
   "outputs": [],
   "source": [
    "male_all_l1_results = male_all_l1_results.melt(id_vars=[\"Data Type\", \"Measure\", \"index\"], \n",
    "                                               value_vars=['Intercept', 'Years of Education', 'Non-white', 'Potential Experience', 'Potential Experience^2', 'Potential Experience^3'], \n",
    "                                               var_name=\"Variable\")"
   ]
  },
  {
   "cell_type": "code",
   "execution_count": 28,
   "id": "27500979-9e78-4f3f-bc00-bd70b0cae2e7",
   "metadata": {},
   "outputs": [],
   "source": [
    "male_all_l1_results.to_csv('../Results/IPUMS/non_normalized_male_analysis_specific.csv', index=False)"
   ]
  },
  {
   "cell_type": "code",
   "execution_count": 29,
   "id": "3d3e4f66-e7ff-4377-9436-f378833ebd0e",
   "metadata": {},
   "outputs": [],
   "source": [
    "male_all_p_and_i_results.to_csv('../Results/IPUMS/non_normalized_male_point_estimates_and_intervals.csv', index=False)"
   ]
  },
  {
   "cell_type": "code",
   "execution_count": null,
   "id": "89830ed2-74b9-4a00-ac5c-4140f5ba3d62",
   "metadata": {},
   "outputs": [],
   "source": []
  }
 ],
 "metadata": {
  "kernelspec": {
   "display_name": "Python 3 (ipykernel)",
   "language": "python",
   "name": "python3"
  },
  "language_info": {
   "codemirror_mode": {
    "name": "ipython",
    "version": 3
   },
   "file_extension": ".py",
   "mimetype": "text/x-python",
   "name": "python",
   "nbconvert_exporter": "python",
   "pygments_lexer": "ipython3",
   "version": "3.11.7"
  }
 },
 "nbformat": 4,
 "nbformat_minor": 5
}
