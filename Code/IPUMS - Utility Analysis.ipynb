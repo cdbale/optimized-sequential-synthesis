{
 "cells": [
  {
   "cell_type": "markdown",
   "id": "92ef4313",
   "metadata": {},
   "source": [
    "# Analysis of Utility of IPUMS data."
   ]
  },
  {
   "cell_type": "code",
   "execution_count": 31,
   "id": "26aa0526",
   "metadata": {},
   "outputs": [],
   "source": [
    "import itertools\n",
    "\n",
    "import matplotlib.pyplot as plt\n",
    "\n",
    "from scipy.spatial import KDTree\n",
    "\n",
    "from statsmodels.discrete.discrete_model import Logit\n",
    "from statsmodels.regression.linear_model import OLS\n",
    "from statsmodels.tools.tools import add_constant\n",
    "\n",
    "from helper_functions import *"
   ]
  },
  {
   "cell_type": "code",
   "execution_count": 32,
   "id": "22c86828",
   "metadata": {},
   "outputs": [],
   "source": [
    "train_data = pd.read_csv(\"../Data/IPUMS/cleaned_ipums_data.csv\")"
   ]
  },
  {
   "cell_type": "code",
   "execution_count": 33,
   "id": "67318106",
   "metadata": {},
   "outputs": [],
   "source": [
    "# sXs_mnl = [pd.read_csv(\"../Data/IPUMS/Synthetic Datasets/gmm_and_mnl_\" + str(i) + \".csv\") for i in range(20)]\n",
    "# ad_sXs_mnl = [pd.read_csv(\"../Data/SK/Synthetic Datasets/ad_gmm_and_mnl_\" + str(i) + \".csv\") for i in range(20)]\n",
    "\n",
    "sXs_cart = [pd.read_csv(\"../Data/IPUMS/Synthetic Datasets/gmm_and_cart_\" + str(i) + \".csv\") for i in range(20)]\n",
    "# ad_sXs_cart = [pd.read_csv(\"../Data/SK/Synthetic Datasets/ad_gmm_and_cart_\" + str(i) + \".csv\") for i in range(20)]\n",
    "\n",
    "sXs_synthpop = [pd.read_csv(\"../Data/IPUMS/Synthetic Datasets/synthpop_baseline_\" + str(i) + \".csv\") for i in range(20)]\n",
    "\n",
    "# sXs_mostly = [pd.read_csv(\"../Data/IPUMS/Synthetic Datasets/mostly_\" + str(i) + \".csv\") for i in range(20)]"
   ]
  },
  {
   "cell_type": "code",
   "execution_count": 34,
   "id": "8f771499-5a54-48e6-8e53-db25e05b629e",
   "metadata": {},
   "outputs": [],
   "source": [
    "for Z in sXs_cart:\n",
    "    Z.loc[:, ['years_of_educ', 'potential_experience']] = np.round(Z.loc[:, ['years_of_educ', 'potential_experience']], 0)"
   ]
  },
  {
   "cell_type": "markdown",
   "id": "fc2d5fa2-433a-4889-9b7b-303296ab29f7",
   "metadata": {},
   "source": [
    "***"
   ]
  },
  {
   "cell_type": "markdown",
   "id": "33d10630",
   "metadata": {},
   "source": [
    "## Utility Measure 1 - pMSE Ratios"
   ]
  },
  {
   "cell_type": "code",
   "execution_count": 6,
   "id": "d324b793",
   "metadata": {},
   "outputs": [
    {
     "name": "stderr",
     "output_type": "stream",
     "text": [
      "C:\\ProgramData\\anaconda3\\Lib\\site-packages\\sklearn\\linear_model\\_logistic.py:458: ConvergenceWarning: lbfgs failed to converge (status=1):\n",
      "STOP: TOTAL NO. of ITERATIONS REACHED LIMIT.\n",
      "\n",
      "Increase the number of iterations (max_iter) or scale the data as shown in:\n",
      "    https://scikit-learn.org/stable/modules/preprocessing.html\n",
      "Please also refer to the documentation for alternative solver options:\n",
      "    https://scikit-learn.org/stable/modules/linear_model.html#logistic-regression\n",
      "  n_iter_i = _check_optimize_result(\n",
      "C:\\ProgramData\\anaconda3\\Lib\\site-packages\\sklearn\\linear_model\\_logistic.py:458: ConvergenceWarning: lbfgs failed to converge (status=1):\n",
      "STOP: TOTAL NO. of ITERATIONS REACHED LIMIT.\n",
      "\n",
      "Increase the number of iterations (max_iter) or scale the data as shown in:\n",
      "    https://scikit-learn.org/stable/modules/preprocessing.html\n",
      "Please also refer to the documentation for alternative solver options:\n",
      "    https://scikit-learn.org/stable/modules/linear_model.html#logistic-regression\n",
      "  n_iter_i = _check_optimize_result(\n"
     ]
    },
    {
     "name": "stdout",
     "output_type": "stream",
     "text": [
      "3.450989932168427\n",
      "12.835308108166966\n"
     ]
    }
   ],
   "source": [
    "# ratios_mnl = [pmse_ratio(train_data, Y) for Y in sXs_mnl]\n",
    "# print(np.mean(ratios_mnl))\n",
    "\n",
    "# ratios_ad_mnl = [pmse_ratio(train_data, Y) for Y in ad_sXs_mnl]\n",
    "# print(np.mean(ratios_ad_mnl))\n",
    "\n",
    "ratios_cart = [pmse_ratio(train_data, Y) for Y in sXs_cart]\n",
    "print(np.mean(ratios_cart))\n",
    "\n",
    "# ratios_ad_cart = [pmse_ratio(train_data, Y) for Y in ad_sXs_cart]\n",
    "# print(np.mean(ratios_ad_cart))\n",
    "\n",
    "ratios_synthpop = [pmse_ratio(train_data, Y) for Y in sXs_synthpop]\n",
    "print(np.mean(ratios_synthpop))\n",
    "\n",
    "# ratios_mostly = [pmse_ratio(train_data, Y) for Y in sXs_mostly]\n",
    "# np.mean(ratios_mostly)"
   ]
  },
  {
   "cell_type": "markdown",
   "id": "9297e105",
   "metadata": {},
   "source": [
    "***"
   ]
  },
  {
   "cell_type": "markdown",
   "id": "497cddaf-caae-4abd-b4fe-4b4f004bc6bb",
   "metadata": {},
   "source": [
    "Save data for plotting in R."
   ]
  },
  {
   "cell_type": "code",
   "execution_count": 5,
   "id": "b6382f53-b2d8-4fac-8cad-e8cf06561b70",
   "metadata": {},
   "outputs": [],
   "source": [
    "# pmse_results = pd.DataFrame({'Dataset': np.arange(1, len(ratios_mnl)+1),\n",
    "#                              'MNL': ratios_mnl,\n",
    "#                              # 'AD-MNL': ratios_ad_mnl,\n",
    "#                              'CART': ratios_cart,\n",
    "#                              # 'AD-CART': ratios_ad_cart,\n",
    "#                              'MOSTLY.AI': ratios_mostly})\n",
    "\n",
    "# pmse_results = pmse_results.melt(id_vars=[\"Dataset\"], value_vars=[\"MNL\", \"CART\", \"MOSTLY.AI\"], var_name=\"Type\")\n",
    "# pmse_results.to_csv('../Results/IPUMS/pmse_metrics.csv', index=False)"
   ]
  },
  {
   "cell_type": "code",
   "execution_count": 6,
   "id": "f4410ef6",
   "metadata": {},
   "outputs": [],
   "source": [
    "# # Combine data\n",
    "# # plot_data = list([ratios_mnl, ratios_ad_mnl, ratios_cart, ratios_ad_cart, ratios_mostly])\n",
    "\n",
    "# plot_data = list([ratios_mnl, ratios_cart, ratios_mostly])\n",
    "\n",
    "# fig, ax = plt.subplots(figsize=(10,10))\n",
    "\n",
    "# # xticklabels = [\"MNL\", \"AD-MNL\", \"CART\", \"AD-CART\", \"MOSTLY.AI\"]\n",
    "# xticklabels = [\"MNL\", \"CART\", \"MOSTLY.AI\"]\n",
    "# # ax.set_xticks([1, 2, 3, 4, 5])\n",
    "# ax.set_xticks([1, 2, 3])\n",
    "# ax.set_xticklabels(xticklabels)\n",
    "\n",
    "# ax.violinplot(plot_data, showmeans=True)\n",
    "\n",
    "# plt.title(\"Distributions of Logistic Regression Based pMSE Ratios\")\n",
    "\n",
    "# plt.show()"
   ]
  },
  {
   "cell_type": "markdown",
   "id": "b52c50b1",
   "metadata": {},
   "source": [
    "***"
   ]
  },
  {
   "cell_type": "markdown",
   "id": "75d9086b-b883-4fdc-ba26-403755f5aabf",
   "metadata": {},
   "source": [
    "# Utility Metric: Analysis Specific Utility\n",
    "\n",
    "###  * L1 distance between confidential and synthetic coefficient estimates\n",
    "###  * Confidence interval ratio\n",
    "###  * Sign, Significance, and Overlap (SSO)"
   ]
  },
  {
   "cell_type": "markdown",
   "id": "8fc8cc51",
   "metadata": {},
   "source": [
    "Analysis specific utility."
   ]
  },
  {
   "cell_type": "markdown",
   "id": "ce22d525",
   "metadata": {},
   "source": [
    "Use logistic regression to predict COVID-19 deaths based on latitude and longitude, age, and sex."
   ]
  },
  {
   "cell_type": "markdown",
   "id": "0cd581f3",
   "metadata": {},
   "source": [
    "Compute the model for the original data."
   ]
  },
  {
   "cell_type": "markdown",
   "id": "e3bfb510-181d-4712-8a39-13c851e436dc",
   "metadata": {},
   "source": [
    "***"
   ]
  },
  {
   "cell_type": "markdown",
   "id": "97c7a79e-401e-44d0-a8e5-dd1952619e9a",
   "metadata": {},
   "source": [
    "Annual earnings as a function of years_of_educ, non_white, and potential experience (up to third degree polynomial)."
   ]
  },
  {
   "cell_type": "markdown",
   "id": "a49c141e-2a46-468f-a041-1efeb8bf75ad",
   "metadata": {},
   "source": [
    "Do the above regression for males and females separately."
   ]
  },
  {
   "cell_type": "markdown",
   "id": "6d6697ea-903c-443a-8f9e-bedafac304ea",
   "metadata": {},
   "source": [
    "This notebook uses the normalized data."
   ]
  },
  {
   "cell_type": "code",
   "execution_count": 5,
   "id": "ee55bb97-d141-49a5-9259-8d8d46d91e0f",
   "metadata": {},
   "outputs": [
    {
     "data": {
      "text/html": [
       "<div>\n",
       "<style scoped>\n",
       "    .dataframe tbody tr th:only-of-type {\n",
       "        vertical-align: middle;\n",
       "    }\n",
       "\n",
       "    .dataframe tbody tr th {\n",
       "        vertical-align: top;\n",
       "    }\n",
       "\n",
       "    .dataframe thead th {\n",
       "        text-align: right;\n",
       "    }\n",
       "</style>\n",
       "<table border=\"1\" class=\"dataframe\">\n",
       "  <thead>\n",
       "    <tr style=\"text-align: right;\">\n",
       "      <th></th>\n",
       "      <th>incwage</th>\n",
       "      <th>years_of_educ</th>\n",
       "      <th>potential_experience</th>\n",
       "      <th>non_white</th>\n",
       "      <th>sex</th>\n",
       "    </tr>\n",
       "  </thead>\n",
       "  <tbody>\n",
       "    <tr>\n",
       "      <th>0</th>\n",
       "      <td>9.305651</td>\n",
       "      <td>16.000000</td>\n",
       "      <td>18.000000</td>\n",
       "      <td>0</td>\n",
       "      <td>1</td>\n",
       "    </tr>\n",
       "    <tr>\n",
       "      <th>1</th>\n",
       "      <td>10.545341</td>\n",
       "      <td>15.000000</td>\n",
       "      <td>23.000000</td>\n",
       "      <td>0</td>\n",
       "      <td>0</td>\n",
       "    </tr>\n",
       "    <tr>\n",
       "      <th>2</th>\n",
       "      <td>8.853665</td>\n",
       "      <td>13.000000</td>\n",
       "      <td>2.000000</td>\n",
       "      <td>0</td>\n",
       "      <td>0</td>\n",
       "    </tr>\n",
       "    <tr>\n",
       "      <th>3</th>\n",
       "      <td>7.863267</td>\n",
       "      <td>11.000000</td>\n",
       "      <td>0.000000</td>\n",
       "      <td>0</td>\n",
       "      <td>0</td>\n",
       "    </tr>\n",
       "    <tr>\n",
       "      <th>4</th>\n",
       "      <td>9.942708</td>\n",
       "      <td>12.000000</td>\n",
       "      <td>33.000000</td>\n",
       "      <td>1</td>\n",
       "      <td>0</td>\n",
       "    </tr>\n",
       "    <tr>\n",
       "      <th>...</th>\n",
       "      <td>...</td>\n",
       "      <td>...</td>\n",
       "      <td>...</td>\n",
       "      <td>...</td>\n",
       "      <td>...</td>\n",
       "    </tr>\n",
       "    <tr>\n",
       "      <th>197751</th>\n",
       "      <td>10.021271</td>\n",
       "      <td>16.000000</td>\n",
       "      <td>13.000000</td>\n",
       "      <td>0</td>\n",
       "      <td>0</td>\n",
       "    </tr>\n",
       "    <tr>\n",
       "      <th>197752</th>\n",
       "      <td>8.411833</td>\n",
       "      <td>16.000000</td>\n",
       "      <td>11.000000</td>\n",
       "      <td>0</td>\n",
       "      <td>1</td>\n",
       "    </tr>\n",
       "    <tr>\n",
       "      <th>197753</th>\n",
       "      <td>10.518673</td>\n",
       "      <td>17.737673</td>\n",
       "      <td>19.262327</td>\n",
       "      <td>0</td>\n",
       "      <td>0</td>\n",
       "    </tr>\n",
       "    <tr>\n",
       "      <th>197754</th>\n",
       "      <td>7.313220</td>\n",
       "      <td>15.000000</td>\n",
       "      <td>13.000000</td>\n",
       "      <td>0</td>\n",
       "      <td>1</td>\n",
       "    </tr>\n",
       "    <tr>\n",
       "      <th>197755</th>\n",
       "      <td>10.716638</td>\n",
       "      <td>16.000000</td>\n",
       "      <td>32.000000</td>\n",
       "      <td>0</td>\n",
       "      <td>0</td>\n",
       "    </tr>\n",
       "  </tbody>\n",
       "</table>\n",
       "<p>197756 rows × 5 columns</p>\n",
       "</div>"
      ],
      "text/plain": [
       "          incwage  years_of_educ  potential_experience  non_white  sex\n",
       "0        9.305651      16.000000             18.000000          0    1\n",
       "1       10.545341      15.000000             23.000000          0    0\n",
       "2        8.853665      13.000000              2.000000          0    0\n",
       "3        7.863267      11.000000              0.000000          0    0\n",
       "4        9.942708      12.000000             33.000000          1    0\n",
       "...           ...            ...                   ...        ...  ...\n",
       "197751  10.021271      16.000000             13.000000          0    0\n",
       "197752   8.411833      16.000000             11.000000          0    1\n",
       "197753  10.518673      17.737673             19.262327          0    0\n",
       "197754   7.313220      15.000000             13.000000          0    1\n",
       "197755  10.716638      16.000000             32.000000          0    0\n",
       "\n",
       "[197756 rows x 5 columns]"
      ]
     },
     "execution_count": 5,
     "metadata": {},
     "output_type": "execute_result"
    }
   ],
   "source": [
    "train_data"
   ]
  },
  {
   "cell_type": "markdown",
   "id": "ee7c0249-4bb4-496c-a24b-1a5213b3a2f5",
   "metadata": {},
   "source": [
    "Compute the variables for the polynomials of `potential_experience` and the target log of `incwage`."
   ]
  },
  {
   "cell_type": "code",
   "execution_count": 35,
   "id": "ed826f95-d198-4ef8-8410-b6d6e0a1f25b",
   "metadata": {},
   "outputs": [],
   "source": [
    "def new_vars(data_sets):\n",
    "    for Z in data_sets:\n",
    "        Z.loc[:,'potential_experience_2'] = Z.potential_experience**2\n",
    "        Z.loc[:,'potential_experience_3'] = Z.potential_experience**3"
   ]
  },
  {
   "cell_type": "code",
   "execution_count": 36,
   "id": "6accc756-b4d1-404d-9631-eddaada13688",
   "metadata": {},
   "outputs": [],
   "source": [
    "new_vars([train_data])"
   ]
  },
  {
   "cell_type": "code",
   "execution_count": 37,
   "id": "524e4a80-67cd-4aa2-9125-5a55268ca9be",
   "metadata": {},
   "outputs": [],
   "source": [
    "# new_vars(sXs_mnl)\n",
    "new_vars(sXs_cart)\n",
    "new_vars(sXs_synthpop)\n",
    "# new_vars(sXs_mostly)"
   ]
  },
  {
   "cell_type": "code",
   "execution_count": 38,
   "id": "ee1628b1-392f-4aff-a0c4-f66300205f86",
   "metadata": {},
   "outputs": [
    {
     "data": {
      "text/html": [
       "<div>\n",
       "<style scoped>\n",
       "    .dataframe tbody tr th:only-of-type {\n",
       "        vertical-align: middle;\n",
       "    }\n",
       "\n",
       "    .dataframe tbody tr th {\n",
       "        vertical-align: top;\n",
       "    }\n",
       "\n",
       "    .dataframe thead th {\n",
       "        text-align: right;\n",
       "    }\n",
       "</style>\n",
       "<table border=\"1\" class=\"dataframe\">\n",
       "  <thead>\n",
       "    <tr style=\"text-align: right;\">\n",
       "      <th></th>\n",
       "      <th>incwage</th>\n",
       "      <th>years_of_educ</th>\n",
       "      <th>potential_experience</th>\n",
       "      <th>non_white</th>\n",
       "      <th>sex</th>\n",
       "      <th>potential_experience_2</th>\n",
       "      <th>potential_experience_3</th>\n",
       "    </tr>\n",
       "  </thead>\n",
       "  <tbody>\n",
       "    <tr>\n",
       "      <th>0</th>\n",
       "      <td>8.107765</td>\n",
       "      <td>16.0</td>\n",
       "      <td>10.0</td>\n",
       "      <td>0</td>\n",
       "      <td>1</td>\n",
       "      <td>100.0</td>\n",
       "      <td>1000.0</td>\n",
       "    </tr>\n",
       "    <tr>\n",
       "      <th>1</th>\n",
       "      <td>10.222524</td>\n",
       "      <td>12.0</td>\n",
       "      <td>22.0</td>\n",
       "      <td>0</td>\n",
       "      <td>1</td>\n",
       "      <td>484.0</td>\n",
       "      <td>10648.0</td>\n",
       "    </tr>\n",
       "    <tr>\n",
       "      <th>2</th>\n",
       "      <td>10.716120</td>\n",
       "      <td>12.0</td>\n",
       "      <td>22.0</td>\n",
       "      <td>0</td>\n",
       "      <td>1</td>\n",
       "      <td>484.0</td>\n",
       "      <td>10648.0</td>\n",
       "    </tr>\n",
       "    <tr>\n",
       "      <th>3</th>\n",
       "      <td>10.184572</td>\n",
       "      <td>12.0</td>\n",
       "      <td>25.0</td>\n",
       "      <td>0</td>\n",
       "      <td>1</td>\n",
       "      <td>625.0</td>\n",
       "      <td>15625.0</td>\n",
       "    </tr>\n",
       "    <tr>\n",
       "      <th>4</th>\n",
       "      <td>9.984165</td>\n",
       "      <td>12.0</td>\n",
       "      <td>23.0</td>\n",
       "      <td>1</td>\n",
       "      <td>1</td>\n",
       "      <td>529.0</td>\n",
       "      <td>12167.0</td>\n",
       "    </tr>\n",
       "    <tr>\n",
       "      <th>...</th>\n",
       "      <td>...</td>\n",
       "      <td>...</td>\n",
       "      <td>...</td>\n",
       "      <td>...</td>\n",
       "      <td>...</td>\n",
       "      <td>...</td>\n",
       "      <td>...</td>\n",
       "    </tr>\n",
       "    <tr>\n",
       "      <th>197751</th>\n",
       "      <td>7.541675</td>\n",
       "      <td>13.0</td>\n",
       "      <td>1.0</td>\n",
       "      <td>0</td>\n",
       "      <td>0</td>\n",
       "      <td>1.0</td>\n",
       "      <td>1.0</td>\n",
       "    </tr>\n",
       "    <tr>\n",
       "      <th>197752</th>\n",
       "      <td>6.881117</td>\n",
       "      <td>13.0</td>\n",
       "      <td>1.0</td>\n",
       "      <td>0</td>\n",
       "      <td>0</td>\n",
       "      <td>1.0</td>\n",
       "      <td>1.0</td>\n",
       "    </tr>\n",
       "    <tr>\n",
       "      <th>197753</th>\n",
       "      <td>8.230138</td>\n",
       "      <td>13.0</td>\n",
       "      <td>0.0</td>\n",
       "      <td>1</td>\n",
       "      <td>1</td>\n",
       "      <td>0.0</td>\n",
       "      <td>0.0</td>\n",
       "    </tr>\n",
       "    <tr>\n",
       "      <th>197754</th>\n",
       "      <td>7.784580</td>\n",
       "      <td>13.0</td>\n",
       "      <td>-1.0</td>\n",
       "      <td>0</td>\n",
       "      <td>0</td>\n",
       "      <td>1.0</td>\n",
       "      <td>-1.0</td>\n",
       "    </tr>\n",
       "    <tr>\n",
       "      <th>197755</th>\n",
       "      <td>8.819952</td>\n",
       "      <td>13.0</td>\n",
       "      <td>0.0</td>\n",
       "      <td>0</td>\n",
       "      <td>0</td>\n",
       "      <td>0.0</td>\n",
       "      <td>0.0</td>\n",
       "    </tr>\n",
       "  </tbody>\n",
       "</table>\n",
       "<p>197756 rows × 7 columns</p>\n",
       "</div>"
      ],
      "text/plain": [
       "          incwage  years_of_educ  potential_experience  non_white  sex  \\\n",
       "0        8.107765           16.0                  10.0          0    1   \n",
       "1       10.222524           12.0                  22.0          0    1   \n",
       "2       10.716120           12.0                  22.0          0    1   \n",
       "3       10.184572           12.0                  25.0          0    1   \n",
       "4        9.984165           12.0                  23.0          1    1   \n",
       "...           ...            ...                   ...        ...  ...   \n",
       "197751   7.541675           13.0                   1.0          0    0   \n",
       "197752   6.881117           13.0                   1.0          0    0   \n",
       "197753   8.230138           13.0                   0.0          1    1   \n",
       "197754   7.784580           13.0                  -1.0          0    0   \n",
       "197755   8.819952           13.0                   0.0          0    0   \n",
       "\n",
       "        potential_experience_2  potential_experience_3  \n",
       "0                        100.0                  1000.0  \n",
       "1                        484.0                 10648.0  \n",
       "2                        484.0                 10648.0  \n",
       "3                        625.0                 15625.0  \n",
       "4                        529.0                 12167.0  \n",
       "...                        ...                     ...  \n",
       "197751                     1.0                     1.0  \n",
       "197752                     1.0                     1.0  \n",
       "197753                     0.0                     0.0  \n",
       "197754                     1.0                    -1.0  \n",
       "197755                     0.0                     0.0  \n",
       "\n",
       "[197756 rows x 7 columns]"
      ]
     },
     "execution_count": 38,
     "metadata": {},
     "output_type": "execute_result"
    }
   ],
   "source": [
    "sXs_cart[0]"
   ]
  },
  {
   "cell_type": "code",
   "execution_count": 39,
   "id": "4b6e5397-84f4-4b4f-808a-21afa5307fa9",
   "metadata": {},
   "outputs": [
    {
     "data": {
      "text/html": [
       "<div>\n",
       "<style scoped>\n",
       "    .dataframe tbody tr th:only-of-type {\n",
       "        vertical-align: middle;\n",
       "    }\n",
       "\n",
       "    .dataframe tbody tr th {\n",
       "        vertical-align: top;\n",
       "    }\n",
       "\n",
       "    .dataframe thead th {\n",
       "        text-align: right;\n",
       "    }\n",
       "</style>\n",
       "<table border=\"1\" class=\"dataframe\">\n",
       "  <thead>\n",
       "    <tr style=\"text-align: right;\">\n",
       "      <th></th>\n",
       "      <th>incwage</th>\n",
       "      <th>years_of_educ</th>\n",
       "      <th>potential_experience</th>\n",
       "      <th>non_white</th>\n",
       "      <th>sex</th>\n",
       "      <th>potential_experience_2</th>\n",
       "      <th>potential_experience_3</th>\n",
       "    </tr>\n",
       "  </thead>\n",
       "  <tbody>\n",
       "    <tr>\n",
       "      <th>0</th>\n",
       "      <td>9.453847</td>\n",
       "      <td>12.000000</td>\n",
       "      <td>40.672652</td>\n",
       "      <td>0</td>\n",
       "      <td>1</td>\n",
       "      <td>1654.264623</td>\n",
       "      <td>67283.329389</td>\n",
       "    </tr>\n",
       "    <tr>\n",
       "      <th>1</th>\n",
       "      <td>10.076742</td>\n",
       "      <td>17.737673</td>\n",
       "      <td>17.168399</td>\n",
       "      <td>0</td>\n",
       "      <td>1</td>\n",
       "      <td>294.753923</td>\n",
       "      <td>5060.452934</td>\n",
       "    </tr>\n",
       "    <tr>\n",
       "      <th>2</th>\n",
       "      <td>8.286565</td>\n",
       "      <td>12.000000</td>\n",
       "      <td>29.646077</td>\n",
       "      <td>0</td>\n",
       "      <td>1</td>\n",
       "      <td>878.889855</td>\n",
       "      <td>26055.635932</td>\n",
       "    </tr>\n",
       "    <tr>\n",
       "      <th>3</th>\n",
       "      <td>10.767800</td>\n",
       "      <td>12.000000</td>\n",
       "      <td>39.715790</td>\n",
       "      <td>0</td>\n",
       "      <td>0</td>\n",
       "      <td>1577.343990</td>\n",
       "      <td>62645.462929</td>\n",
       "    </tr>\n",
       "    <tr>\n",
       "      <th>4</th>\n",
       "      <td>8.893577</td>\n",
       "      <td>13.000000</td>\n",
       "      <td>3.555818</td>\n",
       "      <td>0</td>\n",
       "      <td>1</td>\n",
       "      <td>12.643844</td>\n",
       "      <td>44.959210</td>\n",
       "    </tr>\n",
       "    <tr>\n",
       "      <th>...</th>\n",
       "      <td>...</td>\n",
       "      <td>...</td>\n",
       "      <td>...</td>\n",
       "      <td>...</td>\n",
       "      <td>...</td>\n",
       "      <td>...</td>\n",
       "      <td>...</td>\n",
       "    </tr>\n",
       "    <tr>\n",
       "      <th>197751</th>\n",
       "      <td>9.897455</td>\n",
       "      <td>13.000000</td>\n",
       "      <td>27.039717</td>\n",
       "      <td>0</td>\n",
       "      <td>0</td>\n",
       "      <td>731.146300</td>\n",
       "      <td>19769.989092</td>\n",
       "    </tr>\n",
       "    <tr>\n",
       "      <th>197752</th>\n",
       "      <td>10.603121</td>\n",
       "      <td>13.000000</td>\n",
       "      <td>19.062262</td>\n",
       "      <td>0</td>\n",
       "      <td>1</td>\n",
       "      <td>363.369850</td>\n",
       "      <td>6926.651448</td>\n",
       "    </tr>\n",
       "    <tr>\n",
       "      <th>197753</th>\n",
       "      <td>10.720678</td>\n",
       "      <td>13.000000</td>\n",
       "      <td>39.366798</td>\n",
       "      <td>0</td>\n",
       "      <td>0</td>\n",
       "      <td>1549.744789</td>\n",
       "      <td>61008.490128</td>\n",
       "    </tr>\n",
       "    <tr>\n",
       "      <th>197754</th>\n",
       "      <td>9.015355</td>\n",
       "      <td>13.000000</td>\n",
       "      <td>22.091192</td>\n",
       "      <td>0</td>\n",
       "      <td>1</td>\n",
       "      <td>488.020785</td>\n",
       "      <td>10780.961105</td>\n",
       "    </tr>\n",
       "    <tr>\n",
       "      <th>197755</th>\n",
       "      <td>10.314311</td>\n",
       "      <td>12.000000</td>\n",
       "      <td>17.126750</td>\n",
       "      <td>0</td>\n",
       "      <td>0</td>\n",
       "      <td>293.325551</td>\n",
       "      <td>5023.713258</td>\n",
       "    </tr>\n",
       "  </tbody>\n",
       "</table>\n",
       "<p>197756 rows × 7 columns</p>\n",
       "</div>"
      ],
      "text/plain": [
       "          incwage  years_of_educ  potential_experience  non_white  sex  \\\n",
       "0        9.453847      12.000000             40.672652          0    1   \n",
       "1       10.076742      17.737673             17.168399          0    1   \n",
       "2        8.286565      12.000000             29.646077          0    1   \n",
       "3       10.767800      12.000000             39.715790          0    0   \n",
       "4        8.893577      13.000000              3.555818          0    1   \n",
       "...           ...            ...                   ...        ...  ...   \n",
       "197751   9.897455      13.000000             27.039717          0    0   \n",
       "197752  10.603121      13.000000             19.062262          0    1   \n",
       "197753  10.720678      13.000000             39.366798          0    0   \n",
       "197754   9.015355      13.000000             22.091192          0    1   \n",
       "197755  10.314311      12.000000             17.126750          0    0   \n",
       "\n",
       "        potential_experience_2  potential_experience_3  \n",
       "0                  1654.264623            67283.329389  \n",
       "1                   294.753923             5060.452934  \n",
       "2                   878.889855            26055.635932  \n",
       "3                  1577.343990            62645.462929  \n",
       "4                    12.643844               44.959210  \n",
       "...                        ...                     ...  \n",
       "197751              731.146300            19769.989092  \n",
       "197752              363.369850             6926.651448  \n",
       "197753             1549.744789            61008.490128  \n",
       "197754              488.020785            10780.961105  \n",
       "197755              293.325551             5023.713258  \n",
       "\n",
       "[197756 rows x 7 columns]"
      ]
     },
     "execution_count": 39,
     "metadata": {},
     "output_type": "execute_result"
    }
   ],
   "source": [
    "sXs_synthpop[0]"
   ]
  },
  {
   "cell_type": "markdown",
   "id": "f7a78418-af12-4199-89e2-7732ee4fdb6e",
   "metadata": {},
   "source": [
    "Split into female/male synthetic data sets."
   ]
  },
  {
   "cell_type": "code",
   "execution_count": 40,
   "id": "ce50e091-3c0a-46b7-868b-a1deac2ce823",
   "metadata": {},
   "outputs": [],
   "source": [
    "# sXs_mnl_female = [Z.loc[Z.sex == 1,:] for Z in sXs_mnl]\n",
    "# sXs_mnl_male = [Z.loc[Z.sex == 0,:] for Z in sXs_mnl]"
   ]
  },
  {
   "cell_type": "code",
   "execution_count": 41,
   "id": "18ca8856-e6d3-4c86-98ba-eef20e577f56",
   "metadata": {},
   "outputs": [],
   "source": [
    "sXs_cart_female = [Z.loc[Z.sex == 1,:] for Z in sXs_cart]\n",
    "sXs_cart_male = [Z.loc[Z.sex == 0,:] for Z in sXs_cart]"
   ]
  },
  {
   "cell_type": "code",
   "execution_count": 42,
   "id": "43ac2727-ad34-446d-85df-0d586fb02622",
   "metadata": {},
   "outputs": [],
   "source": [
    "sXs_synthpop_female = [Z.loc[Z.sex == 1,:] for Z in sXs_synthpop]\n",
    "sXs_synthpop_male = [Z.loc[Z.sex == 0,:] for Z in sXs_synthpop]"
   ]
  },
  {
   "cell_type": "code",
   "execution_count": 43,
   "id": "981cca7d-3920-44e0-8a09-0a8ba39b7d04",
   "metadata": {},
   "outputs": [],
   "source": [
    "# sXs_mostly_female = [Z.loc[Z.sex == 1,:] for Z in sXs_mostly]\n",
    "# sXs_mostly_male = [Z.loc[Z.sex == 0,:] for Z in sXs_mostly]"
   ]
  },
  {
   "cell_type": "code",
   "execution_count": 44,
   "id": "2d0aa042-5f54-4a8f-a454-72ed55d3e4ed",
   "metadata": {},
   "outputs": [],
   "source": [
    "train_female = train_data.loc[train_data.sex == 1,:]\n",
    "train_male = train_data.loc[train_data.sex == 0,:]"
   ]
  },
  {
   "cell_type": "code",
   "execution_count": 45,
   "id": "b9612d29-d0d1-474c-8ce1-a2af9cf790d4",
   "metadata": {},
   "outputs": [],
   "source": [
    "ols_train_female = ols_param_fetcher(data=train_female, y='incwage', X=['years_of_educ', 'non_white', 'potential_experience', 'potential_experience_2', 'potential_experience_3'])"
   ]
  },
  {
   "cell_type": "code",
   "execution_count": 46,
   "id": "6aa32694-3936-475e-b420-581f1ad5c8a9",
   "metadata": {},
   "outputs": [],
   "source": [
    "ols_train_male = ols_param_fetcher(data=train_male, y='incwage', X=['years_of_educ', 'non_white', 'potential_experience', 'potential_experience_2', 'potential_experience_3'])"
   ]
  },
  {
   "cell_type": "code",
   "execution_count": 47,
   "id": "34fe15f8-3697-40a7-9c89-f5807d4de2c6",
   "metadata": {},
   "outputs": [
    {
     "data": {
      "text/plain": [
       "{'params': const                     6.185850\n",
       " years_of_educ             0.161283\n",
       " non_white                -0.015301\n",
       " potential_experience      0.153996\n",
       " potential_experience_2   -0.005422\n",
       " potential_experience_3    0.000058\n",
       " dtype: float64,\n",
       " 'l_var': array([4.21162561e-04, 1.94141687e-06, 8.11209507e-05, 3.71984637e-06,\n",
       "        1.05403807e-08, 2.28290018e-12]),\n",
       " 'CI':           0         1\n",
       " 0  6.145626  6.226073\n",
       " 1  0.158552  0.164014\n",
       " 2 -0.032954  0.002352\n",
       " 3  0.150215  0.157776\n",
       " 4 -0.005623 -0.005221\n",
       " 5  0.000055  0.000061}"
      ]
     },
     "execution_count": 47,
     "metadata": {},
     "output_type": "execute_result"
    }
   ],
   "source": [
    "ols_train_female"
   ]
  },
  {
   "cell_type": "code",
   "execution_count": 48,
   "id": "5183e1b6-1b02-4bcf-b50a-1159c587c734",
   "metadata": {},
   "outputs": [
    {
     "data": {
      "text/plain": [
       "{'params': const                     6.608703\n",
       " years_of_educ             0.136343\n",
       " non_white                -0.195098\n",
       " potential_experience      0.218667\n",
       " potential_experience_2   -0.007680\n",
       " potential_experience_3    0.000082\n",
       " dtype: float64,\n",
       " 'l_var': array([2.28497237e-04, 9.74753129e-07, 6.11123627e-05, 2.49616254e-06,\n",
       "        6.74568404e-09, 1.42161020e-12]),\n",
       " 'CI':           0         1\n",
       " 0  6.579076  6.638330\n",
       " 1  0.134408  0.138278\n",
       " 2 -0.210420 -0.179776\n",
       " 3  0.215571  0.221764\n",
       " 4 -0.007841 -0.007519\n",
       " 5  0.000080  0.000085}"
      ]
     },
     "execution_count": 48,
     "metadata": {},
     "output_type": "execute_result"
    }
   ],
   "source": [
    "ols_train_male"
   ]
  },
  {
   "cell_type": "code",
   "execution_count": 49,
   "id": "61b4690a-38a4-47c6-b4d6-314089e717ed",
   "metadata": {},
   "outputs": [],
   "source": [
    "def coef_L1_calc(original_data, synthetic_datasets, synthetic_data_type, target_variable, exog_variables, param_names):\n",
    "\n",
    "    # copy synthetic datasets so they don't get edited on a global scope\n",
    "    all_synth = synthetic_datasets.copy()\n",
    "\n",
    "    # train a logistic regression model with state as the target and lat, long, sex, age, and sex*age as predictors\n",
    "    # function returns all parameter estimates, standard errors, and confidence intervals for the training data\n",
    "    ols_train = ols_param_fetcher(data=original_data, y=target_variable, X=exog_variables)\n",
    "\n",
    "    # estimate the same logistic regression model for all synthetic data sets and save params, standard errors, and CIs\n",
    "    ols_synth = [ols_param_fetcher(data=Y, y=target_variable, X=exog_variables) for Y in synthetic_datasets]\n",
    "\n",
    "    # create a dataframe with the L1 distances for each coefficient in the columns, (rows are for each synthetic data set)\n",
    "    # and a column identifying the data type\n",
    "    l1_frame = pd.DataFrame()\n",
    "\n",
    "    # calculate L1 distance\n",
    "    for i in ols_synth:\n",
    "        l1_frame = pd.concat([l1_frame, np.abs(i['params'] - ols_train['params'])], axis=1)\n",
    "\n",
    "    l1_frame = l1_frame.T.reset_index(drop=True)\n",
    "    l1_frame.columns = param_names\n",
    "    l1_frame['Data Type'] = synthetic_data_type\n",
    "    l1_frame['Measure'] = 'L1 Distance'\n",
    "\n",
    "    # calculate CI ratio (width of synthetic / width of original)\n",
    "    # calculate confidence interval ratios\n",
    "    CI_ratio_frame = pd.DataFrame()\n",
    "    for i in ols_synth:\n",
    "        CI_ratio_frame = pd.concat([CI_ratio_frame, (i['CI'].iloc[:,1]-i['CI'].iloc[:,0]) / (ols_train['CI'].iloc[:,1]-ols_train['CI'].iloc[:,0])], axis=1)\n",
    "\n",
    "    CI_ratio_frame = CI_ratio_frame.T.reset_index(drop=True)\n",
    "    CI_ratio_frame.columns = param_names\n",
    "    CI_ratio_frame['Data Type'] = synthetic_data_type\n",
    "    CI_ratio_frame['Measure'] = 'CI Ratio'\n",
    "    \n",
    "    # calculate whether the signs of coefficients match\n",
    "    sign_frame = pd.DataFrame()\n",
    "    for i in ols_synth:\n",
    "        sign_frame = pd.concat([sign_frame, abs(ols_train['params']) + abs(i['params']) == abs(ols_train['params'] + i['params'])], axis=1)\n",
    "\n",
    "    sign_frame = sign_frame.T.reset_index(drop=True)\n",
    "    sign_frame.columns = param_names\n",
    "    sign_frame['Data Type'] = synthetic_data_type\n",
    "    sign_frame['Measure'] = 'Sign Match'\n",
    "    \n",
    "    # check whether the statistical significance of the coefficients matches\n",
    "    sig_frame = pd.DataFrame()\n",
    "    orig_sig = pd.concat([ols_train['CI'].iloc[:,0] <= 0, 0 <= ols_train['CI'].iloc[:,1]], axis=1).all(axis=1)\n",
    "    for i in ols_synth:\n",
    "        sig_frame = pd.concat([sig_frame, pd.concat([i['CI'].iloc[:,0] <= 0, 0 <= i['CI'].iloc[:,1]], axis=1).all(axis=1).eq(orig_sig, axis=0)], axis=1)\n",
    "\n",
    "    sig_frame = sig_frame.T.reset_index(drop=True)\n",
    "    sig_frame.columns = param_names\n",
    "    sig_frame['Data Type'] = synthetic_data_type\n",
    "    sig_frame['Measure'] = 'Significance Match'\n",
    "    \n",
    "    # check whether confidence intervals overlap\n",
    "    overlap_frame = pd.DataFrame()\n",
    "    for synth in ols_synth:\n",
    "        overlaps = []\n",
    "        for i,j in synth['CI'].iterrows():\n",
    "            i1 = pd.Interval(ols_train['CI'].iloc[i,0], ols_train['CI'].iloc[i,1], closed='both')\n",
    "            i2 = pd.Interval(j[0], j[1], closed='both')\n",
    "            overlaps.append(i1.overlaps(i2))\n",
    "        overlap_frame = pd.concat([overlap_frame, pd.Series(overlaps)], axis=1)\n",
    "\n",
    "    overlap_frame = overlap_frame.T.reset_index(drop=True)\n",
    "    overlap_frame.columns = param_names\n",
    "    overlap_frame['Data Type'] = synthetic_data_type\n",
    "    overlap_frame['Measure'] = 'CI Overlap'\n",
    "\n",
    "    # create dataframe with the actual point estimates and confidence intervals\n",
    "    p_and_i_full = pd.DataFrame()\n",
    "    \n",
    "    for i, Z in enumerate(ols_synth):\n",
    "        p_and_i = pd.concat([Z['params'].reset_index(), Z['CI']], axis=1)\n",
    "        p_and_i.columns = ['Parameter', 'Point Estimate', 'Lower Bound', 'Upper Bound']\n",
    "        p_and_i.loc[:,'Type'] = synthetic_data_type\n",
    "        p_and_i.loc[:,'index'] = i\n",
    "        p_and_i_full = pd.concat([p_and_i_full, p_and_i], axis=0)\n",
    "\n",
    "    p_and_i_full = p_and_i_full.reset_index(drop=True)\n",
    "\n",
    "    return pd.concat([l1_frame, CI_ratio_frame, sign_frame, sig_frame, overlap_frame], axis=0), p_and_i_full"
   ]
  },
  {
   "cell_type": "markdown",
   "id": "91f72b7f-71c9-4ed2-8d7b-bd94fb486e47",
   "metadata": {},
   "source": [
    "Results for female regression."
   ]
  },
  {
   "cell_type": "code",
   "execution_count": 50,
   "id": "0da25386-ecb9-47e5-a91f-6cd7628fb22f",
   "metadata": {},
   "outputs": [],
   "source": [
    "# all_data_types = ['Original', 'MNL', 'CART', 'MOSTLY.AI']\n",
    "# all_data_types = ['Original', 'MNL', 'CART', 'Synthpop']\n",
    "all_data_types = ['Original', 'CART', 'Synthpop']\n",
    "# female_all_data = [[train_female], sXs_mnl_female, sXs_cart_female, sXs_mostly_female]\n",
    "female_all_data = [[train_female], sXs_cart_female, sXs_synthpop_female]"
   ]
  },
  {
   "cell_type": "code",
   "execution_count": 51,
   "id": "fd75c37b-ae27-44f8-bfee-a4c0ea04a485",
   "metadata": {},
   "outputs": [],
   "source": [
    "female_all_l1_results = pd.DataFrame()\n",
    "female_all_p_and_i_results = pd.DataFrame()\n",
    "\n",
    "for i, j in enumerate(female_all_data):\n",
    "    current_l1_results, current_p_and_i_results = coef_L1_calc(original_data=train_female, synthetic_datasets=j, synthetic_data_type=all_data_types[i],\n",
    "                                                               target_variable='incwage', \n",
    "                                                               exog_variables=['years_of_educ', 'non_white', 'potential_experience', 'potential_experience_2', 'potential_experience_3'],\n",
    "                                                               param_names=['Intercept', 'Years of Education', 'Non-white', 'Potential Experience', 'Potential Experience^2', 'Potential Experience^3'])\n",
    "\n",
    "    female_all_l1_results = pd.concat([female_all_l1_results, current_l1_results.reset_index()], axis=0)\n",
    "    female_all_p_and_i_results = pd.concat([female_all_p_and_i_results, current_p_and_i_results])"
   ]
  },
  {
   "cell_type": "code",
   "execution_count": 52,
   "id": "af8e67b0-f69c-42f6-8760-6ee2fc415353",
   "metadata": {},
   "outputs": [],
   "source": [
    "female_all_l1_results = female_all_l1_results.melt(id_vars=[\"Data Type\", \"Measure\", \"index\"], \n",
    "                                                   value_vars=['Intercept', 'Years of Education', 'Non-white', 'Potential Experience', 'Potential Experience^2', 'Potential Experience^3'], \n",
    "                                                   var_name=\"Variable\")"
   ]
  },
  {
   "cell_type": "code",
   "execution_count": 53,
   "id": "0c27d2f1-99bf-4f34-b7cb-54373eee3d3e",
   "metadata": {},
   "outputs": [
    {
     "data": {
      "text/html": [
       "<div>\n",
       "<style scoped>\n",
       "    .dataframe tbody tr th:only-of-type {\n",
       "        vertical-align: middle;\n",
       "    }\n",
       "\n",
       "    .dataframe tbody tr th {\n",
       "        vertical-align: top;\n",
       "    }\n",
       "\n",
       "    .dataframe thead th {\n",
       "        text-align: right;\n",
       "    }\n",
       "</style>\n",
       "<table border=\"1\" class=\"dataframe\">\n",
       "  <thead>\n",
       "    <tr style=\"text-align: right;\">\n",
       "      <th></th>\n",
       "      <th>Data Type</th>\n",
       "      <th>Measure</th>\n",
       "      <th>index</th>\n",
       "      <th>Variable</th>\n",
       "      <th>value</th>\n",
       "    </tr>\n",
       "  </thead>\n",
       "  <tbody>\n",
       "    <tr>\n",
       "      <th>0</th>\n",
       "      <td>Original</td>\n",
       "      <td>L1 Distance</td>\n",
       "      <td>0</td>\n",
       "      <td>Intercept</td>\n",
       "      <td>0.0</td>\n",
       "    </tr>\n",
       "    <tr>\n",
       "      <th>1</th>\n",
       "      <td>Original</td>\n",
       "      <td>CI Ratio</td>\n",
       "      <td>0</td>\n",
       "      <td>Intercept</td>\n",
       "      <td>1.0</td>\n",
       "    </tr>\n",
       "    <tr>\n",
       "      <th>2</th>\n",
       "      <td>Original</td>\n",
       "      <td>Sign Match</td>\n",
       "      <td>0</td>\n",
       "      <td>Intercept</td>\n",
       "      <td>1.0</td>\n",
       "    </tr>\n",
       "    <tr>\n",
       "      <th>3</th>\n",
       "      <td>Original</td>\n",
       "      <td>Significance Match</td>\n",
       "      <td>0</td>\n",
       "      <td>Intercept</td>\n",
       "      <td>1.0</td>\n",
       "    </tr>\n",
       "    <tr>\n",
       "      <th>4</th>\n",
       "      <td>Original</td>\n",
       "      <td>CI Overlap</td>\n",
       "      <td>0</td>\n",
       "      <td>Intercept</td>\n",
       "      <td>1.0</td>\n",
       "    </tr>\n",
       "    <tr>\n",
       "      <th>...</th>\n",
       "      <td>...</td>\n",
       "      <td>...</td>\n",
       "      <td>...</td>\n",
       "      <td>...</td>\n",
       "      <td>...</td>\n",
       "    </tr>\n",
       "    <tr>\n",
       "      <th>1225</th>\n",
       "      <td>Synthpop</td>\n",
       "      <td>CI Overlap</td>\n",
       "      <td>15</td>\n",
       "      <td>Potential Experience^3</td>\n",
       "      <td>1.0</td>\n",
       "    </tr>\n",
       "    <tr>\n",
       "      <th>1226</th>\n",
       "      <td>Synthpop</td>\n",
       "      <td>CI Overlap</td>\n",
       "      <td>16</td>\n",
       "      <td>Potential Experience^3</td>\n",
       "      <td>1.0</td>\n",
       "    </tr>\n",
       "    <tr>\n",
       "      <th>1227</th>\n",
       "      <td>Synthpop</td>\n",
       "      <td>CI Overlap</td>\n",
       "      <td>17</td>\n",
       "      <td>Potential Experience^3</td>\n",
       "      <td>1.0</td>\n",
       "    </tr>\n",
       "    <tr>\n",
       "      <th>1228</th>\n",
       "      <td>Synthpop</td>\n",
       "      <td>CI Overlap</td>\n",
       "      <td>18</td>\n",
       "      <td>Potential Experience^3</td>\n",
       "      <td>1.0</td>\n",
       "    </tr>\n",
       "    <tr>\n",
       "      <th>1229</th>\n",
       "      <td>Synthpop</td>\n",
       "      <td>CI Overlap</td>\n",
       "      <td>19</td>\n",
       "      <td>Potential Experience^3</td>\n",
       "      <td>1.0</td>\n",
       "    </tr>\n",
       "  </tbody>\n",
       "</table>\n",
       "<p>1230 rows × 5 columns</p>\n",
       "</div>"
      ],
      "text/plain": [
       "     Data Type             Measure  index                Variable  value\n",
       "0     Original         L1 Distance      0               Intercept    0.0\n",
       "1     Original            CI Ratio      0               Intercept    1.0\n",
       "2     Original          Sign Match      0               Intercept    1.0\n",
       "3     Original  Significance Match      0               Intercept    1.0\n",
       "4     Original          CI Overlap      0               Intercept    1.0\n",
       "...        ...                 ...    ...                     ...    ...\n",
       "1225  Synthpop          CI Overlap     15  Potential Experience^3    1.0\n",
       "1226  Synthpop          CI Overlap     16  Potential Experience^3    1.0\n",
       "1227  Synthpop          CI Overlap     17  Potential Experience^3    1.0\n",
       "1228  Synthpop          CI Overlap     18  Potential Experience^3    1.0\n",
       "1229  Synthpop          CI Overlap     19  Potential Experience^3    1.0\n",
       "\n",
       "[1230 rows x 5 columns]"
      ]
     },
     "execution_count": 53,
     "metadata": {},
     "output_type": "execute_result"
    }
   ],
   "source": [
    "female_all_l1_results"
   ]
  },
  {
   "cell_type": "markdown",
   "id": "84ec2635-94ff-4906-8910-0fefbc3186dc",
   "metadata": {},
   "source": [
    "Save data for analysis and plotting in R."
   ]
  },
  {
   "cell_type": "code",
   "execution_count": 54,
   "id": "86e1b7b2-95bf-4dfd-b5a9-4c80f2f24e16",
   "metadata": {},
   "outputs": [],
   "source": [
    "female_all_l1_results.to_csv('../Results/IPUMS/female_analysis_specific.csv', index=False)"
   ]
  },
  {
   "cell_type": "code",
   "execution_count": 55,
   "id": "7122b768-1954-426e-a18b-f183a6bf83c6",
   "metadata": {},
   "outputs": [],
   "source": [
    "female_all_p_and_i_results.to_csv('../Results/IPUMS/female_point_estimates_and_intervals.csv', index=False)"
   ]
  },
  {
   "cell_type": "markdown",
   "id": "4a14566c-4bb2-49d8-96f1-7ab2291ab1db",
   "metadata": {},
   "source": [
    "***"
   ]
  },
  {
   "cell_type": "markdown",
   "id": "c44a242c-5fec-43c9-83d4-3e321c7b51e2",
   "metadata": {},
   "source": [
    "Results for male regression."
   ]
  },
  {
   "cell_type": "code",
   "execution_count": 56,
   "id": "6a7bb2f4-d3d6-4bed-bc66-e5b91bac85a5",
   "metadata": {},
   "outputs": [],
   "source": [
    "# male_all_data = [[train_male], sXs_mnl_male, sXs_cart_male, sXs_mostly_male]\n",
    "male_all_data = [[train_male], sXs_cart_male, sXs_synthpop_male]"
   ]
  },
  {
   "cell_type": "code",
   "execution_count": 57,
   "id": "9f5b2ffd-25c3-4436-84db-de65831021d6",
   "metadata": {},
   "outputs": [],
   "source": [
    "male_all_l1_results = pd.DataFrame()\n",
    "male_all_p_and_i_results = pd.DataFrame()\n",
    "\n",
    "for i, j in enumerate(male_all_data):\n",
    "    current_l1_results, current_p_and_i_results = coef_L1_calc(original_data=train_male, synthetic_datasets=j, synthetic_data_type=all_data_types[i],\n",
    "                                                               target_variable='incwage', \n",
    "                                                               exog_variables=['years_of_educ', 'non_white', 'potential_experience', 'potential_experience_2', 'potential_experience_3'],\n",
    "                                                               param_names=['Intercept', 'Years of Education', 'Non-white', 'Potential Experience', 'Potential Experience^2', 'Potential Experience^3'])\n",
    "\n",
    "    male_all_l1_results = pd.concat([male_all_l1_results, current_l1_results.reset_index()], axis=0)\n",
    "    male_all_p_and_i_results = pd.concat([male_all_p_and_i_results, current_p_and_i_results])"
   ]
  },
  {
   "cell_type": "code",
   "execution_count": 58,
   "id": "92711aa7-180d-4595-8146-bdac87beb75d",
   "metadata": {},
   "outputs": [],
   "source": [
    "male_all_l1_results = male_all_l1_results.melt(id_vars=[\"Data Type\", \"Measure\", \"index\"], \n",
    "                                               value_vars=['Intercept', 'Years of Education', 'Non-white', 'Potential Experience', 'Potential Experience^2', 'Potential Experience^3'], \n",
    "                                               var_name=\"Variable\")"
   ]
  },
  {
   "cell_type": "code",
   "execution_count": 59,
   "id": "27500979-9e78-4f3f-bc00-bd70b0cae2e7",
   "metadata": {},
   "outputs": [],
   "source": [
    "male_all_l1_results.to_csv('../Results/IPUMS/male_analysis_specific.csv', index=False)"
   ]
  },
  {
   "cell_type": "code",
   "execution_count": 60,
   "id": "3d3e4f66-e7ff-4377-9436-f378833ebd0e",
   "metadata": {},
   "outputs": [],
   "source": [
    "male_all_p_and_i_results.to_csv('../Results/IPUMS/male_point_estimates_and_intervals.csv', index=False)"
   ]
  },
  {
   "cell_type": "code",
   "execution_count": null,
   "id": "89830ed2-74b9-4a00-ac5c-4140f5ba3d62",
   "metadata": {},
   "outputs": [],
   "source": []
  }
 ],
 "metadata": {
  "kernelspec": {
   "display_name": "Python 3 (ipykernel)",
   "language": "python",
   "name": "python3"
  },
  "language_info": {
   "codemirror_mode": {
    "name": "ipython",
    "version": 3
   },
   "file_extension": ".py",
   "mimetype": "text/x-python",
   "name": "python",
   "nbconvert_exporter": "python",
   "pygments_lexer": "ipython3",
   "version": "3.11.7"
  }
 },
 "nbformat": 4,
 "nbformat_minor": 5
}
