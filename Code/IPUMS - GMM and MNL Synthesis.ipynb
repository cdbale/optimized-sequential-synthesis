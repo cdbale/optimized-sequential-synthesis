{
 "cells": [
  {
   "cell_type": "markdown",
   "id": "96f48262",
   "metadata": {},
   "source": [
    "This notebook performs the synthesis using our proposed synthesization approach applied to the IPUMS data. The synthesis model is a CART. Logistic regression with three way interactions is used as the pMSE model."
   ]
  },
  {
   "cell_type": "code",
   "execution_count": 1,
   "id": "2d3f5c21",
   "metadata": {},
   "outputs": [],
   "source": [
    "from sklearn.mixture import GaussianMixture\n",
    "import matplotlib.pyplot as plt\n",
    "import itertools\n",
    "import pickle\n",
    "\n",
    "from bayes_opt import BayesianOptimization\n",
    "from bayes_opt import UtilityFunction\n",
    "\n",
    "from helper_functions import *\n",
    "\n",
    "rng = np.random.RandomState(42)"
   ]
  },
  {
   "cell_type": "markdown",
   "id": "76a8ccbc",
   "metadata": {},
   "source": [
    "Import the data."
   ]
  },
  {
   "cell_type": "markdown",
   "id": "6bb8332c-7f4c-443b-9ce4-e43274a55711",
   "metadata": {},
   "source": [
    "Need to figure out how we are handling the `years_of_educ` and `potential_experience` variables. Probably need to synthesize using proper categorical models. This might require converting to a category here at the beginning of the file and then converting back to the original values at the end, but this will affect the computation of the pMSE ratio. Another option is to remove the decimal portions from the observations that have them so that it is not treated as a continuous variable by default."
   ]
  },
  {
   "cell_type": "code",
   "execution_count": 2,
   "id": "730c2f2e",
   "metadata": {},
   "outputs": [],
   "source": [
    "# import standardized lat/long location data\n",
    "train_data = pd.read_csv(\"../Data/IPUMS/cleaned_ipums_data.csv\")"
   ]
  },
  {
   "cell_type": "code",
   "execution_count": 3,
   "id": "72e1d5fe-3731-46b6-ae83-8e698e6a4b79",
   "metadata": {},
   "outputs": [
    {
     "data": {
      "text/html": [
       "<div>\n",
       "<style scoped>\n",
       "    .dataframe tbody tr th:only-of-type {\n",
       "        vertical-align: middle;\n",
       "    }\n",
       "\n",
       "    .dataframe tbody tr th {\n",
       "        vertical-align: top;\n",
       "    }\n",
       "\n",
       "    .dataframe thead th {\n",
       "        text-align: right;\n",
       "    }\n",
       "</style>\n",
       "<table border=\"1\" class=\"dataframe\">\n",
       "  <thead>\n",
       "    <tr style=\"text-align: right;\">\n",
       "      <th></th>\n",
       "      <th>incwage</th>\n",
       "      <th>years_of_educ</th>\n",
       "      <th>potential_experience</th>\n",
       "      <th>non_white</th>\n",
       "      <th>sex</th>\n",
       "    </tr>\n",
       "  </thead>\n",
       "  <tbody>\n",
       "    <tr>\n",
       "      <th>0</th>\n",
       "      <td>-0.579435</td>\n",
       "      <td>1.109071</td>\n",
       "      <td>-0.039398</td>\n",
       "      <td>0</td>\n",
       "      <td>1</td>\n",
       "    </tr>\n",
       "    <tr>\n",
       "      <th>1</th>\n",
       "      <td>0.564281</td>\n",
       "      <td>0.724424</td>\n",
       "      <td>0.369388</td>\n",
       "      <td>0</td>\n",
       "      <td>0</td>\n",
       "    </tr>\n",
       "    <tr>\n",
       "      <th>2</th>\n",
       "      <td>-0.748874</td>\n",
       "      <td>-0.044869</td>\n",
       "      <td>-1.347515</td>\n",
       "      <td>0</td>\n",
       "      <td>0</td>\n",
       "    </tr>\n",
       "    <tr>\n",
       "      <th>3</th>\n",
       "      <td>-0.935257</td>\n",
       "      <td>-0.814163</td>\n",
       "      <td>-1.511030</td>\n",
       "      <td>0</td>\n",
       "      <td>0</td>\n",
       "    </tr>\n",
       "    <tr>\n",
       "      <th>4</th>\n",
       "      <td>-0.164308</td>\n",
       "      <td>-0.429516</td>\n",
       "      <td>1.186962</td>\n",
       "      <td>1</td>\n",
       "      <td>0</td>\n",
       "    </tr>\n",
       "    <tr>\n",
       "      <th>...</th>\n",
       "      <td>...</td>\n",
       "      <td>...</td>\n",
       "      <td>...</td>\n",
       "      <td>...</td>\n",
       "      <td>...</td>\n",
       "    </tr>\n",
       "    <tr>\n",
       "      <th>197751</th>\n",
       "      <td>-0.092296</td>\n",
       "      <td>1.109071</td>\n",
       "      <td>-0.448185</td>\n",
       "      <td>0</td>\n",
       "      <td>0</td>\n",
       "    </tr>\n",
       "    <tr>\n",
       "      <th>197752</th>\n",
       "      <td>-0.854774</td>\n",
       "      <td>1.109071</td>\n",
       "      <td>-0.611699</td>\n",
       "      <td>0</td>\n",
       "      <td>1</td>\n",
       "    </tr>\n",
       "    <tr>\n",
       "      <th>197753</th>\n",
       "      <td>0.521921</td>\n",
       "      <td>1.777461</td>\n",
       "      <td>0.063806</td>\n",
       "      <td>0</td>\n",
       "      <td>0</td>\n",
       "    </tr>\n",
       "    <tr>\n",
       "      <th>197754</th>\n",
       "      <td>-0.981853</td>\n",
       "      <td>0.724424</td>\n",
       "      <td>-0.448185</td>\n",
       "      <td>0</td>\n",
       "      <td>1</td>\n",
       "    </tr>\n",
       "    <tr>\n",
       "      <th>197755</th>\n",
       "      <td>0.865036</td>\n",
       "      <td>1.109071</td>\n",
       "      <td>1.105204</td>\n",
       "      <td>0</td>\n",
       "      <td>0</td>\n",
       "    </tr>\n",
       "  </tbody>\n",
       "</table>\n",
       "<p>197756 rows × 5 columns</p>\n",
       "</div>"
      ],
      "text/plain": [
       "         incwage  years_of_educ  potential_experience  non_white  sex\n",
       "0      -0.579435       1.109071             -0.039398          0    1\n",
       "1       0.564281       0.724424              0.369388          0    0\n",
       "2      -0.748874      -0.044869             -1.347515          0    0\n",
       "3      -0.935257      -0.814163             -1.511030          0    0\n",
       "4      -0.164308      -0.429516              1.186962          1    0\n",
       "...          ...            ...                   ...        ...  ...\n",
       "197751 -0.092296       1.109071             -0.448185          0    0\n",
       "197752 -0.854774       1.109071             -0.611699          0    1\n",
       "197753  0.521921       1.777461              0.063806          0    0\n",
       "197754 -0.981853       0.724424             -0.448185          0    1\n",
       "197755  0.865036       1.109071              1.105204          0    0\n",
       "\n",
       "[197756 rows x 5 columns]"
      ]
     },
     "execution_count": 3,
     "metadata": {},
     "output_type": "execute_result"
    }
   ],
   "source": [
    "train_data"
   ]
  },
  {
   "cell_type": "markdown",
   "id": "14972140",
   "metadata": {},
   "source": [
    "***"
   ]
  },
  {
   "cell_type": "markdown",
   "id": "e53ef6c3",
   "metadata": {},
   "source": [
    "Functions for logistic and multinomial logistic regression synthesizer."
   ]
  },
  {
   "cell_type": "code",
   "execution_count": 4,
   "id": "6927923b",
   "metadata": {},
   "outputs": [],
   "source": [
    "def train_models_mn(#overall parameters\n",
    "                    train_data,\n",
    "                    number_synthetic_datasets,\n",
    "                    # hyperparameters for GMM, end with underscore means Bayesian optimization will choose\n",
    "                    number_gmm_initializations,\n",
    "                    num_components_,\n",
    "                    # hyperparameters for CART, end with underscore means Bayesian optimization will choose\n",
    "                    C_non_white_,\n",
    "                    C_sex_):\n",
    "    \n",
    "    num_samples = train_data.shape[0]\n",
    "    \n",
    "    ########## Code for GMM ############\n",
    "    \n",
    "    # fit GMM model\n",
    "    GMM = GaussianMixture(num_components_, n_init=number_gmm_initializations, covariance_type='full', init_params=\"k-means++\", random_state=rng).fit(train_data.loc[:,[\"incwage\", \"years_of_educ\", \"potential_experience\"]])\n",
    "    \n",
    "    # list for synthetic datasets\n",
    "    sXs = []\n",
    "    \n",
    "    # generate and store number_synthetic_datasets synthetic datasets\n",
    "    for i in range(number_synthetic_datasets):\n",
    "        sX = GMM.sample(num_samples)[0]\n",
    "        sX = pd.DataFrame(sX)\n",
    "        sX.columns = [\"incwage\", \"years_of_educ\", \"potential_experience\"]\n",
    "        sXs.append(sX)\n",
    "        \n",
    "    ####################################################################################################\n",
    "        \n",
    "    ########### Code for non-white MN ##########\n",
    "    \n",
    "    synth_non_white_vars = multinomial_synthesizer(orig_data=train_data.loc[:,[\"incwage\", \"years_of_educ\", \"potential_experience\"]], \n",
    "                                                   synth_data_sets=sXs, \n",
    "                                                   target=train_data.non_white, \n",
    "                                                   penalty_param=C_non_white_)\n",
    "    \n",
    "    sXs = [pd.concat([Y, synth_non_white_vars[i]], axis=1) for i,Y in enumerate(sXs)]\n",
    "        \n",
    "    ####################################################################################################\n",
    "        \n",
    "    ########### Code for sex MN ##########\n",
    "    \n",
    "    synth_sex_vars = multinomial_synthesizer(orig_data=train_data.loc[:,[\"incwage\", \"years_of_educ\", \"potential_experience\", \"non_white\"]], \n",
    "                                             synth_data_sets=sXs, \n",
    "                                             target=train_data.sex, \n",
    "                                             penalty_param=C_sex_)\n",
    "    \n",
    "    sXs = [pd.concat([Y, synth_sex_vars[i]], axis=1) for i,Y in enumerate(sXs)]\n",
    "        \n",
    "    ####################################################################################################\n",
    "        \n",
    "    ###### Calculate pMSE ratios ######\n",
    "    pmse_ratios = [pmse_ratio(train_data, Y) for Y in sXs]\n",
    "    \n",
    "    return pmse_ratios, sXs, GMM"
   ]
  },
  {
   "cell_type": "code",
   "execution_count": 5,
   "id": "51b65e19",
   "metadata": {},
   "outputs": [],
   "source": [
    "def optimize_models_mn(train_data,\n",
    "                       number_synthetic_datasets,\n",
    "                       number_gmm_initializations,\n",
    "                       random_state):\n",
    "\n",
    "    def evaluate_models(num_components_, C_non_white_, C_sex_):\n",
    "\n",
    "        pmse_ratios, _, _ = train_models_mn(train_data=train_data,\n",
    "                                            number_synthetic_datasets=number_synthetic_datasets,\n",
    "                                            number_gmm_initializations=number_gmm_initializations,\n",
    "                                            num_components_=int(num_components_),\n",
    "                                            C_non_white_=C_non_white_,\n",
    "                                            C_sex_=C_sex_)\n",
    "        \n",
    "        return -1 * ((1 - np.mean(pmse_ratios))**2)\n",
    "\n",
    "    optimizer = BayesianOptimization(\n",
    "        f=evaluate_models,\n",
    "        pbounds={\n",
    "            \"num_components_\": (10, 200.99),\n",
    "            \"C_non_white_\": (0.001, 3),\n",
    "            \"C_sex_\": (0.001, 3)\n",
    "        },\n",
    "        random_state=random_state)\n",
    "    \n",
    "    utility = UtilityFunction(kind=\"ei\", xi=1e-02)\n",
    "    optimizer.maximize(init_points=5, n_iter=25, acquisition_function=utility)\n",
    "    print(\"Final Result: \", optimizer.max)\n",
    "    return optimizer.max, optimizer"
   ]
  },
  {
   "cell_type": "markdown",
   "id": "4d4d62c3",
   "metadata": {},
   "source": [
    "The default value for $\\alpha = 1e-06$."
   ]
  },
  {
   "cell_type": "code",
   "execution_count": 6,
   "id": "13b295a6",
   "metadata": {},
   "outputs": [],
   "source": [
    "nsd = 10\n",
    "ngi = 2\n",
    "random_states = [np.random.RandomState(1006), np.random.RandomState(428)]"
   ]
  },
  {
   "cell_type": "code",
   "execution_count": 7,
   "id": "93c78ab1",
   "metadata": {},
   "outputs": [
    {
     "name": "stdout",
     "output_type": "stream",
     "text": [
      "|   iter    |  target   | C_non_... |  C_sex_   | num_co... |\n",
      "-------------------------------------------------------------\n",
      "| \u001b[0m1        \u001b[0m | \u001b[0m-0.05209 \u001b[0m | \u001b[0m2.23     \u001b[0m | \u001b[0m0.68     \u001b[0m | \u001b[0m132.7    \u001b[0m |\n",
      "| \u001b[0m2        \u001b[0m | \u001b[0m-0.1764  \u001b[0m | \u001b[0m2.647    \u001b[0m | \u001b[0m2.222    \u001b[0m | \u001b[0m147.8    \u001b[0m |\n",
      "| \u001b[0m3        \u001b[0m | \u001b[0m-579.7   \u001b[0m | \u001b[0m0.8867   \u001b[0m | \u001b[0m1.577    \u001b[0m | \u001b[0m43.19    \u001b[0m |\n",
      "| \u001b[0m4        \u001b[0m | \u001b[0m-0.9594  \u001b[0m | \u001b[0m2.436    \u001b[0m | \u001b[0m2.548    \u001b[0m | \u001b[0m58.99    \u001b[0m |\n",
      "| \u001b[0m5        \u001b[0m | \u001b[0m-72.98   \u001b[0m | \u001b[0m0.7125   \u001b[0m | \u001b[0m1.376    \u001b[0m | \u001b[0m53.72    \u001b[0m |\n",
      "| \u001b[95m6        \u001b[0m | \u001b[95m-0.04485 \u001b[0m | \u001b[95m2.438    \u001b[0m | \u001b[95m1.451    \u001b[0m | \u001b[95m140.2    \u001b[0m |\n",
      "| \u001b[0m7        \u001b[0m | \u001b[0m-205.3   \u001b[0m | \u001b[0m0.001    \u001b[0m | \u001b[0m0.001    \u001b[0m | \u001b[0m68.64    \u001b[0m |\n",
      "| \u001b[0m8        \u001b[0m | \u001b[0m-192.0   \u001b[0m | \u001b[0m0.001    \u001b[0m | \u001b[0m0.001    \u001b[0m | \u001b[0m156.6    \u001b[0m |\n",
      "| \u001b[0m9        \u001b[0m | \u001b[0m-12.88   \u001b[0m | \u001b[0m0.001    \u001b[0m | \u001b[0m3.0      \u001b[0m | \u001b[0m125.5    \u001b[0m |\n",
      "| \u001b[95m10       \u001b[0m | \u001b[95m-0.000215\u001b[0m | \u001b[95m0.08589  \u001b[0m | \u001b[95m2.939    \u001b[0m | \u001b[95m143.9    \u001b[0m |\n",
      "| \u001b[0m11       \u001b[0m | \u001b[0m-65.03   \u001b[0m | \u001b[0m3.0      \u001b[0m | \u001b[0m0.001    \u001b[0m | \u001b[0m114.7    \u001b[0m |\n",
      "| \u001b[0m12       \u001b[0m | \u001b[0m-0.02396 \u001b[0m | \u001b[0m3.0      \u001b[0m | \u001b[0m3.0      \u001b[0m | \u001b[0m201.0    \u001b[0m |\n",
      "| \u001b[0m13       \u001b[0m | \u001b[0m-194.3   \u001b[0m | \u001b[0m0.001    \u001b[0m | \u001b[0m0.001    \u001b[0m | \u001b[0m193.1    \u001b[0m |\n",
      "| \u001b[0m14       \u001b[0m | \u001b[0m-100.5   \u001b[0m | \u001b[0m3.0      \u001b[0m | \u001b[0m0.001    \u001b[0m | \u001b[0m144.5    \u001b[0m |\n",
      "| \u001b[0m15       \u001b[0m | \u001b[0m-13.57   \u001b[0m | \u001b[0m0.001    \u001b[0m | \u001b[0m3.0      \u001b[0m | \u001b[0m137.1    \u001b[0m |\n",
      "| \u001b[0m16       \u001b[0m | \u001b[0m-86.8    \u001b[0m | \u001b[0m3.0      \u001b[0m | \u001b[0m0.001    \u001b[0m | \u001b[0m127.0    \u001b[0m |\n",
      "| \u001b[0m17       \u001b[0m | \u001b[0m-0.002758\u001b[0m | \u001b[0m2.941    \u001b[0m | \u001b[0m2.353    \u001b[0m | \u001b[0m136.5    \u001b[0m |\n",
      "| \u001b[0m18       \u001b[0m | \u001b[0m-0.06076 \u001b[0m | \u001b[0m0.3386   \u001b[0m | \u001b[0m2.93     \u001b[0m | \u001b[0m148.8    \u001b[0m |\n",
      "| \u001b[0m19       \u001b[0m | \u001b[0m-18.98   \u001b[0m | \u001b[0m0.001    \u001b[0m | \u001b[0m3.0      \u001b[0m | \u001b[0m101.7    \u001b[0m |\n",
      "| \u001b[0m20       \u001b[0m | \u001b[0m-75.94   \u001b[0m | \u001b[0m3.0      \u001b[0m | \u001b[0m0.001    \u001b[0m | \u001b[0m94.54    \u001b[0m |\n",
      "| \u001b[0m21       \u001b[0m | \u001b[0m-0.01446 \u001b[0m | \u001b[0m0.0234   \u001b[0m | \u001b[0m0.02623  \u001b[0m | \u001b[0m107.2    \u001b[0m |\n",
      "| \u001b[0m22       \u001b[0m | \u001b[0m-0.3964  \u001b[0m | \u001b[0m2.93     \u001b[0m | \u001b[0m2.923    \u001b[0m | \u001b[0m106.1    \u001b[0m |\n",
      "| \u001b[0m23       \u001b[0m | \u001b[0m-6.537e+0\u001b[0m | \u001b[0m3.0      \u001b[0m | \u001b[0m3.0      \u001b[0m | \u001b[0m10.0     \u001b[0m |\n",
      "| \u001b[0m24       \u001b[0m | \u001b[0m-0.009137\u001b[0m | \u001b[0m3.0      \u001b[0m | \u001b[0m3.0      \u001b[0m | \u001b[0m172.4    \u001b[0m |\n",
      "| \u001b[0m25       \u001b[0m | \u001b[0m-0.02059 \u001b[0m | \u001b[0m2.753    \u001b[0m | \u001b[0m2.834    \u001b[0m | \u001b[0m161.5    \u001b[0m |\n",
      "| \u001b[0m26       \u001b[0m | \u001b[0m-18.71   \u001b[0m | \u001b[0m0.001    \u001b[0m | \u001b[0m3.0      \u001b[0m | \u001b[0m112.3    \u001b[0m |\n",
      "| \u001b[0m27       \u001b[0m | \u001b[0m-0.1006  \u001b[0m | \u001b[0m3.0      \u001b[0m | \u001b[0m3.0      \u001b[0m | \u001b[0m184.9    \u001b[0m |\n",
      "| \u001b[0m28       \u001b[0m | \u001b[0m-1.66    \u001b[0m | \u001b[0m2.978    \u001b[0m | \u001b[0m2.965    \u001b[0m | \u001b[0m154.1    \u001b[0m |\n",
      "| \u001b[0m29       \u001b[0m | \u001b[0m-0.00109 \u001b[0m | \u001b[0m2.132    \u001b[0m | \u001b[0m2.98     \u001b[0m | \u001b[0m142.5    \u001b[0m |\n",
      "| \u001b[0m30       \u001b[0m | \u001b[0m-65.97   \u001b[0m | \u001b[0m3.0      \u001b[0m | \u001b[0m0.001    \u001b[0m | \u001b[0m57.62    \u001b[0m |\n",
      "=============================================================\n",
      "Final Result:  {'target': -0.00021527796061185814, 'params': {'C_non_white_': 0.0858919431389487, 'C_sex_': 2.938956741896849, 'num_components_': 143.85248994180307}}\n",
      "|   iter    |  target   | C_non_... |  C_sex_   | num_co... |\n",
      "-------------------------------------------------------------\n",
      "| \u001b[0m1        \u001b[0m | \u001b[0m-1.896   \u001b[0m | \u001b[0m2.455    \u001b[0m | \u001b[0m2.623    \u001b[0m | \u001b[0m89.92    \u001b[0m |\n",
      "| \u001b[0m2        \u001b[0m | \u001b[0m-132.2   \u001b[0m | \u001b[0m1.336    \u001b[0m | \u001b[0m0.3865   \u001b[0m | \u001b[0m30.04    \u001b[0m |\n",
      "| \u001b[95m3        \u001b[0m | \u001b[95m-0.7172  \u001b[0m | \u001b[95m1.939    \u001b[0m | \u001b[95m2.886    \u001b[0m | \u001b[95m65.53    \u001b[0m |\n",
      "| \u001b[95m4        \u001b[0m | \u001b[95m-0.03177 \u001b[0m | \u001b[95m0.2011   \u001b[0m | \u001b[95m1.478    \u001b[0m | \u001b[95m86.85    \u001b[0m |\n",
      "| \u001b[0m5        \u001b[0m | \u001b[0m-3.754e+0\u001b[0m | \u001b[0m0.6546   \u001b[0m | \u001b[0m2.504    \u001b[0m | \u001b[0m44.79    \u001b[0m |\n",
      "| \u001b[0m6        \u001b[0m | \u001b[0m-4.709   \u001b[0m | \u001b[0m2.522    \u001b[0m | \u001b[0m3.0      \u001b[0m | \u001b[0m74.56    \u001b[0m |\n",
      "| \u001b[0m7        \u001b[0m | \u001b[0m-1.746e+0\u001b[0m | \u001b[0m1.739    \u001b[0m | \u001b[0m0.001    \u001b[0m | \u001b[0m21.41    \u001b[0m |\n",
      "| \u001b[0m8        \u001b[0m | \u001b[0m-0.7465  \u001b[0m | \u001b[0m0.2227   \u001b[0m | \u001b[0m0.008634 \u001b[0m | \u001b[0m69.62    \u001b[0m |\n",
      "| \u001b[0m9        \u001b[0m | \u001b[0m-167.2   \u001b[0m | \u001b[0m0.001    \u001b[0m | \u001b[0m0.001    \u001b[0m | \u001b[0m97.77    \u001b[0m |\n",
      "| \u001b[0m10       \u001b[0m | \u001b[0m-1.608   \u001b[0m | \u001b[0m2.397    \u001b[0m | \u001b[0m0.02638  \u001b[0m | \u001b[0m80.59    \u001b[0m |\n",
      "| \u001b[0m11       \u001b[0m | \u001b[0m-0.05307 \u001b[0m | \u001b[0m3.0      \u001b[0m | \u001b[0m3.0      \u001b[0m | \u001b[0m111.2    \u001b[0m |\n",
      "| \u001b[0m12       \u001b[0m | \u001b[0m-203.4   \u001b[0m | \u001b[0m0.001    \u001b[0m | \u001b[0m0.001    \u001b[0m | \u001b[0m120.5    \u001b[0m |\n",
      "| \u001b[0m13       \u001b[0m | \u001b[0m-0.04234 \u001b[0m | \u001b[0m3.0      \u001b[0m | \u001b[0m3.0      \u001b[0m | \u001b[0m135.4    \u001b[0m |\n",
      "| \u001b[0m14       \u001b[0m | \u001b[0m-153.0   \u001b[0m | \u001b[0m0.001    \u001b[0m | \u001b[0m0.001    \u001b[0m | \u001b[0m144.6    \u001b[0m |\n",
      "| \u001b[95m15       \u001b[0m | \u001b[95m-0.002212\u001b[0m | \u001b[95m3.0      \u001b[0m | \u001b[95m3.0      \u001b[0m | \u001b[95m158.5    \u001b[0m |\n",
      "| \u001b[0m16       \u001b[0m | \u001b[0m-203.4   \u001b[0m | \u001b[0m0.001    \u001b[0m | \u001b[0m0.001    \u001b[0m | \u001b[0m167.9    \u001b[0m |\n",
      "| \u001b[0m17       \u001b[0m | \u001b[0m-0.0185  \u001b[0m | \u001b[0m2.64     \u001b[0m | \u001b[0m2.631    \u001b[0m | \u001b[0m184.5    \u001b[0m |\n",
      "| \u001b[0m18       \u001b[0m | \u001b[0m-184.6   \u001b[0m | \u001b[0m0.001    \u001b[0m | \u001b[0m0.001    \u001b[0m | \u001b[0m193.9    \u001b[0m |\n",
      "| \u001b[0m19       \u001b[0m | \u001b[0m-0.004285\u001b[0m | \u001b[0m3.0      \u001b[0m | \u001b[0m3.0      \u001b[0m | \u001b[0m176.7    \u001b[0m |\n",
      "| \u001b[0m20       \u001b[0m | \u001b[0m-151.1   \u001b[0m | \u001b[0m0.001    \u001b[0m | \u001b[0m0.001    \u001b[0m | \u001b[0m130.5    \u001b[0m |\n",
      "| \u001b[0m21       \u001b[0m | \u001b[0m-197.2   \u001b[0m | \u001b[0m0.001    \u001b[0m | \u001b[0m0.001    \u001b[0m | \u001b[0m180.3    \u001b[0m |\n",
      "| \u001b[0m22       \u001b[0m | \u001b[0m-0.3229  \u001b[0m | \u001b[0m3.0      \u001b[0m | \u001b[0m3.0      \u001b[0m | \u001b[0m201.0    \u001b[0m |\n",
      "| \u001b[0m23       \u001b[0m | \u001b[0m-0.003343\u001b[0m | \u001b[0m3.0      \u001b[0m | \u001b[0m3.0      \u001b[0m | \u001b[0m151.4    \u001b[0m |\n",
      "| \u001b[0m24       \u001b[0m | \u001b[0m-172.6   \u001b[0m | \u001b[0m0.001    \u001b[0m | \u001b[0m0.001    \u001b[0m | \u001b[0m155.2    \u001b[0m |\n",
      "| \u001b[0m25       \u001b[0m | \u001b[0m-0.0398  \u001b[0m | \u001b[0m0.08065  \u001b[0m | \u001b[0m0.01421  \u001b[0m | \u001b[0m108.4    \u001b[0m |\n",
      "| \u001b[0m26       \u001b[0m | \u001b[0m-0.03395 \u001b[0m | \u001b[0m3.0      \u001b[0m | \u001b[0m3.0      \u001b[0m | \u001b[0m104.2    \u001b[0m |\n",
      "| \u001b[0m27       \u001b[0m | \u001b[0m-0.1055  \u001b[0m | \u001b[0m2.76     \u001b[0m | \u001b[0m2.955    \u001b[0m | \u001b[0m69.7     \u001b[0m |\n",
      "| \u001b[0m28       \u001b[0m | \u001b[0m-1.629   \u001b[0m | \u001b[0m2.831    \u001b[0m | \u001b[0m2.981    \u001b[0m | \u001b[0m82.61    \u001b[0m |\n",
      "| \u001b[0m29       \u001b[0m | \u001b[0m-0.0147  \u001b[0m | \u001b[0m3.0      \u001b[0m | \u001b[0m3.0      \u001b[0m | \u001b[0m141.7    \u001b[0m |\n",
      "| \u001b[0m30       \u001b[0m | \u001b[0m-15.34   \u001b[0m | \u001b[0m0.001    \u001b[0m | \u001b[0m3.0      \u001b[0m | \u001b[0m78.73    \u001b[0m |\n",
      "=============================================================\n",
      "Final Result:  {'target': -0.0022116449171722726, 'params': {'C_non_white_': 3.0, 'C_sex_': 3.0, 'num_components_': 158.4729877485648}}\n"
     ]
    }
   ],
   "source": [
    "optimization_results = [optimize_models_mn(train_data=train_data, number_synthetic_datasets=nsd, number_gmm_initializations=ngi, random_state=r) for r in random_states]"
   ]
  },
  {
   "cell_type": "code",
   "execution_count": 11,
   "id": "ea0b7024",
   "metadata": {},
   "outputs": [],
   "source": [
    "run_targets = [np.minimum.accumulate(-i[1].space.target) for i in optimization_results]"
   ]
  },
  {
   "cell_type": "code",
   "execution_count": 12,
   "id": "f4225965",
   "metadata": {},
   "outputs": [
    {
     "data": {
      "image/png": "[encoded data removed]",
      "text/plain": [
       "<Figure size 640x480 with 1 Axes>"
      ]
     },
     "metadata": {},
     "output_type": "display_data"
    }
   ],
   "source": [
    "plt.plot(run_targets[0])\n",
    "plt.scatter(np.arange(len(run_targets[0])), run_targets[0], s=6)\n",
    "plt.plot(run_targets[1])\n",
    "plt.scatter(np.arange(len(run_targets[1])), run_targets[1], s=6)\n",
    "plt.title(\"Running Minimum Objective Value for MNL Synthesis\")\n",
    "plt.xlabel(\"Iteration\")\n",
    "plt.ylabel(\"Minimum Objective Value\")\n",
    "plt.show()"
   ]
  },
  {
   "cell_type": "markdown",
   "id": "34094ad9",
   "metadata": {},
   "source": [
    "Choose the params that gave the best objective value across all random seeds."
   ]
  },
  {
   "cell_type": "code",
   "execution_count": 13,
   "id": "81eccd8d",
   "metadata": {},
   "outputs": [],
   "source": [
    "best_params = optimization_results[np.argmax([x[0]['target'] for x in optimization_results])][0]"
   ]
  },
  {
   "cell_type": "code",
   "execution_count": 14,
   "id": "dbab5ac5",
   "metadata": {},
   "outputs": [
    {
     "data": {
      "text/plain": [
       "{'target': -0.00021527796061185814,\n",
       " 'params': {'C_non_white_': 0.0858919431389487,\n",
       "  'C_sex_': 2.938956741896849,\n",
       "  'num_components_': 143.85248994180307}}"
      ]
     },
     "execution_count": 14,
     "metadata": {},
     "output_type": "execute_result"
    }
   ],
   "source": [
    "best_params"
   ]
  },
  {
   "cell_type": "markdown",
   "id": "cea1e3fa",
   "metadata": {},
   "source": [
    "Generate 20 synthetic data sets."
   ]
  },
  {
   "cell_type": "markdown",
   "id": "cdff6e28-1c59-4fd4-b5cf-3dc3df54d9d6",
   "metadata": {},
   "source": [
    "On occassion, the synthesis models will produce a significantly different fit than what was observed during the optimization process. In these cases, retrain the models until a fit (judged by the pMSE ratio) consistent with the optimization results is observed."
   ]
  },
  {
   "cell_type": "code",
   "execution_count": 21,
   "id": "643fb518",
   "metadata": {},
   "outputs": [],
   "source": [
    "pmse_ratios, full_sXs, GMM = train_models_mn(train_data=train_data,\n",
    "                                             number_synthetic_datasets=20,\n",
    "                                             # hyperparameters for GMM\n",
    "                                             number_gmm_initializations=ngi,\n",
    "                                             num_components_=int(best_params['params']['num_components_']),\n",
    "                                             # hyperparameters for CART, end with underscore means Bayesian optimization will choose\n",
    "                                             C_non_white_=best_params['params']['C_non_white_'],\n",
    "                                             C_sex_=best_params['params']['C_sex_'])"
   ]
  },
  {
   "cell_type": "code",
   "execution_count": 22,
   "id": "694c3a3e",
   "metadata": {},
   "outputs": [
    {
     "data": {
      "text/plain": [
       "0.9387406749219978"
      ]
     },
     "execution_count": 22,
     "metadata": {},
     "output_type": "execute_result"
    }
   ],
   "source": [
    "np.mean(pmse_ratios)"
   ]
  },
  {
   "cell_type": "code",
   "execution_count": 23,
   "id": "5ea8b232",
   "metadata": {},
   "outputs": [
    {
     "data": {
      "image/png": "[encoded data removed]",
      "text/plain": [
       "<Figure size 640x480 with 1 Axes>"
      ]
     },
     "metadata": {},
     "output_type": "display_data"
    }
   ],
   "source": [
    "plt.violinplot(pmse_ratios)\n",
    "plt.xlabel(\"Density\")\n",
    "plt.ylabel(\"pMSE Ratio\")\n",
    "plt.title(\"Distribution of pMSE Ratios\")\n",
    "plt.show()"
   ]
  },
  {
   "cell_type": "markdown",
   "id": "c7c4b464",
   "metadata": {},
   "source": [
    "# Save the synthetic datasets."
   ]
  },
  {
   "cell_type": "markdown",
   "id": "e3ba0c55-d4d2-4407-b062-8c4e89391604",
   "metadata": {},
   "source": [
    "Save the GMM model."
   ]
  },
  {
   "cell_type": "code",
   "execution_count": 24,
   "id": "5696e166",
   "metadata": {},
   "outputs": [],
   "source": [
    "for i, sX in enumerate(full_sXs):\n",
    "    sX.to_csv(\"../Data/IPUMS/Synthetic Datasets/gmm_and_mnl_\" + str(i) + \".csv\", index=False)\n",
    "\n",
    "# save\n",
    "with open('../Results/IPUMS/Models/gmm_and_mnl.pkl','wb') as f:\n",
    "    pickle.dump(GMM,f)"
   ]
  },
  {
   "cell_type": "code",
   "execution_count": null,
   "id": "c4a7eb3c-a193-43af-8c68-7485e26ea9ad",
   "metadata": {},
   "outputs": [],
   "source": [
    "full_sXs = [pd.read_csv(\"../Data/IPUMS/Synthetic Datasets/gmm_and_mnl_\" + str(i) + \".csv\") for i in range(20)]\n",
    "\n",
    "# load\n",
    "with open('../Results/IPUMS/Models/gmm_and_mnl.pkl', 'rb') as f:\n",
    "    GMM = pickle.load(f)"
   ]
  },
  {
   "cell_type": "markdown",
   "id": "58cacd36",
   "metadata": {},
   "source": [
    "***"
   ]
  },
  {
   "cell_type": "markdown",
   "id": "b72119d1-651c-44f6-8aa8-ebb78ead1612",
   "metadata": {},
   "source": [
    "Now apply the attribute disclosure prevention algorithm."
   ]
  },
  {
   "cell_type": "markdown",
   "id": "d8cd4886-7e27-4dd4-8bc1-b233005739a4",
   "metadata": {},
   "source": [
    "We don't have a great baseline for the probability of being non-white, so we'll just use the proportion from the data."
   ]
  },
  {
   "cell_type": "code",
   "execution_count": null,
   "id": "88c6af3f-3cab-4e33-a560-f46912830014",
   "metadata": {},
   "outputs": [],
   "source": [
    "prior = np.mean(train_data.non_white == 1)"
   ]
  },
  {
   "cell_type": "code",
   "execution_count": null,
   "id": "74ba110f-a281-48dd-8cec-11a655c608d2",
   "metadata": {},
   "outputs": [],
   "source": [
    "prior"
   ]
  },
  {
   "cell_type": "markdown",
   "id": "e178a0d7-d1c7-4614-b3e5-c28c22a05fe8",
   "metadata": {},
   "source": [
    "For our threshold, we select $c = 10$, i.e., we are allowing for a 10x increase in the probability of an adversary inferring the non-white status based on the synthetic data. This is a relatively large increase. For example, this means going from XXX under the prior to no more than XXX under the updated probability."
   ]
  },
  {
   "cell_type": "code",
   "execution_count": null,
   "id": "5fa7a9b2-b85f-4ea2-91af-bb1abe52c99a",
   "metadata": {},
   "outputs": [],
   "source": [
    "c = 3"
   ]
  },
  {
   "cell_type": "markdown",
   "id": "4f9af607-7813-4bb1-bccc-b206b0751f93",
   "metadata": {},
   "source": [
    "We provide a range of $\\delta$ values over which to evaluate and prevent attribute disclosure."
   ]
  },
  {
   "cell_type": "code",
   "execution_count": null,
   "id": "b0a7c9cd-af8c-4046-8439-9010becd8f3a",
   "metadata": {},
   "outputs": [],
   "source": [
    "deltas = np.linspace(0.001, 0.1, 3)"
   ]
  },
  {
   "cell_type": "code",
   "execution_count": null,
   "id": "e1e2b9e2-755c-449c-befd-a73a9ece72f9",
   "metadata": {},
   "outputs": [],
   "source": [
    "ad_sXs = [attribute_disclosure_reduction(original_data=train_data, \n",
    "                                         synthetic_data=X,\n",
    "                                         continuous_vars=['incwage', 'years_of_educ', 'potential_experience'],\n",
    "                                         categorical_vars=['sex'],\n",
    "                                         sensitive_var='non_white',\n",
    "                                         mixture_model=GMM,\n",
    "                                         deltas=deltas, \n",
    "                                         c=c, \n",
    "                                         prior_prob=prior) for X in full_sXs]"
   ]
  },
  {
   "cell_type": "code",
   "execution_count": null,
   "id": "12e441d9-7ac5-43b7-8366-9e01069471eb",
   "metadata": {},
   "outputs": [],
   "source": [
    "for i, sX in enumerate(ad_sXs):\n",
    "    sX.to_csv(\"../Data/IPUMS/Synthetic Datasets/ad_gmm_and_mnl_\" + str(i) + \".csv\", index=False)"
   ]
  },
  {
   "cell_type": "code",
   "execution_count": null,
   "id": "4d9e7c5f-02be-4fa9-be5d-94f600d48c76",
   "metadata": {},
   "outputs": [],
   "source": []
  }
 ],
 "metadata": {
  "kernelspec": {
   "display_name": "Python 3 (ipykernel)",
   "language": "python",
   "name": "python3"
  },
  "language_info": {
   "codemirror_mode": {
    "name": "ipython",
    "version": 3
   },
   "file_extension": ".py",
   "mimetype": "text/x-python",
   "name": "python",
   "nbconvert_exporter": "python",
   "pygments_lexer": "ipython3",
   "version": "3.11.7"
  }
 },
 "nbformat": 4,
 "nbformat_minor": 5
}
