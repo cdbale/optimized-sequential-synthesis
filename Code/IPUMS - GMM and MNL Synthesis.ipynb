{
 "cells": [
  {
   "cell_type": "markdown",
   "id": "96f48262",
   "metadata": {},
   "source": [
    "This notebook performs the synthesis using our proposed synthesization approach applied to the IPUMS data. The synthesis model is a CART. Logistic regression with three way interactions is used as the pMSE model."
   ]
  },
  {
   "cell_type": "code",
   "execution_count": 1,
   "id": "2d3f5c21",
   "metadata": {},
   "outputs": [],
   "source": [
    "from sklearn.mixture import GaussianMixture\n",
    "import matplotlib.pyplot as plt\n",
    "import itertools\n",
    "\n",
    "from bayes_opt import BayesianOptimization\n",
    "from bayes_opt import UtilityFunction\n",
    "\n",
    "from helper_functions import *\n",
    "\n",
    "rng = np.random.RandomState(42)"
   ]
  },
  {
   "cell_type": "markdown",
   "id": "76a8ccbc",
   "metadata": {},
   "source": [
    "Import the data."
   ]
  },
  {
   "cell_type": "code",
   "execution_count": 2,
   "id": "730c2f2e",
   "metadata": {},
   "outputs": [],
   "source": [
    "# import standardized lat/long location data\n",
    "train = pd.read_csv(\"../Data/IPUMS/cleaned_ipums_data.csv\")"
   ]
  },
  {
   "cell_type": "markdown",
   "id": "6584fe74",
   "metadata": {},
   "source": [
    "***"
   ]
  },
  {
   "cell_type": "code",
   "execution_count": 3,
   "id": "d2dcd1a5",
   "metadata": {},
   "outputs": [
    {
     "data": {
      "text/html": [
       "<div>\n",
       "<style scoped>\n",
       "    .dataframe tbody tr th:only-of-type {\n",
       "        vertical-align: middle;\n",
       "    }\n",
       "\n",
       "    .dataframe tbody tr th {\n",
       "        vertical-align: top;\n",
       "    }\n",
       "\n",
       "    .dataframe thead th {\n",
       "        text-align: right;\n",
       "    }\n",
       "</style>\n",
       "<table border=\"1\" class=\"dataframe\">\n",
       "  <thead>\n",
       "    <tr style=\"text-align: right;\">\n",
       "      <th></th>\n",
       "      <th>incwage</th>\n",
       "      <th>years_of_educ</th>\n",
       "      <th>potential_experience</th>\n",
       "      <th>non_white</th>\n",
       "      <th>sex</th>\n",
       "    </tr>\n",
       "  </thead>\n",
       "  <tbody>\n",
       "    <tr>\n",
       "      <th>0</th>\n",
       "      <td>-0.579435</td>\n",
       "      <td>1.109071</td>\n",
       "      <td>-0.039398</td>\n",
       "      <td>0</td>\n",
       "      <td>1</td>\n",
       "    </tr>\n",
       "    <tr>\n",
       "      <th>1</th>\n",
       "      <td>0.564281</td>\n",
       "      <td>0.724424</td>\n",
       "      <td>0.369388</td>\n",
       "      <td>0</td>\n",
       "      <td>0</td>\n",
       "    </tr>\n",
       "    <tr>\n",
       "      <th>2</th>\n",
       "      <td>-0.748874</td>\n",
       "      <td>-0.044869</td>\n",
       "      <td>-1.347515</td>\n",
       "      <td>0</td>\n",
       "      <td>0</td>\n",
       "    </tr>\n",
       "    <tr>\n",
       "      <th>3</th>\n",
       "      <td>-0.935257</td>\n",
       "      <td>-0.814163</td>\n",
       "      <td>-1.511030</td>\n",
       "      <td>0</td>\n",
       "      <td>0</td>\n",
       "    </tr>\n",
       "    <tr>\n",
       "      <th>4</th>\n",
       "      <td>-0.164308</td>\n",
       "      <td>-0.429516</td>\n",
       "      <td>1.186962</td>\n",
       "      <td>1</td>\n",
       "      <td>0</td>\n",
       "    </tr>\n",
       "    <tr>\n",
       "      <th>...</th>\n",
       "      <td>...</td>\n",
       "      <td>...</td>\n",
       "      <td>...</td>\n",
       "      <td>...</td>\n",
       "      <td>...</td>\n",
       "    </tr>\n",
       "    <tr>\n",
       "      <th>197751</th>\n",
       "      <td>-0.092296</td>\n",
       "      <td>1.109071</td>\n",
       "      <td>-0.448185</td>\n",
       "      <td>0</td>\n",
       "      <td>0</td>\n",
       "    </tr>\n",
       "    <tr>\n",
       "      <th>197752</th>\n",
       "      <td>-0.854774</td>\n",
       "      <td>1.109071</td>\n",
       "      <td>-0.611699</td>\n",
       "      <td>0</td>\n",
       "      <td>1</td>\n",
       "    </tr>\n",
       "    <tr>\n",
       "      <th>197753</th>\n",
       "      <td>0.521921</td>\n",
       "      <td>1.777461</td>\n",
       "      <td>0.063806</td>\n",
       "      <td>0</td>\n",
       "      <td>0</td>\n",
       "    </tr>\n",
       "    <tr>\n",
       "      <th>197754</th>\n",
       "      <td>-0.981853</td>\n",
       "      <td>0.724424</td>\n",
       "      <td>-0.448185</td>\n",
       "      <td>0</td>\n",
       "      <td>1</td>\n",
       "    </tr>\n",
       "    <tr>\n",
       "      <th>197755</th>\n",
       "      <td>0.865036</td>\n",
       "      <td>1.109071</td>\n",
       "      <td>1.105204</td>\n",
       "      <td>0</td>\n",
       "      <td>0</td>\n",
       "    </tr>\n",
       "  </tbody>\n",
       "</table>\n",
       "<p>197756 rows × 5 columns</p>\n",
       "</div>"
      ],
      "text/plain": [
       "         incwage  years_of_educ  potential_experience  non_white  sex\n",
       "0      -0.579435       1.109071             -0.039398          0    1\n",
       "1       0.564281       0.724424              0.369388          0    0\n",
       "2      -0.748874      -0.044869             -1.347515          0    0\n",
       "3      -0.935257      -0.814163             -1.511030          0    0\n",
       "4      -0.164308      -0.429516              1.186962          1    0\n",
       "...          ...            ...                   ...        ...  ...\n",
       "197751 -0.092296       1.109071             -0.448185          0    0\n",
       "197752 -0.854774       1.109071             -0.611699          0    1\n",
       "197753  0.521921       1.777461              0.063806          0    0\n",
       "197754 -0.981853       0.724424             -0.448185          0    1\n",
       "197755  0.865036       1.109071              1.105204          0    0\n",
       "\n",
       "[197756 rows x 5 columns]"
      ]
     },
     "execution_count": 3,
     "metadata": {},
     "output_type": "execute_result"
    }
   ],
   "source": [
    "train"
   ]
  },
  {
   "cell_type": "markdown",
   "id": "14972140",
   "metadata": {},
   "source": [
    "***"
   ]
  },
  {
   "cell_type": "markdown",
   "id": "e53ef6c3",
   "metadata": {},
   "source": [
    "Functions for logistic and multinomial logistic regression synthesizer."
   ]
  },
  {
   "cell_type": "code",
   "execution_count": 4,
   "id": "6927923b",
   "metadata": {},
   "outputs": [],
   "source": [
    "def train_models_mn(#overall parameters\n",
    "                    train_data,\n",
    "                    number_synthetic_datasets,\n",
    "                    # hyperparameters for GMM, end with underscore means Bayesian optimization will choose\n",
    "                    number_gmm_initializations,\n",
    "                    num_components_,\n",
    "                    # hyperparameters for CART, end with underscore means Bayesian optimization will choose\n",
    "                    C_non_white_,\n",
    "                    C_sex_):\n",
    "    \n",
    "    num_samples = train_data.shape[0]\n",
    "    \n",
    "    ########## Code for GMM ############\n",
    "    \n",
    "    # fit GMM model\n",
    "    GMM = GaussianMixture(num_components_, n_init=number_gmm_initializations, init_params=\"k-means++\", random_state=rng).fit(train_data.loc[:,[\"incwage\", \"years_of_educ\", \"potential_experience\"]])\n",
    "    \n",
    "    # list for synthetic datasets\n",
    "    sXs = []\n",
    "    \n",
    "    # generate and store number_synthetic_datasets synthetic datasets\n",
    "    for i in range(number_synthetic_datasets):\n",
    "        sX = GMM.sample(num_samples)[0]\n",
    "        sX = pd.DataFrame(sX)\n",
    "        sX.columns = [\"incwage\", \"years_of_educ\", \"potential_experience\"]\n",
    "        sXs.append(sX)\n",
    "        \n",
    "    ####################################################################################################\n",
    "        \n",
    "    ########### Code for non-white MN ##########\n",
    "    \n",
    "    synth_non_white_vars = multinomial_synthesizer(orig_data=train_data.loc[:,[\"incwage\", \"years_of_educ\", \"potential_experience\"]], \n",
    "                                                   synth_data_sets=sXs, \n",
    "                                                   target=train_data.non_white, \n",
    "                                                   penalty_param=C_non_white_)\n",
    "    \n",
    "    sXs = [pd.concat([Y, synth_non_white_vars[i]], axis=1) for i,Y in enumerate(sXs)]\n",
    "        \n",
    "    ####################################################################################################\n",
    "        \n",
    "    ########### Code for sex MN ##########\n",
    "    \n",
    "    synth_sex_vars = multinomial_synthesizer(orig_data=train_data.loc[:,[\"incwage\", \"years_of_educ\", \"potential_experience\", \"non_white\"]], \n",
    "                                             synth_data_sets=sXs, \n",
    "                                             target=train_data.sex, \n",
    "                                             penalty_param=C_sex_)\n",
    "    \n",
    "    sXs = [pd.concat([Y, synth_sex_vars[i]], axis=1) for i,Y in enumerate(sXs)]\n",
    "        \n",
    "    ####################################################################################################\n",
    "        \n",
    "    ###### Calculate pMSE ratios ######\n",
    "    pmse_ratios = [pmse_ratio(train_data, Y) for Y in sXs]\n",
    "    \n",
    "    return pmse_ratios, sXs"
   ]
  },
  {
   "cell_type": "code",
   "execution_count": 5,
   "id": "51b65e19",
   "metadata": {},
   "outputs": [],
   "source": [
    "def optimize_models_mn(train_data,\n",
    "                       number_synthetic_datasets,\n",
    "                       number_gmm_initializations,\n",
    "                       random_state):\n",
    "\n",
    "    def evaluate_models(num_components_, C_non_white_, C_sex_):\n",
    "\n",
    "        pmse_ratios, _ = train_models_mn(train_data=train_data,\n",
    "                                         number_synthetic_datasets=number_synthetic_datasets,\n",
    "                                         number_gmm_initializations=number_gmm_initializations,\n",
    "                                         num_components_=int(num_components_),\n",
    "                                         C_non_white_=C_non_white_,\n",
    "                                         C_sex_=C_sex_)\n",
    "        \n",
    "        return -1 * ((1 - np.mean(pmse_ratios))**2)\n",
    "\n",
    "    optimizer = BayesianOptimization(\n",
    "        f=evaluate_models,\n",
    "        pbounds={\n",
    "            \"num_components_\": (10, 200.99),\n",
    "            \"C_non_white_\": (0.001, 3),\n",
    "            \"C_sex_\": (0.001, 3)\n",
    "        },\n",
    "        random_state=random_state)\n",
    "    \n",
    "    utility = UtilityFunction(kind=\"ei\", xi=1e-02)\n",
    "    optimizer.maximize(init_points=5, n_iter=25, acquisition_function=utility)\n",
    "    print(\"Final Result: \", optimizer.max)\n",
    "    return optimizer.max, optimizer"
   ]
  },
  {
   "cell_type": "markdown",
   "id": "4d4d62c3",
   "metadata": {},
   "source": [
    "The default value for $\\alpha = 1e-06$."
   ]
  },
  {
   "cell_type": "code",
   "execution_count": 6,
   "id": "13b295a6",
   "metadata": {},
   "outputs": [],
   "source": [
    "nsd = 10\n",
    "ngi = 2\n",
    "random_states = [np.random.RandomState(1006), np.random.RandomState(428)]"
   ]
  },
  {
   "cell_type": "code",
   "execution_count": 7,
   "id": "93c78ab1",
   "metadata": {},
   "outputs": [
    {
     "name": "stdout",
     "output_type": "stream",
     "text": [
      "|   iter    |  target   | C_non_... |  C_sex_   | num_co... |\n",
      "-------------------------------------------------------------\n",
      "| \u001b[30m1         | \u001b[30m-0.0683   | \u001b[30m2.23      | \u001b[30m0.68      | \u001b[30m132.7     |\n",
      "| \u001b[30m2         | \u001b[30m-0.1942   | \u001b[30m2.647     | \u001b[30m2.222     | \u001b[30m147.8     |\n",
      "| \u001b[30m3         | \u001b[30m-571.6    | \u001b[30m0.8867    | \u001b[30m1.577     | \u001b[30m43.19     |\n",
      "| \u001b[30m4         | \u001b[30m-0.9982   | \u001b[30m2.436     | \u001b[30m2.548     | \u001b[30m58.99     |\n",
      "| \u001b[30m5         | \u001b[30m-72.81    | \u001b[30m0.7125    | \u001b[30m1.376     | \u001b[30m53.72     |\n",
      "| \u001b[35m6         | \u001b[35m-0.02681  | \u001b[35m2.438     | \u001b[35m1.451     | \u001b[35m140.2     |\n",
      "| \u001b[30m7         | \u001b[30m-207.5    | \u001b[30m0.001     | \u001b[30m0.001     | \u001b[30m68.64     |\n",
      "| \u001b[30m8         | \u001b[30m-194.0    | \u001b[30m0.001     | \u001b[30m0.001     | \u001b[30m156.5     |\n",
      "| \u001b[30m9         | \u001b[30m-13.24    | \u001b[30m0.001     | \u001b[30m3.0       | \u001b[30m144.2     |\n",
      "| \u001b[30m10        | \u001b[30m-0.0282   | \u001b[30m3.0       | \u001b[30m3.0       | \u001b[30m123.4     |\n",
      "| \u001b[30m11        | \u001b[30m-172.0    | \u001b[30m0.001     | \u001b[30m0.001     | \u001b[30m114.6     |\n",
      "| \u001b[30m12        | \u001b[30m-11.44    | \u001b[30m0.001     | \u001b[30m3.0       | \u001b[30m128.0     |\n",
      "| \u001b[30m13        | \u001b[30m-92.43    | \u001b[30m3.0       | \u001b[30m0.001     | \u001b[30m127.1     |\n",
      "| \u001b[30m14        | \u001b[30m-12.56    | \u001b[30m0.001     | \u001b[30m3.0       | \u001b[30m135.0     |\n",
      "| \u001b[30m15        | \u001b[30m-110.1    | \u001b[30m3.0       | \u001b[30m0.001     | \u001b[30m144.7     |\n",
      "| \u001b[35m16        | \u001b[35m-0.004481 | \u001b[35m3.0       | \u001b[35m3.0       | \u001b[35m137.2     |\n",
      "| \u001b[30m17        | \u001b[30m-110.8    | \u001b[30m1.267     | \u001b[30m0.001     | \u001b[30m136.8     |\n",
      "| \u001b[30m18        | \u001b[30m-0.004779 | \u001b[30m2.879     | \u001b[30m3.0       | \u001b[30m132.0     |\n",
      "| \u001b[30m19        | \u001b[30m-0.01636  | \u001b[30m3.0       | \u001b[30m3.0       | \u001b[30m140.7     |\n",
      "| \u001b[30m20        | \u001b[30m-15.0     | \u001b[30m0.001     | \u001b[30m3.0       | \u001b[30m148.7     |\n",
      "| \u001b[30m21        | \u001b[30m-12.74    | \u001b[30m0.001     | \u001b[30m3.0       | \u001b[30m131.7     |\n",
      "| \u001b[30m22        | \u001b[30m-12.87    | \u001b[30m0.001     | \u001b[30m3.0       | \u001b[30m123.1     |\n",
      "| \u001b[30m23        | \u001b[30m-0.02678  | \u001b[30m1.815     | \u001b[30m2.234     | \u001b[30m201.0     |\n",
      "| \u001b[30m24        | \u001b[30m-0.141    | \u001b[30m3.0       | \u001b[30m2.504     | \u001b[30m195.4     |\n",
      "| \u001b[30m25        | \u001b[30m-183.0    | \u001b[30m0.001     | \u001b[30m0.001     | \u001b[30m197.3     |\n",
      "| \u001b[30m26        | \u001b[30m-0.005449 | \u001b[30m3.0       | \u001b[30m3.0       | \u001b[30m201.0     |\n",
      "| \u001b[35m27        | \u001b[35m-0.000154 | \u001b[35m3.0       | \u001b[35m3.0       | \u001b[35m190.9     |\n",
      "| \u001b[30m28        | \u001b[30m-0.01182  | \u001b[30m3.0       | \u001b[30m3.0       | \u001b[30m183.9     |\n",
      "| \u001b[30m29        | \u001b[30m-96.66    | \u001b[30m3.0       | \u001b[30m0.001     | \u001b[30m179.1     |\n",
      "| \u001b[30m30        | \u001b[30m-13.81    | \u001b[30m0.001     | \u001b[30m3.0       | \u001b[30m186.3     |\n",
      "=============================================================\n",
      "Final Result:  {'target': -0.00015463554939814612, 'params': {'C_non_white_': 3.0, 'C_sex_': 3.0, 'num_components_': 190.86200445355928}}\n",
      "|   iter    |  target   | C_non_... |  C_sex_   | num_co... |\n",
      "-------------------------------------------------------------\n",
      "| \u001b[30m1         | \u001b[30m-0.1005   | \u001b[30m2.455     | \u001b[30m2.623     | \u001b[30m89.92     |\n",
      "| \u001b[30m2         | \u001b[30m-4.604e+0 | \u001b[30m1.336     | \u001b[30m0.3865    | \u001b[30m30.04     |\n",
      "| \u001b[30m3         | \u001b[30m-68.96    | \u001b[30m1.939     | \u001b[30m2.886     | \u001b[30m65.53     |\n",
      "| \u001b[30m4         | \u001b[30m-16.63    | \u001b[30m0.2011    | \u001b[30m1.478     | \u001b[30m86.85     |\n",
      "| \u001b[30m5         | \u001b[30m-2.355e+0 | \u001b[30m0.6546    | \u001b[30m2.504     | \u001b[30m44.79     |\n",
      "| \u001b[30m6         | \u001b[30m-1.025    | \u001b[30m3.0       | \u001b[30m3.0       | \u001b[30m128.9     |\n",
      "| \u001b[30m7         | \u001b[30m-0.1442   | \u001b[30m3.0       | \u001b[30m3.0       | \u001b[30m163.9     |\n",
      "| \u001b[30m8         | \u001b[30m-192.8    | \u001b[30m0.001     | \u001b[30m0.001     | \u001b[30m201.0     |\n",
      "| \u001b[30m9         | \u001b[30m-196.6    | \u001b[30m0.001     | \u001b[30m0.001     | \u001b[30m146.7     |\n",
      "| \u001b[30m10        | \u001b[30m-94.66    | \u001b[30m3.0       | \u001b[30m0.001     | \u001b[30m181.1     |\n",
      "| \u001b[30m11        | \u001b[30m-17.8     | \u001b[30m0.001     | \u001b[30m3.0       | \u001b[30m111.5     |\n",
      "| \u001b[30m12        | \u001b[30m-7.185    | \u001b[30m3.0       | \u001b[30m3.0       | \u001b[30m75.82     |\n",
      "| \u001b[30m13        | \u001b[30m-82.11    | \u001b[30m3.0       | \u001b[30m0.001     | \u001b[30m102.6     |\n",
      "| \u001b[30m14        | \u001b[30m-16.41    | \u001b[30m0.001     | \u001b[30m3.0       | \u001b[30m171.6     |\n",
      "| \u001b[30m15        | \u001b[30m-31.67    | \u001b[30m0.001     | \u001b[30m3.0       | \u001b[30m71.88     |\n",
      "| \u001b[30m16        | \u001b[30m-167.0    | \u001b[30m0.001     | \u001b[30m0.001     | \u001b[30m122.2     |\n",
      "| \u001b[30m17        | \u001b[30m-16.92    | \u001b[30m0.001     | \u001b[30m3.0       | \u001b[30m97.9      |\n",
      "| \u001b[30m18        | \u001b[30m-93.01    | \u001b[30m3.0       | \u001b[30m0.001     | \u001b[30m71.1      |\n",
      "| \u001b[35m19        | \u001b[35m-0.03933  | \u001b[35m3.0       | \u001b[35m3.0       | \u001b[35m115.9     |\n",
      "| \u001b[35m20        | \u001b[35m-0.0174   | \u001b[35m3.0       | \u001b[35m3.0       | \u001b[35m171.8     |\n",
      "| \u001b[30m21        | \u001b[30m-94.13    | \u001b[30m3.0       | \u001b[30m0.001     | \u001b[30m168.3     |\n",
      "| \u001b[30m22        | \u001b[30m-17.06    | \u001b[30m0.001     | \u001b[30m3.0       | \u001b[30m188.3     |\n",
      "| \u001b[30m23        | \u001b[30m-0.2406   | \u001b[30m3.0       | \u001b[30m3.0       | \u001b[30m138.8     |\n",
      "| \u001b[35m24        | \u001b[35m-0.007487 | \u001b[35m3.0       | \u001b[35m3.0       | \u001b[35m152.5     |\n",
      "| \u001b[30m25        | \u001b[30m-0.08811  | \u001b[30m3.0       | \u001b[30m3.0       | \u001b[30m84.92     |\n",
      "| \u001b[30m26        | \u001b[30m-39.08    | \u001b[30m0.001     | \u001b[30m3.0       | \u001b[30m88.79     |\n",
      "| \u001b[30m27        | \u001b[30m-61.59    | \u001b[30m3.0       | \u001b[30m0.001     | \u001b[30m88.03     |\n",
      "| \u001b[30m28        | \u001b[30m-6.268    | \u001b[30m3.0       | \u001b[30m3.0       | \u001b[30m98.94     |\n",
      "| \u001b[35m29        | \u001b[35m-1.51e-05 | \u001b[35m3.0       | \u001b[35m3.0       | \u001b[35m192.3     |\n",
      "| \u001b[30m30        | \u001b[30m-0.0183   | \u001b[30m3.0       | \u001b[30m3.0       | \u001b[30m185.3     |\n",
      "=============================================================\n",
      "Final Result:  {'target': -1.5104277118451726e-05, 'params': {'C_non_white_': 3.0, 'C_sex_': 3.0, 'num_components_': 192.32027882846802}}\n"
     ]
    }
   ],
   "source": [
    "optimization_results = [optimize_models_mn(train_data=train, number_synthetic_datasets=nsd, number_gmm_initializations=ngi, random_state=r) for r in random_states]"
   ]
  },
  {
   "cell_type": "code",
   "execution_count": 8,
   "id": "ea0b7024",
   "metadata": {},
   "outputs": [],
   "source": [
    "run_targets = [np.minimum.accumulate(-i[1].space.target) for i in optimization_results]"
   ]
  },
  {
   "cell_type": "code",
   "execution_count": 9,
   "id": "f4225965",
   "metadata": {},
   "outputs": [
    {
     "data": {
      "image/png": "[encoded data removed]",
      "text/plain": [
       "<Figure size 640x480 with 1 Axes>"
      ]
     },
     "metadata": {},
     "output_type": "display_data"
    }
   ],
   "source": [
    "plt.plot(run_targets[0])\n",
    "plt.scatter(np.arange(len(run_targets[0])), run_targets[0], s=6)\n",
    "plt.plot(run_targets[1])\n",
    "plt.scatter(np.arange(len(run_targets[1])), run_targets[1], s=6)\n",
    "plt.title(\"Running Minimum Objective Value for MNL Synthesis\")\n",
    "plt.xlabel(\"Iteration\")\n",
    "plt.ylabel(\"Minimum Objective Value\")\n",
    "plt.show()"
   ]
  },
  {
   "cell_type": "markdown",
   "id": "34094ad9",
   "metadata": {},
   "source": [
    "Choose the params that gave the best objective value across all random seeds."
   ]
  },
  {
   "cell_type": "code",
   "execution_count": 10,
   "id": "81eccd8d",
   "metadata": {},
   "outputs": [],
   "source": [
    "best_params = optimization_results[np.argmax([x[0]['target'] for x in optimization_results])][0]"
   ]
  },
  {
   "cell_type": "code",
   "execution_count": 11,
   "id": "dbab5ac5",
   "metadata": {},
   "outputs": [
    {
     "data": {
      "text/plain": [
       "{'target': -1.5104277118451726e-05,\n",
       " 'params': {'C_non_white_': 3.0,\n",
       "  'C_sex_': 3.0,\n",
       "  'num_components_': 192.32027882846802}}"
      ]
     },
     "execution_count": 11,
     "metadata": {},
     "output_type": "execute_result"
    }
   ],
   "source": [
    "best_params"
   ]
  },
  {
   "cell_type": "markdown",
   "id": "cea1e3fa",
   "metadata": {},
   "source": [
    "Generate 20 synthetic data sets."
   ]
  },
  {
   "cell_type": "markdown",
   "id": "cdff6e28-1c59-4fd4-b5cf-3dc3df54d9d6",
   "metadata": {},
   "source": [
    "On occassion, the synthesis models will produce a significantly different fit than what was observed during the optimization process. In these cases, retrain the models until a fit (judged by the pMSE ratio) consistent with the optimization results is observed."
   ]
  },
  {
   "cell_type": "code",
   "execution_count": 31,
   "id": "643fb518",
   "metadata": {},
   "outputs": [],
   "source": [
    "pmse_ratios, full_sXs = train_models_mn(train_data=train,\n",
    "                                        number_synthetic_datasets=20,\n",
    "                                        # hyperparameters for GMM\n",
    "                                        number_gmm_initializations=ngi,\n",
    "                                        num_components_=int(best_params['params']['num_components_']),\n",
    "                                        # hyperparameters for CART, end with underscore means Bayesian optimization will choose\n",
    "                                        C_non_white_=best_params['params']['C_non_white_'],\n",
    "                                        C_sex_=best_params['params']['C_sex_'])"
   ]
  },
  {
   "cell_type": "code",
   "execution_count": 32,
   "id": "694c3a3e",
   "metadata": {},
   "outputs": [
    {
     "data": {
      "text/plain": [
       "1.00204204294548"
      ]
     },
     "execution_count": 32,
     "metadata": {},
     "output_type": "execute_result"
    }
   ],
   "source": [
    "np.mean(pmse_ratios)"
   ]
  },
  {
   "cell_type": "code",
   "execution_count": 33,
   "id": "5ea8b232",
   "metadata": {},
   "outputs": [
    {
     "data": {
      "image/png": "[encoded data removed]",
      "text/plain": [
       "<Figure size 640x480 with 1 Axes>"
      ]
     },
     "metadata": {},
     "output_type": "display_data"
    }
   ],
   "source": [
    "plt.violinplot(pmse_ratios)\n",
    "plt.xlabel(\"Density\")\n",
    "plt.ylabel(\"pMSE Ratio\")\n",
    "plt.title(\"Distribution of pMSE Ratios\")\n",
    "plt.show()"
   ]
  },
  {
   "cell_type": "markdown",
   "id": "c7c4b464",
   "metadata": {},
   "source": [
    "# Save the synthetic datasets."
   ]
  },
  {
   "cell_type": "code",
   "execution_count": 34,
   "id": "5696e166",
   "metadata": {},
   "outputs": [],
   "source": [
    "for i, sX in enumerate(full_sXs):\n",
    "    sX.to_csv(\"../Data/IPUMS/Synthetic Datasets/gmm_and_mnl_\" + str(i) + \".csv\", index=False)"
   ]
  },
  {
   "cell_type": "markdown",
   "id": "58cacd36",
   "metadata": {},
   "source": [
    "***"
   ]
  }
 ],
 "metadata": {
  "kernelspec": {
   "display_name": "Python 3 (ipykernel)",
   "language": "python",
   "name": "python3"
  },
  "language_info": {
   "codemirror_mode": {
    "name": "ipython",
    "version": 3
   },
   "file_extension": ".py",
   "mimetype": "text/x-python",
   "name": "python",
   "nbconvert_exporter": "python",
   "pygments_lexer": "ipython3",
   "version": "3.11.7"
  }
 },
 "nbformat": 4,
 "nbformat_minor": 5
}
