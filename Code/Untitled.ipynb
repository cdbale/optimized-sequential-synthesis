{
 "cells": [
  {
   "cell_type": "code",
   "execution_count": 1,
   "id": "daf543ab-27c9-45aa-8639-6ca8200cbfa2",
   "metadata": {},
   "outputs": [
    {
     "data": {
      "text/html": [
       "<pre style=\"white-space:pre;overflow-x:auto;line-height:normal;font-family:Menlo,'DejaVu Sans Mono',consolas,'Courier New',monospace\">╭─────────────────────────────────────╮\n",
       "│ <span style=\"color: #800000; text-decoration-color: #800000; font-weight: bold\">HTTP 400: Invalid UUID string: null</span> │\n",
       "╰─────────────────────────────────────╯\n",
       "</pre>\n"
      ],
      "text/plain": [
       "╭─────────────────────────────────────╮\n",
       "│ \u001b[1;31mHTTP 400: Invalid UUID string: null\u001b[0m │\n",
       "╰─────────────────────────────────────╯\n"
      ]
     },
     "metadata": {},
     "output_type": "display_data"
    },
    {
     "ename": "APIStatusError",
     "evalue": "HTTP 400: Invalid UUID string: null",
     "output_type": "error",
     "traceback": [
      "\u001b[1;31m---------------------------------------------------------------------------\u001b[0m",
      "\u001b[1;31mHTTPStatusError\u001b[0m                           Traceback (most recent call last)",
      "File \u001b[1;32m~\\AppData\\Roaming\\Python\\Python311\\site-packages\\mostlyai\\base.py:111\u001b[0m, in \u001b[0;36m_MostlyBaseClient.request\u001b[1;34m(self, path, verb, response_type, raw_response, is_api_call, do_include_client, extra_key_values, **kwargs)\u001b[0m\n\u001b[0;32m    110\u001b[0m         response \u001b[38;5;241m=\u001b[39m client\u001b[38;5;241m.\u001b[39mrequest(method\u001b[38;5;241m=\u001b[39mverb, url\u001b[38;5;241m=\u001b[39mfull_url, \u001b[38;5;241m*\u001b[39m\u001b[38;5;241m*\u001b[39mkwargs)\n\u001b[1;32m--> 111\u001b[0m     response\u001b[38;5;241m.\u001b[39mraise_for_status()\n\u001b[0;32m    112\u001b[0m \u001b[38;5;28;01mexcept\u001b[39;00m httpx\u001b[38;5;241m.\u001b[39mHTTPStatusError \u001b[38;5;28;01mas\u001b[39;00m exc:\n",
      "File \u001b[1;32m~\\AppData\\Roaming\\Python\\Python311\\site-packages\\httpx\\_models.py:761\u001b[0m, in \u001b[0;36mResponse.raise_for_status\u001b[1;34m(self)\u001b[0m\n\u001b[0;32m    760\u001b[0m message \u001b[38;5;241m=\u001b[39m message\u001b[38;5;241m.\u001b[39mformat(\u001b[38;5;28mself\u001b[39m, error_type\u001b[38;5;241m=\u001b[39merror_type)\n\u001b[1;32m--> 761\u001b[0m \u001b[38;5;28;01mraise\u001b[39;00m HTTPStatusError(message, request\u001b[38;5;241m=\u001b[39mrequest, response\u001b[38;5;241m=\u001b[39m\u001b[38;5;28mself\u001b[39m)\n",
      "\u001b[1;31mHTTPStatusError\u001b[0m: Client error '400 ' for url 'https://app.mostly.ai/api/v2/synthetic-probes'\nFor more information check: https://developer.mozilla.org/en-US/docs/Web/HTTP/Status/400",
      "\nThe above exception was the direct cause of the following exception:\n",
      "\u001b[1;31mAPIStatusError\u001b[0m                            Traceback (most recent call last)",
      "Cell \u001b[1;32mIn[1], line 12\u001b[0m\n\u001b[0;32m      9\u001b[0m config\n\u001b[0;32m     11\u001b[0m \u001b[38;5;66;03m# probe the generator for some samples\u001b[39;00m\n\u001b[1;32m---> 12\u001b[0m mostly\u001b[38;5;241m.\u001b[39mprobe(\u001b[38;5;124m'\u001b[39m\u001b[38;5;124m6a19773e-9bd7-402a-aa65-a75e1e688c26\u001b[39m\u001b[38;5;124m'\u001b[39m, size\u001b[38;5;241m=\u001b[39m\u001b[38;5;241m10\u001b[39m)\n\u001b[0;32m     14\u001b[0m \u001b[38;5;66;03m# use generator to create a synthetic dataset\u001b[39;00m\n\u001b[0;32m     15\u001b[0m sd \u001b[38;5;241m=\u001b[39m mostly\u001b[38;5;241m.\u001b[39mgenerate(\u001b[38;5;124m'\u001b[39m\u001b[38;5;124m6a19773e-9bd7-402a-aa65-a75e1e688c26\u001b[39m\u001b[38;5;124m'\u001b[39m, size\u001b[38;5;241m=\u001b[39m\u001b[38;5;241m2_000\u001b[39m)\n",
      "File \u001b[1;32m~\\AppData\\Roaming\\Python\\Python311\\site-packages\\mostlyai\\api.py:325\u001b[0m, in \u001b[0;36mMostlyAI.probe\u001b[1;34m(self, generator, size, seed, config, return_type)\u001b[0m\n\u001b[0;32m    309\u001b[0m \u001b[38;5;250m\u001b[39m\u001b[38;5;124;03m\"\"\"\u001b[39;00m\n\u001b[0;32m    310\u001b[0m \u001b[38;5;124;03mProbe a generator\u001b[39;00m\n\u001b[0;32m    311\u001b[0m \n\u001b[1;32m   (...)\u001b[0m\n\u001b[0;32m    316\u001b[0m \u001b[38;5;124;03m:return: The created synthetic probe.\u001b[39;00m\n\u001b[0;32m    317\u001b[0m \u001b[38;5;124;03m\"\"\"\u001b[39;00m\n\u001b[0;32m    318\u001b[0m config \u001b[38;5;241m=\u001b[39m _harmonize_sd_config(\n\u001b[0;32m    319\u001b[0m     generator,\n\u001b[0;32m    320\u001b[0m     get_generator\u001b[38;5;241m=\u001b[39m\u001b[38;5;28mself\u001b[39m\u001b[38;5;241m.\u001b[39mgenerators\u001b[38;5;241m.\u001b[39mget,\n\u001b[1;32m   (...)\u001b[0m\n\u001b[0;32m    323\u001b[0m     config\u001b[38;5;241m=\u001b[39mconfig,\n\u001b[0;32m    324\u001b[0m )\n\u001b[1;32m--> 325\u001b[0m dfs \u001b[38;5;241m=\u001b[39m \u001b[38;5;28mself\u001b[39m\u001b[38;5;241m.\u001b[39msynthetic_probes\u001b[38;5;241m.\u001b[39mcreate(config)\n\u001b[0;32m    326\u001b[0m \u001b[38;5;28;01mif\u001b[39;00m return_type \u001b[38;5;241m==\u001b[39m \u001b[38;5;124m\"\u001b[39m\u001b[38;5;124mauto\u001b[39m\u001b[38;5;124m\"\u001b[39m \u001b[38;5;129;01mand\u001b[39;00m \u001b[38;5;28mlen\u001b[39m(dfs) \u001b[38;5;241m==\u001b[39m \u001b[38;5;241m1\u001b[39m:\n\u001b[0;32m    327\u001b[0m     \u001b[38;5;28;01mreturn\u001b[39;00m \u001b[38;5;28mlist\u001b[39m(dfs\u001b[38;5;241m.\u001b[39mvalues())[\u001b[38;5;241m0\u001b[39m]\n",
      "File \u001b[1;32m~\\AppData\\Roaming\\Python\\Python311\\site-packages\\mostlyai\\synthetic_datasets.py:199\u001b[0m, in \u001b[0;36m_MostlySyntheticProbesClient.create\u001b[1;34m(self, config)\u001b[0m\n\u001b[0;32m    188\u001b[0m \u001b[38;5;28;01mdef\u001b[39;00m \u001b[38;5;21mcreate\u001b[39m(\n\u001b[0;32m    189\u001b[0m     \u001b[38;5;28mself\u001b[39m, config: \u001b[38;5;28mdict\u001b[39m[\u001b[38;5;28mstr\u001b[39m, Any]\n\u001b[0;32m    190\u001b[0m ) \u001b[38;5;241m-\u001b[39m\u001b[38;5;241m>\u001b[39m Union[pd\u001b[38;5;241m.\u001b[39mDataFrame, \u001b[38;5;28mdict\u001b[39m[\u001b[38;5;28mstr\u001b[39m, pd\u001b[38;5;241m.\u001b[39mDataFrame]]:\n\u001b[0;32m    191\u001b[0m \u001b[38;5;250m    \u001b[39m\u001b[38;5;124;03m\"\"\"\u001b[39;00m\n\u001b[0;32m    192\u001b[0m \u001b[38;5;124;03m    Create synthetic probe\u001b[39;00m\n\u001b[0;32m    193\u001b[0m \n\u001b[1;32m   (...)\u001b[0m\n\u001b[0;32m    197\u001b[0m \u001b[38;5;124;03m    :return: The created synthetic dataset.\u001b[39;00m\n\u001b[0;32m    198\u001b[0m \u001b[38;5;124;03m    \"\"\"\u001b[39;00m\n\u001b[1;32m--> 199\u001b[0m     dicts \u001b[38;5;241m=\u001b[39m \u001b[38;5;28mself\u001b[39m\u001b[38;5;241m.\u001b[39mrequest(\n\u001b[0;32m    200\u001b[0m         verb\u001b[38;5;241m=\u001b[39mPOST,\n\u001b[0;32m    201\u001b[0m         path\u001b[38;5;241m=\u001b[39m[],\n\u001b[0;32m    202\u001b[0m         json\u001b[38;5;241m=\u001b[39m\u001b[38;5;28mdict\u001b[39m(config),\n\u001b[0;32m    203\u001b[0m     )\n\u001b[0;32m    204\u001b[0m     \u001b[38;5;28;01mreturn\u001b[39;00m {dct[\u001b[38;5;124m\"\u001b[39m\u001b[38;5;124mname\u001b[39m\u001b[38;5;124m\"\u001b[39m]: pd\u001b[38;5;241m.\u001b[39mDataFrame(dct[\u001b[38;5;124m\"\u001b[39m\u001b[38;5;124mrows\u001b[39m\u001b[38;5;124m\"\u001b[39m]) \u001b[38;5;28;01mfor\u001b[39;00m dct \u001b[38;5;129;01min\u001b[39;00m dicts}\n",
      "File \u001b[1;32m~\\AppData\\Roaming\\Python\\Python311\\site-packages\\mostlyai\\base.py:118\u001b[0m, in \u001b[0;36m_MostlyBaseClient.request\u001b[1;34m(self, path, verb, response_type, raw_response, is_api_call, do_include_client, extra_key_values, **kwargs)\u001b[0m\n\u001b[0;32m    116\u001b[0m         error_msg \u001b[38;5;241m=\u001b[39m exc\u001b[38;5;241m.\u001b[39mresponse\u001b[38;5;241m.\u001b[39mcontent\n\u001b[0;32m    117\u001b[0m     \u001b[38;5;66;03m# Handle HTTP errors (not in 2XX range)\u001b[39;00m\n\u001b[1;32m--> 118\u001b[0m     \u001b[38;5;28;01mraise\u001b[39;00m APIStatusError(\n\u001b[0;32m    119\u001b[0m         \u001b[38;5;124mf\u001b[39m\u001b[38;5;124m\"\u001b[39m\u001b[38;5;124mHTTP \u001b[39m\u001b[38;5;132;01m{\u001b[39;00mexc\u001b[38;5;241m.\u001b[39mresponse\u001b[38;5;241m.\u001b[39mstatus_code\u001b[38;5;132;01m}\u001b[39;00m\u001b[38;5;124m: \u001b[39m\u001b[38;5;132;01m{\u001b[39;00merror_msg\u001b[38;5;132;01m}\u001b[39;00m\u001b[38;5;124m\"\u001b[39m,\n\u001b[0;32m    120\u001b[0m     ) \u001b[38;5;28;01mfrom\u001b[39;00m \u001b[38;5;21;01mexc\u001b[39;00m\n\u001b[0;32m    121\u001b[0m \u001b[38;5;28;01mexcept\u001b[39;00m httpx\u001b[38;5;241m.\u001b[39mRequestError \u001b[38;5;28;01mas\u001b[39;00m exc:\n\u001b[0;32m    122\u001b[0m     \u001b[38;5;66;03m# Handle request errors (e.g., network issues)\u001b[39;00m\n\u001b[0;32m    123\u001b[0m     \u001b[38;5;28;01mraise\u001b[39;00m APIError(\n\u001b[0;32m    124\u001b[0m         \u001b[38;5;124mf\u001b[39m\u001b[38;5;124m\"\u001b[39m\u001b[38;5;124mAn error occurred while requesting \u001b[39m\u001b[38;5;132;01m{\u001b[39;00mexc\u001b[38;5;241m.\u001b[39mrequest\u001b[38;5;241m.\u001b[39murl\u001b[38;5;132;01m!r}\u001b[39;00m\u001b[38;5;124m.\u001b[39m\u001b[38;5;124m\"\u001b[39m\n\u001b[0;32m    125\u001b[0m     ) \u001b[38;5;28;01mfrom\u001b[39;00m \u001b[38;5;21;01mexc\u001b[39;00m\n",
      "\u001b[1;31mAPIStatusError\u001b[0m: HTTP 400: Invalid UUID string: null"
     ]
    }
   ],
   "source": [
    "from mostlyai import MostlyAI\n",
    "\n",
    "# initialize client\n",
    "mostly = MostlyAI(api_key='mostly-adcd77a4ca7523519dc19b4ec9c9a7f6e0b2e37e16599b4703b03944dc824ed2', base_url='https://app.mostly.ai')\n",
    "\n",
    "# fetch configuration via API\n",
    "g = mostly.generators.get('6a19773e-9bd7-402a-aa65-a75e1e688c26')\n",
    "config = g.config()\n",
    "config\n",
    "\n",
    "# probe the generator for some samples\n",
    "mostly.probe('6a19773e-9bd7-402a-aa65-a75e1e688c26', size=10)\n",
    "\n",
    "# use generator to create a synthetic dataset\n",
    "sd = mostly.generate('6a19773e-9bd7-402a-aa65-a75e1e688c26', size=2_000)\n",
    "sd.data()"
   ]
  },
  {
   "cell_type": "code",
   "execution_count": null,
   "id": "fdbb75b4-c0f5-4d25-8997-f43b6a3c630a",
   "metadata": {},
   "outputs": [],
   "source": []
  }
 ],
 "metadata": {
  "kernelspec": {
   "display_name": "Python 3 (ipykernel)",
   "language": "python",
   "name": "python3"
  },
  "language_info": {
   "codemirror_mode": {
    "name": "ipython",
    "version": 3
   },
   "file_extension": ".py",
   "mimetype": "text/x-python",
   "name": "python",
   "nbconvert_exporter": "python",
   "pygments_lexer": "ipython3",
   "version": "3.11.7"
  }
 },
 "nbformat": 4,
 "nbformat_minor": 5
}
