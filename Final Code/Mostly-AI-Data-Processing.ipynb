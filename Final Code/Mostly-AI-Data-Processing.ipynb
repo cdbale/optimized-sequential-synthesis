{
 "cells": [
  {
   "cell_type": "code",
   "execution_count": 1,
   "id": "a7c3a8bd",
   "metadata": {},
   "outputs": [],
   "source": [
    "import pandas as pd\n",
    "import numpy as np"
   ]
  },
  {
   "cell_type": "markdown",
   "id": "3d167071",
   "metadata": {},
   "source": [
    "Import and process the synthetic datasets for the holdout data version (a training dataset that is half of the original data)."
   ]
  },
  {
   "cell_type": "code",
   "execution_count": 2,
   "id": "62c2e9ff",
   "metadata": {},
   "outputs": [],
   "source": [
    "X = pd.read_csv(\"../Data/synthetic_datasets/mostly_synthetic.csv\")"
   ]
  },
  {
   "cell_type": "code",
   "execution_count": 3,
   "id": "2c2fe8d5",
   "metadata": {},
   "outputs": [],
   "source": [
    "sXs = np.array_split(X, 20)"
   ]
  },
  {
   "cell_type": "code",
   "execution_count": 4,
   "id": "b266081e",
   "metadata": {},
   "outputs": [],
   "source": [
    "for i,Y in enumerate(sXs):\n",
    "    Y.to_csv(\"../Data/synthetic_datasets/mostly_\" + str(i) + \".csv\", index=False)"
   ]
  },
  {
   "cell_type": "markdown",
   "id": "083f522a",
   "metadata": {},
   "source": [
    "***"
   ]
  }
 ],
 "metadata": {
  "kernelspec": {
   "display_name": "Python 3 (ipykernel)",
   "language": "python",
   "name": "python3"
  },
  "language_info": {
   "codemirror_mode": {
    "name": "ipython",
    "version": 3
   },
   "file_extension": ".py",
   "mimetype": "text/x-python",
   "name": "python",
   "nbconvert_exporter": "python",
   "pygments_lexer": "ipython3",
   "version": "3.10.9"
  }
 },
 "nbformat": 4,
 "nbformat_minor": 5
}
