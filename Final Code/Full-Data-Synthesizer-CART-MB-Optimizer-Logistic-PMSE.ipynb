{
 "cells": [
  {
   "cell_type": "markdown",
   "id": "96f48262",
   "metadata": {},
   "source": [
    "This notebook performs the synthesis using our proposed synthesization approach for the training data only (excludes the holdout data). The synthesis model is a CART. The model used for the KS-statistic calculation is also a CART."
   ]
  },
  {
   "cell_type": "code",
   "execution_count": 1,
   "id": "2d3f5c21",
   "metadata": {},
   "outputs": [],
   "source": [
    "import pandas as pd\n",
    "import numpy as np\n",
    "from numpy.random import default_rng\n",
    "from sklearn.mixture import GaussianMixture\n",
    "from scipy.spatial import cKDTree\n",
    "import matplotlib.pyplot as plt\n",
    "import seaborn as sns\n",
    "import itertools\n",
    "\n",
    "from sklearn import preprocessing\n",
    "\n",
    "from scipy.stats import ks_2samp\n",
    "\n",
    "from sklearn.tree import DecisionTreeClassifier\n",
    "\n",
    "import itertools\n",
    "\n",
    "from bayes_opt import BayesianOptimization\n",
    "from bayes_opt import UtilityFunction\n",
    "\n",
    "from sklearn.linear_model import LogisticRegression\n",
    "from sklearn.preprocessing import PolynomialFeatures\n",
    "\n",
    "from bayesian_bootstrap import bayesian_bootstrap\n",
    "\n",
    "rng = np.random.RandomState(42)"
   ]
  },
  {
   "cell_type": "markdown",
   "id": "57505dd1",
   "metadata": {},
   "source": [
    "Steps for CART estimation of pmse ratio.\n",
    "\n",
    "* calculate the pMSE between pairs of synthetic data sets generated from the same original data\n",
    "* the pairs can be used to estimate the expected pMSE even when the synthesizing model is incorrect since both data are drawn from the same distribution\n",
    "* for most large complex data sets, synthesized by CART models, the expected pMSE from pairs will be close to, or slightly lower than the null pMSE"
   ]
  },
  {
   "cell_type": "code",
   "execution_count": 2,
   "id": "a07ad9ba",
   "metadata": {},
   "outputs": [],
   "source": [
    "def pmse_ratio(original_data, synthetic_data):\n",
    "    \n",
    "    N_synth = synthetic_data.shape[0]\n",
    "    N_orig = original_data.shape[0]\n",
    "    \n",
    "    # combine original and synthetic datasets\n",
    "    full_X = pd.concat([original_data, synthetic_data], axis=0).reset_index(drop=True)\n",
    "    \n",
    "    # generate interactions and powers of variables\n",
    "    poly = PolynomialFeatures(2, interaction_only=False, include_bias=False)\n",
    "    \n",
    "    full_X = poly.fit_transform(full_X)\n",
    "\n",
    "    # scale the combined dataset\n",
    "    full_X = preprocessing.StandardScaler().fit_transform(full_X)\n",
    "    \n",
    "    c = N_synth/(N_synth+N_orig)\n",
    "\n",
    "    y = np.repeat([0, 1], repeats=[N_orig, N_synth])\n",
    "    \n",
    "    pMSE_model = LogisticRegression(penalty=None, max_iter=1000).fit(full_X, y)\n",
    "    \n",
    "    probs = pMSE_model.predict_proba(full_X)\n",
    "    \n",
    "    pMSE = 1/(N_synth+N_orig) * np.sum((probs[:,1] - c)**2)\n",
    "    \n",
    "    e_pMSE = 2*(full_X.shape[1])*(1-c)**2 * c/(N_synth+N_orig)\n",
    "        \n",
    "    return pMSE/e_pMSE"
   ]
  },
  {
   "cell_type": "markdown",
   "id": "76a8ccbc",
   "metadata": {},
   "source": [
    "Import the data."
   ]
  },
  {
   "cell_type": "code",
   "execution_count": 3,
   "id": "730c2f2e",
   "metadata": {},
   "outputs": [],
   "source": [
    "# import standardized lat/long location data\n",
    "train_data = pd.read_csv(\"../Data/cleaned_data.csv\")"
   ]
  },
  {
   "cell_type": "markdown",
   "id": "6f62abff",
   "metadata": {},
   "source": [
    "***"
   ]
  },
  {
   "cell_type": "markdown",
   "id": "5b8a741f",
   "metadata": {},
   "source": [
    "# Full Sequential Synthesis Driven by Bayesian Optimization"
   ]
  },
  {
   "cell_type": "markdown",
   "id": "8169fec7",
   "metadata": {},
   "source": [
    "Function to be used in Bayesian bootstrap."
   ]
  },
  {
   "cell_type": "code",
   "execution_count": 4,
   "id": "e80a8660",
   "metadata": {},
   "outputs": [],
   "source": [
    "def stat(x):\n",
    "    return x"
   ]
  },
  {
   "cell_type": "markdown",
   "id": "3a1688b8",
   "metadata": {},
   "source": [
    "Write function to train all models and generate the synthetic dataset, then evaluate the pMSE ratio."
   ]
  },
  {
   "cell_type": "code",
   "execution_count": 5,
   "id": "ab5f897a",
   "metadata": {},
   "outputs": [],
   "source": [
    "def train_models(#overall parameters\n",
    "                 train_data,\n",
    "                 number_synthetic_datasets,\n",
    "                 # hyperparameters for GMM, end with underscore means Bayesian optimization will choose\n",
    "                 number_gmm_initializations,\n",
    "                 num_components_,\n",
    "                 # hyperparameters for CART, end with underscore means Bayesian optimization will choose\n",
    "                 mb_sex_,\n",
    "                 mb_age_,\n",
    "                 mb_state_):\n",
    "    \n",
    "    num_samples = train_data.shape[0]\n",
    "    \n",
    "    ########## Code for GMM ############\n",
    "    \n",
    "    # fit GMM model\n",
    "    GMM = GaussianMixture(num_components_, n_init=number_gmm_initializations, init_params=\"k-means++\", random_state=rng).fit(train_data.loc[:,[\"latitude\", \"longitude\"]])\n",
    "    \n",
    "    # list for synthetic datasets\n",
    "    sXs = []\n",
    "    \n",
    "    # generate and store number_synthetic_datasets synthetic datasets\n",
    "    for i in range(number_synthetic_datasets):\n",
    "        sX = GMM.sample(num_samples)[0]\n",
    "        sX = pd.DataFrame(sX)\n",
    "        sX.columns = ['latitude', 'longitude']\n",
    "        sXs.append(sX)\n",
    "        \n",
    "    ####################################################################################################\n",
    "        \n",
    "    ########### Code for sex CART ##########\n",
    "    \n",
    "    cart_sex = DecisionTreeClassifier(min_samples_leaf=mb_sex_, random_state=rng)\n",
    "    \n",
    "    cart_sex.fit(X=train_data.loc[:,[\"latitude\", \"longitude\"]], y=train_data.loc[:,\"sex\"])\n",
    "    \n",
    "    node_indicators = cart_sex.decision_path(train_data.loc[:,[\"latitude\", \"longitude\"]]).toarray()\n",
    "    \n",
    "    node_outcomes = [train_data.sex[node_indicators[:,x]==1] for x in np.arange(node_indicators.shape[1])]\n",
    "    \n",
    "    # sample values according to a Bayesian bootstrap\n",
    "    \n",
    "    for i in range(number_synthetic_datasets):\n",
    "        \n",
    "        bst_vals = [bayesian_bootstrap(X=np.array(x), \n",
    "                                       statistic=stat,\n",
    "                                       n_replications=1,\n",
    "                                       resample_size=len(x))[0] for x in node_outcomes]\n",
    "        \n",
    "        synth_leaves = cart_sex.apply(sXs[i].loc[:,[\"latitude\", \"longitude\"]])\n",
    "        \n",
    "        new_sex = np.zeros(len(synth_leaves), dtype=int)\n",
    "        \n",
    "        for j, x in enumerate(np.arange(node_indicators.shape[1])):\n",
    "            \n",
    "            new_sex[synth_leaves==x] = rng.choice(bst_vals[x], size=np.sum(synth_leaves==x))\n",
    "        \n",
    "        new_sex = pd.Series(new_sex)\n",
    "        \n",
    "        new_sex.name = \"sex\"\n",
    "        \n",
    "        sXs[i] = pd.concat([sXs[i], new_sex], axis=1)\n",
    "        \n",
    "    ####################################################################################################\n",
    "        \n",
    "    ########### Code for age CART ##########\n",
    "    cart_age = DecisionTreeClassifier(min_samples_leaf=mb_age_, random_state=rng)\n",
    "    \n",
    "    cart_age.fit(X=train_data.loc[:,[\"latitude\", \"longitude\", \"sex\"]], y=train_data.loc[:,\"age\"])\n",
    "    \n",
    "    node_indicators = cart_age.decision_path(train_data.loc[:,[\"latitude\", \"longitude\", \"sex\"]]).toarray()\n",
    "    \n",
    "    node_outcomes = [train_data.age[node_indicators[:,x]==1] for x in np.arange(node_indicators.shape[1])]\n",
    "    \n",
    "    # sample values according to a Bayesian bootstrap\n",
    "    \n",
    "    for i in range(number_synthetic_datasets):\n",
    "        \n",
    "        bst_vals = [bayesian_bootstrap(X=np.array(x), \n",
    "                                       statistic=stat,\n",
    "                                       n_replications=1,\n",
    "                                       resample_size=len(x))[0] for x in node_outcomes]\n",
    "        \n",
    "        synth_leaves = cart_age.apply(sXs[i].loc[:,[\"latitude\", \"longitude\", \"sex\"]])\n",
    "        \n",
    "        new_age = np.zeros(len(synth_leaves), dtype=int)\n",
    "        \n",
    "        for j, x in enumerate(np.arange(node_indicators.shape[1])):\n",
    "            \n",
    "            new_age[synth_leaves==x] = rng.choice(bst_vals[x], size=np.sum(synth_leaves==x))\n",
    "        \n",
    "        new_age = pd.Series(new_age)\n",
    "        \n",
    "        new_age.name = \"age\"\n",
    "        \n",
    "        sXs[i] = pd.concat([sXs[i], new_age], axis=1)\n",
    "        \n",
    "    ####################################################################################################\n",
    "    \n",
    "    ########### Code for state CART ##########\n",
    "    \n",
    "    cart_state = DecisionTreeClassifier(min_samples_leaf=mb_state_, random_state=rng)\n",
    "    \n",
    "    cart_state.fit(X=train_data.loc[:,[\"latitude\", \"longitude\", \"sex\", \"age\"]], y=train_data.loc[:,\"state\"])\n",
    "    \n",
    "    node_indicators = cart_state.decision_path(train_data.loc[:,[\"latitude\", \"longitude\", \"sex\", \"age\"]]).toarray()\n",
    "    \n",
    "    node_outcomes = [train_data.state[node_indicators[:,x]==1] for x in np.arange(node_indicators.shape[1])]\n",
    "    \n",
    "    # sample values according to a Bayesian bootstrap\n",
    "    \n",
    "    for i in range(number_synthetic_datasets):\n",
    "        \n",
    "        bst_vals = [bayesian_bootstrap(X=np.array(x), \n",
    "                                       statistic=stat,\n",
    "                                       n_replications=1,\n",
    "                                       resample_size=len(x))[0] for x in node_outcomes]\n",
    "        \n",
    "        synth_leaves = cart_state.apply(sXs[i].loc[:,[\"latitude\", \"longitude\", \"sex\", \"age\"]])\n",
    "        \n",
    "        new_state = np.zeros(len(synth_leaves), dtype=int)\n",
    "        \n",
    "        for j, x in enumerate(np.arange(node_indicators.shape[1])):\n",
    "            \n",
    "            new_state[synth_leaves==x] = rng.choice(bst_vals[x], size=np.sum(synth_leaves==x))\n",
    "        \n",
    "        new_state = pd.Series(new_state)\n",
    "        \n",
    "        new_state.name = \"state\"\n",
    "        \n",
    "        sXs[i] = pd.concat([sXs[i], new_state], axis=1)\n",
    "        \n",
    "    ###### Calculate ks distances ######\n",
    "    pmse_ratios = [pmse_ratio(train_data, Y) for Y in sXs]\n",
    "    \n",
    "    return pmse_ratios, sXs, GMM, cart_sex, cart_age, cart_state"
   ]
  },
  {
   "cell_type": "code",
   "execution_count": 6,
   "id": "796d2f96",
   "metadata": {},
   "outputs": [],
   "source": [
    "def optimize_models(train_data,\n",
    "                    number_synthetic_datasets,\n",
    "                    number_gmm_initializations,\n",
    "                    random_state):\n",
    "\n",
    "    def evaluate_models(num_components_, mb_sex_, mb_age_, mb_state_):\n",
    "\n",
    "        pmse_ratios, _, _, _, _, _ = train_models(train_data=train_data,\n",
    "                                                  number_synthetic_datasets=number_synthetic_datasets,\n",
    "                                                  number_gmm_initializations=number_gmm_initializations,\n",
    "                                                  num_components_=int(num_components_),\n",
    "                                                  mb_sex_=int(mb_sex_),\n",
    "                                                  mb_age_=int(mb_age_),\n",
    "                                                  mb_state_=int(mb_state_))\n",
    "\n",
    "        return -1 * ((1 - np.mean(pmse_ratios))**2)\n",
    "\n",
    "    optimizer = BayesianOptimization(\n",
    "        f=evaluate_models,\n",
    "        pbounds={\n",
    "            \"num_components_\": (200, 800.99),\n",
    "            \"mb_sex_\": (2, 300.99),\n",
    "            \"mb_age_\": (2, 300.99),\n",
    "            \"mb_state_\": (2, 300.99)\n",
    "        },\n",
    "        random_state=random_state)\n",
    "\n",
    "    utility = UtilityFunction(kind=\"ei\", xi=1e-2)\n",
    "    optimizer.maximize(init_points=5, n_iter=25, acquisition_function=utility)\n",
    "    print(\"Final Result: \", optimizer.max)\n",
    "    return optimizer.max, optimizer"
   ]
  },
  {
   "cell_type": "markdown",
   "id": "5594760a",
   "metadata": {},
   "source": [
    "The default value of $\\alpha = 1e-06$."
   ]
  },
  {
   "cell_type": "code",
   "execution_count": 7,
   "id": "15d5ded7",
   "metadata": {},
   "outputs": [],
   "source": [
    "nsd = 20\n",
    "ngi = 5\n",
    "random_states = [np.random.RandomState(1234), np.random.RandomState(4321), np.random.RandomState(10620), np.random.RandomState(91695), np.random.RandomState(31296)]\n",
    "# random_states = [np.random.RandomState(1234)]"
   ]
  },
  {
   "cell_type": "code",
   "execution_count": 8,
   "id": "fe01e70f",
   "metadata": {},
   "outputs": [
    {
     "name": "stdout",
     "output_type": "stream",
     "text": [
      "|   iter    |  target   |  mb_age_  |  mb_sex_  | mb_state_ | num_co... |\n",
      "-------------------------------------------------------------------------\n",
      "| \u001b[0m1        \u001b[0m | \u001b[0m-0.1596  \u001b[0m | \u001b[0m59.26    \u001b[0m | \u001b[0m188.0    \u001b[0m | \u001b[0m132.9    \u001b[0m | \u001b[0m672.0    \u001b[0m |\n",
      "| \u001b[0m2        \u001b[0m | \u001b[0m-0.3747  \u001b[0m | \u001b[0m235.2    \u001b[0m | \u001b[0m83.5     \u001b[0m | \u001b[0m84.66    \u001b[0m | \u001b[0m681.9    \u001b[0m |\n",
      "| \u001b[0m3        \u001b[0m | \u001b[0m-2.189   \u001b[0m | \u001b[0m288.5    \u001b[0m | \u001b[0m263.9    \u001b[0m | \u001b[0m109.0    \u001b[0m | \u001b[0m501.1    \u001b[0m |\n",
      "| \u001b[0m4        \u001b[0m | \u001b[0m-1.612   \u001b[0m | \u001b[0m206.3    \u001b[0m | \u001b[0m215.1    \u001b[0m | \u001b[0m112.7    \u001b[0m | \u001b[0m537.3    \u001b[0m |\n",
      "| \u001b[0m5        \u001b[0m | \u001b[0m-0.8074  \u001b[0m | \u001b[0m152.4    \u001b[0m | \u001b[0m6.117    \u001b[0m | \u001b[0m233.1    \u001b[0m | \u001b[0m730.5    \u001b[0m |\n",
      "| \u001b[0m6        \u001b[0m | \u001b[0m-1.006   \u001b[0m | \u001b[0m87.27    \u001b[0m | \u001b[0m128.1    \u001b[0m | \u001b[0m65.66    \u001b[0m | \u001b[0m735.1    \u001b[0m |\n",
      "| \u001b[0m7        \u001b[0m | \u001b[0m-0.7085  \u001b[0m | \u001b[0m45.69    \u001b[0m | \u001b[0m186.4    \u001b[0m | \u001b[0m188.3    \u001b[0m | \u001b[0m663.1    \u001b[0m |\n",
      "| \u001b[0m8        \u001b[0m | \u001b[0m-1.261   \u001b[0m | \u001b[0m105.2    \u001b[0m | \u001b[0m217.4    \u001b[0m | \u001b[0m253.2    \u001b[0m | \u001b[0m408.1    \u001b[0m |\n",
      "| \u001b[95m9        \u001b[0m | \u001b[95m-0.1533  \u001b[0m | \u001b[95m241.1    \u001b[0m | \u001b[95m76.29    \u001b[0m | \u001b[95m90.11    \u001b[0m | \u001b[95m675.2    \u001b[0m |\n",
      "| \u001b[0m10       \u001b[0m | \u001b[0m-0.6797  \u001b[0m | \u001b[0m255.8    \u001b[0m | \u001b[0m56.64    \u001b[0m | \u001b[0m104.4    \u001b[0m | \u001b[0m659.1    \u001b[0m |\n",
      "| \u001b[0m11       \u001b[0m | \u001b[0m-0.3564  \u001b[0m | \u001b[0m75.0     \u001b[0m | \u001b[0m182.7    \u001b[0m | \u001b[0m138.4    \u001b[0m | \u001b[0m654.9    \u001b[0m |\n",
      "| \u001b[95m12       \u001b[0m | \u001b[95m-0.1275  \u001b[0m | \u001b[95m54.4     \u001b[0m | \u001b[95m210.0    \u001b[0m | \u001b[95m119.7    \u001b[0m | \u001b[95m663.8    \u001b[0m |\n",
      "| \u001b[0m13       \u001b[0m | \u001b[0m-0.8531  \u001b[0m | \u001b[0m38.56    \u001b[0m | \u001b[0m186.5    \u001b[0m | \u001b[0m110.7    \u001b[0m | \u001b[0m660.9    \u001b[0m |\n",
      "| \u001b[0m14       \u001b[0m | \u001b[0m-0.5064  \u001b[0m | \u001b[0m67.39    \u001b[0m | \u001b[0m211.3    \u001b[0m | \u001b[0m133.5    \u001b[0m | \u001b[0m674.9    \u001b[0m |\n",
      "| \u001b[0m15       \u001b[0m | \u001b[0m-0.3005  \u001b[0m | \u001b[0m47.01    \u001b[0m | \u001b[0m181.4    \u001b[0m | \u001b[0m182.4    \u001b[0m | \u001b[0m653.4    \u001b[0m |\n",
      "| \u001b[0m16       \u001b[0m | \u001b[0m-0.295   \u001b[0m | \u001b[0m50.05    \u001b[0m | \u001b[0m181.2    \u001b[0m | \u001b[0m158.9    \u001b[0m | \u001b[0m647.8    \u001b[0m |\n",
      "| \u001b[0m17       \u001b[0m | \u001b[0m-0.303   \u001b[0m | \u001b[0m49.27    \u001b[0m | \u001b[0m177.7    \u001b[0m | \u001b[0m186.9    \u001b[0m | \u001b[0m620.7    \u001b[0m |\n",
      "| \u001b[0m18       \u001b[0m | \u001b[0m-0.6292  \u001b[0m | \u001b[0m243.1    \u001b[0m | \u001b[0m87.11    \u001b[0m | \u001b[0m99.44    \u001b[0m | \u001b[0m660.9    \u001b[0m |\n",
      "| \u001b[0m19       \u001b[0m | \u001b[0m-0.2487  \u001b[0m | \u001b[0m239.9    \u001b[0m | \u001b[0m80.16    \u001b[0m | \u001b[0m79.32    \u001b[0m | \u001b[0m673.6    \u001b[0m |\n",
      "| \u001b[0m20       \u001b[0m | \u001b[0m-0.1396  \u001b[0m | \u001b[0m244.3    \u001b[0m | \u001b[0m60.98    \u001b[0m | \u001b[0m81.99    \u001b[0m | \u001b[0m682.2    \u001b[0m |\n",
      "| \u001b[0m21       \u001b[0m | \u001b[0m-0.3696  \u001b[0m | \u001b[0m51.72    \u001b[0m | \u001b[0m159.1    \u001b[0m | \u001b[0m179.0    \u001b[0m | \u001b[0m643.0    \u001b[0m |\n",
      "| \u001b[0m22       \u001b[0m | \u001b[0m-0.335   \u001b[0m | \u001b[0m54.87    \u001b[0m | \u001b[0m224.3    \u001b[0m | \u001b[0m119.5    \u001b[0m | \u001b[0m645.0    \u001b[0m |\n",
      "| \u001b[0m23       \u001b[0m | \u001b[0m-0.2139  \u001b[0m | \u001b[0m59.0     \u001b[0m | \u001b[0m230.6    \u001b[0m | \u001b[0m127.7    \u001b[0m | \u001b[0m641.4    \u001b[0m |\n",
      "| \u001b[0m24       \u001b[0m | \u001b[0m-0.6198  \u001b[0m | \u001b[0m57.8     \u001b[0m | \u001b[0m210.3    \u001b[0m | \u001b[0m111.1    \u001b[0m | \u001b[0m662.5    \u001b[0m |\n",
      "| \u001b[0m25       \u001b[0m | \u001b[0m-0.3164  \u001b[0m | \u001b[0m3.186    \u001b[0m | \u001b[0m189.9    \u001b[0m | \u001b[0m68.49    \u001b[0m | \u001b[0m620.8    \u001b[0m |\n",
      "| \u001b[0m26       \u001b[0m | \u001b[0m-0.5091  \u001b[0m | \u001b[0m34.23    \u001b[0m | \u001b[0m214.1    \u001b[0m | \u001b[0m148.9    \u001b[0m | \u001b[0m641.1    \u001b[0m |\n",
      "| \u001b[0m27       \u001b[0m | \u001b[0m-1.719   \u001b[0m | \u001b[0m116.3    \u001b[0m | \u001b[0m290.8    \u001b[0m | \u001b[0m172.3    \u001b[0m | \u001b[0m600.3    \u001b[0m |\n",
      "| \u001b[0m28       \u001b[0m | \u001b[0m-0.2539  \u001b[0m | \u001b[0m43.85    \u001b[0m | \u001b[0m179.1    \u001b[0m | \u001b[0m178.6    \u001b[0m | \u001b[0m653.5    \u001b[0m |\n",
      "| \u001b[0m29       \u001b[0m | \u001b[0m-0.1397  \u001b[0m | \u001b[0m49.21    \u001b[0m | \u001b[0m209.5    \u001b[0m | \u001b[0m130.1    \u001b[0m | \u001b[0m663.0    \u001b[0m |\n",
      "| \u001b[0m30       \u001b[0m | \u001b[0m-0.2623  \u001b[0m | \u001b[0m268.7    \u001b[0m | \u001b[0m70.98    \u001b[0m | \u001b[0m87.46    \u001b[0m | \u001b[0m696.1    \u001b[0m |\n",
      "=========================================================================\n",
      "Final Result:  {'target': -0.12753011513229032, 'params': {'mb_age_': 54.400723529558476, 'mb_sex_': 210.04926428284412, 'mb_state_': 119.67807873145054, 'num_components_': 663.8139282561448}}\n",
      "|   iter    |  target   |  mb_age_  |  mb_sex_  | mb_state_ | num_co... |\n",
      "-------------------------------------------------------------------------\n",
      "| \u001b[0m1        \u001b[0m | \u001b[0m-0.2263  \u001b[0m | \u001b[0m23.17    \u001b[0m | \u001b[0m245.7    \u001b[0m | \u001b[0m231.6    \u001b[0m | \u001b[0m372.1    \u001b[0m |\n",
      "| \u001b[95m2        \u001b[0m | \u001b[95m-0.185   \u001b[0m | \u001b[95m59.73    \u001b[0m | \u001b[95m294.7    \u001b[0m | \u001b[95m123.5    \u001b[0m | \u001b[95m655.4    \u001b[0m |\n",
      "| \u001b[0m3        \u001b[0m | \u001b[0m-0.4604  \u001b[0m | \u001b[0m28.66    \u001b[0m | \u001b[0m94.65    \u001b[0m | \u001b[0m187.1    \u001b[0m | \u001b[0m476.4    \u001b[0m |\n",
      "| \u001b[0m4        \u001b[0m | \u001b[0m-0.8428  \u001b[0m | \u001b[0m67.27    \u001b[0m | \u001b[0m200.4    \u001b[0m | \u001b[0m204.9    \u001b[0m | \u001b[0m771.1    \u001b[0m |\n",
      "| \u001b[0m5        \u001b[0m | \u001b[0m-2.284   \u001b[0m | \u001b[0m86.09    \u001b[0m | \u001b[0m187.3    \u001b[0m | \u001b[0m116.6    \u001b[0m | \u001b[0m440.6    \u001b[0m |\n",
      "| \u001b[95m6        \u001b[0m | \u001b[95m-0.04376 \u001b[0m | \u001b[95m64.53    \u001b[0m | \u001b[95m134.2    \u001b[0m | \u001b[95m43.39    \u001b[0m | \u001b[95m783.8    \u001b[0m |\n",
      "| \u001b[0m7        \u001b[0m | \u001b[0m-0.6231  \u001b[0m | \u001b[0m162.7    \u001b[0m | \u001b[0m81.65    \u001b[0m | \u001b[0m118.7    \u001b[0m | \u001b[0m318.3    \u001b[0m |\n",
      "| \u001b[0m8        \u001b[0m | \u001b[0m-0.4817  \u001b[0m | \u001b[0m17.2     \u001b[0m | \u001b[0m250.4    \u001b[0m | \u001b[0m229.2    \u001b[0m | \u001b[0m370.9    \u001b[0m |\n",
      "| \u001b[0m9        \u001b[0m | \u001b[0m-0.4411  \u001b[0m | \u001b[0m36.67    \u001b[0m | \u001b[0m89.07    \u001b[0m | \u001b[0m179.0    \u001b[0m | \u001b[0m479.8    \u001b[0m |\n",
      "| \u001b[0m10       \u001b[0m | \u001b[0m-1.6     \u001b[0m | \u001b[0m68.31    \u001b[0m | \u001b[0m188.2    \u001b[0m | \u001b[0m109.3    \u001b[0m | \u001b[0m443.7    \u001b[0m |\n",
      "| \u001b[0m11       \u001b[0m | \u001b[0m-0.4117  \u001b[0m | \u001b[0m50.97    \u001b[0m | \u001b[0m231.5    \u001b[0m | \u001b[0m238.3    \u001b[0m | \u001b[0m370.3    \u001b[0m |\n",
      "| \u001b[0m12       \u001b[0m | \u001b[0m-0.4468  \u001b[0m | \u001b[0m7.231    \u001b[0m | \u001b[0m247.3    \u001b[0m | \u001b[0m229.9    \u001b[0m | \u001b[0m371.1    \u001b[0m |\n",
      "| \u001b[0m13       \u001b[0m | \u001b[0m-0.7682  \u001b[0m | \u001b[0m12.74    \u001b[0m | \u001b[0m256.1    \u001b[0m | \u001b[0m236.5    \u001b[0m | \u001b[0m365.5    \u001b[0m |\n",
      "| \u001b[0m14       \u001b[0m | \u001b[0m-0.5788  \u001b[0m | \u001b[0m12.12    \u001b[0m | \u001b[0m208.9    \u001b[0m | \u001b[0m225.4    \u001b[0m | \u001b[0m364.8    \u001b[0m |\n",
      "| \u001b[0m15       \u001b[0m | \u001b[0m-0.798   \u001b[0m | \u001b[0m8.21     \u001b[0m | \u001b[0m252.0    \u001b[0m | \u001b[0m227.9    \u001b[0m | \u001b[0m382.3    \u001b[0m |\n",
      "| \u001b[0m16       \u001b[0m | \u001b[0m-0.5648  \u001b[0m | \u001b[0m62.58    \u001b[0m | \u001b[0m221.5    \u001b[0m | \u001b[0m239.0    \u001b[0m | \u001b[0m377.7    \u001b[0m |\n",
      "| \u001b[0m17       \u001b[0m | \u001b[0m-0.5389  \u001b[0m | \u001b[0m18.63    \u001b[0m | \u001b[0m85.24    \u001b[0m | \u001b[0m184.3    \u001b[0m | \u001b[0m471.8    \u001b[0m |\n",
      "| \u001b[0m18       \u001b[0m | \u001b[0m-0.3463  \u001b[0m | \u001b[0m66.72    \u001b[0m | \u001b[0m287.2    \u001b[0m | \u001b[0m131.0    \u001b[0m | \u001b[0m649.0    \u001b[0m |\n",
      "| \u001b[0m19       \u001b[0m | \u001b[0m-0.2497  \u001b[0m | \u001b[0m48.91    \u001b[0m | \u001b[0m143.2    \u001b[0m | \u001b[0m56.96    \u001b[0m | \u001b[0m787.0    \u001b[0m |\n",
      "| \u001b[0m20       \u001b[0m | \u001b[0m-0.2181  \u001b[0m | \u001b[0m70.24    \u001b[0m | \u001b[0m119.0    \u001b[0m | \u001b[0m50.58    \u001b[0m | \u001b[0m797.9    \u001b[0m |\n",
      "| \u001b[0m21       \u001b[0m | \u001b[0m-0.08757 \u001b[0m | \u001b[0m47.3     \u001b[0m | \u001b[0m130.7    \u001b[0m | \u001b[0m26.41    \u001b[0m | \u001b[0m782.0    \u001b[0m |\n",
      "| \u001b[0m22       \u001b[0m | \u001b[0m-0.1799  \u001b[0m | \u001b[0m66.9     \u001b[0m | \u001b[0m113.9    \u001b[0m | \u001b[0m33.71    \u001b[0m | \u001b[0m766.2    \u001b[0m |\n",
      "| \u001b[0m23       \u001b[0m | \u001b[0m-0.3776  \u001b[0m | \u001b[0m32.99    \u001b[0m | \u001b[0m90.9     \u001b[0m | \u001b[0m186.0    \u001b[0m | \u001b[0m481.8    \u001b[0m |\n",
      "| \u001b[0m24       \u001b[0m | \u001b[0m-0.9647  \u001b[0m | \u001b[0m92.75    \u001b[0m | \u001b[0m130.6    \u001b[0m | \u001b[0m14.03    \u001b[0m | \u001b[0m772.5    \u001b[0m |\n",
      "| \u001b[0m25       \u001b[0m | \u001b[0m-0.1622  \u001b[0m | \u001b[0m52.22    \u001b[0m | \u001b[0m121.2    \u001b[0m | \u001b[0m44.19    \u001b[0m | \u001b[0m777.3    \u001b[0m |\n",
      "| \u001b[0m26       \u001b[0m | \u001b[0m-0.9195  \u001b[0m | \u001b[0m45.2     \u001b[0m | \u001b[0m301.0    \u001b[0m | \u001b[0m97.88    \u001b[0m | \u001b[0m664.3    \u001b[0m |\n",
      "| \u001b[0m27       \u001b[0m | \u001b[0m-0.1888  \u001b[0m | \u001b[0m53.59    \u001b[0m | \u001b[0m134.0    \u001b[0m | \u001b[0m46.54    \u001b[0m | \u001b[0m745.0    \u001b[0m |\n",
      "| \u001b[0m28       \u001b[0m | \u001b[0m-0.04911 \u001b[0m | \u001b[0m46.54    \u001b[0m | \u001b[0m132.5    \u001b[0m | \u001b[0m25.78    \u001b[0m | \u001b[0m789.5    \u001b[0m |\n",
      "| \u001b[95m29       \u001b[0m | \u001b[95m-0.04275 \u001b[0m | \u001b[95m34.68    \u001b[0m | \u001b[95m152.2    \u001b[0m | \u001b[95m10.6     \u001b[0m | \u001b[95m790.2    \u001b[0m |\n",
      "| \u001b[95m30       \u001b[0m | \u001b[95m-0.000205\u001b[0m | \u001b[95m37.4     \u001b[0m | \u001b[95m156.7    \u001b[0m | \u001b[95m25.45    \u001b[0m | \u001b[95m775.8    \u001b[0m |\n",
      "=========================================================================\n",
      "Final Result:  {'target': -0.0002057322164208027, 'params': {'mb_age_': 37.398670212331204, 'mb_sex_': 156.67020150677124, 'mb_state_': 25.4509644201019, 'num_components_': 775.7703724051606}}\n",
      "|   iter    |  target   |  mb_age_  |  mb_sex_  | mb_state_ | num_co... |\n",
      "-------------------------------------------------------------------------\n"
     ]
    },
    {
     "name": "stdout",
     "output_type": "stream",
     "text": [
      "| \u001b[0m1        \u001b[0m | \u001b[0m-0.95    \u001b[0m | \u001b[0m156.4    \u001b[0m | \u001b[0m97.74    \u001b[0m | \u001b[0m52.27    \u001b[0m | \u001b[0m231.5    \u001b[0m |\n",
      "| \u001b[95m2        \u001b[0m | \u001b[95m-0.348   \u001b[0m | \u001b[95m280.5    \u001b[0m | \u001b[95m19.61    \u001b[0m | \u001b[95m132.3    \u001b[0m | \u001b[95m214.9    \u001b[0m |\n",
      "| \u001b[0m3        \u001b[0m | \u001b[0m-1.514   \u001b[0m | \u001b[0m149.0    \u001b[0m | \u001b[0m211.7    \u001b[0m | \u001b[0m232.8    \u001b[0m | \u001b[0m441.7    \u001b[0m |\n",
      "| \u001b[0m4        \u001b[0m | \u001b[0m-0.6446  \u001b[0m | \u001b[0m277.0    \u001b[0m | \u001b[0m164.7    \u001b[0m | \u001b[0m207.4    \u001b[0m | \u001b[0m348.1    \u001b[0m |\n",
      "| \u001b[0m5        \u001b[0m | \u001b[0m-0.7313  \u001b[0m | \u001b[0m75.01    \u001b[0m | \u001b[0m170.5    \u001b[0m | \u001b[0m81.52    \u001b[0m | \u001b[0m341.4    \u001b[0m |\n",
      "| \u001b[0m6        \u001b[0m | \u001b[0m-1.435   \u001b[0m | \u001b[0m179.3    \u001b[0m | \u001b[0m6.656    \u001b[0m | \u001b[0m106.6    \u001b[0m | \u001b[0m409.4    \u001b[0m |\n",
      "| \u001b[0m7        \u001b[0m | \u001b[0m-0.9335  \u001b[0m | \u001b[0m268.5    \u001b[0m | \u001b[0m169.3    \u001b[0m | \u001b[0m209.2    \u001b[0m | \u001b[0m345.9    \u001b[0m |\n",
      "| \u001b[0m8        \u001b[0m | \u001b[0m-0.4373  \u001b[0m | \u001b[0m281.9    \u001b[0m | \u001b[0m24.8     \u001b[0m | \u001b[0m138.1    \u001b[0m | \u001b[0m232.5    \u001b[0m |\n",
      "| \u001b[0m9        \u001b[0m | \u001b[0m-3.764   \u001b[0m | \u001b[0m184.5    \u001b[0m | \u001b[0m221.1    \u001b[0m | \u001b[0m289.2    \u001b[0m | \u001b[0m688.4    \u001b[0m |\n",
      "| \u001b[0m10       \u001b[0m | \u001b[0m-1.467   \u001b[0m | \u001b[0m301.0    \u001b[0m | \u001b[0m129.2    \u001b[0m | \u001b[0m193.5    \u001b[0m | \u001b[0m359.3    \u001b[0m |\n",
      "| \u001b[0m11       \u001b[0m | \u001b[0m-0.6205  \u001b[0m | \u001b[0m272.0    \u001b[0m | \u001b[0m173.4    \u001b[0m | \u001b[0m218.4    \u001b[0m | \u001b[0m349.8    \u001b[0m |\n",
      "| \u001b[0m12       \u001b[0m | \u001b[0m-0.6079  \u001b[0m | \u001b[0m259.3    \u001b[0m | \u001b[0m174.2    \u001b[0m | \u001b[0m203.0    \u001b[0m | \u001b[0m341.5    \u001b[0m |\n",
      "| \u001b[0m13       \u001b[0m | \u001b[0m-0.8607  \u001b[0m | \u001b[0m296.3    \u001b[0m | \u001b[0m30.41    \u001b[0m | \u001b[0m136.3    \u001b[0m | \u001b[0m216.4    \u001b[0m |\n",
      "| \u001b[0m14       \u001b[0m | \u001b[0m-1.553   \u001b[0m | \u001b[0m294.4    \u001b[0m | \u001b[0m27.06    \u001b[0m | \u001b[0m146.2    \u001b[0m | \u001b[0m201.1    \u001b[0m |\n",
      "| \u001b[0m15       \u001b[0m | \u001b[0m-1.48    \u001b[0m | \u001b[0m285.0    \u001b[0m | \u001b[0m168.5    \u001b[0m | \u001b[0m213.2    \u001b[0m | \u001b[0m343.1    \u001b[0m |\n",
      "| \u001b[0m16       \u001b[0m | \u001b[0m-0.6584  \u001b[0m | \u001b[0m266.0    \u001b[0m | \u001b[0m25.42    \u001b[0m | \u001b[0m140.8    \u001b[0m | \u001b[0m215.1    \u001b[0m |\n",
      "| \u001b[0m17       \u001b[0m | \u001b[0m-0.4245  \u001b[0m | \u001b[0m265.0    \u001b[0m | \u001b[0m162.7    \u001b[0m | \u001b[0m206.0    \u001b[0m | \u001b[0m346.7    \u001b[0m |\n",
      "| \u001b[0m18       \u001b[0m | \u001b[0m-0.5525  \u001b[0m | \u001b[0m268.9    \u001b[0m | \u001b[0m157.3    \u001b[0m | \u001b[0m219.1    \u001b[0m | \u001b[0m356.3    \u001b[0m |\n",
      "| \u001b[0m19       \u001b[0m | \u001b[0m-0.4384  \u001b[0m | \u001b[0m267.8    \u001b[0m | \u001b[0m156.3    \u001b[0m | \u001b[0m199.2    \u001b[0m | \u001b[0m353.6    \u001b[0m |\n",
      "| \u001b[0m20       \u001b[0m | \u001b[0m-1.106   \u001b[0m | \u001b[0m291.7    \u001b[0m | \u001b[0m13.27    \u001b[0m | \u001b[0m127.8    \u001b[0m | \u001b[0m220.4    \u001b[0m |\n",
      "| \u001b[0m21       \u001b[0m | \u001b[0m-0.4718  \u001b[0m | \u001b[0m275.1    \u001b[0m | \u001b[0m160.0    \u001b[0m | \u001b[0m229.9    \u001b[0m | \u001b[0m351.4    \u001b[0m |\n",
      "| \u001b[0m22       \u001b[0m | \u001b[0m-0.664   \u001b[0m | \u001b[0m261.1    \u001b[0m | \u001b[0m22.56    \u001b[0m | \u001b[0m145.2    \u001b[0m | \u001b[0m220.0    \u001b[0m |\n",
      "| \u001b[0m23       \u001b[0m | \u001b[0m-0.8608  \u001b[0m | \u001b[0m266.7    \u001b[0m | \u001b[0m170.9    \u001b[0m | \u001b[0m226.5    \u001b[0m | \u001b[0m352.0    \u001b[0m |\n",
      "| \u001b[0m24       \u001b[0m | \u001b[0m-0.858   \u001b[0m | \u001b[0m273.3    \u001b[0m | \u001b[0m179.6    \u001b[0m | \u001b[0m219.0    \u001b[0m | \u001b[0m352.5    \u001b[0m |\n",
      "| \u001b[0m25       \u001b[0m | \u001b[0m-0.5207  \u001b[0m | \u001b[0m261.8    \u001b[0m | \u001b[0m22.69    \u001b[0m | \u001b[0m151.1    \u001b[0m | \u001b[0m227.5    \u001b[0m |\n",
      "| \u001b[0m26       \u001b[0m | \u001b[0m-0.7704  \u001b[0m | \u001b[0m250.5    \u001b[0m | \u001b[0m161.4    \u001b[0m | \u001b[0m186.5    \u001b[0m | \u001b[0m351.7    \u001b[0m |\n",
      "| \u001b[95m27       \u001b[0m | \u001b[95m-0.1899  \u001b[0m | \u001b[95m261.9    \u001b[0m | \u001b[95m18.99    \u001b[0m | \u001b[95m134.8    \u001b[0m | \u001b[95m249.7    \u001b[0m |\n",
      "| \u001b[0m28       \u001b[0m | \u001b[0m-0.3256  \u001b[0m | \u001b[0m256.8    \u001b[0m | \u001b[0m13.33    \u001b[0m | \u001b[0m138.1    \u001b[0m | \u001b[0m259.6    \u001b[0m |\n",
      "| \u001b[0m29       \u001b[0m | \u001b[0m-0.6307  \u001b[0m | \u001b[0m245.9    \u001b[0m | \u001b[0m157.3    \u001b[0m | \u001b[0m207.8    \u001b[0m | \u001b[0m337.8    \u001b[0m |\n",
      "| \u001b[0m30       \u001b[0m | \u001b[0m-0.7875  \u001b[0m | \u001b[0m258.1    \u001b[0m | \u001b[0m170.5    \u001b[0m | \u001b[0m205.1    \u001b[0m | \u001b[0m340.7    \u001b[0m |\n",
      "=========================================================================\n",
      "Final Result:  {'target': -0.18987881545642835, 'params': {'mb_age_': 261.8616330296523, 'mb_sex_': 18.98581830834873, 'mb_state_': 134.83585169559052, 'num_components_': 249.74892892325659}}\n",
      "|   iter    |  target   |  mb_age_  |  mb_sex_  | mb_state_ | num_co... |\n",
      "-------------------------------------------------------------------------\n",
      "| \u001b[0m1        \u001b[0m | \u001b[0m-1.021   \u001b[0m | \u001b[0m293.2    \u001b[0m | \u001b[0m297.5    \u001b[0m | \u001b[0m120.5    \u001b[0m | \u001b[0m547.1    \u001b[0m |\n",
      "| \u001b[0m2        \u001b[0m | \u001b[0m-1.435   \u001b[0m | \u001b[0m168.8    \u001b[0m | \u001b[0m92.86    \u001b[0m | \u001b[0m190.4    \u001b[0m | \u001b[0m280.9    \u001b[0m |\n",
      "| \u001b[0m3        \u001b[0m | \u001b[0m-3.21    \u001b[0m | \u001b[0m161.6    \u001b[0m | \u001b[0m223.1    \u001b[0m | \u001b[0m274.2    \u001b[0m | \u001b[0m416.8    \u001b[0m |\n",
      "| \u001b[95m4        \u001b[0m | \u001b[95m-0.5793  \u001b[0m | \u001b[95m15.2     \u001b[0m | \u001b[95m243.3    \u001b[0m | \u001b[95m197.8    \u001b[0m | \u001b[95m560.9    \u001b[0m |\n",
      "| \u001b[0m5        \u001b[0m | \u001b[0m-1.618   \u001b[0m | \u001b[0m176.9    \u001b[0m | \u001b[0m51.13    \u001b[0m | \u001b[0m245.5    \u001b[0m | \u001b[0m541.5    \u001b[0m |\n",
      "| \u001b[95m6        \u001b[0m | \u001b[95m-0.4661  \u001b[0m | \u001b[95m69.2     \u001b[0m | \u001b[95m193.1    \u001b[0m | \u001b[95m112.4    \u001b[0m | \u001b[95m653.6    \u001b[0m |\n",
      "| \u001b[95m7        \u001b[0m | \u001b[95m-0.4241  \u001b[0m | \u001b[95m68.02    \u001b[0m | \u001b[95m193.4    \u001b[0m | \u001b[95m125.7    \u001b[0m | \u001b[95m651.5    \u001b[0m |\n",
      "| \u001b[0m8        \u001b[0m | \u001b[0m-0.7544  \u001b[0m | \u001b[0m2.0      \u001b[0m | \u001b[0m252.4    \u001b[0m | \u001b[0m161.4    \u001b[0m | \u001b[0m655.9    \u001b[0m |\n",
      "| \u001b[0m9        \u001b[0m | \u001b[0m-0.6417  \u001b[0m | \u001b[0m23.68    \u001b[0m | \u001b[0m246.9    \u001b[0m | \u001b[0m192.4    \u001b[0m | \u001b[0m567.2    \u001b[0m |\n",
      "| \u001b[0m10       \u001b[0m | \u001b[0m-1.132   \u001b[0m | \u001b[0m121.4    \u001b[0m | \u001b[0m236.9    \u001b[0m | \u001b[0m160.2    \u001b[0m | \u001b[0m402.6    \u001b[0m |\n",
      "| \u001b[95m11       \u001b[0m | \u001b[95m-0.3947  \u001b[0m | \u001b[95m2.0      \u001b[0m | \u001b[95m156.4    \u001b[0m | \u001b[95m148.6    \u001b[0m | \u001b[95m591.3    \u001b[0m |\n",
      "| \u001b[0m12       \u001b[0m | \u001b[0m-0.485   \u001b[0m | \u001b[0m2.0      \u001b[0m | \u001b[0m212.7    \u001b[0m | \u001b[0m98.61    \u001b[0m | \u001b[0m474.5    \u001b[0m |\n",
      "| \u001b[0m13       \u001b[0m | \u001b[0m-0.6016  \u001b[0m | \u001b[0m38.7     \u001b[0m | \u001b[0m121.3    \u001b[0m | \u001b[0m170.1    \u001b[0m | \u001b[0m699.3    \u001b[0m |\n",
      "| \u001b[0m14       \u001b[0m | \u001b[0m-1.564   \u001b[0m | \u001b[0m81.2     \u001b[0m | \u001b[0m265.4    \u001b[0m | \u001b[0m24.58    \u001b[0m | \u001b[0m382.4    \u001b[0m |\n",
      "| \u001b[0m15       \u001b[0m | \u001b[0m-0.5214  \u001b[0m | \u001b[0m2.0      \u001b[0m | \u001b[0m183.0    \u001b[0m | \u001b[0m154.2    \u001b[0m | \u001b[0m515.3    \u001b[0m |\n",
      "| \u001b[0m16       \u001b[0m | \u001b[0m-0.3974  \u001b[0m | \u001b[0m4.214    \u001b[0m | \u001b[0m256.0    \u001b[0m | \u001b[0m162.3    \u001b[0m | \u001b[0m645.7    \u001b[0m |\n",
      "| \u001b[0m17       \u001b[0m | \u001b[0m-0.6174  \u001b[0m | \u001b[0m7.547    \u001b[0m | \u001b[0m262.6    \u001b[0m | \u001b[0m160.4    \u001b[0m | \u001b[0m618.5    \u001b[0m |\n",
      "| \u001b[0m18       \u001b[0m | \u001b[0m-0.4769  \u001b[0m | \u001b[0m36.55    \u001b[0m | \u001b[0m125.5    \u001b[0m | \u001b[0m164.1    \u001b[0m | \u001b[0m709.5    \u001b[0m |\n",
      "| \u001b[0m19       \u001b[0m | \u001b[0m-0.676   \u001b[0m | \u001b[0m33.1     \u001b[0m | \u001b[0m183.6    \u001b[0m | \u001b[0m141.7    \u001b[0m | \u001b[0m612.3    \u001b[0m |\n",
      "| \u001b[95m20       \u001b[0m | \u001b[95m-0.3796  \u001b[0m | \u001b[95m5.498    \u001b[0m | \u001b[95m254.5    \u001b[0m | \u001b[95m171.3    \u001b[0m | \u001b[95m645.1    \u001b[0m |\n",
      "| \u001b[0m21       \u001b[0m | \u001b[0m-0.509   \u001b[0m | \u001b[0m25.34    \u001b[0m | \u001b[0m273.3    \u001b[0m | \u001b[0m170.5    \u001b[0m | \u001b[0m643.2    \u001b[0m |\n",
      "| \u001b[0m22       \u001b[0m | \u001b[0m-0.4232  \u001b[0m | \u001b[0m45.91    \u001b[0m | \u001b[0m129.0    \u001b[0m | \u001b[0m157.1    \u001b[0m | \u001b[0m716.2    \u001b[0m |\n",
      "| \u001b[95m23       \u001b[0m | \u001b[95m-0.07997 \u001b[0m | \u001b[95m2.0      \u001b[0m | \u001b[95m145.4    \u001b[0m | \u001b[95m127.1    \u001b[0m | \u001b[95m553.6    \u001b[0m |\n",
      "| \u001b[0m24       \u001b[0m | \u001b[0m-0.4633  \u001b[0m | \u001b[0m2.0      \u001b[0m | \u001b[0m118.2    \u001b[0m | \u001b[0m144.0    \u001b[0m | \u001b[0m550.6    \u001b[0m |\n",
      "| \u001b[0m25       \u001b[0m | \u001b[0m-0.4446  \u001b[0m | \u001b[0m2.0      \u001b[0m | \u001b[0m161.7    \u001b[0m | \u001b[0m98.73    \u001b[0m | \u001b[0m549.3    \u001b[0m |\n",
      "| \u001b[0m26       \u001b[0m | \u001b[0m-0.5307  \u001b[0m | \u001b[0m19.23    \u001b[0m | \u001b[0m156.8    \u001b[0m | \u001b[0m147.1    \u001b[0m | \u001b[0m545.8    \u001b[0m |\n",
      "| \u001b[0m27       \u001b[0m | \u001b[0m-0.7333  \u001b[0m | \u001b[0m15.4     \u001b[0m | \u001b[0m114.9    \u001b[0m | \u001b[0m108.2    \u001b[0m | \u001b[0m586.3    \u001b[0m |\n",
      "| \u001b[0m28       \u001b[0m | \u001b[0m-0.1503  \u001b[0m | \u001b[0m15.26    \u001b[0m | \u001b[0m121.1    \u001b[0m | \u001b[0m120.8    \u001b[0m | \u001b[0m746.9    \u001b[0m |\n",
      "| \u001b[0m29       \u001b[0m | \u001b[0m-0.7225  \u001b[0m | \u001b[0m16.48    \u001b[0m | \u001b[0m152.1    \u001b[0m | \u001b[0m111.5    \u001b[0m | \u001b[0m725.8    \u001b[0m |\n",
      "| \u001b[0m30       \u001b[0m | \u001b[0m-0.7848  \u001b[0m | \u001b[0m23.83    \u001b[0m | \u001b[0m100.7    \u001b[0m | \u001b[0m142.5    \u001b[0m | \u001b[0m759.6    \u001b[0m |\n",
      "=========================================================================\n",
      "Final Result:  {'target': -0.07996629733627508, 'params': {'mb_age_': 2.0, 'mb_sex_': 145.4457350520421, 'mb_state_': 127.08683107845202, 'num_components_': 553.628900905183}}\n",
      "|   iter    |  target   |  mb_age_  |  mb_sex_  | mb_state_ | num_co... |\n",
      "-------------------------------------------------------------------------\n",
      "| \u001b[0m1        \u001b[0m | \u001b[0m-0.5849  \u001b[0m | \u001b[0m260.9    \u001b[0m | \u001b[0m93.81    \u001b[0m | \u001b[0m245.8    \u001b[0m | \u001b[0m253.5    \u001b[0m |\n"
     ]
    },
    {
     "name": "stdout",
     "output_type": "stream",
     "text": [
      "| \u001b[95m2        \u001b[0m | \u001b[95m-0.261   \u001b[0m | \u001b[95m243.1    \u001b[0m | \u001b[95m212.2    \u001b[0m | \u001b[95m7.192    \u001b[0m | \u001b[95m341.2    \u001b[0m |\n",
      "| \u001b[0m3        \u001b[0m | \u001b[0m-0.4832  \u001b[0m | \u001b[0m61.93    \u001b[0m | \u001b[0m149.8    \u001b[0m | \u001b[0m90.78    \u001b[0m | \u001b[0m749.8    \u001b[0m |\n",
      "| \u001b[0m4        \u001b[0m | \u001b[0m-0.3279  \u001b[0m | \u001b[0m204.4    \u001b[0m | \u001b[0m105.7    \u001b[0m | \u001b[0m34.61    \u001b[0m | \u001b[0m743.9    \u001b[0m |\n",
      "| \u001b[0m5        \u001b[0m | \u001b[0m-2.428   \u001b[0m | \u001b[0m112.8    \u001b[0m | \u001b[0m61.0     \u001b[0m | \u001b[0m290.9    \u001b[0m | \u001b[0m360.8    \u001b[0m |\n",
      "| \u001b[0m6        \u001b[0m | \u001b[0m-0.7923  \u001b[0m | \u001b[0m147.4    \u001b[0m | \u001b[0m124.0    \u001b[0m | \u001b[0m57.57    \u001b[0m | \u001b[0m746.2    \u001b[0m |\n",
      "| \u001b[95m7        \u001b[0m | \u001b[95m-0.238   \u001b[0m | \u001b[95m266.4    \u001b[0m | \u001b[95m85.84    \u001b[0m | \u001b[95m9.464    \u001b[0m | \u001b[95m741.1    \u001b[0m |\n",
      "| \u001b[95m8        \u001b[0m | \u001b[95m-0.04264 \u001b[0m | \u001b[95m255.2    \u001b[0m | \u001b[95m124.9    \u001b[0m | \u001b[95m2.0      \u001b[0m | \u001b[95m654.8    \u001b[0m |\n",
      "| \u001b[0m9        \u001b[0m | \u001b[0m-0.227   \u001b[0m | \u001b[0m197.4    \u001b[0m | \u001b[0m92.73    \u001b[0m | \u001b[0m35.89    \u001b[0m | \u001b[0m736.6    \u001b[0m |\n",
      "| \u001b[0m10       \u001b[0m | \u001b[0m-0.9514  \u001b[0m | \u001b[0m218.0    \u001b[0m | \u001b[0m41.42    \u001b[0m | \u001b[0m9.352    \u001b[0m | \u001b[0m660.4    \u001b[0m |\n",
      "| \u001b[0m11       \u001b[0m | \u001b[0m-0.2222  \u001b[0m | \u001b[0m276.5    \u001b[0m | \u001b[0m151.5    \u001b[0m | \u001b[0m48.16    \u001b[0m | \u001b[0m667.1    \u001b[0m |\n",
      "| \u001b[0m12       \u001b[0m | \u001b[0m-0.1335  \u001b[0m | \u001b[0m262.8    \u001b[0m | \u001b[0m174.0    \u001b[0m | \u001b[0m2.0      \u001b[0m | \u001b[0m616.6    \u001b[0m |\n",
      "| \u001b[0m13       \u001b[0m | \u001b[0m-0.2102  \u001b[0m | \u001b[0m265.9    \u001b[0m | \u001b[0m199.2    \u001b[0m | \u001b[0m2.0      \u001b[0m | \u001b[0m465.0    \u001b[0m |\n",
      "| \u001b[0m14       \u001b[0m | \u001b[0m-0.6801  \u001b[0m | \u001b[0m206.4    \u001b[0m | \u001b[0m278.9    \u001b[0m | \u001b[0m2.0      \u001b[0m | \u001b[0m432.8    \u001b[0m |\n",
      "| \u001b[0m15       \u001b[0m | \u001b[0m-0.7692  \u001b[0m | \u001b[0m301.0    \u001b[0m | \u001b[0m136.5    \u001b[0m | \u001b[0m2.0      \u001b[0m | \u001b[0m652.9    \u001b[0m |\n",
      "| \u001b[0m16       \u001b[0m | \u001b[0m-0.1212  \u001b[0m | \u001b[0m270.7    \u001b[0m | \u001b[0m185.8    \u001b[0m | \u001b[0m2.128    \u001b[0m | \u001b[0m462.6    \u001b[0m |\n",
      "| \u001b[0m17       \u001b[0m | \u001b[0m-0.482   \u001b[0m | \u001b[0m69.53    \u001b[0m | \u001b[0m37.19    \u001b[0m | \u001b[0m136.6    \u001b[0m | \u001b[0m502.3    \u001b[0m |\n",
      "| \u001b[0m18       \u001b[0m | \u001b[0m-0.172   \u001b[0m | \u001b[0m266.7    \u001b[0m | \u001b[0m200.8    \u001b[0m | \u001b[0m11.95    \u001b[0m | \u001b[0m464.8    \u001b[0m |\n",
      "| \u001b[0m19       \u001b[0m | \u001b[0m-0.09564 \u001b[0m | \u001b[0m226.0    \u001b[0m | \u001b[0m149.0    \u001b[0m | \u001b[0m13.6     \u001b[0m | \u001b[0m650.1    \u001b[0m |\n",
      "| \u001b[0m20       \u001b[0m | \u001b[0m-0.8467  \u001b[0m | \u001b[0m276.4    \u001b[0m | \u001b[0m195.6    \u001b[0m | \u001b[0m7.767    \u001b[0m | \u001b[0m458.8    \u001b[0m |\n",
      "| \u001b[0m21       \u001b[0m | \u001b[0m-0.0898  \u001b[0m | \u001b[0m265.4    \u001b[0m | \u001b[0m168.3    \u001b[0m | \u001b[0m3.383    \u001b[0m | \u001b[0m622.2    \u001b[0m |\n",
      "| \u001b[0m22       \u001b[0m | \u001b[0m-0.1983  \u001b[0m | \u001b[0m261.0    \u001b[0m | \u001b[0m200.2    \u001b[0m | \u001b[0m16.6     \u001b[0m | \u001b[0m460.2    \u001b[0m |\n",
      "| \u001b[95m23       \u001b[0m | \u001b[95m-0.0393  \u001b[0m | \u001b[95m275.2    \u001b[0m | \u001b[95m163.2    \u001b[0m | \u001b[95m5.684    \u001b[0m | \u001b[95m627.3    \u001b[0m |\n",
      "| \u001b[0m24       \u001b[0m | \u001b[0m-0.2071  \u001b[0m | \u001b[0m248.5    \u001b[0m | \u001b[0m141.8    \u001b[0m | \u001b[0m8.501    \u001b[0m | \u001b[0m647.3    \u001b[0m |\n",
      "| \u001b[0m25       \u001b[0m | \u001b[0m-0.07369 \u001b[0m | \u001b[0m240.7    \u001b[0m | \u001b[0m127.0    \u001b[0m | \u001b[0m3.291    \u001b[0m | \u001b[0m674.3    \u001b[0m |\n",
      "| \u001b[0m26       \u001b[0m | \u001b[0m-0.4113  \u001b[0m | \u001b[0m223.6    \u001b[0m | \u001b[0m157.5    \u001b[0m | \u001b[0m8.349    \u001b[0m | \u001b[0m645.8    \u001b[0m |\n",
      "| \u001b[0m27       \u001b[0m | \u001b[0m-0.08437 \u001b[0m | \u001b[0m232.0    \u001b[0m | \u001b[0m135.2    \u001b[0m | \u001b[0m3.105    \u001b[0m | \u001b[0m672.5    \u001b[0m |\n",
      "| \u001b[0m28       \u001b[0m | \u001b[0m-0.06228 \u001b[0m | \u001b[0m252.0    \u001b[0m | \u001b[0m157.8    \u001b[0m | \u001b[0m15.31    \u001b[0m | \u001b[0m482.9    \u001b[0m |\n",
      "| \u001b[0m29       \u001b[0m | \u001b[0m-0.2873  \u001b[0m | \u001b[0m258.0    \u001b[0m | \u001b[0m181.3    \u001b[0m | \u001b[0m16.69    \u001b[0m | \u001b[0m476.6    \u001b[0m |\n",
      "| \u001b[0m30       \u001b[0m | \u001b[0m-0.1582  \u001b[0m | \u001b[0m257.8    \u001b[0m | \u001b[0m207.1    \u001b[0m | \u001b[0m11.91    \u001b[0m | \u001b[0m475.6    \u001b[0m |\n",
      "=========================================================================\n",
      "Final Result:  {'target': -0.03929886183805839, 'params': {'mb_age_': 275.1611986242852, 'mb_sex_': 163.23795942622115, 'mb_state_': 5.683750804969394, 'num_components_': 627.2778449071266}}\n"
     ]
    }
   ],
   "source": [
    "optimization_results = [optimize_models(train_data=train_data, number_synthetic_datasets=nsd, number_gmm_initializations=ngi, random_state=r) for r in random_states]"
   ]
  },
  {
   "cell_type": "markdown",
   "id": "dab452a9",
   "metadata": {},
   "source": [
    "***"
   ]
  },
  {
   "cell_type": "code",
   "execution_count": 9,
   "id": "2c71552b",
   "metadata": {},
   "outputs": [],
   "source": [
    "run_targets = [np.minimum.accumulate(-i[1].space.target) for i in optimization_results]"
   ]
  },
  {
   "cell_type": "code",
   "execution_count": 10,
   "id": "bb2e246f",
   "metadata": {},
   "outputs": [
    {
     "data": {
      "image/png": "[encoded data removed]",
      "text/plain": [
       "<Figure size 640x480 with 1 Axes>"
      ]
     },
     "metadata": {},
     "output_type": "display_data"
    }
   ],
   "source": [
    "plt.plot(run_targets[0])\n",
    "plt.scatter(np.arange(len(run_targets[0])), run_targets[0], s=6)\n",
    "plt.plot(run_targets[1])\n",
    "plt.scatter(np.arange(len(run_targets[1])), run_targets[1], s=6)\n",
    "plt.plot(run_targets[2])\n",
    "plt.scatter(np.arange(len(run_targets[2])), run_targets[2], s=6)\n",
    "plt.plot(run_targets[3])\n",
    "plt.scatter(np.arange(len(run_targets[3])), run_targets[3], s=6)\n",
    "plt.plot(run_targets[4])\n",
    "plt.scatter(np.arange(len(run_targets[4])), run_targets[4], s=6)\n",
    "plt.title(\"Running Minimum Objective Value for CART Synthesis\")\n",
    "plt.ylim(-0.01, 1.2)\n",
    "plt.show()"
   ]
  },
  {
   "cell_type": "markdown",
   "id": "325348ce",
   "metadata": {},
   "source": [
    "Choose the params that gave the best objective value across all random seeds."
   ]
  },
  {
   "cell_type": "code",
   "execution_count": 11,
   "id": "69f179aa",
   "metadata": {},
   "outputs": [],
   "source": [
    "best_params = optimization_results[np.argmax([x[0]['target'] for x in optimization_results])][0]"
   ]
  },
  {
   "cell_type": "code",
   "execution_count": 12,
   "id": "112b4969",
   "metadata": {},
   "outputs": [
    {
     "data": {
      "text/plain": [
       "{'target': -0.0002057322164208027,\n",
       " 'params': {'mb_age_': 37.398670212331204,\n",
       "  'mb_sex_': 156.67020150677124,\n",
       "  'mb_state_': 25.4509644201019,\n",
       "  'num_components_': 775.7703724051606}}"
      ]
     },
     "execution_count": 12,
     "metadata": {},
     "output_type": "execute_result"
    }
   ],
   "source": [
    "best_params"
   ]
  },
  {
   "cell_type": "markdown",
   "id": "8c940983",
   "metadata": {},
   "source": [
    "***"
   ]
  },
  {
   "cell_type": "markdown",
   "id": "c8e1ea09",
   "metadata": {},
   "source": [
    "Generate 1000 synthetic datasets, choose the 20 that have the pMSE closest to 1."
   ]
  },
  {
   "cell_type": "code",
   "execution_count": 13,
   "id": "9ed0391f",
   "metadata": {},
   "outputs": [],
   "source": [
    "pmse_ratios, full_sXs, GMM, cart_sex, cart_age, cart_state = train_models(train_data=train_data,\n",
    "                                                                          number_synthetic_datasets=20,\n",
    "                                                                          # hyperparameters for GMM\n",
    "                                                                          number_gmm_initializations=ngi,\n",
    "                                                                          num_components_=int(best_params['params']['num_components_']),\n",
    "                                                                          # hyperparameters for CART, end with underscore means Bayesian optimization will choose\n",
    "                                                                          mb_sex_=int(best_params['params']['mb_sex_']),\n",
    "                                                                          mb_age_=int(best_params['params']['mb_age_']),\n",
    "                                                                          mb_state_=int(best_params['params']['mb_state_']))"
   ]
  },
  {
   "cell_type": "code",
   "execution_count": 14,
   "id": "295e7588",
   "metadata": {},
   "outputs": [
    {
     "data": {
      "text/plain": [
       "0.9813835543699284"
      ]
     },
     "execution_count": 14,
     "metadata": {},
     "output_type": "execute_result"
    }
   ],
   "source": [
    "np.mean(pmse_ratios)"
   ]
  },
  {
   "cell_type": "code",
   "execution_count": 15,
   "id": "a3d6a0f6",
   "metadata": {},
   "outputs": [
    {
     "data": {
      "image/png": "[encoded data removed]",
      "text/plain": [
       "<Figure size 640x480 with 1 Axes>"
      ]
     },
     "metadata": {},
     "output_type": "display_data"
    }
   ],
   "source": [
    "plt.violinplot(pmse_ratios)\n",
    "plt.xlabel(\"Density\")\n",
    "plt.ylabel(\"pMSE Ratio\")\n",
    "plt.title(\"Distribution of pMSE Ratios\")\n",
    "plt.show()"
   ]
  },
  {
   "cell_type": "markdown",
   "id": "af137729",
   "metadata": {},
   "source": [
    "***"
   ]
  },
  {
   "cell_type": "markdown",
   "id": "c7c4b464",
   "metadata": {},
   "source": [
    "# Save the synthetic datasets."
   ]
  },
  {
   "cell_type": "code",
   "execution_count": 17,
   "id": "5696e166",
   "metadata": {},
   "outputs": [],
   "source": [
    "for i, sX in enumerate(full_sXs):\n",
    "    sX.to_csv(\"../Data/synthetic_datasets/full_cart_mb_logistic_pmse_\" + str(i) + \".csv\", index=False)"
   ]
  },
  {
   "cell_type": "code",
   "execution_count": null,
   "id": "af303b57",
   "metadata": {},
   "outputs": [],
   "source": [
    "full_sXs[0]"
   ]
  },
  {
   "cell_type": "markdown",
   "id": "c40ffaea",
   "metadata": {},
   "source": [
    "***"
   ]
  },
  {
   "cell_type": "markdown",
   "id": "03f13472",
   "metadata": {},
   "source": [
    "Produce inference reduced data sets."
   ]
  },
  {
   "cell_type": "code",
   "execution_count": null,
   "id": "3fc36492",
   "metadata": {},
   "outputs": [],
   "source": [
    "def inference_reduction(original_data, synthetic_data, mixture_model, deltas, c, prior_prob):\n",
    "    \n",
    "    # number of original records\n",
    "    num_records = original_data.shape[0]\n",
    "    \n",
    "    # record percentages\n",
    "    print_nums = [int(np.ceil(i*num_records)) for i in [0.25, 0.5, 0.75]]\n",
    "    \n",
    "    # random number generator\n",
    "    rng = default_rng()\n",
    "    \n",
    "    # copy the synthetic dataset\n",
    "    new_sX = synthetic_data\n",
    "    \n",
    "    # tree for synthetic locations\n",
    "    sX_tree = cKDTree(new_sX[[\"latitude\", \"longitude\"]])\n",
    "    \n",
    "    # store mixture component parameters\n",
    "    mus = mixture_model.means_\n",
    "    sigmas = mixture_model.covariances_\n",
    "    \n",
    "    # temporary count of the number of rows that violate one or more conditions\n",
    "    violator_count = num_records\n",
    "    \n",
    "    # number of anonymization loops required\n",
    "    num_loops = 1\n",
    "    \n",
    "    # while we have any violator rows\n",
    "    while violator_count > 0:\n",
    "        \n",
    "        # reset violator count\n",
    "        violator_count = 0\n",
    "        \n",
    "        # for each original record\n",
    "        # we shuffle the records each time so that the violating records are fixed in a random order\n",
    "        for i, original_record in original_data.sample(frac=1.0).reset_index(drop=True).iterrows():\n",
    "            \n",
    "            original_location = original_record.loc[[\"latitude\", \"longitude\"]]\n",
    "            original_categorical = original_record.loc[[\"sex\", \"age\", \"state\"]]\n",
    "            \n",
    "            # for each delta\n",
    "            for delta in deltas:\n",
    "                    \n",
    "                ##### Test the Inference Criterion\n",
    "                \n",
    "                # find synthetic neighbors based on location\n",
    "                location_neighbors = sX_tree.query_ball_point(original_location, r=delta, p=2.0)\n",
    "                \n",
    "                # matches on categorical attributes from location neighbors\n",
    "                categorical_matches = (new_sX.loc[location_neighbors,['sex', 'age']] == original_categorical[[\"sex\", \"age\"]]).all(1)\n",
    "                \n",
    "                matching_rows = new_sX.loc[location_neighbors,:].loc[categorical_matches.values,:]\n",
    "                \n",
    "                # if there are any records in the location neighborhood that match on sex and age\n",
    "                \n",
    "                if matching_rows.shape[0] > 0:\n",
    "                \n",
    "                    if original_categorical['state'] == 1.0:\n",
    "                        prior = prior_prob\n",
    "                    else:\n",
    "                        prior = 1-prior_prob\n",
    "                        \n",
    "                    num_matching = np.sum(matching_rows['state'] == original_categorical['state'])\n",
    "            \n",
    "                    cond = num_matching/matching_rows.shape[0] * 1/prior\n",
    "                \n",
    "                    if cond > c:\n",
    "                        \n",
    "                        # add one to number of violators\n",
    "                        violator_count += 1\n",
    "                        \n",
    "                        # number of records with non-matching sensitive variable needed to meet inference\n",
    "                        num_needed = int(np.ceil(num_matching/(prior*c) - matching_rows.shape[0]))\n",
    "                        \n",
    "                        # find the component with the highest responsibility for the confidential record\n",
    "                        component_index = np.argmax(GMM.predict_proba(pd.DataFrame(original_location).T), axis = 1)[0]\n",
    "                        current_mu = mus[component_index,:]\n",
    "                        current_sigma = sigmas[component_index,:,:]\n",
    "            \n",
    "                        valid_candidates = np.zeros((0,2))\n",
    "                        num_candidate_loops = 0\n",
    "                        while valid_candidates.shape[0] < num_needed:\n",
    "                        \n",
    "                            # add a very small number to the diagonal of the covariance matrix to increase\n",
    "                            # the likelihood of sampling candidate points - do this proportionally to the number\n",
    "                            # of times this loop has executed\n",
    "                            # np.fill_diagonal(current_sigma, np.diag(current_sigma) + num_candidate_loops*1e-6)\n",
    "                        \n",
    "                            # generate a bunch of candidate points\n",
    "                            candidate_points = rng.multivariate_normal(current_mu, current_sigma, size=100000)\n",
    "                            candidate_tree = cKDTree(candidate_points)\n",
    "                            valid_indices = candidate_tree.query_ball_point(original_location, delta, p=2.0, return_sorted=True)\n",
    "                            valid_candidates = np.vstack([valid_candidates, candidate_points[valid_indices,:]])\n",
    "                            num_candidate_loops += 1\n",
    "                            if num_candidate_loops > 100:\n",
    "                                print('Stuck in inference loop.')\n",
    "                            \n",
    "                        # print(num_candidate_loops)\n",
    "                    \n",
    "                        # select the number of needed candidates\n",
    "                        new_locations = valid_candidates[:num_needed,:]\n",
    "                    \n",
    "                        new_categorical = np.vstack([np.array(original_categorical).reshape(1,-1) for k in range(num_needed)])\n",
    "                    \n",
    "                        new_records = pd.DataFrame(np.hstack([new_locations, new_categorical]))\n",
    "                    \n",
    "                        new_records.columns = new_sX.columns\n",
    "                        \n",
    "                        new_records['state'] = 1.0 - original_categorical['state']\n",
    "                    \n",
    "                        new_sX = pd.concat([new_sX, new_records], axis=0).reset_index(drop=True)\n",
    "                    \n",
    "                        # rebuild the tree for synthetic locations\n",
    "                        sX_tree = cKDTree(new_sX[[\"latitude\", \"longitude\"]])\n",
    "                    \n",
    "#                     # put in a break statement - if we executed the previous code conditional on the if statement,\n",
    "#                     # we know the linkability criterion is satisfied for all larger delta values for this record\n",
    "#                     break\n",
    "    \n",
    "            if int(i) in print_nums:\n",
    "                print(\"Record \" + str(i) + \" completed.\")\n",
    "                \n",
    "        print(\"Full anonymization loop \" + str(num_loops) + \" completed.\")\n",
    "        \n",
    "        num_loops += 1\n",
    "                    \n",
    "    return new_sX"
   ]
  },
  {
   "cell_type": "code",
   "execution_count": null,
   "id": "4f0405ca",
   "metadata": {},
   "outputs": [],
   "source": [
    "prior_death_prob = 152/9583\n",
    "delta_vals = np.linspace(0.00001, 1.0, 20)\n",
    "c=10"
   ]
  },
  {
   "cell_type": "code",
   "execution_count": null,
   "id": "06f29663",
   "metadata": {},
   "outputs": [],
   "source": [
    "inference_sXs = [inference_reduction(train_data, X, GMM, delta_vals, c, prior_death_prob) for X in full_sXs]"
   ]
  },
  {
   "cell_type": "code",
   "execution_count": null,
   "id": "7369750b",
   "metadata": {},
   "outputs": [],
   "source": [
    "[x.shape for x in inference_sXs]"
   ]
  },
  {
   "cell_type": "code",
   "execution_count": null,
   "id": "eee625db",
   "metadata": {},
   "outputs": [],
   "source": [
    "train_data.shape"
   ]
  },
  {
   "cell_type": "code",
   "execution_count": null,
   "id": "db8b8fbd",
   "metadata": {},
   "outputs": [],
   "source": [
    "for i, sX in enumerate(inference_sXs):\n",
    "    sX.to_csv(\"Data/synthetic_datasets/cart_mb_inf_logistic_pmse_\" + str(i) + \".csv\", index=False)"
   ]
  },
  {
   "cell_type": "code",
   "execution_count": null,
   "id": "3cafbdc8",
   "metadata": {},
   "outputs": [],
   "source": []
  }
 ],
 "metadata": {
  "kernelspec": {
   "display_name": "Python 3 (ipykernel)",
   "language": "python",
   "name": "python3"
  },
  "language_info": {
   "codemirror_mode": {
    "name": "ipython",
    "version": 3
   },
   "file_extension": ".py",
   "mimetype": "text/x-python",
   "name": "python",
   "nbconvert_exporter": "python",
   "pygments_lexer": "ipython3",
   "version": "3.11.3"
  }
 },
 "nbformat": 4,
 "nbformat_minor": 5
}
