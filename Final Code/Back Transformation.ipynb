{
 "cells": [
  {
   "cell_type": "code",
   "execution_count": 2,
   "id": "de5326f3",
   "metadata": {},
   "outputs": [],
   "source": [
    "from pyproj import CRS, Transformer\n",
    "import pandas as pd\n",
    "import numpy as np\n",
    "import csv"
   ]
  },
  {
   "cell_type": "markdown",
   "id": "285a103b",
   "metadata": {},
   "source": [
    "Set up CRS transformer."
   ]
  },
  {
   "cell_type": "code",
   "execution_count": 3,
   "id": "e4c5d373",
   "metadata": {},
   "outputs": [],
   "source": [
    "crs = CRS.from_epsg(5179)"
   ]
  },
  {
   "cell_type": "markdown",
   "id": "e042d576",
   "metadata": {},
   "source": [
    "Transformation to meters (Northing and Easting)"
   ]
  },
  {
   "cell_type": "code",
   "execution_count": 4,
   "id": "e51a948d",
   "metadata": {},
   "outputs": [
    {
     "data": {
      "text/plain": [
       "<Projected CRS: EPSG:5179>\n",
       "Name: Korea 2000 / Unified CS\n",
       "Axis Info [cartesian]:\n",
       "- X[north]: Northing (metre)\n",
       "- Y[east]: Easting (metre)\n",
       "Area of Use:\n",
       "- name: Republic of Korea (South Korea) - onshore and offshore.\n",
       "- bounds: (122.71, 28.6, 134.28, 40.27)\n",
       "Coordinate Operation:\n",
       "- name: Korea Unified Belt\n",
       "- method: Transverse Mercator\n",
       "Datum: Geocentric datum of Korea\n",
       "- Ellipsoid: GRS 1980\n",
       "- Prime Meridian: Greenwich"
      ]
     },
     "execution_count": 4,
     "metadata": {},
     "output_type": "execute_result"
    }
   ],
   "source": [
    "crs"
   ]
  },
  {
   "cell_type": "markdown",
   "id": "3cdf7be1",
   "metadata": {},
   "source": [
    "Transformation to Lat/Long"
   ]
  },
  {
   "cell_type": "code",
   "execution_count": 5,
   "id": "833493b5",
   "metadata": {},
   "outputs": [
    {
     "data": {
      "text/plain": [
       "<Geographic 2D CRS: EPSG:4737>\n",
       "Name: Korea 2000\n",
       "Axis Info [ellipsoidal]:\n",
       "- Lat[north]: Geodetic latitude (degree)\n",
       "- Lon[east]: Geodetic longitude (degree)\n",
       "Area of Use:\n",
       "- name: Republic of Korea (South Korea) - onshore and offshore.\n",
       "- bounds: (122.71, 28.6, 134.28, 40.27)\n",
       "Datum: Geocentric datum of Korea\n",
       "- Ellipsoid: GRS 1980\n",
       "- Prime Meridian: Greenwich"
      ]
     },
     "execution_count": 5,
     "metadata": {},
     "output_type": "execute_result"
    }
   ],
   "source": [
    "crs.geodetic_crs"
   ]
  },
  {
   "cell_type": "code",
   "execution_count": 6,
   "id": "375f8962",
   "metadata": {},
   "outputs": [],
   "source": [
    "proj = Transformer.from_crs(crs.geodetic_crs, crs)"
   ]
  },
  {
   "cell_type": "code",
   "execution_count": 7,
   "id": "a87f2e8f",
   "metadata": {},
   "outputs": [],
   "source": [
    "proj_inv = Transformer.from_crs(crs, crs.geodetic_crs)"
   ]
  },
  {
   "cell_type": "markdown",
   "id": "e27e752e",
   "metadata": {},
   "source": [
    "Import patient route data and test the transformation."
   ]
  },
  {
   "cell_type": "code",
   "execution_count": 26,
   "id": "1a20b058",
   "metadata": {},
   "outputs": [],
   "source": [
    "routes = pd.read_csv(\"../Data/PatientRoute.csv\")"
   ]
  },
  {
   "cell_type": "code",
   "execution_count": 31,
   "id": "820a37d2",
   "metadata": {},
   "outputs": [],
   "source": [
    "trans_lats, trans_longs = proj.transform(routes.latitude, routes.longitude)"
   ]
  },
  {
   "cell_type": "code",
   "execution_count": 32,
   "id": "0d9901ba",
   "metadata": {},
   "outputs": [],
   "source": [
    "lats, longs = proj_inv.transform(trans_lats, trans_longs)"
   ]
  },
  {
   "cell_type": "code",
   "execution_count": 35,
   "id": "3b999ee5",
   "metadata": {},
   "outputs": [
    {
     "data": {
      "text/plain": [
       "array([37.6152464, 37.5672412, 37.5925601, ..., 35.3369444, 35.3357574,\n",
       "       35.3369444])"
      ]
     },
     "execution_count": 35,
     "metadata": {},
     "output_type": "execute_result"
    }
   ],
   "source": [
    "lats"
   ]
  },
  {
   "cell_type": "code",
   "execution_count": 36,
   "id": "a0d01322",
   "metadata": {},
   "outputs": [
    {
     "data": {
      "text/plain": [
       "array([126.7156325, 127.0056589, 127.0170483, ..., 129.0263889,\n",
       "       129.0250031, 129.0263889])"
      ]
     },
     "execution_count": 36,
     "metadata": {},
     "output_type": "execute_result"
    }
   ],
   "source": [
    "longs"
   ]
  },
  {
   "cell_type": "code",
   "execution_count": 34,
   "id": "888fdb63",
   "metadata": {},
   "outputs": [
    {
     "data": {
      "text/html": [
       "<div>\n",
       "<style scoped>\n",
       "    .dataframe tbody tr th:only-of-type {\n",
       "        vertical-align: middle;\n",
       "    }\n",
       "\n",
       "    .dataframe tbody tr th {\n",
       "        vertical-align: top;\n",
       "    }\n",
       "\n",
       "    .dataframe thead th {\n",
       "        text-align: right;\n",
       "    }\n",
       "</style>\n",
       "<table border=\"1\" class=\"dataframe\">\n",
       "  <thead>\n",
       "    <tr style=\"text-align: right;\">\n",
       "      <th></th>\n",
       "      <th>patient_id</th>\n",
       "      <th>global_num</th>\n",
       "      <th>date</th>\n",
       "      <th>province</th>\n",
       "      <th>city</th>\n",
       "      <th>type</th>\n",
       "      <th>latitude</th>\n",
       "      <th>longitude</th>\n",
       "    </tr>\n",
       "  </thead>\n",
       "  <tbody>\n",
       "    <tr>\n",
       "      <th>0</th>\n",
       "      <td>1000000001</td>\n",
       "      <td>2.0</td>\n",
       "      <td>1/22/2020</td>\n",
       "      <td>Gyeonggi-do</td>\n",
       "      <td>Gimpo-si</td>\n",
       "      <td>airport</td>\n",
       "      <td>37.615246</td>\n",
       "      <td>126.715632</td>\n",
       "    </tr>\n",
       "    <tr>\n",
       "      <th>1</th>\n",
       "      <td>1000000001</td>\n",
       "      <td>2.0</td>\n",
       "      <td>1/24/2020</td>\n",
       "      <td>Seoul</td>\n",
       "      <td>Jung-gu</td>\n",
       "      <td>hospital</td>\n",
       "      <td>37.567241</td>\n",
       "      <td>127.005659</td>\n",
       "    </tr>\n",
       "    <tr>\n",
       "      <th>2</th>\n",
       "      <td>1000000002</td>\n",
       "      <td>5.0</td>\n",
       "      <td>1/25/2020</td>\n",
       "      <td>Seoul</td>\n",
       "      <td>Seongbuk-gu</td>\n",
       "      <td>etc</td>\n",
       "      <td>37.592560</td>\n",
       "      <td>127.017048</td>\n",
       "    </tr>\n",
       "    <tr>\n",
       "      <th>3</th>\n",
       "      <td>1000000002</td>\n",
       "      <td>5.0</td>\n",
       "      <td>1/26/2020</td>\n",
       "      <td>Seoul</td>\n",
       "      <td>Seongbuk-gu</td>\n",
       "      <td>store</td>\n",
       "      <td>37.591810</td>\n",
       "      <td>127.016822</td>\n",
       "    </tr>\n",
       "    <tr>\n",
       "      <th>4</th>\n",
       "      <td>1000000002</td>\n",
       "      <td>5.0</td>\n",
       "      <td>1/26/2020</td>\n",
       "      <td>Seoul</td>\n",
       "      <td>Seongdong-gu</td>\n",
       "      <td>public_transportation</td>\n",
       "      <td>37.563992</td>\n",
       "      <td>127.029534</td>\n",
       "    </tr>\n",
       "    <tr>\n",
       "      <th>...</th>\n",
       "      <td>...</td>\n",
       "      <td>...</td>\n",
       "      <td>...</td>\n",
       "      <td>...</td>\n",
       "      <td>...</td>\n",
       "      <td>...</td>\n",
       "      <td>...</td>\n",
       "      <td>...</td>\n",
       "    </tr>\n",
       "    <tr>\n",
       "      <th>8087</th>\n",
       "      <td>6100000090</td>\n",
       "      <td>NaN</td>\n",
       "      <td>3/24/2020</td>\n",
       "      <td>Seoul</td>\n",
       "      <td>Gangseo-gu</td>\n",
       "      <td>airport</td>\n",
       "      <td>37.558655</td>\n",
       "      <td>126.794474</td>\n",
       "    </tr>\n",
       "    <tr>\n",
       "      <th>8088</th>\n",
       "      <td>6100000090</td>\n",
       "      <td>NaN</td>\n",
       "      <td>3/24/2020</td>\n",
       "      <td>Busan</td>\n",
       "      <td>Gangseo-gu</td>\n",
       "      <td>airport</td>\n",
       "      <td>35.173220</td>\n",
       "      <td>128.946459</td>\n",
       "    </tr>\n",
       "    <tr>\n",
       "      <th>8089</th>\n",
       "      <td>6100000090</td>\n",
       "      <td>NaN</td>\n",
       "      <td>3/25/2020</td>\n",
       "      <td>Gyeongsangnam-do</td>\n",
       "      <td>Yangsan-si</td>\n",
       "      <td>store</td>\n",
       "      <td>35.336944</td>\n",
       "      <td>129.026389</td>\n",
       "    </tr>\n",
       "    <tr>\n",
       "      <th>8090</th>\n",
       "      <td>6100000090</td>\n",
       "      <td>NaN</td>\n",
       "      <td>3/25/2020</td>\n",
       "      <td>Gyeongsangnam-do</td>\n",
       "      <td>Yangsan-si</td>\n",
       "      <td>hospital</td>\n",
       "      <td>35.335757</td>\n",
       "      <td>129.025003</td>\n",
       "    </tr>\n",
       "    <tr>\n",
       "      <th>8091</th>\n",
       "      <td>6100000090</td>\n",
       "      <td>NaN</td>\n",
       "      <td>3/25/2020</td>\n",
       "      <td>Gyeongsangnam-do</td>\n",
       "      <td>Yangsan-si</td>\n",
       "      <td>store</td>\n",
       "      <td>35.336944</td>\n",
       "      <td>129.026389</td>\n",
       "    </tr>\n",
       "  </tbody>\n",
       "</table>\n",
       "<p>8092 rows × 8 columns</p>\n",
       "</div>"
      ],
      "text/plain": [
       "      patient_id  global_num       date          province          city  \\\n",
       "0     1000000001         2.0  1/22/2020       Gyeonggi-do      Gimpo-si   \n",
       "1     1000000001         2.0  1/24/2020             Seoul       Jung-gu   \n",
       "2     1000000002         5.0  1/25/2020             Seoul   Seongbuk-gu   \n",
       "3     1000000002         5.0  1/26/2020             Seoul   Seongbuk-gu   \n",
       "4     1000000002         5.0  1/26/2020             Seoul  Seongdong-gu   \n",
       "...          ...         ...        ...               ...           ...   \n",
       "8087  6100000090         NaN  3/24/2020             Seoul    Gangseo-gu   \n",
       "8088  6100000090         NaN  3/24/2020             Busan    Gangseo-gu   \n",
       "8089  6100000090         NaN  3/25/2020  Gyeongsangnam-do    Yangsan-si   \n",
       "8090  6100000090         NaN  3/25/2020  Gyeongsangnam-do    Yangsan-si   \n",
       "8091  6100000090         NaN  3/25/2020  Gyeongsangnam-do    Yangsan-si   \n",
       "\n",
       "                       type   latitude   longitude  \n",
       "0                   airport  37.615246  126.715632  \n",
       "1                  hospital  37.567241  127.005659  \n",
       "2                       etc  37.592560  127.017048  \n",
       "3                     store  37.591810  127.016822  \n",
       "4     public_transportation  37.563992  127.029534  \n",
       "...                     ...        ...         ...  \n",
       "8087                airport  37.558655  126.794474  \n",
       "8088                airport  35.173220  128.946459  \n",
       "8089                  store  35.336944  129.026389  \n",
       "8090               hospital  35.335757  129.025003  \n",
       "8091                  store  35.336944  129.026389  \n",
       "\n",
       "[8092 rows x 8 columns]"
      ]
     },
     "execution_count": 34,
     "metadata": {},
     "output_type": "execute_result"
    }
   ],
   "source": [
    "routes"
   ]
  },
  {
   "cell_type": "markdown",
   "id": "c4ce2655",
   "metadata": {},
   "source": [
    "The test results look correct."
   ]
  },
  {
   "cell_type": "markdown",
   "id": "302b8d87",
   "metadata": {},
   "source": [
    "***"
   ]
  },
  {
   "cell_type": "markdown",
   "id": "f460725a",
   "metadata": {},
   "source": [
    "## Back transform the cleaned data."
   ]
  },
  {
   "cell_type": "code",
   "execution_count": 8,
   "id": "9b2c1a16",
   "metadata": {},
   "outputs": [],
   "source": [
    "orig = pd.read_csv(\"../Data/cleaned_data.csv\")"
   ]
  },
  {
   "cell_type": "markdown",
   "id": "121cd8b3",
   "metadata": {},
   "source": [
    "Need to reverse the standardization, then backtransform into latitude and longitude."
   ]
  },
  {
   "cell_type": "code",
   "execution_count": 9,
   "id": "bafb5190",
   "metadata": {},
   "outputs": [],
   "source": [
    "stan_stats = pd.read_csv(\"../Data/standardization_stats.csv\")"
   ]
  },
  {
   "cell_type": "code",
   "execution_count": 10,
   "id": "caaa7524",
   "metadata": {},
   "outputs": [
    {
     "data": {
      "text/html": [
       "<div>\n",
       "<style scoped>\n",
       "    .dataframe tbody tr th:only-of-type {\n",
       "        vertical-align: middle;\n",
       "    }\n",
       "\n",
       "    .dataframe tbody tr th {\n",
       "        vertical-align: top;\n",
       "    }\n",
       "\n",
       "    .dataframe thead th {\n",
       "        text-align: right;\n",
       "    }\n",
       "</style>\n",
       "<table border=\"1\" class=\"dataframe\">\n",
       "  <thead>\n",
       "    <tr style=\"text-align: right;\">\n",
       "      <th></th>\n",
       "      <th>means</th>\n",
       "      <th>stds</th>\n",
       "    </tr>\n",
       "  </thead>\n",
       "  <tbody>\n",
       "    <tr>\n",
       "      <th>0</th>\n",
       "      <td>1.862904e+06</td>\n",
       "      <td>100990.921761</td>\n",
       "    </tr>\n",
       "    <tr>\n",
       "      <th>1</th>\n",
       "      <td>1.012072e+06</td>\n",
       "      <td>80816.765932</td>\n",
       "    </tr>\n",
       "  </tbody>\n",
       "</table>\n",
       "</div>"
      ],
      "text/plain": [
       "          means           stds\n",
       "0  1.862904e+06  100990.921761\n",
       "1  1.012072e+06   80816.765932"
      ]
     },
     "execution_count": 10,
     "metadata": {},
     "output_type": "execute_result"
    }
   ],
   "source": [
    "stan_stats"
   ]
  },
  {
   "cell_type": "code",
   "execution_count": 69,
   "id": "a86cd47d",
   "metadata": {},
   "outputs": [],
   "source": [
    "lat = orig.latitude * stan_stats.stds[0] + stan_stats.means[0]"
   ]
  },
  {
   "cell_type": "code",
   "execution_count": 70,
   "id": "9fe4f50d",
   "metadata": {},
   "outputs": [],
   "source": [
    "long = orig.longitude * stan_stats.stds[1] + stan_stats.means[1]"
   ]
  },
  {
   "cell_type": "code",
   "execution_count": 71,
   "id": "d1442a33",
   "metadata": {},
   "outputs": [],
   "source": [
    "lat, long = proj_inv.transform(lat, long)"
   ]
  },
  {
   "cell_type": "code",
   "execution_count": 72,
   "id": "316a66d5",
   "metadata": {},
   "outputs": [],
   "source": [
    "orig[['latitude', 'longitude']] = pd.DataFrame([lat, long]).T"
   ]
  },
  {
   "cell_type": "code",
   "execution_count": 73,
   "id": "ae638b7c",
   "metadata": {},
   "outputs": [
    {
     "data": {
      "text/html": [
       "<div>\n",
       "<style scoped>\n",
       "    .dataframe tbody tr th:only-of-type {\n",
       "        vertical-align: middle;\n",
       "    }\n",
       "\n",
       "    .dataframe tbody tr th {\n",
       "        vertical-align: top;\n",
       "    }\n",
       "\n",
       "    .dataframe thead th {\n",
       "        text-align: right;\n",
       "    }\n",
       "</style>\n",
       "<table border=\"1\" class=\"dataframe\">\n",
       "  <thead>\n",
       "    <tr style=\"text-align: right;\">\n",
       "      <th></th>\n",
       "      <th>latitude</th>\n",
       "      <th>longitude</th>\n",
       "      <th>sex</th>\n",
       "      <th>age</th>\n",
       "      <th>state</th>\n",
       "    </tr>\n",
       "  </thead>\n",
       "  <tbody>\n",
       "    <tr>\n",
       "      <th>0</th>\n",
       "      <td>37.615246</td>\n",
       "      <td>126.715632</td>\n",
       "      <td>male</td>\n",
       "      <td>50s</td>\n",
       "      <td>0</td>\n",
       "    </tr>\n",
       "    <tr>\n",
       "      <th>1</th>\n",
       "      <td>37.567241</td>\n",
       "      <td>127.005659</td>\n",
       "      <td>male</td>\n",
       "      <td>50s</td>\n",
       "      <td>0</td>\n",
       "    </tr>\n",
       "    <tr>\n",
       "      <th>2</th>\n",
       "      <td>37.592560</td>\n",
       "      <td>127.017048</td>\n",
       "      <td>male</td>\n",
       "      <td>30s</td>\n",
       "      <td>0</td>\n",
       "    </tr>\n",
       "    <tr>\n",
       "      <th>3</th>\n",
       "      <td>37.591810</td>\n",
       "      <td>127.016822</td>\n",
       "      <td>male</td>\n",
       "      <td>30s</td>\n",
       "      <td>0</td>\n",
       "    </tr>\n",
       "    <tr>\n",
       "      <th>4</th>\n",
       "      <td>37.563992</td>\n",
       "      <td>127.029534</td>\n",
       "      <td>male</td>\n",
       "      <td>30s</td>\n",
       "      <td>0</td>\n",
       "    </tr>\n",
       "    <tr>\n",
       "      <th>...</th>\n",
       "      <td>...</td>\n",
       "      <td>...</td>\n",
       "      <td>...</td>\n",
       "      <td>...</td>\n",
       "      <td>...</td>\n",
       "    </tr>\n",
       "    <tr>\n",
       "      <th>6768</th>\n",
       "      <td>37.558655</td>\n",
       "      <td>126.794474</td>\n",
       "      <td>male</td>\n",
       "      <td>40s</td>\n",
       "      <td>0</td>\n",
       "    </tr>\n",
       "    <tr>\n",
       "      <th>6769</th>\n",
       "      <td>35.173220</td>\n",
       "      <td>128.946459</td>\n",
       "      <td>male</td>\n",
       "      <td>40s</td>\n",
       "      <td>0</td>\n",
       "    </tr>\n",
       "    <tr>\n",
       "      <th>6770</th>\n",
       "      <td>35.336944</td>\n",
       "      <td>129.026389</td>\n",
       "      <td>male</td>\n",
       "      <td>40s</td>\n",
       "      <td>0</td>\n",
       "    </tr>\n",
       "    <tr>\n",
       "      <th>6771</th>\n",
       "      <td>35.335757</td>\n",
       "      <td>129.025003</td>\n",
       "      <td>male</td>\n",
       "      <td>40s</td>\n",
       "      <td>0</td>\n",
       "    </tr>\n",
       "    <tr>\n",
       "      <th>6772</th>\n",
       "      <td>35.336944</td>\n",
       "      <td>129.026389</td>\n",
       "      <td>male</td>\n",
       "      <td>40s</td>\n",
       "      <td>0</td>\n",
       "    </tr>\n",
       "  </tbody>\n",
       "</table>\n",
       "<p>6773 rows × 5 columns</p>\n",
       "</div>"
      ],
      "text/plain": [
       "       latitude   longitude   sex  age  state\n",
       "0     37.615246  126.715632  male  50s      0\n",
       "1     37.567241  127.005659  male  50s      0\n",
       "2     37.592560  127.017048  male  30s      0\n",
       "3     37.591810  127.016822  male  30s      0\n",
       "4     37.563992  127.029534  male  30s      0\n",
       "...         ...         ...   ...  ...    ...\n",
       "6768  37.558655  126.794474  male  40s      0\n",
       "6769  35.173220  128.946459  male  40s      0\n",
       "6770  35.336944  129.026389  male  40s      0\n",
       "6771  35.335757  129.025003  male  40s      0\n",
       "6772  35.336944  129.026389  male  40s      0\n",
       "\n",
       "[6773 rows x 5 columns]"
      ]
     },
     "execution_count": 73,
     "metadata": {},
     "output_type": "execute_result"
    }
   ],
   "source": [
    "orig"
   ]
  },
  {
   "cell_type": "code",
   "execution_count": 11,
   "id": "af8b5d0f",
   "metadata": {},
   "outputs": [],
   "source": [
    "def backtransform(transformed_data, stan_stats, geo_transformer):\n",
    "    lat = transformed_data.latitude * stan_stats.stds[0] + stan_stats.means[0]\n",
    "    long = transformed_data.longitude * stan_stats.stds[1] + stan_stats.means[1]\n",
    "    lat, long = geo_transformer.transform(lat, long)\n",
    "    transformed_data[['latitude', 'longitude']] = pd.DataFrame([lat, long]).T\n",
    "    return transformed_data"
   ]
  },
  {
   "cell_type": "code",
   "execution_count": 76,
   "id": "7fc0b010",
   "metadata": {},
   "outputs": [],
   "source": [
    "orig_data = backtransform(orig, stan_stats, proj_inv)"
   ]
  },
  {
   "cell_type": "code",
   "execution_count": 77,
   "id": "0f5125c6",
   "metadata": {},
   "outputs": [],
   "source": [
    "orig_data.to_csv(\"../Data/original_unstandardized.csv\", index=False)"
   ]
  },
  {
   "cell_type": "markdown",
   "id": "253189ac",
   "metadata": {},
   "source": [
    "***"
   ]
  },
  {
   "cell_type": "markdown",
   "id": "c705604a",
   "metadata": {},
   "source": [
    "Backtransform a synthetic data set."
   ]
  },
  {
   "cell_type": "code",
   "execution_count": 12,
   "id": "da69949f",
   "metadata": {},
   "outputs": [],
   "source": [
    "orig = pd.read_csv(\"../Data/cleaned_data.csv\")"
   ]
  },
  {
   "cell_type": "code",
   "execution_count": null,
   "id": "a4daeb89",
   "metadata": {},
   "outputs": [],
   "source": [
    "synth = pd.read_csv(\"../Data/\")"
   ]
  },
  {
   "cell_type": "code",
   "execution_count": null,
   "id": "738a92af",
   "metadata": {},
   "outputs": [],
   "source": []
  }
 ],
 "metadata": {
  "kernelspec": {
   "display_name": "Python 3 (ipykernel)",
   "language": "python",
   "name": "python3"
  },
  "language_info": {
   "codemirror_mode": {
    "name": "ipython",
    "version": 3
   },
   "file_extension": ".py",
   "mimetype": "text/x-python",
   "name": "python",
   "nbconvert_exporter": "python",
   "pygments_lexer": "ipython3",
   "version": "3.11.3"
  }
 },
 "nbformat": 4,
 "nbformat_minor": 5
}
