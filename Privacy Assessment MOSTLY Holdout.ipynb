{
 "cells": [
  {
   "cell_type": "markdown",
   "id": "e225cb5b",
   "metadata": {},
   "source": [
    "Assess the privacy risks in MOSTLY.AI synthetic data using our proposed privacy metrics."
   ]
  },
  {
   "cell_type": "code",
   "execution_count": 20,
   "id": "aab2a7ac",
   "metadata": {},
   "outputs": [],
   "source": [
    "import pandas as pd\n",
    "import numpy as np\n",
    "from scipy.spatial import cKDTree\n",
    "import matplotlib.pyplot as plt"
   ]
  },
  {
   "cell_type": "markdown",
   "id": "b38bc574",
   "metadata": {},
   "source": [
    "Assess privacy risks in synthetic data based on the training set only."
   ]
  },
  {
   "cell_type": "code",
   "execution_count": 6,
   "id": "84298aa9",
   "metadata": {},
   "outputs": [],
   "source": [
    "train_data = pd.read_csv(\"Data/synthetic_datasets/synthetic_holdouts/train_dataset.csv\")"
   ]
  },
  {
   "cell_type": "code",
   "execution_count": 7,
   "id": "81fcefdf",
   "metadata": {},
   "outputs": [],
   "source": [
    "mostly_sXs = []"
   ]
  },
  {
   "cell_type": "code",
   "execution_count": 8,
   "id": "99381f1c",
   "metadata": {},
   "outputs": [],
   "source": [
    "for i in range(20):\n",
    "    sX = pd.read_csv(\"Data/synthetic_datasets/synthetic_holdouts/mostly_holdout_synthetic_dataset_\" + str(i) + \".csv\")\n",
    "    mostly_sXs.append(sX)"
   ]
  },
  {
   "cell_type": "markdown",
   "id": "646a359d",
   "metadata": {},
   "source": [
    "***"
   ]
  },
  {
   "cell_type": "code",
   "execution_count": 9,
   "id": "96098c02",
   "metadata": {},
   "outputs": [],
   "source": [
    "num_deltas = 20"
   ]
  },
  {
   "cell_type": "code",
   "execution_count": 10,
   "id": "b0d9eb6d",
   "metadata": {},
   "outputs": [],
   "source": [
    "deltas = np.geomspace(0.00001, 1.1, num=num_deltas)"
   ]
  },
  {
   "cell_type": "code",
   "execution_count": 11,
   "id": "1b59e835",
   "metadata": {},
   "outputs": [],
   "source": [
    "def neighbor_finder(original_data, synthetic_data, deltas):\n",
    "    \n",
    "    full_matches = []\n",
    "    \n",
    "    # tree for original locations\n",
    "    orig_tree = cKDTree(original_data[[\"latitude\", \"longitude\"]])\n",
    "    \n",
    "    # tree for synthetic locations\n",
    "    sX_tree = cKDTree(synthetic_data[[\"latitude\", \"longitude\"]])\n",
    "    \n",
    "    for d in deltas:\n",
    "        \n",
    "        # lists to store the number of matches for each original row and the indices of those matches\n",
    "        matches = []\n",
    "    \n",
    "        # find synthetic neighbors of each original point\n",
    "        location_neighbors = orig_tree.query_ball_tree(sX_tree, r=d, p=2.0)\n",
    "    \n",
    "        # for each original record\n",
    "        for i,row in original_data.iterrows():\n",
    "        \n",
    "            # matches on categorical attributes from location neighbors\n",
    "            categorical_matches = (synthetic_data.loc[location_neighbors[i],['sex', 'age', 'state']] == row[['sex', 'age', 'state']]).all(1)\n",
    "        \n",
    "            # store number of matches and their indices\n",
    "            matches.append(np.sum(categorical_matches))\n",
    "            \n",
    "        full_matches.append(pd.Series(matches))\n",
    "        \n",
    "    print(\"Dataset completed.\")\n",
    "        \n",
    "    return full_matches"
   ]
  },
  {
   "cell_type": "code",
   "execution_count": 12,
   "id": "8fe6fa93",
   "metadata": {},
   "outputs": [
    {
     "name": "stdout",
     "output_type": "stream",
     "text": [
      "Dataset completed.\n",
      "Dataset completed.\n",
      "Dataset completed.\n",
      "Dataset completed.\n",
      "Dataset completed.\n",
      "Dataset completed.\n",
      "Dataset completed.\n",
      "Dataset completed.\n",
      "Dataset completed.\n",
      "Dataset completed.\n",
      "Dataset completed.\n",
      "Dataset completed.\n",
      "Dataset completed.\n",
      "Dataset completed.\n",
      "Dataset completed.\n",
      "Dataset completed.\n",
      "Dataset completed.\n",
      "Dataset completed.\n",
      "Dataset completed.\n",
      "Dataset completed.\n"
     ]
    }
   ],
   "source": [
    "neighborhood_stats = [neighbor_finder(train_data, Y, deltas) for Y in mostly_sXs]"
   ]
  },
  {
   "cell_type": "code",
   "execution_count": 13,
   "id": "46b18f72",
   "metadata": {},
   "outputs": [],
   "source": [
    "match_nums = [pd.concat(x, axis=1) for x in neighborhood_stats]"
   ]
  },
  {
   "cell_type": "code",
   "execution_count": 14,
   "id": "da9f8725",
   "metadata": {},
   "outputs": [],
   "source": [
    "match_nums = np.dstack(match_nums)"
   ]
  },
  {
   "cell_type": "code",
   "execution_count": 15,
   "id": "ab7f270e",
   "metadata": {},
   "outputs": [],
   "source": [
    "pct_singled_out = np.sum(match_nums == 1.0, axis=0)/train_data.shape[0]"
   ]
  },
  {
   "cell_type": "code",
   "execution_count": 16,
   "id": "3f84b5b9",
   "metadata": {},
   "outputs": [],
   "source": [
    "avg_pct_singled_out = np.mean(pct_singled_out, axis=1)"
   ]
  },
  {
   "cell_type": "code",
   "execution_count": 21,
   "id": "f8bf58eb",
   "metadata": {},
   "outputs": [
    {
     "data": {
      "image/png": "[encoded data removed]",
      "text/plain": [
       "<Figure size 432x288 with 1 Axes>"
      ]
     },
     "metadata": {
      "needs_background": "light"
     },
     "output_type": "display_data"
    }
   ],
   "source": [
    "plt.bar(x=np.arange(1, num_deltas+1), height=avg_pct_singled_out, align='center')\n",
    "plt.title(\"Percentage of Singled Out Records (Singleton Neighborhoods)\")\n",
    "plt.show()"
   ]
  },
  {
   "cell_type": "code",
   "execution_count": 22,
   "id": "3ad849b0",
   "metadata": {},
   "outputs": [],
   "source": [
    "cutoff = 2"
   ]
  },
  {
   "cell_type": "code",
   "execution_count": 23,
   "id": "25897987",
   "metadata": {},
   "outputs": [],
   "source": [
    "meet_cutoff = [[pd.concat([x == 0, x >= cutoff], axis=1).any(axis=1) for x in y] for y in neighborhood_stats]"
   ]
  },
  {
   "cell_type": "code",
   "execution_count": 24,
   "id": "b60d705f",
   "metadata": {},
   "outputs": [],
   "source": [
    "meet_cutoff = [pd.concat(x, axis=1) for x in meet_cutoff]"
   ]
  },
  {
   "cell_type": "code",
   "execution_count": 25,
   "id": "8cf97e60",
   "metadata": {},
   "outputs": [],
   "source": [
    "meet_cutoff = np.dstack(meet_cutoff)"
   ]
  },
  {
   "cell_type": "code",
   "execution_count": 26,
   "id": "7bb22c51",
   "metadata": {},
   "outputs": [],
   "source": [
    "pct_meet_cutoff = np.mean(meet_cutoff, axis=0)"
   ]
  },
  {
   "cell_type": "code",
   "execution_count": 27,
   "id": "c1e362ea",
   "metadata": {},
   "outputs": [],
   "source": [
    "avg_pct_meet_cutoff = pct_meet_cutoff.mean(axis=1)"
   ]
  },
  {
   "cell_type": "code",
   "execution_count": 28,
   "id": "475ef18b",
   "metadata": {},
   "outputs": [
    {
     "data": {
      "image/png": "[encoded data removed]",
      "text/plain": [
       "<Figure size 432x288 with 1 Axes>"
      ]
     },
     "metadata": {
      "needs_background": "light"
     },
     "output_type": "display_data"
    }
   ],
   "source": [
    "plt.bar(x=np.arange(1, num_deltas+1), height=avg_pct_meet_cutoff, align='center')\n",
    "plt.title(\"Percentage of Records Meeting Linkability Cutoff\")\n",
    "plt.show()"
   ]
  },
  {
   "cell_type": "code",
   "execution_count": 29,
   "id": "a3a2d23b",
   "metadata": {},
   "outputs": [
    {
     "data": {
      "text/plain": [
       "0.8369189511323004"
      ]
     },
     "execution_count": 29,
     "metadata": {},
     "output_type": "execute_result"
    }
   ],
   "source": [
    "np.min(avg_pct_meet_cutoff)"
   ]
  },
  {
   "cell_type": "code",
   "execution_count": 30,
   "id": "454c4892",
   "metadata": {},
   "outputs": [],
   "source": [
    "prior_death_prob = 104/8897"
   ]
  },
  {
   "cell_type": "code",
   "execution_count": 31,
   "id": "04009380",
   "metadata": {},
   "outputs": [],
   "source": [
    "def inference_evaluation(original_data, synthetic_data, prior_prob, deltas):\n",
    "    \n",
    "    full_inf_conds = []\n",
    "    full_indices = []\n",
    "    \n",
    "    # tree for original locations\n",
    "    orig_tree = cKDTree(original_data[[\"latitude\", \"longitude\"]])\n",
    "    \n",
    "    # tree for synthetic locations\n",
    "    sX_tree = cKDTree(synthetic_data[[\"latitude\", \"longitude\"]])\n",
    "    \n",
    "    for d in deltas:\n",
    "        \n",
    "        # lists to store the inference condition for each original row and the indices of those rows that violate\n",
    "        inf_conds = []\n",
    "    \n",
    "        # find synthetic neighbors of each original point\n",
    "        location_neighbors = orig_tree.query_ball_tree(sX_tree, r=d, p=2.0)\n",
    "    \n",
    "        # for each original record\n",
    "        for i,row in original_data.iterrows():\n",
    "        \n",
    "            # matches on categorical attributes from location neighbors\n",
    "            categorical_matches = (synthetic_data.loc[location_neighbors[i],['sex', 'age']] == row[['sex', 'age']]).all(1)\n",
    "            \n",
    "            matching_rows = synthetic_data.loc[location_neighbors[i],:].loc[categorical_matches.values,:]\n",
    "            \n",
    "            if matching_rows.shape[0] > 0:\n",
    "                \n",
    "                if row['state'] == 1.0:\n",
    "                    prior = prior_prob\n",
    "                else:\n",
    "                    prior = 1 - prior_prob\n",
    "            \n",
    "                cond = np.mean(matching_rows['state'] == row['state'])/prior\n",
    "                \n",
    "            else:\n",
    "                \n",
    "                cond = 1\n",
    "        \n",
    "            # store number of matches and their indices\n",
    "            inf_conds.append(cond)\n",
    "        \n",
    "        inf_conds = pd.Series(inf_conds)\n",
    "        \n",
    "        full_inf_conds.append(inf_conds)\n",
    "        \n",
    "    return full_inf_conds"
   ]
  },
  {
   "cell_type": "code",
   "execution_count": 35,
   "id": "24a92e72",
   "metadata": {},
   "outputs": [],
   "source": [
    "inference_conditions = [inference_evaluation(train_data, Y, prior_death_prob, deltas) for Y in mostly_sXs]"
   ]
  },
  {
   "cell_type": "code",
   "execution_count": 36,
   "id": "56382794",
   "metadata": {},
   "outputs": [],
   "source": [
    "inf_conds = [pd.concat(x, axis=1) for x in inference_conditions]"
   ]
  },
  {
   "cell_type": "code",
   "execution_count": 37,
   "id": "8c77574e",
   "metadata": {},
   "outputs": [],
   "source": [
    "c_vec = [0.02, 0.03, 0.04, 0.05, 0.06, 0.07, 0.08, 0.09, 0.10, 0.20, 0.30, 0.40, 0.50]"
   ]
  },
  {
   "cell_type": "code",
   "execution_count": 38,
   "id": "4b249bc3",
   "metadata": {},
   "outputs": [],
   "source": [
    "proportion_meeting_inference = [[x <= (1 + c) for x in inf_conds] for c in c_vec]"
   ]
  },
  {
   "cell_type": "code",
   "execution_count": 39,
   "id": "ce087793",
   "metadata": {},
   "outputs": [],
   "source": [
    "proportion_meeting_inference = pd.concat([pd.concat([x.mean(axis=0) for x in y], axis=1).mean(axis=1) for y in proportion_meeting_inference], axis=1)"
   ]
  },
  {
   "cell_type": "code",
   "execution_count": 40,
   "id": "e2795be9",
   "metadata": {},
   "outputs": [
    {
     "data": {
      "image/png": "[encoded data removed]",
      "text/plain": [
       "<Figure size 432x288 with 1 Axes>"
      ]
     },
     "metadata": {
      "needs_background": "light"
     },
     "output_type": "display_data"
    }
   ],
   "source": [
    "ax = proportion_meeting_inference.plot()\n",
    "ax.set_ylabel('Proportion Records Meeting Inference Criterion', fontsize=12)\n",
    "ax.set_xlabel('Delta Values', fontsize=12)\n",
    "# legend shows different values of c - 0.01 to 0.09\n",
    "plt.show()"
   ]
  },
  {
   "cell_type": "code",
   "execution_count": null,
   "id": "f28971d2",
   "metadata": {},
   "outputs": [],
   "source": []
  }
 ],
 "metadata": {
  "kernelspec": {
   "display_name": "Python 3 (ipykernel)",
   "language": "python",
   "name": "python3"
  },
  "language_info": {
   "codemirror_mode": {
    "name": "ipython",
    "version": 3
   },
   "file_extension": ".py",
   "mimetype": "text/x-python",
   "name": "python",
   "nbconvert_exporter": "python",
   "pygments_lexer": "ipython3",
   "version": "3.9.7"
  }
 },
 "nbformat": 4,
 "nbformat_minor": 5
}
